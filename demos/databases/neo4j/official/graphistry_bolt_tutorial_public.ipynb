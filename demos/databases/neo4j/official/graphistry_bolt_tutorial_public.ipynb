{
 "cells": [
  {
   "cell_type": "markdown",
   "metadata": {
    "colab_type": "text",
    "id": "PH-b-S2fC8q6"
   },
   "source": [
    "# Tutorial: Visualizing the Silk Road Blockchain with Graphistry and Neo4j\n",
    "\n",
    "Investigating large datasets becomes easier by directly visualizing cypher (BOLT) query results with Graphistry. This tutorial walks through querying Neo4j, visualizing the results, and additional configurations and queries.\n",
    "\n",
    "This analysis is based on a blockchain data extract the Graphistry team performed around court proceedings from when **Carl Force**,  the key DEA agent in the Silk Road bust, was sentenced for embezzling money from **Ross Ulbricht** (Dread Pirate Roberts). We explore to how to recreate the analysis, and determine where Carl's money went after he performed the initial embezzling.\n",
    "\n",
    "** Instructions **\n",
    "* Read along the various cells\n",
    "* Click the prebuilt visualizations to start them, and interact with them just like Google Maps \n",
    "* To try on your own, setup your own Neo4j instance & get a Graphistry API key, and run the data loading cells\n",
    "\n",
    "\n",
    "**Further reading**\n",
    "\n",
    "* UI Guide: https://labs.graphistry.com/graphistry/ui.html\n",
    "* Python client tutorials & demos: https://github.com/graphistry/pygraphistry \n",
    "* Graphistry API Key: https://www.graphistry.com/api-request \n",
    "* Neo4j-as-a-service: http://graphstory.com \n",
    "* DEA incident: https://arstechnica.com/tech-policy/2016/08/stealing-bitcoins-with-badges-how-silk-roads-dirty-cops-got-caught/ "
   ]
  },
  {
   "cell_type": "markdown",
   "metadata": {
    "colab_type": "text",
    "id": "3_k-GZjJDO1I"
   },
   "source": [
    "## Config"
   ]
  },
  {
   "cell_type": "code",
   "execution_count": 1,
   "metadata": {
    "colab": {},
    "colab_type": "code",
    "id": "kSJfTLxNDQi5"
   },
   "outputs": [
    {
     "name": "stderr",
     "output_type": "stream",
     "text": [
      "/opt/conda/envs/graphistry/lib/python3.7/importlib/_bootstrap.py:219: RuntimeWarning: numpy.dtype size changed, may indicate binary incompatibility. Expected 96, got 88\n",
      "  return f(*args, **kwds)\n"
     ]
    },
    {
     "data": {
      "text/plain": [
       "'0+unknown'"
      ]
     },
     "execution_count": 1,
     "metadata": {},
     "output_type": "execute_result"
    }
   ],
   "source": [
    "import graphistry\n",
    "\n",
    "GRAPHISTRY = {\n",
    "    'protocol': 'http',\n",
    "    'server': 'nginx'\n",
    "}\n",
    "\n",
    "NEO4J = {\n",
    "    'uri': \"bolt://neo4j:7687\"\n",
    "}\n",
    "\n",
    "graphistry.register(bolt=NEO4J, **GRAPHISTRY)\n",
    "graphistry.__version__"
   ]
  },
  {
   "cell_type": "markdown",
   "metadata": {
    "colab_type": "text",
    "id": "mqbo_o0RMmkI"
   },
   "source": [
    "## Cypher Demos\n",
    "\n",
    "### 1a. Warmup: Visualize all $7K - $10K transactions\n",
    "Try panning and zooming (same touchpad/mouse controls as Google Maps), and clicking on individual wallets and transactions."
   ]
  },
  {
   "cell_type": "code",
   "execution_count": 2,
   "metadata": {
    "colab": {},
    "colab_type": "code",
    "id": "fRXlWQvtycCM"
   },
   "outputs": [],
   "source": [
    "g = graphistry.cypher(\n",
    "    \"\"\"\n",
    "    MATCH (a)-[r:PAYMENT]->(b) WHERE r.USD > 7000 AND r.USD < 10000  RETURN a, r, b ORDER BY r.USD DESC\n",
    "    \"\"\"\n",
    ")"
   ]
  },
  {
   "cell_type": "code",
   "execution_count": 3,
   "metadata": {
    "colab": {
     "base_uri": "https://localhost:8080/",
     "height": 543
    },
    "colab_type": "code",
    "id": "OrRqdkK4GhJl",
    "outputId": "2fc30291-063b-4a21-a704-2cde524b85e2"
   },
   "outputs": [
    {
     "data": {
      "text/html": [
       "\n",
       "            <iframe id=\"673551a7-04de-4f94-9b64-cefa278eb2d2\" src=\"http://nginx/graph/graph.html?dataset=1e542248bfd45e88be09668e8acde829\"\n",
       "                    allowfullscreen=\"true\" webkitallowfullscreen=\"true\" mozallowfullscreen=\"true\"\n",
       "                    oallowfullscreen=\"true\" msallowfullscreen=\"true\"\n",
       "                    style=\"width:100%; height:600px; border: 1px solid #DDD\">\n",
       "            </iframe>\n",
       "        \n",
       "            <script>\n",
       "                $(\"#673551a7-04de-4f94-9b64-cefa278eb2d2\").bind('mousewheel', function(e) {\n",
       "                e.preventDefault();\n",
       "                });\n",
       "            </script>\n",
       "        "
      ],
      "text/plain": [
       "<IPython.core.display.HTML object>"
      ]
     },
     "execution_count": 3,
     "metadata": {},
     "output_type": "execute_result"
    }
   ],
   "source": [
    "g.plot()"
   ]
  },
  {
   "cell_type": "markdown",
   "metadata": {
    "colab_type": "text",
    "id": "RkrYDjcYl6g2"
   },
   "source": [
    "Screenshot\n",
    "![Bitcoin transactions between $7K and 10K](https://www.dropbox.com/s/kt0str2k8azs922/screenshot0.png?dl=1)"
   ]
  },
  {
   "cell_type": "markdown",
   "metadata": {
    "colab_type": "text",
    "id": "TQzLQog09sjJ"
   },
   "source": [
    "### 1b. Cleanup: Configure node and edge titles to use amount fields\n",
    "* **Static config**: We can preconfigure the visualization from directly within the notebook\n",
    "* **Dynamic config**: Try dynamically improving the visualization on-the-fly within the tool by \n",
    "  * Do `add histogram for...` on `edge:USD` and `point:USD_MAX`\n",
    "  * Set edge/point coloring using them, and selecting a \"Gradient (Spectral7 7)\" blend, and toggling to reverse order (so cold to hot). \n",
    "  * For `point:USD_MAX`, toggle it to controling point size, and in the `Scene settings`,  increase the point size slider"
   ]
  },
  {
   "cell_type": "code",
   "execution_count": 13,
   "metadata": {
    "colab": {
     "base_uri": "https://localhost:8080/",
     "height": 543
    },
    "colab_type": "code",
    "id": "B2Im4KZsDCLv",
    "outputId": "f2965600-2b14-421b-b780-6e8a0da7ca11"
   },
   "outputs": [
    {
     "data": {
      "text/html": [
       "\n",
       "            <iframe id=\"698db8a0-ec58-4277-9283-f90be0dff685\" src=\"http://nginx/graph/graph.html?dataset=fc2a1efa92ac5149837466e5637bf4bd\"\n",
       "                    allowfullscreen=\"true\" webkitallowfullscreen=\"true\" mozallowfullscreen=\"true\"\n",
       "                    oallowfullscreen=\"true\" msallowfullscreen=\"true\"\n",
       "                    style=\"width:100%; height:600px; border: 1px solid #DDD\">\n",
       "            </iframe>\n",
       "        \n",
       "            <script>\n",
       "                $(\"#698db8a0-ec58-4277-9283-f90be0dff685\").bind('mousewheel', function(e) {\n",
       "                e.preventDefault();\n",
       "                });\n",
       "            </script>\n",
       "        "
      ],
      "text/plain": [
       "<IPython.core.display.HTML object>"
      ]
     },
     "execution_count": 13,
     "metadata": {},
     "output_type": "execute_result"
    }
   ],
   "source": [
    "g = g.bind(\n",
    "    node_title='Account',\n",
    "    edge_title='USD'\n",
    ")\n",
    "\n",
    "g.plot()"
   ]
  },
  {
   "cell_type": "markdown",
   "metadata": {
    "colab_type": "text",
    "id": "m4YvIWNP-fCe"
   },
   "source": [
    "### 2. Look for all transactions 1-5 hops from embezzling DEA Agent Carl Force\n",
    "\n",
    "#### 2a. Downstream\n",
    "Where did most of Carl's money go? \n",
    "* Try setting up filters on `edge:USD` to separate out small vs big money flows."
   ]
  },
  {
   "cell_type": "code",
   "execution_count": 10,
   "metadata": {
    "colab": {
     "base_uri": "https://localhost:8080/",
     "height": 543
    },
    "colab_type": "code",
    "id": "Uywc60Xq-slC",
    "outputId": "3c593d83-c824-4a78-ca7c-a04a9c04b059"
   },
   "outputs": [
    {
     "data": {
      "text/html": [
       "\n",
       "            <iframe id=\"f57d415a-b098-4a4a-8f8d-63bd1c08041d\" src=\"http://nginx/graph/graph.html?dataset=747082b98dde545b80e0aa0a096c6c15\"\n",
       "                    allowfullscreen=\"true\" webkitallowfullscreen=\"true\" mozallowfullscreen=\"true\"\n",
       "                    oallowfullscreen=\"true\" msallowfullscreen=\"true\"\n",
       "                    style=\"width:100%; height:600px; border: 1px solid #DDD\">\n",
       "            </iframe>\n",
       "        \n",
       "            <script>\n",
       "                $(\"#f57d415a-b098-4a4a-8f8d-63bd1c08041d\").bind('mousewheel', function(e) {\n",
       "                e.preventDefault();\n",
       "                });\n",
       "            </script>\n",
       "        "
      ],
      "text/plain": [
       "<IPython.core.display.HTML object>"
      ]
     },
     "execution_count": 10,
     "metadata": {},
     "output_type": "execute_result"
    }
   ],
   "source": [
    "g \\\n",
    "    .cypher(\n",
    "        \"\"\"\n",
    "        match (a)-[r:PAYMENT*1..20]->(b) \n",
    "        where a.Account = $root and ALL(transfer IN r WHERE transfer.USD > $min_amount and transfer.USD < $max_amount )\n",
    "        return a, r, b\n",
    "        \"\"\",\n",
    "        {\n",
    "            'root': \"Carl Force (DEA)\", \n",
    "            'min_amount': 999, \n",
    "            'max_amount': 99999\n",
    "        }\n",
    "    ) \\\n",
    "    .plot() "
   ]
  },
  {
   "cell_type": "markdown",
   "metadata": {
    "colab_type": "text",
    "id": "XaHKnft9cOf_"
   },
   "source": [
    "Screenshot:\n",
    "\n",
    "![Carl Force's bitcoin accounts](https://www.dropbox.com/s/nh1uo4iuqvav5xm/screenshot1.png?dl=1)"
   ]
  },
  {
   "cell_type": "markdown",
   "metadata": {
    "colab_type": "text",
    "id": "Kg5oaTufWqe6"
   },
   "source": [
    "#### 2b. Upstream\n",
    "From where did Carl get most of his money?"
   ]
  },
  {
   "cell_type": "code",
   "execution_count": 14,
   "metadata": {
    "colab": {
     "base_uri": "https://localhost:8080/",
     "height": 543
    },
    "colab_type": "code",
    "id": "hzv-tNMc_bZP",
    "outputId": "1462c06b-318f-4229-c4db-b265bdc4f868"
   },
   "outputs": [
    {
     "data": {
      "text/html": [
       "\n",
       "            <iframe id=\"08705635-d1d2-4346-9888-b33985b5dbbc\" src=\"http://nginx/graph/graph.html?dataset=ea99bdfa0999576ab10ecad68401ddea\"\n",
       "                    allowfullscreen=\"true\" webkitallowfullscreen=\"true\" mozallowfullscreen=\"true\"\n",
       "                    oallowfullscreen=\"true\" msallowfullscreen=\"true\"\n",
       "                    style=\"width:100%; height:600px; border: 1px solid #DDD\">\n",
       "            </iframe>\n",
       "        \n",
       "            <script>\n",
       "                $(\"#08705635-d1d2-4346-9888-b33985b5dbbc\").bind('mousewheel', function(e) {\n",
       "                e.preventDefault();\n",
       "                });\n",
       "            </script>\n",
       "        "
      ],
      "text/plain": [
       "<IPython.core.display.HTML object>"
      ]
     },
     "execution_count": 14,
     "metadata": {},
     "output_type": "execute_result"
    }
   ],
   "source": [
    "g \\\n",
    "    .cypher(\n",
    "        \"\"\"\n",
    "        match (a)-[r:PAYMENT*1..10]->(b) \n",
    "        where b.Account=$sink and ALL(transfer IN r WHERE transfer.USD > $min_amount and transfer.USD < $max_amount )\n",
    "        return r, a, b\n",
    "        \"\"\", \n",
    "        {\n",
    "            'sink': \"Carl Force (DEA)\",\n",
    "            'min_amount': 1999, \n",
    "            'max_amount': 99999\n",
    "        }\n",
    "    ) \\\n",
    "    .plot()"
   ]
  },
  {
   "cell_type": "markdown",
   "metadata": {
    "colab_type": "text",
    "id": "OhglbPE7gAhq"
   },
   "source": [
    "Screenshot:\n",
    "\n",
    "![Carl Force embezzling money from the Silk Road](https://www.dropbox.com/s/qvw6s5zi1dddq78/screenshot2.png?dl=1)"
   ]
  },
  {
   "cell_type": "markdown",
   "metadata": {
    "colab_type": "text",
    "id": "gusmhJvHbvbh"
   },
   "source": [
    "## 3. Paths between Silk Road and Carl Force"
   ]
  },
  {
   "cell_type": "code",
   "execution_count": 15,
   "metadata": {
    "colab": {
     "base_uri": "https://localhost:8080/",
     "height": 543
    },
    "colab_type": "code",
    "id": "kAnSUoJVWuQn",
    "outputId": "d31d0070-5eea-4a5c-b8c6-8915a2665f70"
   },
   "outputs": [
    {
     "data": {
      "text/html": [
       "\n",
       "            <iframe id=\"4457381a-ef86-4be3-9bdd-dfc67ea49ed6\" src=\"http://nginx/graph/graph.html?dataset=0ccc52b6e3995f60907cf00af6230ef3\"\n",
       "                    allowfullscreen=\"true\" webkitallowfullscreen=\"true\" mozallowfullscreen=\"true\"\n",
       "                    oallowfullscreen=\"true\" msallowfullscreen=\"true\"\n",
       "                    style=\"width:100%; height:600px; border: 1px solid #DDD\">\n",
       "            </iframe>\n",
       "        \n",
       "            <script>\n",
       "                $(\"#4457381a-ef86-4be3-9bdd-dfc67ea49ed6\").bind('mousewheel', function(e) {\n",
       "                e.preventDefault();\n",
       "                });\n",
       "            </script>\n",
       "        "
      ],
      "text/plain": [
       "<IPython.core.display.HTML object>"
      ]
     },
     "execution_count": 15,
     "metadata": {},
     "output_type": "execute_result"
    }
   ],
   "source": [
    "g \\\n",
    "    .cypher(\n",
    "        \"\"\"\n",
    "        match (a)-[r:PAYMENT*1..10]->(b) where a.Account=$silk and b.Account=$dea return r, a, b\n",
    "        \"\"\", \n",
    "        {\n",
    "            'dea': \"Carl Force (DEA)\",\n",
    "            \"silk\": \"Ross Ulbricht (SilkRoad)\"\n",
    "        }\n",
    "    ) \\\n",
    "    .plot()"
   ]
  },
  {
   "cell_type": "markdown",
   "metadata": {
    "colab_type": "text",
    "id": "MvcNGnYIsgff"
   },
   "source": [
    "## Further Reading\n",
    "\n",
    "* UI Guide: https://labs.graphistry.com/graphistry/ui.html\n",
    "* Python client tutorials & demos: https://github.com/graphistry/pygraphistry \n",
    "* DEA incident: https://arstechnica.com/tech-policy/2016/08/stealing-bitcoins-with-badges-how-silk-roads-dirty-cops-got-caught/ "
   ]
  }
 ],
 "metadata": {
  "colab": {
   "collapsed_sections": [],
   "name": "graphistry_bolt_tutorial_public",
   "provenance": [],
   "version": "0.3.2"
  },
  "kernelspec": {
   "display_name": "Python [conda env:graphistry]",
   "language": "python",
   "name": "conda-env-graphistry-py"
  },
  "language_info": {
   "codemirror_mode": {
    "name": "ipython",
    "version": 3
   },
   "file_extension": ".py",
   "mimetype": "text/x-python",
   "name": "python",
   "nbconvert_exporter": "python",
   "pygments_lexer": "ipython3",
   "version": "3.7.1"
  }
 },
 "nbformat": 4,
 "nbformat_minor": 1
}
