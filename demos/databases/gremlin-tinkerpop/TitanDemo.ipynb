{
 "cells": [
  {
   "cell_type": "markdown",
   "metadata": {
    "deletable": true,
    "editable": true
   },
   "source": [
    "# In this notebook, we demonstrate how to create and modify a Titan graph in python, and then visualize the result using Graphistry's visual graph explorer. "
   ]
  },
  {
   "cell_type": "markdown",
   "metadata": {
    "deletable": true,
    "editable": true
   },
   "source": [
    "### We assume the gremlin server for our Titan graph is hosted locally on port 8182\n",
    "    - This notebook utilizes the python modules aiogremlin and asyncio.\n",
    "    - The GremlinClient class of aiogremlin communicates asynchronously with the gremlin server using websockets via asyncio coroutines.\n",
    "    - This implementation allows you to submit additional requests to the server before any responses are recieved, which is much faster than synchronous request / response cycles. \n",
    "    - For more information about these modules, please visit:\n",
    "        - aiogremlin: http://aiogremlin.readthedocs.org/en/latest/index.html\n",
    "        - asyncio: https://pypi.python.org/pypi/asyncio"
   ]
  },
  {
   "cell_type": "code",
   "execution_count": 1,
   "metadata": {
    "collapsed": false,
    "deletable": true,
    "editable": true
   },
   "outputs": [],
   "source": [
    "import asyncio\n",
    "import aiogremlin"
   ]
  },
  {
   "cell_type": "code",
   "execution_count": 2,
   "metadata": {
    "collapsed": false,
    "deletable": true,
    "editable": true
   },
   "outputs": [],
   "source": [
    "# Create event loop and initialize gremlin client\n",
    "loop = asyncio.get_event_loop()\n",
    "client = aiogremlin.GremlinClient(url='ws://localhost:8182/', loop=loop)  # Default url"
   ]
  },
  {
   "cell_type": "markdown",
   "metadata": {
    "deletable": true,
    "editable": true
   },
   "source": [
    "### Functions for graph modification"
   ]
  },
  {
   "cell_type": "code",
   "execution_count": 3,
   "metadata": {
    "collapsed": false,
    "deletable": true,
    "editable": true
   },
   "outputs": [],
   "source": [
    "@asyncio.coroutine\n",
    "def add_vertex_routine(name, label):\n",
    "    yield from client.execute(\"graph.addVertex(label, l, 'name', n)\", bindings={\"l\":label, \"n\":name})\n",
    "\n",
    "def add_vertex(name, label):\n",
    "    loop.run_until_complete(add_vertex_routine(name, label))\n",
    "\n",
    "@asyncio.coroutine\n",
    "def add_relationship_routine(who, relationship, whom):\n",
    "    yield from client.execute(\"g.V().has('name', p1).next().addEdge(r, g.V().has('name', p2).next())\", bindings={\"p1\":who, \"p2\":whom, \"r\":relationship})\n",
    "    \n",
    "def add_relationship(who, relationship, whom):\n",
    "    loop.run_until_complete(add_relationship_routine(who, relationship, whom))\n",
    "\n",
    "@asyncio.coroutine\n",
    "def remove_all_vertices_routine():\n",
    "    resp = yield from client.submit(\"g.V()\")\n",
    "    results = []\n",
    "    while True:\n",
    "        msg = yield from resp.stream.read();\n",
    "        if msg is None:\n",
    "            break\n",
    "        if msg.data is None:\n",
    "            break\n",
    "        for vertex in msg.data:\n",
    "            yield from client.submit(\"g.V(\" + str(vertex['id']) + \").next().remove()\")\n",
    "            \n",
    "def remove_all_vertices():\n",
    "    results = loop.run_until_complete(remove_all_vertices_routine())\n",
    "\n",
    "@asyncio.coroutine\n",
    "def remove_vertex_routine(name):\n",
    "    return client.execute(\"g.V().has('name', n).next().remove()\", bindings={\"n\":name})\n",
    "\n",
    "def remove_vertex(name):\n",
    "    return loop.run_until_complete(remove_vertex_routine(name));"
   ]
  },
  {
   "cell_type": "markdown",
   "metadata": {
    "deletable": true,
    "editable": true
   },
   "source": [
    "### Functions for translating a graph to node and edge lists:\n",
    "    - Currently, our API can only upload data from a pandas DataFrame, but we plan to implement more flexible uploads in the future.\n",
    "    - For now, we can rely on the following functions to create the necessary DataFrames from our graph."
   ]
  },
  {
   "cell_type": "code",
   "execution_count": 4,
   "metadata": {
    "collapsed": false,
    "deletable": true,
    "editable": true
   },
   "outputs": [],
   "source": [
    "@asyncio.coroutine\n",
    "def get_node_list_routine():\n",
    "    resp = yield from client.submit(\"g.V().as('node')\\\n",
    "                          .label().as('type')\\\n",
    "                          .select('node').values('name').as('name')\\\n",
    "                          .select('name', 'type')\")\n",
    "    results = [];\n",
    "    while True:\n",
    "        msg = yield from resp.stream.read();\n",
    "        if msg is None:\n",
    "            break;\n",
    "        if msg.data is None:\n",
    "            break;\n",
    "        else:\n",
    "            results.extend(msg.data)\n",
    "    return results\n",
    "\n",
    "def get_node_list():\n",
    "    results =  loop.run_until_complete(get_node_list_routine())\n",
    "    return results\n",
    "\n",
    "@asyncio.coroutine\n",
    "def get_edge_list_routine():\n",
    "    resp = yield from client.submit(\"g.E().as('edge')\\\n",
    "                          .label().as('relationship')\\\n",
    "                          .select('edge').outV().values('name').as('source')\\\n",
    "                          .select('edge').inV().values('name').as('dest')\\\n",
    "                          .select('source', 'relationship', 'dest')\")\n",
    "    \n",
    "    results = [];\n",
    "    while True:\n",
    "        msg = yield from resp.stream.read();\n",
    "        if msg is None:\n",
    "            break;\n",
    "        if msg.data is None:\n",
    "            break;\n",
    "        else:\n",
    "            results.extend(msg.data)\n",
    "    return results\n",
    "def get_edge_list():\n",
    "    results =  loop.run_until_complete(get_edge_list_routine())\n",
    "    return results"
   ]
  },
  {
   "cell_type": "markdown",
   "metadata": {
    "deletable": true,
    "editable": true
   },
   "source": [
    "### Let's start with an empty graph:"
   ]
  },
  {
   "cell_type": "code",
   "execution_count": 5,
   "metadata": {
    "collapsed": false,
    "deletable": true,
    "editable": true
   },
   "outputs": [],
   "source": [
    "remove_all_vertices()"
   ]
  },
  {
   "cell_type": "markdown",
   "metadata": {
    "deletable": true,
    "editable": true
   },
   "source": [
    "### And then populate it with the Graphistry team members and some of thier relationships:"
   ]
  },
  {
   "cell_type": "code",
   "execution_count": 6,
   "metadata": {
    "collapsed": false,
    "deletable": true,
    "editable": true
   },
   "outputs": [],
   "source": [
    "add_vertex(\"Paden\", \"Person\")\n",
    "add_vertex(\"Thibaud\", \"Person\")\n",
    "add_vertex(\"Leo\", \"Person\")\n",
    "add_vertex(\"Matt\", \"Person\")\n",
    "add_vertex(\"Brian\", \"Person\")\n",
    "add_vertex(\"Quinn\", \"Person\")\n",
    "add_vertex(\"Paul\", \"Person\")\n",
    "add_vertex(\"Lee\", \"Person\")\n",
    "\n",
    "add_vertex(\"San Francisco\", \"Place\")\n",
    "add_vertex(\"Oakland\", \"Place\")\n",
    "add_vertex(\"Berkeley\", \"Place\")\n",
    "\n",
    "add_vertex(\"Turkey\", \"Thing\")\n",
    "add_vertex(\"Rocks\", \"Thing\")\n",
    "add_vertex(\"Motorcycles\", \"Thing\")\n",
    "\n",
    "add_relationship(\"Paden\", \"lives in\", \"Oakland\")\n",
    "add_relationship(\"Quinn\", \"lives in\", \"Oakland\")\n",
    "add_relationship(\"Thibaud\", \"lives in\", \"Berkeley\")\n",
    "add_relationship(\"Matt\", \"lives in\", \"Berkeley\")\n",
    "add_relationship(\"Leo\", \"lives in\", \"San Francisco\")\n",
    "add_relationship(\"Paul\", \"lives in\", \"San Francisco\")\n",
    "add_relationship(\"Brian\", \"lives in\", \"Oakland\")\n",
    "\n",
    "add_relationship(\"Paden\", \"eats\", \"Turkey\")\n",
    "add_relationship(\"Quinn\", \"cooks\", \"Turkey\")\n",
    "add_relationship(\"Thibaud\", \"climbs\", \"Rocks\")\n",
    "add_relationship(\"Matt\", \"climbs\", \"Rocks\")\n",
    "add_relationship(\"Brian\", \"rides\", \"Motorcycles\")\n",
    "\n",
    "add_vertex(\"Graphistry\", \"Work\")\n",
    "\n",
    "add_relationship(\"Paden\", \"works at\", \"Graphistry\")\n",
    "add_relationship(\"Thibaud\", \"works at\", \"Graphistry\")\n",
    "add_relationship(\"Matt\", \"co-founded\", \"Graphistry\")\n",
    "add_relationship(\"Leo\", \"co-founded\", \"Graphistry\")\n",
    "add_relationship(\"Paul\", \"works at\", \"Graphistry\")\n",
    "add_relationship(\"Quinn\", \"works at\", \"Graphistry\")\n",
    "add_relationship(\"Brian\", \"works at\", \"Graphistry\")"
   ]
  },
  {
   "cell_type": "markdown",
   "metadata": {
    "deletable": true,
    "editable": true
   },
   "source": [
    "### Now, let's convert our graph database to a pandas DataFrame, so it can be uploaded into our tool:"
   ]
  },
  {
   "cell_type": "code",
   "execution_count": 7,
   "metadata": {
    "collapsed": false,
    "deletable": true,
    "editable": true
   },
   "outputs": [],
   "source": [
    "import pandas"
   ]
  },
  {
   "cell_type": "code",
   "execution_count": 8,
   "metadata": {
    "collapsed": true,
    "deletable": true,
    "editable": true
   },
   "outputs": [],
   "source": [
    "nodes = pandas.DataFrame(get_node_list())\n",
    "edges = pandas.DataFrame(get_edge_list())"
   ]
  },
  {
   "cell_type": "markdown",
   "metadata": {
    "deletable": true,
    "editable": true
   },
   "source": [
    "### And color the nodes based on their \"type\" property:"
   ]
  },
  {
   "cell_type": "code",
   "execution_count": 9,
   "metadata": {
    "collapsed": false,
    "deletable": true,
    "editable": true
   },
   "outputs": [],
   "source": [
    "# Assign different color to each type in a round robin fashion. \n",
    "# For more information and coloring options please visit: https://graphistry.github.io/docs/legacy/api/0.9.2/api.html\n",
    "unique_types = list(nodes['type'].unique())\n",
    "nodes['color'] = nodes['type'].apply(lambda x: unique_types.index(x) % 11)"
   ]
  },
  {
   "cell_type": "code",
   "execution_count": 10,
   "metadata": {
    "collapsed": false,
    "deletable": true,
    "editable": true
   },
   "outputs": [
    {
     "data": {
      "text/html": [
       "<div>\n",
       "<table border=\"1\" class=\"dataframe\">\n",
       "  <thead>\n",
       "    <tr style=\"text-align: right;\">\n",
       "      <th></th>\n",
       "      <th>name</th>\n",
       "      <th>type</th>\n",
       "      <th>color</th>\n",
       "    </tr>\n",
       "  </thead>\n",
       "  <tbody>\n",
       "    <tr>\n",
       "      <th>0</th>\n",
       "      <td>Paden</td>\n",
       "      <td>Person</td>\n",
       "      <td>0</td>\n",
       "    </tr>\n",
       "    <tr>\n",
       "      <th>1</th>\n",
       "      <td>Quinn</td>\n",
       "      <td>Person</td>\n",
       "      <td>0</td>\n",
       "    </tr>\n",
       "    <tr>\n",
       "      <th>2</th>\n",
       "      <td>Turkey</td>\n",
       "      <td>Thing</td>\n",
       "      <td>1</td>\n",
       "    </tr>\n",
       "    <tr>\n",
       "      <th>3</th>\n",
       "      <td>Thibaud</td>\n",
       "      <td>Person</td>\n",
       "      <td>0</td>\n",
       "    </tr>\n",
       "    <tr>\n",
       "      <th>4</th>\n",
       "      <td>Matt</td>\n",
       "      <td>Person</td>\n",
       "      <td>0</td>\n",
       "    </tr>\n",
       "    <tr>\n",
       "      <th>5</th>\n",
       "      <td>Leo</td>\n",
       "      <td>Person</td>\n",
       "      <td>0</td>\n",
       "    </tr>\n",
       "    <tr>\n",
       "      <th>6</th>\n",
       "      <td>Berkeley</td>\n",
       "      <td>Place</td>\n",
       "      <td>2</td>\n",
       "    </tr>\n",
       "    <tr>\n",
       "      <th>7</th>\n",
       "      <td>Rocks</td>\n",
       "      <td>Thing</td>\n",
       "      <td>1</td>\n",
       "    </tr>\n",
       "    <tr>\n",
       "      <th>8</th>\n",
       "      <td>Motorcycles</td>\n",
       "      <td>Thing</td>\n",
       "      <td>1</td>\n",
       "    </tr>\n",
       "    <tr>\n",
       "      <th>9</th>\n",
       "      <td>Graphistry</td>\n",
       "      <td>Work</td>\n",
       "      <td>3</td>\n",
       "    </tr>\n",
       "    <tr>\n",
       "      <th>10</th>\n",
       "      <td>Lee</td>\n",
       "      <td>Person</td>\n",
       "      <td>0</td>\n",
       "    </tr>\n",
       "    <tr>\n",
       "      <th>11</th>\n",
       "      <td>Oakland</td>\n",
       "      <td>Place</td>\n",
       "      <td>2</td>\n",
       "    </tr>\n",
       "    <tr>\n",
       "      <th>12</th>\n",
       "      <td>Brian</td>\n",
       "      <td>Person</td>\n",
       "      <td>0</td>\n",
       "    </tr>\n",
       "    <tr>\n",
       "      <th>13</th>\n",
       "      <td>Paul</td>\n",
       "      <td>Person</td>\n",
       "      <td>0</td>\n",
       "    </tr>\n",
       "    <tr>\n",
       "      <th>14</th>\n",
       "      <td>San Francisco</td>\n",
       "      <td>Place</td>\n",
       "      <td>2</td>\n",
       "    </tr>\n",
       "  </tbody>\n",
       "</table>\n",
       "</div>"
      ],
      "text/plain": [
       "             name    type  color\n",
       "0           Paden  Person      0\n",
       "1           Quinn  Person      0\n",
       "2          Turkey   Thing      1\n",
       "3         Thibaud  Person      0\n",
       "4            Matt  Person      0\n",
       "5             Leo  Person      0\n",
       "6        Berkeley   Place      2\n",
       "7           Rocks   Thing      1\n",
       "8     Motorcycles   Thing      1\n",
       "9      Graphistry    Work      3\n",
       "10            Lee  Person      0\n",
       "11        Oakland   Place      2\n",
       "12          Brian  Person      0\n",
       "13           Paul  Person      0\n",
       "14  San Francisco   Place      2"
      ]
     },
     "execution_count": 10,
     "metadata": {},
     "output_type": "execute_result"
    }
   ],
   "source": [
    "nodes"
   ]
  },
  {
   "cell_type": "code",
   "execution_count": 11,
   "metadata": {
    "collapsed": false,
    "deletable": true,
    "editable": true
   },
   "outputs": [
    {
     "data": {
      "text/html": [
       "<div>\n",
       "<table border=\"1\" class=\"dataframe\">\n",
       "  <thead>\n",
       "    <tr style=\"text-align: right;\">\n",
       "      <th></th>\n",
       "      <th>dest</th>\n",
       "      <th>relationship</th>\n",
       "      <th>source</th>\n",
       "    </tr>\n",
       "  </thead>\n",
       "  <tbody>\n",
       "    <tr>\n",
       "      <th>0</th>\n",
       "      <td>Oakland</td>\n",
       "      <td>lives in</td>\n",
       "      <td>Paden</td>\n",
       "    </tr>\n",
       "    <tr>\n",
       "      <th>1</th>\n",
       "      <td>Turkey</td>\n",
       "      <td>eats</td>\n",
       "      <td>Paden</td>\n",
       "    </tr>\n",
       "    <tr>\n",
       "      <th>2</th>\n",
       "      <td>Graphistry</td>\n",
       "      <td>works at</td>\n",
       "      <td>Paden</td>\n",
       "    </tr>\n",
       "    <tr>\n",
       "      <th>3</th>\n",
       "      <td>Oakland</td>\n",
       "      <td>lives in</td>\n",
       "      <td>Quinn</td>\n",
       "    </tr>\n",
       "    <tr>\n",
       "      <th>4</th>\n",
       "      <td>Turkey</td>\n",
       "      <td>cooks</td>\n",
       "      <td>Quinn</td>\n",
       "    </tr>\n",
       "    <tr>\n",
       "      <th>5</th>\n",
       "      <td>Graphistry</td>\n",
       "      <td>works at</td>\n",
       "      <td>Quinn</td>\n",
       "    </tr>\n",
       "    <tr>\n",
       "      <th>6</th>\n",
       "      <td>Berkeley</td>\n",
       "      <td>lives in</td>\n",
       "      <td>Thibaud</td>\n",
       "    </tr>\n",
       "    <tr>\n",
       "      <th>7</th>\n",
       "      <td>Rocks</td>\n",
       "      <td>climbs</td>\n",
       "      <td>Thibaud</td>\n",
       "    </tr>\n",
       "    <tr>\n",
       "      <th>8</th>\n",
       "      <td>Graphistry</td>\n",
       "      <td>works at</td>\n",
       "      <td>Thibaud</td>\n",
       "    </tr>\n",
       "    <tr>\n",
       "      <th>9</th>\n",
       "      <td>Berkeley</td>\n",
       "      <td>lives in</td>\n",
       "      <td>Matt</td>\n",
       "    </tr>\n",
       "    <tr>\n",
       "      <th>10</th>\n",
       "      <td>Rocks</td>\n",
       "      <td>climbs</td>\n",
       "      <td>Matt</td>\n",
       "    </tr>\n",
       "    <tr>\n",
       "      <th>11</th>\n",
       "      <td>Graphistry</td>\n",
       "      <td>co-founded</td>\n",
       "      <td>Matt</td>\n",
       "    </tr>\n",
       "    <tr>\n",
       "      <th>12</th>\n",
       "      <td>San Francisco</td>\n",
       "      <td>lives in</td>\n",
       "      <td>Leo</td>\n",
       "    </tr>\n",
       "    <tr>\n",
       "      <th>13</th>\n",
       "      <td>Graphistry</td>\n",
       "      <td>co-founded</td>\n",
       "      <td>Leo</td>\n",
       "    </tr>\n",
       "    <tr>\n",
       "      <th>14</th>\n",
       "      <td>Oakland</td>\n",
       "      <td>lives in</td>\n",
       "      <td>Brian</td>\n",
       "    </tr>\n",
       "    <tr>\n",
       "      <th>15</th>\n",
       "      <td>Motorcycles</td>\n",
       "      <td>rides</td>\n",
       "      <td>Brian</td>\n",
       "    </tr>\n",
       "    <tr>\n",
       "      <th>16</th>\n",
       "      <td>Graphistry</td>\n",
       "      <td>works at</td>\n",
       "      <td>Brian</td>\n",
       "    </tr>\n",
       "    <tr>\n",
       "      <th>17</th>\n",
       "      <td>San Francisco</td>\n",
       "      <td>lives in</td>\n",
       "      <td>Paul</td>\n",
       "    </tr>\n",
       "    <tr>\n",
       "      <th>18</th>\n",
       "      <td>Graphistry</td>\n",
       "      <td>works at</td>\n",
       "      <td>Paul</td>\n",
       "    </tr>\n",
       "  </tbody>\n",
       "</table>\n",
       "</div>"
      ],
      "text/plain": [
       "             dest relationship   source\n",
       "0         Oakland     lives in    Paden\n",
       "1          Turkey         eats    Paden\n",
       "2      Graphistry     works at    Paden\n",
       "3         Oakland     lives in    Quinn\n",
       "4          Turkey        cooks    Quinn\n",
       "5      Graphistry     works at    Quinn\n",
       "6        Berkeley     lives in  Thibaud\n",
       "7           Rocks       climbs  Thibaud\n",
       "8      Graphistry     works at  Thibaud\n",
       "9        Berkeley     lives in     Matt\n",
       "10          Rocks       climbs     Matt\n",
       "11     Graphistry   co-founded     Matt\n",
       "12  San Francisco     lives in      Leo\n",
       "13     Graphistry   co-founded      Leo\n",
       "14        Oakland     lives in    Brian\n",
       "15    Motorcycles        rides    Brian\n",
       "16     Graphistry     works at    Brian\n",
       "17  San Francisco     lives in     Paul\n",
       "18     Graphistry     works at     Paul"
      ]
     },
     "execution_count": 11,
     "metadata": {},
     "output_type": "execute_result"
    }
   ],
   "source": [
    "edges"
   ]
  },
  {
   "cell_type": "markdown",
   "metadata": {
    "deletable": true,
    "editable": true
   },
   "source": [
    "### Finally, let's vizualize the results!"
   ]
  },
  {
   "cell_type": "code",
   "execution_count": 12,
   "metadata": {
    "collapsed": false,
    "deletable": true,
    "editable": true,
    "scrolled": false
   },
   "outputs": [
    {
     "data": {
      "text/html": [
       "<iframe id=\"b24d5b07-57f3-4749-ae15-a8d56491d072\"\n",
       "                        style=\"display:none; width:100%; height:500px; border: 1px solid #DDD\">\n",
       "                </iframe><script>var p = document.location.protocol;\n",
       "                        if(p === \"file:\") {p = \"http:\";}\n",
       "                        $(\"#b24d5b07-57f3-4749-ae15-a8d56491d072\").attr(\"src\", p + \"//proxy-labs.graphistry.com/graph/graph.html?dataset=PyGraphistry/FYXCE1DPO8&type=vgraph&viztoken=83234ea62a7f7b07f409abded283aab7811e1062&usertag=0f3bb135-pygraphistry-0.9.17&splashAfter=1453507065&info=true\").show();\n",
       "                </script><script>\n",
       "            $(\"#b24d5b07-57f3-4749-ae15-a8d56491d072\").bind('mousewheel', function(e) {\n",
       "                e.preventDefault();\n",
       "            });\n",
       "        </script>"
      ],
      "text/plain": [
       "<IPython.core.display.HTML object>"
      ]
     },
     "execution_count": 12,
     "metadata": {},
     "output_type": "execute_result"
    }
   ],
   "source": [
    "import graphistry\n",
    "graphistry.register(key='YOUR API KEY') #https://www.graphistry.com/api-request\n",
    "plotter = graphistry.bind(source=\"source\", destination=\"dest\", node='name', point_color='color', edge_title='relationship')\n",
    "plotter.plot(edges, nodes)"
   ]
  },
  {
   "cell_type": "code",
   "execution_count": null,
   "metadata": {
    "collapsed": true,
    "deletable": true,
    "editable": true
   },
   "outputs": [],
   "source": []
  }
 ],
 "metadata": {
  "kernelspec": {
   "display_name": "Python 3",
   "language": "python",
   "name": "python3"
  },
  "language_info": {
   "codemirror_mode": {
    "name": "ipython",
    "version": 3
   },
   "file_extension": ".py",
   "mimetype": "text/x-python",
   "name": "python",
   "nbconvert_exporter": "python",
   "pygments_lexer": "ipython3",
   "version": "3.5.1"
  }
 },
 "nbformat": 4,
 "nbformat_minor": 0
}
