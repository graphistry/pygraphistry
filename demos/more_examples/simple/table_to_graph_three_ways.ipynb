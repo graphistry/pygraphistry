{
  "cells": [
    {
      "cell_type": "markdown",
      "metadata": {
        "id": "fQ1WzYAbkiFS"
      },
      "source": [
        "# Visually analyze any table as a graph: Our three favorite Graphistry shapings\n",
        "\n",
        "Our 3 favorite ways to shape tables into a graph and then visualize it, each with just one line of code!\n",
        "\n",
        "1. **Simple property graphs:** Edge tables\n",
        "2. **Advanced property graphs:** Hypergraphs for more control\n",
        "3. **AI - UMAP**: Automatically link entities with similar properties\n"
      ]
    },
    {
      "cell_type": "markdown",
      "metadata": {
        "id": "QYC8ZZ1LlXxJ"
      },
      "source": [
        "## Install\n",
        "\n",
        "Local pip install to run the shaping and analytics locally, CPU or GPU\n",
        "\n",
        "For the GPU cloud visualization sessons, and GPU analytics offloading of bigger graphs, get a free username/password or api key at [hub.graphistry.com](hub.graphistry.com)"
      ]
    },
    {
      "cell_type": "code",
      "execution_count": null,
      "metadata": {
        "colab": {
          "base_uri": "https://localhost:8080/"
        },
        "id": "kwXdxNoKbeND",
        "outputId": "f2740071-b0ed-4ef9-8ba7-3b879bf6a828"
      },
      "outputs": [],
      "source": [
        "! pip install -q graphistry[umap_learn]"
      ]
    },
    {
      "cell_type": "code",
      "execution_count": 15,
      "metadata": {
        "colab": {
          "base_uri": "https://localhost:8080/"
        },
        "id": "SyHWDcEFdef_",
        "outputId": "2b91f36b-4fbe-457f-d5e4-22bfb8ddad4a"
      },
      "outputs": [
        {
          "name": "stdout",
          "output_type": "stream",
          "text": [
            "0.35.4+66.g9a3a886\n"
          ]
        }
      ],
      "source": [
        "import graphistry\n",
        "print(graphistry.__version__)\n",
        "\n",
        "# Make API key at https://hub.graphistry.com/users/personal/key/ (create free account first)\n",
        "graphistry.register(api=3, personal_key_id=FILL_ME_IN, personal_key_secret=FILL_ME_IN)"
      ]
    },
    {
      "cell_type": "markdown",
      "metadata": {
        "id": "lCtQ3NfTmEdV"
      },
      "source": [
        "## Data\n",
        "\n",
        "Sample logs\n",
        "\n",
        "CPU mode is great for < 10K rows, and consider GPU and AI modes for 10K-1B rows"
      ]
    },
    {
      "cell_type": "code",
      "execution_count": 16,
      "metadata": {
        "colab": {
          "base_uri": "https://localhost:8080/",
          "height": 424
        },
        "id": "cGI-xswibg3N",
        "outputId": "5112b3ac-f8c1-4981-a079-e2f7bf881302"
      },
      "outputs": [
        {
          "data": {
            "application/vnd.google.colaboratory.intrinsic+json": {
              "summary": "{\n  \"name\": \"df\",\n  \"rows\": 220,\n  \"fields\": [\n    {\n      \"column\": \"attackerIP\",\n      \"properties\": {\n        \"dtype\": \"string\",\n        \"num_unique_values\": 201,\n        \"samples\": [\n          \"198.204.253.101\",\n          \"116.203.74.137\",\n          \"124.123.70.99\"\n        ],\n        \"semantic_type\": \"\",\n        \"description\": \"\"\n      }\n    },\n    {\n      \"column\": \"victimIP\",\n      \"properties\": {\n        \"dtype\": \"category\",\n        \"num_unique_values\": 2,\n        \"samples\": [\n          \"172.31.13.124\",\n          \"172.31.14.66\"\n        ],\n        \"semantic_type\": \"\",\n        \"description\": \"\"\n      }\n    },\n    {\n      \"column\": \"victimPort\",\n      \"properties\": {\n        \"dtype\": \"number\",\n        \"std\": 2483.073107335337,\n        \"min\": 80.0,\n        \"max\": 9999.0,\n        \"num_unique_values\": 9,\n        \"samples\": [\n          135.0,\n          445.0\n        ],\n        \"semantic_type\": \"\",\n        \"description\": \"\"\n      }\n    },\n    {\n      \"column\": \"vulnName\",\n      \"properties\": {\n        \"dtype\": \"category\",\n        \"num_unique_values\": 9,\n        \"samples\": [\n          \"DCOM Vulnerability\",\n          \"MS04011 (LSASS)\"\n        ],\n        \"semantic_type\": \"\",\n        \"description\": \"\"\n      }\n    },\n    {\n      \"column\": \"count\",\n      \"properties\": {\n        \"dtype\": \"number\",\n        \"std\": 8,\n        \"min\": 1,\n        \"max\": 113,\n        \"num_unique_values\": 23,\n        \"samples\": [\n          12,\n          5\n        ],\n        \"semantic_type\": \"\",\n        \"description\": \"\"\n      }\n    },\n    {\n      \"column\": \"time(max)\",\n      \"properties\": {\n        \"dtype\": \"number\",\n        \"std\": 3804150.693641089,\n        \"min\": 1412066596.0,\n        \"max\": 1425344089.0,\n        \"num_unique_values\": 220,\n        \"samples\": [\n          1422877169.0,\n          1417531850.0\n        ],\n        \"semantic_type\": \"\",\n        \"description\": \"\"\n      }\n    },\n    {\n      \"column\": \"time(min)\",\n      \"properties\": {\n        \"dtype\": \"number\",\n        \"std\": 3813917.623296038,\n        \"min\": 1412066223.0,\n        \"max\": 1425343319.0,\n        \"num_unique_values\": 220,\n        \"samples\": [\n          1422875900.0,\n          1417530560.0\n        ],\n        \"semantic_type\": \"\",\n        \"description\": \"\"\n      }\n    }\n  ]\n}",
              "type": "dataframe",
              "variable_name": "df"
            },
            "text/html": [
              "\n",
              "  <div id=\"df-03e9ef89-c8e6-4878-bdaa-8865fa8dfb61\" class=\"colab-df-container\">\n",
              "    <div>\n",
              "<style scoped>\n",
              "    .dataframe tbody tr th:only-of-type {\n",
              "        vertical-align: middle;\n",
              "    }\n",
              "\n",
              "    .dataframe tbody tr th {\n",
              "        vertical-align: top;\n",
              "    }\n",
              "\n",
              "    .dataframe thead th {\n",
              "        text-align: right;\n",
              "    }\n",
              "</style>\n",
              "<table border=\"1\" class=\"dataframe\">\n",
              "  <thead>\n",
              "    <tr style=\"text-align: right;\">\n",
              "      <th></th>\n",
              "      <th>attackerIP</th>\n",
              "      <th>victimIP</th>\n",
              "      <th>victimPort</th>\n",
              "      <th>vulnName</th>\n",
              "      <th>count</th>\n",
              "      <th>time(max)</th>\n",
              "      <th>time(min)</th>\n",
              "    </tr>\n",
              "  </thead>\n",
              "  <tbody>\n",
              "    <tr>\n",
              "      <th>0</th>\n",
              "      <td>1.235.32.141</td>\n",
              "      <td>172.31.14.66</td>\n",
              "      <td>139.0</td>\n",
              "      <td>MS08067 (NetAPI)</td>\n",
              "      <td>6</td>\n",
              "      <td>1.421434e+09</td>\n",
              "      <td>1.421423e+09</td>\n",
              "    </tr>\n",
              "    <tr>\n",
              "      <th>1</th>\n",
              "      <td>105.157.235.22</td>\n",
              "      <td>172.31.14.66</td>\n",
              "      <td>445.0</td>\n",
              "      <td>MS08067 (NetAPI)</td>\n",
              "      <td>4</td>\n",
              "      <td>1.422498e+09</td>\n",
              "      <td>1.422495e+09</td>\n",
              "    </tr>\n",
              "    <tr>\n",
              "      <th>2</th>\n",
              "      <td>105.186.127.152</td>\n",
              "      <td>172.31.14.66</td>\n",
              "      <td>445.0</td>\n",
              "      <td>MS04011 (LSASS)</td>\n",
              "      <td>1</td>\n",
              "      <td>1.419966e+09</td>\n",
              "      <td>1.419966e+09</td>\n",
              "    </tr>\n",
              "    <tr>\n",
              "      <th>3</th>\n",
              "      <td>105.227.98.90</td>\n",
              "      <td>172.31.14.66</td>\n",
              "      <td>445.0</td>\n",
              "      <td>MS08067 (NetAPI)</td>\n",
              "      <td>7</td>\n",
              "      <td>1.421742e+09</td>\n",
              "      <td>1.421740e+09</td>\n",
              "    </tr>\n",
              "    <tr>\n",
              "      <th>4</th>\n",
              "      <td>105.235.44.218</td>\n",
              "      <td>172.31.14.66</td>\n",
              "      <td>445.0</td>\n",
              "      <td>MS08067 (NetAPI)</td>\n",
              "      <td>4</td>\n",
              "      <td>1.416686e+09</td>\n",
              "      <td>1.416684e+09</td>\n",
              "    </tr>\n",
              "    <tr>\n",
              "      <th>...</th>\n",
              "      <td>...</td>\n",
              "      <td>...</td>\n",
              "      <td>...</td>\n",
              "      <td>...</td>\n",
              "      <td>...</td>\n",
              "      <td>...</td>\n",
              "      <td>...</td>\n",
              "    </tr>\n",
              "    <tr>\n",
              "      <th>215</th>\n",
              "      <td>94.153.13.180</td>\n",
              "      <td>172.31.14.66</td>\n",
              "      <td>445.0</td>\n",
              "      <td>MS08067 (NetAPI)</td>\n",
              "      <td>1</td>\n",
              "      <td>1.423904e+09</td>\n",
              "      <td>1.423904e+09</td>\n",
              "    </tr>\n",
              "    <tr>\n",
              "      <th>216</th>\n",
              "      <td>94.243.32.41</td>\n",
              "      <td>172.31.14.66</td>\n",
              "      <td>445.0</td>\n",
              "      <td>MS08067 (NetAPI)</td>\n",
              "      <td>10</td>\n",
              "      <td>1.412510e+09</td>\n",
              "      <td>1.412508e+09</td>\n",
              "    </tr>\n",
              "    <tr>\n",
              "      <th>217</th>\n",
              "      <td>95.234.253.23</td>\n",
              "      <td>172.31.14.66</td>\n",
              "      <td>445.0</td>\n",
              "      <td>MS08067 (NetAPI)</td>\n",
              "      <td>2</td>\n",
              "      <td>1.421355e+09</td>\n",
              "      <td>1.421354e+09</td>\n",
              "    </tr>\n",
              "    <tr>\n",
              "      <th>218</th>\n",
              "      <td>95.68.116.216</td>\n",
              "      <td>172.31.14.66</td>\n",
              "      <td>445.0</td>\n",
              "      <td>MS08067 (NetAPI)</td>\n",
              "      <td>20</td>\n",
              "      <td>1.420813e+09</td>\n",
              "      <td>1.414762e+09</td>\n",
              "    </tr>\n",
              "    <tr>\n",
              "      <th>219</th>\n",
              "      <td>95.74.232.188</td>\n",
              "      <td>172.31.14.66</td>\n",
              "      <td>445.0</td>\n",
              "      <td>MS08067 (NetAPI)</td>\n",
              "      <td>6</td>\n",
              "      <td>1.418149e+09</td>\n",
              "      <td>1.418148e+09</td>\n",
              "    </tr>\n",
              "  </tbody>\n",
              "</table>\n",
              "<p>220 rows × 7 columns</p>\n",
              "</div>\n",
              "    <div class=\"colab-df-buttons\">\n",
              "\n",
              "  <div class=\"colab-df-container\">\n",
              "    <button class=\"colab-df-convert\" onclick=\"convertToInteractive('df-03e9ef89-c8e6-4878-bdaa-8865fa8dfb61')\"\n",
              "            title=\"Convert this dataframe to an interactive table.\"\n",
              "            style=\"display:none;\">\n",
              "\n",
              "  <svg xmlns=\"http://www.w3.org/2000/svg\" height=\"24px\" viewBox=\"0 -960 960 960\">\n",
              "    <path d=\"M120-120v-720h720v720H120Zm60-500h600v-160H180v160Zm220 220h160v-160H400v160Zm0 220h160v-160H400v160ZM180-400h160v-160H180v160Zm440 0h160v-160H620v160ZM180-180h160v-160H180v160Zm440 0h160v-160H620v160Z\"/>\n",
              "  </svg>\n",
              "    </button>\n",
              "\n",
              "  <style>\n",
              "    .colab-df-container {\n",
              "      display:flex;\n",
              "      gap: 12px;\n",
              "    }\n",
              "\n",
              "    .colab-df-convert {\n",
              "      background-color: #E8F0FE;\n",
              "      border: none;\n",
              "      border-radius: 50%;\n",
              "      cursor: pointer;\n",
              "      display: none;\n",
              "      fill: #1967D2;\n",
              "      height: 32px;\n",
              "      padding: 0 0 0 0;\n",
              "      width: 32px;\n",
              "    }\n",
              "\n",
              "    .colab-df-convert:hover {\n",
              "      background-color: #E2EBFA;\n",
              "      box-shadow: 0px 1px 2px rgba(60, 64, 67, 0.3), 0px 1px 3px 1px rgba(60, 64, 67, 0.15);\n",
              "      fill: #174EA6;\n",
              "    }\n",
              "\n",
              "    .colab-df-buttons div {\n",
              "      margin-bottom: 4px;\n",
              "    }\n",
              "\n",
              "    [theme=dark] .colab-df-convert {\n",
              "      background-color: #3B4455;\n",
              "      fill: #D2E3FC;\n",
              "    }\n",
              "\n",
              "    [theme=dark] .colab-df-convert:hover {\n",
              "      background-color: #434B5C;\n",
              "      box-shadow: 0px 1px 3px 1px rgba(0, 0, 0, 0.15);\n",
              "      filter: drop-shadow(0px 1px 2px rgba(0, 0, 0, 0.3));\n",
              "      fill: #FFFFFF;\n",
              "    }\n",
              "  </style>\n",
              "\n",
              "    <script>\n",
              "      const buttonEl =\n",
              "        document.querySelector('#df-03e9ef89-c8e6-4878-bdaa-8865fa8dfb61 button.colab-df-convert');\n",
              "      buttonEl.style.display =\n",
              "        google.colab.kernel.accessAllowed ? 'block' : 'none';\n",
              "\n",
              "      async function convertToInteractive(key) {\n",
              "        const element = document.querySelector('#df-03e9ef89-c8e6-4878-bdaa-8865fa8dfb61');\n",
              "        const dataTable =\n",
              "          await google.colab.kernel.invokeFunction('convertToInteractive',\n",
              "                                                    [key], {});\n",
              "        if (!dataTable) return;\n",
              "\n",
              "        const docLinkHtml = 'Like what you see? Visit the ' +\n",
              "          '<a target=\"_blank\" href=https://colab.research.google.com/notebooks/data_table.ipynb>data table notebook</a>'\n",
              "          + ' to learn more about interactive tables.';\n",
              "        element.innerHTML = '';\n",
              "        dataTable['output_type'] = 'display_data';\n",
              "        await google.colab.output.renderOutput(dataTable, element);\n",
              "        const docLink = document.createElement('div');\n",
              "        docLink.innerHTML = docLinkHtml;\n",
              "        element.appendChild(docLink);\n",
              "      }\n",
              "    </script>\n",
              "  </div>\n",
              "\n",
              "\n",
              "<div id=\"df-9fc35b5d-2ba7-46f9-8a1d-bb1f5749a615\">\n",
              "  <button class=\"colab-df-quickchart\" onclick=\"quickchart('df-9fc35b5d-2ba7-46f9-8a1d-bb1f5749a615')\"\n",
              "            title=\"Suggest charts\"\n",
              "            style=\"display:none;\">\n",
              "\n",
              "<svg xmlns=\"http://www.w3.org/2000/svg\" height=\"24px\"viewBox=\"0 0 24 24\"\n",
              "     width=\"24px\">\n",
              "    <g>\n",
              "        <path d=\"M19 3H5c-1.1 0-2 .9-2 2v14c0 1.1.9 2 2 2h14c1.1 0 2-.9 2-2V5c0-1.1-.9-2-2-2zM9 17H7v-7h2v7zm4 0h-2V7h2v10zm4 0h-2v-4h2v4z\"/>\n",
              "    </g>\n",
              "</svg>\n",
              "  </button>\n",
              "\n",
              "<style>\n",
              "  .colab-df-quickchart {\n",
              "      --bg-color: #E8F0FE;\n",
              "      --fill-color: #1967D2;\n",
              "      --hover-bg-color: #E2EBFA;\n",
              "      --hover-fill-color: #174EA6;\n",
              "      --disabled-fill-color: #AAA;\n",
              "      --disabled-bg-color: #DDD;\n",
              "  }\n",
              "\n",
              "  [theme=dark] .colab-df-quickchart {\n",
              "      --bg-color: #3B4455;\n",
              "      --fill-color: #D2E3FC;\n",
              "      --hover-bg-color: #434B5C;\n",
              "      --hover-fill-color: #FFFFFF;\n",
              "      --disabled-bg-color: #3B4455;\n",
              "      --disabled-fill-color: #666;\n",
              "  }\n",
              "\n",
              "  .colab-df-quickchart {\n",
              "    background-color: var(--bg-color);\n",
              "    border: none;\n",
              "    border-radius: 50%;\n",
              "    cursor: pointer;\n",
              "    display: none;\n",
              "    fill: var(--fill-color);\n",
              "    height: 32px;\n",
              "    padding: 0;\n",
              "    width: 32px;\n",
              "  }\n",
              "\n",
              "  .colab-df-quickchart:hover {\n",
              "    background-color: var(--hover-bg-color);\n",
              "    box-shadow: 0 1px 2px rgba(60, 64, 67, 0.3), 0 1px 3px 1px rgba(60, 64, 67, 0.15);\n",
              "    fill: var(--button-hover-fill-color);\n",
              "  }\n",
              "\n",
              "  .colab-df-quickchart-complete:disabled,\n",
              "  .colab-df-quickchart-complete:disabled:hover {\n",
              "    background-color: var(--disabled-bg-color);\n",
              "    fill: var(--disabled-fill-color);\n",
              "    box-shadow: none;\n",
              "  }\n",
              "\n",
              "  .colab-df-spinner {\n",
              "    border: 2px solid var(--fill-color);\n",
              "    border-color: transparent;\n",
              "    border-bottom-color: var(--fill-color);\n",
              "    animation:\n",
              "      spin 1s steps(1) infinite;\n",
              "  }\n",
              "\n",
              "  @keyframes spin {\n",
              "    0% {\n",
              "      border-color: transparent;\n",
              "      border-bottom-color: var(--fill-color);\n",
              "      border-left-color: var(--fill-color);\n",
              "    }\n",
              "    20% {\n",
              "      border-color: transparent;\n",
              "      border-left-color: var(--fill-color);\n",
              "      border-top-color: var(--fill-color);\n",
              "    }\n",
              "    30% {\n",
              "      border-color: transparent;\n",
              "      border-left-color: var(--fill-color);\n",
              "      border-top-color: var(--fill-color);\n",
              "      border-right-color: var(--fill-color);\n",
              "    }\n",
              "    40% {\n",
              "      border-color: transparent;\n",
              "      border-right-color: var(--fill-color);\n",
              "      border-top-color: var(--fill-color);\n",
              "    }\n",
              "    60% {\n",
              "      border-color: transparent;\n",
              "      border-right-color: var(--fill-color);\n",
              "    }\n",
              "    80% {\n",
              "      border-color: transparent;\n",
              "      border-right-color: var(--fill-color);\n",
              "      border-bottom-color: var(--fill-color);\n",
              "    }\n",
              "    90% {\n",
              "      border-color: transparent;\n",
              "      border-bottom-color: var(--fill-color);\n",
              "    }\n",
              "  }\n",
              "</style>\n",
              "\n",
              "  <script>\n",
              "    async function quickchart(key) {\n",
              "      const quickchartButtonEl =\n",
              "        document.querySelector('#' + key + ' button');\n",
              "      quickchartButtonEl.disabled = true;  // To prevent multiple clicks.\n",
              "      quickchartButtonEl.classList.add('colab-df-spinner');\n",
              "      try {\n",
              "        const charts = await google.colab.kernel.invokeFunction(\n",
              "            'suggestCharts', [key], {});\n",
              "      } catch (error) {\n",
              "        console.error('Error during call to suggestCharts:', error);\n",
              "      }\n",
              "      quickchartButtonEl.classList.remove('colab-df-spinner');\n",
              "      quickchartButtonEl.classList.add('colab-df-quickchart-complete');\n",
              "    }\n",
              "    (() => {\n",
              "      let quickchartButtonEl =\n",
              "        document.querySelector('#df-9fc35b5d-2ba7-46f9-8a1d-bb1f5749a615 button');\n",
              "      quickchartButtonEl.style.display =\n",
              "        google.colab.kernel.accessAllowed ? 'block' : 'none';\n",
              "    })();\n",
              "  </script>\n",
              "</div>\n",
              "\n",
              "  <div id=\"id_77aacc56-32d5-4524-9481-8fecf7b9e5b2\">\n",
              "    <style>\n",
              "      .colab-df-generate {\n",
              "        background-color: #E8F0FE;\n",
              "        border: none;\n",
              "        border-radius: 50%;\n",
              "        cursor: pointer;\n",
              "        display: none;\n",
              "        fill: #1967D2;\n",
              "        height: 32px;\n",
              "        padding: 0 0 0 0;\n",
              "        width: 32px;\n",
              "      }\n",
              "\n",
              "      .colab-df-generate:hover {\n",
              "        background-color: #E2EBFA;\n",
              "        box-shadow: 0px 1px 2px rgba(60, 64, 67, 0.3), 0px 1px 3px 1px rgba(60, 64, 67, 0.15);\n",
              "        fill: #174EA6;\n",
              "      }\n",
              "\n",
              "      [theme=dark] .colab-df-generate {\n",
              "        background-color: #3B4455;\n",
              "        fill: #D2E3FC;\n",
              "      }\n",
              "\n",
              "      [theme=dark] .colab-df-generate:hover {\n",
              "        background-color: #434B5C;\n",
              "        box-shadow: 0px 1px 3px 1px rgba(0, 0, 0, 0.15);\n",
              "        filter: drop-shadow(0px 1px 2px rgba(0, 0, 0, 0.3));\n",
              "        fill: #FFFFFF;\n",
              "      }\n",
              "    </style>\n",
              "    <button class=\"colab-df-generate\" onclick=\"generateWithVariable('df')\"\n",
              "            title=\"Generate code using this dataframe.\"\n",
              "            style=\"display:none;\">\n",
              "\n",
              "  <svg xmlns=\"http://www.w3.org/2000/svg\" height=\"24px\"viewBox=\"0 0 24 24\"\n",
              "       width=\"24px\">\n",
              "    <path d=\"M7,19H8.4L18.45,9,17,7.55,7,17.6ZM5,21V16.75L18.45,3.32a2,2,0,0,1,2.83,0l1.4,1.43a1.91,1.91,0,0,1,.58,1.4,1.91,1.91,0,0,1-.58,1.4L9.25,21ZM18.45,9,17,7.55Zm-12,3A5.31,5.31,0,0,0,4.9,8.1,5.31,5.31,0,0,0,1,6.5,5.31,5.31,0,0,0,4.9,4.9,5.31,5.31,0,0,0,6.5,1,5.31,5.31,0,0,0,8.1,4.9,5.31,5.31,0,0,0,12,6.5,5.46,5.46,0,0,0,6.5,12Z\"/>\n",
              "  </svg>\n",
              "    </button>\n",
              "    <script>\n",
              "      (() => {\n",
              "      const buttonEl =\n",
              "        document.querySelector('#id_77aacc56-32d5-4524-9481-8fecf7b9e5b2 button.colab-df-generate');\n",
              "      buttonEl.style.display =\n",
              "        google.colab.kernel.accessAllowed ? 'block' : 'none';\n",
              "\n",
              "      buttonEl.onclick = () => {\n",
              "        google.colab.notebook.generateWithVariable('df');\n",
              "      }\n",
              "      })();\n",
              "    </script>\n",
              "  </div>\n",
              "\n",
              "    </div>\n",
              "  </div>\n"
            ],
            "text/plain": [
              "          attackerIP      victimIP  victimPort          vulnName  count  \\\n",
              "0       1.235.32.141  172.31.14.66       139.0  MS08067 (NetAPI)      6   \n",
              "1     105.157.235.22  172.31.14.66       445.0  MS08067 (NetAPI)      4   \n",
              "2    105.186.127.152  172.31.14.66       445.0   MS04011 (LSASS)      1   \n",
              "3      105.227.98.90  172.31.14.66       445.0  MS08067 (NetAPI)      7   \n",
              "4     105.235.44.218  172.31.14.66       445.0  MS08067 (NetAPI)      4   \n",
              "..               ...           ...         ...               ...    ...   \n",
              "215    94.153.13.180  172.31.14.66       445.0  MS08067 (NetAPI)      1   \n",
              "216     94.243.32.41  172.31.14.66       445.0  MS08067 (NetAPI)     10   \n",
              "217    95.234.253.23  172.31.14.66       445.0  MS08067 (NetAPI)      2   \n",
              "218    95.68.116.216  172.31.14.66       445.0  MS08067 (NetAPI)     20   \n",
              "219    95.74.232.188  172.31.14.66       445.0  MS08067 (NetAPI)      6   \n",
              "\n",
              "        time(max)     time(min)  \n",
              "0    1.421434e+09  1.421423e+09  \n",
              "1    1.422498e+09  1.422495e+09  \n",
              "2    1.419966e+09  1.419966e+09  \n",
              "3    1.421742e+09  1.421740e+09  \n",
              "4    1.416686e+09  1.416684e+09  \n",
              "..            ...           ...  \n",
              "215  1.423904e+09  1.423904e+09  \n",
              "216  1.412510e+09  1.412508e+09  \n",
              "217  1.421355e+09  1.421354e+09  \n",
              "218  1.420813e+09  1.414762e+09  \n",
              "219  1.418149e+09  1.418148e+09  \n",
              "\n",
              "[220 rows x 7 columns]"
            ]
          },
          "execution_count": 16,
          "metadata": {},
          "output_type": "execute_result"
        }
      ],
      "source": [
        "import pandas as pd\n",
        "df = pd.read_csv('https://raw.githubusercontent.com/graphistry/pygraphistry/refs/heads/master/demos/data/honeypot.csv')\n",
        "df"
      ]
    },
    {
      "cell_type": "markdown",
      "metadata": {
        "id": "gdWvhEDRj2VO"
      },
      "source": [
        "## 1. Simple property graph: Edge tables with attributes\n",
        "\n",
        "Each table row represents an edge with properties:\n",
        "* One column to use as the edge source\n",
        "* One column as the edge destination\n",
        "* Remaining as edge attributes\n",
        "\n",
        "Optionally add a nodes table by chaining `.nodes(nodes_df, 'my_id_column')`"
      ]
    },
    {
      "cell_type": "code",
      "execution_count": 21,
      "metadata": {
        "colab": {
          "base_uri": "https://localhost:8080/",
          "height": 543
        },
        "id": "_xTL614FePuV",
        "outputId": "6fe3e41c-f3f3-4af3-d65a-6b9b1f4c62ba"
      },
      "outputs": [
        {
          "data": {
            "text/html": [
              "\n",
              "            <iframe id=\"27b830ee-21e8-4a58-b94d-74211f4df6aa\" src=\"https://hub.graphistry.com/graph/graph.html?dataset=e8c9e7f83e6849c1b54549e7e4ede25f&type=arrow&viztoken=1060c0cc-6a16-44b4-8865-e9f211a5d356&usertag=fe5494cc-pygraphistry-0.35.4+66.g9a3a886&splashAfter=1736543563&info=true\"\n",
              "                    allowfullscreen=\"true\" webkitallowfullscreen=\"true\" mozallowfullscreen=\"true\"\n",
              "                    oallowfullscreen=\"true\" msallowfullscreen=\"true\"\n",
              "                    style=\"width:100%; height:500px; border: 1px solid #DDD; overflow: hidden\"\n",
              "                    \n",
              "            >\n",
              "            </iframe>\n",
              "        \n",
              "            <script>\n",
              "                try {\n",
              "                  $(\"#27b830ee-21e8-4a58-b94d-74211f4df6aa\").bind('mousewheel', function(e) { e.preventDefault(); });\n",
              "                } catch (e) { console.error('exn catching scroll', e); }\n",
              "            </script>\n",
              "        "
            ],
            "text/plain": [
              "<IPython.core.display.HTML object>"
            ]
          },
          "execution_count": 21,
          "metadata": {},
          "output_type": "execute_result"
        }
      ],
      "source": [
        "g1 = graphistry.edges(df, source='attackerIP', destination='victimIP')\n",
        "g1.plot()"
      ]
    },
    {
      "cell_type": "markdown",
      "metadata": {
        "id": "-JJcLvB1mc4d"
      },
      "source": [
        "## 2. Advanced property graphs: Hypergraphs for more control\n",
        "\n",
        "We commonly want a table row to yield multiple edges between multiple columns, not just a src/dst column pair\n",
        "\n",
        "The first version simply links entities 3 columns to one another, so each table row forms a triangle:"
      ]
    },
    {
      "cell_type": "code",
      "execution_count": 18,
      "metadata": {
        "colab": {
          "base_uri": "https://localhost:8080/",
          "height": 595
        },
        "id": "sHTT3PveeZ2a",
        "outputId": "fc09da57-57db-47d9-b680-2bc758264231"
      },
      "outputs": [
        {
          "name": "stdout",
          "output_type": "stream",
          "text": [
            "# links 660\n",
            "# events 220\n",
            "# attrib entities 212\n"
          ]
        },
        {
          "data": {
            "text/html": [
              "\n",
              "            <iframe id=\"5b2b409c-4c72-4d0d-a88a-0f2094faa983\" src=\"https://hub.graphistry.com/graph/graph.html?dataset=34b660ffae194cb896799491dbd2f728&type=arrow&viztoken=ea4b48e4-7e97-4296-9239-6605eeb50992&usertag=fe5494cc-pygraphistry-0.35.4+66.g9a3a886&splashAfter=1736543015&info=true\"\n",
              "                    allowfullscreen=\"true\" webkitallowfullscreen=\"true\" mozallowfullscreen=\"true\"\n",
              "                    oallowfullscreen=\"true\" msallowfullscreen=\"true\"\n",
              "                    style=\"width:100%; height:500px; border: 1px solid #DDD; overflow: hidden\"\n",
              "                    \n",
              "            >\n",
              "            </iframe>\n",
              "        \n",
              "            <script>\n",
              "                try {\n",
              "                  $(\"#5b2b409c-4c72-4d0d-a88a-0f2094faa983\").bind('mousewheel', function(e) { e.preventDefault(); });\n",
              "                } catch (e) { console.error('exn catching scroll', e); }\n",
              "            </script>\n",
              "        "
            ],
            "text/plain": [
              "<IPython.core.display.HTML object>"
            ]
          },
          "execution_count": 18,
          "metadata": {},
          "output_type": "execute_result"
        }
      ],
      "source": [
        "g2 = graphistry.hypergraph(df, ['attackerIP', 'victimIP', 'vulnName'], direct=True)['graph']\n",
        "g2.plot()"
      ]
    },
    {
      "cell_type": "markdown",
      "metadata": {
        "id": "sXrMttyum_qK"
      },
      "source": [
        "We can control many aspects. In this case:\n",
        "\n",
        "* Causally directed edges: attackerIP->victimIP, attackerIP->vulnName, vulnName->attackerIP\n",
        "\n",
        "* Combine name spaces: When an IP appears both as a victimIP and attackerIP, collapse into one node, vs treating those columns as distinct node ID namespaces"
      ]
    },
    {
      "cell_type": "code",
      "execution_count": 5,
      "metadata": {
        "colab": {
          "base_uri": "https://localhost:8080/",
          "height": 595
        },
        "id": "9Xy1QhXjfU0x",
        "outputId": "49b25a5a-dfb8-422b-e1ef-70b2a46ac9b0"
      },
      "outputs": [
        {
          "name": "stdout",
          "output_type": "stream",
          "text": [
            "# links 660\n",
            "# events 220\n",
            "# attrib entities 212\n"
          ]
        },
        {
          "data": {
            "text/html": [
              "\n",
              "            <iframe id=\"622f9db3-2857-4a80-b790-be882ddaf601\" src=\"https://hub.graphistry.com/graph/graph.html?dataset=c1bccf8762ea4ced902624dc2c26612b&type=arrow&viztoken=d70114f6-6fe4-4ffe-80f5-d45790f8a6a3&usertag=fe5494cc-pygraphistry-0.35.4+66.g9a3a886&splashAfter=1736535062&info=true\"\n",
              "                    allowfullscreen=\"true\" webkitallowfullscreen=\"true\" mozallowfullscreen=\"true\"\n",
              "                    oallowfullscreen=\"true\" msallowfullscreen=\"true\"\n",
              "                    style=\"width:100%; height:500px; border: 1px solid #DDD; overflow: hidden\"\n",
              "                    \n",
              "            >\n",
              "            </iframe>\n",
              "        \n",
              "            <script>\n",
              "                try {\n",
              "                  $(\"#622f9db3-2857-4a80-b790-be882ddaf601\").bind('mousewheel', function(e) { e.preventDefault(); });\n",
              "                } catch (e) { console.error('exn catching scroll', e); }\n",
              "            </script>\n",
              "        "
            ],
            "text/plain": [
              "<IPython.core.display.HTML object>"
            ]
          },
          "execution_count": 5,
          "metadata": {},
          "output_type": "execute_result"
        }
      ],
      "source": [
        "g2b = graphistry.hypergraph(df, ['attackerIP', 'victimIP', 'vulnName'], direct=True, opts={\n",
        "    'EDGES': {\n",
        "        'attackerIP': ['victimIP', 'vulnName'],\n",
        "        'vulnName': ['victimIP']\n",
        "    }\n",
        "    'CATEGORIES': {\n",
        "        'ip': ['attackerIP', 'victimIP']\n",
        "    }\n",
        "})['graph']\n",
        "g2b = g2b.encode_point_color('category', categorical_mapping={'ip': 'grey', 'vulnName': 'orange'}, as_categorical=True)\n",
        "g2b.plot()"
      ]
    },
    {
      "cell_type": "markdown",
      "metadata": {
        "id": "QyrkJh9Snkvq"
      },
      "source": [
        "## 3. **AI - UMAP**: Automatically link entities with similar properties"
      ]
    },
    {
      "cell_type": "code",
      "execution_count": 19,
      "metadata": {
        "colab": {
          "base_uri": "https://localhost:8080/",
          "height": 543
        },
        "id": "LOIEkHKbetnY",
        "outputId": "8e996444-cda0-43fd-8625-097e49b387f3"
      },
      "outputs": [
        {
          "data": {
            "text/html": [
              "\n",
              "            <iframe id=\"9a7f2817-549a-4a3c-b5b8-78f639e45910\" src=\"https://hub.graphistry.com/graph/graph.html?dataset=f7eb250ca6a343dbad863dcff894b045&type=arrow&viztoken=4cb3ef95-048e-41ac-8648-475320a399b4&usertag=fe5494cc-pygraphistry-0.35.4+66.g9a3a886&splashAfter=1736543122&info=true&play=0\"\n",
              "                    allowfullscreen=\"true\" webkitallowfullscreen=\"true\" mozallowfullscreen=\"true\"\n",
              "                    oallowfullscreen=\"true\" msallowfullscreen=\"true\"\n",
              "                    style=\"width:100%; height:500px; border: 1px solid #DDD; overflow: hidden\"\n",
              "                    \n",
              "            >\n",
              "            </iframe>\n",
              "        \n",
              "            <script>\n",
              "                try {\n",
              "                  $(\"#9a7f2817-549a-4a3c-b5b8-78f639e45910\").bind('mousewheel', function(e) { e.preventDefault(); });\n",
              "                } catch (e) { console.error('exn catching scroll', e); }\n",
              "            </script>\n",
              "        "
            ],
            "text/plain": [
              "<IPython.core.display.HTML object>"
            ]
          },
          "execution_count": 19,
          "metadata": {},
          "output_type": "execute_result"
        }
      ],
      "source": [
        "#g3.reset_caches()\n",
        "g3 = graphistry.nodes(df).umap(X=['attackerIP',\t'victimIP',\t'victimPort',\t'vulnName',\t'count',\t'time(max)',\t'time(min)'])\n",
        "g3.plot()"
      ]
    },
    {
      "cell_type": "code",
      "execution_count": 16,
      "metadata": {
        "colab": {
          "base_uri": "https://localhost:8080/"
        },
        "id": "ei8RGxxnf_rM",
        "outputId": "f26dd2d1-0bc9-4789-f39a-17ada1ce510c"
      },
      "outputs": [
        {
          "data": {
            "text/plain": [
              "1"
            ]
          },
          "execution_count": 16,
          "metadata": {},
          "output_type": "execute_result"
        }
      ],
      "source": []
    },
    {
      "cell_type": "markdown",
      "metadata": {
        "id": "Iz_YF9hzoOSj"
      },
      "source": [
        "## Next steps\n",
        "\n",
        "* Learn:\n",
        "  * [pygraphistry](https://github.com/graphistry/pygraphistry):\n",
        "    - [10 minutes to PyGraphistry](https://pygraphistry.readthedocs.io/en/latest/10min.html)\n",
        "    - [10 minutes to the GFQL dataframe-native graph query language](https://pygraphistry.readthedocs.io/en/latest/gfql/about.html)\n",
        "    - [PyGraphistry[AI]](https://pygraphistry.readthedocs.io/en/latest/demos/talks/infosec_jupyterthon2022/rgcn_login_anomaly_detection/intro-story.html)\n",
        "  * [JavaScript, REST, and other bindings](https://hub.graphistry.com/docs/)\n",
        "* Try:\n",
        "  * [Install](https://pypi.org/project/graphistry/) the pygraphistry client\n",
        "  * [Create](https://www.graphistry.com/get-started) a free Graphistry Hub GPU account and even [host your own GPU server](https://www.graphistry.com/get-started)\n",
        "  * ... Then login and [try the file uploader](https://www.graphistry.com/blog/no-code-file-uploader-hypergraph)!\n",
        "\n",
        "* Explore more of the Graphistry ecosystem:\n",
        "  * [Graphistry Hub & Servers](https://www.graphistry.com/get-started)\n",
        "  * [Louie.AI](https://louie.ai/): GenAI-first notebooks, dashboards, and pipelines, including for working with Graphistry\n",
        "  * Dashboards: Use in Snowflake's [Streamlit](https://github.com/graphistry/graph-app-kit), [Databricks](https://github.com/graphistry/pygraphistry/tree/master/demos/demos_databases_apis/databricks_pyspark), [PowerBI](https://www.graphistry.com/graphistry-for-powerbi), and more\n",
        "  * [GFQL: The first dataframe-name graph query language](https://pygraphistry.readthedocs.io/en/latest/gfql/about.html), our new open source system, including optional GPU acceleration and ability to switch between local & remote execution\n",
        "\n",
        "\n"
      ]
    },
    {
      "cell_type": "code",
      "execution_count": null,
      "metadata": {
        "id": "-TGBwgfNgATr"
      },
      "outputs": [],
      "source": []
    }
  ],
  "metadata": {
    "colab": {
      "provenance": [],
      "toc_visible": true
    },
    "kernelspec": {
      "display_name": "lui",
      "language": "python",
      "name": "python3"
    },
    "language_info": {
      "codemirror_mode": {
        "name": "ipython",
        "version": 3
      },
      "file_extension": ".py",
      "mimetype": "text/x-python",
      "name": "python",
      "nbconvert_exporter": "python",
      "pygments_lexer": "ipython3",
      "version": "3.9.7"
    }
  },
  "nbformat": 4,
  "nbformat_minor": 0
}
