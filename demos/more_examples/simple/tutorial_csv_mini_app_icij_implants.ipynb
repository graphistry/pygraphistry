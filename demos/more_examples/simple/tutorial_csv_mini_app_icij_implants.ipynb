{
 "cells": [
  {
   "cell_type": "markdown",
   "metadata": {
    "colab_type": "text",
    "id": "EXVErRL2I6Yo"
   },
   "source": [
    "# Visualize CSV Mini-App\n",
    "\n",
    "* Jupyter: `File` -> `Make a copy`  \n",
    "  Colab: `File` -> `Save a copy in Drive`\n",
    "* Run notebook cells by pressing `shift-enter`\n",
    "* Either edit annd run top cells one-by-one, or edit and run the self-contained version at the bottom"
   ]
  },
  {
   "cell_type": "code",
   "execution_count": 1,
   "metadata": {
    "colab": {},
    "colab_type": "code",
    "id": "vHq51pLCXsCt"
   },
   "outputs": [],
   "source": [
    "#!pip install graphistry -q"
   ]
  },
  {
   "cell_type": "code",
   "execution_count": 2,
   "metadata": {
    "colab": {},
    "colab_type": "code",
    "id": "GlqptXF_YYfI"
   },
   "outputs": [],
   "source": [
    "import pandas as pd\n",
    "import graphistry\n",
    "#graphistry.register(key='MY_KEY', server='labs.graphistry.com')"
   ]
  },
  {
   "cell_type": "markdown",
   "metadata": {
    "colab_type": "text",
    "id": "HmjaYTFkYlTJ"
   },
   "source": [
    "## 1. Upload csv\n",
    "\n",
    "Use a file by uploading it or via URL. \n",
    "\n",
    "Run `help(pd.read_csv)` for more options.\n",
    "\n",
    "### File Upload: Jupyter Notebooks\n",
    "* If circle on top right not green, click `kernel` -> `reconnect`\n",
    "* Go to file directory (`/tree`) by clicking the Jupyter logo\n",
    "* Navigate to the directory page containing your notebook\n",
    "* Press the `upload` button on the top right\n",
    "\n",
    "### File Upload: Google Colab\n",
    "\n",
    "* Open the left sidebar by pressing the right arrow on the left\n",
    "* Go to the `Files` tab\n",
    "* Press `UPLOAD`\n",
    "* Make sure goes into `/content`\n",
    "\n",
    "### File Upload: URL\n",
    "* Uncomment below line and put in the actual data url\n",
    "* Run `help(pd.read_csv)` for more options\n"
   ]
  },
  {
   "cell_type": "code",
   "execution_count": 3,
   "metadata": {
    "colab": {},
    "colab_type": "code",
    "id": "PLpvx-TzYhNk"
   },
   "outputs": [
    {
     "name": "stdout",
     "output_type": "stream",
     "text": [
      "# rows 92883\n"
     ]
    },
    {
     "name": "stderr",
     "output_type": "stream",
     "text": [
      "/usr/local/lib/python3.6/dist-packages/IPython/core/interactiveshell.py:3049: DtypeWarning: Columns (4,15,23) have mixed types. Specify dtype option on import or set low_memory=False.\n",
      "  interactivity=interactivity, compiler=compiler, result=result)\n"
     ]
    },
    {
     "data": {
      "text/html": [
       "<div>\n",
       "<style scoped>\n",
       "    .dataframe tbody tr th:only-of-type {\n",
       "        vertical-align: middle;\n",
       "    }\n",
       "\n",
       "    .dataframe tbody tr th {\n",
       "        vertical-align: top;\n",
       "    }\n",
       "\n",
       "    .dataframe thead th {\n",
       "        text-align: right;\n",
       "    }\n",
       "</style>\n",
       "<table border=\"1\" class=\"dataframe\">\n",
       "  <thead>\n",
       "    <tr style=\"text-align: right;\">\n",
       "      <th></th>\n",
       "      <th>id</th>\n",
       "      <th>action</th>\n",
       "      <th>action_classification</th>\n",
       "      <th>action_level</th>\n",
       "      <th>action_summary</th>\n",
       "      <th>authorities_link</th>\n",
       "      <th>country</th>\n",
       "      <th>create_date</th>\n",
       "      <th>data_notes</th>\n",
       "      <th>date</th>\n",
       "      <th>...</th>\n",
       "      <th>status</th>\n",
       "      <th>target_audience</th>\n",
       "      <th>type</th>\n",
       "      <th>uid</th>\n",
       "      <th>uid_hash</th>\n",
       "      <th>url</th>\n",
       "      <th>slug</th>\n",
       "      <th>device_id</th>\n",
       "      <th>created_at</th>\n",
       "      <th>updated_at</th>\n",
       "    </tr>\n",
       "  </thead>\n",
       "  <tbody>\n",
       "    <tr>\n",
       "      <th>47601</th>\n",
       "      <td>54812</td>\n",
       "      <td>NaN</td>\n",
       "      <td>II</td>\n",
       "      <td>NaN</td>\n",
       "      <td>NaN</td>\n",
       "      <td>http://www.healthycanadians.gc.ca/recall-alert...</td>\n",
       "      <td>CAN</td>\n",
       "      <td>NaN</td>\n",
       "      <td>NaN</td>\n",
       "      <td>NaN</td>\n",
       "      <td>...</td>\n",
       "      <td>NaN</td>\n",
       "      <td>NaN</td>\n",
       "      <td>Recall</td>\n",
       "      <td>23061</td>\n",
       "      <td>02f800fd</td>\n",
       "      <td>NaN</td>\n",
       "      <td>can-architect-i-system-stat-troponin-i-assay</td>\n",
       "      <td>51467</td>\n",
       "      <td>2019-02-27 11:17:58 UTC</td>\n",
       "      <td>2019-02-27 11:17:58 UTC</td>\n",
       "    </tr>\n",
       "    <tr>\n",
       "      <th>23227</th>\n",
       "      <td>26969</td>\n",
       "      <td>NaN</td>\n",
       "      <td>NaN</td>\n",
       "      <td>NaN</td>\n",
       "      <td>NaN</td>\n",
       "      <td>https://www.swissmedic.ch/swissmedic/de/home.html</td>\n",
       "      <td>CHE</td>\n",
       "      <td>NaN</td>\n",
       "      <td>NaN</td>\n",
       "      <td>NaN</td>\n",
       "      <td>...</td>\n",
       "      <td>NaN</td>\n",
       "      <td>NaN</td>\n",
       "      <td>Field Safety Notice</td>\n",
       "      <td>Vk_20080826_01</td>\n",
       "      <td>1c3b037b</td>\n",
       "      <td>https://fsca.swissmedic.ch/mep/#?q=Vk_20080826_01</td>\n",
       "      <td>che-hd3-diagnostic-ultrasound-system-model-cat...</td>\n",
       "      <td>24987</td>\n",
       "      <td>2019-02-27 10:54:39 UTC</td>\n",
       "      <td>2019-02-27 10:54:39 UTC</td>\n",
       "    </tr>\n",
       "    <tr>\n",
       "      <th>88819</th>\n",
       "      <td>103605</td>\n",
       "      <td>Products should be taken out of service.</td>\n",
       "      <td>NaN</td>\n",
       "      <td>NaN</td>\n",
       "      <td>Recall/Exchange</td>\n",
       "      <td>https://lakemedelsverket.se/</td>\n",
       "      <td>SWE</td>\n",
       "      <td>NaN</td>\n",
       "      <td>CHC 13-02</td>\n",
       "      <td>NaN</td>\n",
       "      <td>...</td>\n",
       "      <td>NaN</td>\n",
       "      <td>NaN</td>\n",
       "      <td>Field Safety Notice</td>\n",
       "      <td>6.6.4-2013-51906</td>\n",
       "      <td>1a780322</td>\n",
       "      <td>https://lakemedelsverket.se/malgrupp/Halso---s...</td>\n",
       "      <td>swe-total-protein_2-urine-upro_2-on-advia-chem...</td>\n",
       "      <td>98325</td>\n",
       "      <td>2019-02-28 08:58:19 UTC</td>\n",
       "      <td>2019-02-28 08:58:19 UTC</td>\n",
       "    </tr>\n",
       "  </tbody>\n",
       "</table>\n",
       "<p>3 rows × 30 columns</p>\n",
       "</div>"
      ],
      "text/plain": [
       "           id                                    action action_classification  \\\n",
       "47601   54812                                       NaN                    II   \n",
       "23227   26969                                       NaN                   NaN   \n",
       "88819  103605  Products should be taken out of service.                   NaN   \n",
       "\n",
       "       action_level   action_summary  \\\n",
       "47601           NaN              NaN   \n",
       "23227           NaN              NaN   \n",
       "88819           NaN  Recall/Exchange   \n",
       "\n",
       "                                        authorities_link country create_date  \\\n",
       "47601  http://www.healthycanadians.gc.ca/recall-alert...     CAN         NaN   \n",
       "23227  https://www.swissmedic.ch/swissmedic/de/home.html     CHE         NaN   \n",
       "88819                       https://lakemedelsverket.se/     SWE         NaN   \n",
       "\n",
       "      data_notes date  ... status target_audience                 type  \\\n",
       "47601        NaN  NaN  ...    NaN             NaN               Recall   \n",
       "23227        NaN  NaN  ...    NaN             NaN  Field Safety Notice   \n",
       "88819  CHC 13-02  NaN  ...    NaN             NaN  Field Safety Notice   \n",
       "\n",
       "                    uid  uid_hash  \\\n",
       "47601             23061  02f800fd   \n",
       "23227    Vk_20080826_01  1c3b037b   \n",
       "88819  6.6.4-2013-51906  1a780322   \n",
       "\n",
       "                                                     url  \\\n",
       "47601                                                NaN   \n",
       "23227  https://fsca.swissmedic.ch/mep/#?q=Vk_20080826_01   \n",
       "88819  https://lakemedelsverket.se/malgrupp/Halso---s...   \n",
       "\n",
       "                                                    slug device_id  \\\n",
       "47601       can-architect-i-system-stat-troponin-i-assay     51467   \n",
       "23227  che-hd3-diagnostic-ultrasound-system-model-cat...     24987   \n",
       "88819  swe-total-protein_2-urine-upro_2-on-advia-chem...     98325   \n",
       "\n",
       "                    created_at               updated_at  \n",
       "47601  2019-02-27 11:17:58 UTC  2019-02-27 11:17:58 UTC  \n",
       "23227  2019-02-27 10:54:39 UTC  2019-02-27 10:54:39 UTC  \n",
       "88819  2019-02-28 08:58:19 UTC  2019-02-28 08:58:19 UTC  \n",
       "\n",
       "[3 rows x 30 columns]"
      ]
     },
     "execution_count": 3,
     "metadata": {},
     "output_type": "execute_result"
    }
   ],
   "source": [
    "file_path = './events-1551346702.csv'\n",
    "df = pd.read_csv(file_path)\n",
    "\n",
    "print('# rows', len(df))\n",
    "df.sample(min(len(df), 3))"
   ]
  },
  {
   "cell_type": "code",
   "execution_count": 4,
   "metadata": {},
   "outputs": [
    {
     "data": {
      "text/plain": [
       "Index(['id', 'action', 'action_classification', 'action_level',\n",
       "       'action_summary', 'authorities_link', 'country', 'create_date',\n",
       "       'data_notes', 'date', 'date_initiated_by_firm', 'date_posted',\n",
       "       'date_terminated', 'date_updated', 'determined_cause', 'documents',\n",
       "       'icij_notes', 'number', 'reason', 'source', 'status', 'target_audience',\n",
       "       'type', 'uid', 'uid_hash', 'url', 'slug', 'device_id', 'created_at',\n",
       "       'updated_at'],\n",
       "      dtype='object')"
      ]
     },
     "execution_count": 4,
     "metadata": {},
     "output_type": "execute_result"
    }
   ],
   "source": [
    "df.columns"
   ]
  },
  {
   "cell_type": "markdown",
   "metadata": {
    "colab_type": "text",
    "id": "NqcxxVN3YqrT"
   },
   "source": [
    "# 2. Optional: Clean up CSV"
   ]
  },
  {
   "cell_type": "code",
   "execution_count": 8,
   "metadata": {
    "colab": {
     "base_uri": "https://localhost:8080/",
     "height": 191
    },
    "colab_type": "code",
    "id": "CZPNysArYroP",
    "outputId": "3f9caf24-a697-463a-dd9c-0a6b5da90608"
   },
   "outputs": [
    {
     "data": {
      "text/html": [
       "<div>\n",
       "<style scoped>\n",
       "    .dataframe tbody tr th:only-of-type {\n",
       "        vertical-align: middle;\n",
       "    }\n",
       "\n",
       "    .dataframe tbody tr th {\n",
       "        vertical-align: top;\n",
       "    }\n",
       "\n",
       "    .dataframe thead th {\n",
       "        text-align: right;\n",
       "    }\n",
       "</style>\n",
       "<table border=\"1\" class=\"dataframe\">\n",
       "  <thead>\n",
       "    <tr style=\"text-align: right;\">\n",
       "      <th></th>\n",
       "      <th>col</th>\n",
       "      <th>num_uniq</th>\n",
       "    </tr>\n",
       "  </thead>\n",
       "  <tbody>\n",
       "    <tr>\n",
       "      <th>2</th>\n",
       "      <td>action_classification</td>\n",
       "      <td>11</td>\n",
       "    </tr>\n",
       "    <tr>\n",
       "      <th>6</th>\n",
       "      <td>country</td>\n",
       "      <td>19</td>\n",
       "    </tr>\n",
       "    <tr>\n",
       "      <th>19</th>\n",
       "      <td>source</td>\n",
       "      <td>19</td>\n",
       "    </tr>\n",
       "    <tr>\n",
       "      <th>16</th>\n",
       "      <td>icij_notes</td>\n",
       "      <td>20</td>\n",
       "    </tr>\n",
       "    <tr>\n",
       "      <th>14</th>\n",
       "      <td>determined_cause</td>\n",
       "      <td>44</td>\n",
       "    </tr>\n",
       "    <tr>\n",
       "      <th>20</th>\n",
       "      <td>status</td>\n",
       "      <td>279</td>\n",
       "    </tr>\n",
       "    <tr>\n",
       "      <th>7</th>\n",
       "      <td>create_date</td>\n",
       "      <td>629</td>\n",
       "    </tr>\n",
       "    <tr>\n",
       "      <th>12</th>\n",
       "      <td>date_terminated</td>\n",
       "      <td>3277</td>\n",
       "    </tr>\n",
       "    <tr>\n",
       "      <th>11</th>\n",
       "      <td>date_posted</td>\n",
       "      <td>3279</td>\n",
       "    </tr>\n",
       "    <tr>\n",
       "      <th>9</th>\n",
       "      <td>date</td>\n",
       "      <td>3857</td>\n",
       "    </tr>\n",
       "    <tr>\n",
       "      <th>10</th>\n",
       "      <td>date_initiated_by_firm</td>\n",
       "      <td>5416</td>\n",
       "    </tr>\n",
       "    <tr>\n",
       "      <th>29</th>\n",
       "      <td>updated_at</td>\n",
       "      <td>5489</td>\n",
       "    </tr>\n",
       "    <tr>\n",
       "      <th>28</th>\n",
       "      <td>created_at</td>\n",
       "      <td>5489</td>\n",
       "    </tr>\n",
       "  </tbody>\n",
       "</table>\n",
       "</div>"
      ],
      "text/plain": [
       "                       col  num_uniq\n",
       "2    action_classification        11\n",
       "6                  country        19\n",
       "19                  source        19\n",
       "16              icij_notes        20\n",
       "14        determined_cause        44\n",
       "20                  status       279\n",
       "7              create_date       629\n",
       "12         date_terminated      3277\n",
       "11             date_posted      3279\n",
       "9                     date      3857\n",
       "10  date_initiated_by_firm      5416\n",
       "29              updated_at      5489\n",
       "28              created_at      5489"
      ]
     },
     "execution_count": 8,
     "metadata": {},
     "output_type": "execute_result"
    }
   ],
   "source": [
    "hits = pd.DataFrame([[c, len(df[c].unique())] for c in df.columns], columns=['col', 'num_uniq']).sort_values('num_uniq')\n",
    "\n",
    "hits.query('num_uniq > 10 & num_uniq < 9288')"
   ]
  },
  {
   "cell_type": "code",
   "execution_count": 10,
   "metadata": {},
   "outputs": [
    {
     "data": {
      "text/plain": [
       "['create_date',\n",
       " 'date_terminated',\n",
       " 'date_posted',\n",
       " 'date',\n",
       " 'date_initiated_by_firm',\n",
       " 'updated_at',\n",
       " 'created_at']"
      ]
     },
     "execution_count": 10,
     "metadata": {},
     "output_type": "execute_result"
    }
   ],
   "source": [
    "skip_nodes = ['icij_notes', 'determined_cause', 'action_classification', 'icij_notes', 'country', 'status', 'source']\n",
    "nodes = [x for x in list(hits.query('num_uniq > 10 & num_uniq < 9288')['col']) if not x in skip_nodes]\n",
    "\n",
    "nodes"
   ]
  },
  {
   "cell_type": "code",
   "execution_count": 12,
   "metadata": {},
   "outputs": [],
   "source": [
    "df = df_orig.query('country == \"USA\"')"
   ]
  },
  {
   "cell_type": "markdown",
   "metadata": {
    "colab_type": "text",
    "id": "6Bz1vzVlmnqy"
   },
   "source": [
    "# 3. Configure: Visualize with 3 kinds of graphs\n",
    "\n",
    "Set `mode` and the corresponding values:\n",
    "\n",
    "### Mode \"A\". See graph from table of (src,dst) edges\n",
    "\n",
    "### Mode \"B\". See hypergraph: Draw row as node and connect it to entities in same row\n",
    "* Pick which cols to make nodes\n",
    "* If multiple cols share same type (e.g., \"src_ip\", \"dest_ip\" are both \"ip\"), unify them\n",
    "\n",
    "### Mode \"C\". See by creating multiple nodes, edges per row\n",
    "* Pick how different column values point to other column values \n",
    "* If multiple cols share same type (e.g., \"src_ip\", \"dest_ip\" are both \"ip\"), unify them"
   ]
  },
  {
   "cell_type": "code",
   "execution_count": 13,
   "metadata": {
    "colab": {},
    "colab_type": "code",
    "id": "9x0jTxU4J392"
   },
   "outputs": [],
   "source": [
    "#Pick 'A', 'B', or 'C'\n",
    "mode = 'B' \n",
    "max_rows = 50000\n",
    "\n",
    "\n",
    "### 'A' == mode\n",
    "my_src_col = 'attackerIP'\n",
    "my_dest_col = 'victimIP'\n",
    "\n",
    "\n",
    "\n",
    "### 'B' == mode\n",
    "node_cols = nodes\n",
    "categories = { #optional\n",
    "    #'date': [ 'create_date', 'date_initiated_by_firm', 'date_posted', 'date_terminated', 'updated_at' ]\n",
    "    #'ip': ['attacker_IP', 'victimIP']\n",
    "    #, 'user': ['owner', 'seller'],\n",
    "}\n",
    "\n",
    "\n",
    "\n",
    "### 'C' == mode\n",
    "edges = {\n",
    "      'attackerIP': [ 'victimIP', 'victimPort', 'vulnName'],\n",
    "      'victimIP': [ 'victimPort'],\n",
    "      'vulnName': [ 'victimIP' ]\n",
    "}\n",
    "categories = { #optional\n",
    "      'ip': ['attackerIP', 'victimIP']\n",
    "       #, user': ['owner', 'seller'], ...\n",
    "}"
   ]
  },
  {
   "cell_type": "markdown",
   "metadata": {
    "colab_type": "text",
    "id": "MalZgEK3qTKd"
   },
   "source": [
    "# 4. Plot: Upload & render!\n",
    "* See UI guide: https://labs.graphistry.com/graphistry/ui.html"
   ]
  },
  {
   "cell_type": "code",
   "execution_count": 14,
   "metadata": {
    "colab": {
     "base_uri": "https://localhost:8080/",
     "height": 85
    },
    "colab_type": "code",
    "id": "e_3FTqOZpgFX",
    "outputId": "de06c205-4604-4cd5-a0b9-997235b3044b"
   },
   "outputs": [
    {
     "name": "stdout",
     "output_type": "stream",
     "text": [
      "# links 173770\n",
      "# events 35826\n",
      "# attrib entities 14368\n",
      "173770\n",
      "Uploading 84603 kB. This may take a while...\n"
     ]
    },
    {
     "data": {
      "text/html": [
       "\n",
       "            <iframe id=\"6f8f4c87-c383-452a-afda-c1863d95ed67\" src=\"http:/graph/graph.html?dataset=85567d1e09f4536bab0e5a261a390ed6&type=vgraph&viztoken=0515f1eed90141fe86ee91ab75fdefd6&usertag=8f43a85d-pygraphistry-0.9.64&splashAfter=1556672711&info=true\"\n",
       "                    allowfullscreen=\"true\" webkitallowfullscreen=\"true\" mozallowfullscreen=\"true\"\n",
       "                    oallowfullscreen=\"true\" msallowfullscreen=\"true\"\n",
       "                    style=\"width:100%; height:500px; border: 1px solid #DDD\">\n",
       "            </iframe>\n",
       "        \n",
       "            <script>\n",
       "                $(\"#6f8f4c87-c383-452a-afda-c1863d95ed67\").bind('mousewheel', function(e) {\n",
       "                e.preventDefault();\n",
       "                });\n",
       "            </script>\n",
       "        "
      ],
      "text/plain": [
       "<IPython.core.display.HTML object>"
      ]
     },
     "execution_count": 14,
     "metadata": {},
     "output_type": "execute_result"
    }
   ],
   "source": [
    "g = None\n",
    "hg = None\n",
    "num_rows = min(max_rows, len(df))\n",
    "if mode == 'A':\n",
    "    g = graphistry.edges(df.sample(num_rows)).bind(source=my_src_col, destination=my_dest_col)\n",
    "elif mode == 'B':\n",
    "    hg = graphistry.hypergraph(df.sample(num_rows), node_cols, opts={'CATEGORIES': categories})\n",
    "    g = hg['graph']\n",
    "elif mode == 'C':\n",
    "    nodes = list(edges.keys())\n",
    "    for dests in edges.values():\n",
    "        for dest in dests:\n",
    "            nodes.append(dest)\n",
    "    node_cols = list(set(nodes))\n",
    "    hg = graphistry.hypergraph(df.sample(num_rows), node_cols, direct=True, opts={'CATEGORIES': categories, 'EDGES': edges})\n",
    "    g = hg['graph']\n",
    "  \n",
    "#hg\n",
    "print(len(g._edges))\n",
    "\n",
    "g.plot()"
   ]
  },
  {
   "cell_type": "markdown",
   "metadata": {
    "colab_type": "text",
    "id": "9MFuSsZi1ix8"
   },
   "source": [
    "# Alternative: Combined\n",
    "Split into data loading and cleaning/configuring/plotting."
   ]
  },
  {
   "cell_type": "code",
   "execution_count": 15,
   "metadata": {},
   "outputs": [
    {
     "name": "stdout",
     "output_type": "stream",
     "text": [
      "Index(['id', 'action', 'action_classification', 'action_level',\n",
      "       'action_summary', 'authorities_link', 'country', 'create_date',\n",
      "       'data_notes', 'date', 'date_initiated_by_firm', 'date_posted',\n",
      "       'date_terminated', 'date_updated', 'determined_cause', 'documents',\n",
      "       'icij_notes', 'number', 'reason', 'source', 'status', 'target_audience',\n",
      "       'type', 'uid', 'uid_hash', 'url', 'slug', 'device_id', 'created_at',\n",
      "       'updated_at'],\n",
      "      dtype='object')\n",
      "rows: 92883\n",
      "           id                                             action  \\\n",
      "47246   54457                                                NaN   \n",
      "90383  105169  ANSM has been informed of the implementation o...   \n",
      "51788   58999                                                NaN   \n",
      "\n",
      "      action_classification  action_level  \\\n",
      "47246                    II           NaN   \n",
      "90383                   NaN           NaN   \n",
      "51788                    II           NaN   \n",
      "\n",
      "                                          action_summary  \\\n",
      "47246                                                NaN   \n",
      "90383  Surgical Motor - Conmed Hall L3000SM Small Lit...   \n",
      "51788                                                NaN   \n",
      "\n",
      "                                        authorities_link country create_date  \\\n",
      "47246  http://www.healthycanadians.gc.ca/recall-alert...     CAN         NaN   \n",
      "90383                         https://www.ansm.sante.fr/     FRA         NaN   \n",
      "51788  http://www.healthycanadians.gc.ca/recall-alert...     CAN         NaN   \n",
      "\n",
      "      data_notes        date  ... status target_audience    type       uid  \\\n",
      "47246        NaN         NaN  ...    NaN             NaN  Recall     21796   \n",
      "90383        NaN  2018-07-25  ...    NaN             NaN  Recall  R1811289   \n",
      "51788        NaN         NaN  ...    NaN             NaN  Recall     50818   \n",
      "\n",
      "       uid_hash                                                url  \\\n",
      "47246  0310010a                                                NaN   \n",
      "90383  083701c1  https://ansm.sante.fr/S-informer/Informations-...   \n",
      "51788  03100107                                                NaN   \n",
      "\n",
      "                                            slug device_id  \\\n",
      "47246  can-encode-lab-designed-zirconia-abutment     51116   \n",
      "90383   fra-hall-l3000sm-small-lithium-batteries     99819   \n",
      "51788                 can-chemosite-system-ports     55584   \n",
      "\n",
      "                    created_at               updated_at  \n",
      "47246  2019-02-27 11:17:35 UTC  2019-02-27 11:17:35 UTC  \n",
      "90383  2019-02-28 09:05:31 UTC  2019-02-28 09:05:31 UTC  \n",
      "51788  2019-02-27 11:22:40 UTC  2019-02-27 11:22:40 UTC  \n",
      "\n",
      "[3 rows x 30 columns]\n"
     ]
    }
   ],
   "source": [
    "#!pip install graphistry -q\n",
    "import pandas as pd\n",
    "import graphistry\n",
    "#graphistry.register(key='MY_KEY', server='labs.graphistry.com')\n",
    "\n",
    "\n",
    "##########\n",
    "#1. Load\n",
    "file_path = './events-1551346702.csv'\n",
    "df = pd.read_csv(file_path)\n",
    "\n",
    "print(df.columns)\n",
    "print('rows:', len(df))\n",
    "print(df.sample(min(len(df),3)))"
   ]
  },
  {
   "cell_type": "code",
   "execution_count": 16,
   "metadata": {
    "colab": {
     "base_uri": "https://localhost:8080/",
     "height": 368
    },
    "colab_type": "code",
    "id": "i0iFtTN5wRfJ",
    "outputId": "dc6b9545-fd26-406e-9086-77f3e32e4bb5"
   },
   "outputs": [
    {
     "name": "stdout",
     "output_type": "stream",
     "text": [
      "# links 173770\n",
      "# events 35826\n",
      "# attrib entities 14368\n",
      "Uploading 84590 kB. This may take a while...\n"
     ]
    },
    {
     "data": {
      "text/html": [
       "\n",
       "            <iframe id=\"40b23da4-d3fd-42d1-b379-64cd3d7b07ca\" src=\"http:/graph/graph.html?dataset=e3c472995a5252338a77f40e4620a283&type=vgraph&viztoken=2c85a516130a46d2acb48c1af5bd32bd&usertag=8f43a85d-pygraphistry-0.9.64&splashAfter=1556672823&info=true\"\n",
       "                    allowfullscreen=\"true\" webkitallowfullscreen=\"true\" mozallowfullscreen=\"true\"\n",
       "                    oallowfullscreen=\"true\" msallowfullscreen=\"true\"\n",
       "                    style=\"width:100%; height:500px; border: 1px solid #DDD\">\n",
       "            </iframe>\n",
       "        \n",
       "            <script>\n",
       "                $(\"#40b23da4-d3fd-42d1-b379-64cd3d7b07ca\").bind('mousewheel', function(e) {\n",
       "                e.preventDefault();\n",
       "                });\n",
       "            </script>\n",
       "        "
      ],
      "text/plain": [
       "<IPython.core.display.HTML object>"
      ]
     },
     "execution_count": 16,
     "metadata": {},
     "output_type": "execute_result"
    }
   ],
   "source": [
    "##########\n",
    "#2. Clean\n",
    "#df = df.rename(columns={'attackerIP': 'src_ip', 'victimIP: 'dest_ip', 'victimPort': 'protocol'})\n",
    "\n",
    "hits = pd.DataFrame([[c, len(df[c].unique())] for c in df.columns], columns=['col', 'num_uniq']).sort_values('num_uniq')\n",
    "\n",
    "\n",
    "skip_nodes = ['icij_notes', 'determined_cause', 'action_classification', 'icij_notes', 'country', 'status', 'source']\n",
    "nodes = [x for x in list(hits.query('num_uniq > 10 & num_uniq < 9288')['col']) if not x in skip_nodes]\n",
    "\n",
    "df = df.query('country == \"USA\"')\n",
    "    \n",
    "##########\n",
    "#3. Config - Pick 'A', 'B', or 'C'\n",
    "mode = 'B' \n",
    "max_rows = 50000\n",
    "\n",
    "\n",
    "### 'A' == mode\n",
    "my_src_col = 'attackerIP'\n",
    "my_dest_col = 'victimIP'\n",
    "\n",
    "### 'B' == mode\n",
    "node_cols = nodes\n",
    "categories = { #optional\n",
    "    #'ip': ['src_ip', 'dest_ip']\n",
    "    #, 'user': ['owner', 'seller'],\n",
    "}\n",
    "\n",
    "### 'C' == mode\n",
    "edges = {\n",
    "    'attackerIP': [ 'victimIP', 'victimPort', 'vulnName'],\n",
    "    'victimIP': [ 'victimPort' ],\n",
    "    'vulnName': ['victimIP' ]\n",
    "}\n",
    "categories = { #optional\n",
    "    #'ip': ['attackerIP', 'victimIP']\n",
    "    #, 'user': ['owner', 'seller'], ...\n",
    "}\n",
    "\n",
    "##########\n",
    "#4. Plot\n",
    "g = None\n",
    "hg = None\n",
    "num_rows = min(max_rows, len(df))\n",
    "if mode == 'A':\n",
    "    g = graphistry.edges(df.sample(num_rows)).bind(source=my_src_col, destination=my_dest_col)\n",
    "elif mode == 'B':\n",
    "    hg = graphistry.hypergraph(df.sample(num_rows), node_cols, opts={'CATEGORIES': categories})\n",
    "    g = hg['graph']\n",
    "elif mode == 'C':\n",
    "    nodes = list(edges.keys())\n",
    "    for dests in edges.values():\n",
    "        for dest in dests:\n",
    "            nodes.append(dest)\n",
    "    node_cols = list(set(nodes))\n",
    "    hg = graphistry.hypergraph(df.sample(num_rows), node_cols, direct=True, opts={'CATEGORIES': categories, 'EDGES': edges})\n",
    "    g = hg['graph']\n",
    "  \n",
    "\n",
    "g.plot()"
   ]
  },
  {
   "cell_type": "code",
   "execution_count": null,
   "metadata": {
    "collapsed": true
   },
   "outputs": [],
   "source": []
  }
 ],
 "metadata": {
  "colab": {
   "collapsed_sections": [],
   "name": "upload_csv",
   "provenance": [],
   "version": "0.3.2"
  },
  "kernelspec": {
   "display_name": "Python 3",
   "language": "python",
   "name": "python3"
  },
  "language_info": {
   "codemirror_mode": {
    "name": "ipython",
    "version": 3
   },
   "file_extension": ".py",
   "mimetype": "text/x-python",
   "name": "python",
   "nbconvert_exporter": "python",
   "pygments_lexer": "ipython3",
   "version": "3.6.7"
  }
 },
 "nbformat": 4,
 "nbformat_minor": 1
}
