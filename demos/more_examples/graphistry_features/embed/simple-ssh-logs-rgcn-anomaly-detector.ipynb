{
 "cells": [
  {
   "cell_type": "markdown",
   "id": "76eb9ad5-09ce-4ee1-b04e-518356365c16",
   "metadata": {},
   "source": [
    "# Identity data anomaly detection: SSH session anomaly detection with RGCNs\n",
    "\n",
    "* SSH logs from [secrepo](https://www.secrepo.com/): Replace with any event data\n",
    "* Detects and visualizes anomalous connections based on communication topology & event type\n",
    "* Unsupervised graph neural network: RGCN\n",
    "* Runs on both CPU + GPU: Toggle `is_gpu`\n",
    "\n",
    "See also:\n",
    "* Other pygraphistry[ai] gnn notebooks for more advanced modes like incorporating node features\n",
    "* Intro to RGCNs - [intro-story.ipynb](intro-story.md)\n",
    "* In-depth RGCN - [advanced-identity-protection-40m.ipynb](advanced-identity-protection-40m.ipynb)\n"
   ]
  },
  {
   "cell_type": "markdown",
   "id": "b7c40bb2-d7cc-42c9-a74a-fc7093787f80",
   "metadata": {},
   "source": [
    "## Dependencies & data"
   ]
  },
  {
   "cell_type": "code",
   "execution_count": 1,
   "id": "118cf18d-0751-48d4-8de1-cf255dfd6fea",
   "metadata": {
    "execution": {
     "iopub.execute_input": "2022-12-02T20:52:01.904866Z",
     "iopub.status.busy": "2022-12-02T20:52:01.904775Z",
     "iopub.status.idle": "2022-12-02T20:52:01.907142Z",
     "shell.execute_reply": "2022-12-02T20:52:01.906919Z",
     "shell.execute_reply.started": "2022-12-02T20:52:01.904837Z"
    },
    "tags": []
   },
   "outputs": [],
   "source": [
    "#! pip cache remove graphistry\n",
    "#! pip install --no-cache --user https://github.com/graphistry/pygraphistry/archive/heteroembed.zip\n",
    "\n",
    "#! pip install --user --no-input \"torch==1.11.0\" -f https://download.pytorch.org/whl/cu113/torch_stable.html\n",
    "#! pip install --user dgl-cu113 dglgo -f https://data.dgl.ai/wheels/repo.html\n",
    "! python -c \"import torch; print(torch.cuda.is_available())\""
   ]
  },
  {
   "cell_type": "code",
   "execution_count": 2,
   "id": "ebe3bdc1-1b47-461d-8a0f-1306e5698eba",
   "metadata": {
    "execution": {
     "iopub.execute_input": "2022-12-02T20:52:01.907777Z",
     "iopub.status.busy": "2022-12-02T20:52:01.907687Z",
     "iopub.status.idle": "2022-12-02T20:52:02.078974Z",
     "shell.execute_reply": "2022-12-02T20:52:02.078447Z",
     "shell.execute_reply.started": "2022-12-02T20:52:01.907767Z"
    },
    "tags": []
   },
   "outputs": [
    {
     "name": "stdout",
     "output_type": "stream",
     "text": [
      "1331901011.840000\tCTHcOo3BARDOPDjYue\t192.168.202.68\t53633\t192.168.28.254\t22\tfailure\tINBOUND\tSSH-2.0-OpenSSH_5.0\tSSH-1.99-Cisco-1.25\t-\t-\t-\t-\t-\n",
      "1331901030.210000\tCBHpSz2Zi3rdKbAvwd\t192.168.202.68\t35820\t192.168.23.254\t22\tfailure\tINBOUND\tSSH-2.0-OpenSSH_5.0\tSSH-1.99-Cisco-1.25\t-\t-\t-\t-\t-\n",
      "1331901032.030000\tC2h6wz2S5MWTiAk6Hb\t192.168.202.68\t36254\t192.168.26.254\t22\tfailure\tINBOUND\tSSH-2.0-OpenSSH_5.0\tSSH-1.99-Cisco-1.25\t-\t-\t-\t-\t-\n",
      "1331901034.340000\tCeY76r1JXPbjJS8yKb\t192.168.202.68\t37764\t192.168.27.102\t22\tfailure\tINBOUND\tSSH-2.0-OpenSSH_5.0\tSSH-2.0-OpenSSH_5.8p1 Debian-1ubuntu3\t-\t-\t-\t-\t-\n",
      "1331901041.920000\tCPJHML3uGn4IV2MGWi\t192.168.202.68\t40244\t192.168.27.101\t22\tfailure\tINBOUND\tSSH-2.0-OpenSSH_5.0\tSSH-2.0-OpenSSH_5.8p1 Debian-7ubuntu1\t-\t-\t-\t-\t-\n"
     ]
    }
   ],
   "source": [
    "#! wget https://www.secrepo.com/maccdc2012/ssh.log.gz\n",
    "#! gunzip ssh.log.gz\n",
    "#! ls -alh ssh*\n",
    "! head -n 5 ssh.log"
   ]
  },
  {
   "cell_type": "markdown",
   "id": "70629295-5951-4b3d-a2a5-c42135ba875b",
   "metadata": {},
   "source": [
    "## Imports"
   ]
  },
  {
   "cell_type": "code",
   "execution_count": 3,
   "id": "1dd9d7e4-80fd-4139-8d26-47067bfc7983",
   "metadata": {
    "execution": {
     "iopub.execute_input": "2022-12-02T20:52:02.079957Z",
     "iopub.status.busy": "2022-12-02T20:52:02.079803Z",
     "iopub.status.idle": "2022-12-02T20:52:04.683968Z",
     "shell.execute_reply": "2022-12-02T20:52:04.683621Z",
     "shell.execute_reply.started": "2022-12-02T20:52:02.079936Z"
    }
   },
   "outputs": [],
   "source": [
    "import pandas as pd\n",
    "import graphistry\n",
    "graphistry.register(\n",
    "    #Free gpu server API key: https://www.graphistry.com/get-started\n",
    "    api=3, username='***', password='***',\n",
    "    protocol='https', server='hub.graphistry.com', client_protocol_hostname='https://hub.graphistry.com'\n",
    ")"
   ]
  },
  {
   "cell_type": "markdown",
   "id": "f33f4591-313d-4efd-9265-58a68df03e19",
   "metadata": {},
   "source": [
    "## Load data"
   ]
  },
  {
   "cell_type": "code",
   "execution_count": 4,
   "id": "6404c399-5c62-43d6-a78e-2597ce2e22ef",
   "metadata": {
    "execution": {
     "iopub.execute_input": "2022-12-02T20:52:04.684779Z",
     "iopub.status.busy": "2022-12-02T20:52:04.684623Z",
     "iopub.status.idle": "2022-12-02T20:52:04.709215Z",
     "shell.execute_reply": "2022-12-02T20:52:04.708959Z",
     "shell.execute_reply.started": "2022-12-02T20:52:04.684762Z"
    },
    "tags": []
   },
   "outputs": [
    {
     "data": {
      "text/html": [
       "<div>\n",
       "<style scoped>\n",
       "    .dataframe tbody tr th:only-of-type {\n",
       "        vertical-align: middle;\n",
       "    }\n",
       "\n",
       "    .dataframe tbody tr th {\n",
       "        vertical-align: top;\n",
       "    }\n",
       "\n",
       "    .dataframe thead th {\n",
       "        text-align: right;\n",
       "    }\n",
       "</style>\n",
       "<table border=\"1\" class=\"dataframe\">\n",
       "  <thead>\n",
       "    <tr style=\"text-align: right;\">\n",
       "      <th></th>\n",
       "      <th>time</th>\n",
       "      <th>key</th>\n",
       "      <th>src_ip</th>\n",
       "      <th>src_port</th>\n",
       "      <th>dst_ip</th>\n",
       "      <th>dst_port</th>\n",
       "      <th>msg</th>\n",
       "      <th>dir</th>\n",
       "      <th>o1</th>\n",
       "      <th>o2</th>\n",
       "      <th>o3</th>\n",
       "      <th>o4</th>\n",
       "      <th>o5</th>\n",
       "      <th>o6</th>\n",
       "      <th>7</th>\n",
       "    </tr>\n",
       "  </thead>\n",
       "  <tbody>\n",
       "    <tr>\n",
       "      <th>6174</th>\n",
       "      <td>1.332014e+09</td>\n",
       "      <td>CA7Epl2hovHB7Zm4a9</td>\n",
       "      <td>192.168.202.141</td>\n",
       "      <td>7200</td>\n",
       "      <td>192.168.229.101</td>\n",
       "      <td>22</td>\n",
       "      <td>failure</td>\n",
       "      <td>INBOUND</td>\n",
       "      <td>-</td>\n",
       "      <td>SSH-2.0-OpenSSH_5.8p1 Debian-7ubuntu1</td>\n",
       "      <td>-</td>\n",
       "      <td>-</td>\n",
       "      <td>-</td>\n",
       "      <td>-</td>\n",
       "      <td>-</td>\n",
       "    </tr>\n",
       "    <tr>\n",
       "      <th>1554</th>\n",
       "      <td>1.331919e+09</td>\n",
       "      <td>CwL1tJHLLzytUAaH2</td>\n",
       "      <td>192.168.202.110</td>\n",
       "      <td>49584</td>\n",
       "      <td>192.168.229.101</td>\n",
       "      <td>22</td>\n",
       "      <td>failure</td>\n",
       "      <td>INBOUND</td>\n",
       "      <td>SSH-2.0-OpenSSH_5.0</td>\n",
       "      <td>SSH-2.0-OpenSSH_5.8p1 Debian-7ubuntu1</td>\n",
       "      <td>-</td>\n",
       "      <td>-</td>\n",
       "      <td>-</td>\n",
       "      <td>-</td>\n",
       "      <td>-</td>\n",
       "    </tr>\n",
       "    <tr>\n",
       "      <th>4032</th>\n",
       "      <td>1.332000e+09</td>\n",
       "      <td>C40EOw3sbeRoypxQKi</td>\n",
       "      <td>192.168.202.140</td>\n",
       "      <td>48131</td>\n",
       "      <td>192.168.25.203</td>\n",
       "      <td>22</td>\n",
       "      <td>undetermined</td>\n",
       "      <td>INBOUND</td>\n",
       "      <td>SSH-2.0-OpenSSH_5.0</td>\n",
       "      <td>SSH-2.0-OpenSSH_5.8p1 Debian-1ubuntu3</td>\n",
       "      <td>-</td>\n",
       "      <td>-</td>\n",
       "      <td>-</td>\n",
       "      <td>-</td>\n",
       "      <td>-</td>\n",
       "    </tr>\n",
       "    <tr>\n",
       "      <th>4691</th>\n",
       "      <td>1.332011e+09</td>\n",
       "      <td>CGSKwo4O56EzNTUqN2</td>\n",
       "      <td>192.168.202.90</td>\n",
       "      <td>48951</td>\n",
       "      <td>192.168.23.254</td>\n",
       "      <td>22</td>\n",
       "      <td>failure</td>\n",
       "      <td>INBOUND</td>\n",
       "      <td>SSH-2.0-OpenSSH_5.3p1 Debian-3ubuntu6</td>\n",
       "      <td>SSH-1.99-Cisco-1.25</td>\n",
       "      <td>-</td>\n",
       "      <td>-</td>\n",
       "      <td>-</td>\n",
       "      <td>-</td>\n",
       "      <td>-</td>\n",
       "    </tr>\n",
       "    <tr>\n",
       "      <th>1460</th>\n",
       "      <td>1.331918e+09</td>\n",
       "      <td>CY0O0Q2vWPnFKJAJNe</td>\n",
       "      <td>192.168.204.45</td>\n",
       "      <td>58408</td>\n",
       "      <td>192.168.25.253</td>\n",
       "      <td>22</td>\n",
       "      <td>failure</td>\n",
       "      <td>INBOUND</td>\n",
       "      <td>SSH-2.0-OpenSSH_5.0</td>\n",
       "      <td>SSH-2.0-OpenSSH_4.5</td>\n",
       "      <td>-</td>\n",
       "      <td>-</td>\n",
       "      <td>-</td>\n",
       "      <td>-</td>\n",
       "      <td>-</td>\n",
       "    </tr>\n",
       "  </tbody>\n",
       "</table>\n",
       "</div>"
      ],
      "text/plain": [
       "              time                 key           src_ip  src_port  \\\n",
       "6174  1.332014e+09  CA7Epl2hovHB7Zm4a9  192.168.202.141      7200   \n",
       "1554  1.331919e+09   CwL1tJHLLzytUAaH2  192.168.202.110     49584   \n",
       "4032  1.332000e+09  C40EOw3sbeRoypxQKi  192.168.202.140     48131   \n",
       "4691  1.332011e+09  CGSKwo4O56EzNTUqN2   192.168.202.90     48951   \n",
       "1460  1.331918e+09  CY0O0Q2vWPnFKJAJNe   192.168.204.45     58408   \n",
       "\n",
       "               dst_ip  dst_port           msg      dir  \\\n",
       "6174  192.168.229.101        22       failure  INBOUND   \n",
       "1554  192.168.229.101        22       failure  INBOUND   \n",
       "4032   192.168.25.203        22  undetermined  INBOUND   \n",
       "4691   192.168.23.254        22       failure  INBOUND   \n",
       "1460   192.168.25.253        22       failure  INBOUND   \n",
       "\n",
       "                                         o1  \\\n",
       "6174                                      -   \n",
       "1554                    SSH-2.0-OpenSSH_5.0   \n",
       "4032                    SSH-2.0-OpenSSH_5.0   \n",
       "4691  SSH-2.0-OpenSSH_5.3p1 Debian-3ubuntu6   \n",
       "1460                    SSH-2.0-OpenSSH_5.0   \n",
       "\n",
       "                                         o2 o3 o4 o5 o6  7  \n",
       "6174  SSH-2.0-OpenSSH_5.8p1 Debian-7ubuntu1  -  -  -  -  -  \n",
       "1554  SSH-2.0-OpenSSH_5.8p1 Debian-7ubuntu1  -  -  -  -  -  \n",
       "4032  SSH-2.0-OpenSSH_5.8p1 Debian-1ubuntu3  -  -  -  -  -  \n",
       "4691                    SSH-1.99-Cisco-1.25  -  -  -  -  -  \n",
       "1460                    SSH-2.0-OpenSSH_4.5  -  -  -  -  -  "
      ]
     },
     "execution_count": 4,
     "metadata": {},
     "output_type": "execute_result"
    }
   ],
   "source": [
    "df = pd.read_csv(\n",
    "    './ssh.log', sep='\\t',\n",
    "    names=['time', 'key', 'src_ip', 'src_port', 'dst_ip', 'dst_port', 'msg', 'dir', \n",
    "           'o1', 'o2', 'o3', 'o4', 'o5', 'o6', 'o7']\n",
    ")\n",
    "df.sample(5)"
   ]
  },
  {
   "cell_type": "markdown",
   "id": "4ec52d5f-aabd-4a40-844f-19646f722e9a",
   "metadata": {},
   "source": [
    "## Train\n",
    "\n",
    "* `help(g.embed)` for options\n",
    "* `relation`: pick an edge column to guide learning to weight differently on\n",
    "* See other notebooks for adding node features"
   ]
  },
  {
   "cell_type": "code",
   "execution_count": 5,
   "id": "74f53799-a7df-4212-8454-ef2042e5411d",
   "metadata": {
    "execution": {
     "iopub.execute_input": "2022-12-02T20:52:04.709753Z",
     "iopub.status.busy": "2022-12-02T20:52:04.709648Z",
     "iopub.status.idle": "2022-12-02T20:52:04.711907Z",
     "shell.execute_reply": "2022-12-02T20:52:04.711664Z",
     "shell.execute_reply.started": "2022-12-02T20:52:04.709741Z"
    }
   },
   "outputs": [],
   "source": [
    "is_gpu = True\n",
    "dev0 = 'cpu'\n",
    "if is_gpu:\n",
    "    dev0 = 'cuda'\n",
    "\n",
    "g = graphistry.edges(df, 'src_ip', 'dst_ip')  # graph"
   ]
  },
  {
   "cell_type": "code",
   "execution_count": 6,
   "id": "dbf488b3-2a98-4c19-aa4f-4aef63943412",
   "metadata": {
    "execution": {
     "iopub.execute_input": "2022-12-02T20:52:04.712354Z",
     "iopub.status.busy": "2022-12-02T20:52:04.712254Z",
     "iopub.status.idle": "2022-12-02T20:52:34.396563Z",
     "shell.execute_reply": "2022-12-02T20:52:34.396305Z",
     "shell.execute_reply.started": "2022-12-02T20:52:04.712343Z"
    },
    "tags": []
   },
   "outputs": [
    {
     "name": "stdout",
     "output_type": "stream",
     "text": [
      "Preprocessing embedding data\n",
      "--Splitting data\n",
      "--num_nodes: 97,                 num_relationships: 20\n",
      "Training embedding\n"
     ]
    },
    {
     "name": "stderr",
     "output_type": "stream",
     "text": [
      "epoch: 1, loss: 0.4165, score: 0.0000%:   0%|          | 0/10 [00:03<?, ?it/s]/home/graphistry/.local/lib/python3.8/site-packages/graphistry/embed_utils.py:459: UserWarning: To copy construct from a tensor, it is recommended to use sourceTensor.clone().detach() or sourceTensor.clone().detach().requires_grad_(True), rather than torch.tensor(sourceTensor).\n",
      "  emb = torch.tensor(self._embeddings)\n",
      "epoch: 2, loss: 0.4542, score: 84.8845%:  10%|█         | 1/10 [00:03<00:28,  3.11s/it]"
     ]
    },
    {
     "name": "stdout",
     "output_type": "stream",
     "text": [
      "Evaluating...\n",
      "--took 0.00 minutes to evaluate\n"
     ]
    },
    {
     "name": "stderr",
     "output_type": "stream",
     "text": [
      "epoch: 3, loss: 0.3594, score: 88.4535%:  20%|██        | 2/10 [00:06<00:24,  3.02s/it]"
     ]
    },
    {
     "name": "stdout",
     "output_type": "stream",
     "text": [
      "Evaluating...\n",
      "--took 0.00 minutes to evaluate\n"
     ]
    },
    {
     "name": "stderr",
     "output_type": "stream",
     "text": [
      "epoch: 4, loss: 0.3348, score: 82.7852%:  30%|███       | 3/10 [00:09<00:21,  3.00s/it]"
     ]
    },
    {
     "name": "stdout",
     "output_type": "stream",
     "text": [
      "Evaluating...\n",
      "--took 0.00 minutes to evaluate\n"
     ]
    },
    {
     "name": "stderr",
     "output_type": "stream",
     "text": [
      "epoch: 5, loss: 0.3213, score: 82.3653%:  40%|████      | 4/10 [00:12<00:17,  2.98s/it]"
     ]
    },
    {
     "name": "stdout",
     "output_type": "stream",
     "text": [
      "Evaluating...\n",
      "--took 0.00 minutes to evaluate\n"
     ]
    },
    {
     "name": "stderr",
     "output_type": "stream",
     "text": [
      "epoch: 6, loss: 0.3318, score: 84.2547%:  50%|█████     | 5/10 [00:15<00:14,  2.93s/it]"
     ]
    },
    {
     "name": "stdout",
     "output_type": "stream",
     "text": [
      "Evaluating...\n",
      "--took 0.00 minutes to evaluate\n"
     ]
    },
    {
     "name": "stderr",
     "output_type": "stream",
     "text": [
      "epoch: 7, loss: 0.2965, score: 80.7558%:  60%|██████    | 6/10 [00:17<00:11,  2.94s/it]"
     ]
    },
    {
     "name": "stdout",
     "output_type": "stream",
     "text": [
      "Evaluating...\n",
      "--took 0.00 minutes to evaluate\n"
     ]
    },
    {
     "name": "stderr",
     "output_type": "stream",
     "text": [
      "epoch: 8, loss: 0.2893, score: 74.9475%:  70%|███████   | 7/10 [00:20<00:08,  2.96s/it]"
     ]
    },
    {
     "name": "stdout",
     "output_type": "stream",
     "text": [
      "Evaluating...\n",
      "--took 0.00 minutes to evaluate\n"
     ]
    },
    {
     "name": "stderr",
     "output_type": "stream",
     "text": [
      "epoch: 9, loss: 0.2932, score: 70.3289%:  80%|████████  | 8/10 [00:24<00:05,  2.98s/it]"
     ]
    },
    {
     "name": "stdout",
     "output_type": "stream",
     "text": [
      "Evaluating...\n",
      "--took 0.00 minutes to evaluate\n"
     ]
    },
    {
     "name": "stderr",
     "output_type": "stream",
     "text": [
      "epoch: 10, loss: 0.3061, score: 65.8502%:  90%|█████████ | 9/10 [00:26<00:02,  2.96s/it]"
     ]
    },
    {
     "name": "stdout",
     "output_type": "stream",
     "text": [
      "Evaluating...\n",
      "--took 0.00 minutes to evaluate\n"
     ]
    },
    {
     "name": "stderr",
     "output_type": "stream",
     "text": [
      "epoch: 10, loss: 0.2931, score: 67.88%: 100%|██████████| 10/10 [00:29<00:00,  2.97s/it] "
     ]
    },
    {
     "name": "stdout",
     "output_type": "stream",
     "text": [
      "Evaluating...\n",
      "--took 0.00 minutes to evaluate\n"
     ]
    },
    {
     "name": "stderr",
     "output_type": "stream",
     "text": [
      "\n"
     ]
    }
   ],
   "source": [
    "g2 = g.embed(  # rerun until happy with quality\n",
    "    device=dev0,\n",
    "\n",
    "    #relation='dst_port', # always 22, so runs as a GCN instead of RGCN\n",
    "    relation='o1', # split by sw type\n",
    "\n",
    "    #==== OPTIONAL: NODE FEATURES ====\n",
    "    #requires node feature data, ex: g = graphistry.nodes(nodes_df, node_id_col).edges(..\n",
    "    #use_feat=True\n",
    "    #X=[g._node] + good_feats_col_names,\n",
    "    #cardinality_threshold=len(g._edges)+1, #optional: avoid topic modeling on high-cardinality cols\n",
    "    #min_words=len(g._edges)+1, #optional: avoid topic modeling on high-cardinality cols\n",
    "\n",
    "    epochs=10\n",
    ")"
   ]
  },
  {
   "cell_type": "code",
   "execution_count": null,
   "id": "9dde402f-6445-4215-ad46-85aa20c1ed37",
   "metadata": {},
   "outputs": [],
   "source": []
  },
  {
   "cell_type": "markdown",
   "id": "1f04189f-e1ba-48df-a738-537f078bcc71",
   "metadata": {},
   "source": [
    "## Score\n",
    "* `score`: prediction score from RGCN\n",
    "* `low_score`: `True` when 2 stdev below the average score"
   ]
  },
  {
   "cell_type": "code",
   "execution_count": 10,
   "id": "637c6921-1110-4c0e-aea7-f4e62d845b22",
   "metadata": {
    "execution": {
     "iopub.execute_input": "2022-12-02T22:25:40.227337Z",
     "iopub.status.busy": "2022-12-02T22:25:40.227032Z",
     "iopub.status.idle": "2022-12-02T22:25:40.243601Z",
     "shell.execute_reply": "2022-12-02T22:25:40.243280Z",
     "shell.execute_reply.started": "2022-12-02T22:25:40.227313Z"
    },
    "tags": []
   },
   "outputs": [
    {
     "name": "stdout",
     "output_type": "stream",
     "text": [
      "CPU times: user 36.6 ms, sys: 0 ns, total: 36.6 ms\n",
      "Wall time: 6.87 ms\n"
     ]
    },
    {
     "name": "stderr",
     "output_type": "stream",
     "text": [
      "/home/graphistry/.local/lib/python3.8/site-packages/graphistry/embed_utils.py:459: UserWarning: To copy construct from a tensor, it is recommended to use sourceTensor.clone().detach() or sourceTensor.clone().detach().requires_grad_(True), rather than torch.tensor(sourceTensor).\n",
      "  emb = torch.tensor(self._embeddings)\n"
     ]
    },
    {
     "data": {
      "text/html": [
       "<div>\n",
       "<style scoped>\n",
       "    .dataframe tbody tr th:only-of-type {\n",
       "        vertical-align: middle;\n",
       "    }\n",
       "\n",
       "    .dataframe tbody tr th {\n",
       "        vertical-align: top;\n",
       "    }\n",
       "\n",
       "    .dataframe thead th {\n",
       "        text-align: right;\n",
       "    }\n",
       "</style>\n",
       "<table border=\"1\" class=\"dataframe\">\n",
       "  <thead>\n",
       "    <tr style=\"text-align: right;\">\n",
       "      <th></th>\n",
       "      <th>score</th>\n",
       "      <th>low_score</th>\n",
       "      <th>time</th>\n",
       "      <th>key</th>\n",
       "      <th>src_ip</th>\n",
       "      <th>src_port</th>\n",
       "      <th>dst_ip</th>\n",
       "      <th>dst_port</th>\n",
       "      <th>msg</th>\n",
       "      <th>dir</th>\n",
       "      <th>o1</th>\n",
       "      <th>o2</th>\n",
       "    </tr>\n",
       "  </thead>\n",
       "  <tbody>\n",
       "    <tr>\n",
       "      <th>4273</th>\n",
       "      <td>0.017218</td>\n",
       "      <td>True</td>\n",
       "      <td>1.332001e+09</td>\n",
       "      <td>CvpN0F4oRP5Pc895fc</td>\n",
       "      <td>192.168.202.136</td>\n",
       "      <td>47495</td>\n",
       "      <td>192.168.229.101</td>\n",
       "      <td>22</td>\n",
       "      <td>undetermined</td>\n",
       "      <td>INBOUND</td>\n",
       "      <td>-</td>\n",
       "      <td>SSH-2.0-OpenSSH_5.8p1 Debian-7ubuntu1</td>\n",
       "    </tr>\n",
       "    <tr>\n",
       "      <th>4369</th>\n",
       "      <td>0.018677</td>\n",
       "      <td>True</td>\n",
       "      <td>1.332006e+09</td>\n",
       "      <td>COqmtb2K1yl9ptmBC</td>\n",
       "      <td>192.168.202.143</td>\n",
       "      <td>37624</td>\n",
       "      <td>192.168.229.156</td>\n",
       "      <td>22</td>\n",
       "      <td>undetermined</td>\n",
       "      <td>INBOUND</td>\n",
       "      <td>-</td>\n",
       "      <td>SSH-2.0-OpenSSH_4.3</td>\n",
       "    </tr>\n",
       "    <tr>\n",
       "      <th>2847</th>\n",
       "      <td>0.023266</td>\n",
       "      <td>True</td>\n",
       "      <td>1.331931e+09</td>\n",
       "      <td>CH5EtE1xtwQmyxf5s1</td>\n",
       "      <td>192.168.203.63</td>\n",
       "      <td>53667</td>\n",
       "      <td>192.168.23.101</td>\n",
       "      <td>22</td>\n",
       "      <td>undetermined</td>\n",
       "      <td>INBOUND</td>\n",
       "      <td>-</td>\n",
       "      <td>SSH-2.0-OpenSSH_5.8p1 Debian-7ubuntu1</td>\n",
       "    </tr>\n",
       "    <tr>\n",
       "      <th>2844</th>\n",
       "      <td>0.023587</td>\n",
       "      <td>True</td>\n",
       "      <td>1.331931e+09</td>\n",
       "      <td>CsO3K9zNNojTSGFhk</td>\n",
       "      <td>192.168.202.110</td>\n",
       "      <td>36493</td>\n",
       "      <td>192.168.229.101</td>\n",
       "      <td>22</td>\n",
       "      <td>failure</td>\n",
       "      <td>INBOUND</td>\n",
       "      <td>SSH-2.0-OpenSSH_5.3p1 Debian-3ubuntu6</td>\n",
       "      <td>SSH-2.0-OpenSSH_5.8p1 Debian-7ubuntu1</td>\n",
       "    </tr>\n",
       "    <tr>\n",
       "      <th>2977</th>\n",
       "      <td>0.023587</td>\n",
       "      <td>True</td>\n",
       "      <td>1.331931e+09</td>\n",
       "      <td>CObILv2xfzVJkUXY6</td>\n",
       "      <td>192.168.202.110</td>\n",
       "      <td>36511</td>\n",
       "      <td>192.168.229.101</td>\n",
       "      <td>22</td>\n",
       "      <td>failure</td>\n",
       "      <td>INBOUND</td>\n",
       "      <td>SSH-2.0-OpenSSH_5.3p1 Debian-3ubuntu6</td>\n",
       "      <td>SSH-2.0-OpenSSH_5.8p1 Debian-7ubuntu1</td>\n",
       "    </tr>\n",
       "  </tbody>\n",
       "</table>\n",
       "</div>"
      ],
      "text/plain": [
       "         score  low_score          time                 key           src_ip  \\\n",
       "4273  0.017218       True  1.332001e+09  CvpN0F4oRP5Pc895fc  192.168.202.136   \n",
       "4369  0.018677       True  1.332006e+09   COqmtb2K1yl9ptmBC  192.168.202.143   \n",
       "2847  0.023266       True  1.331931e+09  CH5EtE1xtwQmyxf5s1   192.168.203.63   \n",
       "2844  0.023587       True  1.331931e+09   CsO3K9zNNojTSGFhk  192.168.202.110   \n",
       "2977  0.023587       True  1.331931e+09   CObILv2xfzVJkUXY6  192.168.202.110   \n",
       "\n",
       "      src_port           dst_ip  dst_port           msg      dir  \\\n",
       "4273     47495  192.168.229.101        22  undetermined  INBOUND   \n",
       "4369     37624  192.168.229.156        22  undetermined  INBOUND   \n",
       "2847     53667   192.168.23.101        22  undetermined  INBOUND   \n",
       "2844     36493  192.168.229.101        22       failure  INBOUND   \n",
       "2977     36511  192.168.229.101        22       failure  INBOUND   \n",
       "\n",
       "                                         o1  \\\n",
       "4273                                      -   \n",
       "4369                                      -   \n",
       "2847                                      -   \n",
       "2844  SSH-2.0-OpenSSH_5.3p1 Debian-3ubuntu6   \n",
       "2977  SSH-2.0-OpenSSH_5.3p1 Debian-3ubuntu6   \n",
       "\n",
       "                                         o2  \n",
       "4273  SSH-2.0-OpenSSH_5.8p1 Debian-7ubuntu1  \n",
       "4369                    SSH-2.0-OpenSSH_4.3  \n",
       "2847  SSH-2.0-OpenSSH_5.8p1 Debian-7ubuntu1  \n",
       "2844  SSH-2.0-OpenSSH_5.8p1 Debian-7ubuntu1  \n",
       "2977  SSH-2.0-OpenSSH_5.8p1 Debian-7ubuntu1  "
      ]
     },
     "execution_count": 10,
     "metadata": {},
     "output_type": "execute_result"
    }
   ],
   "source": [
    "%%time\n",
    "def to_cpu(tensor):\n",
    "    \"\"\"\n",
    "    Helper for switching between is_gpu=True/False to avoid coercion errors\n",
    "    \"\"\"\n",
    "    if is_gpu:\n",
    "        return tensor.cpu()\n",
    "    else:\n",
    "        return tensor\n",
    "\n",
    "score2 = pd.Series(to_cpu(g2._score(g2._triplets)).numpy())\n",
    "\n",
    "df2 = df.assign(\n",
    "    score=score2,\n",
    "    low_score=(score2 < (score2.mean() - 2 * score2.std())) # True for unusually low prediction scores\n",
    ")\n",
    "df2[['score', 'low_score'] + list(df2.columns[:10])].sort_values(by=['score'])[:5]"
   ]
  },
  {
   "cell_type": "markdown",
   "id": "271cf2ee-4715-4ac6-87a9-3b4afce41559",
   "metadata": {},
   "source": [
    "## Visualize\n",
    "\n",
    "Color edges red when low prediction score"
   ]
  },
  {
   "cell_type": "code",
   "execution_count": 9,
   "id": "3ba455db-89c9-4f92-9cc3-48c15844841d",
   "metadata": {
    "execution": {
     "iopub.execute_input": "2022-12-02T20:56:48.627741Z",
     "iopub.status.busy": "2022-12-02T20:56:48.627497Z",
     "iopub.status.idle": "2022-12-02T20:56:52.054370Z",
     "shell.execute_reply": "2022-12-02T20:56:52.053891Z",
     "shell.execute_reply.started": "2022-12-02T20:56:48.627723Z"
    },
    "tags": []
   },
   "outputs": [
    {
     "data": {
      "text/html": [
       "\n",
       "            <iframe id=\"b2302469-8808-4fe1-be89-69b70967544e\" src=\"https://hub.graphistry.com/graph/graph.html?dataset=3dc9b8189f3c481fad1a3185972375bf&type=arrow&viztoken=43396622-23c5-4bc8-9e7c-f76ec5609482&usertag=50ed79f3-pygraphistry-refs/pull/408/head&splashAfter=1670014627&info=true&strongGravity=true&play=0\"\n",
       "                    allowfullscreen=\"true\" webkitallowfullscreen=\"true\" mozallowfullscreen=\"true\"\n",
       "                    oallowfullscreen=\"true\" msallowfullscreen=\"true\"\n",
       "                    style=\"width:100%; height:500px; border: 1px solid #DDD; overflow: hidden\"\n",
       "                    \n",
       "            >\n",
       "            </iframe>\n",
       "        \n",
       "            <script>\n",
       "                try {\n",
       "                  $(\"#b2302469-8808-4fe1-be89-69b70967544e\").bind('mousewheel', function(e) { e.preventDefault(); });\n",
       "                } catch (e) { console.error('exn catching scroll', e); }\n",
       "            </script>\n",
       "        "
      ],
      "text/plain": [
       "<IPython.core.display.HTML object>"
      ]
     },
     "execution_count": 9,
     "metadata": {},
     "output_type": "execute_result"
    }
   ],
   "source": [
    "(g2\n",
    " .edges(df2)\n",
    " .encode_edge_color('low_score', categorical_mapping={'true': 'red', 'false': 'blue'})\n",
    " .settings(url_params={'strongGravity': 'true', 'play': 0})\n",
    ").plot()"
   ]
  },
  {
   "cell_type": "markdown",
   "id": "2f6748c6",
   "metadata": {},
   "source": [
    "## Next steps\n",
    "\n",
    "- RGCN intro: [intro-story.ipynb](../../talks/infosec_jupyterthon2022/intro-story.ipynb)\n",
    "- In-depth RGCN: [advanced-identity-protection-40m.ipynb](../../talks/infosec_jupyterthon2022/advanced-identity-protection-40m.ipynb)\n",
    "- UMAP demo for 97% alert volume reduction & alert correlation\n",
    "- [PyGraphistry](http://github.com/graphistry/pygraphistryhttp://github.com/graphistry/pygraphistry) (py, oss) + [Graphistry Hub](https://hub.graphistry.com/https://hub.graphistry.com/) (free)\n",
    "  - Dashboarding with [graph-app-kit (containerized, gpu, graph Streamlit)](https://github.com/graphistry/graph-app-kithttps://github.com/graphistry/graph-app-kit)\n",
    "- Happy to help:\n",
    "  - [Join our Slack](https://join.slack.com/t/graphistry-community/shared_invite/zt-53ik36w2-fpP0Ibjbk7IJuVFIRSnr6g)\n",
    "  - email and let's chat! info@graphistry.com\n"
   ]
  },
  {
   "cell_type": "markdown",
   "id": "06674f06",
   "metadata": {},
   "source": []
  }
 ],
 "metadata": {
  "kernelspec": {
   "display_name": "Python 3 (ipykernel)",
   "language": "python",
   "name": "python3"
  },
  "language_info": {
   "codemirror_mode": {
    "name": "ipython",
    "version": 3
   },
   "file_extension": ".py",
   "mimetype": "text/x-python",
   "name": "python",
   "nbconvert_exporter": "python",
   "pygments_lexer": "ipython3",
   "version": "3.8.9"
  },
  "vscode": {
   "interpreter": {
    "hash": "916dbcbb3f70747c44a77c7bcd40155683ae19c65e1c03b4aa3499c5328201f1"
   }
  }
 },
 "nbformat": 4,
 "nbformat_minor": 5
}
