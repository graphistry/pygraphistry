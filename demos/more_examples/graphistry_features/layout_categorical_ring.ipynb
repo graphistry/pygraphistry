{
 "cells": [
  {
   "cell_type": "markdown",
   "id": "97bf25e2-baa5-4b31-be0e-f998afbb5a4a",
   "metadata": {
    "execution": {
     "iopub.execute_input": "2024-07-13T22:31:57.635365Z",
     "iopub.status.busy": "2024-07-13T22:31:57.634932Z",
     "iopub.status.idle": "2024-07-13T22:31:57.644104Z",
     "shell.execute_reply": "2024-07-13T22:31:57.643677Z",
     "shell.execute_reply.started": "2024-07-13T22:31:57.635339Z"
    },
    "jp-MarkdownHeadingCollapsed": true,
    "tags": []
   },
   "source": [
    "## Categorical ring layout tutorial\n",
    "\n",
    "Graphs where nodes have a categorical attribute may be layed out radially with the new time ring layout.\n",
    "\n",
    "Example values might be names, IDs, colors, and small multiples. \n",
    "\n",
    "The tutorial overviews:\n",
    "\n",
    "* Continuous coloring\n",
    "* Automated use with smart defaults given just the `ring_col: str` value dimension\n",
    "* `order: Optional[List[Any]]`: Sort the axis\n",
    "* `drop_empty`, `combine_unhandled`, `append_unhandled`: Handle missing values and axis\n",
    "* `r_min`, `r_max`: Control the ring radius ranges\n",
    "* `axis: Optional[Dict[Any,str]]`: Pass in axis labels\n",
    "* `format_axis: Callable, format_label: Callable`: Changing the labels\n",
    "* `reverse: bool`: Reversing the axis\n",
    "\n",
    "For larger graphs, we also describe automatic GPU acceleration support"
   ]
  },
  {
   "cell_type": "markdown",
   "id": "c4aa72d0-3f5f-417f-bb4a-805cbe8a6462",
   "metadata": {},
   "source": [
    "## Setup"
   ]
  },
  {
   "cell_type": "code",
   "execution_count": 1,
   "id": "eb062506-5cfd-4655-85af-8d0abe1ea6ca",
   "metadata": {
    "execution": {
     "iopub.execute_input": "2024-07-15T07:29:40.639585Z",
     "iopub.status.busy": "2024-07-15T07:29:40.639063Z",
     "iopub.status.idle": "2024-07-15T07:29:40.647970Z",
     "shell.execute_reply": "2024-07-15T07:29:40.647494Z",
     "shell.execute_reply.started": "2024-07-15T07:29:40.639562Z"
    }
   },
   "outputs": [],
   "source": [
    "import os\n",
    "os.environ['LOG_LEVEL'] = 'INFO'"
   ]
  },
  {
   "cell_type": "code",
   "execution_count": 2,
   "id": "8d533a8a-1bbe-4312-ba4f-1dbb4e6ec66d",
   "metadata": {
    "execution": {
     "iopub.execute_input": "2024-07-15T07:29:40.650171Z",
     "iopub.status.busy": "2024-07-15T07:29:40.649597Z",
     "iopub.status.idle": "2024-07-15T07:29:46.053935Z",
     "shell.execute_reply": "2024-07-15T07:29:46.052113Z",
     "shell.execute_reply.started": "2024-07-15T07:29:40.650142Z"
    },
    "tags": []
   },
   "outputs": [],
   "source": [
    "from typing import Any, Dict, List\n",
    "import numpy as np\n",
    "import pandas as pd\n",
    "import graphistry\n",
    "\n",
    "graphistry.register(\n",
    "    api=3,\n",
    "    username=FILL_ME_IN,\n",
    "    password=FILL_ME_IN,\n",
    "    protocol='https',\n",
    "    server='hub.graphistry.com',\n",
    "    client_protocol_hostname='https://hub.graphistry.com'\n",
    ")"
   ]
  },
  {
   "cell_type": "markdown",
   "id": "c132a0c3-0c36-49d2-ba89-e38c16c4ade6",
   "metadata": {},
   "source": [
    "## Data\n",
    "\n",
    "* Edges: Load a table of IDS network events for our edges\n",
    "* Nodes: IP addresses, computing for each IP the time of the first and last events it was seen in"
   ]
  },
  {
   "cell_type": "code",
   "execution_count": 3,
   "id": "a1a4a500-b3d1-4e2b-9e96-b8da011292de",
   "metadata": {
    "execution": {
     "iopub.execute_input": "2024-07-15T07:29:46.055686Z",
     "iopub.status.busy": "2024-07-15T07:29:46.055238Z",
     "iopub.status.idle": "2024-07-15T07:29:46.166013Z",
     "shell.execute_reply": "2024-07-15T07:29:46.165322Z",
     "shell.execute_reply.started": "2024-07-15T07:29:46.055667Z"
    },
    "tags": []
   },
   "outputs": [
    {
     "name": "stdout",
     "output_type": "stream",
     "text": [
      "attackerIP            object\n",
      "victimIP              object\n",
      "victimPort           float64\n",
      "vulnName              object\n",
      "count                  int64\n",
      "time(max)            float64\n",
      "time(min)            float64\n",
      "t             datetime64[ns]\n",
      "dtype: object\n",
      "220\n"
     ]
    },
    {
     "data": {
      "text/html": [
       "<div>\n",
       "<style scoped>\n",
       "    .dataframe tbody tr th:only-of-type {\n",
       "        vertical-align: middle;\n",
       "    }\n",
       "\n",
       "    .dataframe tbody tr th {\n",
       "        vertical-align: top;\n",
       "    }\n",
       "\n",
       "    .dataframe thead th {\n",
       "        text-align: right;\n",
       "    }\n",
       "</style>\n",
       "<table border=\"1\" class=\"dataframe\">\n",
       "  <thead>\n",
       "    <tr style=\"text-align: right;\">\n",
       "      <th></th>\n",
       "      <th>attackerIP</th>\n",
       "      <th>victimIP</th>\n",
       "      <th>victimPort</th>\n",
       "      <th>vulnName</th>\n",
       "      <th>count</th>\n",
       "      <th>time(max)</th>\n",
       "      <th>time(min)</th>\n",
       "      <th>t</th>\n",
       "    </tr>\n",
       "  </thead>\n",
       "  <tbody>\n",
       "    <tr>\n",
       "      <th>179</th>\n",
       "      <td>78.140.56.110</td>\n",
       "      <td>172.31.14.66</td>\n",
       "      <td>445.0</td>\n",
       "      <td>MS08067 (NetAPI)</td>\n",
       "      <td>12</td>\n",
       "      <td>1.414243e+09</td>\n",
       "      <td>1.414241e+09</td>\n",
       "      <td>2014-10-25 13:08:50</td>\n",
       "    </tr>\n",
       "    <tr>\n",
       "      <th>79</th>\n",
       "      <td>186.23.87.31</td>\n",
       "      <td>172.31.14.66</td>\n",
       "      <td>445.0</td>\n",
       "      <td>MS08067 (NetAPI)</td>\n",
       "      <td>11</td>\n",
       "      <td>1.420662e+09</td>\n",
       "      <td>1.420661e+09</td>\n",
       "      <td>2015-01-07 20:24:19</td>\n",
       "    </tr>\n",
       "    <tr>\n",
       "      <th>90</th>\n",
       "      <td>188.225.73.153</td>\n",
       "      <td>172.31.14.66</td>\n",
       "      <td>443.0</td>\n",
       "      <td>IIS Vulnerability</td>\n",
       "      <td>1</td>\n",
       "      <td>1.418287e+09</td>\n",
       "      <td>1.418287e+09</td>\n",
       "      <td>2014-12-11 08:42:18</td>\n",
       "    </tr>\n",
       "  </tbody>\n",
       "</table>\n",
       "</div>"
      ],
      "text/plain": [
       "         attackerIP      victimIP  victimPort           vulnName  count  \\\n",
       "179   78.140.56.110  172.31.14.66       445.0   MS08067 (NetAPI)     12   \n",
       "79     186.23.87.31  172.31.14.66       445.0   MS08067 (NetAPI)     11   \n",
       "90   188.225.73.153  172.31.14.66       443.0  IIS Vulnerability      1   \n",
       "\n",
       "        time(max)     time(min)                   t  \n",
       "179  1.414243e+09  1.414241e+09 2014-10-25 13:08:50  \n",
       "79   1.420662e+09  1.420661e+09 2015-01-07 20:24:19  \n",
       "90   1.418287e+09  1.418287e+09 2014-12-11 08:42:18  "
      ]
     },
     "execution_count": 3,
     "metadata": {},
     "output_type": "execute_result"
    }
   ],
   "source": [
    "df = pd.read_csv('https://raw.githubusercontent.com/graphistry/pygraphistry/master/demos/data/honeypot.csv')\n",
    "df = df.assign(t= pd.Series(pd.to_datetime(df['time(max)'] * 1000000000)))\n",
    "print(df.dtypes)\n",
    "print(len(df))\n",
    "df.sample(3)"
   ]
  },
  {
   "cell_type": "code",
   "execution_count": 4,
   "id": "279e9040-d6d5-43a0-b255-ba2a523021e0",
   "metadata": {
    "execution": {
     "iopub.execute_input": "2024-07-15T07:29:46.167014Z",
     "iopub.status.busy": "2024-07-15T07:29:46.166807Z",
     "iopub.status.idle": "2024-07-15T07:29:46.235505Z",
     "shell.execute_reply": "2024-07-15T07:29:46.234877Z",
     "shell.execute_reply.started": "2024-07-15T07:29:46.166998Z"
    },
    "tags": []
   },
   "outputs": [
    {
     "name": "stdout",
     "output_type": "stream",
     "text": [
      "ip                  object\n",
      "t_min       datetime64[ns]\n",
      "t_max       datetime64[ns]\n",
      "count                int64\n",
      "time_min           float64\n",
      "vuln_top            object\n",
      "vuln_all            object\n",
      "dtype: object\n",
      "(203, 7)\n"
     ]
    },
    {
     "data": {
      "text/html": [
       "<div>\n",
       "<style scoped>\n",
       "    .dataframe tbody tr th:only-of-type {\n",
       "        vertical-align: middle;\n",
       "    }\n",
       "\n",
       "    .dataframe tbody tr th {\n",
       "        vertical-align: top;\n",
       "    }\n",
       "\n",
       "    .dataframe thead th {\n",
       "        text-align: right;\n",
       "    }\n",
       "</style>\n",
       "<table border=\"1\" class=\"dataframe\">\n",
       "  <thead>\n",
       "    <tr style=\"text-align: right;\">\n",
       "      <th></th>\n",
       "      <th>ip</th>\n",
       "      <th>t_min</th>\n",
       "      <th>t_max</th>\n",
       "      <th>count</th>\n",
       "      <th>time_min</th>\n",
       "      <th>vuln_top</th>\n",
       "      <th>vuln_all</th>\n",
       "    </tr>\n",
       "  </thead>\n",
       "  <tbody>\n",
       "    <tr>\n",
       "      <th>160</th>\n",
       "      <td>77.232.152.116</td>\n",
       "      <td>2015-02-08 05:48:25</td>\n",
       "      <td>2015-02-09 00:17:13</td>\n",
       "      <td>2</td>\n",
       "      <td>1.423375e+09</td>\n",
       "      <td>IIS Vulnerability</td>\n",
       "      <td>['IIS Vulnerability', 'MaxDB Vulnerability']</td>\n",
       "    </tr>\n",
       "    <tr>\n",
       "      <th>146</th>\n",
       "      <td>49.149.168.197</td>\n",
       "      <td>2014-12-05 10:46:55</td>\n",
       "      <td>2014-12-05 10:46:55</td>\n",
       "      <td>8</td>\n",
       "      <td>1.417775e+09</td>\n",
       "      <td>MS08067 (NetAPI)</td>\n",
       "      <td>['MS08067 (NetAPI)']</td>\n",
       "    </tr>\n",
       "    <tr>\n",
       "      <th>42</th>\n",
       "      <td>176.103.22.19</td>\n",
       "      <td>2014-12-06 19:23:06</td>\n",
       "      <td>2014-12-06 19:23:06</td>\n",
       "      <td>13</td>\n",
       "      <td>1.417892e+09</td>\n",
       "      <td>MS08067 (NetAPI)</td>\n",
       "      <td>['MS08067 (NetAPI)']</td>\n",
       "    </tr>\n",
       "    <tr>\n",
       "      <th>23</th>\n",
       "      <td>119.157.215.18</td>\n",
       "      <td>2014-12-19 20:50:11</td>\n",
       "      <td>2014-12-19 20:50:11</td>\n",
       "      <td>4</td>\n",
       "      <td>1.419021e+09</td>\n",
       "      <td>MS08067 (NetAPI)</td>\n",
       "      <td>['MS08067 (NetAPI)']</td>\n",
       "    </tr>\n",
       "    <tr>\n",
       "      <th>112</th>\n",
       "      <td>220.128.136.237</td>\n",
       "      <td>2014-09-30 08:43:16</td>\n",
       "      <td>2014-09-30 08:43:16</td>\n",
       "      <td>2</td>\n",
       "      <td>1.412066e+09</td>\n",
       "      <td>MS08067 (NetAPI)</td>\n",
       "      <td>['MS08067 (NetAPI)']</td>\n",
       "    </tr>\n",
       "  </tbody>\n",
       "</table>\n",
       "</div>"
      ],
      "text/plain": [
       "                  ip               t_min               t_max  count  \\\n",
       "160   77.232.152.116 2015-02-08 05:48:25 2015-02-09 00:17:13      2   \n",
       "146   49.149.168.197 2014-12-05 10:46:55 2014-12-05 10:46:55      8   \n",
       "42     176.103.22.19 2014-12-06 19:23:06 2014-12-06 19:23:06     13   \n",
       "23    119.157.215.18 2014-12-19 20:50:11 2014-12-19 20:50:11      4   \n",
       "112  220.128.136.237 2014-09-30 08:43:16 2014-09-30 08:43:16      2   \n",
       "\n",
       "         time_min           vuln_top  \\\n",
       "160  1.423375e+09  IIS Vulnerability   \n",
       "146  1.417775e+09   MS08067 (NetAPI)   \n",
       "42   1.417892e+09   MS08067 (NetAPI)   \n",
       "23   1.419021e+09   MS08067 (NetAPI)   \n",
       "112  1.412066e+09   MS08067 (NetAPI)   \n",
       "\n",
       "                                         vuln_all  \n",
       "160  ['IIS Vulnerability', 'MaxDB Vulnerability']  \n",
       "146                          ['MS08067 (NetAPI)']  \n",
       "42                           ['MS08067 (NetAPI)']  \n",
       "23                           ['MS08067 (NetAPI)']  \n",
       "112                          ['MS08067 (NetAPI)']  "
      ]
     },
     "execution_count": 4,
     "metadata": {},
     "output_type": "execute_result"
    }
   ],
   "source": [
    "ip_times = pd.concat([\n",
    "    df[['attackerIP', 't', 'count', 'time(min)', 'vulnName']].rename(columns={'attackerIP': 'ip'}),\n",
    "    df[['victimIP', 't', 'count', 'time(min)', 'vulnName']].rename(columns={'victimIP': 'ip'})\n",
    "])\n",
    "\n",
    "def most_frequent(series):\n",
    "    return series.mode().iloc[0] if not series.mode().empty else None\n",
    "\n",
    "ip_times = ip_times.groupby('ip').agg({\n",
    "    't': ['min', 'max'],\n",
    "    'count': ['sum'],\n",
    "    'time(min)': ['min'],\n",
    "    'vulnName': [most_frequent, lambda x: str(list(x.unique()))]\n",
    "}).reset_index()\n",
    "ip_times.columns = ['ip', 't_min', 't_max', 'count', 'time_min', 'vuln_top', 'vuln_all']\n",
    "\n",
    "print(ip_times.dtypes)\n",
    "print(ip_times.shape)\n",
    "ip_times.sample(5)"
   ]
  },
  {
   "cell_type": "code",
   "execution_count": 5,
   "id": "65992dd1-ef32-423e-8cc7-026998250719",
   "metadata": {
    "execution": {
     "iopub.execute_input": "2024-07-15T07:29:46.236685Z",
     "iopub.status.busy": "2024-07-15T07:29:46.236475Z",
     "iopub.status.idle": "2024-07-15T07:29:46.240156Z",
     "shell.execute_reply": "2024-07-15T07:29:46.239632Z",
     "shell.execute_reply.started": "2024-07-15T07:29:46.236667Z"
    },
    "tags": []
   },
   "outputs": [],
   "source": [
    "g = graphistry.edges(df, 'attackerIP', 'victimIP').nodes(ip_times, 'ip')"
   ]
  },
  {
   "cell_type": "markdown",
   "id": "47f1d1d1-2ce2-4b72-a5eb-0a1b16f2c129",
   "metadata": {},
   "source": [
    "## Visualization\n"
   ]
  },
  {
   "cell_type": "markdown",
   "id": "4c4357e1-0ccf-4466-8936-a31032cb422b",
   "metadata": {},
   "source": [
    "### Default\n",
    "\n",
    "The default layout will scan for a numeric column and try to infer reasonable layout settings\n"
   ]
  },
  {
   "cell_type": "code",
   "execution_count": 6,
   "id": "38bd3720-1fe5-408c-8250-37de53d68795",
   "metadata": {
    "execution": {
     "iopub.execute_input": "2024-07-15T07:29:46.243461Z",
     "iopub.status.busy": "2024-07-15T07:29:46.243141Z",
     "iopub.status.idle": "2024-07-15T07:29:48.499463Z",
     "shell.execute_reply": "2024-07-15T07:29:48.498818Z",
     "shell.execute_reply.started": "2024-07-15T07:29:46.243442Z"
    }
   },
   "outputs": [
    {
     "data": {
      "text/plain": [
       "'https://hub.graphistry.com/graph/graph.html?dataset=6cf9007b825e47eab9b7855cd407c7d3&type=arrow&viztoken=1c6e0c33-2c29-4a00-870a-1ddeaeb2b623&usertag=6c2f6dc1-pygraphistry-0+unknown&splashAfter=1721028603&info=true&play=0&lockedR=True&bg=%23E2E2E2'"
      ]
     },
     "execution_count": 6,
     "metadata": {},
     "output_type": "execute_result"
    }
   ],
   "source": [
    "g.ring_categorical_layout('vuln_top').plot(render=False)"
   ]
  },
  {
   "cell_type": "markdown",
   "id": "25809604-65d1-454c-9088-84c2d6b51da5",
   "metadata": {},
   "source": [
    "### Control axis order"
   ]
  },
  {
   "cell_type": "code",
   "execution_count": 8,
   "id": "3550ed23-94db-413d-93d2-2fd94a2fc8c3",
   "metadata": {
    "execution": {
     "iopub.execute_input": "2024-07-15T07:05:38.912026Z",
     "iopub.status.busy": "2024-07-15T07:05:38.911869Z",
     "iopub.status.idle": "2024-07-15T07:05:40.959522Z",
     "shell.execute_reply": "2024-07-15T07:05:40.958262Z",
     "shell.execute_reply.started": "2024-07-15T07:05:38.912012Z"
    }
   },
   "outputs": [
    {
     "data": {
      "text/plain": [
       "'https://hub.graphistry.com/graph/graph.html?dataset=77130f55096c4a71a4226e4557e1ac6c&type=arrow&viztoken=2c585098-cd4f-43e6-b2a6-8cc0c2097451&usertag=6c2f6dc1-pygraphistry-0+unknown&splashAfter=1721027155&info=true&play=0&lockedR=True&bg=%23E2E2E2'"
      ]
     },
     "execution_count": 8,
     "metadata": {},
     "output_type": "execute_result"
    }
   ],
   "source": [
    "order = sorted(list(g._nodes['vuln_top'].unique()))\n",
    "\n",
    "g.ring_categorical_layout(\n",
    "    ring_col='vuln_top',\n",
    "    order=order,\n",
    "    reverse=True\n",
    ").plot(render=False)"
   ]
  },
  {
   "cell_type": "markdown",
   "id": "e0ed1323-1a68-4653-b64b-350eb1813dac",
   "metadata": {},
   "source": [
    "### Handle missing values and axis labels"
   ]
  },
  {
   "cell_type": "markdown",
   "id": "3a721a07-f7e5-4c0e-8f75-46c0f701b4bc",
   "metadata": {},
   "source": [
    "When passed in axis labels do not cover all observed values in the data, we can:\n",
    "\n",
    "* Put all unexpected values in one ring \"Other\", or a ring per unique value\n",
    "* Put the new rings before or after the other rings"
   ]
  },
  {
   "cell_type": "code",
   "execution_count": 10,
   "id": "1fbae22d-1aba-48c0-891b-58146558ae48",
   "metadata": {
    "execution": {
     "iopub.execute_input": "2024-07-15T07:06:26.191174Z",
     "iopub.status.busy": "2024-07-15T07:06:26.190568Z",
     "iopub.status.idle": "2024-07-15T07:06:28.267684Z",
     "shell.execute_reply": "2024-07-15T07:06:28.266569Z",
     "shell.execute_reply.started": "2024-07-15T07:06:26.191126Z"
    }
   },
   "outputs": [
    {
     "name": "stdout",
     "output_type": "stream",
     "text": [
      "showing ['DCOM Vulnerability', 'HTTP Vulnerability', 'IIS Vulnerability', 'MaxDB Vulnerability', 'SYMANTEC Vulnerability', 'TIVOLI Vulnerability']\n",
      "combining into Other {'MYDOOM Vulnerability', 'MS04011 (LSASS)', 'MS08067 (NetAPI)'}\n"
     ]
    },
    {
     "data": {
      "text/plain": [
       "'https://hub.graphistry.com/graph/graph.html?dataset=e897ebdfa58e4229afaad3a768400b26&type=arrow&viztoken=79ba2bd2-1ab9-442e-b6aa-534caadebd8a&usertag=6c2f6dc1-pygraphistry-0+unknown&splashAfter=1721027203&info=true&play=0&lockedR=True&bg=%23E2E2E2'"
      ]
     },
     "execution_count": 10,
     "metadata": {},
     "output_type": "execute_result"
    }
   ],
   "source": [
    "order = sorted(list(g._nodes['vuln_top'].unique()))\n",
    "order = order[:3] + order[6:]\n",
    "missing_labels = set(g._nodes['vuln_top'].unique()) - set(order)\n",
    "\n",
    "print('showing', order)\n",
    "print('combining into Other', missing_labels)\n",
    "\n",
    "g.ring_categorical_layout(\n",
    "    ring_col='vuln_top',\n",
    "    order=order,\n",
    "    reverse=True,\n",
    "    combine_unhandled=True,  # put into 1 ring\n",
    "    append_unhandled=False,  # put after other items\n",
    ").plot(render=False)"
   ]
  },
  {
   "cell_type": "code",
   "execution_count": 12,
   "id": "0598460e-384a-4d26-b652-ed233ad76cd1",
   "metadata": {
    "execution": {
     "iopub.execute_input": "2024-07-15T07:07:26.960361Z",
     "iopub.status.busy": "2024-07-15T07:07:26.959726Z",
     "iopub.status.idle": "2024-07-15T07:07:29.198018Z",
     "shell.execute_reply": "2024-07-15T07:07:29.196021Z",
     "shell.execute_reply.started": "2024-07-15T07:07:26.960310Z"
    }
   },
   "outputs": [
    {
     "data": {
      "text/plain": [
       "'https://hub.graphistry.com/graph/graph.html?dataset=9e63c4b30bde4555a314fc0e4953553e&type=arrow&viztoken=e5e38bef-3992-4cd4-b521-b7f632a671c4&usertag=6c2f6dc1-pygraphistry-0+unknown&splashAfter=1721027264&info=true&play=0&lockedR=True&bg=%23E2E2E2'"
      ]
     },
     "execution_count": 12,
     "metadata": {},
     "output_type": "execute_result"
    }
   ],
   "source": [
    "g.ring_categorical_layout(\n",
    "    ring_col='vuln_top',\n",
    "    order=order,\n",
    "    reverse=True,\n",
    "    combine_unhandled=True,  # put into 1 ring\n",
    "    append_unhandled=True,  # put after other items\n",
    ").plot(render=False)"
   ]
  },
  {
   "cell_type": "markdown",
   "id": "90d076cf-6870-4329-81a4-a98e7b03484c",
   "metadata": {},
   "source": [
    "When axis cover data not seen in the data, we can drop it (default) or keep it as an unpopulated ring"
   ]
  },
  {
   "cell_type": "code",
   "execution_count": 15,
   "id": "e9f18418-24ee-4b10-b1b7-5736c8de89f9",
   "metadata": {
    "execution": {
     "iopub.execute_input": "2024-07-15T07:13:59.029832Z",
     "iopub.status.busy": "2024-07-15T07:13:59.029393Z",
     "iopub.status.idle": "2024-07-15T07:14:01.089737Z",
     "shell.execute_reply": "2024-07-15T07:14:01.089040Z",
     "shell.execute_reply.started": "2024-07-15T07:13:59.029807Z"
    }
   },
   "outputs": [
    {
     "data": {
      "text/plain": [
       "'https://hub.graphistry.com/graph/graph.html?dataset=e562ab9d9df94593be7e75632d10989e&type=arrow&viztoken=5c835399-d4c3-45b5-821b-cd37ff9f64f4&usertag=6c2f6dc1-pygraphistry-0+unknown&splashAfter=1721027656&info=true&play=0&lockedR=True&bg=%23E2E2E2'"
      ]
     },
     "execution_count": 15,
     "metadata": {},
     "output_type": "execute_result"
    }
   ],
   "source": [
    "order_excessive = list(g._nodes['vuln_top'].unique()) + ['a value that never occurs']\n",
    "g.ring_categorical_layout(\n",
    "    ring_col='vuln_top',\n",
    "    order=order_excessive,\n",
    "    drop_empty=False, \n",
    ").plot(render=False)"
   ]
  },
  {
   "cell_type": "markdown",
   "id": "40a64e08-6b22-427c-8de6-df6445d31a19",
   "metadata": {},
   "source": [
    "### Control sizes\n",
    "\n",
    "* Control the radius of the first, last rings via `min_r`, `max_r`\n"
   ]
  },
  {
   "cell_type": "code",
   "execution_count": 16,
   "id": "e2bc6927-f2d8-4301-ae5f-d371c9c17a73",
   "metadata": {
    "execution": {
     "iopub.execute_input": "2024-07-15T07:17:19.350787Z",
     "iopub.status.busy": "2024-07-15T07:17:19.349449Z",
     "iopub.status.idle": "2024-07-15T07:17:21.490576Z",
     "shell.execute_reply": "2024-07-15T07:17:21.489912Z",
     "shell.execute_reply.started": "2024-07-15T07:17:19.350717Z"
    }
   },
   "outputs": [
    {
     "data": {
      "text/plain": [
       "'https://hub.graphistry.com/graph/graph.html?dataset=18611f4354ae4c68b87b073d1e2fc916&type=arrow&viztoken=2f2844e2-a154-4e29-9ff8-0008b2dbe7d7&usertag=6c2f6dc1-pygraphistry-0+unknown&splashAfter=1721027856&info=true&play=0&lockedR=True&bg=%23E2E2E2'"
      ]
     },
     "execution_count": 16,
     "metadata": {},
     "output_type": "execute_result"
    }
   ],
   "source": [
    "g.ring_categorical_layout(\n",
    "    ring_col='vuln_top',\n",
    "    min_r=500,\n",
    "    max_r=1000,\n",
    ").plot(render=False)"
   ]
  },
  {
   "cell_type": "markdown",
   "id": "a4947bbd-795d-4a02-b4ea-1df944adcc31",
   "metadata": {},
   "source": [
    "### Control axis labels\n",
    "\n",
    "Label each axis as `\"ring: <lower case value>\"`"
   ]
  },
  {
   "cell_type": "code",
   "execution_count": 20,
   "id": "45746ac0-76a1-463d-a371-c88c44b7325f",
   "metadata": {
    "execution": {
     "iopub.execute_input": "2024-07-15T07:19:14.357421Z",
     "iopub.status.busy": "2024-07-15T07:19:14.356811Z",
     "iopub.status.idle": "2024-07-15T07:19:16.795709Z",
     "shell.execute_reply": "2024-07-15T07:19:16.795164Z",
     "shell.execute_reply.started": "2024-07-15T07:19:14.357374Z"
    }
   },
   "outputs": [
    {
     "name": "stdout",
     "output_type": "stream",
     "text": [
      "axis {'MS08067 (NetAPI)': 'ring: ms08067 (netapi)', 'MS04011 (LSASS)': 'ring: ms04011 (lsass)', 'MaxDB Vulnerability': 'ring: maxdb vulnerability', 'IIS Vulnerability': 'ring: iis vulnerability', 'SYMANTEC Vulnerability': 'ring: symantec vulnerability', 'MYDOOM Vulnerability': 'ring: mydoom vulnerability', 'TIVOLI Vulnerability': 'ring: tivoli vulnerability', 'DCOM Vulnerability': 'ring: dcom vulnerability', 'HTTP Vulnerability': 'ring: http vulnerability'}\n"
     ]
    },
    {
     "data": {
      "text/plain": [
       "'https://hub.graphistry.com/graph/graph.html?dataset=27e512bb757c41a4ae8f1037bd934969&type=arrow&viztoken=bec9ee71-fa6b-4122-b553-f20d41899d6f&usertag=6c2f6dc1-pygraphistry-0+unknown&splashAfter=1721027971&info=true&play=0&lockedR=True&bg=%23E2E2E2'"
      ]
     },
     "execution_count": 20,
     "metadata": {},
     "output_type": "execute_result"
    }
   ],
   "source": [
    "axis: Dict[Any, str] = {\n",
    "    v: f'ring: {v.lower()}'\n",
    "    for v in list(g._nodes['vuln_top'].unique())\n",
    "}\n",
    "print('axis', axis)\n",
    "\n",
    "g.ring_categorical_layout(\n",
    "    ring_col='vuln_top',\n",
    "    axis=axis\n",
    ").plot(render=False)"
   ]
  },
  {
   "cell_type": "markdown",
   "id": "74670cda-9ae9-44d0-9ad2-4af1e22b9e8f",
   "metadata": {},
   "source": [
    "Compute a custom label based on the value"
   ]
  },
  {
   "cell_type": "code",
   "execution_count": 23,
   "id": "780c6c1e-d2a5-4738-b5b0-ba3159a356b4",
   "metadata": {
    "execution": {
     "iopub.execute_input": "2024-07-15T07:21:30.149178Z",
     "iopub.status.busy": "2024-07-15T07:21:30.148744Z",
     "iopub.status.idle": "2024-07-15T07:21:32.168853Z",
     "shell.execute_reply": "2024-07-15T07:21:32.168261Z",
     "shell.execute_reply.started": "2024-07-15T07:21:30.149146Z"
    }
   },
   "outputs": [
    {
     "data": {
      "text/plain": [
       "'https://hub.graphistry.com/graph/graph.html?dataset=6b910e61013d40f5a6238ab2acb71f00&type=arrow&viztoken=b678d9bb-8d6b-49bb-b509-2af9b45d6de0&usertag=6c2f6dc1-pygraphistry-0+unknown&splashAfter=1721028107&info=true&play=0&lockedR=True&bg=%23E2E2E2'"
      ]
     },
     "execution_count": 23,
     "metadata": {},
     "output_type": "execute_result"
    }
   ],
   "source": [
    "def axis_to_title(v: str, step: int, radius: float) -> str:\n",
    "    lbl = f'ring: {v.lower()}'\n",
    "    return lbl\n",
    "\n",
    "g.ring_categorical_layout(\n",
    "    ring_col='vuln_top',\n",
    "    format_labels=axis_to_title\n",
    ").plot(render=False)"
   ]
  },
  {
   "cell_type": "markdown",
   "id": "18760e5f-38de-4a48-9976-75d36b10e399",
   "metadata": {},
   "source": [
    "Control more aspects of the axis, like border style"
   ]
  },
  {
   "cell_type": "code",
   "execution_count": 24,
   "id": "71d6d996-7909-4a12-ace6-6ee3e25608db",
   "metadata": {
    "execution": {
     "iopub.execute_input": "2024-07-15T07:22:29.623746Z",
     "iopub.status.busy": "2024-07-15T07:22:29.623154Z",
     "iopub.status.idle": "2024-07-15T07:22:31.658615Z",
     "shell.execute_reply": "2024-07-15T07:22:31.658148Z",
     "shell.execute_reply.started": "2024-07-15T07:22:29.623697Z"
    }
   },
   "outputs": [
    {
     "name": "stdout",
     "output_type": "stream",
     "text": [
      "sample input axis[0]: {'label': 'MS08067 (NetAPI)', 'r': 400.0, 'internal': True}\n",
      "sample output axis[0]: {'r': 400.0, 'label': 'Ring MS08067 (NetAPI)', 'internal': False, 'external': False, 'space': True}\n"
     ]
    },
    {
     "data": {
      "text/plain": [
       "'https://hub.graphistry.com/graph/graph.html?dataset=14effed027694ed59e2ac56114b23edf&type=arrow&viztoken=8c566e91-36ae-4ea2-b49d-0598260edbea&usertag=6c2f6dc1-pygraphistry-0+unknown&splashAfter=1721028166&info=true&play=0&lockedR=True&bg=%23E2E2E2'"
      ]
     },
     "execution_count": 24,
     "metadata": {},
     "output_type": "execute_result"
    }
   ],
   "source": [
    "def fancy_axis_transform(axis: List[Dict]) -> List[Dict]:\n",
    "    \"\"\"\n",
    "      - same radii\n",
    "      - add \"Ring ...\" to labels\n",
    "      - color radial axis based on ring number\n",
    "          * ring 3: internal (blue axis style)\n",
    "          * ring 6: external (orange axis style)\n",
    "          * other rings: space (default gray axis style)\n",
    "    \"\"\"\n",
    "    out = []\n",
    "    print('sample input axis[0]:', axis[0])\n",
    "    for i, ring in enumerate(axis):\n",
    "        out.append({\n",
    "            'r': ring['r'],\n",
    "            'label': f'Ring {ring[\"label\"]}',\n",
    "            'internal': i == 3,  # blue\n",
    "            'external': i == 6,  # orange\n",
    "            'space': i != 3 and i != 6  # gray\n",
    "        })\n",
    "    print('sample output axis[0]:', out[0])\n",
    "    return out\n",
    "\n",
    "g.ring_categorical_layout(\n",
    "    ring_col='vuln_top',\n",
    "    min_r=400,\n",
    "    max_r=1000,\n",
    "    format_axis=fancy_axis_transform\n",
    ").plot(render=False)"
   ]
  },
  {
   "cell_type": "markdown",
   "id": "967069f4-7db4-4c16-ba22-b7eba592d206",
   "metadata": {},
   "source": [
    "## GPU Acceleration\n",
    "\n",
    "For larger graphs, automatic GPU acceleration triggers when `g._nodes` is a `cudf.DataFrame`.\n",
    "\n",
    "To ensure GPU acceleration is used, set `engine='cudf'`\n"
   ]
  },
  {
   "cell_type": "code",
   "execution_count": 7,
   "id": "17c5f1e3-4131-402f-a68d-7fafcca7e5f3",
   "metadata": {
    "execution": {
     "iopub.execute_input": "2024-07-15T07:30:07.893382Z",
     "iopub.status.busy": "2024-07-15T07:30:07.893121Z",
     "iopub.status.idle": "2024-07-15T07:30:10.155285Z",
     "shell.execute_reply": "2024-07-15T07:30:10.154791Z",
     "shell.execute_reply.started": "2024-07-15T07:30:07.893364Z"
    }
   },
   "outputs": [
    {
     "data": {
      "text/plain": [
       "'https://hub.graphistry.com/graph/graph.html?dataset=a337d895c28e4fd2b84bd57475942c5a&type=arrow&viztoken=427551fa-b454-4325-b6df-fc038fc685c2&usertag=6c2f6dc1-pygraphistry-0+unknown&splashAfter=1721028625&info=true&play=0&lockedR=True&bg=%23E2E2E2'"
      ]
     },
     "execution_count": 7,
     "metadata": {},
     "output_type": "execute_result"
    }
   ],
   "source": [
    "import cudf\n",
    "\n",
    "(g\n",
    " .nodes(cudf.from_pandas(g._nodes))\n",
    " .ring_categorical_layout('vuln_top', engine='cudf')\n",
    ").plot(render=False)\n"
   ]
  },
  {
   "cell_type": "markdown",
   "id": "5fbfaf82-0c2f-4210-acda-52e575a3cf84",
   "metadata": {},
   "source": []
  }
 ],
 "metadata": {
  "kernelspec": {
   "display_name": "Python 3.8 (RAPIDS)",
   "language": "python",
   "name": "rapids"
  },
  "language_info": {
   "codemirror_mode": {
    "name": "ipython",
    "version": 3
   },
   "file_extension": ".py",
   "mimetype": "text/x-python",
   "name": "python",
   "nbconvert_exporter": "python",
   "pygments_lexer": "ipython3",
   "version": "3.10.12"
  }
 },
 "nbformat": 4,
 "nbformat_minor": 5
}
