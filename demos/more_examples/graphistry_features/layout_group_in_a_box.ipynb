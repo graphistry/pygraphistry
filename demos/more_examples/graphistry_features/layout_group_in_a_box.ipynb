{
 "cells": [
  {
   "cell_type": "markdown",
   "id": "c561f85c-2f43-466b-9ca6-08564c37b3a0",
   "metadata": {},
   "source": [
    "# GPU-Accelerated Group-in-a-Box Layout for Analyzing Large Graphs\n",
    "\n",
    "Visualizing interactions within large, complex datasets can be challenging. The Group-in-a-Box layout simplifies this by arranging communities into grids, making it easier to analyze relationships within and between groups. It’s especially useful for deeper insights in social media analysis.\n",
    "\n",
    "PyGraphistry extends the [Group-in-a-box Layout for Multifaceted Analysis of Communities](https://www.cs.umd.edu/users/ben/papers/Rodrigues2011Group.pdf) with high-speed performance, flexible customization, and integration into the PyGraphistry ecosystem.\n",
    "\n",
    "## Key Benefits\n",
    "\n",
    "- **Faster Insights**: GPU support accelerates commercial workloads, reducing runtime for a 3M+ edge social network from 18 minutes to just 26 seconds. CPU mode likewise benefits from algorithmic and vector optimizations. The result is rapid analysis iterations that unblocks workflows and achieves previously out-of-reach results.\n",
    "\n",
    "- **Customizable Layouts**:\n",
    "  - **Flexible Partitioning**: Choose from built-in algorithms or custom keys to align partitions with data structures like regional clusters or demographics.\n",
    "  - **Adaptive Community Layouts**: Focus on tightly connected groups or highlight outliers to uncover hidden patterns.\n",
    "\n",
    "- **Clear Visualization of Isolated Nodes**: The PyGraphistry variant additionally arranges isolated nodes in circles around their connected counterparts to handle the common case of noisey nodes within a partition.\n",
    "\n",
    "## Tutorial\n",
    "\n",
    "Follow this tutorial to master PyGraphistry's Group-in-a-Box layout:\n",
    "\n",
    "- Load a 45,000-edge blockchain transaction graph\n",
    "- Layout in seconds on CPU or 1 second on GPU\n",
    "- Customize partitioning and group layouts.\n"
   ]
  },
  {
   "cell_type": "code",
   "execution_count": 31,
   "id": "ecdbc1db-feaf-49f1-bbff-c4937569f941",
   "metadata": {
    "execution": {
     "iopub.execute_input": "2024-10-20T07:59:01.594607Z",
     "iopub.status.busy": "2024-10-20T07:59:01.594232Z",
     "iopub.status.idle": "2024-10-20T07:59:01.600609Z",
     "shell.execute_reply": "2024-10-20T07:59:01.599697Z",
     "shell.execute_reply.started": "2024-10-20T07:59:01.594569Z"
    }
   },
   "outputs": [
    {
     "data": {
      "text/plain": [
       "'0+unknown'"
      ]
     },
     "execution_count": 31,
     "metadata": {},
     "output_type": "execute_result"
    }
   ],
   "source": [
    "import pandas as pd\n",
    "import graphistry\n",
    "graphistry.__version__"
   ]
  },
  {
   "cell_type": "code",
   "execution_count": 2,
   "id": "2ab24fcf-0a6c-42a7-ade3-6a74d6bb7d7e",
   "metadata": {
    "execution": {
     "iopub.execute_input": "2024-10-20T07:53:22.087078Z",
     "iopub.status.busy": "2024-10-20T07:53:22.086711Z",
     "iopub.status.idle": "2024-10-20T07:53:22.841860Z",
     "shell.execute_reply": "2024-10-20T07:53:22.840816Z",
     "shell.execute_reply.started": "2024-10-20T07:53:22.087055Z"
    }
   },
   "outputs": [],
   "source": [
    "# API key page (free GPU account): https://hub.graphistry.com/users/personal/key/\n",
    "graphistry.register(\n",
    "    api=3,\n",
    "    personal_key_id=FILL_ME_IN,\n",
    "    personal_key_secret=FILL_ME_IN\n",
    ")"
   ]
  },
  {
   "cell_type": "markdown",
   "id": "01d595bb-526a-4f0c-a1f2-59b8c65f2d25",
   "metadata": {},
   "source": [
    "## Data\n"
   ]
  },
  {
   "cell_type": "code",
   "execution_count": 12,
   "id": "d7a8d5a5-ec40-4259-8c64-74cb79a76f1d",
   "metadata": {
    "execution": {
     "iopub.execute_input": "2024-10-20T07:55:15.768649Z",
     "iopub.status.busy": "2024-10-20T07:55:15.767798Z",
     "iopub.status.idle": "2024-10-20T07:55:16.816821Z",
     "shell.execute_reply": "2024-10-20T07:55:16.816156Z",
     "shell.execute_reply.started": "2024-10-20T07:55:15.768617Z"
    }
   },
   "outputs": [
    {
     "name": "stdout",
     "output_type": "stream",
     "text": [
      "(45117, 6)\n"
     ]
    },
    {
     "data": {
      "text/html": [
       "<div>\n",
       "<style scoped>\n",
       "    .dataframe tbody tr th:only-of-type {\n",
       "        vertical-align: middle;\n",
       "    }\n",
       "\n",
       "    .dataframe tbody tr th {\n",
       "        vertical-align: top;\n",
       "    }\n",
       "\n",
       "    .dataframe thead th {\n",
       "        text-align: right;\n",
       "    }\n",
       "</style>\n",
       "<table border=\"1\" class=\"dataframe\">\n",
       "  <thead>\n",
       "    <tr style=\"text-align: right;\">\n",
       "      <th></th>\n",
       "      <th>Amount $</th>\n",
       "      <th>Date</th>\n",
       "      <th>Destination</th>\n",
       "      <th>Source</th>\n",
       "      <th>Transaction ID</th>\n",
       "      <th>isTainted</th>\n",
       "    </tr>\n",
       "  </thead>\n",
       "  <tbody>\n",
       "    <tr>\n",
       "      <th>0</th>\n",
       "      <td>3223.975200</td>\n",
       "      <td>1.385240e+12</td>\n",
       "      <td>84a0b53e1ac008b8dd0fd6212d4b7fa2...</td>\n",
       "      <td>2dd13954e18508bb8b3a41d96a022be9...</td>\n",
       "      <td>b6eb8ba20df31fa74fbe7755f58c18f82a599d6bb5fa79...</td>\n",
       "      <td>0</td>\n",
       "    </tr>\n",
       "    <tr>\n",
       "      <th>1</th>\n",
       "      <td>3708.021600</td>\n",
       "      <td>1.401500e+12</td>\n",
       "      <td>3b62a891b99969042d4e6ac8158d0a18...</td>\n",
       "      <td>7c74d3afb41e536e26948a1d2455a7c7...</td>\n",
       "      <td>60df3c67063e136a0c9715edcd12ae717e6f9ed492afe2...</td>\n",
       "      <td>0</td>\n",
       "    </tr>\n",
       "    <tr>\n",
       "      <th>2</th>\n",
       "      <td>2.480000</td>\n",
       "      <td>1.398560e+12</td>\n",
       "      <td>3b62a891b99969042d4e6ac8158d0a18...</td>\n",
       "      <td>50dced19b8ee41114916bf3ca894f455...</td>\n",
       "      <td>a6aafd3d85600844536b8a5f2c255686c33dc4969e68a4...</td>\n",
       "      <td>0</td>\n",
       "    </tr>\n",
       "    <tr>\n",
       "      <th>3</th>\n",
       "      <td>991986.487600</td>\n",
       "      <td>1.385540e+12</td>\n",
       "      <td>e52baeb69fbd7a24f3ef825bc4e20973...</td>\n",
       "      <td>4289f81f7ce5dfba9bf6e20794c76a9f...</td>\n",
       "      <td>1cea981590e8a3ac67ba872f9411412c6b6f4dc7358071...</td>\n",
       "      <td>0</td>\n",
       "    </tr>\n",
       "    <tr>\n",
       "      <th>4</th>\n",
       "      <td>902.063544</td>\n",
       "      <td>1.387850e+12</td>\n",
       "      <td>a209cf1b3dc79338896ffa773b4249ff...</td>\n",
       "      <td>7f0e2244e41718b68e36ed0c810d084b...</td>\n",
       "      <td>a399e3920b1e6a1e487b0559821f823065970499e74cbc...</td>\n",
       "      <td>0</td>\n",
       "    </tr>\n",
       "  </tbody>\n",
       "</table>\n",
       "</div>"
      ],
      "text/plain": [
       "        Amount $          Date                          Destination  \\\n",
       "0    3223.975200  1.385240e+12  84a0b53e1ac008b8dd0fd6212d4b7fa2...   \n",
       "1    3708.021600  1.401500e+12  3b62a891b99969042d4e6ac8158d0a18...   \n",
       "2       2.480000  1.398560e+12  3b62a891b99969042d4e6ac8158d0a18...   \n",
       "3  991986.487600  1.385540e+12  e52baeb69fbd7a24f3ef825bc4e20973...   \n",
       "4     902.063544  1.387850e+12  a209cf1b3dc79338896ffa773b4249ff...   \n",
       "\n",
       "                                Source  \\\n",
       "0  2dd13954e18508bb8b3a41d96a022be9...   \n",
       "1  7c74d3afb41e536e26948a1d2455a7c7...   \n",
       "2  50dced19b8ee41114916bf3ca894f455...   \n",
       "3  4289f81f7ce5dfba9bf6e20794c76a9f...   \n",
       "4  7f0e2244e41718b68e36ed0c810d084b...   \n",
       "\n",
       "                                      Transaction ID  isTainted  \n",
       "0  b6eb8ba20df31fa74fbe7755f58c18f82a599d6bb5fa79...          0  \n",
       "1  60df3c67063e136a0c9715edcd12ae717e6f9ed492afe2...          0  \n",
       "2  a6aafd3d85600844536b8a5f2c255686c33dc4969e68a4...          0  \n",
       "3  1cea981590e8a3ac67ba872f9411412c6b6f4dc7358071...          0  \n",
       "4  a399e3920b1e6a1e487b0559821f823065970499e74cbc...          0  "
      ]
     },
     "execution_count": 12,
     "metadata": {},
     "output_type": "execute_result"
    }
   ],
   "source": [
    "e_df = pd.read_csv(\n",
    "    'https://raw.githubusercontent.com/graphistry/pygraphistry/refs/heads/master/demos/data/transactions.csv',\n",
    ")\n",
    "\n",
    "print(e_df.shape)\n",
    "e_df.head()"
   ]
  },
  {
   "cell_type": "code",
   "execution_count": 13,
   "id": "454bcb4a-751f-442d-a229-48a4927f3e67",
   "metadata": {
    "execution": {
     "iopub.execute_input": "2024-10-20T07:55:24.183782Z",
     "iopub.status.busy": "2024-10-20T07:55:24.183207Z",
     "iopub.status.idle": "2024-10-20T07:55:24.187705Z",
     "shell.execute_reply": "2024-10-20T07:55:24.186950Z",
     "shell.execute_reply.started": "2024-10-20T07:55:24.183753Z"
    }
   },
   "outputs": [],
   "source": [
    "g = graphistry.edges(e_df, 'Source', 'Destination')"
   ]
  },
  {
   "cell_type": "code",
   "execution_count": 14,
   "id": "48e630d3-c830-4f2c-8820-7e354de670ff",
   "metadata": {
    "execution": {
     "iopub.execute_input": "2024-10-20T07:55:24.486484Z",
     "iopub.status.busy": "2024-10-20T07:55:24.486127Z",
     "iopub.status.idle": "2024-10-20T07:55:24.490744Z",
     "shell.execute_reply": "2024-10-20T07:55:24.490080Z",
     "shell.execute_reply.started": "2024-10-20T07:55:24.486463Z"
    }
   },
   "outputs": [
    {
     "data": {
      "text/plain": [
       "(45117, 6)"
      ]
     },
     "execution_count": 14,
     "metadata": {},
     "output_type": "execute_result"
    }
   ],
   "source": [
    "g._edges.shape"
   ]
  },
  {
   "cell_type": "code",
   "execution_count": 17,
   "id": "1b5fd094-f0dc-4d0f-98b2-614521f9aac0",
   "metadata": {
    "execution": {
     "iopub.execute_input": "2024-10-20T07:55:36.201321Z",
     "iopub.status.busy": "2024-10-20T07:55:36.200804Z",
     "iopub.status.idle": "2024-10-20T07:55:36.215272Z",
     "shell.execute_reply": "2024-10-20T07:55:36.214658Z",
     "shell.execute_reply.started": "2024-10-20T07:55:36.201295Z"
    }
   },
   "outputs": [
    {
     "data": {
      "text/plain": [
       "(28832, 1)"
      ]
     },
     "execution_count": 17,
     "metadata": {},
     "output_type": "execute_result"
    }
   ],
   "source": [
    "g.materialize_nodes()._nodes.shape"
   ]
  },
  {
   "cell_type": "markdown",
   "id": "700a3b6d-b8e0-4b37-acbf-84ecc7a62fc8",
   "metadata": {},
   "source": [
    "### Regular layout"
   ]
  },
  {
   "cell_type": "code",
   "execution_count": 18,
   "id": "eabbd60f-29e8-4380-b0bd-0f39c0ee11c3",
   "metadata": {
    "execution": {
     "iopub.execute_input": "2024-10-20T07:56:05.438739Z",
     "iopub.status.busy": "2024-10-20T07:56:05.438105Z",
     "iopub.status.idle": "2024-10-20T07:56:10.628320Z",
     "shell.execute_reply": "2024-10-20T07:56:10.627587Z",
     "shell.execute_reply.started": "2024-10-20T07:56:05.438708Z"
    }
   },
   "outputs": [
    {
     "data": {
      "text/html": [
       "\n",
       "            <iframe id=\"19684636-2f2b-46ff-b0b0-afb6d760cf67\" src=\"https://hub.graphistry.com/graph/graph.html?dataset=205fc69b90e9400fb0661e6c1232e1aa&type=arrow&viztoken=4a63f463-4334-4cc4-99cf-fa00a6e1b7c1&usertag=db748d2a-pygraphistry-0+unknown&splashAfter=1729410985&info=true\"\n",
       "                    allowfullscreen=\"true\" webkitallowfullscreen=\"true\" mozallowfullscreen=\"true\"\n",
       "                    oallowfullscreen=\"true\" msallowfullscreen=\"true\"\n",
       "                    style=\"width:100%; height:500px; border: 1px solid #DDD; overflow: hidden\"\n",
       "                    \n",
       "            >\n",
       "            </iframe>\n",
       "        \n",
       "            <script>\n",
       "                try {\n",
       "                  $(\"#19684636-2f2b-46ff-b0b0-afb6d760cf67\").bind('mousewheel', function(e) { e.preventDefault(); });\n",
       "                } catch (e) { console.error('exn catching scroll', e); }\n",
       "            </script>\n",
       "        "
      ],
      "text/plain": [
       "<IPython.core.display.HTML object>"
      ]
     },
     "execution_count": 18,
     "metadata": {},
     "output_type": "execute_result"
    }
   ],
   "source": [
    "g.plot()"
   ]
  },
  {
   "cell_type": "markdown",
   "id": "84505e00-8c26-42f5-9f5f-93b5fe610d8e",
   "metadata": {},
   "source": [
    "## Group-in-a-box: CPU Mode\n",
    "\n",
    "Passing in a pandas dataframe defaults to using igraph rf layout (CPU) within each partition. Even in CPU mode, it is significantly faster than published group-in-a-box algorithms through a combination of asymptotic and machine-oriented optimizations."
   ]
  },
  {
   "cell_type": "code",
   "execution_count": 19,
   "id": "55d2f723-a107-4bf7-b4a8-e6bc23eb78c4",
   "metadata": {
    "execution": {
     "iopub.execute_input": "2024-10-20T07:56:20.304481Z",
     "iopub.status.busy": "2024-10-20T07:56:20.303729Z",
     "iopub.status.idle": "2024-10-20T07:56:35.298595Z",
     "shell.execute_reply": "2024-10-20T07:56:35.298072Z",
     "shell.execute_reply.started": "2024-10-20T07:56:20.304450Z"
    }
   },
   "outputs": [
    {
     "name": "stderr",
     "output_type": "stream",
     "text": [
      "edge index g._edge not set so using edge index as ID; set g._edge via g.edges(), or change merge_if_existing to Falseedge index g._edge __edge_index__ missing as attribute in ig; using ig edge order for IDsPandas engine detected. FA2 falling back to igraph fredge index g._edge not set so using edge index as ID; set g._edge via g.edges(), or change merge_if_existing to Falseedge index g._edge __edge_index__ missing as attribute in ig; using ig edge order for IDs"
     ]
    }
   ],
   "source": [
    "g2 = g.group_in_a_box_layout()"
   ]
  },
  {
   "cell_type": "code",
   "execution_count": 20,
   "id": "0b181b04-03e1-41aa-bdda-8b9074a20473",
   "metadata": {
    "execution": {
     "iopub.execute_input": "2024-10-20T07:56:35.299582Z",
     "iopub.status.busy": "2024-10-20T07:56:35.299433Z",
     "iopub.status.idle": "2024-10-20T07:56:44.252641Z",
     "shell.execute_reply": "2024-10-20T07:56:44.251836Z",
     "shell.execute_reply.started": "2024-10-20T07:56:35.299568Z"
    }
   },
   "outputs": [
    {
     "data": {
      "text/html": [
       "\n",
       "            <iframe id=\"8f0aba33-f887-4bdf-b80f-01c1c1e2e888\" src=\"https://hub.graphistry.com/graph/graph.html?dataset=d49b61d0cbd242c6b638c8240eb45049&type=arrow&viztoken=4addc748-1700-4f0b-9b79-5e4dbe5a5308&usertag=db748d2a-pygraphistry-0+unknown&splashAfter=1729411019&info=true&play=0&edgeOpacity=0.25\"\n",
       "                    allowfullscreen=\"true\" webkitallowfullscreen=\"true\" mozallowfullscreen=\"true\"\n",
       "                    oallowfullscreen=\"true\" msallowfullscreen=\"true\"\n",
       "                    style=\"width:100%; height:500px; border: 1px solid #DDD; overflow: hidden\"\n",
       "                    \n",
       "            >\n",
       "            </iframe>\n",
       "        \n",
       "            <script>\n",
       "                try {\n",
       "                  $(\"#8f0aba33-f887-4bdf-b80f-01c1c1e2e888\").bind('mousewheel', function(e) { e.preventDefault(); });\n",
       "                } catch (e) { console.error('exn catching scroll', e); }\n",
       "            </script>\n",
       "        "
      ],
      "text/plain": [
       "<IPython.core.display.HTML object>"
      ]
     },
     "execution_count": 20,
     "metadata": {},
     "output_type": "execute_result"
    }
   ],
   "source": [
    "g2.plot()"
   ]
  },
  {
   "cell_type": "markdown",
   "id": "50b28bbe-77f1-4652-b674-c78489fd5ce4",
   "metadata": {},
   "source": [
    "### GPU Mode\n",
    "\n",
    "Switching the input to GPU dataframes automatically transitions execution to GPU mode, which is dramatically faster.\n",
    "\n",
    "The GPU mode defaults to ForceAtlas2, which generally shows a superior layout within a group when zoomed in."
   ]
  },
  {
   "cell_type": "code",
   "execution_count": 26,
   "id": "eb73c192-15d3-4d0d-b90e-cc5aa2c219c4",
   "metadata": {
    "execution": {
     "iopub.execute_input": "2024-10-20T07:57:13.960679Z",
     "iopub.status.busy": "2024-10-20T07:57:13.960255Z",
     "iopub.status.idle": "2024-10-20T07:57:15.018407Z",
     "shell.execute_reply": "2024-10-20T07:57:15.017895Z",
     "shell.execute_reply.started": "2024-10-20T07:57:13.960640Z"
    }
   },
   "outputs": [],
   "source": [
    "g_gpu = g.to_cudf()\n",
    "\n",
    "g2_gpu = g_gpu.group_in_a_box_layout()"
   ]
  },
  {
   "cell_type": "code",
   "execution_count": 27,
   "id": "afcf2137-866f-40bd-be8b-1503d7deff9a",
   "metadata": {
    "execution": {
     "iopub.execute_input": "2024-10-20T07:57:18.473859Z",
     "iopub.status.busy": "2024-10-20T07:57:18.473478Z",
     "iopub.status.idle": "2024-10-20T07:57:25.723252Z",
     "shell.execute_reply": "2024-10-20T07:57:25.722517Z",
     "shell.execute_reply.started": "2024-10-20T07:57:18.473830Z"
    }
   },
   "outputs": [
    {
     "data": {
      "text/html": [
       "\n",
       "            <iframe id=\"d2d1455b-8183-471a-b582-b701d154a383\" src=\"https://hub.graphistry.com/graph/graph.html?dataset=f068ded9282f4759a64821834eb6c7cd&type=arrow&viztoken=4fa2964a-6c58-4872-afe8-037f4aafb79d&usertag=db748d2a-pygraphistry-0+unknown&splashAfter=1729411060&info=true&play=0&edgeOpacity=0.25\"\n",
       "                    allowfullscreen=\"true\" webkitallowfullscreen=\"true\" mozallowfullscreen=\"true\"\n",
       "                    oallowfullscreen=\"true\" msallowfullscreen=\"true\"\n",
       "                    style=\"width:100%; height:500px; border: 1px solid #DDD; overflow: hidden\"\n",
       "                    \n",
       "            >\n",
       "            </iframe>\n",
       "        \n",
       "            <script>\n",
       "                try {\n",
       "                  $(\"#d2d1455b-8183-471a-b582-b701d154a383\").bind('mousewheel', function(e) { e.preventDefault(); });\n",
       "                } catch (e) { console.error('exn catching scroll', e); }\n",
       "            </script>\n",
       "        "
      ],
      "text/plain": [
       "<IPython.core.display.HTML object>"
      ]
     },
     "execution_count": 27,
     "metadata": {},
     "output_type": "execute_result"
    }
   ],
   "source": [
    "g2_gpu.plot()"
   ]
  },
  {
   "cell_type": "markdown",
   "id": "ddd540b4-1706-41bd-815d-29e9cd399f14",
   "metadata": {},
   "source": [
    "## Configure: Precomputed partition and alternate layout\n",
    "\n",
    "* Use an existing node attribute to predetermine box membership\n",
    "* Control the layout algorithm and its parameters"
   ]
  },
  {
   "cell_type": "code",
   "execution_count": 28,
   "id": "11ab19e4-d04b-4c98-983b-abd145d307fa",
   "metadata": {
    "execution": {
     "iopub.execute_input": "2024-10-20T07:57:25.725242Z",
     "iopub.status.busy": "2024-10-20T07:57:25.724696Z",
     "iopub.status.idle": "2024-10-20T07:57:25.817733Z",
     "shell.execute_reply": "2024-10-20T07:57:25.817258Z",
     "shell.execute_reply.started": "2024-10-20T07:57:25.725214Z"
    }
   },
   "outputs": [],
   "source": [
    "g_louvain = g.to_cudf().compute_cugraph('louvain', directed=False)\n",
    "assert 'louvain' in g_louvain._nodes"
   ]
  },
  {
   "cell_type": "code",
   "execution_count": 29,
   "id": "6d39e26d-ae20-4d24-8bd9-c59464b5b9f3",
   "metadata": {
    "execution": {
     "iopub.execute_input": "2024-10-20T07:57:25.818532Z",
     "iopub.status.busy": "2024-10-20T07:57:25.818383Z",
     "iopub.status.idle": "2024-10-20T07:57:25.822437Z",
     "shell.execute_reply": "2024-10-20T07:57:25.821949Z",
     "shell.execute_reply.started": "2024-10-20T07:57:25.818517Z"
    }
   },
   "outputs": [
    {
     "data": {
      "text/plain": [
       "{'igraph_layout_algs': 'auto, automatic, bipartite, circle, circular, dh, davidson_harel, drl, drl_3d, fr, fruchterman_reingold, fr_3d, fr3d, fruchterman_reingold_3d, grid, grid_3d, graphopt, kk, kamada_kawai, kk_3d, kk3d, kamada_kawai_3d, lgl, large, large_graph, mds, random, random_3d, rt, tree, reingold_tilford, rt_circular, reingold_tilford_circular, sphere, spherical, circle_3d, circular_3d, star, sugiyama',\n",
       " 'cugraph_layout_algs': 'force_atlas2'}"
      ]
     },
     "execution_count": 29,
     "metadata": {},
     "output_type": "execute_result"
    }
   ],
   "source": [
    "from graphistry.plugins.igraph import layout_algs as igraph_layouts\n",
    "from graphistry.plugins.cugraph import layout_algs as cugraph_layouts\n",
    "\n",
    "{\n",
    "    'igraph_layout_algs': ', '.join(igraph_layouts),\n",
    "    'cugraph_layout_algs': ', '.join(cugraph_layouts)\n",
    "}"
   ]
  },
  {
   "cell_type": "code",
   "execution_count": 30,
   "id": "7932188b-8758-4e52-a64f-a487ea675735",
   "metadata": {
    "execution": {
     "iopub.execute_input": "2024-10-20T07:57:25.823853Z",
     "iopub.status.busy": "2024-10-20T07:57:25.823446Z",
     "iopub.status.idle": "2024-10-20T07:57:33.333604Z",
     "shell.execute_reply": "2024-10-20T07:57:33.332786Z",
     "shell.execute_reply.started": "2024-10-20T07:57:25.823837Z"
    }
   },
   "outputs": [
    {
     "data": {
      "text/html": [
       "\n",
       "            <iframe id=\"096440ab-54f6-4005-9036-1b408f5d6ada\" src=\"https://hub.graphistry.com/graph/graph.html?dataset=5fae803e4fcc4070aaf74de38cc47592&type=arrow&viztoken=a6b847f1-6a56-4976-8370-91f92ed9d3e1&usertag=db748d2a-pygraphistry-0+unknown&splashAfter=1729411068&info=true&play=0&edgeOpacity=0.25\"\n",
       "                    allowfullscreen=\"true\" webkitallowfullscreen=\"true\" mozallowfullscreen=\"true\"\n",
       "                    oallowfullscreen=\"true\" msallowfullscreen=\"true\"\n",
       "                    style=\"width:100%; height:500px; border: 1px solid #DDD; overflow: hidden\"\n",
       "                    \n",
       "            >\n",
       "            </iframe>\n",
       "        \n",
       "            <script>\n",
       "                try {\n",
       "                  $(\"#096440ab-54f6-4005-9036-1b408f5d6ada\").bind('mousewheel', function(e) { e.preventDefault(); });\n",
       "                } catch (e) { console.error('exn catching scroll', e); }\n",
       "            </script>\n",
       "        "
      ],
      "text/plain": [
       "<IPython.core.display.HTML object>"
      ]
     },
     "execution_count": 30,
     "metadata": {},
     "output_type": "execute_result"
    }
   ],
   "source": [
    "(g_louvain\n",
    "     .group_in_a_box_layout(\n",
    "         partition_key='louvain',\n",
    "         layout_alg='force_atlas2',\n",
    "         layout_params={\n",
    "             'lin_log_mode': True\n",
    "         }\n",
    "     )\n",
    ").plot()"
   ]
  },
  {
   "cell_type": "code",
   "execution_count": null,
   "id": "445f3591-f35d-4931-9b52-0432bdf45ec6",
   "metadata": {},
   "outputs": [],
   "source": []
  },
  {
   "cell_type": "code",
   "execution_count": null,
   "id": "4962a2c5-4229-40e6-a65a-9625b3e5a8a7",
   "metadata": {},
   "outputs": [],
   "source": []
  }
 ],
 "metadata": {
  "kernelspec": {
   "display_name": "Python 3.8 (RAPIDS)",
   "language": "python",
   "name": "rapids"
  },
  "language_info": {
   "codemirror_mode": {
    "name": "ipython",
    "version": 3
   },
   "file_extension": ".py",
   "mimetype": "text/x-python",
   "name": "python",
   "nbconvert_exporter": "python",
   "pygments_lexer": "ipython3",
   "version": "3.10.12"
  }
 },
 "nbformat": 4,
 "nbformat_minor": 5
}
