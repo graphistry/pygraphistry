{
 "cells": [
  {
   "cell_type": "markdown",
   "id": "c561f85c-2f43-466b-9ca6-08564c37b3a0",
   "metadata": {},
   "source": [
    "# GPU-Accelerated Group-in-a-Box Layout for Analyzing Large Graphs\n",
    "\n",
    "Visualizing interactions within large, complex datasets can be challenging. The Group-in-a-Box layout simplifies this by arranging communities into grids, making it easier to analyze relationships within and between groups. It’s especially useful for deeper insights in social media analysis.\n",
    "\n",
    "PyGraphistry extends the [Group-in-a-box Layout for Multifaceted Analysis of Communities](https://www.cs.umd.edu/users/ben/papers/Rodrigues2011Group.pdf) with high-speed performance, flexible customization, and integration into the PyGraphistry ecosystem.\n",
    "\n",
    "## Key Benefits\n",
    "\n",
    "- **Faster Insights**: GPU support accelerates commercial workloads, reducing runtime for a 3M+ edge social network from 18 minutes to just 26 seconds. CPU mode likewise benefits from algorithmic and vector optimizations. The result is rapid analysis iterations that unblocks workflows and achieves previously out-of-reach results.\n",
    "\n",
    "- **Customizable Layouts**:\n",
    "  - **Flexible Partitioning**: Choose from built-in algorithms or custom keys to align partitions with data structures like regional clusters or demographics.\n",
    "  - **Adaptive Community Layouts**: Focus on tightly connected groups or highlight outliers to uncover hidden patterns.\n",
    "\n",
    "- **Clear Visualization of Isolated Nodes**: The PyGraphistry variant additionally arranges isolated nodes in circles around their connected counterparts to handle the common case of noisey nodes within a partition.\n",
    "\n",
    "## Tutorial\n",
    "\n",
    "Follow this tutorial to master PyGraphistry's Group-in-a-Box layout:\n",
    "\n",
    "- Load an 88,000-edge Facebook network.\n",
    "- Layout in seconds on CPU or sub-second on GPU.\n",
    "- Customize partitioning and group layouts.\n"
   ]
  },
  {
   "cell_type": "code",
   "execution_count": 1,
   "id": "ecdbc1db-feaf-49f1-bbff-c4937569f941",
   "metadata": {
    "execution": {
     "iopub.execute_input": "2024-10-20T06:23:57.860884Z",
     "iopub.status.busy": "2024-10-20T06:23:57.860712Z",
     "iopub.status.idle": "2024-10-20T06:24:01.889907Z",
     "shell.execute_reply": "2024-10-20T06:24:01.889277Z",
     "shell.execute_reply.started": "2024-10-20T06:23:57.860866Z"
    }
   },
   "outputs": [
    {
     "data": {
      "text/plain": [
       "'0+unknown'"
      ]
     },
     "execution_count": 1,
     "metadata": {},
     "output_type": "execute_result"
    }
   ],
   "source": [
    "import pandas as pd\n",
    "import graphistry\n",
    "graphistry.__version__"
   ]
  },
  {
   "cell_type": "code",
   "execution_count": 2,
   "id": "2ab24fcf-0a6c-42a7-ade3-6a74d6bb7d7e",
   "metadata": {
    "execution": {
     "iopub.execute_input": "2024-10-20T06:24:01.892195Z",
     "iopub.status.busy": "2024-10-20T06:24:01.891534Z",
     "iopub.status.idle": "2024-10-20T06:24:02.653612Z",
     "shell.execute_reply": "2024-10-20T06:24:02.652848Z",
     "shell.execute_reply.started": "2024-10-20T06:24:01.892171Z"
    }
   },
   "outputs": [],
   "source": [
    "# API key page (free GPU account): https://hub.graphistry.com/users/personal/key/\n",
    "graphistry.register(\n",
    "    api=3,\n",
    "    personal_key_id=FILL_ME_IN,\n",
    "    personal_key_secret=FILL_ME_IN\n",
    ")"
   ]
  },
  {
   "cell_type": "markdown",
   "id": "01d595bb-526a-4f0c-a1f2-59b8c65f2d25",
   "metadata": {},
   "source": [
    "## Data\n"
   ]
  },
  {
   "cell_type": "code",
   "execution_count": 18,
   "id": "d7a8d5a5-ec40-4259-8c64-74cb79a76f1d",
   "metadata": {
    "execution": {
     "iopub.execute_input": "2024-10-20T06:26:38.158920Z",
     "iopub.status.busy": "2024-10-20T06:26:38.158274Z",
     "iopub.status.idle": "2024-10-20T06:26:38.588977Z",
     "shell.execute_reply": "2024-10-20T06:26:38.588498Z",
     "shell.execute_reply.started": "2024-10-20T06:26:38.158891Z"
    }
   },
   "outputs": [
    {
     "name": "stdout",
     "output_type": "stream",
     "text": [
      "(88234, 2)\n"
     ]
    },
    {
     "data": {
      "text/html": [
       "<div>\n",
       "<style scoped>\n",
       "    .dataframe tbody tr th:only-of-type {\n",
       "        vertical-align: middle;\n",
       "    }\n",
       "\n",
       "    .dataframe tbody tr th {\n",
       "        vertical-align: top;\n",
       "    }\n",
       "\n",
       "    .dataframe thead th {\n",
       "        text-align: right;\n",
       "    }\n",
       "</style>\n",
       "<table border=\"1\" class=\"dataframe\">\n",
       "  <thead>\n",
       "    <tr style=\"text-align: right;\">\n",
       "      <th></th>\n",
       "      <th>s</th>\n",
       "      <th>d</th>\n",
       "    </tr>\n",
       "  </thead>\n",
       "  <tbody>\n",
       "    <tr>\n",
       "      <th>0</th>\n",
       "      <td>0</td>\n",
       "      <td>1</td>\n",
       "    </tr>\n",
       "    <tr>\n",
       "      <th>1</th>\n",
       "      <td>0</td>\n",
       "      <td>2</td>\n",
       "    </tr>\n",
       "    <tr>\n",
       "      <th>2</th>\n",
       "      <td>0</td>\n",
       "      <td>3</td>\n",
       "    </tr>\n",
       "    <tr>\n",
       "      <th>3</th>\n",
       "      <td>0</td>\n",
       "      <td>4</td>\n",
       "    </tr>\n",
       "    <tr>\n",
       "      <th>4</th>\n",
       "      <td>0</td>\n",
       "      <td>5</td>\n",
       "    </tr>\n",
       "  </tbody>\n",
       "</table>\n",
       "</div>"
      ],
      "text/plain": [
       "   s  d\n",
       "0  0  1\n",
       "1  0  2\n",
       "2  0  3\n",
       "3  0  4\n",
       "4  0  5"
      ]
     },
     "execution_count": 18,
     "metadata": {},
     "output_type": "execute_result"
    }
   ],
   "source": [
    "e_df = pd.read_csv(\n",
    "    'https://raw.githubusercontent.com/graphistry/pygraphistry/refs/heads/master/demos/data/facebook_combined.txt',\n",
    "    sep=' ',\n",
    "    names=['s', 'd']\n",
    ")\n",
    "\n",
    "print(e_df.shape)\n",
    "e_df.head()"
   ]
  },
  {
   "cell_type": "code",
   "execution_count": 42,
   "id": "454bcb4a-751f-442d-a229-48a4927f3e67",
   "metadata": {
    "execution": {
     "iopub.execute_input": "2024-10-20T06:37:18.063109Z",
     "iopub.status.busy": "2024-10-20T06:37:18.062463Z",
     "iopub.status.idle": "2024-10-20T06:37:18.067056Z",
     "shell.execute_reply": "2024-10-20T06:37:18.066349Z",
     "shell.execute_reply.started": "2024-10-20T06:37:18.063080Z"
    }
   },
   "outputs": [],
   "source": [
    "g = graphistry.edges(e_df, 's', 'd').scene_settings(point_size=0.5)"
   ]
  },
  {
   "cell_type": "markdown",
   "id": "700a3b6d-b8e0-4b37-acbf-84ecc7a62fc8",
   "metadata": {},
   "source": [
    "### Regular layout"
   ]
  },
  {
   "cell_type": "code",
   "execution_count": 43,
   "id": "eabbd60f-29e8-4380-b0bd-0f39c0ee11c3",
   "metadata": {
    "execution": {
     "iopub.execute_input": "2024-10-20T06:37:19.119351Z",
     "iopub.status.busy": "2024-10-20T06:37:19.118551Z",
     "iopub.status.idle": "2024-10-20T06:37:21.508184Z",
     "shell.execute_reply": "2024-10-20T06:37:21.507310Z",
     "shell.execute_reply.started": "2024-10-20T06:37:19.119318Z"
    }
   },
   "outputs": [
    {
     "data": {
      "text/html": [
       "\n",
       "            <iframe id=\"8fc57883-aff3-4707-bf3e-e0a564cfb574\" src=\"https://hub.graphistry.com/graph/graph.html?dataset=23fe61bf48604b9ca24360aaa2a71f31&type=arrow&viztoken=f9731b24-fff0-4459-a7f0-cff372879db1&usertag=db748d2a-pygraphistry-0+unknown&splashAfter=1729406256&info=true&pointSize=0.5\"\n",
       "                    allowfullscreen=\"true\" webkitallowfullscreen=\"true\" mozallowfullscreen=\"true\"\n",
       "                    oallowfullscreen=\"true\" msallowfullscreen=\"true\"\n",
       "                    style=\"width:100%; height:500px; border: 1px solid #DDD; overflow: hidden\"\n",
       "                    \n",
       "            >\n",
       "            </iframe>\n",
       "        \n",
       "            <script>\n",
       "                try {\n",
       "                  $(\"#8fc57883-aff3-4707-bf3e-e0a564cfb574\").bind('mousewheel', function(e) { e.preventDefault(); });\n",
       "                } catch (e) { console.error('exn catching scroll', e); }\n",
       "            </script>\n",
       "        "
      ],
      "text/plain": [
       "<IPython.core.display.HTML object>"
      ]
     },
     "execution_count": 43,
     "metadata": {},
     "output_type": "execute_result"
    }
   ],
   "source": [
    "g.plot()"
   ]
  },
  {
   "cell_type": "markdown",
   "id": "84505e00-8c26-42f5-9f5f-93b5fe610d8e",
   "metadata": {},
   "source": [
    "## Group-in-a-box\n",
    "\n",
    "Passing in a pandas dataframe defaults to using igraph rf layout (CPU) for each partition"
   ]
  },
  {
   "cell_type": "code",
   "execution_count": 44,
   "id": "55d2f723-a107-4bf7-b4a8-e6bc23eb78c4",
   "metadata": {
    "execution": {
     "iopub.execute_input": "2024-10-20T06:37:26.321136Z",
     "iopub.status.busy": "2024-10-20T06:37:26.320461Z",
     "iopub.status.idle": "2024-10-20T06:37:30.057794Z",
     "shell.execute_reply": "2024-10-20T06:37:30.057290Z",
     "shell.execute_reply.started": "2024-10-20T06:37:26.321107Z"
    }
   },
   "outputs": [
    {
     "name": "stderr",
     "output_type": "stream",
     "text": [
      "edge index g._edge not set so using edge index as ID; set g._edge via g.edges(), or change merge_if_existing to Falseedge index g._edge __edge_index__ missing as attribute in ig; using ig edge order for IDsPandas engine detected. FA2 falling back to igraph fredge index g._edge not set so using edge index as ID; set g._edge via g.edges(), or change merge_if_existing to Falseedge index g._edge __edge_index__ missing as attribute in ig; using ig edge order for IDs"
     ]
    }
   ],
   "source": [
    "g2 = g.group_in_a_box_layout()"
   ]
  },
  {
   "cell_type": "code",
   "execution_count": 45,
   "id": "0b181b04-03e1-41aa-bdda-8b9074a20473",
   "metadata": {
    "execution": {
     "iopub.execute_input": "2024-10-20T06:37:30.058825Z",
     "iopub.status.busy": "2024-10-20T06:37:30.058623Z",
     "iopub.status.idle": "2024-10-20T06:37:33.284057Z",
     "shell.execute_reply": "2024-10-20T06:37:33.283318Z",
     "shell.execute_reply.started": "2024-10-20T06:37:30.058809Z"
    }
   },
   "outputs": [
    {
     "data": {
      "text/html": [
       "\n",
       "            <iframe id=\"b591930c-0d8f-42e8-adac-aee473e81063\" src=\"https://hub.graphistry.com/graph/graph.html?dataset=261598a8ca57433282f53469b6508877&type=arrow&viztoken=5cf0fb7d-7852-46fb-857d-b533ec75fd3f&usertag=db748d2a-pygraphistry-0+unknown&splashAfter=1729406268&info=true&pointSize=0.5&play=0&edgeOpacity=0.25\"\n",
       "                    allowfullscreen=\"true\" webkitallowfullscreen=\"true\" mozallowfullscreen=\"true\"\n",
       "                    oallowfullscreen=\"true\" msallowfullscreen=\"true\"\n",
       "                    style=\"width:100%; height:500px; border: 1px solid #DDD; overflow: hidden\"\n",
       "                    \n",
       "            >\n",
       "            </iframe>\n",
       "        \n",
       "            <script>\n",
       "                try {\n",
       "                  $(\"#b591930c-0d8f-42e8-adac-aee473e81063\").bind('mousewheel', function(e) { e.preventDefault(); });\n",
       "                } catch (e) { console.error('exn catching scroll', e); }\n",
       "            </script>\n",
       "        "
      ],
      "text/plain": [
       "<IPython.core.display.HTML object>"
      ]
     },
     "execution_count": 45,
     "metadata": {},
     "output_type": "execute_result"
    }
   ],
   "source": [
    "g2.plot()"
   ]
  },
  {
   "cell_type": "markdown",
   "id": "50b28bbe-77f1-4652-b674-c78489fd5ce4",
   "metadata": {},
   "source": [
    "### GPU Mode\n",
    "\n",
    "Switching the input to GPU dataframes automatically transitions execution to GPU mode"
   ]
  },
  {
   "cell_type": "code",
   "execution_count": 46,
   "id": "eb73c192-15d3-4d0d-b90e-cc5aa2c219c4",
   "metadata": {
    "execution": {
     "iopub.execute_input": "2024-10-20T06:37:33.841751Z",
     "iopub.status.busy": "2024-10-20T06:37:33.841390Z",
     "iopub.status.idle": "2024-10-20T06:37:34.567045Z",
     "shell.execute_reply": "2024-10-20T06:37:34.566339Z",
     "shell.execute_reply.started": "2024-10-20T06:37:33.841724Z"
    }
   },
   "outputs": [
    {
     "name": "stderr",
     "output_type": "stream",
     "text": [
      "Failed to run cugraph algorithm and src/dst columns are numeric, coercing to strings and retrying"
     ]
    }
   ],
   "source": [
    "g_gpu = g.to_cudf()\n",
    "\n",
    "g2_gpu = g_gpu.group_in_a_box_layout()"
   ]
  },
  {
   "cell_type": "code",
   "execution_count": 47,
   "id": "afcf2137-866f-40bd-be8b-1503d7deff9a",
   "metadata": {
    "execution": {
     "iopub.execute_input": "2024-10-20T06:37:35.394260Z",
     "iopub.status.busy": "2024-10-20T06:37:35.393668Z",
     "iopub.status.idle": "2024-10-20T06:37:38.636533Z",
     "shell.execute_reply": "2024-10-20T06:37:38.635599Z",
     "shell.execute_reply.started": "2024-10-20T06:37:35.394229Z"
    }
   },
   "outputs": [
    {
     "data": {
      "text/html": [
       "\n",
       "            <iframe id=\"1bfbf4dd-21ab-445f-bc5e-ae0cbb7b39d7\" src=\"https://hub.graphistry.com/graph/graph.html?dataset=16b86a57b7a143a9a8204ab67b7e2d91&type=arrow&viztoken=b3a6724d-66d5-43fc-8e01-41500301678f&usertag=db748d2a-pygraphistry-0+unknown&splashAfter=1729406273&info=true&pointSize=0.5&play=0&edgeOpacity=0.25\"\n",
       "                    allowfullscreen=\"true\" webkitallowfullscreen=\"true\" mozallowfullscreen=\"true\"\n",
       "                    oallowfullscreen=\"true\" msallowfullscreen=\"true\"\n",
       "                    style=\"width:100%; height:500px; border: 1px solid #DDD; overflow: hidden\"\n",
       "                    \n",
       "            >\n",
       "            </iframe>\n",
       "        \n",
       "            <script>\n",
       "                try {\n",
       "                  $(\"#1bfbf4dd-21ab-445f-bc5e-ae0cbb7b39d7\").bind('mousewheel', function(e) { e.preventDefault(); });\n",
       "                } catch (e) { console.error('exn catching scroll', e); }\n",
       "            </script>\n",
       "        "
      ],
      "text/plain": [
       "<IPython.core.display.HTML object>"
      ]
     },
     "execution_count": 47,
     "metadata": {},
     "output_type": "execute_result"
    }
   ],
   "source": [
    "g2_gpu.plot()"
   ]
  },
  {
   "cell_type": "markdown",
   "id": "ddd540b4-1706-41bd-815d-29e9cd399f14",
   "metadata": {},
   "source": [
    "## Configure: Precomputed partition and alternate layout\n",
    "\n",
    "* Use an existing node attribute to predetermine box membership\n",
    "* Control the layout algorithm and its parameters"
   ]
  },
  {
   "cell_type": "code",
   "execution_count": 48,
   "id": "11ab19e4-d04b-4c98-983b-abd145d307fa",
   "metadata": {
    "execution": {
     "iopub.execute_input": "2024-10-20T06:37:38.638773Z",
     "iopub.status.busy": "2024-10-20T06:37:38.638395Z",
     "iopub.status.idle": "2024-10-20T06:37:38.784364Z",
     "shell.execute_reply": "2024-10-20T06:37:38.783685Z",
     "shell.execute_reply.started": "2024-10-20T06:37:38.638739Z"
    }
   },
   "outputs": [],
   "source": [
    "g_louvain = g.to_cudf().compute_cugraph('louvain', directed=False)\n",
    "assert 'louvain' in g_louvain._nodes"
   ]
  },
  {
   "cell_type": "code",
   "execution_count": 52,
   "id": "6d39e26d-ae20-4d24-8bd9-c59464b5b9f3",
   "metadata": {
    "execution": {
     "iopub.execute_input": "2024-10-20T06:38:42.076741Z",
     "iopub.status.busy": "2024-10-20T06:38:42.076370Z",
     "iopub.status.idle": "2024-10-20T06:38:42.083251Z",
     "shell.execute_reply": "2024-10-20T06:38:42.082595Z",
     "shell.execute_reply.started": "2024-10-20T06:38:42.076713Z"
    }
   },
   "outputs": [
    {
     "data": {
      "text/plain": [
       "{'igraph_layout_algs': 'auto, automatic, bipartite, circle, circular, dh, davidson_harel, drl, drl_3d, fr, fruchterman_reingold, fr_3d, fr3d, fruchterman_reingold_3d, grid, grid_3d, graphopt, kk, kamada_kawai, kk_3d, kk3d, kamada_kawai_3d, lgl, large, large_graph, mds, random, random_3d, rt, tree, reingold_tilford, rt_circular, reingold_tilford_circular, sphere, spherical, circle_3d, circular_3d, star, sugiyama',\n",
       " 'cugraph_layout_algs': 'force_atlas2'}"
      ]
     },
     "execution_count": 52,
     "metadata": {},
     "output_type": "execute_result"
    }
   ],
   "source": [
    "from graphistry.plugins.igraph import layout_algs as igraph_layouts\n",
    "from graphistry.plugins.cugraph import layout_algs as cugraph_layouts\n",
    "\n",
    "{\n",
    "    'igraph_layout_algs': ', '.join(igraph_layouts),\n",
    "    'cugraph_layout_algs': ', '.join(cugraph_layouts)\n",
    "}"
   ]
  },
  {
   "cell_type": "code",
   "execution_count": 53,
   "id": "7932188b-8758-4e52-a64f-a487ea675735",
   "metadata": {
    "execution": {
     "iopub.execute_input": "2024-10-20T06:38:49.726085Z",
     "iopub.status.busy": "2024-10-20T06:38:49.725316Z",
     "iopub.status.idle": "2024-10-20T06:38:53.328225Z",
     "shell.execute_reply": "2024-10-20T06:38:53.327358Z",
     "shell.execute_reply.started": "2024-10-20T06:38:49.726053Z"
    }
   },
   "outputs": [
    {
     "data": {
      "text/html": [
       "\n",
       "            <iframe id=\"18051ef9-b06b-48ad-940c-c7447aa05a48\" src=\"https://hub.graphistry.com/graph/graph.html?dataset=7231b594d8ab49ff871189e5f80cf64a&type=arrow&viztoken=349938a9-762e-4916-9c9b-d9a848485acc&usertag=db748d2a-pygraphistry-0+unknown&splashAfter=1729406348&info=true&pointSize=0.5&play=0&edgeOpacity=0.25\"\n",
       "                    allowfullscreen=\"true\" webkitallowfullscreen=\"true\" mozallowfullscreen=\"true\"\n",
       "                    oallowfullscreen=\"true\" msallowfullscreen=\"true\"\n",
       "                    style=\"width:100%; height:500px; border: 1px solid #DDD; overflow: hidden\"\n",
       "                    \n",
       "            >\n",
       "            </iframe>\n",
       "        \n",
       "            <script>\n",
       "                try {\n",
       "                  $(\"#18051ef9-b06b-48ad-940c-c7447aa05a48\").bind('mousewheel', function(e) { e.preventDefault(); });\n",
       "                } catch (e) { console.error('exn catching scroll', e); }\n",
       "            </script>\n",
       "        "
      ],
      "text/plain": [
       "<IPython.core.display.HTML object>"
      ]
     },
     "execution_count": 53,
     "metadata": {},
     "output_type": "execute_result"
    }
   ],
   "source": [
    "(g_louvain\n",
    "     .group_in_a_box_layout(\n",
    "         partition_key='louvain',\n",
    "         layout_alg='force_atlas2',\n",
    "         layout_params={\n",
    "             'lin_log_mode': True\n",
    "         }\n",
    "     )\n",
    ").plot()"
   ]
  },
  {
   "cell_type": "code",
   "execution_count": null,
   "id": "445f3591-f35d-4931-9b52-0432bdf45ec6",
   "metadata": {},
   "outputs": [],
   "source": []
  }
 ],
 "metadata": {
  "kernelspec": {
   "display_name": "Python 3.8 (RAPIDS)",
   "language": "python",
   "name": "rapids"
  },
  "language_info": {
   "codemirror_mode": {
    "name": "ipython",
    "version": 3
   },
   "file_extension": ".py",
   "mimetype": "text/x-python",
   "name": "python",
   "nbconvert_exporter": "python",
   "pygments_lexer": "ipython3",
   "version": "3.10.12"
  }
 },
 "nbformat": 4,
 "nbformat_minor": 5
}
