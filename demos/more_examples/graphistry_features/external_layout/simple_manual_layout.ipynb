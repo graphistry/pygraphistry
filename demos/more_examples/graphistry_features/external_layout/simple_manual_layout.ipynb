{
 "cells": [
  {
   "cell_type": "markdown",
   "metadata": {},
   "source": [
    "# How to pass in layout positions to the visualization\n",
    "1. Add x, y columns to the node table\n",
    "2. Add the url parameter \"play=0\" to prevent the page load to run clustering."
   ]
  },
  {
   "cell_type": "code",
   "execution_count": null,
   "metadata": {
    "collapsed": true
   },
   "outputs": [],
   "source": "import pandas as pd\nimport graphistry\nimport os\nfrom dotenv import load_dotenv\n\n# Load environment variables from .env file if present\nload_dotenv()\n\n# Graphistry Configuration\n# Manual configuration overrides (uncomment and modify as needed)\nGRAPHISTRY_CONFIG = {\n    # 'api': 3,\n    # 'username': 'your_username',\n    # 'password': 'your_password',\n    # 'protocol': 'https',\n    # 'server': 'hub.graphistry.com'\n}\n\n# Load configuration with hierarchical precedence: manual > env vars > .env file\nconfig = {\n    'api': GRAPHISTRY_CONFIG.get('api', int(os.getenv('GRAPHISTRY_API', '3'))),\n    'username': GRAPHISTRY_CONFIG.get('username', os.getenv('GRAPHISTRY_USERNAME')),\n    'password': GRAPHISTRY_CONFIG.get('password', os.getenv('GRAPHISTRY_PASSWORD')), \n    'protocol': GRAPHISTRY_CONFIG.get('protocol', os.getenv('GRAPHISTRY_PROTOCOL', 'https')),\n    'server': GRAPHISTRY_CONFIG.get('server', os.getenv('GRAPHISTRY_SERVER', 'hub.graphistry.com'))\n}\n\n# Filter out None values and register\nconfig = {k: v for k, v in config.items() if v is not None}\nif config:\n    graphistry.register(**config)\n    print(\"✅ Graphistry configured successfully\")\n    if config.get('server'):\n        print(f\"   Server: {config.get('server')}\")\n    if config.get('username'):\n        print(f\"   Username: {config.get('username')}\")\nelse:\n    print(\"⚠️  Graphistry not configured. Please set credentials in GRAPHISTRY_CONFIG or environment variables.\")\n\n# For more options: https://pygraphistry.readthedocs.io/en/latest/server/register.html"
  },
  {
   "cell_type": "markdown",
   "metadata": {},
   "source": [
    "**1. Nodes should have columns \"x\", \"y\"**"
   ]
  },
  {
   "cell_type": "code",
   "execution_count": 2,
   "metadata": {
    "collapsed": true
   },
   "outputs": [],
   "source": [
    "edges = pd.DataFrame({'s': [0,1,2, 3], 'd': [1,2,3, 0]})\n",
    "nodes = pd.DataFrame({'n': [0,1,2, 3], 'x': [0, 0, 1, 1], 'y': [0, 5, 5, 0]})"
   ]
  },
  {
   "cell_type": "markdown",
   "metadata": {},
   "source": [
    "**2. The bindings should include \".settings(url_params={'play': 0})\"**"
   ]
  },
  {
   "cell_type": "code",
   "execution_count": 3,
   "metadata": {},
   "outputs": [
    {
     "data": {
      "text/html": [
       "\n",
       "            <iframe id=\"2bbb4cc7-6492-49e2-8b65-09a787dcc155\" src=\"https://hub.graphistry.com/graph/graph.html?dataset=PyGraphistry/JB6L29AP8O&type=vgraph&viztoken=384e022016c5e889e745ed70291f9602019d1d80&usertag=86f11264-pygraphistry-0.9.63&splashAfter=1554616280&info=true&play=0\"\n",
       "                    allowfullscreen=\"true\" webkitallowfullscreen=\"true\" mozallowfullscreen=\"true\"\n",
       "                    oallowfullscreen=\"true\" msallowfullscreen=\"true\"\n",
       "                    style=\"width:100%; height:500px; border: 1px solid #DDD\">\n",
       "            </iframe>\n",
       "        \n",
       "            <script>\n",
       "                $(\"#2bbb4cc7-6492-49e2-8b65-09a787dcc155\").bind('mousewheel', function(e) {\n",
       "                e.preventDefault();\n",
       "                });\n",
       "            </script>\n",
       "        "
      ],
      "text/plain": [
       "<IPython.core.display.HTML object>"
      ]
     },
     "execution_count": 3,
     "metadata": {},
     "output_type": "execute_result"
    }
   ],
   "source": [
    "graphistry\\\n",
    "    .settings(url_params={'play': 0})\\\n",
    "    .nodes(nodes).edges(edges)\\\n",
    "    .bind(source='s', destination='d', node='n')\\\n",
    "    .plot()"
   ]
  },
  {
   "cell_type": "code",
   "execution_count": null,
   "metadata": {
    "collapsed": true
   },
   "outputs": [],
   "source": []
  }
 ],
 "metadata": {
  "kernelspec": {
   "display_name": "Python 3",
   "language": "python",
   "name": "python3"
  },
  "language_info": {
   "codemirror_mode": {
    "name": "ipython",
    "version": 3
   },
   "file_extension": ".py",
   "mimetype": "text/x-python",
   "name": "python",
   "nbconvert_exporter": "python",
   "pygments_lexer": "ipython3",
   "version": "3.7.11"
  }
 },
 "nbformat": 4,
 "nbformat_minor": 2
}