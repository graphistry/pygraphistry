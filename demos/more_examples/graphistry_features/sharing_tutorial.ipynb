{
 "cells": [
  {
   "cell_type": "markdown",
   "metadata": {
    "id": "e0hxaGauqXPh"
   },
   "source": [
    "## Sharing Tutorial: Securely Collaborating in Graphistry\n",
    "\n",
    "Investigtions are better together. This tutorial walks through the new PyGraphistry method `.privacy()`, which enables API control of the new sharing features\n",
    "\n",
    "We walk through:\n",
    "\n",
    "* Switching between organization uploads and personal accounts\n",
    "* Global defaults for `graphistry.privacy(mode='private', ...)`\n",
    "* Compositional per-visualization settings via `g.privacy(...)`\n",
    "* Inviting and notifying via `privacy(invited_users=[{...])`"
   ]
  },
  {
   "cell_type": "markdown",
   "metadata": {
    "id": "A7qotziyrQxh"
   },
   "source": [
    "### Setup\n",
    "\n",
    "You need pygraphistry 0.20.0+ for a corresponding Graphistry server (2.37.20+)"
   ]
  },
  {
   "cell_type": "code",
   "execution_count": 4,
   "metadata": {
    "colab": {
     "base_uri": "https://localhost:8080/"
    },
    "id": "59QTZyX7ehzU",
    "outputId": "880aaa27-9da0-4e22-806f-cfc231b2ad27"
   },
   "outputs": [
    {
     "name": "stdout",
     "output_type": "stream",
     "text": [
      "\u001b[?25l\r\n",
      "\u001b[K     |███▊                            | 10 kB 25.9 MB/s eta 0:00:01\r\n",
      "\u001b[K     |███████▍                        | 20 kB 32.1 MB/s eta 0:00:01\r\n",
      "\u001b[K     |███████████▏                    | 30 kB 30.1 MB/s eta 0:00:01\r\n",
      "\u001b[K     |██████████████▉                 | 40 kB 21.5 MB/s eta 0:00:01\r\n",
      "\u001b[K     |██████████████████▌             | 51 kB 9.8 MB/s eta 0:00:01\r\n",
      "\u001b[K     |██████████████████████▎         | 61 kB 10.1 MB/s eta 0:00:01\r\n",
      "\u001b[K     |██████████████████████████      | 71 kB 8.2 MB/s eta 0:00:01\r\n",
      "\u001b[K     |█████████████████████████████▊  | 81 kB 9.2 MB/s eta 0:00:01\r\n",
      "\u001b[K     |████████████████████████████████| 88 kB 4.9 MB/s \n",
      "\u001b[?25h"
     ]
    }
   ],
   "source": [
    "#! pip install --user -q graphistry pandas"
   ]
  },
  {
   "cell_type": "code",
   "execution_count": 2,
   "metadata": {
    "colab": {
     "base_uri": "https://localhost:8080/",
     "height": 35
    },
    "id": "7xMx5jkoekjy",
    "outputId": "b07fd47b-ef75-4c1f-b853-4a17cc8aa58f"
   },
   "outputs": [
    {
     "data": {
      "application/vnd.google.colaboratory.intrinsic+json": {
       "type": "string"
      },
      "text/plain": [
       "'0.20.0'"
      ]
     },
     "execution_count": 2,
     "metadata": {},
     "output_type": "execute_result"
    }
   ],
   "source": [
    "import graphistry, pandas as pd\n",
    "graphistry.__version__"
   ]
  },
  {
   "cell_type": "code",
   "execution_count": 3,
   "metadata": {
    "id": "D_F_rUv4emFg"
   },
   "outputs": [],
   "source": [
    "# To specify Graphistry account & server, use:\n",
    "# graphistry.register(api=3, username='...', password='...', protocol='https', server='hub.graphistry.com')\n",
    "# For more options, see https://github.com/graphistry/pygraphistry#configure"
   ]
  },
  {
   "cell_type": "markdown",
   "metadata": {},
   "source": [
    "## Optional: Share within an organization\n",
    "\n",
    "When you login, optional parameter \"org_name\" specifies an organization to upload into instead of your personal account.\n",
    "\n",
    "Subsequent sections show further attenuating how the data may be shared through your organization."
   ]
  },
  {
   "cell_type": "code",
   "execution_count": null,
   "metadata": {},
   "outputs": [],
   "source": [
    "# graphistry.register(api=3, username='...', password='...', protocol='https', server='hub.graphistry.com', org_name=\"my-org\")"
   ]
  },
  {
   "cell_type": "code",
   "execution_count": 4,
   "metadata": {
    "id": "PFzse9i2exKN"
   },
   "outputs": [],
   "source": [
    "#demo data\n",
    "g = graphistry.edges(pd.DataFrame({\n",
    "    's': ['a', 'b', 'c'],\n",
    "    'd': ['b', 'c', 'a'],\n",
    "    'v': [1, 1, 2]\n",
    "}), 's', 'd')\n",
    "\n",
    "g = g.settings(url_params={'play': 0})"
   ]
  },
  {
   "cell_type": "markdown",
   "metadata": {
    "id": "-sY9YxMmr9Rp"
   },
   "source": [
    "## Safe default: Unlisted & owner-editable\n",
    "\n",
    "When creating a plot, Graphistry creates a dedicated URL with the following rules:\n",
    "\n",
    "* Viewing: Unlisted - Only those given the link can access it\n",
    "* Editing: Owner-only\n",
    "\n",
    "The URL is unguessable, and the only webpage it is listed at is the creator's private gallery: https://hub.graphistry.com/datasets/ . That means it is as private as whomever the owner shares the URL with."
   ]
  },
  {
   "cell_type": "code",
   "execution_count": 12,
   "metadata": {
    "id": "1bXWcqkzfDHt"
   },
   "outputs": [],
   "source": [
    "public_url = g.plot(render=False)"
   ]
  },
  {
   "cell_type": "markdown",
   "metadata": {
    "id": "a6t1QiOquIrg"
   },
   "source": [
    "## Switching to fully private by default\n",
    "\n",
    "Call `graphistry.privacy()` to default to stronger privacy. It sets:\n",
    "\n",
    "* `mode='private'` - viewing only by owners and invitees (and not other organization members)\n",
    "* `invited_users=[]` - no invitees by default\n",
    "* `notify=False` - no email notifications during invitations\n",
    "* `mode_action='20'` - only used when `mode=\"organization\"`, action for sharing within organization, \"10\" (view) or \"20\" (edit)\n",
    "* `message=''`\n",
    "\n",
    "By default, this means an explicit personal invitation is necessary for viewing. Subsequent plots in the session will default to this setting.\n",
    "\n",
    "You can also explicitly set or override those as optional parameters."
   ]
  },
  {
   "cell_type": "code",
   "execution_count": 14,
   "metadata": {
    "id": "j7C2eFfzfFIo"
   },
   "outputs": [],
   "source": [
    "graphistry.privacy()\n",
    "# or equivaently, graphistry.privacy(mode='private', invited_users=[], notify=False, mode_action='20', message='')\n",
    "\n",
    "owner_only_url = g.plot(render=False)"
   ]
  },
  {
   "cell_type": "markdown",
   "metadata": {
    "id": "cgXGcji8tGmt"
   },
   "source": []
  },
  {
   "cell_type": "markdown",
   "metadata": {
    "id": "VjuZXdHgApwb"
   },
   "source": [
    "## Local overrides\n",
    "\n",
    "We can locally override settings, such as opting back in to public sharing for some visualizations:"
   ]
  },
  {
   "cell_type": "code",
   "execution_count": 15,
   "metadata": {
    "id": "uS7lpK6sAvnY"
   },
   "outputs": [],
   "source": [
    "public_g = g.privacy(mode='public')\n",
    "\n",
    "public_url1 = public_g.plot(render=False)\n",
    "\n",
    "#Ex: Inheriting public_g's mode='public'\n",
    "public_g2 = public_g.name('viz2')\n",
    "public_url2 = public_g.plot(render=False)\n",
    "\n",
    "#Ex: Global default was still via .privacy()\n",
    "still_private_url = g.plot(render=False)"
   ]
  },
  {
   "cell_type": "markdown",
   "metadata": {
    "id": "tdSQdXg7BzSB"
   },
   "source": [
    "## Invitations and notifications\n",
    "\n",
    "As part of the settings, we can permit specific individuals as viewers or editors, and optionally, send them an email notification\n",
    "\n",
    "\n",
    "\n",
    "\n",
    "\n"
   ]
  },
  {
   "cell_type": "code",
   "execution_count": 18,
   "metadata": {
    "id": "wCKRdNmNU3Tp"
   },
   "outputs": [],
   "source": [
    "VIEW = '10'\n",
    "EDIT = '20'\n",
    "\n",
    "shared_g = g.privacy(\n",
    "    mode='private',\n",
    "    notify=True,\n",
    "    invited_users=[{'email': 'partner1@site1.com', 'action': VIEW},\n",
    "                   {'email': 'partner2@site2.org', 'action': EDIT}],\n",
    "    message='Check out this graph!')\n",
    "shared_url = shared_g.plot(render=False)"
   ]
  },
  {
   "cell_type": "markdown",
   "metadata": {
    "id": "L-_5yMTOTKf3"
   },
   "source": [
    "The options can be configured globally or locally, just as we did with `mode`. For example, we might not want to send emails by default, just on specific plots:\n"
   ]
  },
  {
   "cell_type": "code",
   "execution_count": 19,
   "metadata": {
    "id": "s6x9Nz0QVyGl"
   },
   "outputs": [],
   "source": [
    "graphistry.privacy(\n",
    "    mode='private',\n",
    "    notify=False,\n",
    "    invited_users=[{'email': 'partner1@site1.com', 'action': VIEW},\n",
    "                   {'email': 'partner2@site2.org', 'action': EDIT}])\n",
    "\n",
    "\n",
    "shared_url = g.plot(render=False)\n",
    "notified_and_shared_url = g.privacy(notify=True).plot(render=False)"
   ]
  },
  {
   "cell_type": "markdown",
   "metadata": {
    "id": "ljkVb_s2TOv1"
   },
   "source": [
    "Even if we do not explicitly notify recipients, the objects will still appear in their gallery at https://hub.graphistry.com/datasets/"
   ]
  },
  {
   "cell_type": "markdown",
   "metadata": {},
   "source": [
    "## Share within an organization\n",
    "\n",
    "You can share within an organization. Register within the organization as per above (`register(..., org_name=my_org)`) then set the privacy mode to 'organization':"
   ]
  },
  {
   "cell_type": "code",
   "execution_count": null,
   "metadata": {},
   "outputs": [],
   "source": [
    "# Share to all members within organization as EDIT mode (default)\n",
    "VIEW = '10'\n",
    "EDIT = '20'\n",
    "\n",
    "shared_org_g = g.privacy(\n",
    "    mode='organization',\n",
    "    message='Check out this graph! Only for our organization')\n",
    "shared_url = shared_g.plot(render=False)"
   ]
  },
  {
   "cell_type": "code",
   "execution_count": null,
   "metadata": {},
   "outputs": [],
   "source": [
    "# Share to all members within organization as VIEW mode\n",
    "VIEW = '10'\n",
    "EDIT = '20'\n",
    "\n",
    "shared_org_g = g.privacy(\n",
    "    mode='organization',\n",
    "    mode_action=VIEW,\n",
    "    message='Check out this graph! Only for our organization')\n",
    "shared_url = shared_g.plot(render=False)"
   ]
  }
 ],
 "metadata": {
  "colab": {
   "collapsed_sections": [],
   "name": "sharing-tutorial.ipynb",
   "provenance": []
  },
  "kernelspec": {
   "display_name": "Python 3",
   "language": "python",
   "name": "python3"
  },
  "language_info": {
   "codemirror_mode": {
    "name": "ipython",
    "version": 3
   },
   "file_extension": ".py",
   "mimetype": "text/x-python",
   "name": "python",
   "nbconvert_exporter": "python",
   "pygments_lexer": "ipython3",
   "version": "3.7.11"
  }
 },
 "nbformat": 4,
 "nbformat_minor": 1
}
