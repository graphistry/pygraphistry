{
 "cells": [
  {
   "cell_type": "markdown",
   "metadata": {
    "id": "QQpsrtwBT7sa"
   },
   "source": [
    "## 1. Install & configure"
   ]
  },
  {
   "cell_type": "markdown",
   "source": [
    "# Graph Pattern Mining with hop() and gfql()\n",
    "\n",
    "This tutorial demonstrates how to use PyGraphistry's `hop()` and `gfql()` methods for graph pattern mining and traversal.\n",
    "\n",
    "**Key concepts:**\n",
    "- `g.hop()`: Filter by source node → edge → destination node patterns\n",
    "- `g.gfql()`: Chain multiple node and edge filters for complex patterns\n",
    "- Predicates: Use comparisons, string matching, and other filters\n",
    "- Result labeling: Name intermediate results for analysis\n",
    "\n",
    "We'll explore these concepts using a US Congress Twitter interaction dataset."
   ],
   "metadata": {}
  },
  {
   "cell_type": "code",
   "execution_count": null,
   "metadata": {
    "id": "GQ83i-sKUaw9"
   },
   "outputs": [],
   "source": "import os\nfrom dotenv import load_dotenv\n\n# Load environment variables from .env file if present\nload_dotenv()\n\n# Graphistry Configuration\n# Manual configuration overrides (uncomment and modify as needed)\nGRAPHISTRY_CONFIG = {\n    # 'api': 3,\n    # 'username': 'your_username',\n    # 'password': 'your_password',\n    # 'protocol': 'https',\n    # 'server': 'hub.graphistry.com'\n}\n\n# Load configuration with hierarchical precedence: manual > env vars > .env file\nconfig = {\n    'api': GRAPHISTRY_CONFIG.get('api', int(os.getenv('GRAPHISTRY_API', '3'))),\n    'username': GRAPHISTRY_CONFIG.get('username', os.getenv('GRAPHISTRY_USERNAME')),\n    'password': GRAPHISTRY_CONFIG.get('password', os.getenv('GRAPHISTRY_PASSWORD')), \n    'protocol': GRAPHISTRY_CONFIG.get('protocol', os.getenv('GRAPHISTRY_PROTOCOL', 'https')),\n    'server': GRAPHISTRY_CONFIG.get('server', os.getenv('GRAPHISTRY_SERVER', 'hub.graphistry.com'))\n}\n\n# Filter out None values and register\nconfig = {k: v for k, v in config.items() if v is not None}\nif config:\n    graphistry.register(**config)\n    print(\"✅ Graphistry configured successfully\")\n    if config.get('server'):\n        print(f\"   Server: {config.get('server')}\")\n    if config.get('username'):\n        print(f\"   Username: {config.get('username')}\")\nelse:\n    print(\"⚠️  Graphistry not configured. Please set credentials in GRAPHISTRY_CONFIG or environment variables.\")\n\n# For more options: https://pygraphistry.readthedocs.io/en/latest/server/register.html"
  },
  {
   "cell_type": "code",
   "source": [
    "import pandas as pd\n",
    "import graphistry\n",
    "from graphistry.compute.predicates import is_in, gt, lt, ge, le, eq, ne\n",
    "from graphistry.compute.predicates import contains, startswith, endswith\n",
    "from graphistry.compute.predicates import is_in as match_re  # For regex matching\n",
    "from graphistry.compute.ast import n, e_forward, e_reverse, e_undirected, e"
   ],
   "metadata": {},
   "execution_count": null,
   "outputs": []
  },
  {
   "cell_type": "markdown",
   "metadata": {
    "id": "eU9SyauNUHtR"
   },
   "source": [
    "## 2. Load & enrich a US congress twitter interaction dataset"
   ]
  },
  {
   "cell_type": "markdown",
   "metadata": {
    "id": "AM9JhnaQkRd3"
   },
   "source": [
    "## 3. Simple filtering: `g.hop()` & `g.gfql([...])`\n",
    "\n",
    "We can filter by nodes, edges, and combinations of them\n",
    "\n",
    "The result is a graph where we can inspect the node and edge tables, or perform further graph operations, like visualization or further searches\n",
    "\n",
    "**Key concepts**\n",
    "\n",
    "There are 2 key methods:\n",
    "* `g.hop(...)`: filter triples of source node, edge, destination node\n",
    "* `g.gfql([....])`: arbitrarily long sequence of node and edge predicates\n",
    "\n",
    "They reuse column operations core to dataframe libraries, such as comparison operators on strings, numbers, and dates\n",
    "\n",
    "**Sample tasks**\n",
    "\n",
    "This section shows how to:\n",
    "\n",
    "* Find SenSchumer and his immediate community (infomap metric)\n",
    "* Look at his entire community\n",
    "* Find everyone with high edge weight from/to SenSchumer; 2 hops either direction\n",
    "* Find everyone in his community"
   ]
  },
  {
   "cell_type": "code",
   "source": [
    "# Load the US Congress Twitter interaction dataset\n",
    "# This dataset contains Twitter interactions between members of the US Congress\n",
    "edges_df = pd.read_csv('https://raw.githubusercontent.com/graphistry/pygraphistry/master/demos/data/twitter_congress_edges.csv')\n",
    "print(f\"Loaded {len(edges_df)} edges\")\n",
    "edges_df.head()"
   ],
   "metadata": {},
   "execution_count": null,
   "outputs": []
  },
  {
   "cell_type": "code",
   "execution_count": null,
   "metadata": {
    "colab": {
     "base_uri": "https://localhost:8080/"
    },
    "id": "55xeNAyDXhAm",
    "outputId": "287758f0-0df2-49ff-ecdc-283313f7e07a"
   },
   "outputs": [],
   "source": [
    "g2.gfql([n({'title': 'SenSchumer'})])._nodes"
   ]
  },
  {
   "cell_type": "code",
   "execution_count": null,
   "metadata": {
    "colab": {
     "base_uri": "https://localhost:8080/",
     "height": 224
    },
    "id": "6CmULn4N-8oh",
    "outputId": "61a1a4cf-dfe1-4260-a427-46009f4e4aaf"
   },
   "outputs": [],
   "source": [
    "### First, let's find immediate connections to SenSchumer"
   ]
  },
  {
   "cell_type": "code",
   "metadata": {
    "id": "XLFTgDTEDSeA"
   },
   "source": [
    "g_immediate_community2 = g2.gfql([n({'title': 'SenSchumer'}), e_undirected(), n({'community_infomap': 2})])\n",
    "\n",
    "print(len(g_immediate_community2._nodes), 'senators', len(g_immediate_community2._edges), 'relns')\n",
    "g_immediate_community2._edges[['from', 'to', 'weight2']].sort_values(by=['weight2']).head(10)"
   ],
   "outputs": [],
   "execution_count": null
  },
  {
   "cell_type": "code",
   "execution_count": 77,
   "metadata": {
    "colab": {
     "base_uri": "https://localhost:8080/",
     "height": 461
    },
    "id": "aB1U7e0HXmHh",
    "outputId": "53b9fa91-0caf-4866-c5a9-d9cf80e3c9ac"
   },
   "outputs": [
    {
     "name": "stderr",
     "output_type": "stream",
     "text": [
      "WARNING:root:edge index g._edge not set so using edge index as ID; set g._edge via g.edges(), or change merge_if_existing to FalseWARNING:root:edge index g._edge __edge_index__ missing as attribute in ig; using ig edge order for IDsWARNING:root:edge index g._edge not set so using edge index as ID; set g._edge via g.edges(), or change merge_if_existing to FalseWARNING:root:edge index g._edge __edge_index__ missing as attribute in ig; using ig edge order for IDs"
     ]
    },
    {
     "data": {
      "text/html": [
       "\n",
       "  <div id=\"df-bd9ed6f8-6bfc-435b-8fbc-05e870649c0e\" class=\"colab-df-container\">\n",
       "    <div>\n",
       "<style scoped>\n",
       "    .dataframe tbody tr th:only-of-type {\n",
       "        vertical-align: middle;\n",
       "    }\n",
       "\n",
       "    .dataframe tbody tr th {\n",
       "        vertical-align: top;\n",
       "    }\n",
       "\n",
       "    .dataframe thead th {\n",
       "        text-align: right;\n",
       "    }\n",
       "</style>\n",
       "<table border=\"1\" class=\"dataframe\">\n",
       "  <thead>\n",
       "    <tr style=\"text-align: right;\">\n",
       "      <th></th>\n",
       "      <th>id</th>\n",
       "      <th>title</th>\n",
       "      <th>community_infomap</th>\n",
       "      <th>pagerank</th>\n",
       "      <th>degree_in</th>\n",
       "      <th>degree_out</th>\n",
       "      <th>degree</th>\n",
       "    </tr>\n",
       "  </thead>\n",
       "  <tbody>\n",
       "    <tr>\n",
       "      <th>0</th>\n",
       "      <td>SenatorBaldwin</td>\n",
       "      <td>SenatorBaldwin</td>\n",
       "      <td>0</td>\n",
       "      <td>0.001422</td>\n",
       "      <td>26</td>\n",
       "      <td>20</td>\n",
       "      <td>46</td>\n",
       "    </tr>\n",
       "    <tr>\n",
       "      <th>1</th>\n",
       "      <td>SenJohnBarrasso</td>\n",
       "      <td>SenJohnBarrasso</td>\n",
       "      <td>0</td>\n",
       "      <td>0.001179</td>\n",
       "      <td>22</td>\n",
       "      <td>19</td>\n",
       "      <td>41</td>\n",
       "    </tr>\n",
       "    <tr>\n",
       "      <th>2</th>\n",
       "      <td>SenatorBennet</td>\n",
       "      <td>SenatorBennet</td>\n",
       "      <td>0</td>\n",
       "      <td>0.001995</td>\n",
       "      <td>33</td>\n",
       "      <td>22</td>\n",
       "      <td>55</td>\n",
       "    </tr>\n",
       "    <tr>\n",
       "      <th>3</th>\n",
       "      <td>MarshaBlackburn</td>\n",
       "      <td>MarshaBlackburn</td>\n",
       "      <td>0</td>\n",
       "      <td>0.001331</td>\n",
       "      <td>18</td>\n",
       "      <td>38</td>\n",
       "      <td>56</td>\n",
       "    </tr>\n",
       "    <tr>\n",
       "      <th>4</th>\n",
       "      <td>SenBlumenthal</td>\n",
       "      <td>SenBlumenthal</td>\n",
       "      <td>0</td>\n",
       "      <td>0.001672</td>\n",
       "      <td>30</td>\n",
       "      <td>35</td>\n",
       "      <td>65</td>\n",
       "    </tr>\n",
       "    <tr>\n",
       "      <th>...</th>\n",
       "      <td>...</td>\n",
       "      <td>...</td>\n",
       "      <td>...</td>\n",
       "      <td>...</td>\n",
       "      <td>...</td>\n",
       "      <td>...</td>\n",
       "      <td>...</td>\n",
       "    </tr>\n",
       "    <tr>\n",
       "      <th>470</th>\n",
       "      <td>RepJoeWilson</td>\n",
       "      <td>RepJoeWilson</td>\n",
       "      <td>1</td>\n",
       "      <td>0.001780</td>\n",
       "      <td>21</td>\n",
       "      <td>38</td>\n",
       "      <td>59</td>\n",
       "    </tr>\n",
       "    <tr>\n",
       "      <th>471</th>\n",
       "      <td>RobWittman</td>\n",
       "      <td>RobWittman</td>\n",
       "      <td>1</td>\n",
       "      <td>0.001017</td>\n",
       "      <td>13</td>\n",
       "      <td>19</td>\n",
       "      <td>32</td>\n",
       "    </tr>\n",
       "    <tr>\n",
       "      <th>472</th>\n",
       "      <td>rep_stevewomack</td>\n",
       "      <td>rep_stevewomack</td>\n",
       "      <td>1</td>\n",
       "      <td>0.002637</td>\n",
       "      <td>35</td>\n",
       "      <td>19</td>\n",
       "      <td>54</td>\n",
       "    </tr>\n",
       "    <tr>\n",
       "      <th>473</th>\n",
       "      <td>RepJohnYarmuth</td>\n",
       "      <td>RepJohnYarmuth</td>\n",
       "      <td>2</td>\n",
       "      <td>0.000555</td>\n",
       "      <td>5</td>\n",
       "      <td>20</td>\n",
       "      <td>25</td>\n",
       "    </tr>\n",
       "    <tr>\n",
       "      <th>474</th>\n",
       "      <td>RepLeeZeldin</td>\n",
       "      <td>RepLeeZeldin</td>\n",
       "      <td>1</td>\n",
       "      <td>0.000511</td>\n",
       "      <td>3</td>\n",
       "      <td>25</td>\n",
       "      <td>28</td>\n",
       "    </tr>\n",
       "  </tbody>\n",
       "</table>\n",
       "<p>475 rows × 7 columns</p>\n",
       "</div>\n",
       "    <div class=\"colab-df-buttons\">\n",
       "\n",
       "  <div class=\"colab-df-container\">\n",
       "    <button class=\"colab-df-convert\" onclick=\"convertToInteractive('df-bd9ed6f8-6bfc-435b-8fbc-05e870649c0e')\"\n",
       "            title=\"Convert this dataframe to an interactive table.\"\n",
       "            style=\"display:none;\">\n",
       "\n",
       "  <svg xmlns=\"http://www.w3.org/2000/svg\" height=\"24px\" viewBox=\"0 -960 960 960\">\n",
       "    <path d=\"M120-120v-720h720v720H120Zm60-500h600v-160H180v160Zm220 220h160v-160H400v160Zm0 220h160v-160H400v160ZM180-400h160v-160H180v160Zm440 0h160v-160H620v160ZM180-180h160v-160H180v160Zm440 0h160v-160H620v160Z\"/>\n",
       "  </svg>\n",
       "    </button>\n",
       "\n",
       "  <style>\n",
       "    .colab-df-container {\n",
       "      display:flex;\n",
       "      gap: 12px;\n",
       "    }\n",
       "\n",
       "    .colab-df-convert {\n",
       "      background-color: #E8F0FE;\n",
       "      border: none;\n",
       "      border-radius: 50%;\n",
       "      cursor: pointer;\n",
       "      display: none;\n",
       "      fill: #1967D2;\n",
       "      height: 32px;\n",
       "      padding: 0 0 0 0;\n",
       "      width: 32px;\n",
       "    }\n",
       "\n",
       "    .colab-df-convert:hover {\n",
       "      background-color: #E2EBFA;\n",
       "      box-shadow: 0px 1px 2px rgba(60, 64, 67, 0.3), 0px 1px 3px 1px rgba(60, 64, 67, 0.15);\n",
       "      fill: #174EA6;\n",
       "    }\n",
       "\n",
       "    .colab-df-buttons div {\n",
       "      margin-bottom: 4px;\n",
       "    }\n",
       "\n",
       "    [theme=dark] .colab-df-convert {\n",
       "      background-color: #3B4455;\n",
       "      fill: #D2E3FC;\n",
       "    }\n",
       "\n",
       "    [theme=dark] .colab-df-convert:hover {\n",
       "      background-color: #434B5C;\n",
       "      box-shadow: 0px 1px 3px 1px rgba(0, 0, 0, 0.15);\n",
       "      filter: drop-shadow(0px 1px 2px rgba(0, 0, 0, 0.3));\n",
       "      fill: #FFFFFF;\n",
       "    }\n",
       "  </style>\n",
       "\n",
       "    <script>\n",
       "      const buttonEl =\n",
       "        document.querySelector('#df-bd9ed6f8-6bfc-435b-8fbc-05e870649c0e button.colab-df-convert');\n",
       "      buttonEl.style.display =\n",
       "        google.colab.kernel.accessAllowed ? 'block' : 'none';\n",
       "\n",
       "      async function convertToInteractive(key) {\n",
       "        const element = document.querySelector('#df-bd9ed6f8-6bfc-435b-8fbc-05e870649c0e');\n",
       "        const dataTable =\n",
       "          await google.colab.kernel.invokeFunction('convertToInteractive',\n",
       "                                                    [key], {});\n",
       "        if (!dataTable) return;\n",
       "\n",
       "        const docLinkHtml = 'Like what you see? Visit the ' +\n",
       "          '<a target=\"_blank\" href=https://colab.research.google.com/notebooks/data_table.ipynb>data table notebook</a>'\n",
       "          + ' to learn more about interactive tables.';\n",
       "        element.innerHTML = '';\n",
       "        dataTable['output_type'] = 'display_data';\n",
       "        await google.colab.output.renderOutput(dataTable, element);\n",
       "        const docLink = document.createElement('div');\n",
       "        docLink.innerHTML = docLinkHtml;\n",
       "        element.appendChild(docLink);\n",
       "      }\n",
       "    </script>\n",
       "  </div>\n",
       "\n",
       "\n",
       "<div id=\"df-b05981b5-9380-476e-bb41-08e2f0e7b53e\">\n",
       "  <button class=\"colab-df-quickchart\" onclick=\"quickchart('df-b05981b5-9380-476e-bb41-08e2f0e7b53e')\"\n",
       "            title=\"Suggest charts\"\n",
       "            style=\"display:none;\">\n",
       "\n",
       "<svg xmlns=\"http://www.w3.org/2000/svg\" height=\"24px\"viewBox=\"0 0 24 24\"\n",
       "     width=\"24px\">\n",
       "    <g>\n",
       "        <path d=\"M19 3H5c-1.1 0-2 .9-2 2v14c0 1.1.9 2 2 2h14c1.1 0 2-.9 2-2V5c0-1.1-.9-2-2-2zM9 17H7v-7h2v7zm4 0h-2V7h2v10zm4 0h-2v-4h2v4z\"/>\n",
       "    </g>\n",
       "</svg>\n",
       "  </button>\n",
       "\n",
       "<style>\n",
       "  .colab-df-quickchart {\n",
       "      --bg-color: #E8F0FE;\n",
       "      --fill-color: #1967D2;\n",
       "      --hover-bg-color: #E2EBFA;\n",
       "      --hover-fill-color: #174EA6;\n",
       "      --disabled-fill-color: #AAA;\n",
       "      --disabled-bg-color: #DDD;\n",
       "  }\n",
       "\n",
       "  [theme=dark] .colab-df-quickchart {\n",
       "      --bg-color: #3B4455;\n",
       "      --fill-color: #D2E3FC;\n",
       "      --hover-bg-color: #434B5C;\n",
       "      --hover-fill-color: #FFFFFF;\n",
       "      --disabled-bg-color: #3B4455;\n",
       "      --disabled-fill-color: #666;\n",
       "  }\n",
       "\n",
       "  .colab-df-quickchart {\n",
       "    background-color: var(--bg-color);\n",
       "    border: none;\n",
       "    border-radius: 50%;\n",
       "    cursor: pointer;\n",
       "    display: none;\n",
       "    fill: var(--fill-color);\n",
       "    height: 32px;\n",
       "    padding: 0;\n",
       "    width: 32px;\n",
       "  }\n",
       "\n",
       "  .colab-df-quickchart:hover {\n",
       "    background-color: var(--hover-bg-color);\n",
       "    box-shadow: 0 1px 2px rgba(60, 64, 67, 0.3), 0 1px 3px 1px rgba(60, 64, 67, 0.15);\n",
       "    fill: var(--button-hover-fill-color);\n",
       "  }\n",
       "\n",
       "  .colab-df-quickchart-complete:disabled,\n",
       "  .colab-df-quickchart-complete:disabled:hover {\n",
       "    background-color: var(--disabled-bg-color);\n",
       "    fill: var(--disabled-fill-color);\n",
       "    box-shadow: none;\n",
       "  }\n",
       "\n",
       "  .colab-df-spinner {\n",
       "    border: 2px solid var(--fill-color);\n",
       "    border-color: transparent;\n",
       "    border-bottom-color: var(--fill-color);\n",
       "    animation:\n",
       "      spin 1s steps(1) infinite;\n",
       "  }\n",
       "\n",
       "  @keyframes spin {\n",
       "    0% {\n",
       "      border-color: transparent;\n",
       "      border-bottom-color: var(--fill-color);\n",
       "      border-left-color: var(--fill-color);\n",
       "    }\n",
       "    20% {\n",
       "      border-color: transparent;\n",
       "      border-left-color: var(--fill-color);\n",
       "      border-top-color: var(--fill-color);\n",
       "    }\n",
       "    30% {\n",
       "      border-color: transparent;\n",
       "      border-left-color: var(--fill-color);\n",
       "      border-top-color: var(--fill-color);\n",
       "      border-right-color: var(--fill-color);\n",
       "    }\n",
       "    40% {\n",
       "      border-color: transparent;\n",
       "      border-right-color: var(--fill-color);\n",
       "      border-top-color: var(--fill-color);\n",
       "    }\n",
       "    60% {\n",
       "      border-color: transparent;\n",
       "      border-right-color: var(--fill-color);\n",
       "    }\n",
       "    80% {\n",
       "      border-color: transparent;\n",
       "      border-right-color: var(--fill-color);\n",
       "      border-bottom-color: var(--fill-color);\n",
       "    }\n",
       "    90% {\n",
       "      border-color: transparent;\n",
       "      border-bottom-color: var(--fill-color);\n",
       "    }\n",
       "  }\n",
       "</style>\n",
       "\n",
       "  <script>\n",
       "    async function quickchart(key) {\n",
       "      const quickchartButtonEl =\n",
       "        document.querySelector('#' + key + ' button');\n",
       "      quickchartButtonEl.disabled = true;  // To prevent multiple clicks.\n",
       "      quickchartButtonEl.classList.add('colab-df-spinner');\n",
       "      try {\n",
       "        const charts = await google.colab.kernel.invokeFunction(\n",
       "            'suggestCharts', [key], {});\n",
       "      } catch (error) {\n",
       "        console.error('Error during call to suggestCharts:', error);\n",
       "      }\n",
       "      quickchartButtonEl.classList.remove('colab-df-spinner');\n",
       "      quickchartButtonEl.classList.add('colab-df-quickchart-complete');\n",
       "    }\n",
       "    (() => {\n",
       "      let quickchartButtonEl =\n",
       "        document.querySelector('#df-b05981b5-9380-476e-bb41-08e2f0e7b53e button');\n",
       "      quickchartButtonEl.style.display =\n",
       "        google.colab.kernel.accessAllowed ? 'block' : 'none';\n",
       "    })();\n",
       "  </script>\n",
       "</div>\n",
       "    </div>\n",
       "  </div>\n"
      ],
      "text/plain": [
       "                  id            title  community_infomap  pagerank  degree_in  \\\n",
       "0     SenatorBaldwin   SenatorBaldwin                  0  0.001422         26   \n",
       "1    SenJohnBarrasso  SenJohnBarrasso                  0  0.001179         22   \n",
       "2      SenatorBennet    SenatorBennet                  0  0.001995         33   \n",
       "3    MarshaBlackburn  MarshaBlackburn                  0  0.001331         18   \n",
       "4      SenBlumenthal    SenBlumenthal                  0  0.001672         30   \n",
       "..               ...              ...                ...       ...        ...   \n",
       "470     RepJoeWilson     RepJoeWilson                  1  0.001780         21   \n",
       "471       RobWittman       RobWittman                  1  0.001017         13   \n",
       "472  rep_stevewomack  rep_stevewomack                  1  0.002637         35   \n",
       "473   RepJohnYarmuth   RepJohnYarmuth                  2  0.000555          5   \n",
       "474     RepLeeZeldin     RepLeeZeldin                  1  0.000511          3   \n",
       "\n",
       "     degree_out  degree  \n",
       "0            20      46  \n",
       "1            19      41  \n",
       "2            22      55  \n",
       "3            38      56  \n",
       "4            35      65  \n",
       "..          ...     ...  \n",
       "470          38      59  \n",
       "471          19      32  \n",
       "472          19      54  \n",
       "473          20      25  \n",
       "474          25      28  \n",
       "\n",
       "[475 rows x 7 columns]"
      ]
     },
     "execution_count": 77,
     "metadata": {},
     "output_type": "execute_result"
    }
   ],
   "source": [
    "# Shape\n",
    "g = graphistry.edges(edges_df, 'from', 'to')\n",
    "\n",
    "# Enrich & style\n",
    "# Tip: Switch from compute_igraph to compute_cugraph when GPUs are available\n",
    "g2 = (g\n",
    "      .materialize_nodes()\n",
    "      .nodes(lambda g: g._nodes.assign(title=g._nodes.id))\n",
    "      .edges(lambda g: g._edges.assign(weight2=g._edges.weight))\n",
    "      .bind(point_title='title')\n",
    "      .compute_igraph('community_infomap')\n",
    "      .compute_igraph('pagerank')\n",
    "      .get_degrees()\n",
    "      .encode_point_color(\n",
    "          'community_infomap',\n",
    "          as_categorical=True,\n",
    "          categorical_mapping={\n",
    "              0: '#32a9a2', # vibrant teal\n",
    "              1: '#ff6b6b', # soft coral\n",
    "              2: '#f9d342', # muted yellow\n",
    "          }\n",
    "      )\n",
    ")\n",
    "\n",
    "g2._nodes"
   ]
  },
  {
   "cell_type": "code",
   "execution_count": 79,
   "metadata": {
    "colab": {
     "base_uri": "https://localhost:8080/",
     "height": 543
    },
    "id": "GY9Q7KyqBMq8",
    "outputId": "5b4b277e-17fd-4201-9518-25168b927c6f"
   },
   "outputs": [
    {
     "data": {
      "text/html": [
       "\n",
       "            <iframe id=\"2516f480-1b7f-45f6-9002-f31d205bc4f4\" src=\"https://hub.graphistry.com/graph/graph.html?dataset=0d9618ec25ff42089ec110dbf78192c5&type=arrow&viztoken=f52234f9-3ac0-473f-a16d-b657bbe3ef3c&usertag=101e0a53-pygraphistry-0.29.7+20.g5b3795c&splashAfter=1701664689&info=true\"\n",
       "                    allowfullscreen=\"true\" webkitallowfullscreen=\"true\" mozallowfullscreen=\"true\"\n",
       "                    oallowfullscreen=\"true\" msallowfullscreen=\"true\"\n",
       "                    style=\"width:100%; height:500px; border: 1px solid #DDD; overflow: hidden\"\n",
       "                    \n",
       "            >\n",
       "            </iframe>\n",
       "        \n",
       "            <script>\n",
       "                try {\n",
       "                  $(\"#2516f480-1b7f-45f6-9002-f31d205bc4f4\").bind('mousewheel', function(e) { e.preventDefault(); });\n",
       "                } catch (e) { console.error('exn catching scroll', e); }\n",
       "            </script>\n",
       "        "
      ],
      "text/plain": [
       "<IPython.core.display.HTML object>"
      ]
     },
     "execution_count": 79,
     "metadata": {},
     "output_type": "execute_result"
    }
   ],
   "source": [
    "g2.plot()"
   ]
  },
  {
   "cell_type": "markdown",
   "metadata": {
    "id": "2sB-Mi7qkrM0"
   },
   "source": [
    "## 3. Simple filtering: `g.hop()` & `g.gfql([...])`\n",
    "\n",
    "We can filter by nodes, edges, and combinations of them\n",
    "\n",
    "The result is a graph where we can inspect the node and edge tables, or perform further graph operations, like visualization or further searches\n",
    "\n",
    "**Key concepts**\n",
    "\n",
    "There are 2 key methods:\n",
    "* `g.hop(...)`: filter triples of source node, edge, destination node\n",
    "* `g.gfql([....])`: arbitrarily long sequence of node and edge predicates\n",
    "\n",
    "They reuse column operations core to dataframe libraries, such as comparison operators on strings, numbers, and dates\n",
    "\n",
    "**Sample tasks**\n",
    "\n",
    "This section shows how to:\n",
    "\n",
    "* Find SenSchumer and his immediate community (infomap metric)\n",
    "* Look at his entire community\n",
    "* Find everyone with high edge weight from/to SenSchumer; 2 hops either direction\n",
    "* Find everyone in his community"
   ]
  },
  {
   "cell_type": "code",
   "execution_count": null,
   "metadata": {
    "colab": {
     "base_uri": "https://localhost:8080/",
     "height": 81
    },
    "id": "ydS6ZUiUqx8E",
    "outputId": "825b0c85-e3c9-4453-abed-1b252cf804d1"
   },
   "outputs": [],
   "source": [
    "g2.gfql([n({'title': 'SenSchumer'})])._nodes"
   ]
  },
  {
   "cell_type": "markdown",
   "metadata": {
    "id": "5vGMFFveUyLK"
   },
   "source": [
    "## 4. Multi-hop and paths-between-nodes pattern mining\n",
    "\n",
    "Method `gfql([...])` can be used for looking more than one hop out, and even finding paths between nodes."
   ]
  },
  {
   "cell_type": "code",
   "execution_count": null,
   "metadata": {
    "colab": {
     "base_uri": "https://localhost:8080/",
     "height": 380
    },
    "id": "I1L0ZRTrF_HH",
    "outputId": "9ded72c2-694b-40a4-f55a-ee86b51f290d"
   },
   "outputs": [],
   "source": [
    "g_immediate_community2 = g2.gfql([n({'title': 'SenSchumer'}), e_undirected(), n({'community_infomap': 2})])\n",
    "\n",
    "print(len(g_immediate_community2._nodes), 'senators', len(g_immediate_community2._edges), 'relns')\n",
    "g_immediate_community2._edges[['from', 'to', 'weight2']].sort_values(by=['weight2']).head(10)"
   ]
  },
  {
   "cell_type": "code",
   "execution_count": null,
   "metadata": {
    "colab": {
     "base_uri": "https://localhost:8080/",
     "height": 543
    },
    "id": "3oR6PhBAGVdX",
    "outputId": "3a2e4fa7-eb73-4a16-efa2-eb5b43bd929f"
   },
   "outputs": [],
   "source": [
    "g_shumer_pelosi_bridges = g2.gfql([\n",
    "    n({'title': 'SenSchumer'}),\n",
    "    e_undirected(),\n",
    "    n(),\n",
    "    e_undirected(),\n",
    "    n({'title': 'SpeakerPelosi'})\n",
    "])\n",
    "\n",
    "print(len(g_shumer_pelosi_bridges._nodes), 'senators')\n",
    "g_shumer_pelosi_bridges._edges.sort_values(by='weight').head(5)"
   ]
  },
  {
   "cell_type": "markdown",
   "metadata": {
    "id": "hRWJkIFAU5t_"
   },
   "source": [
    "Often, we are just filtering on a src node / edge / dst node triple, so `hop()` is a short-form for this. All the `hop()` parameters can also be passed to edge expressions as well."
   ]
  },
  {
   "cell_type": "code",
   "execution_count": 83,
   "metadata": {
    "colab": {
     "base_uri": "https://localhost:8080/",
     "height": 380
    },
    "id": "5T5UWt8kFPuZ",
    "outputId": "fd709a7d-a697-40d5-c34b-354eea84b72f"
   },
   "outputs": [
    {
     "name": "stdout",
     "output_type": "stream",
     "text": [
      "214 senators 4993 relns\n"
     ]
    },
    {
     "data": {
      "text/html": [
       "\n",
       "  <div id=\"df-d5cd5a28-7ec3-4551-9ec8-cfe8c7a3c1c5\" class=\"colab-df-container\">\n",
       "    <div>\n",
       "<style scoped>\n",
       "    .dataframe tbody tr th:only-of-type {\n",
       "        vertical-align: middle;\n",
       "    }\n",
       "\n",
       "    .dataframe tbody tr th {\n",
       "        vertical-align: top;\n",
       "    }\n",
       "\n",
       "    .dataframe thead th {\n",
       "        text-align: right;\n",
       "    }\n",
       "</style>\n",
       "<table border=\"1\" class=\"dataframe\">\n",
       "  <thead>\n",
       "    <tr style=\"text-align: right;\">\n",
       "      <th></th>\n",
       "      <th>from</th>\n",
       "      <th>to</th>\n",
       "      <th>weight</th>\n",
       "      <th>weight2</th>\n",
       "    </tr>\n",
       "  </thead>\n",
       "  <tbody>\n",
       "    <tr>\n",
       "      <th>378</th>\n",
       "      <td>RepDonBeyer</td>\n",
       "      <td>RepSpeier</td>\n",
       "      <td>0.000658</td>\n",
       "      <td>0.000658</td>\n",
       "    </tr>\n",
       "    <tr>\n",
       "      <th>354</th>\n",
       "      <td>RepDonBeyer</td>\n",
       "      <td>repcleaver</td>\n",
       "      <td>0.000658</td>\n",
       "      <td>0.000658</td>\n",
       "    </tr>\n",
       "    <tr>\n",
       "      <th>353</th>\n",
       "      <td>RepDonBeyer</td>\n",
       "      <td>RepYvetteClarke</td>\n",
       "      <td>0.000658</td>\n",
       "      <td>0.000658</td>\n",
       "    </tr>\n",
       "    <tr>\n",
       "      <th>352</th>\n",
       "      <td>RepDonBeyer</td>\n",
       "      <td>RepCasten</td>\n",
       "      <td>0.000658</td>\n",
       "      <td>0.000658</td>\n",
       "    </tr>\n",
       "    <tr>\n",
       "      <th>349</th>\n",
       "      <td>RepDonBeyer</td>\n",
       "      <td>RepBeatty</td>\n",
       "      <td>0.000658</td>\n",
       "      <td>0.000658</td>\n",
       "    </tr>\n",
       "    <tr>\n",
       "      <th>360</th>\n",
       "      <td>RepDonBeyer</td>\n",
       "      <td>RepGaramendi</td>\n",
       "      <td>0.000658</td>\n",
       "      <td>0.000658</td>\n",
       "    </tr>\n",
       "    <tr>\n",
       "      <th>361</th>\n",
       "      <td>RepDonBeyer</td>\n",
       "      <td>RepChuyGarcia</td>\n",
       "      <td>0.000658</td>\n",
       "      <td>0.000658</td>\n",
       "    </tr>\n",
       "    <tr>\n",
       "      <th>362</th>\n",
       "      <td>RepDonBeyer</td>\n",
       "      <td>RepRaulGrijalva</td>\n",
       "      <td>0.000658</td>\n",
       "      <td>0.000658</td>\n",
       "    </tr>\n",
       "    <tr>\n",
       "      <th>365</th>\n",
       "      <td>RepDonBeyer</td>\n",
       "      <td>USRepKeating</td>\n",
       "      <td>0.000658</td>\n",
       "      <td>0.000658</td>\n",
       "    </tr>\n",
       "    <tr>\n",
       "      <th>366</th>\n",
       "      <td>RepDonBeyer</td>\n",
       "      <td>RepRickLarsen</td>\n",
       "      <td>0.000658</td>\n",
       "      <td>0.000658</td>\n",
       "    </tr>\n",
       "  </tbody>\n",
       "</table>\n",
       "</div>\n",
       "    <div class=\"colab-df-buttons\">\n",
       "\n",
       "  <div class=\"colab-df-container\">\n",
       "    <button class=\"colab-df-convert\" onclick=\"convertToInteractive('df-d5cd5a28-7ec3-4551-9ec8-cfe8c7a3c1c5')\"\n",
       "            title=\"Convert this dataframe to an interactive table.\"\n",
       "            style=\"display:none;\">\n",
       "\n",
       "  <svg xmlns=\"http://www.w3.org/2000/svg\" height=\"24px\" viewBox=\"0 -960 960 960\">\n",
       "    <path d=\"M120-120v-720h720v720H120Zm60-500h600v-160H180v160Zm220 220h160v-160H400v160Zm0 220h160v-160H400v160ZM180-400h160v-160H180v160Zm440 0h160v-160H620v160ZM180-180h160v-160H180v160Zm440 0h160v-160H620v160Z\"/>\n",
       "  </svg>\n",
       "    </button>\n",
       "\n",
       "  <style>\n",
       "    .colab-df-container {\n",
       "      display:flex;\n",
       "      gap: 12px;\n",
       "    }\n",
       "\n",
       "    .colab-df-convert {\n",
       "      background-color: #E8F0FE;\n",
       "      border: none;\n",
       "      border-radius: 50%;\n",
       "      cursor: pointer;\n",
       "      display: none;\n",
       "      fill: #1967D2;\n",
       "      height: 32px;\n",
       "      padding: 0 0 0 0;\n",
       "      width: 32px;\n",
       "    }\n",
       "\n",
       "    .colab-df-convert:hover {\n",
       "      background-color: #E2EBFA;\n",
       "      box-shadow: 0px 1px 2px rgba(60, 64, 67, 0.3), 0px 1px 3px 1px rgba(60, 64, 67, 0.15);\n",
       "      fill: #174EA6;\n",
       "    }\n",
       "\n",
       "    .colab-df-buttons div {\n",
       "      margin-bottom: 4px;\n",
       "    }\n",
       "\n",
       "    [theme=dark] .colab-df-convert {\n",
       "      background-color: #3B4455;\n",
       "      fill: #D2E3FC;\n",
       "    }\n",
       "\n",
       "    [theme=dark] .colab-df-convert:hover {\n",
       "      background-color: #434B5C;\n",
       "      box-shadow: 0px 1px 3px 1px rgba(0, 0, 0, 0.15);\n",
       "      filter: drop-shadow(0px 1px 2px rgba(0, 0, 0, 0.3));\n",
       "      fill: #FFFFFF;\n",
       "    }\n",
       "  </style>\n",
       "\n",
       "    <script>\n",
       "      const buttonEl =\n",
       "        document.querySelector('#df-d5cd5a28-7ec3-4551-9ec8-cfe8c7a3c1c5 button.colab-df-convert');\n",
       "      buttonEl.style.display =\n",
       "        google.colab.kernel.accessAllowed ? 'block' : 'none';\n",
       "\n",
       "      async function convertToInteractive(key) {\n",
       "        const element = document.querySelector('#df-d5cd5a28-7ec3-4551-9ec8-cfe8c7a3c1c5');\n",
       "        const dataTable =\n",
       "          await google.colab.kernel.invokeFunction('convertToInteractive',\n",
       "                                                    [key], {});\n",
       "        if (!dataTable) return;\n",
       "\n",
       "        const docLinkHtml = 'Like what you see? Visit the ' +\n",
       "          '<a target=\"_blank\" href=https://colab.research.google.com/notebooks/data_table.ipynb>data table notebook</a>'\n",
       "          + ' to learn more about interactive tables.';\n",
       "        element.innerHTML = '';\n",
       "        dataTable['output_type'] = 'display_data';\n",
       "        await google.colab.output.renderOutput(dataTable, element);\n",
       "        const docLink = document.createElement('div');\n",
       "        docLink.innerHTML = docLinkHtml;\n",
       "        element.appendChild(docLink);\n",
       "      }\n",
       "    </script>\n",
       "  </div>\n",
       "\n",
       "\n",
       "<div id=\"df-0251ef57-0ccd-4d28-8f5a-0cbf8ad87e0a\">\n",
       "  <button class=\"colab-df-quickchart\" onclick=\"quickchart('df-0251ef57-0ccd-4d28-8f5a-0cbf8ad87e0a')\"\n",
       "            title=\"Suggest charts\"\n",
       "            style=\"display:none;\">\n",
       "\n",
       "<svg xmlns=\"http://www.w3.org/2000/svg\" height=\"24px\"viewBox=\"0 0 24 24\"\n",
       "     width=\"24px\">\n",
       "    <g>\n",
       "        <path d=\"M19 3H5c-1.1 0-2 .9-2 2v14c0 1.1.9 2 2 2h14c1.1 0 2-.9 2-2V5c0-1.1-.9-2-2-2zM9 17H7v-7h2v7zm4 0h-2V7h2v10zm4 0h-2v-4h2v4z\"/>\n",
       "    </g>\n",
       "</svg>\n",
       "  </button>\n",
       "\n",
       "<style>\n",
       "  .colab-df-quickchart {\n",
       "      --bg-color: #E8F0FE;\n",
       "      --fill-color: #1967D2;\n",
       "      --hover-bg-color: #E2EBFA;\n",
       "      --hover-fill-color: #174EA6;\n",
       "      --disabled-fill-color: #AAA;\n",
       "      --disabled-bg-color: #DDD;\n",
       "  }\n",
       "\n",
       "  [theme=dark] .colab-df-quickchart {\n",
       "      --bg-color: #3B4455;\n",
       "      --fill-color: #D2E3FC;\n",
       "      --hover-bg-color: #434B5C;\n",
       "      --hover-fill-color: #FFFFFF;\n",
       "      --disabled-bg-color: #3B4455;\n",
       "      --disabled-fill-color: #666;\n",
       "  }\n",
       "\n",
       "  .colab-df-quickchart {\n",
       "    background-color: var(--bg-color);\n",
       "    border: none;\n",
       "    border-radius: 50%;\n",
       "    cursor: pointer;\n",
       "    display: none;\n",
       "    fill: var(--fill-color);\n",
       "    height: 32px;\n",
       "    padding: 0;\n",
       "    width: 32px;\n",
       "  }\n",
       "\n",
       "  .colab-df-quickchart:hover {\n",
       "    background-color: var(--hover-bg-color);\n",
       "    box-shadow: 0 1px 2px rgba(60, 64, 67, 0.3), 0 1px 3px 1px rgba(60, 64, 67, 0.15);\n",
       "    fill: var(--button-hover-fill-color);\n",
       "  }\n",
       "\n",
       "  .colab-df-quickchart-complete:disabled,\n",
       "  .colab-df-quickchart-complete:disabled:hover {\n",
       "    background-color: var(--disabled-bg-color);\n",
       "    fill: var(--disabled-fill-color);\n",
       "    box-shadow: none;\n",
       "  }\n",
       "\n",
       "  .colab-df-spinner {\n",
       "    border: 2px solid var(--fill-color);\n",
       "    border-color: transparent;\n",
       "    border-bottom-color: var(--fill-color);\n",
       "    animation:\n",
       "      spin 1s steps(1) infinite;\n",
       "  }\n",
       "\n",
       "  @keyframes spin {\n",
       "    0% {\n",
       "      border-color: transparent;\n",
       "      border-bottom-color: var(--fill-color);\n",
       "      border-left-color: var(--fill-color);\n",
       "    }\n",
       "    20% {\n",
       "      border-color: transparent;\n",
       "      border-left-color: var(--fill-color);\n",
       "      border-top-color: var(--fill-color);\n",
       "    }\n",
       "    30% {\n",
       "      border-color: transparent;\n",
       "      border-left-color: var(--fill-color);\n",
       "      border-top-color: var(--fill-color);\n",
       "      border-right-color: var(--fill-color);\n",
       "    }\n",
       "    40% {\n",
       "      border-color: transparent;\n",
       "      border-right-color: var(--fill-color);\n",
       "      border-top-color: var(--fill-color);\n",
       "    }\n",
       "    60% {\n",
       "      border-color: transparent;\n",
       "      border-right-color: var(--fill-color);\n",
       "    }\n",
       "    80% {\n",
       "      border-color: transparent;\n",
       "      border-right-color: var(--fill-color);\n",
       "      border-bottom-color: var(--fill-color);\n",
       "    }\n",
       "    90% {\n",
       "      border-color: transparent;\n",
       "      border-bottom-color: var(--fill-color);\n",
       "    }\n",
       "  }\n",
       "</style>\n",
       "\n",
       "  <script>\n",
       "    async function quickchart(key) {\n",
       "      const quickchartButtonEl =\n",
       "        document.querySelector('#' + key + ' button');\n",
       "      quickchartButtonEl.disabled = true;  // To prevent multiple clicks.\n",
       "      quickchartButtonEl.classList.add('colab-df-spinner');\n",
       "      try {\n",
       "        const charts = await google.colab.kernel.invokeFunction(\n",
       "            'suggestCharts', [key], {});\n",
       "      } catch (error) {\n",
       "        console.error('Error during call to suggestCharts:', error);\n",
       "      }\n",
       "      quickchartButtonEl.classList.remove('colab-df-spinner');\n",
       "      quickchartButtonEl.classList.add('colab-df-quickchart-complete');\n",
       "    }\n",
       "    (() => {\n",
       "      let quickchartButtonEl =\n",
       "        document.querySelector('#df-0251ef57-0ccd-4d28-8f5a-0cbf8ad87e0a button');\n",
       "      quickchartButtonEl.style.display =\n",
       "        google.colab.kernel.accessAllowed ? 'block' : 'none';\n",
       "    })();\n",
       "  </script>\n",
       "</div>\n",
       "    </div>\n",
       "  </div>\n"
      ],
      "text/plain": [
       "            from               to    weight   weight2\n",
       "378  RepDonBeyer        RepSpeier  0.000658  0.000658\n",
       "354  RepDonBeyer       repcleaver  0.000658  0.000658\n",
       "353  RepDonBeyer  RepYvetteClarke  0.000658  0.000658\n",
       "352  RepDonBeyer        RepCasten  0.000658  0.000658\n",
       "349  RepDonBeyer        RepBeatty  0.000658  0.000658\n",
       "360  RepDonBeyer     RepGaramendi  0.000658  0.000658\n",
       "361  RepDonBeyer    RepChuyGarcia  0.000658  0.000658\n",
       "362  RepDonBeyer  RepRaulGrijalva  0.000658  0.000658\n",
       "365  RepDonBeyer     USRepKeating  0.000658  0.000658\n",
       "366  RepDonBeyer    RepRickLarsen  0.000658  0.000658"
      ]
     },
     "execution_count": 83,
     "metadata": {},
     "output_type": "execute_result"
    }
   ],
   "source": [
    "g_community2 = g2.hop(source_node_match={'community_infomap': 2}, destination_node_match={'community_infomap': 2})\n",
    "\n",
    "print(len(g_community2._nodes), 'senators', len(g_community2._edges), 'relns')\n",
    "g_community2._edges.sort_values(by=['weight2']).head(10)"
   ]
  },
  {
   "cell_type": "code",
   "execution_count": 86,
   "metadata": {
    "colab": {
     "base_uri": "https://localhost:8080/",
     "height": 543
    },
    "id": "uMnOYQypG-KH",
    "outputId": "a498472b-3fe5-4e1c-f9c5-b7b45515b63f"
   },
   "outputs": [
    {
     "data": {
      "text/html": [
       "\n",
       "            <iframe id=\"d3e20a53-8e92-4722-b85a-41716fcd3787\" src=\"https://hub.graphistry.com/graph/graph.html?dataset=18793994b1ac486fa1a0427c7281c94e&type=arrow&viztoken=4c7a064d-b59d-4884-a6fe-9c2f2ba7cc44&usertag=101e0a53-pygraphistry-0.29.7+20.g5b3795c&splashAfter=1701665066&info=true\"\n",
       "                    allowfullscreen=\"true\" webkitallowfullscreen=\"true\" mozallowfullscreen=\"true\"\n",
       "                    oallowfullscreen=\"true\" msallowfullscreen=\"true\"\n",
       "                    style=\"width:100%; height:500px; border: 1px solid #DDD; overflow: hidden\"\n",
       "                    \n",
       "            >\n",
       "            </iframe>\n",
       "        \n",
       "            <script>\n",
       "                try {\n",
       "                  $(\"#d3e20a53-8e92-4722-b85a-41716fcd3787\").bind('mousewheel', function(e) { e.preventDefault(); });\n",
       "                } catch (e) { console.error('exn catching scroll', e); }\n",
       "            </script>\n",
       "        "
      ],
      "text/plain": [
       "<IPython.core.display.HTML object>"
      ]
     },
     "execution_count": 86,
     "metadata": {},
     "output_type": "execute_result"
    }
   ],
   "source": [
    "g_community2.encode_point_color('pagerank', ['blue', 'yellow', 'red'], as_continuous=True).plot()"
   ]
  },
  {
   "cell_type": "markdown",
   "metadata": {
    "id": "o6yJ48oxKPiz"
   },
   "source": [
    "## 4. Multi-hop and paths-between-nodes pattern mining\n",
    "\n",
    "Method `gfql([...])` can be used for looking more than one hop out, and even finding paths between nodes."
   ]
  },
  {
   "cell_type": "markdown",
   "metadata": {
    "id": "fT4y7fH4KzAr"
   },
   "source": [
    "g_high_pr = g2.gfql([\n",
    "    n({'pagerank': ge(top_20_pr)}),\n",
    "    e_undirected(),\n",
    "    n({'pagerank': ge(top_20_pr)}),\n",
    "])\n",
    "\n",
    "len(g_high_pr._nodes)"
   ]
  },
  {
   "cell_type": "code",
   "execution_count": null,
   "metadata": {
    "colab": {
     "base_uri": "https://localhost:8080/",
     "height": 224
    },
    "id": "tItpDvqCBjvC",
    "outputId": "5f701cb9-8e0a-4495-bfbd-baff50466ae9"
   },
   "outputs": [],
   "source": [
    "g_high_pr = g2.gfql([\n",
    "    n({'pagerank': ge(top_20_pr)}),\n",
    "    e_undirected(),\n",
    "    n({'pagerank': ge(top_20_pr)}),\n",
    "])\n",
    "\n",
    "len(g_high_pr._nodes)"
   ]
  },
  {
   "cell_type": "code",
   "execution_count": 92,
   "metadata": {
    "colab": {
     "base_uri": "https://localhost:8080/",
     "height": 543
    },
    "id": "L_YmDjeRJzcw",
    "outputId": "c1abf11a-e48c-43ce-8087-a56052f3097c"
   },
   "outputs": [
    {
     "data": {
      "text/html": [
       "\n",
       "            <iframe id=\"6a78cfb6-e44b-4575-ba2d-af843b49f5b2\" src=\"https://hub.graphistry.com/graph/graph.html?dataset=8f2663e9edb34f1b94d5e4caca692c08&type=arrow&viztoken=757f43a6-204a-47d4-8823-4ae619811627&usertag=101e0a53-pygraphistry-0.29.7+20.g5b3795c&splashAfter=1701665329&info=true\"\n",
       "                    allowfullscreen=\"true\" webkitallowfullscreen=\"true\" mozallowfullscreen=\"true\"\n",
       "                    oallowfullscreen=\"true\" msallowfullscreen=\"true\"\n",
       "                    style=\"width:100%; height:500px; border: 1px solid #DDD; overflow: hidden\"\n",
       "                    \n",
       "            >\n",
       "            </iframe>\n",
       "        \n",
       "            <script>\n",
       "                try {\n",
       "                  $(\"#6a78cfb6-e44b-4575-ba2d-af843b49f5b2\").bind('mousewheel', function(e) { e.preventDefault(); });\n",
       "                } catch (e) { console.error('exn catching scroll', e); }\n",
       "            </script>\n",
       "        "
      ],
      "text/plain": [
       "<IPython.core.display.HTML object>"
      ]
     },
     "execution_count": 92,
     "metadata": {},
     "output_type": "execute_result"
    }
   ],
   "source": [
    "g_shumer_pelosi_bridges.plot()"
   ]
  },
  {
   "cell_type": "markdown",
   "metadata": {
    "id": "dbRgj3qxLU5I"
   },
   "source": [
    "## 5. Advanced filter predicates\n",
    "\n",
    "We can use a variety of predicates for filtering nodes and edges beyond attribute value equality.\n",
    "\n",
    "Common tasks include comparing attributes using:\n",
    "* Set inclusion: `is_in([...])`\n",
    "* Numeric comparisons: `gt(...)`, `lt(...)`, `ge(...)`, `le(...)`\n",
    "* String comparison: `startswith(...)`, `endswith(...)`, `contains(...)`\n",
    "* Regular expression matching: `matches(...)`\n",
    "* Duplicate checking: `duplicated()`"
   ]
  },
  {
   "cell_type": "markdown",
   "metadata": {
    "id": "z69kYi3wMMHK"
   },
   "source": [
    "Graph where nodes are in the top 20 pagerank:"
   ]
  },
  {
   "cell_type": "code",
   "execution_count": 134,
   "metadata": {
    "colab": {
     "base_uri": "https://localhost:8080/"
    },
    "id": "tHkjtTw-MVuA",
    "outputId": "d377eef1-8a2b-484a-b190-e95491eef4c2"
   },
   "outputs": [
    {
     "data": {
      "text/plain": [
       "0.005888600097034367"
      ]
     },
     "execution_count": 134,
     "metadata": {},
     "output_type": "execute_result"
    }
   ],
   "source": [
    "top_20_pr = g2._nodes.pagerank.sort_values(ascending=False, ignore_index=True)[19]\n",
    "top_20_pr"
   ]
  },
  {
   "cell_type": "code",
   "execution_count": null,
   "metadata": {
    "colab": {
     "base_uri": "https://localhost:8080/"
    },
    "id": "wDg9pUyJMR3V",
    "outputId": "7ba923cd-5faa-431e-8f8f-8da223a28a39"
   },
   "outputs": [],
   "source": [
    "g_high_pr = g2.gfql([\n",
    "    n({'pagerank': ge(top_20_pr)}),\n",
    "    e_undirected(),\n",
    "    n({'pagerank': ge(top_20_pr)}),\n",
    "])\n",
    "\n",
    "len(g_high_pr._nodes)"
   ]
  },
  {
   "cell_type": "code",
   "execution_count": null,
   "metadata": {
    "colab": {
     "base_uri": "https://localhost:8080/",
     "height": 543
    },
    "id": "FVc-Mou-M6TO",
    "outputId": "68ea6daa-b75b-46ad-cc54-010512aab919"
   },
   "outputs": [],
   "source": [
    "g_bridges2 = g2.gfql([\n",
    "    n({'title': 'SenSchumer'}),\n",
    "    e_undirected(name='from_schumer'),\n",
    "    n(name='found_bridge'),\n",
    "    e_undirected(name='from_pelosi'),\n",
    "    n({'title': 'SpeakerPelosi'})\n",
    "])\n",
    "\n",
    "print(len(g_bridges2._nodes), 'senators in full graph')\n",
    "\n",
    "named = g_bridges2._nodes[ g_bridges2._nodes.found_bridge ]\n",
    "print(len(named), 'bridging senators')\n",
    "edges = g_bridges2._edges\n",
    "print(len(edges[edges.from_schumer]), 'relns from_schumer', len(edges[edges.from_pelosi]), 'relns from_pelosi')\n",
    "\n",
    "g_bridges2.encode_point_color(\n",
    "    'found_bridge',\n",
    "    as_categorical=True,\n",
    "    categorical_mapping={\n",
    "        True: 'orange',\n",
    "        False: 'silver'\n",
    "    }\n",
    ").plot()"
   ]
  },
  {
   "cell_type": "markdown",
   "metadata": {
    "id": "MDHyapjHOY-b"
   },
   "source": [
    "Graph where the name includes Leader"
   ]
  },
  {
   "cell_type": "code",
   "execution_count": 136,
   "metadata": {
    "colab": {
     "base_uri": "https://localhost:8080/",
     "height": 561
    },
    "id": "mwkKlqhoO29-",
    "outputId": "9f3329f1-08f5-4d8f-c203-c049e59a101a"
   },
   "outputs": [
    {
     "name": "stdout",
     "output_type": "stream",
     "text": [
      "2 leaders\n"
     ]
    },
    {
     "data": {
      "text/html": [
       "\n",
       "            <iframe id=\"2888c33c-d366-4f48-942e-7db6fa67b814\" src=\"https://hub.graphistry.com/graph/graph.html?dataset=625a68e102a24e6297e2eb77a3a244f5&type=arrow&viztoken=a7890c9c-5c2f-4a14-bf3d-c40d1402147c&usertag=101e0a53-pygraphistry-0.29.7+20.g5b3795c&splashAfter=1701666652&info=true\"\n",
       "                    allowfullscreen=\"true\" webkitallowfullscreen=\"true\" mozallowfullscreen=\"true\"\n",
       "                    oallowfullscreen=\"true\" msallowfullscreen=\"true\"\n",
       "                    style=\"width:100%; height:500px; border: 1px solid #DDD; overflow: hidden\"\n",
       "                    \n",
       "            >\n",
       "            </iframe>\n",
       "        \n",
       "            <script>\n",
       "                try {\n",
       "                  $(\"#2888c33c-d366-4f48-942e-7db6fa67b814\").bind('mousewheel', function(e) { e.preventDefault(); });\n",
       "                } catch (e) { console.error('exn catching scroll', e); }\n",
       "            </script>\n",
       "        "
      ],
      "text/plain": [
       "<IPython.core.display.HTML object>"
      ]
     },
     "execution_count": 136,
     "metadata": {},
     "output_type": "execute_result"
    }
   ],
   "source": [
    "g_leaders = g2.hop(\n",
    "    source_node_match={'title': contains('Leader')},\n",
    "    destination_node_match = {'title': contains('Leader')}\n",
    ")\n",
    "\n",
    "print(len(g_leaders._nodes), 'leaders')\n",
    "\n",
    "g_leaders.plot()"
   ]
  },
  {
   "cell_type": "markdown",
   "metadata": {
    "id": "g--y65A0PHNJ"
   },
   "source": [
    "Graph of leaders and senators"
   ]
  },
  {
   "cell_type": "code",
   "execution_count": 139,
   "metadata": {
    "colab": {
     "base_uri": "https://localhost:8080/",
     "height": 561
    },
    "id": "mBfeLkA_Ol2i",
    "outputId": "e0353e9e-34c2-4fc5-a756-b0a9260e1edb"
   },
   "outputs": [
    {
     "name": "stdout",
     "output_type": "stream",
     "text": [
      "67 leaders and senators\n"
     ]
    },
    {
     "data": {
      "text/html": [
       "\n",
       "            <iframe id=\"4610a102-e7e3-4ba6-8d6e-48f29e6bde98\" src=\"https://hub.graphistry.com/graph/graph.html?dataset=a8a25eef82714c47a75d239101046e82&type=arrow&viztoken=edc1d590-ca20-4abd-a3e3-077d482ab47a&usertag=101e0a53-pygraphistry-0.29.7+20.g5b3795c&splashAfter=1701666806&info=true\"\n",
       "                    allowfullscreen=\"true\" webkitallowfullscreen=\"true\" mozallowfullscreen=\"true\"\n",
       "                    oallowfullscreen=\"true\" msallowfullscreen=\"true\"\n",
       "                    style=\"width:100%; height:500px; border: 1px solid #DDD; overflow: hidden\"\n",
       "                    \n",
       "            >\n",
       "            </iframe>\n",
       "        \n",
       "            <script>\n",
       "                try {\n",
       "                  $(\"#4610a102-e7e3-4ba6-8d6e-48f29e6bde98\").bind('mousewheel', function(e) { e.preventDefault(); });\n",
       "                } catch (e) { console.error('exn catching scroll', e); }\n",
       "            </script>\n",
       "        "
      ],
      "text/plain": [
       "<IPython.core.display.HTML object>"
      ]
     },
     "execution_count": 139,
     "metadata": {},
     "output_type": "execute_result"
    }
   ],
   "source": [
    "g_leaders_and_senators = g2.hop(\n",
    "    source_node_match={'title': match_re(r'Sen|Leader')},\n",
    "    destination_node_match = {'title': match_re(r'Sen|Leader')}\n",
    ")\n",
    "\n",
    "print(len(g_leaders_and_senators._nodes), 'leaders and senators')\n",
    "\n",
    "g_leaders_and_senators.plot()"
   ]
  },
  {
   "cell_type": "markdown",
   "metadata": {
    "id": "DuxWkZFVV9-R"
   },
   "source": [
    "## 6. Result labeling\n",
    "\n",
    "It can be useful to name node and edges within the path query for downstream reasoning:"
   ]
  },
  {
   "cell_type": "code",
   "execution_count": null,
   "metadata": {
    "colab": {
     "base_uri": "https://localhost:8080/",
     "height": 595
    },
    "id": "6G4nnclNPpY8",
    "outputId": "5139bef8-45ba-4ae9-cadb-9da856eb6bc8"
   },
   "outputs": [],
   "source": [
    "g_bridges2 = g2.gfql([\n",
    "    n({'title': 'SenSchumer'}),\n",
    "    e_undirected(name='from_schumer'),\n",
    "    n(name='found_bridge'),\n",
    "    e_undirected(name='from_pelosi'),\n",
    "    n({'title': 'SpeakerPelosi'})\n",
    "])\n",
    "\n",
    "print(len(g_bridges2._nodes), 'senators in full graph')\n",
    "\n",
    "named = g_bridges2._nodes[ g_bridges2._nodes.found_bridge ]\n",
    "print(len(named), 'bridging senators')\n",
    "edges = g_bridges2._edges\n",
    "print(len(edges[edges.from_schumer]), 'relns from_schumer', len(edges[edges.from_pelosi]), 'relns from_pelosi')\n",
    "\n",
    "g_bridges2.encode_point_color(\n",
    "    'found_bridge',\n",
    "    as_categorical=True,\n",
    "    categorical_mapping={\n",
    "        True: 'orange',\n",
    "        False: 'silver'\n",
    "    }\n",
    ").plot()"
   ]
  },
  {
   "cell_type": "code",
   "execution_count": null,
   "metadata": {
    "id": "w3w4RRYkWXKo"
   },
   "outputs": [],
   "source": []
  }
 ],
 "metadata": {
  "colab": {
   "provenance": []
  },
  "kernelspec": {
   "display_name": "Python 3",
   "name": "python3"
  },
  "language_info": {
   "name": "python"
  }
 },
 "nbformat": 4,
 "nbformat_minor": 0
}