{
 "cells": [
  {
   "cell_type": "markdown",
   "metadata": {},
   "source": [
    "## Size encodings tutorial\n",
    "\n",
    "See the examples below for common ways to map data to node size in Graphistry.\n",
    "\n",
    "Size refers to point radius. This tutorial covers two kinds of size controls:\n",
    "\n",
    "* Node size setting, which is a global scaling factor\n",
    "* Node size encoding, used for mapping a node data column to size\n",
    "\n",
    "Sizes are often used with node color, label, icon, and badges to provide more visual information. Most encodings work both for points and edges. The [PyGraphistry Python client](https://github.com/graphistry/pygraphistry) makes it easier to use the [URL settings API](https://hub.graphistry.com/docs/api/1/rest/url/) and the [REST upload API](https://hub.graphistry.com/docs/api/2/rest/upload/). For dynamic control, you can use also use the [JavaScript APIs](https://hub.graphistry.com/docs/). "
   ]
  },
  {
   "cell_type": "markdown",
   "metadata": {},
   "source": [
    "## Setup\n",
    "\n",
    "Mode `api=3` is recommended. It is required for `complex_encodings` (ex: `.encode_point_size(...)`). Mode `api=1` works with the simpler `.bind(point_size='col_a')` form."
   ]
  },
  {
   "cell_type": "code",
   "execution_count": null,
   "metadata": {},
   "outputs": [],
   "source": [
    "# ! pip install --user graphistry\n",
    "import graphistry\n",
    "\n",
    "# To specify Graphistry account & server, use:\n",
    "# graphistry.register(api=3, username='...', password='...', protocol='https', server='hub.graphistry.com')\n",
    "# For more options, see https://github.com/graphistry/pygraphistry#configure\n",
    "\n",
    "graphistry.__version__"
   ]
  },
  {
   "cell_type": "code",
   "execution_count": null,
   "metadata": {},
   "outputs": [],
   "source": [
    "import datetime, pandas as pd\n",
    "e_df = pd.DataFrame({\n",
    "    's': ['a', 'b', 'c', 'a', 'b', 'c', 'a', 'd', 'e'],\n",
    "    'd': ['b', 'c', 'a', 'b', 'c', 'a', 'c', 'e', 'd'],\n",
    "    'time': [datetime.datetime(1987, 10, 1), datetime.datetime(1987, 10, 2), datetime.datetime(1987, 10, 3),\n",
    "             datetime.datetime(1988, 10, 1), datetime.datetime(1988, 10, 2), datetime.datetime(1988, 10, 3),\n",
    "             datetime.datetime(1989, 10, 1), datetime.datetime(1989, 10, 2), datetime.datetime(1989, 10, 3)]\n",
    "})\n",
    "n_df = pd.DataFrame({\n",
    "    'n': ['a', 'b', 'c', 'd', 'e'],\n",
    "    'score': [ 1, 30, 50, 70, 90 ],\n",
    "    'palette_color_int32': pd.Series(\n",
    "        [0, 1, 2, 3, 4],\n",
    "        dtype='int32'),\n",
    "    'hex_color_int64': pd.Series(\n",
    "        [0xFF000000, 0xFFFF0000, 0xFFFFFF00, 0x00FF0000, 0x0000FF00],\n",
    "        dtype='int64'),\n",
    "    'type': ['mac', 'macbook', 'mac', 'macbook', 'sheep']\n",
    "})\n",
    "\n",
    "g = graphistry.edges(e_df, 's', 'd').nodes(n_df, 'n')"
   ]
  },
  {
   "cell_type": "markdown",
   "metadata": {},
   "source": [
    "## Default Size\n",
    "Graphistry uses the 'degree' of a node, so nodes with more edges appear bigger"
   ]
  },
  {
   "cell_type": "code",
   "execution_count": null,
   "metadata": {},
   "outputs": [],
   "source": [
    "g.plot()"
   ]
  },
  {
   "cell_type": "markdown",
   "metadata": {},
   "source": [
    "## Size Setting\n",
    "\n",
    "You can tune the scaling factor:"
   ]
  },
  {
   "cell_type": "code",
   "execution_count": null,
   "metadata": {},
   "outputs": [],
   "source": [
    "g.settings(url_params={'pointSize': 0.5}).plot()"
   ]
  },
  {
   "cell_type": "markdown",
   "metadata": {},
   "source": [
    "## Size encodings\n",
    "\n",
    "\n",
    "Options: continuous mapping, categorical mapping"
   ]
  },
  {
   "cell_type": "markdown",
   "metadata": {},
   "source": [
    "#### Continuous size encodings\n",
    "\n",
    "Use an input column as relative sizes. Graphistry automatically normalizes them."
   ]
  },
  {
   "cell_type": "code",
   "execution_count": null,
   "metadata": {},
   "outputs": [],
   "source": [
    "g.settings(url_params={'pointSize': 0.3}).encode_point_size('score').plot()"
   ]
  },
  {
   "cell_type": "markdown",
   "metadata": {},
   "source": [
    "#### Categorical size encodings\n",
    "\n",
    "Map distinct values to specific sizes. Optionally, set a default, else black."
   ]
  },
  {
   "cell_type": "code",
   "execution_count": null,
   "metadata": {},
   "outputs": [],
   "source": [
    "g.settings(url_params={'pointSize': 0.3})\\\n",
    " .encode_point_size(\n",
    "    'type',\n",
    "    categorical_mapping={\n",
    "        'mac': 50,\n",
    "        'macbook': 100\n",
    "    },\n",
    "    default_mapping=20\n",
    ").plot()"
   ]
  },
  {
   "cell_type": "markdown",
   "metadata": {},
   "source": [
    "## Legend support\n",
    "Categorical node sizes will appear in legend when driven by column `type`: "
   ]
  },
  {
   "cell_type": "code",
   "execution_count": null,
   "metadata": {},
   "outputs": [],
   "source": [
    "g.settings(url_params={'pointSize': 0.3})\\\n",
    " .encode_point_size(\n",
    "    'type',\n",
    "    categorical_mapping={\n",
    "        'mac': 50,\n",
    "        'macbook': 100\n",
    "    },\n",
    "    default_mapping=20\n",
    ").plot()"
   ]
  },
  {
   "cell_type": "code",
   "execution_count": null,
   "metadata": {},
   "outputs": [],
   "source": []
  }
 ],
 "metadata": {
  "kernelspec": {
   "display_name": "Python 3",
   "language": "python",
   "name": "python3"
  },
  "language_info": {
   "codemirror_mode": {
    "name": "ipython",
    "version": 3
   },
   "file_extension": ".py",
   "mimetype": "text/x-python",
   "name": "python",
   "nbconvert_exporter": "python",
   "pygments_lexer": "ipython3",
   "version": "3.7.11"
  }
 },
 "nbformat": 4,
 "nbformat_minor": 4
}
