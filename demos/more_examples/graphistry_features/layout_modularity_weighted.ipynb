{
 "cells": [
  {
   "cell_type": "markdown",
   "metadata": {
    "id": "UEQyPUiIK6VS"
   },
   "source": [
    "# Modularity weighted layout\n",
    "\n",
    "When community labels are known, modularity weighting helps force the layout to better hightlight the community structure. The layout algorithm will weight edges based on whether they are same-community vs cross-community. If no community labels are provided, default to using Louivain."
   ]
  },
  {
   "cell_type": "code",
   "execution_count": null,
   "metadata": {},
   "outputs": [],
   "source": [
    "# ! pip install -q graphistry igraph"
   ]
  },
  {
   "cell_type": "code",
   "execution_count": null,
   "metadata": {
    "id": "Nk2xIrpUH5ud"
   },
   "outputs": [],
   "source": "import graphistry\nimport pandas as pd\nimport os\nfrom dotenv import load_dotenv\n\n# Load environment variables from .env file if present\nload_dotenv()\n\n# Graphistry Configuration\n# Manual configuration overrides (uncomment and modify as needed)\nGRAPHISTRY_CONFIG = {\n    # 'api': 3,\n    # 'username': 'your_username',\n    # 'password': 'your_password',\n    # 'protocol': 'https',\n    # 'server': 'hub.graphistry.com'\n}\n\n# Load configuration with hierarchical precedence: manual > env vars > .env file\nconfig = {\n    'api': GRAPHISTRY_CONFIG.get('api', int(os.getenv('GRAPHISTRY_API', '3'))),\n    'username': GRAPHISTRY_CONFIG.get('username', os.getenv('GRAPHISTRY_USERNAME')),\n    'password': GRAPHISTRY_CONFIG.get('password', os.getenv('GRAPHISTRY_PASSWORD')), \n    'protocol': GRAPHISTRY_CONFIG.get('protocol', os.getenv('GRAPHISTRY_PROTOCOL', 'https')),\n    'server': GRAPHISTRY_CONFIG.get('server', os.getenv('GRAPHISTRY_SERVER', 'hub.graphistry.com'))\n}\n\n# Filter out None values and register\nconfig = {k: v for k, v in config.items() if v is not None}\nif config:\n    graphistry.register(**config)\n    print(\"✅ Graphistry configured successfully\")\n    if config.get('server'):\n        print(f\"   Server: {config.get('server')}\")\n    if config.get('username'):\n        print(f\"   Username: {config.get('username')}\")\nelse:\n    print(\"⚠️  Graphistry not configured. Please set credentials in GRAPHISTRY_CONFIG or environment variables.\")\n\n# For more options: https://pygraphistry.readthedocs.io/en/latest/server/register.html"
  },
  {
   "cell_type": "code",
   "execution_count": 4,
   "metadata": {
    "id": "LWZoFxJ2IYMS"
   },
   "outputs": [],
   "source": [
    "df = pd.read_csv('https://raw.githubusercontent.com/graphistry/pygraphistry/master/demos/data/transactions.csv')\n",
    "g = graphistry.edges(df, 'Destination', 'Source')"
   ]
  },
  {
   "cell_type": "code",
   "execution_count": 27,
   "metadata": {
    "colab": {
     "base_uri": "https://localhost:8080/",
     "height": 561
    },
    "id": "ffGGHcs_KPKH",
    "outputId": "769c30cc-99cd-4f43-d059-06ade9446c8d"
   },
   "outputs": [
    {
     "name": "stderr",
     "output_type": "stream",
     "text": [
      "WARNING:graphistry.plugins.igraph:edge index g._edge not set so using edge index as ID; set g._edge via g.edges(), or change merge_if_existing to FalseWARNING:graphistry.plugins.igraph:edge index g._edge __edge_index__ missing as attribute in ig; using ig edge order for IDs"
     ]
    },
    {
     "data": {
      "text/html": [
       "\n",
       "            <iframe id=\"582bf801-1b1e-489a-82f6-ab125dfac968\" src=\"https://hub.graphistry.com/graph/graph.html?dataset=0d6a30dfaa094e8a8b328615444dfd95&type=arrow&viztoken=4d1bfb2c-ca98-4d37-868e-43529b4146c6&usertag=7b512218-pygraphistry-0.34.2&splashAfter=1722670549&info=true\"\n",
       "                    allowfullscreen=\"true\" webkitallowfullscreen=\"true\" mozallowfullscreen=\"true\"\n",
       "                    oallowfullscreen=\"true\" msallowfullscreen=\"true\"\n",
       "                    style=\"width:100%; height:500px; border: 1px solid #DDD; overflow: hidden\"\n",
       "                    \n",
       "            >\n",
       "            </iframe>\n",
       "        \n",
       "            <script>\n",
       "                try {\n",
       "                  $(\"#582bf801-1b1e-489a-82f6-ab125dfac968\").bind('mousewheel', function(e) { e.preventDefault(); });\n",
       "                } catch (e) { console.error('exn catching scroll', e); }\n",
       "            </script>\n",
       "        "
      ],
      "text/plain": [
       "<IPython.core.display.HTML object>"
      ]
     },
     "execution_count": 27,
     "metadata": {},
     "output_type": "execute_result"
    }
   ],
   "source": [
    "# Before\n",
    "g.compute_igraph('community_multilevel', directed=False).plot()"
   ]
  },
  {
   "cell_type": "code",
   "execution_count": 19,
   "metadata": {
    "colab": {
     "base_uri": "https://localhost:8080/"
    },
    "id": "ltw6qybCi0xA",
    "outputId": "ef5ea3ea-5b3d-429e-c979-ce13ea80797f"
   },
   "outputs": [
    {
     "name": "stderr",
     "output_type": "stream",
     "text": [
      "WARNING:graphistry.plugins.igraph:edge index g._edge not set so using edge index as ID; set g._edge via g.edges(), or change merge_if_existing to FalseWARNING:graphistry.plugins.igraph:edge index g._edge __edge_index__ missing as attribute in ig; using ig edge order for IDs"
     ]
    }
   ],
   "source": [
    "# After\n",
    "g2 = g.modularity_weighted_layout(g)"
   ]
  },
  {
   "cell_type": "code",
   "execution_count": 21,
   "metadata": {
    "colab": {
     "base_uri": "https://localhost:8080/",
     "height": 543
    },
    "id": "rqBkXQDWdOE7",
    "outputId": "f2eee36e-ddd5-4d21-fcec-32761476aa55"
   },
   "outputs": [
    {
     "data": {
      "text/html": [
       "\n",
       "            <iframe id=\"afae5f89-0caf-4aa5-b1af-b5dabdd43e79\" src=\"https://hub.graphistry.com/graph/graph.html?dataset=e64d74fbd26541169ac8b670ed57a19a&type=arrow&viztoken=5e9461fa-ad1d-4ccd-8632-43f15e379f62&usertag=7b512218-pygraphistry-0.34.2&splashAfter=1722667198&info=true&edgeInfluence=2.0\"\n",
       "                    allowfullscreen=\"true\" webkitallowfullscreen=\"true\" mozallowfullscreen=\"true\"\n",
       "                    oallowfullscreen=\"true\" msallowfullscreen=\"true\"\n",
       "                    style=\"width:100%; height:500px; border: 1px solid #DDD; overflow: hidden\"\n",
       "                    \n",
       "            >\n",
       "            </iframe>\n",
       "        \n",
       "            <script>\n",
       "                try {\n",
       "                  $(\"#afae5f89-0caf-4aa5-b1af-b5dabdd43e79\").bind('mousewheel', function(e) { e.preventDefault(); });\n",
       "                } catch (e) { console.error('exn catching scroll', e); }\n",
       "            </script>\n",
       "        "
      ],
      "text/plain": [
       "<IPython.core.display.HTML object>"
      ]
     },
     "execution_count": 21,
     "metadata": {},
     "output_type": "execute_result"
    }
   ],
   "source": [
    "g2.plot()"
   ]
  },
  {
   "cell_type": "code",
   "execution_count": null,
   "metadata": {
    "id": "oFTINwvZfsuH"
   },
   "outputs": [],
   "source": []
  }
 ],
 "metadata": {
  "colab": {
   "provenance": []
  },
  "kernelspec": {
   "display_name": "Python 3",
   "name": "python3"
  },
  "language_info": {
   "name": "python",
   "version": "3.10.14"
  }
 },
 "nbformat": 4,
 "nbformat_minor": 0
}