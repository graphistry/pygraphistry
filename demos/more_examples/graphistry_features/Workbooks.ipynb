{
 "cells": [
  {
   "cell_type": "markdown",
   "metadata": {},
   "source": [
    "# Workbooks\n",
    "\n",
    "- Workbooks allow users to persist the analytic state of a visualization, including active filters, exclusions, and color encodings. \n",
    "- PyGraphistry users can set the workbook via `.settings(url_params={'workbook': 'my_workbook_id'})`\n",
    "  - See bottom example\n",
    "- Workbooks are **not** bound to any particular dataset, meaning that the same workbook can be used across many different dataset.\n",
    "    - This design allows workbooks to be shared amongst analysts, even if they have different access permissions to the data. \n",
    "    - Additionally, for on-premise costumers who require a 'read-process-discard' security model, workbooks allow you to resume an investigation even if the last dataset was discarded. \n",
    "    - This design is also valuable to analyze time-dependent datasets. For example, a user can reuse the same workbook to analyze a graph of the day's highest priority security events. \n",
    "    - Or alternatively, different datasets that represent similar entities and connections (In this tutorial, we use one workbook to examine two different social networks graphs)\n"
   ]
  },
  {
   "cell_type": "markdown",
   "metadata": {},
   "source": [
    "#### Import the necessary libaries"
   ]
  },
  {
   "cell_type": "code",
   "execution_count": 6,
   "metadata": {},
   "outputs": [],
   "source": [
    "import time\n",
    "from IPython.display import IFrame"
   ]
  },
  {
   "cell_type": "markdown",
   "metadata": {},
   "source": [
    "#### Set the location of the graphistry server\n",
    "- To use our public server, use **hub.graphistry.com**"
   ]
  },
  {
   "cell_type": "code",
   "execution_count": 2,
   "metadata": {
    "collapsed": true
   },
   "outputs": [],
   "source": [
    "SERVER = 'hub.graphistry.com'"
   ]
  },
  {
   "cell_type": "markdown",
   "metadata": {},
   "source": [
    "## Let's first take a look at a subgraph of Facebook's social network, and create a new workbook named popularCommunities"
   ]
  },
  {
   "cell_type": "code",
   "execution_count": 3,
   "metadata": {},
   "outputs": [],
   "source": [
    "current_time = str(int(time.time()))\n",
    "dataset='Facebook'\n",
    "# We add the current time to the end of the workbook name to ensure it is unique\n",
    "workbook = 'popularCommunities' + current_time "
   ]
  },
  {
   "cell_type": "code",
   "execution_count": 4,
   "metadata": {},
   "outputs": [
    {
     "data": {
      "text/html": [
       "\n",
       "        <iframe\n",
       "            width=\"1000\"\n",
       "            height=\"500\"\n",
       "            src=\"http://hub.graphistry.com/graph/graph.html?dataset=Facebook&workbook=popularCommunities1554615843&splashAfter=1554615844\"\n",
       "            frameborder=\"0\"\n",
       "            allowfullscreen\n",
       "        ></iframe>\n",
       "        "
      ],
      "text/plain": [
       "<IPython.lib.display.IFrame at 0x108772050>"
      ]
     },
     "execution_count": 4,
     "metadata": {},
     "output_type": "execute_result"
    }
   ],
   "source": [
    "current_time = str(int(time.time()))\n",
    "url = 'http://' + SERVER + '/graph/graph.html?dataset=' + dataset + '&workbook=' + workbook + '&splashAfter=' + current_time\n",
    "IFrame(url, width=1000, height=500)"
   ]
  },
  {
   "cell_type": "markdown",
   "metadata": {},
   "source": [
    "### In this vizualization, let's create a notebook with a filter to find communities of popular characters. \n",
    "1. Click on the filter button in the toolbar to the left. \n",
    "2. In the 'Select attribute to filter' input box, type: 'point:degree' and then click enter\n",
    "3. Change the filter to `point:degree >= 100`\n",
    "4. Make sure to **save the workbook** by clicking on the floppy disc icon at the bottom of the toolbar. \n",
    "##### The workbook should now be saved. Refresh the page to confirm the filter has persisted"
   ]
  },
  {
   "cell_type": "markdown",
   "metadata": {},
   "source": [
    "## Now let's reuse our workbook from the last step to find popular communities in a different  social network graph. \n",
    "### In this example, we examime a social network made from the characters in Marvel comic books. "
   ]
  },
  {
   "cell_type": "code",
   "execution_count": 5,
   "metadata": {},
   "outputs": [
    {
     "data": {
      "text/html": [
       "\n",
       "        <iframe\n",
       "            width=\"1000\"\n",
       "            height=\"500\"\n",
       "            src=\"http://hub.graphistry.com/graph/graph.html?dataset=Marvel&workbook=popularCommunities1554615843&splashAfter=1554615870\"\n",
       "            frameborder=\"0\"\n",
       "            allowfullscreen\n",
       "        ></iframe>\n",
       "        "
      ],
      "text/plain": [
       "<IPython.lib.display.IFrame at 0x1087729d0>"
      ]
     },
     "execution_count": 5,
     "metadata": {},
     "output_type": "execute_result"
    }
   ],
   "source": [
    "current_time = str(int(time.time()))\n",
    "dataset='Marvel'\n",
    "url = 'http://' + SERVER + '/graph/graph.html?dataset=' + dataset + '&workbook=' + workbook + '&splashAfter=' + current_time\n",
    "IFrame(url, width=1000, height=500)"
   ]
  },
  {
   "cell_type": "markdown",
   "metadata": {},
   "source": [
    "#### Confirm the filter has been persisted, by clicking on the filters button, and checking that 'point:degree > 100' is an active filter"
   ]
  },
  {
   "cell_type": "markdown",
   "metadata": {},
   "source": [
    "## For comparison, the following vizualization was created without the workbook"
   ]
  },
  {
   "cell_type": "code",
   "execution_count": null,
   "metadata": {},
   "outputs": [],
   "source": [
    "current_time = str(int(time.time()))\n",
    "dataset='Marvel'\n",
    "url = 'http://' + SERVER + '/graph/graph.html?dataset=' + dataset + '&splashAfter=' + current_time\n",
    "IFrame(url, width=1000, height=500)"
   ]
  },
  {
   "cell_type": "code",
   "execution_count": null,
   "metadata": {
    "collapsed": true
   },
   "outputs": [],
   "source": "import pandas as pd\nimport graphistry\nimport os\nfrom dotenv import load_dotenv\n\n# Load environment variables from .env file if present\nload_dotenv()\n\n# Graphistry Configuration\n# Manual configuration overrides (uncomment and modify as needed)\nGRAPHISTRY_CONFIG = {\n    # 'api': 3,\n    # 'username': 'your_username',\n    # 'password': 'your_password',\n    # 'protocol': 'https',\n    # 'server': 'hub.graphistry.com'\n}\n\n# Load configuration with hierarchical precedence: manual > env vars > .env file\nconfig = {\n    'api': GRAPHISTRY_CONFIG.get('api', int(os.getenv('GRAPHISTRY_API', '3'))),\n    'username': GRAPHISTRY_CONFIG.get('username', os.getenv('GRAPHISTRY_USERNAME')),\n    'password': GRAPHISTRY_CONFIG.get('password', os.getenv('GRAPHISTRY_PASSWORD')), \n    'protocol': GRAPHISTRY_CONFIG.get('protocol', os.getenv('GRAPHISTRY_PROTOCOL', 'https')),\n    'server': GRAPHISTRY_CONFIG.get('server', os.getenv('GRAPHISTRY_SERVER', 'hub.graphistry.com'))\n}\n\n# Filter out None values and register\nconfig = {k: v for k, v in config.items() if v is not None}\nif config:\n    graphistry.register(**config)\n    print(\"✅ Graphistry configured successfully\")\n    if config.get('server'):\n        print(f\"   Server: {config.get('server')}\")\n    if config.get('username'):\n        print(f\"   Username: {config.get('username')}\")\nelse:\n    print(\"⚠️  Graphistry not configured. Please set credentials in GRAPHISTRY_CONFIG or environment variables.\")\n\n# For more options: https://pygraphistry.readthedocs.io/en/latest/server/register.html\n\nedges_1_df = pd.DataFrame({'s': [0,1,2], 'd': [1,2,0]})\nedges_2_df = pd.DataFrame({'s': [0,1,2, 3], 'd': [1,2,0,1]})"
  },
  {
   "cell_type": "code",
   "execution_count": 10,
   "metadata": {
    "collapsed": true
   },
   "outputs": [],
   "source": [
    "g = graphistry.bind(source='s', destination='d').settings(url_params={'workbook': 'my_' + workbook})"
   ]
  },
  {
   "cell_type": "markdown",
   "metadata": {},
   "source": [
    "# Use with pygraphistry\n",
    "* Set via `.settings(url_params={'workbook': 'my_workbook_id'})`\n",
    "* Reuse across plots"
   ]
  },
  {
   "cell_type": "code",
   "execution_count": 11,
   "metadata": {},
   "outputs": [
    {
     "data": {
      "text/html": [
       "\n",
       "            <iframe id=\"e49970b4-8a01-4bcd-890d-3f230fe60b85\" src=\"https://hub.graphistry.com/graph/graph.html?dataset=PyGraphistry/X0TC2GE0P5&type=vgraph&viztoken=985cad3ffdac1e86fa77237ff20fe33081ce8d93&usertag=86f11264-pygraphistry-0.9.63&splashAfter=1554616118&info=true&workbook=my_popularCommunities1554615843\"\n",
       "                    allowfullscreen=\"true\" webkitallowfullscreen=\"true\" mozallowfullscreen=\"true\"\n",
       "                    oallowfullscreen=\"true\" msallowfullscreen=\"true\"\n",
       "                    style=\"width:100%; height:500px; border: 1px solid #DDD\">\n",
       "            </iframe>\n",
       "        \n",
       "            <script>\n",
       "                $(\"#e49970b4-8a01-4bcd-890d-3f230fe60b85\").bind('mousewheel', function(e) {\n",
       "                e.preventDefault();\n",
       "                });\n",
       "            </script>\n",
       "        "
      ],
      "text/plain": [
       "<IPython.core.display.HTML object>"
      ]
     },
     "execution_count": 11,
     "metadata": {},
     "output_type": "execute_result"
    }
   ],
   "source": [
    "g.plot(edges_1_df)"
   ]
  },
  {
   "cell_type": "code",
   "execution_count": 12,
   "metadata": {},
   "outputs": [
    {
     "data": {
      "text/html": [
       "\n",
       "            <iframe id=\"1bdeec75-8118-4c08-b566-4ca1f2997301\" src=\"https://hub.graphistry.com/graph/graph.html?dataset=PyGraphistry/F4NW1JRDVT&type=vgraph&viztoken=b332c1729ebb48710ea37296323a9345ae44cb5f&usertag=86f11264-pygraphistry-0.9.63&splashAfter=1554616138&info=true&workbook=my_popularCommunities1554615843\"\n",
       "                    allowfullscreen=\"true\" webkitallowfullscreen=\"true\" mozallowfullscreen=\"true\"\n",
       "                    oallowfullscreen=\"true\" msallowfullscreen=\"true\"\n",
       "                    style=\"width:100%; height:500px; border: 1px solid #DDD\">\n",
       "            </iframe>\n",
       "        \n",
       "            <script>\n",
       "                $(\"#1bdeec75-8118-4c08-b566-4ca1f2997301\").bind('mousewheel', function(e) {\n",
       "                e.preventDefault();\n",
       "                });\n",
       "            </script>\n",
       "        "
      ],
      "text/plain": [
       "<IPython.core.display.HTML object>"
      ]
     },
     "execution_count": 12,
     "metadata": {},
     "output_type": "execute_result"
    }
   ],
   "source": [
    "g.plot(edges_2_df)"
   ]
  },
  {
   "cell_type": "code",
   "execution_count": null,
   "metadata": {
    "collapsed": true
   },
   "outputs": [],
   "source": []
  }
 ],
 "metadata": {
  "kernelspec": {
   "display_name": "Python 3.8.10 64-bit",
   "language": "python",
   "name": "python3"
  },
  "language_info": {
   "codemirror_mode": {
    "name": "ipython",
    "version": 3
   },
   "file_extension": ".py",
   "mimetype": "text/x-python",
   "name": "python",
   "nbconvert_exporter": "python",
   "pygments_lexer": "ipython3",
   "version": "3.8.10"
  },
  "vscode": {
   "interpreter": {
    "hash": "916dbcbb3f70747c44a77c7bcd40155683ae19c65e1c03b4aa3499c5328201f1"
   }
  }
 },
 "nbformat": 4,
 "nbformat_minor": 1
}