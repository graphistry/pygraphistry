{
  "cells": [
    {
      "cell_type": "markdown",
      "metadata": {
        "pycharm": {
          "name": "#%% md\n"
        },
        "id": "2KNQqb8KhO6c"
      },
      "source": [
        "## Layered Hierarchical Layout"
      ]
    },
    {
      "cell_type": "code",
      "execution_count": null,
      "metadata": {
        "id": "kId05K6chO6f"
      },
      "outputs": [],
      "source": [
        "from graphistry.layout.sugiyama import SugiyamaLayout\n",
        "from graphistry.layout.graph import Graph, Vertex, Edge\n",
        "import pandas as pd\n",
        "import networkx as nx\n",
        "import matplotlib\n",
        "import matplotlib.pyplot as plt\n"
      ]
    },
    {
      "cell_type": "code",
      "execution_count": null,
      "metadata": {
        "pycharm": {
          "name": "#%%\n"
        },
        "id": "hSBopW3xhO6f"
      },
      "outputs": [],
      "source": [
        "def from_networkx(nxg):\n",
        "    \"\"\"\n",
        "        Converts a networkx graph to a sugiyama graph.\n",
        "    \"\"\"\n",
        "    vertices = []\n",
        "    data_to_v = {}\n",
        "    for x in nxg.nodes():\n",
        "        vertex = Vertex(x)\n",
        "        vertices.append(vertex)\n",
        "        data_to_v[x] = vertex\n",
        "    E = [Edge(data_to_v[xy[0]], data_to_v[xy[1]], data = xy) for xy in nxg.edges()]\n",
        "    g = Graph(vertices, E)\n",
        "    return g\n",
        "\n",
        "\n",
        "def to_networkx(g):\n",
        "    \"\"\"\n",
        "        Converts a sugiyama graph to a networkx graph.\n",
        "    \"\"\"\n",
        "    from networkx import MultiDiGraph\n",
        "\n",
        "    nxg = MultiDiGraph()\n",
        "    for v in g.vertices():\n",
        "        nxg.add_node(v.data)\n",
        "    for e in g.edges():\n",
        "        # todo: this leads to issues when the data is more than an id\n",
        "        nxg.add_edge(e.v[0].data, e.v[1].data)\n",
        "    return nxg\n",
        "\n",
        "\n",
        "def draw_graph(g, layout_direction = 0, source_column = \"source\", target_column = \"target\", root=None):\n",
        "    \"\"\"\n",
        "    Renders the given graph after applying the layered layout.\n",
        "    :param g: Graphistry Graph or NetworkX Graph.\n",
        "    \"\"\"\n",
        "    if isinstance(g, nx.Graph):\n",
        "        gg = from_networkx(g)\n",
        "        nxg = g\n",
        "    elif isinstance(g, Graph):\n",
        "        gg = g\n",
        "        nxg = to_networkx(g)\n",
        "    elif isinstance(g, pd.DataFrame):\n",
        "        gg = SugiyamaLayout.graph_from_pandas(g, source_column = source_column, target_column = target_column)\n",
        "        nxg = to_networkx(gg)\n",
        "    else:\n",
        "        raise ValueError\n",
        "    # apply layout\n",
        "    positions = SugiyamaLayout.arrange(gg, layout_direction = layout_direction, root=root)\n",
        "    nx.draw(nxg, pos = positions, with_labels = True, verticalalignment = 'bottom', arrowsize = 3, horizontalalignment = \"left\", font_size = 20)\n",
        "    plt.show()\n",
        "\n",
        "\n",
        "def scatter_graph(g, root=None):\n",
        "    \"\"\"\n",
        "    Renders the given graph as a scatter plot after applying the layered layout.\n",
        "    :param g: Graphistry Graph or NetworkX Graph.\n",
        "    \"\"\"\n",
        "    if isinstance(g, nx.Graph):\n",
        "        gg = from_networkx(g)\n",
        "        nxg = g\n",
        "    elif isinstance(g, Graph):\n",
        "        gg = g\n",
        "        nxg = to_networkx(g)\n",
        "    # apply layout\n",
        "    coords = list(SugiyamaLayout.arrange(gg, root=root).values())\n",
        "    x = [c[0] for c in coords]\n",
        "    y = [c[1] for c in coords]\n",
        "    fig, ax = plt.subplots()\n",
        "    ax.scatter(x, y)\n",
        "\n",
        "    for i, v in enumerate(gg.vertices()):\n",
        "        ax.annotate(v.data, (x[i], y[i]))\n",
        "\n",
        "    plt.axis('off')\n",
        "    plt.show()\n",
        "\n",
        "\n",
        "def arrange(g, layout_direction = 0, source_column = \"source\", target_column = \"target\", topological_coordinates = False):\n",
        "    \"\"\"\n",
        "    Returns the positions of the given graph after applying the layered layout.\n",
        "    :param g: Graphistry Graph, Pandas frame or NetworkX Graph.\n",
        "    \"\"\"\n",
        "    if isinstance(g, nx.Graph):\n",
        "        gg = from_networkx(g)\n",
        "        nxg = g\n",
        "    elif isinstance(g, Graph):\n",
        "        gg = g\n",
        "        nxg = to_networkx(g)\n",
        "    elif isinstance(g, pd.DataFrame):\n",
        "        gg = SugiyamaLayout.graph_from_pandas(g, source_column = source_column, target_column = target_column)\n",
        "        nxg = to_networkx(gg)\n",
        "    else:\n",
        "        raise ValueError\n",
        "    # apply layout\n",
        "    positions = SugiyamaLayout.arrange(gg, layout_direction = layout_direction, topological_coordinates = topological_coordinates)\n",
        "    return positions"
      ]
    },
    {
      "cell_type": "markdown",
      "metadata": {
        "pycharm": {
          "name": "#%% md\n"
        },
        "id": "31dA9yALhO6g"
      },
      "source": [
        "## Explicit Simple Graph\n",
        "The `Graph` object can be used to create an explicit graph:\n"
      ]
    },
    {
      "cell_type": "code",
      "execution_count": null,
      "metadata": {
        "pycharm": {
          "name": "#%%\n"
        },
        "id": "KfpzCoYihO6g"
      },
      "outputs": [],
      "source": [
        "matplotlib.rc('figure', figsize = [8, 5])\n",
        "g = Graph()\n",
        "\n",
        "bosons = Vertex(\"Boson\")\n",
        "higgs = Vertex(\"Higgs\")\n",
        "pions = Vertex(\"Pions\")\n",
        "kaons = Vertex(\"Kaons\")\n",
        "hadrons = Vertex(\"Hadrons\")\n",
        "\n",
        "e1 = Edge(bosons, higgs)\n",
        "e2 = Edge(bosons, kaons)\n",
        "e3 = Edge(bosons, pions)\n",
        "e4 = Edge(pions, hadrons)\n",
        "e5 = Edge(kaons, hadrons)\n",
        "\n",
        "g.add_edges([e1, e2, e3, e4, e5])\n",
        "scatter_graph(g)"
      ]
    },
    {
      "cell_type": "markdown",
      "metadata": {
        "pycharm": {
          "name": "#%% md\n"
        },
        "id": "jYY9tNRDhO6h"
      },
      "source": [
        "## Pandas Graph"
      ]
    },
    {
      "cell_type": "code",
      "execution_count": null,
      "metadata": {
        "pycharm": {
          "name": "#%%\n"
        },
        "id": "eqaId6_HhO6h"
      },
      "outputs": [],
      "source": [
        "g = nx.generators.balanced_tree(2, 3)\n",
        "df = nx.to_pandas_edgelist(g, \"source\", \"target\")\n",
        "df.head()"
      ]
    },
    {
      "cell_type": "code",
      "execution_count": null,
      "metadata": {
        "pycharm": {
          "name": "#%%\n"
        },
        "id": "xzTmcF9ehO6i"
      },
      "outputs": [],
      "source": [
        "matplotlib.rc('figure', figsize = [5, 5])\n",
        "draw_graph(df, 3)"
      ]
    },
    {
      "cell_type": "markdown",
      "metadata": {
        "id": "UVmwHWCPhO6i"
      },
      "source": [
        "You can set the root like so"
      ]
    },
    {
      "cell_type": "code",
      "execution_count": null,
      "metadata": {
        "id": "ziNnOwZLhO6i"
      },
      "outputs": [],
      "source": [
        "matplotlib.rc('figure', figsize = [5, 5])\n",
        "draw_graph(df, 3, root=[3,12])"
      ]
    },
    {
      "cell_type": "markdown",
      "metadata": {
        "pycharm": {
          "name": "#%% md\n"
        },
        "id": "_12ZuhS6hO6j"
      },
      "source": [
        "## Trees\n",
        "\n",
        "A genuine tree will be arranged as expected:"
      ]
    },
    {
      "cell_type": "code",
      "execution_count": null,
      "metadata": {
        "pycharm": {
          "name": "#%%\n"
        },
        "id": "wwKVbcXEhO6j"
      },
      "outputs": [],
      "source": [
        "matplotlib.rc('figure', figsize = [120, 30])\n",
        "g = nx.generators.balanced_tree(5, 3)\n",
        "draw_graph(g, 2)"
      ]
    },
    {
      "cell_type": "markdown",
      "metadata": {
        "pycharm": {
          "name": "#%% md\n"
        },
        "id": "fpz-5Tn_hO6j"
      },
      "source": [
        "## Real-world Graphs\n",
        "[Barabasi-Albert graphs](https://en.wikipedia.org/wiki/Barabási–Albert_model) represent scale-free networks mimicing biological and other realworld netowrks:"
      ]
    },
    {
      "cell_type": "code",
      "execution_count": null,
      "metadata": {
        "pycharm": {
          "name": "#%%\n"
        },
        "id": "q5KPav0thO6j"
      },
      "outputs": [],
      "source": [
        "matplotlib.rc('figure', figsize = [120, 90])\n",
        "g = nx.generators.barabasi_albert_graph(500, 3)\n",
        "draw_graph(g)"
      ]
    },
    {
      "cell_type": "markdown",
      "metadata": {
        "id": "1hveh0KlhO6j"
      },
      "source": [
        "## Layout Direction\n",
        "\n",
        "- 0: top-to-bottom\n",
        "- 1: right-to-left\n",
        "- 2: bottom-to-top\n",
        "- 3: left-to-right"
      ]
    },
    {
      "cell_type": "code",
      "execution_count": null,
      "metadata": {
        "id": "_aYQN_f2hO6j"
      },
      "outputs": [],
      "source": [
        "matplotlib.rc('figure', figsize = [10, 5])\n",
        "g = nx.generators.balanced_tree(3, 2)\n",
        "draw_graph(g, layout_direction = 2)"
      ]
    },
    {
      "cell_type": "markdown",
      "metadata": {
        "id": "3dcRoQ_2hO6k"
      },
      "source": [
        "## Topological coordinates\n",
        "\n",
        "Instead of absolute coordinates you can also request the topological coordinates which correspond to the layer index for the vertical axis and a value in the unit interval for the horizontal axis. Multiplying these values with an actual total width and height results in coordinates within the given (width, height) rectangle.\n",
        "Note that the layering is according to the standard coordinate system, ie. upwards and to the right.\n",
        "When setting the layout direction to horizontal (layout_direction equal to 1 or 3), the first coordinate is the layer index and the second will be in the unit interval.\n"
      ]
    },
    {
      "cell_type": "code",
      "execution_count": null,
      "metadata": {
        "id": "XNzk3fXvhO6k"
      },
      "outputs": [],
      "source": [
        "g = nx.from_edgelist([(1,2),(1,3),(3,4)])\n",
        "positions = arrange(g, topological_coordinates=True, layout_direction=0)\n",
        "print(positions)"
      ]
    },
    {
      "cell_type": "markdown",
      "metadata": {
        "id": "pOXSpBw8hO6k"
      },
      "source": [
        "The topological coordinates can be used as-is with NetworX as well:"
      ]
    },
    {
      "cell_type": "code",
      "execution_count": null,
      "metadata": {
        "id": "XNDpcILQhO6k"
      },
      "outputs": [],
      "source": [
        "nx.draw(g, pos = positions, with_labels = True, verticalalignment = 'bottom', arrowsize = 3, horizontalalignment = \"left\", font_size = 20)"
      ]
    },
    {
      "cell_type": "markdown",
      "metadata": {
        "pycharm": {
          "name": "#%% md\n"
        },
        "id": "0zTPhRRihO6k"
      },
      "source": [
        "## Complete Graph\n",
        "\n",
        "The layered layout attempts to minimize crossings but with something like a complete graph you have an extreme example where, no matter how many times the algorithm tries to adjust, the crossings persist."
      ]
    },
    {
      "cell_type": "code",
      "execution_count": null,
      "metadata": {
        "pycharm": {
          "name": "#%%\n"
        },
        "id": "H0-IYy--hO6k"
      },
      "outputs": [],
      "source": [
        "matplotlib.rc('figure', figsize = [120, 90])\n",
        "g = nx.generators.complete_graph(10)\n",
        "draw_graph(g,root=4)"
      ]
    },
    {
      "cell_type": "markdown",
      "metadata": {
        "pycharm": {
          "name": "#%% md\n"
        },
        "id": "5hMdBP1ohO6l"
      },
      "source": [
        "## Only Positions\n",
        "You can fetch the positions of the nodes without the visualization via the `arrange` method.\n",
        "You can also just plot the points without the edges like so:"
      ]
    },
    {
      "cell_type": "code",
      "execution_count": null,
      "metadata": {
        "pycharm": {
          "name": "#%%\n"
        },
        "id": "l_nS-E_zhO6l"
      },
      "outputs": [],
      "source": [
        "matplotlib.rc('figure', figsize = [20, 30])\n",
        "g = nx.generators.random_lobster(100, 0.3, 0.3)\n",
        "scatter_graph(g)"
      ]
    },
    {
      "cell_type": "markdown",
      "metadata": {
        "pycharm": {
          "name": "#%% md\n"
        },
        "id": "NIrZ7Y61hO6l"
      },
      "source": [
        "## Watts Strogatz\n",
        "The [Watts-Strogatz](https://en.wikipedia.org/wiki/Watts–Strogatz_model) model is another kind of real-world graph exhibiting the so-called small world phenomenon:"
      ]
    },
    {
      "cell_type": "code",
      "execution_count": null,
      "metadata": {
        "pycharm": {
          "name": "#%%\n"
        },
        "id": "NAJKw2oIhO6l"
      },
      "outputs": [],
      "source": [
        "matplotlib.rc('figure', figsize = [120, 70])\n",
        "g = nx.generators.connected_watts_strogatz_graph(1000, 2, 0.3)\n",
        "draw_graph(g)"
      ]
    },
    {
      "cell_type": "code",
      "execution_count": null,
      "metadata": {
        "id": "Fesys0c0hO6l"
      },
      "outputs": [],
      "source": [
        ""
      ]
    }
  ],
  "metadata": {
    "kernelspec": {
      "display_name": "Python 3 (ipykernel)",
      "language": "python",
      "name": "python3"
    },
    "language_info": {
      "codemirror_mode": {
        "name": "ipython",
        "version": 3
      },
      "file_extension": ".py",
      "mimetype": "text/x-python",
      "name": "python",
      "nbconvert_exporter": "python",
      "pygments_lexer": "ipython3",
      "version": "3.9.7"
    },
    "colab": {
      "name": "layout.ipynb",
      "provenance": []
    }
  },
  "nbformat": 4,
  "nbformat_minor": 0
}