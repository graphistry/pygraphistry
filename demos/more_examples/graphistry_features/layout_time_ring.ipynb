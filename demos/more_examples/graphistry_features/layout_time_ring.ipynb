{
 "cells": [
  {
   "cell_type": "markdown",
   "id": "97bf25e2-baa5-4b31-be0e-f998afbb5a4a",
   "metadata": {
    "execution": {
     "iopub.execute_input": "2024-07-13T22:31:57.635365Z",
     "iopub.status.busy": "2024-07-13T22:31:57.634932Z",
     "iopub.status.idle": "2024-07-13T22:31:57.644104Z",
     "shell.execute_reply": "2024-07-13T22:31:57.643677Z",
     "shell.execute_reply.started": "2024-07-13T22:31:57.635339Z"
    },
    "tags": []
   },
   "source": [
    "# Time ring layout tutorial\n",
    "\n",
    "Graphs where nodes have a time attribute may be layed out radially with the new time ring layout.\n",
    "\n",
    "The tutorial overviews:\n",
    "\n",
    "* Temporal coloring\n",
    "* Automated use with smart defaults\n",
    "* `time_col: str`: Specifying the time dimension\n",
    "* `reverse: bool`: Reversing the axis\n",
    "* `time_unit: TimeUnit`: Changing the ring step time interval\n",
    "* `num_rings: int`: Picking the number of rings\n",
    "* `time_start: np.datetime64, time_end: np.datetime64`: Clipping the time interval\n",
    "* `min_r: float, max_r: float`: Changing chart sizes\n",
    "* `format_axis: Callable, format_label: Callable`: Changing the labels\n",
    "\n",
    "For larger graphs, we also describe automatic GPU acceleration support"
   ]
  },
  {
   "cell_type": "markdown",
   "id": "c4aa72d0-3f5f-417f-bb4a-805cbe8a6462",
   "metadata": {},
   "source": [
    "## Setup"
   ]
  },
  {
   "cell_type": "code",
   "execution_count": 2,
   "id": "eb062506-5cfd-4655-85af-8d0abe1ea6ca",
   "metadata": {
    "execution": {
     "iopub.execute_input": "2024-07-14T01:26:31.253498Z",
     "iopub.status.busy": "2024-07-14T01:26:31.253082Z",
     "iopub.status.idle": "2024-07-14T01:26:31.260381Z",
     "shell.execute_reply": "2024-07-14T01:26:31.259104Z",
     "shell.execute_reply.started": "2024-07-14T01:26:31.253477Z"
    }
   },
   "outputs": [],
   "source": [
    "import os\n",
    "os.environ['LOG_LEVEL'] = 'INFO'"
   ]
  },
  {
   "cell_type": "code",
   "execution_count": null,
   "id": "8d533a8a-1bbe-4312-ba4f-1dbb4e6ec66d",
   "metadata": {
    "tags": []
   },
   "outputs": [],
   "source": [
    "from typing import Dict, List\n",
    "import numpy as np\n",
    "import pandas as pd\n",
    "import graphistry\n",
    "\n",
    "graphistry.register(\n",
    "    api=3,\n",
    "    username=FILL_ME_IN,\n",
    "    password=FILL_ME_IN,\n",
    "    protocol='https',\n",
    "    server='hub.graphistry.com',\n",
    "    client_protocol_hostname='https://hub.graphistry.com'\n",
    ")"
   ]
  },
  {
   "cell_type": "markdown",
   "id": "c132a0c3-0c36-49d2-ba89-e38c16c4ade6",
   "metadata": {},
   "source": [
    "## Data\n",
    "\n",
    "* Edges: Load a table of IDS network events for our edges\n",
    "* Nodes: IP addresses, computing for each IP the time of the first and last events it was seen in"
   ]
  },
  {
   "cell_type": "code",
   "execution_count": 4,
   "id": "a1a4a500-b3d1-4e2b-9e96-b8da011292de",
   "metadata": {
    "execution": {
     "iopub.execute_input": "2024-07-14T01:26:36.614737Z",
     "iopub.status.busy": "2024-07-14T01:26:36.614475Z",
     "iopub.status.idle": "2024-07-14T01:26:36.713090Z",
     "shell.execute_reply": "2024-07-14T01:26:36.712577Z",
     "shell.execute_reply.started": "2024-07-14T01:26:36.614723Z"
    },
    "tags": []
   },
   "outputs": [
    {
     "name": "stdout",
     "output_type": "stream",
     "text": [
      "attackerIP            object\n",
      "victimIP              object\n",
      "victimPort           float64\n",
      "vulnName              object\n",
      "count                  int64\n",
      "time(max)            float64\n",
      "time(min)            float64\n",
      "t             datetime64[ns]\n",
      "dtype: object\n",
      "220\n"
     ]
    },
    {
     "data": {
      "text/html": [
       "<div>\n",
       "<style scoped>\n",
       "    .dataframe tbody tr th:only-of-type {\n",
       "        vertical-align: middle;\n",
       "    }\n",
       "\n",
       "    .dataframe tbody tr th {\n",
       "        vertical-align: top;\n",
       "    }\n",
       "\n",
       "    .dataframe thead th {\n",
       "        text-align: right;\n",
       "    }\n",
       "</style>\n",
       "<table border=\"1\" class=\"dataframe\">\n",
       "  <thead>\n",
       "    <tr style=\"text-align: right;\">\n",
       "      <th></th>\n",
       "      <th>attackerIP</th>\n",
       "      <th>victimIP</th>\n",
       "      <th>victimPort</th>\n",
       "      <th>vulnName</th>\n",
       "      <th>count</th>\n",
       "      <th>time(max)</th>\n",
       "      <th>time(min)</th>\n",
       "      <th>t</th>\n",
       "    </tr>\n",
       "  </thead>\n",
       "  <tbody>\n",
       "    <tr>\n",
       "      <th>133</th>\n",
       "      <td>27.51.48.2</td>\n",
       "      <td>172.31.14.66</td>\n",
       "      <td>445.0</td>\n",
       "      <td>MS08067 (NetAPI)</td>\n",
       "      <td>10</td>\n",
       "      <td>1.423648e+09</td>\n",
       "      <td>1.423647e+09</td>\n",
       "      <td>2015-02-11 09:54:42</td>\n",
       "    </tr>\n",
       "    <tr>\n",
       "      <th>120</th>\n",
       "      <td>217.172.247.126</td>\n",
       "      <td>172.31.14.66</td>\n",
       "      <td>139.0</td>\n",
       "      <td>MS08067 (NetAPI)</td>\n",
       "      <td>13</td>\n",
       "      <td>1.424391e+09</td>\n",
       "      <td>1.424389e+09</td>\n",
       "      <td>2015-02-20 00:16:47</td>\n",
       "    </tr>\n",
       "    <tr>\n",
       "      <th>158</th>\n",
       "      <td>46.175.85.19</td>\n",
       "      <td>172.31.14.66</td>\n",
       "      <td>445.0</td>\n",
       "      <td>MS08067 (NetAPI)</td>\n",
       "      <td>8</td>\n",
       "      <td>1.419202e+09</td>\n",
       "      <td>1.419201e+09</td>\n",
       "      <td>2014-12-21 22:48:14</td>\n",
       "    </tr>\n",
       "  </tbody>\n",
       "</table>\n",
       "</div>"
      ],
      "text/plain": [
       "          attackerIP      victimIP  victimPort          vulnName  count  \\\n",
       "133       27.51.48.2  172.31.14.66       445.0  MS08067 (NetAPI)     10   \n",
       "120  217.172.247.126  172.31.14.66       139.0  MS08067 (NetAPI)     13   \n",
       "158     46.175.85.19  172.31.14.66       445.0  MS08067 (NetAPI)      8   \n",
       "\n",
       "        time(max)     time(min)                   t  \n",
       "133  1.423648e+09  1.423647e+09 2015-02-11 09:54:42  \n",
       "120  1.424391e+09  1.424389e+09 2015-02-20 00:16:47  \n",
       "158  1.419202e+09  1.419201e+09 2014-12-21 22:48:14  "
      ]
     },
     "execution_count": 4,
     "metadata": {},
     "output_type": "execute_result"
    }
   ],
   "source": [
    "df = pd.read_csv('https://raw.githubusercontent.com/graphistry/pygraphistry/master/demos/data/honeypot.csv')\n",
    "df = df.assign(t= pd.Series(pd.to_datetime(df['time(max)'] * 1000000000)))\n",
    "print(df.dtypes)\n",
    "print(len(df))\n",
    "df.sample(3)"
   ]
  },
  {
   "cell_type": "code",
   "execution_count": 5,
   "id": "279e9040-d6d5-43a0-b255-ba2a523021e0",
   "metadata": {
    "execution": {
     "iopub.execute_input": "2024-07-14T01:26:36.714993Z",
     "iopub.status.busy": "2024-07-14T01:26:36.714319Z",
     "iopub.status.idle": "2024-07-14T01:26:36.736030Z",
     "shell.execute_reply": "2024-07-14T01:26:36.735632Z",
     "shell.execute_reply.started": "2024-07-14T01:26:36.714954Z"
    },
    "tags": []
   },
   "outputs": [
    {
     "name": "stdout",
     "output_type": "stream",
     "text": [
      "ip               object\n",
      "t_min    datetime64[ns]\n",
      "t_max    datetime64[ns]\n",
      "dtype: object\n",
      "203\n"
     ]
    },
    {
     "data": {
      "text/html": [
       "<div>\n",
       "<style scoped>\n",
       "    .dataframe tbody tr th:only-of-type {\n",
       "        vertical-align: middle;\n",
       "    }\n",
       "\n",
       "    .dataframe tbody tr th {\n",
       "        vertical-align: top;\n",
       "    }\n",
       "\n",
       "    .dataframe thead th {\n",
       "        text-align: right;\n",
       "    }\n",
       "</style>\n",
       "<table border=\"1\" class=\"dataframe\">\n",
       "  <thead>\n",
       "    <tr style=\"text-align: right;\">\n",
       "      <th></th>\n",
       "      <th>ip</th>\n",
       "      <th>t_min</th>\n",
       "      <th>t_max</th>\n",
       "    </tr>\n",
       "  </thead>\n",
       "  <tbody>\n",
       "    <tr>\n",
       "      <th>5</th>\n",
       "      <td>106.201.227.134</td>\n",
       "      <td>2014-11-21 14:38:07</td>\n",
       "      <td>2014-11-21 14:38:07</td>\n",
       "    </tr>\n",
       "    <tr>\n",
       "      <th>25</th>\n",
       "      <td>122.121.202.157</td>\n",
       "      <td>2015-02-10 23:53:52</td>\n",
       "      <td>2015-02-10 23:53:52</td>\n",
       "    </tr>\n",
       "    <tr>\n",
       "      <th>59</th>\n",
       "      <td>179.25.208.154</td>\n",
       "      <td>2015-01-05 23:22:45</td>\n",
       "      <td>2015-01-05 23:22:45</td>\n",
       "    </tr>\n",
       "  </tbody>\n",
       "</table>\n",
       "</div>"
      ],
      "text/plain": [
       "                 ip               t_min               t_max\n",
       "5   106.201.227.134 2014-11-21 14:38:07 2014-11-21 14:38:07\n",
       "25  122.121.202.157 2015-02-10 23:53:52 2015-02-10 23:53:52\n",
       "59   179.25.208.154 2015-01-05 23:22:45 2015-01-05 23:22:45"
      ]
     },
     "execution_count": 5,
     "metadata": {},
     "output_type": "execute_result"
    }
   ],
   "source": [
    "ip_times = pd.concat([\n",
    "    df[['attackerIP', 't']].rename(columns={'attackerIP': 'ip'}),\n",
    "    df[['victimIP', 't']].rename(columns={'victimIP': 'ip'})\n",
    "])\n",
    "ip_times = ip_times.groupby('ip').agg({'t': ['min', 'max']}).reset_index()\n",
    "ip_times.columns = ['ip', 't_min', 't_max']\n",
    "\n",
    "print(ip_times.dtypes)\n",
    "print(len(ip_times))\n",
    "ip_times.sample(3)"
   ]
  },
  {
   "cell_type": "code",
   "execution_count": 6,
   "id": "65992dd1-ef32-423e-8cc7-026998250719",
   "metadata": {
    "execution": {
     "iopub.execute_input": "2024-07-14T01:26:36.736856Z",
     "iopub.status.busy": "2024-07-14T01:26:36.736668Z",
     "iopub.status.idle": "2024-07-14T01:26:36.749645Z",
     "shell.execute_reply": "2024-07-14T01:26:36.749061Z",
     "shell.execute_reply.started": "2024-07-14T01:26:36.736840Z"
    },
    "tags": []
   },
   "outputs": [],
   "source": [
    "g = graphistry.edges(df, 'attackerIP', 'victimIP').nodes(ip_times, 'ip')"
   ]
  },
  {
   "cell_type": "markdown",
   "id": "47f1d1d1-2ce2-4b72-a5eb-0a1b16f2c129",
   "metadata": {},
   "source": [
    "## Visualization\n"
   ]
  },
  {
   "cell_type": "markdown",
   "id": "befd6d19-3112-4341-b294-21560ebfcb22",
   "metadata": {},
   "source": [
    "### Temporal coloring\n",
    "\n",
    "Coloring nodes and edges by time can help visual interpretation, so we encode old as cold (blue) and new as hot (red):"
   ]
  },
  {
   "cell_type": "code",
   "execution_count": 7,
   "id": "525016f3-05a1-44f7-9a9b-dadd661cb2c6",
   "metadata": {
    "execution": {
     "iopub.execute_input": "2024-07-14T01:26:36.753364Z",
     "iopub.status.busy": "2024-07-14T01:26:36.753042Z",
     "iopub.status.idle": "2024-07-14T01:26:36.757073Z",
     "shell.execute_reply": "2024-07-14T01:26:36.756299Z",
     "shell.execute_reply.started": "2024-07-14T01:26:36.753343Z"
    }
   },
   "outputs": [],
   "source": [
    "g = g.encode_point_color('t_min', ['blue', 'yellow', 'red'], as_continuous=True)"
   ]
  },
  {
   "cell_type": "markdown",
   "id": "4c4357e1-0ccf-4466-8936-a31032cb422b",
   "metadata": {},
   "source": [
    "### Default\n",
    "\n",
    "The default layout will scan for a time column and try to infer reasonable layout settings\n"
   ]
  },
  {
   "cell_type": "code",
   "execution_count": 8,
   "id": "38bd3720-1fe5-408c-8250-37de53d68795",
   "metadata": {
    "execution": {
     "iopub.execute_input": "2024-07-14T01:26:36.758313Z",
     "iopub.status.busy": "2024-07-14T01:26:36.758092Z",
     "iopub.status.idle": "2024-07-14T01:26:38.832905Z",
     "shell.execute_reply": "2024-07-14T01:26:38.832296Z",
     "shell.execute_reply.started": "2024-07-14T01:26:36.758293Z"
    }
   },
   "outputs": [
    {
     "data": {
      "text/plain": [
       "'https://hub.graphistry.com/graph/graph.html?dataset=df1e3c96e94b4770adb7bd3195f3c5e4&type=arrow&viztoken=2512035f-15a0-4284-aed4-8418e1152826&usertag=1c11b3a4-pygraphistry-0+unknown&splashAfter=1720920413&info=true&play=2000&lockedR=True&bg=%23E2E2E2'"
      ]
     },
     "execution_count": 8,
     "metadata": {},
     "output_type": "execute_result"
    }
   ],
   "source": [
    "g.time_ring_layout().plot(render=False)"
   ]
  },
  {
   "cell_type": "markdown",
   "id": "25809604-65d1-454c-9088-84c2d6b51da5",
   "metadata": {},
   "source": [
    "### Pick the time column and reverse direction"
   ]
  },
  {
   "cell_type": "code",
   "execution_count": 9,
   "id": "d46e31b5-5686-4356-806f-27e92e132b8e",
   "metadata": {
    "execution": {
     "iopub.execute_input": "2024-07-14T01:26:42.173698Z",
     "iopub.status.busy": "2024-07-14T01:26:42.172549Z",
     "iopub.status.idle": "2024-07-14T01:26:44.248605Z",
     "shell.execute_reply": "2024-07-14T01:26:44.248210Z",
     "shell.execute_reply.started": "2024-07-14T01:26:42.173651Z"
    }
   },
   "outputs": [
    {
     "data": {
      "text/plain": [
       "'https://hub.graphistry.com/graph/graph.html?dataset=7455256f9d5446e1bf379e9c751be4f2&type=arrow&viztoken=091ebc73-a500-4e71-a162-d1f4c5d57c6e&usertag=1c11b3a4-pygraphistry-0+unknown&splashAfter=1720920419&info=true&play=2000&lockedR=True&bg=%23E2E2E2'"
      ]
     },
     "execution_count": 9,
     "metadata": {},
     "output_type": "execute_result"
    }
   ],
   "source": [
    "g.time_ring_layout(\n",
    "    time_col='t_min',\n",
    "    reverse=True\n",
    ").plot(render=False)"
   ]
  },
  {
   "cell_type": "markdown",
   "id": "40a64e08-6b22-427c-8de6-df6445d31a19",
   "metadata": {},
   "source": [
    "### Use alternate units\n",
    "\n",
    "Available units:\n",
    "\n",
    "- 's': seconds\n",
    "- 'm': minutes\n",
    "- 'h': hours\n",
    "- 'D': days\n",
    "- 'W': weeks\n",
    "- 'M': months\n",
    "- 'Y': years\n",
    "- 'C': centuries\n"
   ]
  },
  {
   "cell_type": "code",
   "execution_count": 10,
   "id": "e2bc6927-f2d8-4301-ae5f-d371c9c17a73",
   "metadata": {
    "execution": {
     "iopub.execute_input": "2024-07-14T01:26:46.591877Z",
     "iopub.status.busy": "2024-07-14T01:26:46.590325Z",
     "iopub.status.idle": "2024-07-14T01:26:48.419841Z",
     "shell.execute_reply": "2024-07-14T01:26:48.419489Z",
     "shell.execute_reply.started": "2024-07-14T01:26:46.591806Z"
    }
   },
   "outputs": [
    {
     "data": {
      "text/plain": [
       "'https://hub.graphistry.com/graph/graph.html?dataset=97ecd3d87acf406f9eba87bfec53e634&type=arrow&viztoken=e1553a4c-9e4f-4771-bb21-90a262044c14&usertag=1c11b3a4-pygraphistry-0+unknown&splashAfter=1720920423&info=true&play=2000&lockedR=True&bg=%23E2E2E2'"
      ]
     },
     "execution_count": 10,
     "metadata": {},
     "output_type": "execute_result"
    }
   ],
   "source": [
    "g.time_ring_layout(\n",
    "    time_col='t_min',\n",
    "    time_unit='W',\n",
    "    num_rings=30\n",
    ").plot(render=False)"
   ]
  },
  {
   "cell_type": "markdown",
   "id": "f7a9c97a-33ef-4a6f-9b1e-82b61fc15b51",
   "metadata": {},
   "source": [
    "### Control the ring size, radius, and time interval"
   ]
  },
  {
   "cell_type": "code",
   "execution_count": 11,
   "id": "f56d2a55-76df-4ede-8632-fa45fee663fc",
   "metadata": {
    "execution": {
     "iopub.execute_input": "2024-07-14T01:26:49.291568Z",
     "iopub.status.busy": "2024-07-14T01:26:49.290153Z",
     "iopub.status.idle": "2024-07-14T01:26:51.292797Z",
     "shell.execute_reply": "2024-07-14T01:26:51.292343Z",
     "shell.execute_reply.started": "2024-07-14T01:26:49.291520Z"
    }
   },
   "outputs": [
    {
     "data": {
      "text/plain": [
       "'https://hub.graphistry.com/graph/graph.html?dataset=e96440fb19a64bddb8c29e9a7cc80ec4&type=arrow&viztoken=e9c0203e-1d7d-42ff-bb9e-b5b86075d49d&usertag=1c11b3a4-pygraphistry-0+unknown&splashAfter=1720920426&info=true&play=0&lockedR=True&bg=%23E2E2E2'"
      ]
     },
     "execution_count": 11,
     "metadata": {},
     "output_type": "execute_result"
    }
   ],
   "source": [
    "g.time_ring_layout(\n",
    "    time_unit='Y',\n",
    "    num_rings=2,\n",
    "    play_ms=0,\n",
    "    min_r=700,\n",
    "    max_r=1000\n",
    ").plot(render=False)"
   ]
  },
  {
   "cell_type": "code",
   "execution_count": 12,
   "id": "bc7d6ec1-645a-4f7b-8323-aa038268e6d1",
   "metadata": {
    "execution": {
     "iopub.execute_input": "2024-07-14T01:26:51.697771Z",
     "iopub.status.busy": "2024-07-14T01:26:51.697415Z",
     "iopub.status.idle": "2024-07-14T01:26:53.701987Z",
     "shell.execute_reply": "2024-07-14T01:26:53.701567Z",
     "shell.execute_reply.started": "2024-07-14T01:26:51.697756Z"
    }
   },
   "outputs": [
    {
     "data": {
      "text/plain": [
       "'https://hub.graphistry.com/graph/graph.html?dataset=30daf0734b61454f80c89606af5ae24a&type=arrow&viztoken=b8adf44c-2942-49de-a622-bc858031a169&usertag=1c11b3a4-pygraphistry-0+unknown&splashAfter=1720920428&info=true&play=0&lockedR=True&bg=%23E2E2E2'"
      ]
     },
     "execution_count": 12,
     "metadata": {},
     "output_type": "execute_result"
    }
   ],
   "source": [
    "g.time_ring_layout(\n",
    "    time_unit='Y',\n",
    "    time_start=np.datetime64('2013'),\n",
    "    play_ms=0,\n",
    "    min_r=700,\n",
    "    max_r=1000\n",
    ").plot(render=False)"
   ]
  },
  {
   "cell_type": "markdown",
   "id": "a9b8dbc7-4251-4917-9169-3965056e29a0",
   "metadata": {},
   "source": [
    "### Control labels"
   ]
  },
  {
   "cell_type": "code",
   "execution_count": 13,
   "id": "48dc204d-9d5d-49e1-874d-a4f5cf4c02f6",
   "metadata": {
    "execution": {
     "iopub.execute_input": "2024-07-14T01:26:55.277850Z",
     "iopub.status.busy": "2024-07-14T01:26:55.277058Z",
     "iopub.status.idle": "2024-07-14T01:26:57.160299Z",
     "shell.execute_reply": "2024-07-14T01:26:57.159834Z",
     "shell.execute_reply.started": "2024-07-14T01:26:55.277805Z"
    }
   },
   "outputs": [
    {
     "data": {
      "text/plain": [
       "'https://hub.graphistry.com/graph/graph.html?dataset=88adff411bb04c95843c5eee61ec1b97&type=arrow&viztoken=18f922c2-bbd3-4972-8f5b-1d6d93ea31f3&usertag=1c11b3a4-pygraphistry-0+unknown&splashAfter=1720920432&info=true&play=2000&lockedR=True&bg=%23E2E2E2'"
      ]
     },
     "execution_count": 13,
     "metadata": {},
     "output_type": "execute_result"
    }
   ],
   "source": [
    "def custom_label(time: np.datetime64, ring: int, step: np.timedelta64) -> str:\n",
    "    date_str = pd.Timestamp(time).strftime('%Y-%m-%d')\n",
    "    return f'Ring {ring}: {date_str}'\n",
    "\n",
    "g.time_ring_layout(\n",
    "    format_label=custom_label\n",
    ").plot(render=False)"
   ]
  },
  {
   "cell_type": "code",
   "execution_count": 14,
   "id": "b9c34d47-287f-427e-aca8-87d402f64be5",
   "metadata": {
    "execution": {
     "iopub.execute_input": "2024-07-14T01:27:01.263137Z",
     "iopub.status.busy": "2024-07-14T01:27:01.262670Z",
     "iopub.status.idle": "2024-07-14T01:27:03.560441Z",
     "shell.execute_reply": "2024-07-14T01:27:03.559890Z",
     "shell.execute_reply.started": "2024-07-14T01:27:01.263113Z"
    },
    "scrolled": true
   },
   "outputs": [
    {
     "name": "stdout",
     "output_type": "stream",
     "text": [
      "axis item keys {'label': <class 'str'>, 'r': <class 'numpy.float64'>, 'internal': <class 'bool'>}\n"
     ]
    },
    {
     "data": {
      "text/plain": [
       "'https://hub.graphistry.com/graph/graph.html?dataset=1403b7ba4c4b4678904546555d656060&type=arrow&viztoken=60e14303-a0bb-4f97-a76a-a68f5ee1bcab&usertag=1c11b3a4-pygraphistry-0+unknown&splashAfter=1720920438&info=true&play=2000&lockedR=True&bg=%23E2E2E2'"
      ]
     },
     "execution_count": 14,
     "metadata": {},
     "output_type": "execute_result"
    }
   ],
   "source": [
    "def custom_axis(axis: List[Dict]) -> List[Dict]:\n",
    "    \"\"\"\n",
    "    Axis with reversed label text\n",
    "    \"\"\"\n",
    "    print('axis item keys', {k: type(axis[0][k]) for k in axis[0].keys()})\n",
    "    return [\n",
    "        {**o, 'label': o['label'][::-1]}\n",
    "        for o in axis\n",
    "    ]\n",
    "\n",
    "g.time_ring_layout(\n",
    "    format_axis=custom_axis\n",
    ").plot(render=False)"
   ]
  },
  {
   "cell_type": "markdown",
   "id": "967069f4-7db4-4c16-ba22-b7eba592d206",
   "metadata": {},
   "source": [
    "## GPU Acceleration\n",
    "\n",
    "For larger graphs, automatic GPU acceleration triggers when `g._nodes` is a `cudf.DataFrame`.\n",
    "\n",
    "To ensure GPU acceleration is used, set `engine=\n"
   ]
  },
  {
   "cell_type": "code",
   "execution_count": 15,
   "id": "17c5f1e3-4131-402f-a68d-7fafcca7e5f3",
   "metadata": {
    "execution": {
     "iopub.execute_input": "2024-07-14T01:27:07.330587Z",
     "iopub.status.busy": "2024-07-14T01:27:07.330244Z",
     "iopub.status.idle": "2024-07-14T01:27:09.552623Z",
     "shell.execute_reply": "2024-07-14T01:27:09.551101Z",
     "shell.execute_reply.started": "2024-07-14T01:27:07.330571Z"
    }
   },
   "outputs": [
    {
     "data": {
      "text/plain": [
       "'https://hub.graphistry.com/graph/graph.html?dataset=d9e58ab3967f4003b7ef292406ba1a47&type=arrow&viztoken=80d707a5-cb03-48f8-897f-5e56e127630b&usertag=1c11b3a4-pygraphistry-0+unknown&splashAfter=1720920444&info=true&play=2000&lockedR=True&bg=%23E2E2E2'"
      ]
     },
     "execution_count": 15,
     "metadata": {},
     "output_type": "execute_result"
    }
   ],
   "source": [
    "import cudf\n",
    "\n",
    "(g\n",
    " .nodes(cudf.from_pandas(g._nodes))\n",
    " .time_ring_layout()\n",
    ").plot(render=False)\n"
   ]
  },
  {
   "cell_type": "markdown",
   "id": "5fbfaf82-0c2f-4210-acda-52e575a3cf84",
   "metadata": {},
   "source": []
  }
 ],
 "metadata": {
  "kernelspec": {
   "display_name": "Python 3.8 (RAPIDS)",
   "language": "python",
   "name": "rapids"
  },
  "language_info": {
   "codemirror_mode": {
    "name": "ipython",
    "version": 3
   },
   "file_extension": ".py",
   "mimetype": "text/x-python",
   "name": "python",
   "nbconvert_exporter": "python",
   "pygments_lexer": "ipython3",
   "version": "3.10.12"
  }
 },
 "nbformat": 4,
 "nbformat_minor": 5
}
