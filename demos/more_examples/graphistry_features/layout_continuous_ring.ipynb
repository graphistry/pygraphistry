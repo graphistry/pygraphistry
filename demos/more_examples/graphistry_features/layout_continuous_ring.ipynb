{
 "cells": [
  {
   "cell_type": "markdown",
   "id": "97bf25e2-baa5-4b31-be0e-f998afbb5a4a",
   "metadata": {
    "execution": {
     "iopub.execute_input": "2024-07-13T22:31:57.635365Z",
     "iopub.status.busy": "2024-07-13T22:31:57.634932Z",
     "iopub.status.idle": "2024-07-13T22:31:57.644104Z",
     "shell.execute_reply": "2024-07-13T22:31:57.643677Z",
     "shell.execute_reply.started": "2024-07-13T22:31:57.635339Z"
    },
    "jp-MarkdownHeadingCollapsed": true,
    "tags": []
   },
   "source": [
    "# Continuous layout tutorial\n",
    "\n",
    "Graphs where nodes have a continuous attribute may be layed out radially with the new continuous ring layout.\n",
    "\n",
    "Examples of continuous values are ranges like weight and price. \n",
    "\n",
    "The tutorial overviews:\n",
    "\n",
    "* Continuous coloring\n",
    "* Automated use with smart defaults\n",
    "* `ring_col: str`: Specifying the value dimension\n",
    "* `reverse: bool`: Reversing the axis\n",
    "* `v_start`, `v_end`, `r_min`, `r_max`: Control the value and ring radius ranges\n",
    "* `normalize_ring_col`: Whether to normalize values or pass them through\n",
    "* `num_rings: int`: Picking the number of rings\n",
    "* `ring_step: float`: Changing the ring step size\n",
    "* `axis: List[str] | Dict[float,str]`: Pass in axis labels\n",
    "* `format_axis: Callable, format_label: Callable`: Changing the labels\n",
    "\n",
    "For larger graphs, we also describe automatic GPU acceleration support"
   ]
  },
  {
   "cell_type": "markdown",
   "id": "c4aa72d0-3f5f-417f-bb4a-805cbe8a6462",
   "metadata": {},
   "source": [
    "## Setup"
   ]
  },
  {
   "cell_type": "code",
   "execution_count": 1,
   "id": "eb062506-5cfd-4655-85af-8d0abe1ea6ca",
   "metadata": {
    "execution": {
     "iopub.execute_input": "2024-07-15T03:53:19.316513Z",
     "iopub.status.busy": "2024-07-15T03:53:19.316269Z",
     "iopub.status.idle": "2024-07-15T03:53:19.327511Z",
     "shell.execute_reply": "2024-07-15T03:53:19.326939Z",
     "shell.execute_reply.started": "2024-07-15T03:53:19.316488Z"
    }
   },
   "outputs": [],
   "source": [
    "import os\n",
    "os.environ['LOG_LEVEL'] = 'INFO'"
   ]
  },
  {
   "cell_type": "code",
   "execution_count": 2,
   "id": "8d533a8a-1bbe-4312-ba4f-1dbb4e6ec66d",
   "metadata": {
    "execution": {
     "iopub.execute_input": "2024-07-15T03:53:19.329690Z",
     "iopub.status.busy": "2024-07-15T03:53:19.329243Z",
     "iopub.status.idle": "2024-07-15T03:53:24.569610Z",
     "shell.execute_reply": "2024-07-15T03:53:24.568099Z",
     "shell.execute_reply.started": "2024-07-15T03:53:19.329667Z"
    },
    "tags": []
   },
   "outputs": [],
   "source": [
    "from typing import Dict, List\n",
    "import numpy as np\n",
    "import pandas as pd\n",
    "import graphistry\n",
    "\n",
    "graphistry.register(\n",
    "    api=3,\n",
    "    username=FILL_ME_IN,\n",
    "    password=FILL_ME_IN,\n",
    "    protocol='https',\n",
    "    server='hub.graphistry.com',\n",
    "    client_protocol_hostname='https://hub.graphistry.com'\n",
    ")"
   ]
  },
  {
   "cell_type": "markdown",
   "id": "c132a0c3-0c36-49d2-ba89-e38c16c4ade6",
   "metadata": {},
   "source": [
    "## Data\n",
    "\n",
    "* Edges: Load a table of IDS network events for our edges\n",
    "* Nodes: IP addresses, computing for each IP the time of the first and last events it was seen in"
   ]
  },
  {
   "cell_type": "code",
   "execution_count": 3,
   "id": "a1a4a500-b3d1-4e2b-9e96-b8da011292de",
   "metadata": {
    "execution": {
     "iopub.execute_input": "2024-07-15T03:53:24.573646Z",
     "iopub.status.busy": "2024-07-15T03:53:24.572857Z",
     "iopub.status.idle": "2024-07-15T03:53:24.688698Z",
     "shell.execute_reply": "2024-07-15T03:53:24.687970Z",
     "shell.execute_reply.started": "2024-07-15T03:53:24.573597Z"
    },
    "tags": []
   },
   "outputs": [
    {
     "name": "stdout",
     "output_type": "stream",
     "text": [
      "attackerIP            object\n",
      "victimIP              object\n",
      "victimPort           float64\n",
      "vulnName              object\n",
      "count                  int64\n",
      "time(max)            float64\n",
      "time(min)            float64\n",
      "t             datetime64[ns]\n",
      "dtype: object\n",
      "220\n"
     ]
    },
    {
     "data": {
      "text/html": [
       "<div>\n",
       "<style scoped>\n",
       "    .dataframe tbody tr th:only-of-type {\n",
       "        vertical-align: middle;\n",
       "    }\n",
       "\n",
       "    .dataframe tbody tr th {\n",
       "        vertical-align: top;\n",
       "    }\n",
       "\n",
       "    .dataframe thead th {\n",
       "        text-align: right;\n",
       "    }\n",
       "</style>\n",
       "<table border=\"1\" class=\"dataframe\">\n",
       "  <thead>\n",
       "    <tr style=\"text-align: right;\">\n",
       "      <th></th>\n",
       "      <th>attackerIP</th>\n",
       "      <th>victimIP</th>\n",
       "      <th>victimPort</th>\n",
       "      <th>vulnName</th>\n",
       "      <th>count</th>\n",
       "      <th>time(max)</th>\n",
       "      <th>time(min)</th>\n",
       "      <th>t</th>\n",
       "    </tr>\n",
       "  </thead>\n",
       "  <tbody>\n",
       "    <tr>\n",
       "      <th>144</th>\n",
       "      <td>41.227.194.80</td>\n",
       "      <td>172.31.14.66</td>\n",
       "      <td>445.0</td>\n",
       "      <td>MS08067 (NetAPI)</td>\n",
       "      <td>1</td>\n",
       "      <td>1.417556e+09</td>\n",
       "      <td>1.417556e+09</td>\n",
       "      <td>2014-12-02 21:28:47</td>\n",
       "    </tr>\n",
       "    <tr>\n",
       "      <th>116</th>\n",
       "      <td>201.221.119.171</td>\n",
       "      <td>172.31.14.66</td>\n",
       "      <td>445.0</td>\n",
       "      <td>MS08067 (NetAPI)</td>\n",
       "      <td>7</td>\n",
       "      <td>1.414022e+09</td>\n",
       "      <td>1.414021e+09</td>\n",
       "      <td>2014-10-22 23:49:50</td>\n",
       "    </tr>\n",
       "    <tr>\n",
       "      <th>31</th>\n",
       "      <td>124.123.70.99</td>\n",
       "      <td>172.31.14.66</td>\n",
       "      <td>445.0</td>\n",
       "      <td>MS08067 (NetAPI)</td>\n",
       "      <td>3</td>\n",
       "      <td>1.413567e+09</td>\n",
       "      <td>1.413566e+09</td>\n",
       "      <td>2014-10-17 17:26:09</td>\n",
       "    </tr>\n",
       "  </tbody>\n",
       "</table>\n",
       "</div>"
      ],
      "text/plain": [
       "          attackerIP      victimIP  victimPort          vulnName  count  \\\n",
       "144    41.227.194.80  172.31.14.66       445.0  MS08067 (NetAPI)      1   \n",
       "116  201.221.119.171  172.31.14.66       445.0  MS08067 (NetAPI)      7   \n",
       "31     124.123.70.99  172.31.14.66       445.0  MS08067 (NetAPI)      3   \n",
       "\n",
       "        time(max)     time(min)                   t  \n",
       "144  1.417556e+09  1.417556e+09 2014-12-02 21:28:47  \n",
       "116  1.414022e+09  1.414021e+09 2014-10-22 23:49:50  \n",
       "31   1.413567e+09  1.413566e+09 2014-10-17 17:26:09  "
      ]
     },
     "execution_count": 3,
     "metadata": {},
     "output_type": "execute_result"
    }
   ],
   "source": [
    "df = pd.read_csv('https://raw.githubusercontent.com/graphistry/pygraphistry/master/demos/data/honeypot.csv')\n",
    "df = df.assign(t= pd.Series(pd.to_datetime(df['time(max)'] * 1000000000)))\n",
    "print(df.dtypes)\n",
    "print(len(df))\n",
    "df.sample(3)"
   ]
  },
  {
   "cell_type": "code",
   "execution_count": 4,
   "id": "279e9040-d6d5-43a0-b255-ba2a523021e0",
   "metadata": {
    "execution": {
     "iopub.execute_input": "2024-07-15T03:53:24.689957Z",
     "iopub.status.busy": "2024-07-15T03:53:24.689680Z",
     "iopub.status.idle": "2024-07-15T03:53:24.709655Z",
     "shell.execute_reply": "2024-07-15T03:53:24.708972Z",
     "shell.execute_reply.started": "2024-07-15T03:53:24.689932Z"
    },
    "tags": []
   },
   "outputs": [
    {
     "name": "stdout",
     "output_type": "stream",
     "text": [
      "ip                  object\n",
      "t_min       datetime64[ns]\n",
      "t_max       datetime64[ns]\n",
      "count                int64\n",
      "time_min           float64\n",
      "dtype: object\n",
      "(203, 5)\n"
     ]
    },
    {
     "data": {
      "text/html": [
       "<div>\n",
       "<style scoped>\n",
       "    .dataframe tbody tr th:only-of-type {\n",
       "        vertical-align: middle;\n",
       "    }\n",
       "\n",
       "    .dataframe tbody tr th {\n",
       "        vertical-align: top;\n",
       "    }\n",
       "\n",
       "    .dataframe thead th {\n",
       "        text-align: right;\n",
       "    }\n",
       "</style>\n",
       "<table border=\"1\" class=\"dataframe\">\n",
       "  <thead>\n",
       "    <tr style=\"text-align: right;\">\n",
       "      <th></th>\n",
       "      <th>ip</th>\n",
       "      <th>t_min</th>\n",
       "      <th>t_max</th>\n",
       "      <th>count</th>\n",
       "      <th>time_min</th>\n",
       "    </tr>\n",
       "  </thead>\n",
       "  <tbody>\n",
       "    <tr>\n",
       "      <th>106</th>\n",
       "      <td>212.0.209.7</td>\n",
       "      <td>2014-12-31 03:54:42</td>\n",
       "      <td>2014-12-31 03:54:42</td>\n",
       "      <td>1</td>\n",
       "      <td>1.419998e+09</td>\n",
       "    </tr>\n",
       "    <tr>\n",
       "      <th>40</th>\n",
       "      <td>172.31.14.66</td>\n",
       "      <td>2014-09-30 08:43:16</td>\n",
       "      <td>2015-03-03 00:54:49</td>\n",
       "      <td>1321</td>\n",
       "      <td>1.412066e+09</td>\n",
       "    </tr>\n",
       "    <tr>\n",
       "      <th>30</th>\n",
       "      <td>124.123.70.99</td>\n",
       "      <td>2014-10-17 17:26:09</td>\n",
       "      <td>2014-10-17 17:26:09</td>\n",
       "      <td>3</td>\n",
       "      <td>1.413566e+09</td>\n",
       "    </tr>\n",
       "  </tbody>\n",
       "</table>\n",
       "</div>"
      ],
      "text/plain": [
       "                ip               t_min               t_max  count  \\\n",
       "106    212.0.209.7 2014-12-31 03:54:42 2014-12-31 03:54:42      1   \n",
       "40    172.31.14.66 2014-09-30 08:43:16 2015-03-03 00:54:49   1321   \n",
       "30   124.123.70.99 2014-10-17 17:26:09 2014-10-17 17:26:09      3   \n",
       "\n",
       "         time_min  \n",
       "106  1.419998e+09  \n",
       "40   1.412066e+09  \n",
       "30   1.413566e+09  "
      ]
     },
     "execution_count": 4,
     "metadata": {},
     "output_type": "execute_result"
    }
   ],
   "source": [
    "ip_times = pd.concat([\n",
    "    df[['attackerIP', 't', 'count', 'time(min)']].rename(columns={'attackerIP': 'ip'}),\n",
    "    df[['victimIP', 't', 'count', 'time(min)']].rename(columns={'victimIP': 'ip'})\n",
    "])\n",
    "ip_times = ip_times.groupby('ip').agg({\n",
    "    't': ['min', 'max'],\n",
    "    'count': ['sum'],\n",
    "    'time(min)': ['min']\n",
    "}).reset_index()\n",
    "ip_times.columns = ['ip', 't_min', 't_max', 'count', 'time_min']\n",
    "\n",
    "print(ip_times.dtypes)\n",
    "print(ip_times.shape)\n",
    "ip_times.sample(3)"
   ]
  },
  {
   "cell_type": "code",
   "execution_count": 5,
   "id": "65992dd1-ef32-423e-8cc7-026998250719",
   "metadata": {
    "execution": {
     "iopub.execute_input": "2024-07-15T03:53:24.711045Z",
     "iopub.status.busy": "2024-07-15T03:53:24.710800Z",
     "iopub.status.idle": "2024-07-15T03:53:24.717473Z",
     "shell.execute_reply": "2024-07-15T03:53:24.717010Z",
     "shell.execute_reply.started": "2024-07-15T03:53:24.711025Z"
    },
    "tags": []
   },
   "outputs": [],
   "source": [
    "g = graphistry.edges(df, 'attackerIP', 'victimIP').nodes(ip_times, 'ip')"
   ]
  },
  {
   "cell_type": "markdown",
   "id": "47f1d1d1-2ce2-4b72-a5eb-0a1b16f2c129",
   "metadata": {},
   "source": [
    "## Visualization\n"
   ]
  },
  {
   "cell_type": "markdown",
   "id": "befd6d19-3112-4341-b294-21560ebfcb22",
   "metadata": {},
   "source": [
    "### Continuous coloring\n",
    "\n",
    "Coloring nodes and edges by the value domain can help visual interpretation, so we encode smallest as cold (blue) and biggest as hot (red):"
   ]
  },
  {
   "cell_type": "code",
   "execution_count": 6,
   "id": "525016f3-05a1-44f7-9a9b-dadd661cb2c6",
   "metadata": {
    "execution": {
     "iopub.execute_input": "2024-07-15T03:53:24.721556Z",
     "iopub.status.busy": "2024-07-15T03:53:24.720983Z",
     "iopub.status.idle": "2024-07-15T03:53:24.727697Z",
     "shell.execute_reply": "2024-07-15T03:53:24.726881Z",
     "shell.execute_reply.started": "2024-07-15T03:53:24.721524Z"
    }
   },
   "outputs": [],
   "source": [
    "g = g.encode_point_color('count', ['blue', 'blue', 'blue', 'yellow', 'yellow', 'yellow', 'red'], as_continuous=True)"
   ]
  },
  {
   "cell_type": "markdown",
   "id": "4c4357e1-0ccf-4466-8936-a31032cb422b",
   "metadata": {},
   "source": [
    "### Default\n",
    "\n",
    "The default layout will scan for a numeric column and try to infer reasonable layout settings\n"
   ]
  },
  {
   "cell_type": "code",
   "execution_count": 8,
   "id": "38bd3720-1fe5-408c-8250-37de53d68795",
   "metadata": {
    "execution": {
     "iopub.execute_input": "2024-07-15T03:53:34.713931Z",
     "iopub.status.busy": "2024-07-15T03:53:34.712790Z",
     "iopub.status.idle": "2024-07-15T03:53:37.021343Z",
     "shell.execute_reply": "2024-07-15T03:53:37.019443Z",
     "shell.execute_reply.started": "2024-07-15T03:53:34.713880Z"
    }
   },
   "outputs": [
    {
     "data": {
      "text/plain": [
       "'https://hub.graphistry.com/graph/graph.html?dataset=363ec1cb22ef4e9dafb474d1add25ed6&type=arrow&viztoken=58585ee0-4a23-4765-81b2-457e7c29380f&usertag=6c2f6dc1-pygraphistry-0+unknown&splashAfter=1721015632&info=true&play=0&lockedR=True&bg=%23E2E2E2'"
      ]
     },
     "execution_count": 8,
     "metadata": {},
     "output_type": "execute_result"
    }
   ],
   "source": [
    "g.ring_continuous_layout().plot(render=False)"
   ]
  },
  {
   "cell_type": "markdown",
   "id": "25809604-65d1-454c-9088-84c2d6b51da5",
   "metadata": {},
   "source": [
    "### Pick the value column and reverse direction"
   ]
  },
  {
   "cell_type": "code",
   "execution_count": 10,
   "id": "d46e31b5-5686-4356-806f-27e92e132b8e",
   "metadata": {
    "execution": {
     "iopub.execute_input": "2024-07-15T03:53:48.030631Z",
     "iopub.status.busy": "2024-07-15T03:53:48.030027Z",
     "iopub.status.idle": "2024-07-15T03:53:50.385625Z",
     "shell.execute_reply": "2024-07-15T03:53:50.385136Z",
     "shell.execute_reply.started": "2024-07-15T03:53:48.030584Z"
    }
   },
   "outputs": [
    {
     "data": {
      "text/plain": [
       "'https://hub.graphistry.com/graph/graph.html?dataset=45d4daf6ce4347818e005e05c218e9f1&type=arrow&viztoken=2b5b95bf-290d-4fa5-a221-50fa53de00d4&usertag=6c2f6dc1-pygraphistry-0+unknown&splashAfter=1721015645&info=true&play=0&lockedR=True&bg=%23E2E2E2'"
      ]
     },
     "execution_count": 10,
     "metadata": {},
     "output_type": "execute_result"
    }
   ],
   "source": [
    "g.ring_continuous_layout(\n",
    "    ring_col='count',\n",
    "    reverse=True\n",
    ").plot(render=False)"
   ]
  },
  {
   "cell_type": "markdown",
   "id": "4ac1dae7-3768-4c48-bffc-00a3775ab538",
   "metadata": {},
   "source": [
    "### Control the number of rings\n",
    "\n",
    "* Control the number of rings via `num_rings`\n",
    "* Control which values map to the first, last rings via `v_start` and `v_end` in terms of ring value column `g._nodes['count']`\n",
    "  * Let the layout algorithm determine the distance between rings based on `num_rings`, `v_start`, and `v_end` \n",
    "* Control the radius of the first, last rings via `min_r`, `max_r`\n"
   ]
  },
  {
   "cell_type": "code",
   "execution_count": 13,
   "id": "1b1b885c-b176-4d5e-9248-b3f737857b5b",
   "metadata": {
    "execution": {
     "iopub.execute_input": "2024-07-15T03:56:17.052602Z",
     "iopub.status.busy": "2024-07-15T03:56:17.051841Z",
     "iopub.status.idle": "2024-07-15T03:56:19.416136Z",
     "shell.execute_reply": "2024-07-15T03:56:19.415505Z",
     "shell.execute_reply.started": "2024-07-15T03:56:17.052542Z"
    }
   },
   "outputs": [
    {
     "data": {
      "text/plain": [
       "'https://hub.graphistry.com/graph/graph.html?dataset=c864818290f64e22a5333c5d4567824f&type=arrow&viztoken=feabda1a-8411-4a68-9c93-206182f9a9ca&usertag=6c2f6dc1-pygraphistry-0+unknown&splashAfter=1721015794&info=true&play=0&lockedR=True&bg=%23E2E2E2'"
      ]
     },
     "execution_count": 13,
     "metadata": {},
     "output_type": "execute_result"
    }
   ],
   "source": [
    "g.ring_continuous_layout(\n",
    "    ring_col='count',\n",
    "    min_r=500,\n",
    "    max_r=1000,\n",
    "    v_start=100,\n",
    "    v_end=1400,\n",
    "    num_rings=13\n",
    ").plot(render=False)"
   ]
  },
  {
   "cell_type": "markdown",
   "id": "40a64e08-6b22-427c-8de6-df6445d31a19",
   "metadata": {},
   "source": [
    "### Control sizes\n",
    "\n",
    "* Control which values map to the first, last rings via `v_start` andn `v_end`\n",
    "* Control the ring step size via `v_step` (in terms of input column `g._nodes['count']`)\n",
    "  * Let the layout algorithm determine the `num_rings` based on `v_start`, `v_end`, and `v_step`\n",
    "* Control the radius of the first, last rings via `min_r`, `max_r`\n"
   ]
  },
  {
   "cell_type": "code",
   "execution_count": 14,
   "id": "e2bc6927-f2d8-4301-ae5f-d371c9c17a73",
   "metadata": {
    "execution": {
     "iopub.execute_input": "2024-07-15T03:58:53.455984Z",
     "iopub.status.busy": "2024-07-15T03:58:53.455405Z",
     "iopub.status.idle": "2024-07-15T03:58:55.891806Z",
     "shell.execute_reply": "2024-07-15T03:58:55.890364Z",
     "shell.execute_reply.started": "2024-07-15T03:58:53.455962Z"
    }
   },
   "outputs": [
    {
     "data": {
      "text/plain": [
       "'https://hub.graphistry.com/graph/graph.html?dataset=78cd72af75b74e5280d3c644be9aa768&type=arrow&viztoken=9ac50462-1d05-487c-bec7-303d24a60847&usertag=6c2f6dc1-pygraphistry-0+unknown&splashAfter=1721015950&info=true&play=0&lockedR=True&bg=%23E2E2E2'"
      ]
     },
     "execution_count": 14,
     "metadata": {},
     "output_type": "execute_result"
    }
   ],
   "source": [
    "import math\n",
    "\n",
    "def round_up_to_nearest_100(x: float) -> int:\n",
    "    return math.ceil(x / 100) * 100\n",
    "\n",
    "g.ring_continuous_layout(\n",
    "    ring_col='count',\n",
    "    min_r=500,\n",
    "    max_r=1000,\n",
    "    v_start=100,\n",
    "    v_end=round_up_to_nearest_100(g._nodes['count'].max()),\n",
    "    v_step=100\n",
    ").plot(render=False)"
   ]
  },
  {
   "cell_type": "markdown",
   "id": "a4947bbd-795d-4a02-b4ea-1df944adcc31",
   "metadata": {},
   "source": [
    "### Control axis labels\n",
    "\n",
    "Pass in a value for each radial axis"
   ]
  },
  {
   "cell_type": "code",
   "execution_count": 18,
   "id": "45746ac0-76a1-463d-a371-c88c44b7325f",
   "metadata": {
    "execution": {
     "iopub.execute_input": "2024-07-15T04:01:40.767675Z",
     "iopub.status.busy": "2024-07-15T04:01:40.767125Z",
     "iopub.status.idle": "2024-07-15T04:01:43.212881Z",
     "shell.execute_reply": "2024-07-15T04:01:43.212322Z",
     "shell.execute_reply.started": "2024-07-15T04:01:40.767655Z"
    }
   },
   "outputs": [
    {
     "name": "stdout",
     "output_type": "stream",
     "text": [
      "axis ['ring: a', 'ring: b', 'ring: c', 'ring: d', 'ring: e', 'ring: f']\n"
     ]
    },
    {
     "data": {
      "text/plain": [
       "'https://hub.graphistry.com/graph/graph.html?dataset=fd1009384627494a8d983bc7df79d4c3&type=arrow&viztoken=9e1032cd-b2c7-47c6-b912-32b6d7b18a78&usertag=6c2f6dc1-pygraphistry-0+unknown&splashAfter=1721016118&info=true&play=0&lockedR=True&bg=%23E2E2E2'"
      ]
     },
     "execution_count": 18,
     "metadata": {},
     "output_type": "execute_result"
    }
   ],
   "source": [
    "axis: List[str] = [\n",
    "    f'ring: {v}'\n",
    "    for v in\n",
    "    ['a', 'b', 'c', 'd', 'e', 'f']  # one more than rings\n",
    "]\n",
    "print('axis', axis)\n",
    "\n",
    "g.ring_continuous_layout(\n",
    "    ring_col='count',\n",
    "    num_rings=5,\n",
    "    axis=axis\n",
    ").plot(render=False)"
   ]
  },
  {
   "cell_type": "markdown",
   "id": "74670cda-9ae9-44d0-9ad2-4af1e22b9e8f",
   "metadata": {},
   "source": [
    "Compute a custom label based on the value"
   ]
  },
  {
   "cell_type": "code",
   "execution_count": 22,
   "id": "780c6c1e-d2a5-4738-b5b0-ba3159a356b4",
   "metadata": {
    "execution": {
     "iopub.execute_input": "2024-07-15T04:09:27.111061Z",
     "iopub.status.busy": "2024-07-15T04:09:27.110215Z",
     "iopub.status.idle": "2024-07-15T04:09:29.365685Z",
     "shell.execute_reply": "2024-07-15T04:09:29.363904Z",
     "shell.execute_reply.started": "2024-07-15T04:09:27.111027Z"
    }
   },
   "outputs": [
    {
     "data": {
      "text/plain": [
       "'https://hub.graphistry.com/graph/graph.html?dataset=b76a773409c9487d913995b9586460d0&type=arrow&viztoken=fbfedc8c-3d15-43ea-b2e4-5e19743e5856&usertag=6c2f6dc1-pygraphistry-0+unknown&splashAfter=1721016584&info=true&play=0&lockedR=True&bg=%23E2E2E2'"
      ]
     },
     "execution_count": 22,
     "metadata": {},
     "output_type": "execute_result"
    }
   ],
   "source": [
    "def axis_to_title(value: float, step: int, ring_width: float) -> str:\n",
    "    lbl = int(value)\n",
    "    return f'Count: {lbl}'\n",
    "\n",
    "g.ring_continuous_layout(\n",
    "    ring_col='count',\n",
    "    num_rings=5,\n",
    "    format_labels=axis_to_title\n",
    ").plot(render=False)"
   ]
  },
  {
   "cell_type": "markdown",
   "id": "18760e5f-38de-4a48-9976-75d36b10e399",
   "metadata": {},
   "source": [
    "Control more aspects of the axis, like border style"
   ]
  },
  {
   "cell_type": "code",
   "execution_count": 30,
   "id": "71d6d996-7909-4a12-ace6-6ee3e25608db",
   "metadata": {
    "execution": {
     "iopub.execute_input": "2024-07-15T04:15:46.803613Z",
     "iopub.status.busy": "2024-07-15T04:15:46.802052Z",
     "iopub.status.idle": "2024-07-15T04:15:48.976531Z",
     "shell.execute_reply": "2024-07-15T04:15:48.976012Z",
     "shell.execute_reply.started": "2024-07-15T04:15:46.803546Z"
    }
   },
   "outputs": [
    {
     "name": "stdout",
     "output_type": "stream",
     "text": [
      "sample input axis[0]: {'label': '1.0', 'r': 500.0, 'internal': True}\n",
      "sample output axis[0]: {'r': 500.0, 'label': 'Ring 1.0', 'internal': False, 'external': False, 'space': True}\n"
     ]
    },
    {
     "data": {
      "text/plain": [
       "'https://hub.graphistry.com/graph/graph.html?dataset=63980e32d60d4cebb6b5007ae914e586&type=arrow&viztoken=d60a6b8b-958a-4f9a-a6f9-f3be428d390c&usertag=6c2f6dc1-pygraphistry-0+unknown&splashAfter=1721016963&info=true&play=0&lockedR=True&bg=%23E2E2E2'"
      ]
     },
     "execution_count": 30,
     "metadata": {},
     "output_type": "execute_result"
    }
   ],
   "source": [
    "def fancy_axis_transform(axis: List[Dict]) -> List[Dict]:\n",
    "    \"\"\"\n",
    "      - same radii\n",
    "      - add \"Ring ...\" to labels\n",
    "      - color radial axis based on ring number\n",
    "          * ring 3: internal (blue axis style)\n",
    "          * ring 6: external (orange axis style)\n",
    "          * other rings: space (default gray axis style)\n",
    "    \"\"\"\n",
    "    out = []\n",
    "    print('sample input axis[0]:', axis[0])\n",
    "    for i, ring in enumerate(axis):\n",
    "        out.append({\n",
    "            'r': ring['r'],\n",
    "            'label': f'Ring {ring[\"label\"]}',\n",
    "            'internal': i == 3,  # blue\n",
    "            'external': i == 6,  # orange\n",
    "            'space': i != 3 and i != 6  # gray\n",
    "        })\n",
    "    print('sample output axis[0]:', out[0])\n",
    "    return out\n",
    "\n",
    "g.ring_continuous_layout(\n",
    "    ring_col='count',\n",
    "    num_rings=10,\n",
    "    min_r=500,\n",
    "    max_r=1000,\n",
    "    format_axis=fancy_axis_transform\n",
    ").plot(render=False)"
   ]
  },
  {
   "cell_type": "markdown",
   "id": "967069f4-7db4-4c16-ba22-b7eba592d206",
   "metadata": {},
   "source": [
    "## GPU Acceleration\n",
    "\n",
    "For larger graphs, automatic GPU acceleration triggers when `g._nodes` is a `cudf.DataFrame`.\n",
    "\n",
    "To ensure GPU acceleration is used, set `engine='cudf'`\n"
   ]
  },
  {
   "cell_type": "code",
   "execution_count": 32,
   "id": "17c5f1e3-4131-402f-a68d-7fafcca7e5f3",
   "metadata": {
    "execution": {
     "iopub.execute_input": "2024-07-15T04:16:33.397458Z",
     "iopub.status.busy": "2024-07-15T04:16:33.396766Z",
     "iopub.status.idle": "2024-07-15T04:16:35.741534Z",
     "shell.execute_reply": "2024-07-15T04:16:35.741051Z",
     "shell.execute_reply.started": "2024-07-15T04:16:33.397438Z"
    }
   },
   "outputs": [
    {
     "data": {
      "text/plain": [
       "'https://hub.graphistry.com/graph/graph.html?dataset=2731e5857dd541048c3754c902707dcb&type=arrow&viztoken=fee07e68-cf25-4814-9e17-d95bf96b59d4&usertag=6c2f6dc1-pygraphistry-0+unknown&splashAfter=1721017010&info=true&play=0&lockedR=True&bg=%23E2E2E2'"
      ]
     },
     "execution_count": 32,
     "metadata": {},
     "output_type": "execute_result"
    }
   ],
   "source": [
    "import cudf\n",
    "\n",
    "(g\n",
    " .nodes(cudf.from_pandas(g._nodes))\n",
    " .ring_continuous_layout(engine='cudf')\n",
    ").plot(render=False)\n"
   ]
  },
  {
   "cell_type": "markdown",
   "id": "5fbfaf82-0c2f-4210-acda-52e575a3cf84",
   "metadata": {},
   "source": []
  }
 ],
 "metadata": {
  "kernelspec": {
   "display_name": "Python 3.8 (RAPIDS)",
   "language": "python",
   "name": "rapids"
  },
  "language_info": {
   "codemirror_mode": {
    "name": "ipython",
    "version": 3
   },
   "file_extension": ".py",
   "mimetype": "text/x-python",
   "name": "python",
   "nbconvert_exporter": "python",
   "pygments_lexer": "ipython3",
   "version": "3.10.12"
  }
 },
 "nbformat": 4,
 "nbformat_minor": 5
}
