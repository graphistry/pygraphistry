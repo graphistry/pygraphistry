{
 "cells": [
  {
   "cell_type": "markdown",
   "metadata": {},
   "source": [
    "# GFQL Temporal Predicates Demo\n",
    "\n",
    "This notebook demonstrates how to use temporal (datetime) predicates in PyGraphistry's GFQL for filtering graph data based on dates and times."
   ]
  },
  {
   "cell_type": "code",
   "execution_count": null,
   "metadata": {},
   "outputs": [],
   "source": [
    "import pandas as pd\n",
    "import numpy as np\n",
    "from datetime import datetime, date, time, timedelta\n",
    "import pytz\n",
    "import graphistry\n",
    "from graphistry import n, e_forward\n",
    "from graphistry.compute import (\n",
    "    gt, lt, ge, le, eq, ne, between, is_in,\n",
    "    DateTimeValue, DateValue, TimeValue\n",
    ")"
   ]
  },
  {
   "cell_type": "markdown",
   "metadata": {},
   "source": [
    "## Setup: Create Sample Data\n",
    "\n",
    "Let's create a sample dataset representing a transaction network with temporal data."
   ]
  },
  {
   "cell_type": "code",
   "execution_count": null,
   "metadata": {},
   "outputs": [],
   "source": [
    "# Generate sample transaction data\n",
    "np.random.seed(42)\n",
    "\n",
    "# Create nodes (accounts)\n",
    "n_accounts = 100\n",
    "accounts_df = pd.DataFrame({\n",
    "    'account_id': [f'ACC_{i:04d}' for i in range(n_accounts)],\n",
    "    'account_type': np.random.choice(['checking', 'savings', 'business'], n_accounts),\n",
    "    'created_date': pd.date_range('2020-01-01', periods=n_accounts, freq='W'),\n",
    "    'last_active': pd.date_range('2023-01-01', periods=n_accounts, freq='D') + \n",
    "                   pd.to_timedelta(np.random.randint(0, 365, n_accounts), unit='D')\n",
    "})\n",
    "\n",
    "# Create edges (transactions)\n",
    "n_transactions = 500\n",
    "transactions_df = pd.DataFrame({\n",
    "    'transaction_id': [f'TXN_{i:06d}' for i in range(n_transactions)],\n",
    "    'source': np.random.choice(accounts_df['account_id'], n_transactions),\n",
    "    'target': np.random.choice(accounts_df['account_id'], n_transactions),\n",
    "    'amount': np.random.exponential(100, n_transactions).round(2),\n",
    "    'timestamp': pd.date_range('2023-01-01', periods=n_transactions, freq='H') + \n",
    "                 pd.to_timedelta(np.random.randint(0, 8760, n_transactions), unit='H'),\n",
    "    'transaction_time': [time(np.random.randint(0, 24), np.random.randint(0, 60)) \n",
    "                        for _ in range(n_transactions)],\n",
    "    'transaction_type': np.random.choice(['transfer', 'payment', 'deposit'], n_transactions)\n",
    "})\n",
    "\n",
    "print(f\"Created {len(accounts_df)} accounts and {len(transactions_df)} transactions\")\n",
    "print(f\"\\nTransaction date range: {transactions_df['timestamp'].min()} to {transactions_df['timestamp'].max()}\")"
   ]
  },
  {
   "cell_type": "code",
   "execution_count": null,
   "metadata": {},
   "outputs": [],
   "source": [
    "# Create graphistry instance\n",
    "g = graphistry.edges(transactions_df, 'source', 'target').nodes(accounts_df, 'account_id')\n",
    "print(f\"Graph: {len(g._nodes)} nodes, {len(g._edges)} edges\")"
   ]
  },
  {
   "cell_type": "markdown",
   "metadata": {},
   "source": [
    "## 1. Basic DateTime Filtering\n",
    "\n",
    "Filter transactions based on datetime values."
   ]
  },
  {
   "cell_type": "code",
   "execution_count": null,
   "metadata": {},
   "outputs": [],
   "source": [
    "# Filter transactions after a specific date\n",
    "cutoff_date = datetime(2023, 7, 1)\n",
    "recent_transactions = g.chain([\n",
    "    n(edge_match={\"timestamp\": gt(pd.Timestamp(cutoff_date))})\n",
    "])\n",
    "\n",
    "print(f\"Transactions after {cutoff_date}: {len(recent_transactions._edges)}\")\n",
    "recent_transactions._edges[['transaction_id', 'timestamp', 'amount']].head()"
   ]
  },
  {
   "cell_type": "code",
   "execution_count": null,
   "metadata": {},
   "outputs": [],
   "source": [
    "# Filter transactions in a specific month\n",
    "march_2023 = g.chain([\n",
    "    n(edge_match={\n",
    "        \"timestamp\": between(\n",
    "            datetime(2023, 3, 1),\n",
    "            datetime(2023, 3, 31, 23, 59, 59)\n",
    "        )\n",
    "    })\n",
    "])\n",
    "\n",
    "print(f\"Transactions in March 2023: {len(march_2023._edges)}\")\n",
    "march_2023._edges[['transaction_id', 'timestamp', 'amount']].head()"
   ]
  },
  {
   "cell_type": "markdown",
   "metadata": {},
   "source": [
    "## 2. Date-Only Filtering\n",
    "\n",
    "Filter based on dates, ignoring time components."
   ]
  },
  {
   "cell_type": "code",
   "execution_count": null,
   "metadata": {},
   "outputs": [],
   "source": [
    "# Filter accounts created after a specific date\n",
    "new_accounts = g.chain([\n",
    "    n(filter_dict={\n",
    "        \"created_date\": ge(date(2021, 1, 1))\n",
    "    })\n",
    "])\n",
    "\n",
    "print(f\"Accounts created after 2021: {len(new_accounts._nodes)}\")\n",
    "new_accounts._nodes[['account_id', 'created_date', 'account_type']].head()"
   ]
  },
  {
   "cell_type": "code",
   "execution_count": null,
   "metadata": {},
   "outputs": [],
   "source": [
    "# Find accounts active in the last 90 days\n",
    "ninety_days_ago = datetime.now().date() - timedelta(days=90)\n",
    "active_accounts = g.chain([\n",
    "    n(filter_dict={\n",
    "        \"last_active\": gt(pd.Timestamp(ninety_days_ago))\n",
    "    })\n",
    "])\n",
    "\n",
    "print(f\"Recently active accounts: {len(active_accounts._nodes)}\")"
   ]
  },
  {
   "cell_type": "markdown",
   "metadata": {},
   "source": [
    "## 3. Time-of-Day Filtering\n",
    "\n",
    "Filter transactions based on time of day."
   ]
  },
  {
   "cell_type": "code",
   "execution_count": null,
   "metadata": {},
   "outputs": [],
   "source": [
    "# Find transactions during business hours (9 AM - 5 PM)\n",
    "business_hours = g.chain([\n",
    "    n(edge_match={\n",
    "        \"transaction_time\": between(\n",
    "            time(9, 0, 0),\n",
    "            time(17, 0, 0)\n",
    "        )\n",
    "    })\n",
    "])\n",
    "\n",
    "print(f\"Business hour transactions: {len(business_hours._edges)}\")\n",
    "print(f\"Percentage of total: {len(business_hours._edges) / len(g._edges) * 100:.1f}%\")"
   ]
  },
  {
   "cell_type": "code",
   "execution_count": null,
   "metadata": {},
   "outputs": [],
   "source": [
    "# Find transactions at specific times (e.g., on the hour)\n",
    "on_the_hour_times = [time(h, 0, 0) for h in range(24)]\n",
    "on_hour_transactions = g.chain([\n",
    "    n(edge_match={\n",
    "        \"transaction_time\": is_in(on_the_hour_times)\n",
    "    })\n",
    "])\n",
    "\n",
    "print(f\"Transactions on the hour: {len(on_hour_transactions._edges)}\")"
   ]
  },
  {
   "cell_type": "markdown",
   "metadata": {},
   "source": [
    "## 4. Complex Temporal Queries\n",
    "\n",
    "Combine temporal predicates with other filters for complex queries."
   ]
  },
  {
   "cell_type": "code",
   "execution_count": null,
   "metadata": {},
   "outputs": [],
   "source": [
    "# Find large transactions (>$500) in Q4 2023\n",
    "q4_large_transactions = g.chain([\n",
    "    n(edge_match={\n",
    "        \"timestamp\": between(\n",
    "            datetime(2023, 10, 1),\n",
    "            datetime(2023, 12, 31, 23, 59, 59)\n",
    "        ),\n",
    "        \"amount\": gt(500)\n",
    "    })\n",
    "])\n",
    "\n",
    "print(f\"Large Q4 2023 transactions: {len(q4_large_transactions._edges)}\")\n",
    "if len(q4_large_transactions._edges) > 0:\n",
    "    print(f\"Total value: ${q4_large_transactions._edges['amount'].sum():,.2f}\")\n",
    "    print(f\"Average: ${q4_large_transactions._edges['amount'].mean():,.2f}\")"
   ]
  },
  {
   "cell_type": "code",
   "execution_count": null,
   "metadata": {},
   "outputs": [],
   "source": [
    "# Multi-hop query: Find accounts that received money in the last 30 days\n",
    "# and then sent money to business accounts\n",
    "thirty_days_ago = datetime.now() - timedelta(days=30)\n",
    "\n",
    "money_flow = g.chain([\n",
    "    # Start with recent incoming transactions\n",
    "    n(edge_match={\n",
    "        \"timestamp\": gt(pd.Timestamp(thirty_days_ago))\n",
    "    }),\n",
    "    # Go to receiving accounts\n",
    "    n(direction='destination'),\n",
    "    # Find outgoing transactions from these accounts\n",
    "    e_forward(edge_match={\n",
    "        \"timestamp\": gt(pd.Timestamp(thirty_days_ago))\n",
    "    }),\n",
    "    # To business accounts\n",
    "    n(filter_dict={\"account_type\": eq(\"business\")})\n",
    "])\n",
    "\n",
    "print(f\"Money flow pattern found: {len(money_flow._nodes)} business accounts\")"
   ]
  },
  {
   "cell_type": "markdown",
   "metadata": {},
   "source": [
    "## 5. Using Temporal Value Classes\n",
    "\n",
    "Use explicit temporal value classes for more control."
   ]
  },
  {
   "cell_type": "code",
   "execution_count": null,
   "metadata": {},
   "outputs": [],
   "source": [
    "# Create temporal values with specific properties\n",
    "dt_value = DateTimeValue(\"2023-06-15T14:30:00\", \"UTC\")\n",
    "date_value = DateValue(\"2023-06-15\")\n",
    "time_value = TimeValue(\"14:30:00\")\n",
    "\n",
    "# Use in predicates\n",
    "specific_datetime = g.chain([\n",
    "    n(edge_match={\"timestamp\": gt(dt_value)})\n",
    "])\n",
    "\n",
    "print(f\"Transactions after {dt_value.value}: {len(specific_datetime._edges)}\")"
   ]
  },
  {
   "cell_type": "markdown",
   "metadata": {},
   "source": [
    "## 6. Timezone-Aware Filtering\n",
    "\n",
    "Handle timezone-aware datetime comparisons."
   ]
  },
  {
   "cell_type": "code",
   "execution_count": null,
   "metadata": {},
   "outputs": [],
   "source": [
    "# Add timezone info to our data for this example\n",
    "transactions_df_tz = transactions_df.copy()\n",
    "transactions_df_tz['timestamp_utc'] = pd.to_datetime(transactions_df_tz['timestamp']).dt.tz_localize('UTC')\n",
    "transactions_df_tz['timestamp_eastern'] = transactions_df_tz['timestamp_utc'].dt.tz_convert('US/Eastern')\n",
    "\n",
    "g_tz = graphistry.edges(transactions_df_tz, 'source', 'target')\n",
    "\n",
    "# Filter using Eastern time\n",
    "eastern = pytz.timezone('US/Eastern')\n",
    "eastern_cutoff = eastern.localize(datetime(2023, 7, 1, 9, 0, 0))  # 9 AM Eastern\n",
    "\n",
    "eastern_morning = g_tz.chain([\n",
    "    n(edge_match={\"timestamp_eastern\": gt(pd.Timestamp(eastern_cutoff))})\n",
    "])\n",
    "\n",
    "print(f\"Transactions after 9 AM Eastern on July 1, 2023: {len(eastern_morning._edges)}\")"
   ]
  },
  {
   "cell_type": "markdown",
   "metadata": {},
   "source": [
    "## 7. Performance Tips\n",
    "\n",
    "Demonstrate performance considerations for temporal filtering."
   ]
  },
  {
   "cell_type": "code",
   "execution_count": null,
   "metadata": {},
   "outputs": [],
   "source": [
    "# Measure performance of different temporal operations\n",
    "import time\n",
    "\n",
    "# Method 1: Using pandas Timestamp (recommended)\n",
    "start = time.time()\n",
    "result1 = g.chain([\n",
    "    n(edge_match={\"timestamp\": gt(pd.Timestamp(\"2023-07-01\"))})\n",
    "])\n",
    "time1 = time.time() - start\n",
    "\n",
    "# Method 2: Using datetime object\n",
    "start = time.time()\n",
    "result2 = g.chain([\n",
    "    n(edge_match={\"timestamp\": gt(datetime(2023, 7, 1))})\n",
    "])\n",
    "time2 = time.time() - start\n",
    "\n",
    "print(f\"Performance comparison:\")\n",
    "print(f\"  pd.Timestamp: {time1:.4f} seconds\")\n",
    "print(f\"  datetime:     {time2:.4f} seconds\")\n",
    "print(f\"  Results match: {len(result1._edges) == len(result2._edges)}\")"
   ]
  },
  {
   "cell_type": "markdown",
   "metadata": {},
   "source": [
    "## 8. Visualization with Temporal Filtering\n",
    "\n",
    "Visualize subgraphs filtered by temporal predicates."
   ]
  },
  {
   "cell_type": "code",
   "execution_count": null,
   "metadata": {},
   "outputs": [],
   "source": [
    "# Visualize recent high-value transactions\n",
    "recent_high_value = g.chain([\n",
    "    n(edge_match={\n",
    "        \"timestamp\": gt(datetime.now() - timedelta(days=7)),\n",
    "        \"amount\": gt(200)\n",
    "    })\n",
    "])\n",
    "\n",
    "print(f\"Recent high-value transaction network:\")\n",
    "print(f\"  Nodes: {len(recent_high_value._nodes)}\")\n",
    "print(f\"  Edges: {len(recent_high_value._edges)}\")\n",
    "\n",
    "# Uncomment to visualize (requires Graphistry API key)\n",
    "# recent_high_value.plot()"
   ]
  },
  {
   "cell_type": "markdown",
   "metadata": {},
   "source": [
    "## Summary\n",
    "\n",
    "This notebook demonstrated:\n",
    "\n",
    "1. **DateTime filtering** with `gt`, `lt`, `between` predicates\n",
    "2. **Date-only filtering** for day-level granularity\n",
    "3. **Time-of-day filtering** for patterns like business hours\n",
    "4. **Complex queries** combining temporal and non-temporal predicates\n",
    "5. **Multi-hop queries** with temporal constraints\n",
    "6. **Temporal value classes** for explicit control\n",
    "7. **Timezone-aware** filtering\n",
    "8. **Performance considerations**\n",
    "\n",
    "Temporal predicates in GFQL provide a powerful way to analyze time-series aspects of graph data, enabling complex temporal queries while maintaining the expressiveness of graph traversals."
   ]
  }
 ],
 "metadata": {
  "kernelspec": {
   "display_name": "Python 3",
   "language": "python",
   "name": "python3"
  },
  "language_info": {
   "codemirror_mode": {
    "name": "ipython",
    "version": 3
   },
   "file_extension": ".py",
   "mimetype": "text/x-python",
   "name": "python",
   "nbconvert_exporter": "python",
   "pygments_lexer": "ipython3",
   "version": "3.8.0"
  }
 },
 "nbformat": 4,
 "nbformat_minor": 4
}