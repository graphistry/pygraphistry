{
 "cells": [
  {
   "cell_type": "code",
   "execution_count": 3,
   "metadata": {
    "collapsed": true,
    "deletable": true,
    "editable": true
   },
   "outputs": [],
   "source": [
    "import graphistry\n",
    "graphistry.register('myapikey') #https://www.graphistry.com/api-request\n",
    "import networkx as nx"
   ]
  },
  {
   "cell_type": "code",
   "execution_count": 16,
   "metadata": {
    "collapsed": false,
    "deletable": true,
    "editable": true
   },
   "outputs": [
    {
     "data": {
      "text/html": [
       "\n",
       "            <iframe id=\"ff467ed2-c2c3-4f65-b039-6956b9c62650\" src=\"https://labs.graphistry.com/graph/graph.html?dataset=PyGraphistry/N02DQ5SS7G&type=vgraph&viztoken=76099c49e771a14b8d2979fe6af5407a75604a03&usertag=5806a903-pygraphistry-0.9.51&splashAfter=1508782245&info=true\"\n",
       "                    allowfullscreen=\"true\" webkitallowfullscreen=\"true\" mozallowfullscreen=\"true\"\n",
       "                    oallowfullscreen=\"true\" msallowfullscreen=\"true\"\n",
       "                    style=\"width:100%; height:500px; border: 1px solid #DDD\">\n",
       "            </iframe>\n",
       "        \n",
       "            <script>\n",
       "                $(\"#ff467ed2-c2c3-4f65-b039-6956b9c62650\").bind('mousewheel', function(e) {\n",
       "                e.preventDefault();\n",
       "                });\n",
       "            </script>\n",
       "        "
      ],
      "text/plain": [
       "<IPython.core.display.HTML object>"
      ]
     },
     "execution_count": 16,
     "metadata": {},
     "output_type": "execute_result"
    }
   ],
   "source": [
    "G=nx.Graph()\n",
    "G.add_nodes_from([\n",
    "    (1, {\"v\": \"one\"}), \n",
    "    (2, {\"v\": \"two\"}), \n",
    "    (3, {\"v\": \"three\"}), \n",
    "    (4, {\"v\": \"four\"}), \n",
    "    (7, {\"v\": \"seven\"}), \n",
    "    (8, {\"v\": \"eight\"})])\n",
    "G.add_edges_from([\n",
    "    [2,3], \n",
    "    [3,4], \n",
    "    [7,8]])\n",
    "graphistry.bind(source='src', destination='dst', node='nodeid').plot(G)"
   ]
  },
  {
   "cell_type": "code",
   "execution_count": null,
   "metadata": {
    "collapsed": true,
    "deletable": true,
    "editable": true
   },
   "outputs": [],
   "source": []
  }
 ],
 "metadata": {
  "kernelspec": {
   "display_name": "Python 2",
   "language": "python",
   "name": "python2"
  },
  "language_info": {
   "codemirror_mode": {
    "name": "ipython",
    "version": 2
   },
   "file_extension": ".py",
   "mimetype": "text/x-python",
   "name": "python",
   "nbconvert_exporter": "python",
   "pygments_lexer": "ipython2",
   "version": "2.7.13"
  }
 },
 "nbformat": 4,
 "nbformat_minor": 2
}
