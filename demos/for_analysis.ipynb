{
 "cells": [
  {
   "cell_type": "markdown",
   "metadata": {
    "deletable": true,
    "editable": true
   },
   "source": [
    "# Tutorial: Data Analysis in Graphistry\n",
    "\n",
    "1. Load data\n",
    "2. Plot: \n",
    "  - Simple: input is a list of edges\n",
    "  - Arbitrary: input is a table (_hypergraph_ transform)\n",
    "3. Advanced bindings\n",
    "4. Further docs\n",
    "  - [UI Guide](https://labs.graphistry.com/graphistry/ui.html)\n",
    "  - [More demos: database connectors, ...](demos_databases_apis)\n",
    "  - [CSV upload notebook app](upload_csv_miniapp.ipynb)"
   ]
  },
  {
   "cell_type": "code",
   "execution_count": 2,
   "metadata": {
    "collapsed": true,
    "deletable": true,
    "editable": true
   },
   "outputs": [],
   "source": [
    "import graphistry\n",
    "#graphistry.register(key='MY_API_KEY', server='labs.graphistry.com')"
   ]
  },
  {
   "cell_type": "markdown",
   "metadata": {
    "deletable": true,
    "editable": true
   },
   "source": [
    "## 1. Load CSV\n",
    "Graphistry works seamlessly with Pandas dataframes"
   ]
  },
  {
   "cell_type": "code",
   "execution_count": 3,
   "metadata": {
    "collapsed": false,
    "deletable": true,
    "editable": true
   },
   "outputs": [
    {
     "data": {
      "text/html": [
       "<div>\n",
       "<style>\n",
       "    .dataframe thead tr:only-child th {\n",
       "        text-align: right;\n",
       "    }\n",
       "\n",
       "    .dataframe thead th {\n",
       "        text-align: left;\n",
       "    }\n",
       "\n",
       "    .dataframe tbody tr th {\n",
       "        vertical-align: top;\n",
       "    }\n",
       "</style>\n",
       "<table border=\"1\" class=\"dataframe\">\n",
       "  <thead>\n",
       "    <tr style=\"text-align: right;\">\n",
       "      <th></th>\n",
       "      <th>attackerIP</th>\n",
       "      <th>victimIP</th>\n",
       "      <th>victimPort</th>\n",
       "      <th>vulnName</th>\n",
       "      <th>count</th>\n",
       "      <th>time(max)</th>\n",
       "      <th>time(min)</th>\n",
       "    </tr>\n",
       "  </thead>\n",
       "  <tbody>\n",
       "    <tr>\n",
       "      <th>168</th>\n",
       "      <td>59.91.217.236</td>\n",
       "      <td>172.31.14.66</td>\n",
       "      <td>445.0</td>\n",
       "      <td>MS08067 (NetAPI)</td>\n",
       "      <td>5</td>\n",
       "      <td>1.416331e+09</td>\n",
       "      <td>1.416330e+09</td>\n",
       "    </tr>\n",
       "    <tr>\n",
       "      <th>16</th>\n",
       "      <td>117.194.34.106</td>\n",
       "      <td>172.31.14.66</td>\n",
       "      <td>445.0</td>\n",
       "      <td>MS08067 (NetAPI)</td>\n",
       "      <td>9</td>\n",
       "      <td>1.415973e+09</td>\n",
       "      <td>1.415972e+09</td>\n",
       "    </tr>\n",
       "    <tr>\n",
       "      <th>107</th>\n",
       "      <td>195.189.111.210</td>\n",
       "      <td>172.31.14.66</td>\n",
       "      <td>445.0</td>\n",
       "      <td>MS08067 (NetAPI)</td>\n",
       "      <td>8</td>\n",
       "      <td>1.416838e+09</td>\n",
       "      <td>1.416836e+09</td>\n",
       "    </tr>\n",
       "  </tbody>\n",
       "</table>\n",
       "</div>"
      ],
      "text/plain": [
       "          attackerIP      victimIP  victimPort          vulnName  count  \\\n",
       "168    59.91.217.236  172.31.14.66       445.0  MS08067 (NetAPI)      5   \n",
       "16    117.194.34.106  172.31.14.66       445.0  MS08067 (NetAPI)      9   \n",
       "107  195.189.111.210  172.31.14.66       445.0  MS08067 (NetAPI)      8   \n",
       "\n",
       "        time(max)     time(min)  \n",
       "168  1.416331e+09  1.416330e+09  \n",
       "16   1.415973e+09  1.415972e+09  \n",
       "107  1.416838e+09  1.416836e+09  "
      ]
     },
     "execution_count": 3,
     "metadata": {},
     "output_type": "execute_result"
    }
   ],
   "source": [
    "import pandas as pd\n",
    "\n",
    "df = pd.read_csv('./data/honeypot.csv')\n",
    "df.sample(3)"
   ]
  },
  {
   "cell_type": "markdown",
   "metadata": {
    "deletable": true,
    "editable": true
   },
   "source": [
    "## 2. Plot"
   ]
  },
  {
   "cell_type": "markdown",
   "metadata": {
    "deletable": true,
    "editable": true
   },
   "source": [
    "### A. Simple graphs\n",
    "* Build up a set of bindings. Simple graphs are for edge lists, or an edge list + node list.\n",
    "* See [UI Guide](https://labs.graphistry.com/graphistry/ui.html) for in-tool activity\n",
    "\n",
    "Demo graph schema:\n",
    "* Edges: Alerts linking `attackerIP -> victimIP`\n",
    "* Nodes: Synthesized from `attackerIP -> victimIP` edges\n",
    "* Default colors: Automatic based on inferred commmunity\n",
    "* Default node size: Number of edges"
   ]
  },
  {
   "cell_type": "code",
   "execution_count": 4,
   "metadata": {
    "collapsed": false,
    "deletable": true,
    "editable": true
   },
   "outputs": [],
   "source": [
    "g = graphistry.edges(df).bind(source='attackerIP', destination='victimIP')"
   ]
  },
  {
   "cell_type": "code",
   "execution_count": 5,
   "metadata": {
    "collapsed": false,
    "deletable": true,
    "editable": true
   },
   "outputs": [
    {
     "data": {
      "text/html": [
       "\n",
       "            <iframe id=\"e96a8430-1434-4123-adcb-18de70937d25\" src=\"https://labs.graphistry.com/graph/graph.html?dataset=PyGraphistry/MYF0WCN05S&type=vgraph&viztoken=8328ebe83d72faca3d621ef3d289f7c615c45775&usertag=86f11264-pygraphistry-0.9.63&splashAfter=1554743605&info=true\"\n",
       "                    allowfullscreen=\"true\" webkitallowfullscreen=\"true\" mozallowfullscreen=\"true\"\n",
       "                    oallowfullscreen=\"true\" msallowfullscreen=\"true\"\n",
       "                    style=\"width:100%; height:500px; border: 1px solid #DDD\">\n",
       "            </iframe>\n",
       "        \n",
       "            <script>\n",
       "                $(\"#e96a8430-1434-4123-adcb-18de70937d25\").bind('mousewheel', function(e) {\n",
       "                e.preventDefault();\n",
       "                });\n",
       "            </script>\n",
       "        "
      ],
      "text/plain": [
       "<IPython.core.display.HTML object>"
      ]
     },
     "execution_count": 5,
     "metadata": {},
     "output_type": "execute_result"
    }
   ],
   "source": [
    "g.plot()"
   ]
  },
  {
   "cell_type": "markdown",
   "metadata": {
    "deletable": true,
    "editable": true
   },
   "source": [
    "## B. Hypergraphs -- Plot arbitrary tables\n",
    "\n",
    "To quickly understand correlations across all your table's values, hypergraph is a convenient transformation.\n",
    "\n",
    "A hypergraph will link values occurring in the sample table row to one another. By default, the hypergraph plot does not link values directly to one another, but indirects through a node representing the row."
   ]
  },
  {
   "cell_type": "markdown",
   "metadata": {
    "deletable": true,
    "editable": true
   },
   "source": [
    "### Approach 1: Each row is a node, and links to each value in it\n",
    "\n",
    "Demo graph schema:\n",
    "* Edges: row -> attckerIP, row -> victimIP, row -> victimPort, row ->  volnName\n",
    "* Nodes: row, attackerIP, victimIP, victimPort, vulnName\n",
    "* Default colors: Automatic based on inferred commmunity\n",
    "* Default node size: Number of edges\n",
    "\n",
    "To allow nodes from the `attackerIP` and `victimIP` columns to merge together when they have the same value, instead of generating distinct nodes such as `attackerIP::127.0.0.1` and `victimIP::127.0.0.1`, we combine them into one category, `ip`. The result is one node `ip::127.0.0.1`.\n"
   ]
  },
  {
   "cell_type": "code",
   "execution_count": 6,
   "metadata": {
    "collapsed": false,
    "deletable": true,
    "editable": true
   },
   "outputs": [
    {
     "name": "stdout",
     "output_type": "stream",
     "text": [
      "('# links', 880)\n",
      "('# events', 220)\n",
      "('# attrib entities', 221)\n"
     ]
    },
    {
     "data": {
      "text/html": [
       "\n",
       "            <iframe id=\"4af02ea5-5a3a-47fe-895f-2d1f5bf1bfc4\" src=\"https://labs.graphistry.com/graph/graph.html?dataset=PyGraphistry/J14CV82PZ5&type=vgraph&viztoken=373ff71c0a24f2d5a60cb827dbbd568ed70b9f5b&usertag=86f11264-pygraphistry-0.9.63&splashAfter=1554743614&info=true\"\n",
       "                    allowfullscreen=\"true\" webkitallowfullscreen=\"true\" mozallowfullscreen=\"true\"\n",
       "                    oallowfullscreen=\"true\" msallowfullscreen=\"true\"\n",
       "                    style=\"width:100%; height:500px; border: 1px solid #DDD\">\n",
       "            </iframe>\n",
       "        \n",
       "            <script>\n",
       "                $(\"#4af02ea5-5a3a-47fe-895f-2d1f5bf1bfc4\").bind('mousewheel', function(e) {\n",
       "                e.preventDefault();\n",
       "                });\n",
       "            </script>\n",
       "        "
      ],
      "text/plain": [
       "<IPython.core.display.HTML object>"
      ]
     },
     "execution_count": 6,
     "metadata": {},
     "output_type": "execute_result"
    }
   ],
   "source": [
    "hg1 = graphistry.hypergraph(\n",
    "    df,\n",
    "    entity_types=['attackerIP', 'victimIP', 'victimPort', 'vulnName'],\n",
    "    opts={\n",
    "        'CATAGORIES': {\n",
    "            'ip': ['attackerIP', 'victimIP'] #merge nodes across these columns\n",
    "        }\n",
    "    })\n",
    "\n",
    "hg1_g = hg1['graph']\n",
    "hg1_g.plot()"
   ]
  },
  {
   "cell_type": "markdown",
   "metadata": {
    "deletable": true,
    "editable": true
   },
   "source": [
    "### Approach 2: Link values from entries\n",
    "\n",
    "For more advanced hypergraph control, we can skip the row node, and control which edges are generated, by enabling `direct`.\n",
    "\n",
    "Demo graph schema:\n",
    "* Edges: \n",
    "  * attackerIP -> victimIP, attackerIP -> victimPort, attackerIP -> vulnName\n",
    "  * victimPort -> victimIP\n",
    "  * vulnName -> victimIP\n",
    "* Nodes: attackerIP, victimIP, victimPort, vulnName\n",
    "* Default colors: Automatic based on inferred commmunity\n",
    "* Default node size: Number of edges\n"
   ]
  },
  {
   "cell_type": "code",
   "execution_count": 7,
   "metadata": {
    "collapsed": false,
    "deletable": true,
    "editable": true
   },
   "outputs": [
    {
     "name": "stdout",
     "output_type": "stream",
     "text": [
      "('# links', 1100)\n",
      "('# events', 220)\n",
      "('# attrib entities', 221)\n"
     ]
    },
    {
     "data": {
      "text/html": [
       "\n",
       "            <iframe id=\"43c247f0-e59f-4f93-a855-bbc766a698d7\" src=\"https://labs.graphistry.com/graph/graph.html?dataset=PyGraphistry/XAGCZVF5FO&type=vgraph&viztoken=c4df3a1cf31689c90a283bd636a6e960b5b19b2d&usertag=86f11264-pygraphistry-0.9.63&splashAfter=1554743616&info=true\"\n",
       "                    allowfullscreen=\"true\" webkitallowfullscreen=\"true\" mozallowfullscreen=\"true\"\n",
       "                    oallowfullscreen=\"true\" msallowfullscreen=\"true\"\n",
       "                    style=\"width:100%; height:500px; border: 1px solid #DDD\">\n",
       "            </iframe>\n",
       "        \n",
       "            <script>\n",
       "                $(\"#43c247f0-e59f-4f93-a855-bbc766a698d7\").bind('mousewheel', function(e) {\n",
       "                e.preventDefault();\n",
       "                });\n",
       "            </script>\n",
       "        "
      ],
      "text/plain": [
       "<IPython.core.display.HTML object>"
      ]
     },
     "execution_count": 7,
     "metadata": {},
     "output_type": "execute_result"
    }
   ],
   "source": [
    "hg2 = graphistry.hypergraph(\n",
    "    df,\n",
    "    entity_types=['attackerIP', 'victimIP', 'victimPort', 'vulnName'],\n",
    "    direct=True,\n",
    "    opts={\n",
    "        'EDGES': { ### OPTIONAL, DEFAULTS TO CREATING ALL-TO-ALL\n",
    "            'attackerIP': ['victimIP', 'victimPort', 'vulnName'],\n",
    "            'victimPort': ['victimIP'],\n",
    "            'vulnName': ['victimIP']         \n",
    "        },\n",
    "        'CATAGORIES': {\n",
    "            'ip': ['attackerIP', 'victimIP'] #merge nodes across these columns\n",
    "        }\n",
    "    })\n",
    "\n",
    "hg2_g = hg2['graph']\n",
    "hg2_g.plot()"
   ]
  },
  {
   "cell_type": "markdown",
   "metadata": {
    "deletable": true,
    "editable": true
   },
   "source": [
    "## 3. Advanced bindings\n",
    "\n",
    "By default, you do not need to explictly create a table of nodes. However, if you do provide one, you can then drive visual styles based on node attributes.\n",
    "\n",
    "Demo schema:\n",
    "\n",
    "* Point size based on number of attacks\n",
    "* Point color based on attacker vs victim\n",
    "  * Color palette values: https://labs.graphistry.com/graphistry/docs/palette.html \n",
    "* Save dynamic workbook settings across sessions"
   ]
  },
  {
   "cell_type": "code",
   "execution_count": 12,
   "metadata": {
    "collapsed": false,
    "deletable": true,
    "editable": true
   },
   "outputs": [
    {
     "data": {
      "text/html": [
       "<div>\n",
       "<style>\n",
       "    .dataframe thead tr:only-child th {\n",
       "        text-align: right;\n",
       "    }\n",
       "\n",
       "    .dataframe thead th {\n",
       "        text-align: left;\n",
       "    }\n",
       "\n",
       "    .dataframe tbody tr th {\n",
       "        vertical-align: top;\n",
       "    }\n",
       "</style>\n",
       "<table border=\"1\" class=\"dataframe\">\n",
       "  <thead>\n",
       "    <tr style=\"text-align: right;\">\n",
       "      <th></th>\n",
       "      <th>count</th>\n",
       "      <th>node_id</th>\n",
       "      <th>type</th>\n",
       "    </tr>\n",
       "  </thead>\n",
       "  <tbody>\n",
       "    <tr>\n",
       "      <th>32</th>\n",
       "      <td>3.0</td>\n",
       "      <td>124.123.70.99</td>\n",
       "      <td>attacker</td>\n",
       "    </tr>\n",
       "    <tr>\n",
       "      <th>177</th>\n",
       "      <td>2.0</td>\n",
       "      <td>85.192.166.151</td>\n",
       "      <td>attacker</td>\n",
       "    </tr>\n",
       "    <tr>\n",
       "      <th>2</th>\n",
       "      <td>6.0</td>\n",
       "      <td>1.235.32.141</td>\n",
       "      <td>attacker</td>\n",
       "    </tr>\n",
       "  </tbody>\n",
       "</table>\n",
       "</div>"
      ],
      "text/plain": [
       "     count         node_id      type\n",
       "32     3.0   124.123.70.99  attacker\n",
       "177    2.0  85.192.166.151  attacker\n",
       "2      6.0    1.235.32.141  attacker"
      ]
     },
     "execution_count": 12,
     "metadata": {},
     "output_type": "execute_result"
    }
   ],
   "source": [
    "# 1. Create nodes, tag type as `attacker`\n",
    "\n",
    "targets_df = df[['victimIP']].drop_duplicates().rename(columns={'victimIP': 'node_id'})\\\n",
    "    .assign(type='victim')\n",
    "\n",
    "attackers_df = df.groupby(['attackerIP']).agg({'count': {'attacks': 'sum'}}).reset_index()\n",
    "attackers_df.columns = attackers_df.columns.get_level_values(0)\n",
    "attackers_df = attackers_df.rename(columns={'attackerIP': 'node_id'}).assign(type='attacker')\n",
    "attackers_df\n",
    "\n",
    "nodes_df = pd.concat([targets_df, attackers_df], ignore_index=True)\n",
    "nodes_df.sample(3)"
   ]
  },
  {
   "cell_type": "code",
   "execution_count": 9,
   "metadata": {
    "collapsed": false,
    "deletable": true,
    "editable": true
   },
   "outputs": [
    {
     "data": {
      "text/html": [
       "\n",
       "            <iframe id=\"580d5913-0808-45ed-a83b-1f0c5f1502ab\" src=\"https://labs.graphistry.com/graph/graph.html?dataset=PyGraphistry/KLAUCJZKZG&type=vgraph&viztoken=bd50dadf7bb2159955bf33481e50d4db9eac334f&usertag=86f11264-pygraphistry-0.9.63&splashAfter=1554743617&info=true&workbook=my_analysis_wb_1\"\n",
       "                    allowfullscreen=\"true\" webkitallowfullscreen=\"true\" mozallowfullscreen=\"true\"\n",
       "                    oallowfullscreen=\"true\" msallowfullscreen=\"true\"\n",
       "                    style=\"width:100%; height:500px; border: 1px solid #DDD\">\n",
       "            </iframe>\n",
       "        \n",
       "            <script>\n",
       "                $(\"#580d5913-0808-45ed-a83b-1f0c5f1502ab\").bind('mousewheel', function(e) {\n",
       "                e.preventDefault();\n",
       "                });\n",
       "            </script>\n",
       "        "
      ],
      "text/plain": [
       "<IPython.core.display.HTML object>"
      ]
     },
     "execution_count": 9,
     "metadata": {},
     "output_type": "execute_result"
    }
   ],
   "source": [
    "# 2. Plot nodes, and color based on type `attacker`\n",
    "\n",
    "g2 = g.nodes(nodes_df).bind(node='node_id')\n",
    "\n",
    "#optional\n",
    "nodes_df['my_color'] = nodes_df['type'].apply(lambda v: 0 if v == 'attacker' else 2)\n",
    "nodes_df = nodes_df.fillna(value={'count': (nodes_df['count'].max() + nodes_df['count'].min()) / 2.0 })\n",
    "g2 = g2.bind(point_size = 'count', point_color='my_color')\n",
    "g2 = g2.settings(url_params={'workbook': 'my_analysis_wb_1'})\n",
    "\n",
    "g2.plot()"
   ]
  },
  {
   "cell_type": "markdown",
   "metadata": {
    "deletable": true,
    "editable": true
   },
   "source": [
    "### Advanced bindings work with hypergraphs too"
   ]
  },
  {
   "cell_type": "code",
   "execution_count": 10,
   "metadata": {
    "collapsed": false,
    "deletable": true,
    "editable": true,
    "scrolled": true
   },
   "outputs": [
    {
     "data": {
      "text/html": [
       "<div>\n",
       "<style>\n",
       "    .dataframe thead tr:only-child th {\n",
       "        text-align: right;\n",
       "    }\n",
       "\n",
       "    .dataframe thead th {\n",
       "        text-align: left;\n",
       "    }\n",
       "\n",
       "    .dataframe tbody tr th {\n",
       "        vertical-align: top;\n",
       "    }\n",
       "</style>\n",
       "<table border=\"1\" class=\"dataframe\">\n",
       "  <thead>\n",
       "    <tr style=\"text-align: right;\">\n",
       "      <th></th>\n",
       "      <th>attackerIP</th>\n",
       "      <th>nodeID</th>\n",
       "      <th>nodeTitle</th>\n",
       "      <th>type</th>\n",
       "      <th>victimIP</th>\n",
       "      <th>victimPort</th>\n",
       "      <th>vulnName</th>\n",
       "      <th>category</th>\n",
       "      <th>color</th>\n",
       "    </tr>\n",
       "  </thead>\n",
       "  <tbody>\n",
       "    <tr>\n",
       "      <th>112</th>\n",
       "      <td>220.172.133.215</td>\n",
       "      <td>attackerIP::220.172.133.215</td>\n",
       "      <td>220.172.133.215</td>\n",
       "      <td>attackerIP</td>\n",
       "      <td>NaN</td>\n",
       "      <td>NaN</td>\n",
       "      <td>NaN</td>\n",
       "      <td>attackerIP</td>\n",
       "      <td>0</td>\n",
       "    </tr>\n",
       "    <tr>\n",
       "      <th>57</th>\n",
       "      <td>179.25.208.154</td>\n",
       "      <td>attackerIP::179.25.208.154</td>\n",
       "      <td>179.25.208.154</td>\n",
       "      <td>attackerIP</td>\n",
       "      <td>NaN</td>\n",
       "      <td>NaN</td>\n",
       "      <td>NaN</td>\n",
       "      <td>attackerIP</td>\n",
       "      <td>0</td>\n",
       "    </tr>\n",
       "    <tr>\n",
       "      <th>121</th>\n",
       "      <td>31.135.61.170</td>\n",
       "      <td>attackerIP::31.135.61.170</td>\n",
       "      <td>31.135.61.170</td>\n",
       "      <td>attackerIP</td>\n",
       "      <td>NaN</td>\n",
       "      <td>NaN</td>\n",
       "      <td>NaN</td>\n",
       "      <td>attackerIP</td>\n",
       "      <td>0</td>\n",
       "    </tr>\n",
       "  </tbody>\n",
       "</table>\n",
       "</div>"
      ],
      "text/plain": [
       "          attackerIP                       nodeID        nodeTitle  \\\n",
       "112  220.172.133.215  attackerIP::220.172.133.215  220.172.133.215   \n",
       "57    179.25.208.154   attackerIP::179.25.208.154   179.25.208.154   \n",
       "121    31.135.61.170    attackerIP::31.135.61.170    31.135.61.170   \n",
       "\n",
       "           type victimIP  victimPort vulnName    category  color  \n",
       "112  attackerIP      NaN         NaN      NaN  attackerIP      0  \n",
       "57   attackerIP      NaN         NaN      NaN  attackerIP      0  \n",
       "121  attackerIP      NaN         NaN      NaN  attackerIP      0  "
      ]
     },
     "execution_count": 10,
     "metadata": {},
     "output_type": "execute_result"
    }
   ],
   "source": [
    "nodes = hg2_g._nodes\n",
    "\n",
    "types = list(nodes['type'].unique())\n",
    "nodes_with_colors = nodes.assign(color=nodes.type.apply(lambda t: types.index(t)))\n",
    "nodes_with_colors.sample(3)"
   ]
  },
  {
   "cell_type": "code",
   "execution_count": 11,
   "metadata": {
    "collapsed": false,
    "deletable": true,
    "editable": true
   },
   "outputs": [
    {
     "data": {
      "text/html": [
       "\n",
       "            <iframe id=\"4ab2fd3f-1f58-4a7a-bc3d-537779e791b6\" src=\"https://labs.graphistry.com/graph/graph.html?dataset=PyGraphistry/GHGBA59L5I&type=vgraph&viztoken=2b7ac0301bb4371eafd8da72d377d49fe543b67f&usertag=86f11264-pygraphistry-0.9.63&splashAfter=1554743618&info=true&workbook=my_analysis_wb_2\"\n",
       "                    allowfullscreen=\"true\" webkitallowfullscreen=\"true\" mozallowfullscreen=\"true\"\n",
       "                    oallowfullscreen=\"true\" msallowfullscreen=\"true\"\n",
       "                    style=\"width:100%; height:500px; border: 1px solid #DDD\">\n",
       "            </iframe>\n",
       "        \n",
       "            <script>\n",
       "                $(\"#4ab2fd3f-1f58-4a7a-bc3d-537779e791b6\").bind('mousewheel', function(e) {\n",
       "                e.preventDefault();\n",
       "                });\n",
       "            </script>\n",
       "        "
      ],
      "text/plain": [
       "<IPython.core.display.HTML object>"
      ]
     },
     "execution_count": 11,
     "metadata": {},
     "output_type": "execute_result"
    }
   ],
   "source": [
    "hg2_g\\\n",
    "  .nodes(nodes_with_colors).bind(point_color='color')\\\n",
    "  .settings(url_params={'workbook': 'my_analysis_wb_2'})\\\n",
    "  .plot()"
   ]
  },
  {
   "cell_type": "markdown",
   "metadata": {
    "deletable": true,
    "editable": true
   },
   "source": [
    "## Further docs:\n",
    "  - [UI Guide](https://labs.graphistry.com/graphistry/ui.html)\n",
    "  - [More demos: database connectors, ...](demos_databases_apis)\n",
    "  - [CSV upload notebook app](upload_csv_miniapp.ipynb)"
   ]
  },
  {
   "cell_type": "code",
   "execution_count": null,
   "metadata": {
    "collapsed": true,
    "deletable": true,
    "editable": true
   },
   "outputs": [],
   "source": []
  },
  {
   "cell_type": "code",
   "execution_count": null,
   "metadata": {
    "collapsed": true
   },
   "outputs": [],
   "source": []
  }
 ],
 "metadata": {
  "kernelspec": {
   "display_name": "Python 2",
   "language": "python",
   "name": "python2"
  },
  "language_info": {
   "codemirror_mode": {
    "name": "ipython",
    "version": 2
   },
   "file_extension": ".py",
   "mimetype": "text/x-python",
   "name": "python",
   "nbconvert_exporter": "python",
   "pygments_lexer": "ipython2",
   "version": "2.7.13"
  }
 },
 "nbformat": 4,
 "nbformat_minor": 2
}
