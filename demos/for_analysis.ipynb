{
 "cells": [
  {
   "cell_type": "markdown",
   "metadata": {
    "deletable": true,
    "editable": true
   },
   "source": [
    "# Tutorial: Data Analysis in Graphistry\n",
    "\n",
    "1. Load data\n",
    "2. Plot: \n",
    "  - Simple: input is a list of edges\n",
    "  - Arbitrary: input is a table (_hypergraph_ transform)\n",
    "3. Advanced bindings\n",
    "4. Further docs\n",
    "  - [UI Guide](https://labs.graphistry.com/graphistry/ui.html)\n",
    "  - [More demos: database connectors, ...](https://github.com/graphistry/pygraphistry/tree/master/demos)\n",
    "  - [CSV upload notebook app](upload_csv_miniapp.ipynb)"
   ]
  },
  {
   "cell_type": "code",
   "execution_count": 3,
   "metadata": {
    "collapsed": true,
    "deletable": true,
    "editable": true
   },
   "outputs": [],
   "source": [
    "import graphistry\n",
    "#graphistry.register(key='MY_API_KEY', server='labs.graphistry.com')"
   ]
  },
  {
   "cell_type": "markdown",
   "metadata": {
    "deletable": true,
    "editable": true
   },
   "source": [
    "## 1. Load CSV\n",
    "Graphistry works seamlessly with Pandas dataframes"
   ]
  },
  {
   "cell_type": "code",
   "execution_count": 14,
   "metadata": {
    "collapsed": false,
    "deletable": true,
    "editable": true
   },
   "outputs": [
    {
     "data": {
      "text/html": [
       "<div>\n",
       "<style>\n",
       "    .dataframe thead tr:only-child th {\n",
       "        text-align: right;\n",
       "    }\n",
       "\n",
       "    .dataframe thead th {\n",
       "        text-align: left;\n",
       "    }\n",
       "\n",
       "    .dataframe tbody tr th {\n",
       "        vertical-align: top;\n",
       "    }\n",
       "</style>\n",
       "<table border=\"1\" class=\"dataframe\">\n",
       "  <thead>\n",
       "    <tr style=\"text-align: right;\">\n",
       "      <th></th>\n",
       "      <th>attackerIP</th>\n",
       "      <th>victimIP</th>\n",
       "      <th>victimPort</th>\n",
       "      <th>vulnName</th>\n",
       "      <th>count</th>\n",
       "      <th>time(max)</th>\n",
       "      <th>time(min)</th>\n",
       "    </tr>\n",
       "  </thead>\n",
       "  <tbody>\n",
       "    <tr>\n",
       "      <th>23</th>\n",
       "      <td>119.157.215.18</td>\n",
       "      <td>172.31.14.66</td>\n",
       "      <td>445.0</td>\n",
       "      <td>MS08067 (NetAPI)</td>\n",
       "      <td>4</td>\n",
       "      <td>1.419022e+09</td>\n",
       "      <td>1.419021e+09</td>\n",
       "    </tr>\n",
       "    <tr>\n",
       "      <th>102</th>\n",
       "      <td>191.116.125.233</td>\n",
       "      <td>172.31.14.66</td>\n",
       "      <td>445.0</td>\n",
       "      <td>MS08067 (NetAPI)</td>\n",
       "      <td>9</td>\n",
       "      <td>1.420004e+09</td>\n",
       "      <td>1.420003e+09</td>\n",
       "    </tr>\n",
       "    <tr>\n",
       "      <th>178</th>\n",
       "      <td>77.90.250.248</td>\n",
       "      <td>172.31.14.66</td>\n",
       "      <td>445.0</td>\n",
       "      <td>MS08067 (NetAPI)</td>\n",
       "      <td>1</td>\n",
       "      <td>1.416523e+09</td>\n",
       "      <td>1.416523e+09</td>\n",
       "    </tr>\n",
       "  </tbody>\n",
       "</table>\n",
       "</div>"
      ],
      "text/plain": [
       "          attackerIP      victimIP  victimPort          vulnName  count  \\\n",
       "23    119.157.215.18  172.31.14.66       445.0  MS08067 (NetAPI)      4   \n",
       "102  191.116.125.233  172.31.14.66       445.0  MS08067 (NetAPI)      9   \n",
       "178    77.90.250.248  172.31.14.66       445.0  MS08067 (NetAPI)      1   \n",
       "\n",
       "        time(max)     time(min)  \n",
       "23   1.419022e+09  1.419021e+09  \n",
       "102  1.420004e+09  1.420003e+09  \n",
       "178  1.416523e+09  1.416523e+09  "
      ]
     },
     "execution_count": 14,
     "metadata": {},
     "output_type": "execute_result"
    }
   ],
   "source": [
    "import pandas as pd\n",
    "\n",
    "df = pd.read_csv('./data/honeypot.csv')\n",
    "df.sample(3)"
   ]
  },
  {
   "cell_type": "markdown",
   "metadata": {
    "deletable": true,
    "editable": true
   },
   "source": [
    "## 2. Plot"
   ]
  },
  {
   "cell_type": "markdown",
   "metadata": {
    "deletable": true,
    "editable": true
   },
   "source": [
    "### A. Simple graphs\n",
    "* Build up a set of bindings. Simple graphs are for edge lists, or an edge list + node list.\n",
    "* See [UI Guide](https://labs.graphistry.com/graphistry/ui.html) for in-tool activity\n"
   ]
  },
  {
   "cell_type": "code",
   "execution_count": 8,
   "metadata": {
    "collapsed": false,
    "deletable": true,
    "editable": true
   },
   "outputs": [],
   "source": [
    "g = graphistry.edges(df).bind(source='attackerIP', destination='victimIP')"
   ]
  },
  {
   "cell_type": "code",
   "execution_count": 7,
   "metadata": {
    "collapsed": false,
    "deletable": true,
    "editable": true
   },
   "outputs": [
    {
     "data": {
      "text/html": [
       "\n",
       "            <iframe id=\"8a724437-0ec3-4198-aa8e-ae5598012383\" src=\"https://labs.graphistry.com/graph/graph.html?dataset=PyGraphistry/SBL1UG6JRQ&type=vgraph&viztoken=1f5b5bea8736d5ff423fcfdd1428fcfcedf4baf6&usertag=86f11264-pygraphistry-0.9.63&splashAfter=1554616957&info=true\"\n",
       "                    allowfullscreen=\"true\" webkitallowfullscreen=\"true\" mozallowfullscreen=\"true\"\n",
       "                    oallowfullscreen=\"true\" msallowfullscreen=\"true\"\n",
       "                    style=\"width:100%; height:500px; border: 1px solid #DDD\">\n",
       "            </iframe>\n",
       "        \n",
       "            <script>\n",
       "                $(\"#8a724437-0ec3-4198-aa8e-ae5598012383\").bind('mousewheel', function(e) {\n",
       "                e.preventDefault();\n",
       "                });\n",
       "            </script>\n",
       "        "
      ],
      "text/plain": [
       "<IPython.core.display.HTML object>"
      ]
     },
     "execution_count": 7,
     "metadata": {},
     "output_type": "execute_result"
    }
   ],
   "source": [
    "g.plot()"
   ]
  },
  {
   "cell_type": "markdown",
   "metadata": {
    "deletable": true,
    "editable": true
   },
   "source": [
    "## B. Hypergraphs -- Plot arbitrary tables"
   ]
  },
  {
   "cell_type": "markdown",
   "metadata": {
    "deletable": true,
    "editable": true
   },
   "source": [
    "### Approach 1: Each row is a node, and link to each value in it"
   ]
  },
  {
   "cell_type": "code",
   "execution_count": 40,
   "metadata": {
    "collapsed": false,
    "deletable": true,
    "editable": true
   },
   "outputs": [
    {
     "name": "stdout",
     "output_type": "stream",
     "text": [
      "('# links', 880)\n",
      "('# events', 220)\n",
      "('# attrib entities', 221)\n"
     ]
    },
    {
     "data": {
      "text/html": [
       "\n",
       "            <iframe id=\"a91ada33-259a-41a5-a46d-cfb9856f72aa\" src=\"https://labs.graphistry.com/graph/graph.html?dataset=PyGraphistry/IRQK3LHTA9&type=vgraph&viztoken=687f863945a0bbaeab67b472d60bca9c796efae7&usertag=86f11264-pygraphistry-0.9.63&splashAfter=1554618601&info=true\"\n",
       "                    allowfullscreen=\"true\" webkitallowfullscreen=\"true\" mozallowfullscreen=\"true\"\n",
       "                    oallowfullscreen=\"true\" msallowfullscreen=\"true\"\n",
       "                    style=\"width:100%; height:500px; border: 1px solid #DDD\">\n",
       "            </iframe>\n",
       "        \n",
       "            <script>\n",
       "                $(\"#a91ada33-259a-41a5-a46d-cfb9856f72aa\").bind('mousewheel', function(e) {\n",
       "                e.preventDefault();\n",
       "                });\n",
       "            </script>\n",
       "        "
      ],
      "text/plain": [
       "<IPython.core.display.HTML object>"
      ]
     },
     "execution_count": 40,
     "metadata": {},
     "output_type": "execute_result"
    }
   ],
   "source": [
    "hg1 = graphistry.hypergraph(\n",
    "    df,\n",
    "    entity_types=['attackerIP', 'victimIP', 'victimPort', 'vulnName'],\n",
    "    opts={\n",
    "        'CATAGORIES': {\n",
    "            'ip': ['attackerIP', 'victimIP'] #merge nodes across these columns\n",
    "        }\n",
    "    })\n",
    "\n",
    "hg1_g = hg1['graph']\n",
    "hg1_g.plot()"
   ]
  },
  {
   "cell_type": "markdown",
   "metadata": {
    "deletable": true,
    "editable": true
   },
   "source": [
    "### Approach 2: Link values from entries"
   ]
  },
  {
   "cell_type": "code",
   "execution_count": 41,
   "metadata": {
    "collapsed": false,
    "deletable": true,
    "editable": true
   },
   "outputs": [
    {
     "name": "stdout",
     "output_type": "stream",
     "text": [
      "('# links', 1100)\n",
      "('# events', 220)\n",
      "('# attrib entities', 221)\n"
     ]
    },
    {
     "data": {
      "text/html": [
       "\n",
       "            <iframe id=\"bc4f4bc1-219e-40a3-8834-2ac7be46bef3\" src=\"https://labs.graphistry.com/graph/graph.html?dataset=PyGraphistry/ZREA59LRZY&type=vgraph&viztoken=1853a7efc4004498e10938e5cbde5b39cd874331&usertag=86f11264-pygraphistry-0.9.63&splashAfter=1554618610&info=true\"\n",
       "                    allowfullscreen=\"true\" webkitallowfullscreen=\"true\" mozallowfullscreen=\"true\"\n",
       "                    oallowfullscreen=\"true\" msallowfullscreen=\"true\"\n",
       "                    style=\"width:100%; height:500px; border: 1px solid #DDD\">\n",
       "            </iframe>\n",
       "        \n",
       "            <script>\n",
       "                $(\"#bc4f4bc1-219e-40a3-8834-2ac7be46bef3\").bind('mousewheel', function(e) {\n",
       "                e.preventDefault();\n",
       "                });\n",
       "            </script>\n",
       "        "
      ],
      "text/plain": [
       "<IPython.core.display.HTML object>"
      ]
     },
     "execution_count": 41,
     "metadata": {},
     "output_type": "execute_result"
    }
   ],
   "source": [
    "hg2 = graphistry.hypergraph(\n",
    "    df,\n",
    "    entity_types=['attackerIP', 'victimIP', 'victimPort', 'vulnName'],\n",
    "    direct=True,\n",
    "    opts={\n",
    "        'EDGES': { ### OPTIONAL, DEFAULTS TO CREATING ALL-TO-ALL\n",
    "            'attackerIP': ['victimIP', 'victimPort', 'vulnName'],\n",
    "            'victimPort': ['victimIP'],\n",
    "            'vulnName': ['victimIP']         \n",
    "        },\n",
    "        'CATAGORIES': {\n",
    "            'ip': ['attackerIP', 'victimIP'] #merge nodes across these columns\n",
    "        }\n",
    "    })\n",
    "\n",
    "hg2_g = hg2['graph']\n",
    "hg2_g.plot()"
   ]
  },
  {
   "cell_type": "markdown",
   "metadata": {
    "deletable": true,
    "editable": true
   },
   "source": [
    "## 3. Advanced bindings\n",
    "* Point size based on number of attacks\n",
    "* Point color based on attacker vs victim\n",
    "  * Color palette values: https://labs.graphistry.com/graphistry/docs/palette.html \n",
    "* Save dynamic workbook settings across sessions"
   ]
  },
  {
   "cell_type": "code",
   "execution_count": 42,
   "metadata": {
    "collapsed": false,
    "deletable": true,
    "editable": true
   },
   "outputs": [
    {
     "data": {
      "text/html": [
       "<div>\n",
       "<style>\n",
       "    .dataframe thead tr:only-child th {\n",
       "        text-align: right;\n",
       "    }\n",
       "\n",
       "    .dataframe thead th {\n",
       "        text-align: left;\n",
       "    }\n",
       "\n",
       "    .dataframe tbody tr th {\n",
       "        vertical-align: top;\n",
       "    }\n",
       "</style>\n",
       "<table border=\"1\" class=\"dataframe\">\n",
       "  <thead>\n",
       "    <tr style=\"text-align: right;\">\n",
       "      <th></th>\n",
       "      <th>count</th>\n",
       "      <th>node_id</th>\n",
       "      <th>type</th>\n",
       "    </tr>\n",
       "  </thead>\n",
       "  <tbody>\n",
       "    <tr>\n",
       "      <th>124</th>\n",
       "      <td>7.0</td>\n",
       "      <td>31.207.231.61</td>\n",
       "      <td>attacker</td>\n",
       "    </tr>\n",
       "    <tr>\n",
       "      <th>170</th>\n",
       "      <td>11.0</td>\n",
       "      <td>81.198.39.193</td>\n",
       "      <td>attacker</td>\n",
       "    </tr>\n",
       "    <tr>\n",
       "      <th>179</th>\n",
       "      <td>23.0</td>\n",
       "      <td>85.25.226.156</td>\n",
       "      <td>attacker</td>\n",
       "    </tr>\n",
       "  </tbody>\n",
       "</table>\n",
       "</div>"
      ],
      "text/plain": [
       "     count        node_id      type\n",
       "124    7.0  31.207.231.61  attacker\n",
       "170   11.0  81.198.39.193  attacker\n",
       "179   23.0  85.25.226.156  attacker"
      ]
     },
     "execution_count": 42,
     "metadata": {},
     "output_type": "execute_result"
    }
   ],
   "source": [
    "# Create nodes\n",
    "\n",
    "targets_df = df[['victimIP']].drop_duplicates().rename(columns={'victimIP': 'node_id'})\\\n",
    "    .assign(type='victim')\n",
    "\n",
    "attackers_df = df.groupby(['attackerIP']).agg({'count': {'attacks': 'sum'}}).reset_index()\n",
    "attackers_df.columns = attackers_df.columns.get_level_values(0)\n",
    "attackers_df = attackers_df.rename(columns={'attackerIP': 'node_id'}).assign(type='attacker')\n",
    "attackers_df\n",
    "\n",
    "nodes_df = pd.concat([targets_df, attackers_df], ignore_index=True)\n",
    "nodes_df.sample(3)"
   ]
  },
  {
   "cell_type": "code",
   "execution_count": 64,
   "metadata": {
    "collapsed": false,
    "deletable": true,
    "editable": true
   },
   "outputs": [
    {
     "data": {
      "text/html": [
       "\n",
       "            <iframe id=\"afb33193-cb4d-4a52-a3e9-abfdd6b701e6\" src=\"https://labs.graphistry.com/graph/graph.html?dataset=PyGraphistry/4ZD3GPI6ZZ&type=vgraph&viztoken=c2be8bc9e02e194b074a15430b9a21bf59124216&usertag=86f11264-pygraphistry-0.9.63&splashAfter=1554619081&info=true&workbook=my_analysis_wb_1\"\n",
       "                    allowfullscreen=\"true\" webkitallowfullscreen=\"true\" mozallowfullscreen=\"true\"\n",
       "                    oallowfullscreen=\"true\" msallowfullscreen=\"true\"\n",
       "                    style=\"width:100%; height:500px; border: 1px solid #DDD\">\n",
       "            </iframe>\n",
       "        \n",
       "            <script>\n",
       "                $(\"#afb33193-cb4d-4a52-a3e9-abfdd6b701e6\").bind('mousewheel', function(e) {\n",
       "                e.preventDefault();\n",
       "                });\n",
       "            </script>\n",
       "        "
      ],
      "text/plain": [
       "<IPython.core.display.HTML object>"
      ]
     },
     "execution_count": 64,
     "metadata": {},
     "output_type": "execute_result"
    }
   ],
   "source": [
    "g2 = g.nodes(nodes_df).bind(node='node_id')\n",
    "\n",
    "#optional\n",
    "nodes_df['my_color'] = nodes_df['type'].apply(lambda v: 0 if v == 'attacker' else 2)\n",
    "nodes_df = nodes_df.fillna(value={'count': (nodes_df['count'].max() + nodes_df['count'].min()) / 2.0 })\n",
    "g2 = g2.bind(point_size = 'count', point_color='my_color')\n",
    "g2 = g2.settings(url_params={'workbook': 'my_analysis_wb_1'})\n",
    "\n",
    "g2.plot()"
   ]
  },
  {
   "cell_type": "markdown",
   "metadata": {
    "deletable": true,
    "editable": true
   },
   "source": [
    "### Advanced bindings work with hypergraphs too"
   ]
  },
  {
   "cell_type": "code",
   "execution_count": 62,
   "metadata": {
    "collapsed": false,
    "deletable": true,
    "editable": true,
    "scrolled": true
   },
   "outputs": [
    {
     "data": {
      "text/html": [
       "<div>\n",
       "<style>\n",
       "    .dataframe thead tr:only-child th {\n",
       "        text-align: right;\n",
       "    }\n",
       "\n",
       "    .dataframe thead th {\n",
       "        text-align: left;\n",
       "    }\n",
       "\n",
       "    .dataframe tbody tr th {\n",
       "        vertical-align: top;\n",
       "    }\n",
       "</style>\n",
       "<table border=\"1\" class=\"dataframe\">\n",
       "  <thead>\n",
       "    <tr style=\"text-align: right;\">\n",
       "      <th></th>\n",
       "      <th>attackerIP</th>\n",
       "      <th>nodeID</th>\n",
       "      <th>nodeTitle</th>\n",
       "      <th>type</th>\n",
       "      <th>victimIP</th>\n",
       "      <th>victimPort</th>\n",
       "      <th>vulnName</th>\n",
       "      <th>category</th>\n",
       "      <th>color</th>\n",
       "    </tr>\n",
       "  </thead>\n",
       "  <tbody>\n",
       "    <tr>\n",
       "      <th>58</th>\n",
       "      <td>180.178.153.209</td>\n",
       "      <td>attackerIP::180.178.153.209</td>\n",
       "      <td>180.178.153.209</td>\n",
       "      <td>attackerIP</td>\n",
       "      <td>NaN</td>\n",
       "      <td>NaN</td>\n",
       "      <td>NaN</td>\n",
       "      <td>attackerIP</td>\n",
       "      <td>0</td>\n",
       "    </tr>\n",
       "    <tr>\n",
       "      <th>23</th>\n",
       "      <td>119.157.215.18</td>\n",
       "      <td>attackerIP::119.157.215.18</td>\n",
       "      <td>119.157.215.18</td>\n",
       "      <td>attackerIP</td>\n",
       "      <td>NaN</td>\n",
       "      <td>NaN</td>\n",
       "      <td>NaN</td>\n",
       "      <td>attackerIP</td>\n",
       "      <td>0</td>\n",
       "    </tr>\n",
       "    <tr>\n",
       "      <th>39</th>\n",
       "      <td>173.215.217.47</td>\n",
       "      <td>attackerIP::173.215.217.47</td>\n",
       "      <td>173.215.217.47</td>\n",
       "      <td>attackerIP</td>\n",
       "      <td>NaN</td>\n",
       "      <td>NaN</td>\n",
       "      <td>NaN</td>\n",
       "      <td>attackerIP</td>\n",
       "      <td>0</td>\n",
       "    </tr>\n",
       "  </tbody>\n",
       "</table>\n",
       "</div>"
      ],
      "text/plain": [
       "         attackerIP                       nodeID        nodeTitle        type  \\\n",
       "58  180.178.153.209  attackerIP::180.178.153.209  180.178.153.209  attackerIP   \n",
       "23   119.157.215.18   attackerIP::119.157.215.18   119.157.215.18  attackerIP   \n",
       "39   173.215.217.47   attackerIP::173.215.217.47   173.215.217.47  attackerIP   \n",
       "\n",
       "   victimIP  victimPort vulnName    category  color  \n",
       "58      NaN         NaN      NaN  attackerIP      0  \n",
       "23      NaN         NaN      NaN  attackerIP      0  \n",
       "39      NaN         NaN      NaN  attackerIP      0  "
      ]
     },
     "execution_count": 62,
     "metadata": {},
     "output_type": "execute_result"
    }
   ],
   "source": [
    "nodes = hg2_g._nodes\n",
    "\n",
    "types = list(nodes['type'].unique())\n",
    "nodes_with_colors = nodes.assign(color=nodes.type.apply(lambda t: types.index(t)))\n",
    "nodes_with_colors.sample(3)"
   ]
  },
  {
   "cell_type": "code",
   "execution_count": 65,
   "metadata": {
    "collapsed": false,
    "deletable": true,
    "editable": true
   },
   "outputs": [
    {
     "data": {
      "text/html": [
       "\n",
       "            <iframe id=\"d8a7ad27-f1f8-4a60-9d56-a39964850a3f\" src=\"https://labs.graphistry.com/graph/graph.html?dataset=PyGraphistry/HENVTM801B&type=vgraph&viztoken=54e09f9e53b26565d78b55ea3ded657152926bbd&usertag=86f11264-pygraphistry-0.9.63&splashAfter=1554619121&info=true&workbook=my_analysis_wb_2\"\n",
       "                    allowfullscreen=\"true\" webkitallowfullscreen=\"true\" mozallowfullscreen=\"true\"\n",
       "                    oallowfullscreen=\"true\" msallowfullscreen=\"true\"\n",
       "                    style=\"width:100%; height:500px; border: 1px solid #DDD\">\n",
       "            </iframe>\n",
       "        \n",
       "            <script>\n",
       "                $(\"#d8a7ad27-f1f8-4a60-9d56-a39964850a3f\").bind('mousewheel', function(e) {\n",
       "                e.preventDefault();\n",
       "                });\n",
       "            </script>\n",
       "        "
      ],
      "text/plain": [
       "<IPython.core.display.HTML object>"
      ]
     },
     "execution_count": 65,
     "metadata": {},
     "output_type": "execute_result"
    }
   ],
   "source": [
    "hg2_g\\\n",
    "  .nodes(nodes_with_colors).bind(point_color='color')\\\n",
    "  .settings(url_params={'workbook': 'my_analysis_wb_2'})\\\n",
    "  .plot()"
   ]
  },
  {
   "cell_type": "markdown",
   "metadata": {
    "deletable": true,
    "editable": true
   },
   "source": [
    "## Further docs:\n",
    "  - [UI Guide](https://labs.graphistry.com/graphistry/ui.html)\n",
    "  - [More demos: database connectors, ...](https://github.com/graphistry/pygraphistry/tree/master/demos)\n",
    "  - [CSV upload notebook app](upload_csv_miniapp.ipynb)"
   ]
  },
  {
   "cell_type": "code",
   "execution_count": null,
   "metadata": {
    "collapsed": true,
    "deletable": true,
    "editable": true
   },
   "outputs": [],
   "source": []
  }
 ],
 "metadata": {
  "kernelspec": {
   "display_name": "Python 2",
   "language": "python",
   "name": "python2"
  },
  "language_info": {
   "codemirror_mode": {
    "name": "ipython",
    "version": 2
   },
   "file_extension": ".py",
   "mimetype": "text/x-python",
   "name": "python",
   "nbconvert_exporter": "python",
   "pygments_lexer": "ipython2",
   "version": "2.7.13"
  }
 },
 "nbformat": 4,
 "nbformat_minor": 2
}
