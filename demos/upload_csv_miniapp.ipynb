{
 "cells": [
  {
   "cell_type": "markdown",
   "metadata": {
    "colab_type": "text",
    "deletable": true,
    "editable": true,
    "id": "EXVErRL2I6Yo"
   },
   "source": [
    "# Visualize CSV Mini-App\n",
    "\n",
    "* Jupyter: `File` -> `Make a copy`  \n",
    "  Colab: `File` -> `Save a copy in Drive`\n",
    "* Run notebook cells by pressing `shift-enter`\n",
    "* Either edit annd run top cells one-by-one, or edit and run the self-contained version at the bottom"
   ]
  },
  {
   "cell_type": "code",
   "execution_count": 1,
   "metadata": {
    "colab": {},
    "colab_type": "code",
    "collapsed": true,
    "deletable": true,
    "editable": true,
    "id": "vHq51pLCXsCt"
   },
   "outputs": [],
   "source": [
    "#!pip install graphistry -q"
   ]
  },
  {
   "cell_type": "code",
   "execution_count": 3,
   "metadata": {
    "colab": {},
    "colab_type": "code",
    "collapsed": true,
    "deletable": true,
    "editable": true,
    "id": "GlqptXF_YYfI"
   },
   "outputs": [],
   "source": [
    "import pandas as pd\n",
    "import graphistry\n",
    "#graphistry.register(key='MY_KEY', server='labs.graphistry.com')"
   ]
  },
  {
   "cell_type": "markdown",
   "metadata": {
    "colab_type": "text",
    "deletable": true,
    "editable": true,
    "id": "HmjaYTFkYlTJ"
   },
   "source": [
    "## 1. Upload csv\n",
    "\n",
    "Use a file by uploading it or via URL. \n",
    "\n",
    "Run `help(pd.read_csv)` for more options.\n",
    "\n",
    "### File Upload: Jupyter Notebooks\n",
    "* If circle on top right not green, click `kernel` -> `reconnect`\n",
    "* Go to file directory (`/tree`) by clicking the Jupyter logo\n",
    "* Navigate to the directory page containing your notebook\n",
    "* Press the `upload` button on the top right\n",
    "\n",
    "### File Upload: Google Colab\n",
    "\n",
    "* Open the left sidebar by pressing the right arrow on the left\n",
    "* Go to the `Files` tab\n",
    "* Press `UPLOAD`\n",
    "* Make sure goes into `/content`\n",
    "\n",
    "### File Upload: URL\n",
    "* Uncomment below line and put in the actual data url\n",
    "* Run `help(pd.read_csv)` for more options\n"
   ]
  },
  {
   "cell_type": "code",
   "execution_count": 4,
   "metadata": {
    "colab": {},
    "colab_type": "code",
    "collapsed": false,
    "deletable": true,
    "editable": true,
    "id": "PLpvx-TzYhNk"
   },
   "outputs": [
    {
     "name": "stdout",
     "output_type": "stream",
     "text": [
      "('# rows', 220)\n"
     ]
    },
    {
     "data": {
      "text/html": [
       "<div>\n",
       "<style>\n",
       "    .dataframe thead tr:only-child th {\n",
       "        text-align: right;\n",
       "    }\n",
       "\n",
       "    .dataframe thead th {\n",
       "        text-align: left;\n",
       "    }\n",
       "\n",
       "    .dataframe tbody tr th {\n",
       "        vertical-align: top;\n",
       "    }\n",
       "</style>\n",
       "<table border=\"1\" class=\"dataframe\">\n",
       "  <thead>\n",
       "    <tr style=\"text-align: right;\">\n",
       "      <th></th>\n",
       "      <th>attackerIP</th>\n",
       "      <th>victimIP</th>\n",
       "      <th>victimPort</th>\n",
       "      <th>vulnName</th>\n",
       "      <th>count</th>\n",
       "      <th>time(max)</th>\n",
       "      <th>time(min)</th>\n",
       "    </tr>\n",
       "  </thead>\n",
       "  <tbody>\n",
       "    <tr>\n",
       "      <th>145</th>\n",
       "      <td>41.230.211.128</td>\n",
       "      <td>172.31.14.66</td>\n",
       "      <td>445.0</td>\n",
       "      <td>MS08067 (NetAPI)</td>\n",
       "      <td>2</td>\n",
       "      <td>1.421730e+09</td>\n",
       "      <td>1.421729e+09</td>\n",
       "    </tr>\n",
       "    <tr>\n",
       "      <th>25</th>\n",
       "      <td>122.121.202.157</td>\n",
       "      <td>172.31.14.66</td>\n",
       "      <td>445.0</td>\n",
       "      <td>MS08067 (NetAPI)</td>\n",
       "      <td>8</td>\n",
       "      <td>1.423612e+09</td>\n",
       "      <td>1.423611e+09</td>\n",
       "    </tr>\n",
       "    <tr>\n",
       "      <th>75</th>\n",
       "      <td>182.68.160.230</td>\n",
       "      <td>172.31.14.66</td>\n",
       "      <td>445.0</td>\n",
       "      <td>MS08067 (NetAPI)</td>\n",
       "      <td>9</td>\n",
       "      <td>1.417438e+09</td>\n",
       "      <td>1.417436e+09</td>\n",
       "    </tr>\n",
       "  </tbody>\n",
       "</table>\n",
       "</div>"
      ],
      "text/plain": [
       "          attackerIP      victimIP  victimPort          vulnName  count  \\\n",
       "145   41.230.211.128  172.31.14.66       445.0  MS08067 (NetAPI)      2   \n",
       "25   122.121.202.157  172.31.14.66       445.0  MS08067 (NetAPI)      8   \n",
       "75    182.68.160.230  172.31.14.66       445.0  MS08067 (NetAPI)      9   \n",
       "\n",
       "        time(max)     time(min)  \n",
       "145  1.421730e+09  1.421729e+09  \n",
       "25   1.423612e+09  1.423611e+09  \n",
       "75   1.417438e+09  1.417436e+09  "
      ]
     },
     "execution_count": 4,
     "metadata": {},
     "output_type": "execute_result"
    }
   ],
   "source": [
    "file_path = './data/honeypot.csv'\n",
    "df = pd.read_csv(file_path)\n",
    "\n",
    "print('# rows', len(df))\n",
    "df.sample(min(len(df), 3))"
   ]
  },
  {
   "cell_type": "markdown",
   "metadata": {
    "colab_type": "text",
    "deletable": true,
    "editable": true,
    "id": "NqcxxVN3YqrT"
   },
   "source": [
    "# 2. Optional: Clean up CSV"
   ]
  },
  {
   "cell_type": "code",
   "execution_count": 5,
   "metadata": {
    "colab": {
     "base_uri": "https://localhost:8080/",
     "height": 191
    },
    "colab_type": "code",
    "collapsed": false,
    "deletable": true,
    "editable": true,
    "id": "CZPNysArYroP",
    "outputId": "3f9caf24-a697-463a-dd9c-0a6b5da90608"
   },
   "outputs": [
    {
     "data": {
      "text/html": [
       "<div>\n",
       "<style>\n",
       "    .dataframe thead tr:only-child th {\n",
       "        text-align: right;\n",
       "    }\n",
       "\n",
       "    .dataframe thead th {\n",
       "        text-align: left;\n",
       "    }\n",
       "\n",
       "    .dataframe tbody tr th {\n",
       "        vertical-align: top;\n",
       "    }\n",
       "</style>\n",
       "<table border=\"1\" class=\"dataframe\">\n",
       "  <thead>\n",
       "    <tr style=\"text-align: right;\">\n",
       "      <th></th>\n",
       "      <th>attackerIP</th>\n",
       "      <th>victimIP</th>\n",
       "      <th>victimPort</th>\n",
       "      <th>vulnName</th>\n",
       "      <th>count</th>\n",
       "      <th>time(max)</th>\n",
       "      <th>time(min)</th>\n",
       "    </tr>\n",
       "  </thead>\n",
       "  <tbody>\n",
       "    <tr>\n",
       "      <th>70</th>\n",
       "      <td>182.161.224.84</td>\n",
       "      <td>172.31.14.66</td>\n",
       "      <td>139.0</td>\n",
       "      <td>MS08067 (NetAPI)</td>\n",
       "      <td>4</td>\n",
       "      <td>1.419954e+09</td>\n",
       "      <td>1.419952e+09</td>\n",
       "    </tr>\n",
       "    <tr>\n",
       "      <th>10</th>\n",
       "      <td>115.115.227.82</td>\n",
       "      <td>172.31.14.66</td>\n",
       "      <td>445.0</td>\n",
       "      <td>MS08067 (NetAPI)</td>\n",
       "      <td>2</td>\n",
       "      <td>1.413569e+09</td>\n",
       "      <td>1.413569e+09</td>\n",
       "    </tr>\n",
       "    <tr>\n",
       "      <th>152</th>\n",
       "      <td>46.130.76.13</td>\n",
       "      <td>172.31.14.66</td>\n",
       "      <td>445.0</td>\n",
       "      <td>MS08067 (NetAPI)</td>\n",
       "      <td>7</td>\n",
       "      <td>1.421093e+09</td>\n",
       "      <td>1.421092e+09</td>\n",
       "    </tr>\n",
       "  </tbody>\n",
       "</table>\n",
       "</div>"
      ],
      "text/plain": [
       "         attackerIP      victimIP  victimPort          vulnName  count  \\\n",
       "70   182.161.224.84  172.31.14.66       139.0  MS08067 (NetAPI)      4   \n",
       "10   115.115.227.82  172.31.14.66       445.0  MS08067 (NetAPI)      2   \n",
       "152    46.130.76.13  172.31.14.66       445.0  MS08067 (NetAPI)      7   \n",
       "\n",
       "        time(max)     time(min)  \n",
       "70   1.419954e+09  1.419952e+09  \n",
       "10   1.413569e+09  1.413569e+09  \n",
       "152  1.421093e+09  1.421092e+09  "
      ]
     },
     "execution_count": 5,
     "metadata": {},
     "output_type": "execute_result"
    }
   ],
   "source": [
    "df = df.rename(columns={\n",
    "#    'attackerIP': 'src_ip',\n",
    "#    'victimIP': 'dest_ip'\n",
    "})\n",
    "\n",
    "df.sample(3)"
   ]
  },
  {
   "cell_type": "markdown",
   "metadata": {
    "colab_type": "text",
    "deletable": true,
    "editable": true,
    "id": "6Bz1vzVlmnqy"
   },
   "source": [
    "# 3. Configure: Visualize with 3 kinds of graphs\n",
    "\n",
    "Set `mode` and the corresponding values:\n",
    "\n",
    "### Mode \"A\". See graph from table of (src,dst) edges\n",
    "\n",
    "### Mode \"B\". See hypergraph: Draw row as node and connect it to entities in same row\n",
    "* Pick which cols to make nodes\n",
    "* If multiple cols share same type (e.g., \"src_ip\", \"dest_ip\" are both \"ip\"), unify them\n",
    "\n",
    "### Mode \"C\". See by creating multiple nodes, edges per row\n",
    "* Pick how different column values point to other column values \n",
    "* If multiple cols share same type (e.g., \"src_ip\", \"dest_ip\" are both \"ip\"), unify them"
   ]
  },
  {
   "cell_type": "code",
   "execution_count": 6,
   "metadata": {
    "colab": {},
    "colab_type": "code",
    "collapsed": false,
    "deletable": true,
    "editable": true,
    "id": "9x0jTxU4J392"
   },
   "outputs": [],
   "source": [
    "#Pick 'A', 'B', or 'C'\n",
    "mode = 'B' \n",
    "max_rows = 1000\n",
    "\n",
    "\n",
    "### 'A' == mode\n",
    "my_src_col = 'attackerIP'\n",
    "my_dest_col = 'victimIP'\n",
    "\n",
    "\n",
    "\n",
    "### 'B' == mode\n",
    "node_cols = ['attackerIP', 'victimIP', 'vulnName']\n",
    "categories = { #optional\n",
    "    'ip': ['attacker_IP', 'victimIP']\n",
    "    #, 'user': ['owner', 'seller'],\n",
    "}\n",
    "\n",
    "\n",
    "\n",
    "### 'C' == mode\n",
    "edges = {\n",
    "      'attackerIP': [ 'victimIP', 'victimPort', 'vulnName'],\n",
    "      'victimIP': [ 'victimPort'],\n",
    "      'vulnName': [ 'victimIP' ]\n",
    "}\n",
    "categories = { #optional\n",
    "      'ip': ['attackerIP', 'victimIP']\n",
    "       #, user': ['owner', 'seller'], ...\n",
    "}"
   ]
  },
  {
   "cell_type": "markdown",
   "metadata": {
    "colab_type": "text",
    "deletable": true,
    "editable": true,
    "id": "MalZgEK3qTKd"
   },
   "source": [
    "# 4. Plot: Upload & render!\n",
    "* See UI guide: https://labs.graphistry.com/graphistry/ui.html"
   ]
  },
  {
   "cell_type": "code",
   "execution_count": 75,
   "metadata": {
    "colab": {
     "base_uri": "https://localhost:8080/",
     "height": 85
    },
    "colab_type": "code",
    "collapsed": false,
    "deletable": true,
    "editable": true,
    "id": "e_3FTqOZpgFX",
    "outputId": "de06c205-4604-4cd5-a0b9-997235b3044b"
   },
   "outputs": [
    {
     "name": "stdout",
     "output_type": "stream",
     "text": [
      "('# links', 1100)\n",
      "('# events', 220)\n",
      "('# attrib entities', 221)\n",
      "1100\n"
     ]
    },
    {
     "data": {
      "text/html": [
       "\n",
       "            <iframe id=\"3f5a4301-6e71-46ab-a621-fc077f9d7d51\" src=\"https://labs.graphistry.com/graph/graph.html?dataset=PyGraphistry/OCL6ZMH7OF&type=vgraph&viztoken=ead436b4281be96024bcbb835502f9938973a770&usertag=5806a903-pygraphistry-0.9.63&splashAfter=1554606985&info=true\"\n",
       "                    allowfullscreen=\"true\" webkitallowfullscreen=\"true\" mozallowfullscreen=\"true\"\n",
       "                    oallowfullscreen=\"true\" msallowfullscreen=\"true\"\n",
       "                    style=\"width:100%; height:500px; border: 1px solid #DDD\">\n",
       "            </iframe>\n",
       "        \n",
       "            <script>\n",
       "                $(\"#3f5a4301-6e71-46ab-a621-fc077f9d7d51\").bind('mousewheel', function(e) {\n",
       "                e.preventDefault();\n",
       "                });\n",
       "            </script>\n",
       "        "
      ],
      "text/plain": [
       "<IPython.core.display.HTML object>"
      ]
     },
     "execution_count": 75,
     "metadata": {},
     "output_type": "execute_result"
    }
   ],
   "source": [
    "g = None\n",
    "hg = None\n",
    "num_rows = min(max_rows, len(df))\n",
    "if mode == 'A':\n",
    "    g = graphistry.edges(df.sample(num_rows)).bind(source=my_src_col, destination=my_dest_col)\n",
    "elif mode == 'B':\n",
    "    hg = graphistry.hypergraph(df.sample(num_rows), node_cols, opts={'CATEGORIES': categories})\n",
    "    g = hg['graph']\n",
    "elif mode == 'C':\n",
    "    nodes = list(edges.keys())\n",
    "    for dests in edges.values():\n",
    "        for dest in dests:\n",
    "            nodes.append(dest)\n",
    "    node_cols = list(set(nodes))\n",
    "    hg = graphistry.hypergraph(df.sample(num_rows), node_cols, direct=True, opts={'CATEGORIES': categories, 'EDGES': edges})\n",
    "    g = hg['graph']\n",
    "  \n",
    "#hg\n",
    "print(len(g._edges))\n",
    "\n",
    "g.plot()"
   ]
  },
  {
   "cell_type": "markdown",
   "metadata": {
    "colab_type": "text",
    "deletable": true,
    "editable": true,
    "id": "9MFuSsZi1ix8"
   },
   "source": [
    "# Alternative: Combined\n",
    "Split into data loading and cleaning/configuring/plotting."
   ]
  },
  {
   "cell_type": "code",
   "execution_count": 59,
   "metadata": {
    "collapsed": false,
    "deletable": true,
    "editable": true
   },
   "outputs": [
    {
     "name": "stdout",
     "output_type": "stream",
     "text": [
      "Index([u'attackerIP', u'victimIP', u'victimPort', u'vulnName', u'count',\n",
      "       u'time(max)', u'time(min)'],\n",
      "      dtype='object')\n",
      "('rows:', 220)\n",
      "         attackerIP      victimIP  victimPort             vulnName  count  \\\n",
      "81  187.143.247.231  172.31.14.66       445.0      MS04011 (LSASS)      1   \n",
      "47   151.252.204.92  172.31.14.66       139.0     MS08067 (NetAPI)      1   \n",
      "41     125.64.35.68  172.31.14.66      9999.0  MaxDB Vulnerability      6   \n",
      "\n",
      "       time(max)     time(min)  \n",
      "81  1.420657e+09  1.420657e+09  \n",
      "47  1.422929e+09  1.422929e+09  \n",
      "41  1.420915e+09  1.417479e+09  \n"
     ]
    }
   ],
   "source": [
    "#!pip install graphistry -q\n",
    "import pandas as pd\n",
    "import graphistry\n",
    "#graphistry.register(key='MY_KEY', server='labs.graphistry.com')\n",
    "\n",
    "\n",
    "##########\n",
    "#1. Load\n",
    "file_path = './data/honeypot.csv'\n",
    "df = pd.read_csv(file_path)\n",
    "\n",
    "print(df.columns)\n",
    "print('rows:', len(df))\n",
    "print(df.sample(min(len(df),3)))"
   ]
  },
  {
   "cell_type": "code",
   "execution_count": 79,
   "metadata": {
    "colab": {
     "base_uri": "https://localhost:8080/",
     "height": 368
    },
    "colab_type": "code",
    "collapsed": false,
    "deletable": true,
    "editable": true,
    "id": "i0iFtTN5wRfJ",
    "outputId": "dc6b9545-fd26-406e-9086-77f3e32e4bb5"
   },
   "outputs": [
    {
     "name": "stdout",
     "output_type": "stream",
     "text": [
      "('# links', 1100)\n",
      "('# events', 220)\n",
      "('# attrib entities', 221)\n"
     ]
    },
    {
     "data": {
      "text/html": [
       "\n",
       "            <iframe id=\"e218e1f9-a249-415e-870b-16f1a94c94f7\" src=\"https://labs.graphistry.com/graph/graph.html?dataset=PyGraphistry/R3R7KYV76O&type=vgraph&viztoken=1725f882e62fbeed035b4ff36db180fa1df02de7&usertag=5806a903-pygraphistry-0.9.63&splashAfter=1554607125&info=true\"\n",
       "                    allowfullscreen=\"true\" webkitallowfullscreen=\"true\" mozallowfullscreen=\"true\"\n",
       "                    oallowfullscreen=\"true\" msallowfullscreen=\"true\"\n",
       "                    style=\"width:100%; height:500px; border: 1px solid #DDD\">\n",
       "            </iframe>\n",
       "        \n",
       "            <script>\n",
       "                $(\"#e218e1f9-a249-415e-870b-16f1a94c94f7\").bind('mousewheel', function(e) {\n",
       "                e.preventDefault();\n",
       "                });\n",
       "            </script>\n",
       "        "
      ],
      "text/plain": [
       "<IPython.core.display.HTML object>"
      ]
     },
     "execution_count": 79,
     "metadata": {},
     "output_type": "execute_result"
    }
   ],
   "source": [
    "##########\n",
    "#2. Clean\n",
    "#df = df.rename(columns={'attackerIP': 'src_ip', 'victimIP: 'dest_ip', 'victimPort': 'protocol'})\n",
    "\n",
    "    \n",
    "##########\n",
    "#3. Config - Pick 'A', 'B', or 'C'\n",
    "mode = 'C' \n",
    "max_rows = 1000\n",
    "\n",
    "\n",
    "### 'A' == mode\n",
    "my_src_col = 'attackerIP'\n",
    "my_dest_col = 'victimIP'\n",
    "\n",
    "### 'B' == mode\n",
    "node_cols = ['attackerIP', 'victimIP', 'victimPort', 'vulnName']\n",
    "categories = { #optional\n",
    "    'ip': ['src_ip', 'dest_ip']\n",
    "    #, 'user': ['owner', 'seller'],\n",
    "}\n",
    "\n",
    "### 'C' == mode\n",
    "edges = {\n",
    "    'attackerIP': [ 'victimIP', 'victimPort', 'vulnName'],\n",
    "    'victimIP': [ 'victimPort' ],\n",
    "    'vulnName': ['victimIP' ]\n",
    "}\n",
    "categories = { #optional\n",
    "    'ip': ['attackerIP', 'victimIP']\n",
    "    #, 'user': ['owner', 'seller'], ...\n",
    "}\n",
    "\n",
    "##########\n",
    "#4. Plot\n",
    "g = None\n",
    "hg = None\n",
    "num_rows = min(max_rows, len(df))\n",
    "if mode == 'A':\n",
    "    g = graphistry.edges(df.sample(num_rows)).bind(source=my_src_col, destination=my_dest_col)\n",
    "elif mode == 'B':\n",
    "    hg = graphistry.hypergraph(df.sample(num_rows), node_cols, opts={'CATEGORIES': categories})\n",
    "    g = hg['graph']\n",
    "elif mode == 'C':\n",
    "    nodes = list(edges.keys())\n",
    "    for dests in edges.values():\n",
    "        for dest in dests:\n",
    "            nodes.append(dest)\n",
    "    node_cols = list(set(nodes))\n",
    "    hg = graphistry.hypergraph(df.sample(num_rows), node_cols, direct=True, opts={'CATEGORIES': categories, 'EDGES': edges})\n",
    "    g = hg['graph']\n",
    "  \n",
    "\n",
    "g.plot()"
   ]
  },
  {
   "cell_type": "code",
   "execution_count": null,
   "metadata": {
    "collapsed": true,
    "deletable": true,
    "editable": true
   },
   "outputs": [],
   "source": []
  }
 ],
 "metadata": {
  "colab": {
   "collapsed_sections": [],
   "name": "upload_csv",
   "provenance": [],
   "version": "0.3.2"
  },
  "kernelspec": {
   "display_name": "Python 2",
   "language": "python",
   "name": "python2"
  },
  "language_info": {
   "codemirror_mode": {
    "name": "ipython",
    "version": 2
   },
   "file_extension": ".py",
   "mimetype": "text/x-python",
   "name": "python",
   "nbconvert_exporter": "python",
   "pygments_lexer": "ipython2",
   "version": "2.7.13"
  }
 },
 "nbformat": 4,
 "nbformat_minor": 0
}
