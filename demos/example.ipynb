{
 "cells": [
  {
   "cell_type": "code",
   "execution_count": 1,
   "metadata": {},
   "outputs": [],
   "source": [
    "# autoreload graphistry *only* for development purposes\n",
    "#  - used in conjunction with `pip install -e <pygraphistry repo root>`\n",
    "%load_ext autoreload"
   ]
  },
  {
   "cell_type": "code",
   "execution_count": 29,
   "metadata": {},
   "outputs": [],
   "source": [
    "import graphistry\n",
    "import networkx\n",
    "import igraph\n",
    "\n",
    "graphistry.register(\n",
    "    protocol='http',\n",
    "    server='nginx'\n",
    ")"
   ]
  },
  {
   "cell_type": "code",
   "execution_count": 30,
   "metadata": {},
   "outputs": [],
   "source": [
    "# graph = networkx.random_lobster(100, 0.5, 0.5)\n",
    "# graph = networkx.balanced_tree(2, 19) # 2^20, or 1m+ nodes\n",
    "# graph = networkx.circulant_graph(40, [1, 2, 3, 4])\n",
    "# graph = networkx.full_rary_tree(2, 2000)\n",
    "# graph = networkx.grid_2d_graph(10, 10) # broken because ids are tuples\n",
    "# graph = networkx.hoffman_singleton_graph()\n",
    "# graph = networkx.connected_caveman_graph(10, 10)\n",
    "\n",
    "import math\n",
    "graph = igraph.Graph.Tree(math.floor(math.pow(2, 10)) - 1, 2)"
   ]
  },
  {
   "cell_type": "code",
   "execution_count": 31,
   "metadata": {
    "scrolled": true
   },
   "outputs": [],
   "source": [
    "%autoreload\n",
    "plotter = graphistry.data(graph=graph)"
   ]
  },
  {
   "cell_type": "code",
   "execution_count": 32,
   "metadata": {
    "scrolled": true
   },
   "outputs": [
    {
     "data": {
      "text/html": [
       "\n",
       "            <iframe id=\"fa7fe5e8-0915-4956-b311-7d92015deab8\" src=\"http://nginx/graph/graph.html?dataset=45fd78582811551e84d22ddf4fd92daa\"\n",
       "                    allowfullscreen=\"true\" webkitallowfullscreen=\"true\" mozallowfullscreen=\"true\"\n",
       "                    oallowfullscreen=\"true\" msallowfullscreen=\"true\"\n",
       "                    style=\"width:100%; height:1000px; border: 1px solid #DDD\">\n",
       "            </iframe>\n",
       "        \n",
       "            <script>\n",
       "                $(\"#fa7fe5e8-0915-4956-b311-7d92015deab8\").bind('mousewheel', function(e) {\n",
       "                e.preventDefault();\n",
       "                });\n",
       "            </script>\n",
       "        "
      ],
      "text/plain": [
       "<IPython.core.display.HTML object>"
      ]
     },
     "execution_count": 32,
     "metadata": {},
     "output_type": "execute_result"
    }
   ],
   "source": [
    "plotter\\\n",
    "    .bind(\n",
    "        node_id = graphistry.plotter.NODE_ID,\n",
    "        edge_id = graphistry.plotter.EDGE_ID,\n",
    "        edge_src = graphistry.plotter.EDGE_SRC,\n",
    "        edge_dst = graphistry.plotter.EDGE_DST\n",
    "    )\\\n",
    "    .plot()"
   ]
  },
  {
   "cell_type": "code",
   "execution_count": 18,
   "metadata": {},
   "outputs": [],
   "source": [
    "import requests\n"
   ]
  },
  {
   "cell_type": "code",
   "execution_count": null,
   "metadata": {},
   "outputs": [],
   "source": []
  }
 ],
 "metadata": {
  "celltoolbar": "Raw Cell Format",
  "kernelspec": {
   "display_name": "Python [conda env:graphistry]",
   "language": "python",
   "name": "conda-env-graphistry-py"
  },
  "language_info": {
   "codemirror_mode": {
    "name": "ipython",
    "version": 3
   },
   "file_extension": ".py",
   "mimetype": "text/x-python",
   "name": "python",
   "nbconvert_exporter": "python",
   "pygments_lexer": "ipython3",
   "version": "3.7.1"
  }
 },
 "nbformat": 4,
 "nbformat_minor": 2
}
