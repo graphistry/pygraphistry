{
 "cells": [
  {
   "cell_type": "markdown",
   "metadata": {
    "deletable": true,
    "editable": true
   },
   "source": [
    "# Tutorial: Graphistry for Develpers\n",
    "\n",
    "\n",
    "**Start by generating interactive graphs in the [Analysis tutorial](for_analysis.ipynb)**\n",
    "\n",
    "\n",
    "**Graphistry is a client/server system:**\n",
    "\n",
    "  * Graphs are akin to live documents: they are created on the server (a `dataset`), and then users can interact with them.\n",
    "  * Uploads may provide some settings\n",
    "  * Users may dynamically create settings, such as filters: these are `workbooks`. Multiple `workbooks` may reuse the same `dataset`.\n",
    "\n",
    "\n",
    "**APIs:**\n",
    "\n",
    "  - Backend APIs\n",
    "    - [Python](https://github.com/graphistry/pygraphistry)\n",
    "    - [REST](https://labs.graphistry.com/graphistry/docs/docs/docs_api.html#link)\n",
    "  - Frontend APIs\n",
    "    - iframe\n",
    "    - React\n",
    "    - JavaScript"
   ]
  },
  {
   "cell_type": "code",
   "execution_count": 4,
   "metadata": {
    "collapsed": true,
    "deletable": true,
    "editable": true
   },
   "outputs": [],
   "source": [
    "import graphistry\n",
    "#graphistry.register(key='MY_API_KEY', server='labs.graphistry.com')"
   ]
  },
  {
   "cell_type": "markdown",
   "metadata": {
    "deletable": true,
    "editable": true
   },
   "source": [
    "# 1. Backend APIs"
   ]
  },
  {
   "cell_type": "markdown",
   "metadata": {
    "deletable": true,
    "editable": true
   },
   "source": [
    "## Python\n",
    "* Use the PyGraphistry API as in the [Analysis tutorial](for_analysis.ipynb)\n",
    "* Instead of plotting, get the plot URL for embedding\n",
    "*\n"
   ]
  },
  {
   "cell_type": "code",
   "execution_count": 34,
   "metadata": {
    "collapsed": false,
    "deletable": true,
    "editable": true
   },
   "outputs": [
    {
     "data": {
      "text/plain": [
       "u'https://labs.graphistry.com/graph/graph.html?dataset=PyGraphistry/D1I2OZFIZR&type=vgraph&viztoken=1b70c86e6b6f357d435dce80bf37c42ce284c6ae&usertag=86f11264-pygraphistry-0.9.63&splashAfter=1554622313&info=true&play=1000'"
      ]
     },
     "execution_count": 34,
     "metadata": {},
     "output_type": "execute_result"
    }
   ],
   "source": [
    "edges = [{'src': 0, 'dst': 1}, {'src': 1, 'dst': 0}]\n",
    "\n",
    "g = graphistry.edges(pd.DataFrame(edges)).bind(source='src', destination='dst').settings(url_params={'play': 1000})\n",
    "\n",
    "url = g.plot(render=False)\n",
    "\n",
    "url"
   ]
  },
  {
   "cell_type": "markdown",
   "metadata": {
    "deletable": true,
    "editable": true
   },
   "source": [
    "### REST\n",
    "* Sample CURL below\n",
    "* Get API key either from your profile page, or for admins, by [generating a new one]( https://github.com/graphistry/graphistry-cli)"
   ]
  },
  {
   "cell_type": "code",
   "execution_count": 1,
   "metadata": {
    "collapsed": false,
    "deletable": true,
    "editable": true
   },
   "outputs": [],
   "source": [
    "json_data = {\n",
    "    \"name\": \"myUniqueGraphName\",\n",
    "    \"type\": \"edgelist\",\n",
    "    \"bindings\": {\n",
    "        \"sourceField\": \"src\",\n",
    "        \"destinationField\": \"dst\",\n",
    "        \"idField\": \"node\"\n",
    "    },\n",
    "    \"graph\": [\n",
    "      {\"src\": \"myNode1\", \"dst\": \"myNode2\",\n",
    "       \"myEdgeField1\": \"I'm an edge!\", \"myCount\": 7},\n",
    "      {\"src\": \"myNode2\", \"dst\": \"myNode3\",\n",
    "        \"myEdgeField1\": \"I'm also an edge!\", \"myCount\": 200}\n",
    "    ],\n",
    "    \"labels\": [\n",
    "      {\"node\": \"myNode1\",\n",
    "       \"myNodeField1\": \"I'm a node!\",\n",
    "       \"pointColor\": 5},\n",
    "      {\"node\": \"myNode2\",\n",
    "       \"myNodeField1\": \"I'm a node too!\",\n",
    "       \"pointColor\": 4},\n",
    "      {\"node\": \"myNode3\",\n",
    "       \"myNodeField1\": \"I'm a node three!\",\n",
    "       \"pointColor\": 4}\n",
    "    ]\n",
    "}\n",
    "\n",
    "import json\n",
    "with open('./data/samplegraph.json', 'w') as outfile:  \n",
    "    json.dump(json_data, outfile)"
   ]
  },
  {
   "cell_type": "code",
   "execution_count": 2,
   "metadata": {
    "collapsed": false,
    "deletable": true,
    "editable": true
   },
   "outputs": [
    {
     "name": "stdout",
     "output_type": "stream",
     "text": [
      "{\"success\":true,\"dataset\":\"myUniqueGraphName\"}"
     ]
    }
   ],
   "source": [
    "! curl -H \"Content-type: application/json\" -X POST -d @./data/samplegraph.json https://labs.graphistry.com/etl?key=YOUR_API_KEY_HERE"
   ]
  },
  {
   "cell_type": "markdown",
   "metadata": {
    "deletable": true,
    "editable": true
   },
   "source": [
    "## 2. Frontend APIs"
   ]
  },
  {
   "cell_type": "markdown",
   "metadata": {
    "deletable": true,
    "editable": true
   },
   "source": [
    "## iframe"
   ]
  },
  {
   "cell_type": "code",
   "execution_count": 27,
   "metadata": {
    "collapsed": false,
    "deletable": true,
    "editable": true
   },
   "outputs": [
    {
     "data": {
      "text/html": [
       "<iframe src=\"https://labs.graphistry.com/graph/graph.html?dataset=PyGraphistry/4GG70HM3P5&type=vgraph&viztoken=2296fa1f976d6bd2097874e496630be2ff108767&usertag=86f11264-pygraphistry-0.9.63&zzz=1554620531&info=true&play=1000\" style=\"width: 100%; height: 400px\"></iframe>"
      ],
      "text/plain": [
       "<IPython.core.display.HTML object>"
      ]
     },
     "metadata": {},
     "output_type": "display_data"
    }
   ],
   "source": [
    "from IPython.display import HTML, display\n",
    "\n",
    "#skip splash screen\n",
    "url = url.replace('splashAfter', 'zzz')\n",
    "\n",
    "display(HTML('<iframe src=\"' + url + '\" style=\"width: 100%; height: 400px\"></iframe>'))"
   ]
  },
  {
   "cell_type": "markdown",
   "metadata": {
    "deletable": true,
    "editable": true
   },
   "source": [
    "## JavaScript\n",
    "* [npm](https://www.npmjs.com/package/@graphistry/client-api)\n",
    "* `npm install --save \"@graphistry/client-api\"`\n",
    "* See [examples](https://labs.graphistry.com/graphistry/docs/docs/graphistry-js/client-api/examples/index.html)\n",
    "* Try with [RunKit](https://npm.runkit.com/@graphistry/client-api)\n",
    "\n",
    "The JavaScript API uses RxJS Observables. Icons are via [Font Awesome 4](https://fontawesome.com/v4.7.0/icons/).\n",
    "\n",
    "\n",
    "```\n",
    "var pointIconEncoding = {\n",
    "    attribute: 'type',\n",
    "    mapping: {\n",
    "       categorical: {\n",
    "           fixed: {\n",
    "               'Page': 'file-text-o',\n",
    "               'Phone': 'mobile',\n",
    "               'Email': 'envelope-o',\n",
    "               'Instagram': 'instagram',\n",
    "               'Snapchat': 'snapchat',\n",
    "               'Twitter': 'twitter',\n",
    "               'Location': 'map-marker',\n",
    "           }\n",
    "       }\n",
    "    }\n",
    "};\n",
    "\n",
    "var pointColorEncoding = {\n",
    "    attribute: 'type',\n",
    "    mapping: {\n",
    "       categorical: {\n",
    "           fixed: {\n",
    "               'Page': '#777777',\n",
    "               'Phone': '#f8999e',\n",
    "               'Email': '#c05c61',\n",
    "               'Username': '#00AA00',\n",
    "               'Instagram': '#a43cb1',\n",
    "               'Snapchat': '#fffb2e',\n",
    "               'Twitter': '#46a6e4',\n",
    "               'Location': '#9c4e00',\n",
    "               'Facebook': '#3f5692',\n",
    "               'Telegram': '#37aee2'\n",
    "           },\n",
    "          'other': '#cccccc'\n",
    "       }\n",
    "    }\n",
    "};\n",
    "\n",
    "document.addEventListener(\"DOMContentLoaded\", function () {\n",
    "\n",
    "    GraphistryJS(document.getElementById('viz'))\n",
    "        .flatMap(function (g) {\n",
    "            window.g = g;\n",
    "            g.updateSetting('pointSize', 3);\n",
    "            g.encodeIcons('point', 'type', pointIconEncoding.mapping);\n",
    "            return g.encodeColor('point', 'type', 'categorical', pointColorEncoding.mapping);\n",
    "        })\n",
    "        .subscribe(function (result) {\n",
    "            console.log('all columns: ', result);\n",
    "        }, function(result) {\n",
    "            console.log('error', result);\n",
    "        });\n",
    "});\n",
    "```\n",
    "\n",
    "## React\n",
    "\n",
    "The React API wraps the JavaScript API.\n",
    "\n",
    "* [npm](https://www.npmjs.com/package/@graphistry/client-api-react)\n",
    "* `npm install --save \"@graphistry/client-api-react\"`\n",
    "* See [examples](https://labs.graphistry.com/graphistry/docs/docs/graphistry-js/client-api-react/examples/index.html)\n",
    "* See [options](https://github.com/graphistry/graphistry-js/blob/master/projects/client-api-react/src/bindings.js)\n",
    "\n",
    "```\n",
    "import { Graphistry } from '@graphistry/client-api-react';\n",
    "\n",
    "<Graphistry\n",
    "    key={react_nonce}\n",
    "    className={'my_class'}\n",
    "    vizClassName={'my_class_2'}\n",
    "    \n",
    "    defaultPointsOfInterestMax={20}\n",
    "    defaultPruneOrphans={true}\n",
    "    defaultShowPointsOfInterest={true}\n",
    "    defaultShowPointsOfInterestLabel={false}\n",
    "    backgroundColor={'#EEEEEE'}\n",
    "    defaultPointSize={1}\n",
    "    defaultDissuadeHubs={true}\n",
    "    defaultGravity={8}\n",
    "    defaultScalingRatio={12}\n",
    "    defaultEdgeOpacity={0.5}\n",
    "    defaultShowArrows={false}\n",
    "    defaultEdgeCurvature={0.02}\n",
    "    defaultShowLabelPropertiesOnHover={true}\n",
    "    ...\n",
    "    play={2000}\n",
    "    showIcons={true}\n",
    "    defaultShowToolbar={true}\n",
    "    axes={axes}\n",
    "    controls={controls}\n",
    "    type={datasetType}\n",
    "    dataset={datasetName}\n",
    "    graphistryHost={'http://...'}\n",
    "    loadingMessage={'loading..'}\n",
    "    showLoadingIndicator={true}\n",
    "/>\n",
    "```\n",
    "\n",
    "\n"
   ]
  },
  {
   "cell_type": "code",
   "execution_count": null,
   "metadata": {
    "collapsed": true,
    "deletable": true,
    "editable": true
   },
   "outputs": [],
   "source": []
  }
 ],
 "metadata": {
  "kernelspec": {
   "display_name": "Python 2",
   "language": "python",
   "name": "python2"
  },
  "language_info": {
   "codemirror_mode": {
    "name": "ipython",
    "version": 2
   },
   "file_extension": ".py",
   "mimetype": "text/x-python",
   "name": "python",
   "nbconvert_exporter": "python",
   "pygments_lexer": "ipython2",
   "version": "2.7.13"
  }
 },
 "nbformat": 4,
 "nbformat_minor": 2
}
