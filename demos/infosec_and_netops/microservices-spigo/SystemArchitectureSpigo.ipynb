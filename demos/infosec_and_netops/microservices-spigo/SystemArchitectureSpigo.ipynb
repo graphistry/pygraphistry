{
 "cells": [
  {
   "cell_type": "markdown",
   "metadata": {
    "deletable": true,
    "editable": true
   },
   "source": [
    "# Spigo System Architecture"
   ]
  },
  {
   "cell_type": "code",
   "execution_count": 22,
   "metadata": {
    "collapsed": false,
    "deletable": true,
    "editable": true
   },
   "outputs": [
    {
     "name": "stdout",
     "output_type": "stream",
     "text": [
      "A new version of PyGraphistry is available (installed=0.9.16 latest=0.9.17).\n"
     ]
    }
   ],
   "source": [
    "import pandas\n",
    "import graphistry\n",
    "graphistry.register('PUT API KEY HERE') #https://www.graphistry.com/api-request"
   ]
  },
  {
   "cell_type": "markdown",
   "metadata": {
    "deletable": true,
    "editable": true
   },
   "source": [
    "## ETL: JSON URL -> Pandas"
   ]
  },
  {
   "cell_type": "code",
   "execution_count": 29,
   "metadata": {
    "collapsed": false,
    "deletable": true,
    "editable": true
   },
   "outputs": [
    {
     "data": {
      "text/plain": [
       "[{u'metadata': u'IP/54.198.0.1',\n",
       "  u'node': u'cassandra.us-east-1.zoneA.cassandra0',\n",
       "  u'package': u'priamCassandra',\n",
       "  u'timestamp': u'2015-10-17T11:48:57.67287472-07:00'},\n",
       " {u'metadata': u'IP/54.221.0.1',\n",
       "  u'node': u'cassandra.us-east-1.zoneB.cassandra1',\n",
       "  u'package': u'priamCassandra',\n",
       "  u'timestamp': u'2015-10-17T11:48:57.673046713-07:00'},\n",
       " {u'edge': u'e1',\n",
       "  u'source': u'cassandra.us-east-1.zoneA.cassandra0',\n",
       "  u'target': u'cassandra.us-east-1.zoneB.cassandra1',\n",
       "  u'timestamp': u'2015-10-17T11:48:57.673087466-07:00'}]"
      ]
     },
     "execution_count": 29,
     "metadata": {},
     "output_type": "execute_result"
    }
   ],
   "source": [
    "import json\n",
    "import urllib2\n",
    "\n",
    "data = urllib2.urlopen('https://raw.githubusercontent.com/adrianco/spigo/master/json/cassandra9.json')\n",
    "data = json.load(data)[u'graph']\n",
    "nodes = pandas.DataFrame([x for x in data if u'node' in x])\n",
    "edges = pandas.DataFrame([x for x in data if u'edge' in x])\n",
    "\n",
    "data[:3]"
   ]
  },
  {
   "cell_type": "code",
   "execution_count": 28,
   "metadata": {
    "collapsed": false,
    "deletable": true,
    "editable": true
   },
   "outputs": [
    {
     "data": {
      "text/html": [
       "<div>\n",
       "<table border=\"1\" class=\"dataframe\">\n",
       "  <thead>\n",
       "    <tr style=\"text-align: right;\">\n",
       "      <th></th>\n",
       "      <th>metadata</th>\n",
       "      <th>node</th>\n",
       "      <th>package</th>\n",
       "      <th>timestamp</th>\n",
       "    </tr>\n",
       "  </thead>\n",
       "  <tbody>\n",
       "    <tr>\n",
       "      <th>0</th>\n",
       "      <td>IP/54.198.0.1</td>\n",
       "      <td>cassandra.us-east-1.zoneA.cassandra0</td>\n",
       "      <td>priamCassandra</td>\n",
       "      <td>2015-10-17T11:48:57.67287472-07:00</td>\n",
       "    </tr>\n",
       "    <tr>\n",
       "      <th>1</th>\n",
       "      <td>IP/54.221.0.1</td>\n",
       "      <td>cassandra.us-east-1.zoneB.cassandra1</td>\n",
       "      <td>priamCassandra</td>\n",
       "      <td>2015-10-17T11:48:57.673046713-07:00</td>\n",
       "    </tr>\n",
       "    <tr>\n",
       "      <th>2</th>\n",
       "      <td>IP/50.19.0.1</td>\n",
       "      <td>cassandra.us-east-1.zoneC.cassandra2</td>\n",
       "      <td>priamCassandra</td>\n",
       "      <td>2015-10-17T11:48:57.673214019-07:00</td>\n",
       "    </tr>\n",
       "  </tbody>\n",
       "</table>\n",
       "</div>"
      ],
      "text/plain": [
       "        metadata                                  node         package  \\\n",
       "0  IP/54.198.0.1  cassandra.us-east-1.zoneA.cassandra0  priamCassandra   \n",
       "1  IP/54.221.0.1  cassandra.us-east-1.zoneB.cassandra1  priamCassandra   \n",
       "2   IP/50.19.0.1  cassandra.us-east-1.zoneC.cassandra2  priamCassandra   \n",
       "\n",
       "                             timestamp  \n",
       "0   2015-10-17T11:48:57.67287472-07:00  \n",
       "1  2015-10-17T11:48:57.673046713-07:00  \n",
       "2  2015-10-17T11:48:57.673214019-07:00  "
      ]
     },
     "execution_count": 28,
     "metadata": {},
     "output_type": "execute_result"
    }
   ],
   "source": [
    "nodes[:3]"
   ]
  },
  {
   "cell_type": "code",
   "execution_count": 30,
   "metadata": {
    "collapsed": false,
    "deletable": true,
    "editable": true
   },
   "outputs": [
    {
     "data": {
      "text/html": [
       "<div>\n",
       "<table border=\"1\" class=\"dataframe\">\n",
       "  <thead>\n",
       "    <tr style=\"text-align: right;\">\n",
       "      <th></th>\n",
       "      <th>edge</th>\n",
       "      <th>source</th>\n",
       "      <th>target</th>\n",
       "      <th>timestamp</th>\n",
       "    </tr>\n",
       "  </thead>\n",
       "  <tbody>\n",
       "    <tr>\n",
       "      <th>0</th>\n",
       "      <td>e1</td>\n",
       "      <td>cassandra.us-east-1.zoneA.cassandra0</td>\n",
       "      <td>cassandra.us-east-1.zoneB.cassandra1</td>\n",
       "      <td>2015-10-17T11:48:57.673087466-07:00</td>\n",
       "    </tr>\n",
       "    <tr>\n",
       "      <th>1</th>\n",
       "      <td>e2</td>\n",
       "      <td>cassandra.us-east-1.zoneB.cassandra1</td>\n",
       "      <td>cassandra.us-east-1.zoneC.cassandra2</td>\n",
       "      <td>2015-10-17T11:48:57.673249228-07:00</td>\n",
       "    </tr>\n",
       "    <tr>\n",
       "      <th>2</th>\n",
       "      <td>e3</td>\n",
       "      <td>cassandra.us-east-1.zoneB.cassandra1</td>\n",
       "      <td>cassandra.us-east-1.zoneA.cassandra0</td>\n",
       "      <td>2015-10-17T11:48:57.673232647-07:00</td>\n",
       "    </tr>\n",
       "  </tbody>\n",
       "</table>\n",
       "</div>"
      ],
      "text/plain": [
       "  edge                                source  \\\n",
       "0   e1  cassandra.us-east-1.zoneA.cassandra0   \n",
       "1   e2  cassandra.us-east-1.zoneB.cassandra1   \n",
       "2   e3  cassandra.us-east-1.zoneB.cassandra1   \n",
       "\n",
       "                                 target                            timestamp  \n",
       "0  cassandra.us-east-1.zoneB.cassandra1  2015-10-17T11:48:57.673087466-07:00  \n",
       "1  cassandra.us-east-1.zoneC.cassandra2  2015-10-17T11:48:57.673249228-07:00  \n",
       "2  cassandra.us-east-1.zoneA.cassandra0  2015-10-17T11:48:57.673232647-07:00  "
      ]
     },
     "execution_count": 30,
     "metadata": {},
     "output_type": "execute_result"
    }
   ],
   "source": [
    "edges[:3]"
   ]
  },
  {
   "cell_type": "markdown",
   "metadata": {
    "deletable": true,
    "editable": true
   },
   "source": [
    "## Plot!"
   ]
  },
  {
   "cell_type": "code",
   "execution_count": null,
   "metadata": {
    "collapsed": false,
    "deletable": true,
    "editable": true
   },
   "outputs": [],
   "source": [
    "# Plot graph using the source/target columns as source/destination of edges\n",
    "plotter = graphistry.bind(source='source', destination='target').bind(node='node')\n",
    "plotter.nodes(nodes).edges(edges).plot()"
   ]
  },
  {
   "cell_type": "code",
   "execution_count": null,
   "metadata": {
    "collapsed": false,
    "deletable": true,
    "editable": true
   },
   "outputs": [],
   "source": []
  }
 ],
 "metadata": {
  "kernelspec": {
   "display_name": "Python 2",
   "language": "python",
   "name": "python2"
  },
  "language_info": {
   "codemirror_mode": {
    "name": "ipython",
    "version": 2
   },
   "file_extension": ".py",
   "mimetype": "text/x-python",
   "name": "python",
   "nbconvert_exporter": "python",
   "pygments_lexer": "ipython2",
   "version": "2.7.13"
  }
 },
 "nbformat": 4,
 "nbformat_minor": 0
}
