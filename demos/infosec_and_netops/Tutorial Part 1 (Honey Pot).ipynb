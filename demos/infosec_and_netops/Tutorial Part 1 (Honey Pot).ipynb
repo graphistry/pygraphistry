{
 "cells": [
  {
   "cell_type": "markdown",
   "metadata": {},
   "source": [
    "# Tutorial (Part 1): Visualizing Attacks on a Honey Pot\n",
    "\n",
    "In this first part, we:\n",
    "\n",
    "1. Import Graphistry and load a CSV of log entries\n",
    "2. Visualize it as a graph by treating each row as an edge\n",
    "3. Color edges using a categorical palette based on the kind of alert\n",
    "4. Create a nodes table to control node sizes and colors\n",
    "\n",
    "You can [download this notebook](https://github.com/graphistry/pygraphistry/tree/master/demos) to run it locally."
   ]
  },
  {
   "cell_type": "code",
   "execution_count": 1,
   "metadata": {
    "collapsed": false
   },
   "outputs": [],
   "source": [
    "import pandas\n",
    "import graphistry\n",
    "\n",
    "# You can also set your API key once for all in the enviroment variable \"GRAPHISTRY_API_KEY\".\n",
    "graphistry.register(key='<go to www.graphistry.com/api-request to get a key>')"
   ]
  },
  {
   "cell_type": "markdown",
   "metadata": {},
   "source": [
    "### Load data with Pandas"
   ]
  },
  {
   "cell_type": "code",
   "execution_count": 2,
   "metadata": {
    "collapsed": false
   },
   "outputs": [
    {
     "data": {
      "text/html": [
       "<div>\n",
       "<table border=\"1\" class=\"dataframe\">\n",
       "  <thead>\n",
       "    <tr style=\"text-align: right;\">\n",
       "      <th></th>\n",
       "      <th>attackerIP</th>\n",
       "      <th>victimIP</th>\n",
       "      <th>victimPort</th>\n",
       "      <th>vulnName</th>\n",
       "      <th>count</th>\n",
       "      <th>time(max)</th>\n",
       "      <th>time(min)</th>\n",
       "    </tr>\n",
       "  </thead>\n",
       "  <tbody>\n",
       "    <tr>\n",
       "      <th>0</th>\n",
       "      <td>1.235.32.141</td>\n",
       "      <td>172.31.14.66</td>\n",
       "      <td>139</td>\n",
       "      <td>MS08067 (NetAPI)</td>\n",
       "      <td>6</td>\n",
       "      <td>1421433577</td>\n",
       "      <td>1421422669</td>\n",
       "    </tr>\n",
       "    <tr>\n",
       "      <th>1</th>\n",
       "      <td>105.157.235.22</td>\n",
       "      <td>172.31.14.66</td>\n",
       "      <td>445</td>\n",
       "      <td>MS08067 (NetAPI)</td>\n",
       "      <td>4</td>\n",
       "      <td>1422497735</td>\n",
       "      <td>1422494755</td>\n",
       "    </tr>\n",
       "    <tr>\n",
       "      <th>2</th>\n",
       "      <td>105.186.127.152</td>\n",
       "      <td>172.31.14.66</td>\n",
       "      <td>445</td>\n",
       "      <td>MS04011 (LSASS)</td>\n",
       "      <td>1</td>\n",
       "      <td>1419965960</td>\n",
       "      <td>1419965960</td>\n",
       "    </tr>\n",
       "  </tbody>\n",
       "</table>\n",
       "</div>"
      ],
      "text/plain": [
       "        attackerIP      victimIP  victimPort          vulnName  count  \\\n",
       "0     1.235.32.141  172.31.14.66         139  MS08067 (NetAPI)      6   \n",
       "1   105.157.235.22  172.31.14.66         445  MS08067 (NetAPI)      4   \n",
       "2  105.186.127.152  172.31.14.66         445   MS04011 (LSASS)      1   \n",
       "\n",
       "    time(max)   time(min)  \n",
       "0  1421433577  1421422669  \n",
       "1  1422497735  1422494755  \n",
       "2  1419965960  1419965960  "
      ]
     },
     "execution_count": 2,
     "metadata": {},
     "output_type": "execute_result"
    }
   ],
   "source": [
    "logs = pandas.read_csv('data/honeypot.csv')\n",
    "logs[:3] # Show the first three rows of the loaded dataframe"
   ]
  },
  {
   "cell_type": "markdown",
   "metadata": {},
   "source": [
    "Dates in `time(max)` and `time(min)` are unix timestamps. Pandas helps parse them."
   ]
  },
  {
   "cell_type": "code",
   "execution_count": 3,
   "metadata": {
    "collapsed": false
   },
   "outputs": [
    {
     "data": {
      "text/html": [
       "<div>\n",
       "<table border=\"1\" class=\"dataframe\">\n",
       "  <thead>\n",
       "    <tr style=\"text-align: right;\">\n",
       "      <th></th>\n",
       "      <th>attackerIP</th>\n",
       "      <th>victimIP</th>\n",
       "      <th>victimPort</th>\n",
       "      <th>vulnName</th>\n",
       "      <th>count</th>\n",
       "      <th>time(max)</th>\n",
       "      <th>time(min)</th>\n",
       "    </tr>\n",
       "  </thead>\n",
       "  <tbody>\n",
       "    <tr>\n",
       "      <th>0</th>\n",
       "      <td>1.235.32.141</td>\n",
       "      <td>172.31.14.66</td>\n",
       "      <td>139</td>\n",
       "      <td>MS08067 (NetAPI)</td>\n",
       "      <td>6</td>\n",
       "      <td>2015-01-16 18:39:37</td>\n",
       "      <td>2015-01-16 15:37:49</td>\n",
       "    </tr>\n",
       "    <tr>\n",
       "      <th>1</th>\n",
       "      <td>105.157.235.22</td>\n",
       "      <td>172.31.14.66</td>\n",
       "      <td>445</td>\n",
       "      <td>MS08067 (NetAPI)</td>\n",
       "      <td>4</td>\n",
       "      <td>2015-01-29 02:15:35</td>\n",
       "      <td>2015-01-29 01:25:55</td>\n",
       "    </tr>\n",
       "    <tr>\n",
       "      <th>2</th>\n",
       "      <td>105.186.127.152</td>\n",
       "      <td>172.31.14.66</td>\n",
       "      <td>445</td>\n",
       "      <td>MS04011 (LSASS)</td>\n",
       "      <td>1</td>\n",
       "      <td>2014-12-30 18:59:20</td>\n",
       "      <td>2014-12-30 18:59:20</td>\n",
       "    </tr>\n",
       "  </tbody>\n",
       "</table>\n",
       "</div>"
      ],
      "text/plain": [
       "        attackerIP      victimIP  victimPort          vulnName  count  \\\n",
       "0     1.235.32.141  172.31.14.66         139  MS08067 (NetAPI)      6   \n",
       "1   105.157.235.22  172.31.14.66         445  MS08067 (NetAPI)      4   \n",
       "2  105.186.127.152  172.31.14.66         445   MS04011 (LSASS)      1   \n",
       "\n",
       "            time(max)           time(min)  \n",
       "0 2015-01-16 18:39:37 2015-01-16 15:37:49  \n",
       "1 2015-01-29 02:15:35 2015-01-29 01:25:55  \n",
       "2 2014-12-30 18:59:20 2014-12-30 18:59:20  "
      ]
     },
     "execution_count": 3,
     "metadata": {},
     "output_type": "execute_result"
    }
   ],
   "source": [
    "logs['time(max)'] = pandas.to_datetime(logs['time(max)'], unit='s')\n",
    "logs['time(min)'] = pandas.to_datetime(logs['time(min)'], unit='s')\n",
    "logs[:3]"
   ]
  },
  {
   "cell_type": "markdown",
   "metadata": {},
   "source": [
    "### Minimal Graph\n",
    "\n",
    "To create a graph, we bind the columns `attackerIP` and `victimIP` to indicate the start/end of edges. The result is a graph of IPs connected by log entries."
   ]
  },
  {
   "cell_type": "code",
   "execution_count": 4,
   "metadata": {
    "collapsed": false
   },
   "outputs": [
    {
     "data": {
      "text/html": [
       "<iframe id=\"97b1f442-d427-4e5f-b6ac-832547b57202\" src=\"https://labs.graphistry.com/graph/graph.html?dataset=PyGraphistry/A2TEWYGKWF&type=vgraph&viztoken=e494e3574430b0ebbf71170f2e9742a6d722dba3&usertag=0d59e6dc-pygraphistry-0.9.22&splashAfter=1456335173&info=true\" style=\"width:100%; height:500px; border: 1px solid #DDD\"></iframe><script>\n",
       "            $(\"#97b1f442-d427-4e5f-b6ac-832547b57202\").bind('mousewheel', function(e) {\n",
       "                e.preventDefault();\n",
       "            });\n",
       "        </script>"
      ],
      "text/plain": [
       "<IPython.core.display.HTML object>"
      ]
     },
     "execution_count": 4,
     "metadata": {},
     "output_type": "execute_result"
    }
   ],
   "source": [
    "plotter = graphistry.bind(source='attackerIP', destination='victimIP')\n",
    "plotter.plot(logs)"
   ]
  },
  {
   "cell_type": "markdown",
   "metadata": {},
   "source": [
    "### Coloring edges by Vulnerabilities\n",
    "\n",
    "We compute desired edge colors by creating a new column (`ecolor`) by assigning each vulnerability name to a different color code. We then tell the plotter to override the default edge coloring by binding our data to the attribute `edge_color`. \n",
    "\n",
    "See the list of color codes at https://graphistry.github.io/docs/legacy/api/0.9.2/api.html#extendedpalette"
   ]
  },
  {
   "cell_type": "code",
   "execution_count": 5,
   "metadata": {
    "collapsed": false
   },
   "outputs": [
    {
     "data": {
      "text/plain": [
       "{'DCOM Vulnerability': 7,\n",
       " 'HTTP Vulnerability': 8,\n",
       " 'IIS Vulnerability': 3,\n",
       " 'MS04011 (LSASS)': 1,\n",
       " 'MS08067 (NetAPI)': 0,\n",
       " 'MYDOOM Vulnerability': 4,\n",
       " 'MaxDB Vulnerability': 2,\n",
       " 'SYMANTEC Vulnerability': 5,\n",
       " 'TIVOLI Vulnerability': 6}"
      ]
     },
     "execution_count": 5,
     "metadata": {},
     "output_type": "execute_result"
    }
   ],
   "source": [
    "vulnerabilityToColorCode = {vulnName: idx for idx, vulnName in enumerate(logs.vulnName.unique())}\n",
    "vulnerabilityToColorCode"
   ]
  },
  {
   "cell_type": "code",
   "execution_count": 6,
   "metadata": {
    "collapsed": false
   },
   "outputs": [
    {
     "data": {
      "text/html": [
       "<div>\n",
       "<table border=\"1\" class=\"dataframe\">\n",
       "  <thead>\n",
       "    <tr style=\"text-align: right;\">\n",
       "      <th></th>\n",
       "      <th>attackerIP</th>\n",
       "      <th>victimIP</th>\n",
       "      <th>victimPort</th>\n",
       "      <th>vulnName</th>\n",
       "      <th>count</th>\n",
       "      <th>time(max)</th>\n",
       "      <th>time(min)</th>\n",
       "      <th>ecolor</th>\n",
       "    </tr>\n",
       "  </thead>\n",
       "  <tbody>\n",
       "    <tr>\n",
       "      <th>0</th>\n",
       "      <td>1.235.32.141</td>\n",
       "      <td>172.31.14.66</td>\n",
       "      <td>139</td>\n",
       "      <td>MS08067 (NetAPI)</td>\n",
       "      <td>6</td>\n",
       "      <td>2015-01-16 18:39:37</td>\n",
       "      <td>2015-01-16 15:37:49</td>\n",
       "      <td>0</td>\n",
       "    </tr>\n",
       "    <tr>\n",
       "      <th>1</th>\n",
       "      <td>105.157.235.22</td>\n",
       "      <td>172.31.14.66</td>\n",
       "      <td>445</td>\n",
       "      <td>MS08067 (NetAPI)</td>\n",
       "      <td>4</td>\n",
       "      <td>2015-01-29 02:15:35</td>\n",
       "      <td>2015-01-29 01:25:55</td>\n",
       "      <td>0</td>\n",
       "    </tr>\n",
       "    <tr>\n",
       "      <th>2</th>\n",
       "      <td>105.186.127.152</td>\n",
       "      <td>172.31.14.66</td>\n",
       "      <td>445</td>\n",
       "      <td>MS04011 (LSASS)</td>\n",
       "      <td>1</td>\n",
       "      <td>2014-12-30 18:59:20</td>\n",
       "      <td>2014-12-30 18:59:20</td>\n",
       "      <td>1</td>\n",
       "    </tr>\n",
       "  </tbody>\n",
       "</table>\n",
       "</div>"
      ],
      "text/plain": [
       "        attackerIP      victimIP  victimPort          vulnName  count  \\\n",
       "0     1.235.32.141  172.31.14.66         139  MS08067 (NetAPI)      6   \n",
       "1   105.157.235.22  172.31.14.66         445  MS08067 (NetAPI)      4   \n",
       "2  105.186.127.152  172.31.14.66         445   MS04011 (LSASS)      1   \n",
       "\n",
       "            time(max)           time(min)  ecolor  \n",
       "0 2015-01-16 18:39:37 2015-01-16 15:37:49       0  \n",
       "1 2015-01-29 02:15:35 2015-01-29 01:25:55       0  \n",
       "2 2014-12-30 18:59:20 2014-12-30 18:59:20       1  "
      ]
     },
     "execution_count": 6,
     "metadata": {},
     "output_type": "execute_result"
    }
   ],
   "source": [
    "edges = logs.copy() # Copy the original data to avoid unintended modifications.\n",
    "#Set an edge's color to the value in the vulnerability lookup table\n",
    "edges['ecolor'] = edges.vulnName.map(lambda vulnName: vulnerabilityToColorCode[vulnName])\n",
    "edges[:3]"
   ]
  },
  {
   "cell_type": "code",
   "execution_count": 7,
   "metadata": {
    "collapsed": false
   },
   "outputs": [
    {
     "data": {
      "text/html": [
       "<iframe id=\"7d7a4fc3-ee10-452b-9bc4-2a8e72e67b13\" src=\"https://labs.graphistry.com/graph/graph.html?dataset=PyGraphistry/CP5UZ5E826&type=vgraph&viztoken=04c9fcc10e74094ec31d8f9536698ec8db44dc8c&usertag=0d59e6dc-pygraphistry-0.9.22&splashAfter=1456335176&info=true\" style=\"width:100%; height:500px; border: 1px solid #DDD\"></iframe><script>\n",
       "            $(\"#7d7a4fc3-ee10-452b-9bc4-2a8e72e67b13\").bind('mousewheel', function(e) {\n",
       "                e.preventDefault();\n",
       "            });\n",
       "        </script>"
      ],
      "text/plain": [
       "<IPython.core.display.HTML object>"
      ]
     },
     "execution_count": 7,
     "metadata": {},
     "output_type": "execute_result"
    }
   ],
   "source": [
    "# Finally, add the binding of ecolor to edge colors and plot\n",
    "plotter = plotter.bind(edge_color='ecolor')\n",
    "plotter.plot(edges)"
   ]
  },
  {
   "cell_type": "markdown",
   "metadata": {},
   "source": [
    "## Controlling Node Attributes by Creating a Node Table\n",
    "\n",
    "To set the size and colors of nodes we need to create a node table where each node is represented by a row.\n",
    "\n",
    "1. We gather a list of all nodes by concatenating the unique values of the `source` and `destination` columns of the edge table. This lists our node identifiers and will be the fist column of the node table.\n",
    "2. Then we add an additional column to the node table for each visual attribute such as color or size.\n",
    "3. Finally, we tell the plotter what to bind as the node identifier column and for any desired visual attributes.\n",
    "\n",
    "We proceed in a few steps: collect all attacker IPs and color them red, collect all victim IPs and color them yellow, and then concatenate the IPs together into one table."
   ]
  },
  {
   "cell_type": "code",
   "execution_count": 8,
   "metadata": {
    "collapsed": false,
    "scrolled": true
   },
   "outputs": [
    {
     "data": {
      "text/html": [
       "<div>\n",
       "<table border=\"1\" class=\"dataframe\">\n",
       "  <thead>\n",
       "    <tr style=\"text-align: right;\">\n",
       "      <th></th>\n",
       "      <th>IP</th>\n",
       "      <th>type</th>\n",
       "      <th>pcolor</th>\n",
       "    </tr>\n",
       "  </thead>\n",
       "  <tbody>\n",
       "    <tr>\n",
       "      <th>0</th>\n",
       "      <td>1.235.32.141</td>\n",
       "      <td>attacker</td>\n",
       "      <td>67006</td>\n",
       "    </tr>\n",
       "    <tr>\n",
       "      <th>1</th>\n",
       "      <td>105.157.235.22</td>\n",
       "      <td>attacker</td>\n",
       "      <td>67006</td>\n",
       "    </tr>\n",
       "    <tr>\n",
       "      <th>2</th>\n",
       "      <td>105.186.127.152</td>\n",
       "      <td>attacker</td>\n",
       "      <td>67006</td>\n",
       "    </tr>\n",
       "  </tbody>\n",
       "</table>\n",
       "</div>"
      ],
      "text/plain": [
       "                IP      type  pcolor\n",
       "0     1.235.32.141  attacker   67006\n",
       "1   105.157.235.22  attacker   67006\n",
       "2  105.186.127.152  attacker   67006"
      ]
     },
     "execution_count": 8,
     "metadata": {},
     "output_type": "execute_result"
    }
   ],
   "source": [
    "#Create the table of attackers. Our node identifier column will be called \"IP\".\n",
    "attackers = edges.attackerIP.to_frame('IP')\n",
    "attackers['type'] = 'attacker'\n",
    "attackers['pcolor'] = 67006  #red\n",
    "attackers[:3]"
   ]
  },
  {
   "cell_type": "code",
   "execution_count": 9,
   "metadata": {
    "collapsed": false
   },
   "outputs": [
    {
     "data": {
      "text/html": [
       "<div>\n",
       "<table border=\"1\" class=\"dataframe\">\n",
       "  <thead>\n",
       "    <tr style=\"text-align: right;\">\n",
       "      <th></th>\n",
       "      <th>IP</th>\n",
       "      <th>type</th>\n",
       "      <th>pcolor</th>\n",
       "    </tr>\n",
       "  </thead>\n",
       "  <tbody>\n",
       "    <tr>\n",
       "      <th>0</th>\n",
       "      <td>172.31.14.66</td>\n",
       "      <td>victim</td>\n",
       "      <td>67001</td>\n",
       "    </tr>\n",
       "    <tr>\n",
       "      <th>1</th>\n",
       "      <td>172.31.14.66</td>\n",
       "      <td>victim</td>\n",
       "      <td>67001</td>\n",
       "    </tr>\n",
       "    <tr>\n",
       "      <th>2</th>\n",
       "      <td>172.31.14.66</td>\n",
       "      <td>victim</td>\n",
       "      <td>67001</td>\n",
       "    </tr>\n",
       "  </tbody>\n",
       "</table>\n",
       "</div>"
      ],
      "text/plain": [
       "             IP    type  pcolor\n",
       "0  172.31.14.66  victim   67001\n",
       "1  172.31.14.66  victim   67001\n",
       "2  172.31.14.66  victim   67001"
      ]
     },
     "execution_count": 9,
     "metadata": {},
     "output_type": "execute_result"
    }
   ],
   "source": [
    "# Sames steps but for victims (destinations)\n",
    "victims = edges.victimIP.to_frame('IP')\n",
    "victims['type'] = 'victim'\n",
    "victims['pcolor'] = 67001  #yellow\n",
    "victims[:3]"
   ]
  },
  {
   "cell_type": "code",
   "execution_count": 10,
   "metadata": {
    "collapsed": false
   },
   "outputs": [
    {
     "data": {
      "text/html": [
       "<div>\n",
       "<table border=\"1\" class=\"dataframe\">\n",
       "  <thead>\n",
       "    <tr style=\"text-align: right;\">\n",
       "      <th></th>\n",
       "      <th>IP</th>\n",
       "      <th>type</th>\n",
       "      <th>pcolor</th>\n",
       "    </tr>\n",
       "  </thead>\n",
       "  <tbody>\n",
       "    <tr>\n",
       "      <th>0</th>\n",
       "      <td>1.235.32.141</td>\n",
       "      <td>attacker</td>\n",
       "      <td>67006</td>\n",
       "    </tr>\n",
       "    <tr>\n",
       "      <th>1</th>\n",
       "      <td>105.157.235.22</td>\n",
       "      <td>attacker</td>\n",
       "      <td>67006</td>\n",
       "    </tr>\n",
       "    <tr>\n",
       "      <th>2</th>\n",
       "      <td>105.186.127.152</td>\n",
       "      <td>attacker</td>\n",
       "      <td>67006</td>\n",
       "    </tr>\n",
       "    <tr>\n",
       "      <th>3</th>\n",
       "      <td>105.227.98.90</td>\n",
       "      <td>attacker</td>\n",
       "      <td>67006</td>\n",
       "    </tr>\n",
       "  </tbody>\n",
       "</table>\n",
       "</div>"
      ],
      "text/plain": [
       "                IP      type  pcolor\n",
       "0     1.235.32.141  attacker   67006\n",
       "1   105.157.235.22  attacker   67006\n",
       "2  105.186.127.152  attacker   67006\n",
       "3    105.227.98.90  attacker   67006"
      ]
     },
     "execution_count": 10,
     "metadata": {},
     "output_type": "execute_result"
    }
   ],
   "source": [
    "#Combine the two tables\n",
    "#If an IP is both an attacker and a victim, prioritize coloring it as an attacker\n",
    "nodes = pandas.concat([attackers, victims], ignore_index=True).drop_duplicates('IP')\n",
    "nodes[:4]"
   ]
  },
  {
   "cell_type": "code",
   "execution_count": 11,
   "metadata": {
    "collapsed": false
   },
   "outputs": [
    {
     "data": {
      "text/html": [
       "<iframe id=\"6bb2c1ee-10d6-4a0c-9bf5-0603fa11ae1c\" src=\"https://labs.graphistry.com/graph/graph.html?dataset=PyGraphistry/C74F8K9OVF&type=vgraph&viztoken=f7b974788dbe4765bf2f123c0a5650e76de37657&usertag=0d59e6dc-pygraphistry-0.9.22&splashAfter=1456335179&info=true\" style=\"width:100%; height:500px; border: 1px solid #DDD\"></iframe><script>\n",
       "            $(\"#6bb2c1ee-10d6-4a0c-9bf5-0603fa11ae1c\").bind('mousewheel', function(e) {\n",
       "                e.preventDefault();\n",
       "            });\n",
       "        </script>"
      ],
      "text/plain": [
       "<IPython.core.display.HTML object>"
      ]
     },
     "execution_count": 11,
     "metadata": {},
     "output_type": "execute_result"
    }
   ],
   "source": [
    "# We can now pass both the edge and node tables to \"plot\".\n",
    "plotter.bind(node='IP', point_color='pcolor').plot(edges, nodes)"
   ]
  },
  {
   "cell_type": "markdown",
   "metadata": {},
   "source": [
    "## Exploring Graphs Interactively: Summarize, Filter, Drill Down, and Compare\n",
    "\n",
    "Within the visualization, you can now filter and drill down into the graph. \n",
    "\n",
    "For cool results, try to:\n",
    "\n",
    "* Open the histogram panel, and add histograms for `victimPort`, `vulnName`, and `count`. By selecting a region of a histogram or clicking on a bar, you can filter the graph. For instance, we see that though the NetApi vulnerability is the biggest bar and therefore the most common vulnerability. By clicking on its bar and filtering to only those, we see that is only present in the big cluster of attacks again IP 172.31.14.66. (Click again to remove the filter.)\n",
    "\n",
    "\n",
    "* With the histogram panel open, click on data brush and then lasso a selection on the graph. The histograms highlight the subset of nodes under the selection. You can drag the data brush selection to compare different subgraphs. For example, we see that the the attackers did not find many vulnerabilities in the smaller part of the honeypot.\n",
    "\n",
    "#### Going Further\n",
    "\n",
    "In the next part of the tutorial, we show\n",
    "1. Creating multiple graph views of the same data\n",
    "2. Aggregating multi-edges into bundles"
   ]
  }
 ],
 "metadata": {
  "kernelspec": {
   "display_name": "Python 2",
   "language": "python",
   "name": "python2"
  },
  "language_info": {
   "codemirror_mode": {
    "name": "ipython",
    "version": 2
   },
   "file_extension": ".py",
   "mimetype": "text/x-python",
   "name": "python",
   "nbconvert_exporter": "python",
   "pygments_lexer": "ipython2",
   "version": "2.7.10"
  }
 },
 "nbformat": 4,
 "nbformat_minor": 0
}
