{
 "cells": [
  {
   "cell_type": "markdown",
   "metadata": {},
   "source": [
    "# Tutorial (Part 2): Visualizing Apache Access Logs\n",
    "\n",
    "In this part, we will:\n",
    "\n",
    "1. Parse and clean raw Apache logs into a Pandas dataframe\n",
    "2. Bundle requests that share the same source and target (\"edge aggregation\")\n",
    "3. Create different kinds of graph views of the same logs, where each one reveals different insights into the data.\n",
    "\n",
    "You can [download this notebook](https://github.com/graphistry/pygraphistry/tree/master/demos) to run it locally."
   ]
  },
  {
   "cell_type": "code",
   "execution_count": 1,
   "metadata": {
    "collapsed": true
   },
   "outputs": [],
   "source": [
    "import pandas\n",
    "import graphistry\n",
    "\n",
    "try:\n",
    "    from urllib.parse import unquote # Python 3\n",
    "except ImportError:\n",
    "    from urllib import unquote       # Python 2\n",
    "\n",
    "graphistry.register(key='<go to www.graphistry.com/api-request to get one api key>')"
   ]
  },
  {
   "cell_type": "markdown",
   "metadata": {},
   "source": [
    "### Download+Parse Apache Logs to Create a Pandas Dataframe\n",
    "\n",
    "Raw Apache logs are a bit tricky to parse:\n",
    "* The `time` field contains a space thus get split into two columns. We merge them back.\n",
    "* The `cmd_path_proto` field bundles the HTTP command, the path accessed, and the protocol version in to a single column. We split them in three columns.\n",
    "\n",
    "Sample raw data:\n",
    "```\n",
    "136.243.14.137 - - [14/Feb/2015:01:56:03 -0800] \"GET /robots.txt HTTP/1.0\" 200 252 \"-\" \"Mozilla/5.0 (compatible; MJ12bot/v1.4.5; http://www.majestic12.co.uk/bot.php?+)\" \n",
    "136.243.14.137 - - [14/Feb/2015:01:56:10 -0800] \"GET /honeypot//%22http://amunhoney.sourceforge.net//%22 HTTP/1.0\" 404 284 \"-\" \"Mozilla/5.0 (compatible; MJ12bot/v1.4.5; http://www.majestic12.co.uk/bot.php?+)\" \n",
    "```\n"
   ]
  },
  {
   "cell_type": "code",
   "execution_count": 2,
   "metadata": {
    "collapsed": false
   },
   "outputs": [
    {
     "data": {
      "text/html": [
       "<div>\n",
       "<table border=\"1\" class=\"dataframe\">\n",
       "  <thead>\n",
       "    <tr style=\"text-align: right;\">\n",
       "      <th></th>\n",
       "      <th>host</th>\n",
       "      <th>http_code</th>\n",
       "      <th>response_bytes</th>\n",
       "      <th>referer</th>\n",
       "      <th>user_agent</th>\n",
       "      <th>time</th>\n",
       "      <th>command</th>\n",
       "      <th>path</th>\n",
       "      <th>protocol</th>\n",
       "    </tr>\n",
       "  </thead>\n",
       "  <tbody>\n",
       "    <tr>\n",
       "      <th>0</th>\n",
       "      <td>136.243.14.137</td>\n",
       "      <td>200</td>\n",
       "      <td>252</td>\n",
       "      <td>NaN</td>\n",
       "      <td>Mozilla/5.0 (compatible; MJ12bot/v1.4.5; http:...</td>\n",
       "      <td>2015-02-14 01:56:03</td>\n",
       "      <td>GET</td>\n",
       "      <td>/robots.txt</td>\n",
       "      <td>HTTP/1.0</td>\n",
       "    </tr>\n",
       "    <tr>\n",
       "      <th>1</th>\n",
       "      <td>136.243.14.137</td>\n",
       "      <td>404</td>\n",
       "      <td>284</td>\n",
       "      <td>NaN</td>\n",
       "      <td>Mozilla/5.0 (compatible; MJ12bot/v1.4.5; http:...</td>\n",
       "      <td>2015-02-14 01:56:10</td>\n",
       "      <td>GET</td>\n",
       "      <td>/honeypot//\"http://amunhoney.sourceforge.net//\"</td>\n",
       "      <td>HTTP/1.0</td>\n",
       "    </tr>\n",
       "    <tr>\n",
       "      <th>2</th>\n",
       "      <td>136.243.14.137</td>\n",
       "      <td>404</td>\n",
       "      <td>303</td>\n",
       "      <td>NaN</td>\n",
       "      <td>Mozilla/5.0 (compatible; MJ12bot/v1.4.5; http:...</td>\n",
       "      <td>2015-02-14 01:56:15</td>\n",
       "      <td>GET</td>\n",
       "      <td>/honeypot//\"http://glastopf.org//\"</td>\n",
       "      <td>HTTP/1.0</td>\n",
       "    </tr>\n",
       "  </tbody>\n",
       "</table>\n",
       "</div>"
      ],
      "text/plain": [
       "             host  http_code  response_bytes referer  \\\n",
       "0  136.243.14.137        200             252     NaN   \n",
       "1  136.243.14.137        404             284     NaN   \n",
       "2  136.243.14.137        404             303     NaN   \n",
       "\n",
       "                                          user_agent                time  \\\n",
       "0  Mozilla/5.0 (compatible; MJ12bot/v1.4.5; http:... 2015-02-14 01:56:03   \n",
       "1  Mozilla/5.0 (compatible; MJ12bot/v1.4.5; http:... 2015-02-14 01:56:10   \n",
       "2  Mozilla/5.0 (compatible; MJ12bot/v1.4.5; http:... 2015-02-14 01:56:15   \n",
       "\n",
       "  command                                             path  protocol  \n",
       "0     GET                                      /robots.txt  HTTP/1.0  \n",
       "1     GET  /honeypot//\"http://amunhoney.sourceforge.net//\"  HTTP/1.0  \n",
       "2     GET               /honeypot//\"http://glastopf.org//\"  HTTP/1.0  "
      ]
     },
     "execution_count": 2,
     "metadata": {},
     "output_type": "execute_result"
    }
   ],
   "source": [
    "url = 'http://www.secrepo.com/self.logs/access.log.2015-02-14.gz'\n",
    "\n",
    "def parseApacheLogs(filename):\n",
    "    fields = ['host', 'identity', 'user', 'time_part1', 'time_part2', 'cmd_path_proto', \n",
    "             'http_code', 'response_bytes', 'referer', 'user_agent', 'unknown']\n",
    "    \n",
    "    data = pandas.read_csv(url, compression='gzip', sep=' ', header=None, names=fields, na_values=['-'])\n",
    "\n",
    "    # Panda's parser mistakenly splits the date into two columns, so we must concatenate them\n",
    "    time = data.time_part1 + data.time_part2\n",
    "    time_trimmed = time.map(lambda s: s.strip('[]').split('-')[0]) # Drop the timezone for simplicity\n",
    "    data['time'] = pandas.to_datetime(time_trimmed, format='%d/%b/%Y:%H:%M:%S')\n",
    "    \n",
    "    # Split column `cmd_path_proto` into three columns, and decode the URL (ex: '%20' => ' ')\n",
    "    data['command'], data['path'], data['protocol'] = zip(*data['cmd_path_proto'].str.split().tolist())\n",
    "    data['path'] = data['path'].map(lambda s: unquote(s))\n",
    "    \n",
    "    # Drop the fixed columns and any empty ones\n",
    "    data1 = data.drop(['time_part1', 'time_part2', 'cmd_path_proto'], axis=1)\n",
    "    return data1.dropna(axis=1, how='all')\n",
    "\n",
    "logs = parseApacheLogs(url)\n",
    "logs[:3]"
   ]
  },
  {
   "cell_type": "markdown",
   "metadata": {},
   "source": [
    "### Graph connecting Hosts to URLs: Simple Version\n",
    "\n",
    "We create host-to-path graph by using both edge and node tables as shown in tutorial part 1."
   ]
  },
  {
   "cell_type": "code",
   "execution_count": 3,
   "metadata": {
    "collapsed": false
   },
   "outputs": [
    {
     "data": {
      "text/html": [
       "<iframe id=\"4f982c48-1c46-4e14-aeb4-d070d3f4c071\" src=\"https://labs.graphistry.com/graph/graph.html?dataset=PyGraphistry/FEY9TM2RFI&type=vgraph&viztoken=6d15782f63439aca79425d9a6ac6f94cf35e541b&usertag=0d59e6dc-pygraphistry-0.9.22&splashAfter=1456335667&info=true\" style=\"width:100%; height:500px; border: 1px solid #DDD\"></iframe><script>\n",
       "            $(\"#4f982c48-1c46-4e14-aeb4-d070d3f4c071\").bind('mousewheel', function(e) {\n",
       "                e.preventDefault();\n",
       "            });\n",
       "        </script>"
      ],
      "text/plain": [
       "<IPython.core.display.HTML object>"
      ]
     },
     "execution_count": 3,
     "metadata": {},
     "output_type": "execute_result"
    }
   ],
   "source": [
    "def host2pathGraph(logs):\n",
    "    def getEdgeTable(logs):\n",
    "        edges = logs.copy()\n",
    "        # Color edges by HTTP result code\n",
    "        http_code_to_color = {code: color for color, code in enumerate(edges['http_code'].unique())}\n",
    "        edges['ecolor'] = edges['http_code'].map(lambda code: http_code_to_color[code])\n",
    "        return edges\n",
    "    \n",
    "    def getNodeTable(edges):\n",
    "        nodes0 = logs['host'].to_frame('nodeid')\n",
    "        nodes0['pcolor'] = 96000\n",
    "        nodes1 = logs['path'].to_frame('nodeid')\n",
    "        nodes1['pcolor'] = 96001\n",
    "        return pandas.concat([nodes0, nodes1], ignore_index=True).drop_duplicates()\n",
    "    \n",
    "    edges = getEdgeTable(logs)\n",
    "    nodes = getNodeTable(edges)\n",
    "    return (edges, nodes)\n",
    "\n",
    "plotter = graphistry.bind(source='host', destination='path', node='nodeid', \\\n",
    "                          edge_color='ecolor', point_color='pcolor')\n",
    "plotter.plot(*host2pathGraph(logs))"
   ]
  },
  {
   "cell_type": "markdown",
   "metadata": {},
   "source": [
    "### Graph connecting Hosts to URLs:  Declutter via Edge Aggregation\n",
    "\n",
    "To avoid crowding a graph with many edges between the same nodes, we are going to bundle mutli-edges into one edge with added summary attributes. A multiedge is a set of edges that share the same source/destination.\n",
    "\n",
    "For each bundle of requests, we compute the \n",
    "* The earliest time\n",
    "* The latest time\n",
    "* The most frequent referer\n",
    "\n",
    "The first two computations use Panda's built-in `min` and `max` aggregator functions. Then, to extract the most frequent referer, we write our own custom aggregator: `mostFrequent`."
   ]
  },
  {
   "cell_type": "code",
   "execution_count": 4,
   "metadata": {
    "collapsed": false,
    "scrolled": false
   },
   "outputs": [
    {
     "data": {
      "text/html": [
       "<div>\n",
       "<table border=\"1\" class=\"dataframe\">\n",
       "  <thead>\n",
       "    <tr style=\"text-align: right;\">\n",
       "      <th></th>\n",
       "      <th>host</th>\n",
       "      <th>path</th>\n",
       "      <th>user_agent</th>\n",
       "      <th>command</th>\n",
       "      <th>protocol</th>\n",
       "      <th>http_code</th>\n",
       "      <th>count</th>\n",
       "      <th>time (min)</th>\n",
       "      <th>time (max)</th>\n",
       "      <th>referer</th>\n",
       "    </tr>\n",
       "  </thead>\n",
       "  <tbody>\n",
       "    <tr>\n",
       "      <th>0</th>\n",
       "      <td>1.224.163.80</td>\n",
       "      <td>////bbs/skin/ggambo5100_board/setup.php</td>\n",
       "      <td>Microsoft Internet Explorer/4.0b1 (Windows 95)</td>\n",
       "      <td>POST</td>\n",
       "      <td>HTTP/1.1</td>\n",
       "      <td>404</td>\n",
       "      <td>2</td>\n",
       "      <td>2015-02-14 12:41:55</td>\n",
       "      <td>2015-02-14 12:41:56</td>\n",
       "      <td>None</td>\n",
       "    </tr>\n",
       "    <tr>\n",
       "      <th>1</th>\n",
       "      <td>1.224.163.80</td>\n",
       "      <td>////bbs/skin/ggambo5100_board/setup.php</td>\n",
       "      <td>Mozilla/5.0 (Macintosh; U; PPC Mac OS X Mach-O...</td>\n",
       "      <td>POST</td>\n",
       "      <td>HTTP/1.1</td>\n",
       "      <td>404</td>\n",
       "      <td>10</td>\n",
       "      <td>2015-02-14 12:41:18</td>\n",
       "      <td>2015-02-14 12:48:05</td>\n",
       "      <td>None</td>\n",
       "    </tr>\n",
       "    <tr>\n",
       "      <th>2</th>\n",
       "      <td>1.224.163.80</td>\n",
       "      <td>////bbs/skin/ggambo5100_board/setup.php</td>\n",
       "      <td>Mozilla/5.0 (Windows; U; Windows NT 5.1; en-GB...</td>\n",
       "      <td>POST</td>\n",
       "      <td>HTTP/1.1</td>\n",
       "      <td>404</td>\n",
       "      <td>2</td>\n",
       "      <td>2015-02-14 12:54:55</td>\n",
       "      <td>2015-02-14 12:54:57</td>\n",
       "      <td>None</td>\n",
       "    </tr>\n",
       "  </tbody>\n",
       "</table>\n",
       "</div>"
      ],
      "text/plain": [
       "           host                                     path  \\\n",
       "0  1.224.163.80  ////bbs/skin/ggambo5100_board/setup.php   \n",
       "1  1.224.163.80  ////bbs/skin/ggambo5100_board/setup.php   \n",
       "2  1.224.163.80  ////bbs/skin/ggambo5100_board/setup.php   \n",
       "\n",
       "                                          user_agent command  protocol  \\\n",
       "0     Microsoft Internet Explorer/4.0b1 (Windows 95)    POST  HTTP/1.1   \n",
       "1  Mozilla/5.0 (Macintosh; U; PPC Mac OS X Mach-O...    POST  HTTP/1.1   \n",
       "2  Mozilla/5.0 (Windows; U; Windows NT 5.1; en-GB...    POST  HTTP/1.1   \n",
       "\n",
       "   http_code  count          time (min)          time (max) referer  \n",
       "0        404      2 2015-02-14 12:41:55 2015-02-14 12:41:56    None  \n",
       "1        404     10 2015-02-14 12:41:18 2015-02-14 12:48:05    None  \n",
       "2        404      2 2015-02-14 12:54:55 2015-02-14 12:54:57    None  "
      ]
     },
     "execution_count": 4,
     "metadata": {},
     "output_type": "execute_result"
    }
   ],
   "source": [
    "#Bundle edges into a Pandas group when they share the same attributes like 'host' and 'path'\n",
    "grouped_logs = logs.groupby(['host', 'path', 'user_agent', 'command', 'protocol', 'http_code'])\n",
    "\n",
    "# Make dataframes count, min_time, max_time, and referer that are indexed by the groupby keys.\n",
    "count = grouped_logs.size().to_frame('count')\n",
    "min_time = grouped_logs['time'].agg('min').to_frame('time (min)')\n",
    "max_time = grouped_logs['time'].agg('max').to_frame('time (max)')\n",
    "\n",
    "def mostFrequent(x):\n",
    "    s = x.value_counts()\n",
    "    return s.index[0] if len(s.index > 0) else None\n",
    "referer = grouped_logs['referer'].agg(mostFrequent)\n",
    "\n",
    "# Join into one table based on the same groupby keys\n",
    "# We remove the indexes (via reset_index) since we do not need them anymore.\n",
    "summary = count.join([min_time, max_time, referer]).reset_index()\n",
    "summary[:3]"
   ]
  },
  {
   "cell_type": "markdown",
   "metadata": {},
   "source": [
    "**Plot.** For an even cleaner view, in the visualization, try using a histogram filter to only show nodes with a degree of 100 or less."
   ]
  },
  {
   "cell_type": "code",
   "execution_count": 5,
   "metadata": {
    "collapsed": false
   },
   "outputs": [
    {
     "data": {
      "text/html": [
       "<iframe id=\"286a1273-b78f-4158-8adc-d5c00596b1b1\" src=\"https://labs.graphistry.com/graph/graph.html?dataset=PyGraphistry/DX9P79XC4B&type=vgraph&viztoken=541e15ee351a2b9322f4b5add964694560b6a1ac&usertag=0d59e6dc-pygraphistry-0.9.22&splashAfter=1456335672&info=true\" style=\"width:100%; height:500px; border: 1px solid #DDD\"></iframe><script>\n",
       "            $(\"#286a1273-b78f-4158-8adc-d5c00596b1b1\").bind('mousewheel', function(e) {\n",
       "                e.preventDefault();\n",
       "            });\n",
       "        </script>"
      ],
      "text/plain": [
       "<IPython.core.display.HTML object>"
      ]
     },
     "execution_count": 5,
     "metadata": {},
     "output_type": "execute_result"
    }
   ],
   "source": [
    "plotter.plot(*host2pathGraph(summary))"
   ]
  },
  {
   "cell_type": "markdown",
   "metadata": {},
   "source": [
    "## Switching Lenses: Another View of the Same Data\n",
    "\n",
    "There are many way to cast data into a graph. Each reveals different insights.\n",
    "\n",
    "For an alternate view of the web logs, we can visualize how users browse from page to page."
   ]
  },
  {
   "cell_type": "code",
   "execution_count": 6,
   "metadata": {
    "collapsed": false
   },
   "outputs": [
    {
     "data": {
      "text/html": [
       "<div>\n",
       "<table border=\"1\" class=\"dataframe\">\n",
       "  <thead>\n",
       "    <tr style=\"text-align: right;\">\n",
       "      <th></th>\n",
       "      <th>host</th>\n",
       "      <th>path_x</th>\n",
       "      <th>path_y</th>\n",
       "      <th>ecolor</th>\n",
       "    </tr>\n",
       "  </thead>\n",
       "  <tbody>\n",
       "    <tr>\n",
       "      <th>0</th>\n",
       "      <td>1.224.163.80</td>\n",
       "      <td>////bbs/skin/ggambo5100_board/setup.php</td>\n",
       "      <td>////bbs/skin/ggambo5100_board/setup.php</td>\n",
       "      <td>265000</td>\n",
       "    </tr>\n",
       "    <tr>\n",
       "      <th>15</th>\n",
       "      <td>1.224.163.80</td>\n",
       "      <td>////bbs/skin/ggambo5100_board/setup.php</td>\n",
       "      <td>////bbs/skin/ggambo5100_board/write.php</td>\n",
       "      <td>265000</td>\n",
       "    </tr>\n",
       "    <tr>\n",
       "      <th>30</th>\n",
       "      <td>1.224.163.80</td>\n",
       "      <td>////bbs/skin/ggambo5100_board/setup.php</td>\n",
       "      <td>////bbs/skin/ggambo6000_board/setup.php</td>\n",
       "      <td>265000</td>\n",
       "    </tr>\n",
       "  </tbody>\n",
       "</table>\n",
       "</div>"
      ],
      "text/plain": [
       "            host                                   path_x  \\\n",
       "0   1.224.163.80  ////bbs/skin/ggambo5100_board/setup.php   \n",
       "15  1.224.163.80  ////bbs/skin/ggambo5100_board/setup.php   \n",
       "30  1.224.163.80  ////bbs/skin/ggambo5100_board/setup.php   \n",
       "\n",
       "                                     path_y  ecolor  \n",
       "0   ////bbs/skin/ggambo5100_board/setup.php  265000  \n",
       "15  ////bbs/skin/ggambo5100_board/write.php  265000  \n",
       "30  ////bbs/skin/ggambo6000_board/setup.php  265000  "
      ]
     },
     "execution_count": 6,
     "metadata": {},
     "output_type": "execute_result"
    }
   ],
   "source": [
    "def path2pathGraph(summary):\n",
    "    host2path = summary[['host', 'path']].copy()\n",
    "    host2path['path'] = host2path['path'].map(lambda p: p.split('?')[0])\n",
    "    sessions = pandas.merge(host2path, host2path, on='host').drop_duplicates()\n",
    "\n",
    "    host2color = {host: 265000 + index for index, host in enumerate(sessions.host.unique())}\n",
    "    sessions['ecolor'] = sessions['host'].map(lambda x: host2color[x])\n",
    "    return sessions\n",
    "\n",
    "sessionEdges = path2pathGraph(summary)\n",
    "sessionEdges[:3]"
   ]
  },
  {
   "cell_type": "code",
   "execution_count": 7,
   "metadata": {
    "collapsed": false
   },
   "outputs": [
    {
     "data": {
      "text/html": [
       "<iframe id=\"193e22c4-647a-4c77-bd97-67e393a349d6\" src=\"https://labs.graphistry.com/graph/graph.html?dataset=PyGraphistry/YWAN2JEM3L&type=vgraph&viztoken=9a21398ec48adc356b518a2bf8c26037d11dd135&usertag=0d59e6dc-pygraphistry-0.9.22&splashAfter=1456335676&info=true\" style=\"width:100%; height:500px; border: 1px solid #DDD\"></iframe><script>\n",
       "            $(\"#193e22c4-647a-4c77-bd97-67e393a349d6\").bind('mousewheel', function(e) {\n",
       "                e.preventDefault();\n",
       "            });\n",
       "        </script>"
      ],
      "text/plain": [
       "<IPython.core.display.HTML object>"
      ]
     },
     "execution_count": 7,
     "metadata": {},
     "output_type": "execute_result"
    }
   ],
   "source": [
    "graphistry.bind(source='path_x', destination='path_y', edge_color='ecolor').plot(sessionEdges)"
   ]
  },
  {
   "cell_type": "markdown",
   "metadata": {},
   "source": [
    "#### Explore In-Tool for Deeper Insights\n",
    "\n",
    "For example, you can quickly explore the browsing session of an individual host:\n",
    "\n",
    "* Click on an edge to open its label\n",
    "* On the **host** field, use the filter icon to filter on the edge's host value\n",
    "* Recluster the graph\n",
    "* Restart by opening the filters menu and disabling or delete the generated host filter"
   ]
  },
  {
   "cell_type": "markdown",
   "metadata": {
    "collapsed": true
   },
   "source": [
    "### Another View: Attacker Fingerprints\n",
    "An attacker will often use multiple computers with similar malformed browser fingerprints.\n",
    "\n",
    "Try excluding Mozilla-based browsers by making the following exclusion:\n",
    "\n",
    "```     \n",
    "    point:__nodeid__ like \"Mozilla%\"```"
   ]
  },
  {
   "cell_type": "code",
   "execution_count": 8,
   "metadata": {
    "collapsed": false
   },
   "outputs": [
    {
     "data": {
      "text/html": [
       "<iframe id=\"1476b082-17a3-44d9-a500-41045e212940\" src=\"https://labs.graphistry.com/graph/graph.html?dataset=PyGraphistry/G0QFLM07IL&type=vgraph&viztoken=5b882d5f174e3ed4bc544b37333b270b55498bb3&usertag=0d59e6dc-pygraphistry-0.9.22&splashAfter=1456335681&info=true\" style=\"width:100%; height:500px; border: 1px solid #DDD\"></iframe><script>\n",
       "            $(\"#1476b082-17a3-44d9-a500-41045e212940\").bind('mousewheel', function(e) {\n",
       "                e.preventDefault();\n",
       "            });\n",
       "        </script>"
      ],
      "text/plain": [
       "<IPython.core.display.HTML object>"
      ]
     },
     "execution_count": 8,
     "metadata": {},
     "output_type": "execute_result"
    }
   ],
   "source": [
    "graphistry.bind(source='host', destination='user_agent').plot(summary)"
   ]
  }
 ],
 "metadata": {
  "kernelspec": {
   "display_name": "Python 2",
   "language": "python",
   "name": "python2"
  },
  "language_info": {
   "codemirror_mode": {
    "name": "ipython",
    "version": 2
   },
   "file_extension": ".py",
   "mimetype": "text/x-python",
   "name": "python",
   "nbconvert_exporter": "python",
   "pygments_lexer": "ipython2",
   "version": "2.7.10"
  }
 },
 "nbformat": 4,
 "nbformat_minor": 0
}
