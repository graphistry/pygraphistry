{
 "cells": [
  {
   "cell_type": "markdown",
   "metadata": {},
   "source": [
    "# Data Upload Tutorial\n",
    "\n",
    "* This notebook is a tutorial on how to upload data using Graphistry's REST API.\n",
    "    - Our REST API is designed to be language agnostic. For our Python specific API, please review the other notebooks in <https://github.com/graphistry/pygraphistry>\n",
    "* For permission to upload to our public service, you **must** have an API key. Go to <www.graphistry.com/api-request> to recieve a key. \n",
    "* For more details, visit https://graphistry.github.io/docs/legacy/api/0.9.2/api.html for a full API Reference"
   ]
  },
  {
   "cell_type": "markdown",
   "metadata": {},
   "source": [
    "#### Import the necessary libaries"
   ]
  },
  {
   "cell_type": "code",
   "execution_count": null,
   "metadata": {
    "collapsed": true
   },
   "outputs": [],
   "source": [
    "import graphistry\n",
    "import pandas\n",
    "import requests\n",
    "import random\n",
    "import time"
   ]
  },
  {
   "cell_type": "markdown",
   "metadata": {},
   "source": [
    "#### Set your API key and Graphistry Server Location\n",
    "- To use our public server at **labs.graphistry.com**, you must have a valid API key"
   ]
  },
  {
   "cell_type": "code",
   "execution_count": null,
   "metadata": {
    "collapsed": true
   },
   "outputs": [],
   "source": [
    "API_KEY = 'Go to www.graphistry.com/api-request to get your key!'\n",
    "SERVER = 'labs.graphistry.com'"
   ]
  },
  {
   "cell_type": "code",
   "execution_count": null,
   "metadata": {
    "collapsed": false
   },
   "outputs": [],
   "source": [
    "# Current time is used to create a unique dataset name\n",
    "current_time = str(int(time.time()))"
   ]
  },
  {
   "cell_type": "markdown",
   "metadata": {},
   "source": [
    "## Create a dictionary describing the graph\n",
    "- Visit https://graphistry.github.io/docs/legacy/api/0.9.2/api.html for full API reference"
   ]
  },
  {
   "cell_type": "code",
   "execution_count": null,
   "metadata": {
    "collapsed": false
   },
   "outputs": [],
   "source": [
    "datasetName = 'RestUploadTutorial-' + current_time\n",
    "data = {\n",
    "    \"name\": datasetName,\n",
    "    \"type\": \"edgelist\",\n",
    "    \"bindings\": {\n",
    "        \"sourceField\": \"src\",\n",
    "        \"destinationField\": \"dst\",\n",
    "        \"idField\": \"node\"\n",
    "    },\n",
    "    \"graph\": [\n",
    "      {\"src\": \"myNode1\", \"dst\": \"myNode2\",\n",
    "       \"myEdgeField1\": \"I'm an edge!\", \"myCount\": 7},\n",
    "      {\"src\": \"myNode2\", \"dst\": \"myNode3\",\n",
    "        \"myEdgeField1\": \"I'm also an edge!\", \"myCount\": 200}\n",
    "    ],\n",
    "    \"labels\": [\n",
    "      {\"node\": \"myNode1\",\n",
    "       \"myNodeField1\": \"I'm a node!\",\n",
    "       \"pointColor\": 5},\n",
    "      {\"node\": \"myNode2\",\n",
    "       \"myNodeField1\": \"I'm node 2\",\n",
    "       \"pointColor\": 4},\n",
    "      {\"node\": \"myNode3\",\n",
    "       \"myNodeField1\": \"I'm a node three!\",\n",
    "       \"pointColor\": 4}\n",
    "    ]\n",
    "}\n"
   ]
  },
  {
   "cell_type": "markdown",
   "metadata": {},
   "source": [
    "### Post the json data to construct a graph vizualization dataset, and upload it to the server"
   ]
  },
  {
   "cell_type": "code",
   "execution_count": null,
   "metadata": {
    "collapsed": false
   },
   "outputs": [],
   "source": [
    "params = {\n",
    "    'key': API_KEY\n",
    "}\n",
    "resp = requests.post('http://'+ SERVER +'/etl', params=params, json=data)\n",
    "print resp.status_code\n",
    "resp.raise_for_status()"
   ]
  },
  {
   "cell_type": "markdown",
   "metadata": {},
   "source": [
    "## Embed the uploaded graph vizualization into the notebook using an IFrame"
   ]
  },
  {
   "cell_type": "code",
   "execution_count": null,
   "metadata": {
    "collapsed": false
   },
   "outputs": [],
   "source": [
    "datasetName = resp.json()['dataset']\n",
    "url = 'http://' + SERVER + '/graph/graph.html?dataset=' + datasetName + '&splashAfter=' + str(int(time.time()))\n",
    "from IPython.display import IFrame\n",
    "IFrame(url, width=1000, height=500)"
   ]
  },
  {
   "cell_type": "markdown",
   "metadata": {},
   "source": [
    "# Upload a workbook programmatically using a PUT request"
   ]
  },
  {
   "cell_type": "code",
   "execution_count": null,
   "metadata": {
    "collapsed": false
   },
   "outputs": [],
   "source": [
    "import json\n",
    "from pprint import pprint\n",
    "\n",
    "with open('lesMiserablesWorkbook.json') as data_file:    \n",
    "    wb = json.load(data_file)"
   ]
  },
  {
   "cell_type": "code",
   "execution_count": null,
   "metadata": {
    "collapsed": false
   },
   "outputs": [],
   "source": [
    "print (wb)"
   ]
  },
  {
   "cell_type": "code",
   "execution_count": null,
   "metadata": {
    "collapsed": false
   },
   "outputs": [],
   "source": [
    "workbook_id = wb[u'id']\n",
    "print workbook_id"
   ]
  },
  {
   "cell_type": "code",
   "execution_count": null,
   "metadata": {
    "collapsed": false
   },
   "outputs": [],
   "source": [
    "params = {\n",
    "    'key': API_KEY\n",
    "}\n",
    "resp = requests.post('http://'+ SERVER +'/workbook', params=params, json=wb)\n",
    "print resp.status_code\n",
    "resp.raise_for_status()"
   ]
  },
  {
   "cell_type": "markdown",
   "metadata": {},
   "source": [
    "## Using the workbook on the Les Miserables dataset"
   ]
  },
  {
   "cell_type": "code",
   "execution_count": null,
   "metadata": {
    "collapsed": false
   },
   "outputs": [],
   "source": [
    "url = 'http://' + SERVER + '/graph/graph.html?dataset=Miserables&workbook=%s' % wb['id']\n",
    "from IPython.display import IFrame\n",
    "IFrame(url, width=1000, height=500)"
   ]
  },
  {
   "cell_type": "markdown",
   "metadata": {},
   "source": [
    "## Download the previously uploaded workbook using a GET request"
   ]
  },
  {
   "cell_type": "code",
   "execution_count": null,
   "metadata": {
    "collapsed": false
   },
   "outputs": [],
   "source": [
    "resp = requests.get('http://'+ SERVER +'/workbook/' + workbook_id)\n",
    "print resp.status_code\n",
    "resp.raise_for_status()"
   ]
  },
  {
   "cell_type": "code",
   "execution_count": null,
   "metadata": {
    "collapsed": true
   },
   "outputs": [],
   "source": [
    "downloadedWorkbook = resp.json()"
   ]
  },
  {
   "cell_type": "code",
   "execution_count": null,
   "metadata": {
    "collapsed": false
   },
   "outputs": [],
   "source": [
    "print(downloadedWorkbook)"
   ]
  }
 ],
 "metadata": {
  "kernelspec": {
   "display_name": "Python 2",
   "language": "python",
   "name": "python2"
  },
  "language_info": {
   "codemirror_mode": {
    "name": "ipython",
    "version": 2
   },
   "file_extension": ".py",
   "mimetype": "text/x-python",
   "name": "python",
   "nbconvert_exporter": "python",
   "pygments_lexer": "ipython2",
   "version": "2.7.12"
  }
 },
 "nbformat": 4,
 "nbformat_minor": 0
}
