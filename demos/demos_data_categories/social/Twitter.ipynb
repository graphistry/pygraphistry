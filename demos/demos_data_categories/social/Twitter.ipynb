{
 "cells": [
  {
   "cell_type": "markdown",
   "metadata": {
    "deletable": true,
    "editable": true
   },
   "source": [
    "# Botnet on Twitter?"
   ]
  },
  {
   "cell_type": "code",
   "execution_count": 1,
   "metadata": {
    "collapsed": true,
    "deletable": true,
    "editable": true
   },
   "outputs": [],
   "source": [
    "import pandas\n",
    "import graphistry\n",
    "import pandas as pd\n",
    "import igraph\n",
    "#graphistry.register(key='MY_API_KEY', server='labs.graphistry.com') # https://www.graphistry.com/api-request"
   ]
  },
  {
   "cell_type": "markdown",
   "metadata": {
    "deletable": true,
    "editable": true
   },
   "source": [
    "## Step 1: Loading The Data\n",
    "\n",
    "This dataset was created by a Twitter user who was surprised that one of his very innocuous tweet (\"Hey let's grab a coffee\") got retweeted several times. Intrigued, he had a closer look at the accounts that retweeted his message. He found that those accounts all had inprononcable names that looked like gibberish. Suspecting that those accounts might be fake, he crawled the twitter social network around the suspicious accounts to produce this dataset.\n",
    "\n",
    "The dataset is in a CSV file named `twitterDemo.csv` which looks like that:\n",
    "```\n",
    "#dstAccount,srcAccount\n",
    "arley_leon16,wxite_pymp\n",
    "michaelinhooo2,wxite_pymp\n",
    "steeeva,wxite_pymp\n",
    "...\n",
    "```\n",
    "Each row in `twitterDemo.csv` denotes two twitter accounts \"following\" (Twitter's equivalent of friending) each other."
   ]
  },
  {
   "cell_type": "code",
   "execution_count": 2,
   "metadata": {
    "collapsed": false,
    "deletable": true,
    "editable": true
   },
   "outputs": [
    {
     "data": {
      "text/html": [
       "<div>\n",
       "<style>\n",
       "    .dataframe thead tr:only-child th {\n",
       "        text-align: right;\n",
       "    }\n",
       "\n",
       "    .dataframe thead th {\n",
       "        text-align: left;\n",
       "    }\n",
       "\n",
       "    .dataframe tbody tr th {\n",
       "        vertical-align: top;\n",
       "    }\n",
       "</style>\n",
       "<table border=\"1\" class=\"dataframe\">\n",
       "  <thead>\n",
       "    <tr style=\"text-align: right;\">\n",
       "      <th></th>\n",
       "      <th>dstAccount</th>\n",
       "      <th>srcAccount</th>\n",
       "    </tr>\n",
       "  </thead>\n",
       "  <tbody>\n",
       "    <tr>\n",
       "      <th>3508</th>\n",
       "      <td>ilisitizixox</td>\n",
       "      <td>ijow_opakeb78</td>\n",
       "    </tr>\n",
       "    <tr>\n",
       "      <th>1542</th>\n",
       "      <td>upimesevacug</td>\n",
       "      <td>osiz_ixolasor53</td>\n",
       "    </tr>\n",
       "    <tr>\n",
       "      <th>1760</th>\n",
       "      <td>_Tu_Moda_</td>\n",
       "      <td>ufewanikebix58</td>\n",
       "    </tr>\n",
       "  </tbody>\n",
       "</table>\n",
       "</div>"
      ],
      "text/plain": [
       "        dstAccount       srcAccount\n",
       "3508  ilisitizixox    ijow_opakeb78\n",
       "1542  upimesevacug  osiz_ixolasor53\n",
       "1760     _Tu_Moda_   ufewanikebix58"
      ]
     },
     "execution_count": 2,
     "metadata": {},
     "output_type": "execute_result"
    }
   ],
   "source": [
    "follows_df = pandas.read_csv('../../data/twitterDemo.csv')\n",
    "follows_df.sample(3)"
   ]
  },
  {
   "cell_type": "markdown",
   "metadata": {
    "collapsed": true,
    "deletable": true,
    "editable": true
   },
   "source": [
    "## Step 2: First Simple Visualization\n",
    "\n",
    "We can visualize this subset of the Twitter network as a graph: Each node is a Twitter account and edges encode the \"follows\" relation."
   ]
  },
  {
   "cell_type": "code",
   "execution_count": 4,
   "metadata": {
    "collapsed": false,
    "deletable": true,
    "editable": true
   },
   "outputs": [
    {
     "data": {
      "text/html": [
       "\n",
       "            <iframe id=\"55018274-b702-4553-9e89-13a3fc866690\" src=\"https://labs.graphistry.com/graph/graph.html?dataset=PyGraphistry/XWS4E51C7M&type=vgraph&viztoken=29807f975b9db35ec282da0ea07064049022e405&usertag=86f11264-pygraphistry-0.9.63&splashAfter=1554612471&info=true\"\n",
       "                    allowfullscreen=\"true\" webkitallowfullscreen=\"true\" mozallowfullscreen=\"true\"\n",
       "                    oallowfullscreen=\"true\" msallowfullscreen=\"true\"\n",
       "                    style=\"width:100%; height:500px; border: 1px solid #DDD\">\n",
       "            </iframe>\n",
       "        \n",
       "            <script>\n",
       "                $(\"#55018274-b702-4553-9e89-13a3fc866690\").bind('mousewheel', function(e) {\n",
       "                e.preventDefault();\n",
       "                });\n",
       "            </script>\n",
       "        "
      ],
      "text/plain": [
       "<IPython.core.display.HTML object>"
      ]
     },
     "execution_count": 4,
     "metadata": {},
     "output_type": "execute_result"
    }
   ],
   "source": [
    "g = graphistry.bind(source='srcAccount', destination='dstAccount').edges(follows_df)\n",
    "\n",
    "g.plot()"
   ]
  },
  {
   "cell_type": "markdown",
   "metadata": {
    "deletable": true,
    "editable": true
   },
   "source": [
    "Can you answer the following questions by exploring the visualization you have just created?\n",
    "- Is the structure of the graph what you would expect from a social network?\n",
    "- Can you tell which accounts might be fake and which ones are likely real users?"
   ]
  },
  {
   "cell_type": "markdown",
   "metadata": {
    "deletable": true,
    "editable": true
   },
   "source": [
    "## Step 3: Computing Graph Metrics With IGraph\n",
    "\n",
    "Next, we are going to use [IGraph](http://igraph.org/python/), a graph computation library, to compute metrics like pagerank to help us understand the dataset."
   ]
  },
  {
   "cell_type": "code",
   "execution_count": 8,
   "metadata": {
    "collapsed": false,
    "deletable": true,
    "editable": true
   },
   "outputs": [
    {
     "name": "stdout",
     "output_type": "stream",
     "text": [
      "IGRAPH D--- 7889 10063 -- \n",
      "+ attr: __nodeid__ (v)\n"
     ]
    }
   ],
   "source": [
    "ig = g.pandas2igraph(follows_df)\n",
    "igraph.summary(ig)"
   ]
  },
  {
   "cell_type": "code",
   "execution_count": 9,
   "metadata": {
    "collapsed": true,
    "deletable": true,
    "editable": true
   },
   "outputs": [],
   "source": [
    "ig.vs['pagerank'] = ig.pagerank(directed=False)\n",
    "ig.vs['betweenness'] = ig.betweenness(directed=True)\n",
    "ig.es['ebetweenness'] = ig.edge_betweenness(directed=True)\n",
    "\n",
    "ig.vs['community_spinglass'] = ig.community_spinglass(spins=12, stop_temp=0.1, cool_fact=0.9).membership\n",
    "uig = ig.copy()\n",
    "uig.to_undirected()\n",
    "ig.vs['community_infomap'] = uig.community_infomap().membership\n",
    "ig.vs['community_louvain'] = uig.community_multilevel().membership"
   ]
  },
  {
   "cell_type": "code",
   "execution_count": 31,
   "metadata": {
    "collapsed": false,
    "deletable": true,
    "editable": true
   },
   "outputs": [
    {
     "data": {
      "text/html": [
       "<div>\n",
       "<style>\n",
       "    .dataframe thead tr:only-child th {\n",
       "        text-align: right;\n",
       "    }\n",
       "\n",
       "    .dataframe thead th {\n",
       "        text-align: left;\n",
       "    }\n",
       "\n",
       "    .dataframe tbody tr th {\n",
       "        vertical-align: top;\n",
       "    }\n",
       "</style>\n",
       "<table border=\"1\" class=\"dataframe\">\n",
       "  <thead>\n",
       "    <tr style=\"text-align: right;\">\n",
       "      <th></th>\n",
       "      <th>__nodeid__</th>\n",
       "      <th>betweenness</th>\n",
       "      <th>community_infomap</th>\n",
       "      <th>community_louvain</th>\n",
       "      <th>community_spinglass</th>\n",
       "      <th>pagerank</th>\n",
       "    </tr>\n",
       "  </thead>\n",
       "  <tbody>\n",
       "    <tr>\n",
       "      <th>3922</th>\n",
       "      <td>usovenesucug</td>\n",
       "      <td>0.0</td>\n",
       "      <td>103</td>\n",
       "      <td>33</td>\n",
       "      <td>5</td>\n",
       "      <td>0.000094</td>\n",
       "    </tr>\n",
       "    <tr>\n",
       "      <th>7659</th>\n",
       "      <td>elin_egutukez</td>\n",
       "      <td>0.0</td>\n",
       "      <td>388</td>\n",
       "      <td>23</td>\n",
       "      <td>7</td>\n",
       "      <td>0.000057</td>\n",
       "    </tr>\n",
       "    <tr>\n",
       "      <th>5446</th>\n",
       "      <td>ocomamigoyob41</td>\n",
       "      <td>0.0</td>\n",
       "      <td>490</td>\n",
       "      <td>24</td>\n",
       "      <td>4</td>\n",
       "      <td>0.000055</td>\n",
       "    </tr>\n",
       "  </tbody>\n",
       "</table>\n",
       "</div>"
      ],
      "text/plain": [
       "          __nodeid__  betweenness  community_infomap  community_louvain  \\\n",
       "3922    usovenesucug          0.0                103                 33   \n",
       "7659   elin_egutukez          0.0                388                 23   \n",
       "5446  ocomamigoyob41          0.0                490                 24   \n",
       "\n",
       "      community_spinglass  pagerank  \n",
       "3922                    5  0.000094  \n",
       "7659                    7  0.000057  \n",
       "5446                    4  0.000055  "
      ]
     },
     "execution_count": 31,
     "metadata": {},
     "output_type": "execute_result"
    }
   ],
   "source": [
    "nodes_df = pd.DataFrame([x.attributes() for x in ig.vs])\n",
    "nodes_df.sample(3)"
   ]
  },
  {
   "cell_type": "code",
   "execution_count": 32,
   "metadata": {
    "collapsed": false,
    "deletable": true,
    "editable": true
   },
   "outputs": [
    {
     "data": {
      "text/html": [
       "\n",
       "            <iframe id=\"b5a91688-e8c8-43e6-a8e1-d151a0a6fd7b\" src=\"https://labs.graphistry.com/graph/graph.html?dataset=PyGraphistry/FE28PEON90&type=vgraph&viztoken=431d65b744a91a2637a1d3e0d3e783dba312bb14&usertag=86f11264-pygraphistry-0.9.63&splashAfter=1554613073&info=true\"\n",
       "                    allowfullscreen=\"true\" webkitallowfullscreen=\"true\" mozallowfullscreen=\"true\"\n",
       "                    oallowfullscreen=\"true\" msallowfullscreen=\"true\"\n",
       "                    style=\"width:100%; height:500px; border: 1px solid #DDD\">\n",
       "            </iframe>\n",
       "        \n",
       "            <script>\n",
       "                $(\"#b5a91688-e8c8-43e6-a8e1-d151a0a6fd7b\").bind('mousewheel', function(e) {\n",
       "                e.preventDefault();\n",
       "                });\n",
       "            </script>\n",
       "        "
      ],
      "text/plain": [
       "<IPython.core.display.HTML object>"
      ]
     },
     "execution_count": 32,
     "metadata": {},
     "output_type": "execute_result"
    }
   ],
   "source": [
    "g2 = g.nodes(nodes_df).bind(node='__nodeid__', point_color='community_spinglass', point_size='pagerank')\n",
    "g2.plot()"
   ]
  },
  {
   "cell_type": "markdown",
   "metadata": {
    "deletable": true,
    "editable": true
   },
   "source": [
    "## Step 4: Visual Drill Downs\n",
    "\n",
    "Within the visualization, you can filter and drill down into the graph. Try the following:\n",
    "\n",
    "1. Open the histogram panel, and add histograms for `pagerank`, `betweenness`, `ebetweenness`, etc. By selecting a region of a histogram or clicking on a bar, you can filter the graph.\n",
    "\n",
    "2. You can also manually create filters in the filter panel (\"funnel\" icon in the left menu bar). For instance, try filtering on `point:pagerank` such that `point:pagerank >= 0.01`. We select the most \"influencial accounts\". Those are the likely botnet owners/customers.\n",
    "\n",
    "3. Still in the histogram panel, you can visually show attributes using on the graph node/edge colors. Try clicking on each of the three square icons on top of each histogram. Notice that when point color is bound to `community_spinglass`, the \"tail\" of the network forms a distinct community. What makes those accounts different from the rest?\n",
    "\n",
    "4. With the histogram panel open, click on data brush and then lasso a selection on the graph. The histograms highlight the subset of nodes under the selection. You can drag the data brush selection to compare different subgraphs.\n"
   ]
  },
  {
   "cell_type": "code",
   "execution_count": null,
   "metadata": {
    "collapsed": true,
    "deletable": true,
    "editable": true
   },
   "outputs": [],
   "source": []
  }
 ],
 "metadata": {
  "kernelspec": {
   "display_name": "Python 2",
   "language": "python",
   "name": "python2"
  },
  "language_info": {
   "codemirror_mode": {
    "name": "ipython",
    "version": 2
   },
   "file_extension": ".py",
   "mimetype": "text/x-python",
   "name": "python",
   "nbconvert_exporter": "python",
   "pygments_lexer": "ipython2",
   "version": "2.7.13"
  }
 },
 "nbformat": 4,
 "nbformat_minor": 0
}
