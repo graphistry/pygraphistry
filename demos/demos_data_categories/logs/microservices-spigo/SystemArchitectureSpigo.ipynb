{
 "cells": [
  {
   "cell_type": "markdown",
   "metadata": {
    "deletable": true,
    "editable": true
   },
   "source": [
    "# Spigo System Architecture"
   ]
  },
  {
   "cell_type": "code",
   "execution_count": 8,
   "metadata": {
    "collapsed": false,
    "deletable": true,
    "editable": true
   },
   "outputs": [],
   "source": [
    "import pandas as pd\n",
    "import graphistry\n",
    "#graphistry.register('PUT API KEY HERE', server='labs.graphistry.com') #https://www.graphistry.com/api-request"
   ]
  },
  {
   "cell_type": "markdown",
   "metadata": {
    "deletable": true,
    "editable": true
   },
   "source": [
    "## ETL: JSON URL -> Pandas"
   ]
  },
  {
   "cell_type": "code",
   "execution_count": 9,
   "metadata": {
    "collapsed": false,
    "deletable": true,
    "editable": true
   },
   "outputs": [
    {
     "data": {
      "text/plain": [
       "[{u'metadata': u'IP/54.198.0.1',\n",
       "  u'node': u'cassandra.us-east-1.zoneA.cassandra00',\n",
       "  u'package': u'priamCassandra',\n",
       "  u'timestamp': u'2016-04-17T13:38:11.415643297-07:00'},\n",
       " {u'metadata': u'IP/54.221.0.1',\n",
       "  u'node': u'cassandra.us-east-1.zoneB.cassandra01',\n",
       "  u'package': u'priamCassandra',\n",
       "  u'timestamp': u'2016-04-17T13:38:11.415835924-07:00'},\n",
       " {u'edge': u'e1',\n",
       "  u'source': u'cassandra.us-east-1.zoneA.cassandra00',\n",
       "  u'target': u'cassandra.us-east-1.zoneB.cassandra01',\n",
       "  u'timestamp': u'2016-04-17T13:38:11.415878501-07:00'}]"
      ]
     },
     "execution_count": 9,
     "metadata": {},
     "output_type": "execute_result"
    }
   ],
   "source": [
    "import json\n",
    "import urllib2\n",
    "\n",
    "data = urllib2.urlopen('https://raw.githubusercontent.com/adrianco/spigo/master/json/cassandra9.json')\n",
    "data = json.load(data)[u'graph']\n",
    "nodes = pd.DataFrame([x for x in data if u'node' in x])\n",
    "edges = pd.DataFrame([x for x in data if u'edge' in x])\n",
    "\n",
    "data[:3]"
   ]
  },
  {
   "cell_type": "code",
   "execution_count": 10,
   "metadata": {
    "collapsed": false,
    "deletable": true,
    "editable": true
   },
   "outputs": [
    {
     "data": {
      "text/html": [
       "<div>\n",
       "<style>\n",
       "    .dataframe thead tr:only-child th {\n",
       "        text-align: right;\n",
       "    }\n",
       "\n",
       "    .dataframe thead th {\n",
       "        text-align: left;\n",
       "    }\n",
       "\n",
       "    .dataframe tbody tr th {\n",
       "        vertical-align: top;\n",
       "    }\n",
       "</style>\n",
       "<table border=\"1\" class=\"dataframe\">\n",
       "  <thead>\n",
       "    <tr style=\"text-align: right;\">\n",
       "      <th></th>\n",
       "      <th>metadata</th>\n",
       "      <th>node</th>\n",
       "      <th>package</th>\n",
       "      <th>timestamp</th>\n",
       "    </tr>\n",
       "  </thead>\n",
       "  <tbody>\n",
       "    <tr>\n",
       "      <th>0</th>\n",
       "      <td>IP/54.198.0.1</td>\n",
       "      <td>cassandra.us-east-1.zoneA.cassandra00</td>\n",
       "      <td>priamCassandra</td>\n",
       "      <td>2016-04-17T13:38:11.415643297-07:00</td>\n",
       "    </tr>\n",
       "    <tr>\n",
       "      <th>1</th>\n",
       "      <td>IP/54.221.0.1</td>\n",
       "      <td>cassandra.us-east-1.zoneB.cassandra01</td>\n",
       "      <td>priamCassandra</td>\n",
       "      <td>2016-04-17T13:38:11.415835924-07:00</td>\n",
       "    </tr>\n",
       "    <tr>\n",
       "      <th>2</th>\n",
       "      <td>IP/50.19.0.1</td>\n",
       "      <td>cassandra.us-east-1.zoneC.cassandra02</td>\n",
       "      <td>priamCassandra</td>\n",
       "      <td>2016-04-17T13:38:11.416041115-07:00</td>\n",
       "    </tr>\n",
       "  </tbody>\n",
       "</table>\n",
       "</div>"
      ],
      "text/plain": [
       "        metadata                                   node         package  \\\n",
       "0  IP/54.198.0.1  cassandra.us-east-1.zoneA.cassandra00  priamCassandra   \n",
       "1  IP/54.221.0.1  cassandra.us-east-1.zoneB.cassandra01  priamCassandra   \n",
       "2   IP/50.19.0.1  cassandra.us-east-1.zoneC.cassandra02  priamCassandra   \n",
       "\n",
       "                             timestamp  \n",
       "0  2016-04-17T13:38:11.415643297-07:00  \n",
       "1  2016-04-17T13:38:11.415835924-07:00  \n",
       "2  2016-04-17T13:38:11.416041115-07:00  "
      ]
     },
     "execution_count": 10,
     "metadata": {},
     "output_type": "execute_result"
    }
   ],
   "source": [
    "nodes[:3]"
   ]
  },
  {
   "cell_type": "code",
   "execution_count": 11,
   "metadata": {
    "collapsed": false,
    "deletable": true,
    "editable": true
   },
   "outputs": [
    {
     "data": {
      "text/html": [
       "<div>\n",
       "<style>\n",
       "    .dataframe thead tr:only-child th {\n",
       "        text-align: right;\n",
       "    }\n",
       "\n",
       "    .dataframe thead th {\n",
       "        text-align: left;\n",
       "    }\n",
       "\n",
       "    .dataframe tbody tr th {\n",
       "        vertical-align: top;\n",
       "    }\n",
       "</style>\n",
       "<table border=\"1\" class=\"dataframe\">\n",
       "  <thead>\n",
       "    <tr style=\"text-align: right;\">\n",
       "      <th></th>\n",
       "      <th>edge</th>\n",
       "      <th>source</th>\n",
       "      <th>target</th>\n",
       "      <th>timestamp</th>\n",
       "    </tr>\n",
       "  </thead>\n",
       "  <tbody>\n",
       "    <tr>\n",
       "      <th>0</th>\n",
       "      <td>e1</td>\n",
       "      <td>cassandra.us-east-1.zoneA.cassandra00</td>\n",
       "      <td>cassandra.us-east-1.zoneB.cassandra01</td>\n",
       "      <td>2016-04-17T13:38:11.415878501-07:00</td>\n",
       "    </tr>\n",
       "    <tr>\n",
       "      <th>1</th>\n",
       "      <td>e2</td>\n",
       "      <td>cassandra.us-east-1.zoneB.cassandra01</td>\n",
       "      <td>cassandra.us-east-1.zoneA.cassandra00</td>\n",
       "      <td>2016-04-17T13:38:11.415984352-07:00</td>\n",
       "    </tr>\n",
       "    <tr>\n",
       "      <th>2</th>\n",
       "      <td>e3</td>\n",
       "      <td>cassandra.us-east-1.zoneC.cassandra02</td>\n",
       "      <td>cassandra.us-east-1.zoneB.cassandra01</td>\n",
       "      <td>2016-04-17T13:38:11.416201946-07:00</td>\n",
       "    </tr>\n",
       "  </tbody>\n",
       "</table>\n",
       "</div>"
      ],
      "text/plain": [
       "  edge                                 source  \\\n",
       "0   e1  cassandra.us-east-1.zoneA.cassandra00   \n",
       "1   e2  cassandra.us-east-1.zoneB.cassandra01   \n",
       "2   e3  cassandra.us-east-1.zoneC.cassandra02   \n",
       "\n",
       "                                  target                            timestamp  \n",
       "0  cassandra.us-east-1.zoneB.cassandra01  2016-04-17T13:38:11.415878501-07:00  \n",
       "1  cassandra.us-east-1.zoneA.cassandra00  2016-04-17T13:38:11.415984352-07:00  \n",
       "2  cassandra.us-east-1.zoneB.cassandra01  2016-04-17T13:38:11.416201946-07:00  "
      ]
     },
     "execution_count": 11,
     "metadata": {},
     "output_type": "execute_result"
    }
   ],
   "source": [
    "edges[:3]"
   ]
  },
  {
   "cell_type": "markdown",
   "metadata": {
    "deletable": true,
    "editable": true
   },
   "source": [
    "## Plot!"
   ]
  },
  {
   "cell_type": "code",
   "execution_count": 12,
   "metadata": {
    "collapsed": false,
    "deletable": true,
    "editable": true
   },
   "outputs": [
    {
     "data": {
      "text/html": [
       "\n",
       "            <iframe id=\"58ba9b9a-559f-443c-b0f1-5e0d6303a0ca\" src=\"https://labs.graphistry.com/graph/graph.html?dataset=PyGraphistry/EFE037S50B&type=vgraph&viztoken=2d40d669e902251a71049e7e9cece9abddc60c55&usertag=86f11264-pygraphistry-0.9.63&splashAfter=1554615374&info=true\"\n",
       "                    allowfullscreen=\"true\" webkitallowfullscreen=\"true\" mozallowfullscreen=\"true\"\n",
       "                    oallowfullscreen=\"true\" msallowfullscreen=\"true\"\n",
       "                    style=\"width:100%; height:500px; border: 1px solid #DDD\">\n",
       "            </iframe>\n",
       "        \n",
       "            <script>\n",
       "                $(\"#58ba9b9a-559f-443c-b0f1-5e0d6303a0ca\").bind('mousewheel', function(e) {\n",
       "                e.preventDefault();\n",
       "                });\n",
       "            </script>\n",
       "        "
      ],
      "text/plain": [
       "<IPython.core.display.HTML object>"
      ]
     },
     "execution_count": 12,
     "metadata": {},
     "output_type": "execute_result"
    }
   ],
   "source": [
    "# Plot graph using the source/target columns as source/destination of edges\n",
    "g = graphistry.bind(source='source', destination='target').bind(node='node')\n",
    "g.nodes(nodes).edges(edges).plot()"
   ]
  },
  {
   "cell_type": "code",
   "execution_count": 13,
   "metadata": {
    "collapsed": false,
    "deletable": true,
    "editable": true
   },
   "outputs": [
    {
     "name": "stdout",
     "output_type": "stream",
     "text": [
      "('# links', 12627)\n",
      "('# events', 11893)\n",
      "('# attrib entities', 740)\n"
     ]
    },
    {
     "data": {
      "text/html": [
       "\n",
       "            <iframe id=\"1b0354b3-2285-4d7c-8d6e-604fb9dd9d17\" src=\"https://labs.graphistry.com/graph/graph.html?dataset=PyGraphistry/0HZA56ZVIL&type=vgraph&viztoken=cea69516de5b1a877e18fccdff08f8bd08f904de&usertag=86f11264-pygraphistry-0.9.63&splashAfter=1554615378&info=true\"\n",
       "                    allowfullscreen=\"true\" webkitallowfullscreen=\"true\" mozallowfullscreen=\"true\"\n",
       "                    oallowfullscreen=\"true\" msallowfullscreen=\"true\"\n",
       "                    style=\"width:100%; height:500px; border: 1px solid #DDD\">\n",
       "            </iframe>\n",
       "        \n",
       "            <script>\n",
       "                $(\"#1b0354b3-2285-4d7c-8d6e-604fb9dd9d17\").bind('mousewheel', function(e) {\n",
       "                e.preventDefault();\n",
       "                });\n",
       "            </script>\n",
       "        "
      ],
      "text/plain": [
       "<IPython.core.display.HTML object>"
      ]
     },
     "execution_count": 13,
     "metadata": {},
     "output_type": "execute_result"
    }
   ],
   "source": [
    "hg = graphistry.hypergraph(\n",
    "    pd.concat([nodes, edges], ignore_index=True),\n",
    "    ['metadata', 'node', 'package', 'source', 'target'],\n",
    "    direct=True,\n",
    "    opts={\n",
    "      'CATEGORIES': {\n",
    "          'service': ['node', 'source', 'target']\n",
    "      }  \n",
    "    })\n",
    "hg['graph'].plot()"
   ]
  },
  {
   "cell_type": "code",
   "execution_count": null,
   "metadata": {
    "collapsed": true
   },
   "outputs": [],
   "source": []
  }
 ],
 "metadata": {
  "kernelspec": {
   "display_name": "Python 2",
   "language": "python",
   "name": "python2"
  },
  "language_info": {
   "codemirror_mode": {
    "name": "ipython",
    "version": 2
   },
   "file_extension": ".py",
   "mimetype": "text/x-python",
   "name": "python",
   "nbconvert_exporter": "python",
   "pygments_lexer": "ipython2",
   "version": "2.7.13"
  }
 },
 "nbformat": 4,
 "nbformat_minor": 0
}
