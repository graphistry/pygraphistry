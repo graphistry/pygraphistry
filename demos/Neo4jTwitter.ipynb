{
 "cells": [
  {
   "cell_type": "markdown",
   "metadata": {},
   "source": [
    "# Neo4j Twitter Trolls Tutorial\n",
    "\n",
    "**Goal**: This notebook aims to show how to use PyGraphistry to visualize data from [Neo4j](https://neo4j.com/developer/). We also show how to use [graph algorithms in Neo4j](https://neo4j.com/developer/graph-algorithms/) and use PyGraphistry to visualize the result of those algorithms.\n",
    "\n",
    "*Prerequesties:* \n",
    "* You'll need a Graphistry API key, which you can request [here](https://www.graphistry.com/api-request)\n",
    "* Neo4j. We'll be using [Neo4j Sandbox](https://neo4j.com/sandbox-v2/) (free hosted Neo4j instances pre-populated with data) for this tutorial. Specifically the \"Russian Twitter Trolls\" sandbox. You can create a Neo4j Sandbox instance [here](https://neo4j.com/sandbox-v2/)\n",
    "* Python requirements:\n",
    "  * [`neo4j-driver`](https://github.com/neo4j/neo4j-python-driver) - `pip install neo4j-driver`\n",
    "  * [`pygraphistry`](https://github.com/graphistry/pygraphistry/) - `pip install \"graphistry[all]\"` \n",
    "  "
   ]
  },
  {
   "cell_type": "markdown",
   "metadata": {},
   "source": [
    "## Outline\n",
    "\n",
    "* Connecting to Neo4j \n",
    "  * using neo4j-driver Python client\n",
    "  * query with Cypher\n",
    "* Visualizing data in Graphistry from Neo4j \n",
    "  * User-User mentions from Twitter data\n",
    "* Graph algorithms\n",
    "  * Enhancing our visualization with PageRank"
   ]
  },
  {
   "cell_type": "code",
   "execution_count": 1,
   "metadata": {
    "collapsed": true
   },
   "outputs": [],
   "source": [
    "# import required dependencies\n",
    "from neo4j.v1 import GraphDatabase, basic_auth\n",
    "from pandas import DataFrame\n",
    "import graphistry"
   ]
  },
  {
   "cell_type": "code",
   "execution_count": 2,
   "metadata": {
    "collapsed": true
   },
   "outputs": [],
   "source": [
    "# register Graphisty API key\n",
    "# request an API key if you don't have one: https://www.graphistry.com/api-request\n",
    "graphistry.register(key='YOUR API KEY HERE')"
   ]
  },
  {
   "cell_type": "markdown",
   "metadata": {},
   "source": [
    "## Connect To Neo4j\n",
    "\n",
    "If you haven't already, create an instance of the Russian Twitter Trolls sandbox on [Neo4j Sandbox.](https://neo4j.com/sandbox-v2/) We'll use the [Python driver for Neo4j](https://github.com/neo4j/neo4j-python-driver) to fetch data from Neo4j. To do this we'll need to instantiate a `Driver` object, passing in the credentials for our Neo4j instance. If using Neo4j Sandbox you can find the credentials for your Neo4j instance in the \"Details\" tab. Specifically we need the IP address, bolt port, username, and password. Bolt is the binary protocol used by the Neo4j drivers so a typical database URL string takes the form `bolt://<IP_ADDRESS>:<BOLT_PORT>`\n",
    "\n",
    "![](./img/sandbox.png)"
   ]
  },
  {
   "cell_type": "code",
   "execution_count": 3,
   "metadata": {
    "collapsed": true
   },
   "outputs": [],
   "source": [
    "# instantiate Neo4j driver instance\n",
    "# be sure to replace the connection string and password with your own\n",
    "driver = GraphDatabase.driver(\"bolt://34.201.165.36:34532\", auth=basic_auth(\"neo4j\", \"capitals-quality-loads\"))"
   ]
  },
  {
   "cell_type": "markdown",
   "metadata": {},
   "source": [
    "Once we've instantiated our Driver, we can use `Session` objects to execute queries against Neo4j. Here we'll use `session.run()` to execute a [Cypher query](https://neo4j.com/developer/cypher-query-language/). Cypher is the query language for graphs that we use with Neo4j (you can think of Cypher as SQL for graphs)."
   ]
  },
  {
   "cell_type": "code",
   "execution_count": 4,
   "metadata": {},
   "outputs": [
    {
     "name": "stdout",
     "output_type": "stream",
     "text": [
      "<Record num=281217>\n"
     ]
    }
   ],
   "source": [
    "# neo4j-driver hello world\n",
    "# execute a simple query to count the number of nodes in the database and print the result\n",
    "with driver.session() as session:\n",
    "    results = session.run(\"MATCH (a) RETURN COUNT(a) AS num\")\n",
    "for record in results:\n",
    "    print(record)"
   ]
  },
  {
   "cell_type": "markdown",
   "metadata": {},
   "source": [
    "If we inspect the datamodel in Neo4j we can see that we have inormation about Tweets and specifically Users mentioned in tweets.\n",
    "\n",
    "![](./img/datamodel.png)\n",
    "\n",
    "Let's use Graphistry to visualize User-User Tweet mention interactions. We'll do this by querying Neo4j for all tweets that mention users."
   ]
  },
  {
   "cell_type": "markdown",
   "metadata": {},
   "source": [
    "## Using Graphistry With Neo4j\n",
    "\n",
    "Currently, PyGraphistry can work with data as a pandas DataFrame, NetworkX graph or IGraph graph object. In this section we'll show how to load data from Neo4j into PyGraphistry by converting results from the Python Neo4j driver into a pandas DataFrame.\n",
    "\n",
    "Our goal is to visualize User-User Tweet mention interactions. We'll create two pandas DataFrames, one representing our nodes (Users) and a second representing the relationships in our graph (mentions).\n",
    "\n",
    "Some users are known Troll accounts so we include a flag variable, `troll` to indicate when the user is a Troll. This will be used in our visualization to set the color of the known Troll accounts."
   ]
  },
  {
   "cell_type": "code",
   "execution_count": 7,
   "metadata": {},
   "outputs": [
    {
     "data": {
      "text/html": [
       "<div>\n",
       "<style>\n",
       "    .dataframe thead tr:only-child th {\n",
       "        text-align: right;\n",
       "    }\n",
       "\n",
       "    .dataframe thead th {\n",
       "        text-align: left;\n",
       "    }\n",
       "\n",
       "    .dataframe tbody tr th {\n",
       "        vertical-align: top;\n",
       "    }\n",
       "</style>\n",
       "<table border=\"1\" class=\"dataframe\">\n",
       "  <thead>\n",
       "    <tr style=\"text-align: right;\">\n",
       "      <th></th>\n",
       "      <th>screen_name</th>\n",
       "      <th>troll</th>\n",
       "    </tr>\n",
       "  </thead>\n",
       "  <tbody>\n",
       "    <tr>\n",
       "      <th>0</th>\n",
       "      <td>robbydelaware</td>\n",
       "      <td>5</td>\n",
       "    </tr>\n",
       "    <tr>\n",
       "      <th>1</th>\n",
       "      <td>scottgohard</td>\n",
       "      <td>5</td>\n",
       "    </tr>\n",
       "    <tr>\n",
       "      <th>2</th>\n",
       "      <td>beckster319</td>\n",
       "      <td>5</td>\n",
       "    </tr>\n",
       "    <tr>\n",
       "      <th>3</th>\n",
       "      <td>skatewake1994</td>\n",
       "      <td>5</td>\n",
       "    </tr>\n",
       "    <tr>\n",
       "      <th>4</th>\n",
       "      <td>kadirovrussia</td>\n",
       "      <td>5</td>\n",
       "    </tr>\n",
       "  </tbody>\n",
       "</table>\n",
       "</div>"
      ],
      "text/plain": [
       "     screen_name  troll\n",
       "0  robbydelaware      5\n",
       "1    scottgohard      5\n",
       "2    beckster319      5\n",
       "3  skatewake1994      5\n",
       "4  kadirovrussia      5"
      ]
     },
     "execution_count": 7,
     "metadata": {},
     "output_type": "execute_result"
    }
   ],
   "source": [
    "# Create User DataFrame by querying Neo4j, converting the results into a pandas DataFrame\n",
    "with driver.session() as session:\n",
    "    results = session.run(\"\"\"\n",
    "    MATCH (u:User) \n",
    "    WITH u.user_key AS screen_name, CASE WHEN \"Troll\" IN labels(u) THEN 5 ELSE 0 END AS troll\n",
    "    RETURN screen_name, troll\"\"\")\n",
    "    users = DataFrame(results.data())\n",
    "# show the first 5 rows of the DataFrame\n",
    "users[:5]"
   ]
  },
  {
   "cell_type": "markdown",
   "metadata": {},
   "source": [
    "Next, we need some relationships to visualize. In this case we are interested in visualizing user interactions, specifically where users have mentioned users in Tweets."
   ]
  },
  {
   "cell_type": "code",
   "execution_count": 8,
   "metadata": {},
   "outputs": [
    {
     "data": {
      "text/html": [
       "<div>\n",
       "<style>\n",
       "    .dataframe thead tr:only-child th {\n",
       "        text-align: right;\n",
       "    }\n",
       "\n",
       "    .dataframe thead th {\n",
       "        text-align: left;\n",
       "    }\n",
       "\n",
       "    .dataframe tbody tr th {\n",
       "        vertical-align: top;\n",
       "    }\n",
       "</style>\n",
       "<table border=\"1\" class=\"dataframe\">\n",
       "  <thead>\n",
       "    <tr style=\"text-align: right;\">\n",
       "      <th></th>\n",
       "      <th>num</th>\n",
       "      <th>u1</th>\n",
       "      <th>u2</th>\n",
       "    </tr>\n",
       "  </thead>\n",
       "  <tbody>\n",
       "    <tr>\n",
       "      <th>0</th>\n",
       "      <td>1</td>\n",
       "      <td>dorothiebell</td>\n",
       "      <td>dwstweets</td>\n",
       "    </tr>\n",
       "    <tr>\n",
       "      <th>1</th>\n",
       "      <td>1</td>\n",
       "      <td>happkendrahappy</td>\n",
       "      <td>nineworthies</td>\n",
       "    </tr>\n",
       "    <tr>\n",
       "      <th>2</th>\n",
       "      <td>2</td>\n",
       "      <td>aiden7757</td>\n",
       "      <td>theclobra</td>\n",
       "    </tr>\n",
       "    <tr>\n",
       "      <th>3</th>\n",
       "      <td>1</td>\n",
       "      <td>ameliebaldwin</td>\n",
       "      <td>dcclothesline</td>\n",
       "    </tr>\n",
       "    <tr>\n",
       "      <th>4</th>\n",
       "      <td>9</td>\n",
       "      <td>ameliebaldwin</td>\n",
       "      <td>jturnershow</td>\n",
       "    </tr>\n",
       "  </tbody>\n",
       "</table>\n",
       "</div>"
      ],
      "text/plain": [
       "   num               u1             u2\n",
       "0    1     dorothiebell      dwstweets\n",
       "1    1  happkendrahappy   nineworthies\n",
       "2    2        aiden7757      theclobra\n",
       "3    1    ameliebaldwin  dcclothesline\n",
       "4    9    ameliebaldwin    jturnershow"
      ]
     },
     "execution_count": 8,
     "metadata": {},
     "output_type": "execute_result"
    }
   ],
   "source": [
    "# Query for tweets mentioning a user and create a DataFrame adjacency list using screen_name\n",
    "# where u1 posted a tweet(s) that mentions u2\n",
    "# num is the number of time u1 mentioned u2 in the dataset\n",
    "with driver.session() as session:\n",
    "    results = session.run(\"\"\"\n",
    "        MATCH (u1:User)-[:POSTED]->(:Tweet)-[:MENTIONS]->(u2:User)\n",
    "        RETURN u1.user_key AS u1, u2.user_key AS u2, COUNT(*) AS num\n",
    "    \"\"\")\n",
    "    mentions  = DataFrame(results.data())\n",
    "mentions[:5]"
   ]
  },
  {
   "cell_type": "markdown",
   "metadata": {},
   "source": [
    "Now we can visualize this mentions network using Graphistry. We'll specify the nodes and relationships for our graph. We'll also use the `troll` property to color the known Troll nodes red, setting them apart from other users in the graph."
   ]
  },
  {
   "cell_type": "code",
   "execution_count": 9,
   "metadata": {},
   "outputs": [
    {
     "data": {
      "text/html": [
       "\n",
       "            <iframe id=\"ba7fe481-18aa-49ba-ae02-8e1436099dd3\" src=\"https://labs.graphistry.com/graph/graph.html?dataset=PyGraphistry/MDMIHKT3LP&type=vgraph&viztoken=32530e0016e290b621e39902d5a0990ab9dec31a&usertag=654554e3-pygraphistry-0.9.54&splashAfter=1522171946&info=true\"\n",
       "                    allowfullscreen=\"true\" webkitallowfullscreen=\"true\" mozallowfullscreen=\"true\"\n",
       "                    oallowfullscreen=\"true\" msallowfullscreen=\"true\"\n",
       "                    style=\"width:100%; height:500px; border: 1px solid #DDD\">\n",
       "            </iframe>\n",
       "        \n",
       "            <script>\n",
       "                $(\"#ba7fe481-18aa-49ba-ae02-8e1436099dd3\").bind('mousewheel', function(e) {\n",
       "                e.preventDefault();\n",
       "                });\n",
       "            </script>\n",
       "        "
      ],
      "text/plain": [
       "<IPython.core.display.HTML object>"
      ]
     },
     "execution_count": 9,
     "metadata": {},
     "output_type": "execute_result"
    }
   ],
   "source": [
    "viz = graphistry.bind(source=\"u1\", destination=\"u2\", node=\"screen_name\", point_color=\"troll\").nodes(users).edges(mentions)\n",
    "viz.plot()"
   ]
  },
  {
   "cell_type": "markdown",
   "metadata": {},
   "source": [
    "After running the above Python cell you should see an interactive Graphistry visualization like this:\n",
    "\n",
    "![](./img/graphistry1.png)\n",
    "\n",
    "Known Troll user nodes are colored red, regular users colored blue. By default, the size of the nodes is proportional to the degree of the node (number of relationships). We'll see in the next section how we can use graph algorithms such as PageRank and visualize the results of those algorithms in Graphistry."
   ]
  },
  {
   "cell_type": "markdown",
   "metadata": {
    "collapsed": true
   },
   "source": [
    "## Graph Algorithms\n",
    "\n",
    "The above visualization shows us User-User Tweet mention interactions from the data. What if we wanted to answer the question \"Who is the most important user in this network?\". One way to answer that would be to look at the degree, or number of relationships, of each node. By default, PyGraphistry uses degree to style the size of the node, allowing us to determine importance of nodes at a glance. \n",
    "\n",
    "We can also use [graph algorithms](https://github.com/neo4j-contrib/neo4j-graph-algorithms) such as PageRank to determine importance in the network. In this section we show how to [run graph algorithms in Neo4j](https://neo4j.com/developer/graph-algorithms/) and use the results of these algorithms in our Graphistry visualization."
   ]
  },
  {
   "cell_type": "code",
   "execution_count": 10,
   "metadata": {
    "collapsed": true
   },
   "outputs": [],
   "source": [
    "# run PageRank on the projected mentions graph and update nodes by adding a pagerank property score\n",
    "with driver.session() as session:\n",
    "    session.run(\"\"\"\n",
    "        CALL algo.pageRank(\"MATCH (t:User) RETURN id(t) AS id\",\n",
    "         \"MATCH (u1:User)-[:POSTED]->(:Tweet)-[:MENTIONS]->(u2:User) \n",
    "         RETURN id(u1) as source, id(u2) as target\", {graph:'cypher', write: true})\n",
    "     \"\"\")"
   ]
  },
  {
   "cell_type": "markdown",
   "metadata": {},
   "source": [
    "Now that we've calculated PageRank for each User node we need to create a new pandas DataFrame for our user nodes by querying Neo4j:"
   ]
  },
  {
   "cell_type": "code",
   "execution_count": 11,
   "metadata": {},
   "outputs": [
    {
     "data": {
      "text/html": [
       "<div>\n",
       "<style>\n",
       "    .dataframe thead tr:only-child th {\n",
       "        text-align: right;\n",
       "    }\n",
       "\n",
       "    .dataframe thead th {\n",
       "        text-align: left;\n",
       "    }\n",
       "\n",
       "    .dataframe tbody tr th {\n",
       "        vertical-align: top;\n",
       "    }\n",
       "</style>\n",
       "<table border=\"1\" class=\"dataframe\">\n",
       "  <thead>\n",
       "    <tr style=\"text-align: right;\">\n",
       "      <th></th>\n",
       "      <th>pagerank</th>\n",
       "      <th>screen_name</th>\n",
       "      <th>troll</th>\n",
       "    </tr>\n",
       "  </thead>\n",
       "  <tbody>\n",
       "    <tr>\n",
       "      <th>0</th>\n",
       "      <td>0.150000</td>\n",
       "      <td>robbydelaware</td>\n",
       "      <td>5</td>\n",
       "    </tr>\n",
       "    <tr>\n",
       "      <th>1</th>\n",
       "      <td>0.151547</td>\n",
       "      <td>scottgohard</td>\n",
       "      <td>5</td>\n",
       "    </tr>\n",
       "    <tr>\n",
       "      <th>2</th>\n",
       "      <td>0.150000</td>\n",
       "      <td>beckster319</td>\n",
       "      <td>5</td>\n",
       "    </tr>\n",
       "    <tr>\n",
       "      <th>3</th>\n",
       "      <td>0.150000</td>\n",
       "      <td>skatewake1994</td>\n",
       "      <td>5</td>\n",
       "    </tr>\n",
       "    <tr>\n",
       "      <th>4</th>\n",
       "      <td>0.150000</td>\n",
       "      <td>kadirovrussia</td>\n",
       "      <td>5</td>\n",
       "    </tr>\n",
       "  </tbody>\n",
       "</table>\n",
       "</div>"
      ],
      "text/plain": [
       "   pagerank    screen_name  troll\n",
       "0  0.150000  robbydelaware      5\n",
       "1  0.151547    scottgohard      5\n",
       "2  0.150000    beckster319      5\n",
       "3  0.150000  skatewake1994      5\n",
       "4  0.150000  kadirovrussia      5"
      ]
     },
     "execution_count": 11,
     "metadata": {},
     "output_type": "execute_result"
    }
   ],
   "source": [
    "# create a new users DataFrame, now including PageRank score for each user\n",
    "with driver.session() as session:\n",
    "    results = session.run(\"\"\"\n",
    "    MATCH (u:User) \n",
    "    WITH u.user_key AS screen_name, u.pagerank AS pagerank, CASE WHEN \"Troll\" IN labels(u) THEN 5 ELSE 0 END AS troll\n",
    "    RETURN screen_name, pagerank, troll\"\"\")\n",
    "    users = DataFrame(results.data())\n",
    "users[:5]"
   ]
  },
  {
   "cell_type": "code",
   "execution_count": 12,
   "metadata": {
    "scrolled": true
   },
   "outputs": [
    {
     "data": {
      "text/html": [
       "\n",
       "            <iframe id=\"a052d39a-ee41-4612-aafa-5069f7a49331\" src=\"https://labs.graphistry.com/graph/graph.html?dataset=PyGraphistry/ZSFIL9MG89&type=vgraph&viztoken=45016dc5c70863d82488af43626e22a55d2875d8&usertag=654554e3-pygraphistry-0.9.54&splashAfter=1522172154&info=true\"\n",
       "                    allowfullscreen=\"true\" webkitallowfullscreen=\"true\" mozallowfullscreen=\"true\"\n",
       "                    oallowfullscreen=\"true\" msallowfullscreen=\"true\"\n",
       "                    style=\"width:100%; height:500px; border: 1px solid #DDD\">\n",
       "            </iframe>\n",
       "        \n",
       "            <script>\n",
       "                $(\"#a052d39a-ee41-4612-aafa-5069f7a49331\").bind('mousewheel', function(e) {\n",
       "                e.preventDefault();\n",
       "                });\n",
       "            </script>\n",
       "        "
      ],
      "text/plain": [
       "<IPython.core.display.HTML object>"
      ]
     },
     "execution_count": 12,
     "metadata": {},
     "output_type": "execute_result"
    }
   ],
   "source": [
    "# render the Graphistry visualization, binding node size to PageRank score\n",
    "viz = graphistry.bind(source=\"u1\", destination=\"u2\", node=\"screen_name\", point_size=\"pagerank\", point_color=\"troll\").nodes(users).edges(mentions)\n",
    "viz.plot()"
   ]
  },
  {
   "cell_type": "markdown",
   "metadata": {},
   "source": [
    "Now when we render the Graphistry visualization, node size is proprtional to the node's PageRank score. This results in a different set of nodes that are identified as most important. \n",
    "\n",
    "![](./img/graphistry2.png)\n",
    "\n",
    "By binding node size to the results of graph algorithms we are able to draw insight from the data at a glance and further explore the interactive visualization.\n"
   ]
  },
  {
   "cell_type": "code",
   "execution_count": null,
   "metadata": {
    "collapsed": true
   },
   "outputs": [],
   "source": []
  }
 ],
 "metadata": {
  "kernelspec": {
   "display_name": "Python 3",
   "language": "python",
   "name": "python3"
  },
  "language_info": {
   "codemirror_mode": {
    "name": "ipython",
    "version": 3
   },
   "file_extension": ".py",
   "mimetype": "text/x-python",
   "name": "python",
   "nbconvert_exporter": "python",
   "pygments_lexer": "ipython3",
   "version": "3.6.1"
  }
 },
 "nbformat": 4,
 "nbformat_minor": 2
}
