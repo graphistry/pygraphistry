{
 "cells": [
  {
   "cell_type": "code",
   "execution_count": 1,
   "metadata": {
    "collapsed": true,
    "deletable": true,
    "editable": true
   },
   "outputs": [],
   "source": [
    "import graphistry\n",
    "#graphistry.register('MY_API_KEY', server='labs.graphistry.com') #https://www.graphistry.com/api-request\n",
    "import networkx as nx"
   ]
  },
  {
   "cell_type": "code",
   "execution_count": 2,
   "metadata": {
    "collapsed": false,
    "deletable": true,
    "editable": true
   },
   "outputs": [
    {
     "data": {
      "text/html": [
       "\n",
       "            <iframe id=\"5cd67138-c954-4e80-946b-04036da8da78\" src=\"https://labs.graphistry.com/graph/graph.html?dataset=PyGraphistry/R1I6G7TE2X&type=vgraph&viztoken=21bdf78079cfc5dbeae2d549b4ecb4f1c0b724a7&usertag=86f11264-pygraphistry-0.9.63&splashAfter=1554745717&info=true\"\n",
       "                    allowfullscreen=\"true\" webkitallowfullscreen=\"true\" mozallowfullscreen=\"true\"\n",
       "                    oallowfullscreen=\"true\" msallowfullscreen=\"true\"\n",
       "                    style=\"width:100%; height:500px; border: 1px solid #DDD\">\n",
       "            </iframe>\n",
       "        \n",
       "            <script>\n",
       "                $(\"#5cd67138-c954-4e80-946b-04036da8da78\").bind('mousewheel', function(e) {\n",
       "                e.preventDefault();\n",
       "                });\n",
       "            </script>\n",
       "        "
      ],
      "text/plain": [
       "<IPython.core.display.HTML object>"
      ]
     },
     "execution_count": 2,
     "metadata": {},
     "output_type": "execute_result"
    }
   ],
   "source": [
    "G=nx.Graph()\n",
    "G.add_nodes_from([\n",
    "    (1, {\"v\": \"one\"}), \n",
    "    (2, {\"v\": \"two\"}), \n",
    "    (3, {\"v\": \"three\"}), \n",
    "    (4, {\"v\": \"four\"}), \n",
    "    (7, {\"v\": \"seven\"}), \n",
    "    (8, {\"v\": \"eight\"})])\n",
    "G.add_edges_from([\n",
    "    [2,3], \n",
    "    [3,4], \n",
    "    [7,8]])\n",
    "graphistry.bind(source='src', destination='dst', node='nodeid').plot(G)"
   ]
  },
  {
   "cell_type": "code",
   "execution_count": null,
   "metadata": {
    "collapsed": true,
    "deletable": true,
    "editable": true
   },
   "outputs": [],
   "source": []
  }
 ],
 "metadata": {
  "kernelspec": {
   "display_name": "Python 2",
   "language": "python",
   "name": "python2"
  },
  "language_info": {
   "codemirror_mode": {
    "name": "ipython",
    "version": 2
   },
   "file_extension": ".py",
   "mimetype": "text/x-python",
   "name": "python",
   "nbconvert_exporter": "python",
   "pygments_lexer": "ipython2",
   "version": "2.7.13"
  }
 },
 "nbformat": 4,
 "nbformat_minor": 2
}
