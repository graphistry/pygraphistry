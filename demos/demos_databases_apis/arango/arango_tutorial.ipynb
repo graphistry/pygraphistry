{
 "cells": [
  {
   "cell_type": "markdown",
   "metadata": {},
   "source": [
    "# ArangoDB with Graphistry\n",
    "We explore Game of Thrones data in `ArangoDB` to show how Arango's graph support interops with Graphistry pretty quickly. \n",
    "\n",
    "This tutorial shares two sample transforms:\n",
    "* Visualize the full graph\n",
    "* Visualize the result of a traversal query\n",
    "\n",
    "Each runs an AQL query via `python-arango`, automatically converts to `pandas`, and plots with `graphistry`."
   ]
  },
  {
   "cell_type": "markdown",
   "metadata": {},
   "source": [
    "## Setup"
   ]
  },
  {
   "cell_type": "code",
   "execution_count": null,
   "metadata": {
    "collapsed": true
   },
   "outputs": [],
   "source": [
    "!pip install python-arango --user -q"
   ]
  },
  {
   "cell_type": "code",
   "execution_count": 1,
   "metadata": {
    "collapsed": true
   },
   "outputs": [],
   "source": [
    "from arango import ArangoClient\n",
    "import pandas as pd\n",
    "import graphistry"
   ]
  },
  {
   "cell_type": "code",
   "execution_count": 3,
   "metadata": {
    "collapsed": true
   },
   "outputs": [],
   "source": [
    "def paths_to_graph(paths, source='_from', destination='_to', node='_id'):\n",
    "    nodes_df = pd.DataFrame()\n",
    "    edges_df = pd.DataFrame()\n",
    "    for graph in paths:\n",
    "        nodes_df = pd.concat([ nodes_df, pd.DataFrame(graph['vertices']) ], ignore_index=True)\n",
    "        edges_df = pd.concat([ edges_df, pd.DataFrame(graph['edges']) ], ignore_index=True)\n",
    "    nodes_df = nodes_df.drop_duplicates([node])\n",
    "    edges_df = edges_df.drop_duplicates([node])\n",
    "    return graphistry.bind(source=source, destination=destination, node=node).nodes(nodes_df).edges(edges_df)\n",
    "\n",
    "def graph_to_graphistry(graph, source='_from', destination='_to', node='_id'):\n",
    "    nodes_df = pd.DataFrame()\n",
    "    for vc_name in graph.vertex_collections():\n",
    "        nodes_df = pd.concat([nodes_df, pd.DataFrame([x for x in graph.vertex_collection(vc_name)])], ignore_index=True)\n",
    "    edges_df = pd.DataFrame()\n",
    "    for edge_def in graph.edge_definitions():\n",
    "        edges_df = pd.concat([edges_df, pd.DataFrame([x for x in graph.edge_collection(edge_def['edge_collection'])])], ignore_index=True)\n",
    "    return graphistry.bind(source=source, destination=destination, node=node).nodes(nodes_df).edges(edges_df)"
   ]
  },
  {
   "cell_type": "markdown",
   "metadata": {},
   "source": [
    "## Connect"
   ]
  },
  {
   "cell_type": "code",
   "execution_count": null,
   "metadata": {
    "collapsed": true
   },
   "outputs": [],
   "source": [
    "#graphistry.register(key=\"...\", protocol=\"https\", server=\"www.site.com\", api=1)"
   ]
  },
  {
   "cell_type": "code",
   "execution_count": 4,
   "metadata": {
    "collapsed": true
   },
   "outputs": [],
   "source": [
    "client = ArangoClient(protocol='http', host='localhost', port=8529)\n",
    "db = client.db('GoT', username='root', password='1234')"
   ]
  },
  {
   "cell_type": "markdown",
   "metadata": {},
   "source": [
    "## Demo 1: Traversal viz\n",
    "* Use `python-arango`'s `traverse()` call to descendants of Ned Stark\n",
    "* Convert result paths to pandas and Graphistry\n",
    "* Plot, and instead of using raw Arango vertex IDs, use the first name"
   ]
  },
  {
   "cell_type": "code",
   "execution_count": 7,
   "metadata": {
    "collapsed": false
   },
   "outputs": [],
   "source": [
    "paths = db.graph('theGraph').traverse(\n",
    "    start_vertex='Characters/4814',\n",
    "    direction='outbound',\n",
    "    strategy='breadthfirst'\n",
    ")['paths']"
   ]
  },
  {
   "cell_type": "code",
   "execution_count": 8,
   "metadata": {
    "collapsed": false,
    "scrolled": false
   },
   "outputs": [
    {
     "data": {
      "text/html": [
       "\n",
       "            <iframe id=\"63efb2c0-7deb-4f42-b0a9-41070b2ab2fd\" src=\"https://labs.graphistry.com/graph/graph.html?dataset=PyGraphistry/JBHQ5GRUFN&type=vgraph&viztoken=f4f39c8abdf934f8ef242200c99644e2643292ae&usertag=86f11264-pygraphistry-0.9.63&splashAfter=1557987058&info=true\"\n",
       "                    allowfullscreen=\"true\" webkitallowfullscreen=\"true\" mozallowfullscreen=\"true\"\n",
       "                    oallowfullscreen=\"true\" msallowfullscreen=\"true\"\n",
       "                    style=\"width:100%; height:500px; border: 1px solid #DDD\">\n",
       "            </iframe>\n",
       "        \n",
       "            <script>\n",
       "                $(\"#63efb2c0-7deb-4f42-b0a9-41070b2ab2fd\").bind('mousewheel', function(e) {\n",
       "                e.preventDefault();\n",
       "                });\n",
       "            </script>\n",
       "        "
      ],
      "text/plain": [
       "<IPython.core.display.HTML object>"
      ]
     },
     "execution_count": 8,
     "metadata": {},
     "output_type": "execute_result"
    }
   ],
   "source": [
    "g = paths_to_graph(paths)\n",
    "g.bind(point_title='name').plot()"
   ]
  },
  {
   "cell_type": "markdown",
   "metadata": {},
   "source": [
    "## Demo 2: Full graph\n",
    "* Use `python-arango` on a graph to identify and download the involved vertex/edge collections\n",
    "* Convert the results to pandas and Graphistry\n",
    "* Plot, and instead of using raw Arango vertex IDs, use the first name"
   ]
  },
  {
   "cell_type": "code",
   "execution_count": 11,
   "metadata": {
    "collapsed": false
   },
   "outputs": [
    {
     "data": {
      "text/html": [
       "\n",
       "            <iframe id=\"6f7b4310-eaf4-4cea-bcb3-bbdd5866e7e8\" src=\"https://labs.graphistry.com/graph/graph.html?dataset=PyGraphistry/RFF32HRW51&type=vgraph&viztoken=d2f7e83db79c44f251b9c900a46043b1868ca7f4&usertag=86f11264-pygraphistry-0.9.63&splashAfter=1557987249&info=true\"\n",
       "                    allowfullscreen=\"true\" webkitallowfullscreen=\"true\" mozallowfullscreen=\"true\"\n",
       "                    oallowfullscreen=\"true\" msallowfullscreen=\"true\"\n",
       "                    style=\"width:100%; height:500px; border: 1px solid #DDD\">\n",
       "            </iframe>\n",
       "        \n",
       "            <script>\n",
       "                $(\"#6f7b4310-eaf4-4cea-bcb3-bbdd5866e7e8\").bind('mousewheel', function(e) {\n",
       "                e.preventDefault();\n",
       "                });\n",
       "            </script>\n",
       "        "
      ],
      "text/plain": [
       "<IPython.core.display.HTML object>"
      ]
     },
     "execution_count": 11,
     "metadata": {},
     "output_type": "execute_result"
    }
   ],
   "source": [
    "g = graph_to_graphistry( db.graph('theGraph') )\n",
    "g.bind(point_title='name').plot()"
   ]
  },
  {
   "cell_type": "code",
   "execution_count": null,
   "metadata": {
    "collapsed": true
   },
   "outputs": [],
   "source": []
  }
 ],
 "metadata": {
  "kernelspec": {
   "display_name": "Python 2",
   "language": "python",
   "name": "python2"
  },
  "language_info": {
   "codemirror_mode": {
    "name": "ipython",
    "version": 2
   },
   "file_extension": ".py",
   "mimetype": "text/x-python",
   "name": "python",
   "nbconvert_exporter": "python",
   "pygments_lexer": "ipython2",
   "version": "2.7.13"
  }
 },
 "nbformat": 4,
 "nbformat_minor": 2
}
