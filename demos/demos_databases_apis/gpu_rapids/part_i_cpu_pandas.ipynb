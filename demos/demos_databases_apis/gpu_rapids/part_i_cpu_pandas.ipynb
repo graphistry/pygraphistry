{
  "nbformat": 4,
  "nbformat_minor": 0,
  "metadata": {
    "colab": {
      "name": "pandas_zeek_tutorial.ipynb",
      "version": "0.3.2",
      "provenance": [],
      "collapsed_sections": []
    },
    "kernelspec": {
      "name": "python3",
      "display_name": "Python 3"
    }
  },
  "cells": [
    {
      "metadata": {
        "id": "qcTqNhTLSn92",
        "colab_type": "text"
      },
      "cell_type": "markdown",
      "source": [
        "# Visual GPU Log Analytics with I: CPU Baseline in Python Pandas\n",
        "\n",
        "Graphistry is great -- Graphistry and RAPIDS/BlazingDB is better!\n",
        "\n",
        "This tutorial series visually analyzes Zeek/Bro network connection logs using three different compute engines:\n",
        "\n",
        "* Part I: CPU Baseline in Python Pandas\n",
        "* Part II: GPU Dataframe with RAPIDS Python bindings\n",
        "* Part III: GPU Dataframe with BlazingDB SQL interface to RAPIDS\n",
        "\n",
        "\n",
        "**Part I Contents:**\n",
        "\n",
        "Time using CPU-based Python Pandas and Graphistry for a full ETL & visual analysis flow:\n",
        "\n",
        "1. Load data\n",
        "2. Analyze data\n",
        "3. Visualize data\n",
        "\n"
      ]
    },
    {
      "metadata": {
        "id": "9LtQYjLeVgbH",
        "colab_type": "code",
        "outputId": "2dc3ed41-afae-472a-9549-b9fec1512fb3",
        "colab": {
          "base_uri": "https://localhost:8080/",
          "height": 34
        }
      },
      "cell_type": "code",
      "source": [
        "#!pip install graphistry -q\n",
        "\n",
        "\n",
        "import pandas as pd\n",
        "\n",
        "import graphistry\n",
        "#graphistry.register(key='MY_KEY', protocol='https', server='graphistry.site.com')\n",
        "graphistry.__version__"
      ],
      "execution_count": 0,
      "outputs": [
        {
          "output_type": "execute_result",
          "data": {
            "text/plain": [
              "'0.9.64'"
            ]
          },
          "metadata": {
            "tags": []
          },
          "execution_count": 57
        }
      ]
    },
    {
      "metadata": {
        "id": "_QFEbK3ZS0Dz",
        "colab_type": "text"
      },
      "cell_type": "markdown",
      "source": [
        "## 1. Load data"
      ]
    },
    {
      "metadata": {
        "id": "lJ2J-WqRShBG",
        "colab_type": "code",
        "outputId": "012612a6-7b9c-4e14-eb53-617d5fc8832a",
        "colab": {
          "base_uri": "https://localhost:8080/",
          "height": 173
        }
      },
      "cell_type": "code",
      "source": [
        "%%time\n",
        "!curl https://www.secrepo.com/maccdc2012/conn.log.gz | gzip -d > conn.log\n",
        "  \n",
        "!head -n 3 conn.log"
      ],
      "execution_count": 0,
      "outputs": [
        {
          "output_type": "stream",
          "text": [
            "  % Total    % Received % Xferd  Average Speed   Time    Time     Time  Current\n",
            "                                 Dload  Upload   Total   Spent    Left  Speed\n",
            "100  523M  100  523M    0     0  10.4M      0  0:00:50  0:00:50 --:--:-- 4361k\n",
            "1331901000.000000\tCCUIP21wTjqkj8ZqX5\t192.168.202.79\t50463\t192.168.229.251\t80\ttcp\t-\t-\t-\t-\tSH\t-\t0\tFa\t1\t52\t1\t52\t(empty)\n",
            "1331901000.000000\tCsssjd3tX0yOTPDpng\t192.168.202.79\t46117\t192.168.229.254\t443\ttcp\t-\t-\t-\t-\tSF\t-\t0\tdDafFr\t3\t382\t9\t994\t(empty)\n",
            "1331901000.000000\tCHEt7z3AzG4gyCNgci\t192.168.202.79\t50465\t192.168.229.251\t80\ttcp\thttp\t0.010000\t166\t214\tSF\t-\t0\tShADfFa\t4\t382\t3\t382\t(empty)\n",
            "CPU times: user 429 ms, sys: 83.2 ms, total: 512 ms\n",
            "Wall time: 58.3 s\n"
          ],
          "name": "stdout"
        }
      ]
    },
    {
      "metadata": {
        "id": "0n3GntBtaEdp",
        "colab_type": "code",
        "colab": {}
      },
      "cell_type": "code",
      "source": [
        "!awk 'NR % 20 == 0' < conn.log > conn-5pc.log"
      ],
      "execution_count": 0,
      "outputs": []
    },
    {
      "metadata": {
        "id": "feX0HpabTEg9",
        "colab_type": "code",
        "outputId": "3ec75ec1-8435-4633-a852-17b4739d3786",
        "colab": {
          "base_uri": "https://localhost:8080/",
          "height": 51
        }
      },
      "cell_type": "code",
      "source": [
        "%%time\n",
        "df = pd.read_csv(\"./conn-5pc.log\", sep=\"\\t\", header=None, \n",
        "                 names=[\"time\", \"uid\", \"id.orig_h\", \"id.orig_p\", \"id.resp_h\", \"id.resp_p\", \"proto\", \"service\",\n",
        "                        \"duration\", \"orig_bytes\", \"resp_bytes\", \"conn_state\", \"local_orig\", \"missed_bytes\",\n",
        "                        \"history\", \"orig_pkts\", \"orig_ip_bytes\", \"resp_pkts\", \"resp_ip_bytes\", \"tunnel_parents\"], \n",
        "                 na_values=['-'], index_col=False)"
      ],
      "execution_count": 0,
      "outputs": [
        {
          "output_type": "stream",
          "text": [
            "CPU times: user 3.87 s, sys: 107 ms, total: 3.98 s\n",
            "Wall time: 3.98 s\n"
          ],
          "name": "stdout"
        }
      ]
    },
    {
      "metadata": {
        "id": "lsCGdXptTStw",
        "colab_type": "code",
        "outputId": "00472383-78d6-4efc-a68b-218acdfb7cbd",
        "colab": {
          "base_uri": "https://localhost:8080/",
          "height": 162
        }
      },
      "cell_type": "code",
      "source": [
        "df.sample(3)"
      ],
      "execution_count": 0,
      "outputs": [
        {
          "output_type": "execute_result",
          "data": {
            "text/html": [
              "<div>\n",
              "<style scoped>\n",
              "    .dataframe tbody tr th:only-of-type {\n",
              "        vertical-align: middle;\n",
              "    }\n",
              "\n",
              "    .dataframe tbody tr th {\n",
              "        vertical-align: top;\n",
              "    }\n",
              "\n",
              "    .dataframe thead th {\n",
              "        text-align: right;\n",
              "    }\n",
              "</style>\n",
              "<table border=\"1\" class=\"dataframe\">\n",
              "  <thead>\n",
              "    <tr style=\"text-align: right;\">\n",
              "      <th></th>\n",
              "      <th>time</th>\n",
              "      <th>uid</th>\n",
              "      <th>id.orig_h</th>\n",
              "      <th>id.orig_p</th>\n",
              "      <th>id.resp_h</th>\n",
              "      <th>id.resp_p</th>\n",
              "      <th>proto</th>\n",
              "      <th>service</th>\n",
              "      <th>duration</th>\n",
              "      <th>orig_bytes</th>\n",
              "      <th>resp_bytes</th>\n",
              "      <th>conn_state</th>\n",
              "      <th>local_orig</th>\n",
              "      <th>missed_bytes</th>\n",
              "      <th>history</th>\n",
              "      <th>orig_pkts</th>\n",
              "      <th>orig_ip_bytes</th>\n",
              "      <th>resp_pkts</th>\n",
              "      <th>resp_ip_bytes</th>\n",
              "      <th>tunnel_parents</th>\n",
              "    </tr>\n",
              "  </thead>\n",
              "  <tbody>\n",
              "    <tr>\n",
              "      <th>325356</th>\n",
              "      <td>1.331909e+09</td>\n",
              "      <td>Cbmxx3GZgu3UTY1z5</td>\n",
              "      <td>192.168.202.110</td>\n",
              "      <td>54276</td>\n",
              "      <td>192.168.22.25</td>\n",
              "      <td>16632</td>\n",
              "      <td>tcp</td>\n",
              "      <td>NaN</td>\n",
              "      <td>NaN</td>\n",
              "      <td>NaN</td>\n",
              "      <td>NaN</td>\n",
              "      <td>S0</td>\n",
              "      <td>NaN</td>\n",
              "      <td>0</td>\n",
              "      <td>S</td>\n",
              "      <td>1</td>\n",
              "      <td>48</td>\n",
              "      <td>0</td>\n",
              "      <td>0</td>\n",
              "      <td>(empty)</td>\n",
              "    </tr>\n",
              "    <tr>\n",
              "      <th>393047</th>\n",
              "      <td>1.331919e+09</td>\n",
              "      <td>Cuefli1GJCgCJFRCWc</td>\n",
              "      <td>192.168.202.110</td>\n",
              "      <td>51711</td>\n",
              "      <td>192.168.229.156</td>\n",
              "      <td>24452</td>\n",
              "      <td>tcp</td>\n",
              "      <td>NaN</td>\n",
              "      <td>NaN</td>\n",
              "      <td>NaN</td>\n",
              "      <td>NaN</td>\n",
              "      <td>REJ</td>\n",
              "      <td>NaN</td>\n",
              "      <td>0</td>\n",
              "      <td>Sr</td>\n",
              "      <td>1</td>\n",
              "      <td>48</td>\n",
              "      <td>1</td>\n",
              "      <td>40</td>\n",
              "      <td>(empty)</td>\n",
              "    </tr>\n",
              "    <tr>\n",
              "      <th>1118412</th>\n",
              "      <td>1.332015e+09</td>\n",
              "      <td>CQGrBY1wejAKTunwy3</td>\n",
              "      <td>192.168.202.136</td>\n",
              "      <td>38980</td>\n",
              "      <td>192.168.21.152</td>\n",
              "      <td>3659</td>\n",
              "      <td>tcp</td>\n",
              "      <td>NaN</td>\n",
              "      <td>NaN</td>\n",
              "      <td>NaN</td>\n",
              "      <td>NaN</td>\n",
              "      <td>S0</td>\n",
              "      <td>NaN</td>\n",
              "      <td>0</td>\n",
              "      <td>S</td>\n",
              "      <td>1</td>\n",
              "      <td>44</td>\n",
              "      <td>0</td>\n",
              "      <td>0</td>\n",
              "      <td>(empty)</td>\n",
              "    </tr>\n",
              "  </tbody>\n",
              "</table>\n",
              "</div>"
            ],
            "text/plain": [
              "                 time                 uid        id.orig_h  id.orig_p  \\\n",
              "325356   1.331909e+09   Cbmxx3GZgu3UTY1z5  192.168.202.110      54276   \n",
              "393047   1.331919e+09  Cuefli1GJCgCJFRCWc  192.168.202.110      51711   \n",
              "1118412  1.332015e+09  CQGrBY1wejAKTunwy3  192.168.202.136      38980   \n",
              "\n",
              "               id.resp_h  id.resp_p proto service  duration  orig_bytes  \\\n",
              "325356     192.168.22.25      16632   tcp     NaN       NaN         NaN   \n",
              "393047   192.168.229.156      24452   tcp     NaN       NaN         NaN   \n",
              "1118412   192.168.21.152       3659   tcp     NaN       NaN         NaN   \n",
              "\n",
              "         resp_bytes conn_state  local_orig  missed_bytes history  orig_pkts  \\\n",
              "325356          NaN         S0         NaN             0       S          1   \n",
              "393047          NaN        REJ         NaN             0      Sr          1   \n",
              "1118412         NaN         S0         NaN             0       S          1   \n",
              "\n",
              "         orig_ip_bytes  resp_pkts  resp_ip_bytes tunnel_parents  \n",
              "325356              48          0              0        (empty)  \n",
              "393047              48          1             40        (empty)  \n",
              "1118412             44          0              0        (empty)  "
            ]
          },
          "metadata": {
            "tags": []
          },
          "execution_count": 73
        }
      ]
    },
    {
      "metadata": {
        "id": "UFhGWIutV7ck",
        "colab_type": "text"
      },
      "cell_type": "markdown",
      "source": [
        "## 2. Analyze Data\n",
        "\n",
        "Summarize network activities between every communicating src/dst IP,  split by connection state"
      ]
    },
    {
      "metadata": {
        "id": "rDxQcFbQVXCn",
        "colab_type": "code",
        "outputId": "f5f2e1b4-883b-4274-ab27-6dd1765cff9f",
        "colab": {
          "base_uri": "https://localhost:8080/",
          "height": 51
        }
      },
      "cell_type": "code",
      "source": [
        "%%time\n",
        "df_summary = df\\\n",
        ".assign(\n",
        "    sum_bytes=df.apply(lambda row: row['orig_bytes'] + row['resp_bytes'], axis=1))\\\n",
        ".groupby(['id.orig_h', 'id.resp_h', 'conn_state'])\\\n",
        ".agg({\n",
        "    'time': ['min', 'max', 'size'],\n",
        "    'id.resp_p':  ['nunique'],\n",
        "    'uid': ['nunique'],\n",
        "    'duration':   ['min', 'max', 'mean'],\n",
        "    'orig_bytes': ['min', 'max', 'sum', 'mean'],\n",
        "    'resp_bytes': ['min', 'max', 'sum', 'mean'],\n",
        "    'sum_bytes':  ['min', 'max', 'sum', 'mean']\n",
        "}).reset_index()\n",
        "\n",
        "df_summary.columns = [' '.join(col).strip() for col in df_summary.columns.values]\n",
        "df_summary = df_summary\\\n",
        ".rename(columns={'time size': 'count'})\\\n",
        ".assign(\n",
        "    conn_state_uid=df_summary.apply(lambda row: row['id.orig_h'] + '_' + row['id.resp_h'] + '_' + row['conn_state'], axis=1))"
      ],
      "execution_count": 0,
      "outputs": [
        {
          "output_type": "stream",
          "text": [
            "CPU times: user 33.2 s, sys: 188 ms, total: 33.4 s\n",
            "Wall time: 33.4 s\n"
          ],
          "name": "stdout"
        }
      ]
    },
    {
      "metadata": {
        "id": "0GlQppxfawAX",
        "colab_type": "code",
        "outputId": "5735bb32-4bc8-4360-f443-453422b43242",
        "colab": {
          "base_uri": "https://localhost:8080/",
          "height": 225
        }
      },
      "cell_type": "code",
      "source": [
        "print ('# rows', len(df_summary))\n",
        "df_summary.sample(3)"
      ],
      "execution_count": 0,
      "outputs": [
        {
          "output_type": "stream",
          "text": [
            "# rows 29784\n"
          ],
          "name": "stdout"
        },
        {
          "output_type": "execute_result",
          "data": {
            "text/html": [
              "<div>\n",
              "<style scoped>\n",
              "    .dataframe tbody tr th:only-of-type {\n",
              "        vertical-align: middle;\n",
              "    }\n",
              "\n",
              "    .dataframe tbody tr th {\n",
              "        vertical-align: top;\n",
              "    }\n",
              "\n",
              "    .dataframe thead th {\n",
              "        text-align: right;\n",
              "    }\n",
              "</style>\n",
              "<table border=\"1\" class=\"dataframe\">\n",
              "  <thead>\n",
              "    <tr style=\"text-align: right;\">\n",
              "      <th></th>\n",
              "      <th>id.orig_h</th>\n",
              "      <th>id.resp_h</th>\n",
              "      <th>conn_state</th>\n",
              "      <th>time min</th>\n",
              "      <th>time max</th>\n",
              "      <th>count</th>\n",
              "      <th>id.resp_p nunique</th>\n",
              "      <th>uid nunique</th>\n",
              "      <th>duration min</th>\n",
              "      <th>duration max</th>\n",
              "      <th>...</th>\n",
              "      <th>orig_bytes mean</th>\n",
              "      <th>resp_bytes min</th>\n",
              "      <th>resp_bytes max</th>\n",
              "      <th>resp_bytes sum</th>\n",
              "      <th>resp_bytes mean</th>\n",
              "      <th>sum_bytes min</th>\n",
              "      <th>sum_bytes max</th>\n",
              "      <th>sum_bytes sum</th>\n",
              "      <th>sum_bytes mean</th>\n",
              "      <th>conn_state_uid</th>\n",
              "    </tr>\n",
              "  </thead>\n",
              "  <tbody>\n",
              "    <tr>\n",
              "      <th>7412</th>\n",
              "      <td>192.168.202.110</td>\n",
              "      <td>192.168.27.222</td>\n",
              "      <td>S0</td>\n",
              "      <td>1.331903e+09</td>\n",
              "      <td>1.331904e+09</td>\n",
              "      <td>4</td>\n",
              "      <td>4</td>\n",
              "      <td>4</td>\n",
              "      <td>NaN</td>\n",
              "      <td>NaN</td>\n",
              "      <td>...</td>\n",
              "      <td>NaN</td>\n",
              "      <td>NaN</td>\n",
              "      <td>NaN</td>\n",
              "      <td>0.0</td>\n",
              "      <td>NaN</td>\n",
              "      <td>NaN</td>\n",
              "      <td>NaN</td>\n",
              "      <td>0.0</td>\n",
              "      <td>NaN</td>\n",
              "      <td>192.168.202.110_192.168.27.222_S0</td>\n",
              "    </tr>\n",
              "    <tr>\n",
              "      <th>1008</th>\n",
              "      <td>192.168.202.102</td>\n",
              "      <td>192.168.21.176</td>\n",
              "      <td>S0</td>\n",
              "      <td>1.331903e+09</td>\n",
              "      <td>1.331903e+09</td>\n",
              "      <td>1</td>\n",
              "      <td>1</td>\n",
              "      <td>1</td>\n",
              "      <td>NaN</td>\n",
              "      <td>NaN</td>\n",
              "      <td>...</td>\n",
              "      <td>NaN</td>\n",
              "      <td>NaN</td>\n",
              "      <td>NaN</td>\n",
              "      <td>0.0</td>\n",
              "      <td>NaN</td>\n",
              "      <td>NaN</td>\n",
              "      <td>NaN</td>\n",
              "      <td>0.0</td>\n",
              "      <td>NaN</td>\n",
              "      <td>192.168.202.102_192.168.21.176_S0</td>\n",
              "    </tr>\n",
              "    <tr>\n",
              "      <th>22046</th>\n",
              "      <td>192.168.202.79</td>\n",
              "      <td>192.168.24.98</td>\n",
              "      <td>OTH</td>\n",
              "      <td>1.331920e+09</td>\n",
              "      <td>1.331920e+09</td>\n",
              "      <td>1</td>\n",
              "      <td>1</td>\n",
              "      <td>1</td>\n",
              "      <td>NaN</td>\n",
              "      <td>NaN</td>\n",
              "      <td>...</td>\n",
              "      <td>NaN</td>\n",
              "      <td>NaN</td>\n",
              "      <td>NaN</td>\n",
              "      <td>0.0</td>\n",
              "      <td>NaN</td>\n",
              "      <td>NaN</td>\n",
              "      <td>NaN</td>\n",
              "      <td>0.0</td>\n",
              "      <td>NaN</td>\n",
              "      <td>192.168.202.79_192.168.24.98_OTH</td>\n",
              "    </tr>\n",
              "  </tbody>\n",
              "</table>\n",
              "<p>3 rows × 24 columns</p>\n",
              "</div>"
            ],
            "text/plain": [
              "             id.orig_h       id.resp_h conn_state      time min      time max  \\\n",
              "7412   192.168.202.110  192.168.27.222         S0  1.331903e+09  1.331904e+09   \n",
              "1008   192.168.202.102  192.168.21.176         S0  1.331903e+09  1.331903e+09   \n",
              "22046   192.168.202.79   192.168.24.98        OTH  1.331920e+09  1.331920e+09   \n",
              "\n",
              "       count  id.resp_p nunique  uid nunique  duration min  duration max  \\\n",
              "7412       4                  4            4           NaN           NaN   \n",
              "1008       1                  1            1           NaN           NaN   \n",
              "22046      1                  1            1           NaN           NaN   \n",
              "\n",
              "                     ...                  orig_bytes mean  resp_bytes min  \\\n",
              "7412                 ...                              NaN             NaN   \n",
              "1008                 ...                              NaN             NaN   \n",
              "22046                ...                              NaN             NaN   \n",
              "\n",
              "       resp_bytes max  resp_bytes sum  resp_bytes mean  sum_bytes min  \\\n",
              "7412              NaN             0.0              NaN            NaN   \n",
              "1008              NaN             0.0              NaN            NaN   \n",
              "22046             NaN             0.0              NaN            NaN   \n",
              "\n",
              "       sum_bytes max  sum_bytes sum  sum_bytes mean  \\\n",
              "7412             NaN            0.0             NaN   \n",
              "1008             NaN            0.0             NaN   \n",
              "22046            NaN            0.0             NaN   \n",
              "\n",
              "                          conn_state_uid  \n",
              "7412   192.168.202.110_192.168.27.222_S0  \n",
              "1008   192.168.202.102_192.168.21.176_S0  \n",
              "22046   192.168.202.79_192.168.24.98_OTH  \n",
              "\n",
              "[3 rows x 24 columns]"
            ]
          },
          "metadata": {
            "tags": []
          },
          "execution_count": 75
        }
      ]
    },
    {
      "metadata": {
        "id": "ziBtNlKieOnz",
        "colab_type": "text"
      },
      "cell_type": "markdown",
      "source": [
        "## 3. Visualize data\n",
        "\n",
        "* Nodes: \n",
        "  * IPs\n",
        "  * Bigger when more sessions (split by connection state) involving them\n",
        "* Edges:\n",
        "  * src_ip -> dest_ip, split by connection state"
      ]
    },
    {
      "metadata": {
        "id": "U0XjtLWmdKGh",
        "colab_type": "code",
        "outputId": "0d9d99ac-b28f-4533-dacb-7d24f7cf4ae0",
        "colab": {
          "base_uri": "https://localhost:8080/",
          "height": 102
        }
      },
      "cell_type": "code",
      "source": [
        "%%time\n",
        "hg = graphistry.hypergraph(\n",
        "    df_summary,\n",
        "    ['id.orig_h', 'id.resp_h'],\n",
        "    direct=True,\n",
        "    opts={\n",
        "        'CATEGORIES': {\n",
        "            'ip': ['id.orig_h', 'id.resp_h']\n",
        "        }\n",
        "    })"
      ],
      "execution_count": 0,
      "outputs": [
        {
          "output_type": "stream",
          "text": [
            "# links 29784\n",
            "# events 29784\n",
            "# attrib entities 3703\n",
            "CPU times: user 2.27 s, sys: 42.9 ms, total: 2.31 s\n",
            "Wall time: 2.31 s\n"
          ],
          "name": "stdout"
        }
      ]
    },
    {
      "metadata": {
        "id": "9HMjueS9fC_k",
        "colab_type": "code",
        "outputId": "a38a2471-1d07-4e29-d7d3-07275d7e8c9f",
        "colab": {
          "base_uri": "https://localhost:8080/",
          "height": 577
        }
      },
      "cell_type": "code",
      "source": [
        "%%time\n",
        "hg['graph'].plot()"
      ],
      "execution_count": 0,
      "outputs": [
        {
          "output_type": "stream",
          "text": [
            "CPU times: user 3.41 s, sys: 29 ms, total: 3.44 s\n",
            "Wall time: 6.42 s\n"
          ],
          "name": "stdout"
        },
        {
          "output_type": "execute_result",
          "data": {
            "text/html": [
              "\n",
              "            <iframe id=\"d6cee000-5fb5-4555-8007-eccd80adf936\" src=\"https://labs.graphistry.com/graph/graph.html?dataset=PyGraphistry/4ZQ9Y6HU6M&type=vgraph&viztoken=3295b9fb3046768be87fa084c98553dd52072b41&usertag=421a30a8-pygraphistry-0.9.64&splashAfter=1555358485&info=true\"\n",
              "                    allowfullscreen=\"true\" webkitallowfullscreen=\"true\" mozallowfullscreen=\"true\"\n",
              "                    oallowfullscreen=\"true\" msallowfullscreen=\"true\"\n",
              "                    style=\"width:100%; height:500px; border: 1px solid #DDD\">\n",
              "            </iframe>\n",
              "        \n",
              "            <script>\n",
              "                $(\"#d6cee000-5fb5-4555-8007-eccd80adf936\").bind('mousewheel', function(e) {\n",
              "                e.preventDefault();\n",
              "                });\n",
              "            </script>\n",
              "        "
            ],
            "text/plain": [
              "<IPython.core.display.HTML object>"
            ]
          },
          "metadata": {
            "tags": []
          },
          "execution_count": 77
        }
      ]
    },
    {
      "metadata": {
        "id": "n0qhhEuhe65P",
        "colab_type": "code",
        "colab": {}
      },
      "cell_type": "code",
      "source": [
        ""
      ],
      "execution_count": 0,
      "outputs": []
    },
    {
      "metadata": {
        "id": "IjGwNKv-gK7h",
        "colab_type": "text"
      },
      "cell_type": "markdown",
      "source": [
        "## Next Steps\n",
        "\n",
        "* Part I: CPU Baseline in Python Pandas\n",
        "* Part II: GPU Dataframe with RAPIDS Python bindings\n",
        "* Part III: GPU Dataframe with BlazingDB SQL interface to RAPIDS"
      ]
    },
    {
      "metadata": {
        "id": "vfb0l5HagMMf",
        "colab_type": "code",
        "colab": {}
      },
      "cell_type": "code",
      "source": [
        ""
      ],
      "execution_count": 0,
      "outputs": []
    }
  ]
}