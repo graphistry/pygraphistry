{
 "cells": [
  {
   "cell_type": "markdown",
   "metadata": {
    "colab_type": "text",
    "id": "qcTqNhTLSn92"
   },
   "source": [
    "# Visual GPU Log Analytics Part I: CPU Baseline in Python Pandas\n",
    "\n",
    "Graphistry is great -- Graphistry and RAPIDS/BlazingDB is better!\n",
    "\n",
    "This tutorial series visually analyzes Zeek/Bro network connection logs using different compute engines:\n",
    "\n",
    "* Part I: [CPU Baseline in Python Pandas](./part_i_cpu_pandas.ipynb)\n",
    "* Part II: [GPU Dataframse with RAPIDS Python cudf bindings](./part_ii_gpu_cudf)\n",
    "\n",
    "\n",
    "**Part I Contents:**\n",
    "\n",
    "Time using CPU-based Python Pandas and Graphistry for a full ETL & visual analysis flow:\n",
    "\n",
    "1. Load data\n",
    "2. Analyze data\n",
    "3. Visualize data\n",
    "\n"
   ]
  },
  {
   "cell_type": "code",
   "execution_count": null,
   "metadata": {
    "colab": {
     "base_uri": "https://localhost:8080/",
     "height": 34
    },
    "colab_type": "code",
    "id": "9LtQYjLeVgbH",
    "outputId": "2dc3ed41-afae-472a-9549-b9fec1512fb3"
   },
   "outputs": [],
   "source": [
    "#!pip install graphistry -q\n",
    "\n",
    "\n",
    "import pandas as pd\n",
    "\n",
    "import graphistry\n",
    "graphistry.__version__\n",
    "\n",
    "# To specify Graphistry account & server, use:\n",
    "# graphistry.register(api=3, username='...', password='...', protocol='https', server='hub.graphistry.com')\n",
    "\n",
    "# For more options, see https://github.com/graphistry/pygraphistry#configure\n"
   ]
  },
  {
   "cell_type": "markdown",
   "metadata": {
    "colab_type": "text",
    "id": "_QFEbK3ZS0Dz"
   },
   "source": [
    "## 1. Load data"
   ]
  },
  {
   "cell_type": "code",
   "execution_count": null,
   "metadata": {
    "colab": {
     "base_uri": "https://localhost:8080/",
     "height": 173
    },
    "colab_type": "code",
    "id": "lJ2J-WqRShBG",
    "outputId": "012612a6-7b9c-4e14-eb53-617d5fc8832a"
   },
   "outputs": [],
   "source": [
    "%%time\n",
    "# download data \n",
    "!if [ ! -f conn.log ]; then \\\n",
    "    curl https://www.secrepo.com/maccdc2012/conn.log.gz | gzip -d > conn.log; \\\n",
    "fi"
   ]
  },
  {
   "cell_type": "code",
   "execution_count": null,
   "metadata": {},
   "outputs": [],
   "source": [
    "!head -n 3 conn.log"
   ]
  },
  {
   "cell_type": "code",
   "execution_count": null,
   "metadata": {
    "colab": {},
    "colab_type": "code",
    "id": "0n3GntBtaEdp"
   },
   "outputs": [],
   "source": [
    "# OPTIONAL: For slow or limited devices, work on a subset:\n",
    "LIMIT = 1200000"
   ]
  },
  {
   "cell_type": "code",
   "execution_count": null,
   "metadata": {
    "colab": {
     "base_uri": "https://localhost:8080/",
     "height": 51
    },
    "colab_type": "code",
    "id": "feX0HpabTEg9",
    "outputId": "3ec75ec1-8435-4633-a852-17b4739d3786"
   },
   "outputs": [],
   "source": [
    "%%time \n",
    "df = pd.read_csv(\"./conn.log\", sep=\"\\t\", header=None, \n",
    "                 names=[\"time\", \"uid\", \"id.orig_h\", \"id.orig_p\", \"id.resp_h\", \"id.resp_p\", \"proto\", \"service\",\n",
    "                        \"duration\", \"orig_bytes\", \"resp_bytes\", \"conn_state\", \"local_orig\", \"missed_bytes\",\n",
    "                        \"history\", \"orig_pkts\", \"orig_ip_bytes\", \"resp_pkts\", \"resp_ip_bytes\", \"tunnel_parents\"], \n",
    "                 na_values=['-'], index_col=False, nrows=LIMIT)"
   ]
  },
  {
   "cell_type": "code",
   "execution_count": null,
   "metadata": {
    "colab": {
     "base_uri": "https://localhost:8080/",
     "height": 162
    },
    "colab_type": "code",
    "id": "lsCGdXptTStw",
    "outputId": "00472383-78d6-4efc-a68b-218acdfb7cbd"
   },
   "outputs": [],
   "source": [
    "df.sample(3)"
   ]
  },
  {
   "cell_type": "markdown",
   "metadata": {
    "colab_type": "text",
    "id": "UFhGWIutV7ck"
   },
   "source": [
    "## 2. Analyze Data\n",
    "\n",
    "Summarize network activities between every communicating src/dst IP,  split by connection state"
   ]
  },
  {
   "cell_type": "code",
   "execution_count": null,
   "metadata": {
    "colab": {
     "base_uri": "https://localhost:8080/",
     "height": 51
    },
    "colab_type": "code",
    "id": "rDxQcFbQVXCn",
    "outputId": "f5f2e1b4-883b-4274-ab27-6dd1765cff9f"
   },
   "outputs": [],
   "source": [
    "df_summary = df\\\n",
    ".assign(\n",
    "    sum_bytes=df.apply(lambda row: row['orig_bytes'] + row['resp_bytes'], axis=1))\\\n",
    ".groupby(['id.orig_h', 'id.resp_h', 'conn_state'])\\\n",
    ".agg({\n",
    "    'time': ['min', 'max', 'size'],\n",
    "    'id.resp_p':  ['nunique'],\n",
    "    'uid': ['nunique'],\n",
    "    'duration':   ['min', 'max', 'mean'],\n",
    "    'orig_bytes': ['min', 'max', 'sum', 'mean'],\n",
    "    'resp_bytes': ['min', 'max', 'sum', 'mean'],\n",
    "    'sum_bytes':  ['min', 'max', 'sum', 'mean']\n",
    "}).reset_index()\n"
   ]
  },
  {
   "cell_type": "code",
   "execution_count": null,
   "metadata": {},
   "outputs": [],
   "source": [
    "df_summary.columns = [' '.join(col).strip() for col in df_summary.columns.values]\n",
    "df_summary = df_summary\\\n",
    ".rename(columns={'time size': 'count'})\\\n",
    ".assign(\n",
    "    conn_state_uid=df_summary.apply(lambda row: row['id.orig_h'] + '_' + row['id.resp_h'] + '_' + row['conn_state'], axis=1))"
   ]
  },
  {
   "cell_type": "code",
   "execution_count": null,
   "metadata": {
    "colab": {
     "base_uri": "https://localhost:8080/",
     "height": 225
    },
    "colab_type": "code",
    "id": "0GlQppxfawAX",
    "outputId": "5735bb32-4bc8-4360-f443-453422b43242"
   },
   "outputs": [],
   "source": [
    "print ('# rows', len(df_summary))\n",
    "df_summary.sample(3)"
   ]
  },
  {
   "cell_type": "markdown",
   "metadata": {
    "colab_type": "text",
    "id": "ziBtNlKieOnz"
   },
   "source": [
    "## 3. Visualize data\n",
    "\n",
    "* Nodes: \n",
    "  * IPs\n",
    "  * Bigger when more sessions (split by connection state) involving them\n",
    "* Edges:\n",
    "  * src_ip -> dest_ip, split by connection state"
   ]
  },
  {
   "cell_type": "code",
   "execution_count": null,
   "metadata": {
    "colab": {
     "base_uri": "https://localhost:8080/",
     "height": 102
    },
    "colab_type": "code",
    "id": "U0XjtLWmdKGh",
    "outputId": "0d9d99ac-b28f-4533-dacb-7d24f7cf4ae0"
   },
   "outputs": [],
   "source": [
    "\n",
    "hg = graphistry.hypergraph(\n",
    "    df_summary,\n",
    "    ['id.orig_h', 'id.resp_h'],\n",
    "    direct=True,\n",
    "    opts={\n",
    "        'CATEGORIES': {\n",
    "            'ip': ['id.orig_h', 'id.resp_h']\n",
    "        }\n",
    "    })"
   ]
  },
  {
   "cell_type": "code",
   "execution_count": null,
   "metadata": {
    "colab": {
     "base_uri": "https://localhost:8080/",
     "height": 577
    },
    "colab_type": "code",
    "id": "9HMjueS9fC_k",
    "outputId": "a38a2471-1d07-4e29-d7d3-07275d7e8c9f",
    "scrolled": true
   },
   "outputs": [],
   "source": [
    "\n",
    "hg['graph'].plot()"
   ]
  },
  {
   "cell_type": "markdown",
   "metadata": {
    "colab_type": "text",
    "id": "IjGwNKv-gK7h"
   },
   "source": [
    "## Next Steps\n",
    "\n",
    "* Part I: [CPU Baseline in Python Pandas](./part_i_cpu_pandas.ipynb)\n",
    "* Part II: [GPU Dataframe with RAPIDS Python cudf bindings](./part_ii_gpu_cudf.ipynb)"
   ]
  },
  {
   "cell_type": "code",
   "execution_count": null,
   "metadata": {},
   "outputs": [],
   "source": []
  },
  {
   "cell_type": "code",
   "execution_count": null,
   "metadata": {},
   "outputs": [],
   "source": []
  }
 ],
 "metadata": {
  "colab": {
   "collapsed_sections": [],
   "name": "pandas_zeek_tutorial.ipynb",
   "provenance": [],
   "version": "0.3.2"
  },
  "kernelspec": {
   "display_name": "Python 3 (ipykernel)",
   "language": "python",
   "name": "python3"
  },
  "language_info": {
   "codemirror_mode": {
    "name": "ipython",
    "version": 3
   },
   "file_extension": ".py",
   "mimetype": "text/x-python",
   "name": "python",
   "nbconvert_exporter": "python",
   "pygments_lexer": "ipython3",
   "version": "3.8.13"
  }
 },
 "nbformat": 4,
 "nbformat_minor": 4
}
