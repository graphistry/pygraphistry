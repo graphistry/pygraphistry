{
 "cells": [
  {
   "cell_type": "markdown",
   "metadata": {
    "colab_type": "text",
    "id": "qcTqNhTLSn92"
   },
   "source": [
    "# Visual GPU Log Analytics Part I: CPU Baseline in Python Pandas\n",
    "\n",
    "Graphistry is great -- Graphistry and RAPIDS/BlazingDB is better!\n",
    "\n",
    "This tutorial series visually analyzes Zeek/Bro network connection logs using different compute engines:\n",
    "\n",
    "* Part I: [CPU Baseline in Python Pandas](./part_i_cpu_pandas.ipynb)\n",
    "* Part II: [GPU Dataframse with RAPIDS Python cudf bindings](./part_ii_gpu_cudf)\n",
    "\n",
    "\n",
    "**Part I Contents:**\n",
    "\n",
    "Time using CPU-based Python Pandas and Graphistry for a full ETL & visual analysis flow:\n",
    "\n",
    "1. Load data\n",
    "2. Analyze data\n",
    "3. Visualize data\n",
    "\n"
   ]
  },
  {
   "cell_type": "code",
   "execution_count": 1,
   "metadata": {
    "colab": {
     "base_uri": "https://localhost:8080/",
     "height": 34
    },
    "colab_type": "code",
    "id": "9LtQYjLeVgbH",
    "outputId": "2dc3ed41-afae-472a-9549-b9fec1512fb3"
   },
   "outputs": [
    {
     "data": {
      "text/plain": [
       "'0.9.64'"
      ]
     },
     "execution_count": 1,
     "metadata": {},
     "output_type": "execute_result"
    }
   ],
   "source": [
    "#!pip install graphistry -q\n",
    "\n",
    "\n",
    "import pandas as pd\n",
    "\n",
    "import graphistry\n",
    "#graphistry.register(key='MY_KEY', protocol='https', server='graphistry.site.com')\n",
    "graphistry.__version__"
   ]
  },
  {
   "cell_type": "markdown",
   "metadata": {
    "colab_type": "text",
    "id": "_QFEbK3ZS0Dz"
   },
   "source": [
    "## 1. Load data"
   ]
  },
  {
   "cell_type": "code",
   "execution_count": 2,
   "metadata": {
    "colab": {
     "base_uri": "https://localhost:8080/",
     "height": 173
    },
    "colab_type": "code",
    "id": "lJ2J-WqRShBG",
    "outputId": "012612a6-7b9c-4e14-eb53-617d5fc8832a"
   },
   "outputs": [
    {
     "name": "stdout",
     "output_type": "stream",
     "text": [
      "  % Total    % Received % Xferd  Average Speed   Time    Time     Time  Current\n",
      "                                 Dload  Upload   Total   Spent    Left  Speed\n",
      "100  523M  100  523M    0     0  18.8M      0  0:00:27  0:00:27 --:--:-- 6100k    0  19.7M      0  0:00:26  0:00:08  0:00:18 21.4M\n",
      "1331901000.000000\tCCUIP21wTjqkj8ZqX5\t192.168.202.79\t50463\t192.168.229.251\t80\ttcp\t-\t-\t-\t-\tSH\t-\t0\tFa\t1\t52\t1\t52\t(empty)\n",
      "1331901000.000000\tCsssjd3tX0yOTPDpng\t192.168.202.79\t46117\t192.168.229.254\t443\ttcp\t-\t-\t-\t-\tSF\t-\t0\tdDafFr\t3\t382\t9\t994\t(empty)\n",
      "1331901000.000000\tCHEt7z3AzG4gyCNgci\t192.168.202.79\t50465\t192.168.229.251\t80\ttcp\thttp\t0.010000\t166\t214\tSF\t-\t0\tShADfFa\t4\t382\t3\t382\t(empty)\n",
      "CPU times: user 884 ms, sys: 261 ms, total: 1.15 s\n",
      "Wall time: 45.4 s\n"
     ]
    }
   ],
   "source": [
    "%%time\n",
    "!curl https://www.secrepo.com/maccdc2012/conn.log.gz | gzip -d > conn.log\n",
    "  \n",
    "!head -n 3 conn.log"
   ]
  },
  {
   "cell_type": "code",
   "execution_count": 3,
   "metadata": {
    "colab": {},
    "colab_type": "code",
    "id": "0n3GntBtaEdp"
   },
   "outputs": [],
   "source": [
    "# OPTIONAL: For slow devices, work on a subset\n",
    "#!awk 'NR % 20 == 0' < conn.log > conn-5pc.log"
   ]
  },
  {
   "cell_type": "code",
   "execution_count": 4,
   "metadata": {
    "colab": {
     "base_uri": "https://localhost:8080/",
     "height": 51
    },
    "colab_type": "code",
    "id": "feX0HpabTEg9",
    "outputId": "3ec75ec1-8435-4633-a852-17b4739d3786"
   },
   "outputs": [],
   "source": [
    "df = pd.read_csv(\"./conn.log\", sep=\"\\t\", header=None, \n",
    "                 names=[\"time\", \"uid\", \"id.orig_h\", \"id.orig_p\", \"id.resp_h\", \"id.resp_p\", \"proto\", \"service\",\n",
    "                        \"duration\", \"orig_bytes\", \"resp_bytes\", \"conn_state\", \"local_orig\", \"missed_bytes\",\n",
    "                        \"history\", \"orig_pkts\", \"orig_ip_bytes\", \"resp_pkts\", \"resp_ip_bytes\", \"tunnel_parents\"], \n",
    "                 na_values=['-'], index_col=False)"
   ]
  },
  {
   "cell_type": "code",
   "execution_count": 7,
   "metadata": {
    "colab": {
     "base_uri": "https://localhost:8080/",
     "height": 162
    },
    "colab_type": "code",
    "collapsed": false,
    "deletable": true,
    "editable": true,
    "id": "lsCGdXptTStw",
    "outputId": "00472383-78d6-4efc-a68b-218acdfb7cbd"
   },
   "outputs": [
    {
     "data": {
      "text/html": [
       "<div>\n",
       "<style scoped>\n",
       "    .dataframe tbody tr th:only-of-type {\n",
       "        vertical-align: middle;\n",
       "    }\n",
       "\n",
       "    .dataframe tbody tr th {\n",
       "        vertical-align: top;\n",
       "    }\n",
       "\n",
       "    .dataframe thead th {\n",
       "        text-align: right;\n",
       "    }\n",
       "</style>\n",
       "<table border=\"1\" class=\"dataframe\">\n",
       "  <thead>\n",
       "    <tr style=\"text-align: right;\">\n",
       "      <th></th>\n",
       "      <th>time</th>\n",
       "      <th>uid</th>\n",
       "      <th>id.orig_h</th>\n",
       "      <th>id.orig_p</th>\n",
       "      <th>id.resp_h</th>\n",
       "      <th>id.resp_p</th>\n",
       "      <th>proto</th>\n",
       "      <th>service</th>\n",
       "      <th>duration</th>\n",
       "      <th>orig_bytes</th>\n",
       "      <th>resp_bytes</th>\n",
       "      <th>conn_state</th>\n",
       "      <th>local_orig</th>\n",
       "      <th>missed_bytes</th>\n",
       "      <th>history</th>\n",
       "      <th>orig_pkts</th>\n",
       "      <th>orig_ip_bytes</th>\n",
       "      <th>resp_pkts</th>\n",
       "      <th>resp_ip_bytes</th>\n",
       "      <th>tunnel_parents</th>\n",
       "    </tr>\n",
       "  </thead>\n",
       "  <tbody>\n",
       "    <tr>\n",
       "      <th>10127897</th>\n",
       "      <td>1.331923e+09</td>\n",
       "      <td>Cv78PO2bZXJQxhLbZe</td>\n",
       "      <td>192.168.202.110</td>\n",
       "      <td>42526</td>\n",
       "      <td>192.168.23.102</td>\n",
       "      <td>2536</td>\n",
       "      <td>tcp</td>\n",
       "      <td>NaN</td>\n",
       "      <td>NaN</td>\n",
       "      <td>NaN</td>\n",
       "      <td>NaN</td>\n",
       "      <td>S0</td>\n",
       "      <td>NaN</td>\n",
       "      <td>0</td>\n",
       "      <td>S</td>\n",
       "      <td>1</td>\n",
       "      <td>48</td>\n",
       "      <td>0</td>\n",
       "      <td>0</td>\n",
       "      <td>(empty)</td>\n",
       "    </tr>\n",
       "    <tr>\n",
       "      <th>18350474</th>\n",
       "      <td>1.332000e+09</td>\n",
       "      <td>CqdYUa2rK5yxuRR2A</td>\n",
       "      <td>192.168.202.144</td>\n",
       "      <td>59204</td>\n",
       "      <td>192.168.25.103</td>\n",
       "      <td>8800</td>\n",
       "      <td>tcp</td>\n",
       "      <td>NaN</td>\n",
       "      <td>NaN</td>\n",
       "      <td>NaN</td>\n",
       "      <td>NaN</td>\n",
       "      <td>S0</td>\n",
       "      <td>NaN</td>\n",
       "      <td>0</td>\n",
       "      <td>S</td>\n",
       "      <td>1</td>\n",
       "      <td>44</td>\n",
       "      <td>0</td>\n",
       "      <td>0</td>\n",
       "      <td>(empty)</td>\n",
       "    </tr>\n",
       "    <tr>\n",
       "      <th>9733712</th>\n",
       "      <td>1.331922e+09</td>\n",
       "      <td>CS6JX63EdG82I2AEN9</td>\n",
       "      <td>192.168.202.110</td>\n",
       "      <td>52576</td>\n",
       "      <td>192.168.21.100</td>\n",
       "      <td>1321</td>\n",
       "      <td>tcp</td>\n",
       "      <td>NaN</td>\n",
       "      <td>0.01</td>\n",
       "      <td>0.0</td>\n",
       "      <td>0.0</td>\n",
       "      <td>REJ</td>\n",
       "      <td>NaN</td>\n",
       "      <td>0</td>\n",
       "      <td>Sr</td>\n",
       "      <td>1</td>\n",
       "      <td>48</td>\n",
       "      <td>1</td>\n",
       "      <td>40</td>\n",
       "      <td>(empty)</td>\n",
       "    </tr>\n",
       "  </tbody>\n",
       "</table>\n",
       "</div>"
      ],
      "text/plain": [
       "                  time                 uid        id.orig_h  id.orig_p  \\\n",
       "10127897  1.331923e+09  Cv78PO2bZXJQxhLbZe  192.168.202.110      42526   \n",
       "18350474  1.332000e+09   CqdYUa2rK5yxuRR2A  192.168.202.144      59204   \n",
       "9733712   1.331922e+09  CS6JX63EdG82I2AEN9  192.168.202.110      52576   \n",
       "\n",
       "               id.resp_h  id.resp_p proto service  duration  orig_bytes  \\\n",
       "10127897  192.168.23.102       2536   tcp     NaN       NaN         NaN   \n",
       "18350474  192.168.25.103       8800   tcp     NaN       NaN         NaN   \n",
       "9733712   192.168.21.100       1321   tcp     NaN      0.01         0.0   \n",
       "\n",
       "          resp_bytes conn_state  local_orig  missed_bytes history  orig_pkts  \\\n",
       "10127897         NaN         S0         NaN             0       S          1   \n",
       "18350474         NaN         S0         NaN             0       S          1   \n",
       "9733712          0.0        REJ         NaN             0      Sr          1   \n",
       "\n",
       "          orig_ip_bytes  resp_pkts  resp_ip_bytes tunnel_parents  \n",
       "10127897             48          0              0        (empty)  \n",
       "18350474             44          0              0        (empty)  \n",
       "9733712              48          1             40        (empty)  "
      ]
     },
     "execution_count": 7,
     "metadata": {},
     "output_type": "execute_result"
    }
   ],
   "source": [
    "df.sample(3)"
   ]
  },
  {
   "cell_type": "markdown",
   "metadata": {
    "colab_type": "text",
    "deletable": true,
    "editable": true,
    "id": "UFhGWIutV7ck"
   },
   "source": [
    "## 2. Analyze Data\n",
    "\n",
    "Summarize network activities between every communicating src/dst IP,  split by connection state"
   ]
  },
  {
   "cell_type": "code",
   "execution_count": 8,
   "metadata": {
    "colab": {
     "base_uri": "https://localhost:8080/",
     "height": 51
    },
    "colab_type": "code",
    "collapsed": true,
    "deletable": true,
    "editable": true,
    "id": "rDxQcFbQVXCn",
    "outputId": "f5f2e1b4-883b-4274-ab27-6dd1765cff9f"
   },
   "outputs": [],
   "source": [
    "df_summary = df\\\n",
    ".assign(\n",
    "    sum_bytes=df.apply(lambda row: row['orig_bytes'] + row['resp_bytes'], axis=1))\\\n",
    ".groupby(['id.orig_h', 'id.resp_h', 'conn_state'])\\\n",
    ".agg({\n",
    "    'time': ['min', 'max', 'size'],\n",
    "    'id.resp_p':  ['nunique'],\n",
    "    'uid': ['nunique'],\n",
    "    'duration':   ['min', 'max', 'mean'],\n",
    "    'orig_bytes': ['min', 'max', 'sum', 'mean'],\n",
    "    'resp_bytes': ['min', 'max', 'sum', 'mean'],\n",
    "    'sum_bytes':  ['min', 'max', 'sum', 'mean']\n",
    "}).reset_index()\n"
   ]
  },
  {
   "cell_type": "code",
   "execution_count": 10,
   "metadata": {
    "collapsed": true,
    "deletable": true,
    "editable": true
   },
   "outputs": [],
   "source": [
    "df_summary.columns = [' '.join(col).strip() for col in df_summary.columns.values]\n",
    "df_summary = df_summary\\\n",
    ".rename(columns={'time size': 'count'})\\\n",
    ".assign(\n",
    "    conn_state_uid=df_summary.apply(lambda row: row['id.orig_h'] + '_' + row['id.resp_h'] + '_' + row['conn_state'], axis=1))"
   ]
  },
  {
   "cell_type": "code",
   "execution_count": 11,
   "metadata": {
    "colab": {
     "base_uri": "https://localhost:8080/",
     "height": 225
    },
    "colab_type": "code",
    "id": "0GlQppxfawAX",
    "outputId": "5735bb32-4bc8-4360-f443-453422b43242"
   },
   "outputs": [
    {
     "name": "stdout",
     "output_type": "stream",
     "text": [
      "# rows 79829\n"
     ]
    },
    {
     "data": {
      "text/html": [
       "<div>\n",
       "<style scoped>\n",
       "    .dataframe tbody tr th:only-of-type {\n",
       "        vertical-align: middle;\n",
       "    }\n",
       "\n",
       "    .dataframe tbody tr th {\n",
       "        vertical-align: top;\n",
       "    }\n",
       "\n",
       "    .dataframe thead th {\n",
       "        text-align: right;\n",
       "    }\n",
       "</style>\n",
       "<table border=\"1\" class=\"dataframe\">\n",
       "  <thead>\n",
       "    <tr style=\"text-align: right;\">\n",
       "      <th></th>\n",
       "      <th>id.orig_h</th>\n",
       "      <th>id.resp_h</th>\n",
       "      <th>conn_state</th>\n",
       "      <th>time min</th>\n",
       "      <th>time max</th>\n",
       "      <th>count</th>\n",
       "      <th>id.resp_p nunique</th>\n",
       "      <th>uid nunique</th>\n",
       "      <th>duration min</th>\n",
       "      <th>duration max</th>\n",
       "      <th>...</th>\n",
       "      <th>orig_bytes mean</th>\n",
       "      <th>resp_bytes min</th>\n",
       "      <th>resp_bytes max</th>\n",
       "      <th>resp_bytes sum</th>\n",
       "      <th>resp_bytes mean</th>\n",
       "      <th>sum_bytes min</th>\n",
       "      <th>sum_bytes max</th>\n",
       "      <th>sum_bytes sum</th>\n",
       "      <th>sum_bytes mean</th>\n",
       "      <th>conn_state_uid</th>\n",
       "    </tr>\n",
       "  </thead>\n",
       "  <tbody>\n",
       "    <tr>\n",
       "      <th>13480</th>\n",
       "      <td>192.168.202.110</td>\n",
       "      <td>192.168.229.25</td>\n",
       "      <td>S0</td>\n",
       "      <td>1.331909e+09</td>\n",
       "      <td>1.331922e+09</td>\n",
       "      <td>32</td>\n",
       "      <td>28</td>\n",
       "      <td>32</td>\n",
       "      <td>NaN</td>\n",
       "      <td>NaN</td>\n",
       "      <td>...</td>\n",
       "      <td>NaN</td>\n",
       "      <td>NaN</td>\n",
       "      <td>NaN</td>\n",
       "      <td>0.0</td>\n",
       "      <td>NaN</td>\n",
       "      <td>NaN</td>\n",
       "      <td>NaN</td>\n",
       "      <td>0.0</td>\n",
       "      <td>NaN</td>\n",
       "      <td>192.168.202.110_192.168.229.25_S0</td>\n",
       "    </tr>\n",
       "    <tr>\n",
       "      <th>48440</th>\n",
       "      <td>192.168.202.44</td>\n",
       "      <td>192.168.25.100</td>\n",
       "      <td>REJ</td>\n",
       "      <td>1.332000e+09</td>\n",
       "      <td>1.332015e+09</td>\n",
       "      <td>5</td>\n",
       "      <td>1</td>\n",
       "      <td>5</td>\n",
       "      <td>NaN</td>\n",
       "      <td>NaN</td>\n",
       "      <td>...</td>\n",
       "      <td>NaN</td>\n",
       "      <td>NaN</td>\n",
       "      <td>NaN</td>\n",
       "      <td>0.0</td>\n",
       "      <td>NaN</td>\n",
       "      <td>NaN</td>\n",
       "      <td>NaN</td>\n",
       "      <td>0.0</td>\n",
       "      <td>NaN</td>\n",
       "      <td>192.168.202.44_192.168.25.100_REJ</td>\n",
       "    </tr>\n",
       "    <tr>\n",
       "      <th>51894</th>\n",
       "      <td>192.168.202.79</td>\n",
       "      <td>172.16.2.102</td>\n",
       "      <td>OTH</td>\n",
       "      <td>1.331920e+09</td>\n",
       "      <td>1.331920e+09</td>\n",
       "      <td>4</td>\n",
       "      <td>3</td>\n",
       "      <td>4</td>\n",
       "      <td>0.1</td>\n",
       "      <td>1.13</td>\n",
       "      <td>...</td>\n",
       "      <td>12.0</td>\n",
       "      <td>0.0</td>\n",
       "      <td>0.0</td>\n",
       "      <td>0.0</td>\n",
       "      <td>0.0</td>\n",
       "      <td>0.0</td>\n",
       "      <td>24.0</td>\n",
       "      <td>24.0</td>\n",
       "      <td>12.0</td>\n",
       "      <td>192.168.202.79_172.16.2.102_OTH</td>\n",
       "    </tr>\n",
       "  </tbody>\n",
       "</table>\n",
       "<p>3 rows × 24 columns</p>\n",
       "</div>"
      ],
      "text/plain": [
       "             id.orig_h       id.resp_h conn_state      time min      time max  \\\n",
       "13480  192.168.202.110  192.168.229.25         S0  1.331909e+09  1.331922e+09   \n",
       "48440   192.168.202.44  192.168.25.100        REJ  1.332000e+09  1.332015e+09   \n",
       "51894   192.168.202.79    172.16.2.102        OTH  1.331920e+09  1.331920e+09   \n",
       "\n",
       "       count  id.resp_p nunique  uid nunique  duration min  duration max  ...  \\\n",
       "13480     32                 28           32           NaN           NaN  ...   \n",
       "48440      5                  1            5           NaN           NaN  ...   \n",
       "51894      4                  3            4           0.1          1.13  ...   \n",
       "\n",
       "       orig_bytes mean  resp_bytes min  resp_bytes max  resp_bytes sum  \\\n",
       "13480              NaN             NaN             NaN             0.0   \n",
       "48440              NaN             NaN             NaN             0.0   \n",
       "51894             12.0             0.0             0.0             0.0   \n",
       "\n",
       "       resp_bytes mean  sum_bytes min  sum_bytes max  sum_bytes sum  \\\n",
       "13480              NaN            NaN            NaN            0.0   \n",
       "48440              NaN            NaN            NaN            0.0   \n",
       "51894              0.0            0.0           24.0           24.0   \n",
       "\n",
       "       sum_bytes mean                     conn_state_uid  \n",
       "13480             NaN  192.168.202.110_192.168.229.25_S0  \n",
       "48440             NaN  192.168.202.44_192.168.25.100_REJ  \n",
       "51894            12.0    192.168.202.79_172.16.2.102_OTH  \n",
       "\n",
       "[3 rows x 24 columns]"
      ]
     },
     "execution_count": 11,
     "metadata": {},
     "output_type": "execute_result"
    }
   ],
   "source": [
    "print ('# rows', len(df_summary))\n",
    "df_summary.sample(3)"
   ]
  },
  {
   "cell_type": "markdown",
   "metadata": {
    "colab_type": "text",
    "id": "ziBtNlKieOnz"
   },
   "source": [
    "## 3. Visualize data\n",
    "\n",
    "* Nodes: \n",
    "  * IPs\n",
    "  * Bigger when more sessions (split by connection state) involving them\n",
    "* Edges:\n",
    "  * src_ip -> dest_ip, split by connection state"
   ]
  },
  {
   "cell_type": "code",
   "execution_count": 12,
   "metadata": {
    "colab": {
     "base_uri": "https://localhost:8080/",
     "height": 102
    },
    "colab_type": "code",
    "id": "U0XjtLWmdKGh",
    "outputId": "0d9d99ac-b28f-4533-dacb-7d24f7cf4ae0"
   },
   "outputs": [
    {
     "name": "stdout",
     "output_type": "stream",
     "text": [
      "# links 79829\n",
      "# events 79829\n",
      "# attrib entities 5556\n"
     ]
    }
   ],
   "source": [
    "\n",
    "hg = graphistry.hypergraph(\n",
    "    df_summary,\n",
    "    ['id.orig_h', 'id.resp_h'],\n",
    "    direct=True,\n",
    "    opts={\n",
    "        'CATEGORIES': {\n",
    "            'ip': ['id.orig_h', 'id.resp_h']\n",
    "        }\n",
    "    })"
   ]
  },
  {
   "cell_type": "code",
   "execution_count": 13,
   "metadata": {
    "colab": {
     "base_uri": "https://localhost:8080/",
     "height": 577
    },
    "colab_type": "code",
    "id": "9HMjueS9fC_k",
    "outputId": "a38a2471-1d07-4e29-d7d3-07275d7e8c9f",
    "scrolled": true
   },
   "outputs": [
    {
     "data": {
      "text/html": [
       "\n",
       "            <iframe id=\"d6cee000-5fb5-4555-8007-eccd80adf936\" src=\"https://labs.graphistry.com/graph/graph.html?dataset=PyGraphistry/4ZQ9Y6HU6M&type=vgraph&viztoken=3295b9fb3046768be87fa084c98553dd52072b41&usertag=421a30a8-pygraphistry-0.9.64&splashAfter=1555358485&info=true\"\n",
       "                    allowfullscreen=\"true\" webkitallowfullscreen=\"true\" mozallowfullscreen=\"true\"\n",
       "                    oallowfullscreen=\"true\" msallowfullscreen=\"true\"\n",
       "                    style=\"width:100%; height:500px; border: 1px solid #DDD\">\n",
       "            </iframe>\n",
       "        \n",
       "            <script>\n",
       "                $(\"#d6cee000-5fb5-4555-8007-eccd80adf936\").bind('mousewheel', function(e) {\n",
       "                e.preventDefault();\n",
       "                });\n",
       "            </script>\n",
       "        "
      ],
      "text/plain": [
       "<IPython.core.display.HTML object>"
      ]
     },
     "execution_count": 13,
     "metadata": {},
     "output_type": "execute_result"
    }
   ],
   "source": [
    "\n",
    "hg['graph'].plot()"
   ]
  },
  {
   "cell_type": "markdown",
   "metadata": {
    "colab_type": "text",
    "id": "IjGwNKv-gK7h"
   },
   "source": [
    "## Next Steps\n",
    "\n",
    "* Part I: [CPU Baseline in Python Pandas](./part_i_cpu_pandas.ipynb)\n",
    "* Part II: [GPU Dataframe with RAPIDS Python cudf bindings](./part_ii_gpu_cudf.ipynb)"
   ]
  },
  {
   "cell_type": "code",
   "execution_count": null,
   "metadata": {},
   "outputs": [],
   "source": []
  },
  {
   "cell_type": "code",
   "execution_count": null,
   "metadata": {},
   "outputs": [],
   "source": []
  }
 ],
 "metadata": {
  "colab": {
   "collapsed_sections": [],
   "name": "pandas_zeek_tutorial.ipynb",
   "provenance": [],
   "version": "0.3.2"
  },
  "kernelspec": {
   "display_name": "Python 3",
   "language": "python",
   "name": "python3"
  },
  "language_info": {
   "codemirror_mode": {
    "name": "ipython",
    "version": 3
   },
   "file_extension": ".py",
   "mimetype": "text/x-python",
   "name": "python",
   "nbconvert_exporter": "python",
   "pygments_lexer": "ipython3",
   "version": "3.6.7"
  }
 },
 "nbformat": 4,
 "nbformat_minor": 1
}
