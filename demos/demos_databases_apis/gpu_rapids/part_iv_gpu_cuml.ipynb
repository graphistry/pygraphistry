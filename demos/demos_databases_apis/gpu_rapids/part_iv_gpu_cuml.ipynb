{
 "cells": [
  {
   "cell_type": "markdown",
   "metadata": {},
   "source": [
    "UMAP is a popular method of dimensionality reduction, a helpful technique for meaningful analysis of large, complex datasets\n",
    "UMAP is:\n",
    " * interested in the number of nearest numbers\n",
    " * non-linear, unlike longstanding methods such as PCA\n",
    " * non-scaling, which keep calculation fast\n",
    " * stochastic and thus non-deterministic -- and different libraries handle this differently as you will see in this notebook\n",
    "   * `umap-learn` states that [\"variance between runs will exist, however small\"](https://umap-learn.readthedocs.io/en/latest/reproducibility.html)\n",
    "   * `cuml` currently uses [\"exact kNN\"](https://docs.rapids.ai/api/cuml/stable/api.html?highlight=umap#cuml.UMAP). This may chance in [future releases](https://github.com/rapidsai/cuml/issues/1653#issuecomment-584357155)\n"
   ]
  },
  {
   "cell_type": "markdown",
   "metadata": {},
   "source": [
    "#### clone and install graphistry, print version"
   ]
  },
  {
   "cell_type": "code",
   "execution_count": 9,
   "metadata": {
    "vscode": {
     "languageId": "python"
    }
   },
   "outputs": [
    {
     "name": "stdout",
     "output_type": "stream",
     "text": [
      "\u001b[33mWARNING: Running pip as the 'root' user can result in broken permissions and conflicting behaviour with the system package manager. It is recommended to use a virtual environment instead: https://pip.pypa.io/warnings/venv\u001b[0m\u001b[33m\n",
      "\u001b[0m"
     ]
    },
    {
     "data": {
      "text/plain": [
       "'0.27.2+4.ga674343.dirty'"
      ]
     },
     "execution_count": 9,
     "metadata": {},
     "output_type": "execute_result"
    }
   ],
   "source": [
    "import pandas as pd, networkx as nx\n",
    "# !git clone https://github.com/graphistry/pygraphistry.git\n",
    "\n",
    "from time import time\n",
    "!pip install -U pygraphistry/ --quiet\n",
    "\n",
    "import graphistry \n",
    "graphistry.register(api=3,protocol=\"https\", server=\"hub.graphistry.com\", username='***', password='***')\n",
    "graphistry.__version__"
   ]
  },
  {
   "cell_type": "code",
   "execution_count": 112,
   "metadata": {
    "vscode": {
     "languageId": "python"
    }
   },
   "outputs": [
    {
     "data": {
      "text/html": [
       "<div>\n",
       "<style scoped>\n",
       "    .dataframe tbody tr th:only-of-type {\n",
       "        vertical-align: middle;\n",
       "    }\n",
       "\n",
       "    .dataframe tbody tr th {\n",
       "        vertical-align: top;\n",
       "    }\n",
       "\n",
       "    .dataframe thead th {\n",
       "        text-align: right;\n",
       "    }\n",
       "</style>\n",
       "<table border=\"1\" class=\"dataframe\">\n",
       "  <thead>\n",
       "    <tr style=\"text-align: right;\">\n",
       "      <th></th>\n",
       "      <th>age</th>\n",
       "      <th>user_id</th>\n",
       "      <th>profile</th>\n",
       "      <th>date</th>\n",
       "      <th>location</th>\n",
       "    </tr>\n",
       "  </thead>\n",
       "  <tbody>\n",
       "    <tr>\n",
       "      <th>0</th>\n",
       "      <td>61</td>\n",
       "      <td>26</td>\n",
       "      <td>937</td>\n",
       "      <td>2019-04-05</td>\n",
       "      <td>113.47,20.34</td>\n",
       "    </tr>\n",
       "    <tr>\n",
       "      <th>1</th>\n",
       "      <td>30</td>\n",
       "      <td>19</td>\n",
       "      <td>972</td>\n",
       "      <td>2019-08-17</td>\n",
       "      <td>117.61,20.24</td>\n",
       "    </tr>\n",
       "    <tr>\n",
       "      <th>2</th>\n",
       "      <td>27</td>\n",
       "      <td>134</td>\n",
       "      <td>760</td>\n",
       "      <td>2020-05-30</td>\n",
       "      <td>115.11,23.5</td>\n",
       "    </tr>\n",
       "    <tr>\n",
       "      <th>3</th>\n",
       "      <td>55</td>\n",
       "      <td>44</td>\n",
       "      <td>864</td>\n",
       "      <td>2016-08-17</td>\n",
       "      <td>119.14,21.56</td>\n",
       "    </tr>\n",
       "    <tr>\n",
       "      <th>4</th>\n",
       "      <td>24</td>\n",
       "      <td>184</td>\n",
       "      <td>938</td>\n",
       "      <td>2017-09-30</td>\n",
       "      <td>113.64,23.54</td>\n",
       "    </tr>\n",
       "    <tr>\n",
       "      <th>...</th>\n",
       "      <td>...</td>\n",
       "      <td>...</td>\n",
       "      <td>...</td>\n",
       "      <td>...</td>\n",
       "      <td>...</td>\n",
       "    </tr>\n",
       "    <tr>\n",
       "      <th>995</th>\n",
       "      <td>69</td>\n",
       "      <td>72</td>\n",
       "      <td>887</td>\n",
       "      <td>2019-10-26</td>\n",
       "      <td>115.18,23.8</td>\n",
       "    </tr>\n",
       "    <tr>\n",
       "      <th>996</th>\n",
       "      <td>33</td>\n",
       "      <td>29</td>\n",
       "      <td>651</td>\n",
       "      <td>2020-06-15</td>\n",
       "      <td>117.05,21.3</td>\n",
       "    </tr>\n",
       "    <tr>\n",
       "      <th>997</th>\n",
       "      <td>18</td>\n",
       "      <td>101</td>\n",
       "      <td>517</td>\n",
       "      <td>2019-04-14</td>\n",
       "      <td>111.96,23.58</td>\n",
       "    </tr>\n",
       "    <tr>\n",
       "      <th>998</th>\n",
       "      <td>65</td>\n",
       "      <td>19</td>\n",
       "      <td>974</td>\n",
       "      <td>2019-05-22</td>\n",
       "      <td>112.48,23.63</td>\n",
       "    </tr>\n",
       "    <tr>\n",
       "      <th>999</th>\n",
       "      <td>23</td>\n",
       "      <td>42</td>\n",
       "      <td>156</td>\n",
       "      <td>2020-12-10</td>\n",
       "      <td>118.72,22.49</td>\n",
       "    </tr>\n",
       "  </tbody>\n",
       "</table>\n",
       "<p>1000 rows × 5 columns</p>\n",
       "</div>"
      ],
      "text/plain": [
       "     age  user_id  profile        date      location\n",
       "0     61       26      937  2019-04-05  113.47,20.34\n",
       "1     30       19      972  2019-08-17  117.61,20.24\n",
       "2     27      134      760  2020-05-30   115.11,23.5\n",
       "3     55       44      864  2016-08-17  119.14,21.56\n",
       "4     24      184      938  2017-09-30  113.64,23.54\n",
       "..   ...      ...      ...         ...           ...\n",
       "995   69       72      887  2019-10-26   115.18,23.8\n",
       "996   33       29      651  2020-06-15   117.05,21.3\n",
       "997   18      101      517  2019-04-14  111.96,23.58\n",
       "998   65       19      974  2019-05-22  112.48,23.63\n",
       "999   23       42      156  2020-12-10  118.72,22.49\n",
       "\n",
       "[1000 rows x 5 columns]"
      ]
     },
     "execution_count": 112,
     "metadata": {},
     "output_type": "execute_result"
    }
   ],
   "source": [
    "import pandas as pd, numpy as np\n",
    "start_u = pd.to_datetime('2016-01-01').value//10**9\n",
    "end_u = pd.to_datetime('2021-01-01').value//10**9\n",
    "samples=1000\n",
    "# df = pd.DataFrame(np.random.randint(,100,size=(samples, 1)), columns=['user_id', 'age', 'profile']) \n",
    "df = pd.DataFrame(np.random.randint(18,75,size=(samples, 1)), columns=['age']) \n",
    "df['user_id'] = np.random.randint(0,200,size=(samples, 1))\n",
    "df['profile'] = np.random.randint(0,1000,size=(samples, 1))\n",
    "df['date']=pd.to_datetime(np.random.randint(start_u, end_u, samples), unit='s').date\n",
    "\n",
    "# df[['lat','lon']]=(np.round(np.random.uniform(, 180,size=(samples,2)), 5))\n",
    "df['lon']=np.round(np.random.uniform(20, 24,size=(samples)), 2)\n",
    "df['lat']=np.round(np.random.uniform(110, 120,size=(samples)), 2)\n",
    "df['location']=df['lat'].astype(str) +\",\"+ df[\"lon\"].astype(str) \n",
    "df.drop(columns=['lat','lon'],inplace=True)\n",
    "df"
   ]
  },
  {
   "cell_type": "code",
   "execution_count": 113,
   "metadata": {
    "vscode": {
     "languageId": "python"
    }
   },
   "outputs": [
    {
     "name": "stdout",
     "output_type": "stream",
     "text": [
      "['time: 0.03180466492970784 line/min: 31441.928478420414']\n"
     ]
    },
    {
     "data": {
      "text/html": [
       "\n",
       "            <iframe id=\"d9d175c0-26d5-4056-b8c7-b22828cd5b39\" src=\"https://hub.graphistry.com/graph/graph.html?dataset=0cf4dfc3b18044199b33d1089f5b9c64&type=arrow&viztoken=c846ac21-e17d-4d22-87db-19ab202ecf0d&usertag=39269b0c-pygraphistry-0.27.2+4.ga674343.dirty&splashAfter=1663820405&info=true&play=0\"\n",
       "                    allowfullscreen=\"true\" webkitallowfullscreen=\"true\" mozallowfullscreen=\"true\"\n",
       "                    oallowfullscreen=\"true\" msallowfullscreen=\"true\"\n",
       "                    style=\"width:100%; height:500px; border: 1px solid #DDD; overflow: hidden\"\n",
       "                    \n",
       "            >\n",
       "            </iframe>\n",
       "        \n",
       "            <script>\n",
       "                try {\n",
       "                  $(\"#d9d175c0-26d5-4056-b8c7-b22828cd5b39\").bind('mousewheel', function(e) { e.preventDefault(); });\n",
       "                } catch (e) { console.error('exn catching scroll', e); }\n",
       "            </script>\n",
       "        "
      ],
      "text/plain": [
       "<IPython.core.display.HTML object>"
      ]
     },
     "execution_count": 113,
     "metadata": {},
     "output_type": "execute_result"
    }
   ],
   "source": [
    "g = graphistry.nodes(df)\n",
    "t=time()\n",
    "g2 = g.umap()\n",
    "min=(time()-t)/60\n",
    "lin=df.shape[0]/min\n",
    "print(['time: '+str(min)+' line/min: '+str(lin)])\n",
    "g2.plot()"
   ]
  },
  {
   "cell_type": "markdown",
   "metadata": {},
   "source": [
    "#### Parameters:  `X` and `y`, `feature_engine`, etc"
   ]
  },
  {
   "cell_type": "code",
   "execution_count": 114,
   "metadata": {
    "vscode": {
     "languageId": "python"
    }
   },
   "outputs": [
    {
     "name": "stdout",
     "output_type": "stream",
     "text": [
      "['time: 0.02227895657221476 line/min: 44885.40550625031']\n"
     ]
    },
    {
     "data": {
      "text/html": [
       "\n",
       "            <iframe id=\"95993363-1f8e-4866-ad87-0b7a9fb25d5b\" src=\"https://hub.graphistry.com/graph/graph.html?dataset=b8031f5c47214275b8ae8d4c50b2bd7c&type=arrow&viztoken=15b29905-a47d-4bee-986e-7e9983506b1d&usertag=39269b0c-pygraphistry-0.27.2+4.ga674343.dirty&splashAfter=1663820408&info=true&play=0\"\n",
       "                    allowfullscreen=\"true\" webkitallowfullscreen=\"true\" mozallowfullscreen=\"true\"\n",
       "                    oallowfullscreen=\"true\" msallowfullscreen=\"true\"\n",
       "                    style=\"width:100%; height:500px; border: 1px solid #DDD; overflow: hidden\"\n",
       "                    \n",
       "            >\n",
       "            </iframe>\n",
       "        \n",
       "            <script>\n",
       "                try {\n",
       "                  $(\"#95993363-1f8e-4866-ad87-0b7a9fb25d5b\").bind('mousewheel', function(e) { e.preventDefault(); });\n",
       "                } catch (e) { console.error('exn catching scroll', e); }\n",
       "            </script>\n",
       "        "
      ],
      "text/plain": [
       "<IPython.core.display.HTML object>"
      ]
     },
     "execution_count": 114,
     "metadata": {},
     "output_type": "execute_result"
    }
   ],
   "source": [
    "g = graphistry.nodes(df)\n",
    "t=time()\n",
    "g2 = g.umap(X=['user_id'],y=['date','location'])\n",
    "min=(time()-t)/60\n",
    "lin=df.shape[0]/min\n",
    "print(['time: '+str(min)+' line/min: '+str(lin)])\n",
    "g2.plot()"
   ]
  },
  {
   "cell_type": "code",
   "execution_count": 115,
   "metadata": {
    "vscode": {
     "languageId": "python"
    }
   },
   "outputs": [
    {
     "name": "stdout",
     "output_type": "stream",
     "text": [
      "['time: 0.023025786876678465 line/min: 43429.56900260569']\n"
     ]
    },
    {
     "data": {
      "text/html": [
       "\n",
       "            <iframe id=\"58624fc9-fcef-4650-8d27-8e8111b20f5d\" src=\"https://hub.graphistry.com/graph/graph.html?dataset=bf0b491ec4264ec489d64edb8fdf8a72&type=arrow&viztoken=cb6b7978-1d15-4d8d-9f2f-8579be7f8f35&usertag=39269b0c-pygraphistry-0.27.2+4.ga674343.dirty&splashAfter=1663820508&info=true&play=0\"\n",
       "                    allowfullscreen=\"true\" webkitallowfullscreen=\"true\" mozallowfullscreen=\"true\"\n",
       "                    oallowfullscreen=\"true\" msallowfullscreen=\"true\"\n",
       "                    style=\"width:100%; height:500px; border: 1px solid #DDD; overflow: hidden\"\n",
       "                    \n",
       "            >\n",
       "            </iframe>\n",
       "        \n",
       "            <script>\n",
       "                try {\n",
       "                  $(\"#58624fc9-fcef-4650-8d27-8e8111b20f5d\").bind('mousewheel', function(e) { e.preventDefault(); });\n",
       "                } catch (e) { console.error('exn catching scroll', e); }\n",
       "            </script>\n",
       "        "
      ],
      "text/plain": [
       "<IPython.core.display.HTML object>"
      ]
     },
     "execution_count": 115,
     "metadata": {},
     "output_type": "execute_result"
    }
   ],
   "source": [
    "g = graphistry.nodes(df)\n",
    "t=time()\n",
    "g2 = g.umap(X=['user_id'],y=['date','location'], feature_engine='torch')\n",
    "min=(time()-t)/60\n",
    "lin=df.shape[0]/min\n",
    "print(['time: '+str(min)+' line/min: '+str(lin)])\n",
    "g2.plot()"
   ]
  },
  {
   "cell_type": "markdown",
   "metadata": {},
   "source": [
    "testing various other parameters"
   ]
  },
  {
   "cell_type": "code",
   "execution_count": 117,
   "metadata": {
    "vscode": {
     "languageId": "python"
    }
   },
   "outputs": [
    {
     "name": "stdout",
     "output_type": "stream",
     "text": [
      "['time: 0.003930246829986573 line/min: 254436.94588602122']\n"
     ]
    },
    {
     "data": {
      "text/html": [
       "\n",
       "            <iframe id=\"e51a24bb-44f3-4fe8-990e-6fcef25e2948\" src=\"https://hub.graphistry.com/graph/graph.html?dataset=77aaa2167df04db49aed214cfd548256&type=arrow&viztoken=26ab4e56-2798-4449-83ba-e116f07b36f8&usertag=39269b0c-pygraphistry-0.27.2+4.ga674343.dirty&splashAfter=1663820701&info=true&play=0\"\n",
       "                    allowfullscreen=\"true\" webkitallowfullscreen=\"true\" mozallowfullscreen=\"true\"\n",
       "                    oallowfullscreen=\"true\" msallowfullscreen=\"true\"\n",
       "                    style=\"width:100%; height:500px; border: 1px solid #DDD; overflow: hidden\"\n",
       "                    \n",
       "            >\n",
       "            </iframe>\n",
       "        \n",
       "            <script>\n",
       "                try {\n",
       "                  $(\"#e51a24bb-44f3-4fe8-990e-6fcef25e2948\").bind('mousewheel', function(e) { e.preventDefault(); });\n",
       "                } catch (e) { console.error('exn catching scroll', e); }\n",
       "            </script>\n",
       "        "
      ],
      "text/plain": [
       "<IPython.core.display.HTML object>"
      ]
     },
     "execution_count": 117,
     "metadata": {},
     "output_type": "execute_result"
    }
   ],
   "source": [
    "g = graphistry.nodes(df)\n",
    "t=time()\n",
    "g2 = g.umap(X=['user_id'],y=['date','location'], feature_engine='torch', n_neighbors= 2,min_dist=.5, spread=.1, local_connectivity=2, n_components=5,metric='hellinger')\n",
    "min=(time()-t)/60\n",
    "lin=df.shape[0]/min\n",
    "print(['time: '+str(min)+' line/min: '+str(lin)])\n",
    "g2.plot()\n"
   ]
  },
  {
   "cell_type": "code",
   "execution_count": null,
   "metadata": {
    "vscode": {
     "languageId": "python"
    }
   },
   "outputs": [],
   "source": []
  },
  {
   "cell_type": "markdown",
   "metadata": {},
   "source": [
    "#### test `engine` flag to see speed boost"
   ]
  },
  {
   "cell_type": "code",
   "execution_count": 87,
   "metadata": {
    "vscode": {
     "languageId": "python"
    }
   },
   "outputs": [
    {
     "name": "stdout",
     "output_type": "stream",
     "text": [
      "['time: 0.004134837786356608 line/min: 241847.4560960093']\n"
     ]
    }
   ],
   "source": [
    "g = graphistry.nodes(df)\n",
    "t=time()\n",
    "g2 = g.umap(engine='cuml')\n",
    "min=(time()-t)/60\n",
    "lin=df.shape[0]/min\n",
    "print(['time: '+str(min)+' line/min: '+str(lin)])"
   ]
  },
  {
   "cell_type": "code",
   "execution_count": 88,
   "metadata": {
    "vscode": {
     "languageId": "python"
    }
   },
   "outputs": [
    {
     "name": "stdout",
     "output_type": "stream",
     "text": [
      "['time: 0.06711641947428386 line/min: 14899.483730403068']\n"
     ]
    }
   ],
   "source": [
    "g = graphistry.nodes(df)\n",
    "t=time()\n",
    "g2 = g.umap(engine='umap_learn') ## note this will take appreciable time depending on sample count defined above\n",
    "min=(time()-t)/60\n",
    "lin=df.shape[0]/min\n",
    "print(['time: '+str(min)+' line/min: '+str(lin)])"
   ]
  },
  {
   "cell_type": "markdown",
   "metadata": {},
   "source": [
    "#### Now lets look at some real data:"
   ]
  },
  {
   "cell_type": "code",
   "execution_count": 77,
   "metadata": {
    "vscode": {
     "languageId": "python"
    }
   },
   "outputs": [
    {
     "name": "stdout",
     "output_type": "stream",
     "text": [
      "['time: 0.0008151054382324219 line/min: 269903.7323037323']\n"
     ]
    }
   ],
   "source": [
    "G=pd.read_csv('pygraphistry/demos/data/honeypot.csv')\n",
    "\n",
    "g = graphistry.nodes(G)\n",
    "t=time()\n",
    "g3 = g.umap(engine='cuml')#-learn')\n",
    "min=(time()-t)/60\n",
    "lin=G.shape[0]/min\n",
    "print(['time: '+str(min)+' line/min: '+str(lin)])"
   ]
  },
  {
   "cell_type": "code",
   "execution_count": 78,
   "metadata": {
    "vscode": {
     "languageId": "python"
    }
   },
   "outputs": [
    {
     "name": "stdout",
     "output_type": "stream",
     "text": [
      "<class 'pandas.core.frame.DataFrame'>\n",
      "Int64Index: 3728 entries, 0 to 3749\n",
      "Data columns (total 3 columns):\n",
      " #   Column         Non-Null Count  Dtype  \n",
      "---  ------         --------------  -----  \n",
      " 0   _src_implicit  3728 non-null   int32  \n",
      " 1   _dst_implicit  3728 non-null   int32  \n",
      " 2   _weight        3728 non-null   float32\n",
      "dtypes: float32(1), int32(2)\n",
      "memory usage: 72.8 KB\n",
      "None\n"
     ]
    },
    {
     "data": {
      "text/html": [
       "<div>\n",
       "<style scoped>\n",
       "    .dataframe tbody tr th:only-of-type {\n",
       "        vertical-align: middle;\n",
       "    }\n",
       "\n",
       "    .dataframe tbody tr th {\n",
       "        vertical-align: top;\n",
       "    }\n",
       "\n",
       "    .dataframe thead th {\n",
       "        text-align: right;\n",
       "    }\n",
       "</style>\n",
       "<table border=\"1\" class=\"dataframe\">\n",
       "  <thead>\n",
       "    <tr style=\"text-align: right;\">\n",
       "      <th></th>\n",
       "      <th>_src_implicit</th>\n",
       "      <th>_dst_implicit</th>\n",
       "      <th>_weight</th>\n",
       "    </tr>\n",
       "  </thead>\n",
       "  <tbody>\n",
       "    <tr>\n",
       "      <th>1046</th>\n",
       "      <td>71</td>\n",
       "      <td>144</td>\n",
       "      <td>0.205078</td>\n",
       "    </tr>\n",
       "    <tr>\n",
       "      <th>642</th>\n",
       "      <td>41</td>\n",
       "      <td>74</td>\n",
       "      <td>0.176112</td>\n",
       "    </tr>\n",
       "    <tr>\n",
       "      <th>811</th>\n",
       "      <td>53</td>\n",
       "      <td>152</td>\n",
       "      <td>0.079932</td>\n",
       "    </tr>\n",
       "    <tr>\n",
       "      <th>2699</th>\n",
       "      <td>171</td>\n",
       "      <td>70</td>\n",
       "      <td>0.140091</td>\n",
       "    </tr>\n",
       "    <tr>\n",
       "      <th>1466</th>\n",
       "      <td>101</td>\n",
       "      <td>144</td>\n",
       "      <td>0.050159</td>\n",
       "    </tr>\n",
       "  </tbody>\n",
       "</table>\n",
       "</div>"
      ],
      "text/plain": [
       "      _src_implicit  _dst_implicit   _weight\n",
       "1046             71            144  0.205078\n",
       "642              41             74  0.176112\n",
       "811              53            152  0.079932\n",
       "2699            171             70  0.140091\n",
       "1466            101            144  0.050159"
      ]
     },
     "execution_count": 78,
     "metadata": {},
     "output_type": "execute_result"
    }
   ],
   "source": [
    "print(g3._edges.info())\n",
    "g3._edges.sample(5)"
   ]
  },
  {
   "cell_type": "code",
   "execution_count": 79,
   "metadata": {
    "vscode": {
     "languageId": "python"
    }
   },
   "outputs": [
    {
     "data": {
      "text/html": [
       "\n",
       "            <iframe id=\"385dd123-b816-4166-9341-2ce7155cc477\" src=\"https://hub.graphistry.com/graph/graph.html?dataset=b533c6cb4e11467abfe7121b1f6ca4ef&type=arrow&viztoken=bee2c0fc-ffa8-4fbc-8fee-b1af06f1f217&usertag=39269b0c-pygraphistry-0.27.2+4.ga674343.dirty&splashAfter=1663819187&info=true&play=0\"\n",
       "                    allowfullscreen=\"true\" webkitallowfullscreen=\"true\" mozallowfullscreen=\"true\"\n",
       "                    oallowfullscreen=\"true\" msallowfullscreen=\"true\"\n",
       "                    style=\"width:100%; height:500px; border: 1px solid #DDD; overflow: hidden\"\n",
       "                    \n",
       "            >\n",
       "            </iframe>\n",
       "        \n",
       "            <script>\n",
       "                try {\n",
       "                  $(\"#385dd123-b816-4166-9341-2ce7155cc477\").bind('mousewheel', function(e) { e.preventDefault(); });\n",
       "                } catch (e) { console.error('exn catching scroll', e); }\n",
       "            </script>\n",
       "        "
      ],
      "text/plain": [
       "<IPython.core.display.HTML object>"
      ]
     },
     "execution_count": 79,
     "metadata": {},
     "output_type": "execute_result"
    }
   ],
   "source": [
    "g3.plot()"
   ]
  },
  {
   "cell_type": "code",
   "execution_count": null,
   "metadata": {
    "vscode": {
     "languageId": "python"
    }
   },
   "outputs": [],
   "source": []
  }
 ],
 "metadata": {
  "kernelspec": {
   "display_name": "Python 3 (ipykernel)",
   "language": "python",
   "name": "python3"
  },
  "orig_nbformat": 4,
  "vscode": {
   "interpreter": {
    "hash": "21c4dad877b49e935d0a60da22bc51e9bfc4901bc58e488dc71d08b8faef6557"
   }
  }
 },
 "nbformat": 4,
 "nbformat_minor": 2
}
