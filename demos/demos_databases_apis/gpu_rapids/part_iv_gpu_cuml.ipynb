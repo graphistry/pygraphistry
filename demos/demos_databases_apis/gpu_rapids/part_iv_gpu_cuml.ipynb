{
 "cells": [
  {
   "cell_type": "markdown",
   "metadata": {},
   "source": [
    "UMAP is a popular method of dimensionality reduction, a helpful technique for meaningful analysis of large, complex datasets\n",
    "UMAP is:\n",
    " * interested in the number of nearest numbers\n",
    " * non-linear, unlike longstanding methods such as PCA\n",
    " * non-scaling, which keep calculation fast\n",
    " * stochastic and thus non-deterministic -- and different libraries handle this differently as you will see in this notebook\n",
    "   * `umap-learn` states that [\"variance between runs will exist, however small\"](https://umap-learn.readthedocs.io/en/latest/reproducibility.html)\n",
    "   * `cuml` currently uses [\"exact kNN\"](https://docs.rapids.ai/api/cuml/stable/api.html?highlight=umap#cuml.UMAP). This may chance in [future releases](https://github.com/rapidsai/cuml/issues/1653#issuecomment-584357155)\n"
   ]
  },
  {
   "cell_type": "markdown",
   "metadata": {},
   "source": [
    "#### clone and install graphistry, print version"
   ]
  },
  {
   "cell_type": "code",
   "execution_count": 9,
   "metadata": {
    "vscode": {
     "languageId": "python"
    }
   },
   "outputs": [
    {
     "name": "stdout",
     "output_type": "stream",
     "text": [
      "\u001b[33mWARNING: Running pip as the 'root' user can result in broken permissions and conflicting behaviour with the system package manager. It is recommended to use a virtual environment instead: https://pip.pypa.io/warnings/venv\u001b[0m\u001b[33m\n",
      "\u001b[0m"
     ]
    },
    {
     "data": {
      "text/plain": [
       "'0.27.2+4.ga674343.dirty'"
      ]
     },
     "execution_count": 9,
     "metadata": {},
     "output_type": "execute_result"
    }
   ],
   "source": [
    "import pandas as pd, networkx as nx\n",
    "# !git clone https://github.com/graphistry/pygraphistry.git\n",
    "\n",
    "from time import time\n",
    "!pip install -U pygraphistry/ --quiet\n",
    "\n",
    "import graphistry \n",
    "graphistry.register(api=3,protocol=\"https\", server=\"hub.graphistry.com\", username='***', password='***')\n",
    "graphistry.__version__"
   ]
  },
  {
   "cell_type": "code",
   "execution_count": 2,
   "metadata": {
    "vscode": {
     "languageId": "python"
    }
   },
   "outputs": [
    {
     "data": {
      "text/html": [
       "<div>\n",
       "<style scoped>\n",
       "    .dataframe tbody tr th:only-of-type {\n",
       "        vertical-align: middle;\n",
       "    }\n",
       "\n",
       "    .dataframe tbody tr th {\n",
       "        vertical-align: top;\n",
       "    }\n",
       "\n",
       "    .dataframe thead th {\n",
       "        text-align: right;\n",
       "    }\n",
       "</style>\n",
       "<table border=\"1\" class=\"dataframe\">\n",
       "  <thead>\n",
       "    <tr style=\"text-align: right;\">\n",
       "      <th></th>\n",
       "      <th>age</th>\n",
       "      <th>user_id</th>\n",
       "      <th>profile</th>\n",
       "      <th>date</th>\n",
       "      <th>location</th>\n",
       "    </tr>\n",
       "  </thead>\n",
       "  <tbody>\n",
       "    <tr>\n",
       "      <th>0</th>\n",
       "      <td>32</td>\n",
       "      <td>185</td>\n",
       "      <td>357</td>\n",
       "      <td>2017-06-16</td>\n",
       "      <td>117.81,22.87</td>\n",
       "    </tr>\n",
       "    <tr>\n",
       "      <th>1</th>\n",
       "      <td>66</td>\n",
       "      <td>86</td>\n",
       "      <td>84</td>\n",
       "      <td>2020-03-30</td>\n",
       "      <td>110.07,20.52</td>\n",
       "    </tr>\n",
       "    <tr>\n",
       "      <th>2</th>\n",
       "      <td>28</td>\n",
       "      <td>26</td>\n",
       "      <td>862</td>\n",
       "      <td>2019-05-12</td>\n",
       "      <td>116.16,23.02</td>\n",
       "    </tr>\n",
       "    <tr>\n",
       "      <th>3</th>\n",
       "      <td>69</td>\n",
       "      <td>193</td>\n",
       "      <td>607</td>\n",
       "      <td>2019-03-11</td>\n",
       "      <td>112.21,23.25</td>\n",
       "    </tr>\n",
       "    <tr>\n",
       "      <th>4</th>\n",
       "      <td>34</td>\n",
       "      <td>27</td>\n",
       "      <td>4</td>\n",
       "      <td>2019-08-06</td>\n",
       "      <td>114.56,20.99</td>\n",
       "    </tr>\n",
       "    <tr>\n",
       "      <th>...</th>\n",
       "      <td>...</td>\n",
       "      <td>...</td>\n",
       "      <td>...</td>\n",
       "      <td>...</td>\n",
       "      <td>...</td>\n",
       "    </tr>\n",
       "    <tr>\n",
       "      <th>995</th>\n",
       "      <td>52</td>\n",
       "      <td>128</td>\n",
       "      <td>435</td>\n",
       "      <td>2016-10-19</td>\n",
       "      <td>115.3,23.67</td>\n",
       "    </tr>\n",
       "    <tr>\n",
       "      <th>996</th>\n",
       "      <td>67</td>\n",
       "      <td>116</td>\n",
       "      <td>97</td>\n",
       "      <td>2016-04-24</td>\n",
       "      <td>117.69,23.92</td>\n",
       "    </tr>\n",
       "    <tr>\n",
       "      <th>997</th>\n",
       "      <td>32</td>\n",
       "      <td>55</td>\n",
       "      <td>915</td>\n",
       "      <td>2018-11-07</td>\n",
       "      <td>113.63,22.74</td>\n",
       "    </tr>\n",
       "    <tr>\n",
       "      <th>998</th>\n",
       "      <td>72</td>\n",
       "      <td>68</td>\n",
       "      <td>148</td>\n",
       "      <td>2020-05-23</td>\n",
       "      <td>116.39,21.25</td>\n",
       "    </tr>\n",
       "    <tr>\n",
       "      <th>999</th>\n",
       "      <td>56</td>\n",
       "      <td>19</td>\n",
       "      <td>932</td>\n",
       "      <td>2016-04-23</td>\n",
       "      <td>116.2,23.54</td>\n",
       "    </tr>\n",
       "  </tbody>\n",
       "</table>\n",
       "<p>1000 rows × 5 columns</p>\n",
       "</div>"
      ],
      "text/plain": [
       "    age user_id profile        date      location\n",
       "0    32     185     357  2017-06-16  117.81,22.87\n",
       "1    66      86      84  2020-03-30  110.07,20.52\n",
       "2    28      26     862  2019-05-12  116.16,23.02\n",
       "3    69     193     607  2019-03-11  112.21,23.25\n",
       "4    34      27       4  2019-08-06  114.56,20.99\n",
       "..   ..     ...     ...         ...           ...\n",
       "995  52     128     435  2016-10-19   115.3,23.67\n",
       "996  67     116      97  2016-04-24  117.69,23.92\n",
       "997  32      55     915  2018-11-07  113.63,22.74\n",
       "998  72      68     148  2020-05-23  116.39,21.25\n",
       "999  56      19     932  2016-04-23   116.2,23.54\n",
       "\n",
       "[1000 rows x 5 columns]"
      ]
     },
     "execution_count": 2,
     "metadata": {},
     "output_type": "execute_result"
    }
   ],
   "source": [
    "import pandas as pd, numpy as np\n",
    "start_u = pd.to_datetime('2016-01-01').value//10**9\n",
    "end_u = pd.to_datetime('2021-01-01').value//10**9\n",
    "samples=1000\n",
    "# df = pd.DataFrame(np.random.randint(,100,size=(samples, 1)), columns=['user_id', 'age', 'profile']) \n",
    "df = pd.DataFrame(np.random.randint(18,75,size=(samples, 1)), columns=['age']) \n",
    "df['user_id'] = np.random.randint(0,200,size=(samples, 1))\n",
    "df['profile'] = np.random.randint(0,1000,size=(samples, 1))\n",
    "df['date']=pd.to_datetime(np.random.randint(start_u, end_u, samples), unit='s').date\n",
    "\n",
    "# df[['lat','lon']]=(np.round(np.random.uniform(, 180,size=(samples,2)), 5))\n",
    "df['lon']=np.round(np.random.uniform(20, 24,size=(samples)), 2)\n",
    "df['lat']=np.round(np.random.uniform(110, 120,size=(samples)), 2)\n",
    "df['location']=df['lat'].astype(str) +\",\"+ df[\"lon\"].astype(str) \n",
    "df.drop(columns=['lat','lon'],inplace=True)\n",
    "df = df.applymap(str)\n",
    "df"
   ]
  },
  {
   "cell_type": "code",
   "execution_count": 3,
   "metadata": {
    "vscode": {
     "languageId": "python"
    }
   },
   "outputs": [
    {
     "name": "stderr",
     "output_type": "stream",
     "text": [
      "! Failed umap speedup attempt. Continuing without memoization speedups.* Ignoring target column of shape (1000, 0) in UMAP fit, as it is not one dimensional"
     ]
    },
    {
     "name": "stdout",
     "output_type": "stream",
     "text": [
      "['time: 0.14064184427261353 line/min: 7110.259433612426']\n"
     ]
    }
   ],
   "source": [
    "g = graphistry.nodes(df)\n",
    "t=time()\n",
    "g2 = g.umap()\n",
    "min=(time()-t)/60\n",
    "lin=df.shape[0]/min\n",
    "print(['time: '+str(min)+' line/min: '+str(lin)])\n",
    "g2.plot()"
   ]
  },
  {
   "cell_type": "markdown",
   "metadata": {},
   "source": [
    "#### Parameters:  `X` and `y`, `feature_engine`, etc"
   ]
  },
  {
   "cell_type": "code",
   "execution_count": 4,
   "metadata": {
    "vscode": {
     "languageId": "python"
    }
   },
   "outputs": [
    {
     "name": "stderr",
     "output_type": "stream",
     "text": [
      "! Failed umap speedup attempt. Continuing without memoization speedups.* Ignoring target column of shape (1000, 14) in UMAP fit, as it is not one dimensional"
     ]
    },
    {
     "name": "stdout",
     "output_type": "stream",
     "text": [
      "['time: 0.0287002166112264 line/min: 34842.94260026035']\n"
     ]
    }
   ],
   "source": [
    "g = graphistry.nodes(df)\n",
    "t=time()\n",
    "g2 = g.umap(X=['user_id'],y=['date','location'])\n",
    "min=(time()-t)/60\n",
    "lin=df.shape[0]/min\n",
    "print(['time: '+str(min)+' line/min: '+str(lin)])\n",
    "g2.plot()"
   ]
  },
  {
   "cell_type": "code",
   "execution_count": 5,
   "metadata": {
    "vscode": {
     "languageId": "python"
    }
   },
   "outputs": [
    {
     "name": "stderr",
     "output_type": "stream",
     "text": [
      "! Failed umap speedup attempt. Continuing without memoization speedups.* Ignoring target column of shape (1000, 14) in UMAP fit, as it is not one dimensional"
     ]
    },
    {
     "name": "stdout",
     "output_type": "stream",
     "text": [
      "['time: 0.0024895787239074705 line/min: 401674.38386140653']\n"
     ]
    }
   ],
   "source": [
    "g = graphistry.nodes(df)\n",
    "t=time()\n",
    "g2 = g.umap(X=['user_id'],y=['date','location'], feature_engine='torch')\n",
    "min=(time()-t)/60\n",
    "lin=df.shape[0]/min\n",
    "print(['time: '+str(min)+' line/min: '+str(lin)])\n",
    "g2.plot()"
   ]
  },
  {
   "cell_type": "markdown",
   "metadata": {},
   "source": [
    "testing various other parameters"
   ]
  },
  {
   "cell_type": "code",
   "execution_count": 6,
   "metadata": {
    "vscode": {
     "languageId": "python"
    }
   },
   "outputs": [
    {
     "name": "stderr",
     "output_type": "stream",
     "text": [
      "! Failed umap speedup attempt. Continuing without memoization speedups.* Ignoring target column of shape (1000, 14) in UMAP fit, as it is not one dimensional"
     ]
    },
    {
     "name": "stdout",
     "output_type": "stream",
     "text": [
      "['time: 0.0022179365158081056 line/min: 450869.5325013168']\n"
     ]
    }
   ],
   "source": [
    "g = graphistry.nodes(df)\n",
    "t=time()\n",
    "g2 = g.umap(X=['user_id'],y=['date','location'], feature_engine='torch', n_neighbors= 2,min_dist=.1, spread=.1, local_connectivity=2, n_components=5,metric='hellinger')\n",
    "min=(time()-t)/60\n",
    "lin=df.shape[0]/min\n",
    "print(['time: '+str(min)+' line/min: '+str(lin)])\n",
    "g2.plot(render=False)"
   ]
  },
  {
   "cell_type": "markdown",
   "metadata": {},
   "source": [
    "#### test `engine` flag to see speed boost"
   ]
  },
  {
   "cell_type": "code",
   "execution_count": 7,
   "metadata": {
    "vscode": {
     "languageId": "python"
    }
   },
   "outputs": [
    {
     "name": "stderr",
     "output_type": "stream",
     "text": [
      "! Failed umap speedup attempt. Continuing without memoization speedups.* Ignoring target column of shape (1000, 0) in UMAP fit, as it is not one dimensional"
     ]
    },
    {
     "name": "stdout",
     "output_type": "stream",
     "text": [
      "['time: 0.00446544885635376 line/min: 223941.65338544376']\n"
     ]
    }
   ],
   "source": [
    "g = graphistry.nodes(df)\n",
    "t=time()\n",
    "g2 = g.umap(engine='cuml')\n",
    "min=(time()-t)/60\n",
    "lin=df.shape[0]/min\n",
    "print(['time: '+str(min)+' line/min: '+str(lin)])"
   ]
  },
  {
   "cell_type": "code",
   "execution_count": 8,
   "metadata": {
    "vscode": {
     "languageId": "python"
    }
   },
   "outputs": [
    {
     "name": "stderr",
     "output_type": "stream",
     "text": [
      "* Ignoring target column of shape (1000, 0) in UMAP fit, as it is not one dimensional"
     ]
    },
    {
     "name": "stdout",
     "output_type": "stream",
     "text": [
      "['time: 0.11818180878957113 line/min: 8461.539134001174']\n"
     ]
    }
   ],
   "source": [
    "g = graphistry.nodes(df)\n",
    "t=time()\n",
    "g2 = g.umap(engine='umap_learn') ## note this will take appreciable time depending on sample count defined above\n",
    "min=(time()-t)/60\n",
    "lin=df.shape[0]/min\n",
    "print(['time: '+str(min)+' line/min: '+str(lin)])"
   ]
  },
  {
   "cell_type": "markdown",
   "metadata": {},
   "source": [
    "#### Now lets look at some real data:"
   ]
  },
  {
   "cell_type": "code",
   "execution_count": 12,
   "metadata": {
    "vscode": {
     "languageId": "python"
    }
   },
   "outputs": [
    {
     "name": "stderr",
     "output_type": "stream",
     "text": [
      "! Failed umap speedup attempt. Continuing without memoization speedups.* Ignoring target column of shape (220, 0) in UMAP fit, as it is not one dimensional"
     ]
    },
    {
     "name": "stdout",
     "output_type": "stream",
     "text": [
      "['time: 0.008098324139912924 line/min: 27166.11439590581']\n"
     ]
    }
   ],
   "source": [
    "G=pd.read_csv('pygraphistry/demos/data/honeypot.csv')\n",
    "\n",
    "g = graphistry.nodes(G)\n",
    "t=time()\n",
    "g3 = g.umap(engine='cuml')#-learn')\n",
    "min=(time()-t)/60\n",
    "lin=G.shape[0]/min\n",
    "print(['time: '+str(min)+' line/min: '+str(lin)])"
   ]
  },
  {
   "cell_type": "code",
   "execution_count": 13,
   "metadata": {
    "vscode": {
     "languageId": "python"
    }
   },
   "outputs": [
    {
     "name": "stdout",
     "output_type": "stream",
     "text": [
      "<class 'pandas.core.frame.DataFrame'>\n",
      "Int64Index: 2410 entries, 0 to 2821\n",
      "Data columns (total 3 columns):\n",
      " #   Column         Non-Null Count  Dtype  \n",
      "---  ------         --------------  -----  \n",
      " 0   _src_implicit  2410 non-null   int32  \n",
      " 1   _dst_implicit  2410 non-null   int32  \n",
      " 2   _weight        2410 non-null   float32\n",
      "dtypes: float32(1), int32(2)\n",
      "memory usage: 47.1 KB\n",
      "None\n"
     ]
    },
    {
     "data": {
      "text/html": [
       "<div>\n",
       "<style scoped>\n",
       "    .dataframe tbody tr th:only-of-type {\n",
       "        vertical-align: middle;\n",
       "    }\n",
       "\n",
       "    .dataframe tbody tr th {\n",
       "        vertical-align: top;\n",
       "    }\n",
       "\n",
       "    .dataframe thead th {\n",
       "        text-align: right;\n",
       "    }\n",
       "</style>\n",
       "<table border=\"1\" class=\"dataframe\">\n",
       "  <thead>\n",
       "    <tr style=\"text-align: right;\">\n",
       "      <th></th>\n",
       "      <th>_src_implicit</th>\n",
       "      <th>_dst_implicit</th>\n",
       "      <th>_weight</th>\n",
       "    </tr>\n",
       "  </thead>\n",
       "  <tbody>\n",
       "    <tr>\n",
       "      <th>671</th>\n",
       "      <td>51</td>\n",
       "      <td>123</td>\n",
       "      <td>0.017956</td>\n",
       "    </tr>\n",
       "    <tr>\n",
       "      <th>2123</th>\n",
       "      <td>167</td>\n",
       "      <td>194</td>\n",
       "      <td>0.663975</td>\n",
       "    </tr>\n",
       "    <tr>\n",
       "      <th>1761</th>\n",
       "      <td>139</td>\n",
       "      <td>78</td>\n",
       "      <td>0.113361</td>\n",
       "    </tr>\n",
       "    <tr>\n",
       "      <th>2444</th>\n",
       "      <td>191</td>\n",
       "      <td>3</td>\n",
       "      <td>0.999991</td>\n",
       "    </tr>\n",
       "    <tr>\n",
       "      <th>2441</th>\n",
       "      <td>190</td>\n",
       "      <td>152</td>\n",
       "      <td>0.544303</td>\n",
       "    </tr>\n",
       "  </tbody>\n",
       "</table>\n",
       "</div>"
      ],
      "text/plain": [
       "      _src_implicit  _dst_implicit   _weight\n",
       "671              51            123  0.017956\n",
       "2123            167            194  0.663975\n",
       "1761            139             78  0.113361\n",
       "2444            191              3  0.999991\n",
       "2441            190            152  0.544303"
      ]
     },
     "execution_count": 13,
     "metadata": {},
     "output_type": "execute_result"
    }
   ],
   "source": [
    "print(g3._edges.info())\n",
    "g3._edges.sample(5)"
   ]
  },
  {
   "cell_type": "code",
   "execution_count": 16,
   "metadata": {
    "vscode": {
     "languageId": "python"
    }
   },
   "outputs": [],
   "source": [
    "#g3.plot()"
   ]
  }
 ],
 "metadata": {
  "kernelspec": {
   "display_name": "Python 3 (ipykernel)",
   "language": "python",
   "name": "python3"
  },
  "language_info": {
   "codemirror_mode": {
    "name": "ipython",
    "version": 3
   },
   "file_extension": ".py",
   "mimetype": "text/x-python",
   "name": "python",
   "nbconvert_exporter": "python",
   "pygments_lexer": "ipython3",
   "version": "3.9.15"
  },
  "vscode": {
   "interpreter": {
    "hash": "21c4dad877b49e935d0a60da22bc51e9bfc4901bc58e488dc71d08b8faef6557"
   }
  }
 },
 "nbformat": 4,
 "nbformat_minor": 2
}
