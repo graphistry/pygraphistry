{
 "cells": [
  {
   "cell_type": "markdown",
   "metadata": {},
   "source": [
    "#### clone and install graphistry, print version"
   ]
  },
  {
   "cell_type": "code",
   "execution_count": 10,
   "metadata": {
    "vscode": {
     "languageId": "python"
    }
   },
   "outputs": [],
   "source": [
    "import pandas as pd, networkx as nx\n",
    "# !git clone https://github.com/graphistry/pygraphistry.git\n",
    "\n",
    "from time import time\n",
    "!pip install -U pygraphistry/ --quiet\n",
    "\n",
    "import graphistry \n",
    "graphistry.register(api=3,protocol=\"https\", server=\"hub.graphistry.com\", username='dcolinmorgan', password='f5UwthGEF@F@xnP')\n",
    "graphistry.__version__"
   ]
  },
  {
   "cell_type": "markdown",
   "metadata": {},
   "source": [
    "#### test engines on same synthetic dataset"
   ]
  },
  {
   "cell_type": "code",
   "execution_count": 6,
   "metadata": {
    "vscode": {
     "languageId": "python"
    }
   },
   "outputs": [
    {
     "name": "stdout",
     "output_type": "stream",
     "text": [
      "['time: 0.011002473036448161 line/min: 226494.5337057124']\n"
     ]
    }
   ],
   "source": [
    "N,P = 1000, 0.005\n",
    "A = nx.generators.random_graphs.gnp_random_graph(N, P)\n",
    "G=nx.to_pandas_edgelist(A)\n",
    "G=G.rename(columns={\"target\":'destination'})\n",
    "G['edge_weight']=np.random.randn(len(G))\n",
    "\n",
    "g = graphistry.nodes(G)\n",
    "t=time()\n",
    "g2 = g.umap(engine='cuml')\n",
    "min=(time()-t)/60\n",
    "lin=G.shape[0]/min\n",
    "print(['time: '+str(min)+' line/min: '+str(lin)])\n",
    "# g2.plot()"
   ]
  },
  {
   "cell_type": "code",
   "execution_count": 7,
   "metadata": {
    "vscode": {
     "languageId": "python"
    }
   },
   "outputs": [
    {
     "name": "stdout",
     "output_type": "stream",
     "text": [
      "['time: 0.14623186588287354 line/min: 17041.42927367146']\n"
     ]
    }
   ],
   "source": [
    "# N,P = 1000, 0.005\n",
    "# G = nx.generators.random_graphs.gnp_random_graph(N, P)\n",
    "G=nx.to_pandas_edgelist(A)\n",
    "G=G.rename(columns={\"target\":'destination'})\n",
    "G['edge_weight']=np.random.randn(len(G))\n",
    "\n",
    "g = graphistry.nodes(G)\n",
    "t=time()\n",
    "g2 = g.umap(engine='umap_learn')\n",
    "min=(time()-t)/60\n",
    "lin=G.shape[0]/min\n",
    "print(['time: '+str(min)+' line/min: '+str(lin)])\n",
    "# g2.plot()"
   ]
  },
  {
   "cell_type": "code",
   "execution_count": 8,
   "metadata": {
    "vscode": {
     "languageId": "python"
    }
   },
   "outputs": [
    {
     "name": "stdout",
     "output_type": "stream",
     "text": [
      "['time: 0.01141140063603719 line/min: 218378.10094321522']\n"
     ]
    }
   ],
   "source": [
    "# N,P = 1000, 0.005\n",
    "# G = nx.generators.random_graphs.gnp_random_graph(N, P)\n",
    "G=nx.to_pandas_edgelist(A)\n",
    "G=G.rename(columns={\"target\":'destination'})\n",
    "G['edge_weight']=np.random.randn(len(G))\n",
    "\n",
    "g = graphistry.nodes(G)\n",
    "t=time()\n",
    "g2 = g.umap(engine='auto')\n",
    "min=(time()-t)/60\n",
    "lin=G.shape[0]/min\n",
    "print(['time: '+str(min)+' line/min: '+str(lin)])\n",
    "# g2.plot()"
   ]
  },
  {
   "cell_type": "markdown",
   "metadata": {},
   "source": [
    "You will notice a significant speed improvements passing 'cuml' as the engine flag, which is now the default. \n",
    "\n",
    "#### Now lets look at some real data:"
   ]
  },
  {
   "cell_type": "code",
   "execution_count": 11,
   "metadata": {
    "vscode": {
     "languageId": "python"
    }
   },
   "outputs": [
    {
     "name": "stdout",
     "output_type": "stream",
     "text": [
      "['time: 0.0019161343574523927 line/min: 114814.49572904807']\n"
     ]
    }
   ],
   "source": [
    "G=pd.read_csv('pygraphistry/demos/data/honeypot.csv')\n",
    "\n",
    "g = graphistry.nodes(G)\n",
    "t=time()\n",
    "g3 = g.umap(engine='cuml')#-learn')\n",
    "min=(time()-t)/60\n",
    "lin=G.shape[0]/min\n",
    "print(['time: '+str(min)+' line/min: '+str(lin)])"
   ]
  },
  {
   "cell_type": "code",
   "execution_count": 15,
   "metadata": {
    "vscode": {
     "languageId": "python"
    }
   },
   "outputs": [
    {
     "name": "stdout",
     "output_type": "stream",
     "text": [
      "<class 'pandas.core.frame.DataFrame'>\n",
      "Int64Index: 2854 entries, 0 to 2917\n",
      "Data columns (total 3 columns):\n",
      " #   Column         Non-Null Count  Dtype  \n",
      "---  ------         --------------  -----  \n",
      " 0   _src_implicit  2854 non-null   int32  \n",
      " 1   _dst_implicit  2854 non-null   int32  \n",
      " 2   _weight        2854 non-null   float32\n",
      "dtypes: float32(1), int32(2)\n",
      "memory usage: 55.7 KB\n",
      "None\n"
     ]
    },
    {
     "data": {
      "text/html": [
       "<div>\n",
       "<style scoped>\n",
       "    .dataframe tbody tr th:only-of-type {\n",
       "        vertical-align: middle;\n",
       "    }\n",
       "\n",
       "    .dataframe tbody tr th {\n",
       "        vertical-align: top;\n",
       "    }\n",
       "\n",
       "    .dataframe thead th {\n",
       "        text-align: right;\n",
       "    }\n",
       "</style>\n",
       "<table border=\"1\" class=\"dataframe\">\n",
       "  <thead>\n",
       "    <tr style=\"text-align: right;\">\n",
       "      <th></th>\n",
       "      <th>_src_implicit</th>\n",
       "      <th>_dst_implicit</th>\n",
       "      <th>_weight</th>\n",
       "    </tr>\n",
       "  </thead>\n",
       "  <tbody>\n",
       "    <tr>\n",
       "      <th>51</th>\n",
       "      <td>3</td>\n",
       "      <td>184</td>\n",
       "      <td>0.252439</td>\n",
       "    </tr>\n",
       "    <tr>\n",
       "      <th>1072</th>\n",
       "      <td>78</td>\n",
       "      <td>158</td>\n",
       "      <td>0.194410</td>\n",
       "    </tr>\n",
       "    <tr>\n",
       "      <th>871</th>\n",
       "      <td>63</td>\n",
       "      <td>107</td>\n",
       "      <td>0.235735</td>\n",
       "    </tr>\n",
       "    <tr>\n",
       "      <th>942</th>\n",
       "      <td>68</td>\n",
       "      <td>149</td>\n",
       "      <td>0.503628</td>\n",
       "    </tr>\n",
       "    <tr>\n",
       "      <th>989</th>\n",
       "      <td>72</td>\n",
       "      <td>11</td>\n",
       "      <td>0.942743</td>\n",
       "    </tr>\n",
       "  </tbody>\n",
       "</table>\n",
       "</div>"
      ],
      "text/plain": [
       "      _src_implicit  _dst_implicit   _weight\n",
       "51                3            184  0.252439\n",
       "1072             78            158  0.194410\n",
       "871              63            107  0.235735\n",
       "942              68            149  0.503628\n",
       "989              72             11  0.942743"
      ]
     },
     "execution_count": 15,
     "metadata": {},
     "output_type": "execute_result"
    }
   ],
   "source": [
    "print(g3._edges.info())\n",
    "g3._edges.sample(5)"
   ]
  },
  {
   "cell_type": "code",
   "execution_count": null,
   "metadata": {
    "vscode": {
     "languageId": "python"
    }
   },
   "outputs": [],
   "source": []
  }
 ],
 "metadata": {
  "kernelspec": {
   "display_name": "Python 3 (ipykernel)",
   "language": "python",
   "name": "python3"
  },
  "orig_nbformat": 4,
  "vscode": {
   "interpreter": {
    "hash": "21c4dad877b49e935d0a60da22bc51e9bfc4901bc58e488dc71d08b8faef6557"
   }
  }
 },
 "nbformat": 4,
 "nbformat_minor": 2
}
