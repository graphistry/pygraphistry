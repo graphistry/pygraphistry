{
 "cells": [
  {
   "cell_type": "markdown",
   "metadata": {},
   "source": [
    "# Visual GPU Log Analytics Part II: GPU dataframes with RAPIDS Python cudf bindings\n",
    "\n",
    "Graphistry is great -- Graphistry and RAPIDS/BlazingDB is better!\n",
    "\n",
    "This tutorial series visually analyzes Zeek/Bro network connection logs using different compute engines:\n",
    "\n",
    "* Part I: [CPU Baseline in Python Pandas](./part_i_cpu_pandas.ipynb)\n",
    "* Part II: [GPU Dataframe with RAPIDS Python cudf bindings](./part_ii_gpu_cudf)\n",
    "\n",
    "\n",
    "**Part II Contents:**\n",
    "\n",
    "Time using GPU-based RAPIDS Python cudf bindings and Graphistry for a full ETL & visual analysis flow:\n",
    "\n",
    "1. Load data\n",
    "2. Analyze data\n",
    "3. Visualize data\n",
    "\n",
    "_**TIP**_: If you get out of memory errors, you usually must restart the kernel & refresh the page\n",
    "\n"
   ]
  },
  {
   "cell_type": "code",
   "execution_count": null,
   "metadata": {
    "collapsed": true
   },
   "outputs": [],
   "source": [
    "#!pip install graphistry -q\n",
    "\n",
    "import pandas as pd\n",
    "import cudf\n",
    "\n",
    "import graphistry\n",
    "#graphistry.register(key='MY_KEY', protocol='https', server='graphistry.site.com')\n",
    "graphistry.__version__"
   ]
  },
  {
   "cell_type": "markdown",
   "metadata": {},
   "source": [
    "## 1. Load data"
   ]
  },
  {
   "cell_type": "code",
   "execution_count": 1,
   "metadata": {
    "collapsed": false,
    "deletable": true,
    "editable": true
   },
   "outputs": [
    {
     "name": "stdout",
     "output_type": "stream",
     "text": [
      "  % Total    % Received % Xferd  Average Speed   Time    Time     Time  Current\n",
      "                                 Dload  Upload   Total   Spent    Left  Speed\n",
      "100  523M  100  523M    0     0   560k      0  0:15:56  0:15:56 --:--:--  680kM    0     0   634k      0  0:14:04  0:00:37  0:13:27  525k2k      0  0:15:04  0:02:49  0:12:15  433k269M    0     0   561k      0  0:15:54  0:08:11  0:07:43  648k  0     0   562k      0  0:15:53  0:08:26  0:07:27  654k0:09:21  0:06:26  407k 0     0   565k      0  0:15:47  0:09:26  0:06:21  534k    0   568k      0  0:15:43  0:10:29  0:05:14  495k    0     0   565k      0  0:15:47  0:12:00  0:03:47  498k0     0   560k      0  0:15:57  0:15:30  0:00:27  474k\n"
     ]
    }
   ],
   "source": [
    "%%time\n",
    "!curl https://www.secrepo.com/maccdc2012/conn.log.gz | gzip -d > conn.log\n",
    "  \n",
    "!head -n 3 conn.log"
   ]
  },
  {
   "cell_type": "code",
   "execution_count": null,
   "metadata": {
    "collapsed": true,
    "deletable": true,
    "editable": true
   },
   "outputs": [],
   "source": [
    "# OPTIONAL: For slow devices, work on a subset\n",
    "#!awk 'NR % 20 == 0' < conn.log > conn-5pc.log"
   ]
  },
  {
   "cell_type": "code",
   "execution_count": null,
   "metadata": {
    "collapsed": true
   },
   "outputs": [],
   "source": [
    "%%time\n",
    "cdf = cudf.read_csv(\"./conn-20pc.log\", sep=\"\\t\", header=None, \n",
    "                   names=[\"time\", \"uid\", \"id.orig_h\", \"id.orig_p\", \"id.resp_h\", \"id.resp_p\", \"proto\", \"service\",\n",
    "                        \"duration\", \"orig_bytes\", \"resp_bytes\", \"conn_state\", \"local_orig\", \"missed_bytes\",\n",
    "                        \"history\", \"orig_pkts\", \"orig_ip_bytes\", \"resp_pkts\", \"resp_ip_bytes\", \"tunnel_parents\"], \n",
    "                   na_values=['-'], index_col=False)"
   ]
  },
  {
   "cell_type": "code",
   "execution_count": null,
   "metadata": {
    "collapsed": true
   },
   "outputs": [],
   "source": [
    "cdf.head(3)"
   ]
  },
  {
   "cell_type": "markdown",
   "metadata": {},
   "source": [
    "## 2. Analyze Data\n",
    "\n",
    "Summarize network activities between every communicating src/dst IP,  split by connection state"
   ]
  },
  {
   "cell_type": "code",
   "execution_count": 15,
   "metadata": {
    "collapsed": true,
    "deletable": true,
    "editable": true
   },
   "outputs": [],
   "source": [
    "%%time\n",
    "cdf_summary = cdf\\\n",
    ".groupby(['id.orig_h', 'id.resp_h', 'conn_state'])\\\n",
    ".agg({\n",
    "    'time': ['min', 'max', 'count'],\n",
    "    'duration':   ['min', 'max', 'mean'],\n",
    "    'orig_bytes': ['min', 'max', 'sum', 'mean'],\n",
    "    'resp_bytes': ['min', 'max', 'sum', 'mean']\n",
    "})"
   ]
  },
  {
   "cell_type": "code",
   "execution_count": null,
   "metadata": {
    "collapsed": true,
    "deletable": true,
    "editable": true
   },
   "outputs": [],
   "source": [
    "cdf_summary.head(3)"
   ]
  },
  {
   "cell_type": "markdown",
   "metadata": {},
   "source": [
    "## 3. Visualize data\n",
    "\n",
    "* Nodes: \n",
    "  * IPs\n",
    "  * Bigger when more sessions (split by connection state) involving them\n",
    "* Edges:\n",
    "  * src_ip -> dest_ip, split by connection state"
   ]
  },
  {
   "cell_type": "code",
   "execution_count": null,
   "metadata": {
    "collapsed": true,
    "deletable": true,
    "editable": true
   },
   "outputs": [],
   "source": [
    "df_summary = cdf_summary.to_pandas()\n",
    "\n",
    "hg = graphistry.hypergraph(df_summary, entity_types = ['src_ip', 'dst_ip'])\n",
    "hg['graph'].plot()"
   ]
  },
  {
   "cell_type": "markdown",
   "metadata": {
    "deletable": true,
    "editable": true
   },
   "source": [
    "## Next Steps\n",
    "\n",
    "* Part I: [CPU Baseline in Python Pandas](./part_i_cpu_pandas.ipynb)\n",
    "* Part II: [GPU Dataframe with RAPIDS Python cudf bindings](./part_ii_gpu_cudf)"
   ]
  },
  {
   "cell_type": "code",
   "execution_count": null,
   "metadata": {
    "collapsed": true
   },
   "outputs": [],
   "source": []
  }
 ],
 "metadata": {
  "kernelspec": {
   "display_name": "Python 2",
   "language": "python",
   "name": "python2"
  },
  "language_info": {
   "codemirror_mode": {
    "name": "ipython",
    "version": 2
   },
   "file_extension": ".py",
   "mimetype": "text/x-python",
   "name": "python",
   "nbconvert_exporter": "python",
   "pygments_lexer": "ipython2",
   "version": "2.7.13"
  }
 },
 "nbformat": 4,
 "nbformat_minor": 2
}
