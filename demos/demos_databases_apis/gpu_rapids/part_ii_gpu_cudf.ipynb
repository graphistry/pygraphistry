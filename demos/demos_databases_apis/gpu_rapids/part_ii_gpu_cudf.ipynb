{
 "cells": [
  {
   "cell_type": "code",
   "execution_count": 1,
   "metadata": {},
   "outputs": [
    {
     "name": "stdout",
     "output_type": "stream",
     "text": [
      "  % Total    % Received % Xferd  Average Speed   Time    Time     Time  Current\n",
      "                                 Dload  Upload   Total   Spent    Left  Speed\n",
      "100  523M  100  523M    0     0   560k      0  0:15:56  0:15:56 --:--:--  680kM    0     0   634k      0  0:14:04  0:00:37  0:13:27  525k2k      0  0:15:04  0:02:49  0:12:15  433k269M    0     0   561k      0  0:15:54  0:08:11  0:07:43  648k  0     0   562k      0  0:15:53  0:08:26  0:07:27  654k0:09:21  0:06:26  407k 0     0   565k      0  0:15:47  0:09:26  0:06:21  534k    0   568k      0  0:15:43  0:10:29  0:05:14  495k    0     0   565k      0  0:15:47  0:12:00  0:03:47  498k0     0   560k      0  0:15:57  0:15:30  0:00:27  474k\n"
     ]
    }
   ],
   "source": [
    "!curl https://www.secrepo.com/maccdc2012/conn.log.gz | gzip -d > conn.log"
   ]
  },
  {
   "cell_type": "code",
   "execution_count": null,
   "metadata": {},
   "outputs": [],
   "source": [
    "### 20% sample. This avoids cudf OoMing on a GTX 1070\n",
    "\n",
    "### If you OoM, you usually must restart the kernel & refresh the page"
   ]
  },
  {
   "cell_type": "code",
   "execution_count": 2,
   "metadata": {},
   "outputs": [],
   "source": [
    "!awk 'NR % 20 == 0' < conn.log > conn-5pc.log"
   ]
  },
  {
   "cell_type": "code",
   "execution_count": 3,
   "metadata": {},
   "outputs": [],
   "source": [
    "!awk 'NR % 5 == 0' < conn.log > conn-20pc.log"
   ]
  },
  {
   "cell_type": "code",
   "execution_count": 4,
   "metadata": {},
   "outputs": [],
   "source": [
    "import pandas as pd\n",
    "import cudf\n"
   ]
  },
  {
   "cell_type": "code",
   "execution_count": 5,
   "metadata": {},
   "outputs": [
    {
     "name": "stdout",
     "output_type": "stream",
     "text": [
      "1331901000.000000\tCCUIP21wTjqkj8ZqX5\t192.168.202.79\t50463\t192.168.229.251\t80\ttcp\t-\t-\t-\t-\tSH\t-\t0\tFa\t1\t52\t1\t52\t(empty)\r\n",
      "1331901000.000000\tCsssjd3tX0yOTPDpng\t192.168.202.79\t46117\t192.168.229.254\t443\ttcp\t-\t-\t-\t-\tSF\t-\t0\tdDafFr\t3\t382\t9\t994\t(empty)\r\n",
      "1331901000.000000\tCHEt7z3AzG4gyCNgci\t192.168.202.79\t50465\t192.168.229.251\t80\ttcp\thttp\t0.010000\t166\t214\tSF\t-\t0\tShADfFa\t4\t382\t3\t382\t(empty)\r\n"
     ]
    }
   ],
   "source": [
    "!head -n 3 conn.log"
   ]
  },
  {
   "cell_type": "code",
   "execution_count": 6,
   "metadata": {},
   "outputs": [],
   "source": [
    "df_thunk = lambda: pd.read_csv(\"./conn-20pc.log\", sep=\"\\t\", header=None, names=[\"time\", \"x0\", \"srcip\", \"srcport\", \"dstip\", \"dstport\", \"transport\", \"protocol\", \"x1\", \"x2\", \"x3\", \"x4\", \"x5\", \"x6\", \"x7\", \"x8\", \"x9\", \"x10\", \"x11\"], na_values=['-'], index_col=False)\n"
   ]
  },
  {
   "cell_type": "code",
   "execution_count": 7,
   "metadata": {},
   "outputs": [
    {
     "name": "stdout",
     "output_type": "stream",
     "text": [
      "9.82 s ± 43 ms per loop (mean ± std. dev. of 7 runs, 1 loop each)\n"
     ]
    }
   ],
   "source": [
    "%%timeit\n",
    "df_thunk()"
   ]
  },
  {
   "cell_type": "code",
   "execution_count": 8,
   "metadata": {},
   "outputs": [],
   "source": [
    "df=df_thunk()"
   ]
  },
  {
   "cell_type": "code",
   "execution_count": 9,
   "metadata": {},
   "outputs": [],
   "source": [
    "cudf_thunk = lambda: cudf.read_csv(\"./conn-20pc.log\", sep=\"\\t\", header=None, names=[\"time\", \"x0\", \"srcip\", \"srcport\", \"dstip\", \"dstport\", \"transport\", \"protocol\", \"x1\", \"x2\", \"x3\", \"x4\", \"x5\", \"x6\", \"x7\", \"x8\", \"x9\", \"x10\",\"x11\"], na_values=['-'], index_col=False)"
   ]
  },
  {
   "cell_type": "code",
   "execution_count": 10,
   "metadata": {},
   "outputs": [
    {
     "name": "stdout",
     "output_type": "stream",
     "text": [
      "759 ms ± 5.04 ms per loop (mean ± std. dev. of 7 runs, 1 loop each)\n"
     ]
    }
   ],
   "source": [
    "%%timeit\n",
    "cudf_thunk()"
   ]
  },
  {
   "cell_type": "code",
   "execution_count": 11,
   "metadata": {},
   "outputs": [],
   "source": [
    "cdf = cudf_thunk()"
   ]
  },
  {
   "cell_type": "code",
   "execution_count": 12,
   "metadata": {},
   "outputs": [],
   "source": [
    "srcdstcount_thunk = lambda: df[['srcip','dstip','dstport', 'x0']].groupby([\"srcip\", \"dstip\", \"dstport\"]).size().rename(\"count\").reset_index()"
   ]
  },
  {
   "cell_type": "code",
   "execution_count": 13,
   "metadata": {},
   "outputs": [
    {
     "name": "stdout",
     "output_type": "stream",
     "text": [
      "1.68 s ± 10.2 ms per loop (mean ± std. dev. of 7 runs, 1 loop each)\n"
     ]
    }
   ],
   "source": [
    "%%timeit\n",
    "srcdstcount_thunk()"
   ]
  },
  {
   "cell_type": "code",
   "execution_count": 14,
   "metadata": {},
   "outputs": [],
   "source": [
    "srcdstcounts = srcdstcount_thunk()"
   ]
  },
  {
   "cell_type": "code",
   "execution_count": 15,
   "metadata": {},
   "outputs": [],
   "source": [
    "csrcdstcount_thunk = lambda: cdf[['srcip','dstip','dstport', 'x0']].groupby(by=[\"srcip\", \"dstip\", \"dstport\"], as_index=False).agg({\"x0\": \"count\"}).rename(columns={\"x0\": \"count\"})"
   ]
  },
  {
   "cell_type": "code",
   "execution_count": 16,
   "metadata": {},
   "outputs": [
    {
     "name": "stdout",
     "output_type": "stream",
     "text": [
      "291 ms ± 6.65 ms per loop (mean ± std. dev. of 7 runs, 1 loop each)\n"
     ]
    }
   ],
   "source": [
    "%%timeit\n",
    "csrcdstcount_thunk()"
   ]
  },
  {
   "cell_type": "code",
   "execution_count": 17,
   "metadata": {},
   "outputs": [],
   "source": [
    "csrcdstcounts = csrcdstcount_thunk()"
   ]
  },
  {
   "cell_type": "code",
   "execution_count": null,
   "metadata": {},
   "outputs": [],
   "source": []
  },
  {
   "cell_type": "code",
   "execution_count": 18,
   "metadata": {},
   "outputs": [],
   "source": [
    "\n",
    "srcdstportcount_thunk = lambda: srcdstcounts[['srcip', 'dstip', 'dstport']].drop_duplicates().groupby(['srcip', 'dstip']).size().rename(\"port_count\").reset_index()\n"
   ]
  },
  {
   "cell_type": "code",
   "execution_count": 19,
   "metadata": {},
   "outputs": [
    {
     "name": "stdout",
     "output_type": "stream",
     "text": [
      "900 ms ± 4.52 ms per loop (mean ± std. dev. of 7 runs, 1 loop each)\n"
     ]
    }
   ],
   "source": [
    "%%timeit\n",
    "srcdstportcount_thunk()"
   ]
  },
  {
   "cell_type": "code",
   "execution_count": 20,
   "metadata": {},
   "outputs": [],
   "source": [
    "srcdstportcounts = srcdstportcount_thunk()"
   ]
  },
  {
   "cell_type": "code",
   "execution_count": 21,
   "metadata": {},
   "outputs": [
    {
     "data": {
      "text/html": [
       "<div>\n",
       "<style scoped>\n",
       "    .dataframe tbody tr th:only-of-type {\n",
       "        vertical-align: middle;\n",
       "    }\n",
       "\n",
       "    .dataframe tbody tr th {\n",
       "        vertical-align: top;\n",
       "    }\n",
       "\n",
       "    .dataframe thead th {\n",
       "        text-align: right;\n",
       "    }\n",
       "</style>\n",
       "<table border=\"1\" class=\"dataframe\">\n",
       "  <thead>\n",
       "    <tr style=\"text-align: right;\">\n",
       "      <th></th>\n",
       "      <th>srcip</th>\n",
       "      <th>dstip</th>\n",
       "      <th>port_count</th>\n",
       "    </tr>\n",
       "  </thead>\n",
       "  <tbody>\n",
       "    <tr>\n",
       "      <th>32840</th>\n",
       "      <td>192.168.204.45</td>\n",
       "      <td>192.168.23.1</td>\n",
       "      <td>40328</td>\n",
       "    </tr>\n",
       "    <tr>\n",
       "      <th>25585</th>\n",
       "      <td>192.168.202.79</td>\n",
       "      <td>192.168.229.254</td>\n",
       "      <td>39075</td>\n",
       "    </tr>\n",
       "    <tr>\n",
       "      <th>7405</th>\n",
       "      <td>192.168.202.110</td>\n",
       "      <td>192.168.28.25</td>\n",
       "      <td>38700</td>\n",
       "    </tr>\n",
       "  </tbody>\n",
       "</table>\n",
       "</div>"
      ],
      "text/plain": [
       "                 srcip            dstip  port_count\n",
       "32840   192.168.204.45     192.168.23.1       40328\n",
       "25585   192.168.202.79  192.168.229.254       39075\n",
       "7405   192.168.202.110    192.168.28.25       38700"
      ]
     },
     "execution_count": 21,
     "metadata": {},
     "output_type": "execute_result"
    }
   ],
   "source": [
    "srcdstportcounts.sort_values(by=[\"port_count\"], ascending=False)[:3]"
   ]
  },
  {
   "cell_type": "code",
   "execution_count": 22,
   "metadata": {},
   "outputs": [],
   "source": [
    "csrcdstportcount_thunk = lambda: cudf.DataFrame.from_pandas(csrcdstcounts[['srcip', 'dstip', 'dstport']].to_pandas().drop_duplicates()).groupby(by=['srcip', 'dstip'], as_index=False).agg({'dstport': \"count\"}).rename(columns={\"dstport\": \"port_count\"})"
   ]
  },
  {
   "cell_type": "code",
   "execution_count": 23,
   "metadata": {},
   "outputs": [
    {
     "name": "stdout",
     "output_type": "stream",
     "text": [
      "1.71 s ± 31.2 ms per loop (mean ± std. dev. of 7 runs, 1 loop each)\n"
     ]
    }
   ],
   "source": [
    "%%timeit\n",
    "csrcdstportcount_thunk()"
   ]
  },
  {
   "cell_type": "code",
   "execution_count": 24,
   "metadata": {},
   "outputs": [],
   "source": [
    "csrcdstportcounts = csrcdstportcount_thunk()"
   ]
  },
  {
   "cell_type": "code",
   "execution_count": 25,
   "metadata": {},
   "outputs": [
    {
     "data": {
      "text/html": [
       "<div>\n",
       "<style scoped>\n",
       "    .dataframe tbody tr th:only-of-type {\n",
       "        vertical-align: middle;\n",
       "    }\n",
       "\n",
       "    .dataframe tbody tr th {\n",
       "        vertical-align: top;\n",
       "    }\n",
       "\n",
       "    .dataframe thead th {\n",
       "        text-align: right;\n",
       "    }\n",
       "</style>\n",
       "<table border=\"1\" class=\"dataframe\">\n",
       "  <thead>\n",
       "    <tr style=\"text-align: right;\">\n",
       "      <th></th>\n",
       "      <th>srcip</th>\n",
       "      <th>dstip</th>\n",
       "      <th>port_count</th>\n",
       "    </tr>\n",
       "  </thead>\n",
       "  <tbody>\n",
       "    <tr>\n",
       "      <th>32840</th>\n",
       "      <td>192.168.204.45</td>\n",
       "      <td>192.168.23.1</td>\n",
       "      <td>40328</td>\n",
       "    </tr>\n",
       "    <tr>\n",
       "      <th>25585</th>\n",
       "      <td>192.168.202.79</td>\n",
       "      <td>192.168.229.254</td>\n",
       "      <td>39075</td>\n",
       "    </tr>\n",
       "    <tr>\n",
       "      <th>7405</th>\n",
       "      <td>192.168.202.110</td>\n",
       "      <td>192.168.28.25</td>\n",
       "      <td>38700</td>\n",
       "    </tr>\n",
       "  </tbody>\n",
       "</table>\n",
       "</div>"
      ],
      "text/plain": [
       "                 srcip            dstip  port_count\n",
       "32840   192.168.204.45     192.168.23.1       40328\n",
       "25585   192.168.202.79  192.168.229.254       39075\n",
       "7405   192.168.202.110    192.168.28.25       38700"
      ]
     },
     "execution_count": 25,
     "metadata": {},
     "output_type": "execute_result"
    }
   ],
   "source": [
    "csrcdstportcounts.sort_values(by=[\"port_count\"], ascending=False)[:3].to_pandas()"
   ]
  },
  {
   "cell_type": "code",
   "execution_count": null,
   "metadata": {},
   "outputs": [],
   "source": []
  },
  {
   "cell_type": "code",
   "execution_count": null,
   "metadata": {},
   "outputs": [],
   "source": [
    "hg = graphistry.hypergraph(cdf, entity_types = ['src_ip', 'dst_ip'])\n",
    "hg['graph'].plot()"
   ]
  },
  {
   "cell_type": "code",
   "execution_count": null,
   "metadata": {},
   "outputs": [],
   "source": []
  }
 ],
 "metadata": {
  "kernelspec": {
   "display_name": "Python 3",
   "language": "python",
   "name": "python3"
  },
  "language_info": {
   "codemirror_mode": {
    "name": "ipython",
    "version": 3
   },
   "file_extension": ".py",
   "mimetype": "text/x-python",
   "name": "python",
   "nbconvert_exporter": "python",
   "pygments_lexer": "ipython3",
   "version": "3.6.7"
  }
 },
 "nbformat": 4,
 "nbformat_minor": 2
}
