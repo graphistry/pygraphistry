{
 "cells": [
  {
   "cell_type": "markdown",
   "metadata": {
    "deletable": true,
    "editable": true
   },
   "source": [
    "# Visual GPU Log Analytics Part II: GPU dataframes with RAPIDS Python cudf bindings\n",
    "\n",
    "Graphistry is great -- Graphistry and RAPIDS/BlazingDB is better!\n",
    "\n",
    "This tutorial series visually analyzes Zeek/Bro network connection logs using different compute engines:\n",
    "\n",
    "* Part I: [CPU Baseline in Python Pandas](./part_i_cpu_pandas.ipynb)\n",
    "* Part II: [GPU Dataframe with RAPIDS Python cudf bindings](./part_ii_gpu_cudf)\n",
    "\n",
    "\n",
    "**Part II Contents:**\n",
    "\n",
    "Time using GPU-based RAPIDS Python cudf bindings and Graphistry for a full ETL & visual analysis flow:\n",
    "\n",
    "1. Load data\n",
    "2. Analyze data\n",
    "3. Visualize data\n",
    "\n",
    "_**TIP**_: If you get out of memory errors, you usually must restart the kernel & refresh the page\n",
    "\n"
   ]
  },
  {
   "cell_type": "code",
   "execution_count": null,
   "metadata": {
    "collapsed": true,
    "deletable": true,
    "editable": true
   },
   "outputs": [],
   "source": [
    "#!pip install graphistry -q\n",
    "\n",
    "import pandas as pd\n",
    "import numpy as np\n",
    "import cudf\n",
    "\n",
    "import graphistry\n",
    "#graphistry.register(key='MY_KEY', protocol='https', server='graphistry.site.com')\n",
    "graphistry.__version__"
   ]
  },
  {
   "cell_type": "markdown",
   "metadata": {
    "deletable": true,
    "editable": true
   },
   "source": [
    "## 1. Load data"
   ]
  },
  {
   "cell_type": "code",
   "execution_count": null,
   "metadata": {
    "collapsed": false,
    "deletable": true,
    "editable": true
   },
   "outputs": [],
   "source": [
    "%%time\n",
    "!curl https://www.secrepo.com/maccdc2012/conn.log.gz | gzip -d > conn.log\n",
    "  \n",
    "!head -n 3 conn.log"
   ]
  },
  {
   "cell_type": "code",
   "execution_count": null,
   "metadata": {
    "collapsed": true,
    "deletable": true,
    "editable": true
   },
   "outputs": [],
   "source": [
    "# OPTIONAL: For slow devices, work on a subset\n",
    "#!awk 'NR % 20 == 0' < conn.log > conn-5pc.log\n",
    "#!awk 'NR % 100 == 0' < conn.log > conn-1pc.log\n",
    "#!nvidia-smi"
   ]
  },
  {
   "cell_type": "code",
   "execution_count": null,
   "metadata": {
    "collapsed": false,
    "deletable": true,
    "editable": true
   },
   "outputs": [],
   "source": [
    "cdf = cudf.read_csv(\"./conn.log\", sep=\"\\t\", header=None, \n",
    "                   names=[\"time\", \"uid\", \"id.orig_h\", \"id.orig_p\", \"id.resp_h\", \"id.resp_p\", \"proto\", \"service\",\n",
    "                        \"duration\", \"orig_bytes\", \"resp_bytes\", \"conn_state\", \"local_orig\", \"missed_bytes\",\n",
    "                        \"history\", \"orig_pkts\", \"orig_ip_bytes\", \"resp_pkts\", \"resp_ip_bytes\", \"tunnel_parents\"],\n",
    "                   dtype=['date', 'str', 'str', 'int', 'str', 'int', 'str', 'str',\n",
    "                         'int', 'int', 'int', 'str', 'str', 'int',\n",
    "                         'str', 'int', 'int', 'int', 'int', 'str'],\n",
    "                   na_values=['-'], index_col=False)"
   ]
  },
  {
   "cell_type": "code",
   "execution_count": null,
   "metadata": {
    "collapsed": true
   },
   "outputs": [],
   "source": [
    "#fillna\n",
    "for c in cdf.columns:\n",
    "    if c in ['uid', 'id.orig_h', 'id.resp_h', 'proto', 'service', 'conn_state', 'history', 'tunnel_parents', 'local_orig']:\n",
    "        continue\n",
    "    cdf[c] = cdf[c].fillna(0)"
   ]
  },
  {
   "cell_type": "code",
   "execution_count": null,
   "metadata": {
    "collapsed": true,
    "deletable": true,
    "editable": true
   },
   "outputs": [],
   "source": [
    "print('# rows', len(cdf))\n",
    "cdf.head(3)"
   ]
  },
  {
   "cell_type": "markdown",
   "metadata": {
    "deletable": true,
    "editable": true
   },
   "source": [
    "## 2. Analyze Data\n",
    "\n",
    "* Summarize network activities between every communicating src/dst IP,  split by connection state\n",
    "* RAPIDS currently fails when exceeding GPU memory, so limit workload size as needed"
   ]
  },
  {
   "cell_type": "code",
   "execution_count": null,
   "metadata": {
    "collapsed": true
   },
   "outputs": [],
   "source": [
    "LIMIT = 12000000"
   ]
  },
  {
   "cell_type": "code",
   "execution_count": null,
   "metadata": {
    "collapsed": true,
    "deletable": true,
    "editable": true
   },
   "outputs": [],
   "source": [
    "cdf_summary = cdf\\\n",
    ".head(LIMIT)\\\n",
    ".apply_rows(\n",
    "    sum_bytes,\n",
    "    incols=['orig_bytes', 'resp_bytes'],\n",
    "    outcols=dict(sum_bytes=np.int64),\n",
    "    kwargs=dict())\\\n",
    ".groupby(['id.orig_h', 'id.resp_h', 'conn_state'])\\\n",
    ".agg({\n",
    "    'time': ['min', 'max', 'count'],\n",
    "    'id.resp_p':  ['count'],\n",
    "    'uid': ['count'],\n",
    "    'duration':   ['min', 'max', 'mean'],\n",
    "    'orig_bytes': ['min', 'max', 'sum', 'mean'],\n",
    "    'resp_bytes': ['min', 'max', 'sum', 'mean'],\n",
    "    'sum_bytes':  ['min', 'max', 'sum', 'mean']\n",
    "})"
   ]
  },
  {
   "cell_type": "code",
   "execution_count": null,
   "metadata": {
    "collapsed": true,
    "deletable": true,
    "editable": true
   },
   "outputs": [],
   "source": [
    "print('# rows', len(cdf_summary))\n",
    "cdf_summary.head(3).to_pandas()"
   ]
  },
  {
   "cell_type": "markdown",
   "metadata": {
    "deletable": true,
    "editable": true
   },
   "source": [
    "## 3. Visualize data\n",
    "\n",
    "* Nodes: \n",
    "  * IPs\n",
    "  * Bigger when more sessions (split by connection state) involving them\n",
    "* Edges:\n",
    "  * src_ip -> dest_ip, split by connection state"
   ]
  },
  {
   "cell_type": "code",
   "execution_count": null,
   "metadata": {
    "collapsed": true,
    "deletable": true,
    "editable": true
   },
   "outputs": [],
   "source": [
    "hg = graphistry.hypergraph(\n",
    "    cdf_summary.to_pandas(),\n",
    "    ['id.orig_h', 'id.resp_h'],\n",
    "    direct=True,\n",
    "    opts={\n",
    "        'CATEGORIES': {\n",
    "            'ip': ['id.orig_h', 'id.resp_h']\n",
    "        }\n",
    "    })"
   ]
  },
  {
   "cell_type": "code",
   "execution_count": null,
   "metadata": {
    "collapsed": true
   },
   "outputs": [],
   "source": [
    "hg['graph'].plot()"
   ]
  },
  {
   "cell_type": "markdown",
   "metadata": {
    "deletable": true,
    "editable": true
   },
   "source": [
    "## Next Steps\n",
    "\n",
    "* Part I: [CPU Baseline in Python Pandas](./part_i_cpu_pandas.ipynb)\n",
    "* Part II: [GPU Dataframe with RAPIDS Python cudf bindings](./part_ii_gpu_cudf)"
   ]
  },
  {
   "cell_type": "code",
   "execution_count": null,
   "metadata": {
    "collapsed": true,
    "deletable": true,
    "editable": true
   },
   "outputs": [],
   "source": []
  }
 ],
 "metadata": {
  "kernelspec": {
   "display_name": "Python 2",
   "language": "python",
   "name": "python2"
  },
  "language_info": {
   "codemirror_mode": {
    "name": "ipython",
    "version": 2
   },
   "file_extension": ".py",
   "mimetype": "text/x-python",
   "name": "python",
   "nbconvert_exporter": "python",
   "pygments_lexer": "ipython2",
   "version": "2.7.13"
  }
 },
 "nbformat": 4,
 "nbformat_minor": 2
}
