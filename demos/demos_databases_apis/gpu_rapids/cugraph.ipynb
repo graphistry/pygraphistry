{
 "cells": [
  {
   "cell_type": "markdown",
   "id": "ce42199d-725f-4042-8d00-282b246a2009",
   "metadata": {},
   "source": [
    "# Graphistry cuGraph bindings\n",
    "\n",
    "Graphistry simplifies working with cuGraph. This tutorial demonstrates:\n",
    "\n",
    "* Converting data between cpu/gpu dataframes and cuGraph\n",
    "* Enriching dataframes with cuGraph algorithm results\n",
    "* Visualization\n",
    "\n",
    "An upcoming release will be adding remote GPU execution when your immediate Python environment does not have a GPU.\n"
   ]
  },
  {
   "cell_type": "markdown",
   "id": "0ba6f2d8-607c-4017-ac84-e5b487623f53",
   "metadata": {},
   "source": [
    "## Import"
   ]
  },
  {
   "cell_type": "code",
   "execution_count": 1,
   "id": "2cea5376-5d92-417e-a08b-8a6d57678d8b",
   "metadata": {},
   "outputs": [
    {
     "name": "stderr",
     "output_type": "stream",
     "text": [
      "/opt/conda/envs/rapids/lib/python3.8/site-packages/torch/cuda/__init__.py:83: UserWarning: HIP initialization: Unexpected error from hipGetDeviceCount(). Did you run some cuda functions before calling NumHipDevices() that might have already set an error? Error 101: hipErrorInvalidDevice (Triggered internally at  ../c10/hip/HIPFunctions.cpp:110.)\n",
      "  return torch._C._cuda_getDeviceCount() > 0\n",
      "/opt/conda/envs/rapids/lib/python3.8/site-packages/huggingface_hub/snapshot_download.py:6: FutureWarning: snapshot_download.py has been made private and will no longer be available from version 0.11. Please use `from huggingface_hub import snapshot_download` to import the only public function in this module. Other members of the file may be changed without a deprecation notice.\n",
      "  warnings.warn(\n"
     ]
    },
    {
     "data": {
      "text/plain": [
       "'refs/pull/360/head'"
      ]
     },
     "execution_count": 1,
     "metadata": {},
     "output_type": "execute_result"
    }
   ],
   "source": [
    "import graphistry, pandas as pd\n",
    "print(graphistry.__version__)\n",
    "graphistry.register(api=3, username='...', password='...')"
   ]
  },
  {
   "cell_type": "code",
   "execution_count": 22,
   "id": "b48d2571-d381-4022-9475-0fccce1fd2de",
   "metadata": {},
   "outputs": [
    {
     "data": {
      "text/html": [
       "<div>\n",
       "<style scoped>\n",
       "    .dataframe tbody tr th:only-of-type {\n",
       "        vertical-align: middle;\n",
       "    }\n",
       "\n",
       "    .dataframe tbody tr th {\n",
       "        vertical-align: top;\n",
       "    }\n",
       "\n",
       "    .dataframe thead th {\n",
       "        text-align: right;\n",
       "    }\n",
       "</style>\n",
       "<table border=\"1\" class=\"dataframe\">\n",
       "  <thead>\n",
       "    <tr style=\"text-align: right;\">\n",
       "      <th></th>\n",
       "      <th>source</th>\n",
       "      <th>target</th>\n",
       "      <th>value</th>\n",
       "    </tr>\n",
       "  </thead>\n",
       "  <tbody>\n",
       "    <tr>\n",
       "      <th>44</th>\n",
       "      <td>Fantine</td>\n",
       "      <td>Dahlia</td>\n",
       "      <td>4</td>\n",
       "    </tr>\n",
       "    <tr>\n",
       "      <th>206</th>\n",
       "      <td>Gueulemer</td>\n",
       "      <td>Valjean</td>\n",
       "      <td>1</td>\n",
       "    </tr>\n",
       "    <tr>\n",
       "      <th>225</th>\n",
       "      <td>Claquesous</td>\n",
       "      <td>Enjolras</td>\n",
       "      <td>1</td>\n",
       "    </tr>\n",
       "    <tr>\n",
       "      <th>49</th>\n",
       "      <td>Mme.Thenardier</td>\n",
       "      <td>Valjean</td>\n",
       "      <td>7</td>\n",
       "    </tr>\n",
       "    <tr>\n",
       "      <th>110</th>\n",
       "      <td>Gavroche</td>\n",
       "      <td>Thenardier</td>\n",
       "      <td>1</td>\n",
       "    </tr>\n",
       "  </tbody>\n",
       "</table>\n",
       "</div>"
      ],
      "text/plain": [
       "             source      target  value\n",
       "44          Fantine      Dahlia      4\n",
       "206       Gueulemer     Valjean      1\n",
       "225      Claquesous    Enjolras      1\n",
       "49   Mme.Thenardier     Valjean      7\n",
       "110        Gavroche  Thenardier      1"
      ]
     },
     "execution_count": 22,
     "metadata": {},
     "output_type": "execute_result"
    }
   ],
   "source": [
    "df = pd.read_csv('https://raw.githubusercontent.com/graphistry/pygraphistry/master/demos/data/lesmiserables.csv')\n",
    "g = graphistry.edges(df, df.columns[0], df.columns[1])\n",
    "g._edges.sample(5)"
   ]
  },
  {
   "cell_type": "markdown",
   "id": "ded8ed53-8d83-4283-a078-0a31ba72fd3e",
   "metadata": {},
   "source": [
    "## Enrich graphs with cuGraph algorithm results and visualize the results"
   ]
  },
  {
   "cell_type": "code",
   "execution_count": 23,
   "id": "ad9a4063-6821-401a-92b1-19a114b6cdb4",
   "metadata": {},
   "outputs": [
    {
     "name": "stderr",
     "output_type": "stream",
     "text": [
      "/opt/conda/envs/rapids/lib/python3.8/site-packages/cudf/core/indexed_frame.py:2271: FutureWarning: append is deprecated and will be removed in a future version. Use concat instead.\n",
      "  warnings.warn(\n"
     ]
    },
    {
     "data": {
      "text/html": [
       "<div>\n",
       "<style scoped>\n",
       "    .dataframe tbody tr th:only-of-type {\n",
       "        vertical-align: middle;\n",
       "    }\n",
       "\n",
       "    .dataframe tbody tr th {\n",
       "        vertical-align: top;\n",
       "    }\n",
       "\n",
       "    .dataframe thead th {\n",
       "        text-align: right;\n",
       "    }\n",
       "</style>\n",
       "<table border=\"1\" class=\"dataframe\">\n",
       "  <thead>\n",
       "    <tr style=\"text-align: right;\">\n",
       "      <th></th>\n",
       "      <th>id</th>\n",
       "      <th>pagerank</th>\n",
       "    </tr>\n",
       "  </thead>\n",
       "  <tbody>\n",
       "    <tr>\n",
       "      <th>24</th>\n",
       "      <td>Labarre</td>\n",
       "      <td>0.027145</td>\n",
       "    </tr>\n",
       "    <tr>\n",
       "      <th>25</th>\n",
       "      <td>Listolier</td>\n",
       "      <td>0.024138</td>\n",
       "    </tr>\n",
       "    <tr>\n",
       "      <th>37</th>\n",
       "      <td>Mme.Pontmercy</td>\n",
       "      <td>0.004004</td>\n",
       "    </tr>\n",
       "    <tr>\n",
       "      <th>56</th>\n",
       "      <td>Champtercier</td>\n",
       "      <td>0.004004</td>\n",
       "    </tr>\n",
       "    <tr>\n",
       "      <th>49</th>\n",
       "      <td>BaronessT</td>\n",
       "      <td>0.004004</td>\n",
       "    </tr>\n",
       "  </tbody>\n",
       "</table>\n",
       "</div>"
      ],
      "text/plain": [
       "               id  pagerank\n",
       "24        Labarre  0.027145\n",
       "25      Listolier  0.024138\n",
       "37  Mme.Pontmercy  0.004004\n",
       "56   Champtercier  0.004004\n",
       "49      BaronessT  0.004004"
      ]
     },
     "execution_count": 23,
     "metadata": {},
     "output_type": "execute_result"
    }
   ],
   "source": [
    "g2 = g.compute_cugraph('pagerank')\n",
    "g2._nodes.sample(5)"
   ]
  },
  {
   "cell_type": "code",
   "execution_count": 24,
   "id": "c41bd33c-e0af-4d3a-9ad7-96a8750a5db5",
   "metadata": {},
   "outputs": [
    {
     "data": {
      "text/html": [
       "\n",
       "            <iframe id=\"ce071ea5-d61e-4c7a-887e-6c39463bcd19\" src=\"/graph/graph.html?dataset=44cebcba605b4b3887ef7e62ddc10467&type=arrow&viztoken=dc77bbe9-7b53-4537-81eb-522bcf2d7205&usertag=6447f485-pygraphistry-refs/pull/360/head&splashAfter=1656737817&info=true\"\n",
       "                    allowfullscreen=\"true\" webkitallowfullscreen=\"true\" mozallowfullscreen=\"true\"\n",
       "                    oallowfullscreen=\"true\" msallowfullscreen=\"true\"\n",
       "                    style=\"width:100%; height:500px; border: 1px solid #DDD; overflow: hidden\"\n",
       "                    \n",
       "            >\n",
       "            </iframe>\n",
       "        \n",
       "            <script>\n",
       "                try {\n",
       "                  $(\"#ce071ea5-d61e-4c7a-887e-6c39463bcd19\").bind('mousewheel', function(e) { e.preventDefault(); });\n",
       "                } catch (e) { console.error('exn catching scroll', e); }\n",
       "            </script>\n",
       "        "
      ],
      "text/plain": [
       "<IPython.core.display.HTML object>"
      ]
     },
     "execution_count": 24,
     "metadata": {},
     "output_type": "execute_result"
    }
   ],
   "source": [
    "g2.encode_point_color('pagerank', ['blue', 'yellow', 'red'], as_continuous=True).plot()"
   ]
  },
  {
   "cell_type": "markdown",
   "id": "4ff9051c-0101-474a-8d34-52a952281ddb",
   "metadata": {},
   "source": [
    "## Use cuGraph provided layouts\n",
    "Run cuGraph's implementation of force_atlas2, inspect results, use custom parameters, and render.\n",
    "\n",
    "Note that Graphistry's default layout algorithm is already a GPU accelerated FA2 and with additional settings."
   ]
  },
  {
   "cell_type": "code",
   "execution_count": 25,
   "id": "eed84add-2494-4aa4-ac44-842cf60c0125",
   "metadata": {},
   "outputs": [
    {
     "name": "stderr",
     "output_type": "stream",
     "text": [
      "/opt/conda/envs/rapids/lib/python3.8/site-packages/cudf/core/indexed_frame.py:2271: FutureWarning: append is deprecated and will be removed in a future version. Use concat instead.\n",
      "  warnings.warn(\n"
     ]
    },
    {
     "data": {
      "text/html": [
       "<div>\n",
       "<style scoped>\n",
       "    .dataframe tbody tr th:only-of-type {\n",
       "        vertical-align: middle;\n",
       "    }\n",
       "\n",
       "    .dataframe tbody tr th {\n",
       "        vertical-align: top;\n",
       "    }\n",
       "\n",
       "    .dataframe thead th {\n",
       "        text-align: right;\n",
       "    }\n",
       "</style>\n",
       "<table border=\"1\" class=\"dataframe\">\n",
       "  <thead>\n",
       "    <tr style=\"text-align: right;\">\n",
       "      <th></th>\n",
       "      <th>id</th>\n",
       "      <th>pagerank</th>\n",
       "      <th>x</th>\n",
       "      <th>y</th>\n",
       "    </tr>\n",
       "  </thead>\n",
       "  <tbody>\n",
       "    <tr>\n",
       "      <th>63</th>\n",
       "      <td>Mme.Burgon</td>\n",
       "      <td>0.010177</td>\n",
       "      <td>100.112083</td>\n",
       "      <td>116.192375</td>\n",
       "    </tr>\n",
       "    <tr>\n",
       "      <th>36</th>\n",
       "      <td>Eponine</td>\n",
       "      <td>0.014482</td>\n",
       "      <td>4.713388</td>\n",
       "      <td>30.839472</td>\n",
       "    </tr>\n",
       "    <tr>\n",
       "      <th>38</th>\n",
       "      <td>Fantine</td>\n",
       "      <td>0.043900</td>\n",
       "      <td>-38.890110</td>\n",
       "      <td>-113.019806</td>\n",
       "    </tr>\n",
       "    <tr>\n",
       "      <th>67</th>\n",
       "      <td>Mme.Thenardier</td>\n",
       "      <td>0.036174</td>\n",
       "      <td>-15.617190</td>\n",
       "      <td>-7.400091</td>\n",
       "    </tr>\n",
       "    <tr>\n",
       "      <th>24</th>\n",
       "      <td>Champtercier</td>\n",
       "      <td>0.004004</td>\n",
       "      <td>169.118210</td>\n",
       "      <td>-157.776154</td>\n",
       "    </tr>\n",
       "  </tbody>\n",
       "</table>\n",
       "</div>"
      ],
      "text/plain": [
       "                id  pagerank           x           y\n",
       "63      Mme.Burgon  0.010177  100.112083  116.192375\n",
       "36         Eponine  0.014482    4.713388   30.839472\n",
       "38         Fantine  0.043900  -38.890110 -113.019806\n",
       "67  Mme.Thenardier  0.036174  -15.617190   -7.400091\n",
       "24    Champtercier  0.004004  169.118210 -157.776154"
      ]
     },
     "execution_count": 25,
     "metadata": {},
     "output_type": "execute_result"
    }
   ],
   "source": [
    "g3 = g2.layout_cugraph('force_atlas2')\n",
    "g3._nodes.sample(5)"
   ]
  },
  {
   "cell_type": "code",
   "execution_count": 29,
   "id": "8248a461-d106-43ec-83ad-eaf6748398e1",
   "metadata": {},
   "outputs": [
    {
     "data": {
      "text/html": [
       "<div>\n",
       "<style scoped>\n",
       "    .dataframe tbody tr th:only-of-type {\n",
       "        vertical-align: middle;\n",
       "    }\n",
       "\n",
       "    .dataframe tbody tr th {\n",
       "        vertical-align: top;\n",
       "    }\n",
       "\n",
       "    .dataframe thead th {\n",
       "        text-align: right;\n",
       "    }\n",
       "</style>\n",
       "<table border=\"1\" class=\"dataframe\">\n",
       "  <thead>\n",
       "    <tr style=\"text-align: right;\">\n",
       "      <th></th>\n",
       "      <th>id</th>\n",
       "      <th>pagerank</th>\n",
       "      <th>x</th>\n",
       "      <th>y</th>\n",
       "    </tr>\n",
       "  </thead>\n",
       "  <tbody>\n",
       "    <tr>\n",
       "      <th>34</th>\n",
       "      <td>Mme.Burgon</td>\n",
       "      <td>0.010177</td>\n",
       "      <td>341.922455</td>\n",
       "      <td>-116.781532</td>\n",
       "    </tr>\n",
       "    <tr>\n",
       "      <th>56</th>\n",
       "      <td>Listolier</td>\n",
       "      <td>0.024138</td>\n",
       "      <td>312.646667</td>\n",
       "      <td>-599.275085</td>\n",
       "    </tr>\n",
       "    <tr>\n",
       "      <th>13</th>\n",
       "      <td>Geborand</td>\n",
       "      <td>0.004004</td>\n",
       "      <td>-17.671986</td>\n",
       "      <td>85.812553</td>\n",
       "    </tr>\n",
       "    <tr>\n",
       "      <th>35</th>\n",
       "      <td>Mme.Hucheloup</td>\n",
       "      <td>0.004004</td>\n",
       "      <td>325.224762</td>\n",
       "      <td>235.983505</td>\n",
       "    </tr>\n",
       "    <tr>\n",
       "      <th>73</th>\n",
       "      <td>Feuilly</td>\n",
       "      <td>0.006593</td>\n",
       "      <td>259.452240</td>\n",
       "      <td>416.950470</td>\n",
       "    </tr>\n",
       "  </tbody>\n",
       "</table>\n",
       "</div>"
      ],
      "text/plain": [
       "               id  pagerank           x           y\n",
       "34     Mme.Burgon  0.010177  341.922455 -116.781532\n",
       "56      Listolier  0.024138  312.646667 -599.275085\n",
       "13       Geborand  0.004004  -17.671986   85.812553\n",
       "35  Mme.Hucheloup  0.004004  325.224762  235.983505\n",
       "73        Feuilly  0.006593  259.452240  416.950470"
      ]
     },
     "execution_count": 29,
     "metadata": {},
     "output_type": "execute_result"
    }
   ],
   "source": [
    "g3b = g2.layout_cugraph('force_atlas2', params={'lin_log_mode': True})\n",
    "g3b._nodes.sample(5)"
   ]
  },
  {
   "cell_type": "code",
   "execution_count": 26,
   "id": "ffa71b2f-1d88-4806-9bee-208986fdb6dc",
   "metadata": {},
   "outputs": [
    {
     "data": {
      "text/html": [
       "\n",
       "            <iframe id=\"71897666-923a-4bf7-86de-3dbab404a66a\" src=\"/graph/graph.html?dataset=33bb93fda3174d1b91835d8f09540c4a&type=arrow&viztoken=d31338f5-29ff-4e8b-949c-00fbf4389c46&usertag=6447f485-pygraphistry-refs/pull/360/head&splashAfter=1656737886&info=true&play=0\"\n",
       "                    allowfullscreen=\"true\" webkitallowfullscreen=\"true\" mozallowfullscreen=\"true\"\n",
       "                    oallowfullscreen=\"true\" msallowfullscreen=\"true\"\n",
       "                    style=\"width:100%; height:500px; border: 1px solid #DDD; overflow: hidden\"\n",
       "                    \n",
       "            >\n",
       "            </iframe>\n",
       "        \n",
       "            <script>\n",
       "                try {\n",
       "                  $(\"#71897666-923a-4bf7-86de-3dbab404a66a\").bind('mousewheel', function(e) { e.preventDefault(); });\n",
       "                } catch (e) { console.error('exn catching scroll', e); }\n",
       "            </script>\n",
       "        "
      ],
      "text/plain": [
       "<IPython.core.display.HTML object>"
      ]
     },
     "execution_count": 26,
     "metadata": {},
     "output_type": "execute_result"
    }
   ],
   "source": [
    "g3.plot()"
   ]
  },
  {
   "cell_type": "markdown",
   "id": "f8b7a673-d87d-4cac-8eba-6bcfe6de6ba4",
   "metadata": {},
   "source": [
    "### Convert between dataframes and cuGraph"
   ]
  },
  {
   "cell_type": "code",
   "execution_count": 30,
   "id": "3a0b99b6-5f09-4548-8900-675c3bb225c4",
   "metadata": {},
   "outputs": [
    {
     "name": "stderr",
     "output_type": "stream",
     "text": [
      "/opt/conda/envs/rapids/lib/python3.8/site-packages/cudf/core/indexed_frame.py:2271: FutureWarning: append is deprecated and will be removed in a future version. Use concat instead.\n",
      "  warnings.warn(\n"
     ]
    }
   ],
   "source": [
    "G = g3.to_cugraph()"
   ]
  },
  {
   "cell_type": "code",
   "execution_count": 31,
   "id": "2e6ab2da-cdd5-44f7-9706-68da78d67d79",
   "metadata": {},
   "outputs": [
    {
     "data": {
      "text/plain": [
       "<cugraph.structure.graph_classes.Graph at 0x7f122b43f2e0>"
      ]
     },
     "execution_count": 31,
     "metadata": {},
     "output_type": "execute_result"
    }
   ],
   "source": [
    "G"
   ]
  },
  {
   "cell_type": "code",
   "execution_count": 36,
   "id": "a7f3da61-6e0a-42c4-8407-fe5c2aae7a16",
   "metadata": {},
   "outputs": [
    {
     "data": {
      "text/plain": [
       "254"
      ]
     },
     "execution_count": 36,
     "metadata": {},
     "output_type": "execute_result"
    }
   ],
   "source": [
    "G.number_of_edges()"
   ]
  },
  {
   "cell_type": "code",
   "execution_count": 40,
   "id": "327422ad-6354-46f6-9d8d-216d37d0f72f",
   "metadata": {},
   "outputs": [
    {
     "data": {
      "text/plain": [
       "{'edges': (254, 2), 'nodes': (77, 1)}"
      ]
     },
     "execution_count": 40,
     "metadata": {},
     "output_type": "execute_result"
    }
   ],
   "source": [
    "g4 = graphistry.from_cugraph(G)\n",
    "\n",
    "{\n",
    "    'edges': g4._edges.shape,\n",
    "    'nodes': g4.materialize_nodes()._nodes.shape\n",
    "}"
   ]
  },
  {
   "cell_type": "code",
   "execution_count": null,
   "id": "dec4ec1b-a29e-430a-b88f-459626c6432f",
   "metadata": {},
   "outputs": [],
   "source": []
  },
  {
   "cell_type": "code",
   "execution_count": null,
   "id": "8b6b01d8-08be-4b2d-a584-ae3aa26b943f",
   "metadata": {},
   "outputs": [],
   "source": []
  }
 ],
 "metadata": {
  "kernelspec": {
   "display_name": "Python 3.8 (RAPIDS)",
   "language": "python",
   "name": "rapids"
  },
  "language_info": {
   "codemirror_mode": {
    "name": "ipython",
    "version": 3
   },
   "file_extension": ".py",
   "mimetype": "text/x-python",
   "name": "python",
   "nbconvert_exporter": "python",
   "pygments_lexer": "ipython3",
   "version": "3.8.13"
  }
 },
 "nbformat": 4,
 "nbformat_minor": 5
}
