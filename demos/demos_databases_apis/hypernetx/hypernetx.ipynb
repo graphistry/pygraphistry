{
 "cells": [
  {
   "cell_type": "markdown",
   "metadata": {
    "colab_type": "text",
    "id": "bdxNPN0PhlsS"
   },
   "source": [
    "# HyperNetX + Graphistry = 💪💪💪\n",
    "\n",
    "You can quickly explore HyperNetX graphs using Graphistry through the below sample class.\n",
    "\n",
    "PNNL's [HyperNetX](https://github.com/pnnl/HyperNetX) is a new Python library for manipulating hypergraphs: graphs where an edge may connect any number of nodes. The below helper class converts HyperNetX graphs into 2-edge graphs (node/edge property tables as Panda dataframes ) in two different modes:\n",
    "\n",
    "* `hypernetx_to_graphistry_bipartite(hnx_graph)`: \n",
    "    * Turn every hyperedge and hypernode into nodes. They form a bipartite graph: whenever a hyperedge includes a hypernode, create an edge from the hyperedge's node to the hypernode's node.\n",
    "    * ex: Hyperedge `0: ['a', 'b', 'c']` => edge `(0, 'a')`, edge `(0, 'b')`, edge `(0, 'c')`\n",
    "* `hypernetx_to_graphistry_nodes(hnx_graph)`:\n",
    "    * Turn every hypernode into a node, and whenever two hypernodes share the same hyperedge, create an edge between their corresponding nodes\n",
    "    * To emphasize that edges are undirect, the library sets the edge curvature to 0 (straight)\n",
    "    * ex: Hyperedge `0: ['a', 'b', 'c']` => edge `('a', 'b')`, edge `('a', 'c')`, edge `('b', 'c')`\n",
    "\n"
   ]
  },
  {
   "cell_type": "markdown",
   "metadata": {
    "colab_type": "text",
    "id": "g_oMUHQKVtH6"
   },
   "source": [
    "## **Install**\n",
    "\n",
    "Dependencies already preinstalled in Graphistry Core distributions"
   ]
  },
  {
   "cell_type": "code",
   "execution_count": 1,
   "metadata": {
    "colab": {
     "base_uri": "https://localhost:8080/",
     "height": 34
    },
    "colab_type": "code",
    "id": "Tz6JVhYSNnW6",
    "outputId": "6ed5ed36-b563-4741-f275-4a0d2eb5d86a"
   },
   "outputs": [],
   "source": [
    "# ! pip install hypernetx -q\n",
    "# ! pip install graphistry -q"
   ]
  },
  {
   "cell_type": "markdown",
   "metadata": {
    "colab_type": "text",
    "id": "qbvGMU0cV79N"
   },
   "source": [
    "## Lib"
   ]
  },
  {
   "cell_type": "code",
   "execution_count": 2,
   "metadata": {
    "colab": {},
    "colab_type": "code",
    "id": "vbeJWufvVTFh"
   },
   "outputs": [],
   "source": [
    "import pandas as pd\n",
    "\n",
    "class HyperNetXG:\n",
    "  \n",
    "    def __init__(self, graphistry):\n",
    "        self.graphistry = graphistry      \n",
    "\n",
    "    def normalize_id(self, id):\n",
    "        t = type(id)\n",
    "        if t == float or t == int:\n",
    "            return '__id__' + str(id)\n",
    "        return str(id)\n",
    "\n",
    "\n",
    "    def hypernetx_to_graphistry_bipartite(self, h):\n",
    "\n",
    "        nodes_df = pd.concat(\n",
    "            [pd.DataFrame({\n",
    "                'node': [self.normalize_id(x) for x in list(H.nodes)], \n",
    "                'type': 'hypernode'}),\n",
    "             pd.DataFrame({\n",
    "                 'node': [self.normalize_id(x) for x in H.edges], \n",
    "                 'type': 'hyperedge'})],\n",
    "            ignore_index=True,\n",
    "            sort=False)\n",
    "\n",
    "        edges_df = pd.concat(\n",
    "            [ pd.DataFrame({'src': [], 'dst': []}) ] + \n",
    "            [\n",
    "                pd.DataFrame({\n",
    "                    'src': self.normalize_id(k),\n",
    "                    'dst': [self.normalize_id(x) for x in list(es)]\n",
    "                })\n",
    "                for k, es in H.incidence_dict.items()\n",
    "            ], ignore_index=True, sort=False)\n",
    "\n",
    "        return self.graphistry.bind(\n",
    "              source='src', \n",
    "              destination='dst', \n",
    "              node='node').nodes(nodes_df).edges(edges_df)\n",
    "\n",
    "\n",
    "    def __hyperedge_to_graph(self, k, es):\n",
    "        lst = list(es)\n",
    "        edges_df = pd.concat([\n",
    "              pd.DataFrame({'src': [], 'dst': [], 'hyperedge': []})] + [\n",
    "              pd.DataFrame({\n",
    "                  'src': self.normalize_id(lst[i]), \n",
    "                  'dst': [self.normalize_id(x) for x in lst[i+1:]], \n",
    "                  'hyperedge': self.normalize_id(k)})\n",
    "              for i in range(0, len(lst))\n",
    "          ], ignore_index=True, sort=False)     \n",
    "        return edges_df\n",
    "\n",
    "    def hypernetx_to_graphistry_nodes(self, h):\n",
    "        hg = self.hypernetx_to_graphistry_bipartite(h)\n",
    "        nodes_df = pd.DataFrame({\n",
    "              'node': [self.normalize_id(x) for x in list(h.nodes)], \n",
    "              'type': 'hypernode'})\n",
    "        edges_df = pd.concat(\n",
    "              [pd.DataFrame({'src': [], 'dst': [], 'hyperedge': []})] +\n",
    "              [\n",
    "                  self.__hyperedge_to_graph(k, es) \n",
    "                  for (k, es) in h.incidence_dict.items() \n",
    "              ])\n",
    "        return self.graphistry.bind(\n",
    "              source='src', \n",
    "              destination='dst', \n",
    "              node='node').settings(url_params={'edgeCurvature': 0}).nodes(nodes_df).edges(edges_df)"
   ]
  },
  {
   "cell_type": "markdown",
   "metadata": {
    "colab_type": "text",
    "id": "j55dZk32WMpS"
   },
   "source": [
    "## Demo\n",
    "\n",
    "### Init"
   ]
  },
  {
   "cell_type": "code",
   "execution_count": 3,
   "metadata": {
    "colab": {},
    "colab_type": "code",
    "id": "sm45TNKMOEZn"
   },
   "outputs": [],
   "source": [
    "import hypernetx as hnx\n",
    "import graphistry\n",
    "#graphistry.register(protocol='https', server='www.graphistry.com', key='MY_KEY')\n",
    "\n",
    "scenes = [\n",
    "    ('FN', 'TH'),\n",
    "    ('TH', 'JV'),\n",
    "    ('BM', 'FN', 'JA'),\n",
    "    ('JV', 'JU', 'CH', 'BM'),\n",
    "    ('JU', 'CH', 'BR', 'CN', 'CC', 'JV', 'BM'),\n",
    "    ('TH', 'GP'),\n",
    "    ('GP', 'MP'),\n",
    "    ('MA', 'GP')\n",
    "]\n",
    "\n",
    "H = hnx.Hypergraph(dict(enumerate(scenes)))\n",
    "hg = HyperNetXG(graphistry)"
   ]
  },
  {
   "cell_type": "markdown",
   "metadata": {
    "colab_type": "text",
    "id": "_fsbRP48eSWT"
   },
   "source": [
    "## hypernetx_to_graphistry_bipartite"
   ]
  },
  {
   "cell_type": "markdown",
   "metadata": {
    "colab_type": "text",
    "id": "k-8y_jNLd6v4"
   },
   "source": [
    "Flatten to Pandas Dataframes / Graphistry and inspect:"
   ]
  },
  {
   "cell_type": "code",
   "execution_count": 4,
   "metadata": {
    "colab": {
     "base_uri": "https://localhost:8080/",
     "height": 142
    },
    "colab_type": "code",
    "id": "DQzE4f5zeGDn",
    "outputId": "c8f6fb31-0bf5-4547-cdc9-7e0e75c512cf"
   },
   "outputs": [
    {
     "data": {
      "text/html": [
       "<div>\n",
       "<style scoped>\n",
       "    .dataframe tbody tr th:only-of-type {\n",
       "        vertical-align: middle;\n",
       "    }\n",
       "\n",
       "    .dataframe tbody tr th {\n",
       "        vertical-align: top;\n",
       "    }\n",
       "\n",
       "    .dataframe thead th {\n",
       "        text-align: right;\n",
       "    }\n",
       "</style>\n",
       "<table border=\"1\" class=\"dataframe\">\n",
       "  <thead>\n",
       "    <tr style=\"text-align: right;\">\n",
       "      <th></th>\n",
       "      <th>node</th>\n",
       "      <th>type</th>\n",
       "    </tr>\n",
       "  </thead>\n",
       "  <tbody>\n",
       "    <tr>\n",
       "      <th>18</th>\n",
       "      <td>__id__5</td>\n",
       "      <td>hyperedge</td>\n",
       "    </tr>\n",
       "    <tr>\n",
       "      <th>17</th>\n",
       "      <td>__id__4</td>\n",
       "      <td>hyperedge</td>\n",
       "    </tr>\n",
       "    <tr>\n",
       "      <th>15</th>\n",
       "      <td>__id__2</td>\n",
       "      <td>hyperedge</td>\n",
       "    </tr>\n",
       "  </tbody>\n",
       "</table>\n",
       "</div>"
      ],
      "text/plain": [
       "       node       type\n",
       "18  __id__5  hyperedge\n",
       "17  __id__4  hyperedge\n",
       "15  __id__2  hyperedge"
      ]
     },
     "execution_count": 4,
     "metadata": {},
     "output_type": "execute_result"
    }
   ],
   "source": [
    "g = hg.hypernetx_to_graphistry_bipartite(H)\n",
    "g._nodes.sample(3)"
   ]
  },
  {
   "cell_type": "code",
   "execution_count": 5,
   "metadata": {
    "colab": {
     "base_uri": "https://localhost:8080/",
     "height": 142
    },
    "colab_type": "code",
    "id": "o7pUj8rfeuB_",
    "outputId": "1d0c796f-b468-4285-e64b-e1188eacb61f"
   },
   "outputs": [
    {
     "data": {
      "text/html": [
       "<div>\n",
       "<style scoped>\n",
       "    .dataframe tbody tr th:only-of-type {\n",
       "        vertical-align: middle;\n",
       "    }\n",
       "\n",
       "    .dataframe tbody tr th {\n",
       "        vertical-align: top;\n",
       "    }\n",
       "\n",
       "    .dataframe thead th {\n",
       "        text-align: right;\n",
       "    }\n",
       "</style>\n",
       "<table border=\"1\" class=\"dataframe\">\n",
       "  <thead>\n",
       "    <tr style=\"text-align: right;\">\n",
       "      <th></th>\n",
       "      <th>src</th>\n",
       "      <th>dst</th>\n",
       "    </tr>\n",
       "  </thead>\n",
       "  <tbody>\n",
       "    <tr>\n",
       "      <th>18</th>\n",
       "      <td>__id__5</td>\n",
       "      <td>TH</td>\n",
       "    </tr>\n",
       "    <tr>\n",
       "      <th>20</th>\n",
       "      <td>__id__6</td>\n",
       "      <td>MP</td>\n",
       "    </tr>\n",
       "    <tr>\n",
       "      <th>10</th>\n",
       "      <td>__id__3</td>\n",
       "      <td>CH</td>\n",
       "    </tr>\n",
       "  </tbody>\n",
       "</table>\n",
       "</div>"
      ],
      "text/plain": [
       "        src dst\n",
       "18  __id__5  TH\n",
       "20  __id__6  MP\n",
       "10  __id__3  CH"
      ]
     },
     "execution_count": 5,
     "metadata": {},
     "output_type": "execute_result"
    }
   ],
   "source": [
    "g._edges.sample(3)"
   ]
  },
  {
   "cell_type": "code",
   "execution_count": 6,
   "metadata": {
    "colab": {
     "base_uri": "https://localhost:8080/",
     "height": 543
    },
    "colab_type": "code",
    "id": "aIKOmKfge04g",
    "outputId": "559e0c39-9d7a-491f-e671-f33699eac711"
   },
   "outputs": [
    {
     "data": {
      "text/html": [
       "\n",
       "            <iframe id=\"38bbb2e6-2c34-4b7e-b9a7-0a17f929c3d2\" src=\"https://labs.graphistry.com/graph/graph.html?dataset=PyGraphistry/7UPKOKOFK4&type=vgraph&viztoken=cd6bc9b6d5b39aa6fe84e3d726f66aa0351693ac&usertag=5806a903-pygraphistry-0.9.69+2.ge318f2f&splashAfter=1565503275&info=true\"\n",
       "                    allowfullscreen=\"true\" webkitallowfullscreen=\"true\" mozallowfullscreen=\"true\"\n",
       "                    oallowfullscreen=\"true\" msallowfullscreen=\"true\"\n",
       "                    style=\"width:100%; height:500px; border: 1px solid #DDD\">\n",
       "            </iframe>\n",
       "        \n",
       "            <script>\n",
       "                $(\"#38bbb2e6-2c34-4b7e-b9a7-0a17f929c3d2\").bind('mousewheel', function(e) {\n",
       "                e.preventDefault();\n",
       "                });\n",
       "            </script>\n",
       "        "
      ],
      "text/plain": [
       "<IPython.core.display.HTML object>"
      ]
     },
     "execution_count": 6,
     "metadata": {},
     "output_type": "execute_result"
    }
   ],
   "source": [
    "g.plot()"
   ]
  },
  {
   "cell_type": "code",
   "execution_count": 7,
   "metadata": {
    "colab": {
     "base_uri": "https://localhost:8080/",
     "height": 142
    },
    "colab_type": "code",
    "id": "Hndm1mvRe5lQ",
    "outputId": "a06b829d-0649-4c8c-a5a3-b5a9d63f4cab"
   },
   "outputs": [
    {
     "data": {
      "text/html": [
       "<div>\n",
       "<style scoped>\n",
       "    .dataframe tbody tr th:only-of-type {\n",
       "        vertical-align: middle;\n",
       "    }\n",
       "\n",
       "    .dataframe tbody tr th {\n",
       "        vertical-align: top;\n",
       "    }\n",
       "\n",
       "    .dataframe thead th {\n",
       "        text-align: right;\n",
       "    }\n",
       "</style>\n",
       "<table border=\"1\" class=\"dataframe\">\n",
       "  <thead>\n",
       "    <tr style=\"text-align: right;\">\n",
       "      <th></th>\n",
       "      <th>src</th>\n",
       "      <th>dst</th>\n",
       "    </tr>\n",
       "  </thead>\n",
       "  <tbody>\n",
       "    <tr>\n",
       "      <th>16</th>\n",
       "      <td>__id__4</td>\n",
       "      <td>CN</td>\n",
       "    </tr>\n",
       "    <tr>\n",
       "      <th>17</th>\n",
       "      <td>__id__4</td>\n",
       "      <td>BR</td>\n",
       "    </tr>\n",
       "    <tr>\n",
       "      <th>14</th>\n",
       "      <td>__id__4</td>\n",
       "      <td>BM</td>\n",
       "    </tr>\n",
       "  </tbody>\n",
       "</table>\n",
       "</div>"
      ],
      "text/plain": [
       "        src dst\n",
       "16  __id__4  CN\n",
       "17  __id__4  BR\n",
       "14  __id__4  BM"
      ]
     },
     "execution_count": 7,
     "metadata": {},
     "output_type": "execute_result"
    }
   ],
   "source": [
    "hg.hypernetx_to_graphistry_bipartite(H.dual())._edges.sample(3)"
   ]
  },
  {
   "cell_type": "code",
   "execution_count": 8,
   "metadata": {
    "colab": {
     "base_uri": "https://localhost:8080/",
     "height": 543
    },
    "colab_type": "code",
    "id": "ouIj0yETfFV8",
    "outputId": "43b3c58f-4d9c-463f-dd82-57f4b85545c7"
   },
   "outputs": [
    {
     "data": {
      "text/html": [
       "\n",
       "            <iframe id=\"faae97bd-0a9d-4615-b698-44a0b8bb1013\" src=\"https://labs.graphistry.com/graph/graph.html?dataset=PyGraphistry/GTF1898483&type=vgraph&viztoken=99f42622fa2f7300046515106e4243aacf76f85d&usertag=5806a903-pygraphistry-0.9.69+2.ge318f2f&splashAfter=1565503276&info=true\"\n",
       "                    allowfullscreen=\"true\" webkitallowfullscreen=\"true\" mozallowfullscreen=\"true\"\n",
       "                    oallowfullscreen=\"true\" msallowfullscreen=\"true\"\n",
       "                    style=\"width:100%; height:500px; border: 1px solid #DDD\">\n",
       "            </iframe>\n",
       "        \n",
       "            <script>\n",
       "                $(\"#faae97bd-0a9d-4615-b698-44a0b8bb1013\").bind('mousewheel', function(e) {\n",
       "                e.preventDefault();\n",
       "                });\n",
       "            </script>\n",
       "        "
      ],
      "text/plain": [
       "<IPython.core.display.HTML object>"
      ]
     },
     "execution_count": 8,
     "metadata": {},
     "output_type": "execute_result"
    }
   ],
   "source": [
    "hg.hypernetx_to_graphistry_bipartite(H.dual()).plot()"
   ]
  },
  {
   "cell_type": "markdown",
   "metadata": {
    "colab_type": "text",
    "id": "uid48qApev5H"
   },
   "source": [
    "### hypernetx_to_graphistry_nodes"
   ]
  },
  {
   "cell_type": "code",
   "execution_count": 9,
   "metadata": {
    "colab": {
     "base_uri": "https://localhost:8080/",
     "height": 142
    },
    "colab_type": "code",
    "id": "wzQmhCrNWUI1",
    "outputId": "77f69bfc-d767-455d-ff01-9a079bfb1b40"
   },
   "outputs": [
    {
     "data": {
      "text/html": [
       "<div>\n",
       "<style scoped>\n",
       "    .dataframe tbody tr th:only-of-type {\n",
       "        vertical-align: middle;\n",
       "    }\n",
       "\n",
       "    .dataframe tbody tr th {\n",
       "        vertical-align: top;\n",
       "    }\n",
       "\n",
       "    .dataframe thead th {\n",
       "        text-align: right;\n",
       "    }\n",
       "</style>\n",
       "<table border=\"1\" class=\"dataframe\">\n",
       "  <thead>\n",
       "    <tr style=\"text-align: right;\">\n",
       "      <th></th>\n",
       "      <th>src</th>\n",
       "      <th>dst</th>\n",
       "      <th>hyperedge</th>\n",
       "    </tr>\n",
       "  </thead>\n",
       "  <tbody>\n",
       "    <tr>\n",
       "      <th>16</th>\n",
       "      <td>BM</td>\n",
       "      <td>CN</td>\n",
       "      <td>__id__4</td>\n",
       "    </tr>\n",
       "    <tr>\n",
       "      <th>0</th>\n",
       "      <td>JA</td>\n",
       "      <td>BM</td>\n",
       "      <td>__id__2</td>\n",
       "    </tr>\n",
       "    <tr>\n",
       "      <th>2</th>\n",
       "      <td>JU</td>\n",
       "      <td>CH</td>\n",
       "      <td>__id__3</td>\n",
       "    </tr>\n",
       "  </tbody>\n",
       "</table>\n",
       "</div>"
      ],
      "text/plain": [
       "   src dst hyperedge\n",
       "16  BM  CN   __id__4\n",
       "0   JA  BM   __id__2\n",
       "2   JU  CH   __id__3"
      ]
     },
     "execution_count": 9,
     "metadata": {},
     "output_type": "execute_result"
    }
   ],
   "source": [
    "g = hg.hypernetx_to_graphistry_nodes(H)\n",
    "g._edges.sample(3)"
   ]
  },
  {
   "cell_type": "code",
   "execution_count": 10,
   "metadata": {
    "colab": {
     "base_uri": "https://localhost:8080/",
     "height": 543
    },
    "colab_type": "code",
    "id": "oYK5jx5kOxj-",
    "outputId": "ab282a97-b7aa-4f51-8562-d094732a20ee"
   },
   "outputs": [
    {
     "data": {
      "text/html": [
       "\n",
       "            <iframe id=\"1244fc57-38ca-4f82-83e9-8ce74f24fb62\" src=\"https://labs.graphistry.com/graph/graph.html?dataset=PyGraphistry/JOUQYVLQEG&type=vgraph&viztoken=953aa299ab477b671f2a9c55c9568d2edaf67806&usertag=5806a903-pygraphistry-0.9.69+2.ge318f2f&splashAfter=1565503278&info=true&edgeCurvature=0\"\n",
       "                    allowfullscreen=\"true\" webkitallowfullscreen=\"true\" mozallowfullscreen=\"true\"\n",
       "                    oallowfullscreen=\"true\" msallowfullscreen=\"true\"\n",
       "                    style=\"width:100%; height:500px; border: 1px solid #DDD\">\n",
       "            </iframe>\n",
       "        \n",
       "            <script>\n",
       "                $(\"#1244fc57-38ca-4f82-83e9-8ce74f24fb62\").bind('mousewheel', function(e) {\n",
       "                e.preventDefault();\n",
       "                });\n",
       "            </script>\n",
       "        "
      ],
      "text/plain": [
       "<IPython.core.display.HTML object>"
      ]
     },
     "execution_count": 10,
     "metadata": {},
     "output_type": "execute_result"
    }
   ],
   "source": [
    "hg.hypernetx_to_graphistry_nodes(H).plot()"
   ]
  },
  {
   "cell_type": "code",
   "execution_count": 11,
   "metadata": {
    "colab": {
     "base_uri": "https://localhost:8080/",
     "height": 543
    },
    "colab_type": "code",
    "id": "KoL4p8VKR9D-",
    "outputId": "bda34ca5-1994-446c-d750-befe8dc7a290"
   },
   "outputs": [
    {
     "data": {
      "text/html": [
       "\n",
       "            <iframe id=\"dcece73a-7b46-449d-9e83-36476dee103d\" src=\"https://labs.graphistry.com/graph/graph.html?dataset=PyGraphistry/ZY1GLX1W49&type=vgraph&viztoken=27c45fabfbf92e2eea15bfafd9a0387c78f8eb5d&usertag=5806a903-pygraphistry-0.9.69+2.ge318f2f&splashAfter=1565503279&info=true&edgeCurvature=0\"\n",
       "                    allowfullscreen=\"true\" webkitallowfullscreen=\"true\" mozallowfullscreen=\"true\"\n",
       "                    oallowfullscreen=\"true\" msallowfullscreen=\"true\"\n",
       "                    style=\"width:100%; height:500px; border: 1px solid #DDD\">\n",
       "            </iframe>\n",
       "        \n",
       "            <script>\n",
       "                $(\"#dcece73a-7b46-449d-9e83-36476dee103d\").bind('mousewheel', function(e) {\n",
       "                e.preventDefault();\n",
       "                });\n",
       "            </script>\n",
       "        "
      ],
      "text/plain": [
       "<IPython.core.display.HTML object>"
      ]
     },
     "execution_count": 11,
     "metadata": {},
     "output_type": "execute_result"
    }
   ],
   "source": [
    "hg.hypernetx_to_graphistry_nodes(H.dual()).plot()"
   ]
  }
 ],
 "metadata": {
  "colab": {
   "collapsed_sections": [],
   "name": "hypernetx",
   "provenance": [],
   "version": "0.3.2"
  },
  "kernelspec": {
   "display_name": "Python 3",
   "language": "python",
   "name": "python3"
  },
  "language_info": {
   "codemirror_mode": {
    "name": "ipython",
    "version": 3
   },
   "file_extension": ".py",
   "mimetype": "text/x-python",
   "name": "python",
   "nbconvert_exporter": "python",
   "pygments_lexer": "ipython3",
   "version": "3.7.3"
  }
 },
 "nbformat": 4,
 "nbformat_minor": 1
}
