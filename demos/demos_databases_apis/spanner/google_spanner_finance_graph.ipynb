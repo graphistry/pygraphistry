{
 "cells": [
  {
   "cell_type": "code",
   "execution_count": null,
   "id": "9418e0e1-648d-4cd7-a264-9bf910cbcfe3",
   "metadata": {},
   "outputs": [],
   "source": [
    "import graphistry\n",
    "import json\n",
    "graphistry.__version__"
   ]
  },
  {
   "cell_type": "markdown",
   "id": "1407509d-f079-4f66-bc5f-bd93c9510d09",
   "metadata": {},
   "source": [
    "### Settings"
   ]
  },
  {
   "cell_type": "code",
   "execution_count": null,
   "id": "02515636-e226-429a-bac5-6bb61ef69ead",
   "metadata": {},
   "outputs": [],
   "source": [
    "PROJECT_ID   = \"my_project\" \n",
    "INSTANCE_ID  = \"my_instance\" \n",
    "DATABASE_ID  = \"finance-graph-db\"  \n",
    "\n",
    "# optional setting to limit the number of records returned\n",
    "LIMIT_CLAUSE = \"\"\n",
    "# or use: \n",
    "# LIMIT_CLAUSE = \"limit 1000\"  \n",
    "\n",
    "SPANNER_CONF = { \"project_id\":  PROJECT_ID, \n",
    "                 \"instance_id\": INSTANCE_ID, \n",
    "                 \"database_id\": DATABASE_ID }\n",
    "\n",
    "# print(json.dumps(SPANNER_CONF, indent=4))"
   ]
  },
  {
   "cell_type": "markdown",
   "id": "97649200-c7ab-4041-bb19-f7ab6363ead3",
   "metadata": {},
   "source": [
    "### Graphistry register and gcloud init"
   ]
  },
  {
   "cell_type": "code",
   "execution_count": null,
   "id": "a8ad0f91-19b6-4407-9c19-dcbf329354fb",
   "metadata": {},
   "outputs": [],
   "source": [
    "# graphistry register \n",
    "\n",
    "# To specify Graphistry account & server, use:\n",
    "# graphistry.register(api=3, username='...', password='...', protocol='https', server='hub.graphistry.com')\n",
    "# For more options, see https://pygraphistry.readthedocs.io/en/latest/server/register.html\n",
    "\n",
    "graphistry.register(api=3,  \n",
    "                    protocol  = \"http\", \n",
    "                    server    = os.getenv(\"GRAPHISTRY_SERVER\"),\n",
    "                    username  = os.getenv(\"GRAPHISTRY_USERNAME\"),         \n",
    "                    password  = os.getenv(\"GRAPHISTRY_PASSWORD\"), \n",
    "                    spanner_config=SPANNER_CONF\n",
    "                   )"
   ]
  },
  {
   "cell_type": "code",
   "execution_count": null,
   "id": "cd1c8aaf-d927-4989-aab2-3a5d0e8858ca",
   "metadata": {},
   "outputs": [],
   "source": [
    "# Set the google project id\n",
    "!gcloud config set project {PROJECT_ID}\n",
    "%env GOOGLE_CLOUD_PROJECT={PROJECT_ID}"
   ]
  },
  {
   "cell_type": "code",
   "execution_count": null,
   "id": "4b42c055-2f60-4ac8-975d-f005e37afec0",
   "metadata": {},
   "outputs": [],
   "source": [
    "!gcloud auth application-default login"
   ]
  },
  {
   "cell_type": "code",
   "execution_count": null,
   "id": "11e41457-303c-4d5e-ae0e-7015db33d9f7",
   "metadata": {},
   "outputs": [],
   "source": []
  },
  {
   "cell_type": "markdown",
   "id": "88eb24b0-7d3b-4629-813c-fc989ba1ea90",
   "metadata": {},
   "source": [
    "### Example 1: GQL Path Query to Graphistry Visualization of all nodes and edges (LIMIT optional) \n",
    "\n",
    "to extract the data from Spanner Graph as a graph with nodes and edges in a single object, a GQL path query is required. \n",
    "\n",
    "The format of a path query is as follows, note the p= at the start of the MATCH clause, and the SAFE_TO_JSON(p) without these, \n",
    "the query will not produce the results needed to properly load a graphistry graph. LIMIT is optional, but for large graphs with millions\n",
    "        of edges or more, it's best to filter either in the query or use LIMIT so as not to exhaust GPU memory.  \n",
    "\n",
    "```python\n",
    "GRAPH FinGraph\n",
    "MATCH p = (a)-[b]->(c) where 1=1 LIMIT 10000 return SAFE_TO_JSON(p) as path\n",
    "```\n"
   ]
  },
  {
   "cell_type": "code",
   "execution_count": null,
   "id": "58ee08b2-29e1-47db-b0a8-440f6171e54d",
   "metadata": {},
   "outputs": [],
   "source": [
    "query=f'''GRAPH FinGraph\n",
    "MATCH p = (a)-[b]->(c) where 1=1 {LIMIT_CLAUSE} return SAFE_TO_JSON(p) as path'''\n",
    "\n",
    "g = graphistry.spanner_gql_to_g(query)"
   ]
  },
  {
   "cell_type": "code",
   "execution_count": null,
   "id": "3d606a3f-e807-4fa7-893e-52a95d238cc0",
   "metadata": {},
   "outputs": [],
   "source": [
    "g.plot()"
   ]
  },
  {
   "cell_type": "code",
   "execution_count": null,
   "id": "ae275af9-f354-454b-bbeb-e423ae4acfba",
   "metadata": {},
   "outputs": [],
   "source": []
  },
  {
   "cell_type": "markdown",
   "id": "b9d18502-9bc1-4f7e-af3a-b99f7d848e08",
   "metadata": {},
   "source": [
    "#### Example 1.1 - inspect contents of graphistry graph (nodes and edges): "
   ]
  },
  {
   "cell_type": "code",
   "execution_count": null,
   "id": "42e451d7-8f97-45a8-bb45-7c4271f11f68",
   "metadata": {},
   "outputs": [],
   "source": [
    "len(g._nodes), len(g._edges)"
   ]
  },
  {
   "cell_type": "code",
   "execution_count": null,
   "id": "e5078632-24b2-4139-8e4f-a2c18f1efd94",
   "metadata": {},
   "outputs": [],
   "source": [
    "g._nodes.head(3)"
   ]
  },
  {
   "cell_type": "code",
   "execution_count": null,
   "id": "376bf2a7-931a-4c3f-bfda-3413734e5ad7",
   "metadata": {},
   "outputs": [],
   "source": [
    "g._edges.head(3)"
   ]
  },
  {
   "cell_type": "code",
   "execution_count": null,
   "id": "05d8b293-62b7-4056-b924-ff04284559b9",
   "metadata": {},
   "outputs": [],
   "source": []
  },
  {
   "cell_type": "markdown",
   "id": "0013cceb-f32f-48a0-9f02-6b75a2704294",
   "metadata": {},
   "source": [
    "### Example 2: Spanner GQL Query to pandas dataframe (LIMIT optional) \n",
    "\n",
    "This example shows a non-path query that returns tabular results, which are then convered to a dataframe for easy manipulation and inspection of the results. \n",
    "\n",
    "```python\n",
    "GRAPH FinGraph \n",
    "MATCH (p:Person)-[]-()->(l:Loan)\n",
    "RETURN p.id as ID, p.name AS Name, SUM(l.loan_amount) AS TotalBorrowed\n",
    "ORDER BY TotalBorrowed DESC\n",
    "LIMIT 10```\n",
    "\n"
   ]
  },
  {
   "cell_type": "code",
   "execution_count": null,
   "id": "523f57b2-d09f-4aa2-8626-5af74d5d9a20",
   "metadata": {},
   "outputs": [],
   "source": [
    "query_top10='''GRAPH FinGraph \n",
    "MATCH (p:Person)-[]-()->(l:Loan) WHERE 1=1\n",
    "RETURN p.id as ID, p.name AS Name, SUM(l.loan_amount) AS TotalBorrowed\n",
    "ORDER BY TotalBorrowed DESC\n",
    "LIMIT 10'''"
   ]
  },
  {
   "cell_type": "code",
   "execution_count": null,
   "id": "a51917d3-6c17-4438-981d-b7d441ec89ec",
   "metadata": {},
   "outputs": [],
   "source": [
    "Top10_Borrowers_df = graphistry.spanner_query_to_df(query_top10)"
   ]
  },
  {
   "cell_type": "code",
   "execution_count": null,
   "id": "aab6fb57-6f09-41ae-927a-4f7b5f47db19",
   "metadata": {},
   "outputs": [],
   "source": [
    "Top10_Borrowers_df.head(10)"
   ]
  },
  {
   "cell_type": "code",
   "execution_count": null,
   "id": "7a55789a-16ed-4b6f-b2d0-e374999f1806",
   "metadata": {},
   "outputs": [],
   "source": []
  }
 ],
 "metadata": {
  "kernelspec": {
   "display_name": "venv - spanner-test-1",
   "language": "python",
   "name": "spanner-test-1"
  },
  "language_info": {
   "codemirror_mode": {
    "name": "ipython",
    "version": 3
   },
   "file_extension": ".py",
   "mimetype": "text/x-python",
   "name": "python",
   "nbconvert_exporter": "python",
   "pygments_lexer": "ipython3",
   "version": "3.12.3"
  }
 },
 "nbformat": 4,
 "nbformat_minor": 5
}
