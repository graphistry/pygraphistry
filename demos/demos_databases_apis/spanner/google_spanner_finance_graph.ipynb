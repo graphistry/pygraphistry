{
 "cells": [
  {
   "cell_type": "code",
   "execution_count": null,
   "id": "9418e0e1-648d-4cd7-a264-9bf910cbcfe3",
   "metadata": {},
   "outputs": [],
   "source": [
    "import graphistry\n",
    "graphistry.__version__"
   ]
  },
  {
   "cell_type": "markdown",
   "id": "1407509d-f079-4f66-bc5f-bd93c9510d09",
   "metadata": {},
   "source": [
    "#### Settings "
   ]
  },
  {
   "cell_type": "code",
   "execution_count": null,
   "id": "02515636-e226-429a-bac5-6bb61ef69ead",
   "metadata": {},
   "outputs": [],
   "source": [
    "PROJECT_ID = \"graphistrycloud-dev\" \n",
    "INSTANCE_ID = \"tcook-test-90-day-trial\" \n",
    "DATABASE_ID = \"finance-graph-db\"  \n",
    "LIMIT = \"limit 100\"  \n",
    "\n",
    "SPANNER_CONF = { \"project_id\":  PROJECT_ID, \n",
    "                 \"instance_id\": INSTANCE_ID, \n",
    "                 \"database_id\": DATABASE_ID }\n",
    "\n",
    "print(SPANNER_CONF)"
   ]
  },
  {
   "cell_type": "markdown",
   "id": "97649200-c7ab-4041-bb19-f7ab6363ead3",
   "metadata": {},
   "source": [
    "#### gcloud init "
   ]
  },
  {
   "cell_type": "code",
   "execution_count": null,
   "id": "cd1c8aaf-d927-4989-aab2-3a5d0e8858ca",
   "metadata": {},
   "outputs": [],
   "source": [
    "# Set the project id\n",
    "!gcloud config set project {PROJECT_ID}\n",
    "%env GOOGLE_CLOUD_PROJECT={PROJECT_ID}"
   ]
  },
  {
   "cell_type": "code",
   "execution_count": null,
   "id": "4b42c055-2f60-4ac8-975d-f005e37afec0",
   "metadata": {},
   "outputs": [],
   "source": [
    "!gcloud auth application-default login"
   ]
  },
  {
   "cell_type": "code",
   "execution_count": null,
   "id": "a8ad0f91-19b6-4407-9c19-dcbf329354fb",
   "metadata": {},
   "outputs": [],
   "source": [
    "# register \n",
    "\n",
    "import os\n",
    "os.environ[\"GRAPHISTRY_SERVER\"] = 'hub.graphistry.com'\n",
    "\n",
    "print(f'server    = {os.getenv(\"GRAPHISTRY_SERVER\")}')\n",
    "print(f'protocol  = {os.getenv(\"GRAPHISTRY_PROTOCOL\")}')\n",
    "print(f'username  = {os.getenv(\"GRAPHISTRY_USERNAME\")}')\n",
    "\n",
    "graphistry.register(api=3,  \n",
    "                    protocol  = \"https\", \n",
    "                    server    = os.getenv(\"GRAPHISTRY_SERVER\"),\n",
    "                    username  = os.getenv(\"GRAPHISTRY_USERNAME\"),         \n",
    "                    password  = os.getenv(\"GRAPHISTRY_PASSWORD\"),\n",
    "                    spanner_config=SPANNER_CONF\n",
    "                   ) \n"
   ]
  },
  {
   "cell_type": "code",
   "execution_count": null,
   "id": "e7ab1379-14bf-4c03-b5b2-28df22609029",
   "metadata": {},
   "outputs": [],
   "source": [
    "query=f'''GRAPH FinGraph\n",
    "MATCH p = (a)-[b]->(c) where 1=1 {LIMIT} return TO_JSON(p) as path'''\n",
    "\n",
    "g = graphistry.spanner_query(query)"
   ]
  },
  {
   "cell_type": "code",
   "execution_count": null,
   "id": "aeead725-928a-44fe-b5b5-630c830502e0",
   "metadata": {},
   "outputs": [],
   "source": []
  }
 ],
 "metadata": {
  "kernelspec": {
   "display_name": "venv - spanner-test-5",
   "language": "python",
   "name": "spanner-test-5"
  },
  "language_info": {
   "codemirror_mode": {
    "name": "ipython",
    "version": 3
   },
   "file_extension": ".py",
   "mimetype": "text/x-python",
   "name": "python",
   "nbconvert_exporter": "python",
   "pygments_lexer": "ipython3",
   "version": "3.12.3"
  }
 },
 "nbformat": 4,
 "nbformat_minor": 5
}
