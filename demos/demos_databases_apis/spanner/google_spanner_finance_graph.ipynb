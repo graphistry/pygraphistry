{
 "cells": [
  {
   "cell_type": "markdown",
   "id": "19a73e4f-c046-4ec9-acb7-472e4888e810",
   "metadata": {},
   "source": [
    "<table style=\"width: 50%; margin-left: 0; border: none; padding: 10px; font-family: Arial, sans-serif; text-align: center;\">\n",
    "  <tr>\n",
    "    <td style=\"text-align: left; vertical-align: left;\">\n",
    "      <img src=\"https://pygraphistry.readthedocs.io/en/latest/_static/graphistry_banner_transparent_colored.png\" \n",
    "           alt=\"Graphistry Logo\" \n",
    "           width=\"300\" \n",
    "           height=\"300\"/>\n",
    "    </td>\n",
    "    <td style=\"text-align: left; vertical-align: left;\">\n",
    "      <img src=\"data:image/jpeg;base64,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\" alt=\"Google Cloud Spanner Logo\" width=\"400\" height=\"400\"/>\n",
    "    </td>\n",
    "  </tr>\n",
    "</table>\n"
   ]
  },
  {
   "cell_type": "markdown",
   "id": "814017ae-af4e-4331-b0b0-ed016d010ade",
   "metadata": {},
   "source": [
    "# Demo Notebook - Graphistry and Google Spanner Graph \n",
    "\n",
    "This interactive guide demonstrates how to combine the power of Graphistry's visual graph analytics and AI with the robust data capabilities of Google Cloud Spanner Graph. \n",
    "\n",
    "#### Why Graphistry + Google Cloud Spanner?\n",
    "\n",
    "Graphistry is a cutting-edge platform for large-scale visual graph exploration and analysis. It enables users to intuitively investigate complex relationships, patterns and anomalies across vast datasets through highly interactive, GPU-accelerated visualizations. Google Cloud Spanner, on the other hand, is a globally distributed, horizontally scalable, and strongly consistent database ideal for managing large, interconnected datasets.\n",
    "\n",
    "Together, these technologies empower you to:\n",
    "- **Visualize Complex Graphs**: Easily explore relationships and uncover insights in your data through rich visual representations.\n",
    "- **Handle Large Datasets**: Leverage Cloud Spanner’s ability to manage vast amounts of interconnected information with strong consistency and scalability.\n",
    "- **Perform Advanced Analytics**: Apply graph-based algorithms and clustering techniques to extract actionable insights from structured data.\n",
    "\n",
    "#### What Will You Learn?\n",
    "\n",
    "This notebook showcases:\n",
    "1. **Connecting to Cloud Spanner**: How to retrieve and preprocess data from Cloud Spanner for graph processing.\n",
    "2. **Graph Visualization with Graphistry**: Turning raw data into meaningful visualizations to explore relationships and clusters.\n",
    "3. **Real-World Use Cases**: Applying these tools to solve practical problems \n",
    "\n",
    "#### Who Is This For?\n",
    "\n",
    "This demo is designed for:\n",
    "- **Data Scientists**: Interested in adding visual graph analytics to their toolkit.\n",
    "- **Database Engineers**: Looking to integrate graph capabilities into their Cloud Spanner workflows.\n",
    "- **Application Developer**: Prototyping applications built using Graphistry and Google Spanner \n",
    "\n",
    "#### Prerequisites\n",
    "\n",
    "To follow along, you’ll need:\n",
    "- A Google Cloud account with access to Cloud Spanner.\n",
    "- A Graphistry Enterprise Server or free-tier [Graphistry Hub account](https://www.graphistry.com/get-started) \n",
    "- Python environment with Graphistry installed.\n",
    "- Basic knowledge of SQL, GQL and graph concepts.\n",
    "- This demo is based on [FinGraph sample graph](https://codelabs.developers.google.com/codelabs/spanner-graph-getting-started#0)\n",
    "\n",
    "#### Let’s Get Started!\n",
    "\n",
    "Dive in and see how the synergy of Graphistry and Google Cloud Spanner can transform your data exploration and analysis workflows. "
   ]
  },
  {
   "cell_type": "code",
   "execution_count": null,
   "id": "970195db-a67f-4cb0-b5d0-6927ecebb166",
   "metadata": {},
   "outputs": [],
   "source": [
    "# intall required dependecies for graphistry + google spanner \n",
    "!pip install graphistry[spanner]"
   ]
  },
  {
   "cell_type": "code",
   "execution_count": null,
   "id": "9418e0e1-648d-4cd7-a264-9bf910cbcfe3",
   "metadata": {},
   "outputs": [],
   "source": [
    "import graphistry\n",
    "graphistry.__version__"
   ]
  },
  {
   "cell_type": "markdown",
   "id": "1407509d-f079-4f66-bc5f-bd93c9510d09",
   "metadata": {},
   "source": [
    "## Settings"
   ]
  },
  {
   "cell_type": "code",
   "execution_count": null,
   "id": "02515636-e226-429a-bac5-6bb61ef69ead",
   "metadata": {},
   "outputs": [],
   "source": [
    "PROJECT_ID   = \"my_project\" \n",
    "INSTANCE_ID  = \"my_instance\" \n",
    "DATABASE_ID  = \"finance-graph-db\"  \n",
    "\n",
    "# optional setting to limit the number of records returned\n",
    "LIMIT_CLAUSE = \"\"\n",
    "# or use: \n",
    "# LIMIT_CLAUSE = \"limit 1000\"  \n",
    "\n",
    "# google settings, option 1: interactive login using gcloud auth application-default login (below)\n",
    "SPANNER_CONF = { \"project_id\":  PROJECT_ID, \n",
    "                 \"instance_id\": INSTANCE_ID, \n",
    "                 \"database_id\": DATABASE_ID }\n",
    "\n",
    "# google settings, option 2: use a service account key: \n",
    "\n",
    "# KEY_FILE=\"/path/to/credentials.json\"\n",
    "# SPANNER_CONF = { \"project_id\":       PROJECT_ID, \n",
    "#                  \"instance_id\":      INSTANCE_ID, \n",
    "#                  \"database_id\":      DATABASE_ID, \n",
    "#                  \"credentials_file\": KEY_FILE}\n"
   ]
  },
  {
   "cell_type": "markdown",
   "id": "97649200-c7ab-4041-bb19-f7ab6363ead3",
   "metadata": {},
   "source": [
    "## Graphistry register and gcloud init"
   ]
  },
  {
   "cell_type": "code",
   "execution_count": null,
   "id": "a8ad0f91-19b6-4407-9c19-dcbf329354fb",
   "metadata": {},
   "outputs": [],
   "source": [
    "# graphistry register \n",
    "\n",
    "# To specify Graphistry account & server, use:\n",
    "# graphistry.register(api=3, username='...', password='...', protocol='https', server='hub.graphistry.com')\n",
    "# For more options, see https://pygraphistry.readthedocs.io/en/latest/server/register.html\n",
    "\n",
    "graphistry.register(api=3,  \n",
    "                    protocol  = \"http\", \n",
    "                    server    = os.getenv(\"GRAPHISTRY_SERVER\"),\n",
    "                    username  = os.getenv(\"GRAPHISTRY_USERNAME\"),         \n",
    "                    password  = os.getenv(\"GRAPHISTRY_PASSWORD\"), \n",
    "                    spanner_config=SPANNER_CONF\n",
    "                   )"
   ]
  },
  {
   "cell_type": "code",
   "execution_count": null,
   "id": "cd1c8aaf-d927-4989-aab2-3a5d0e8858ca",
   "metadata": {},
   "outputs": [],
   "source": [
    "# Set the google project id\n",
    "!gcloud config set project {PROJECT_ID}\n",
    "%env GOOGLE_CLOUD_PROJECT={PROJECT_ID}"
   ]
  },
  {
   "cell_type": "code",
   "execution_count": null,
   "id": "0a03e44e-12e9-4122-b06e-145defc74652",
   "metadata": {},
   "outputs": [],
   "source": [
    "#!gcloud auth application-default login"
   ]
  },
  {
   "cell_type": "code",
   "execution_count": null,
   "id": "f175d952-c1cc-4793-aad5-0cdb5142b6fe",
   "metadata": {},
   "outputs": [],
   "source": []
  },
  {
   "cell_type": "markdown",
   "id": "c2b02e8c-e919-4260-8979-d22f7ac86002",
   "metadata": {},
   "source": [
    "## Example 1: GQL Path Query to Graphistry Visualization of all nodes and edges (LIMIT optional) \n",
    "\n",
    "to extract the data from Spanner Graph as a graph with nodes and edges in a single object, a GQL path query is required. \n",
    "\n",
    "The format of a path query is as follows, note the p= at the start of the MATCH clause, and the SAFE_TO_JSON(p) without these, \n",
    "the query will not produce the results needed to properly load a graphistry graph. LIMIT is optional, but for large graphs with millions\n",
    "        of edges or more, it's best to filter either in the query or use LIMIT so as not to exhaust GPU memory.  \n",
    "\n",
    "```sql\n",
    "GRAPH FinGraph\n",
    "MATCH p = (a)-[b]->(c) where 1=1 LIMIT 10000 return SAFE_TO_JSON(p) as path\n",
    "```\n"
   ]
  },
  {
   "cell_type": "code",
   "execution_count": null,
   "id": "dd3c4b35-e8e1-43c7-bc66-d94b3d3e8451",
   "metadata": {},
   "outputs": [],
   "source": [
    "query=f'''GRAPH FinGraph\n",
    "MATCH p = (a)-[b]->(c) where 1=1 {LIMIT_CLAUSE} return SAFE_TO_JSON(p) as path'''\n",
    "\n",
    "g = graphistry.spanner_gql_to_g(query)"
   ]
  },
  {
   "cell_type": "code",
   "execution_count": null,
   "id": "0b544ab6-18b4-4fc9-adb1-3137bec62fb7",
   "metadata": {},
   "outputs": [],
   "source": [
    "g.plot()"
   ]
  },
  {
   "cell_type": "code",
   "execution_count": null,
   "id": "89a9f20b-8794-4d1d-8fd8-9f1e2c68f28d",
   "metadata": {},
   "outputs": [],
   "source": []
  },
  {
   "cell_type": "markdown",
   "id": "bc18a3ad-c8bc-48cf-8ef5-bc0013ae3fa0",
   "metadata": {},
   "source": [
    "### Example 1.1 - inspect contents of graphistry graph (nodes and edges): "
   ]
  },
  {
   "cell_type": "code",
   "execution_count": null,
   "id": "936a4908-c62c-44cc-8b77-f56ebea5fca6",
   "metadata": {},
   "outputs": [],
   "source": [
    "len(g._nodes), len(g._edges)"
   ]
  },
  {
   "cell_type": "code",
   "execution_count": null,
   "id": "8bdb6728-324e-4da3-89f9-4be53fd1b50f",
   "metadata": {},
   "outputs": [],
   "source": [
    "g._nodes.head(3)"
   ]
  },
  {
   "cell_type": "code",
   "execution_count": null,
   "id": "d4858f9f-6355-4a53-b1fd-a789c148bdab",
   "metadata": {},
   "outputs": [],
   "source": [
    "g._edges.head(3)"
   ]
  },
  {
   "cell_type": "code",
   "execution_count": null,
   "id": "4fe75ab3-ef30-4b32-ad0a-8cfcc2dfff45",
   "metadata": {},
   "outputs": [],
   "source": []
  },
  {
   "cell_type": "markdown",
   "id": "d3a6150b-3513-4c3d-a696-2b1e9b273a42",
   "metadata": {},
   "source": [
    "## Example 2: Quantified path traversal \n",
    "(slightly modified from example to use a path query for visualization)\n",
    "\n",
    "from: [spanner-graph-getting-started](https://codelabs.developers.google.com/codelabs/spanner-graph-getting-started#6)\n",
    "\n",
    "**Query 2** - Quantified path traversal and return graph elements\n",
    "\n",
    "The following query matches all account money transfers starting from a source account with id=75 within 3 to 6 hops, to reach a destination account with id=199. The {3,6} syntax is used to represent a quantified 3 to 6 hop path traversal between src_accnt and dst_accnt.\n",
    "\n",
    "```sql\n",
    "GRAPH FinGraph\n",
    "MATCH\n",
    "p = (src_accnt:Account {id:75})-[transfers:Transfers]->{3,6}\n",
    "  (dst_accnt:Account {id:199})  \n",
    "RETURN SAFE_TO_JSON(p) as path\n",
    "```\n",
    "\n",
    "Visually, you can think of the quantified edge traversal like below: it starts from a src_account node, and fetches all possible account transfer paths between 3 to 6 hops, to reach dst_account.\n",
    "\n",
    "The highlighted path at the bottom below, for example, is a 6-hop query.\n",
    "\n",
    "<img src=\"https://codelabs.developers.google.com/static/codelabs/spanner-graph-getting-started/img/8165a85878d957ef_856.png\" width=\"800\" height=\"600\" alt=\"query2\" />\n",
    "\n",
    "##### source: https://codelabs.developers.google.com/static/codelabs/spanner-graph-getting-started/#6\n"
   ]
  },
  {
   "cell_type": "code",
   "execution_count": null,
   "id": "cb58e9ff-27e9-4241-a0c6-86bbe1879411",
   "metadata": {},
   "outputs": [],
   "source": [
    "query2='''GRAPH FinGraph\n",
    "MATCH\n",
    "p = (src_accnt:Account {id:75})-[transfers:Transfers]->{3,6}\n",
    "  (dst_accnt:Account {id:199}) where 1=1 \n",
    "RETURN SAFE_TO_JSON(p) as path\n",
    "'''"
   ]
  },
  {
   "cell_type": "code",
   "execution_count": null,
   "id": "fe4f9812-6105-4d22-999a-dea1e62a7820",
   "metadata": {},
   "outputs": [],
   "source": [
    "g2 = graphistry.spanner_gql_to_g(query2)\n",
    "g2.plot()"
   ]
  },
  {
   "cell_type": "code",
   "execution_count": null,
   "id": "71f79ecb-faff-4d8d-a682-0ca332d73e57",
   "metadata": {},
   "outputs": [],
   "source": [
    "#  now run again and retrive all the paths \n",
    "query2a='''GRAPH FinGraph\n",
    "MATCH\n",
    "p = (src_accnt:Account )-[transfers:Transfers]->{3,6}\n",
    "  (dst_accnt:Account ) where 1=1 \n",
    "RETURN SAFE_TO_JSON(p) as path\n",
    "'''\n",
    "g2a = graphistry.spanner_gql_to_g(query2a)\n",
    "g2a.plot()"
   ]
  },
  {
   "cell_type": "code",
   "execution_count": null,
   "id": "ce9220f7-19e2-4123-a036-d22c490b0187",
   "metadata": {},
   "outputs": [],
   "source": []
  },
  {
   "cell_type": "markdown",
   "id": "1a6dbcab-a791-4b60-8d50-51c5e99b268f",
   "metadata": {},
   "source": [
    "## Example 3: Spanner GQL Tabular Query to pandas dataframe (LIMIT optional) \n",
    "\n",
    "This example shows a non-path query that returns tabular results, which are then convered to a dataframe for easy manipulation and inspection of the results. \n",
    "\n",
    "```sql\n",
    "GRAPH FinGraph \n",
    "MATCH (p:Person)-[]-()->(l:Loan)\n",
    "RETURN p.id as ID, p.name AS Name, SUM(l.loan_amount) AS TotalBorrowed\n",
    "ORDER BY TotalBorrowed DESC\n",
    "LIMIT 10```\n",
    "\n"
   ]
  },
  {
   "cell_type": "code",
   "execution_count": null,
   "id": "1379ce57-5c2a-4d20-94b1-2cfc6d2d6677",
   "metadata": {},
   "outputs": [],
   "source": [
    "query_top10='''GRAPH FinGraph \n",
    "MATCH (p:Person)-[:Owns]-(:Account)->(l:Loan) WHERE 1=1\n",
    "RETURN p.id as ID, p.name AS Name, SUM(l.loan_amount) AS TotalBorrowed\n",
    "ORDER BY TotalBorrowed DESC\n",
    "LIMIT 10'''"
   ]
  },
  {
   "cell_type": "code",
   "execution_count": null,
   "id": "facacf92-7758-4796-9595-fc0d2230287c",
   "metadata": {},
   "outputs": [],
   "source": [
    "Top10_Borrowers_df = graphistry.spanner_query_to_df(query_top10)"
   ]
  },
  {
   "cell_type": "code",
   "execution_count": null,
   "id": "d44f1a10-09c3-4407-9de1-01da06f54b2c",
   "metadata": {},
   "outputs": [],
   "source": [
    "Top10_Borrowers_df.head(10)"
   ]
  },
  {
   "cell_type": "code",
   "execution_count": null,
   "id": "a60a7792-9032-4ab4-951f-caeaf129701c",
   "metadata": {},
   "outputs": [],
   "source": []
  },
  {
   "cell_type": "markdown",
   "id": "caee2321-a96c-4eeb-8166-5359b7a63687",
   "metadata": {},
   "source": [
    "## Example 4: Spanner SQL Query to pandas dataframe \n",
    "\n",
    "This example shows a SQL query to Spanner that returns tabular results, which are then convered to a dataframe for easy manipulation and inspection of the results. \n",
    "<br>\n",
    "\n",
    "#### Query: \n",
    "```sql\n",
    "SELECT * from Account\n",
    "```\n",
    "<br>\n",
    "\n",
    "<img src=\"https://storage.googleapis.com/gweb-cloudblog-publish/images/Fig2.max-1000x1000.png\" width=\"800\" height=\"600\" alt=\"Cloudblog image\">\n",
    "\n",
    "\n",
    "##### source: https://cloud.google.com/blog/products/databases/announcing-spanner-graph\n",
    "<br>"
   ]
  },
  {
   "cell_type": "code",
   "execution_count": null,
   "id": "feb8de69-56bc-45d3-a364-af4b5fdd4e42",
   "metadata": {},
   "outputs": [],
   "source": [
    "accounts_df =  graphistry.spanner_query_to_df('SELECT * from Account')"
   ]
  },
  {
   "cell_type": "code",
   "execution_count": null,
   "id": "97308e97-8a5d-4546-9324-049b4a2af0a5",
   "metadata": {},
   "outputs": [],
   "source": [
    "accounts_df.head(10)"
   ]
  },
  {
   "cell_type": "markdown",
   "id": "892cd8dc-6b0d-4ef2-a8d7-49a7ab798355",
   "metadata": {},
   "source": [
    "## Example 5: Spanner SQL Query to inspect the database schema\n",
    "\n",
    "This example shows a SQL query to Spanner that retrieves the tables, columns and types from the information schema in Spanner. This can be helpful for seeing what's available in the database or using this data as part of a workflow. \n",
    "<br>\n",
    "\n",
    "```sql\n",
    "SELECT table_name, column_name, spanner_type FROM information_schema.columns\n",
    "```"
   ]
  },
  {
   "cell_type": "code",
   "execution_count": null,
   "id": "fa101eb2-0098-4e62-ba3c-0a57ceba75ac",
   "metadata": {},
   "outputs": [],
   "source": [
    "columns_df =  graphistry.spanner_query_to_df('SELECT table_name, column_name, spanner_type FROM information_schema.columns')\n",
    "columns_df.head(10)"
   ]
  },
  {
   "cell_type": "code",
   "execution_count": null,
   "id": "e293115a-9d39-43fb-8402-ce6642b8ab74",
   "metadata": {},
   "outputs": [],
   "source": [
    "len(columns_df.table_name.unique())"
   ]
  },
  {
   "cell_type": "code",
   "execution_count": null,
   "id": "bc0a477d-f10e-45da-a102-7a178894351a",
   "metadata": {},
   "outputs": [],
   "source": [
    "query_tables='''\n",
    "SELECT table_name, table_type\n",
    "FROM information_schema.tables\n",
    "WHERE table_catalog = ''\n",
    "  AND table_schema = ''\n",
    "  AND table_type IN ('BASE TABLE', 'VIEW');\n",
    "'''\n",
    "\n",
    "tables_df = graphistry.spanner_query_to_df(query_tables)\n",
    "tables_df"
   ]
  },
  {
   "cell_type": "code",
   "execution_count": null,
   "id": "7c340ea8-9dee-4540-8d97-f0644564ad4f",
   "metadata": {},
   "outputs": [],
   "source": []
  },
  {
   "cell_type": "markdown",
   "id": "ddc8b403-a2d3-45d5-9eb7-c46d445ed179",
   "metadata": {},
   "source": [
    "<!DOCTYPE html>\n",
    "<html lang=\"en\">\n",
    "<head>\n",
    "    <meta charset=\"UTF-8\">\n",
    "    <meta name=\"viewport\" content=\"width=device-width, initial-scale=1.0\">\n",
    "    <style>\n",
    "        body {\n",
    "            font-family: Arial, sans-serif;\n",
    "            margin: 0;\n",
    "            padding: 0;\n",
    "            background-color: #f9f9f9;\n",
    "            color: #333;\n",
    "        }\n",
    "        header {\n",
    "            background-color: #0d47a1;\n",
    "            color: white;\n",
    "            padding: 20px 10%;\n",
    "            text-align: center;\n",
    "        }\n",
    "        header h1 {\n",
    "            margin: 0;\n",
    "            font-size: 2.5em;\n",
    "        }\n",
    "        main {\n",
    "            padding: 20px 10%;\n",
    "        }\n",
    "        a {\n",
    "            color: #0d47a1;\n",
    "            text-decoration: none;\n",
    "        }\n",
    "        a:hover {\n",
    "            text-decoration: underline;\n",
    "        }\n",
    "        .link-section {\n",
    "            margin: 20px 0;\n",
    "        }\n",
    "        .link-section h2 {\n",
    "            font-size: 1.5em;\n",
    "            margin-bottom: 10px;\n",
    "        }\n",
    "        .link-list {\n",
    "            list-style-type: none;\n",
    "            padding: 0;\n",
    "        }\n",
    "        .link-list li {\n",
    "            margin: 10px 0;\n",
    "        }\n",
    "        footer {\n",
    "            background-color: #0d47a1;\n",
    "            color: white;\n",
    "            text-align: center;\n",
    "            padding: 10px 0;\n",
    "            margin-top: 20px;\n",
    "        }\n",
    "    </style>\n",
    "</head>\n",
    "<body>\n",
    "\n",
    "<header>\n",
    "    <h1>Graphistry Resources</h1>\n",
    "</header>\n",
    "\n",
    "<main>\n",
    "    <section class=\"link-section\">\n",
    "        <h2>Quick Start with PyGraphistry</h2>\n",
    "        <p>Get started with PyGraphistry and explore AI-powered visual analytics:</p>\n",
    "        <ul class=\"link-list\">\n",
    "            <li><a href=\"https://github.com/graphistry/pygraphistry/blob/master/demos/10-mins-to-pygraphistry.ipynb\" target=\"_blank\">10-mins to PyGraphistry</a></li>\n",
    "            <li><a href=\"https://www.graphistry.com/get-started\" target=\"_blank\">Graphistry: Get Started</a> - Learn how to leverage Graphistry for your projects.</li>\n",
    "            <li><a href=\"https://louie.ai\" target=\"_blank\">Louie AI</a> - AI-powered data insights and visualization.</li>\n",
    "        </ul>\n",
    "    </section>\n",
    "    <section class=\"link-section\">\n",
    "        <h2>Google Spanner Graph Links</h2>\n",
    "        <p>Explore Google Spanner graph features, documentation, and use cases:</p>\n",
    "        <ul class=\"link-list\">\n",
    "            <li><a href=\"https://cloud.google.com/python/docs/reference/spanner/latest\" target=\"_blank\">Google Spanner Python Documentation</a> - Official Python client library for Google Spanner.</li>\n",
    "            <li><a href=\"https://codelabs.developers.google.com/codelabs/spanner-graph-getting-started\" target=\"_blank\">Spanner Graph Codelab</a> - Hands-on tutorial for getting started with Spanner graph features.</li>\n",
    "            <li><a href=\"https://cloud.google.com/spanner/docs/graph/overview\" target=\"_blank\">Google Spanner Graph Overview</a> - Learn about Spanner's graph processing capabilities.</li>\n",
    "            <li><a href=\"https://cloud.google.com/spanner/docs/graph/queries-overview\" target=\"_blank\">Graph Queries Overview</a> - Understand how to query graph data in Spanner.</li>\n",
    "            <li><a href=\"https://cloud.google.com/spanner/docs/reference/standard-sql/graph-query-statements\" target=\"_blank\">Graph Query Statements</a> - Reference guide for writing graph queries in Spanner.</li>\n",
    "            <li><a href=\"https://cloud.google.com/spanner/docs/schema-and-data-model\" target=\"_blank\">Schema and Data Model</a></li>\n",
    "        </ul>\n",
    "    </section>\n",
    "</main>\n",
    "\n",
    "<footer>\n",
    "    <p>&copy; 2025 Graphistry Resources. All rights reserved.</p>\n",
    "</footer>\n",
    "\n",
    "</body>\n",
    "</html>\n"
   ]
  },
  {
   "cell_type": "code",
   "execution_count": null,
   "id": "14f4b9ed-5d25-479f-8ab2-cc23920df052",
   "metadata": {},
   "outputs": [],
   "source": []
  }
 ],
 "metadata": {
  "kernelspec": {
   "display_name": "venv - spanner-test-1",
   "language": "python",
   "name": "spanner-test-1"
  },
  "language_info": {
   "codemirror_mode": {
    "name": "ipython",
    "version": 3
   },
   "file_extension": ".py",
   "mimetype": "text/x-python",
   "name": "python",
   "nbconvert_exporter": "python",
   "pygments_lexer": "ipython3",
   "version": "3.12.3"
  }
 },
 "nbformat": 4,
 "nbformat_minor": 5
}
