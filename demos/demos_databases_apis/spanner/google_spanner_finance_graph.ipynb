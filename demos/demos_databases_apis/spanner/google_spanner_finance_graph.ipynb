{
 "cells": [
  {
   "cell_type": "code",
   "execution_count": null,
   "id": "9418e0e1-648d-4cd7-a264-9bf910cbcfe3",
   "metadata": {},
   "outputs": [],
   "source": [
    "import graphistry\n",
    "import json\n",
    "graphistry.__version__"
   ]
  },
  {
   "cell_type": "markdown",
   "id": "1407509d-f079-4f66-bc5f-bd93c9510d09",
   "metadata": {},
   "source": [
    "### Settings"
   ]
  },
  {
   "cell_type": "code",
   "execution_count": null,
   "id": "02515636-e226-429a-bac5-6bb61ef69ead",
   "metadata": {},
   "outputs": [],
   "source": [
    "PROJECT_ID   = \"my_project\" \n",
    "INSTANCE_ID  = \"my_instance\" \n",
    "DATABASE_ID  = \"finance-graph-db\"  \n",
    "\n",
    "# optional setting to limit the number of records returned\n",
    "LIMIT_CLAUSE = \"\"\n",
    "# or use: \n",
    "# LIMIT_CLAUSE = \"limit 1000\"  \n",
    "\n",
    "SPANNER_CONF = { \"project_id\":  PROJECT_ID, \n",
    "                 \"instance_id\": INSTANCE_ID, \n",
    "                 \"database_id\": DATABASE_ID }\n",
    "\n",
    "# print(json.dumps(SPANNER_CONF, indent=4))"
   ]
  },
  {
   "cell_type": "markdown",
   "id": "97649200-c7ab-4041-bb19-f7ab6363ead3",
   "metadata": {},
   "source": [
    "### Graphistry register and gcloud init"
   ]
  },
  {
   "cell_type": "code",
   "execution_count": null,
   "id": "a8ad0f91-19b6-4407-9c19-dcbf329354fb",
   "metadata": {},
   "outputs": [],
   "source": [
    "# graphistry register \n",
    "\n",
    "# To specify Graphistry account & server, use:\n",
    "# graphistry.register(api=3, username='...', password='...', protocol='https', server='hub.graphistry.com')\n",
    "# For more options, see https://pygraphistry.readthedocs.io/en/latest/server/register.html\n",
    "\n",
    "graphistry.register(api=3,  \n",
    "                    protocol  = \"http\", \n",
    "                    server    = os.getenv(\"GRAPHISTRY_SERVER\"),\n",
    "                    username  = os.getenv(\"GRAPHISTRY_USERNAME\"),         \n",
    "                    password  = os.getenv(\"GRAPHISTRY_PASSWORD\"), \n",
    "                    spanner_conf=SPANNER_CONF\n",
    "                   )"
   ]
  },
  {
   "cell_type": "code",
   "execution_count": null,
   "id": "cd1c8aaf-d927-4989-aab2-3a5d0e8858ca",
   "metadata": {},
   "outputs": [],
   "source": [
    "# Set the google project id\n",
    "!gcloud config set project {PROJECT_ID}\n",
    "%env GOOGLE_CLOUD_PROJECT={PROJECT_ID}"
   ]
  },
  {
   "cell_type": "code",
   "execution_count": null,
   "id": "4b42c055-2f60-4ac8-975d-f005e37afec0",
   "metadata": {},
   "outputs": [],
   "source": [
    "!gcloud auth application-default login"
   ]
  },
  {
   "cell_type": "markdown",
   "id": "56bc01a7-76ea-44f6-b1cc-c5488c5c5922",
   "metadata": {},
   "source": [
    "### Spanner GQL Query to Graphistry Visualization"
   ]
  },
  {
   "cell_type": "code",
   "execution_count": null,
   "id": "e7ab1379-14bf-4c03-b5b2-28df22609029",
   "metadata": {},
   "outputs": [],
   "source": [
    "query=f'''GRAPH FinGraph\n",
    "MATCH p = (a)-[b]->(c) where 1=1 {LIMIT_CLAUSE} return TO_JSON(p) as path'''\n",
    "\n",
    "g = graphistry.spanner_query(query)"
   ]
  },
  {
   "cell_type": "code",
   "execution_count": null,
   "id": "aeead725-928a-44fe-b5b5-630c830502e0",
   "metadata": {},
   "outputs": [],
   "source": [
    "g.plot()"
   ]
  },
  {
   "cell_type": "code",
   "execution_count": null,
   "id": "5f172d3e-108a-4a18-a88e-e012988013c5",
   "metadata": {},
   "outputs": [],
   "source": []
  },
  {
   "cell_type": "markdown",
   "id": "b40b6dae-0770-4839-a392-7cf16bee65d6",
   "metadata": {},
   "source": [
    "#### inspect contents of graphistry graph (nodes and edges): "
   ]
  },
  {
   "cell_type": "code",
   "execution_count": null,
   "id": "1fed46dd-2bb5-4563-9a21-920d299ba30d",
   "metadata": {},
   "outputs": [],
   "source": [
    "len(g._nodes), len(g._edges)"
   ]
  },
  {
   "cell_type": "code",
   "execution_count": null,
   "id": "ad33fde2-3aae-4da0-8532-41d489c6fff1",
   "metadata": {},
   "outputs": [],
   "source": [
    "g._nodes.head(3)"
   ]
  },
  {
   "cell_type": "code",
   "execution_count": null,
   "id": "279f4cb9-daa1-4c2b-af69-85a5b0a771fb",
   "metadata": {},
   "outputs": [],
   "source": [
    "g._edges.head(3)"
   ]
  },
  {
   "cell_type": "code",
   "execution_count": null,
   "id": "2a60ee00-055d-4cee-b286-c5e3d6d85f09",
   "metadata": {},
   "outputs": [],
   "source": []
  },
  {
   "cell_type": "code",
   "execution_count": null,
   "id": "11e41457-303c-4d5e-ae0e-7015db33d9f7",
   "metadata": {},
   "outputs": [],
   "source": []
  }
 ],
 "metadata": {
  "kernelspec": {
   "display_name": "venv - spanner-test-1",
   "language": "python",
   "name": "spanner-test-1"
  },
  "language_info": {
   "codemirror_mode": {
    "name": "ipython",
    "version": 3
   },
   "file_extension": ".py",
   "mimetype": "text/x-python",
   "name": "python",
   "nbconvert_exporter": "python",
   "pygments_lexer": "ipython3",
   "version": "3.12.3"
  }
 },
 "nbformat": 4,
 "nbformat_minor": 5
}
