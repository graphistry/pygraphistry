{
 "cells": [
  {
   "cell_type": "markdown",
   "id": "19a73e4f-c046-4ec9-acb7-472e4888e810",
   "metadata": {},
   "source": [
    "<table style=\"margin-left: 0; border: none; padding: 10px; font-family: Arial, sans-serif; text-align: center;\">\n",
    "  <tr>\n",
    "    <td style=\"text-align: left; vertical-align: left;\">\n",
    "      <img src=\"https://pygraphistry.readthedocs.io/en/latest/_static/graphistry_banner_transparent_colored.png\" \n",
    "           alt=\"Graphistry Logo\" \n",
    "           width=\"300\"> \n",
    "    </td>\n",
    "    <td style=\"text-align: left; vertical-align: left;\">\n",
    "      <img src=\"data:image/jpeg;base64,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\" alt=\"Google Cloud Spanner Logo\" width=\"300\"/>\n",
    "    </td>\n",
    "  </tr>\n",
    "</table>\n"
   ]
  },
  {
   "cell_type": "markdown",
   "id": "814017ae-af4e-4331-b0b0-ed016d010ade",
   "metadata": {},
   "source": [
    "# Demo Notebook - Graphistry and Google Spanner Graph \n",
    "\n",
    "Graphistry is a cutting-edge platform for large-scale visual graph exploration and analysis. It enables users to intuitively investigate complex relationships, patterns and anomalies across vast datasets through highly interactive, GPU-accelerated visualizations. Google Cloud Spanner, on the other hand, is a globally distributed, horizontally scalable, and strongly consistent database ideal for managing large, interconnected datasets.\n",
    "\n",
    "This interactive guide demonstrates how to combine the power of Graphistry's visual graph analytics and AI with the robust data capabilities of Google Cloud Spanner Graph. Together, these technologies empower you to:\n",
    "\n",
    "- **Visualize Complex Graphs**: Easily explore relationships and uncover insights in your data through rich visual representations.\n",
    "- **Handle Large Datasets**: Leverage Cloud Spanner’s ability to manage vast amounts of interconnected information with strong consistency and scalability.\n",
    "- **Perform Advanced Analytics**: Apply graph-based algorithms and clustering techniques to extract actionable insights from structured data.\n",
    "\n",
    "This demo is designed for:\n",
    "- **Data Scientists**: Interested in adding visual graph analytics to their toolkit.\n",
    "- **Database Engineers**: Looking to integrate graph capabilities into their Cloud Spanner workflows.\n",
    "- **Application Developer**: Prototyping applications built using Graphistry and Google Spanner \n",
    "\n",
    "This notebook showcases:\n",
    "1. **Connecting to Cloud Spanner**: How to retrieve and preprocess data from Cloud Spanner for graph processing.\n",
    "2. **Graph Visualization with Graphistry**: Turning raw data into meaningful visualizations to explore relationships and clusters.\n",
    "3. **Real-World Use Cases**: Applying these tools to solve practical problems \n",
    "\n",
    "## Prerequisites\n",
    "\n",
    "- A Google Cloud account with access to Cloud Spanner.\n",
    "- A Graphistry Enterprise Server or free-tier [Graphistry Hub account](https://www.graphistry.com/get-started) \n",
    "- Python environment with Graphistry and gcloud spanner support (see pip install below) \n",
    "- This demo is based on [FinGraph sample graph](https://codelabs.developers.google.com/codelabs/spanner-graph-getting-started#0)\n",
    "\n",
    "### Let’s Get Started!\n",
    "\n",
    "Dive in and see how the synergy of Graphistry and Google Cloud Spanner can transform your data exploration and analysis workflows."
   ]
  },
  {
   "cell_type": "code",
   "execution_count": null,
   "id": "970195db-a67f-4cb0-b5d0-6927ecebb166",
   "metadata": {},
   "outputs": [],
   "source": [
    "# intall required dependecies for graphistry + google spanner \n",
    "!pip install --upgrade graphistry[spanner]"
   ]
  },
  {
   "cell_type": "code",
   "execution_count": null,
   "id": "c7635e00-1e7f-4c18-9a41-f2f0bde89d21",
   "metadata": {},
   "outputs": [],
   "source": [
    "!pip list | grep graphistry"
   ]
  },
  {
   "cell_type": "code",
   "execution_count": null,
   "id": "9418e0e1-648d-4cd7-a264-9bf910cbcfe3",
   "metadata": {},
   "outputs": [],
   "source": [
    "import graphistry\n",
    "graphistry.__version__"
   ]
  },
  {
   "cell_type": "markdown",
   "id": "1407509d-f079-4f66-bc5f-bd93c9510d09",
   "metadata": {},
   "source": [
    "## Settings"
   ]
  },
  {
   "cell_type": "code",
   "execution_count": null,
   "id": "02515636-e226-429a-bac5-6bb61ef69ead",
   "metadata": {},
   "outputs": [],
   "source": [
    "PROJECT_ID   = \"my_project\" \n",
    "INSTANCE_ID  = \"my_instance\" \n",
    "DATABASE_ID  = \"finance-graph-db\"  \n",
    "\n",
    "# optional setting to limit the number of records returned\n",
    "LIMIT_CLAUSE = \"\"\n",
    "# or use: \n",
    "# LIMIT_CLAUSE = \"limit 1000\"  \n",
    "\n",
    "# google settings, option 1: interactive login using gcloud auth application-default login (below)\n",
    "SPANNER_CONF = { \"project_id\":  PROJECT_ID, \n",
    "                 \"instance_id\": INSTANCE_ID, \n",
    "                 \"database_id\": DATABASE_ID }\n",
    "\n",
    "# google settings, option 2: use a service account key: \n",
    "\n",
    "# KEY_FILE=\"/path/to/credentials.json\"\n",
    "# SPANNER_CONF = { \"project_id\":       PROJECT_ID, \n",
    "#                  \"instance_id\":      INSTANCE_ID, \n",
    "#                  \"database_id\":      DATABASE_ID, \n",
    "#                  \"credentials_file\": KEY_FILE}\n"
   ]
  },
  {
   "cell_type": "markdown",
   "id": "97649200-c7ab-4041-bb19-f7ab6363ead3",
   "metadata": {},
   "source": [
    "## Graphistry register and gcloud init"
   ]
  },
  {
   "cell_type": "code",
   "execution_count": null,
   "id": "a8ad0f91-19b6-4407-9c19-dcbf329354fb",
   "metadata": {},
   "outputs": [],
   "source": [
    "# graphistry register \n",
    "\n",
    "# To specify Graphistry account & server, use:\n",
    "# graphistry.register(api=3, username='...', password='...', protocol='https', server='hub.graphistry.com')\n",
    "# For more options, see https://pygraphistry.readthedocs.io/en/latest/server/register.html\n",
    "\n",
    "import os \n",
    "\n",
    "graphistry.register(api=3,  \n",
    "                    protocol  = \"https\", \n",
    "                    server    = os.getenv(\"GRAPHISTRY_SERVER\"),\n",
    "                    username  = os.getenv(\"GRAPHISTRY_USERNAME\"),         \n",
    "                    password  = os.getenv(\"GRAPHISTRY_PASSWORD\"), \n",
    "                    spanner_config=SPANNER_CONF\n",
    "                   )"
   ]
  },
  {
   "cell_type": "code",
   "execution_count": null,
   "id": "cd1c8aaf-d927-4989-aab2-3a5d0e8858ca",
   "metadata": {},
   "outputs": [],
   "source": [
    "# Set the google project id\n",
    "!gcloud config set project {PROJECT_ID}\n",
    "%env GOOGLE_CLOUD_PROJECT={PROJECT_ID}"
   ]
  },
  {
   "cell_type": "markdown",
   "id": "bb895e0d-b2a4-474e-aba9-46f791ec9600",
   "metadata": {},
   "source": [
    "### Google web-based auth below, only required if not using a credentials json file:"
   ]
  },
  {
   "cell_type": "code",
   "execution_count": null,
   "id": "f175d952-c1cc-4793-aad5-0cdb5142b6fe",
   "metadata": {},
   "outputs": [],
   "source": [
    "#!gcloud auth application-default login"
   ]
  },
  {
   "cell_type": "markdown",
   "id": "c2b02e8c-e919-4260-8979-d22f7ac86002",
   "metadata": {},
   "source": [
    "## Example 1: GQL Path Query to Graphistry Visualization of all nodes and edges (LIMIT optional) \n",
    "\n",
    "to extract the data from Spanner Graph as a graph with nodes and edges in a single object, a GQL path query is required. \n",
    "\n",
    "The format of a path query is as follows, note the p= at the start of the MATCH clause, and the SAFE_TO_JSON(p) without these, \n",
    "the query will not produce the results needed to properly load a graphistry graph. LIMIT is optional, but for large graphs with millions\n",
    "        of edges or more, it's best to filter either in the query or use LIMIT so as not to exhaust GPU memory.  \n",
    "\n",
    "```\n",
    "GRAPH FinGraph\n",
    "MATCH p = (a)-[b]->(c) where 1=1 LIMIT 10000 return SAFE_TO_JSON(p) as path\n",
    "```\n"
   ]
  },
  {
   "cell_type": "code",
   "execution_count": null,
   "id": "dd3c4b35-e8e1-43c7-bc66-d94b3d3e8451",
   "metadata": {},
   "outputs": [],
   "source": [
    "query=f'''GRAPH FinGraph\n",
    "MATCH p = (a)-[b]->(c) where 1=1 {LIMIT_CLAUSE} return SAFE_TO_JSON(p) as path'''\n",
    "\n",
    "g = graphistry.spanner_gql_to_g(query)"
   ]
  },
  {
   "cell_type": "code",
   "execution_count": 8,
   "id": "0b544ab6-18b4-4fc9-adb1-3137bec62fb7",
   "metadata": {},
   "outputs": [
    {
     "data": {
      "text/html": [
       "\n",
       "            <iframe id=\"e2ca7ab1-86c9-4d86-bc6d-ec27d1357700\" src=\"https://hub.graphistry.com/graph/graph.html?dataset=ac41f1bb17eb48428008e05ccbfd80cf&type=arrow&viztoken=c2925b6c-22ce-4c4c-bf6a-68fe1ae9a899&usertag=7d7e7d55-pygraphistry-0.35.8&splashAfter=1737600218&info=true\"\n",
       "                    allowfullscreen=\"true\" webkitallowfullscreen=\"true\" mozallowfullscreen=\"true\"\n",
       "                    oallowfullscreen=\"true\" msallowfullscreen=\"true\"\n",
       "                    style=\"width:100%; height:500px; border: 1px solid #DDD; overflow: hidden\"\n",
       "                    \n",
       "            >\n",
       "            </iframe>\n",
       "        \n",
       "            <script>\n",
       "                try {\n",
       "                  $(\"#e2ca7ab1-86c9-4d86-bc6d-ec27d1357700\").bind('mousewheel', function(e) { e.preventDefault(); });\n",
       "                } catch (e) { console.error('exn catching scroll', e); }\n",
       "            </script>\n",
       "        "
      ],
      "text/plain": [
       "<IPython.core.display.HTML object>"
      ]
     },
     "execution_count": 8,
     "metadata": {},
     "output_type": "execute_result"
    }
   ],
   "source": [
    "g.plot()"
   ]
  },
  {
   "cell_type": "code",
   "execution_count": null,
   "id": "89a9f20b-8794-4d1d-8fd8-9f1e2c68f28d",
   "metadata": {},
   "outputs": [],
   "source": []
  },
  {
   "cell_type": "markdown",
   "id": "bc18a3ad-c8bc-48cf-8ef5-bc0013ae3fa0",
   "metadata": {},
   "source": [
    "### Example 1.1 - inspect contents of graphistry graph (nodes and edges): "
   ]
  },
  {
   "cell_type": "code",
   "execution_count": null,
   "id": "936a4908-c62c-44cc-8b77-f56ebea5fca6",
   "metadata": {},
   "outputs": [],
   "source": [
    "len(g._nodes), len(g._edges)"
   ]
  },
  {
   "cell_type": "code",
   "execution_count": null,
   "id": "8bdb6728-324e-4da3-89f9-4be53fd1b50f",
   "metadata": {},
   "outputs": [],
   "source": [
    "g._nodes.head(3)"
   ]
  },
  {
   "cell_type": "code",
   "execution_count": null,
   "id": "d4858f9f-6355-4a53-b1fd-a789c148bdab",
   "metadata": {},
   "outputs": [],
   "source": [
    "g._edges.head(3)"
   ]
  },
  {
   "cell_type": "code",
   "execution_count": null,
   "id": "4fe75ab3-ef30-4b32-ad0a-8cfcc2dfff45",
   "metadata": {},
   "outputs": [],
   "source": []
  },
  {
   "cell_type": "markdown",
   "id": "d3a6150b-3513-4c3d-a696-2b1e9b273a42",
   "metadata": {},
   "source": [
    "## Example 2: Quantified path traversal \n",
    "(slightly modified from example to use a path query for visualization)\n",
    "\n",
    "from: [spanner-graph-getting-started](https://codelabs.developers.google.com/codelabs/spanner-graph-getting-started#6)\n",
    "\n",
    "**Query 2** - Quantified path traversal and return graph elements\n",
    "\n",
    "The following query matches all account money transfers starting from a source account with id=75 within 3 to 6 hops, to reach a destination account with id=199. The {3,6} syntax is used to represent a quantified 3 to 6 hop path traversal between src_accnt and dst_accnt.\n",
    "\n",
    "```\n",
    "GRAPH FinGraph\n",
    "MATCH\n",
    "p = (src_accnt:Account {id:75})-[transfers:Transfers]->{3,6}\n",
    "  (dst_accnt:Account {id:199})  \n",
    "RETURN SAFE_TO_JSON(p) as path\n",
    "```\n",
    "\n",
    "Visually, you can think of the quantified edge traversal like below: it starts from a src_account node, and fetches all possible account transfer paths between 3 to 6 hops, to reach dst_account.\n",
    "\n",
    "The highlighted path at the bottom below, for example, is a 6-hop query.\n",
    "\n",
    "![query2](https://codelabs.developers.google.com/static/codelabs/spanner-graph-getting-started/img/8165a85878d957ef_856.png)\n",
    "\n",
    "source: https://codelabs.developers.google.com/static/codelabs/spanner-graph-getting-started/#6\n"
   ]
  },
  {
   "cell_type": "code",
   "execution_count": null,
   "id": "cb58e9ff-27e9-4241-a0c6-86bbe1879411",
   "metadata": {},
   "outputs": [],
   "source": [
    "query2='''GRAPH FinGraph\n",
    "MATCH\n",
    "p = (src_accnt:Account {id:75})-[transfers:Transfers]->{3,6}\n",
    "  (dst_accnt:Account {id:199}) where 1=1 \n",
    "RETURN SAFE_TO_JSON(p) as path\n",
    "'''"
   ]
  },
  {
   "cell_type": "code",
   "execution_count": 13,
   "id": "fe4f9812-6105-4d22-999a-dea1e62a7820",
   "metadata": {},
   "outputs": [
    {
     "data": {
      "text/html": [
       "\n",
       "            <iframe id=\"458d9f25-de09-401c-b22e-b1dbfb9219fa\" src=\"https://hub.graphistry.com/graph/graph.html?dataset=664a27faca7c4aa89ebe8ce2620d927d&type=arrow&viztoken=689a935d-9876-4786-969f-571c232525ea&usertag=7d7e7d55-pygraphistry-0.35.8&splashAfter=1737600219&info=true\"\n",
       "                    allowfullscreen=\"true\" webkitallowfullscreen=\"true\" mozallowfullscreen=\"true\"\n",
       "                    oallowfullscreen=\"true\" msallowfullscreen=\"true\"\n",
       "                    style=\"width:100%; height:500px; border: 1px solid #DDD; overflow: hidden\"\n",
       "                    \n",
       "            >\n",
       "            </iframe>\n",
       "        \n",
       "            <script>\n",
       "                try {\n",
       "                  $(\"#458d9f25-de09-401c-b22e-b1dbfb9219fa\").bind('mousewheel', function(e) { e.preventDefault(); });\n",
       "                } catch (e) { console.error('exn catching scroll', e); }\n",
       "            </script>\n",
       "        "
      ],
      "text/plain": [
       "<IPython.core.display.HTML object>"
      ]
     },
     "execution_count": 13,
     "metadata": {},
     "output_type": "execute_result"
    }
   ],
   "source": [
    "g2 = graphistry.spanner_gql_to_g(query2)\n",
    "g2.plot()"
   ]
  },
  {
   "cell_type": "code",
   "execution_count": null,
   "id": "71f79ecb-faff-4d8d-a682-0ca332d73e57",
   "metadata": {},
   "outputs": [],
   "source": [
    "#  now run again and retrive all the paths \n",
    "query2a='''GRAPH FinGraph\n",
    "MATCH\n",
    "p = (src_accnt:Account )-[transfers:Transfers]->{3,6}\n",
    "  (dst_accnt:Account ) where 1=1 \n",
    "RETURN SAFE_TO_JSON(p) as path\n",
    "'''\n",
    "g2a = graphistry.spanner_gql_to_g(query2a)\n",
    "g2a.plot()"
   ]
  },
  {
   "cell_type": "code",
   "execution_count": null,
   "id": "ce9220f7-19e2-4123-a036-d22c490b0187",
   "metadata": {},
   "outputs": [],
   "source": []
  },
  {
   "cell_type": "markdown",
   "id": "1a6dbcab-a791-4b60-8d50-51c5e99b268f",
   "metadata": {},
   "source": [
    "## Example 3: Spanner GQL Tabular Query to pandas dataframe (LIMIT optional) \n",
    "\n",
    "This example shows a non-path query that returns tabular results, which are then convered to a dataframe for easy manipulation and inspection of the results. \n",
    "\n",
    "```\n",
    "GRAPH FinGraph \n",
    "MATCH (p:Person)-[]-()->(l:Loan)\n",
    "RETURN p.id as ID, p.name AS Name, SUM(l.loan_amount) AS TotalBorrowed\n",
    "ORDER BY TotalBorrowed DESC\n",
    "LIMIT 10```\n",
    "\n"
   ]
  },
  {
   "cell_type": "code",
   "execution_count": null,
   "id": "1379ce57-5c2a-4d20-94b1-2cfc6d2d6677",
   "metadata": {},
   "outputs": [],
   "source": [
    "query_top10='''GRAPH FinGraph \n",
    "MATCH (p:Person)-[:Owns]-(:Account)->(l:Loan) WHERE 1=1\n",
    "RETURN p.id as ID, p.name AS Name, SUM(l.loan_amount) AS TotalBorrowed\n",
    "ORDER BY TotalBorrowed DESC\n",
    "LIMIT 10'''"
   ]
  },
  {
   "cell_type": "code",
   "execution_count": null,
   "id": "facacf92-7758-4796-9595-fc0d2230287c",
   "metadata": {},
   "outputs": [],
   "source": [
    "Top10_Borrowers_df = graphistry.spanner_query_to_df(query_top10)"
   ]
  },
  {
   "cell_type": "code",
   "execution_count": 17,
   "id": "d44f1a10-09c3-4407-9de1-01da06f54b2c",
   "metadata": {},
   "outputs": [
    {
     "data": {
      "text/html": [
       "<div>\n",
       "<style scoped>\n",
       "    .dataframe tbody tr th:only-of-type {\n",
       "        vertical-align: middle;\n",
       "    }\n",
       "\n",
       "    .dataframe tbody tr th {\n",
       "        vertical-align: top;\n",
       "    }\n",
       "\n",
       "    .dataframe thead th {\n",
       "        text-align: right;\n",
       "    }\n",
       "</style>\n",
       "<table border=\"1\" class=\"dataframe\">\n",
       "  <thead>\n",
       "    <tr style=\"text-align: right;\">\n",
       "      <th></th>\n",
       "      <th>ID</th>\n",
       "      <th>Name</th>\n",
       "      <th>TotalBorrowed</th>\n",
       "    </tr>\n",
       "  </thead>\n",
       "  <tbody>\n",
       "    <tr>\n",
       "      <th>0</th>\n",
       "      <td>337</td>\n",
       "      <td>Tutmarc</td>\n",
       "      <td>15269003.6</td>\n",
       "    </tr>\n",
       "    <tr>\n",
       "      <th>1</th>\n",
       "      <td>484</td>\n",
       "      <td>Greiner</td>\n",
       "      <td>14098853.6</td>\n",
       "    </tr>\n",
       "    <tr>\n",
       "      <th>2</th>\n",
       "      <td>370</td>\n",
       "      <td>Morrisseau</td>\n",
       "      <td>13912146.2</td>\n",
       "    </tr>\n",
       "    <tr>\n",
       "      <th>3</th>\n",
       "      <td>113</td>\n",
       "      <td>Paakkonen</td>\n",
       "      <td>13022928.4</td>\n",
       "    </tr>\n",
       "    <tr>\n",
       "      <th>4</th>\n",
       "      <td>416</td>\n",
       "      <td>Greif</td>\n",
       "      <td>12713990.0</td>\n",
       "    </tr>\n",
       "    <tr>\n",
       "      <th>5</th>\n",
       "      <td>68</td>\n",
       "      <td>Cabon</td>\n",
       "      <td>12256398.8</td>\n",
       "    </tr>\n",
       "    <tr>\n",
       "      <th>6</th>\n",
       "      <td>66</td>\n",
       "      <td>Stinson</td>\n",
       "      <td>11462716.8</td>\n",
       "    </tr>\n",
       "    <tr>\n",
       "      <th>7</th>\n",
       "      <td>46</td>\n",
       "      <td>Riby</td>\n",
       "      <td>10772732.5</td>\n",
       "    </tr>\n",
       "    <tr>\n",
       "      <th>8</th>\n",
       "      <td>406</td>\n",
       "      <td>Jöhncke</td>\n",
       "      <td>10470230.8</td>\n",
       "    </tr>\n",
       "    <tr>\n",
       "      <th>9</th>\n",
       "      <td>169</td>\n",
       "      <td>Gubenko</td>\n",
       "      <td>10330528.5</td>\n",
       "    </tr>\n",
       "  </tbody>\n",
       "</table>\n",
       "</div>"
      ],
      "text/plain": [
       "    ID        Name  TotalBorrowed\n",
       "0  337     Tutmarc     15269003.6\n",
       "1  484     Greiner     14098853.6\n",
       "2  370  Morrisseau     13912146.2\n",
       "3  113   Paakkonen     13022928.4\n",
       "4  416       Greif     12713990.0\n",
       "5   68       Cabon     12256398.8\n",
       "6   66     Stinson     11462716.8\n",
       "7   46        Riby     10772732.5\n",
       "8  406     Jöhncke     10470230.8\n",
       "9  169     Gubenko     10330528.5"
      ]
     },
     "execution_count": 17,
     "metadata": {},
     "output_type": "execute_result"
    }
   ],
   "source": [
    "Top10_Borrowers_df.head(10)"
   ]
  },
  {
   "cell_type": "code",
   "execution_count": null,
   "id": "a60a7792-9032-4ab4-951f-caeaf129701c",
   "metadata": {},
   "outputs": [],
   "source": []
  },
  {
   "cell_type": "markdown",
   "id": "14486fdc-6c15-4662-887e-5c83d0c903bd",
   "metadata": {},
   "source": [
    "## Example 4: Spanner SQL Query to pandas dataframe \n",
    "\n",
    "This example shows a SQL query to Spanner that returns tabular results, which are then convered to a dataframe for easy manipulation and inspection of the results. \n",
    "\n",
    "### Query: \n",
    "```sql\n",
    "SELECT * from Account\n",
    "```\n",
    "\n",
    "\n",
    "![Cloudblog image](https://storage.googleapis.com/gweb-cloudblog-publish/images/Fig2.max-1000x1000.png)\n",
    "\n",
    "\n",
    "source: https://cloud.google.com/blog/products/databases/announcing-spanner-graph\n"
   ]
  },
  {
   "cell_type": "code",
   "execution_count": null,
   "id": "feb8de69-56bc-45d3-a364-af4b5fdd4e42",
   "metadata": {},
   "outputs": [],
   "source": [
    "accounts_df =  graphistry.spanner_query_to_df('SELECT * from Account')"
   ]
  },
  {
   "cell_type": "code",
   "execution_count": 19,
   "id": "97308e97-8a5d-4546-9324-049b4a2af0a5",
   "metadata": {},
   "outputs": [
    {
     "data": {
      "text/html": [
       "<div>\n",
       "<style scoped>\n",
       "    .dataframe tbody tr th:only-of-type {\n",
       "        vertical-align: middle;\n",
       "    }\n",
       "\n",
       "    .dataframe tbody tr th {\n",
       "        vertical-align: top;\n",
       "    }\n",
       "\n",
       "    .dataframe thead th {\n",
       "        text-align: right;\n",
       "    }\n",
       "</style>\n",
       "<table border=\"1\" class=\"dataframe\">\n",
       "  <thead>\n",
       "    <tr style=\"text-align: right;\">\n",
       "      <th></th>\n",
       "      <th>id</th>\n",
       "      <th>create_time</th>\n",
       "      <th>is_blocked</th>\n",
       "      <th>type</th>\n",
       "    </tr>\n",
       "  </thead>\n",
       "  <tbody>\n",
       "    <tr>\n",
       "      <th>0</th>\n",
       "      <td>1</td>\n",
       "      <td>2020-01-10 14:22:20.222000+00:00</td>\n",
       "      <td>False</td>\n",
       "      <td>brokerage account</td>\n",
       "    </tr>\n",
       "    <tr>\n",
       "      <th>1</th>\n",
       "      <td>2</td>\n",
       "      <td>2020-01-28 01:55:09.206000+00:00</td>\n",
       "      <td>False</td>\n",
       "      <td>prepaid card</td>\n",
       "    </tr>\n",
       "    <tr>\n",
       "      <th>2</th>\n",
       "      <td>3</td>\n",
       "      <td>2020-02-18 13:44:20.655000+00:00</td>\n",
       "      <td>False</td>\n",
       "      <td>brokerage account</td>\n",
       "    </tr>\n",
       "    <tr>\n",
       "      <th>3</th>\n",
       "      <td>4</td>\n",
       "      <td>2020-02-29 16:49:53.902000+00:00</td>\n",
       "      <td>False</td>\n",
       "      <td>debit card</td>\n",
       "    </tr>\n",
       "    <tr>\n",
       "      <th>4</th>\n",
       "      <td>5</td>\n",
       "      <td>2020-03-02 20:47:18.726000+00:00</td>\n",
       "      <td>False</td>\n",
       "      <td>brokerage account</td>\n",
       "    </tr>\n",
       "    <tr>\n",
       "      <th>5</th>\n",
       "      <td>6</td>\n",
       "      <td>2020-03-21 22:25:34.327000+00:00</td>\n",
       "      <td>False</td>\n",
       "      <td>custodial account</td>\n",
       "    </tr>\n",
       "    <tr>\n",
       "      <th>6</th>\n",
       "      <td>7</td>\n",
       "      <td>2020-04-14 00:53:48.932000+00:00</td>\n",
       "      <td>False</td>\n",
       "      <td>brokerage account</td>\n",
       "    </tr>\n",
       "    <tr>\n",
       "      <th>7</th>\n",
       "      <td>8</td>\n",
       "      <td>2020-04-15 03:08:15.427000+00:00</td>\n",
       "      <td>True</td>\n",
       "      <td>trust account</td>\n",
       "    </tr>\n",
       "    <tr>\n",
       "      <th>8</th>\n",
       "      <td>9</td>\n",
       "      <td>2020-04-20 13:20:25.717000+00:00</td>\n",
       "      <td>False</td>\n",
       "      <td>certificate of deposit</td>\n",
       "    </tr>\n",
       "    <tr>\n",
       "      <th>9</th>\n",
       "      <td>10</td>\n",
       "      <td>2020-04-26 00:12:17.773000+00:00</td>\n",
       "      <td>False</td>\n",
       "      <td>debit card</td>\n",
       "    </tr>\n",
       "  </tbody>\n",
       "</table>\n",
       "</div>"
      ],
      "text/plain": [
       "   id                      create_time  is_blocked                    type\n",
       "0   1 2020-01-10 14:22:20.222000+00:00       False       brokerage account\n",
       "1   2 2020-01-28 01:55:09.206000+00:00       False            prepaid card\n",
       "2   3 2020-02-18 13:44:20.655000+00:00       False       brokerage account\n",
       "3   4 2020-02-29 16:49:53.902000+00:00       False              debit card\n",
       "4   5 2020-03-02 20:47:18.726000+00:00       False       brokerage account\n",
       "5   6 2020-03-21 22:25:34.327000+00:00       False       custodial account\n",
       "6   7 2020-04-14 00:53:48.932000+00:00       False       brokerage account\n",
       "7   8 2020-04-15 03:08:15.427000+00:00        True           trust account\n",
       "8   9 2020-04-20 13:20:25.717000+00:00       False  certificate of deposit\n",
       "9  10 2020-04-26 00:12:17.773000+00:00       False              debit card"
      ]
     },
     "execution_count": 19,
     "metadata": {},
     "output_type": "execute_result"
    }
   ],
   "source": [
    "accounts_df.head(10)"
   ]
  },
  {
   "cell_type": "markdown",
   "id": "892cd8dc-6b0d-4ef2-a8d7-49a7ab798355",
   "metadata": {},
   "source": [
    "## Example 5: Spanner SQL Query to inspect the database schema\n",
    "\n",
    "This example shows a SQL query to Spanner that retrieves the tables, columns and types from the information schema in Spanner. This can be helpful for seeing what's available in the database or using this data as part of a workflow. \n",
    "<br>\n",
    "\n",
    "```sql\n",
    "SELECT table_name, column_name, spanner_type FROM information_schema.columns\n",
    "```"
   ]
  },
  {
   "cell_type": "code",
   "execution_count": 20,
   "id": "fa101eb2-0098-4e62-ba3c-0a57ceba75ac",
   "metadata": {},
   "outputs": [
    {
     "data": {
      "text/html": [
       "<div>\n",
       "<style scoped>\n",
       "    .dataframe tbody tr th:only-of-type {\n",
       "        vertical-align: middle;\n",
       "    }\n",
       "\n",
       "    .dataframe tbody tr th {\n",
       "        vertical-align: top;\n",
       "    }\n",
       "\n",
       "    .dataframe thead th {\n",
       "        text-align: right;\n",
       "    }\n",
       "</style>\n",
       "<table border=\"1\" class=\"dataframe\">\n",
       "  <thead>\n",
       "    <tr style=\"text-align: right;\">\n",
       "      <th></th>\n",
       "      <th>table_name</th>\n",
       "      <th>column_name</th>\n",
       "      <th>spanner_type</th>\n",
       "    </tr>\n",
       "  </thead>\n",
       "  <tbody>\n",
       "    <tr>\n",
       "      <th>0</th>\n",
       "      <td>Account</td>\n",
       "      <td>id</td>\n",
       "      <td>INT64</td>\n",
       "    </tr>\n",
       "    <tr>\n",
       "      <th>1</th>\n",
       "      <td>Account</td>\n",
       "      <td>create_time</td>\n",
       "      <td>TIMESTAMP</td>\n",
       "    </tr>\n",
       "    <tr>\n",
       "      <th>2</th>\n",
       "      <td>Account</td>\n",
       "      <td>is_blocked</td>\n",
       "      <td>BOOL</td>\n",
       "    </tr>\n",
       "    <tr>\n",
       "      <th>3</th>\n",
       "      <td>Account</td>\n",
       "      <td>type</td>\n",
       "      <td>STRING(MAX)</td>\n",
       "    </tr>\n",
       "    <tr>\n",
       "      <th>4</th>\n",
       "      <td>AccountAudits</td>\n",
       "      <td>id</td>\n",
       "      <td>INT64</td>\n",
       "    </tr>\n",
       "    <tr>\n",
       "      <th>5</th>\n",
       "      <td>AccountAudits</td>\n",
       "      <td>audit_timestamp</td>\n",
       "      <td>TIMESTAMP</td>\n",
       "    </tr>\n",
       "    <tr>\n",
       "      <th>6</th>\n",
       "      <td>AccountAudits</td>\n",
       "      <td>audit_details</td>\n",
       "      <td>STRING(MAX)</td>\n",
       "    </tr>\n",
       "    <tr>\n",
       "      <th>7</th>\n",
       "      <td>AccountRepayLoan</td>\n",
       "      <td>id</td>\n",
       "      <td>INT64</td>\n",
       "    </tr>\n",
       "    <tr>\n",
       "      <th>8</th>\n",
       "      <td>AccountRepayLoan</td>\n",
       "      <td>loan_id</td>\n",
       "      <td>INT64</td>\n",
       "    </tr>\n",
       "    <tr>\n",
       "      <th>9</th>\n",
       "      <td>AccountRepayLoan</td>\n",
       "      <td>amount</td>\n",
       "      <td>FLOAT64</td>\n",
       "    </tr>\n",
       "  </tbody>\n",
       "</table>\n",
       "</div>"
      ],
      "text/plain": [
       "         table_name      column_name spanner_type\n",
       "0           Account               id        INT64\n",
       "1           Account      create_time    TIMESTAMP\n",
       "2           Account       is_blocked         BOOL\n",
       "3           Account             type  STRING(MAX)\n",
       "4     AccountAudits               id        INT64\n",
       "5     AccountAudits  audit_timestamp    TIMESTAMP\n",
       "6     AccountAudits    audit_details  STRING(MAX)\n",
       "7  AccountRepayLoan               id        INT64\n",
       "8  AccountRepayLoan          loan_id        INT64\n",
       "9  AccountRepayLoan           amount      FLOAT64"
      ]
     },
     "execution_count": 20,
     "metadata": {},
     "output_type": "execute_result"
    }
   ],
   "source": [
    "columns_df =  graphistry.spanner_query_to_df('SELECT table_name, column_name, spanner_type FROM information_schema.columns')\n",
    "columns_df.head(10)"
   ]
  },
  {
   "cell_type": "code",
   "execution_count": 21,
   "id": "e293115a-9d39-43fb-8402-ce6642b8ab74",
   "metadata": {},
   "outputs": [
    {
     "data": {
      "text/plain": [
       "94"
      ]
     },
     "execution_count": 21,
     "metadata": {},
     "output_type": "execute_result"
    }
   ],
   "source": [
    "len(columns_df.table_name.unique())"
   ]
  },
  {
   "cell_type": "code",
   "execution_count": 22,
   "id": "bc0a477d-f10e-45da-a102-7a178894351a",
   "metadata": {},
   "outputs": [
    {
     "data": {
      "text/html": [
       "<div>\n",
       "<style scoped>\n",
       "    .dataframe tbody tr th:only-of-type {\n",
       "        vertical-align: middle;\n",
       "    }\n",
       "\n",
       "    .dataframe tbody tr th {\n",
       "        vertical-align: top;\n",
       "    }\n",
       "\n",
       "    .dataframe thead th {\n",
       "        text-align: right;\n",
       "    }\n",
       "</style>\n",
       "<table border=\"1\" class=\"dataframe\">\n",
       "  <thead>\n",
       "    <tr style=\"text-align: right;\">\n",
       "      <th></th>\n",
       "      <th>table_name</th>\n",
       "      <th>table_type</th>\n",
       "    </tr>\n",
       "  </thead>\n",
       "  <tbody>\n",
       "    <tr>\n",
       "      <th>0</th>\n",
       "      <td>Account</td>\n",
       "      <td>BASE TABLE</td>\n",
       "    </tr>\n",
       "    <tr>\n",
       "      <th>1</th>\n",
       "      <td>AccountAudits</td>\n",
       "      <td>BASE TABLE</td>\n",
       "    </tr>\n",
       "    <tr>\n",
       "      <th>2</th>\n",
       "      <td>AccountRepayLoan</td>\n",
       "      <td>BASE TABLE</td>\n",
       "    </tr>\n",
       "    <tr>\n",
       "      <th>3</th>\n",
       "      <td>AccountTransferAccount</td>\n",
       "      <td>BASE TABLE</td>\n",
       "    </tr>\n",
       "    <tr>\n",
       "      <th>4</th>\n",
       "      <td>Loan</td>\n",
       "      <td>BASE TABLE</td>\n",
       "    </tr>\n",
       "    <tr>\n",
       "      <th>5</th>\n",
       "      <td>Person</td>\n",
       "      <td>BASE TABLE</td>\n",
       "    </tr>\n",
       "    <tr>\n",
       "      <th>6</th>\n",
       "      <td>PersonOwnAccount</td>\n",
       "      <td>BASE TABLE</td>\n",
       "    </tr>\n",
       "  </tbody>\n",
       "</table>\n",
       "</div>"
      ],
      "text/plain": [
       "               table_name  table_type\n",
       "0                 Account  BASE TABLE\n",
       "1           AccountAudits  BASE TABLE\n",
       "2        AccountRepayLoan  BASE TABLE\n",
       "3  AccountTransferAccount  BASE TABLE\n",
       "4                    Loan  BASE TABLE\n",
       "5                  Person  BASE TABLE\n",
       "6        PersonOwnAccount  BASE TABLE"
      ]
     },
     "execution_count": 22,
     "metadata": {},
     "output_type": "execute_result"
    }
   ],
   "source": [
    "query_tables='''\n",
    "SELECT table_name, table_type\n",
    "FROM information_schema.tables\n",
    "WHERE table_catalog = ''\n",
    "  AND table_schema = ''\n",
    "  AND table_type IN ('BASE TABLE', 'VIEW');\n",
    "'''\n",
    "\n",
    "tables_df = graphistry.spanner_query_to_df(query_tables)\n",
    "tables_df"
   ]
  },
  {
   "cell_type": "code",
   "execution_count": null,
   "id": "7c340ea8-9dee-4540-8d97-f0644564ad4f",
   "metadata": {},
   "outputs": [],
   "source": []
  },
  {
   "cell_type": "markdown",
   "id": "ddc8b403-a2d3-45d5-9eb7-c46d445ed179",
   "metadata": {},
   "source": [
    "<!DOCTYPE html>\n",
    "<html lang=\"en\">\n",
    "<body>\n",
    "<header>\n",
    "    <h1>Continue your Graph and AI journey...</h1>\n",
    "</header>\n",
    "<main>\n",
    "    <section class=\"link-section\">\n",
    "        <h2>Graphistry</h2>\n",
    "        <p>Get started with PyGraphistry and explore AI-powered visual analytics:</p>\n",
    "        <ul class=\"link-list\">\n",
    "            <li><a href=\"https://github.com/graphistry/pygraphistry/blob/master/demos/10-mins-to-pygraphistry.ipynb\" target=\"_blank\">10 minutes to PyGraphistry</a></li>\n",
    "            <li><a href=\"https://www.graphistry.com/get-started\" target=\"_blank\">Graphistry: Get Started</a> - Learn how to leverage Graphistry for your projects.</li>\n",
    "            <li><a href=\"https://louie.ai\" target=\"_blank\">Louie AI</a> - AI-powered data insights and visualization.</li>\n",
    "            <li><a href=\"https://www.graphistry.com/support\" target=\"_blank\">Join our Community Slack</a> - get support and insights from experts</li>\n",
    "        </ul>\n",
    "    </section>\n",
    "    <section class=\"link-section\">\n",
    "        <h2>Google Spanner</h2>\n",
    "        <p>Explore Google Spanner graph features, documentation, and use cases:</p>\n",
    "        <ul class=\"link-list\">\n",
    "            <li><a href=\"https://cloud.google.com/python/docs/reference/spanner/latest\" target=\"_blank\">Google Spanner Python Documentation</a> - Official Python client library for Google Spanner.</li>\n",
    "            <li><a href=\"https://codelabs.developers.google.com/codelabs/spanner-graph-getting-started\" target=\"_blank\">Spanner Graph Codelab</a> - Hands-on tutorial for getting started with Spanner graph features.</li>\n",
    "            <li><a href=\"https://cloud.google.com/spanner/docs/graph/overview\" target=\"_blank\">Google Spanner Graph Overview</a> - Learn about Spanner's graph processing capabilities.</li>\n",
    "            <li><a href=\"https://cloud.google.com/spanner/docs/graph/queries-overview\" target=\"_blank\">Graph Queries Overview</a> - Understand how to query graph data in Spanner.</li>\n",
    "            <li><a href=\"https://cloud.google.com/spanner/docs/reference/standard-sql/graph-query-statements\" target=\"_blank\">Graph Query Statements</a> - Reference guide for writing graph queries in Spanner.</li>\n",
    "            <li><a href=\"https://cloud.google.com/spanner/docs/schema-and-data-model\" target=\"_blank\">Schema and Data Model</a></li>\n",
    "        </ul>\n",
    "    </section>\n",
    "</main>\n",
    "\n",
    "</body>\n",
    "</html>\n"
   ]
  },
  {
   "cell_type": "code",
   "execution_count": null,
   "id": "7c02a2cf-bf45-4e0e-9a82-0c2c9f1a85f3",
   "metadata": {},
   "outputs": [],
   "source": []
  }
 ],
 "metadata": {
  "kernelspec": {
   "display_name": "Python 3 (ipykernel)",
   "language": "python",
   "name": "python3"
  },
  "language_info": {
   "codemirror_mode": {
    "name": "ipython",
    "version": 3
   },
   "file_extension": ".py",
   "mimetype": "text/x-python",
   "name": "python",
   "nbconvert_exporter": "python",
   "pygments_lexer": "ipython3",
   "version": "3.12.3"
  }
 },
 "nbformat": 4,
 "nbformat_minor": 5
}
