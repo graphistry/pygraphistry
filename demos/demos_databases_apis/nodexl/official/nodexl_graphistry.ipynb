{
 "cells": [
  {
   "cell_type": "markdown",
   "metadata": {
    "colab_type": "text",
    "id": "d7Lxf44a0fda"
   },
   "source": [
    "# NodeXL <> Graphistry Converter\n",
    "\n",
    "Now you can explore the results of your NodeXL data workflows with Graphistry GPU visuals!\n",
    "\n",
    "* Takes a url to a NodeXL .xls file (you can upload to your Colab session as well) and creates a live Graphistry viz\n",
    "* Creates a function `graphistry.nodexl('http://my_url/file.xls').plot()`, see calls to it at the bottom\n",
    "* You can also specify the data source for more bindings, verbose to watch progress, and which Pandas-ready Excel engine: `graphistry.nodexl('http://my_url/file.xls', 'twitter', engine='xlrg', verbose=True)`\n",
    "* Can upload an XLS file here too, see file upload menu on left (file will be `\"./my_file.xls\"`)\n",
    "* Click graphistry logo to start a session or right-click to open in a new window and save its url\n",
    "* Rerun cells top-to-bottom by hitting shift-enter"
   ]
  },
  {
   "cell_type": "markdown",
   "metadata": {
    "colab_type": "text",
    "id": "w_YHMyZB1lnA"
   },
   "source": [
    "## Installs, imports, & creds"
   ]
  },
  {
   "cell_type": "markdown",
   "metadata": {
    "colab_type": "text",
    "id": "G4y9LnRMb535"
   },
   "source": [
    "### First run (non-Graphistry distributions)\n",
    "\n",
    "You may need to restart your notebook's Python runtime after"
   ]
  },
  {
   "cell_type": "code",
   "execution_count": 0,
   "metadata": {
    "colab": {},
    "colab_type": "code",
    "id": "LdYkJoI_BKBL"
   },
   "outputs": [],
   "source": [
    "# ! pip install -q --user graphistry pandas"
   ]
  },
  {
   "cell_type": "code",
   "execution_count": 0,
   "metadata": {
    "colab": {},
    "colab_type": "code",
    "id": "ghL3us800rs-"
   },
   "outputs": [],
   "source": [
    "# Sometimes also need to install a new system Excel parser, and pass in as `graphistry.nodexl(..., engine='openpyxl')\n",
    "# pip install -q --user openpyxl"
   ]
  },
  {
   "cell_type": "markdown",
   "metadata": {
    "colab_type": "text",
    "id": "1Z0KpM_3cc0r"
   },
   "source": [
    "### Imports & credentials"
   ]
  },
  {
   "cell_type": "code",
   "execution_count": 0,
   "metadata": {
    "colab": {},
    "colab_type": "code",
    "id": "7IZOR4XVBWlO"
   },
   "outputs": [],
   "source": [
    "import pandas as pd\n",
    "import graphistry\n",
    "graphistry.__version__"
   ]
  },
  {
   "cell_type": "code",
   "execution_count": 0,
   "metadata": {
    "colab": {},
    "colab_type": "code",
    "id": "BnB6K56gCHfM"
   },
   "outputs": [],
   "source": [
    "# To specify Graphistry account & server, use:\n",
    "# graphistry.register(api=3, username='...', password='...', protocol='https', server='hub.graphistry.com')\n",
    "# For more options, see https://github.com/graphistry/pygraphistry#configure"
   ]
  },
  {
   "cell_type": "markdown",
   "metadata": {
    "colab_type": "text",
    "id": "jK9AXFTjAyDD"
   },
   "source": [
    "# Sample use"
   ]
  },
  {
   "cell_type": "code",
   "execution_count": 0,
   "metadata": {
    "colab": {},
    "colab_type": "code",
    "id": "tcmvSZ9jBAME"
   },
   "outputs": [],
   "source": [
    "#g = NodeXLGraphistry().xls(xls, 'twitter')\n",
    "g = graphistry.nodexl('https://nodexlgraphgallery.org/Pages/Workbook.ashx?graphID=220232')"
   ]
  },
  {
   "cell_type": "code",
   "execution_count": 0,
   "metadata": {
    "colab": {},
    "colab_type": "code",
    "id": "oLKBMrQRCgw9"
   },
   "outputs": [],
   "source": [
    "print('%s nodes, %s edges' % (len(g._nodes), len(g._edges)))\n",
    "g._nodes.sample(2)"
   ]
  },
  {
   "cell_type": "code",
   "execution_count": 0,
   "metadata": {
    "colab": {},
    "colab_type": "code",
    "id": "I5FLY0lOCeVn"
   },
   "outputs": [],
   "source": [
    "g.plot()"
   ]
  },
  {
   "cell_type": "markdown",
   "metadata": {
    "colab_type": "text",
    "id": "a7erX6jnKhHj"
   },
   "source": [
    "# Twitter Demos"
   ]
  },
  {
   "cell_type": "markdown",
   "metadata": {
    "colab_type": "text",
    "id": "uGuj40xkxtMh"
   },
   "source": [
    "## Debate Warren"
   ]
  },
  {
   "cell_type": "code",
   "execution_count": 0,
   "metadata": {
    "colab": {},
    "colab_type": "code",
    "id": "4kLQTOB_wkPh"
   },
   "outputs": [],
   "source": [
    "graphistry.nodexl('https://nodexlgraphgallery.org/Pages/Workbook.ashx?graphID=220055', 'twitter', verbose=True).plot()"
   ]
  },
  {
   "cell_type": "markdown",
   "metadata": {
    "colab_type": "text",
    "id": "UrnlAwkryE10"
   },
   "source": [
    "## CES Samsung"
   ]
  },
  {
   "cell_type": "code",
   "execution_count": 0,
   "metadata": {
    "colab": {},
    "colab_type": "code",
    "id": "VcGqybDcw3Z5"
   },
   "outputs": [],
   "source": [
    "graphistry.nodexl('https://nodexlgraphgallery.org/Pages/Workbook.ashx?graphID=219924', 'twitter', verbose=True).plot()"
   ]
  },
  {
   "cell_type": "markdown",
   "metadata": {
    "colab_type": "text",
    "id": "2a4TOajvC4sb"
   },
   "source": [
    "## Larger Graph"
   ]
  },
  {
   "cell_type": "code",
   "execution_count": 0,
   "metadata": {
    "colab": {},
    "colab_type": "code",
    "id": "0LYibB5-C3vm"
   },
   "outputs": [],
   "source": [
    "graphistry.nodexl('https://www.nodexlgraphgallery.org/Pages/Workbook.ashx?graphID=220124', 'twitter', verbose=True).plot()"
   ]
  },
  {
   "cell_type": "markdown",
   "metadata": {
    "colab_type": "text",
    "id": "wY9KhWEgDHzn"
   },
   "source": [
    "# MediaWiki Demos"
   ]
  },
  {
   "cell_type": "markdown",
   "metadata": {
    "colab_type": "text",
    "id": "t4Im6padK7Ze"
   },
   "source": [
    "## Demo 1"
   ]
  },
  {
   "cell_type": "code",
   "execution_count": 0,
   "metadata": {
    "colab": {},
    "colab_type": "code",
    "id": "yBSWcuQxGYF2"
   },
   "outputs": [],
   "source": [
    "graphistry.nodexl('https://nodexlgraphgallery.org/Pages/Workbook.ashx?graphID=203001', 'mediawiki').plot()"
   ]
  }
 ],
 "metadata": {
  "colab": {
   "collapsed_sections": [],
   "name": "nodexl-graphistry - liiga",
   "provenance": []
  },
  "kernelspec": {
   "display_name": "Python 3",
   "language": "python",
   "name": "python3"
  },
  "language_info": {
   "codemirror_mode": {
    "name": "ipython",
    "version": 3
   },
   "file_extension": ".py",
   "mimetype": "text/x-python",
   "name": "python",
   "nbconvert_exporter": "python",
   "pygments_lexer": "ipython3",
   "version": "3.7.11"
  }
 },
 "nbformat": 4,
 "nbformat_minor": 1
}
