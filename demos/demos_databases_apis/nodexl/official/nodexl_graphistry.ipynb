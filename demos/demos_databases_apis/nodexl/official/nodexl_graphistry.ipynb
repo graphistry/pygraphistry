{
  "nbformat": 4,
  "nbformat_minor": 0,
  "metadata": {
    "colab": {
      "name": "nodexl-graphistry - liiga",
      "provenance": [],
      "collapsed_sections": []
    },
    "kernelspec": {
      "name": "python3",
      "display_name": "Python 3"
    }
  },
  "cells": [
    {
      "cell_type": "markdown",
      "metadata": {
        "id": "d7Lxf44a0fda",
        "colab_type": "text"
      },
      "source": [
        "# NodeXL <> Graphistry Converter\n",
        "\n",
        "Now you can explore the results of your NodeXL data workflows with Graphistry GPU visuals!\n",
        "\n",
        "* Takes a url to a NodeXL .xls file (you can upload to your Colab session as well) and creates a live Graphistry viz\n",
        "* Creates a function `graphistry.nodexl('http://my_url/file.xls').plot()`, see calls to it at the bottom\n",
        "* You can also specify the data source for more bindings, verbose to watch progress, and which Pandas-ready Excel engine: `graphistry.nodexl('http://my_url/file.xls', 'twitter', engine='xlrg', verbose=True)`\n",
        "* Can upload an XLS file here too, see file upload menu on left (file will be `\"./my_file.xls\"`)\n",
        "* Click graphistry logo to start a session or right-click to open in a new window and save its url\n",
        "* Rerun cells top-to-bottom by hitting shift-enter"
      ]
    },
    {
      "cell_type": "markdown",
      "metadata": {
        "id": "w_YHMyZB1lnA",
        "colab_type": "text"
      },
      "source": [
        "## Installs, imports, & creds"
      ]
    },
    {
      "cell_type": "markdown",
      "metadata": {
        "id": "G4y9LnRMb535",
        "colab_type": "text"
      },
      "source": [
        "### First run (non-Graphistry distributions)\n",
        "\n",
        "You may need to restart your notebook's Python runtime after"
      ]
    },
    {
      "cell_type": "code",
      "metadata": {
        "id": "LdYkJoI_BKBL",
        "colab_type": "code",
        "colab": {}
      },
      "source": [
        "# ! pip install -q --user graphistry pandas"
      ],
      "execution_count": 0,
      "outputs": []
    },
    {
      "cell_type": "code",
      "metadata": {
        "id": "ghL3us800rs-",
        "colab_type": "code",
        "colab": {}
      },
      "source": [
        "# Sometimes also need to install a new system Excel parser, and pass in as `graphistry.nodexl(..., engine='openpyxl')\n",
        "# pip install -q --user openpyxl"
      ],
      "execution_count": 0,
      "outputs": []
    },
    {
      "cell_type": "markdown",
      "metadata": {
        "id": "1Z0KpM_3cc0r",
        "colab_type": "text"
      },
      "source": [
        "### Imports & credentials"
      ]
    },
    {
      "cell_type": "code",
      "metadata": {
        "id": "7IZOR4XVBWlO",
        "colab_type": "code",
        "colab": {}
      },
      "source": [
        "import pandas as pd\n",
        "import graphistry\n",
        "graphistry.__version__"
      ],
      "execution_count": 0,
      "outputs": []
    },
    {
      "cell_type": "code",
      "metadata": {
        "id": "BnB6K56gCHfM",
        "colab_type": "code",
        "colab": {}
      },
      "source": [
        "# Uncomment if the Python environment does not already point to your Graphistry account\n",
        " # graphistry.register(key='...')\n",
        " # graphistry.register(protocol='https', server='my.site.com', key='...)"
      ],
      "execution_count": 0,
      "outputs": []
    },
    {
      "cell_type": "markdown",
      "metadata": {
        "id": "jK9AXFTjAyDD",
        "colab_type": "text"
      },
      "source": [
        "# Sample use"
      ]
    },
    {
      "cell_type": "code",
      "metadata": {
        "id": "tcmvSZ9jBAME",
        "colab_type": "code",
        "colab": {}
      },
      "source": [
        "#g = NodeXLGraphistry().xls(xls, 'twitter')\n",
        "g = graphistry.nodexl('https://nodexlgraphgallery.org/Pages/Workbook.ashx?graphID=220232')"
      ],
      "execution_count": 0,
      "outputs": []
    },
    {
      "cell_type": "code",
      "metadata": {
        "id": "oLKBMrQRCgw9",
        "colab_type": "code",
        "colab": {}
      },
      "source": [
        "print('%s nodes, %s edges' % (len(g._nodes), len(g._edges)))\n",
        "g._nodes.sample(2)"
      ],
      "execution_count": 0,
      "outputs": []
    },
    {
      "cell_type": "code",
      "metadata": {
        "id": "I5FLY0lOCeVn",
        "colab_type": "code",
        "colab": {}
      },
      "source": [
        "g.plot()"
      ],
      "execution_count": 0,
      "outputs": []
    },
    {
      "cell_type": "markdown",
      "metadata": {
        "id": "a7erX6jnKhHj",
        "colab_type": "text"
      },
      "source": [
        "# Twitter Demos"
      ]
    },
    {
      "cell_type": "markdown",
      "metadata": {
        "id": "uGuj40xkxtMh",
        "colab_type": "text"
      },
      "source": [
        "## Debate Warren"
      ]
    },
    {
      "cell_type": "code",
      "metadata": {
        "id": "4kLQTOB_wkPh",
        "colab_type": "code",
        "colab": {}
      },
      "source": [
        "graphistry.nodexl('https://nodexlgraphgallery.org/Pages/Workbook.ashx?graphID=220055', 'twitter', verbose=True).plot()"
      ],
      "execution_count": 0,
      "outputs": []
    },
    {
      "cell_type": "markdown",
      "metadata": {
        "id": "UrnlAwkryE10",
        "colab_type": "text"
      },
      "source": [
        "## CES Samsung"
      ]
    },
    {
      "cell_type": "code",
      "metadata": {
        "id": "VcGqybDcw3Z5",
        "colab_type": "code",
        "colab": {}
      },
      "source": [
        "graphistry.nodexl('https://nodexlgraphgallery.org/Pages/Workbook.ashx?graphID=219924', 'twitter', verbose=True).plot()"
      ],
      "execution_count": 0,
      "outputs": []
    },
    {
      "cell_type": "markdown",
      "metadata": {
        "id": "2a4TOajvC4sb",
        "colab_type": "text"
      },
      "source": [
        "## Larger Graph"
      ]
    },
    {
      "cell_type": "code",
      "metadata": {
        "id": "0LYibB5-C3vm",
        "colab_type": "code",
        "colab": {}
      },
      "source": [
        "graphistry.nodexl('https://www.nodexlgraphgallery.org/Pages/Workbook.ashx?graphID=220124', 'twitter', verbose=True).plot()"
      ],
      "execution_count": 0,
      "outputs": []
    },
    {
      "cell_type": "markdown",
      "metadata": {
        "id": "wY9KhWEgDHzn",
        "colab_type": "text"
      },
      "source": [
        "# MediaWiki Demos"
      ]
    },
    {
      "cell_type": "markdown",
      "metadata": {
        "id": "t4Im6padK7Ze",
        "colab_type": "text"
      },
      "source": [
        "## Demo 1"
      ]
    },
    {
      "cell_type": "code",
      "metadata": {
        "id": "yBSWcuQxGYF2",
        "colab_type": "code",
        "colab": {}
      },
      "source": [
        "graphistry.nodexl('https://nodexlgraphgallery.org/Pages/Workbook.ashx?graphID=203001', 'mediawiki').plot()"
      ],
      "execution_count": 0,
      "outputs": []
    }
  ]
}