{
 "cells": [
  {
   "cell_type": "markdown",
   "metadata": {},
   "source": [
    "# Tigergraph Bindings: Demo of IT Infra Analysis\n",
    "\n",
    "Uses bindings built into PyGraphistry for Tigergraph:\n",
    "\n",
    "* Configure DB connection\n",
    "* Call dynamic endpoints for user-defined endpoints\n",
    "* Call interpreted-mode query\n",
    "* Visualize results"
   ]
  },
  {
   "cell_type": "markdown",
   "metadata": {},
   "source": [
    "## Import and connect"
   ]
  },
  {
   "cell_type": "code",
   "execution_count": 12,
   "metadata": {},
   "outputs": [],
   "source": [
    "import graphistry\n",
    "\n",
    "# !pip install graphistry -q\n",
    "# graphistry.register(key='...', protocol='https', server='www.acme.com', ...)"
   ]
  },
  {
   "cell_type": "code",
   "execution_count": 13,
   "metadata": {},
   "outputs": [],
   "source": [
    "g = graphistry.tigergraph(\n",
    "    protocol='http', server='www.acme.org',\n",
    "    user='tigergraph', pwd='tigergraph', \n",
    "    db='Storage', #optional\n",
    "    #web_port = 14240, api_port = 9000, verbose=True\n",
    ")"
   ]
  },
  {
   "cell_type": "markdown",
   "metadata": {},
   "source": [
    "## Dynamic user-defined GSQL endpoints: Call, analyze, & plot"
   ]
  },
  {
   "cell_type": "code",
   "execution_count": 14,
   "metadata": {},
   "outputs": [
    {
     "name": "stdout",
     "output_type": "stream",
     "text": [
      "# edges: 241\n"
     ]
    },
    {
     "data": {
      "text/html": [
       "\n",
       "            <iframe id=\"013b61b8-48c4-4f9d-b8c9-77b495a9cd53\" src=\"https://labs.graphistry.com/graph/graph.html?dataset=PyGraphistry/DWEDH8TR3C&type=vgraph&viztoken=7bbe5088307a5ac3669b265b487a66a9a81b8d43&usertag=5806a903-pygraphistry-0.9.67+3.g5f36d3d&splashAfter=1564120918&info=true\"\n",
       "                    allowfullscreen=\"true\" webkitallowfullscreen=\"true\" mozallowfullscreen=\"true\"\n",
       "                    oallowfullscreen=\"true\" msallowfullscreen=\"true\"\n",
       "                    style=\"width:100%; height:500px; border: 1px solid #DDD\">\n",
       "            </iframe>\n",
       "        \n",
       "            <script>\n",
       "                $(\"#013b61b8-48c4-4f9d-b8c9-77b495a9cd53\").bind('mousewheel', function(e) {\n",
       "                e.preventDefault();\n",
       "                });\n",
       "            </script>\n",
       "        "
      ],
      "text/plain": [
       "<IPython.core.display.HTML object>"
      ]
     },
     "execution_count": 14,
     "metadata": {},
     "output_type": "execute_result"
    }
   ],
   "source": [
    "g2 = g.gsql_endpoint(\n",
    "    'StorageImpact', {'vertexType': 'Service', 'input': 61921, 'input.type': 'Pool'},\n",
    "    #{'edges': '@@edgeList', 'nodes': '@@nodeList'}\n",
    ")\n",
    "\n",
    "print('# edges:', len(g2._edges))\n",
    "\n",
    "g2.plot()"
   ]
  },
  {
   "cell_type": "markdown",
   "metadata": {},
   "source": [
    "## On-the-fly GSQL interpreted queries: Call, analyze, & plot"
   ]
  },
  {
   "cell_type": "code",
   "execution_count": 15,
   "metadata": {},
   "outputs": [
    {
     "name": "stdout",
     "output_type": "stream",
     "text": [
      "# edges: 241\n"
     ]
    },
    {
     "data": {
      "text/html": [
       "\n",
       "            <iframe id=\"4ea41342-d688-4390-a921-745172050c73\" src=\"https://labs.graphistry.com/graph/graph.html?dataset=PyGraphistry/HCZSLRUKN2&type=vgraph&viztoken=a4816ab0fdf2dc7d09e4e5466f02180db2c84083&usertag=5806a903-pygraphistry-0.9.67+3.g5f36d3d&splashAfter=1564120919&info=true\"\n",
       "                    allowfullscreen=\"true\" webkitallowfullscreen=\"true\" mozallowfullscreen=\"true\"\n",
       "                    oallowfullscreen=\"true\" msallowfullscreen=\"true\"\n",
       "                    style=\"width:100%; height:500px; border: 1px solid #DDD\">\n",
       "            </iframe>\n",
       "        \n",
       "            <script>\n",
       "                $(\"#4ea41342-d688-4390-a921-745172050c73\").bind('mousewheel', function(e) {\n",
       "                e.preventDefault();\n",
       "                });\n",
       "            </script>\n",
       "        "
      ],
      "text/plain": [
       "<IPython.core.display.HTML object>"
      ]
     },
     "execution_count": 15,
     "metadata": {},
     "output_type": "execute_result"
    }
   ],
   "source": [
    "g3 = g.gsql(\"\"\"\n",
    "  INTERPRET QUERY () FOR GRAPH Storage { \n",
    "  \n",
    "    OrAccum<BOOL> @@stop;\n",
    "    ListAccum<EDGE> @@edgeList;\n",
    "    SetAccum<vertex> @@set;\n",
    "    \n",
    "    @@set += to_vertex(\"61921\", \"Pool\");\n",
    "\n",
    "    Start = @@set;\n",
    "\n",
    "    while Start.size() > 0 and @@stop == false do\n",
    "\n",
    "      Start = select t from Start:s-(:e)-:t\n",
    "      where e.goUpper == TRUE\n",
    "      accum @@edgeList += e\n",
    "      having t.type != \"Service\";\n",
    "    end;\n",
    "\n",
    "    print @@edgeList;\n",
    "  }\n",
    "    \"\"\", \n",
    "  #{'edges': '@@edgeList', 'nodes': '@@nodeList'} # can skip by default\n",
    ")       \n",
    "\n",
    "print('# edges:', len(g3._edges))\n",
    "\n",
    "g3.plot()"
   ]
  },
  {
   "cell_type": "code",
   "execution_count": null,
   "metadata": {},
   "outputs": [],
   "source": []
  }
 ],
 "metadata": {
  "kernelspec": {
   "display_name": "Python 3",
   "language": "python",
   "name": "python3"
  },
  "language_info": {
   "codemirror_mode": {
    "name": "ipython",
    "version": 3
   },
   "file_extension": ".py",
   "mimetype": "text/x-python",
   "name": "python",
   "nbconvert_exporter": "python",
   "pygments_lexer": "ipython3",
   "version": "3.7.3"
  }
 },
 "nbformat": 4,
 "nbformat_minor": 2
}
