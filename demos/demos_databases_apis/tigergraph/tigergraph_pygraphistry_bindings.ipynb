{
 "cells": [
  {
   "cell_type": "markdown",
   "metadata": {},
   "source": [
    "# Tigergraph Bindings: Demo of IT Infra Analysis\n",
    "\n",
    "Uses bindings built into PyGraphistry for Tigergraph:\n",
    "\n",
    "* Configure DB connection\n",
    "* Call dynamic endpoints for user-defined endpoints\n",
    "* Call interpreted-mode query\n",
    "* Visualize results"
   ]
  },
  {
   "cell_type": "markdown",
   "metadata": {},
   "source": [
    "## Import and connect"
   ]
  },
  {
   "cell_type": "code",
   "execution_count": null,
   "metadata": {},
   "outputs": [],
   "source": [
    "import graphistry\n",
    "\n",
    "# !pip install graphistry -q\n",
    "# graphistry.register(key='...', protocol='https', server='www.acme.com', ...)"
   ]
  },
  {
   "cell_type": "code",
   "execution_count": null,
   "metadata": {},
   "outputs": [],
   "source": [
    "g = graphistry.tigergraph(\n",
    "    protocol='http', server='www.acme.com',\n",
    "    user='tigergraph', pwd='tigergraph', \n",
    "    db='Storage', #optional\n",
    "    #web_port = 14240, api_port = 9000, verbose=True\n",
    ")"
   ]
  },
  {
   "cell_type": "markdown",
   "metadata": {},
   "source": [
    "## Dynamic user-defined GSQL endpoints: Call, analyze, & plot"
   ]
  },
  {
   "cell_type": "code",
   "execution_count": null,
   "metadata": {},
   "outputs": [],
   "source": [
    "g2 = g.gsql_endpoint(\n",
    "    'StorageImpact', {'vertexType': 'Service', 'input': 61921, 'input.type': 'Pool'},\n",
    "    #{'edges': '@@edgeList', 'nodes': '@@nodeList'}\n",
    ")\n",
    "\n",
    "print('# edges:', len(g2._edges))\n",
    "\n",
    "g2.plot()"
   ]
  },
  {
   "cell_type": "markdown",
   "metadata": {},
   "source": [
    "## On-the-fly GSQL interpreted queries: Call, analyze, & plot"
   ]
  },
  {
   "cell_type": "code",
   "execution_count": null,
   "metadata": {},
   "outputs": [],
   "source": [
    "g3 = g.gsql(\"\"\"\n",
    "  INTERPRET QUERY () FOR GRAPH Storage { \n",
    "  \n",
    "    OrAccum<BOOL> @@stop;\n",
    "    ListAccum<EDGE> @@edgeList;\n",
    "    SetAccum<vertex> @@set;\n",
    "    \n",
    "    @@set += to_vertex(\"61921\", \"Pool\");\n",
    "\n",
    "    Start = @@set;\n",
    "\n",
    "    while Start.size() > 0 and @@stop == false do\n",
    "\n",
    "      Start = select t from Start:s-(:e)-:t\n",
    "      where e.goUpper == TRUE\n",
    "      accum @@edgeList += e\n",
    "      having t.type != \"Service\";\n",
    "    end;\n",
    "\n",
    "    print @@edgeList;\n",
    "  }\n",
    "    \"\"\", \n",
    "  #{'edges': '@@edgeList', 'nodes': '@@nodeList'} # can skip by default\n",
    ")       \n",
    "\n",
    "print('# edges:', len(g3._edges))\n",
    "\n",
    "g3.plot()"
   ]
  },
  {
   "cell_type": "code",
   "execution_count": null,
   "metadata": {},
   "outputs": [],
   "source": []
  }
 ],
 "metadata": {
  "kernelspec": {
   "display_name": "Python 3",
   "language": "python",
   "name": "python3"
  },
  "language_info": {
   "codemirror_mode": {
    "name": "ipython",
    "version": 3
   },
   "file_extension": ".py",
   "mimetype": "text/x-python",
   "name": "python",
   "nbconvert_exporter": "python",
   "pygments_lexer": "ipython3",
   "version": "3.7.3"
  }
 },
 "nbformat": 4,
 "nbformat_minor": 2
}
