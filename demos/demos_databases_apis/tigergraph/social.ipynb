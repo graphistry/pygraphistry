{
 "cells": [
  {
   "cell_type": "markdown",
   "metadata": {
    "colab_type": "text",
    "deletable": true,
    "editable": true,
    "id": "ufnpFtXZvhXl"
   },
   "source": [
    "# Graphistry Tutorial: Notebooks + TigerGraph\n",
    "\n",
    "\n",
    "*  Connect to Graphistry, TigerGraph\n",
    "*  Load data from TigerGraph into a Pandas Dataframes\n",
    "*  Plot in Graphistry as a Graph and Hypergraph\n",
    "*  Explore in Graphistry\n",
    "*  Advanced notebooks\n",
    "\n"
   ]
  },
  {
   "cell_type": "markdown",
   "metadata": {
    "colab_type": "text",
    "deletable": true,
    "editable": true,
    "id": "vBYi8AdBwaIB"
   },
   "source": [
    "## Configuration"
   ]
  },
  {
   "cell_type": "code",
   "execution_count": null,
   "metadata": {
    "colab": {},
    "colab_type": "code",
    "collapsed": true,
    "deletable": true,
    "editable": true,
    "id": "MApRHslPwjDD"
   },
   "outputs": [],
   "source": [
    "GRAPHISTRY_CONFIG = {\n",
    "    'key': 'MY_API_KEY',\n",
    "    'server': 'labs.graphistry.com',\n",
    "    'protocol': 'https',\n",
    "    'api': 2\n",
    "}\n",
    "\n",
    "TIGER_CONFIG = {\n",
    "    'fqdn': 'http://MY_TIGER_SERVER:9000'\n",
    "}"
   ]
  },
  {
   "cell_type": "markdown",
   "metadata": {
    "colab_type": "text",
    "deletable": true,
    "editable": true,
    "id": "akqSnA63wUF1"
   },
   "source": [
    "## Connect to Graphistry + Test"
   ]
  },
  {
   "cell_type": "code",
   "execution_count": null,
   "metadata": {
    "colab": {
     "base_uri": "https://localhost:8080/",
     "height": 255
    },
    "colab_type": "code",
    "collapsed": false,
    "deletable": true,
    "editable": true,
    "id": "g0pcHrm0xGFi",
    "outputId": "794ccc69-a5bb-49c5-c253-0bd63463b035"
   },
   "outputs": [],
   "source": [
    "#!pip install graphistry"
   ]
  },
  {
   "cell_type": "code",
   "execution_count": null,
   "metadata": {
    "colab": {},
    "colab_type": "code",
    "collapsed": true,
    "deletable": true,
    "editable": true,
    "id": "slYnm6W4xJED"
   },
   "outputs": [],
   "source": [
    "import pandas as pd\n",
    "import requests"
   ]
  },
  {
   "cell_type": "code",
   "execution_count": null,
   "metadata": {
    "colab": {
     "base_uri": "https://localhost:8080/",
     "height": 34
    },
    "colab_type": "code",
    "collapsed": false,
    "deletable": true,
    "editable": true,
    "id": "LDqOCGCFv5hV",
    "outputId": "963dff36-8f73-4756-8e0d-af23ff3ea9a3"
   },
   "outputs": [],
   "source": [
    "### COMMON ISSUES: wrong server, wrong key, wrong protocol, network notebook->graphistry firewall permissions\n",
    "\n",
    "import graphistry\n",
    "\n",
    "#edit Configuration cell if cannot register\n",
    "#graphistry.register(**GRAPHISTRY_CONFIG)\n",
    "\n",
    "graphistry.__version__"
   ]
  },
  {
   "cell_type": "code",
   "execution_count": null,
   "metadata": {
    "colab": {
     "base_uri": "https://localhost:8080/",
     "height": 543
    },
    "colab_type": "code",
    "collapsed": false,
    "deletable": true,
    "editable": true,
    "id": "yr0JmMMmxiXZ",
    "outputId": "2d252a88-79f9-4ea1-bc1f-58cc4aef980c"
   },
   "outputs": [],
   "source": [
    "### EXPECTED RESULT: Visualization of a curved triangle\n",
    "### COMMON ISSUES: Blank box as HTTPS not configured on Graphistry server so browser disallows iframe. Try plot(render=False)\n",
    "\n",
    "g = graphistry\\\n",
    "  .edges(pd.DataFrame({'s': [0,1,2], 'd': [1,2,0], 'a': ['quick', 'brown', 'fox'] }))\\\n",
    "  .bind(source='s', destination='d')\n",
    "\n",
    "g.plot() #g.plot(render=False)"
   ]
  },
  {
   "cell_type": "markdown",
   "metadata": {
    "colab_type": "text",
    "deletable": true,
    "editable": true,
    "id": "jlQxZuqeztIP"
   },
   "source": [
    "## Connect to TigerGraph and Test"
   ]
  },
  {
   "cell_type": "code",
   "execution_count": null,
   "metadata": {
    "colab": {
     "base_uri": "https://localhost:8080/",
     "height": 255
    },
    "colab_type": "code",
    "collapsed": false,
    "deletable": true,
    "editable": true,
    "id": "lAGwcRgEz9aF",
    "outputId": "5b1c10c7-7a97-4476-f6f3-246926e9aa33"
   },
   "outputs": [],
   "source": [
    "### EXPECTED RESULT: {'GET /statistics': ...}\n",
    "### COMMON ISSUES: returns '{}' (may need to run a few times); wrong fqdn; firewall issues; ...\n",
    "requests.get(TIGER_CONFIG['fqdn'] + '/statistics?seconds=60').json()"
   ]
  },
  {
   "cell_type": "markdown",
   "metadata": {
    "colab_type": "text",
    "deletable": true,
    "editable": true,
    "id": "-JNvt5kYXOLK"
   },
   "source": [
    "## Query Tigergraph"
   ]
  },
  {
   "cell_type": "code",
   "execution_count": null,
   "metadata": {
    "colab": {},
    "colab_type": "code",
    "collapsed": true,
    "deletable": true,
    "editable": true,
    "id": "fX4NU9ZGH6Ln"
   },
   "outputs": [],
   "source": [
    "# string -> dict\n",
    "def query_raw(query_string):\n",
    "    url = TIGER_CONFIG['fqdn'] + \"/query/\" + query_string\n",
    "    r = requests.get(url)\n",
    "    return r.json()\n",
    "\n",
    "\n",
    "def flatten (lst_of_lst):\n",
    "    try:\n",
    "        if type(lst_of_lst[0]) == list:\n",
    "            return [item for sublist in lst_of_lst for item in sublist]\n",
    "        else:\n",
    "            return lst_of_lst\n",
    "    except:\n",
    "      print('fail', lst_of_lst)\n",
    "      return lst_of_lst\n",
    "\n",
    "#str * dict -> dict\n",
    "def named_edge_to_record(name, edge): \n",
    "    record = {k: edge[k] for k in edge.keys() if not (type(edge[k]) == dict) }\n",
    "    record['type'] = name\n",
    "    nested = [k for k in edge.keys() if type(edge[k]) == dict]\n",
    "    if len(nested) == 1:\n",
    "        for k in edge[nested[0]].keys():\n",
    "            record[k] = edge[nested[0]][k]\n",
    "    else:\n",
    "        for prefix in nested:\n",
    "            for k in edge[nested[prefix]].keys():\n",
    "                record[prefix + \"_\" + k] = edge[nested[prefix]][k]\n",
    "    return record\n",
    "\n",
    "\n",
    "def query(query_string):\n",
    "    results = query_raw(query_string)['results']   \n",
    "    out = {}\n",
    "    for o in results:\n",
    "        for k in o.keys():\n",
    "            if type(o[k]) == list:\n",
    "                out[k] = flatten(o[k])\n",
    "    out = flatten([[named_edge_to_record(k,v) for v in out[k]] for k in out.keys()])\n",
    "    print('# results', len(out))\n",
    "    return pd.DataFrame(out)\n",
    "\n",
    "\n",
    "  \n",
    "def graph_edges(edges):\n",
    "  return graphistry.bind(source='from_id', destination='to_id').edges(edges)"
   ]
  },
  {
   "cell_type": "code",
   "execution_count": null,
   "metadata": {
    "colab": {
     "base_uri": "https://localhost:8080/",
     "height": 225
    },
    "colab_type": "code",
    "collapsed": false,
    "deletable": true,
    "editable": true,
    "id": "lnByP_zLXTW9",
    "outputId": "11ce110a-5d28-401e-cb9c-c4c73065ae5a"
   },
   "outputs": [],
   "source": [
    "df = query(\"connection_mining?A=1&B=10&k=1000\")\n",
    "print('rows: ', len(df))\n",
    "df.sample(3)"
   ]
  },
  {
   "cell_type": "markdown",
   "metadata": {
    "colab_type": "text",
    "deletable": true,
    "editable": true,
    "id": "LUEA1fmFOjCD"
   },
   "source": [
    "## Visualize result of TigerGraph query"
   ]
  },
  {
   "cell_type": "code",
   "execution_count": null,
   "metadata": {
    "colab": {
     "base_uri": "https://localhost:8080/",
     "height": 560
    },
    "colab_type": "code",
    "collapsed": false,
    "deletable": true,
    "editable": true,
    "id": "6kVoTbQt21du",
    "outputId": "8b14514f-7a8e-4764-eb28-f379c1b3eec7"
   },
   "outputs": [],
   "source": [
    "### EXPECTED RESULT: GRAPH VISUALIZATION\n",
    "### COMMON ISSUES: try inspecting  query_raw('connection_mining?A=1&B=10&k=2')\n",
    "\n",
    "\n",
    "graph_edges(query(\"connection_mining?A=1&B=10&k=1000\")).plot()"
   ]
  },
  {
   "cell_type": "markdown",
   "metadata": {
    "colab_type": "text",
    "deletable": true,
    "editable": true,
    "id": "iCeSWQdPbYIC"
   },
   "source": [
    "## In-Tool UI Walkthrough\n",
    "\n",
    "### 1. Clustering, Pan/Zoom,  Data Table + Data Brush\n",
    "Open [Visual guide](https://labs.graphistry.com/graphistry/ui.html) in a separate tab\n",
    "\n",
    "\n",
    "1.  **Toggle visual clustering**: Click to start, click to stop. (Edges invisible during clustering.)\n",
    "2.   **Pan/zoom**: Just like Google maps\n",
    "3.   **Autocenter** button when lost\n",
    "4.   Click node or edge to see details. \n",
    "5.   **Data Table** with Nodes, Edges, (Events) tabs\n",
    "6.   Use **Data brush** mode to click-drag to select region and filter data table \n",
    "\n",
    "### **Challenge**:  What node has the most edges? What do its edges have in common?\n",
    "\n",
    "\n",
    "### 2. Histograms and Using data for sizes & colors\n",
    "\n",
    "* For `point:degree` histogram on bottom right, press each button and see what it does\n",
    "* Set node size based on attribute. Then, `Scene settings` -> `Point size` slider.\n",
    "* Make histogram *log scale* in case of an extreme distribution\n",
    "* Pick any color. If UI doesn't update, try running clustering for one tick.\n",
    "* `Add a histogram` for `point:_title`\n",
    "* Try coloring via a `categorical` vs `gradient` : What is the difference?\n",
    "\n",
    "### 3. Filtering\n",
    "\n",
    "* Add histogram `edge:from_type`\n",
    "* Click-drag the degree histogram to filter for multiple bins\n",
    "* Open/close filter panel and toggle on/off the filter\n",
    "* Toggle `cull isolated nodes` to remove noisey nodes with no edges left\n",
    "* Click filter on histogram to remove\n",
    "* You can manually create SQL WHERE clauses here. `filters` -> `edge:e_type` ->  `edge:e_type ilike \"%phone%\"`\n",
    "* `Toggle visual clustering` and then off when stablized\n",
    "\n",
    "### **Challenge**: How many distinct phone networks are there?\n",
    "\n",
    "### 4. Data table\n",
    "\n",
    "* Search points, e.g., `135` area code\n",
    "* Export CSV (currently returns filtered as well)\n",
    "\n",
    "\n"
   ]
  },
  {
   "cell_type": "markdown",
   "metadata": {
    "colab_type": "text",
    "deletable": true,
    "editable": true,
    "id": "no9tdOo9oz7r"
   },
   "source": [
    "## Advanced Notebooks\n",
    "\n",
    "### Hypergraph\n",
    "\n",
    "If you have a CSV and not a graph, hypergraphs are a quick way to analyze the data as a graph. They turn each entity into a node, and link them together if they are in the same row of the CSV. E.g., link together a phone and address. It does so indirectly -- it creates a node for the row, and connects the row to each entity mentioned.\n",
    "\n",
    "#### Challenge: What was the last tainted transaction, and the amount on it?"
   ]
  },
  {
   "cell_type": "code",
   "execution_count": null,
   "metadata": {
    "colab": {
     "base_uri": "https://localhost:8080/",
     "height": 359
    },
    "colab_type": "code",
    "collapsed": false,
    "deletable": true,
    "editable": true,
    "id": "07EGd4ZkLL6F",
    "outputId": "6ae6c716-5e51-4f1b-d84e-e9798f8194d6"
   },
   "outputs": [],
   "source": [
    "df = pd.read_csv('https://github.com/graphistry/pygraphistry/raw/master/demos/data/transactions.csv')\n",
    "df.sample(10)"
   ]
  },
  {
   "cell_type": "code",
   "execution_count": null,
   "metadata": {
    "colab": {
     "base_uri": "https://localhost:8080/",
     "height": 747
    },
    "colab_type": "code",
    "collapsed": false,
    "deletable": true,
    "editable": true,
    "id": "0RFQ-vVMyiK0",
    "outputId": "a5d3ee2c-b5a1-4a11-c726-5524a9005eeb"
   },
   "outputs": [],
   "source": [
    "hg = graphistry.hypergraph(df[:1000], entity_types=['Source', 'Destination', 'Transaction ID'])\n",
    "print('Hypergraph parts', hg.keys())\n",
    "hg['graph'].plot()"
   ]
  },
  {
   "cell_type": "code",
   "execution_count": null,
   "metadata": {
    "colab": {
     "base_uri": "https://localhost:8080/",
     "height": 921
    },
    "colab_type": "code",
    "collapsed": false,
    "deletable": true,
    "editable": true,
    "id": "QBT6jLz4DcBl",
    "outputId": "da20c136-4bdb-4795-a367-ab58215fb79a"
   },
   "outputs": [],
   "source": [
    "help(graphistry.hypergraph)"
   ]
  },
  {
   "cell_type": "markdown",
   "metadata": {
    "colab_type": "text",
    "deletable": true,
    "editable": true,
    "id": "fMVqtAhOz0-9"
   },
   "source": [
    "## Adding Graphs"
   ]
  },
  {
   "cell_type": "code",
   "execution_count": null,
   "metadata": {
    "colab": {
     "base_uri": "https://localhost:8080/",
     "height": 713
    },
    "colab_type": "code",
    "collapsed": false,
    "deletable": true,
    "editable": true,
    "id": "1Qzdw9GQ8thS",
    "outputId": "ac2970ee-10ad-41fb-d85b-1009c3395804"
   },
   "outputs": [],
   "source": [
    "df1 = query(\"connection_mining?A=1&B=10&k=1000\").assign(data_source='query1')\n",
    "df2 = query(\"connection_mining?A=1&B=12&k=1000\").assign(data_source='query2')\n",
    "edges2 = pd.concat([df1, df2], ignore_index=True)\n",
    "\n",
    "graph_edges(edges2).plot()"
   ]
  },
  {
   "cell_type": "markdown",
   "metadata": {
    "colab_type": "text",
    "deletable": true,
    "editable": true,
    "id": "xRLwg4FDfhBw"
   },
   "source": [
    "## Custom Nodes and Attributes + Saving Sessions"
   ]
  },
  {
   "cell_type": "code",
   "execution_count": null,
   "metadata": {
    "colab": {
     "base_uri": "https://localhost:8080/",
     "height": 159
    },
    "colab_type": "code",
    "collapsed": false,
    "deletable": true,
    "editable": true,
    "id": "00eblOG9Zkvc",
    "outputId": "b0fdcc4a-a2d2-4c7a-c02d-4854c7c7b015"
   },
   "outputs": [],
   "source": [
    "conn = query(\"connection_mining?A=1&B=10&k=1000\")\n",
    "\n",
    "froms = conn.rename(columns={'from_id': 'id', 'from_type': 'node_type'})[['id', 'node_type']]\n",
    "tos = conn.rename(columns={'to_id': 'id', 'to_type': 'node_type'})[['id', 'node_type']]\n",
    "nodes = pd.concat([froms, tos], ignore_index=True).drop_duplicates().dropna()\n",
    "nodes.sample(3)"
   ]
  },
  {
   "cell_type": "code",
   "execution_count": null,
   "metadata": {
    "colab": {
     "base_uri": "https://localhost:8080/",
     "height": 51
    },
    "colab_type": "code",
    "collapsed": false,
    "deletable": true,
    "editable": true,
    "id": "559q1NaQkiLL",
    "outputId": "e4965d2c-c709-4dce-ff93-5d320f12a9e5"
   },
   "outputs": [],
   "source": [
    "nodes['node_type'].unique()"
   ]
  },
  {
   "cell_type": "code",
   "execution_count": null,
   "metadata": {
    "colab": {
     "base_uri": "https://localhost:8080/",
     "height": 142
    },
    "colab_type": "code",
    "collapsed": false,
    "deletable": true,
    "editable": true,
    "id": "tOa2YzcRkl7z",
    "outputId": "9f1c1878-004f-47f1-952a-bd74a857c2e4"
   },
   "outputs": [],
   "source": [
    "#https://labs.graphistry.com/docs/docs/palette.html\n",
    "\n",
    "type2color = {\n",
    "    'phone_call': 0,\n",
    "    'citizen': 1,\n",
    "    'bank_account': 2,\n",
    "    'phone_number': 3,\n",
    "    'bank_transfer_event': 4,\n",
    "    'hotel_room_event': 5\n",
    "}\n",
    "\n",
    "nodes['color'] = nodes['node_type'].apply(lambda type_str: type2color[type_str])\n",
    "\n",
    "nodes.sample(3)"
   ]
  },
  {
   "cell_type": "code",
   "execution_count": null,
   "metadata": {
    "colab": {
     "base_uri": "https://localhost:8080/",
     "height": 543
    },
    "colab_type": "code",
    "collapsed": false,
    "deletable": true,
    "editable": true,
    "id": "ecMn0Qf_gQSD",
    "outputId": "8232bca0-1d6c-4071-f8bc-79d7044fcc98"
   },
   "outputs": [],
   "source": [
    "g = graphistry.bind(source='from_id', destination='to_id').edges(conn)\n",
    "\n",
    "#updating colors\n",
    "g = g.bind(node='id', point_color='color').nodes(nodes)\n",
    "\n",
    "#saving sessions\n",
    "g = g.settings(url_params={'workbook': 'my_workbook1'})\n",
    "\n",
    "\n",
    "g.plot()"
   ]
  },
  {
   "cell_type": "code",
   "execution_count": null,
   "metadata": {
    "colab": {},
    "colab_type": "code",
    "collapsed": true,
    "deletable": true,
    "editable": true,
    "id": "oogreipqgRTD"
   },
   "outputs": [],
   "source": []
  }
 ],
 "metadata": {
  "colab": {
   "collapsed_sections": [],
   "name": "tiger_social.ipynb",
   "provenance": [],
   "version": "0.3.2"
  },
  "kernelspec": {
   "display_name": "Python 2",
   "language": "python",
   "name": "python2"
  },
  "language_info": {
   "codemirror_mode": {
    "name": "ipython",
    "version": 2
   },
   "file_extension": ".py",
   "mimetype": "text/x-python",
   "name": "python",
   "nbconvert_exporter": "python",
   "pygments_lexer": "ipython2",
   "version": "2.7.13"
  }
 },
 "nbformat": 4,
 "nbformat_minor": 0
}
