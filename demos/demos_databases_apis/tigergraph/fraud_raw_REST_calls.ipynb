{
 "cells": [
  {
   "cell_type": "markdown",
   "metadata": {},
   "source": [
    "# Tigergraph<>Graphistry Fraud Demo: Raw REST\n",
    "\n",
    "Accesses Tigergraph's fraud demo directly via manual REST calls"
   ]
  },
  {
   "cell_type": "code",
   "execution_count": null,
   "metadata": {
    "colab": {
     "base_uri": "https://localhost:8080/",
     "height": 34
    },
    "colab_type": "code",
    "id": "LDqOCGCFv5hV",
    "outputId": "ce308f8c-c843-43b1-ee99-539cb78ceeaf"
   },
   "outputs": [],
   "source": [
    "#!pip install graphistry\n",
    "\n",
    "import pandas as pd\n",
    "import graphistry\n",
    "import requests\n",
    "\n",
    "#graphistry.register(key='MY_API_KEY', server='labs.graphistry.com', api=2)\n",
    "\n",
    "TIGER = \"http://MY_TIGER_SERVER:9000\""
   ]
  },
  {
   "cell_type": "code",
   "execution_count": null,
   "metadata": {
    "colab": {},
    "colab_type": "code",
    "collapsed": true,
    "id": "fX4NU9ZGH6Ln"
   },
   "outputs": [],
   "source": [
    "#curl -X GET \"http://MY_TIGER_SERVER:9000/query/circleDetection?srcId=111\"\n",
    "\n",
    "# string -> dict\n",
    "def query_raw(query_string):\n",
    "    url = TIGER + \"/query/\" + query_string\n",
    "    r = requests.get(url)\n",
    "    return r.json()\n",
    "\n",
    "\n",
    "def flatten (lst_of_lst):\n",
    "    try:\n",
    "        if type(lst_of_lst[0]) == list:\n",
    "            return [item for sublist in lst_of_lst for item in sublist]\n",
    "        else:\n",
    "            return lst_of_lst\n",
    "    except:\n",
    "        print('fail', lst_of_lst)\n",
    "        return lst_of_lst\n",
    "\n",
    "#str * dict -> dict\n",
    "def named_edge_to_record(name, edge): \n",
    "    record = {k: edge[k] for k in edge.keys() if not (type(edge[k]) == dict) }\n",
    "    record['type'] = name\n",
    "    nested = [k for k in edge.keys() if type(edge[k]) == dict]\n",
    "    if len(nested) == 1:\n",
    "        for k in edge[nested[0]].keys():\n",
    "            record[k] = edge[nested[0]][k]\n",
    "    else:\n",
    "        for prefix in nested:\n",
    "            for k in edge[nested[prefix]].keys():\n",
    "                record[prefix + \"_\" + k] = edge[nested[prefix]][k]\n",
    "    return record\n",
    "\n",
    "\n",
    "def query(query_string):\n",
    "    results = query_raw(query_string)['results']\n",
    "    out = {}\n",
    "    for o in results:\n",
    "        for k in o.keys():\n",
    "            if type(o[k]) == list:\n",
    "                out[k] = flatten(o[k])\n",
    "    out = flatten([[named_edge_to_record(k,v) for v in out[k]] for k in out.keys()])\n",
    "    print('# results', len(out))\n",
    "    return pd.DataFrame(out)\n",
    "\n",
    "  \n",
    "def plot_edges(edges):\n",
    "    return graphistry.bind(source='from_id', destination='to_id').edges(edges).plot()"
   ]
  },
  {
   "cell_type": "markdown",
   "metadata": {
    "colab_type": "text",
    "id": "LUEA1fmFOjCD"
   },
   "source": [
    "# 1.  Fraud"
   ]
  },
  {
   "cell_type": "markdown",
   "metadata": {
    "colab_type": "text",
    "id": "rY8Ip6WcOnPl"
   },
   "source": [
    "## 1.a circleDetection"
   ]
  },
  {
   "cell_type": "code",
   "execution_count": null,
   "metadata": {
    "colab": {},
    "colab_type": "code",
    "id": "grR4ZNOAIIJn"
   },
   "outputs": [],
   "source": [
    "circle = query(\"circleDetection?srcId=10\")\n",
    "circle.sample(3)"
   ]
  },
  {
   "cell_type": "code",
   "execution_count": null,
   "metadata": {
    "colab": {},
    "colab_type": "code",
    "collapsed": true,
    "id": "UUTIiNkmIMQc"
   },
   "outputs": [],
   "source": [
    "plot_edges(circle)"
   ]
  },
  {
   "cell_type": "markdown",
   "metadata": {
    "colab_type": "text",
    "id": "mXT2bD2UOp3o"
   },
   "source": [
    "## 1.b  fraudConnectivity"
   ]
  },
  {
   "cell_type": "code",
   "execution_count": null,
   "metadata": {
    "colab": {},
    "colab_type": "code",
    "id": "6fP3qhDCOwi3"
   },
   "outputs": [],
   "source": [
    "connectivity = query(\"fraudConnectivity?inputUser=111&trustScore=0.1\")\n",
    "connectivity.sample(3)"
   ]
  },
  {
   "cell_type": "code",
   "execution_count": null,
   "metadata": {
    "colab": {},
    "colab_type": "code",
    "collapsed": true,
    "id": "6Z6ER8VGVi9t"
   },
   "outputs": [],
   "source": [
    "plot_edges(connectivity)"
   ]
  },
  {
   "cell_type": "markdown",
   "metadata": {
    "colab_type": "text",
    "id": "SKepDGbKZLGI"
   },
   "source": [
    "## Combined"
   ]
  },
  {
   "cell_type": "code",
   "execution_count": null,
   "metadata": {
    "colab": {},
    "colab_type": "code",
    "collapsed": true,
    "id": "SNvvtNvGZM92"
   },
   "outputs": [],
   "source": [
    "circle['provenance'] = 'circle'\n",
    "connectivity['provenance'] = 'connectivity'\n",
    "\n",
    "plot_edges(pd.concat([circle, connectivity]))"
   ]
  },
  {
   "cell_type": "markdown",
   "metadata": {
    "colab_type": "text",
    "id": "JD8M0c7OlYh7"
   },
   "source": [
    "## Color by type"
   ]
  },
  {
   "cell_type": "code",
   "execution_count": null,
   "metadata": {
    "colab": {},
    "colab_type": "code",
    "collapsed": true,
    "id": "kdFC1-wglZIT"
   },
   "outputs": [],
   "source": [
    "edges = pd.concat([circle, connectivity])\n",
    "\n",
    "froms = edges.rename(columns={'from_id': 'id', 'from_type': 'node_type'})[['id', 'node_type']]\n",
    "tos = edges.rename(columns={'to_id': 'id', 'to_type': 'node_type'})[['id', 'node_type']]\n",
    "nodes = pd.concat([froms, tos], ignore_index=True).drop_duplicates().dropna()\n",
    "nodes.sample(3)"
   ]
  },
  {
   "cell_type": "code",
   "execution_count": null,
   "metadata": {
    "colab": {},
    "colab_type": "code",
    "collapsed": true,
    "id": "TczzpZRulnb4"
   },
   "outputs": [],
   "source": [
    "nodes['node_type'].unique()"
   ]
  },
  {
   "cell_type": "code",
   "execution_count": null,
   "metadata": {
    "colab": {},
    "colab_type": "code",
    "collapsed": true,
    "id": "0uOagyc1lqRR"
   },
   "outputs": [],
   "source": [
    "#https://labs.graphistry.com/docs/docs/palette.html\n",
    "\n",
    "type2color = {\n",
    "    'User': 0,\n",
    "    'Transaction': 1,\n",
    "    'Payment_Instrument': 2,\n",
    "    'Device_Token': 3   \n",
    "}\n",
    "\n",
    "nodes['color'] = nodes['node_type'].apply(lambda type_str: type2color[type_str])\n",
    "\n",
    "nodes.sample(3)"
   ]
  },
  {
   "cell_type": "code",
   "execution_count": null,
   "metadata": {
    "colab": {},
    "colab_type": "code",
    "collapsed": true,
    "id": "Gc_Ot3E2lwOr"
   },
   "outputs": [],
   "source": [
    "graphistry.bind(source='from_id', destination='to_id', node='id', point_color='color').edges(edges).nodes(nodes).plot()"
   ]
  }
 ],
 "metadata": {
  "colab": {
   "collapsed_sections": [],
   "name": "tiger_fraud.ipynb",
   "provenance": [],
   "version": "0.3.2"
  },
  "kernelspec": {
   "display_name": "Python 2",
   "language": "python",
   "name": "python2"
  },
  "language_info": {
   "codemirror_mode": {
    "name": "ipython",
    "version": 3
   },
   "file_extension": ".py",
   "mimetype": "text/x-python",
   "name": "python",
   "nbconvert_exporter": "python",
   "pygments_lexer": "ipython3",
   "version": "3.7.3"
  }
 },
 "nbformat": 4,
 "nbformat_minor": 1
}
