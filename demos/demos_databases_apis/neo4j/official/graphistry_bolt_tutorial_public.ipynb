{
 "cells": [
  {
   "cell_type": "markdown",
   "metadata": {
    "colab_type": "text",
    "id": "PH-b-S2fC8q6"
   },
   "source": [
    "# Tutorial: Visualizing the Silk Road Blockchain with Graphistry and Neo4j\n",
    "\n",
    "Investigating large datasets becomes easier by directly visualizing cypher (BOLT) query results with Graphistry. This tutorial walks through querying Neo4j, visualizing the results, and additional configurations and queries.\n",
    "\n",
    "This analysis is based on a blockchain data extract the Graphistry team performed around court proceedings from when **Carl Force**,  the key DEA agent in the Silk Road bust, was sentenced for embezzling money from **Ross Ulbricht** (Dread Pirate Roberts). We explore to how to recreate the analysis, and determine where Carl's money went after he performed the initial embezzling.\n",
    "\n",
    "** Instructions **\n",
    "* Read along the various cells\n",
    "* Click the prebuilt visualizations to start them, and interact with them just like Google Maps \n",
    "* To try on your own, setup your own Neo4j instance & get a Graphistry API key, and run the data loading cells\n",
    "\n",
    "\n",
    "**Further reading**\n",
    "\n",
    "* UI Guide: https://labs.graphistry.com/graphistry/ui.html\n",
    "* Python client tutorials & demos: https://github.com/graphistry/pygraphistry \n",
    "* Graphistry API Key: https://www.graphistry.com/api-request \n",
    "* Neo4j-as-a-service: http://graphstory.com \n",
    "* DEA incident: https://arstechnica.com/tech-policy/2016/08/stealing-bitcoins-with-badges-how-silk-roads-dirty-cops-got-caught/ "
   ]
  },
  {
   "cell_type": "markdown",
   "metadata": {
    "colab_type": "text",
    "id": "3_k-GZjJDO1I"
   },
   "source": [
    "## Config"
   ]
  },
  {
   "cell_type": "code",
   "execution_count": null,
   "metadata": {},
   "outputs": [],
   "source": [
    "#!pip install --user pandas\n",
    "#!pip install --user graphistry[bolt]"
   ]
  },
  {
   "cell_type": "code",
   "execution_count": 1,
   "metadata": {
    "colab": {},
    "colab_type": "code",
    "id": "kSJfTLxNDQi5"
   },
   "outputs": [
    {
     "data": {
      "text/plain": [
       "'0.10.0'"
      ]
     },
     "execution_count": 1,
     "metadata": {},
     "output_type": "execute_result"
    }
   ],
   "source": [
    "NEO4J = {\n",
    "    'uri': \"bolt://MY.BOLT.COM:7687\", \n",
    "    'auth': (\"MY_BOLT_NAME\", \"MY_BOLT_PASSWORD\")\n",
    "}\n",
    "\n",
    "import pandas as pd\n",
    "import graphistry\n",
    "graphistry.__version__"
   ]
  },
  {
   "cell_type": "code",
   "execution_count": 3,
   "metadata": {},
   "outputs": [],
   "source": [
    "#GRAPHISTRY = {\n",
    "#    'server': 'MY.GRAPHISTRY.COM',\n",
    "#    'api': 2,\n",
    "#    'key': 'MY_GRAPHISTRY_API_KEY'\n",
    "#}\n",
    "#graphistry.register(**GRAPHISTRY)"
   ]
  },
  {
   "cell_type": "code",
   "execution_count": null,
   "metadata": {
    "colab": {},
    "colab_type": "code",
    "id": "HGQzNdxniCsm"
   },
   "outputs": [],
   "source": [
    "graphistry.register(bolt=NEO4J)\n",
    "graphistry.__version__"
   ]
  },
  {
   "cell_type": "markdown",
   "metadata": {
    "colab_type": "text",
    "id": "sRQ-M4Q4sq-8"
   },
   "source": [
    "## Optional: Load tainted transactions into your own Neo4j DB\n",
    "To populate your own Neo4j instance, uncomment the first section and set commands to True"
   ]
  },
  {
   "cell_type": "code",
   "execution_count": null,
   "metadata": {
    "colab": {},
    "colab_type": "code",
    "collapsed": true,
    "id": "qIk1pGXzsvxr"
   },
   "outputs": [],
   "source": [
    "#!pip install neo4j\n",
    "#from neo4j.v1 import GraphDatabase, basic_auth, types\n",
    "DELETE_EXISTING_DATABASE=False\n",
    "POPULATE_DATABASE=False\n",
    "\n",
    "\n",
    "if DELETE_EXISTING_DATABASE:\n",
    "  driver = GraphDatabase.driver(**NEO4J)\n",
    "  with driver.session() as session:      \n",
    "      # split into 2 transancations case of memory limit errors    \n",
    "      tx = session.begin_transaction()\n",
    "      print('Deleting existing transactions')\n",
    "      tx.run(\"\"\"MATCH (a:Account)-[r]->(b) DELETE r\"\"\")      \n",
    "      tx.commit()      \n",
    "      tx = session.begin_transaction()      \n",
    "      print('Deleting existing accounts')\n",
    "      tx.run(\"\"\"MATCH (a:Account) DELETE a\"\"\")     \n",
    "      tx.commit()  \n",
    "\n",
    "if POPULATE_DATABASE:\n",
    "  edges = pd.read_csv('https://www.dropbox.com/s/q1daa707y99ind9/edges.csv?dl=1')\n",
    "  edges = edges.rename(columns={'Amount $': \"USD\", 'Transaction ID': 'Transaction'})[['USD', 'Date', 'Source', 'Destination', 'Transaction']]\n",
    "  id_len = len(edges['Source'][0].split('...')[0]) #truncate IDs (dirty data)\n",
    "  edges = edges.assign(\n",
    "    Source=edges['Source'].apply(lambda id: id[:id_len]),\n",
    "    Destination=edges['Destination'].apply(lambda id: id[:id_len]))\n",
    "  ROSS_FULL='2a37b3bdca935152335c2097e5da367db24209cc'\n",
    "  ROSS = ROSS_FULL[:32]\n",
    "  CARL_FULL = 'b2233dd22ade4c9978ec1fd1fbb36eb7f9b4609e'\n",
    "  CARL = CARL_FULL[:32]\n",
    "  CARL_NICK = 'Carl Force (DEA)'\n",
    "  ROSS_NICK = 'Ross Ulbricht (SilkRoad)'\n",
    "  nodes = pd.read_csv('https://www.dropbox.com/s/nf796f1asow8tx7/nodes.csv?dl=1')\n",
    "  nodes = nodes.rename(columns={'Balance $': 'USD', 'Balance (avg) $': 'USD_avg', 'Balance (max) $': 'USD_max', 'Tainted Coins': 'Tainted_Coins'})[['Account', 'USD', 'USD_avg', 'USD_max', 'Tainted_Coins']]\n",
    "  nodes['Account'] = nodes['Account'].apply(lambda id: id[:id_len])\n",
    "  nodes['Account'] = nodes['Account'].apply(lambda id: CARL_NICK if id == CARL else ROSS_NICK if id == ROSS else id)\n",
    "  driver = GraphDatabase.driver(**NEO4J)\n",
    "  with driver.session() as session:      \n",
    "      tx = session.begin_transaction()                  \n",
    "      print('Loading', len(nodes), 'accounts')\n",
    "      for index, row in nodes.iterrows():\n",
    "          tx.run(\"\"\"\n",
    "            CREATE (a:Account {\n",
    "              Account: $Account,\n",
    "              USD: $USD, USD_avg: $USD_avg, USD_max: $USD_max, Tainted_Coins: $Tainted_Coins\n",
    "            })            \n",
    "            RETURN id(a)\n",
    "          \"\"\", **row)\n",
    "          if index % 2000 == 0:\n",
    "              print(index)                   \n",
    "      tx.commit()      \n",
    "      tx = session.begin_transaction()\n",
    "      print('Creating index on Account')\n",
    "      tx.run(\"\"\"  CREATE INDEX ON :Account(Account)  \"\"\")\n",
    "      tx.commit()\n",
    "  STATUS=1000\n",
    "  BATCH=2000\n",
    "  driver = GraphDatabase.driver(**NEO4J)\n",
    "  with driver.session() as session:\n",
    "      tx = session.begin_transaction()\n",
    "      print('Loading', len(edges), 'transactions')      \n",
    "      for index, row in edges.iterrows(): \n",
    "          tx.run(\"\"\"MATCH (a:Account),(b:Account)\n",
    "                  WHERE a.Account = $Source AND b.Account = $Destination\n",
    "                  CREATE (a)-[r:PAYMENT { \n",
    "                    Source: $Source, Destination: $Destination, USD: $USD, Date: $Date, Transaction: $Transaction \n",
    "                  }]->(b)\n",
    "                  \"\"\", **row)\n",
    "          if index % STATUS == 0:\n",
    "              print(index)\n",
    "          if index % BATCH == 0 and index > 0:\n",
    "              print('sending batch out')\n",
    "              tx.commit()\n",
    "              print('... done')\n",
    "              tx = session.begin_transaction()\n",
    "      tx.commit()\n",
    "      \n",
    "\n"
   ]
  },
  {
   "cell_type": "markdown",
   "metadata": {
    "colab_type": "text",
    "id": "mqbo_o0RMmkI"
   },
   "source": [
    "## Cypher Demos\n",
    "\n",
    "### 1a. Warmup: Visualize all $7K - $10K transactions\n",
    "Try panning and zooming (same touchpad/mouse controls as Google Maps), and clicking on individual wallets and transactions."
   ]
  },
  {
   "cell_type": "code",
   "execution_count": null,
   "metadata": {
    "colab": {},
    "colab_type": "code",
    "collapsed": true,
    "id": "fRXlWQvtycCM"
   },
   "outputs": [],
   "source": [
    "g = graphistry.cypher(\"\"\"\n",
    "      MATCH (a)-[r:PAYMENT]->(b) WHERE r.USD > 7000 AND r.USD < 10000  RETURN a, r, b ORDER BY r.USD DESC\n",
    "  \"\"\")"
   ]
  },
  {
   "cell_type": "code",
   "execution_count": 0,
   "metadata": {
    "colab": {
     "base_uri": "https://localhost:8080/",
     "height": 543
    },
    "colab_type": "code",
    "id": "OrRqdkK4GhJl",
    "outputId": "2fc30291-063b-4a21-a704-2cde524b85e2"
   },
   "outputs": [
    {
     "data": {
      "text/html": [
       "\n",
       "            <iframe id=\"db55e58e-61ff-4d1d-a4a3-ad8985de4e7f\" src=\"https://labs.graphistry.com/graph/graph.html?dataset=s3://graphistry.data/pygraphistry/5fad83bf74b5296f4e827326cdb53651/dataset.json&type=jsonMeta&viztoken=3447935c5a34f85e51f70e0a90495fc2f7b22a42&usertag=a338be27-pygraphistry-0.9.56&splashAfter=1539466035&info=true\"\n",
       "                    allowfullscreen=\"true\" webkitallowfullscreen=\"true\" mozallowfullscreen=\"true\"\n",
       "                    oallowfullscreen=\"true\" msallowfullscreen=\"true\"\n",
       "                    style=\"width:100%; height:500px; border: 1px solid #DDD\">\n",
       "            </iframe>\n",
       "        \n",
       "            <script>\n",
       "                $(\"#db55e58e-61ff-4d1d-a4a3-ad8985de4e7f\").bind('mousewheel', function(e) {\n",
       "                e.preventDefault();\n",
       "                });\n",
       "            </script>\n",
       "        "
      ],
      "text/plain": [
       "<IPython.core.display.HTML object>"
      ]
     },
     "execution_count": 13,
     "metadata": {
      "tags": []
     },
     "output_type": "execute_result"
    }
   ],
   "source": [
    "g.plot()"
   ]
  },
  {
   "cell_type": "markdown",
   "metadata": {
    "colab_type": "text",
    "id": "RkrYDjcYl6g2"
   },
   "source": [
    "Screenshot\n",
    "![Bitcoin transactions between $7K and 10K](https://www.dropbox.com/s/kt0str2k8azs922/screenshot0.png?dl=1)"
   ]
  },
  {
   "cell_type": "markdown",
   "metadata": {
    "colab_type": "text",
    "id": "TQzLQog09sjJ"
   },
   "source": [
    "### 1b. Cleanup: Configure node and edge titles to use amount fields\n",
    "* **Static config**: We can preconfigure the visualization from directly within the notebook\n",
    "* **Dynamic config**: Try dynamically improving the visualization on-the-fly within the tool by \n",
    "  * Do `add histogram for...` on `edge:USD` and `point:USD_MAX`\n",
    "  * Set edge/point coloring using them, and selecting a \"Gradient (Spectral7 7)\" blend, and toggling to reverse order (so cold to hot). \n",
    "  * For `point:USD_MAX`, toggle it to controling point size, and in the `Scene settings`,  increase the point size slider"
   ]
  },
  {
   "cell_type": "code",
   "execution_count": 0,
   "metadata": {
    "colab": {
     "base_uri": "https://localhost:8080/",
     "height": 543
    },
    "colab_type": "code",
    "id": "B2Im4KZsDCLv",
    "outputId": "f2965600-2b14-421b-b780-6e8a0da7ca11"
   },
   "outputs": [
    {
     "data": {
      "text/html": [
       "\n",
       "            <iframe id=\"a3ceec2a-cb32-4c25-97a1-06c5cb30ac3e\" src=\"https://labs.graphistry.com/graph/graph.html?dataset=s3://graphistry.data/pygraphistry/ffab8e431a70032f5071c10e1b4f06d8/dataset.json&type=jsonMeta&viztoken=4f60cec0ce030438627326abee250ff78d11414e&usertag=a338be27-pygraphistry-0.9.56&splashAfter=1539466071&info=true\"\n",
       "                    allowfullscreen=\"true\" webkitallowfullscreen=\"true\" mozallowfullscreen=\"true\"\n",
       "                    oallowfullscreen=\"true\" msallowfullscreen=\"true\"\n",
       "                    style=\"width:100%; height:500px; border: 1px solid #DDD\">\n",
       "            </iframe>\n",
       "        \n",
       "            <script>\n",
       "                $(\"#a3ceec2a-cb32-4c25-97a1-06c5cb30ac3e\").bind('mousewheel', function(e) {\n",
       "                e.preventDefault();\n",
       "                });\n",
       "            </script>\n",
       "        "
      ],
      "text/plain": [
       "<IPython.core.display.HTML object>"
      ]
     },
     "execution_count": 14,
     "metadata": {
      "tags": []
     },
     "output_type": "execute_result"
    }
   ],
   "source": [
    "g = g\\\n",
    "  .bind(point_title='Account')\\\n",
    "  .bind(edge_title='USD')\n",
    "\n",
    "g.plot()"
   ]
  },
  {
   "cell_type": "markdown",
   "metadata": {
    "colab_type": "text",
    "id": "m4YvIWNP-fCe"
   },
   "source": [
    "### 2. Look for all transactions 1-5 hops from embezzling DEA Agent Carl Force\n",
    "\n",
    "#### 2a. Downstream\n",
    "Where did most of Carl's money go? \n",
    "* Try setting up filters on `edge:USD` to separate out small vs big money flows."
   ]
  },
  {
   "cell_type": "code",
   "execution_count": 0,
   "metadata": {
    "colab": {
     "base_uri": "https://localhost:8080/",
     "height": 543
    },
    "colab_type": "code",
    "id": "Uywc60Xq-slC",
    "outputId": "3c593d83-c824-4a78-ca7c-a04a9c04b059"
   },
   "outputs": [
    {
     "data": {
      "text/html": [
       "\n",
       "            <iframe id=\"9bf78147-a936-40f8-a511-f1a7f05135a2\" src=\"https://labs.graphistry.com/graph/graph.html?dataset=s3://graphistry.data/pygraphistry/afeda595f1b661883d15488497100a81/dataset.json&type=jsonMeta&viztoken=3f9a656adad14fecd5332f8fbaf4ea97d371a63b&usertag=a338be27-pygraphistry-0.9.56&splashAfter=1539467755&info=true\"\n",
       "                    allowfullscreen=\"true\" webkitallowfullscreen=\"true\" mozallowfullscreen=\"true\"\n",
       "                    oallowfullscreen=\"true\" msallowfullscreen=\"true\"\n",
       "                    style=\"width:100%; height:500px; border: 1px solid #DDD\">\n",
       "            </iframe>\n",
       "        \n",
       "            <script>\n",
       "                $(\"#9bf78147-a936-40f8-a511-f1a7f05135a2\").bind('mousewheel', function(e) {\n",
       "                e.preventDefault();\n",
       "                });\n",
       "            </script>\n",
       "        "
      ],
      "text/plain": [
       "<IPython.core.display.HTML object>"
      ]
     },
     "execution_count": 36,
     "metadata": {
      "tags": []
     },
     "output_type": "execute_result"
    }
   ],
   "source": [
    "g.cypher(\"\"\"\n",
    "    match (a)-[r:PAYMENT*1..20]->(b) \n",
    "    where a.Account = $root and ALL(transfer IN r WHERE transfer.USD > $min_amount and transfer.USD < $max_amount )\n",
    "    return a, r, b\n",
    "  \"\"\", \n",
    "  {'root': \"Carl Force (DEA)\", \n",
    "   'min_amount': 999, \n",
    "   'max_amount': 99999}).plot() "
   ]
  },
  {
   "cell_type": "markdown",
   "metadata": {
    "colab_type": "text",
    "id": "XaHKnft9cOf_"
   },
   "source": [
    "Screenshot:\n",
    "\n",
    "![Carl Force's bitcoin accounts](https://www.dropbox.com/s/nh1uo4iuqvav5xm/screenshot1.png?dl=1)"
   ]
  },
  {
   "cell_type": "markdown",
   "metadata": {
    "colab_type": "text",
    "id": "Kg5oaTufWqe6"
   },
   "source": [
    "#### 2b. Upstream\n",
    "From where did Carl get most of his money?"
   ]
  },
  {
   "cell_type": "code",
   "execution_count": 0,
   "metadata": {
    "colab": {
     "base_uri": "https://localhost:8080/",
     "height": 543
    },
    "colab_type": "code",
    "id": "hzv-tNMc_bZP",
    "outputId": "1462c06b-318f-4229-c4db-b265bdc4f868"
   },
   "outputs": [
    {
     "data": {
      "text/html": [
       "\n",
       "            <iframe id=\"1b40069a-5fa8-4c1f-9552-6ffac09ab234\" src=\"https://labs.graphistry.com/graph/graph.html?dataset=s3://graphistry.data/pygraphistry/6cebd3c53656780692ad2c817caecff7/dataset.json&type=jsonMeta&viztoken=dc4e9adf8cfb7153d2772e917cd4e94e31469ea9&usertag=a338be27-pygraphistry-0.9.56&splashAfter=1539468529&info=true\"\n",
       "                    allowfullscreen=\"true\" webkitallowfullscreen=\"true\" mozallowfullscreen=\"true\"\n",
       "                    oallowfullscreen=\"true\" msallowfullscreen=\"true\"\n",
       "                    style=\"width:100%; height:500px; border: 1px solid #DDD\">\n",
       "            </iframe>\n",
       "        \n",
       "            <script>\n",
       "                $(\"#1b40069a-5fa8-4c1f-9552-6ffac09ab234\").bind('mousewheel', function(e) {\n",
       "                e.preventDefault();\n",
       "                });\n",
       "            </script>\n",
       "        "
      ],
      "text/plain": [
       "<IPython.core.display.HTML object>"
      ]
     },
     "execution_count": 41,
     "metadata": {
      "tags": []
     },
     "output_type": "execute_result"
    }
   ],
   "source": [
    "g.cypher(\"\"\"\n",
    "      match (a)-[r:PAYMENT*1..10]->(b) \n",
    "      where b.Account=$sink and ALL(transfer IN r WHERE transfer.USD > $min_amount and transfer.USD < $max_amount )\n",
    "      return r, a, b\n",
    "    \"\"\", \n",
    "    {'sink': \"Carl Force (DEA)\",\n",
    "    'min_amount': 1999, \n",
    "    'max_amount': 99999}).plot()"
   ]
  },
  {
   "cell_type": "markdown",
   "metadata": {
    "colab_type": "text",
    "id": "OhglbPE7gAhq"
   },
   "source": [
    "Screenshot:\n",
    "\n",
    "![Carl Force embezzling money from the Silk Road](https://www.dropbox.com/s/qvw6s5zi1dddq78/screenshot2.png?dl=1)"
   ]
  },
  {
   "cell_type": "markdown",
   "metadata": {
    "colab_type": "text",
    "id": "gusmhJvHbvbh"
   },
   "source": [
    "## 3. Paths between Silk Road and Carl Force"
   ]
  },
  {
   "cell_type": "code",
   "execution_count": 0,
   "metadata": {
    "colab": {
     "base_uri": "https://localhost:8080/",
     "height": 543
    },
    "colab_type": "code",
    "id": "kAnSUoJVWuQn",
    "outputId": "d31d0070-5eea-4a5c-b8c6-8915a2665f70"
   },
   "outputs": [
    {
     "data": {
      "text/html": [
       "\n",
       "            <iframe id=\"d3a9b352-11df-4bc8-9cbd-87254b61599a\" src=\"https://labs.graphistry.com/graph/graph.html?dataset=s3://graphistry.data/pygraphistry/1d1bea687da56367a0cb2c9e8b8be14f/dataset.json&type=jsonMeta&viztoken=12afedab0af447eb1fd7311be97caecd7f88c25a&usertag=50e2d42d-pygraphistry-0.9.56&splashAfter=1539367281&info=true\"\n",
       "                    allowfullscreen=\"true\" webkitallowfullscreen=\"true\" mozallowfullscreen=\"true\"\n",
       "                    oallowfullscreen=\"true\" msallowfullscreen=\"true\"\n",
       "                    style=\"width:100%; height:500px; border: 1px solid #DDD\">\n",
       "            </iframe>\n",
       "        \n",
       "            <script>\n",
       "                $(\"#d3a9b352-11df-4bc8-9cbd-87254b61599a\").bind('mousewheel', function(e) {\n",
       "                e.preventDefault();\n",
       "                });\n",
       "            </script>\n",
       "        "
      ],
      "text/plain": [
       "<IPython.core.display.HTML object>"
      ]
     },
     "execution_count": 25,
     "metadata": {
      "tags": []
     },
     "output_type": "execute_result"
    }
   ],
   "source": [
    "g.cypher(\"match (a)-[r:PAYMENT*1..10]->(b) where a.Account=$silk and b.Account=$dea return r, a, b\", \n",
    "         {'dea': \"Carl Force (DEA)\", \"silk\": \"Ross Ulbricht (SilkRoad)\"}).plot()"
   ]
  },
  {
   "cell_type": "markdown",
   "metadata": {
    "colab_type": "text",
    "id": "MvcNGnYIsgff"
   },
   "source": [
    "## Further Reading\n",
    "\n",
    "* UI Guide: https://labs.graphistry.com/graphistry/ui.html\n",
    "* Python client tutorials & demos: https://github.com/graphistry/pygraphistry \n",
    "* DEA incident: https://arstechnica.com/tech-policy/2016/08/stealing-bitcoins-with-badges-how-silk-roads-dirty-cops-got-caught/ "
   ]
  }
 ],
 "metadata": {
  "colab": {
   "collapsed_sections": [],
   "name": "graphistry_bolt_tutorial_public",
   "provenance": [],
   "version": "0.3.2"
  },
  "kernelspec": {
   "display_name": "Python 3.7 (RAPIDS)",
   "language": "python",
   "name": "rapids"
  },
  "language_info": {
   "codemirror_mode": {
    "name": "ipython",
    "version": 3
   },
   "file_extension": ".py",
   "mimetype": "text/x-python",
   "name": "python",
   "nbconvert_exporter": "python",
   "pygments_lexer": "ipython3",
   "version": "3.7.3"
  }
 },
 "nbformat": 4,
 "nbformat_minor": 1
}
