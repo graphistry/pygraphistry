{
 "cells": [
  {
   "cell_type": "markdown",
   "metadata": {
    "colab_type": "text",
    "deletable": true,
    "editable": true,
    "id": "PH-b-S2fC8q6"
   },
   "source": [
    "# Tutorial: Visualizing the Silk Road Blockchain with Graphistry and Neo4j\n",
    "\n",
    "Investigating large datasets becomes easier by directly visualizing cypher (BOLT) query results with Graphistry. This tutorial walks through querying Neo4j, visualizing the results, and additional configurations and queries.\n",
    "\n",
    "This analysis is based on a blockchain data extract the Graphistry team performed around court proceedings from when **Carl Force**,  the key DEA agent in the Silk Road bust, was sentenced for embezzling money from **Ross Ulbricht** (Dread Pirate Roberts). We explore to how to recreate the analysis, and determine where Carl's money went after he performed the initial embezzling.\n",
    "\n",
    "** Instructions **\n",
    "* Read along the various cells\n",
    "* Click the prebuilt visualizations to start them, and interact with them just like Google Maps \n",
    "* To try on your own, setup your own Neo4j instance & get a Graphistry API key, and run the data loading cells\n",
    "\n",
    "\n",
    "**Further reading**\n",
    "\n",
    "* UI Guide: https://labs.graphistry.com/graphistry/ui.html\n",
    "* Python client tutorials & demos: https://github.com/graphistry/pygraphistry \n",
    "* Graphistry API Key: https://www.graphistry.com/api-request \n",
    "* Neo4j-as-a-service: http://graphstory.com \n",
    "* DEA incident: https://arstechnica.com/tech-policy/2016/08/stealing-bitcoins-with-badges-how-silk-roads-dirty-cops-got-caught/ "
   ]
  },
  {
   "cell_type": "markdown",
   "metadata": {
    "colab_type": "text",
    "deletable": true,
    "editable": true,
    "id": "3_k-GZjJDO1I"
   },
   "source": [
    "## Config"
   ]
  },
  {
   "cell_type": "code",
   "execution_count": null,
   "metadata": {
    "colab": {},
    "colab_type": "code",
    "collapsed": false,
    "deletable": true,
    "editable": true,
    "id": "kSJfTLxNDQi5"
   },
   "outputs": [
    {
     "name": "stdout",
     "output_type": "stream",
     "text": [
      "Requirement already satisfied: pandas in /usr/local/lib/python2.7/site-packages (0.20.3)\n",
      "Requirement already satisfied: numpy>=1.7.0 in /usr/local/lib/python2.7/site-packages (from pandas) (1.14.1)\n",
      "Requirement already satisfied: python-dateutil in /usr/local/lib/python2.7/site-packages (from pandas) (2.6.0)\n",
      "Requirement already satisfied: pytz>=2011k in /usr/local/lib/python2.7/site-packages (from pandas) (2017.2)\n",
      "Requirement already satisfied: six>=1.5 in /usr/local/lib/python2.7/site-packages (from python-dateutil->pandas) (1.10.0)\n",
      "Requirement already satisfied: graphistry[bolt] in /Users/lmeyerov/Work/pygraphistry (0.9.56+1.gddf54c7)\n",
      "Requirement already satisfied: numpy in /usr/local/lib/python2.7/site-packages (from graphistry[bolt]) (1.14.1)\n",
      "Requirement already satisfied: pandas>=0.17.0 in /usr/local/lib/python2.7/site-packages (from graphistry[bolt]) (0.20.3)\n",
      "Requirement already satisfied: requests in /usr/local/lib/python2.7/site-packages (from graphistry[bolt]) (2.18.3)\n",
      "Requirement already satisfied: future>=0.15.0 in /Users/lmeyerov/Library/Python/2.7/lib/python/site-packages (from graphistry[bolt]) (0.16.0)\n",
      "Requirement already satisfied: protobuf>=2.6.0 in /usr/local/lib/python2.7/site-packages (from graphistry[bolt]) (3.3.0)\n",
      "Collecting neo4j (from graphistry[bolt])\n",
      "  Downloading https://files.pythonhosted.org/packages/ed/94/d3fbe6d34da7a9a543a05952d50682dee6a3c13779a0946bd2b44eaf0de4/neo4j-1.7.0rc2.tar.gz\n",
      "Requirement already satisfied: python-dateutil in /usr/local/lib/python2.7/site-packages (from pandas>=0.17.0->graphistry[bolt]) (2.6.0)\n",
      "Requirement already satisfied: pytz>=2011k in /usr/local/lib/python2.7/site-packages (from pandas>=0.17.0->graphistry[bolt]) (2017.2)\n",
      "Requirement already satisfied: certifi>=2017.4.17 in /usr/local/lib/python2.7/site-packages (from requests->graphistry[bolt]) (2017.7.27.1)\n",
      "Requirement already satisfied: chardet<3.1.0,>=3.0.2 in /usr/local/lib/python2.7/site-packages (from requests->graphistry[bolt]) (3.0.4)\n",
      "Requirement already satisfied: urllib3<1.23,>=1.21.1 in /usr/local/lib/python2.7/site-packages (from requests->graphistry[bolt]) (1.22)\n",
      "Requirement already satisfied: idna<2.6,>=2.5 in /usr/local/lib/python2.7/site-packages (from requests->graphistry[bolt]) (2.5)\n",
      "Requirement already satisfied: setuptools in /usr/local/lib/python2.7/site-packages (from protobuf>=2.6.0->graphistry[bolt]) (38.5.1)\n",
      "Requirement already satisfied: six>=1.9 in /usr/local/lib/python2.7/site-packages (from protobuf>=2.6.0->graphistry[bolt]) (1.10.0)\n",
      "Collecting neobolt<2,>=1.7 (from neo4j->graphistry[bolt])\n",
      "\u001b[?25l  Downloading https://files.pythonhosted.org/packages/45/6b/c34cdd07101304800f8cb668780d96364351f778ca04049c9399c5675021/neobolt-1.7.0.tar.gz (181kB)\n",
      "\u001b[K    100% |████████████████████████████████| 184kB 50kB/s ta 0:00:01\n",
      "\u001b[?25hCollecting neotime<2,>=1.7.1 (from neo4j->graphistry[bolt])\n",
      "  Downloading https://files.pythonhosted.org/packages/06/d6/9cf044ff0701c01fce4b795565d7de7c9f86c3d822a0ac8192c562477f97/neotime-1.7.1.tar.gz\n",
      "Building wheels for collected packages: neo4j, neobolt, neotime\n",
      "  Running setup.py bdist_wheel for neo4j ... \u001b[?25l-\b \bdone\n",
      "\u001b[?25h  Stored in directory: /Users/lmeyerov/Library/Caches/pip/wheels/6a/84/6d/921f106f9014666e36f3c3d987ea1b8cb1e5e4600048a9e11e\n",
      "  Running setup.py bdist_wheel for neobolt ... \u001b[?25l-\b \b\\\b \b|\b \b/\b \b-\b \b\\\b \bdone\n",
      "\u001b[?25h  Stored in directory: /Users/lmeyerov/Library/Caches/pip/wheels/11/5d/08/c3c248973eed2cc5e759f8de471b36307166cb898f47c5071a\n",
      "  Running setup.py bdist_wheel for neotime ... \u001b[?25l-\b \bdone\n",
      "\u001b[?25h  Stored in directory: /Users/lmeyerov/Library/Caches/pip/wheels/63/3b/b1/93b4ebf54b433db48675e94865f430434467a772e21e289356\n",
      "Successfully built neo4j neobolt neotime\n",
      "Installing collected packages: neobolt, neotime, neo4j\n",
      "Successfully installed neo4j-1.7.0rc2 neobolt-1.7.0 neotime-1.7.1\n"
     ]
    },
    {
     "data": {
      "text/plain": [
       "'0.9.56+2.g29062bd.dirty'"
      ]
     },
     "execution_count": 1,
     "metadata": {},
     "output_type": "execute_result"
    }
   ],
   "source": [
    "GRAPHISTRY = {\n",
    "    'server': 'MY.GRAPHISTRY.COM',\n",
    "    'api': 2,\n",
    "    'key': 'MY_GRAPHISTRY_API_KEY'\n",
    "}\n",
    "\n",
    "\n",
    "NEO4J = {\n",
    "    'uri': \"bolt://MY.BOLT.COM:7687\", \n",
    "    'auth': (\"MY_BOLT_NAME\", \"MY_BOLT_PASSWORD\")\n",
    "}\n",
    "\n",
    "\n",
    "!pip install pandas\n",
    "!pip install graphistry[bolt]\n",
    "\n",
    "\n",
    "import pandas as pd\n",
    "import graphistry\n",
    "graphistry.__version__"
   ]
  },
  {
   "cell_type": "code",
   "execution_count": null,
   "metadata": {
    "colab": {},
    "colab_type": "code",
    "collapsed": true,
    "deletable": true,
    "editable": true,
    "id": "HGQzNdxniCsm"
   },
   "outputs": [],
   "source": [
    "graphistry.register(bolt=NEO4J, **GRAPHISTRY)\n",
    "graphistry.__version__"
   ]
  },
  {
   "cell_type": "markdown",
   "metadata": {
    "colab_type": "text",
    "deletable": true,
    "editable": true,
    "id": "sRQ-M4Q4sq-8"
   },
   "source": [
    "## Optional: Load tainted transactions into your own Neo4j DB\n",
    "To populate your own Neo4j instance, uncomment the first section and set commands to True"
   ]
  },
  {
   "cell_type": "code",
   "execution_count": null,
   "metadata": {
    "colab": {},
    "colab_type": "code",
    "collapsed": true,
    "deletable": true,
    "editable": true,
    "id": "qIk1pGXzsvxr"
   },
   "outputs": [],
   "source": [
    "#!pip install neo4j\n",
    "#from neo4j.v1 import GraphDatabase, basic_auth, types\n",
    "DELETE_EXISTING_DATABASE=False\n",
    "POPULATE_DATABASE=False\n",
    "\n",
    "\n",
    "if DELETE_EXISTING_DATABASE:\n",
    "  driver = GraphDatabase.driver(**NEO4J)\n",
    "  with driver.session() as session:      \n",
    "      # split into 2 transancations case of memory limit errors    \n",
    "      tx = session.begin_transaction()\n",
    "      print('Deleting existing transactions')\n",
    "      tx.run(\"\"\"MATCH (a:Account)-[r]->(b) DELETE r\"\"\")      \n",
    "      tx.commit()      \n",
    "      tx = session.begin_transaction()      \n",
    "      print('Deleting existing accounts')\n",
    "      tx.run(\"\"\"MATCH (a:Account) DELETE a\"\"\")     \n",
    "      tx.commit()  \n",
    "\n",
    "if POPULATE_DATABASE:\n",
    "  edges = pd.read_csv('https://www.dropbox.com/s/q1daa707y99ind9/edges.csv?dl=1')\n",
    "  edges = edges.rename(columns={'Amount $': \"USD\", 'Transaction ID': 'Transaction'})[['USD', 'Date', 'Source', 'Destination', 'Transaction']]\n",
    "  id_len = len(edges['Source'][0].split('...')[0]) #truncate IDs (dirty data)\n",
    "  edges = edges.assign(\n",
    "    Source=edges['Source'].apply(lambda id: id[:id_len]),\n",
    "    Destination=edges['Destination'].apply(lambda id: id[:id_len]))\n",
    "  ROSS_FULL='2a37b3bdca935152335c2097e5da367db24209cc'\n",
    "  ROSS = ROSS_FULL[:32]\n",
    "  CARL_FULL = 'b2233dd22ade4c9978ec1fd1fbb36eb7f9b4609e'\n",
    "  CARL = CARL_FULL[:32]\n",
    "  CARL_NICK = 'Carl Force (DEA)'\n",
    "  ROSS_NICK = 'Ross Ulbricht (SilkRoad)'\n",
    "  nodes = pd.read_csv('https://www.dropbox.com/s/nf796f1asow8tx7/nodes.csv?dl=1')\n",
    "  nodes = nodes.rename(columns={'Balance $': 'USD', 'Balance (avg) $': 'USD_avg', 'Balance (max) $': 'USD_max', 'Tainted Coins': 'Tainted_Coins'})[['Account', 'USD', 'USD_avg', 'USD_max', 'Tainted_Coins']]\n",
    "  nodes['Account'] = nodes['Account'].apply(lambda id: id[:id_len])\n",
    "  nodes['Account'] = nodes['Account'].apply(lambda id: CARL_NICK if id == CARL else ROSS_NICK if id == ROSS else id)\n",
    "  driver = GraphDatabase.driver(**NEO4J)\n",
    "  with driver.session() as session:      \n",
    "      tx = session.begin_transaction()                  \n",
    "      print('Loading', len(nodes), 'accounts')\n",
    "      for index, row in nodes.iterrows():\n",
    "          tx.run(\"\"\"\n",
    "            CREATE (a:Account {\n",
    "              Account: $Account,\n",
    "              USD: $USD, USD_avg: $USD_avg, USD_max: $USD_max, Tainted_Coins: $Tainted_Coins\n",
    "            })            \n",
    "            RETURN id(a)\n",
    "          \"\"\", **row)\n",
    "          if index % 2000 == 0:\n",
    "              print(index)                   \n",
    "      tx.commit()      \n",
    "      tx = session.begin_transaction()\n",
    "      print('Creating index on Account')\n",
    "      tx.run(\"\"\"  CREATE INDEX ON :Account(Account)  \"\"\")\n",
    "      tx.commit()\n",
    "  STATUS=1000\n",
    "  BATCH=2000\n",
    "  driver = GraphDatabase.driver(**NEO4J)\n",
    "  with driver.session() as session:\n",
    "      tx = session.begin_transaction()\n",
    "      print('Loading', len(edges), 'transactions')      \n",
    "      for index, row in edges.iterrows(): \n",
    "          tx.run(\"\"\"MATCH (a:Account),(b:Account)\n",
    "                  WHERE a.Account = $Source AND b.Account = $Destination\n",
    "                  CREATE (a)-[r:PAYMENT { \n",
    "                    Source: $Source, Destination: $Destination, USD: $USD, Date: $Date, Transaction: $Transaction \n",
    "                  }]->(b)\n",
    "                  \"\"\", **row)\n",
    "          if index % STATUS == 0:\n",
    "              print(index)\n",
    "          if index % BATCH == 0 and index > 0:\n",
    "              print('sending batch out')\n",
    "              tx.commit()\n",
    "              print('... done')\n",
    "              tx = session.begin_transaction()\n",
    "      tx.commit()\n",
    "      \n",
    "\n"
   ]
  },
  {
   "cell_type": "markdown",
   "metadata": {
    "colab_type": "text",
    "deletable": true,
    "editable": true,
    "id": "mqbo_o0RMmkI"
   },
   "source": [
    "## Cypher Demos\n",
    "\n",
    "### 1a. Warmup: Visualize all $7K - $10K transactions\n",
    "Try panning and zooming (same touchpad/mouse controls as Google Maps), and clicking on individual wallets and transactions."
   ]
  },
  {
   "cell_type": "code",
   "execution_count": null,
   "metadata": {
    "colab": {},
    "colab_type": "code",
    "collapsed": true,
    "deletable": true,
    "editable": true,
    "id": "fRXlWQvtycCM"
   },
   "outputs": [],
   "source": [
    "g = graphistry.cypher(\"\"\"\n",
    "      MATCH (a)-[r:PAYMENT]->(b) WHERE r.USD > 7000 AND r.USD < 10000  RETURN a, r, b ORDER BY r.USD DESC\n",
    "  \"\"\", \n",
    "  {})"
   ]
  },
  {
   "cell_type": "code",
   "execution_count": 0,
   "metadata": {
    "colab": {
     "base_uri": "https://localhost:8080/",
     "height": 543
    },
    "colab_type": "code",
    "collapsed": false,
    "deletable": true,
    "editable": true,
    "id": "OrRqdkK4GhJl",
    "outputId": "2fc30291-063b-4a21-a704-2cde524b85e2"
   },
   "outputs": [
    {
     "data": {
      "text/html": [
       "\n",
       "            <iframe id=\"db55e58e-61ff-4d1d-a4a3-ad8985de4e7f\" src=\"https://labs.graphistry.com/graph/graph.html?dataset=s3://graphistry.data/pygraphistry/5fad83bf74b5296f4e827326cdb53651/dataset.json&type=jsonMeta&viztoken=3447935c5a34f85e51f70e0a90495fc2f7b22a42&usertag=a338be27-pygraphistry-0.9.56&splashAfter=1539466035&info=true\"\n",
       "                    allowfullscreen=\"true\" webkitallowfullscreen=\"true\" mozallowfullscreen=\"true\"\n",
       "                    oallowfullscreen=\"true\" msallowfullscreen=\"true\"\n",
       "                    style=\"width:100%; height:500px; border: 1px solid #DDD\">\n",
       "            </iframe>\n",
       "        \n",
       "            <script>\n",
       "                $(\"#db55e58e-61ff-4d1d-a4a3-ad8985de4e7f\").bind('mousewheel', function(e) {\n",
       "                e.preventDefault();\n",
       "                });\n",
       "            </script>\n",
       "        "
      ],
      "text/plain": [
       "<IPython.core.display.HTML object>"
      ]
     },
     "execution_count": 13,
     "metadata": {
      "tags": []
     },
     "output_type": "execute_result"
    }
   ],
   "source": [
    "g.plot()"
   ]
  },
  {
   "cell_type": "markdown",
   "metadata": {
    "colab_type": "text",
    "deletable": true,
    "editable": true,
    "id": "RkrYDjcYl6g2"
   },
   "source": [
    "Screenshot\n",
    "![Bitcoin transactions between $7K and 10K](https://www.dropbox.com/s/kt0str2k8azs922/screenshot0.png?dl=1)"
   ]
  },
  {
   "cell_type": "markdown",
   "metadata": {
    "colab_type": "text",
    "deletable": true,
    "editable": true,
    "id": "TQzLQog09sjJ"
   },
   "source": [
    "### 1b. Cleanup: Configure node and edge titles to use amount fields\n",
    "* **Static config**: We can preconfigure the visualization from directly within the notebook\n",
    "* **Dynamic config**: Try dynamically improving the visualization on-the-fly within the tool by \n",
    "  * Do `add histogram for...` on `edge:USD` and `point:USD_MAX`\n",
    "  * Set edge/point coloring using them, and selecting a \"Gradient (Spectral7 7)\" blend, and toggling to reverse order (so cold to hot). \n",
    "  * For `point:USD_MAX`, toggle it to controling point size, and in the `Scene settings`,  increase the point size slider"
   ]
  },
  {
   "cell_type": "code",
   "execution_count": 0,
   "metadata": {
    "colab": {
     "base_uri": "https://localhost:8080/",
     "height": 543
    },
    "colab_type": "code",
    "collapsed": false,
    "deletable": true,
    "editable": true,
    "id": "B2Im4KZsDCLv",
    "outputId": "f2965600-2b14-421b-b780-6e8a0da7ca11"
   },
   "outputs": [
    {
     "data": {
      "text/html": [
       "\n",
       "            <iframe id=\"a3ceec2a-cb32-4c25-97a1-06c5cb30ac3e\" src=\"https://labs.graphistry.com/graph/graph.html?dataset=s3://graphistry.data/pygraphistry/ffab8e431a70032f5071c10e1b4f06d8/dataset.json&type=jsonMeta&viztoken=4f60cec0ce030438627326abee250ff78d11414e&usertag=a338be27-pygraphistry-0.9.56&splashAfter=1539466071&info=true\"\n",
       "                    allowfullscreen=\"true\" webkitallowfullscreen=\"true\" mozallowfullscreen=\"true\"\n",
       "                    oallowfullscreen=\"true\" msallowfullscreen=\"true\"\n",
       "                    style=\"width:100%; height:500px; border: 1px solid #DDD\">\n",
       "            </iframe>\n",
       "        \n",
       "            <script>\n",
       "                $(\"#a3ceec2a-cb32-4c25-97a1-06c5cb30ac3e\").bind('mousewheel', function(e) {\n",
       "                e.preventDefault();\n",
       "                });\n",
       "            </script>\n",
       "        "
      ],
      "text/plain": [
       "<IPython.core.display.HTML object>"
      ]
     },
     "execution_count": 14,
     "metadata": {
      "tags": []
     },
     "output_type": "execute_result"
    }
   ],
   "source": [
    "g = g\\\n",
    "  .bind(point_title='Account')\\\n",
    "  .bind(edge_title='USD')\n",
    "\n",
    "g.plot()"
   ]
  },
  {
   "cell_type": "markdown",
   "metadata": {
    "colab_type": "text",
    "deletable": true,
    "editable": true,
    "id": "m4YvIWNP-fCe"
   },
   "source": [
    "### 2. Look for all transactions 1-5 hops from embezzling DEA Agent Carl Force\n",
    "\n",
    "#### 2a. Downstream\n",
    "Where did most of Carl's money go? \n",
    "* Try setting up filters on `edge:USD` to separate out small vs big money flows."
   ]
  },
  {
   "cell_type": "code",
   "execution_count": 0,
   "metadata": {
    "colab": {
     "base_uri": "https://localhost:8080/",
     "height": 543
    },
    "colab_type": "code",
    "collapsed": false,
    "deletable": true,
    "editable": true,
    "id": "Uywc60Xq-slC",
    "outputId": "3c593d83-c824-4a78-ca7c-a04a9c04b059"
   },
   "outputs": [
    {
     "data": {
      "text/html": [
       "\n",
       "            <iframe id=\"9bf78147-a936-40f8-a511-f1a7f05135a2\" src=\"https://labs.graphistry.com/graph/graph.html?dataset=s3://graphistry.data/pygraphistry/afeda595f1b661883d15488497100a81/dataset.json&type=jsonMeta&viztoken=3f9a656adad14fecd5332f8fbaf4ea97d371a63b&usertag=a338be27-pygraphistry-0.9.56&splashAfter=1539467755&info=true\"\n",
       "                    allowfullscreen=\"true\" webkitallowfullscreen=\"true\" mozallowfullscreen=\"true\"\n",
       "                    oallowfullscreen=\"true\" msallowfullscreen=\"true\"\n",
       "                    style=\"width:100%; height:500px; border: 1px solid #DDD\">\n",
       "            </iframe>\n",
       "        \n",
       "            <script>\n",
       "                $(\"#9bf78147-a936-40f8-a511-f1a7f05135a2\").bind('mousewheel', function(e) {\n",
       "                e.preventDefault();\n",
       "                });\n",
       "            </script>\n",
       "        "
      ],
      "text/plain": [
       "<IPython.core.display.HTML object>"
      ]
     },
     "execution_count": 36,
     "metadata": {
      "tags": []
     },
     "output_type": "execute_result"
    }
   ],
   "source": [
    "g.cypher(\"\"\"\n",
    "    match (a)-[r:PAYMENT*1..20]->(b) \n",
    "    where a.Account = $root and ALL(transfer IN r WHERE transfer.USD > $min_amount and transfer.USD < $max_amount )\n",
    "    return a, r, b\n",
    "  \"\"\", \n",
    "  {'root': \"Carl Force (DEA)\", \n",
    "   'min_amount': 999, \n",
    "   'max_amount': 99999}).plot() "
   ]
  },
  {
   "cell_type": "markdown",
   "metadata": {
    "colab_type": "text",
    "deletable": true,
    "editable": true,
    "id": "XaHKnft9cOf_"
   },
   "source": [
    "Screenshot:\n",
    "\n",
    "![Carl Force's bitcoin accounts](https://www.dropbox.com/s/nh1uo4iuqvav5xm/screenshot1.png?dl=1)"
   ]
  },
  {
   "cell_type": "markdown",
   "metadata": {
    "colab_type": "text",
    "deletable": true,
    "editable": true,
    "id": "Kg5oaTufWqe6"
   },
   "source": [
    "#### 2b. Upstream\n",
    "From where did Carl get most of his money?"
   ]
  },
  {
   "cell_type": "code",
   "execution_count": 0,
   "metadata": {
    "colab": {
     "base_uri": "https://localhost:8080/",
     "height": 543
    },
    "colab_type": "code",
    "collapsed": false,
    "deletable": true,
    "editable": true,
    "id": "hzv-tNMc_bZP",
    "outputId": "1462c06b-318f-4229-c4db-b265bdc4f868"
   },
   "outputs": [
    {
     "data": {
      "text/html": [
       "\n",
       "            <iframe id=\"1b40069a-5fa8-4c1f-9552-6ffac09ab234\" src=\"https://labs.graphistry.com/graph/graph.html?dataset=s3://graphistry.data/pygraphistry/6cebd3c53656780692ad2c817caecff7/dataset.json&type=jsonMeta&viztoken=dc4e9adf8cfb7153d2772e917cd4e94e31469ea9&usertag=a338be27-pygraphistry-0.9.56&splashAfter=1539468529&info=true\"\n",
       "                    allowfullscreen=\"true\" webkitallowfullscreen=\"true\" mozallowfullscreen=\"true\"\n",
       "                    oallowfullscreen=\"true\" msallowfullscreen=\"true\"\n",
       "                    style=\"width:100%; height:500px; border: 1px solid #DDD\">\n",
       "            </iframe>\n",
       "        \n",
       "            <script>\n",
       "                $(\"#1b40069a-5fa8-4c1f-9552-6ffac09ab234\").bind('mousewheel', function(e) {\n",
       "                e.preventDefault();\n",
       "                });\n",
       "            </script>\n",
       "        "
      ],
      "text/plain": [
       "<IPython.core.display.HTML object>"
      ]
     },
     "execution_count": 41,
     "metadata": {
      "tags": []
     },
     "output_type": "execute_result"
    }
   ],
   "source": [
    "g.cypher(\"\"\"\n",
    "      match (a)-[r:PAYMENT*1..10]->(b) \n",
    "      where b.Account=$sink and ALL(transfer IN r WHERE transfer.USD > $min_amount and transfer.USD < $max_amount )\n",
    "      return r, a, b\n",
    "    \"\"\", \n",
    "    {'sink': \"Carl Force (DEA)\",\n",
    "    'min_amount': 1999, \n",
    "    'max_amount': 99999}).plot()"
   ]
  },
  {
   "cell_type": "markdown",
   "metadata": {
    "colab_type": "text",
    "deletable": true,
    "editable": true,
    "id": "OhglbPE7gAhq"
   },
   "source": [
    "Screenshot:\n",
    "\n",
    "![Carl Force embezzling money from the Silk Road](https://www.dropbox.com/s/qvw6s5zi1dddq78/screenshot2.png?dl=1)"
   ]
  },
  {
   "cell_type": "markdown",
   "metadata": {
    "colab_type": "text",
    "deletable": true,
    "editable": true,
    "id": "gusmhJvHbvbh"
   },
   "source": [
    "## 3. Paths between Silk Road and Carl Force"
   ]
  },
  {
   "cell_type": "code",
   "execution_count": 0,
   "metadata": {
    "colab": {
     "base_uri": "https://localhost:8080/",
     "height": 543
    },
    "colab_type": "code",
    "collapsed": false,
    "deletable": true,
    "editable": true,
    "id": "kAnSUoJVWuQn",
    "outputId": "d31d0070-5eea-4a5c-b8c6-8915a2665f70"
   },
   "outputs": [
    {
     "data": {
      "text/html": [
       "\n",
       "            <iframe id=\"d3a9b352-11df-4bc8-9cbd-87254b61599a\" src=\"https://labs.graphistry.com/graph/graph.html?dataset=s3://graphistry.data/pygraphistry/1d1bea687da56367a0cb2c9e8b8be14f/dataset.json&type=jsonMeta&viztoken=12afedab0af447eb1fd7311be97caecd7f88c25a&usertag=50e2d42d-pygraphistry-0.9.56&splashAfter=1539367281&info=true\"\n",
       "                    allowfullscreen=\"true\" webkitallowfullscreen=\"true\" mozallowfullscreen=\"true\"\n",
       "                    oallowfullscreen=\"true\" msallowfullscreen=\"true\"\n",
       "                    style=\"width:100%; height:500px; border: 1px solid #DDD\">\n",
       "            </iframe>\n",
       "        \n",
       "            <script>\n",
       "                $(\"#d3a9b352-11df-4bc8-9cbd-87254b61599a\").bind('mousewheel', function(e) {\n",
       "                e.preventDefault();\n",
       "                });\n",
       "            </script>\n",
       "        "
      ],
      "text/plain": [
       "<IPython.core.display.HTML object>"
      ]
     },
     "execution_count": 25,
     "metadata": {
      "tags": []
     },
     "output_type": "execute_result"
    }
   ],
   "source": [
    "g.cypher(\"match (a)-[r:PAYMENT*1..10]->(b) where a.Account=$silk and b.Account=$dea return r, a, b\", \n",
    "         {'dea': \"Carl Force (DEA)\", \"silk\": \"Ross Ulbricht (SilkRoad)\"}).plot()"
   ]
  },
  {
   "cell_type": "markdown",
   "metadata": {
    "colab_type": "text",
    "deletable": true,
    "editable": true,
    "id": "MvcNGnYIsgff"
   },
   "source": [
    "## Further Reading\n",
    "\n",
    "* UI Guide: https://labs.graphistry.com/graphistry/ui.html\n",
    "* Python client tutorials & demos: https://github.com/graphistry/pygraphistry \n",
    "* DEA incident: https://arstechnica.com/tech-policy/2016/08/stealing-bitcoins-with-badges-how-silk-roads-dirty-cops-got-caught/ "
   ]
  }
 ],
 "metadata": {
  "colab": {
   "collapsed_sections": [],
   "name": "graphistry_bolt_tutorial_public",
   "provenance": [],
   "version": "0.3.2"
  },
  "kernelspec": {
   "display_name": "Python 2",
   "language": "python",
   "name": "python2"
  },
  "language_info": {
   "codemirror_mode": {
    "name": "ipython",
    "version": 2
   },
   "file_extension": ".py",
   "mimetype": "text/x-python",
   "name": "python",
   "nbconvert_exporter": "python",
   "pygments_lexer": "ipython2",
   "version": "2.7.13"
  }
 },
 "nbformat": 4,
 "nbformat_minor": 0
}
