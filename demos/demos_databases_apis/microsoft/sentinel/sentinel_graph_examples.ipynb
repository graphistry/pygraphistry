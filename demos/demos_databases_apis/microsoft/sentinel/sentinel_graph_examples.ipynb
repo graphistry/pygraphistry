{
 "cells": [
  {
   "cell_type": "markdown",
   "metadata": {},
   "source": [
    "# Microsoft Sentinel Graph API with Graphistry\n",
    "\n",
    "This notebook demonstrates how to query Microsoft Sentinel Graph API and visualize threat intelligence data with Graphistry.\n",
    "\n",
    "## Requirements\n",
    "\n",
    "```bash\n",
    "pip install graphistry[sentinel-graph]\n",
    "```"
   ]
  },
  {
   "cell_type": "code",
   "execution_count": null,
   "metadata": {},
   "outputs": [],
   "source": [
    "# Install dependencies (uncomment if needed)\n",
    "# !pip install graphistry[sentinel-graph]"
   ]
  },
  {
   "cell_type": "markdown",
   "metadata": {},
   "source": [
    "## Setup\n",
    "\n",
    "Import libraries and configure Graphistry."
   ]
  },
  {
   "cell_type": "code",
   "execution_count": null,
   "metadata": {},
   "outputs": [],
   "source": [
    "import graphistry\n",
    "from azure.identity import InteractiveBrowserCredential\n",
    "\n",
    "# Register with Graphistry\n",
    "# IMPORTANT: Store credentials securely using environment variables\n",
    "graphistry.register(\n",
    "    api=3,\n",
    "    protocol=\"https\",\n",
    "    server=\"hub.graphistry.com\"\n",
    "    # personal_key_id='YOUR_KEY_ID',\n",
    "    # personal_key_secret='YOUR_KEY_SECRET'\n",
    ")\n",
    "\n",
    "print(\"✓ Graphistry configured\")"
   ]
  },
  {
   "cell_type": "markdown",
   "metadata": {},
   "source": [
    "## Configure Sentinel Graph API\n",
    "\n",
    "Set up authentication to Microsoft Security Platform. This will open a browser window for interactive login."
   ]
  },
  {
   "cell_type": "code",
   "execution_count": null,
   "metadata": {},
   "outputs": [],
   "source": "# Interactive browser authentication\ncredential = InteractiveBrowserCredential()\n\n# Replace 'YourGraphInstance' with your actual graph instance name\ng = graphistry.configure_sentinel_graph(\n    graph_instance='YourGraphInstance',\n    credential=credential\n)\n\nprint(\"✓ Sentinel Graph configured\")"
  },
  {
   "cell_type": "markdown",
   "metadata": {},
   "source": "## Example 1: Basic Graph Query\n\nQuery nodes and edges from your graph instance."
  },
  {
   "cell_type": "code",
   "execution_count": null,
   "metadata": {},
   "outputs": [],
   "source": "# Basic query to get nodes and edges\nquery = \"\"\"\nMATCH (n)-[e]->(m)\nRETURN *\nLIMIT 50\n\"\"\"\n\nviz = g.sentinel_graph(query)\nprint(f\"Query returned {len(viz._node)} nodes and {len(viz._edge)} edges\")\n\nviz.plot()"
  },
  {
   "cell_type": "markdown",
   "metadata": {},
   "source": [
    "## Example 2: Inspect the Data\n",
    "\n",
    "Examine the structure of nodes and edges returned."
   ]
  },
  {
   "cell_type": "code",
   "execution_count": null,
   "metadata": {},
   "outputs": [],
   "source": [
    "# Access node and edge DataFrames\n",
    "print(\"=\" * 80)\n",
    "print(\"NODES\")\n",
    "print(\"=\" * 80)\n",
    "print(f\"Shape: {viz._node.shape}\")\n",
    "print(f\"Columns: {list(viz._node.columns)}\")\n",
    "print(\"\\nSample nodes:\")\n",
    "display(viz._node.head(3))\n",
    "\n",
    "print(\"\\n\" + \"=\" * 80)\n",
    "print(\"EDGES\")\n",
    "print(\"=\" * 80)\n",
    "print(f\"Shape: {viz._edge.shape}\")\n",
    "print(f\"Columns: {list(viz._edge.columns)}\")\n",
    "print(\"\\nSample edges:\")\n",
    "display(viz._edge.head(3))"
   ]
  },
  {
   "cell_type": "markdown",
   "metadata": {},
   "source": [
    "## Example 3: Enhanced Visualization\n",
    "\n",
    "Add visual encodings for better graph exploration."
   ]
  },
  {
   "cell_type": "code",
   "execution_count": null,
   "metadata": {},
   "outputs": [],
   "source": "styled = (\n    viz\n    .encode_edge_color('edge', as_categorical=True)\n    .encode_point_color('label', as_categorical=True)\n    .encode_point_size('label', default_mapping=100)\n)\n\nstyled.plot()"
  },
  {
   "cell_type": "markdown",
   "metadata": {},
   "source": "## Example 4: Query with Filters\n\nUse WHERE clause to filter results."
  },
  {
   "cell_type": "code",
   "execution_count": null,
   "metadata": {},
   "outputs": [],
   "source": "# Query with WHERE clause (adjust property name as needed for your graph)\nfiltered_query = \"\"\"\nMATCH (a)-[e]->(b)\nWHERE a.id IS NOT NULL\nRETURN *\nLIMIT 30\n\"\"\"\n\nfiltered_viz = g.sentinel_graph(filtered_query)\nprint(f\"Found {len(filtered_viz._edge)} edges\")\n\nfiltered_viz.plot()"
  },
  {
   "cell_type": "markdown",
   "metadata": {},
   "source": "## Example 5: Query Nodes Only\n\nRetrieve specific nodes from the graph."
  },
  {
   "cell_type": "code",
   "execution_count": null,
   "metadata": {},
   "outputs": [],
   "source": "# Query nodes only\nnodes_query = \"\"\"\nMATCH (n)\nRETURN n\nLIMIT 20\n\"\"\"\n\nnodes_viz = g.sentinel_graph(nodes_query)\nnodes_viz.plot()"
  },
  {
   "cell_type": "markdown",
   "metadata": {},
   "source": [
    "## Example 6: Error Handling\n",
    "\n",
    "Demonstrate robust error handling."
   ]
  },
  {
   "cell_type": "code",
   "execution_count": null,
   "metadata": {},
   "outputs": [],
   "source": [
    "try:\n",
    "    # Invalid query syntax\n",
    "    bad_query = \"INVALID SYNTAX\"\n",
    "    result = g.sentinel_graph(bad_query)\n",
    "except Exception as e:\n",
    "    print(f\"Query failed as expected: {type(e).__name__}\")\n",
    "    print(f\"Error message: {e}\")"
   ]
  },
  {
   "cell_type": "markdown",
   "metadata": {},
   "source": [
    "## Alternative Authentication: Service Principal\n",
    "\n",
    "For production environments, use service principal authentication with credentials stored securely."
   ]
  },
  {
   "cell_type": "code",
   "execution_count": null,
   "metadata": {},
   "outputs": [],
   "source": "# Uncomment and configure for production use\n#\n# import os\n# \n# g_prod = graphistry.configure_sentinel_graph(\n#     graph_instance='YourGraphInstance',  # Replace with your graph instance name\n#     tenant_id=os.environ.get('AZURE_TENANT_ID'),\n#     client_id=os.environ.get('AZURE_CLIENT_ID'),\n#     client_secret=os.environ.get('AZURE_CLIENT_SECRET')\n# )\n# \n# result = g_prod.sentinel_graph('MATCH (n) RETURN n LIMIT 10')\n# result.plot()"
  },
  {
   "cell_type": "markdown",
   "metadata": {},
   "source": [
    "## Cleanup\n",
    "\n",
    "Clear cached authentication token."
   ]
  },
  {
   "cell_type": "code",
   "execution_count": null,
   "metadata": {},
   "outputs": [],
   "source": [
    "g.sentinel_graph_close()\n",
    "print(\"✓ Sentinel Graph connection closed\")"
   ]
  }
 ],
 "metadata": {
  "kernelspec": {
   "display_name": "Python 3",
   "language": "python",
   "name": "python3"
  },
  "language_info": {
   "codemirror_mode": {
    "name": "ipython",
    "version": 3
   },
   "file_extension": ".py",
   "mimetype": "text/x-python",
   "name": "python",
   "nbconvert_exporter": "python",
   "pygments_lexer": "ipython3",
   "version": "3.8.0"
  }
 },
 "nbformat": 4,
 "nbformat_minor": 4
}