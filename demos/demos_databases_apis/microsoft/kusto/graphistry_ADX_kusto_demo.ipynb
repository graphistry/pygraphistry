{
 "cells": [
  {
   "cell_type": "markdown",
   "id": "c80d3a57-7c78-4bc3-bb4d-6b8cbd71f9fc",
   "metadata": {},
   "source": [
    "# Tutorial: Using Azure Data Explorer's Persistent Graphs with Kusto & Graphistry\n",
    "\n",
    "This tutorial demonstrates integrating Azure Data Explorer's (ADX) Persistent Graphs with PyGraphistry, enabling easy GPU-accelerated graph visualization and analytics.\n",
    "\n",
    "## Why Integrate\n",
    "\n",
    "Microsoft's ADX [Persistent Graphs](https://azure.microsoft.com/en-us/updates?id=495985) lets you define and reuse graph relationships directly with ADX. Native support brings reuse and speed.\n",
    "\n",
    "PyGraphistry's GPU-accelerated visual analytics pipelinesthat make complex graph investigations more interactive, intuitive, and insightful. Teams typically use Graphistry from existing workflows in notebooks, dashboards, and custom web apps to quickly make insightful graph experiences.\n",
    "\n",
    "Together, they simplify and accelerate full investigations into data already in Azure Data Explorer. Teams get to leverage their exsting investments into Kusto Query Language (KQL) and gain the ability to answer relationship-centric questions in domains like security, IT operations, user behavior, and supply chains, even at large scales.\n",
    "\n",
    "For a genAI-native approach where analysts can work in natural language to talk to Kusto and generate Graphistry visualizations, you may also be interested in [Louie.ai](https://www.louie.ai).\n",
    "\n",
    "## Tutorial Outline\n",
    "\n",
    "You'll learn to:\n",
    "\n",
    "* Query Kusto and ADX graphs with PyGraphistry\n",
    "* Create persistent graphs in Azure Data Explorer from a CSV\n",
    "* Explore and visualize results as dataframes and Graphistry GPU graph visualizations\n",
    "* Create graph pipelines with PyGraphistry\n",
    "\n",
    "Let's begin!"
   ]
  },
  {
   "cell_type": "markdown",
   "id": "a761a5b8-5a67-4d18-a72f-f04387aad089",
   "metadata": {},
   "source": [
    "## Setup\n",
    "\n",
    "Install pygraphistry and the [Kusto python client](link)\n",
    "\n",
    "```bash\n",
    "# Just Graphistry; bring your own Kusto install\n",
    "pip install graphistry\n",
    "\n",
    "# Bundled Kusto install\n",
    "pip install graphistry[kusto]\n",
    "\n",
    "```"
   ]
  },
  {
   "cell_type": "markdown",
   "id": "4b579c55-a691-49c3-a962-f88982722c00",
   "metadata": {},
   "source": [
    "## Take it for a spin:\n",
    "\n",
    "### Connect to Kusto and Graphistry\n",
    "\n",
    "Get a free [Graphistry Hub GPU API key](https://hub.graphistry.com) or run your own [server](https://www.graphistry.com/get-started)\n",
    "\n",
    "To learn more about authentication methods for different Graphistry configurations, check out [API authentication to Graphistry servers](https://pygraphistry.readthedocs.io/en/latest/server/register.html)"
   ]
  },
  {
   "cell_type": "code",
   "execution_count": 1,
   "id": "e84ffb6f-baf5-46a4-bb4e-ea0ac6bf0731",
   "metadata": {},
   "outputs": [],
   "source": [
    "import graphistry\n",
    "from datetime import datetime"
   ]
  },
  {
   "cell_type": "code",
   "execution_count": null,
   "id": "b5c0bc22-ec4e-4f8a-ada2-0c796bba08db",
   "metadata": {},
   "outputs": [],
   "source": [
    "# To specify Graphistry account & server, use:\n",
    "# graphistry.register(api=3, username='...', password='...', protocol='https', server='hub.graphistry.com')\n",
    "# For more options: https://pygraphistry.readthedocs.io/en/latest/server/register.html\n"
   ]
  },
  {
   "cell_type": "code",
   "execution_count": null,
   "id": "46524eb4-2781-4996-a8f8-f594f8c2e28d",
   "metadata": {},
   "outputs": [],
   "source": [
    "\n",
    "KUSTO_CONF = {\n",
    "    \"cluster\": \"https://<clustername>.<region>.kusto.windows.net\",\n",
    "    \"database\": \"<YourDatabase>\"\n",
    "}\n",
    "\n",
    "\n",
    "graphistry.configure_kusto(**KUSTO_CONF)"
   ]
  },
  {
   "cell_type": "markdown",
   "id": "0134053a-9305-4b17-b5d8-d18d6b343654",
   "metadata": {},
   "source": [
    "## Ingest data into your Azure Data Explorer cluster.\n",
    "\n",
    "Import the RedTeam50k dataset used in our [UMAP cyber demo notebook](https://github.com/graphistry/pygraphistry/blob/master/demos/ai/cyber/cyber-redteam-umap-demo.ipynb) into your Azure Data Explorer cluster.\n",
    "\n",
    "The dataset is a massaged version of the dataset publish by Alexander D. Kent.\n"
   ]
  },
  {
   "cell_type": "markdown",
   "id": "8e0be386-9984-4224-835c-ddbe1cd3baa6",
   "metadata": {},
   "source": [
    "### Executing using graphistry\n",
    "\n",
    "\n",
    "With your registered and configured pygraphistry object it is now easy to execute Kusto.\n",
    "\n",
    "We load the redteam50k dataset into our cluster.\n",
    "\n",
    "The \"kql\" function returns a list of dataframes. "
   ]
  },
  {
   "cell_type": "code",
   "execution_count": null,
   "id": "e6f2a171-f814-4f19-883d-71b28886865e",
   "metadata": {},
   "outputs": [],
   "source": [
    "graphistry.kql(\"\"\".execute script <|\n",
    ".create-or-alter function graphistryRedTeam50k () {\n",
    "    externaldata(index:long, event_time:long, src_domain:string, dst_domain:string, src_computer:string, dst_computer:string, auth_type:string, logontype:string, authentication_orientation:string, success_or_failure:string, RED:int, feats:string, feats2:string)\n",
    "    [\n",
    "        h@\"https://raw.githubusercontent.com/graphistry/pygraphistry/master/demos/data/graphistry_redteam50k.csv\"\n",
    "    ]\n",
    "    with(format=\"csv\", ignoreFirstRecord=true)\n",
    "    | extend event_time = datetime(2024-01-01) + event_time * 1s\n",
    "}\n",
    "\"\"\")"
   ]
  },
  {
   "cell_type": "markdown",
   "id": "e264c9ba-aea8-42b8-a585-bebf97fa8acb",
   "metadata": {},
   "source": [
    "### Grabbing a sample of data"
   ]
  },
  {
   "cell_type": "code",
   "execution_count": 5,
   "id": "834409ca-5d5b-4a2e-a629-4b2615155c2a",
   "metadata": {},
   "outputs": [
    {
     "name": "stdout",
     "output_type": "stream",
     "text": [
      "Query returned 1 results shapes: [(100, 13)] in 0.374 sec\n"
     ]
    },
    {
     "data": {
      "text/html": [
       "<div>\n",
       "<style scoped>\n",
       "    .dataframe tbody tr th:only-of-type {\n",
       "        vertical-align: middle;\n",
       "    }\n",
       "\n",
       "    .dataframe tbody tr th {\n",
       "        vertical-align: top;\n",
       "    }\n",
       "\n",
       "    .dataframe thead th {\n",
       "        text-align: right;\n",
       "    }\n",
       "</style>\n",
       "<table border=\"1\" class=\"dataframe\">\n",
       "  <thead>\n",
       "    <tr style=\"text-align: right;\">\n",
       "      <th></th>\n",
       "      <th>index</th>\n",
       "      <th>event_time</th>\n",
       "      <th>src_domain</th>\n",
       "      <th>dst_domain</th>\n",
       "      <th>src_computer</th>\n",
       "      <th>dst_computer</th>\n",
       "      <th>auth_type</th>\n",
       "      <th>logontype</th>\n",
       "      <th>authentication_orientation</th>\n",
       "      <th>success_or_failure</th>\n",
       "      <th>RED</th>\n",
       "      <th>feats</th>\n",
       "      <th>feats2</th>\n",
       "    </tr>\n",
       "  </thead>\n",
       "  <tbody>\n",
       "    <tr>\n",
       "      <th>0</th>\n",
       "      <td>30526246</td>\n",
       "      <td>2024-01-02 19:16:45+00:00</td>\n",
       "      <td>C7048$@DOM1</td>\n",
       "      <td>C7048$@DOM1</td>\n",
       "      <td>C7048</td>\n",
       "      <td>TGT</td>\n",
       "      <td>?</td>\n",
       "      <td>?</td>\n",
       "      <td>TGS</td>\n",
       "      <td>Success</td>\n",
       "      <td>0</td>\n",
       "      <td>C7048 TGT ? ?</td>\n",
       "      <td>C7048 TGT</td>\n",
       "    </tr>\n",
       "    <tr>\n",
       "      <th>1</th>\n",
       "      <td>5928201</td>\n",
       "      <td>2024-01-01 10:28:10+00:00</td>\n",
       "      <td>C15034$@DOM1</td>\n",
       "      <td>C15034$@DOM1</td>\n",
       "      <td>C15034</td>\n",
       "      <td>C467</td>\n",
       "      <td>?</td>\n",
       "      <td>?</td>\n",
       "      <td>TGS</td>\n",
       "      <td>Success</td>\n",
       "      <td>0</td>\n",
       "      <td>C15034 C467 ? ?</td>\n",
       "      <td>C15034 C467</td>\n",
       "    </tr>\n",
       "    <tr>\n",
       "      <th>2</th>\n",
       "      <td>21160461</td>\n",
       "      <td>2024-01-02 08:29:52+00:00</td>\n",
       "      <td>U2075@DOM1</td>\n",
       "      <td>U2075@DOM1</td>\n",
       "      <td>C529</td>\n",
       "      <td>C529</td>\n",
       "      <td>?</td>\n",
       "      <td>Network</td>\n",
       "      <td>LogOff</td>\n",
       "      <td>Success</td>\n",
       "      <td>0</td>\n",
       "      <td>C529 C529 ? Network</td>\n",
       "      <td>C529 C529</td>\n",
       "    </tr>\n",
       "    <tr>\n",
       "      <th>3</th>\n",
       "      <td>2182328</td>\n",
       "      <td>2024-01-01 06:06:59+00:00</td>\n",
       "      <td>C3547$@DOM1</td>\n",
       "      <td>C3547$@DOM1</td>\n",
       "      <td>C457</td>\n",
       "      <td>C457</td>\n",
       "      <td>?</td>\n",
       "      <td>Network</td>\n",
       "      <td>LogOff</td>\n",
       "      <td>Success</td>\n",
       "      <td>0</td>\n",
       "      <td>C457 C457 ? Network</td>\n",
       "      <td>C457 C457</td>\n",
       "    </tr>\n",
       "    <tr>\n",
       "      <th>4</th>\n",
       "      <td>28495743</td>\n",
       "      <td>2024-01-02 16:26:12+00:00</td>\n",
       "      <td>C567$@DOM1</td>\n",
       "      <td>C567$@DOM1</td>\n",
       "      <td>C574</td>\n",
       "      <td>C523</td>\n",
       "      <td>Kerberos</td>\n",
       "      <td>Network</td>\n",
       "      <td>LogOn</td>\n",
       "      <td>Success</td>\n",
       "      <td>0</td>\n",
       "      <td>C574 C523 Kerberos Network</td>\n",
       "      <td>C574 C523</td>\n",
       "    </tr>\n",
       "  </tbody>\n",
       "</table>\n",
       "</div>"
      ],
      "text/plain": [
       "      index                event_time    src_domain    dst_domain  \\\n",
       "0  30526246 2024-01-02 19:16:45+00:00   C7048$@DOM1   C7048$@DOM1   \n",
       "1   5928201 2024-01-01 10:28:10+00:00  C15034$@DOM1  C15034$@DOM1   \n",
       "2  21160461 2024-01-02 08:29:52+00:00    U2075@DOM1    U2075@DOM1   \n",
       "3   2182328 2024-01-01 06:06:59+00:00   C3547$@DOM1   C3547$@DOM1   \n",
       "4  28495743 2024-01-02 16:26:12+00:00    C567$@DOM1    C567$@DOM1   \n",
       "\n",
       "  src_computer dst_computer auth_type logontype authentication_orientation  \\\n",
       "0        C7048          TGT         ?         ?                        TGS   \n",
       "1       C15034         C467         ?         ?                        TGS   \n",
       "2         C529         C529         ?   Network                     LogOff   \n",
       "3         C457         C457         ?   Network                     LogOff   \n",
       "4         C574         C523  Kerberos   Network                      LogOn   \n",
       "\n",
       "  success_or_failure  RED                       feats       feats2  \n",
       "0            Success    0               C7048 TGT ? ?    C7048 TGT  \n",
       "1            Success    0             C15034 C467 ? ?  C15034 C467  \n",
       "2            Success    0         C529 C529 ? Network    C529 C529  \n",
       "3            Success    0         C457 C457 ? Network    C457 C457  \n",
       "4            Success    0  C574 C523 Kerberos Network    C574 C523  "
      ]
     },
     "execution_count": 5,
     "metadata": {},
     "output_type": "execute_result"
    }
   ],
   "source": [
    "# Grabbing the first dataframe\n",
    "\n",
    "df = graphistry.kql(\"graphistryRedTeam50k | take 100\")\n",
    "\n",
    "df.head(5)"
   ]
  },
  {
   "cell_type": "markdown",
   "id": "72e19568-3045-4662-bab4-167f4e3c7b63",
   "metadata": {},
   "source": [
    "## Building the schema and persisting the graph\n",
    "\n",
    "A graph model defines the specifications of a graph stored in your database metadata.\n",
    "\n",
    "Schema definition: \n",
    "* Node and edge types with their properties\n",
    "* Data source mappings: Instructions for building the graph from tabular data\n",
    "* Labels: Both static (predefined) and dynamic (generated at runtime) labels for nodes and edges\n",
    "* Graph models contain the blueprint for creating graph snapshots, not the actual graph data.\n",
    "\n",
    "Read more: [Kusto Graph models](https://learn.microsoft.com/en-us/kusto/management/graph/graph-persistent-overview?view=microsoft-fabric#graph-models)"
   ]
  },
  {
   "cell_type": "code",
   "execution_count": null,
   "id": "3a4edacb-5a6c-4376-994f-131ccc8156f7",
   "metadata": {},
   "outputs": [],
   "source": [
    "GRAPH_NAME = \"graphistryRedTeamGraph\"\n",
    "graphistry.kql(f\".create-or-alter graph_model {GRAPH_NAME}\" + \"\"\"```\n",
    "{\n",
    "    \"Schema\": {\n",
    "        \"Nodes\": {\n",
    "            \"Computer\": {\"computerName\": \"string\", \"RED\":\"int\"},\n",
    "            \"Domain\": {\"domainName\": \"string\", \"RED\":\"int\"}\n",
    "        },\n",
    "        \"Edges\": {\n",
    "            \"AUTHENTICATES\": {\n",
    "                \"event_time\": \"datetime\",\n",
    "                \"src_computer\": \"string\",\n",
    "                \"dst_computer\": \"string\",\n",
    "                \"src_domain\": \"string\",\n",
    "                \"dst_domain\": \"string\",\n",
    "                \"auth_type\": \"string\",\n",
    "                \"logontype\": \"string\",\n",
    "                \"authentication_orientation\": \"string\",\n",
    "                \"success_or_failure\": \"string\",\n",
    "                \"RED\": \"int\"\n",
    "            }\n",
    "        }\n",
    "    },\n",
    "    \"Definition\": {\n",
    "        \"Steps\": [\n",
    "            {\n",
    "                \"Kind\": \"AddNodes\",\n",
    "                \"Query\": \"graphistryRedTeam50k | project computerName = src_computer, RED, nodeType = 'Computer'\",\n",
    "                \"NodeIdColumn\": \"computerName\",\n",
    "                \"Labels\": [\"Computer\"],\n",
    "                \"LabelsColumn\": \"nodeType\"\n",
    "            },\n",
    "            {\n",
    "                \"Kind\": \"AddNodes\",\n",
    "                \"Query\": \"graphistryRedTeam50k | project computerName = dst_computer, RED, nodeType = 'Computer'\",\n",
    "                \"NodeIdColumn\": \"computerName\",\n",
    "                \"Labels\": [\"Computer\"],\n",
    "                \"LabelsColumn\": \"nodeType\"\n",
    "            },\n",
    "            {\n",
    "                \"Kind\": \"AddNodes\",\n",
    "                \"Query\": \"graphistryRedTeam50k | project domainName = src_domain, nodeType = 'Domain',RED\",\n",
    "                \"NodeIdColumn\": \"domainName\",\n",
    "                \"Labels\": [\"Domain\"],\n",
    "                \"LabelsColumn\": \"nodeType\"\n",
    "            },\n",
    "            {\n",
    "                \"Kind\": \"AddNodes\",\n",
    "                \"Query\": \"graphistryRedTeam50k | project domainName = dst_domain, nodeType = 'Domain',RED\",\n",
    "                \"NodeIdColumn\": \"domainName\",\n",
    "                \"Labels\": [\"Domain\"],\n",
    "                \"LabelsColumn\": \"nodeType\"\n",
    "            },\n",
    "            {\n",
    "                \"Kind\": \"AddEdges\",\n",
    "                \"Query\": \"graphistryRedTeam50k | project event_time, src_computer, dst_computer, src_domain, dst_domain, auth_type, logontype, authentication_orientation, success_or_failure, RED\",\n",
    "                \"SourceColumn\": \"src_computer\",\n",
    "                \"TargetColumn\": \"dst_computer\",\n",
    "                \"Labels\": [\"AUTHENTICATES\"]\n",
    "            }\n",
    "        ]\n",
    "    }\n",
    "}```\n",
    "\"\"\")"
   ]
  },
  {
   "cell_type": "markdown",
   "id": "bd837ec7-8d20-4757-8ac7-61be8c246c4e",
   "metadata": {},
   "source": [
    "## Making the snapshot\n",
    "\n",
    "A graph snapshot is the actual graph instance materialized from a graph model. It represents:\n",
    "\n",
    "* A specific point-in-time view of the data as defined by the model\n",
    "* The nodes, edges, and their properties in a queryable format\n",
    "* A self-contained entity that persists until explicitly removed\n",
    "\n",
    "Snapshots are the entities you query when working with persistent graphs. \n",
    "Read more: [Kusto Graph snapshot](https://learn.microsoft.com/en-us/kusto/management/graph/graph-persistent-overview?view=microsoft-fabric#graph-snapshots)\n"
   ]
  },
  {
   "cell_type": "code",
   "execution_count": 7,
   "id": "8b2652cb-1326-4ab8-b5c5-ec5f641ade61",
   "metadata": {},
   "outputs": [
    {
     "data": {
      "text/plain": [
       "'InitialSnap_07_07_2025_21_37_03'"
      ]
     },
     "execution_count": 7,
     "metadata": {},
     "output_type": "execute_result"
    }
   ],
   "source": [
    "# create snapshot name dynamically by adding current timestamp\n",
    "timestamp = datetime.now().strftime(\"%m_%d_%Y_%H_%M_%S\")\n",
    "\n",
    "snapshot_name = \"InitialSnap_\" + timestamp  # append timestamp to always get a unique snapshot name for each run\n",
    "snapshot_name"
   ]
  },
  {
   "cell_type": "code",
   "execution_count": null,
   "id": "66ee02f4-dd21-43d9-977b-31b366a52257",
   "metadata": {},
   "outputs": [],
   "source": [
    "graph_snapshot_query = f\".make graph_snapshot {snapshot_name} from {GRAPH_NAME}\"\n",
    "\n",
    "graphistry.kql(graph_snapshot_query)"
   ]
  },
  {
   "cell_type": "markdown",
   "id": "039b7224-c387-4262-86c1-16eea1c518d7",
   "metadata": {},
   "source": [
    "# Graph Visualization\n",
    "\n",
    "\n",
    "Once your **data**, **persistent graph** and **snapshot** is created in your Azure Data Explorer cluster it is time to see the power of Graphistry's GPU-accelerated visual interface.\n",
    "\n",
    "The kusto_graph function accepts two parameters. \n",
    "The name of the graph, and the name of your snapshot **(snap_name=\"name\")**. If you don't provide a snapshot it will grab the latest snapshot.\n",
    "\n",
    "The function returns a Graphistry plottable object.\n",
    "\n",
    "You can inspect the nodes and edges, add customizations or .plot() it as is."
   ]
  },
  {
   "cell_type": "code",
   "execution_count": 9,
   "id": "b7b51e72-cc58-4ef8-8189-4353fc2f87cc",
   "metadata": {},
   "outputs": [
    {
     "name": "stdout",
     "output_type": "stream",
     "text": [
      "Query returned 2 results shapes: [(21984, 5), (50749, 12)] in 2.153 sec\n"
     ]
    }
   ],
   "source": [
    "g = graphistry.kusto_graph(GRAPH_NAME, snap_name=snapshot_name)"
   ]
  },
  {
   "cell_type": "markdown",
   "id": "46d71bbb-92ec-41cb-86e7-0296cc02dc8a",
   "metadata": {},
   "source": [
    "## Plotting your object"
   ]
  },
  {
   "cell_type": "code",
   "execution_count": 10,
   "id": "e4aa923b-bdb6-4104-9a0f-348487fd9041",
   "metadata": {},
   "outputs": [
    {
     "data": {
      "text/html": [
       "\n",
       "            <iframe id=\"c8a9b3f0-13aa-4287-84b7-bb65ba2afd54\" src=\"https://hub.graphistry.com/graph/graph.html?dataset=6928186b871740cca1376a59a8f12b0c&type=arrow&viztoken=e7810a31-9bc6-440e-8d79-af538249becc&usertag=b63d9ec6-pygraphistry-0.39.0+1.ge60286fd&splashAfter=1751942249&info=true\"\n",
       "                    allowfullscreen=\"true\" webkitallowfullscreen=\"true\" mozallowfullscreen=\"true\"\n",
       "                    oallowfullscreen=\"true\" msallowfullscreen=\"true\"\n",
       "                    style=\"width:100%; height:500px; border: 1px solid #DDD; overflow: hidden\"\n",
       "                    \n",
       "            >\n",
       "            </iframe>\n",
       "        \n",
       "            <script>\n",
       "                try {\n",
       "                  $(\"#c8a9b3f0-13aa-4287-84b7-bb65ba2afd54\").bind('mousewheel', function(e) { e.preventDefault(); });\n",
       "                } catch (e) { console.error('exn catching scroll', e); }\n",
       "            </script>\n",
       "        "
      ],
      "text/plain": [
       "<IPython.core.display.HTML object>"
      ]
     },
     "execution_count": 10,
     "metadata": {},
     "output_type": "execute_result"
    }
   ],
   "source": [
    "g.plot()"
   ]
  },
  {
   "cell_type": "markdown",
   "id": "a23bda5b-1f39-46f0-a634-73071c3c512d",
   "metadata": {},
   "source": [
    "### Changing colors, icons and more\n",
    "\n",
    "\n",
    "Our data consists of two datasets where one contains verified red team activity. In the dataset these are tagged with the value 1 in the column **RED**.\n",
    "\n",
    "Let's make our red nodes pop out in our visualization.\n",
    "As our data is split into two different type of nodes **\"Computer\"** and **\"Domain\"**\n",
    "We also add some icons to make it easier to distinguish the different nodetypes we have.\n",
    "\n",
    "\n",
    "Learn more here: [Graphistry Visualization](https://pygraphistry.readthedocs.io/en/latest/notebooks/visualization.html)"
   ]
  },
  {
   "cell_type": "code",
   "execution_count": 11,
   "id": "0d15a4b9-431f-4b74-bc3c-dbfc4bf3d637",
   "metadata": {},
   "outputs": [
    {
     "data": {
      "text/html": [
       "\n",
       "            <iframe id=\"86339872-6988-4fe5-93e9-eb4646e582be\" src=\"https://hub.graphistry.com/graph/graph.html?dataset=8a603307b17a4b78ad78fee3c713f7dc&type=arrow&viztoken=d243ccc0-8376-4d5b-a1a9-ff7ee4cbeafc&usertag=b63d9ec6-pygraphistry-0.39.0+1.ge60286fd&splashAfter=1751942253&info=true\"\n",
       "                    allowfullscreen=\"true\" webkitallowfullscreen=\"true\" mozallowfullscreen=\"true\"\n",
       "                    oallowfullscreen=\"true\" msallowfullscreen=\"true\"\n",
       "                    style=\"width:100%; height:500px; border: 1px solid #DDD; overflow: hidden\"\n",
       "                    \n",
       "            >\n",
       "            </iframe>\n",
       "        \n",
       "            <script>\n",
       "                try {\n",
       "                  $(\"#86339872-6988-4fe5-93e9-eb4646e582be\").bind('mousewheel', function(e) { e.preventDefault(); });\n",
       "                } catch (e) { console.error('exn catching scroll', e); }\n",
       "            </script>\n",
       "        "
      ],
      "text/plain": [
       "<IPython.core.display.HTML object>"
      ]
     },
     "execution_count": 11,
     "metadata": {},
     "output_type": "execute_result"
    }
   ],
   "source": [
    "g2 = g.encode_point_color(\n",
    "    \"RED\",\n",
    "    categorical_mapping={\n",
    "        1: \"red\"\n",
    "    },\n",
    "    default_mapping='silver'\n",
    ")\n",
    "g3 = g2.encode_point_icon(\n",
    "    'nodeType',\n",
    "    shape=\"circle\",\n",
    "    categorical_mapping={\n",
    "        \"Computer\": \"laptop\", \n",
    "        \"Domain\": \"server\"\n",
    "    },\n",
    "    default_mapping=\"question\")\n",
    "\n",
    "g3.plot()"
   ]
  },
  {
   "cell_type": "markdown",
   "id": "70868864",
   "metadata": {},
   "source": [
    "## Next steps\n",
    "\n",
    "* [Kusto Graph](https://learn.microsoft.com/en-us/kusto/query/graph-semantics-overview?view=microsoft-fabric)\n",
    "* [10 Minutes to PyGraphistry](https://pygraphistry.readthedocs.io/en/latest/10min.html)\n",
    "* [10 Min to GFQL (graph query)](https://pygraphistry.readthedocs.io/en/latest/gfql/about.html)\n",
    "* [GenAI investigations with Louie.ai](https://louie.ai/)"
   ]
  },
  {
   "cell_type": "markdown",
   "id": "ea1c3015",
   "metadata": {},
   "source": [
    "Data:\n",
    "```\n",
    "A. D. Kent, “Comprehensive, Multi-Source Cybersecurity Events,”\n",
    "Los Alamos National Laboratory, http://dx.doi.org/10.17021/1179829, 2015.\n",
    "\n",
    "@Misc{kent-2015-cyberdata1,\n",
    "  author =     {Alexander D. Kent},\n",
    "  title =      {{Comprehensive, Multi-Source Cyber-Security Events}},\n",
    "  year =       {2015},\n",
    "  howpublished = {Los Alamos National Laboratory},\n",
    "  doi = {10.17021/1179829}\n",
    "}\n",
    "```"
   ]
  }
 ],
 "metadata": {
  "kernelspec": {
   "display_name": "Python 3 (ipykernel)",
   "language": "python",
   "name": "python3"
  },
  "language_info": {
   "codemirror_mode": {
    "name": "ipython",
    "version": 3
   },
   "file_extension": ".py",
   "mimetype": "text/x-python",
   "name": "python",
   "nbconvert_exporter": "python",
   "pygments_lexer": "ipython3",
   "version": "3.12.3"
  }
 },
 "nbformat": 4,
 "nbformat_minor": 5
}
