{
 "cells": [
  {
   "cell_type": "markdown",
   "metadata": {
    "application/vnd.databricks.v1+cell": {
     "inputWidgets": {},
     "nuid": "69dde01b-e309-46b7-bfce-5434e3a6f55a",
     "showTitle": false,
     "title": ""
    }
   },
   "source": [
    "# Databricks <> Graphistry Tutorial: Notebooks & Dashboards on IoT data\n",
    "\n",
    "This tutorial visualizes a set of sensors by clustering them based on lattitude/longitude and overlaying summary statistics\n",
    "\n",
    "We show how to load the interactive plots both with Databricks notebook and dashboard modes. The general flow should work in other PySpark environments as well.\n",
    "\n",
    "Steps:\n",
    "\n",
    "* Install Graphistry\n",
    "* Prepare IoT data\n",
    "* Plot in a notebook\n",
    "* Plot in a dashboard\n",
    "* Plot as a shareable URL"
   ]
  },
  {
   "cell_type": "markdown",
   "metadata": {
    "application/vnd.databricks.v1+cell": {
     "inputWidgets": {},
     "nuid": "44174981-e70b-4624-8521-beac9ac103bb",
     "showTitle": false,
     "title": ""
    }
   },
   "source": [
    "## Install & connect"
   ]
  },
  {
   "cell_type": "code",
   "execution_count": 0,
   "metadata": {
    "application/vnd.databricks.v1+cell": {
     "inputWidgets": {},
     "nuid": "eaf03d3c-d046-4f96-825e-5db2355af383",
     "showTitle": false,
     "title": ""
    }
   },
   "outputs": [
    {
     "data": {
      "text/html": [
       "<style scoped>\n",
       "  .ansiout {\n",
       "    display: block;\n",
       "    unicode-bidi: embed;\n",
       "    white-space: pre-wrap;\n",
       "    word-wrap: break-word;\n",
       "    word-break: break-all;\n",
       "    font-family: \"Source Code Pro\", \"Menlo\", monospace;;\n",
       "    font-size: 13px;\n",
       "    color: #555;\n",
       "    margin-left: 4px;\n",
       "    line-height: 19px;\n",
       "  }\n",
       "</style>\n",
       "<div class=\"ansiout\"></div>"
      ]
     },
     "metadata": {
      "application/vnd.databricks.v1+output": {
       "addedWidgets": {},
       "arguments": {},
       "data": "<div class=\"ansiout\"></div>",
       "datasetInfos": [],
       "metadata": {},
       "removedWidgets": [],
       "type": "html"
      }
     },
     "output_type": "display_data"
    }
   ],
   "source": [
    "# Uncomment and run first time\n",
    "! pip install graphistry\n",
    "#! pip install git+https://github.com/graphistry/pygraphistry.git@dev/databricks\n",
    "    \n",
    "# Can sometimes help:\n",
    "#dbutils.library.restartPython()"
   ]
  },
  {
   "cell_type": "code",
   "execution_count": 0,
   "metadata": {
    "application/vnd.databricks.v1+cell": {
     "inputWidgets": {},
     "nuid": "9e649f0e-fca5-4be6-8ad6-fa781bbb81d6",
     "showTitle": false,
     "title": ""
    }
   },
   "outputs": [
    {
     "data": {
      "text/html": [
       "<style scoped>\n",
       "  .ansiout {\n",
       "    display: block;\n",
       "    unicode-bidi: embed;\n",
       "    white-space: pre-wrap;\n",
       "    word-wrap: break-word;\n",
       "    word-break: break-all;\n",
       "    font-family: \"Source Code Pro\", \"Menlo\", monospace;;\n",
       "    font-size: 13px;\n",
       "    color: #555;\n",
       "    margin-left: 4px;\n",
       "    line-height: 19px;\n",
       "  }\n",
       "</style>\n",
       "<div class=\"ansiout\"></div>"
      ]
     },
     "metadata": {
      "application/vnd.databricks.v1+output": {
       "addedWidgets": {},
       "arguments": {},
       "data": "<div class=\"ansiout\"></div>",
       "datasetInfos": [],
       "metadata": {},
       "removedWidgets": [],
       "type": "html"
      }
     },
     "output_type": "display_data"
    }
   ],
   "source": [
    "#Optional: Uncomment - We find this speeds up calls 10%+ on some datasets\n",
    "#spark.conf.set(\"spark.sql.execution.arrow.enabled\", \"true\")"
   ]
  },
  {
   "cell_type": "code",
   "execution_count": 0,
   "metadata": {
    "application/vnd.databricks.v1+cell": {
     "inputWidgets": {},
     "nuid": "cfd253ba-c647-4c45-8048-58b0ca427569",
     "showTitle": false,
     "title": ""
    }
   },
   "outputs": [
    {
     "data": {
      "text/html": [
       "<style scoped>\n",
       "  .ansiout {\n",
       "    display: block;\n",
       "    unicode-bidi: embed;\n",
       "    white-space: pre-wrap;\n",
       "    word-wrap: break-word;\n",
       "    word-break: break-all;\n",
       "    font-family: \"Source Code Pro\", \"Menlo\", monospace;;\n",
       "    font-size: 13px;\n",
       "    color: #555;\n",
       "    margin-left: 4px;\n",
       "    line-height: 19px;\n",
       "  }\n",
       "</style>\n",
       "<div class=\"ansiout\">Out[4]: &#39;0.20.2+10.gad31a2271&#39;</div>"
      ]
     },
     "metadata": {
      "application/vnd.databricks.v1+output": {
       "addedWidgets": {},
       "arguments": {},
       "data": "<div class=\"ansiout\">Out[4]: &#39;0.20.2+10.gad31a2271&#39;</div>",
       "datasetInfos": [],
       "metadata": {},
       "removedWidgets": [],
       "type": "html"
      }
     },
     "output_type": "display_data"
    }
   ],
   "source": [
    "import graphistry  # if not yet available, install and/or restart Python kernel using the above\n",
    "\n",
    "# To specify Graphistry account & server, use:\n",
    "# graphistry.register(api=3, username='...', password='...', protocol='https', server='hub.graphistry.com')\n",
    "# For more options, see https://github.com/graphistry/pygraphistry#configure\n",
    "\n",
    "graphistry.__version__"
   ]
  },
  {
   "cell_type": "markdown",
   "metadata": {
    "application/vnd.databricks.v1+cell": {
     "inputWidgets": {},
     "nuid": "68965388-9e8b-46f8-b9b1-e8231e9eed4c",
     "showTitle": false,
     "title": ""
    }
   },
   "source": [
    "## Prepare IoT data\n",
    "Sample data provided by Databricks\n",
    "\n",
    "We create tables for different plots:\n",
    "\n",
    "* Raw table of device sensor reads\n",
    "* Summarized table:\n",
    "  - rounded latitude/longitude\n",
    "  - summarize min/max/avg for battery_level, c02_level, humidity, timestamp"
   ]
  },
  {
   "cell_type": "code",
   "execution_count": 0,
   "metadata": {
    "application/vnd.databricks.v1+cell": {
     "inputWidgets": {},
     "nuid": "c187c650-01c2-4e48-b8e0-803e937cdb11",
     "showTitle": false,
     "title": ""
    }
   },
   "outputs": [
    {
     "data": {
      "text/html": [
       "<style scoped>\n",
       "  .ansiout {\n",
       "    display: block;\n",
       "    unicode-bidi: embed;\n",
       "    white-space: pre-wrap;\n",
       "    word-wrap: break-word;\n",
       "    word-break: break-all;\n",
       "    font-family: \"Source Code Pro\", \"Menlo\", monospace;;\n",
       "    font-size: 13px;\n",
       "    color: #555;\n",
       "    margin-left: 4px;\n",
       "    line-height: 19px;\n",
       "  }\n",
       "</style>\n",
       "<div class=\"ansiout\">type:  &lt;class &#39;pyspark.sql.dataframe.DataFrame&#39;&gt;\n",
       "</div>"
      ]
     },
     "metadata": {
      "application/vnd.databricks.v1+output": {
       "addedWidgets": {},
       "arguments": {},
       "data": "<div class=\"ansiout\">type:  &lt;class &#39;pyspark.sql.dataframe.DataFrame&#39;&gt;\n</div>",
       "datasetInfos": [],
       "metadata": {},
       "removedWidgets": [],
       "type": "html"
      }
     },
     "output_type": "display_data"
    },
    {
     "data": {
      "text/html": [
       "<style scoped>\n",
       "  .table-result-container {\n",
       "    max-height: 300px;\n",
       "    overflow: auto;\n",
       "  }\n",
       "  table, th, td {\n",
       "    border: 1px solid black;\n",
       "    border-collapse: collapse;\n",
       "  }\n",
       "  th, td {\n",
       "    padding: 5px;\n",
       "  }\n",
       "  th {\n",
       "    text-align: left;\n",
       "  }\n",
       "</style><div class='table-result-container'><table class='table-result'><thead style='background-color: white'><tr><th>battery_level</th><th>c02_level</th><th>cca2</th><th>cca3</th><th>cn</th><th>device_id</th><th>device_name</th><th>humidity</th><th>ip</th><th>latitude</th><th>lcd</th><th>longitude</th><th>scale</th><th>temp</th><th>timestamp</th></tr></thead><tbody><tr><td>8</td><td>868</td><td>US</td><td>USA</td><td>United States</td><td>1</td><td>meter-gauge-1xbYRYcj</td><td>51</td><td>68.161.225.1</td><td>38.0</td><td>green</td><td>-97.0</td><td>Celsius</td><td>34</td><td>1458444054093</td></tr><tr><td>7</td><td>1473</td><td>NO</td><td>NOR</td><td>Norway</td><td>2</td><td>sensor-pad-2n2Pea</td><td>70</td><td>213.161.254.1</td><td>62.47</td><td>red</td><td>6.15</td><td>Celsius</td><td>11</td><td>1458444054119</td></tr><tr><td>2</td><td>1556</td><td>IT</td><td>ITA</td><td>Italy</td><td>3</td><td>device-mac-36TWSKiT</td><td>44</td><td>88.36.5.1</td><td>42.83</td><td>red</td><td>12.83</td><td>Celsius</td><td>19</td><td>1458444054120</td></tr><tr><td>6</td><td>1080</td><td>US</td><td>USA</td><td>United States</td><td>4</td><td>sensor-pad-4mzWkz</td><td>32</td><td>66.39.173.154</td><td>44.06</td><td>yellow</td><td>-121.32</td><td>Celsius</td><td>28</td><td>1458444054121</td></tr><tr><td>4</td><td>931</td><td>PH</td><td>PHL</td><td>Philippines</td><td>5</td><td>therm-stick-5gimpUrBB</td><td>62</td><td>203.82.41.9</td><td>14.58</td><td>green</td><td>120.97</td><td>Celsius</td><td>25</td><td>1458444054122</td></tr><tr><td>3</td><td>1210</td><td>US</td><td>USA</td><td>United States</td><td>6</td><td>sensor-pad-6al7RTAobR</td><td>51</td><td>204.116.105.67</td><td>35.93</td><td>yellow</td><td>-85.46</td><td>Celsius</td><td>27</td><td>1458444054122</td></tr><tr><td>3</td><td>1129</td><td>CN</td><td>CHN</td><td>China</td><td>7</td><td>meter-gauge-7GeDoanM</td><td>26</td><td>220.173.179.1</td><td>22.82</td><td>yellow</td><td>108.32</td><td>Celsius</td><td>18</td><td>1458444054123</td></tr><tr><td>0</td><td>1536</td><td>JP</td><td>JPN</td><td>Japan</td><td>8</td><td>sensor-pad-8xUD6pzsQI</td><td>35</td><td>210.173.177.1</td><td>35.69</td><td>red</td><td>139.69</td><td>Celsius</td><td>27</td><td>1458444054123</td></tr><tr><td>3</td><td>807</td><td>JP</td><td>JPN</td><td>Japan</td><td>9</td><td>device-mac-9GcjZ2pw</td><td>85</td><td>118.23.68.227</td><td>35.69</td><td>green</td><td>139.69</td><td>Celsius</td><td>13</td><td>1458444054124</td></tr><tr><td>7</td><td>1470</td><td>US</td><td>USA</td><td>United States</td><td>10</td><td>sensor-pad-10BsywSYUF</td><td>56</td><td>208.109.163.218</td><td>33.61</td><td>red</td><td>-111.89</td><td>Celsius</td><td>26</td><td>1458444054125</td></tr></tbody></table></div>"
      ]
     },
     "metadata": {
      "application/vnd.databricks.v1+output": {
       "addedWidgets": {},
       "aggData": [],
       "aggError": "",
       "aggOverflow": false,
       "aggSchema": [],
       "aggSeriesLimitReached": false,
       "aggType": "",
       "arguments": {},
       "columnCustomDisplayInfos": {},
       "data": [
        [
         8,
         868,
         "US",
         "USA",
         "United States",
         1,
         "meter-gauge-1xbYRYcj",
         51,
         "68.161.225.1",
         38,
         "green",
         -97,
         "Celsius",
         34,
         1458444054093
        ],
        [
         7,
         1473,
         "NO",
         "NOR",
         "Norway",
         2,
         "sensor-pad-2n2Pea",
         70,
         "213.161.254.1",
         62.47,
         "red",
         6.15,
         "Celsius",
         11,
         1458444054119
        ],
        [
         2,
         1556,
         "IT",
         "ITA",
         "Italy",
         3,
         "device-mac-36TWSKiT",
         44,
         "88.36.5.1",
         42.83,
         "red",
         12.83,
         "Celsius",
         19,
         1458444054120
        ],
        [
         6,
         1080,
         "US",
         "USA",
         "United States",
         4,
         "sensor-pad-4mzWkz",
         32,
         "66.39.173.154",
         44.06,
         "yellow",
         -121.32,
         "Celsius",
         28,
         1458444054121
        ],
        [
         4,
         931,
         "PH",
         "PHL",
         "Philippines",
         5,
         "therm-stick-5gimpUrBB",
         62,
         "203.82.41.9",
         14.58,
         "green",
         120.97,
         "Celsius",
         25,
         1458444054122
        ],
        [
         3,
         1210,
         "US",
         "USA",
         "United States",
         6,
         "sensor-pad-6al7RTAobR",
         51,
         "204.116.105.67",
         35.93,
         "yellow",
         -85.46,
         "Celsius",
         27,
         1458444054122
        ],
        [
         3,
         1129,
         "CN",
         "CHN",
         "China",
         7,
         "meter-gauge-7GeDoanM",
         26,
         "220.173.179.1",
         22.82,
         "yellow",
         108.32,
         "Celsius",
         18,
         1458444054123
        ],
        [
         0,
         1536,
         "JP",
         "JPN",
         "Japan",
         8,
         "sensor-pad-8xUD6pzsQI",
         35,
         "210.173.177.1",
         35.69,
         "red",
         139.69,
         "Celsius",
         27,
         1458444054123
        ],
        [
         3,
         807,
         "JP",
         "JPN",
         "Japan",
         9,
         "device-mac-9GcjZ2pw",
         85,
         "118.23.68.227",
         35.69,
         "green",
         139.69,
         "Celsius",
         13,
         1458444054124
        ],
        [
         7,
         1470,
         "US",
         "USA",
         "United States",
         10,
         "sensor-pad-10BsywSYUF",
         56,
         "208.109.163.218",
         33.61,
         "red",
         -111.89,
         "Celsius",
         26,
         1458444054125
        ]
       ],
       "datasetInfos": [],
       "dbfsResultPath": null,
       "isJsonSchema": true,
       "metadata": {},
       "overflow": false,
       "plotOptions": {
        "customPlotOptions": {},
        "displayType": "table",
        "pivotAggregation": null,
        "pivotColumns": [],
        "xColumns": [],
        "yColumns": []
       },
       "removedWidgets": [],
       "schema": [
        {
         "metadata": "{}",
         "name": "battery_level",
         "type": "\"long\""
        },
        {
         "metadata": "{}",
         "name": "c02_level",
         "type": "\"long\""
        },
        {
         "metadata": "{}",
         "name": "cca2",
         "type": "\"string\""
        },
        {
         "metadata": "{}",
         "name": "cca3",
         "type": "\"string\""
        },
        {
         "metadata": "{}",
         "name": "cn",
         "type": "\"string\""
        },
        {
         "metadata": "{}",
         "name": "device_id",
         "type": "\"long\""
        },
        {
         "metadata": "{}",
         "name": "device_name",
         "type": "\"string\""
        },
        {
         "metadata": "{}",
         "name": "humidity",
         "type": "\"long\""
        },
        {
         "metadata": "{}",
         "name": "ip",
         "type": "\"string\""
        },
        {
         "metadata": "{}",
         "name": "latitude",
         "type": "\"double\""
        },
        {
         "metadata": "{}",
         "name": "lcd",
         "type": "\"string\""
        },
        {
         "metadata": "{}",
         "name": "longitude",
         "type": "\"double\""
        },
        {
         "metadata": "{}",
         "name": "scale",
         "type": "\"string\""
        },
        {
         "metadata": "{}",
         "name": "temp",
         "type": "\"long\""
        },
        {
         "metadata": "{}",
         "name": "timestamp",
         "type": "\"long\""
        }
       ],
       "type": "table"
      }
     },
     "output_type": "display_data"
    }
   ],
   "source": [
    "# Load the data from its source.\n",
    "devices = spark.read \\\n",
    "  .format('json') \\\n",
    "  .load('/databricks-datasets/iot/iot_devices.json')\n",
    "\n",
    "# Show the results.\n",
    "print('type: ', str(type(devices)))\n",
    "display(devices.take(10))"
   ]
  },
  {
   "cell_type": "code",
   "execution_count": 0,
   "metadata": {
    "application/vnd.databricks.v1+cell": {
     "inputWidgets": {},
     "nuid": "c69b91ed-c172-47b7-9bb7-27532202179a",
     "showTitle": false,
     "title": ""
    }
   },
   "outputs": [
    {
     "data": {
      "text/html": [
       "<style scoped>\n",
       "  .table-result-container {\n",
       "    max-height: 300px;\n",
       "    overflow: auto;\n",
       "  }\n",
       "  table, th, td {\n",
       "    border: 1px solid black;\n",
       "    border-collapse: collapse;\n",
       "  }\n",
       "  th, td {\n",
       "    padding: 5px;\n",
       "  }\n",
       "  th {\n",
       "    text-align: left;\n",
       "  }\n",
       "</style><div class='table-result-container'><table class='table-result'><thead style='background-color: white'><tr><th>device_id</th><th>cca2</th><th>cca3</th><th>cn</th><th>device_name</th><th>ip</th><th>location_rounded1</th><th>location_rounded2</th><th>battery_level_min</th><th>c02_level_min</th><th>humidity_min</th><th>timestamp_min</th><th>battery_level_max</th><th>c02_level_max</th><th>humidity_max</th><th>timestamp_max</th><th>battery_level_avg</th><th>c02_level_avg</th><th>humidity_avg</th><th>timestamp_avg</th></tr></thead><tbody><tr><td>6</td><td>US</td><td>USA</td><td>United States</td><td>sensor-pad-6al7RTAobR</td><td>204.116.105.67</td><td>36_-85</td><td>40_-90</td><td>3</td><td>1210</td><td>51</td><td>1458444054122</td><td>3</td><td>1210</td><td>51</td><td>1458444054122</td><td>3.0</td><td>1210.0</td><td>51.0</td><td>1.458444054122E12</td></tr><tr><td>7</td><td>CN</td><td>CHN</td><td>China</td><td>meter-gauge-7GeDoanM</td><td>220.173.179.1</td><td>23_108</td><td>20_110</td><td>3</td><td>1129</td><td>26</td><td>1458444054123</td><td>3</td><td>1129</td><td>26</td><td>1458444054123</td><td>3.0</td><td>1129.0</td><td>26.0</td><td>1.458444054123E12</td></tr><tr><td>19</td><td>US</td><td>USA</td><td>United States</td><td>meter-gauge-19eg1BpfCO</td><td>64.124.180.215</td><td>38_-97</td><td>40_-100</td><td>9</td><td>1531</td><td>75</td><td>1458444054130</td><td>9</td><td>1531</td><td>75</td><td>1458444054130</td><td>9.0</td><td>1531.0</td><td>75.0</td><td>1.45844405413E12</td></tr><tr><td>22</td><td>JP</td><td>JPN</td><td>Japan</td><td>sensor-pad-22oWV2D</td><td>221.113.129.83</td><td>36_140</td><td>40_140</td><td>7</td><td>1522</td><td>58</td><td>1458444054132</td><td>7</td><td>1522</td><td>58</td><td>1458444054132</td><td>7.0</td><td>1522.0</td><td>58.0</td><td>1.458444054132E12</td></tr><tr><td>25</td><td>US</td><td>USA</td><td>United States</td><td>therm-stick-25kK6VyzIFB</td><td>24.154.45.90</td><td>41_-81</td><td>40_-80</td><td>4</td><td>880</td><td>78</td><td>1458444054134</td><td>4</td><td>880</td><td>78</td><td>1458444054134</td><td>4.0</td><td>880.0</td><td>78.0</td><td>1.458444054134E12</td></tr><tr><td>26</td><td>JP</td><td>JPN</td><td>Japan</td><td>sensor-pad-26rAyCZQOQH9</td><td>210.158.147.11</td><td>36_140</td><td>40_140</td><td>9</td><td>1300</td><td>27</td><td>1458444054135</td><td>9</td><td>1300</td><td>27</td><td>1458444054135</td><td>9.0</td><td>1300.0</td><td>27.0</td><td>1.458444054135E12</td></tr><tr><td>29</td><td>NL</td><td>NLD</td><td>Netherlands</td><td>meter-gauge-29lyNVxIS</td><td>83.98.224.49</td><td>52_5</td><td>50_0</td><td>6</td><td>1095</td><td>69</td><td>1458444054137</td><td>6</td><td>1095</td><td>69</td><td>1458444054137</td><td>6.0</td><td>1095.0</td><td>69.0</td><td>1.458444054137E12</td></tr><tr><td>31</td><td>ES</td><td>ESP</td><td>Spain</td><td>meter-gauge-31bcRD8TqXry</td><td>80.251.64.1</td><td>40_-4</td><td>40_0</td><td>5</td><td>979</td><td>48</td><td>1458444054138</td><td>5</td><td>979</td><td>48</td><td>1458444054138</td><td>5.0</td><td>979.0</td><td>48.0</td><td>1.458444054138E12</td></tr><tr><td>32</td><td>US</td><td>USA</td><td>United States</td><td>sensor-pad-329KFvY</td><td>128.83.9.146</td><td>30_-98</td><td>30_-100</td><td>8</td><td>1262</td><td>30</td><td>1458444054139</td><td>8</td><td>1262</td><td>30</td><td>1458444054139</td><td>8.0</td><td>1262.0</td><td>30.0</td><td>1.458444054139E12</td></tr><tr><td>34</td><td>RU</td><td>RUS</td><td>Russia</td><td>sensor-pad-34F1Jubre3B</td><td>80.255.179.78</td><td>58_40</td><td>60_40</td><td>7</td><td>940</td><td>89</td><td>1458444054140</td><td>7</td><td>940</td><td>89</td><td>1458444054140</td><td>7.0</td><td>940.0</td><td>89.0</td><td>1.45844405414E12</td></tr></tbody></table></div>"
      ]
     },
     "metadata": {
      "application/vnd.databricks.v1+output": {
       "addedWidgets": {},
       "aggData": [],
       "aggError": "",
       "aggOverflow": false,
       "aggSchema": [],
       "aggSeriesLimitReached": false,
       "aggType": "",
       "arguments": {},
       "columnCustomDisplayInfos": {},
       "data": [
        [
         6,
         "US",
         "USA",
         "United States",
         "sensor-pad-6al7RTAobR",
         "204.116.105.67",
         "36_-85",
         "40_-90",
         3,
         1210,
         51,
         1458444054122,
         3,
         1210,
         51,
         1458444054122,
         3,
         1210,
         51,
         1458444054122
        ],
        [
         7,
         "CN",
         "CHN",
         "China",
         "meter-gauge-7GeDoanM",
         "220.173.179.1",
         "23_108",
         "20_110",
         3,
         1129,
         26,
         1458444054123,
         3,
         1129,
         26,
         1458444054123,
         3,
         1129,
         26,
         1458444054123
        ],
        [
         19,
         "US",
         "USA",
         "United States",
         "meter-gauge-19eg1BpfCO",
         "64.124.180.215",
         "38_-97",
         "40_-100",
         9,
         1531,
         75,
         1458444054130,
         9,
         1531,
         75,
         1458444054130,
         9,
         1531,
         75,
         1458444054130
        ],
        [
         22,
         "JP",
         "JPN",
         "Japan",
         "sensor-pad-22oWV2D",
         "221.113.129.83",
         "36_140",
         "40_140",
         7,
         1522,
         58,
         1458444054132,
         7,
         1522,
         58,
         1458444054132,
         7,
         1522,
         58,
         1458444054132
        ],
        [
         25,
         "US",
         "USA",
         "United States",
         "therm-stick-25kK6VyzIFB",
         "24.154.45.90",
         "41_-81",
         "40_-80",
         4,
         880,
         78,
         1458444054134,
         4,
         880,
         78,
         1458444054134,
         4,
         880,
         78,
         1458444054134
        ],
        [
         26,
         "JP",
         "JPN",
         "Japan",
         "sensor-pad-26rAyCZQOQH9",
         "210.158.147.11",
         "36_140",
         "40_140",
         9,
         1300,
         27,
         1458444054135,
         9,
         1300,
         27,
         1458444054135,
         9,
         1300,
         27,
         1458444054135
        ],
        [
         29,
         "NL",
         "NLD",
         "Netherlands",
         "meter-gauge-29lyNVxIS",
         "83.98.224.49",
         "52_5",
         "50_0",
         6,
         1095,
         69,
         1458444054137,
         6,
         1095,
         69,
         1458444054137,
         6,
         1095,
         69,
         1458444054137
        ],
        [
         31,
         "ES",
         "ESP",
         "Spain",
         "meter-gauge-31bcRD8TqXry",
         "80.251.64.1",
         "40_-4",
         "40_0",
         5,
         979,
         48,
         1458444054138,
         5,
         979,
         48,
         1458444054138,
         5,
         979,
         48,
         1458444054138
        ],
        [
         32,
         "US",
         "USA",
         "United States",
         "sensor-pad-329KFvY",
         "128.83.9.146",
         "30_-98",
         "30_-100",
         8,
         1262,
         30,
         1458444054139,
         8,
         1262,
         30,
         1458444054139,
         8,
         1262,
         30,
         1458444054139
        ],
        [
         34,
         "RU",
         "RUS",
         "Russia",
         "sensor-pad-34F1Jubre3B",
         "80.255.179.78",
         "58_40",
         "60_40",
         7,
         940,
         89,
         1458444054140,
         7,
         940,
         89,
         1458444054140,
         7,
         940,
         89,
         1458444054140
        ]
       ],
       "datasetInfos": [],
       "dbfsResultPath": null,
       "isJsonSchema": true,
       "metadata": {},
       "overflow": false,
       "plotOptions": {
        "customPlotOptions": {},
        "displayType": "table",
        "pivotAggregation": null,
        "pivotColumns": [],
        "xColumns": [],
        "yColumns": []
       },
       "removedWidgets": [],
       "schema": [
        {
         "metadata": "{}",
         "name": "device_id",
         "type": "\"long\""
        },
        {
         "metadata": "{}",
         "name": "cca2",
         "type": "\"string\""
        },
        {
         "metadata": "{}",
         "name": "cca3",
         "type": "\"string\""
        },
        {
         "metadata": "{}",
         "name": "cn",
         "type": "\"string\""
        },
        {
         "metadata": "{}",
         "name": "device_name",
         "type": "\"string\""
        },
        {
         "metadata": "{}",
         "name": "ip",
         "type": "\"string\""
        },
        {
         "metadata": "{}",
         "name": "location_rounded1",
         "type": "\"string\""
        },
        {
         "metadata": "{}",
         "name": "location_rounded2",
         "type": "\"string\""
        },
        {
         "metadata": "{}",
         "name": "battery_level_min",
         "type": "\"long\""
        },
        {
         "metadata": "{}",
         "name": "c02_level_min",
         "type": "\"long\""
        },
        {
         "metadata": "{}",
         "name": "humidity_min",
         "type": "\"long\""
        },
        {
         "metadata": "{}",
         "name": "timestamp_min",
         "type": "\"long\""
        },
        {
         "metadata": "{}",
         "name": "battery_level_max",
         "type": "\"long\""
        },
        {
         "metadata": "{}",
         "name": "c02_level_max",
         "type": "\"long\""
        },
        {
         "metadata": "{}",
         "name": "humidity_max",
         "type": "\"long\""
        },
        {
         "metadata": "{}",
         "name": "timestamp_max",
         "type": "\"long\""
        },
        {
         "metadata": "{}",
         "name": "battery_level_avg",
         "type": "\"double\""
        },
        {
         "metadata": "{}",
         "name": "c02_level_avg",
         "type": "\"double\""
        },
        {
         "metadata": "{}",
         "name": "humidity_avg",
         "type": "\"double\""
        },
        {
         "metadata": "{}",
         "name": "timestamp_avg",
         "type": "\"double\""
        }
       ],
       "type": "table"
      }
     },
     "output_type": "display_data"
    }
   ],
   "source": [
    "from pyspark.sql import functions as F\n",
    "from pyspark.sql.functions import concat_ws, col, round\n",
    "\n",
    "devices_with_rounded_locations = (\n",
    "    devices\n",
    "    .withColumn(\n",
    "        'location_rounded1',\n",
    "        concat_ws(\n",
    "            '_',\n",
    "            round(col('latitude'), 0).cast('integer'),\n",
    "            round(col('longitude'), 0).cast('integer')))\n",
    "    .withColumn(\n",
    "        'location_rounded2',\n",
    "        concat_ws(\n",
    "            '_',\n",
    "            round(col('latitude'), -1).cast('integer'),\n",
    "            round(col('longitude'), -1).cast('integer')))\n",
    ")\n",
    "\n",
    "cols = ['battery_level', 'c02_level', 'humidity', 'timestamp']\n",
    "id_cols = ['cca2', 'cca3', 'cn', 'device_name', 'ip', 'location_rounded1', 'location_rounded2']\n",
    "devices_summarized = (\n",
    "    devices_with_rounded_locations.groupby('device_id').agg(\n",
    "        *[F.min(col) for col in cols],\n",
    "        *[F.max(col) for col in cols],\n",
    "        *[F.avg(col) for col in cols],\n",
    "        *[F.first(col) for col in id_cols]\n",
    "    )\n",
    ")\n",
    "\n",
    "# [(from1, to1), ...]\n",
    "renames = (\n",
    "    [('device_id', 'device_id')]\n",
    "    + [(f'first({col})', f'{col}') for col in id_cols]\n",
    "    + [(f'min({col})', f'{col}_min') for col in cols] \n",
    "    + [(f'max({col})', f'{col}_max') for col in cols]\n",
    "    + [(f'avg({col})', f'{col}_avg') for col in cols]\n",
    " )\n",
    "devices_summarized = devices_summarized.select(list(\n",
    "       map(lambda old,new:F.col(old).alias(new),*zip(*renames))\n",
    "       ))\n",
    "\n",
    "display(devices_summarized.take(10))"
   ]
  },
  {
   "cell_type": "markdown",
   "metadata": {
    "application/vnd.databricks.v1+cell": {
     "inputWidgets": {},
     "nuid": "f2ec3a1d-222d-4977-8479-e3e22f978d93",
     "showTitle": false,
     "title": ""
    }
   },
   "source": [
    "## Notebook plot\n",
    "\n",
    "* Simple: Graph connections between `device_name` and `cca3` (country code)\n",
    "* Advanced: Graph multiple connections, like `ip -> device_name` and `locaation_rounded1 -> ip`"
   ]
  },
  {
   "cell_type": "code",
   "execution_count": 0,
   "metadata": {
    "application/vnd.databricks.v1+cell": {
     "inputWidgets": {},
     "nuid": "8028c3a6-308a-43ec-8988-0b51d9f1826d",
     "showTitle": false,
     "title": ""
    }
   },
   "outputs": [
    {
     "data": {
      "text/html": [
       "\n",
       "            <iframe id=\"da296627-907a-4d6e-a7c4-4bbf06fae29e\" src=\"https://hub.graphistry.com/graph/graph.html?dataset=fb33e69581d1477083aefca174dbe7f3&type=arrow&viztoken=ed9409e5-c392-4c5b-8121-64ad8fdfc1d6&usertag=3874e4e1-pygraphistry-0.20.2+10.gad31a2271&splashAfter=1637561449&info=true&strongGravity=true\"\n",
       "                    allowfullscreen=\"true\" webkitallowfullscreen=\"true\" mozallowfullscreen=\"true\"\n",
       "                    oallowfullscreen=\"true\" msallowfullscreen=\"true\"\n",
       "                    style=\"width:100%; height:500px; border: 1px solid #DDD; overflow: hidden\"\n",
       "                    \n",
       "            >\n",
       "            </iframe>\n",
       "        \n",
       "            <script>\n",
       "                try {\n",
       "                  $(\"#da296627-907a-4d6e-a7c4-4bbf06fae29e\").bind('mousewheel', function(e) { e.preventDefault(); });\n",
       "                } catch (e) { console.error('exn catching scroll', e); }\n",
       "            </script>\n",
       "        "
      ]
     },
     "metadata": {
      "application/vnd.databricks.v1+output": {
       "addedWidgets": {},
       "arguments": {},
       "data": "\n            <iframe id=\"da296627-907a-4d6e-a7c4-4bbf06fae29e\" src=\"https://hub.graphistry.com/graph/graph.html?dataset=fb33e69581d1477083aefca174dbe7f3&type=arrow&viztoken=ed9409e5-c392-4c5b-8121-64ad8fdfc1d6&usertag=3874e4e1-pygraphistry-0.20.2+10.gad31a2271&splashAfter=1637561449&info=true&strongGravity=true\"\n                    allowfullscreen=\"true\" webkitallowfullscreen=\"true\" mozallowfullscreen=\"true\"\n                    oallowfullscreen=\"true\" msallowfullscreen=\"true\"\n                    style=\"width:100%; height:500px; border: 1px solid #DDD; overflow: hidden\"\n                    \n            >\n            </iframe>\n        \n            <script>\n                try {\n                  $(\"#da296627-907a-4d6e-a7c4-4bbf06fae29e\").bind('mousewheel', function(e) { e.preventDefault(); });\n                } catch (e) { console.error('exn catching scroll', e); }\n            </script>\n        ",
       "datasetInfos": [],
       "metadata": {},
       "removedWidgets": [],
       "textData": null,
       "type": "htmlSandbox"
      }
     },
     "output_type": "display_data"
    }
   ],
   "source": [
    "displayHTML(\n",
    "  graphistry\n",
    "    .edges(devices.sample(fraction=0.1), 'device_name', 'cca3')\n",
    "    .settings(url_params={'strongGravity': 'true'})\n",
    "    .plot()\n",
    ")"
   ]
  },
  {
   "cell_type": "code",
   "execution_count": 0,
   "metadata": {
    "application/vnd.databricks.v1+cell": {
     "inputWidgets": {},
     "nuid": "852b48fe-61af-4953-858f-52680bf07fd2",
     "showTitle": false,
     "title": ""
    }
   },
   "outputs": [
    {
     "data": {
      "text/html": [
       "<style scoped>\n",
       "  .ansiout {\n",
       "    display: block;\n",
       "    unicode-bidi: embed;\n",
       "    white-space: pre-wrap;\n",
       "    word-wrap: break-word;\n",
       "    word-break: break-all;\n",
       "    font-family: \"Source Code Pro\", \"Menlo\", monospace;;\n",
       "    font-size: 13px;\n",
       "    color: #555;\n",
       "    margin-left: 4px;\n",
       "    line-height: 19px;\n",
       "  }\n",
       "</style>\n",
       "<div class=\"ansiout\"># links 79476\n",
       "# events 19869\n",
       "# attrib entities 41370\n",
       "</div>"
      ]
     },
     "metadata": {
      "application/vnd.databricks.v1+output": {
       "addedWidgets": {},
       "arguments": {},
       "data": "<div class=\"ansiout\"># links 79476\n# events 19869\n# attrib entities 41370\n</div>",
       "datasetInfos": [],
       "metadata": {},
       "removedWidgets": [],
       "type": "html"
      }
     },
     "output_type": "display_data"
    },
    {
     "data": {
      "text/html": [
       "\n",
       "            <iframe id=\"53662043-5133-465e-bb51-45588b80ade1\" src=\"https://hub.graphistry.com/graph/graph.html?dataset=8a017fce8ff645a5837c90fb0c55ed38&type=arrow&viztoken=35986762-8edf-4b9f-9133-3a61ccde1474&usertag=3874e4e1-pygraphistry-0.20.2+10.gad31a2271&splashAfter=1637561888&info=true&strongGravity=true\"\n",
       "                    allowfullscreen=\"true\" webkitallowfullscreen=\"true\" mozallowfullscreen=\"true\"\n",
       "                    oallowfullscreen=\"true\" msallowfullscreen=\"true\"\n",
       "                    style=\"width:100%; height:500px; border: 1px solid #DDD; overflow: hidden\"\n",
       "                    \n",
       "            >\n",
       "            </iframe>\n",
       "        \n",
       "            <script>\n",
       "                try {\n",
       "                  $(\"#53662043-5133-465e-bb51-45588b80ade1\").bind('mousewheel', function(e) { e.preventDefault(); });\n",
       "                } catch (e) { console.error('exn catching scroll', e); }\n",
       "            </script>\n",
       "        "
      ]
     },
     "metadata": {
      "application/vnd.databricks.v1+output": {
       "addedWidgets": {},
       "arguments": {},
       "data": "\n            <iframe id=\"53662043-5133-465e-bb51-45588b80ade1\" src=\"https://hub.graphistry.com/graph/graph.html?dataset=8a017fce8ff645a5837c90fb0c55ed38&type=arrow&viztoken=35986762-8edf-4b9f-9133-3a61ccde1474&usertag=3874e4e1-pygraphistry-0.20.2+10.gad31a2271&splashAfter=1637561888&info=true&strongGravity=true\"\n                    allowfullscreen=\"true\" webkitallowfullscreen=\"true\" mozallowfullscreen=\"true\"\n                    oallowfullscreen=\"true\" msallowfullscreen=\"true\"\n                    style=\"width:100%; height:500px; border: 1px solid #DDD; overflow: hidden\"\n                    \n            >\n            </iframe>\n        \n            <script>\n                try {\n                  $(\"#53662043-5133-465e-bb51-45588b80ade1\").bind('mousewheel', function(e) { e.preventDefault(); });\n                } catch (e) { console.error('exn catching scroll', e); }\n            </script>\n        ",
       "datasetInfos": [],
       "metadata": {},
       "removedWidgets": [],
       "textData": null,
       "type": "htmlSandbox"
      }
     },
     "output_type": "display_data"
    }
   ],
   "source": [
    "hg = graphistry.hypergraph(\n",
    "    devices_with_rounded_locations.sample(fraction=0.1).toPandas(),\n",
    "    ['ip', 'device_name', 'location_rounded1', 'location_rounded2', 'cca3'],\n",
    "    direct=True,\n",
    "    opts={\n",
    "        'EDGES': {\n",
    "            'ip': ['device_name'],\n",
    "            'location_rounded1': ['ip'],\n",
    "            'location_rounded2': ['ip'],\n",
    "            'cca3': ['location_rounded2']\n",
    "        }\n",
    "    })\n",
    "g = hg['graph']\n",
    "g = g.settings(url_params={'strongGravity': 'true'})  # this setting is great!\n",
    "\n",
    "displayHTML(g.plot())"
   ]
  },
  {
   "cell_type": "markdown",
   "metadata": {
    "application/vnd.databricks.v1+cell": {
     "inputWidgets": {},
     "nuid": "621d82e5-0623-4ecf-b10a-2c6fa61eac4e",
     "showTitle": false,
     "title": ""
    }
   },
   "source": [
    "## Dashboard plot\n",
    "\n",
    "* Make a `graphistry` object as usual...\n",
    "* ... Then disable the splash screen and optionally set custom dimensions\n",
    "\n",
    "The visualization will now load without needing to interact in the dashboard (`view` -> `+ New Dashboard`)"
   ]
  },
  {
   "cell_type": "code",
   "execution_count": 0,
   "metadata": {
    "application/vnd.databricks.v1+cell": {
     "inputWidgets": {},
     "nuid": "4e327ad1-169b-4bb6-95c0-8fc0cf452625",
     "showTitle": false,
     "title": ""
    }
   },
   "outputs": [
    {
     "data": {
      "text/html": [
       "\n",
       "            <iframe id=\"7c660a32-6e61-4e9b-a741-d60dbb96c86f\" src=\"https://hub.graphistry.com/graph/graph.html?dataset=e60e75b6d23e419182df2154cd1f8c73&type=arrow&viztoken=13514a06-e1f1-439d-98f6-4311c2060d87&usertag=3874e4e1-pygraphistry-0.20.2+10.gad31a2271&splashAfter=1637561932&info=true&strongGravity=true&splashAfter=false\"\n",
       "                    allowfullscreen=\"true\" webkitallowfullscreen=\"true\" mozallowfullscreen=\"true\"\n",
       "                    oallowfullscreen=\"true\" msallowfullscreen=\"true\"\n",
       "                    style=\"\n",
       "            border: 1px #DDD dotted;\n",
       "            width: 50em; height: 50em;\n",
       "        \"\n",
       "                    \n",
       "            >\n",
       "            </iframe>\n",
       "        \n",
       "            <script>\n",
       "                try {\n",
       "                  $(\"#7c660a32-6e61-4e9b-a741-d60dbb96c86f\").bind('mousewheel', function(e) { e.preventDefault(); });\n",
       "                } catch (e) { console.error('exn catching scroll', e); }\n",
       "            </script>\n",
       "        "
      ]
     },
     "metadata": {
      "application/vnd.databricks.v1+output": {
       "addedWidgets": {},
       "arguments": {},
       "data": "\n            <iframe id=\"7c660a32-6e61-4e9b-a741-d60dbb96c86f\" src=\"https://hub.graphistry.com/graph/graph.html?dataset=e60e75b6d23e419182df2154cd1f8c73&type=arrow&viztoken=13514a06-e1f1-439d-98f6-4311c2060d87&usertag=3874e4e1-pygraphistry-0.20.2+10.gad31a2271&splashAfter=1637561932&info=true&strongGravity=true&splashAfter=false\"\n                    allowfullscreen=\"true\" webkitallowfullscreen=\"true\" mozallowfullscreen=\"true\"\n                    oallowfullscreen=\"true\" msallowfullscreen=\"true\"\n                    style=\"\n            border: 1px #DDD dotted;\n            width: 50em; height: 50em;\n        \"\n                    \n            >\n            </iframe>\n        \n            <script>\n                try {\n                  $(\"#7c660a32-6e61-4e9b-a741-d60dbb96c86f\").bind('mousewheel', function(e) { e.preventDefault(); });\n                } catch (e) { console.error('exn catching scroll', e); }\n            </script>\n        ",
       "datasetInfos": [],
       "metadata": {},
       "removedWidgets": [],
       "textData": null,
       "type": "htmlSandbox"
      }
     },
     "output_type": "display_data"
    }
   ],
   "source": [
    "displayHTML(\n",
    "    g\n",
    "        .settings(url_params={'splashAfter': 'false'})  # extends existing setting\n",
    "        .plot(override_html_style=\"\"\"\n",
    "            border: 1px #DDD dotted;\n",
    "            width: 50em; height: 50em;\n",
    "        \"\"\")\n",
    ")"
   ]
  },
  {
   "cell_type": "markdown",
   "metadata": {
    "application/vnd.databricks.v1+cell": {
     "inputWidgets": {},
     "nuid": "fa9be400-ec7d-4dd5-9981-d707cc4f4a3f",
     "showTitle": false,
     "title": ""
    }
   },
   "source": [
    "## Plot as a Shareable URL"
   ]
  },
  {
   "cell_type": "code",
   "execution_count": 0,
   "metadata": {
    "application/vnd.databricks.v1+cell": {
     "inputWidgets": {},
     "nuid": "a0e6bd79-1172-4cfe-ac6d-83b187d48747",
     "showTitle": false,
     "title": ""
    }
   },
   "outputs": [
    {
     "data": {
      "text/html": [
       "<style scoped>\n",
       "  .ansiout {\n",
       "    display: block;\n",
       "    unicode-bidi: embed;\n",
       "    white-space: pre-wrap;\n",
       "    word-wrap: break-word;\n",
       "    word-break: break-all;\n",
       "    font-family: \"Source Code Pro\", \"Menlo\", monospace;;\n",
       "    font-size: 13px;\n",
       "    color: #555;\n",
       "    margin-left: 4px;\n",
       "    line-height: 19px;\n",
       "  }\n",
       "</style>\n",
       "<div class=\"ansiout\">Out[12]: &#39;https://hub.graphistry.com/graph/graph.html?dataset=dc149405512748b3ad081920f296aa7c&amp;type=arrow&amp;viztoken=4f4da880-d4e9-4513-b21f-fcd6d16014fe&amp;usertag=3874e4e1-pygraphistry-0.20.2+10.gad31a2271&amp;splashAfter=1637561564&amp;info=true&#39;</div>"
      ]
     },
     "metadata": {
      "application/vnd.databricks.v1+output": {
       "addedWidgets": {},
       "arguments": {},
       "data": "<div class=\"ansiout\">Out[12]: &#39;https://hub.graphistry.com/graph/graph.html?dataset=dc149405512748b3ad081920f296aa7c&amp;type=arrow&amp;viztoken=4f4da880-d4e9-4513-b21f-fcd6d16014fe&amp;usertag=3874e4e1-pygraphistry-0.20.2+10.gad31a2271&amp;splashAfter=1637561564&amp;info=true&#39;</div>",
       "datasetInfos": [],
       "metadata": {},
       "removedWidgets": [],
       "type": "html"
      }
     },
     "output_type": "display_data"
    }
   ],
   "source": [
    "url = g.plot(render=False)\n",
    "url"
   ]
  },
  {
   "cell_type": "code",
   "execution_count": 0,
   "metadata": {
    "application/vnd.databricks.v1+cell": {
     "inputWidgets": {},
     "nuid": "ed683717-2c64-43b0-9a7e-bbe2115ba880",
     "showTitle": false,
     "title": ""
    }
   },
   "outputs": [
    {
     "data": {
      "text/html": [
       "<style scoped>\n",
       "  .ansiout {\n",
       "    display: block;\n",
       "    unicode-bidi: embed;\n",
       "    white-space: pre-wrap;\n",
       "    word-wrap: break-word;\n",
       "    word-break: break-all;\n",
       "    font-family: \"Source Code Pro\", \"Menlo\", monospace;;\n",
       "    font-size: 13px;\n",
       "    color: #555;\n",
       "    margin-left: 4px;\n",
       "    line-height: 19px;\n",
       "  }\n",
       "</style>"
      ]
     },
     "metadata": {
      "application/vnd.databricks.v1+output": {
       "arguments": {},
       "data": "",
       "errorSummary": "",
       "errorTraceType": null,
       "metadata": {},
       "type": "ipynbError"
      }
     },
     "output_type": "display_data"
    }
   ],
   "source": []
  }
 ],
 "metadata": {
  "application/vnd.databricks.v1+notebook": {
   "dashboards": [
    {
     "elements": [
      {
       "elementNUID": "8028c3a6-308a-43ec-8988-0b51d9f1826d",
       "elementType": "command",
       "guid": "1e318182-b9ed-4731-bcad-c2c4ff60ecc8",
       "options": null,
       "position": {
        "height": 11,
        "width": 12,
        "x": 0,
        "y": 6,
        "z": null
       }
      },
      {
       "elementNUID": "c187c650-01c2-4e48-b8e0-803e937cdb11",
       "elementType": "command",
       "guid": "7d413b13-b117-4c5a-a647-f634ab38deb8",
       "options": null,
       "position": {
        "height": 6,
        "width": 12,
        "x": 0,
        "y": 0,
        "z": null
       }
      }
     ],
     "globalVars": {},
     "guid": "3e4c3205-f204-488e-92bd-258027ac0ee4",
     "layoutOption": {
      "grid": true,
      "stack": true
     },
     "nuid": "1918b70c-a193-4d5e-9b1a-74e82cf23b13",
     "origId": 784594776378686,
     "title": "≈",
     "version": "DashboardViewV1",
     "width": 1600
    }
   ],
   "language": "python",
   "notebookMetadata": {
    "pythonIndentUnit": 4
   },
   "notebookName": "graphistry-notebook-dashboard (1)",
   "notebookOrigID": 784594776378671,
   "widgets": {}
  },
  "kernelspec": {
   "display_name": "Python 3",
   "language": "python",
   "name": "python3"
  },
  "language_info": {
   "codemirror_mode": {
    "name": "ipython",
    "version": 3
   },
   "file_extension": ".py",
   "mimetype": "text/x-python",
   "name": "python",
   "nbconvert_exporter": "python",
   "pygments_lexer": "ipython3",
   "version": "3.7.11"
  }
 },
 "nbformat": 4,
 "nbformat_minor": 1
}
