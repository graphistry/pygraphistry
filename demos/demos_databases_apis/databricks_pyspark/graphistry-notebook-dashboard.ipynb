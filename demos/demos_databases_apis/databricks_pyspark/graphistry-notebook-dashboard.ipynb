{
 "cells": [
  {
   "cell_type": "markdown",
   "metadata": {
    "application/vnd.databricks.v1+cell": {
     "cellMetadata": {},
     "inputWidgets": {},
     "nuid": "69dde01b-e309-46b7-bfce-5434e3a6f55a",
     "showTitle": false,
     "title": ""
    }
   },
   "source": [
    "# Databricks <> Graphistry Tutorial: Notebooks & Dashboards on IoT data\n",
    "\n",
    "This tutorial visualizes a set of sensors by clustering them based on lattitude/longitude and overlaying summary statistics\n",
    "\n",
    "We show how to load the interactive plots both with Databricks notebook and dashboard modes. The general flow should work in other PySpark environments as well.\n",
    "\n",
    "Steps:\n",
    "\n",
    "* Install Graphistry\n",
    "* Prepare IoT data\n",
    "* Plot in a notebook\n",
    "* Plot in a dashboard\n",
    "* Plot as a shareable URL"
   ]
  },
  {
   "cell_type": "markdown",
   "metadata": {
    "application/vnd.databricks.v1+cell": {
     "cellMetadata": {},
     "inputWidgets": {},
     "nuid": "44174981-e70b-4624-8521-beac9ac103bb",
     "showTitle": false,
     "title": ""
    }
   },
   "source": [
    "## Install & connect"
   ]
  },
  {
   "cell_type": "code",
   "execution_count": null,
   "metadata": {
    "application/vnd.databricks.v1+cell": {
     "cellMetadata": {},
     "inputWidgets": {},
     "nuid": "eaf03d3c-d046-4f96-825e-5db2355af383",
     "showTitle": false,
     "title": ""
    }
   },
   "outputs": [
    {
     "data": {
      "text/plain": [
       "Requirement already satisfied: graphistry in /local_disk0/.ephemeral_nfs/envs/pythonEnv-969db892-92cf-4b34-a5cf-61642fa76e77/lib/python3.9/site-packages (0.28.5)\r\n",
       "Requirement already satisfied: numpy in /databricks/python3/lib/python3.9/site-packages (from graphistry) (1.20.3)\r\n",
       "Requirement already satisfied: pandas>=0.17.0 in /databricks/python3/lib/python3.9/site-packages (from graphistry) (1.3.4)\r\n",
       "Requirement already satisfied: packaging>=20.1 in /databricks/python3/lib/python3.9/site-packages (from graphistry) (21.0)\r\n",
       "Requirement already satisfied: squarify in /local_disk0/.ephemeral_nfs/envs/pythonEnv-969db892-92cf-4b34-a5cf-61642fa76e77/lib/python3.9/site-packages (from graphistry) (0.4.3)\r\n",
       "Requirement already satisfied: palettable>=3.0 in /local_disk0/.ephemeral_nfs/envs/pythonEnv-969db892-92cf-4b34-a5cf-61642fa76e77/lib/python3.9/site-packages (from graphistry) (3.3.0)\r\n",
       "Requirement already satisfied: typing-extensions in /databricks/python3/lib/python3.9/site-packages (from graphistry) (3.10.0.2)\r\n",
       "Requirement already satisfied: pyarrow>=0.15.0 in /databricks/python3/lib/python3.9/site-packages (from graphistry) (7.0.0)\r\n",
       "Requirement already satisfied: requests in /databricks/python3/lib/python3.9/site-packages (from graphistry) (2.26.0)\r\n",
       "Requirement already satisfied: pyparsing>=2.0.2 in /databricks/python3/lib/python3.9/site-packages (from packaging>=20.1->graphistry) (3.0.4)\r\n",
       "Requirement already satisfied: python-dateutil>=2.7.3 in /databricks/python3/lib/python3.9/site-packages (from pandas>=0.17.0->graphistry) (2.8.2)\r\n",
       "Requirement already satisfied: pytz>=2017.3 in /databricks/python3/lib/python3.9/site-packages (from pandas>=0.17.0->graphistry) (2021.3)\r\n",
       "Requirement already satisfied: six>=1.5 in /databricks/python3/lib/python3.9/site-packages (from python-dateutil>=2.7.3->pandas>=0.17.0->graphistry) (1.16.0)\r\n",
       "Requirement already satisfied: idna<4,>=2.5 in /databricks/python3/lib/python3.9/site-packages (from requests->graphistry) (3.2)\r\n",
       "Requirement already satisfied: charset-normalizer~=2.0.0 in /databricks/python3/lib/python3.9/site-packages (from requests->graphistry) (2.0.4)\r\n",
       "Requirement already satisfied: urllib3<1.27,>=1.21.1 in /databricks/python3/lib/python3.9/site-packages (from requests->graphistry) (1.26.7)\r\n",
       "Requirement already satisfied: certifi>=2017.4.17 in /databricks/python3/lib/python3.9/site-packages (from requests->graphistry) (2021.10.8)\r\n",
       "\u001b[33mWARNING: You are using pip version 21.2.4; however, version 22.3.1 is available.\r\n",
       "You should consider upgrading via the '/local_disk0/.ephemeral_nfs/envs/pythonEnv-969db892-92cf-4b34-a5cf-61642fa76e77/bin/python -m pip install --upgrade pip' command.\u001b[0m\r\n"
      ]
     },
     "metadata": {
      "application/vnd.databricks.v1+output": {
       "addedWidgets": {},
       "arguments": {},
       "data": "Requirement already satisfied: graphistry in /local_disk0/.ephemeral_nfs/envs/pythonEnv-969db892-92cf-4b34-a5cf-61642fa76e77/lib/python3.9/site-packages (0.28.5)\r\nRequirement already satisfied: numpy in /databricks/python3/lib/python3.9/site-packages (from graphistry) (1.20.3)\r\nRequirement already satisfied: pandas>=0.17.0 in /databricks/python3/lib/python3.9/site-packages (from graphistry) (1.3.4)\r\nRequirement already satisfied: packaging>=20.1 in /databricks/python3/lib/python3.9/site-packages (from graphistry) (21.0)\r\nRequirement already satisfied: squarify in /local_disk0/.ephemeral_nfs/envs/pythonEnv-969db892-92cf-4b34-a5cf-61642fa76e77/lib/python3.9/site-packages (from graphistry) (0.4.3)\r\nRequirement already satisfied: palettable>=3.0 in /local_disk0/.ephemeral_nfs/envs/pythonEnv-969db892-92cf-4b34-a5cf-61642fa76e77/lib/python3.9/site-packages (from graphistry) (3.3.0)\r\nRequirement already satisfied: typing-extensions in /databricks/python3/lib/python3.9/site-packages (from graphistry) (3.10.0.2)\r\nRequirement already satisfied: pyarrow>=0.15.0 in /databricks/python3/lib/python3.9/site-packages (from graphistry) (7.0.0)\r\nRequirement already satisfied: requests in /databricks/python3/lib/python3.9/site-packages (from graphistry) (2.26.0)\r\nRequirement already satisfied: pyparsing>=2.0.2 in /databricks/python3/lib/python3.9/site-packages (from packaging>=20.1->graphistry) (3.0.4)\r\nRequirement already satisfied: python-dateutil>=2.7.3 in /databricks/python3/lib/python3.9/site-packages (from pandas>=0.17.0->graphistry) (2.8.2)\r\nRequirement already satisfied: pytz>=2017.3 in /databricks/python3/lib/python3.9/site-packages (from pandas>=0.17.0->graphistry) (2021.3)\r\nRequirement already satisfied: six>=1.5 in /databricks/python3/lib/python3.9/site-packages (from python-dateutil>=2.7.3->pandas>=0.17.0->graphistry) (1.16.0)\r\nRequirement already satisfied: idna<4,>=2.5 in /databricks/python3/lib/python3.9/site-packages (from requests->graphistry) (3.2)\r\nRequirement already satisfied: charset-normalizer~=2.0.0 in /databricks/python3/lib/python3.9/site-packages (from requests->graphistry) (2.0.4)\r\nRequirement already satisfied: urllib3<1.27,>=1.21.1 in /databricks/python3/lib/python3.9/site-packages (from requests->graphistry) (1.26.7)\r\nRequirement already satisfied: certifi>=2017.4.17 in /databricks/python3/lib/python3.9/site-packages (from requests->graphistry) (2021.10.8)\r\n\u001b[33mWARNING: You are using pip version 21.2.4; however, version 22.3.1 is available.\r\nYou should consider upgrading via the '/local_disk0/.ephemeral_nfs/envs/pythonEnv-969db892-92cf-4b34-a5cf-61642fa76e77/bin/python -m pip install --upgrade pip' command.\u001b[0m\r\n",
       "datasetInfos": [],
       "metadata": {},
       "removedWidgets": [],
       "type": "ansi"
      }
     },
     "output_type": "display_data"
    }
   ],
   "source": [
    "# Uncomment and run first time\n",
    "! pip install graphistry\n",
    "#! pip install git+https://github.com/graphistry/pygraphistry.git@dev/databricks\n",
    "    \n",
    "# Can sometimes help:\n",
    "#dbutils.library.restartPython()"
   ]
  },
  {
   "cell_type": "code",
   "execution_count": null,
   "metadata": {
    "application/vnd.databricks.v1+cell": {
     "cellMetadata": {},
     "inputWidgets": {},
     "nuid": "9e649f0e-fca5-4be6-8ad6-fa781bbb81d6",
     "showTitle": false,
     "title": ""
    }
   },
   "outputs": [],
   "source": [
    "#Optional: Uncomment - We find this speeds up calls 10%+ on some datasets\n",
    "#spark.conf.set(\"spark.sql.execution.arrow.enabled\", \"true\")"
   ]
  },
  {
   "cell_type": "code",
   "execution_count": null,
   "metadata": {
    "application/vnd.databricks.v1+cell": {
     "cellMetadata": {},
     "inputWidgets": {},
     "nuid": "cfd253ba-c647-4c45-8048-58b0ca427569",
     "showTitle": false,
     "title": ""
    }
   },
   "outputs": [
    {
     "data": {
      "text/plain": [
       "Out[12]: '0.28.5'"
      ]
     },
     "metadata": {
      "application/vnd.databricks.v1+output": {
       "addedWidgets": {},
       "arguments": {},
       "data": "Out[12]: '0.28.5'",
       "datasetInfos": [],
       "metadata": {},
       "removedWidgets": [],
       "type": "ansi"
      }
     },
     "output_type": "display_data"
    }
   ],
   "source": [
    "import graphistry  # if not yet available, install and/or restart Python kernel using the above\n",
    "\n",
    "# To specify Graphistry account & server, use:\n",
    "# graphistry.register(api=3, username='...', password='...', protocol='https', server='hub.graphistry.com')\n",
    "# For more options, see https://github.com/graphistry/pygraphistry#configure\n",
    "\n",
    "graphistry.__version__"
   ]
  },
  {
   "cell_type": "markdown",
   "metadata": {
    "application/vnd.databricks.v1+cell": {
     "cellMetadata": {},
     "inputWidgets": {},
     "nuid": "68965388-9e8b-46f8-b9b1-e8231e9eed4c",
     "showTitle": false,
     "title": ""
    }
   },
   "source": [
    "## Prepare IoT data\n",
    "Sample data provided by Databricks\n",
    "\n",
    "We create tables for different plots:\n",
    "\n",
    "* Raw table of device sensor reads\n",
    "* Summarized table:\n",
    "  - rounded latitude/longitude\n",
    "  - summarize min/max/avg for battery_level, c02_level, humidity, timestamp"
   ]
  },
  {
   "cell_type": "code",
   "execution_count": null,
   "metadata": {
    "application/vnd.databricks.v1+cell": {
     "cellMetadata": {},
     "inputWidgets": {},
     "nuid": "c187c650-01c2-4e48-b8e0-803e937cdb11",
     "showTitle": false,
     "title": ""
    }
   },
   "outputs": [
    {
     "data": {
      "text/plain": [
       "type:  <class 'pyspark.sql.dataframe.DataFrame'>\n"
      ]
     },
     "metadata": {
      "application/vnd.databricks.v1+output": {
       "addedWidgets": {},
       "arguments": {},
       "data": "type:  <class 'pyspark.sql.dataframe.DataFrame'>\n",
       "datasetInfos": [],
       "metadata": {},
       "removedWidgets": [],
       "type": "ansi"
      }
     },
     "output_type": "display_data"
    },
    {
     "data": {
      "text/html": [
       "<style scoped>\n",
       "  .table-result-container {\n",
       "    max-height: 300px;\n",
       "    overflow: auto;\n",
       "  }\n",
       "  table, th, td {\n",
       "    border: 1px solid black;\n",
       "    border-collapse: collapse;\n",
       "  }\n",
       "  th, td {\n",
       "    padding: 5px;\n",
       "  }\n",
       "  th {\n",
       "    text-align: left;\n",
       "  }\n",
       "</style><div class='table-result-container'><table class='table-result'><thead style='background-color: white'><tr><th>battery_level</th><th>c02_level</th><th>cca2</th><th>cca3</th><th>cn</th><th>device_id</th><th>device_name</th><th>humidity</th><th>ip</th><th>latitude</th><th>lcd</th><th>longitude</th><th>scale</th><th>temp</th><th>timestamp</th></tr></thead><tbody><tr><td>8</td><td>868</td><td>US</td><td>USA</td><td>United States</td><td>1</td><td>meter-gauge-1xbYRYcj</td><td>51</td><td>68.161.225.1</td><td>38.0</td><td>green</td><td>-97.0</td><td>Celsius</td><td>34</td><td>1458444054093</td></tr><tr><td>7</td><td>1473</td><td>NO</td><td>NOR</td><td>Norway</td><td>2</td><td>sensor-pad-2n2Pea</td><td>70</td><td>213.161.254.1</td><td>62.47</td><td>red</td><td>6.15</td><td>Celsius</td><td>11</td><td>1458444054119</td></tr><tr><td>2</td><td>1556</td><td>IT</td><td>ITA</td><td>Italy</td><td>3</td><td>device-mac-36TWSKiT</td><td>44</td><td>88.36.5.1</td><td>42.83</td><td>red</td><td>12.83</td><td>Celsius</td><td>19</td><td>1458444054120</td></tr><tr><td>6</td><td>1080</td><td>US</td><td>USA</td><td>United States</td><td>4</td><td>sensor-pad-4mzWkz</td><td>32</td><td>66.39.173.154</td><td>44.06</td><td>yellow</td><td>-121.32</td><td>Celsius</td><td>28</td><td>1458444054121</td></tr><tr><td>4</td><td>931</td><td>PH</td><td>PHL</td><td>Philippines</td><td>5</td><td>therm-stick-5gimpUrBB</td><td>62</td><td>203.82.41.9</td><td>14.58</td><td>green</td><td>120.97</td><td>Celsius</td><td>25</td><td>1458444054122</td></tr><tr><td>3</td><td>1210</td><td>US</td><td>USA</td><td>United States</td><td>6</td><td>sensor-pad-6al7RTAobR</td><td>51</td><td>204.116.105.67</td><td>35.93</td><td>yellow</td><td>-85.46</td><td>Celsius</td><td>27</td><td>1458444054122</td></tr><tr><td>3</td><td>1129</td><td>CN</td><td>CHN</td><td>China</td><td>7</td><td>meter-gauge-7GeDoanM</td><td>26</td><td>220.173.179.1</td><td>22.82</td><td>yellow</td><td>108.32</td><td>Celsius</td><td>18</td><td>1458444054123</td></tr><tr><td>0</td><td>1536</td><td>JP</td><td>JPN</td><td>Japan</td><td>8</td><td>sensor-pad-8xUD6pzsQI</td><td>35</td><td>210.173.177.1</td><td>35.69</td><td>red</td><td>139.69</td><td>Celsius</td><td>27</td><td>1458444054123</td></tr><tr><td>3</td><td>807</td><td>JP</td><td>JPN</td><td>Japan</td><td>9</td><td>device-mac-9GcjZ2pw</td><td>85</td><td>118.23.68.227</td><td>35.69</td><td>green</td><td>139.69</td><td>Celsius</td><td>13</td><td>1458444054124</td></tr><tr><td>7</td><td>1470</td><td>US</td><td>USA</td><td>United States</td><td>10</td><td>sensor-pad-10BsywSYUF</td><td>56</td><td>208.109.163.218</td><td>33.61</td><td>red</td><td>-111.89</td><td>Celsius</td><td>26</td><td>1458444054125</td></tr></tbody></table></div>"
      ]
     },
     "metadata": {
      "application/vnd.databricks.v1+output": {
       "addedWidgets": {},
       "aggData": [],
       "aggError": "",
       "aggOverflow": false,
       "aggSchema": [],
       "aggSeriesLimitReached": false,
       "aggType": "",
       "arguments": {},
       "columnCustomDisplayInfos": {},
       "data": [
        [
         8,
         868,
         "US",
         "USA",
         "United States",
         1,
         "meter-gauge-1xbYRYcj",
         51,
         "68.161.225.1",
         38,
         "green",
         -97,
         "Celsius",
         34,
         1458444054093
        ],
        [
         7,
         1473,
         "NO",
         "NOR",
         "Norway",
         2,
         "sensor-pad-2n2Pea",
         70,
         "213.161.254.1",
         62.47,
         "red",
         6.15,
         "Celsius",
         11,
         1458444054119
        ],
        [
         2,
         1556,
         "IT",
         "ITA",
         "Italy",
         3,
         "device-mac-36TWSKiT",
         44,
         "88.36.5.1",
         42.83,
         "red",
         12.83,
         "Celsius",
         19,
         1458444054120
        ],
        [
         6,
         1080,
         "US",
         "USA",
         "United States",
         4,
         "sensor-pad-4mzWkz",
         32,
         "66.39.173.154",
         44.06,
         "yellow",
         -121.32,
         "Celsius",
         28,
         1458444054121
        ],
        [
         4,
         931,
         "PH",
         "PHL",
         "Philippines",
         5,
         "therm-stick-5gimpUrBB",
         62,
         "203.82.41.9",
         14.58,
         "green",
         120.97,
         "Celsius",
         25,
         1458444054122
        ],
        [
         3,
         1210,
         "US",
         "USA",
         "United States",
         6,
         "sensor-pad-6al7RTAobR",
         51,
         "204.116.105.67",
         35.93,
         "yellow",
         -85.46,
         "Celsius",
         27,
         1458444054122
        ],
        [
         3,
         1129,
         "CN",
         "CHN",
         "China",
         7,
         "meter-gauge-7GeDoanM",
         26,
         "220.173.179.1",
         22.82,
         "yellow",
         108.32,
         "Celsius",
         18,
         1458444054123
        ],
        [
         0,
         1536,
         "JP",
         "JPN",
         "Japan",
         8,
         "sensor-pad-8xUD6pzsQI",
         35,
         "210.173.177.1",
         35.69,
         "red",
         139.69,
         "Celsius",
         27,
         1458444054123
        ],
        [
         3,
         807,
         "JP",
         "JPN",
         "Japan",
         9,
         "device-mac-9GcjZ2pw",
         85,
         "118.23.68.227",
         35.69,
         "green",
         139.69,
         "Celsius",
         13,
         1458444054124
        ],
        [
         7,
         1470,
         "US",
         "USA",
         "United States",
         10,
         "sensor-pad-10BsywSYUF",
         56,
         "208.109.163.218",
         33.61,
         "red",
         -111.89,
         "Celsius",
         26,
         1458444054125
        ]
       ],
       "datasetInfos": [],
       "dbfsResultPath": null,
       "isJsonSchema": true,
       "metadata": {},
       "overflow": false,
       "plotOptions": {
        "customPlotOptions": {},
        "displayType": "table",
        "pivotAggregation": null,
        "pivotColumns": [],
        "xColumns": [],
        "yColumns": []
       },
       "removedWidgets": [],
       "schema": [
        {
         "metadata": "{}",
         "name": "battery_level",
         "type": "\"long\""
        },
        {
         "metadata": "{}",
         "name": "c02_level",
         "type": "\"long\""
        },
        {
         "metadata": "{}",
         "name": "cca2",
         "type": "\"string\""
        },
        {
         "metadata": "{}",
         "name": "cca3",
         "type": "\"string\""
        },
        {
         "metadata": "{}",
         "name": "cn",
         "type": "\"string\""
        },
        {
         "metadata": "{}",
         "name": "device_id",
         "type": "\"long\""
        },
        {
         "metadata": "{}",
         "name": "device_name",
         "type": "\"string\""
        },
        {
         "metadata": "{}",
         "name": "humidity",
         "type": "\"long\""
        },
        {
         "metadata": "{}",
         "name": "ip",
         "type": "\"string\""
        },
        {
         "metadata": "{}",
         "name": "latitude",
         "type": "\"double\""
        },
        {
         "metadata": "{}",
         "name": "lcd",
         "type": "\"string\""
        },
        {
         "metadata": "{}",
         "name": "longitude",
         "type": "\"double\""
        },
        {
         "metadata": "{}",
         "name": "scale",
         "type": "\"string\""
        },
        {
         "metadata": "{}",
         "name": "temp",
         "type": "\"long\""
        },
        {
         "metadata": "{}",
         "name": "timestamp",
         "type": "\"long\""
        }
       ],
       "type": "table"
      }
     },
     "output_type": "display_data"
    }
   ],
   "source": [
    "# Load the data from its source.\n",
    "devices = spark.read \\\n",
    "  .format('json') \\\n",
    "  .load('/databricks-datasets/iot/iot_devices.json')\n",
    "\n",
    "# Show the results.\n",
    "print('type: ', str(type(devices)))\n",
    "display(devices.take(10))"
   ]
  },
  {
   "cell_type": "code",
   "execution_count": null,
   "metadata": {
    "application/vnd.databricks.v1+cell": {
     "cellMetadata": {},
     "inputWidgets": {},
     "nuid": "c69b91ed-c172-47b7-9bb7-27532202179a",
     "showTitle": false,
     "title": ""
    }
   },
   "outputs": [
    {
     "data": {
      "text/html": [
       "<style scoped>\n",
       "  .table-result-container {\n",
       "    max-height: 300px;\n",
       "    overflow: auto;\n",
       "  }\n",
       "  table, th, td {\n",
       "    border: 1px solid black;\n",
       "    border-collapse: collapse;\n",
       "  }\n",
       "  th, td {\n",
       "    padding: 5px;\n",
       "  }\n",
       "  th {\n",
       "    text-align: left;\n",
       "  }\n",
       "</style><div class='table-result-container'><table class='table-result'><thead style='background-color: white'><tr><th>device_id</th><th>cca2</th><th>cca3</th><th>cn</th><th>device_name</th><th>ip</th><th>location_rounded1</th><th>location_rounded2</th><th>battery_level_min</th><th>c02_level_min</th><th>humidity_min</th><th>timestamp_min</th><th>battery_level_max</th><th>c02_level_max</th><th>humidity_max</th><th>timestamp_max</th><th>battery_level_avg</th><th>c02_level_avg</th><th>humidity_avg</th><th>timestamp_avg</th></tr></thead><tbody><tr><td>1</td><td>US</td><td>USA</td><td>United States</td><td>meter-gauge-1xbYRYcj</td><td>68.161.225.1</td><td>38_-97</td><td>40_-100</td><td>8</td><td>868</td><td>51</td><td>1458444054093</td><td>8</td><td>868</td><td>51</td><td>1458444054093</td><td>8.0</td><td>868.0</td><td>51.0</td><td>1.458444054093E12</td></tr><tr><td>2</td><td>NO</td><td>NOR</td><td>Norway</td><td>sensor-pad-2n2Pea</td><td>213.161.254.1</td><td>62_6</td><td>60_10</td><td>7</td><td>1473</td><td>70</td><td>1458444054119</td><td>7</td><td>1473</td><td>70</td><td>1458444054119</td><td>7.0</td><td>1473.0</td><td>70.0</td><td>1.458444054119E12</td></tr><tr><td>3</td><td>IT</td><td>ITA</td><td>Italy</td><td>device-mac-36TWSKiT</td><td>88.36.5.1</td><td>43_13</td><td>40_10</td><td>2</td><td>1556</td><td>44</td><td>1458444054120</td><td>2</td><td>1556</td><td>44</td><td>1458444054120</td><td>2.0</td><td>1556.0</td><td>44.0</td><td>1.45844405412E12</td></tr><tr><td>4</td><td>US</td><td>USA</td><td>United States</td><td>sensor-pad-4mzWkz</td><td>66.39.173.154</td><td>44_-121</td><td>40_-120</td><td>6</td><td>1080</td><td>32</td><td>1458444054121</td><td>6</td><td>1080</td><td>32</td><td>1458444054121</td><td>6.0</td><td>1080.0</td><td>32.0</td><td>1.458444054121E12</td></tr><tr><td>5</td><td>PH</td><td>PHL</td><td>Philippines</td><td>therm-stick-5gimpUrBB</td><td>203.82.41.9</td><td>15_121</td><td>10_120</td><td>4</td><td>931</td><td>62</td><td>1458444054122</td><td>4</td><td>931</td><td>62</td><td>1458444054122</td><td>4.0</td><td>931.0</td><td>62.0</td><td>1.458444054122E12</td></tr><tr><td>6</td><td>US</td><td>USA</td><td>United States</td><td>sensor-pad-6al7RTAobR</td><td>204.116.105.67</td><td>36_-85</td><td>40_-90</td><td>3</td><td>1210</td><td>51</td><td>1458444054122</td><td>3</td><td>1210</td><td>51</td><td>1458444054122</td><td>3.0</td><td>1210.0</td><td>51.0</td><td>1.458444054122E12</td></tr><tr><td>7</td><td>CN</td><td>CHN</td><td>China</td><td>meter-gauge-7GeDoanM</td><td>220.173.179.1</td><td>23_108</td><td>20_110</td><td>3</td><td>1129</td><td>26</td><td>1458444054123</td><td>3</td><td>1129</td><td>26</td><td>1458444054123</td><td>3.0</td><td>1129.0</td><td>26.0</td><td>1.458444054123E12</td></tr><tr><td>8</td><td>JP</td><td>JPN</td><td>Japan</td><td>sensor-pad-8xUD6pzsQI</td><td>210.173.177.1</td><td>36_140</td><td>40_140</td><td>0</td><td>1536</td><td>35</td><td>1458444054123</td><td>0</td><td>1536</td><td>35</td><td>1458444054123</td><td>0.0</td><td>1536.0</td><td>35.0</td><td>1.458444054123E12</td></tr><tr><td>9</td><td>JP</td><td>JPN</td><td>Japan</td><td>device-mac-9GcjZ2pw</td><td>118.23.68.227</td><td>36_140</td><td>40_140</td><td>3</td><td>807</td><td>85</td><td>1458444054124</td><td>3</td><td>807</td><td>85</td><td>1458444054124</td><td>3.0</td><td>807.0</td><td>85.0</td><td>1.458444054124E12</td></tr><tr><td>10</td><td>US</td><td>USA</td><td>United States</td><td>sensor-pad-10BsywSYUF</td><td>208.109.163.218</td><td>34_-112</td><td>30_-110</td><td>7</td><td>1470</td><td>56</td><td>1458444054125</td><td>7</td><td>1470</td><td>56</td><td>1458444054125</td><td>7.0</td><td>1470.0</td><td>56.0</td><td>1.458444054125E12</td></tr></tbody></table></div>"
      ]
     },
     "metadata": {
      "application/vnd.databricks.v1+output": {
       "addedWidgets": {},
       "aggData": [],
       "aggError": "",
       "aggOverflow": false,
       "aggSchema": [],
       "aggSeriesLimitReached": false,
       "aggType": "",
       "arguments": {},
       "columnCustomDisplayInfos": {},
       "data": [
        [
         1,
         "US",
         "USA",
         "United States",
         "meter-gauge-1xbYRYcj",
         "68.161.225.1",
         "38_-97",
         "40_-100",
         8,
         868,
         51,
         1458444054093,
         8,
         868,
         51,
         1458444054093,
         8,
         868,
         51,
         1458444054093
        ],
        [
         2,
         "NO",
         "NOR",
         "Norway",
         "sensor-pad-2n2Pea",
         "213.161.254.1",
         "62_6",
         "60_10",
         7,
         1473,
         70,
         1458444054119,
         7,
         1473,
         70,
         1458444054119,
         7,
         1473,
         70,
         1458444054119
        ],
        [
         3,
         "IT",
         "ITA",
         "Italy",
         "device-mac-36TWSKiT",
         "88.36.5.1",
         "43_13",
         "40_10",
         2,
         1556,
         44,
         1458444054120,
         2,
         1556,
         44,
         1458444054120,
         2,
         1556,
         44,
         1458444054120
        ],
        [
         4,
         "US",
         "USA",
         "United States",
         "sensor-pad-4mzWkz",
         "66.39.173.154",
         "44_-121",
         "40_-120",
         6,
         1080,
         32,
         1458444054121,
         6,
         1080,
         32,
         1458444054121,
         6,
         1080,
         32,
         1458444054121
        ],
        [
         5,
         "PH",
         "PHL",
         "Philippines",
         "therm-stick-5gimpUrBB",
         "203.82.41.9",
         "15_121",
         "10_120",
         4,
         931,
         62,
         1458444054122,
         4,
         931,
         62,
         1458444054122,
         4,
         931,
         62,
         1458444054122
        ],
        [
         6,
         "US",
         "USA",
         "United States",
         "sensor-pad-6al7RTAobR",
         "204.116.105.67",
         "36_-85",
         "40_-90",
         3,
         1210,
         51,
         1458444054122,
         3,
         1210,
         51,
         1458444054122,
         3,
         1210,
         51,
         1458444054122
        ],
        [
         7,
         "CN",
         "CHN",
         "China",
         "meter-gauge-7GeDoanM",
         "220.173.179.1",
         "23_108",
         "20_110",
         3,
         1129,
         26,
         1458444054123,
         3,
         1129,
         26,
         1458444054123,
         3,
         1129,
         26,
         1458444054123
        ],
        [
         8,
         "JP",
         "JPN",
         "Japan",
         "sensor-pad-8xUD6pzsQI",
         "210.173.177.1",
         "36_140",
         "40_140",
         0,
         1536,
         35,
         1458444054123,
         0,
         1536,
         35,
         1458444054123,
         0,
         1536,
         35,
         1458444054123
        ],
        [
         9,
         "JP",
         "JPN",
         "Japan",
         "device-mac-9GcjZ2pw",
         "118.23.68.227",
         "36_140",
         "40_140",
         3,
         807,
         85,
         1458444054124,
         3,
         807,
         85,
         1458444054124,
         3,
         807,
         85,
         1458444054124
        ],
        [
         10,
         "US",
         "USA",
         "United States",
         "sensor-pad-10BsywSYUF",
         "208.109.163.218",
         "34_-112",
         "30_-110",
         7,
         1470,
         56,
         1458444054125,
         7,
         1470,
         56,
         1458444054125,
         7,
         1470,
         56,
         1458444054125
        ]
       ],
       "datasetInfos": [],
       "dbfsResultPath": null,
       "isJsonSchema": true,
       "metadata": {},
       "overflow": false,
       "plotOptions": {
        "customPlotOptions": {},
        "displayType": "table",
        "pivotAggregation": null,
        "pivotColumns": [],
        "xColumns": [],
        "yColumns": []
       },
       "removedWidgets": [],
       "schema": [
        {
         "metadata": "{}",
         "name": "device_id",
         "type": "\"long\""
        },
        {
         "metadata": "{}",
         "name": "cca2",
         "type": "\"string\""
        },
        {
         "metadata": "{}",
         "name": "cca3",
         "type": "\"string\""
        },
        {
         "metadata": "{}",
         "name": "cn",
         "type": "\"string\""
        },
        {
         "metadata": "{}",
         "name": "device_name",
         "type": "\"string\""
        },
        {
         "metadata": "{}",
         "name": "ip",
         "type": "\"string\""
        },
        {
         "metadata": "{}",
         "name": "location_rounded1",
         "type": "\"string\""
        },
        {
         "metadata": "{}",
         "name": "location_rounded2",
         "type": "\"string\""
        },
        {
         "metadata": "{}",
         "name": "battery_level_min",
         "type": "\"long\""
        },
        {
         "metadata": "{}",
         "name": "c02_level_min",
         "type": "\"long\""
        },
        {
         "metadata": "{}",
         "name": "humidity_min",
         "type": "\"long\""
        },
        {
         "metadata": "{}",
         "name": "timestamp_min",
         "type": "\"long\""
        },
        {
         "metadata": "{}",
         "name": "battery_level_max",
         "type": "\"long\""
        },
        {
         "metadata": "{}",
         "name": "c02_level_max",
         "type": "\"long\""
        },
        {
         "metadata": "{}",
         "name": "humidity_max",
         "type": "\"long\""
        },
        {
         "metadata": "{}",
         "name": "timestamp_max",
         "type": "\"long\""
        },
        {
         "metadata": "{}",
         "name": "battery_level_avg",
         "type": "\"double\""
        },
        {
         "metadata": "{}",
         "name": "c02_level_avg",
         "type": "\"double\""
        },
        {
         "metadata": "{}",
         "name": "humidity_avg",
         "type": "\"double\""
        },
        {
         "metadata": "{}",
         "name": "timestamp_avg",
         "type": "\"double\""
        }
       ],
       "type": "table"
      }
     },
     "output_type": "display_data"
    }
   ],
   "source": [
    "from pyspark.sql import functions as F\n",
    "from pyspark.sql.functions import concat_ws, col, round\n",
    "\n",
    "devices_with_rounded_locations = (\n",
    "    devices\n",
    "    .withColumn(\n",
    "        'location_rounded1',\n",
    "        concat_ws(\n",
    "            '_',\n",
    "            round(col('latitude'), 0).cast('integer'),\n",
    "            round(col('longitude'), 0).cast('integer')))\n",
    "    .withColumn(\n",
    "        'location_rounded2',\n",
    "        concat_ws(\n",
    "            '_',\n",
    "            round(col('latitude'), -1).cast('integer'),\n",
    "            round(col('longitude'), -1).cast('integer')))\n",
    ")\n",
    "\n",
    "cols = ['battery_level', 'c02_level', 'humidity', 'timestamp']\n",
    "id_cols = ['cca2', 'cca3', 'cn', 'device_name', 'ip', 'location_rounded1', 'location_rounded2']\n",
    "devices_summarized = (\n",
    "    devices_with_rounded_locations.groupby('device_id').agg(\n",
    "        *[F.min(col) for col in cols],\n",
    "        *[F.max(col) for col in cols],\n",
    "        *[F.avg(col) for col in cols],\n",
    "        *[F.first(col) for col in id_cols]\n",
    "    )\n",
    ")\n",
    "\n",
    "# [(from1, to1), ...]\n",
    "renames = (\n",
    "    [('device_id', 'device_id')]\n",
    "    + [(f'first({col})', f'{col}') for col in id_cols]\n",
    "    + [(f'min({col})', f'{col}_min') for col in cols] \n",
    "    + [(f'max({col})', f'{col}_max') for col in cols]\n",
    "    + [(f'avg({col})', f'{col}_avg') for col in cols]\n",
    " )\n",
    "devices_summarized = devices_summarized.select(list(\n",
    "       map(lambda old,new:F.col(old).alias(new),*zip(*renames))\n",
    "       ))\n",
    "\n",
    "display(devices_summarized.take(10))"
   ]
  },
  {
   "cell_type": "markdown",
   "metadata": {
    "application/vnd.databricks.v1+cell": {
     "cellMetadata": {},
     "inputWidgets": {},
     "nuid": "f2ec3a1d-222d-4977-8479-e3e22f978d93",
     "showTitle": false,
     "title": ""
    }
   },
   "source": [
    "## Notebook plot\n",
    "\n",
    "* Simple: Graph connections between `device_name` and `cca3` (country code)\n",
    "* Advanced: Graph multiple connections, like `ip -> device_name` and `locaation_rounded1 -> ip`"
   ]
  },
  {
   "cell_type": "code",
   "execution_count": null,
   "metadata": {
    "application/vnd.databricks.v1+cell": {
     "cellMetadata": {},
     "inputWidgets": {},
     "nuid": "8028c3a6-308a-43ec-8988-0b51d9f1826d",
     "showTitle": false,
     "title": ""
    }
   },
   "outputs": [
    {
     "data": {
      "text/html": [
       "\n",
       "            <iframe id=\"d4c7812b-1ef3-47e3-a6a3-012bd6a7ecbc\" src=\"https://hub.graphistry.com/graph/graph.html?dataset=36e00c8e993b4593ac76513e4a28a7a3&type=arrow&viztoken=2708d71d-15b5-42fa-ae25-7549fd1d17aa&usertag=50d9aebe-pygraphistry-0.28.5&splashAfter=1669270551&info=true&strongGravity=true\"\n",
       "                    allowfullscreen=\"true\" webkitallowfullscreen=\"true\" mozallowfullscreen=\"true\"\n",
       "                    oallowfullscreen=\"true\" msallowfullscreen=\"true\"\n",
       "                    style=\"width:100%; height:500px; border: 1px solid #DDD; overflow: hidden\"\n",
       "                    \n",
       "            >\n",
       "            </iframe>\n",
       "        \n",
       "            <script>\n",
       "                try {\n",
       "                  $(\"#d4c7812b-1ef3-47e3-a6a3-012bd6a7ecbc\").bind('mousewheel', function(e) { e.preventDefault(); });\n",
       "                } catch (e) { console.error('exn catching scroll', e); }\n",
       "            </script>\n",
       "        "
      ]
     },
     "metadata": {
      "application/vnd.databricks.v1+output": {
       "addedWidgets": {},
       "arguments": {},
       "data": "\n            <iframe id=\"d4c7812b-1ef3-47e3-a6a3-012bd6a7ecbc\" src=\"https://hub.graphistry.com/graph/graph.html?dataset=36e00c8e993b4593ac76513e4a28a7a3&type=arrow&viztoken=2708d71d-15b5-42fa-ae25-7549fd1d17aa&usertag=50d9aebe-pygraphistry-0.28.5&splashAfter=1669270551&info=true&strongGravity=true\"\n                    allowfullscreen=\"true\" webkitallowfullscreen=\"true\" mozallowfullscreen=\"true\"\n                    oallowfullscreen=\"true\" msallowfullscreen=\"true\"\n                    style=\"width:100%; height:500px; border: 1px solid #DDD; overflow: hidden\"\n                    \n            >\n            </iframe>\n        \n            <script>\n                try {\n                  $(\"#d4c7812b-1ef3-47e3-a6a3-012bd6a7ecbc\").bind('mousewheel', function(e) { e.preventDefault(); });\n                } catch (e) { console.error('exn catching scroll', e); }\n            </script>\n        ",
       "datasetInfos": [],
       "metadata": {},
       "removedWidgets": [],
       "textData": null,
       "type": "htmlSandbox"
      }
     },
     "output_type": "display_data"
    }
   ],
   "source": [
    "(\n",
    "    graphistry \n",
    "        .edges(devices.sample(fraction=0.1), 'device_name', 'cca3') \\\n",
    "        .settings(url_params={'strongGravity': 'true'}) \\\n",
    "        .plot()\n",
    ")"
   ]
  },
  {
   "cell_type": "code",
   "execution_count": null,
   "metadata": {
    "application/vnd.databricks.v1+cell": {
     "cellMetadata": {},
     "inputWidgets": {},
     "nuid": "852b48fe-61af-4953-858f-52680bf07fd2",
     "showTitle": false,
     "title": ""
    }
   },
   "outputs": [
    {
     "data": {
      "text/plain": [
       "# links 79200\n",
       "# events 19800\n",
       "# attrib entities 41197\n"
      ]
     },
     "metadata": {
      "application/vnd.databricks.v1+output": {
       "addedWidgets": {},
       "arguments": {},
       "data": "# links 79200\n# events 19800\n# attrib entities 41197\n",
       "datasetInfos": [],
       "metadata": {},
       "removedWidgets": [],
       "type": "ansi"
      }
     },
     "output_type": "display_data"
    },
    {
     "data": {
      "text/html": [
       "\n",
       "            <iframe id=\"294f846a-3117-4a83-9c19-f51d49827740\" src=\"https://hub.graphistry.com/graph/graph.html?dataset=b7d40e8b48494d58aaa7b55e72fd5b2d&type=arrow&viztoken=d1838dc5-3ac8-478e-a79b-785790ebd899&usertag=50d9aebe-pygraphistry-0.28.5&splashAfter=1669270561&info=true&strongGravity=true\"\n",
       "                    allowfullscreen=\"true\" webkitallowfullscreen=\"true\" mozallowfullscreen=\"true\"\n",
       "                    oallowfullscreen=\"true\" msallowfullscreen=\"true\"\n",
       "                    style=\"width:100%; height:500px; border: 1px solid #DDD; overflow: hidden\"\n",
       "                    \n",
       "            >\n",
       "            </iframe>\n",
       "        \n",
       "            <script>\n",
       "                try {\n",
       "                  $(\"#294f846a-3117-4a83-9c19-f51d49827740\").bind('mousewheel', function(e) { e.preventDefault(); });\n",
       "                } catch (e) { console.error('exn catching scroll', e); }\n",
       "            </script>\n",
       "        "
      ]
     },
     "metadata": {
      "application/vnd.databricks.v1+output": {
       "addedWidgets": {},
       "arguments": {},
       "data": "\n            <iframe id=\"294f846a-3117-4a83-9c19-f51d49827740\" src=\"https://hub.graphistry.com/graph/graph.html?dataset=b7d40e8b48494d58aaa7b55e72fd5b2d&type=arrow&viztoken=d1838dc5-3ac8-478e-a79b-785790ebd899&usertag=50d9aebe-pygraphistry-0.28.5&splashAfter=1669270561&info=true&strongGravity=true\"\n                    allowfullscreen=\"true\" webkitallowfullscreen=\"true\" mozallowfullscreen=\"true\"\n                    oallowfullscreen=\"true\" msallowfullscreen=\"true\"\n                    style=\"width:100%; height:500px; border: 1px solid #DDD; overflow: hidden\"\n                    \n            >\n            </iframe>\n        \n            <script>\n                try {\n                  $(\"#294f846a-3117-4a83-9c19-f51d49827740\").bind('mousewheel', function(e) { e.preventDefault(); });\n                } catch (e) { console.error('exn catching scroll', e); }\n            </script>\n        ",
       "datasetInfos": [],
       "metadata": {},
       "removedWidgets": [],
       "textData": null,
       "type": "htmlSandbox"
      }
     },
     "output_type": "display_data"
    }
   ],
   "source": [
    "hg = graphistry.hypergraph(\n",
    "    devices_with_rounded_locations.sample(fraction=0.1).toPandas(),\n",
    "    ['ip', 'device_name', 'location_rounded1', 'location_rounded2', 'cca3'],\n",
    "    direct=True,\n",
    "    opts={\n",
    "        'EDGES': {\n",
    "            'ip': ['device_name'],\n",
    "            'location_rounded1': ['ip'],\n",
    "            'location_rounded2': ['ip'],\n",
    "            'cca3': ['location_rounded2']\n",
    "        }\n",
    "    })\n",
    "g = hg['graph']\n",
    "g = g.settings(url_params={'strongGravity': 'true'})  # this setting is great!\n",
    "\n",
    "g.plot()"
   ]
  },
  {
   "cell_type": "markdown",
   "metadata": {
    "application/vnd.databricks.v1+cell": {
     "cellMetadata": {},
     "inputWidgets": {},
     "nuid": "621d82e5-0623-4ecf-b10a-2c6fa61eac4e",
     "showTitle": false,
     "title": ""
    }
   },
   "source": [
    "## Dashboard plot\n",
    "\n",
    "* Make a `graphistry` object as usual...\n",
    "* ... Then disable the splash screen and optionally set custom dimensions\n",
    "\n",
    "The visualization will now load without needing to interact in the dashboard (`view` -> `+ New Dashboard`)"
   ]
  },
  {
   "cell_type": "code",
   "execution_count": null,
   "metadata": {
    "application/vnd.databricks.v1+cell": {
     "cellMetadata": {},
     "inputWidgets": {},
     "nuid": "4e327ad1-169b-4bb6-95c0-8fc0cf452625",
     "showTitle": false,
     "title": ""
    }
   },
   "outputs": [
    {
     "data": {
      "text/html": [
       "\n",
       "            <iframe id=\"6df31188-09f3-4c2c-80ac-b46e48f9e459\" src=\"https://hub.graphistry.com/graph/graph.html?dataset=4149d56c582e4b1abf55839e0833f7f9&type=arrow&viztoken=53979b61-ac05-46cc-b0f4-4647a0934977&usertag=50d9aebe-pygraphistry-0.28.5&splashAfter=1669270565&info=true&strongGravity=true&splashAfter=false\"\n",
       "                    allowfullscreen=\"true\" webkitallowfullscreen=\"true\" mozallowfullscreen=\"true\"\n",
       "                    oallowfullscreen=\"true\" msallowfullscreen=\"true\"\n",
       "                    style=\"\n",
       "            border: 1px #DDD dotted;\n",
       "            width: 50em; height: 50em;\n",
       "        \"\n",
       "                    \n",
       "            >\n",
       "            </iframe>\n",
       "        \n",
       "            <script>\n",
       "                try {\n",
       "                  $(\"#6df31188-09f3-4c2c-80ac-b46e48f9e459\").bind('mousewheel', function(e) { e.preventDefault(); });\n",
       "                } catch (e) { console.error('exn catching scroll', e); }\n",
       "            </script>\n",
       "        "
      ]
     },
     "metadata": {
      "application/vnd.databricks.v1+output": {
       "addedWidgets": {},
       "arguments": {},
       "data": "\n            <iframe id=\"6df31188-09f3-4c2c-80ac-b46e48f9e459\" src=\"https://hub.graphistry.com/graph/graph.html?dataset=4149d56c582e4b1abf55839e0833f7f9&type=arrow&viztoken=53979b61-ac05-46cc-b0f4-4647a0934977&usertag=50d9aebe-pygraphistry-0.28.5&splashAfter=1669270565&info=true&strongGravity=true&splashAfter=false\"\n                    allowfullscreen=\"true\" webkitallowfullscreen=\"true\" mozallowfullscreen=\"true\"\n                    oallowfullscreen=\"true\" msallowfullscreen=\"true\"\n                    style=\"\n            border: 1px #DDD dotted;\n            width: 50em; height: 50em;\n        \"\n                    \n            >\n            </iframe>\n        \n            <script>\n                try {\n                  $(\"#6df31188-09f3-4c2c-80ac-b46e48f9e459\").bind('mousewheel', function(e) { e.preventDefault(); });\n                } catch (e) { console.error('exn catching scroll', e); }\n            </script>\n        ",
       "datasetInfos": [],
       "metadata": {},
       "removedWidgets": [],
       "textData": null,
       "type": "htmlSandbox"
      }
     },
     "output_type": "display_data"
    }
   ],
   "source": [
    "(\n",
    "    g\n",
    "        .settings(url_params={'splashAfter': 'false'})  # extends existing setting\n",
    "        .plot(override_html_style=\"\"\"\n",
    "            border: 1px #DDD dotted;\n",
    "            width: 50em; height: 50em;\n",
    "        \"\"\")\n",
    ")"
   ]
  },
  {
   "cell_type": "markdown",
   "metadata": {
    "application/vnd.databricks.v1+cell": {
     "cellMetadata": {},
     "inputWidgets": {},
     "nuid": "fa9be400-ec7d-4dd5-9981-d707cc4f4a3f",
     "showTitle": false,
     "title": ""
    }
   },
   "source": [
    "## Plot as a Shareable URL"
   ]
  },
  {
   "cell_type": "code",
   "execution_count": null,
   "metadata": {
    "application/vnd.databricks.v1+cell": {
     "cellMetadata": {},
     "inputWidgets": {},
     "nuid": "a0e6bd79-1172-4cfe-ac6d-83b187d48747",
     "showTitle": false,
     "title": ""
    }
   },
   "outputs": [
    {
     "data": {
      "text/plain": [
       "Out[18]: 'https://hub.graphistry.com/graph/graph.html?dataset=187d97493ce54498b820f727877eda4b&type=arrow&viztoken=b3106e8a-cbe9-4802-8519-97e1d0d539c3&usertag=50d9aebe-pygraphistry-0.28.5&splashAfter=1669270570&info=true&strongGravity=true'"
      ]
     },
     "metadata": {
      "application/vnd.databricks.v1+output": {
       "addedWidgets": {},
       "arguments": {},
       "data": "Out[18]: 'https://hub.graphistry.com/graph/graph.html?dataset=187d97493ce54498b820f727877eda4b&type=arrow&viztoken=b3106e8a-cbe9-4802-8519-97e1d0d539c3&usertag=50d9aebe-pygraphistry-0.28.5&splashAfter=1669270570&info=true&strongGravity=true'",
       "datasetInfos": [],
       "metadata": {},
       "removedWidgets": [],
       "type": "ansi"
      }
     },
     "output_type": "display_data"
    }
   ],
   "source": [
    "url = g.plot(render=False)\n",
    "url"
   ]
  },
  {
   "cell_type": "code",
   "execution_count": null,
   "metadata": {
    "application/vnd.databricks.v1+cell": {
     "cellMetadata": {},
     "inputWidgets": {},
     "nuid": "ed683717-2c64-43b0-9a7e-bbe2115ba880",
     "showTitle": false,
     "title": ""
    }
   },
   "outputs": [],
   "source": []
  }
 ],
 "metadata": {
  "application/vnd.databricks.v1+notebook": {
   "dashboards": [],
   "language": "python",
   "notebookMetadata": {
    "pythonIndentUnit": 4
   },
   "notebookName": "graphistry-notebook-dashboard",
   "notebookOrigID": 382244341032212,
   "widgets": {}
  },
  "kernelspec": {
   "display_name": "Python 3 (ipykernel)",
   "language": "python",
   "name": "python3"
  },
  "language_info": {
   "codemirror_mode": {
    "name": "ipython",
    "version": 3
   },
   "file_extension": ".py",
   "mimetype": "text/x-python",
   "name": "python",
   "nbconvert_exporter": "python",
   "pygments_lexer": "ipython3",
   "version": "3.10.6"
  }
 },
 "nbformat": 4,
 "nbformat_minor": 4
}
