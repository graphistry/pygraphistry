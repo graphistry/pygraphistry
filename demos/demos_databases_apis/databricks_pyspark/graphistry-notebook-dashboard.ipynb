{
 "cells": [
  {
   "cell_type": "markdown",
   "metadata": {
    "application/vnd.databricks.v1+cell": {
     "cellMetadata": {},
     "inputWidgets": {},
     "nuid": "69dde01b-e309-46b7-bfce-5434e3a6f55a",
     "showTitle": false,
     "title": ""
    }
   },
   "source": [
    "# Databricks <> Graphistry Tutorial: Notebooks & Dashboards on IoT data\n",
    "\n",
    "This tutorial visualizes a set of sensors by clustering them based on lattitude/longitude and overlaying summary statistics\n",
    "\n",
    "We show how to load the interactive plots both with Databricks notebook and dashboard modes. The general flow should work in other PySpark environments as well.\n",
    "\n",
    "Steps:\n",
    "\n",
    "* Install Graphistry\n",
    "* Prepare IoT data\n",
    "* Plot in a notebook\n",
    "* Plot in a dashboard\n",
    "* Plot as a shareable URL"
   ]
  },
  {
   "cell_type": "markdown",
   "metadata": {
    "application/vnd.databricks.v1+cell": {
     "cellMetadata": {},
     "inputWidgets": {},
     "nuid": "44174981-e70b-4624-8521-beac9ac103bb",
     "showTitle": false,
     "title": ""
    }
   },
   "source": [
    "## Install & authenticate with graphistry server"
   ]
  },
  {
   "cell_type": "code",
   "execution_count": 0,
   "metadata": {
    "application/vnd.databricks.v1+cell": {
     "cellMetadata": {
      "byteLimit": 2048000,
      "rowLimit": 10000
     },
     "inputWidgets": {},
     "nuid": "eaf03d3c-d046-4f96-825e-5db2355af383",
     "showTitle": false,
     "title": ""
    }
   },
   "outputs": [],
   "source": [
    "# Uncomment and run first time or\n",
    "#  have databricks admin install graphistry python library: \n",
    "#  https://docs.databricks.com/en/libraries/package-repositories.html#pypi-package\n",
    "\n",
    "#%pip install graphistry\n",
    "    "
   ]
  },
  {
   "cell_type": "code",
   "execution_count": 0,
   "metadata": {
    "application/vnd.databricks.v1+cell": {
     "cellMetadata": {
      "byteLimit": 2048000,
      "rowLimit": 10000
     },
     "inputWidgets": {},
     "nuid": "8ad9b072-f037-4d4a-a1fa-ca2c14bd639f",
     "showTitle": false,
     "title": ""
    }
   },
   "outputs": [],
   "source": [
    "# Required to run after pip install to pick up new python package: \n",
    "dbutils.library.restartPython()"
   ]
  },
  {
   "cell_type": "code",
   "execution_count": 0,
   "metadata": {
    "application/vnd.databricks.v1+cell": {
     "cellMetadata": {
      "byteLimit": 2048000,
      "rowLimit": 10000
     },
     "inputWidgets": {},
     "nuid": "cfd253ba-c647-4c45-8048-58b0ca427569",
     "showTitle": false,
     "title": ""
    }
   },
   "outputs": [],
   "source": [
    "import graphistry  # if not yet available, install pygraphistry and/or restart Python kernel using the cells above\n",
    "graphistry.__version__"
   ]
  },
  {
   "cell_type": "markdown",
   "metadata": {
    "application/vnd.databricks.v1+cell": {
     "cellMetadata": {},
     "inputWidgets": {},
     "nuid": "55e30c26-3a8c-46dc-8eff-bd730d3c7798",
     "showTitle": false,
     "title": ""
    }
   },
   "source": [
    "### Use databricks secrets to retrieve graphistry creds and pass to register "
   ]
  },
  {
   "cell_type": "code",
   "execution_count": 0,
   "metadata": {
    "application/vnd.databricks.v1+cell": {
     "cellMetadata": {
      "byteLimit": 2048000,
      "rowLimit": 10000
     },
     "inputWidgets": {},
     "nuid": "b5496fa5-525a-48c9-ad46-0ce17ebdc4f8",
     "showTitle": false,
     "title": ""
    }
   },
   "outputs": [],
   "source": [
    "\n",
    "# As a best practice, use databricks secrets to store graphistry personal key (access token)\n",
    "# create databricks secrets: https://docs.databricks.com/en/security/secrets/index.html \n",
    "# create graphistry personal key: https://hub.graphistry.com/account/tokens\n",
    "\n",
    "graphistry.register(api=3, \n",
    "                    personal_key_id=dbutils.secrets.get(scope=\"my-secret-scope\", key=\"graphistry-personal_key_id\"), \n",
    "                    personal_key_secret=dbutils.secrets.get(scope=\"my-secret-scope\", key=\"graphistry-personal_key_secret\"), \n",
    "                    protocol='https',\n",
    "                    server='hub.graphistry.com')\n",
    "\n",
    "# Alternatively, use username and password: \n",
    "# graphistry.register(api=3, username='...', password='...', protocol='https', server='hub.graphistry.com')\n",
    "# For more options, see https://github.com/graphistry/pygraphistry#configure"
   ]
  },
  {
   "cell_type": "markdown",
   "metadata": {
    "application/vnd.databricks.v1+cell": {
     "cellMetadata": {},
     "inputWidgets": {},
     "nuid": "68965388-9e8b-46f8-b9b1-e8231e9eed4c",
     "showTitle": false,
     "title": ""
    }
   },
   "source": [
    "## Prepare IoT data\n",
    "Sample data provided by Databricks\n",
    "\n",
    "We create tables for different plots:\n",
    "\n",
    "* Raw table of device sensor reads\n",
    "* Summarized table:\n",
    "  - rounded latitude/longitude\n",
    "  - summarize min/max/avg for battery_level, c02_level, humidity, timestamp"
   ]
  },
  {
   "cell_type": "code",
   "execution_count": 0,
   "metadata": {
    "application/vnd.databricks.v1+cell": {
     "cellMetadata": {
      "byteLimit": 2048000,
      "rowLimit": 10000
     },
     "inputWidgets": {},
     "nuid": "c187c650-01c2-4e48-b8e0-803e937cdb11",
     "showTitle": false,
     "title": ""
    }
   },
   "outputs": [],
   "source": [
    "# Load the data from its source.\n",
    "devices = spark.read \\\n",
    "  .format('json') \\\n",
    "  .load('/databricks-datasets/iot/iot_devices.json')\n",
    "\n",
    "# Show the results.\n",
    "print('type: ', str(type(devices)))\n",
    "display(devices.take(10))"
   ]
  },
  {
   "cell_type": "code",
   "execution_count": 0,
   "metadata": {
    "application/vnd.databricks.v1+cell": {
     "cellMetadata": {
      "byteLimit": 2048000,
      "rowLimit": 10000
     },
     "inputWidgets": {},
     "nuid": "c69b91ed-c172-47b7-9bb7-27532202179a",
     "showTitle": false,
     "title": ""
    }
   },
   "outputs": [],
   "source": [
    "from pyspark.sql import functions as F\n",
    "from pyspark.sql.functions import concat_ws, col, round\n",
    "\n",
    "devices_with_rounded_locations = (\n",
    "    devices\n",
    "    .withColumn(\n",
    "        'location_rounded1',\n",
    "        concat_ws(\n",
    "            '_',\n",
    "            round(col('latitude'), 0).cast('integer'),\n",
    "            round(col('longitude'), 0).cast('integer')))\n",
    "    .withColumn(\n",
    "        'location_rounded2',\n",
    "        concat_ws(\n",
    "            '_',\n",
    "            round(col('latitude'), -1).cast('integer'),\n",
    "            round(col('longitude'), -1).cast('integer')))\n",
    ")\n",
    "\n",
    "cols = ['battery_level', 'c02_level', 'humidity', 'timestamp']\n",
    "id_cols = ['cca2', 'cca3', 'cn', 'device_name', 'ip', 'location_rounded1', 'location_rounded2']\n",
    "devices_summarized = (\n",
    "    devices_with_rounded_locations.groupby('device_id').agg(\n",
    "        *[F.min(col) for col in cols],\n",
    "        *[F.max(col) for col in cols],\n",
    "        *[F.avg(col) for col in cols],\n",
    "        *[F.first(col) for col in id_cols]\n",
    "    )\n",
    ")\n",
    "\n",
    "# [(from1, to1), ...]\n",
    "renames = (\n",
    "    [('device_id', 'device_id')]\n",
    "    + [(f'first({col})', f'{col}') for col in id_cols]\n",
    "    + [(f'min({col})', f'{col}_min') for col in cols] \n",
    "    + [(f'max({col})', f'{col}_max') for col in cols]\n",
    "    + [(f'avg({col})', f'{col}_avg') for col in cols]\n",
    " )\n",
    "devices_summarized = devices_summarized.select(list(\n",
    "       map(lambda old,new:F.col(old).alias(new),*zip(*renames))\n",
    "       ))\n",
    "\n",
    "display(devices_summarized.take(10))"
   ]
  },
  {
   "cell_type": "markdown",
   "metadata": {
    "application/vnd.databricks.v1+cell": {
     "cellMetadata": {},
     "inputWidgets": {},
     "nuid": "f2ec3a1d-222d-4977-8479-e3e22f978d93",
     "showTitle": false,
     "title": ""
    }
   },
   "source": [
    "## Notebook plot\n",
    "\n",
    "* Simple: Graph connections between `device_name` and `cca3` (country code)\n",
    "* Advanced: Graph multiple connections, like `ip -> device_name` and `locaation_rounded1 -> ip`"
   ]
  },
  {
   "cell_type": "code",
   "execution_count": 0,
   "metadata": {
    "application/vnd.databricks.v1+cell": {
     "cellMetadata": {
      "byteLimit": 2048000,
      "rowLimit": 10000
     },
     "inputWidgets": {},
     "nuid": "8028c3a6-308a-43ec-8988-0b51d9f1826d",
     "showTitle": false,
     "title": ""
    }
   },
   "outputs": [],
   "source": [
    "(\n",
    "    graphistry \n",
    "        .edges(devices.sample(fraction=0.1).toPandas(), 'device_name', 'cca3') \\\n",
    "        .settings(url_params={'strongGravity': 'true'}) \\\n",
    "        .plot()\n",
    ")"
   ]
  },
  {
   "cell_type": "code",
   "execution_count": 0,
   "metadata": {
    "application/vnd.databricks.v1+cell": {
     "cellMetadata": {
      "byteLimit": 2048000,
      "rowLimit": 10000
     },
     "inputWidgets": {},
     "nuid": "852b48fe-61af-4953-858f-52680bf07fd2",
     "showTitle": false,
     "title": ""
    }
   },
   "outputs": [],
   "source": [
    "hg = graphistry.hypergraph(\n",
    "    devices_with_rounded_locations.sample(fraction=0.1).toPandas(),\n",
    "    ['ip', 'device_name', 'location_rounded1', 'location_rounded2', 'cca3'],\n",
    "    direct=True,\n",
    "    opts={\n",
    "        'EDGES': {\n",
    "            'ip': ['device_name'],\n",
    "            'location_rounded1': ['ip'],\n",
    "            'location_rounded2': ['ip'],\n",
    "            'cca3': ['location_rounded2']\n",
    "        }\n",
    "    })\n",
    "g = hg['graph']\n",
    "g = g.settings(url_params={'strongGravity': 'true'})  # this setting is great!\n",
    "\n",
    "g.plot()"
   ]
  },
  {
   "cell_type": "markdown",
   "metadata": {
    "application/vnd.databricks.v1+cell": {
     "cellMetadata": {},
     "inputWidgets": {},
     "nuid": "621d82e5-0623-4ecf-b10a-2c6fa61eac4e",
     "showTitle": false,
     "title": ""
    }
   },
   "source": [
    "## Dashboard plot\n",
    "\n",
    "* Make a `graphistry` object as usual...\n",
    "* ... Then disable the splash screen and optionally set custom dimensions\n",
    "\n",
    "The visualization will now load without needing to interact in the dashboard (`view` -> `+ New Dashboard`)"
   ]
  },
  {
   "cell_type": "code",
   "execution_count": 0,
   "metadata": {
    "application/vnd.databricks.v1+cell": {
     "cellMetadata": {
      "byteLimit": 2048000,
      "rowLimit": 10000
     },
     "inputWidgets": {},
     "nuid": "4e327ad1-169b-4bb6-95c0-8fc0cf452625",
     "showTitle": false,
     "title": ""
    }
   },
   "outputs": [],
   "source": [
    "(\n",
    "    g\n",
    "        .settings(url_params={'splashAfter': 'false'})  # extends existing setting\n",
    "        .plot(override_html_style=\"\"\"\n",
    "            border: 1px #DDD dotted;\n",
    "            width: 50em; height: 50em;\n",
    "        \"\"\")\n",
    ")"
   ]
  },
  {
   "cell_type": "markdown",
   "metadata": {
    "application/vnd.databricks.v1+cell": {
     "cellMetadata": {},
     "inputWidgets": {},
     "nuid": "fa9be400-ec7d-4dd5-9981-d707cc4f4a3f",
     "showTitle": false,
     "title": ""
    }
   },
   "source": [
    "## Plot as a Shareable URL"
   ]
  },
  {
   "cell_type": "code",
   "execution_count": 0,
   "metadata": {
    "application/vnd.databricks.v1+cell": {
     "cellMetadata": {
      "byteLimit": 2048000,
      "rowLimit": 10000
     },
     "inputWidgets": {},
     "nuid": "a0e6bd79-1172-4cfe-ac6d-83b187d48747",
     "showTitle": false,
     "title": ""
    }
   },
   "outputs": [],
   "source": [
    "url = g.plot(render=False)\n",
    "url"
   ]
  },
  {
   "cell_type": "code",
   "execution_count": 0,
   "metadata": {
    "application/vnd.databricks.v1+cell": {
     "cellMetadata": {},
     "inputWidgets": {},
     "nuid": "cd326621-1224-4b91-890d-9285f7755ad2",
     "showTitle": false,
     "title": ""
    }
   },
   "outputs": [],
   "source": []
  }
 ],
 "metadata": {
  "application/vnd.databricks.v1+notebook": {
   "dashboards": [],
   "environmentMetadata": null,
   "language": "python",
   "notebookMetadata": {
    "pythonIndentUnit": 4
   },
   "notebookName": "graphistry-notebook-dashboard (1)",
   "widgets": {}
  },
  "kernelspec": {
   "display_name": "Python 3 (ipykernel)",
   "language": "python",
   "name": "python3"
  },
  "language_info": {
   "codemirror_mode": {
    "name": "ipython",
    "version": 3
   },
   "file_extension": ".py",
   "mimetype": "text/x-python",
   "name": "python",
   "nbconvert_exporter": "python",
   "pygments_lexer": "ipython3",
   "version": "3.10.6"
  }
 },
 "nbformat": 4,
 "nbformat_minor": 0
}
