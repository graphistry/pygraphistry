{
 "cells": [
  {
   "cell_type": "markdown",
   "metadata": {
    "application/vnd.databricks.v1+cell": {
     "cellMetadata": {},
     "inputWidgets": {},
     "nuid": "69dde01b-e309-46b7-bfce-5434e3a6f55a",
     "showTitle": false,
     "title": ""
    }
   },
   "source": [
    "# Databricks <> Graphistry Tutorial: Notebooks & Dashboards on IoT data\n",
    "\n",
    "This tutorial visualizes a set of sensors by clustering them based on lattitude/longitude and overlaying summary statistics\n",
    "\n",
    "We show how to load the interactive plots both with Databricks notebook and dashboard modes. The general flow should work in other PySpark environments as well.\n",
    "\n",
    "Steps:\n",
    "\n",
    "* Install Graphistry\n",
    "* Prepare IoT data\n",
    "* Plot in a notebook\n",
    "* Plot in a dashboard\n",
    "* Plot as a shareable URL"
   ]
  },
  {
   "cell_type": "markdown",
   "metadata": {
    "application/vnd.databricks.v1+cell": {
     "cellMetadata": {},
     "inputWidgets": {},
     "nuid": "44174981-e70b-4624-8521-beac9ac103bb",
     "showTitle": false,
     "title": ""
    }
   },
   "source": [
    "## Install & connect"
   ]
  },
  {
   "cell_type": "code",
   "execution_count": 0,
   "metadata": {
    "application/vnd.databricks.v1+cell": {
     "cellMetadata": {
      "byteLimit": 2048000,
      "rowLimit": 10000
     },
     "inputWidgets": {},
     "nuid": "eaf03d3c-d046-4f96-825e-5db2355af383",
     "showTitle": false,
     "title": ""
    }
   },
   "outputs": [
    {
     "output_type": "stream",
     "name": "stdout",
     "output_type": "stream",
     "text": [
      "\u001B[43mNote: you may need to restart the kernel using dbutils.library.restartPython() to use updated packages.\u001B[0m\nRequirement already satisfied: graphistry in /local_disk0/.ephemeral_nfs/cluster_libraries/python/lib/python3.10/site-packages (0.34.3)\nRequirement already satisfied: numpy in /databricks/python3/lib/python3.10/site-packages (from graphistry) (1.23.5)\nRequirement already satisfied: requests in /databricks/python3/lib/python3.10/site-packages (from graphistry) (2.28.1)\nRequirement already satisfied: pandas in /databricks/python3/lib/python3.10/site-packages (from graphistry) (1.5.3)\nRequirement already satisfied: setuptools in /databricks/python3/lib/python3.10/site-packages (from graphistry) (65.6.3)\nRequirement already satisfied: squarify in /local_disk0/.ephemeral_nfs/cluster_libraries/python/lib/python3.10/site-packages (from graphistry) (0.4.4)\nRequirement already satisfied: typing-extensions in /databricks/python3/lib/python3.10/site-packages (from graphistry) (4.4.0)\nRequirement already satisfied: palettable>=3.0 in /local_disk0/.ephemeral_nfs/cluster_libraries/python/lib/python3.10/site-packages (from graphistry) (3.3.3)\nRequirement already satisfied: pyarrow>=0.15.0 in /databricks/python3/lib/python3.10/site-packages (from graphistry) (8.0.0)\nRequirement already satisfied: packaging>=20.1 in /databricks/python3/lib/python3.10/site-packages (from graphistry) (22.0)\nRequirement already satisfied: python-dateutil>=2.8.1 in /databricks/python3/lib/python3.10/site-packages (from pandas->graphistry) (2.8.2)\nRequirement already satisfied: pytz>=2020.1 in /databricks/python3/lib/python3.10/site-packages (from pandas->graphistry) (2022.7)\nRequirement already satisfied: idna<4,>=2.5 in /databricks/python3/lib/python3.10/site-packages (from requests->graphistry) (3.4)\nRequirement already satisfied: certifi>=2017.4.17 in /databricks/python3/lib/python3.10/site-packages (from requests->graphistry) (2022.12.7)\nRequirement already satisfied: charset-normalizer<3,>=2 in /databricks/python3/lib/python3.10/site-packages (from requests->graphistry) (2.0.4)\nRequirement already satisfied: urllib3<1.27,>=1.21.1 in /databricks/python3/lib/python3.10/site-packages (from requests->graphistry) (1.26.14)\nRequirement already satisfied: six>=1.5 in /usr/lib/python3/dist-packages (from python-dateutil>=2.8.1->pandas->graphistry) (1.16.0)\n\u001B[43mNote: you may need to restart the kernel using dbutils.library.restartPython() to use updated packages.\u001B[0m\n"
     ]
    }
   ],
   "source": [
    "# Uncomment and run first time or\n",
    "#  have databricks admin install graphistry python library: \n",
    "#  https://docs.databricks.com/en/libraries/package-repositories.html#pypi-package\n",
    "\n",
    "#%pip install graphistry\n",
    "    "
   ]
  },
  {
   "cell_type": "code",
   "execution_count": 0,
   "metadata": {
    "application/vnd.databricks.v1+cell": {
     "cellMetadata": {
      "byteLimit": 2048000,
      "rowLimit": 10000
     },
     "inputWidgets": {},
     "nuid": "8ad9b072-f037-4d4a-a1fa-ca2c14bd639f",
     "showTitle": false,
     "title": ""
    }
   },
   "outputs": [],
   "source": [
    "# Required to run after pip install to pick up new python package: \n",
    "dbutils.library.restartPython()"
   ]
  },
  {
   "cell_type": "code",
   "execution_count": 0,
   "metadata": {
    "application/vnd.databricks.v1+cell": {
     "cellMetadata": {
      "byteLimit": 2048000,
      "rowLimit": 10000
     },
     "inputWidgets": {},
     "nuid": "cfd253ba-c647-4c45-8048-58b0ca427569",
     "showTitle": false,
     "title": ""
    }
   },
   "outputs": [
    {
     "output_type": "execute_result",
     "data": {
      "text/plain": [
       "'0.34.3'"
      ]
     },
     "execution_count": 1,
     "metadata": {},
     "output_type": "execute_result"
    }
   ],
   "source": [
    "import graphistry  # if not yet available, install pygraphistry and/or restart Python kernel using the cells above\n",
    "graphistry.__version__"
   ]
  },
  {
   "cell_type": "code",
   "execution_count": 0,
   "metadata": {
    "application/vnd.databricks.v1+cell": {
     "cellMetadata": {
      "byteLimit": 2048000,
      "rowLimit": 10000
     },
     "inputWidgets": {},
     "nuid": "b5496fa5-525a-48c9-ad46-0ce17ebdc4f8",
     "showTitle": false,
     "title": ""
    }
   },
   "outputs": [],
   "source": [
    "\n",
    "# Best practice:  use databricks secrets to store graphistry personal key (access token) \n",
    "\n",
    "# create personal key for your user at https://hub.graphistry.com/account/tokens\n",
    "\n",
    "graphistry.register(api=3, \n",
    "                    personal_key_id=dbutils.secrets.get(scope=\"my-secret-scope\", key=\"graphistry-personal_key_id\"), \n",
    "                    personal_key_secret=dbutils.secrets.get(scope=\"my-secret-scope\", key=\"graphistry-personal_key_secret\"), \n",
    "                    protocol='https',\n",
    "                    server='hub.graphistry.com')\n",
    "\n",
    "# Alternatively, use username and password: \n",
    "# graphistry.register(api=3, username='...', password='...', protocol='https', server='hub.graphistry.com')\n",
    "# For more options, see https://github.com/graphistry/pygraphistry#configure"
   ]
  },
  {
   "cell_type": "markdown",
   "metadata": {
    "application/vnd.databricks.v1+cell": {
     "cellMetadata": {},
     "inputWidgets": {},
     "nuid": "68965388-9e8b-46f8-b9b1-e8231e9eed4c",
     "showTitle": false,
     "title": ""
    }
   },
   "source": [
    "## Prepare IoT data\n",
    "Sample data provided by Databricks\n",
    "\n",
    "We create tables for different plots:\n",
    "\n",
    "* Raw table of device sensor reads\n",
    "* Summarized table:\n",
    "  - rounded latitude/longitude\n",
    "  - summarize min/max/avg for battery_level, c02_level, humidity, timestamp"
   ]
  },
  {
   "cell_type": "code",
   "execution_count": 0,
   "metadata": {
    "application/vnd.databricks.v1+cell": {
     "cellMetadata": {
      "byteLimit": 2048000,
      "rowLimit": 10000
     },
     "inputWidgets": {},
     "nuid": "c187c650-01c2-4e48-b8e0-803e937cdb11",
     "showTitle": false,
     "title": ""
    }
   },
   "outputs": [
    {
     "output_type": "stream",
     "name": "stdout",
     "output_type": "stream",
     "text": [
      "type:  <class 'pyspark.sql.connect.dataframe.DataFrame'>\n"
     ]
    },
    {
     "output_type": "display_data",
     "data": {
      "text/html": [
       "<style scoped>\n",
       "  .table-result-container {\n",
       "    max-height: 300px;\n",
       "    overflow: auto;\n",
       "  }\n",
       "  table, th, td {\n",
       "    border: 1px solid black;\n",
       "    border-collapse: collapse;\n",
       "  }\n",
       "  th, td {\n",
       "    padding: 5px;\n",
       "  }\n",
       "  th {\n",
       "    text-align: left;\n",
       "  }\n",
       "</style><div class='table-result-container'><table class='table-result'><thead style='background-color: white'><tr><th>battery_level</th><th>c02_level</th><th>cca2</th><th>cca3</th><th>cn</th><th>device_id</th><th>device_name</th><th>humidity</th><th>ip</th><th>latitude</th><th>lcd</th><th>longitude</th><th>scale</th><th>temp</th><th>timestamp</th></tr></thead><tbody><tr><td>8</td><td>868</td><td>US</td><td>USA</td><td>United States</td><td>1</td><td>meter-gauge-1xbYRYcj</td><td>51</td><td>68.161.225.1</td><td>38.0</td><td>green</td><td>-97.0</td><td>Celsius</td><td>34</td><td>1458444054093</td></tr><tr><td>7</td><td>1473</td><td>NO</td><td>NOR</td><td>Norway</td><td>2</td><td>sensor-pad-2n2Pea</td><td>70</td><td>213.161.254.1</td><td>62.47</td><td>red</td><td>6.15</td><td>Celsius</td><td>11</td><td>1458444054119</td></tr><tr><td>2</td><td>1556</td><td>IT</td><td>ITA</td><td>Italy</td><td>3</td><td>device-mac-36TWSKiT</td><td>44</td><td>88.36.5.1</td><td>42.83</td><td>red</td><td>12.83</td><td>Celsius</td><td>19</td><td>1458444054120</td></tr><tr><td>6</td><td>1080</td><td>US</td><td>USA</td><td>United States</td><td>4</td><td>sensor-pad-4mzWkz</td><td>32</td><td>66.39.173.154</td><td>44.06</td><td>yellow</td><td>-121.32</td><td>Celsius</td><td>28</td><td>1458444054121</td></tr><tr><td>4</td><td>931</td><td>PH</td><td>PHL</td><td>Philippines</td><td>5</td><td>therm-stick-5gimpUrBB</td><td>62</td><td>203.82.41.9</td><td>14.58</td><td>green</td><td>120.97</td><td>Celsius</td><td>25</td><td>1458444054122</td></tr><tr><td>3</td><td>1210</td><td>US</td><td>USA</td><td>United States</td><td>6</td><td>sensor-pad-6al7RTAobR</td><td>51</td><td>204.116.105.67</td><td>35.93</td><td>yellow</td><td>-85.46</td><td>Celsius</td><td>27</td><td>1458444054122</td></tr><tr><td>3</td><td>1129</td><td>CN</td><td>CHN</td><td>China</td><td>7</td><td>meter-gauge-7GeDoanM</td><td>26</td><td>220.173.179.1</td><td>22.82</td><td>yellow</td><td>108.32</td><td>Celsius</td><td>18</td><td>1458444054123</td></tr><tr><td>0</td><td>1536</td><td>JP</td><td>JPN</td><td>Japan</td><td>8</td><td>sensor-pad-8xUD6pzsQI</td><td>35</td><td>210.173.177.1</td><td>35.69</td><td>red</td><td>139.69</td><td>Celsius</td><td>27</td><td>1458444054123</td></tr><tr><td>3</td><td>807</td><td>JP</td><td>JPN</td><td>Japan</td><td>9</td><td>device-mac-9GcjZ2pw</td><td>85</td><td>118.23.68.227</td><td>35.69</td><td>green</td><td>139.69</td><td>Celsius</td><td>13</td><td>1458444054124</td></tr><tr><td>7</td><td>1470</td><td>US</td><td>USA</td><td>United States</td><td>10</td><td>sensor-pad-10BsywSYUF</td><td>56</td><td>208.109.163.218</td><td>33.61</td><td>red</td><td>-111.89</td><td>Celsius</td><td>26</td><td>1458444054125</td></tr></tbody></table></div>"
      ]
     },
     "metadata": {
      "application/vnd.databricks.v1+output": {
       "addedWidgets": {},
       "aggData": [],
       "aggError": "",
       "aggOverflow": false,
       "aggSchema": [],
       "aggSeriesLimitReached": false,
       "aggType": "",
       "arguments": {},
       "columnCustomDisplayInfos": {},
       "data": [
        [
         8,
         868,
         "US",
         "USA",
         "United States",
         1,
         "meter-gauge-1xbYRYcj",
         51,
         "68.161.225.1",
         38.0,
         "green",
         -97.0,
         "Celsius",
         34,
         1458444054093
        ],
        [
         7,
         1473,
         "NO",
         "NOR",
         "Norway",
         2,
         "sensor-pad-2n2Pea",
         70,
         "213.161.254.1",
         62.47,
         "red",
         6.15,
         "Celsius",
         11,
         1458444054119
        ],
        [
         2,
         1556,
         "IT",
         "ITA",
         "Italy",
         3,
         "device-mac-36TWSKiT",
         44,
         "88.36.5.1",
         42.83,
         "red",
         12.83,
         "Celsius",
         19,
         1458444054120
        ],
        [
         6,
         1080,
         "US",
         "USA",
         "United States",
         4,
         "sensor-pad-4mzWkz",
         32,
         "66.39.173.154",
         44.06,
         "yellow",
         -121.32,
         "Celsius",
         28,
         1458444054121
        ],
        [
         4,
         931,
         "PH",
         "PHL",
         "Philippines",
         5,
         "therm-stick-5gimpUrBB",
         62,
         "203.82.41.9",
         14.58,
         "green",
         120.97,
         "Celsius",
         25,
         1458444054122
        ],
        [
         3,
         1210,
         "US",
         "USA",
         "United States",
         6,
         "sensor-pad-6al7RTAobR",
         51,
         "204.116.105.67",
         35.93,
         "yellow",
         -85.46,
         "Celsius",
         27,
         1458444054122
        ],
        [
         3,
         1129,
         "CN",
         "CHN",
         "China",
         7,
         "meter-gauge-7GeDoanM",
         26,
         "220.173.179.1",
         22.82,
         "yellow",
         108.32,
         "Celsius",
         18,
         1458444054123
        ],
        [
         0,
         1536,
         "JP",
         "JPN",
         "Japan",
         8,
         "sensor-pad-8xUD6pzsQI",
         35,
         "210.173.177.1",
         35.69,
         "red",
         139.69,
         "Celsius",
         27,
         1458444054123
        ],
        [
         3,
         807,
         "JP",
         "JPN",
         "Japan",
         9,
         "device-mac-9GcjZ2pw",
         85,
         "118.23.68.227",
         35.69,
         "green",
         139.69,
         "Celsius",
         13,
         1458444054124
        ],
        [
         7,
         1470,
         "US",
         "USA",
         "United States",
         10,
         "sensor-pad-10BsywSYUF",
         56,
         "208.109.163.218",
         33.61,
         "red",
         -111.89,
         "Celsius",
         26,
         1458444054125
        ]
       ],
       "datasetInfos": [],
       "dbfsResultPath": null,
       "isJsonSchema": true,
       "metadata": {},
       "overflow": false,
       "plotOptions": {
        "customPlotOptions": {},
        "displayType": "table",
        "pivotAggregation": null,
        "pivotColumns": [],
        "xColumns": [],
        "yColumns": []
       },
       "removedWidgets": [],
       "schema": [
        {
         "metadata": "{}",
         "name": "battery_level",
         "type": "\"long\""
        },
        {
         "metadata": "{}",
         "name": "c02_level",
         "type": "\"long\""
        },
        {
         "metadata": "{}",
         "name": "cca2",
         "type": "\"string\""
        },
        {
         "metadata": "{}",
         "name": "cca3",
         "type": "\"string\""
        },
        {
         "metadata": "{}",
         "name": "cn",
         "type": "\"string\""
        },
        {
         "metadata": "{}",
         "name": "device_id",
         "type": "\"long\""
        },
        {
         "metadata": "{}",
         "name": "device_name",
         "type": "\"string\""
        },
        {
         "metadata": "{}",
         "name": "humidity",
         "type": "\"long\""
        },
        {
         "metadata": "{}",
         "name": "ip",
         "type": "\"string\""
        },
        {
         "metadata": "{}",
         "name": "latitude",
         "type": "\"double\""
        },
        {
         "metadata": "{}",
         "name": "lcd",
         "type": "\"string\""
        },
        {
         "metadata": "{}",
         "name": "longitude",
         "type": "\"double\""
        },
        {
         "metadata": "{}",
         "name": "scale",
         "type": "\"string\""
        },
        {
         "metadata": "{}",
         "name": "temp",
         "type": "\"long\""
        },
        {
         "metadata": "{}",
         "name": "timestamp",
         "type": "\"long\""
        }
       ],
       "type": "table"
      }
     },
     "output_type": "display_data"
    }
   ],
   "source": [
    "# Load the data from its source.\n",
    "devices = spark.read \\\n",
    "  .format('json') \\\n",
    "  .load('/databricks-datasets/iot/iot_devices.json')\n",
    "\n",
    "# Show the results.\n",
    "print('type: ', str(type(devices)))\n",
    "display(devices.take(10))"
   ]
  },
  {
   "cell_type": "code",
   "execution_count": 0,
   "metadata": {
    "application/vnd.databricks.v1+cell": {
     "cellMetadata": {
      "byteLimit": 2048000,
      "rowLimit": 10000
     },
     "inputWidgets": {},
     "nuid": "c69b91ed-c172-47b7-9bb7-27532202179a",
     "showTitle": false,
     "title": ""
    }
   },
   "outputs": [
    {
     "output_type": "display_data",
     "data": {
      "text/html": [
       "<style scoped>\n",
       "  .table-result-container {\n",
       "    max-height: 300px;\n",
       "    overflow: auto;\n",
       "  }\n",
       "  table, th, td {\n",
       "    border: 1px solid black;\n",
       "    border-collapse: collapse;\n",
       "  }\n",
       "  th, td {\n",
       "    padding: 5px;\n",
       "  }\n",
       "  th {\n",
       "    text-align: left;\n",
       "  }\n",
       "</style><div class='table-result-container'><table class='table-result'><thead style='background-color: white'><tr><th>device_id</th><th>cca2</th><th>cca3</th><th>cn</th><th>device_name</th><th>ip</th><th>location_rounded1</th><th>location_rounded2</th><th>battery_level_min</th><th>c02_level_min</th><th>humidity_min</th><th>timestamp_min</th><th>battery_level_max</th><th>c02_level_max</th><th>humidity_max</th><th>timestamp_max</th><th>battery_level_avg</th><th>c02_level_avg</th><th>humidity_avg</th><th>timestamp_avg</th></tr></thead><tbody><tr><td>26</td><td>JP</td><td>JPN</td><td>Japan</td><td>sensor-pad-26rAyCZQOQH9</td><td>210.158.147.11</td><td>36_140</td><td>40_140</td><td>9</td><td>1300</td><td>27</td><td>1458444054135</td><td>9</td><td>1300</td><td>27</td><td>1458444054135</td><td>9.0</td><td>1300.0</td><td>27.0</td><td>1.458444054135E12</td></tr><tr><td>29</td><td>NL</td><td>NLD</td><td>Netherlands</td><td>meter-gauge-29lyNVxIS</td><td>83.98.224.49</td><td>52_5</td><td>50_0</td><td>6</td><td>1095</td><td>69</td><td>1458444054137</td><td>6</td><td>1095</td><td>69</td><td>1458444054137</td><td>6.0</td><td>1095.0</td><td>69.0</td><td>1.458444054137E12</td></tr><tr><td>474</td><td>KR</td><td>KOR</td><td>Republic of Korea</td><td>sensor-pad-474nftAl1at</td><td>211.247.149.1</td><td>38_127</td><td>40_130</td><td>9</td><td>1546</td><td>91</td><td>1458444054336</td><td>9</td><td>1546</td><td>91</td><td>1458444054336</td><td>9.0</td><td>1546.0</td><td>91.0</td><td>1.458444054336E12</td></tr><tr><td>964</td><td>US</td><td>USA</td><td>United States</td><td>sensor-pad-9644B6JD78</td><td>67.135.206.21</td><td>38_-97</td><td>40_-100</td><td>9</td><td>1557</td><td>41</td><td>1458444054438</td><td>9</td><td>1557</td><td>41</td><td>1458444054438</td><td>9.0</td><td>1557.0</td><td>41.0</td><td>1.458444054438E12</td></tr><tr><td>1677</td><td>VN</td><td>VNM</td><td>Vietnam</td><td>device-mac-1677DrQfg</td><td>203.79.28.5</td><td>21_106</td><td>20_110</td><td>2</td><td>1276</td><td>51</td><td>1458444054562</td><td>2</td><td>1276</td><td>51</td><td>1458444054562</td><td>2.0</td><td>1276.0</td><td>51.0</td><td>1.458444054562E12</td></tr><tr><td>1697</td><td>US</td><td>USA</td><td></td><td>meter-gauge-1697vHqpe</td><td>130.117.14.234</td><td>47_8</td><td>50_10</td><td>5</td><td>1393</td><td>44</td><td>1458444054565</td><td>5</td><td>1393</td><td>44</td><td>1458444054565</td><td>5.0</td><td>1393.0</td><td>44.0</td><td>1.458444054565E12</td></tr><tr><td>1806</td><td>US</td><td>USA</td><td>United States</td><td>sensor-pad-1806wi3AS</td><td>69.72.157.77</td><td>41_-74</td><td>40_-70</td><td>7</td><td>1136</td><td>63</td><td>1458444054585</td><td>7</td><td>1136</td><td>63</td><td>1458444054585</td><td>7.0</td><td>1136.0</td><td>63.0</td><td>1.458444054585E12</td></tr><tr><td>1950</td><td>DE</td><td>DEU</td><td>Germany</td><td>sensor-pad-19507yukhBx</td><td>62.180.242.241</td><td>51_9</td><td>50_10</td><td>5</td><td>1279</td><td>69</td><td>1458444054611</td><td>5</td><td>1279</td><td>69</td><td>1458444054611</td><td>5.0</td><td>1279.0</td><td>69.0</td><td>1.458444054611E12</td></tr><tr><td>2040</td><td>US</td><td>USA</td><td>United States</td><td>sensor-pad-2040kKvwnJ</td><td>68.87.129.153</td><td>38_-97</td><td>40_-100</td><td>0</td><td>1247</td><td>96</td><td>1458444054628</td><td>0</td><td>1247</td><td>96</td><td>1458444054628</td><td>0.0</td><td>1247.0</td><td>96.0</td><td>1.458444054628E12</td></tr><tr><td>2214</td><td>UA</td><td>UKR</td><td>Ukraine</td><td>sensor-pad-2214ZnWAla</td><td>195.137.254.153</td><td>50_31</td><td>50_30</td><td>5</td><td>867</td><td>36</td><td>1458444054651</td><td>5</td><td>867</td><td>36</td><td>1458444054651</td><td>5.0</td><td>867.0</td><td>36.0</td><td>1.458444054651E12</td></tr></tbody></table></div>"
      ]
     },
     "metadata": {
      "application/vnd.databricks.v1+output": {
       "addedWidgets": {},
       "aggData": [],
       "aggError": "",
       "aggOverflow": false,
       "aggSchema": [],
       "aggSeriesLimitReached": false,
       "aggType": "",
       "arguments": {},
       "columnCustomDisplayInfos": {},
       "data": [
        [
         26,
         "JP",
         "JPN",
         "Japan",
         "sensor-pad-26rAyCZQOQH9",
         "210.158.147.11",
         "36_140",
         "40_140",
         9,
         1300,
         27,
         1458444054135,
         9,
         1300,
         27,
         1458444054135,
         9.0,
         1300.0,
         27.0,
         1.458444054135E12
        ],
        [
         29,
         "NL",
         "NLD",
         "Netherlands",
         "meter-gauge-29lyNVxIS",
         "83.98.224.49",
         "52_5",
         "50_0",
         6,
         1095,
         69,
         1458444054137,
         6,
         1095,
         69,
         1458444054137,
         6.0,
         1095.0,
         69.0,
         1.458444054137E12
        ],
        [
         474,
         "KR",
         "KOR",
         "Republic of Korea",
         "sensor-pad-474nftAl1at",
         "211.247.149.1",
         "38_127",
         "40_130",
         9,
         1546,
         91,
         1458444054336,
         9,
         1546,
         91,
         1458444054336,
         9.0,
         1546.0,
         91.0,
         1.458444054336E12
        ],
        [
         964,
         "US",
         "USA",
         "United States",
         "sensor-pad-9644B6JD78",
         "67.135.206.21",
         "38_-97",
         "40_-100",
         9,
         1557,
         41,
         1458444054438,
         9,
         1557,
         41,
         1458444054438,
         9.0,
         1557.0,
         41.0,
         1.458444054438E12
        ],
        [
         1677,
         "VN",
         "VNM",
         "Vietnam",
         "device-mac-1677DrQfg",
         "203.79.28.5",
         "21_106",
         "20_110",
         2,
         1276,
         51,
         1458444054562,
         2,
         1276,
         51,
         1458444054562,
         2.0,
         1276.0,
         51.0,
         1.458444054562E12
        ],
        [
         1697,
         "US",
         "USA",
         "",
         "meter-gauge-1697vHqpe",
         "130.117.14.234",
         "47_8",
         "50_10",
         5,
         1393,
         44,
         1458444054565,
         5,
         1393,
         44,
         1458444054565,
         5.0,
         1393.0,
         44.0,
         1.458444054565E12
        ],
        [
         1806,
         "US",
         "USA",
         "United States",
         "sensor-pad-1806wi3AS",
         "69.72.157.77",
         "41_-74",
         "40_-70",
         7,
         1136,
         63,
         1458444054585,
         7,
         1136,
         63,
         1458444054585,
         7.0,
         1136.0,
         63.0,
         1.458444054585E12
        ],
        [
         1950,
         "DE",
         "DEU",
         "Germany",
         "sensor-pad-19507yukhBx",
         "62.180.242.241",
         "51_9",
         "50_10",
         5,
         1279,
         69,
         1458444054611,
         5,
         1279,
         69,
         1458444054611,
         5.0,
         1279.0,
         69.0,
         1.458444054611E12
        ],
        [
         2040,
         "US",
         "USA",
         "United States",
         "sensor-pad-2040kKvwnJ",
         "68.87.129.153",
         "38_-97",
         "40_-100",
         0,
         1247,
         96,
         1458444054628,
         0,
         1247,
         96,
         1458444054628,
         0.0,
         1247.0,
         96.0,
         1.458444054628E12
        ],
        [
         2214,
         "UA",
         "UKR",
         "Ukraine",
         "sensor-pad-2214ZnWAla",
         "195.137.254.153",
         "50_31",
         "50_30",
         5,
         867,
         36,
         1458444054651,
         5,
         867,
         36,
         1458444054651,
         5.0,
         867.0,
         36.0,
         1.458444054651E12
        ]
       ],
       "datasetInfos": [],
       "dbfsResultPath": null,
       "isJsonSchema": true,
       "metadata": {},
       "overflow": false,
       "plotOptions": {
        "customPlotOptions": {},
        "displayType": "table",
        "pivotAggregation": null,
        "pivotColumns": [],
        "xColumns": [],
        "yColumns": []
       },
       "removedWidgets": [],
       "schema": [
        {
         "metadata": "{}",
         "name": "device_id",
         "type": "\"long\""
        },
        {
         "metadata": "{}",
         "name": "cca2",
         "type": "\"string\""
        },
        {
         "metadata": "{}",
         "name": "cca3",
         "type": "\"string\""
        },
        {
         "metadata": "{}",
         "name": "cn",
         "type": "\"string\""
        },
        {
         "metadata": "{}",
         "name": "device_name",
         "type": "\"string\""
        },
        {
         "metadata": "{}",
         "name": "ip",
         "type": "\"string\""
        },
        {
         "metadata": "{}",
         "name": "location_rounded1",
         "type": "\"string\""
        },
        {
         "metadata": "{}",
         "name": "location_rounded2",
         "type": "\"string\""
        },
        {
         "metadata": "{}",
         "name": "battery_level_min",
         "type": "\"long\""
        },
        {
         "metadata": "{}",
         "name": "c02_level_min",
         "type": "\"long\""
        },
        {
         "metadata": "{}",
         "name": "humidity_min",
         "type": "\"long\""
        },
        {
         "metadata": "{}",
         "name": "timestamp_min",
         "type": "\"long\""
        },
        {
         "metadata": "{}",
         "name": "battery_level_max",
         "type": "\"long\""
        },
        {
         "metadata": "{}",
         "name": "c02_level_max",
         "type": "\"long\""
        },
        {
         "metadata": "{}",
         "name": "humidity_max",
         "type": "\"long\""
        },
        {
         "metadata": "{}",
         "name": "timestamp_max",
         "type": "\"long\""
        },
        {
         "metadata": "{}",
         "name": "battery_level_avg",
         "type": "\"double\""
        },
        {
         "metadata": "{}",
         "name": "c02_level_avg",
         "type": "\"double\""
        },
        {
         "metadata": "{}",
         "name": "humidity_avg",
         "type": "\"double\""
        },
        {
         "metadata": "{}",
         "name": "timestamp_avg",
         "type": "\"double\""
        }
       ],
       "type": "table"
      }
     },
     "output_type": "display_data"
    }
   ],
   "source": [
    "from pyspark.sql import functions as F\n",
    "from pyspark.sql.functions import concat_ws, col, round\n",
    "\n",
    "devices_with_rounded_locations = (\n",
    "    devices\n",
    "    .withColumn(\n",
    "        'location_rounded1',\n",
    "        concat_ws(\n",
    "            '_',\n",
    "            round(col('latitude'), 0).cast('integer'),\n",
    "            round(col('longitude'), 0).cast('integer')))\n",
    "    .withColumn(\n",
    "        'location_rounded2',\n",
    "        concat_ws(\n",
    "            '_',\n",
    "            round(col('latitude'), -1).cast('integer'),\n",
    "            round(col('longitude'), -1).cast('integer')))\n",
    ")\n",
    "\n",
    "cols = ['battery_level', 'c02_level', 'humidity', 'timestamp']\n",
    "id_cols = ['cca2', 'cca3', 'cn', 'device_name', 'ip', 'location_rounded1', 'location_rounded2']\n",
    "devices_summarized = (\n",
    "    devices_with_rounded_locations.groupby('device_id').agg(\n",
    "        *[F.min(col) for col in cols],\n",
    "        *[F.max(col) for col in cols],\n",
    "        *[F.avg(col) for col in cols],\n",
    "        *[F.first(col) for col in id_cols]\n",
    "    )\n",
    ")\n",
    "\n",
    "# [(from1, to1), ...]\n",
    "renames = (\n",
    "    [('device_id', 'device_id')]\n",
    "    + [(f'first({col})', f'{col}') for col in id_cols]\n",
    "    + [(f'min({col})', f'{col}_min') for col in cols] \n",
    "    + [(f'max({col})', f'{col}_max') for col in cols]\n",
    "    + [(f'avg({col})', f'{col}_avg') for col in cols]\n",
    " )\n",
    "devices_summarized = devices_summarized.select(list(\n",
    "       map(lambda old,new:F.col(old).alias(new),*zip(*renames))\n",
    "       ))\n",
    "\n",
    "display(devices_summarized.take(10))"
   ]
  },
  {
   "cell_type": "markdown",
   "metadata": {
    "application/vnd.databricks.v1+cell": {
     "cellMetadata": {},
     "inputWidgets": {},
     "nuid": "f2ec3a1d-222d-4977-8479-e3e22f978d93",
     "showTitle": false,
     "title": ""
    }
   },
   "source": [
    "## Notebook plot\n",
    "\n",
    "* Simple: Graph connections between `device_name` and `cca3` (country code)\n",
    "* Advanced: Graph multiple connections, like `ip -> device_name` and `locaation_rounded1 -> ip`"
   ]
  },
  {
   "cell_type": "code",
   "execution_count": 0,
   "metadata": {
    "application/vnd.databricks.v1+cell": {
     "cellMetadata": {
      "byteLimit": 2048000,
      "rowLimit": 10000
     },
     "inputWidgets": {},
     "nuid": "8028c3a6-308a-43ec-8988-0b51d9f1826d",
     "showTitle": false,
     "title": ""
    }
   },
   "outputs": [
    {
     "output_type": "execute_result",
     "data": {
      "text/html": [
       "\n",
       "            <iframe id=\"107e7546-a1c1-476a-9e62-a8e4d480b890\" src=\"https://hub.graphistry.com/graph/graph.html?dataset=8c8661e09835438785f976ce2410f322&type=arrow&viztoken=5445f59c-0096-443b-bbcb-31132dc227fb&usertag=ac3e16de-pygraphistry-0.34.3&splashAfter=1728595492&info=true&strongGravity=true\"\n",
       "                    allowfullscreen=\"true\" webkitallowfullscreen=\"true\" mozallowfullscreen=\"true\"\n",
       "                    oallowfullscreen=\"true\" msallowfullscreen=\"true\"\n",
       "                    style=\"width:100%; height:500px; border: 1px solid #DDD; overflow: hidden\"\n",
       "                    \n",
       "            >\n",
       "            </iframe>\n",
       "        \n",
       "            <script>\n",
       "                try {\n",
       "                  $(\"#107e7546-a1c1-476a-9e62-a8e4d480b890\").bind('mousewheel', function(e) { e.preventDefault(); });\n",
       "                } catch (e) { console.error('exn catching scroll', e); }\n",
       "            </script>\n",
       "        "
      ],
      "text/plain": [
       "<IPython.core.display.HTML object>"
      ]
     },
     "execution_count": 5,
     "metadata": {},
     "output_type": "execute_result"
    }
   ],
   "source": [
    "(\n",
    "    graphistry \n",
    "        .edges(devices.sample(fraction=0.1).toPandas(), 'device_name', 'cca3') \\\n",
    "        .settings(url_params={'strongGravity': 'true'}) \\\n",
    "        .plot()\n",
    ")"
   ]
  },
  {
   "cell_type": "code",
   "execution_count": 0,
   "metadata": {
    "application/vnd.databricks.v1+cell": {
     "cellMetadata": {
      "byteLimit": 2048000,
      "rowLimit": 10000
     },
     "inputWidgets": {},
     "nuid": "852b48fe-61af-4953-858f-52680bf07fd2",
     "showTitle": false,
     "title": ""
    }
   },
   "outputs": [
    {
     "output_type": "stream",
     "name": "stdout",
     "output_type": "stream",
     "text": [
      "# links 80084\n# events 20021\n# attrib entities 41671\n"
     ]
    },
    {
     "output_type": "execute_result",
     "data": {
      "text/html": [
       "\n",
       "            <iframe id=\"5443a466-5739-4c7a-b2a6-f0a3e0330252\" src=\"https://hub.graphistry.com/graph/graph.html?dataset=f03de8c29f2f40a9999da998e9c06437&type=arrow&viztoken=d6a84123-7e94-4d3f-b744-36d83ce2c8f8&usertag=ac3e16de-pygraphistry-0.34.3&splashAfter=1728595497&info=true&strongGravity=true\"\n",
       "                    allowfullscreen=\"true\" webkitallowfullscreen=\"true\" mozallowfullscreen=\"true\"\n",
       "                    oallowfullscreen=\"true\" msallowfullscreen=\"true\"\n",
       "                    style=\"width:100%; height:500px; border: 1px solid #DDD; overflow: hidden\"\n",
       "                    \n",
       "            >\n",
       "            </iframe>\n",
       "        \n",
       "            <script>\n",
       "                try {\n",
       "                  $(\"#5443a466-5739-4c7a-b2a6-f0a3e0330252\").bind('mousewheel', function(e) { e.preventDefault(); });\n",
       "                } catch (e) { console.error('exn catching scroll', e); }\n",
       "            </script>\n",
       "        "
      ],
      "text/plain": [
       "<IPython.core.display.HTML object>"
      ]
     },
     "execution_count": 6,
     "metadata": {},
     "output_type": "execute_result"
    }
   ],
   "source": [
    "hg = graphistry.hypergraph(\n",
    "    devices_with_rounded_locations.sample(fraction=0.1).toPandas(),\n",
    "    ['ip', 'device_name', 'location_rounded1', 'location_rounded2', 'cca3'],\n",
    "    direct=True,\n",
    "    opts={\n",
    "        'EDGES': {\n",
    "            'ip': ['device_name'],\n",
    "            'location_rounded1': ['ip'],\n",
    "            'location_rounded2': ['ip'],\n",
    "            'cca3': ['location_rounded2']\n",
    "        }\n",
    "    })\n",
    "g = hg['graph']\n",
    "g = g.settings(url_params={'strongGravity': 'true'})  # this setting is great!\n",
    "\n",
    "g.plot()"
   ]
  },
  {
   "cell_type": "markdown",
   "metadata": {
    "application/vnd.databricks.v1+cell": {
     "cellMetadata": {},
     "inputWidgets": {},
     "nuid": "621d82e5-0623-4ecf-b10a-2c6fa61eac4e",
     "showTitle": false,
     "title": ""
    }
   },
   "source": [
    "## Dashboard plot\n",
    "\n",
    "* Make a `graphistry` object as usual...\n",
    "* ... Then disable the splash screen and optionally set custom dimensions\n",
    "\n",
    "The visualization will now load without needing to interact in the dashboard (`view` -> `+ New Dashboard`)"
   ]
  },
  {
   "cell_type": "code",
   "execution_count": 0,
   "metadata": {
    "application/vnd.databricks.v1+cell": {
     "cellMetadata": {
      "byteLimit": 2048000,
      "rowLimit": 10000
     },
     "inputWidgets": {},
     "nuid": "4e327ad1-169b-4bb6-95c0-8fc0cf452625",
     "showTitle": false,
     "title": ""
    }
   },
   "outputs": [
    {
     "output_type": "execute_result",
     "data": {
      "text/html": [
       "\n",
       "            <iframe id=\"823db476-beba-4f20-8b50-15f0d7823830\" src=\"https://hub.graphistry.com/graph/graph.html?dataset=1d06f64ece1d44a880d3db21ef93e764&type=arrow&viztoken=73162b61-c9d9-4352-b04f-2e24d588766f&usertag=ac3e16de-pygraphistry-0.34.3&splashAfter=1728595499&info=true&strongGravity=true&splashAfter=false\"\n",
       "                    allowfullscreen=\"true\" webkitallowfullscreen=\"true\" mozallowfullscreen=\"true\"\n",
       "                    oallowfullscreen=\"true\" msallowfullscreen=\"true\"\n",
       "                    style=\"\n",
       "            border: 1px #DDD dotted;\n",
       "            width: 50em; height: 50em;\n",
       "        \"\n",
       "                    \n",
       "            >\n",
       "            </iframe>\n",
       "        \n",
       "            <script>\n",
       "                try {\n",
       "                  $(\"#823db476-beba-4f20-8b50-15f0d7823830\").bind('mousewheel', function(e) { e.preventDefault(); });\n",
       "                } catch (e) { console.error('exn catching scroll', e); }\n",
       "            </script>\n",
       "        "
      ],
      "text/plain": [
       "<IPython.core.display.HTML object>"
      ]
     },
     "execution_count": 7,
     "metadata": {},
     "output_type": "execute_result"
    }
   ],
   "source": [
    "(\n",
    "    g\n",
    "        .settings(url_params={'splashAfter': 'false'})  # extends existing setting\n",
    "        .plot(override_html_style=\"\"\"\n",
    "            border: 1px #DDD dotted;\n",
    "            width: 50em; height: 50em;\n",
    "        \"\"\")\n",
    ")"
   ]
  },
  {
   "cell_type": "markdown",
   "metadata": {
    "application/vnd.databricks.v1+cell": {
     "cellMetadata": {},
     "inputWidgets": {},
     "nuid": "fa9be400-ec7d-4dd5-9981-d707cc4f4a3f",
     "showTitle": false,
     "title": ""
    }
   },
   "source": [
    "## Plot as a Shareable URL"
   ]
  },
  {
   "cell_type": "code",
   "execution_count": 0,
   "metadata": {
    "application/vnd.databricks.v1+cell": {
     "cellMetadata": {
      "byteLimit": 2048000,
      "rowLimit": 10000
     },
     "inputWidgets": {},
     "nuid": "a0e6bd79-1172-4cfe-ac6d-83b187d48747",
     "showTitle": false,
     "title": ""
    }
   },
   "outputs": [
    {
     "output_type": "execute_result",
     "data": {
      "text/plain": [
       "'https://hub.graphistry.com/graph/graph.html?dataset=6d335b56affe437a98c57a349aab9e04&type=arrow&viztoken=85c14656-1740-4b16-8da0-ae1ebf138508&usertag=ac3e16de-pygraphistry-0.34.3&splashAfter=1728595501&info=true&strongGravity=true'"
      ]
     },
     "execution_count": 8,
     "metadata": {},
     "output_type": "execute_result"
    }
   ],
   "source": [
    "url = g.plot(render=False)\n",
    "url"
   ]
  },
  {
   "cell_type": "code",
   "execution_count": 0,
   "metadata": {
    "application/vnd.databricks.v1+cell": {
     "cellMetadata": {},
     "inputWidgets": {},
     "nuid": "cd326621-1224-4b91-890d-9285f7755ad2",
     "showTitle": false,
     "title": ""
    }
   },
   "outputs": [],
   "source": []
  }
 ],
 "metadata": {
  "application/vnd.databricks.v1+notebook": {
   "dashboards": [],
   "environmentMetadata": null,
   "language": "python",
   "notebookMetadata": {
    "pythonIndentUnit": 4
   },
   "notebookName": "graphistry-notebook-dashboard (1)",
   "widgets": {}
  },
  "kernelspec": {
   "display_name": "Python 3 (ipykernel)",
   "language": "python",
   "name": "python3"
  },
  "language_info": {
   "codemirror_mode": {
    "name": "ipython",
    "version": 3
   },
   "file_extension": ".py",
   "mimetype": "text/x-python",
   "name": "python",
   "nbconvert_exporter": "python",
   "pygments_lexer": "ipython3",
   "version": "3.10.6"
  }
 },
 "nbformat": 4,
 "nbformat_minor": 0
}
