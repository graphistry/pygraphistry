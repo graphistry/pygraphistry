{
 "cells": [
  {
   "cell_type": "markdown",
   "metadata": {},
   "source": [
    "# AlientVault OTX <> Graphistry: LockerGoga investigation\n"
   ]
  },
  {
   "cell_type": "code",
   "execution_count": null,
   "metadata": {
    "collapsed": true
   },
   "outputs": [],
   "source": [
    "#!pip install graphistry -q\n",
    "#!pip install OTXv2 -q"
   ]
  },
  {
   "cell_type": "code",
   "execution_count": null,
   "metadata": {
    "collapsed": true
   },
   "outputs": [],
   "source": [
    "import graphistry\n",
    "import pandas as pd\n",
    "from OTXv2 import OTXv2, IndicatorTypes\n",
    "from gotx import G_OTX "
   ]
  },
  {
   "cell_type": "code",
   "execution_count": null,
   "metadata": {
    "collapsed": true
   },
   "outputs": [],
   "source": [
    "#graphistry.register(key='MY_API_KEY', server='labs.graphistry.com')\n",
    "otx = OTXv2(\"MY_KEY\")\n",
    "g_otx = G_OTX(graphistry, otx)"
   ]
  },
  {
   "cell_type": "markdown",
   "metadata": {},
   "source": [
    "### Start: rough hits\n",
    "We find there are 3 clusters of activity"
   ]
  },
  {
   "cell_type": "code",
   "execution_count": null,
   "metadata": {
    "collapsed": true
   },
   "outputs": [],
   "source": [
    "lockergoga_pulses = otx.search_pulses('LockerGoga').get('results')"
   ]
  },
  {
   "cell_type": "code",
   "execution_count": null,
   "metadata": {
    "collapsed": false
   },
   "outputs": [],
   "source": [
    "lockergoga_pulses_df = g_otx.pulses_to_df(lockergoga_pulses)\n",
    "lockergoga_indicators_df = g_otx.pulses_to_indicators_df(lockergoga_pulses)\n",
    "\n",
    "g = g_otx.indicatormap(lockergoga_pulses_df, lockergoga_indicators_df)\n",
    "\n",
    "g.plot()"
   ]
  },
  {
   "cell_type": "markdown",
   "metadata": {},
   "source": [
    "### Continue: Expand on IPv4 hits\n",
    "\n",
    "*Let's expand the small cluster related to \"Powershell Backdoor calling back on port 443\"*. Use the OTX API to get other pulses containing the same IP address and then expand them and create a new graph"
   ]
  },
  {
   "cell_type": "code",
   "execution_count": null,
   "metadata": {
    "collapsed": true
   },
   "outputs": [],
   "source": [
    "ip_pulses = otx.get_indicator_details_by_section(IndicatorTypes.IPv4, lockergoga_indicators_df[lockergoga_indicators_df['indicator_type'] == 'IPv4'].values[0][0])"
   ]
  },
  {
   "cell_type": "code",
   "execution_count": null,
   "metadata": {
    "collapsed": true
   },
   "outputs": [],
   "source": [
    "ip_pulses_df = g_otx.indicator_details_by_section_to_pulses_df(ip_pulses)\n",
    "ip_indicators_df = g_otx.indicator_details_by_section_to_indicators_df(ip_pulses)\n",
    "\n",
    "g_otx.indicatormap(ip_pulses_df, ip_indicators_df).plot()"
   ]
  }
 ],
 "metadata": {
  "kernelspec": {
   "display_name": "Python 2",
   "language": "python",
   "name": "python2"
  },
  "language_info": {
   "codemirror_mode": {
    "name": "ipython",
    "version": 2
   },
   "file_extension": ".py",
   "mimetype": "text/x-python",
   "name": "python",
   "nbconvert_exporter": "python",
   "pygments_lexer": "ipython2",
   "version": "2.7.13"
  }
 },
 "nbformat": 4,
 "nbformat_minor": 2
}
