{
 "cells": [
  {
   "cell_type": "markdown",
   "metadata": {},
   "source": [
    "# AlienVault USM event visualizer\n",
    "* Search\n",
    "* Graphistry helper\n",
    "* Plot\n",
    "\n",
    "Plug in your credentials in the first cells, put in a custom search, then plot."
   ]
  },
  {
   "cell_type": "code",
   "execution_count": null,
   "metadata": {
    "collapsed": false
   },
   "outputs": [],
   "source": [
    "!pip install requests_oauthlib -q"
   ]
  },
  {
   "cell_type": "code",
   "execution_count": null,
   "metadata": {
    "collapsed": true
   },
   "outputs": [],
   "source": [
    "from unimatrix import UnimatrixClient\n",
    "import graphistry\n",
    "\n",
    "#graphistry.register(key='MY_API_KEY', server='labs.graphistry.com')\n",
    "client = UnimatrixClient(\"my_subdomain\", \"client_id\", \"client_secret\")"
   ]
  },
  {
   "cell_type": "markdown",
   "metadata": {},
   "source": [
    "### Search"
   ]
  },
  {
   "cell_type": "code",
   "execution_count": null,
   "metadata": {
    "collapsed": false
   },
   "outputs": [],
   "source": [
    "params = {'plugin': 'AlienVault Agent - Windows EventLog', 'event_name':'Network connection'}\n",
    "events_df = client.get_events_df(num_items=25000, params=params)\n",
    "\n",
    "print('# rows', len(events_df))\n",
    "events_df.sample(3)"
   ]
  },
  {
   "cell_type": "markdown",
   "metadata": {},
   "source": [
    "### Helper"
   ]
  },
  {
   "cell_type": "code",
   "execution_count": null,
   "metadata": {
    "collapsed": false
   },
   "outputs": [],
   "source": [
    "\n",
    "def graph(events_df):\n",
    "    red_events = events_df\n",
    "    red_events = red_events.assign(source_process= red_events['source_process'].apply(lambda v: v.split('\\\\')[-1]),\n",
    "                                   destination_organisation=red_events.destination_organisation.fillna('INTERNAL'))\n",
    "    red_events = red_events.assign(source_process_id=red_events.apply(lambda row: str(row['source_process_id']) + '::' + str(row['source_canonical']), axis=1)).reset_index()\n",
    "\n",
    "    edges = {\n",
    "        'source_username': ['source_canonical', 'source_process_id', 'source_process_id'],\n",
    "        'source_process_id': ['source_process', 'iocs', 'event_category', 'watchlist'],\n",
    "        'source_canonical': ['source_address', 'source_process', 'source_name', 'source_process_id', \n",
    "                           'destination_name', 'destination_canonical', 'destination_address'],\n",
    "        'destination_canonical': ['destination_name', 'destination_address']\n",
    "    }\n",
    "\n",
    "    node_types = list(edges.keys())\n",
    "    for dsts in edges.values():\n",
    "        node_types.extend(dsts)\n",
    "    node_types = list(set(node_types))    \n",
    "\n",
    "    g = graphistry.hypergraph(\n",
    "        red_events.astype(str), \n",
    "        entity_types=node_types, \n",
    "        direct=True,\n",
    "        opts={\n",
    "            'EDGES': edges,\n",
    "            'CATEGORIES': {\n",
    "                'asset': ['source_canonical', 'source_address', 'source_canonical', 'destination_name', 'destination_canonical', 'destination_address' ]\n",
    "            }\n",
    "        })['graph']\n",
    "\n",
    "    types = list(g._nodes['category'].unique())\n",
    "    type_to_color = {t: types.index(t) % 10 for t in types}\n",
    "\n",
    "    events = list(g._edges['event_category'].unique())\n",
    "    event_to_color = {t: events.index(t) % 10 for t in events}\n",
    "\n",
    "    g = g.nodes(g._nodes.assign(p_color=g._nodes['category'].apply(lambda t: type_to_color[t]))).bind(point_color='p_color')\n",
    "    g = g.edges(g._edges[~(g._edges.dst.str.match('.*::nan') | g._edges.src.str.match('.*::nan'))])\n",
    "    g = g.edges(g._edges.assign(e_color=g._edges['event_category'].apply(lambda t: event_to_color[t]))).bind(edge_color='e_color')\n",
    "\n",
    "    return g"
   ]
  },
  {
   "cell_type": "markdown",
   "metadata": {},
   "source": [
    "### Visualize"
   ]
  },
  {
   "cell_type": "code",
   "execution_count": null,
   "metadata": {
    "collapsed": false
   },
   "outputs": [],
   "source": [
    "graph(events_df).plot()"
   ]
  },
  {
   "cell_type": "code",
   "execution_count": null,
   "metadata": {
    "collapsed": true
   },
   "outputs": [],
   "source": []
  }
 ],
 "metadata": {
  "kernelspec": {
   "display_name": "Python 2",
   "language": "python",
   "name": "python2"
  },
  "language_info": {
   "codemirror_mode": {
    "name": "ipython",
    "version": 2
   },
   "file_extension": ".py",
   "mimetype": "text/x-python",
   "name": "python",
   "nbconvert_exporter": "python",
   "pygments_lexer": "ipython2",
   "version": "2.7.13"
  }
 },
 "nbformat": 4,
 "nbformat_minor": 2
}
