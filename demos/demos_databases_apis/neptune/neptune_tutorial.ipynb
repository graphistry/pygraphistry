{
 "cells": [
  {
   "cell_type": "markdown",
   "id": "linear-coating",
   "metadata": {},
   "source": [
    "# Graphistry Neptune Gremlin identity graph demo\n",
    "\n",
    "PyGraphistry helps connect to graph data sources, wrangle them with Python dataframe tools, and visualize them with Graphistry. It's often used in notebooks, data apps, and dashboards.\n",
    "\n",
    "This notebook uses PyGraphistry to quickly:\n",
    "* **Connect to [Neptune](https://aws.amazon.com/neptune/)**\n",
    "* **Run [Gremlin](http://tinkerpop.apache.org/) queries** via built-in bindings over [gremlin_python](https://pypi.org/project/gremlinpython/)\n",
    "* **Convert to dataframes** for data wrangling: CPU via [Pandas](https://pandas.pydata.org/) and GPU via [RAPIDS cuDF](https://rapids.ai/)\n",
    "* **Visualize** by automatically generating rich, interactive, & GPU-accelerated [Graphistry](https://www.graphistry.com) graph visualization sessions\n",
    "* **Share & embed** your beautiful results\n",
    "\n",
    "For any API used below, run `help(graphistry.the_method)` for a quick view of its docs\n",
    "\n",
    "\n",
    "The demo is on AWS Neptune's identity graph data sample from our joint [graph-app-kit tutorial](https://aws.amazon.com/blogs/database/enabling-low-code-graph-data-apps-with-amazon-neptune-and-graphistry/). If you have your own dataset, including non-identity data, the example queries should still work."
   ]
  },
  {
   "cell_type": "markdown",
   "id": "contrary-percentage",
   "metadata": {},
   "source": [
    "## Setup\n",
    "\n",
    "Optional - Quicklaunch via [graph-app-kit for Neptune](https://github.com/graphistry/graph-app-kit/blob/master/docs/neptune.md):\n",
    "* **Neptune**: It is tested on Neptune's [identity graph database sample kit](https://github.com/graphistry/graph-app-kit/blob/master/docs/neptune.md), and you can swap in your own\n",
    "* **Graphistry**: Use your own, get a [free Hub account](https://www.graphistry.com/get-started), or [launch in AWS alongside Neptune's VPC and public subnet](https://github.com/graphistry/graph-app-kit/blob/master/docs/neptune.md)\n",
    "* **Notebook**: Use your own, or [launch in AWS alongside Neptune's VPC and public subnet](https://github.com/graphistry/graph-app-kit/blob/master/docs/neptune.md)\n",
    "\n",
    "If you hit `gremlinpython` event runtime bugs, try [this gist for solving them](https://gist.github.com/lmeyerov/459f6f0360abea787909c7c8c8f04cee)"
   ]
  },
  {
   "cell_type": "markdown",
   "id": "vocational-liability",
   "metadata": {},
   "source": [
    "## Install\n",
    "Already provided in graphistry envs"
   ]
  },
  {
   "cell_type": "code",
   "execution_count": 1,
   "id": "perfect-actor",
   "metadata": {},
   "outputs": [],
   "source": [
    "# ! pip install -u gremlinpython graphistry\n",
    "# ! pip install -u pandas\n",
    "# see https://rapids.ai/ if trying GPU dataframes"
   ]
  },
  {
   "cell_type": "markdown",
   "id": "adverse-satellite",
   "metadata": {},
   "source": [
    "## Imports"
   ]
  },
  {
   "cell_type": "code",
   "execution_count": 2,
   "id": "disciplinary-complexity",
   "metadata": {},
   "outputs": [
    {
     "name": "stdout",
     "output_type": "stream",
     "text": [
      "Name: gremlinpython\r\n",
      "Version: 3.4.10\r\n",
      "Name: graphistry\r\n",
      "Version: 0.19.0+5.g5ce1d3fb0\r\n"
     ]
    }
   ],
   "source": [
    "! pip show gremlinpython graphistry | grep 'Name\\|Version'"
   ]
  },
  {
   "cell_type": "code",
   "execution_count": 3,
   "id": "rental-wireless",
   "metadata": {},
   "outputs": [
    {
     "data": {
      "text/plain": [
       "'0.19.0+5.g5ce1d3fb0'"
      ]
     },
     "execution_count": 3,
     "metadata": {},
     "output_type": "execute_result"
    }
   ],
   "source": [
    "import graphistry\n",
    "graphistry.__version__"
   ]
  },
  {
   "cell_type": "markdown",
   "id": "miniature-insulation",
   "metadata": {},
   "source": [
    "## Configure"
   ]
  },
  {
   "cell_type": "code",
   "execution_count": 4,
   "id": "considered-guess",
   "metadata": {},
   "outputs": [],
   "source": [
    "# To specify Graphistry account & server, use:\n",
    "# graphistry.register(api=3, username='...', password='...', protocol='https', server='hub.graphistry.com')\n",
    "# For more options, see https://github.com/graphistry/pygraphistry#configure"
   ]
  },
  {
   "cell_type": "code",
   "execution_count": 29,
   "id": "electric-brooks",
   "metadata": {},
   "outputs": [
    {
     "data": {
      "text/plain": [
       "'wss://neptunedbcluster-abc.cluster-ro-xyz.us-east-1.neptune.amazonaws.com:8182/gremlin'"
      ]
     },
     "execution_count": 29,
     "metadata": {},
     "output_type": "execute_result"
    }
   ],
   "source": [
    "NEPTUNE_READER_PROTOCOL='wss'\n",
    "NEPTUNE_READER_HOST='neptunedbcluster-abc.cluster-ro-xyz.us-east-1.neptune.amazonaws.com'\n",
    "NEPTUNE_READER_PORT='8182'\n",
    "\n",
    "endpoint = f'{NEPTUNE_READER_PROTOCOL}://{NEPTUNE_READER_HOST}:{NEPTUNE_READER_PORT}/gremlin'\n",
    "endpoint"
   ]
  },
  {
   "cell_type": "code",
   "execution_count": 6,
   "id": "persistent-speaking",
   "metadata": {},
   "outputs": [],
   "source": [
    "#import logging\n",
    "#logging.basicConfig(level=logging.DEBUG)"
   ]
  },
  {
   "cell_type": "markdown",
   "id": "attractive-habitat",
   "metadata": {},
   "source": [
    "## Connect"
   ]
  },
  {
   "cell_type": "code",
   "execution_count": 7,
   "id": "adaptive-jones",
   "metadata": {},
   "outputs": [
    {
     "data": {
      "text/plain": [
       "<gremlin_python.driver.client.Client at 0x7fdfc230e3d0>"
      ]
     },
     "execution_count": 7,
     "metadata": {},
     "output_type": "execute_result"
    }
   ],
   "source": [
    "graphistry.register(**GRAPHISTRY_CFG)\n",
    "\n",
    "g = graphistry.neptune(endpoint=endpoint)\n",
    "\n",
    "g._gremlin_client"
   ]
  },
  {
   "cell_type": "markdown",
   "id": "essential-chess",
   "metadata": {},
   "source": [
    "## Query & plot\n",
    "\n",
    "* PyGraphistry automatically converts gremlin results into node/edge dataframes\n",
    "* Edge queries typically only return node IDs; call `fetch_nodes()` to enrich your `g._nodes` dataframe\n",
    "* PyGraphistry plots dataframes"
   ]
  },
  {
   "cell_type": "code",
   "execution_count": 25,
   "id": "under-complement",
   "metadata": {
    "scrolled": false
   },
   "outputs": [
    {
     "name": "stdout",
     "output_type": "stream",
     "text": [
      "CPU times: user 4.96 s, sys: 27.9 ms, total: 4.99 s\n",
      "Wall time: 4.95 s\n"
     ]
    }
   ],
   "source": [
    "%%time\n",
    "\n",
    "g2 = g.gremlin('g.E().limit(10000)')\n"
   ]
  },
  {
   "cell_type": "code",
   "execution_count": 26,
   "id": "antique-female",
   "metadata": {},
   "outputs": [
    {
     "name": "stdout",
     "output_type": "stream",
     "text": [
      "NODES:\n",
      "<class 'pandas.core.frame.DataFrame'>\n",
      "RangeIndex: 8106 entries, 0 to 8105\n",
      "Data columns (total 2 columns):\n",
      " #   Column  Non-Null Count  Dtype \n",
      "---  ------  --------------  ----- \n",
      " 0   id      8106 non-null   object\n",
      " 1   label   8106 non-null   object\n",
      "dtypes: object(2)\n",
      "memory usage: 126.8+ KB\n"
     ]
    },
    {
     "data": {
      "text/html": [
       "<div>\n",
       "<style scoped>\n",
       "    .dataframe tbody tr th:only-of-type {\n",
       "        vertical-align: middle;\n",
       "    }\n",
       "\n",
       "    .dataframe tbody tr th {\n",
       "        vertical-align: top;\n",
       "    }\n",
       "\n",
       "    .dataframe thead th {\n",
       "        text-align: right;\n",
       "    }\n",
       "</style>\n",
       "<table border=\"1\" class=\"dataframe\">\n",
       "  <thead>\n",
       "    <tr style=\"text-align: right;\">\n",
       "      <th></th>\n",
       "      <th>id</th>\n",
       "      <th>label</th>\n",
       "    </tr>\n",
       "  </thead>\n",
       "  <tbody>\n",
       "    <tr>\n",
       "      <th>4102</th>\n",
       "      <td>ed95a9a5be30e4c8/e212d4b4d4a865a/7e3e41e09dfe6...</td>\n",
       "      <td>website</td>\n",
       "    </tr>\n",
       "    <tr>\n",
       "      <th>6496</th>\n",
       "      <td>6ea77fc3ea42bd5b/87be29bd5615083/d4392e74543e413</td>\n",
       "      <td>website</td>\n",
       "    </tr>\n",
       "    <tr>\n",
       "      <th>7540</th>\n",
       "      <td>4c980617e02858a4/7de2f069da3a3655/30591f4d8c71...</td>\n",
       "      <td>website</td>\n",
       "    </tr>\n",
       "  </tbody>\n",
       "</table>\n",
       "</div>"
      ],
      "text/plain": [
       "                                                     id    label\n",
       "4102  ed95a9a5be30e4c8/e212d4b4d4a865a/7e3e41e09dfe6...  website\n",
       "6496   6ea77fc3ea42bd5b/87be29bd5615083/d4392e74543e413  website\n",
       "7540  4c980617e02858a4/7de2f069da3a3655/30591f4d8c71...  website"
      ]
     },
     "execution_count": 26,
     "metadata": {},
     "output_type": "execute_result"
    }
   ],
   "source": [
    "print('NODES:')\n",
    "g2._nodes.info()\n",
    "g2._nodes.sample(3)"
   ]
  },
  {
   "cell_type": "code",
   "execution_count": 27,
   "id": "continued-macro",
   "metadata": {},
   "outputs": [
    {
     "name": "stdout",
     "output_type": "stream",
     "text": [
      "EDGES:\n",
      "<class 'pandas.core.frame.DataFrame'>\n",
      "RangeIndex: 10000 entries, 0 to 9999\n",
      "Data columns (total 4 columns):\n",
      " #   Column  Non-Null Count  Dtype \n",
      "---  ------  --------------  ----- \n",
      " 0   id      10000 non-null  object\n",
      " 1   label   10000 non-null  object\n",
      " 2   src     10000 non-null  object\n",
      " 3   dst     10000 non-null  object\n",
      "dtypes: object(4)\n",
      "memory usage: 312.6+ KB\n",
      "None\n"
     ]
    },
    {
     "data": {
      "text/html": [
       "<div>\n",
       "<style scoped>\n",
       "    .dataframe tbody tr th:only-of-type {\n",
       "        vertical-align: middle;\n",
       "    }\n",
       "\n",
       "    .dataframe tbody tr th {\n",
       "        vertical-align: top;\n",
       "    }\n",
       "\n",
       "    .dataframe thead th {\n",
       "        text-align: right;\n",
       "    }\n",
       "</style>\n",
       "<table border=\"1\" class=\"dataframe\">\n",
       "  <thead>\n",
       "    <tr style=\"text-align: right;\">\n",
       "      <th></th>\n",
       "      <th>id</th>\n",
       "      <th>label</th>\n",
       "      <th>src</th>\n",
       "      <th>dst</th>\n",
       "    </tr>\n",
       "  </thead>\n",
       "  <tbody>\n",
       "    <tr>\n",
       "      <th>2814</th>\n",
       "      <td>f7803bf0ac187592421c0695792b698f43b596ce</td>\n",
       "      <td>visited</td>\n",
       "      <td>556de63e26686d50/95263499b67bbda1?f300c39f4f33...</td>\n",
       "      <td>48e740025e70e4e38dc87928cd45357c</td>\n",
       "    </tr>\n",
       "    <tr>\n",
       "      <th>8081</th>\n",
       "      <td>fe80cddfec97a7dd802cf93cf277da01d9b5fb65</td>\n",
       "      <td>visited</td>\n",
       "      <td>3ccec85ce35ea661?fa76e6024017220f</td>\n",
       "      <td>23c31ea91be100fd224dff1499939851</td>\n",
       "    </tr>\n",
       "    <tr>\n",
       "      <th>2046</th>\n",
       "      <td>4e5290971de41c1e1bcb7433e53ffc6321e410cf</td>\n",
       "      <td>visited</td>\n",
       "      <td>6ea77fc3ea42bd5b/9c280de73bf0fb32/bb555a4d63de...</td>\n",
       "      <td>9e77c2a52fdf9f9b7416e85cabaf7c76</td>\n",
       "    </tr>\n",
       "  </tbody>\n",
       "</table>\n",
       "</div>"
      ],
      "text/plain": [
       "                                            id    label  \\\n",
       "2814  f7803bf0ac187592421c0695792b698f43b596ce  visited   \n",
       "8081  fe80cddfec97a7dd802cf93cf277da01d9b5fb65  visited   \n",
       "2046  4e5290971de41c1e1bcb7433e53ffc6321e410cf  visited   \n",
       "\n",
       "                                                    src  \\\n",
       "2814  556de63e26686d50/95263499b67bbda1?f300c39f4f33...   \n",
       "8081                  3ccec85ce35ea661?fa76e6024017220f   \n",
       "2046  6ea77fc3ea42bd5b/9c280de73bf0fb32/bb555a4d63de...   \n",
       "\n",
       "                                   dst  \n",
       "2814  48e740025e70e4e38dc87928cd45357c  \n",
       "8081  23c31ea91be100fd224dff1499939851  \n",
       "2046  9e77c2a52fdf9f9b7416e85cabaf7c76  "
      ]
     },
     "execution_count": 27,
     "metadata": {},
     "output_type": "execute_result"
    }
   ],
   "source": [
    "print('EDGES:')\n",
    "print(g2._edges.info())\n",
    "\n",
    "g2._edges.sample(3)"
   ]
  },
  {
   "cell_type": "code",
   "execution_count": 28,
   "id": "rural-progress",
   "metadata": {},
   "outputs": [
    {
     "name": "stdout",
     "output_type": "stream",
     "text": [
      "<class 'pandas.core.frame.DataFrame'>\n",
      "RangeIndex: 8106 entries, 0 to 8105\n",
      "Data columns (total 2 columns):\n",
      " #   Column  Non-Null Count  Dtype \n",
      "---  ------  --------------  ----- \n",
      " 0   id      8106 non-null   object\n",
      " 1   label   8106 non-null   object\n",
      "dtypes: object(2)\n",
      "memory usage: 126.8+ KB\n",
      "None\n",
      "CPU times: user 4.32 s, sys: 43.9 ms, total: 4.37 s\n",
      "Wall time: 4.33 s\n"
     ]
    },
    {
     "data": {
      "text/html": [
       "<div>\n",
       "<style scoped>\n",
       "    .dataframe tbody tr th:only-of-type {\n",
       "        vertical-align: middle;\n",
       "    }\n",
       "\n",
       "    .dataframe tbody tr th {\n",
       "        vertical-align: top;\n",
       "    }\n",
       "\n",
       "    .dataframe thead th {\n",
       "        text-align: right;\n",
       "    }\n",
       "</style>\n",
       "<table border=\"1\" class=\"dataframe\">\n",
       "  <thead>\n",
       "    <tr style=\"text-align: right;\">\n",
       "      <th></th>\n",
       "      <th>id</th>\n",
       "      <th>label</th>\n",
       "    </tr>\n",
       "  </thead>\n",
       "  <tbody>\n",
       "    <tr>\n",
       "      <th>1242</th>\n",
       "      <td>4c980617e02858a4/7de2f069da3a3655/30591f4d8c71...</td>\n",
       "      <td>website</td>\n",
       "    </tr>\n",
       "    <tr>\n",
       "      <th>3190</th>\n",
       "      <td>493a46bbfd2029ae/4a0cad2f071a71ce/f9ba18598922...</td>\n",
       "      <td>website</td>\n",
       "    </tr>\n",
       "    <tr>\n",
       "      <th>6782</th>\n",
       "      <td>4c980617e02858a4/7de2f069da3a3655/30591f4d8c71...</td>\n",
       "      <td>website</td>\n",
       "    </tr>\n",
       "  </tbody>\n",
       "</table>\n",
       "</div>"
      ],
      "text/plain": [
       "                                                     id    label\n",
       "1242  4c980617e02858a4/7de2f069da3a3655/30591f4d8c71...  website\n",
       "3190  493a46bbfd2029ae/4a0cad2f071a71ce/f9ba18598922...  website\n",
       "6782  4c980617e02858a4/7de2f069da3a3655/30591f4d8c71...  website"
      ]
     },
     "execution_count": 28,
     "metadata": {},
     "output_type": "execute_result"
    }
   ],
   "source": [
    "%%time\n",
    "\n",
    "# Enrich nodes dataframe with any available server property data\n",
    "\n",
    "g3 = g2.fetch_nodes()\n",
    "\n",
    "print(g3._nodes.info())\n",
    "\n",
    "g3._nodes.sample(3)"
   ]
  },
  {
   "cell_type": "code",
   "execution_count": 19,
   "id": "surgical-title",
   "metadata": {},
   "outputs": [
    {
     "name": "stdout",
     "output_type": "stream",
     "text": [
      "CPU times: user 59.8 ms, sys: 4 ms, total: 63.8 ms\n",
      "Wall time: 1.68 s\n"
     ]
    },
    {
     "data": {
      "text/html": [
       "\n",
       "            <iframe id=\"d655f6f3-8d28-4988-a262-ef294c562704\" src=\"https://hub.graphistry.com/graph/graph.html?dataset=9e559f9008804e2988e1cca38fb54715&type=arrow&viztoken=346df100-583c-45a2-82c0-48451608e1c0&usertag=5bf3845f-pygraphistry-0.19.0+5.g5ce1d3fb0&splashAfter=1625879155&info=true\"\n",
       "                    allowfullscreen=\"true\" webkitallowfullscreen=\"true\" mozallowfullscreen=\"true\"\n",
       "                    oallowfullscreen=\"true\" msallowfullscreen=\"true\"\n",
       "                    style=\"width:100%; height:500px; border: 1px solid #DDD; overflow: hidden\">\n",
       "            </iframe>\n",
       "        \n",
       "            <script>\n",
       "                try {\n",
       "                  $(\"#d655f6f3-8d28-4988-a262-ef294c562704\").bind('mousewheel', function(e) { e.preventDefault(); });\n",
       "                } catch (e) { console.error('exn catching scroll', e); }\n",
       "            </script>\n",
       "        "
      ],
      "text/plain": [
       "<IPython.core.display.HTML object>"
      ]
     },
     "execution_count": 19,
     "metadata": {},
     "output_type": "execute_result"
    }
   ],
   "source": [
    "%%time\n",
    "\n",
    "g3.plot()"
   ]
  },
  {
   "cell_type": "markdown",
   "id": "optimum-audience",
   "metadata": {},
   "source": [
    "## Customize your visuals & Embed\n",
    "\n",
    "Graphistry visualizes data with smart defaults: community-based coloring, degree-based sizing, force-directed layout, auto-zoom, and built-in visual analytics. However, it often helps to configure your visuals ahead of time.\n",
    "\n",
    "Example:\n",
    "* Enable legend on new column 'type'\n",
    "* Color nodes by node column 'type'\n",
    "* Pick icons based on node type\n",
    "* Set background color to match notebook\n",
    "* Use a tighter layout \n",
    "\n",
    "See further examples at the [PyGraphistry github repo](https://github.com/graphistry/pygraphistry)"
   ]
  },
  {
   "cell_type": "code",
   "execution_count": 24,
   "id": "exotic-governor",
   "metadata": {},
   "outputs": [
    {
     "name": "stdout",
     "output_type": "stream",
     "text": [
      "CPU times: user 63.5 ms, sys: 3.88 ms, total: 67.3 ms\n",
      "Wall time: 1.62 s\n"
     ]
    },
    {
     "data": {
      "text/html": [
       "\n",
       "            <iframe id=\"bcd60f3e-bbcf-49f8-86ae-57539ee058a0\" src=\"https://hub.graphistry.com/graph/graph.html?dataset=9dafcea8c45e45fdaf54d7c866753d7b&type=arrow&viztoken=da11a6a0-c483-4b8f-b2c9-71d983a9ff6e&usertag=5bf3845f-pygraphistry-0.19.0+5.g5ce1d3fb0&splashAfter=1625879235&info=true&play=2000\"\n",
       "                    allowfullscreen=\"true\" webkitallowfullscreen=\"true\" mozallowfullscreen=\"true\"\n",
       "                    oallowfullscreen=\"true\" msallowfullscreen=\"true\"\n",
       "                    style=\"width:100%; height:500px; border: 1px solid #DDD; overflow: hidden\">\n",
       "            </iframe>\n",
       "        \n",
       "            <script>\n",
       "                try {\n",
       "                  $(\"#bcd60f3e-bbcf-49f8-86ae-57539ee058a0\").bind('mousewheel', function(e) { e.preventDefault(); });\n",
       "                } catch (e) { console.error('exn catching scroll', e); }\n",
       "            </script>\n",
       "        "
      ],
      "text/plain": [
       "<IPython.core.display.HTML object>"
      ]
     },
     "execution_count": 24,
     "metadata": {},
     "output_type": "execute_result"
    }
   ],
   "source": [
    "%%time\n",
    "\n",
    "g4 = (g3\n",
    "      \n",
    "      # Add node column 'type' based on gremlin-provided column 'label'\n",
    "      # The legend auto-detects this column and appears\n",
    "      .nodes(lambda g: g._nodes.assign(type=g._nodes['label']))\n",
    "      \n",
    "      .encode_point_color('type', categorical_mapping={\n",
    "          'website': 'blue',\n",
    "          'transientId': 'green'\n",
    "      })\n",
    "\n",
    "      .encode_point_icon('type', categorical_mapping ={\n",
    "          'website': 'link',\n",
    "          'transientId': 'barcode'\n",
    "      })\n",
    "\n",
    "      .addStyle(bg={'color': '#eee'}, page={'title': 'My Graph'})\n",
    "\n",
    "      # More: https://hub.graphistry.com/docs/api/1/rest/url/\n",
    "      .settings(url_params={'play': 2000})\n",
    ")\n",
    "\n",
    "g4.plot()"
   ]
  },
  {
   "cell_type": "markdown",
   "id": "positive-beaver",
   "metadata": {},
   "source": [
    "## Generate URL for other systems"
   ]
  },
  {
   "cell_type": "code",
   "execution_count": 23,
   "id": "focused-salem",
   "metadata": {},
   "outputs": [
    {
     "name": "stdout",
     "output_type": "stream",
     "text": [
      "CPU times: user 64.8 ms, sys: 0 ns, total: 64.8 ms\n",
      "Wall time: 1.67 s\n"
     ]
    },
    {
     "data": {
      "text/plain": [
       "'https://hub.graphistry.com/graph/graph.html?dataset=7405d0ac396a47ea9ee84acab7b0b31d&type=arrow&viztoken=c5e68946-e922-487e-9484-ef8fc9e2c8f9&usertag=5bf3845f-pygraphistry-0.19.0+5.g5ce1d3fb0&splashAfter=1625879227&info=true&strongGravity=False&play=2000'"
      ]
     },
     "execution_count": 23,
     "metadata": {},
     "output_type": "execute_result"
    }
   ],
   "source": [
    "%%time\n",
    "\n",
    "url = g4.plot(render=False)\n",
    "\n",
    "url"
   ]
  },
  {
   "cell_type": "markdown",
   "id": "removed-blair",
   "metadata": {},
   "source": [
    "# Next steps\n",
    "\n",
    "* Go deeper with [PyGraphistry](https://github.com/graphistry/pygraphistry): Examples for customization, GPU graph analytics, and more\n",
    "* Explore [gremlinpython](https://pypi.org/project/gremlinpython/)\n",
    "* Dashboarding with [graph-app-kit / Streamlit](https://github.com/graphistry/graph-app-kit)'s [Neptune integration](https://github.com/graphistry/graph-app-kit/blob/master/docs/neptune.md)\n",
    "  * Amazon Neptune's [launch announce & tutorial](https://aws.amazon.com/blogs/database/enabling-low-code-graph-data-apps-with-amazon-neptune-and-graphistry/)\n",
    "* [Try a CSV upload on Hub or Launch your own Graphistry server](https://www.graphistry.com/get-started)\n",
    "* [Additional Graphistry APIs](https://hub.graphistry.com/docs): REST, React, JS, ...\n"
   ]
  },
  {
   "cell_type": "code",
   "execution_count": null,
   "id": "structured-cradle",
   "metadata": {},
   "outputs": [],
   "source": []
  }
 ],
 "metadata": {
  "kernelspec": {
   "display_name": "Python 3",
   "language": "python",
   "name": "python3"
  },
  "language_info": {
   "codemirror_mode": {
    "name": "ipython",
    "version": 3
   },
   "file_extension": ".py",
   "mimetype": "text/x-python",
   "name": "python",
   "nbconvert_exporter": "python",
   "pygments_lexer": "ipython3",
   "version": "3.7.11"
  }
 },
 "nbformat": 4,
 "nbformat_minor": 5
}
