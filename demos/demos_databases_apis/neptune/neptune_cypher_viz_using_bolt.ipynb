{
 "cells": [
  {
   "cell_type": "markdown",
   "id": "10436f61-3f82-4316-b9be-b6a70746d4f7",
   "metadata": {},
   "source": [
    "## Graphistry for Neptune using pygraphistry bolt connector \n",
    "\n",
    "#### This example uses pygraphistry bolt helper class to run queries against AWS Neptune and retrieve query results as graph, then the bolt helper function extracts all the nodes and edges into the dataframes automatically. Then visualize the resulting datasets using Graphistry. \n",
    "\n"
   ]
  },
  {
   "cell_type": "code",
   "execution_count": null,
   "id": "b55398ab",
   "metadata": {},
   "outputs": [],
   "source": [
    "!pip install --user neo4j"
   ]
  },
  {
   "cell_type": "code",
   "execution_count": null,
   "id": "8481cc10-0407-4675-a966-4b09c411cb45",
   "metadata": {
    "tags": []
   },
   "outputs": [],
   "source": [
    "!pip install --user awswrangler"
   ]
  },
  {
   "cell_type": "code",
   "execution_count": null,
   "id": "d3f53062",
   "metadata": {},
   "outputs": [],
   "source": [
    "!pip install --user graphistry"
   ]
  },
  {
   "cell_type": "markdown",
   "id": "e7daa787",
   "metadata": {},
   "source": [
    "## make sure to restart kernel after pip install "
   ]
  },
  {
   "cell_type": "code",
   "execution_count": null,
   "id": "c499ed6d-a4fc-44a6-9bd6-62f65dadc329",
   "metadata": {
    "tags": []
   },
   "outputs": [],
   "source": [
    "import awswrangler as wr\n",
    "import pandas as pd\n",
    "import graphistry\n",
    "graphistry.__version__"
   ]
  },
  {
   "cell_type": "markdown",
   "id": "c509ab26-78fb-4a50-accd-9a5f06a7f0b3",
   "metadata": {},
   "source": [
    "### Configure graphistry connnection "
   ]
  },
  {
   "cell_type": "code",
   "execution_count": null,
   "id": "3cd273d7-e81b-4a2e-81f8-09a2f1bf3a11",
   "metadata": {},
   "outputs": [],
   "source": [
    "# To specify Graphistry account & server, use:\n",
    "# graphistry.register(api=3, username='...', password='...', protocol='https', server='hub.graphistry.com')\n",
    "\n",
    "# To run from a graphistry-host jupyter notebook: \n",
    "# graphistry.register(api=3, username=\"...\", password=\"...\", protocol=\"http\", server=\"nginx\")  \n",
    "\n",
    "# to use personal keys:\n",
    "# graphistry.register(api=3, protocol=\"...\", server=\"...\", personal_key_id='pkey_id', personal_key_secret='pkey_secret')   # Key instead of username+password+org_name\n",
    "\n",
    "# For more options, see https://github.com/graphistry/pygraphistry#configure\n",
    "\n",
    "graphistry.register(api=3, username=\"...\", password=\"...\", protocol=\"...\", server=\"...\")  "
   ]
  },
  {
   "cell_type": "markdown",
   "id": "909e7d08",
   "metadata": {},
   "source": [
    "## Configure Neptune connection endpoint: "
   ]
  },
  {
   "cell_type": "code",
   "execution_count": null,
   "id": "e2d83081",
   "metadata": {
    "tags": []
   },
   "outputs": [],
   "source": [
    "# update with your Neptune endpoint name: \n",
    "url='NEPTUNE_NAME.REGION.neptune.amazonaws.com'  "
   ]
  },
  {
   "cell_type": "code",
   "execution_count": null,
   "id": "a053c49b-95e7-4ad3-9c16-853738437c8f",
   "metadata": {
    "tags": []
   },
   "outputs": [],
   "source": [
    "iam_enabled = False             # Set to True/False based on the configuration of your cluster\n",
    "neptune_port = 8182             # Set to the Neptune Cluster Port, Default is 8182\n",
    "neptune_region = 'us-east-1'    # Set to neptune region\n",
    "\n",
    "client = wr.neptune.connect(url, neptune_port, iam_enabled=iam_enabled, region=neptune_region)"
   ]
  },
  {
   "cell_type": "code",
   "execution_count": null,
   "id": "50391086-8ec6-4dc8-b77d-a75b8822b0e6",
   "metadata": {
    "tags": []
   },
   "outputs": [],
   "source": [
    "# check status of neptune connection: \n",
    "client.status()"
   ]
  },
  {
   "cell_type": "markdown",
   "id": "5404d9b2",
   "metadata": {},
   "source": [
    "## Connect to Neptune using pygraphistry bolt connector"
   ]
  },
  {
   "cell_type": "code",
   "execution_count": null,
   "id": "b81686d7",
   "metadata": {},
   "outputs": [],
   "source": [
    "from neo4j import GraphDatabase\n",
    "uri = f\"bolt://{url}:8182\"\n",
    "driver = GraphDatabase.driver(uri, auth=(\"ignored\", \"ignored\"), encrypted=True)\n",
    "\n",
    "graphistry.register(bolt=driver)\n",
    "g = graphistry.cypher(\"MATCH (a)-[r]->(b) return a, r, b limit 10000\")"
   ]
  },
  {
   "cell_type": "code",
   "execution_count": null,
   "id": "37270027",
   "metadata": {},
   "outputs": [],
   "source": [
    "g.plot()"
   ]
  },
  {
   "cell_type": "code",
   "execution_count": null,
   "id": "c48999ee",
   "metadata": {},
   "outputs": [],
   "source": []
  }
 ],
 "metadata": {
  "kernelspec": {
   "display_name": "Python 3 (ipykernel)",
   "language": "python",
   "name": "python3"
  },
  "language_info": {
   "codemirror_mode": {
    "name": "ipython",
    "version": 3
   },
   "file_extension": ".py",
   "mimetype": "text/x-python",
   "name": "python",
   "nbconvert_exporter": "python",
   "pygments_lexer": "ipython3",
   "version": "3.10.12"
  }
 },
 "nbformat": 4,
 "nbformat_minor": 5
}
