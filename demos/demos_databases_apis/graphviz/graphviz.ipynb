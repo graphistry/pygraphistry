{
  "cells": [
    {
      "cell_type": "markdown",
      "metadata": {
        "id": "fEjoJ5eBnuKZ"
      },
      "source": [
        "# Graphistry <> graphviz integration quickstart\n",
        "\n",
        "The [graphviz engine](https://graphviz.org/) is popular for layout of small graphs and rendering to static images. The Graphistry Python bindings to graphviz enable using pygraphistry as usual for quickly loading and manipulating your data, and then benefiting from graphviz for layout, and optionally, rendering.\n",
        "\n",
        "The example below shows laying out and rendering company ownership data that is in a tree and benefits from graphviz's high-quality layout engine."
      ]
    },
    {
      "cell_type": "markdown",
      "metadata": {
        "id": "0BF6FBhDpLas"
      },
      "source": [
        "## Setup\n",
        "\n",
        "* graphviz: Install the graphviz engine and the pygraphviz bindings, see below (official [tutorial](https://pygraphviz.github.io/documentation/stable/install.html) )\n",
        "* Graphistry: Install PyGraphistry below, and [get a free GPU account on Graphistry Hub](https://www.graphistry.com/get-started) or run your own server\n",
        "\n",
        "Notes:\n",
        "\n",
        "* You must install the graphviz engine, as well as its pygraphviz Python bindings and pygraphistry\n",
        "* graphviz is most known for its `\"dot\"` layout engine, and it includes others as well\n",
        "* graphviz is generally not recommended for layout of graphs over 10,000 nodes and edges"
      ]
    },
    {
      "cell_type": "code",
      "execution_count": 20,
      "metadata": {
        "colab": {
          "base_uri": "https://localhost:8080/"
        },
        "id": "3XMNgAvIM9Ep",
        "outputId": "b391eb13-0650-433b-bd2b-c905cdef9e18"
      },
      "outputs": [
        {
          "name": "stdout",
          "output_type": "stream",
          "text": [
            "  Preparing metadata (setup.py) ... \u001b[?25l\u001b[?25hdone\n",
            "  Building wheel for graphistry (setup.py) ... \u001b[?25l\u001b[?25hdone\n"
          ]
        }
      ],
      "source": [
        "#!apt-get install graphviz graphviz-dev\n",
        "\n",
        "#!pip install -q graphistry[pygraphviz]"
      ]
    },
    {
      "cell_type": "markdown",
      "metadata": {
        "id": "s40Iw_3vqQZy"
      },
      "source": [
        "## Imports"
      ]
    },
    {
      "cell_type": "code",
      "execution_count": 102,
      "metadata": {
        "colab": {
          "base_uri": "https://localhost:8080/",
          "height": 35
        },
        "id": "Cnhc-A4_M2Ad",
        "outputId": "0f2fb73f-72a2-4fae-9b28-cea26b85d0ad"
      },
      "outputs": [
        {
          "data": {
            "application/vnd.google.colaboratory.intrinsic+json": {
              "type": "string"
            },
            "text/plain": [
              "'0.34.5+12.g4dba3e6'"
            ]
          },
          "execution_count": 102,
          "metadata": {},
          "output_type": "execute_result"
        }
      ],
      "source": [
        "from typing import Any, Dict, Literal, Optional\n",
        "import logging\n",
        "try:\n",
        "  import pygraphviz as pgv\n",
        "except (ImportError, ModuleNotFoundError):\n",
        "  logging.error(\"ImportError: Did you install pygraphviz and the supporting native packages?\")\n",
        "  raise\n",
        "\n",
        "import pandas as pd\n",
        "import graphistry\n",
        "from graphistry import Plottable\n",
        "graphistry.register(api=3, username=FILL_ME_IN, password=FILL_ME_IN)\n",
        "\n",
        "graphistry.__version__"
      ]
    },
    {
      "cell_type": "markdown",
      "metadata": {
        "id": "wwl3XdQLqf5k"
      },
      "source": [
        "### Sample graph: HSBC Beneficial ownership graph\n",
        "\n",
        "Sample data from [openownership.org](https://openownership.org/). Corporate ownership graphs often have deeply tree structure, and for bigger conglomerates with numerous subsidaries, officers, board officers, suppliers, and lenders, can greatly benefit from higher-quality tree layouts."
      ]
    },
    {
      "cell_type": "code",
      "execution_count": 2,
      "metadata": {
        "id": "8-7OAzDml0RV"
      },
      "outputs": [],
      "source": [
        "companies_df = pd.DataFrame([{'label': 'Hsbc Finance (Netherlands)', 'n': '1862294673469042014'},\n",
        " {'label': 'Hsbc Holdings Plc', 'n': '7622088245850069747'},\n",
        " {'label': 'Unknown person(s)', 'n': '7622088245850069747-unknown'},\n",
        " {'label': 'HSBC PROPERTY (UK) LIMITED', 'n': '16634236373777089526'},\n",
        " {'label': 'HSBC ALTERNATIVE INVESTMENTS LIMITED',\n",
        "  'n': '18011320449780894329'},\n",
        " {'label': 'HSBC INVESTMENT COMPANY LIMITED', 'n': '9134577322728469115'},\n",
        " {'label': 'HSBC IM PENSION TRUST LIMITED', 'n': '1446072728533515665'},\n",
        " {'label': 'MERCANTILE COMPANY LIMITED', 'n': '6904185395252167658'},\n",
        " {'label': 'Mp Payments Group Limited', 'n': '13630126251685975826'},\n",
        " {'label': 'MP PAYMENTS OPERATIONS LIMITED', 'n': '11514603667851101425'},\n",
        " {'label': 'MP PAYMENTS UK LIMITED', 'n': '13417892994160273884'},\n",
        " {'label': 'Hsbc Asia Pacific Holdings (Uk) Limited',\n",
        "  'n': '2173486047275631423'},\n",
        " {'label': 'HSBC SECURITIES (JAPAN) LIMITED', 'n': '18045747820524565803'}])\n",
        "\n",
        "ownership_df = pd.DataFrame([{'s': '7622088245850069747', 'd': '1862294673469042014'},\n",
        " {'s': '7622088245850069747-unknown', 'd': '7622088245850069747'},\n",
        " {'s': '1862294673469042014', 'd': '16634236373777089526'},\n",
        " {'s': '1862294673469042014', 'd': '18011320449780894329'},\n",
        " {'s': '1862294673469042014', 'd': '9134577322728469115'},\n",
        " {'s': '9134577322728469115', 'd': '1446072728533515665'},\n",
        " {'s': '9134577322728469115', 'd': '6904185395252167658'},\n",
        " {'s': '9134577322728469115', 'd': '13630126251685975826'},\n",
        " {'s': '13630126251685975826', 'd': '11514603667851101425'},\n",
        " {'s': '13630126251685975826', 'd': '13417892994160273884'},\n",
        " {'s': '9134577322728469115', 'd': '2173486047275631423'},\n",
        " {'s': '2173486047275631423', 'd': '18045747820524565803'},\n",
        " {'s': '9134577322728469115', 'd': '16634236373777089526'}])"
      ]
    },
    {
      "cell_type": "code",
      "execution_count": 19,
      "metadata": {
        "id": "7TmvBE5iI8Tu"
      },
      "outputs": [],
      "source": [
        "g = graphistry.edges(ownership_df, 's', 'd').nodes(companies_df, 'n').bind(point_title='label')"
      ]
    },
    {
      "cell_type": "code",
      "execution_count": 33,
      "metadata": {
        "id": "y7eC5hOCwfE1"
      },
      "outputs": [],
      "source": [
        "g = g.nodes(g._nodes.assign(sz=1)).encode_point_size('sz')"
      ]
    },
    {
      "cell_type": "markdown",
      "metadata": {
        "id": "gnhwn1v_r3kD"
      },
      "source": [
        "## Minimal tree layout and graphviz layout engines\n",
        "\n",
        "Graphviz provides 15+ layout engines you can use. General guidance is to use for graphs up to 10,000 nodes and engines.\n",
        "\n",
        "The `\"dot\"` layout engine is best known due to its beautiful hierarchical layouts for directed acycle graphs like trees."
      ]
    },
    {
      "cell_type": "code",
      "execution_count": 35,
      "metadata": {
        "colab": {
          "base_uri": "https://localhost:8080/",
          "height": 543
        },
        "id": "KiOxkJR_YKrh",
        "outputId": "2b9af5e5-b199-452a-839b-d8cc7cc0ea50"
      },
      "outputs": [
        {
          "data": {
            "text/html": [
              "\n",
              "            <iframe id=\"f2b2456c-1d5c-45c6-b3f8-ca01642c3563\" src=\"https://hub.graphistry.com/graph/graph.html?dataset=278a461208e44b72883cb95a68f5e126&type=arrow&viztoken=66da7fa4-b7c3-44ed-9e5d-8bdea9e2136e&usertag=3c690b8f-pygraphistry-0.34.5+12.g4dba3e6&splashAfter=1727948559&info=true&play=0&edgeCurvature=0\"\n",
              "                    allowfullscreen=\"true\" webkitallowfullscreen=\"true\" mozallowfullscreen=\"true\"\n",
              "                    oallowfullscreen=\"true\" msallowfullscreen=\"true\"\n",
              "                    style=\"width:100%; height:500px; border: 1px solid #DDD; overflow: hidden\"\n",
              "                    \n",
              "            >\n",
              "            </iframe>\n",
              "        \n",
              "            <script>\n",
              "                try {\n",
              "                  $(\"#f2b2456c-1d5c-45c6-b3f8-ca01642c3563\").bind('mousewheel', function(e) { e.preventDefault(); });\n",
              "                } catch (e) { console.error('exn catching scroll', e); }\n",
              "            </script>\n",
              "        "
            ],
            "text/plain": [
              "<IPython.core.display.HTML object>"
            ]
          },
          "execution_count": 35,
          "metadata": {},
          "output_type": "execute_result"
        }
      ],
      "source": [
        "g2 = g.layout_graphviz('dot')\n",
        "g2.plot()"
      ]
    },
    {
      "cell_type": "markdown",
      "metadata": {
        "id": "dTEjXkhisCui"
      },
      "source": [
        "Additional layout engines beyond `\"dot\"` are below. See also the [graphviz layout engines documents](https://graphviz.org/docs/layouts/). The same documentation, and the below section on global graph attributes, describe options you can pass in to different layout engines."
      ]
    },
    {
      "cell_type": "code",
      "execution_count": 6,
      "metadata": {
        "colab": {
          "base_uri": "https://localhost:8080/"
        },
        "id": "_x28pxBUr7e_",
        "outputId": "dd209734-f4cf-425b-dc3c-7cec0d9fac74"
      },
      "outputs": [
        {
          "data": {
            "text/plain": [
              "['acyclic',\n",
              " 'ccomps',\n",
              " 'circo',\n",
              " 'dot',\n",
              " 'fdp',\n",
              " 'gc',\n",
              " 'gvcolor',\n",
              " 'gvpr',\n",
              " 'neato',\n",
              " 'nop',\n",
              " 'osage',\n",
              " 'patchwork',\n",
              " 'sccmap',\n",
              " 'sfdp',\n",
              " 'tred',\n",
              " 'twopi',\n",
              " 'unflatten']"
            ]
          },
          "execution_count": 6,
          "metadata": {},
          "output_type": "execute_result"
        }
      ],
      "source": [
        "from graphistry.plugins_types.graphviz_types import PROGS\n",
        "PROGS"
      ]
    },
    {
      "cell_type": "code",
      "execution_count": 36,
      "metadata": {
        "colab": {
          "base_uri": "https://localhost:8080/",
          "height": 543
        },
        "id": "VD5ezMLss9Dw",
        "outputId": "553250c2-26a8-4820-f01d-fe138280bcf0"
      },
      "outputs": [
        {
          "data": {
            "text/html": [
              "\n",
              "            <iframe id=\"b58de138-e984-4e41-989f-67696ad45d10\" src=\"https://hub.graphistry.com/graph/graph.html?dataset=098eb1c201d0491eb7aaa9bf49550c22&type=arrow&viztoken=d7066879-afc4-453a-beb6-db8521aea88b&usertag=3c690b8f-pygraphistry-0.34.5+12.g4dba3e6&splashAfter=1727948567&info=true&play=0&edgeCurvature=0\"\n",
              "                    allowfullscreen=\"true\" webkitallowfullscreen=\"true\" mozallowfullscreen=\"true\"\n",
              "                    oallowfullscreen=\"true\" msallowfullscreen=\"true\"\n",
              "                    style=\"width:100%; height:500px; border: 1px solid #DDD; overflow: hidden\"\n",
              "                    \n",
              "            >\n",
              "            </iframe>\n",
              "        \n",
              "            <script>\n",
              "                try {\n",
              "                  $(\"#b58de138-e984-4e41-989f-67696ad45d10\").bind('mousewheel', function(e) { e.preventDefault(); });\n",
              "                } catch (e) { console.error('exn catching scroll', e); }\n",
              "            </script>\n",
              "        "
            ],
            "text/plain": [
              "<IPython.core.display.HTML object>"
            ]
          },
          "execution_count": 36,
          "metadata": {},
          "output_type": "execute_result"
        }
      ],
      "source": [
        "g2b = g.layout_graphviz('neato')\n",
        "g2b.plot()"
      ]
    },
    {
      "cell_type": "code",
      "execution_count": null,
      "metadata": {},
      "outputs": [],
      "source": [
        "from graphistry.plugins_types.graphviz_types import PROGS"
      ]
    },
    {
      "cell_type": "markdown",
      "metadata": {
        "id": "oF9m9a_WuPjN"
      },
      "source": [
        "### Global attributes\n",
        "\n",
        "You can set global attributes. Parameter [`graph_attr`](https://graphviz.org/docs/graph/) generally refers to layout engine options, while [`edge_attr`](https://graphviz.org/docs/edges/) and [`node_attr`](https://graphviz.org/docs/nodes/) are generally for default colors, sizes, shapes, etc."
      ]
    },
    {
      "cell_type": "code",
      "execution_count": 39,
      "metadata": {
        "colab": {
          "base_uri": "https://localhost:8080/",
          "height": 543
        },
        "id": "ACoYzOgCE7Pt",
        "outputId": "597b8129-dc9f-4f1a-e086-912e7206b103"
      },
      "outputs": [
        {
          "data": {
            "text/html": [
              "\n",
              "            <iframe id=\"1bbe0e35-ebbe-4efd-aed5-db0eeaa23f40\" src=\"https://hub.graphistry.com/graph/graph.html?dataset=fcfc7d9df36447da9950e26bf2c01d92&type=arrow&viztoken=faf0e127-e6b3-4120-bf92-70c2b0e1abff&usertag=3c690b8f-pygraphistry-0.34.5+12.g4dba3e6&splashAfter=1727948588&info=true&play=0&edgeCurvature=0\"\n",
              "                    allowfullscreen=\"true\" webkitallowfullscreen=\"true\" mozallowfullscreen=\"true\"\n",
              "                    oallowfullscreen=\"true\" msallowfullscreen=\"true\"\n",
              "                    style=\"width:100%; height:500px; border: 1px solid #DDD; overflow: hidden\"\n",
              "                    \n",
              "            >\n",
              "            </iframe>\n",
              "        \n",
              "            <script>\n",
              "                try {\n",
              "                  $(\"#1bbe0e35-ebbe-4efd-aed5-db0eeaa23f40\").bind('mousewheel', function(e) { e.preventDefault(); });\n",
              "                } catch (e) { console.error('exn catching scroll', e); }\n",
              "            </script>\n",
              "        "
            ],
            "text/plain": [
              "<IPython.core.display.HTML object>"
            ]
          },
          "execution_count": 39,
          "metadata": {},
          "output_type": "execute_result"
        }
      ],
      "source": [
        "g2b = g.layout_graphviz(\n",
        "    'dot',\n",
        "    graph_attr={'ratio': 10},\n",
        "    edge_attr={},\n",
        "    node_attr={}\n",
        ")\n",
        "g2b.plot()"
      ]
    },
    {
      "cell_type": "code",
      "execution_count": 1,
      "metadata": {},
      "outputs": [
        {
          "data": {
            "text/plain": [
              "['_background',\n",
              " 'bb',\n",
              " 'beautify',\n",
              " 'bgcolor',\n",
              " 'center',\n",
              " 'charset',\n",
              " 'class',\n",
              " 'clusterrank',\n",
              " 'colorscheme',\n",
              " 'comment',\n",
              " 'compound',\n",
              " 'concentrate',\n",
              " 'Damping',\n",
              " 'defaultdist',\n",
              " 'dim',\n",
              " 'dimen',\n",
              " 'diredgeconstraints',\n",
              " 'dpi',\n",
              " 'epsilon',\n",
              " 'esep',\n",
              " 'fontcolor',\n",
              " 'fontname',\n",
              " 'fontnames',\n",
              " 'fontpath',\n",
              " 'fontsize',\n",
              " 'forcelabels',\n",
              " 'gradientangle',\n",
              " 'href',\n",
              " 'id',\n",
              " 'imagepath',\n",
              " 'inputscale',\n",
              " 'K',\n",
              " 'label',\n",
              " 'label_scheme',\n",
              " 'labeljust',\n",
              " 'labelloc',\n",
              " 'landscape',\n",
              " 'layerlistsep',\n",
              " 'layers',\n",
              " 'layerselect',\n",
              " 'layersep',\n",
              " 'layout',\n",
              " 'levels',\n",
              " 'levelsgap',\n",
              " 'lheight',\n",
              " 'linelength',\n",
              " 'lp',\n",
              " 'lwidth',\n",
              " 'margin',\n",
              " 'maxiter',\n",
              " 'mclimit',\n",
              " 'mindist',\n",
              " 'mode',\n",
              " 'model',\n",
              " 'newrank',\n",
              " 'nodesep',\n",
              " 'nojustify',\n",
              " 'normalize',\n",
              " 'notranslate',\n",
              " 'nslimit',\n",
              " 'nslimit1',\n",
              " 'oneblock',\n",
              " 'ordering',\n",
              " 'orientation',\n",
              " 'outputorder',\n",
              " 'overlap',\n",
              " 'overlap_scaling',\n",
              " 'overlap_shrink',\n",
              " 'pack',\n",
              " 'packmode',\n",
              " 'pad',\n",
              " 'page',\n",
              " 'pagedir',\n",
              " 'quadtree',\n",
              " 'quantum',\n",
              " 'rankdir',\n",
              " 'ranksep',\n",
              " 'ratio',\n",
              " 'remincross',\n",
              " 'repulsiveforce',\n",
              " 'resolution',\n",
              " 'root',\n",
              " 'rotate',\n",
              " 'rotation',\n",
              " 'scale',\n",
              " 'searchsize',\n",
              " 'sep',\n",
              " 'showboxes',\n",
              " 'size',\n",
              " 'smoothing',\n",
              " 'sortv',\n",
              " 'splines',\n",
              " 'start',\n",
              " 'style',\n",
              " 'stylesheet',\n",
              " 'target',\n",
              " 'TBbalance',\n",
              " 'tooltip',\n",
              " 'truecolor',\n",
              " 'URL',\n",
              " 'viewport',\n",
              " 'voro_margin',\n",
              " 'xdotversion']"
            ]
          },
          "execution_count": 1,
          "metadata": {},
          "output_type": "execute_result"
        }
      ],
      "source": [
        "\n",
        "from graphistry.plugins_types.graphviz_types import GRAPH_ATTRS\n",
        "GRAPH_ATTRS"
      ]
    },
    {
      "cell_type": "code",
      "execution_count": 2,
      "metadata": {},
      "outputs": [
        {
          "data": {
            "text/plain": [
              "['arrowhead',\n",
              " 'arrowsize',\n",
              " 'arrowtail',\n",
              " 'class',\n",
              " 'color',\n",
              " 'colorscheme',\n",
              " 'comment',\n",
              " 'constraint',\n",
              " 'decorate',\n",
              " 'dir',\n",
              " 'edgehref',\n",
              " 'edgetarget',\n",
              " 'edgetooltip',\n",
              " 'edgeURL',\n",
              " 'fillcolor',\n",
              " 'fontcolor',\n",
              " 'fontname',\n",
              " 'fontsize',\n",
              " 'head_lp',\n",
              " 'headclip',\n",
              " 'headhref',\n",
              " 'headlabel',\n",
              " 'headport',\n",
              " 'headtarget',\n",
              " 'headtooltip',\n",
              " 'headURL',\n",
              " 'href',\n",
              " 'id',\n",
              " 'label',\n",
              " 'labelangle',\n",
              " 'labeldistance',\n",
              " 'labelfloat',\n",
              " 'labelfontcolor',\n",
              " 'labelfontname',\n",
              " 'labelfontsize',\n",
              " 'labelhref',\n",
              " 'labeltarget',\n",
              " 'labeltooltip',\n",
              " 'labelURL',\n",
              " 'layer',\n",
              " 'len',\n",
              " 'lhead',\n",
              " 'lp',\n",
              " 'ltail',\n",
              " 'minlen',\n",
              " 'nojustify',\n",
              " 'penwidth',\n",
              " 'pos',\n",
              " 'samehead',\n",
              " 'sametail',\n",
              " 'showboxes',\n",
              " 'style',\n",
              " 'tail_lp',\n",
              " 'tailclip',\n",
              " 'tailhref',\n",
              " 'taillabel',\n",
              " 'tailport',\n",
              " 'tailtarget',\n",
              " 'tailtooltip',\n",
              " 'tailURL',\n",
              " 'target',\n",
              " 'tooltip',\n",
              " 'URL',\n",
              " 'weight',\n",
              " 'xlabel',\n",
              " 'xlp']"
            ]
          },
          "execution_count": 2,
          "metadata": {},
          "output_type": "execute_result"
        }
      ],
      "source": [
        "\n",
        "from graphistry.plugins_types.graphviz_types import EDGE_ATTRS\n",
        "EDGE_ATTRS"
      ]
    },
    {
      "cell_type": "code",
      "execution_count": 3,
      "metadata": {},
      "outputs": [
        {
          "data": {
            "text/plain": [
              "['area',\n",
              " 'class',\n",
              " 'color',\n",
              " 'colorscheme',\n",
              " 'comment',\n",
              " 'distortion',\n",
              " 'fillcolor',\n",
              " 'fixedsize',\n",
              " 'fontcolor',\n",
              " 'fontname',\n",
              " 'fontsize',\n",
              " 'gradientangle',\n",
              " 'group',\n",
              " 'height',\n",
              " 'href',\n",
              " 'id',\n",
              " 'image',\n",
              " 'imagepos',\n",
              " 'imagescale',\n",
              " 'label',\n",
              " 'labelloc',\n",
              " 'layer',\n",
              " 'margin',\n",
              " 'nojustify',\n",
              " 'ordering',\n",
              " 'orientation',\n",
              " 'penwidth',\n",
              " 'peripheries',\n",
              " 'pin',\n",
              " 'pos',\n",
              " 'rects',\n",
              " 'regular',\n",
              " 'root',\n",
              " 'samplepoints',\n",
              " 'shape',\n",
              " 'shapefile',\n",
              " 'showboxes',\n",
              " 'sides',\n",
              " 'skew',\n",
              " 'sortv',\n",
              " 'style',\n",
              " 'target',\n",
              " 'tooltip',\n",
              " 'URL',\n",
              " 'vertices',\n",
              " 'width',\n",
              " 'xlabel',\n",
              " 'xlp',\n",
              " 'z']"
            ]
          },
          "execution_count": 3,
          "metadata": {},
          "output_type": "execute_result"
        }
      ],
      "source": [
        "\n",
        "from graphistry.plugins_types.graphviz_types import NODE_ATTRS\n",
        "NODE_ATTRS"
      ]
    },
    {
      "cell_type": "markdown",
      "metadata": {
        "id": "Fslt0bjvuyv0"
      },
      "source": [
        "## Static image rendering and entity-level attributes\n",
        "\n",
        "graphviz suports rendering to a static file in various image formats such as png.\n",
        "\n",
        "You can add graphviz-specific columns to your node and edge dataframes that configure per-row render settings. These use the same names as in the above global attribute guidance, such as `color`, `shape`, and `label`.\n",
        "\n",
        "Adding a column for an attribute will typically disable the global attribute. For example, creating setting node column `\"shape\"`  with values `\"star\"` and `None`, and global node attribute `\"shape\"` with value value `\"box\"`. All the nodes with `shape == \"star\"` will render as a star in the static image, and the rows with value `None` will not default to the global node attribute `\"box\"`, but to graphviz's general default of an oval."
      ]
    },
    {
      "cell_type": "code",
      "execution_count": 76,
      "metadata": {
        "colab": {
          "base_uri": "https://localhost:8080/",
          "height": 492
        },
        "id": "-3e_fH-80bhE",
        "outputId": "015cb98e-f1eb-4fbe-e29b-18a821b3b3d3"
      },
      "outputs": [
        {
          "data": {
            "text/html": [
              "<div>\n",
              "<style scoped>\n",
              "    .dataframe tbody tr th:only-of-type {\n",
              "        vertical-align: middle;\n",
              "    }\n",
              "\n",
              "    .dataframe tbody tr th {\n",
              "        vertical-align: top;\n",
              "    }\n",
              "\n",
              "    .dataframe thead th {\n",
              "        text-align: right;\n",
              "    }\n",
              "</style>\n",
              "<table border=\"1\" class=\"dataframe\">\n",
              "  <thead>\n",
              "    <tr style=\"text-align: right;\">\n",
              "      <th></th>\n",
              "      <th>0</th>\n",
              "    </tr>\n",
              "  </thead>\n",
              "  <tbody>\n",
              "    <tr>\n",
              "      <th>0</th>\n",
              "      <td>1862294673469042014</td>\n",
              "    </tr>\n",
              "    <tr>\n",
              "      <th>1</th>\n",
              "      <td>7622088245850069747</td>\n",
              "    </tr>\n",
              "    <tr>\n",
              "      <th>2</th>\n",
              "      <td>7622088245850069747-unknown</td>\n",
              "    </tr>\n",
              "    <tr>\n",
              "      <th>3</th>\n",
              "      <td>16634236373777089526</td>\n",
              "    </tr>\n",
              "    <tr>\n",
              "      <th>4</th>\n",
              "      <td>18011320449780894329</td>\n",
              "    </tr>\n",
              "    <tr>\n",
              "      <th>5</th>\n",
              "      <td>9134577322728469115</td>\n",
              "    </tr>\n",
              "    <tr>\n",
              "      <th>6</th>\n",
              "      <td>1446072728533515665</td>\n",
              "    </tr>\n",
              "    <tr>\n",
              "      <th>7</th>\n",
              "      <td>6904185395252167658</td>\n",
              "    </tr>\n",
              "    <tr>\n",
              "      <th>8</th>\n",
              "      <td>13630126251685975826</td>\n",
              "    </tr>\n",
              "    <tr>\n",
              "      <th>9</th>\n",
              "      <td>11514603667851101425</td>\n",
              "    </tr>\n",
              "    <tr>\n",
              "      <th>10</th>\n",
              "      <td>13417892994160273884</td>\n",
              "    </tr>\n",
              "    <tr>\n",
              "      <th>11</th>\n",
              "      <td>2173486047275631423</td>\n",
              "    </tr>\n",
              "    <tr>\n",
              "      <th>12</th>\n",
              "      <td>18045747820524565803</td>\n",
              "    </tr>\n",
              "  </tbody>\n",
              "</table>\n",
              "</div><br><label><b>dtype:</b> object</label>"
            ],
            "text/plain": [
              "0             1862294673469042014\n",
              "1             7622088245850069747\n",
              "2     7622088245850069747-unknown\n",
              "3            16634236373777089526\n",
              "4            18011320449780894329\n",
              "5             9134577322728469115\n",
              "6             1446072728533515665\n",
              "7             6904185395252167658\n",
              "8            13630126251685975826\n",
              "9            11514603667851101425\n",
              "10           13417892994160273884\n",
              "11            2173486047275631423\n",
              "12           18045747820524565803\n",
              "dtype: object"
            ]
          },
          "execution_count": 76,
          "metadata": {},
          "output_type": "execute_result"
        }
      ],
      "source": [
        "g._nodes.apply(lambda row: row['n'], axis=1)"
      ]
    },
    {
      "cell_type": "code",
      "execution_count": 68,
      "metadata": {
        "colab": {
          "base_uri": "https://localhost:8080/",
          "height": 717
        },
        "id": "newXWAjEzo5F",
        "outputId": "ff234aa4-5811-42ff-b289-d67e4e5c11b7"
      },
      "outputs": [
        {
          "name": "stdout",
          "output_type": "stream",
          "text": [
            "row 1862294673469042014\n",
            "row 7622088245850069747\n",
            "row 7622088245850069747-unknown\n",
            "row 16634236373777089526\n",
            "row 18011320449780894329\n",
            "row 9134577322728469115\n",
            "row 1446072728533515665\n",
            "row 6904185395252167658\n",
            "row 13630126251685975826\n",
            "row 11514603667851101425\n",
            "row 13417892994160273884\n",
            "row 2173486047275631423\n",
            "row 18045747820524565803\n"
          ]
        },
        {
          "data": {
            "text/html": [
              "<div>\n",
              "<style scoped>\n",
              "    .dataframe tbody tr th:only-of-type {\n",
              "        vertical-align: middle;\n",
              "    }\n",
              "\n",
              "    .dataframe tbody tr th {\n",
              "        vertical-align: top;\n",
              "    }\n",
              "\n",
              "    .dataframe thead th {\n",
              "        text-align: right;\n",
              "    }\n",
              "</style>\n",
              "<table border=\"1\" class=\"dataframe\">\n",
              "  <thead>\n",
              "    <tr style=\"text-align: right;\">\n",
              "      <th></th>\n",
              "      <th>0</th>\n",
              "    </tr>\n",
              "  </thead>\n",
              "  <tbody>\n",
              "    <tr>\n",
              "      <th>0</th>\n",
              "      <td>None</td>\n",
              "    </tr>\n",
              "    <tr>\n",
              "      <th>1</th>\n",
              "      <td>None</td>\n",
              "    </tr>\n",
              "    <tr>\n",
              "      <th>2</th>\n",
              "      <td>None</td>\n",
              "    </tr>\n",
              "    <tr>\n",
              "      <th>3</th>\n",
              "      <td>None</td>\n",
              "    </tr>\n",
              "    <tr>\n",
              "      <th>4</th>\n",
              "      <td>None</td>\n",
              "    </tr>\n",
              "    <tr>\n",
              "      <th>5</th>\n",
              "      <td>None</td>\n",
              "    </tr>\n",
              "    <tr>\n",
              "      <th>6</th>\n",
              "      <td>None</td>\n",
              "    </tr>\n",
              "    <tr>\n",
              "      <th>7</th>\n",
              "      <td>None</td>\n",
              "    </tr>\n",
              "    <tr>\n",
              "      <th>8</th>\n",
              "      <td>None</td>\n",
              "    </tr>\n",
              "    <tr>\n",
              "      <th>9</th>\n",
              "      <td>None</td>\n",
              "    </tr>\n",
              "    <tr>\n",
              "      <th>10</th>\n",
              "      <td>None</td>\n",
              "    </tr>\n",
              "    <tr>\n",
              "      <th>11</th>\n",
              "      <td>None</td>\n",
              "    </tr>\n",
              "    <tr>\n",
              "      <th>12</th>\n",
              "      <td>None</td>\n",
              "    </tr>\n",
              "  </tbody>\n",
              "</table>\n",
              "</div><br><label><b>dtype:</b> object</label>"
            ],
            "text/plain": [
              "0     None\n",
              "1     None\n",
              "2     None\n",
              "3     None\n",
              "4     None\n",
              "5     None\n",
              "6     None\n",
              "7     None\n",
              "8     None\n",
              "9     None\n",
              "10    None\n",
              "11    None\n",
              "12    None\n",
              "dtype: object"
            ]
          },
          "execution_count": 68,
          "metadata": {},
          "output_type": "execute_result"
        }
      ],
      "source": [
        "g._nodes.apply(lambda row: print('row', row['n']), 1)"
      ]
    },
    {
      "cell_type": "code",
      "execution_count": 99,
      "metadata": {
        "colab": {
          "base_uri": "https://localhost:8080/",
          "height": 206
        },
        "id": "72YquJpavfLL",
        "outputId": "40739d8a-dbe2-4437-fcc7-1a45c92a5b73"
      },
      "outputs": [
        {
          "data": {
            "application/vnd.google.colaboratory.intrinsic+json": {
              "repr_error": "Out of range float values are not JSON compliant: nan",
              "type": "dataframe"
            },
            "text/html": [
              "\n",
              "  <div id=\"df-14c1d1e4-5980-44df-b82c-6496db751af7\" class=\"colab-df-container\">\n",
              "    <div>\n",
              "<style scoped>\n",
              "    .dataframe tbody tr th:only-of-type {\n",
              "        vertical-align: middle;\n",
              "    }\n",
              "\n",
              "    .dataframe tbody tr th {\n",
              "        vertical-align: top;\n",
              "    }\n",
              "\n",
              "    .dataframe thead th {\n",
              "        text-align: right;\n",
              "    }\n",
              "</style>\n",
              "<table border=\"1\" class=\"dataframe\">\n",
              "  <thead>\n",
              "    <tr style=\"text-align: right;\">\n",
              "      <th></th>\n",
              "      <th>n</th>\n",
              "      <th>x</th>\n",
              "      <th>y</th>\n",
              "      <th>label</th>\n",
              "      <th>sz</th>\n",
              "      <th>shape</th>\n",
              "      <th>color</th>\n",
              "    </tr>\n",
              "  </thead>\n",
              "  <tbody>\n",
              "    <tr>\n",
              "      <th>0</th>\n",
              "      <td>1862294673469042014</td>\n",
              "      <td>381.39</td>\n",
              "      <td>234.0</td>\n",
              "      <td>Hsbc Finance (Netherlands)</td>\n",
              "      <td>1</td>\n",
              "      <td>None</td>\n",
              "      <td>red</td>\n",
              "    </tr>\n",
              "    <tr>\n",
              "      <th>1</th>\n",
              "      <td>16634236373777089526</td>\n",
              "      <td>140.39</td>\n",
              "      <td>90.0</td>\n",
              "      <td>HSBC PROPERTY (UK) LIMITED</td>\n",
              "      <td>1</td>\n",
              "      <td>None</td>\n",
              "      <td>red</td>\n",
              "    </tr>\n",
              "    <tr>\n",
              "      <th>2</th>\n",
              "      <td>18011320449780894329</td>\n",
              "      <td>381.39</td>\n",
              "      <td>162.0</td>\n",
              "      <td>HSBC ALTERNATIVE INVESTMENTS LIMITED</td>\n",
              "      <td>1</td>\n",
              "      <td>None</td>\n",
              "      <td>red</td>\n",
              "    </tr>\n",
              "    <tr>\n",
              "      <th>3</th>\n",
              "      <td>9134577322728469115</td>\n",
              "      <td>778.39</td>\n",
              "      <td>162.0</td>\n",
              "      <td>HSBC INVESTMENT COMPANY LIMITED</td>\n",
              "      <td>1</td>\n",
              "      <td>None</td>\n",
              "      <td>red</td>\n",
              "    </tr>\n",
              "    <tr>\n",
              "      <th>4</th>\n",
              "      <td>1446072728533515665</td>\n",
              "      <td>454.39</td>\n",
              "      <td>90.0</td>\n",
              "      <td>HSBC IM PENSION TRUST LIMITED</td>\n",
              "      <td>1</td>\n",
              "      <td>None</td>\n",
              "      <td>red</td>\n",
              "    </tr>\n",
              "  </tbody>\n",
              "</table>\n",
              "</div>\n",
              "    <div class=\"colab-df-buttons\">\n",
              "\n",
              "  <div class=\"colab-df-container\">\n",
              "    <button class=\"colab-df-convert\" onclick=\"convertToInteractive('df-14c1d1e4-5980-44df-b82c-6496db751af7')\"\n",
              "            title=\"Convert this dataframe to an interactive table.\"\n",
              "            style=\"display:none;\">\n",
              "\n",
              "  <svg xmlns=\"http://www.w3.org/2000/svg\" height=\"24px\" viewBox=\"0 -960 960 960\">\n",
              "    <path d=\"M120-120v-720h720v720H120Zm60-500h600v-160H180v160Zm220 220h160v-160H400v160Zm0 220h160v-160H400v160ZM180-400h160v-160H180v160Zm440 0h160v-160H620v160ZM180-180h160v-160H180v160Zm440 0h160v-160H620v160Z\"/>\n",
              "  </svg>\n",
              "    </button>\n",
              "\n",
              "  <style>\n",
              "    .colab-df-container {\n",
              "      display:flex;\n",
              "      gap: 12px;\n",
              "    }\n",
              "\n",
              "    .colab-df-convert {\n",
              "      background-color: #E8F0FE;\n",
              "      border: none;\n",
              "      border-radius: 50%;\n",
              "      cursor: pointer;\n",
              "      display: none;\n",
              "      fill: #1967D2;\n",
              "      height: 32px;\n",
              "      padding: 0 0 0 0;\n",
              "      width: 32px;\n",
              "    }\n",
              "\n",
              "    .colab-df-convert:hover {\n",
              "      background-color: #E2EBFA;\n",
              "      box-shadow: 0px 1px 2px rgba(60, 64, 67, 0.3), 0px 1px 3px 1px rgba(60, 64, 67, 0.15);\n",
              "      fill: #174EA6;\n",
              "    }\n",
              "\n",
              "    .colab-df-buttons div {\n",
              "      margin-bottom: 4px;\n",
              "    }\n",
              "\n",
              "    [theme=dark] .colab-df-convert {\n",
              "      background-color: #3B4455;\n",
              "      fill: #D2E3FC;\n",
              "    }\n",
              "\n",
              "    [theme=dark] .colab-df-convert:hover {\n",
              "      background-color: #434B5C;\n",
              "      box-shadow: 0px 1px 3px 1px rgba(0, 0, 0, 0.15);\n",
              "      filter: drop-shadow(0px 1px 2px rgba(0, 0, 0, 0.3));\n",
              "      fill: #FFFFFF;\n",
              "    }\n",
              "  </style>\n",
              "\n",
              "    <script>\n",
              "      const buttonEl =\n",
              "        document.querySelector('#df-14c1d1e4-5980-44df-b82c-6496db751af7 button.colab-df-convert');\n",
              "      buttonEl.style.display =\n",
              "        google.colab.kernel.accessAllowed ? 'block' : 'none';\n",
              "\n",
              "      async function convertToInteractive(key) {\n",
              "        const element = document.querySelector('#df-14c1d1e4-5980-44df-b82c-6496db751af7');\n",
              "        const dataTable =\n",
              "          await google.colab.kernel.invokeFunction('convertToInteractive',\n",
              "                                                    [key], {});\n",
              "        if (!dataTable) return;\n",
              "\n",
              "        const docLinkHtml = 'Like what you see? Visit the ' +\n",
              "          '<a target=\"_blank\" href=https://colab.research.google.com/notebooks/data_table.ipynb>data table notebook</a>'\n",
              "          + ' to learn more about interactive tables.';\n",
              "        element.innerHTML = '';\n",
              "        dataTable['output_type'] = 'display_data';\n",
              "        await google.colab.output.renderOutput(dataTable, element);\n",
              "        const docLink = document.createElement('div');\n",
              "        docLink.innerHTML = docLinkHtml;\n",
              "        element.appendChild(docLink);\n",
              "      }\n",
              "    </script>\n",
              "  </div>\n",
              "\n",
              "\n",
              "<div id=\"df-587545a3-e422-4dd7-b4b2-dadb8f6d96ad\">\n",
              "  <button class=\"colab-df-quickchart\" onclick=\"quickchart('df-587545a3-e422-4dd7-b4b2-dadb8f6d96ad')\"\n",
              "            title=\"Suggest charts\"\n",
              "            style=\"display:none;\">\n",
              "\n",
              "<svg xmlns=\"http://www.w3.org/2000/svg\" height=\"24px\"viewBox=\"0 0 24 24\"\n",
              "     width=\"24px\">\n",
              "    <g>\n",
              "        <path d=\"M19 3H5c-1.1 0-2 .9-2 2v14c0 1.1.9 2 2 2h14c1.1 0 2-.9 2-2V5c0-1.1-.9-2-2-2zM9 17H7v-7h2v7zm4 0h-2V7h2v10zm4 0h-2v-4h2v4z\"/>\n",
              "    </g>\n",
              "</svg>\n",
              "  </button>\n",
              "\n",
              "<style>\n",
              "  .colab-df-quickchart {\n",
              "      --bg-color: #E8F0FE;\n",
              "      --fill-color: #1967D2;\n",
              "      --hover-bg-color: #E2EBFA;\n",
              "      --hover-fill-color: #174EA6;\n",
              "      --disabled-fill-color: #AAA;\n",
              "      --disabled-bg-color: #DDD;\n",
              "  }\n",
              "\n",
              "  [theme=dark] .colab-df-quickchart {\n",
              "      --bg-color: #3B4455;\n",
              "      --fill-color: #D2E3FC;\n",
              "      --hover-bg-color: #434B5C;\n",
              "      --hover-fill-color: #FFFFFF;\n",
              "      --disabled-bg-color: #3B4455;\n",
              "      --disabled-fill-color: #666;\n",
              "  }\n",
              "\n",
              "  .colab-df-quickchart {\n",
              "    background-color: var(--bg-color);\n",
              "    border: none;\n",
              "    border-radius: 50%;\n",
              "    cursor: pointer;\n",
              "    display: none;\n",
              "    fill: var(--fill-color);\n",
              "    height: 32px;\n",
              "    padding: 0;\n",
              "    width: 32px;\n",
              "  }\n",
              "\n",
              "  .colab-df-quickchart:hover {\n",
              "    background-color: var(--hover-bg-color);\n",
              "    box-shadow: 0 1px 2px rgba(60, 64, 67, 0.3), 0 1px 3px 1px rgba(60, 64, 67, 0.15);\n",
              "    fill: var(--button-hover-fill-color);\n",
              "  }\n",
              "\n",
              "  .colab-df-quickchart-complete:disabled,\n",
              "  .colab-df-quickchart-complete:disabled:hover {\n",
              "    background-color: var(--disabled-bg-color);\n",
              "    fill: var(--disabled-fill-color);\n",
              "    box-shadow: none;\n",
              "  }\n",
              "\n",
              "  .colab-df-spinner {\n",
              "    border: 2px solid var(--fill-color);\n",
              "    border-color: transparent;\n",
              "    border-bottom-color: var(--fill-color);\n",
              "    animation:\n",
              "      spin 1s steps(1) infinite;\n",
              "  }\n",
              "\n",
              "  @keyframes spin {\n",
              "    0% {\n",
              "      border-color: transparent;\n",
              "      border-bottom-color: var(--fill-color);\n",
              "      border-left-color: var(--fill-color);\n",
              "    }\n",
              "    20% {\n",
              "      border-color: transparent;\n",
              "      border-left-color: var(--fill-color);\n",
              "      border-top-color: var(--fill-color);\n",
              "    }\n",
              "    30% {\n",
              "      border-color: transparent;\n",
              "      border-left-color: var(--fill-color);\n",
              "      border-top-color: var(--fill-color);\n",
              "      border-right-color: var(--fill-color);\n",
              "    }\n",
              "    40% {\n",
              "      border-color: transparent;\n",
              "      border-right-color: var(--fill-color);\n",
              "      border-top-color: var(--fill-color);\n",
              "    }\n",
              "    60% {\n",
              "      border-color: transparent;\n",
              "      border-right-color: var(--fill-color);\n",
              "    }\n",
              "    80% {\n",
              "      border-color: transparent;\n",
              "      border-right-color: var(--fill-color);\n",
              "      border-bottom-color: var(--fill-color);\n",
              "    }\n",
              "    90% {\n",
              "      border-color: transparent;\n",
              "      border-bottom-color: var(--fill-color);\n",
              "    }\n",
              "  }\n",
              "</style>\n",
              "\n",
              "  <script>\n",
              "    async function quickchart(key) {\n",
              "      const quickchartButtonEl =\n",
              "        document.querySelector('#' + key + ' button');\n",
              "      quickchartButtonEl.disabled = true;  // To prevent multiple clicks.\n",
              "      quickchartButtonEl.classList.add('colab-df-spinner');\n",
              "      try {\n",
              "        const charts = await google.colab.kernel.invokeFunction(\n",
              "            'suggestCharts', [key], {});\n",
              "      } catch (error) {\n",
              "        console.error('Error during call to suggestCharts:', error);\n",
              "      }\n",
              "      quickchartButtonEl.classList.remove('colab-df-spinner');\n",
              "      quickchartButtonEl.classList.add('colab-df-quickchart-complete');\n",
              "    }\n",
              "    (() => {\n",
              "      let quickchartButtonEl =\n",
              "        document.querySelector('#df-587545a3-e422-4dd7-b4b2-dadb8f6d96ad button');\n",
              "      quickchartButtonEl.style.display =\n",
              "        google.colab.kernel.accessAllowed ? 'block' : 'none';\n",
              "    })();\n",
              "  </script>\n",
              "</div>\n",
              "\n",
              "    </div>\n",
              "  </div>\n"
            ],
            "text/plain": [
              "                      n       x      y                                 label  \\\n",
              "0   1862294673469042014  381.39  234.0            Hsbc Finance (Netherlands)   \n",
              "1  16634236373777089526  140.39   90.0            HSBC PROPERTY (UK) LIMITED   \n",
              "2  18011320449780894329  381.39  162.0  HSBC ALTERNATIVE INVESTMENTS LIMITED   \n",
              "3   9134577322728469115  778.39  162.0       HSBC INVESTMENT COMPANY LIMITED   \n",
              "4   1446072728533515665  454.39   90.0         HSBC IM PENSION TRUST LIMITED   \n",
              "\n",
              "   sz shape color  \n",
              "0   1  None   red  \n",
              "1   1  None   red  \n",
              "2   1  None   red  \n",
              "3   1  None   red  \n",
              "4   1  None   red  "
            ]
          },
          "execution_count": 99,
          "metadata": {},
          "output_type": "execute_result"
        }
      ],
      "source": [
        "# row-level attrs\n",
        "\n",
        "root_id = '7622088245850069747-unknown'\n",
        "\n",
        "g2c = g.nodes(g._nodes.assign(\n",
        "    label=g._nodes.apply(lambda row: \"ROOT: Unknown person(s)\" if row['n'] == root_id else row['label'], axis=1),\n",
        "    shape=g._nodes.n.apply(lambda n: \"box\" if n == root_id else None),\n",
        "    color=g._nodes.n.apply(lambda n: \"blue\" if n == root_id else 'red')\n",
        ")).edges(g._edges.assign(\n",
        "    color=g._edges[g._source].apply(lambda n: 'blue' if n == root_id else None)\n",
        "))\n",
        "\n",
        "\n",
        "# Save a static graphviz render\n",
        "g2c_positioned = g2c.layout_graphviz(\n",
        "    \"dot\",\n",
        "    render_to_disk=True,\n",
        "    path=f'./graph.png',\n",
        "    graph_attr={},\n",
        "    edge_attr={},\n",
        "    node_attr={'color': 'green'},  # ignored due to g2c._nodes.color\n",
        "    format='png'\n",
        ")\n",
        "\n",
        "g2c_positioned._nodes.head()"
      ]
    },
    {
      "cell_type": "code",
      "execution_count": 98,
      "metadata": {
        "colab": {
          "base_uri": "https://localhost:8080/",
          "height": 353
        },
        "id": "Orvnc-p4vwyd",
        "outputId": "59f03155-128b-4d55-f216-58b16ce7f914"
      },
      "outputs": [
        {
          "data": {
            "image/png": "[encoded data removed]",
            "text/plain": [
              "<IPython.core.display.Image object>"
            ]
          },
          "execution_count": 98,
          "metadata": {},
          "output_type": "execute_result"
        }
      ],
      "source": [
        "from IPython.display import Image\n",
        "Image(filename='./graph.png')"
      ]
    },
    {
      "cell_type": "code",
      "execution_count": 101,
      "metadata": {
        "colab": {
          "base_uri": "https://localhost:8080/",
          "height": 543
        },
        "id": "X_e8slJ4LO2z",
        "outputId": "c36ff578-dd8b-4626-8e52-7096bc5f0cfb"
      },
      "outputs": [
        {
          "data": {
            "text/html": [
              "\n",
              "            <iframe id=\"e87258bd-d7c1-46bc-a89e-dcceab6ad8b9\" src=\"https://hub.graphistry.com/graph/graph.html?dataset=1c223004659a4398b08d69c61a16fc4e&type=arrow&viztoken=e1e7e77d-3884-4a1d-a7a9-00a5595e138d&usertag=3c690b8f-pygraphistry-0.34.5+12.g4dba3e6&splashAfter=1727949823&info=true&play=0&edgeCurvature=0\"\n",
              "                    allowfullscreen=\"true\" webkitallowfullscreen=\"true\" mozallowfullscreen=\"true\"\n",
              "                    oallowfullscreen=\"true\" msallowfullscreen=\"true\"\n",
              "                    style=\"width:100%; height:500px; border: 1px solid #DDD; overflow: hidden\"\n",
              "                    \n",
              "            >\n",
              "            </iframe>\n",
              "        \n",
              "            <script>\n",
              "                try {\n",
              "                  $(\"#e87258bd-d7c1-46bc-a89e-dcceab6ad8b9\").bind('mousewheel', function(e) { e.preventDefault(); });\n",
              "                } catch (e) { console.error('exn catching scroll', e); }\n",
              "            </script>\n",
              "        "
            ],
            "text/plain": [
              "<IPython.core.display.HTML object>"
            ]
          },
          "execution_count": 101,
          "metadata": {},
          "output_type": "execute_result"
        }
      ],
      "source": [
        "g2d = g.layout_graphviz('circo')\n",
        "g2d.plot()"
      ]
    },
    {
      "cell_type": "code",
      "execution_count": null,
      "metadata": {
        "id": "pDEzL2UlZGz_"
      },
      "outputs": [],
      "source": []
    }
  ],
  "metadata": {
    "colab": {
      "provenance": []
    },
    "kernelspec": {
      "display_name": "Python 3",
      "name": "python3"
    },
    "language_info": {
      "codemirror_mode": {
        "name": "ipython",
        "version": 3
      },
      "file_extension": ".py",
      "mimetype": "text/x-python",
      "name": "python",
      "nbconvert_exporter": "python",
      "pygments_lexer": "ipython3",
      "version": "3.9.7"
    }
  },
  "nbformat": 4,
  "nbformat_minor": 0
}
