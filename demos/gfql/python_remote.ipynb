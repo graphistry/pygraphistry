{
 "cells": [
  {
   "cell_type": "markdown",
   "id": "9a1318ab-f70a-43eb-ba1d-7360a8c03005",
   "metadata": {},
   "source": [
    "# Tutorial: GPU Python remote mode\n",
    "\n",
    "Running GPU Python on remote servers helps with scenarios like large workloads benefiting from GPU acceleration depite no local GPU, when the data is already on a remote Graphistry server, and other team and production setting needs.\n",
    "\n",
    "The following examples walk through several common scenarios:\n",
    "\n",
    "* Uploading data and running Python remotely on it\n",
    "* Binding to existing remote data and running Python remotely on it\n",
    "* Control how much data is returned\n",
    "* Control CPU vs GPU execution\n",
    "\n",
    "See also the sibling tutorial for running pure GFQL queries remotely for typical scenarios. When viable, we recommend sticking to GFQL for safety, clarity, and performance reasons."
   ]
  },
  {
   "cell_type": "markdown",
   "id": "e320936b-296f-4828-8238-b3ff169b7a33",
   "metadata": {},
   "source": [
    "## Setup\n",
    "\n",
    "Note: Ensure the remote Python endpoint is enabled on the server, and [the user is flagged for using it](https://hub.graphistry.com/docs/Python/python-api/)\n",
    "\n",
    "### Imports"
   ]
  },
  {
   "cell_type": "code",
   "execution_count": 6,
   "id": "a6ce5887-106e-49b9-a33c-1d9c05dc270c",
   "metadata": {
    "execution": {
     "iopub.execute_input": "2024-12-13T20:28:09.287758Z",
     "iopub.status.busy": "2024-12-13T20:28:09.286951Z",
     "iopub.status.idle": "2024-12-13T20:28:09.293049Z",
     "shell.execute_reply": "2024-12-13T20:28:09.292329Z",
     "shell.execute_reply.started": "2024-12-13T20:28:09.287727Z"
    }
   },
   "outputs": [
    {
     "data": {
      "text/plain": [
       "'0+unknown'"
      ]
     },
     "execution_count": 6,
     "metadata": {},
     "output_type": "execute_result"
    }
   ],
   "source": [
    "import pandas as pd\n",
    "import graphistry\n",
    "from graphistry import n, e_undirected, e_forward\n",
    "graphistry.__version__"
   ]
  },
  {
   "cell_type": "code",
   "execution_count": 23,
   "id": "e373cabf-85f4-470b-9aeb-ec5c54cf747d",
   "metadata": {
    "execution": {
     "iopub.execute_input": "2024-12-13T20:30:03.447464Z",
     "iopub.status.busy": "2024-12-13T20:30:03.447098Z",
     "iopub.status.idle": "2024-12-13T20:30:04.267042Z",
     "shell.execute_reply": "2024-12-13T20:30:04.266177Z",
     "shell.execute_reply.started": "2024-12-13T20:30:03.447436Z"
    }
   },
   "outputs": [],
   "source": [
    "graphistry.register(api=3, username='FILL_ME_IN', password='FILL_ME_IN', protocol='https', server='hub.graphistry.com')"
   ]
  },
  {
   "cell_type": "markdown",
   "id": "1c074342-f940-4b12-aa80-0ca0245fb026",
   "metadata": {},
   "source": [
    "### Data"
   ]
  },
  {
   "cell_type": "code",
   "execution_count": 8,
   "id": "dd360170-85f6-4d8e-8787-268315694a34",
   "metadata": {
    "execution": {
     "iopub.execute_input": "2024-12-13T20:28:11.158692Z",
     "iopub.status.busy": "2024-12-13T20:28:11.157916Z",
     "iopub.status.idle": "2024-12-13T20:28:11.163897Z",
     "shell.execute_reply": "2024-12-13T20:28:11.163175Z",
     "shell.execute_reply.started": "2024-12-13T20:28:11.158662Z"
    }
   },
   "outputs": [],
   "source": [
    "e_df = pd.DataFrame({\n",
    "    's': ['a', 'b', 'c'],\n",
    "    'd': ['b', 'c', 'd'],\n",
    "    'v': ['x', 'y', 'z'],\n",
    "    'u': [2, 4, 6]\n",
    "})\n",
    "\n",
    "g = graphistry.edges(e_df, 's', 'd')"
   ]
  },
  {
   "cell_type": "markdown",
   "id": "235ee643-6bb6-4eec-a0fc-fae739a6bf21",
   "metadata": {},
   "source": [
    "## Upload data\n",
    "\n",
    "We will upload the graph.\n",
    "\n",
    "See the GFQL remote mode tutorial for how to use `g2 = graphistry.bind(dataset_id=my_id)` for existing remote data."
   ]
  },
  {
   "cell_type": "code",
   "execution_count": 9,
   "id": "964868b3-bebe-4fab-8555-ac04fdaa9602",
   "metadata": {
    "execution": {
     "iopub.execute_input": "2024-12-13T20:28:13.528095Z",
     "iopub.status.busy": "2024-12-13T20:28:13.527734Z",
     "iopub.status.idle": "2024-12-13T20:28:15.563191Z",
     "shell.execute_reply": "2024-12-13T20:28:15.562283Z",
     "shell.execute_reply.started": "2024-12-13T20:28:13.528068Z"
    }
   },
   "outputs": [
    {
     "name": "stdout",
     "output_type": "stream",
     "text": [
      "CPU times: user 70.1 ms, sys: 1.24 ms, total: 71.3 ms\n",
      "Wall time: 2.03 s\n"
     ]
    },
    {
     "data": {
      "text/plain": [
       "{'dataset_id': '0a56aa27ec1e4112b1458e960dc6f674',\n",
       " 'nodes_file_id': None,\n",
       " 'edges_file_id': '271a00f639a748fcaaaf620437bcd0f2'}"
      ]
     },
     "execution_count": 9,
     "metadata": {},
     "output_type": "execute_result"
    }
   ],
   "source": [
    "%%time\n",
    "g2 = g.upload()\n",
    "\n",
    "{\n",
    "    'dataset_id': g2._dataset_id,\n",
    "    'nodes_file_id': g2._nodes_file_id,\n",
    "    'edges_file_id': g2._edges_file_id\n",
    "}"
   ]
  },
  {
   "cell_type": "markdown",
   "id": "6e491abe-7eaf-4ae4-9630-b19abc150947",
   "metadata": {},
   "source": [
    "## Remotely query the data\n",
    "\n",
    "Define your remote function as a top-level method `def task(g): ...`, or pass in a named method (`Callable`). If the passed-in `Callable` does not have name `task`, the Python client will try to rename it to `task` for you.\n",
    "\n",
    "The remote Python endpoint can return graphs, dataframes, and JSON objects in a way that plays nicely with Python type checking. Hint which by using the different calling forms:\n",
    "\n",
    "* `python_remote_g()`: For returning a `Plottable` (graph)\n",
    "\n",
    "* `python_remote_json()`: For returning JSON values\n",
    "\n",
    "* `python_remote_table()`: For returning a `pd.DataFrame` \n",
    "\n",
    "By default, the parquet data format is used for safely and efficiently transporting graphs and dataframes return types, and JSON format transport for JSON return types."
   ]
  },
  {
   "cell_type": "markdown",
   "id": "2cab65ac-2c7f-4c77-99aa-0e3c4ad0bd35",
   "metadata": {},
   "source": [
    "### Return a graph\n",
    "\n",
    "The below shows two aspects:\n",
    "\n",
    "* Code provided as a Python source string defining a top-level function `def task(g: Plottable) -> Plottable`\n",
    "* Remote invocation `python_remote_g()` that implies that `task()` will return a `Plottable` (graph )"
   ]
  },
  {
   "cell_type": "code",
   "execution_count": 10,
   "id": "6178ba55-adf5-4636-bfff-d31b80bf3f3d",
   "metadata": {
    "execution": {
     "iopub.execute_input": "2024-12-13T20:28:18.872942Z",
     "iopub.status.busy": "2024-12-13T20:28:18.872553Z",
     "iopub.status.idle": "2024-12-13T20:28:19.993958Z",
     "shell.execute_reply": "2024-12-13T20:28:19.993299Z",
     "shell.execute_reply.started": "2024-12-13T20:28:18.872914Z"
    }
   },
   "outputs": [
    {
     "data": {
      "text/html": [
       "<div>\n",
       "<style scoped>\n",
       "    .dataframe tbody tr th:only-of-type {\n",
       "        vertical-align: middle;\n",
       "    }\n",
       "\n",
       "    .dataframe tbody tr th {\n",
       "        vertical-align: top;\n",
       "    }\n",
       "\n",
       "    .dataframe thead th {\n",
       "        text-align: right;\n",
       "    }\n",
       "</style>\n",
       "<table border=\"1\" class=\"dataframe\">\n",
       "  <thead>\n",
       "    <tr style=\"text-align: right;\">\n",
       "      <th></th>\n",
       "      <th>s</th>\n",
       "      <th>d</th>\n",
       "      <th>v</th>\n",
       "      <th>u</th>\n",
       "    </tr>\n",
       "  </thead>\n",
       "  <tbody>\n",
       "    <tr>\n",
       "      <th>0</th>\n",
       "      <td>a</td>\n",
       "      <td>b</td>\n",
       "      <td>x</td>\n",
       "      <td>2</td>\n",
       "    </tr>\n",
       "    <tr>\n",
       "      <th>1</th>\n",
       "      <td>b</td>\n",
       "      <td>c</td>\n",
       "      <td>y</td>\n",
       "      <td>4</td>\n",
       "    </tr>\n",
       "    <tr>\n",
       "      <th>2</th>\n",
       "      <td>c</td>\n",
       "      <td>d</td>\n",
       "      <td>z</td>\n",
       "      <td>6</td>\n",
       "    </tr>\n",
       "  </tbody>\n",
       "</table>\n",
       "</div>"
      ],
      "text/plain": [
       "   s  d  v  u\n",
       "0  a  b  x  2\n",
       "1  b  c  y  4\n",
       "2  c  d  z  6"
      ]
     },
     "execution_count": 10,
     "metadata": {},
     "output_type": "execute_result"
    }
   ],
   "source": [
    "g3 = g2.python_remote_g(\"\"\"\n",
    "\n",
    "from graphistry import Plottable\n",
    "\n",
    "def task(g: Plottable) -> Plottable:\n",
    "  '''\n",
    "  Fill in the nodes table based on the edges table and return the combined\n",
    "  '''\n",
    "\n",
    "  return g.materialize_nodes()\n",
    "\n",
    "\"\"\")\n",
    "\n",
    "g3._edges"
   ]
  },
  {
   "cell_type": "code",
   "execution_count": 11,
   "id": "4651bcf1-ea7c-4a42-b107-54ff3030ecfb",
   "metadata": {
    "execution": {
     "iopub.execute_input": "2024-12-13T20:28:20.664522Z",
     "iopub.status.busy": "2024-12-13T20:28:20.664170Z",
     "iopub.status.idle": "2024-12-13T20:28:20.672439Z",
     "shell.execute_reply": "2024-12-13T20:28:20.671526Z",
     "shell.execute_reply.started": "2024-12-13T20:28:20.664495Z"
    }
   },
   "outputs": [
    {
     "data": {
      "text/html": [
       "<div>\n",
       "<style scoped>\n",
       "    .dataframe tbody tr th:only-of-type {\n",
       "        vertical-align: middle;\n",
       "    }\n",
       "\n",
       "    .dataframe tbody tr th {\n",
       "        vertical-align: top;\n",
       "    }\n",
       "\n",
       "    .dataframe thead th {\n",
       "        text-align: right;\n",
       "    }\n",
       "</style>\n",
       "<table border=\"1\" class=\"dataframe\">\n",
       "  <thead>\n",
       "    <tr style=\"text-align: right;\">\n",
       "      <th></th>\n",
       "      <th>id</th>\n",
       "    </tr>\n",
       "  </thead>\n",
       "  <tbody>\n",
       "    <tr>\n",
       "      <th>0</th>\n",
       "      <td>a</td>\n",
       "    </tr>\n",
       "    <tr>\n",
       "      <th>1</th>\n",
       "      <td>b</td>\n",
       "    </tr>\n",
       "    <tr>\n",
       "      <th>2</th>\n",
       "      <td>c</td>\n",
       "    </tr>\n",
       "    <tr>\n",
       "      <th>3</th>\n",
       "      <td>d</td>\n",
       "    </tr>\n",
       "  </tbody>\n",
       "</table>\n",
       "</div>"
      ],
      "text/plain": [
       "  id\n",
       "0  a\n",
       "1  b\n",
       "2  c\n",
       "3  d"
      ]
     },
     "execution_count": 11,
     "metadata": {},
     "output_type": "execute_result"
    }
   ],
   "source": [
    "g3._nodes"
   ]
  },
  {
   "cell_type": "markdown",
   "id": "ad5271c6-6072-485f-b387-f2367ed19d54",
   "metadata": {},
   "source": [
    "### Run a local Callable remotely\n",
    "\n",
    "You can also pass self-contained python functions for code that is easier to read and works with your developer and automation tools\n",
    "\n",
    "Note that only the source code is transferred to the server; there should be no associated local references"
   ]
  },
  {
   "cell_type": "code",
   "execution_count": 12,
   "id": "e398a92f-ac98-4cb6-a8da-e5e8c3c44e64",
   "metadata": {
    "execution": {
     "iopub.execute_input": "2024-12-13T20:28:21.240928Z",
     "iopub.status.busy": "2024-12-13T20:28:21.240353Z",
     "iopub.status.idle": "2024-12-13T20:28:23.761880Z",
     "shell.execute_reply": "2024-12-13T20:28:23.761248Z",
     "shell.execute_reply.started": "2024-12-13T20:28:21.240899Z"
    }
   },
   "outputs": [
    {
     "data": {
      "text/html": [
       "<div>\n",
       "<style scoped>\n",
       "    .dataframe tbody tr th:only-of-type {\n",
       "        vertical-align: middle;\n",
       "    }\n",
       "\n",
       "    .dataframe tbody tr th {\n",
       "        vertical-align: top;\n",
       "    }\n",
       "\n",
       "    .dataframe thead th {\n",
       "        text-align: right;\n",
       "    }\n",
       "</style>\n",
       "<table border=\"1\" class=\"dataframe\">\n",
       "  <thead>\n",
       "    <tr style=\"text-align: right;\">\n",
       "      <th></th>\n",
       "      <th>id</th>\n",
       "    </tr>\n",
       "  </thead>\n",
       "  <tbody>\n",
       "    <tr>\n",
       "      <th>0</th>\n",
       "      <td>a</td>\n",
       "    </tr>\n",
       "    <tr>\n",
       "      <th>1</th>\n",
       "      <td>b</td>\n",
       "    </tr>\n",
       "    <tr>\n",
       "      <th>2</th>\n",
       "      <td>c</td>\n",
       "    </tr>\n",
       "    <tr>\n",
       "      <th>3</th>\n",
       "      <td>d</td>\n",
       "    </tr>\n",
       "  </tbody>\n",
       "</table>\n",
       "</div>"
      ],
      "text/plain": [
       "  id\n",
       "0  a\n",
       "1  b\n",
       "2  c\n",
       "3  d"
      ]
     },
     "execution_count": 12,
     "metadata": {},
     "output_type": "execute_result"
    }
   ],
   "source": [
    "def materialize_nodes(g):\n",
    "    return g.materialize_nodes()\n",
    "\n",
    "g3b = g2.python_remote_g(materialize_nodes)\n",
    "\n",
    "g3b._nodes"
   ]
  },
  {
   "cell_type": "markdown",
   "id": "b1aa495c-d6f9-43a5-828c-c791b8b188ff",
   "metadata": {},
   "source": [
    "### Return a table\n",
    "\n",
    "For remotely calling functions that return dataframes, instead call `python_remote_table()`:"
   ]
  },
  {
   "cell_type": "code",
   "execution_count": 13,
   "id": "726e1b3e-1c64-40e9-8899-751278eb2f20",
   "metadata": {
    "execution": {
     "iopub.execute_input": "2024-12-13T20:28:25.017517Z",
     "iopub.status.busy": "2024-12-13T20:28:25.017149Z",
     "iopub.status.idle": "2024-12-13T20:28:26.003078Z",
     "shell.execute_reply": "2024-12-13T20:28:26.002314Z",
     "shell.execute_reply.started": "2024-12-13T20:28:25.017490Z"
    }
   },
   "outputs": [
    {
     "data": {
      "text/html": [
       "<div>\n",
       "<style scoped>\n",
       "    .dataframe tbody tr th:only-of-type {\n",
       "        vertical-align: middle;\n",
       "    }\n",
       "\n",
       "    .dataframe tbody tr th {\n",
       "        vertical-align: top;\n",
       "    }\n",
       "\n",
       "    .dataframe thead th {\n",
       "        text-align: right;\n",
       "    }\n",
       "</style>\n",
       "<table border=\"1\" class=\"dataframe\">\n",
       "  <thead>\n",
       "    <tr style=\"text-align: right;\">\n",
       "      <th></th>\n",
       "      <th>id</th>\n",
       "    </tr>\n",
       "  </thead>\n",
       "  <tbody>\n",
       "    <tr>\n",
       "      <th>0</th>\n",
       "      <td>a</td>\n",
       "    </tr>\n",
       "    <tr>\n",
       "      <th>1</th>\n",
       "      <td>b</td>\n",
       "    </tr>\n",
       "    <tr>\n",
       "      <th>2</th>\n",
       "      <td>c</td>\n",
       "    </tr>\n",
       "    <tr>\n",
       "      <th>3</th>\n",
       "      <td>d</td>\n",
       "    </tr>\n",
       "  </tbody>\n",
       "</table>\n",
       "</div>"
      ],
      "text/plain": [
       "  id\n",
       "0  a\n",
       "1  b\n",
       "2  c\n",
       "3  d"
      ]
     },
     "execution_count": 13,
     "metadata": {},
     "output_type": "execute_result"
    }
   ],
   "source": [
    "nodes_df = g2.python_remote_table(\"\"\"\n",
    "\n",
    "import pandas as pd\n",
    "from graphistry import Plottable\n",
    "\n",
    "def task(g: Plottable) -> pd.DataFrame:\n",
    "  '''\n",
    "  Fill in the nodes table based on the edges table and return it\n",
    "  '''\n",
    "\n",
    "  return g.materialize_nodes()._nodes\n",
    "\n",
    "\"\"\")\n",
    "\n",
    "nodes_df"
   ]
  },
  {
   "cell_type": "markdown",
   "id": "79bb01e2-4c0f-4ec8-adb3-66094ce97567",
   "metadata": {},
   "source": [
    "And as before, you can also pass in a self-contained Python function:"
   ]
  },
  {
   "cell_type": "code",
   "execution_count": 14,
   "id": "07260929-edd6-4368-b9dd-7d495a8a6184",
   "metadata": {
    "execution": {
     "iopub.execute_input": "2024-12-13T20:28:27.754936Z",
     "iopub.status.busy": "2024-12-13T20:28:27.754304Z",
     "iopub.status.idle": "2024-12-13T20:28:28.723173Z",
     "shell.execute_reply": "2024-12-13T20:28:28.722541Z",
     "shell.execute_reply.started": "2024-12-13T20:28:27.754906Z"
    }
   },
   "outputs": [
    {
     "data": {
      "text/html": [
       "<div>\n",
       "<style scoped>\n",
       "    .dataframe tbody tr th:only-of-type {\n",
       "        vertical-align: middle;\n",
       "    }\n",
       "\n",
       "    .dataframe tbody tr th {\n",
       "        vertical-align: top;\n",
       "    }\n",
       "\n",
       "    .dataframe thead th {\n",
       "        text-align: right;\n",
       "    }\n",
       "</style>\n",
       "<table border=\"1\" class=\"dataframe\">\n",
       "  <thead>\n",
       "    <tr style=\"text-align: right;\">\n",
       "      <th></th>\n",
       "      <th>id</th>\n",
       "    </tr>\n",
       "  </thead>\n",
       "  <tbody>\n",
       "    <tr>\n",
       "      <th>0</th>\n",
       "      <td>a</td>\n",
       "    </tr>\n",
       "    <tr>\n",
       "      <th>1</th>\n",
       "      <td>b</td>\n",
       "    </tr>\n",
       "    <tr>\n",
       "      <th>2</th>\n",
       "      <td>c</td>\n",
       "    </tr>\n",
       "    <tr>\n",
       "      <th>3</th>\n",
       "      <td>d</td>\n",
       "    </tr>\n",
       "  </tbody>\n",
       "</table>\n",
       "</div>"
      ],
      "text/plain": [
       "  id\n",
       "0  a\n",
       "1  b\n",
       "2  c\n",
       "3  d"
      ]
     },
     "execution_count": 14,
     "metadata": {},
     "output_type": "execute_result"
    }
   ],
   "source": [
    "def g_to_materialized_nodes(g):\n",
    "    return g.materialize_nodes()._nodes\n",
    "\n",
    "nodes_df = g2.python_remote_table(g_to_materialized_nodes)\n",
    "\n",
    "nodes_df"
   ]
  },
  {
   "cell_type": "markdown",
   "id": "1d79f61a-24c3-408a-a4f9-7c344f32c0b0",
   "metadata": {},
   "source": [
    "### Return arbitrary JSON\n",
    "\n",
    "The remote Python endpoint also supports returning arbitrary JSON-format data via `python_remote_json()`:"
   ]
  },
  {
   "cell_type": "code",
   "execution_count": 15,
   "id": "2a133721-2e22-4839-925b-415711bab303",
   "metadata": {
    "execution": {
     "iopub.execute_input": "2024-12-13T20:28:28.724172Z",
     "iopub.status.busy": "2024-12-13T20:28:28.724037Z",
     "iopub.status.idle": "2024-12-13T20:28:29.725565Z",
     "shell.execute_reply": "2024-12-13T20:28:29.724551Z",
     "shell.execute_reply.started": "2024-12-13T20:28:28.724159Z"
    }
   },
   "outputs": [
    {
     "data": {
      "text/plain": [
       "(4, 3)"
      ]
     },
     "execution_count": 15,
     "metadata": {},
     "output_type": "execute_result"
    }
   ],
   "source": [
    "shape = g2.python_remote_json(\"\"\"\n",
    "\n",
    "from typing import Dict\n",
    "from graphistry import Plottable\n",
    "\n",
    "def task(g: Plottable) -> Dict[str, int]:\n",
    "  '''\n",
    "  Fill in the nodes table based on the edges table and return it\n",
    "  '''\n",
    "\n",
    "  return {'num_edges': len(g._edges), 'num_nodes': len(g.materialize_nodes()._nodes)}\n",
    "\"\"\")\n",
    "\n",
    "shape['num_nodes'], shape['num_edges']"
   ]
  },
  {
   "cell_type": "markdown",
   "id": "19bc0a7f-ea7b-4568-93ce-a45243be34be",
   "metadata": {},
   "source": [
    "And by passing in a self-contained Python function:"
   ]
  },
  {
   "cell_type": "code",
   "execution_count": 16,
   "id": "7d4a82e7-d4bc-4edc-b71a-9ac2eefa86fb",
   "metadata": {
    "execution": {
     "iopub.execute_input": "2024-12-13T20:28:35.788185Z",
     "iopub.status.busy": "2024-12-13T20:28:35.787552Z",
     "iopub.status.idle": "2024-12-13T20:28:36.758355Z",
     "shell.execute_reply": "2024-12-13T20:28:36.757417Z",
     "shell.execute_reply.started": "2024-12-13T20:28:35.788155Z"
    }
   },
   "outputs": [
    {
     "data": {
      "text/plain": [
       "{'num_edges': 3, 'num_nodes': 4}"
      ]
     },
     "execution_count": 16,
     "metadata": {},
     "output_type": "execute_result"
    }
   ],
   "source": [
    "def g_to_shape(g):\n",
    "  \"\"\"\n",
    "  Fill in the nodes table based on the edges table and return it\n",
    "  \"\"\"\n",
    "\n",
    "  return {'num_edges': len(g._edges), 'num_nodes': len(g.materialize_nodes()._nodes)}\n",
    "\n",
    "\n",
    "g2.python_remote_json(g_to_shape)"
   ]
  },
  {
   "cell_type": "markdown",
   "id": "b295cc73-2d0a-49bd-bee9-6385d0280862",
   "metadata": {},
   "source": [
    "### Enforce GPU mode\n",
    "\n",
    "Override `engine=\"cudf\"` for GPU mode and `engine=\"pandas\"` for CPU mode:"
   ]
  },
  {
   "cell_type": "code",
   "execution_count": 20,
   "id": "5c2fe5d2-af95-454c-923c-865454e39ca0",
   "metadata": {
    "execution": {
     "iopub.execute_input": "2024-12-13T20:29:19.778216Z",
     "iopub.status.busy": "2024-12-13T20:29:19.777464Z",
     "iopub.status.idle": "2024-12-13T20:29:20.728529Z",
     "shell.execute_reply": "2024-12-13T20:29:20.727601Z",
     "shell.execute_reply.started": "2024-12-13T20:29:19.778196Z"
    }
   },
   "outputs": [
    {
     "data": {
      "text/plain": [
       "{'edges': \"<class 'cudf.core.dataframe.DataFrame'>\",\n",
       " 'nodes': \"<class 'cudf.core.dataframe.DataFrame'>\"}"
      ]
     },
     "execution_count": 20,
     "metadata": {},
     "output_type": "execute_result"
    }
   ],
   "source": [
    "def report_types(g):\n",
    "    return {\n",
    "        'edges': str(type(g._edges)),\n",
    "        'nodes': str(type(g.materialize_nodes()._nodes))\n",
    "    }\n",
    "\n",
    "g2.python_remote_json(report_types)"
   ]
  },
  {
   "cell_type": "code",
   "execution_count": 21,
   "id": "8d37c766-de56-415b-95c9-b66e8f6bdefb",
   "metadata": {
    "execution": {
     "iopub.execute_input": "2024-12-13T20:29:24.130251Z",
     "iopub.status.busy": "2024-12-13T20:29:24.129947Z",
     "iopub.status.idle": "2024-12-13T20:29:25.090585Z",
     "shell.execute_reply": "2024-12-13T20:29:25.089837Z",
     "shell.execute_reply.started": "2024-12-13T20:29:24.130235Z"
    }
   },
   "outputs": [
    {
     "data": {
      "text/plain": [
       "{'edges': \"<class 'pandas.core.frame.DataFrame'>\",\n",
       " 'nodes': \"<class 'pandas.core.frame.DataFrame'>\"}"
      ]
     },
     "execution_count": 21,
     "metadata": {},
     "output_type": "execute_result"
    }
   ],
   "source": [
    "def report_types(g):\n",
    "    return {\n",
    "        'edges': str(type(g._edges)),\n",
    "        'nodes': str(type(g.materialize_nodes()._nodes))\n",
    "    }\n",
    "\n",
    "g2.python_remote_json(report_types, engine='pandas')"
   ]
  },
  {
   "cell_type": "code",
   "execution_count": 22,
   "id": "f453f0f8-0c26-4729-982f-c56e8e42c82a",
   "metadata": {
    "execution": {
     "iopub.execute_input": "2024-12-13T20:29:27.858937Z",
     "iopub.status.busy": "2024-12-13T20:29:27.858574Z",
     "iopub.status.idle": "2024-12-13T20:29:28.879929Z",
     "shell.execute_reply": "2024-12-13T20:29:28.879269Z",
     "shell.execute_reply.started": "2024-12-13T20:29:27.858910Z"
    }
   },
   "outputs": [
    {
     "data": {
      "text/plain": [
       "{'edges': \"<class 'cudf.core.dataframe.DataFrame'>\",\n",
       " 'nodes': \"<class 'cudf.core.dataframe.DataFrame'>\"}"
      ]
     },
     "execution_count": 22,
     "metadata": {},
     "output_type": "execute_result"
    }
   ],
   "source": [
    "def report_types(g):\n",
    "    return {\n",
    "        'edges': str(type(g._edges)),\n",
    "        'nodes': str(type(g.materialize_nodes()._nodes))\n",
    "    }\n",
    "\n",
    "g2.python_remote_json(report_types, engine='cudf')"
   ]
  },
  {
   "cell_type": "code",
   "execution_count": null,
   "id": "4c892cba-56c6-460c-b679-b4fa0b31b841",
   "metadata": {},
   "outputs": [],
   "source": []
  },
  {
   "cell_type": "code",
   "execution_count": null,
   "id": "3b73897d-9610-4cf9-a84e-35fe641c5a42",
   "metadata": {},
   "outputs": [],
   "source": []
  }
 ],
 "metadata": {
  "kernelspec": {
   "display_name": "Python 3.8 (RAPIDS)",
   "language": "python",
   "name": "rapids"
  },
  "language_info": {
   "codemirror_mode": {
    "name": "ipython",
    "version": 3
   },
   "file_extension": ".py",
   "mimetype": "text/x-python",
   "name": "python",
   "nbconvert_exporter": "python",
   "pygments_lexer": "ipython3",
   "version": "3.10.12"
  }
 },
 "nbformat": 4,
 "nbformat_minor": 5
}
