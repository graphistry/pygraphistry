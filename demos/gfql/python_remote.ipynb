{
 "cells": [
  {
   "cell_type": "markdown",
   "id": "9a1318ab-f70a-43eb-ba1d-7360a8c03005",
   "metadata": {},
   "source": [
    "# Tutorial: GPU Python remote mode\n",
    "\n",
    "Running GPU Python on remote servers helps with scenarios like large workloads benefiting from GPU acceleration depite no local GPU, when the data is already on a remote Graphistry server, and other team and production setting needs.\n",
    "\n",
    "The following examples walk through several common scenarios:\n",
    "\n",
    "* Uploading data and running Python remotely on it\n",
    "* Binding to existing remote data and running Python remotely on it\n",
    "* Control how much data is returned\n",
    "* Control CPU vs GPU execution\n",
    "\n",
    "See also the sibling tutorial for running pure GFQL queries remotely for typical scenarios. When viable, we recommend sticking to GFQL for safety, clarity, and performance reasons."
   ]
  },
  {
   "cell_type": "markdown",
   "id": "e320936b-296f-4828-8238-b3ff169b7a33",
   "metadata": {},
   "source": [
    "## Setup\n",
    "\n",
    "Note: Ensure the remote Python endpoint is enabled on the server, and [the user is flagged for using it](https://hub.graphistry.com/docs/Python/python-api/)\n",
    "\n",
    "### Imports"
   ]
  },
  {
   "cell_type": "code",
   "execution_count": 1,
   "id": "a6ce5887-106e-49b9-a33c-1d9c05dc270c",
   "metadata": {
    "execution": {
     "iopub.execute_input": "2024-12-09T02:51:29.624611Z",
     "iopub.status.busy": "2024-12-09T02:51:29.624405Z",
     "iopub.status.idle": "2024-12-09T02:51:33.949150Z",
     "shell.execute_reply": "2024-12-09T02:51:33.948557Z",
     "shell.execute_reply.started": "2024-12-09T02:51:29.624594Z"
    }
   },
   "outputs": [
    {
     "data": {
      "text/plain": [
       "'0+unknown'"
      ]
     },
     "execution_count": 1,
     "metadata": {},
     "output_type": "execute_result"
    }
   ],
   "source": [
    "import pandas as pd\n",
    "import graphistry\n",
    "from graphistry import n, e_undirected, e_forward\n",
    "graphistry.__version__"
   ]
  },
  {
   "cell_type": "code",
   "execution_count": 2,
   "id": "e373cabf-85f4-470b-9aeb-ec5c54cf747d",
   "metadata": {
    "execution": {
     "iopub.execute_input": "2024-12-09T02:51:33.950937Z",
     "iopub.status.busy": "2024-12-09T02:51:33.950617Z",
     "iopub.status.idle": "2024-12-09T02:51:34.450614Z",
     "shell.execute_reply": "2024-12-09T02:51:34.450096Z",
     "shell.execute_reply.started": "2024-12-09T02:51:33.950923Z"
    }
   },
   "outputs": [],
   "source": [
    "graphistry.register(api=3, username='FILL_ME_IN', password='FILL_ME_IN', protocol='https', server='hub.graphistry.com')"
   ]
  },
  {
   "cell_type": "markdown",
   "id": "1c074342-f940-4b12-aa80-0ca0245fb026",
   "metadata": {},
   "source": [
    "### Data"
   ]
  },
  {
   "cell_type": "code",
   "execution_count": 3,
   "id": "dd360170-85f6-4d8e-8787-268315694a34",
   "metadata": {
    "execution": {
     "iopub.execute_input": "2024-12-09T02:51:34.451877Z",
     "iopub.status.busy": "2024-12-09T02:51:34.451676Z",
     "iopub.status.idle": "2024-12-09T02:51:34.455639Z",
     "shell.execute_reply": "2024-12-09T02:51:34.455159Z",
     "shell.execute_reply.started": "2024-12-09T02:51:34.451860Z"
    }
   },
   "outputs": [],
   "source": [
    "e_df = pd.DataFrame({\n",
    "    's': ['a', 'b', 'c'],\n",
    "    'd': ['b', 'c', 'd'],\n",
    "    'v': ['x', 'y', 'z'],\n",
    "    'u': [2, 4, 6]\n",
    "})\n",
    "\n",
    "g = graphistry.edges(e_df, 's', 'd')"
   ]
  },
  {
   "cell_type": "markdown",
   "id": "235ee643-6bb6-4eec-a0fc-fae739a6bf21",
   "metadata": {},
   "source": [
    "## Upload data\n",
    "\n",
    "We will upload the graph.\n",
    "\n",
    "See the GFQL remote mode tutorial for how to use `g2 = graphistry.bind(dataset_id=my_id)` for existing remote data."
   ]
  },
  {
   "cell_type": "code",
   "execution_count": 4,
   "id": "964868b3-bebe-4fab-8555-ac04fdaa9602",
   "metadata": {
    "execution": {
     "iopub.execute_input": "2024-12-09T02:51:34.456446Z",
     "iopub.status.busy": "2024-12-09T02:51:34.456253Z",
     "iopub.status.idle": "2024-12-09T02:51:36.033111Z",
     "shell.execute_reply": "2024-12-09T02:51:36.032608Z",
     "shell.execute_reply.started": "2024-12-09T02:51:34.456431Z"
    }
   },
   "outputs": [
    {
     "name": "stdout",
     "output_type": "stream",
     "text": [
      "CPU times: user 110 ms, sys: 17.2 ms, total: 128 ms\n",
      "Wall time: 1.56 s\n"
     ]
    },
    {
     "data": {
      "text/plain": [
       "{'dataset_id': '4aaee6b4aa3a42f9854eb39f90495ddf',\n",
       " 'nodes_file_id': None,\n",
       " 'edges_file_id': 'aade33f49d2a44a5a91504ee447f8c0e'}"
      ]
     },
     "execution_count": 4,
     "metadata": {},
     "output_type": "execute_result"
    }
   ],
   "source": [
    "%%time\n",
    "g2 = g.upload()\n",
    "\n",
    "{\n",
    "    'dataset_id': g2._dataset_id,\n",
    "    'nodes_file_id': g2._nodes_file_id,\n",
    "    'edges_file_id': g2._edges_file_id\n",
    "}"
   ]
  },
  {
   "cell_type": "markdown",
   "id": "6e491abe-7eaf-4ae4-9630-b19abc150947",
   "metadata": {},
   "source": [
    "## Remotely query the data"
   ]
  },
  {
   "cell_type": "code",
   "execution_count": 14,
   "id": "6178ba55-adf5-4636-bfff-d31b80bf3f3d",
   "metadata": {
    "execution": {
     "iopub.execute_input": "2024-12-09T03:13:10.202129Z",
     "iopub.status.busy": "2024-12-09T03:13:10.201853Z",
     "iopub.status.idle": "2024-12-09T03:13:10.689577Z",
     "shell.execute_reply": "2024-12-09T03:13:10.688914Z",
     "shell.execute_reply.started": "2024-12-09T03:13:10.202110Z"
    }
   },
   "outputs": [
    {
     "ename": "HTTPError",
     "evalue": "401 Client Error: Unauthorized for url: https://hub.graphistry.com/api/v2/datasets/4aaee6b4aa3a42f9854eb39f90495ddf/python",
     "output_type": "error",
     "traceback": [
      "\u001b[0;31m---------------------------------------------------------------------------\u001b[0m",
      "\u001b[0;31mHTTPError\u001b[0m                                 Traceback (most recent call last)",
      "Cell \u001b[0;32mIn[14], line 1\u001b[0m\n\u001b[0;32m----> 1\u001b[0m \u001b[43mg2\u001b[49m\u001b[38;5;241;43m.\u001b[39;49m\u001b[43mpython_remote\u001b[49m\u001b[43m(\u001b[49m\u001b[38;5;124;43m\"\"\"\u001b[39;49m\n\u001b[1;32m      2\u001b[0m \n\u001b[1;32m      3\u001b[0m \u001b[38;5;124;43mdef task(g):\u001b[39;49m\n\u001b[1;32m      4\u001b[0m \u001b[38;5;124;43m  return 1\u001b[39;49m\n\u001b[1;32m      5\u001b[0m \n\u001b[1;32m      6\u001b[0m \u001b[38;5;124;43m\"\"\"\u001b[39;49m\u001b[43m)\u001b[49m\n",
      "File \u001b[0;32m/home/jovyan/pygraphistry/graphistry/compute/ComputeMixin.py:476\u001b[0m, in \u001b[0;36mComputeMixin.python_remote\u001b[0;34m(self, *args, **kwargs)\u001b[0m\n\u001b[1;32m    475\u001b[0m \u001b[38;5;28;01mdef\u001b[39;00m \u001b[38;5;21mpython_remote\u001b[39m(\u001b[38;5;28mself\u001b[39m, \u001b[38;5;241m*\u001b[39margs, \u001b[38;5;241m*\u001b[39m\u001b[38;5;241m*\u001b[39mkwargs) \u001b[38;5;241m-\u001b[39m\u001b[38;5;241m>\u001b[39m Any:\n\u001b[0;32m--> 476\u001b[0m     \u001b[38;5;28;01mreturn\u001b[39;00m \u001b[43mpython_remote_base\u001b[49m\u001b[43m(\u001b[49m\u001b[38;5;28;43mself\u001b[39;49m\u001b[43m,\u001b[49m\u001b[43m \u001b[49m\u001b[38;5;241;43m*\u001b[39;49m\u001b[43margs\u001b[49m\u001b[43m,\u001b[49m\u001b[43m \u001b[49m\u001b[38;5;241;43m*\u001b[39;49m\u001b[38;5;241;43m*\u001b[39;49m\u001b[43mkwargs\u001b[49m\u001b[43m)\u001b[49m\n",
      "File \u001b[0;32m/home/jovyan/pygraphistry/graphistry/compute/python_remote.py:100\u001b[0m, in \u001b[0;36mpython_remote\u001b[0;34m(self, code, api_token, dataset_id, engine, validate)\u001b[0m\n\u001b[1;32m     93\u001b[0m headers \u001b[38;5;241m=\u001b[39m {\n\u001b[1;32m     94\u001b[0m     \u001b[38;5;124m\"\u001b[39m\u001b[38;5;124mAuthorization\u001b[39m\u001b[38;5;124m\"\u001b[39m: \u001b[38;5;124mf\u001b[39m\u001b[38;5;124m\"\u001b[39m\u001b[38;5;124mBearer \u001b[39m\u001b[38;5;132;01m{\u001b[39;00mapi_token\u001b[38;5;132;01m}\u001b[39;00m\u001b[38;5;124m\"\u001b[39m,\n\u001b[1;32m     95\u001b[0m     \u001b[38;5;124m\"\u001b[39m\u001b[38;5;124mContent-Type\u001b[39m\u001b[38;5;124m\"\u001b[39m: \u001b[38;5;124m\"\u001b[39m\u001b[38;5;124mapplication/json\u001b[39m\u001b[38;5;124m\"\u001b[39m,\n\u001b[1;32m     96\u001b[0m }\n\u001b[1;32m     98\u001b[0m response \u001b[38;5;241m=\u001b[39m requests\u001b[38;5;241m.\u001b[39mpost(url, headers\u001b[38;5;241m=\u001b[39mheaders, json\u001b[38;5;241m=\u001b[39mrequest_body)\n\u001b[0;32m--> 100\u001b[0m \u001b[43mresponse\u001b[49m\u001b[38;5;241;43m.\u001b[39;49m\u001b[43mraise_for_status\u001b[49m\u001b[43m(\u001b[49m\u001b[43m)\u001b[49m\n\u001b[1;32m    102\u001b[0m \u001b[38;5;28;01mreturn\u001b[39;00m response\u001b[38;5;241m.\u001b[39mjson()\n",
      "File \u001b[0;32m/opt/conda/lib/python3.10/site-packages/requests/models.py:1021\u001b[0m, in \u001b[0;36mResponse.raise_for_status\u001b[0;34m(self)\u001b[0m\n\u001b[1;32m   1016\u001b[0m     http_error_msg \u001b[38;5;241m=\u001b[39m (\n\u001b[1;32m   1017\u001b[0m         \u001b[38;5;124mf\u001b[39m\u001b[38;5;124m\"\u001b[39m\u001b[38;5;132;01m{\u001b[39;00m\u001b[38;5;28mself\u001b[39m\u001b[38;5;241m.\u001b[39mstatus_code\u001b[38;5;132;01m}\u001b[39;00m\u001b[38;5;124m Server Error: \u001b[39m\u001b[38;5;132;01m{\u001b[39;00mreason\u001b[38;5;132;01m}\u001b[39;00m\u001b[38;5;124m for url: \u001b[39m\u001b[38;5;132;01m{\u001b[39;00m\u001b[38;5;28mself\u001b[39m\u001b[38;5;241m.\u001b[39murl\u001b[38;5;132;01m}\u001b[39;00m\u001b[38;5;124m\"\u001b[39m\n\u001b[1;32m   1018\u001b[0m     )\n\u001b[1;32m   1020\u001b[0m \u001b[38;5;28;01mif\u001b[39;00m http_error_msg:\n\u001b[0;32m-> 1021\u001b[0m     \u001b[38;5;28;01mraise\u001b[39;00m HTTPError(http_error_msg, response\u001b[38;5;241m=\u001b[39m\u001b[38;5;28mself\u001b[39m)\n",
      "\u001b[0;31mHTTPError\u001b[0m: 401 Client Error: Unauthorized for url: https://hub.graphistry.com/api/v2/datasets/4aaee6b4aa3a42f9854eb39f90495ddf/python"
     ]
    }
   ],
   "source": [
    "g2.python_remote(\"\"\"\n",
    "\n",
    "def task(g):\n",
    "  return 1\n",
    "\n",
    "\"\"\")"
   ]
  },
  {
   "cell_type": "code",
   "execution_count": null,
   "id": "5e5ea62b-d2b4-430c-b70b-00299c81dbac",
   "metadata": {},
   "outputs": [],
   "source": []
  }
 ],
 "metadata": {
  "kernelspec": {
   "display_name": "Python 3.8 (RAPIDS)",
   "language": "python",
   "name": "rapids"
  },
  "language_info": {
   "codemirror_mode": {
    "name": "ipython",
    "version": 3
   },
   "file_extension": ".py",
   "mimetype": "text/x-python",
   "name": "python",
   "nbconvert_exporter": "python",
   "pygments_lexer": "ipython3",
   "version": "3.10.12"
  }
 },
 "nbformat": 4,
 "nbformat_minor": 5
}
