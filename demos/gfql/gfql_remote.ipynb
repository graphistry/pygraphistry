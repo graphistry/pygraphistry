{
 "cells": [
  {
   "cell_type": "markdown",
   "id": "fbc1426f-3b76-4a35-8b21-a16be67a77e9",
   "metadata": {},
   "source": [
    "# Tutorial: GFQL remote mode\n",
    "\n",
    "Running GFQL on remote servers helps with scenarios like large workloads benefiting from GPU acceleration depite no local GPU, when the data is already on a remote Graphistry server, and other team and production setting needs.\n",
    "\n",
    "The following examples walk through several common scenarios:\n",
    "\n",
    "* Uploading data and running GFQL remotely on it\n",
    "* Binding to existing remote data and running GFQL remotely on it\n",
    "* Control how much data is returned and in what format\n",
    "* Control CPU vs GPU execution\n",
    "\n",
    "See also the sibling tutorial for running arbitrary GPU Python remotely for even more powerful scenarios."
   ]
  },
  {
   "cell_type": "markdown",
   "id": "13117bd0-ff72-483e-974b-48cf039100ca",
   "metadata": {},
   "source": [
    "## Setup\n",
    "\n",
    "Note: Ensure [the GFQL endpoint is enabled](https://hub.graphistry.com/docs/GFQL/gfql-api/) for the API user\n",
    "\n",
    "### Imports"
   ]
  },
  {
   "cell_type": "code",
   "execution_count": 1,
   "id": "c9227361-7af6-4f52-b84e-3d7fd2f0f5b3",
   "metadata": {
    "execution": {
     "iopub.execute_input": "2024-12-10T19:12:01.693258Z",
     "iopub.status.busy": "2024-12-10T19:12:01.692736Z",
     "iopub.status.idle": "2024-12-10T19:12:07.316330Z",
     "shell.execute_reply": "2024-12-10T19:12:07.315727Z",
     "shell.execute_reply.started": "2024-12-10T19:12:01.693232Z"
    }
   },
   "outputs": [
    {
     "data": {
      "text/plain": [
       "'0+unknown'"
      ]
     },
     "execution_count": 1,
     "metadata": {},
     "output_type": "execute_result"
    }
   ],
   "source": [
    "import pandas as pd\n",
    "import graphistry\n",
    "from graphistry import n, e_undirected, e_forward\n",
    "graphistry.__version__"
   ]
  },
  {
   "cell_type": "code",
   "execution_count": 2,
   "id": "f9ec333b-c1b2-450a-bf56-fd3a9febea21",
   "metadata": {
    "execution": {
     "iopub.execute_input": "2024-12-10T19:12:07.317694Z",
     "iopub.status.busy": "2024-12-10T19:12:07.317170Z",
     "iopub.status.idle": "2024-12-10T19:12:07.792645Z",
     "shell.execute_reply": "2024-12-10T19:12:07.791605Z",
     "shell.execute_reply.started": "2024-12-10T19:12:07.317678Z"
    }
   },
   "outputs": [],
   "source": [
    "graphistry.register(api=3, username='FILL_ME_IN', password='FILL_ME_IN', protocol='https', server='hub.graphistry.com')"
   ]
  },
  {
   "cell_type": "markdown",
   "id": "2ab59978-59a3-46b5-9129-d634b93d6be0",
   "metadata": {},
   "source": [
    "### Data\n",
    "\n",
    "Create an edge table. For simplicity, we will leave the nodes table implicit:"
   ]
  },
  {
   "cell_type": "code",
   "execution_count": 3,
   "id": "4f5cc288-0a0b-42c3-9967-74e97cccbd76",
   "metadata": {
    "execution": {
     "iopub.execute_input": "2024-12-10T19:12:23.691920Z",
     "iopub.status.busy": "2024-12-10T19:12:23.691303Z",
     "iopub.status.idle": "2024-12-10T19:12:23.705521Z",
     "shell.execute_reply": "2024-12-10T19:12:23.704872Z",
     "shell.execute_reply.started": "2024-12-10T19:12:23.691889Z"
    }
   },
   "outputs": [],
   "source": [
    "e_df = pd.DataFrame({\n",
    "    's': ['a', 'b', 'c'],\n",
    "    'd': ['b', 'c', 'd'],\n",
    "    'v': ['x', 'y', 'z'],\n",
    "    'u': [2, 4, 6]\n",
    "})\n",
    "\n",
    "g = graphistry.edges(e_df, 's', 'd')"
   ]
  },
  {
   "cell_type": "markdown",
   "id": "5fd1c696-8fcf-4d03-958a-9747d61f1286",
   "metadata": {},
   "source": [
    "## Upload data\n",
    "\n",
    "Uploaded datasets have a nodes File, edges File, and combined graph Dataset. You can inspect these on your `Plottable` objects.\n",
    "\n",
    "Remote-mode GFQL calls will automatically upload your graph if not already sent. If a table has already been recently in the session, the PyGraphistry client is smart enough to detect this and reuse the File ID handle instead of reuploading the data. However, in application code, we recommend explicitly uploading in your code flow to enable easier reuse and more predictable code flow."
   ]
  },
  {
   "cell_type": "code",
   "execution_count": 4,
   "id": "5a4bc534-cca6-44e7-886f-4c0c3e2c809e",
   "metadata": {
    "execution": {
     "iopub.execute_input": "2024-12-10T19:12:37.999602Z",
     "iopub.status.busy": "2024-12-10T19:12:37.998201Z",
     "iopub.status.idle": "2024-12-10T19:12:39.473540Z",
     "shell.execute_reply": "2024-12-10T19:12:39.473013Z",
     "shell.execute_reply.started": "2024-12-10T19:12:37.999546Z"
    }
   },
   "outputs": [
    {
     "name": "stdout",
     "output_type": "stream",
     "text": [
      "CPU times: user 84.2 ms, sys: 13.2 ms, total: 97.4 ms\n",
      "Wall time: 1.47 s\n"
     ]
    },
    {
     "data": {
      "text/plain": [
       "{'dataset_id': '3a479d960595447e9e4f1b83ace969ed',\n",
       " 'nodes_file_id': None,\n",
       " 'edges_file_id': 'cd5bf7c37f1b4ced85a4d23b6f841be6'}"
      ]
     },
     "execution_count": 4,
     "metadata": {},
     "output_type": "execute_result"
    }
   ],
   "source": [
    "%%time\n",
    "g2 = g.upload()\n",
    "\n",
    "{\n",
    "    'dataset_id': g2._dataset_id,\n",
    "    'nodes_file_id': g2._nodes_file_id,\n",
    "    'edges_file_id': g2._edges_file_id\n",
    "}"
   ]
  },
  {
   "cell_type": "markdown",
   "id": "f7eb19b4-81d1-496b-a307-7d75e7a48d47",
   "metadata": {},
   "source": [
    "The edge table does not need to get re-uploaded"
   ]
  },
  {
   "cell_type": "code",
   "execution_count": 5,
   "id": "a5537727-bdd9-484d-9a51-1f3ebc58d0ee",
   "metadata": {
    "execution": {
     "iopub.execute_input": "2024-12-10T19:13:29.218957Z",
     "iopub.status.busy": "2024-12-10T19:13:29.218713Z",
     "iopub.status.idle": "2024-12-10T19:13:29.831698Z",
     "shell.execute_reply": "2024-12-10T19:13:29.831202Z",
     "shell.execute_reply.started": "2024-12-10T19:13:29.218939Z"
    }
   },
   "outputs": [
    {
     "name": "stdout",
     "output_type": "stream",
     "text": [
      "CPU times: user 45 ms, sys: 1.61 ms, total: 46.6 ms\n",
      "Wall time: 605 ms\n"
     ]
    },
    {
     "data": {
      "text/plain": [
       "{'dataset_id': '3a479d960595447e9e4f1b83ace969ed',\n",
       " 'nodes_file_id': None,\n",
       " 'edges_file_id': 'cd5bf7c37f1b4ced85a4d23b6f841be6'}"
      ]
     },
     "execution_count": 5,
     "metadata": {},
     "output_type": "execute_result"
    }
   ],
   "source": [
    "%%time\n",
    "\n",
    "# Much faster as g._edges is not re-uploaded, and instead g2._edges_file_id is reused\n",
    "g2b = g.upload()\n",
    "\n",
    "assert g2b._dataset_id != g2._dataset_id, \"Each upload is a new Dataset object\"\n",
    "assert g2b._edges_file_id == g2._edges_file_id, \"Dataframe files get automatically reused\" \n",
    "\n",
    "{\n",
    "    'dataset_id': g2._dataset_id,\n",
    "    'nodes_file_id': g2._nodes_file_id,\n",
    "    'edges_file_id': g2._edges_file_id\n",
    "}"
   ]
  },
  {
   "cell_type": "markdown",
   "id": "c054b6ea-5afa-4a6d-844c-93f7b095164b",
   "metadata": {},
   "source": [
    "## Query remote data\n",
    "\n",
    "Regular chain calls can be called in remote mode, and return back the resulting graph"
   ]
  },
  {
   "cell_type": "code",
   "execution_count": 6,
   "id": "4bc63046-8481-4117-9904-34e61b233b66",
   "metadata": {
    "execution": {
     "iopub.execute_input": "2024-12-10T19:13:47.470490Z",
     "iopub.status.busy": "2024-12-10T19:13:47.469764Z",
     "iopub.status.idle": "2024-12-10T19:13:47.475799Z",
     "shell.execute_reply": "2024-12-10T19:13:47.475147Z",
     "shell.execute_reply.started": "2024-12-10T19:13:47.470437Z"
    }
   },
   "outputs": [],
   "source": [
    "two_hop_query = [\n",
    "    n({'id': 'a'}),\n",
    "    e_forward(hops=2),\n",
    "    n()\n",
    "]"
   ]
  },
  {
   "cell_type": "code",
   "execution_count": 7,
   "id": "b683976f-5323-44cc-870d-584b747ff9f9",
   "metadata": {
    "execution": {
     "iopub.execute_input": "2024-12-10T19:13:51.947735Z",
     "iopub.status.busy": "2024-12-10T19:13:51.947088Z",
     "iopub.status.idle": "2024-12-10T19:13:52.565777Z",
     "shell.execute_reply": "2024-12-10T19:13:52.565264Z",
     "shell.execute_reply.started": "2024-12-10T19:13:51.947688Z"
    }
   },
   "outputs": [
    {
     "name": "stdout",
     "output_type": "stream",
     "text": [
      "CPU times: user 37.9 ms, sys: 9.9 ms, total: 47.8 ms\n",
      "Wall time: 613 ms\n"
     ]
    }
   ],
   "source": [
    "%%time\n",
    "\n",
    "two_hop_g = g2.chain_remote(two_hop_query)"
   ]
  },
  {
   "cell_type": "code",
   "execution_count": 8,
   "id": "7e65a0a3-fe43-4704-be35-20e620d3d5eb",
   "metadata": {
    "execution": {
     "iopub.execute_input": "2024-12-10T19:13:59.718422Z",
     "iopub.status.busy": "2024-12-10T19:13:59.717820Z",
     "iopub.status.idle": "2024-12-10T19:13:59.741816Z",
     "shell.execute_reply": "2024-12-10T19:13:59.741259Z",
     "shell.execute_reply.started": "2024-12-10T19:13:59.718370Z"
    }
   },
   "outputs": [
    {
     "data": {
      "text/html": [
       "<div>\n",
       "<style scoped>\n",
       "    .dataframe tbody tr th:only-of-type {\n",
       "        vertical-align: middle;\n",
       "    }\n",
       "\n",
       "    .dataframe tbody tr th {\n",
       "        vertical-align: top;\n",
       "    }\n",
       "\n",
       "    .dataframe thead th {\n",
       "        text-align: right;\n",
       "    }\n",
       "</style>\n",
       "<table border=\"1\" class=\"dataframe\">\n",
       "  <thead>\n",
       "    <tr style=\"text-align: right;\">\n",
       "      <th></th>\n",
       "      <th>s</th>\n",
       "      <th>d</th>\n",
       "      <th>v</th>\n",
       "      <th>u</th>\n",
       "    </tr>\n",
       "  </thead>\n",
       "  <tbody>\n",
       "    <tr>\n",
       "      <th>0</th>\n",
       "      <td>a</td>\n",
       "      <td>b</td>\n",
       "      <td>x</td>\n",
       "      <td>2</td>\n",
       "    </tr>\n",
       "    <tr>\n",
       "      <th>1</th>\n",
       "      <td>b</td>\n",
       "      <td>c</td>\n",
       "      <td>y</td>\n",
       "      <td>4</td>\n",
       "    </tr>\n",
       "  </tbody>\n",
       "</table>\n",
       "</div>"
      ],
      "text/plain": [
       "   s  d  v  u\n",
       "0  a  b  x  2\n",
       "1  b  c  y  4"
      ]
     },
     "execution_count": 8,
     "metadata": {},
     "output_type": "execute_result"
    }
   ],
   "source": [
    "two_hop_g._edges"
   ]
  },
  {
   "cell_type": "code",
   "execution_count": 9,
   "id": "366bc40d-c465-427e-804c-4201fb4aff7b",
   "metadata": {
    "execution": {
     "iopub.execute_input": "2024-12-10T19:14:00.397492Z",
     "iopub.status.busy": "2024-12-10T19:14:00.396930Z",
     "iopub.status.idle": "2024-12-10T19:14:00.403927Z",
     "shell.execute_reply": "2024-12-10T19:14:00.403375Z",
     "shell.execute_reply.started": "2024-12-10T19:14:00.397467Z"
    }
   },
   "outputs": [
    {
     "data": {
      "text/html": [
       "<div>\n",
       "<style scoped>\n",
       "    .dataframe tbody tr th:only-of-type {\n",
       "        vertical-align: middle;\n",
       "    }\n",
       "\n",
       "    .dataframe tbody tr th {\n",
       "        vertical-align: top;\n",
       "    }\n",
       "\n",
       "    .dataframe thead th {\n",
       "        text-align: right;\n",
       "    }\n",
       "</style>\n",
       "<table border=\"1\" class=\"dataframe\">\n",
       "  <thead>\n",
       "    <tr style=\"text-align: right;\">\n",
       "      <th></th>\n",
       "      <th>id</th>\n",
       "    </tr>\n",
       "  </thead>\n",
       "  <tbody>\n",
       "    <tr>\n",
       "      <th>0</th>\n",
       "      <td>a</td>\n",
       "    </tr>\n",
       "    <tr>\n",
       "      <th>1</th>\n",
       "      <td>b</td>\n",
       "    </tr>\n",
       "    <tr>\n",
       "      <th>2</th>\n",
       "      <td>c</td>\n",
       "    </tr>\n",
       "  </tbody>\n",
       "</table>\n",
       "</div>"
      ],
      "text/plain": [
       "  id\n",
       "0  a\n",
       "1  b\n",
       "2  c"
      ]
     },
     "execution_count": 9,
     "metadata": {},
     "output_type": "execute_result"
    }
   ],
   "source": [
    "two_hop_g._nodes"
   ]
  },
  {
   "cell_type": "code",
   "execution_count": 10,
   "id": "653f9a42-c49e-4d01-b580-75b3e83db182",
   "metadata": {
    "execution": {
     "iopub.execute_input": "2024-12-09T02:13:42.769318Z",
     "iopub.status.busy": "2024-12-09T02:13:42.769168Z",
     "iopub.status.idle": "2024-12-09T02:13:42.828644Z",
     "shell.execute_reply": "2024-12-09T02:13:42.828167Z",
     "shell.execute_reply.started": "2024-12-09T02:13:42.769304Z"
    }
   },
   "outputs": [],
   "source": [
    "assert len(two_hop_g._edges) == len(g.chain(two_hop_query)._edges), \"Remote result should match local results\""
   ]
  },
  {
   "cell_type": "markdown",
   "id": "5e0ed558-3d0f-456c-8dbc-309dc69fffb8",
   "metadata": {},
   "source": [
    "## Ensure GPU mode in remote execution\n",
    "\n",
    "Explicitly set the remote `engine=` configuration to `\"cudf\"` (GPU) or `\"pandas\"` (CPU), or leave unconfigured to let the runtime decide"
   ]
  },
  {
   "cell_type": "code",
   "execution_count": 11,
   "id": "fc0b02e2-0c38-48d4-8b92-2315e33f91b9",
   "metadata": {
    "execution": {
     "iopub.execute_input": "2024-12-10T19:14:18.746121Z",
     "iopub.status.busy": "2024-12-10T19:14:18.745892Z",
     "iopub.status.idle": "2024-12-10T19:14:19.349166Z",
     "shell.execute_reply": "2024-12-10T19:14:19.348339Z",
     "shell.execute_reply.started": "2024-12-10T19:14:18.746105Z"
    }
   },
   "outputs": [
    {
     "name": "stdout",
     "output_type": "stream",
     "text": [
      "CPU times: user 48.4 ms, sys: 0 ns, total: 48.4 ms\n",
      "Wall time: 598 ms\n"
     ]
    }
   ],
   "source": [
    "%%time\n",
    "two_hop_g_gpu1 = g2.chain_remote(two_hop_query, engine='cudf')"
   ]
  },
  {
   "cell_type": "code",
   "execution_count": 12,
   "id": "2cf91d8b-eb9b-4515-852c-3fd9634040d2",
   "metadata": {
    "execution": {
     "iopub.execute_input": "2024-12-10T19:14:19.350189Z",
     "iopub.status.busy": "2024-12-10T19:14:19.349969Z",
     "iopub.status.idle": "2024-12-10T19:14:19.943842Z",
     "shell.execute_reply": "2024-12-10T19:14:19.943299Z",
     "shell.execute_reply.started": "2024-12-10T19:14:19.350169Z"
    }
   },
   "outputs": [
    {
     "name": "stdout",
     "output_type": "stream",
     "text": [
      "CPU times: user 50 ms, sys: 744 µs, total: 50.8 ms\n",
      "Wall time: 590 ms\n"
     ]
    }
   ],
   "source": [
    "%%time\n",
    "two_hop_g_cpu1 = g2.chain_remote(two_hop_query, engine='pandas')"
   ]
  },
  {
   "cell_type": "markdown",
   "id": "14648b21-d5c4-487b-9d90-88a4328db363",
   "metadata": {},
   "source": [
    "You can move the results to a local if available:"
   ]
  },
  {
   "cell_type": "code",
   "execution_count": 13,
   "id": "3ecd6363-6e22-4130-b7ad-2fca11838b41",
   "metadata": {
    "execution": {
     "iopub.execute_input": "2024-12-10T19:14:19.945218Z",
     "iopub.status.busy": "2024-12-10T19:14:19.944913Z",
     "iopub.status.idle": "2024-12-10T19:14:19.991156Z",
     "shell.execute_reply": "2024-12-10T19:14:19.990501Z",
     "shell.execute_reply.started": "2024-12-10T19:14:19.945198Z"
    }
   },
   "outputs": [
    {
     "name": "stdout",
     "output_type": "stream",
     "text": [
      "<class 'cudf.core.dataframe.DataFrame'>\n"
     ]
    }
   ],
   "source": [
    "try:\n",
    "    two_hop_g_gpu1 = two_hop_g_gpu1.to_cudf()\n",
    "    print(type(two_hop_g_gpu1._edges))\n",
    "except Exception as e:\n",
    "    print('Error moving to a local GPU, do you have a GPU and is cudf configured?')\n",
    "    print(e)"
   ]
  },
  {
   "cell_type": "markdown",
   "id": "8eb570de-d523-4d9a-9c31-e7681b23f445",
   "metadata": {},
   "source": [
    "## Fetch only subsets of the data\n",
    "\n",
    "You can fetch only subsets of the remote data:\n"
   ]
  },
  {
   "cell_type": "markdown",
   "id": "e86c6c2a-0280-4d20-9a77-a45272888685",
   "metadata": {},
   "source": [
    "### Shape: Check result counts without downloading the graph\n",
    "\n",
    "Often the important aspect is whether or not a search had hits, and you rather not pay the performance penalty of transfering all the hits. In these cases, switch to `chain_remote_shape()`:"
   ]
  },
  {
   "cell_type": "code",
   "execution_count": 14,
   "id": "50ed9127-e044-4529-a754-31d5653a6df1",
   "metadata": {
    "execution": {
     "iopub.execute_input": "2024-12-09T02:13:44.273739Z",
     "iopub.status.busy": "2024-12-09T02:13:44.273509Z",
     "iopub.status.idle": "2024-12-09T02:13:44.867648Z",
     "shell.execute_reply": "2024-12-09T02:13:44.867169Z",
     "shell.execute_reply.started": "2024-12-09T02:13:44.273720Z"
    }
   },
   "outputs": [
    {
     "data": {
      "text/html": [
       "<div>\n",
       "<style scoped>\n",
       "    .dataframe tbody tr th:only-of-type {\n",
       "        vertical-align: middle;\n",
       "    }\n",
       "\n",
       "    .dataframe tbody tr th {\n",
       "        vertical-align: top;\n",
       "    }\n",
       "\n",
       "    .dataframe thead th {\n",
       "        text-align: right;\n",
       "    }\n",
       "</style>\n",
       "<table border=\"1\" class=\"dataframe\">\n",
       "  <thead>\n",
       "    <tr style=\"text-align: right;\">\n",
       "      <th></th>\n",
       "      <th>kind</th>\n",
       "      <th>rows</th>\n",
       "      <th>cols</th>\n",
       "    </tr>\n",
       "  </thead>\n",
       "  <tbody>\n",
       "    <tr>\n",
       "      <th>0</th>\n",
       "      <td>nodes</td>\n",
       "      <td>3</td>\n",
       "      <td>1</td>\n",
       "    </tr>\n",
       "    <tr>\n",
       "      <th>1</th>\n",
       "      <td>edges</td>\n",
       "      <td>2</td>\n",
       "      <td>4</td>\n",
       "    </tr>\n",
       "  </tbody>\n",
       "</table>\n",
       "</div>"
      ],
      "text/plain": [
       "    kind  rows  cols\n",
       "0  nodes     3     1\n",
       "1  edges     2     4"
      ]
     },
     "execution_count": 14,
     "metadata": {},
     "output_type": "execute_result"
    }
   ],
   "source": [
    "g2.chain_remote_shape(two_hop_query)"
   ]
  },
  {
   "cell_type": "markdown",
   "id": "cd45688a-557e-4166-82cc-78f14f9c2f50",
   "metadata": {},
   "source": [
    "### Return only nodes"
   ]
  },
  {
   "cell_type": "code",
   "execution_count": 15,
   "id": "485d0900-7fb9-4865-9018-15c5b5adf1c6",
   "metadata": {
    "execution": {
     "iopub.execute_input": "2024-12-09T02:13:44.868481Z",
     "iopub.status.busy": "2024-12-09T02:13:44.868315Z",
     "iopub.status.idle": "2024-12-09T02:13:45.510660Z",
     "shell.execute_reply": "2024-12-09T02:13:45.510072Z",
     "shell.execute_reply.started": "2024-12-09T02:13:44.868467Z"
    }
   },
   "outputs": [
    {
     "name": "stdout",
     "output_type": "stream",
     "text": [
      "CPU times: user 51.8 ms, sys: 74 µs, total: 51.9 ms\n",
      "Wall time: 637 ms\n"
     ]
    },
    {
     "data": {
      "text/html": [
       "<div>\n",
       "<style scoped>\n",
       "    .dataframe tbody tr th:only-of-type {\n",
       "        vertical-align: middle;\n",
       "    }\n",
       "\n",
       "    .dataframe tbody tr th {\n",
       "        vertical-align: top;\n",
       "    }\n",
       "\n",
       "    .dataframe thead th {\n",
       "        text-align: right;\n",
       "    }\n",
       "</style>\n",
       "<table border=\"1\" class=\"dataframe\">\n",
       "  <thead>\n",
       "    <tr style=\"text-align: right;\">\n",
       "      <th></th>\n",
       "      <th>id</th>\n",
       "    </tr>\n",
       "  </thead>\n",
       "  <tbody>\n",
       "    <tr>\n",
       "      <th>0</th>\n",
       "      <td>a</td>\n",
       "    </tr>\n",
       "    <tr>\n",
       "      <th>1</th>\n",
       "      <td>b</td>\n",
       "    </tr>\n",
       "    <tr>\n",
       "      <th>2</th>\n",
       "      <td>c</td>\n",
       "    </tr>\n",
       "  </tbody>\n",
       "</table>\n",
       "</div>"
      ],
      "text/plain": [
       "  id\n",
       "0  a\n",
       "1  b\n",
       "2  c"
      ]
     },
     "execution_count": 15,
     "metadata": {},
     "output_type": "execute_result"
    }
   ],
   "source": [
    "%%time\n",
    "\n",
    "two_hops_nodes = g2.chain_remote(two_hop_query, output_type=\"nodes\")\n",
    "\n",
    "assert two_hops_nodes._edges is None, \"No edges returned\"\n",
    "\n",
    "two_hops_nodes._nodes"
   ]
  },
  {
   "cell_type": "markdown",
   "id": "1bb9bf40-c7e4-4d7d-a7af-2c9e107b37ea",
   "metadata": {},
   "source": [
    "### Return only edges"
   ]
  },
  {
   "cell_type": "code",
   "execution_count": 16,
   "id": "3fb784ac-fa48-44fa-b24c-ccedde59b920",
   "metadata": {
    "execution": {
     "iopub.execute_input": "2024-12-09T02:13:45.511526Z",
     "iopub.status.busy": "2024-12-09T02:13:45.511373Z",
     "iopub.status.idle": "2024-12-09T02:13:46.126351Z",
     "shell.execute_reply": "2024-12-09T02:13:46.125813Z",
     "shell.execute_reply.started": "2024-12-09T02:13:45.511512Z"
    }
   },
   "outputs": [
    {
     "name": "stdout",
     "output_type": "stream",
     "text": [
      "CPU times: user 54.1 ms, sys: 3.58 ms, total: 57.6 ms\n",
      "Wall time: 609 ms\n"
     ]
    },
    {
     "data": {
      "text/html": [
       "<div>\n",
       "<style scoped>\n",
       "    .dataframe tbody tr th:only-of-type {\n",
       "        vertical-align: middle;\n",
       "    }\n",
       "\n",
       "    .dataframe tbody tr th {\n",
       "        vertical-align: top;\n",
       "    }\n",
       "\n",
       "    .dataframe thead th {\n",
       "        text-align: right;\n",
       "    }\n",
       "</style>\n",
       "<table border=\"1\" class=\"dataframe\">\n",
       "  <thead>\n",
       "    <tr style=\"text-align: right;\">\n",
       "      <th></th>\n",
       "      <th>s</th>\n",
       "      <th>d</th>\n",
       "      <th>v</th>\n",
       "      <th>u</th>\n",
       "    </tr>\n",
       "  </thead>\n",
       "  <tbody>\n",
       "    <tr>\n",
       "      <th>0</th>\n",
       "      <td>a</td>\n",
       "      <td>b</td>\n",
       "      <td>x</td>\n",
       "      <td>2</td>\n",
       "    </tr>\n",
       "    <tr>\n",
       "      <th>1</th>\n",
       "      <td>b</td>\n",
       "      <td>c</td>\n",
       "      <td>y</td>\n",
       "      <td>4</td>\n",
       "    </tr>\n",
       "  </tbody>\n",
       "</table>\n",
       "</div>"
      ],
      "text/plain": [
       "   s  d  v  u\n",
       "0  a  b  x  2\n",
       "1  b  c  y  4"
      ]
     },
     "execution_count": 16,
     "metadata": {},
     "output_type": "execute_result"
    }
   ],
   "source": [
    "%%time\n",
    "\n",
    "two_hops_edges = g2.chain_remote(two_hop_query, output_type=\"edges\")\n",
    "\n",
    "assert two_hops_edges._nodes is None, \"No nodes returned\"\n",
    "\n",
    "two_hops_edges._edges"
   ]
  },
  {
   "cell_type": "markdown",
   "id": "2ad51482-d588-4e47-9b3e-a0e4d0606b2a",
   "metadata": {},
   "source": [
    "### Return subset of attributes\n",
    "\n",
    "Whether returning both nodes and edges, or only one type of these, you can also pick a subset of the columns to fetch back. For example, you may only desire the IDs, as the full data may be prohibitively large, and you may already have the relevant data locally.\n",
    "\n"
   ]
  },
  {
   "cell_type": "code",
   "execution_count": 17,
   "id": "dfd9f994-6da7-4a4d-988c-d05311c71490",
   "metadata": {
    "execution": {
     "iopub.execute_input": "2024-12-09T02:13:46.127184Z",
     "iopub.status.busy": "2024-12-09T02:13:46.127033Z",
     "iopub.status.idle": "2024-12-09T02:13:46.739524Z",
     "shell.execute_reply": "2024-12-09T02:13:46.738466Z",
     "shell.execute_reply.started": "2024-12-09T02:13:46.127170Z"
    }
   },
   "outputs": [
    {
     "name": "stdout",
     "output_type": "stream",
     "text": [
      "CPU times: user 47.3 ms, sys: 7.85 ms, total: 55.1 ms\n",
      "Wall time: 609 ms\n"
     ]
    }
   ],
   "source": [
    "%%time\n",
    "\n",
    "two_hops_IDs_g = g2.chain_remote(two_hop_query, node_col_subset=['id'], edge_col_subset=['s', 'd'])"
   ]
  },
  {
   "cell_type": "code",
   "execution_count": 18,
   "id": "2cb7dd99-eba3-4feb-8e15-53c433191fa8",
   "metadata": {
    "execution": {
     "iopub.execute_input": "2024-12-09T02:13:46.740787Z",
     "iopub.status.busy": "2024-12-09T02:13:46.740587Z",
     "iopub.status.idle": "2024-12-09T02:13:46.745574Z",
     "shell.execute_reply": "2024-12-09T02:13:46.745082Z",
     "shell.execute_reply.started": "2024-12-09T02:13:46.740768Z"
    }
   },
   "outputs": [
    {
     "data": {
      "text/html": [
       "<div>\n",
       "<style scoped>\n",
       "    .dataframe tbody tr th:only-of-type {\n",
       "        vertical-align: middle;\n",
       "    }\n",
       "\n",
       "    .dataframe tbody tr th {\n",
       "        vertical-align: top;\n",
       "    }\n",
       "\n",
       "    .dataframe thead th {\n",
       "        text-align: right;\n",
       "    }\n",
       "</style>\n",
       "<table border=\"1\" class=\"dataframe\">\n",
       "  <thead>\n",
       "    <tr style=\"text-align: right;\">\n",
       "      <th></th>\n",
       "      <th>id</th>\n",
       "    </tr>\n",
       "  </thead>\n",
       "  <tbody>\n",
       "    <tr>\n",
       "      <th>0</th>\n",
       "      <td>a</td>\n",
       "    </tr>\n",
       "    <tr>\n",
       "      <th>1</th>\n",
       "      <td>b</td>\n",
       "    </tr>\n",
       "    <tr>\n",
       "      <th>2</th>\n",
       "      <td>c</td>\n",
       "    </tr>\n",
       "  </tbody>\n",
       "</table>\n",
       "</div>"
      ],
      "text/plain": [
       "  id\n",
       "0  a\n",
       "1  b\n",
       "2  c"
      ]
     },
     "execution_count": 18,
     "metadata": {},
     "output_type": "execute_result"
    }
   ],
   "source": [
    "two_hops_IDs_g._nodes"
   ]
  },
  {
   "cell_type": "code",
   "execution_count": 19,
   "id": "4674d38e-e350-4360-9955-86fbcb0733ee",
   "metadata": {
    "execution": {
     "iopub.execute_input": "2024-12-09T02:13:46.746367Z",
     "iopub.status.busy": "2024-12-09T02:13:46.746176Z",
     "iopub.status.idle": "2024-12-09T02:13:46.758207Z",
     "shell.execute_reply": "2024-12-09T02:13:46.757703Z",
     "shell.execute_reply.started": "2024-12-09T02:13:46.746348Z"
    }
   },
   "outputs": [
    {
     "data": {
      "text/html": [
       "<div>\n",
       "<style scoped>\n",
       "    .dataframe tbody tr th:only-of-type {\n",
       "        vertical-align: middle;\n",
       "    }\n",
       "\n",
       "    .dataframe tbody tr th {\n",
       "        vertical-align: top;\n",
       "    }\n",
       "\n",
       "    .dataframe thead th {\n",
       "        text-align: right;\n",
       "    }\n",
       "</style>\n",
       "<table border=\"1\" class=\"dataframe\">\n",
       "  <thead>\n",
       "    <tr style=\"text-align: right;\">\n",
       "      <th></th>\n",
       "      <th>s</th>\n",
       "      <th>d</th>\n",
       "    </tr>\n",
       "  </thead>\n",
       "  <tbody>\n",
       "    <tr>\n",
       "      <th>0</th>\n",
       "      <td>a</td>\n",
       "      <td>b</td>\n",
       "    </tr>\n",
       "    <tr>\n",
       "      <th>1</th>\n",
       "      <td>b</td>\n",
       "      <td>c</td>\n",
       "    </tr>\n",
       "  </tbody>\n",
       "</table>\n",
       "</div>"
      ],
      "text/plain": [
       "   s  d\n",
       "0  a  b\n",
       "1  b  c"
      ]
     },
     "execution_count": 19,
     "metadata": {},
     "output_type": "execute_result"
    }
   ],
   "source": [
    "assert 'v' not in two_hops_IDs_g._edges.columns, \"Only columns in the subset are returned\"\n",
    "\n",
    "two_hops_IDs_g._edges"
   ]
  },
  {
   "cell_type": "markdown",
   "id": "41b58bf5-d2b1-472b-99b5-230cc77ba956",
   "metadata": {},
   "source": [
    "## Bind, use, and fetch existing remote data\n",
    "\n",
    "When a remote graph dataset ID is already known, bind to it and use it"
   ]
  },
  {
   "cell_type": "markdown",
   "id": "72ddc956-e153-4f6b-80ac-3905abec4529",
   "metadata": {},
   "source": [
    "### Locally bind to remote data"
   ]
  },
  {
   "cell_type": "code",
   "execution_count": 20,
   "id": "2bd39dbd-dceb-4e4e-91a3-6d15a244a096",
   "metadata": {
    "execution": {
     "iopub.execute_input": "2024-12-09T02:13:46.759180Z",
     "iopub.status.busy": "2024-12-09T02:13:46.758946Z",
     "iopub.status.idle": "2024-12-09T02:13:46.765549Z",
     "shell.execute_reply": "2024-12-09T02:13:46.765043Z",
     "shell.execute_reply.started": "2024-12-09T02:13:46.759161Z"
    }
   },
   "outputs": [
    {
     "name": "stdout",
     "output_type": "stream",
     "text": [
      "CPU times: user 125 µs, sys: 34 µs, total: 159 µs\n",
      "Wall time: 161 µs\n"
     ]
    },
    {
     "data": {
      "text/plain": [
       "{'dataset_id': '5990e1142056407ea3b13639521ffb56',\n",
       " 'has local nodes': False,\n",
       " 'has local edges': False}"
      ]
     },
     "execution_count": 20,
     "metadata": {},
     "output_type": "execute_result"
    }
   ],
   "source": [
    "%%time\n",
    "\n",
    "g3_bound = graphistry.bind(dataset_id=g2._dataset_id)\n",
    "\n",
    "{\n",
    "    'dataset_id': g3_bound._dataset_id,\n",
    "    'has local nodes': g3_bound._nodes is not None,\n",
    "    'has local edges': g3_bound._edges is not None\n",
    "}"
   ]
  },
  {
   "cell_type": "markdown",
   "id": "5197f125-7112-45cc-9592-f73c2157f52b",
   "metadata": {},
   "source": [
    "### Remotely query remote data\n",
    "\n",
    "Use `chain_remote()` and `chain_remote_shape()` as usual:"
   ]
  },
  {
   "cell_type": "code",
   "execution_count": 21,
   "id": "3c24ae74-813d-4497-a1b0-d6201cde9ca1",
   "metadata": {
    "execution": {
     "iopub.execute_input": "2024-12-09T02:13:46.766389Z",
     "iopub.status.busy": "2024-12-09T02:13:46.766200Z",
     "iopub.status.idle": "2024-12-09T02:13:47.457057Z",
     "shell.execute_reply": "2024-12-09T02:13:47.456552Z",
     "shell.execute_reply.started": "2024-12-09T02:13:46.766371Z"
    }
   },
   "outputs": [
    {
     "data": {
      "text/html": [
       "<div>\n",
       "<style scoped>\n",
       "    .dataframe tbody tr th:only-of-type {\n",
       "        vertical-align: middle;\n",
       "    }\n",
       "\n",
       "    .dataframe tbody tr th {\n",
       "        vertical-align: top;\n",
       "    }\n",
       "\n",
       "    .dataframe thead th {\n",
       "        text-align: right;\n",
       "    }\n",
       "</style>\n",
       "<table border=\"1\" class=\"dataframe\">\n",
       "  <thead>\n",
       "    <tr style=\"text-align: right;\">\n",
       "      <th></th>\n",
       "      <th>kind</th>\n",
       "      <th>rows</th>\n",
       "      <th>cols</th>\n",
       "    </tr>\n",
       "  </thead>\n",
       "  <tbody>\n",
       "    <tr>\n",
       "      <th>0</th>\n",
       "      <td>nodes</td>\n",
       "      <td>3</td>\n",
       "      <td>1</td>\n",
       "    </tr>\n",
       "    <tr>\n",
       "      <th>1</th>\n",
       "      <td>edges</td>\n",
       "      <td>2</td>\n",
       "      <td>4</td>\n",
       "    </tr>\n",
       "  </tbody>\n",
       "</table>\n",
       "</div>"
      ],
      "text/plain": [
       "    kind  rows  cols\n",
       "0  nodes     3     1\n",
       "1  edges     2     4"
      ]
     },
     "execution_count": 21,
     "metadata": {},
     "output_type": "execute_result"
    }
   ],
   "source": [
    "g3_bound.chain_remote_shape(two_hop_query)"
   ]
  },
  {
   "cell_type": "markdown",
   "id": "e4af83ff-1ad5-4bda-9580-19eef0fa356c",
   "metadata": {},
   "source": [
    "### Fetch remote data\n",
    "\n",
    "Use `chain_remote()` to fetch the nodes and edges table. Note that the below takes care to fetch nodes that are not connected to any edges."
   ]
  },
  {
   "cell_type": "code",
   "execution_count": 22,
   "id": "03a1c612-c8cc-4603-975d-70a01a5a4ca7",
   "metadata": {
    "execution": {
     "iopub.execute_input": "2024-12-09T02:13:47.459497Z",
     "iopub.status.busy": "2024-12-09T02:13:47.459303Z",
     "iopub.status.idle": "2024-12-09T02:13:48.788098Z",
     "shell.execute_reply": "2024-12-09T02:13:48.787511Z",
     "shell.execute_reply.started": "2024-12-09T02:13:47.459483Z"
    }
   },
   "outputs": [
    {
     "name": "stdout",
     "output_type": "stream",
     "text": [
      "CPU times: user 116 ms, sys: 10.5 ms, total: 127 ms\n",
      "Wall time: 1.33 s\n"
     ]
    }
   ],
   "source": [
    "%%time\n",
    "\n",
    "remote_g_nodes = g3_bound.chain_remote([n()], output_type='nodes')\n",
    "remote_g_edges = g3_bound.chain_remote([e_undirected()], output_type='edges')\n",
    "\n",
    "g3_fetched_g = (graphistry\n",
    "    .nodes(remote_g_nodes._nodes, 'id')\n",
    "    .edges(remote_g_edges._edges,  's', 'd')\n",
    ")"
   ]
  },
  {
   "cell_type": "code",
   "execution_count": 23,
   "id": "79f44de2-f848-4cdf-b2e7-bae3d4735e1e",
   "metadata": {
    "execution": {
     "iopub.execute_input": "2024-12-09T02:13:48.788872Z",
     "iopub.status.busy": "2024-12-09T02:13:48.788713Z",
     "iopub.status.idle": "2024-12-09T02:13:48.794525Z",
     "shell.execute_reply": "2024-12-09T02:13:48.793989Z",
     "shell.execute_reply.started": "2024-12-09T02:13:48.788858Z"
    }
   },
   "outputs": [
    {
     "name": "stdout",
     "output_type": "stream",
     "text": [
      "Node ID column: id\n"
     ]
    },
    {
     "data": {
      "text/html": [
       "<div>\n",
       "<style scoped>\n",
       "    .dataframe tbody tr th:only-of-type {\n",
       "        vertical-align: middle;\n",
       "    }\n",
       "\n",
       "    .dataframe tbody tr th {\n",
       "        vertical-align: top;\n",
       "    }\n",
       "\n",
       "    .dataframe thead th {\n",
       "        text-align: right;\n",
       "    }\n",
       "</style>\n",
       "<table border=\"1\" class=\"dataframe\">\n",
       "  <thead>\n",
       "    <tr style=\"text-align: right;\">\n",
       "      <th></th>\n",
       "      <th>id</th>\n",
       "    </tr>\n",
       "  </thead>\n",
       "  <tbody>\n",
       "    <tr>\n",
       "      <th>0</th>\n",
       "      <td>a</td>\n",
       "    </tr>\n",
       "    <tr>\n",
       "      <th>1</th>\n",
       "      <td>b</td>\n",
       "    </tr>\n",
       "    <tr>\n",
       "      <th>2</th>\n",
       "      <td>c</td>\n",
       "    </tr>\n",
       "    <tr>\n",
       "      <th>3</th>\n",
       "      <td>d</td>\n",
       "    </tr>\n",
       "  </tbody>\n",
       "</table>\n",
       "</div>"
      ],
      "text/plain": [
       "  id\n",
       "0  a\n",
       "1  b\n",
       "2  c\n",
       "3  d"
      ]
     },
     "execution_count": 23,
     "metadata": {},
     "output_type": "execute_result"
    }
   ],
   "source": [
    "print('Node ID column:', g3_fetched_g._node)\n",
    "g3_fetched_g._nodes"
   ]
  },
  {
   "cell_type": "code",
   "execution_count": 24,
   "id": "2b745937-68e6-4f28-a74d-3eb69fc144a3",
   "metadata": {
    "execution": {
     "iopub.execute_input": "2024-12-09T02:13:48.795641Z",
     "iopub.status.busy": "2024-12-09T02:13:48.795420Z",
     "iopub.status.idle": "2024-12-09T02:13:48.819212Z",
     "shell.execute_reply": "2024-12-09T02:13:48.818458Z",
     "shell.execute_reply.started": "2024-12-09T02:13:48.795624Z"
    }
   },
   "outputs": [
    {
     "name": "stdout",
     "output_type": "stream",
     "text": [
      "Edge src/dst columns: s d\n"
     ]
    },
    {
     "data": {
      "text/html": [
       "<div>\n",
       "<style scoped>\n",
       "    .dataframe tbody tr th:only-of-type {\n",
       "        vertical-align: middle;\n",
       "    }\n",
       "\n",
       "    .dataframe tbody tr th {\n",
       "        vertical-align: top;\n",
       "    }\n",
       "\n",
       "    .dataframe thead th {\n",
       "        text-align: right;\n",
       "    }\n",
       "</style>\n",
       "<table border=\"1\" class=\"dataframe\">\n",
       "  <thead>\n",
       "    <tr style=\"text-align: right;\">\n",
       "      <th></th>\n",
       "      <th>s</th>\n",
       "      <th>d</th>\n",
       "      <th>v</th>\n",
       "      <th>u</th>\n",
       "    </tr>\n",
       "  </thead>\n",
       "  <tbody>\n",
       "    <tr>\n",
       "      <th>0</th>\n",
       "      <td>a</td>\n",
       "      <td>b</td>\n",
       "      <td>x</td>\n",
       "      <td>2</td>\n",
       "    </tr>\n",
       "    <tr>\n",
       "      <th>1</th>\n",
       "      <td>b</td>\n",
       "      <td>c</td>\n",
       "      <td>y</td>\n",
       "      <td>4</td>\n",
       "    </tr>\n",
       "    <tr>\n",
       "      <th>2</th>\n",
       "      <td>c</td>\n",
       "      <td>d</td>\n",
       "      <td>z</td>\n",
       "      <td>6</td>\n",
       "    </tr>\n",
       "  </tbody>\n",
       "</table>\n",
       "</div>"
      ],
      "text/plain": [
       "   s  d  v  u\n",
       "0  a  b  x  2\n",
       "1  b  c  y  4\n",
       "2  c  d  z  6"
      ]
     },
     "execution_count": 24,
     "metadata": {},
     "output_type": "execute_result"
    }
   ],
   "source": [
    "print('Edge src/dst columns:', g3_fetched_g._source, g3_fetched_g._destination)\n",
    "g3_fetched_g._edges"
   ]
  },
  {
   "cell_type": "code",
   "execution_count": null,
   "id": "77f276c8-de2c-4f85-9e57-0f8231f8618b",
   "metadata": {},
   "outputs": [],
   "source": []
  }
 ],
 "metadata": {
  "kernelspec": {
   "display_name": "Python 3.8 (RAPIDS)",
   "language": "python",
   "name": "rapids"
  },
  "language_info": {
   "codemirror_mode": {
    "name": "ipython",
    "version": 3
   },
   "file_extension": ".py",
   "mimetype": "text/x-python",
   "name": "python",
   "nbconvert_exporter": "python",
   "pygments_lexer": "ipython3",
   "version": "3.10.12"
  }
 },
 "nbformat": 4,
 "nbformat_minor": 5
}
