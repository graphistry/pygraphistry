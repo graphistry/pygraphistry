{
 "cells": [
  {
   "cell_type": "markdown",
   "metadata": {},
   "source": [
    "# GFQL Validation Fundamentals\n",
    "\n",
    "Learn the basics of validating GFQL queries to catch errors early and build robust graph applications.\n",
    "\n",
    "## What You'll Learn\n",
    "- How to validate GFQL query syntax\n",
    "- Understanding validation error messages\n",
    "- Basic schema validation with DataFrames\n",
    "- Common syntax errors and how to fix them\n",
    "\n",
    "## Prerequisites\n",
    "- Basic Python knowledge\n",
    "- PyGraphistry installed (`pip install graphistry[ai]`)"
   ]
  },
  {
   "cell_type": "markdown",
   "metadata": {},
   "source": [
    "## Setup and Imports\n",
    "\n",
    "First, let's import the necessary modules and check our PyGraphistry version."
   ]
  },
  {
   "cell_type": "code",
   "execution_count": null,
   "metadata": {},
   "outputs": [],
   "source": [
    "# Core imports\n",
    "import pandas as pd\n",
    "import graphistry\n",
    "\n",
    "# Validation imports\n",
    "from graphistry.compute.validate import (\n",
    "    validate_syntax,\n",
    "    validate_schema,\n",
    "    validate_query,\n",
    "    extract_schema_from_dataframes\n",
    ")\n",
    "\n",
    "# Check version\n",
    "print(f\"PyGraphistry version: {graphistry.__version__}\")\n",
    "print(\"\\nValidation functions available:\")\n",
    "print(\"- validate_syntax(): Check query syntax\")\n",
    "print(\"- validate_schema(): Check query against data schema\")\n",
    "print(\"- validate_query(): Combined syntax + schema validation\")"
   ]
  },
  {
   "cell_type": "markdown",
   "metadata": {},
   "source": [
    "## Basic Syntax Validation\n",
    "\n",
    "GFQL queries must follow specific syntax rules. Let's start with validating query syntax."
   ]
  },
  {
   "cell_type": "code",
   "execution_count": null,
   "metadata": {},
   "outputs": [],
   "source": [
    "# Example 1: Valid query syntax\n",
    "valid_query = [\n",
    "    {\"type\": \"n\"},\n",
    "    {\"type\": \"e_forward\", \"hops\": 1},\n",
    "    {\"type\": \"n\", \"filter\": {\"type\": {\"eq\": \"customer\"}}}\n",
    "]\n",
    "\n",
    "# Validate syntax\n",
    "issues = validate_syntax(valid_query)\n",
    "\n",
    "print(\"Query:\", valid_query)\n",
    "print(f\"\\nValidation issues: {len(issues)}\")\n",
    "if not issues:\n",
    "    print(\"✅ Query syntax is valid!\")\n",
    "else:\n",
    "    for issue in issues:\n",
    "        print(f\"- {issue.level}: {issue.message}\")"
   ]
  },
  {
   "cell_type": "markdown",
   "metadata": {},
   "source": [
    "## Common Syntax Errors\n",
    "\n",
    "Let's look at common syntax errors and how validation catches them."
   ]
  },
  {
   "cell_type": "code",
   "execution_count": null,
   "metadata": {},
   "outputs": [],
   "source": [
    "# Example 2: Invalid operation type\n",
    "invalid_query_1 = [\n",
    "    {\"type\": \"node\"},  # Should be \"n\"\n",
    "    {\"type\": \"e_forward\"}\n",
    "]\n",
    "\n",
    "issues = validate_syntax(invalid_query_1)\n",
    "print(\"Query with invalid operation type:\")\n",
    "print(invalid_query_1)\n",
    "print(f\"\\nValidation found {len(issues)} issue(s):\")\n",
    "for issue in issues:\n",
    "    print(f\"- {issue.level}: {issue.message}\")\n",
    "    if issue.operation_index is not None:\n",
    "        print(f\"  At operation {issue.operation_index}: {invalid_query_1[issue.operation_index]}\")"
   ]
  },
  {
   "cell_type": "code",
   "execution_count": null,
   "metadata": {},
   "outputs": [],
   "source": [
    "# Example 3: Invalid filter structure\n",
    "invalid_query_2 = [\n",
    "    {\"type\": \"n\", \"filter\": {\"name\": \"Alice\"}}  # Missing operator\n",
    "]\n",
    "\n",
    "issues = validate_syntax(invalid_query_2)\n",
    "print(\"Query with invalid filter:\")\n",
    "print(invalid_query_2)\n",
    "print(f\"\\nValidation found {len(issues)} issue(s):\")\n",
    "for issue in issues:\n",
    "    print(f\"- {issue.level}: {issue.message}\")"
   ]
  },
  {
   "cell_type": "code",
   "execution_count": null,
   "metadata": {},
   "outputs": [],
   "source": [
    "# Example 4: Semantic warning - orphaned edges\n",
    "warning_query = [\n",
    "    {\"type\": \"e_forward\", \"hops\": 1}  # Edge without starting node\n",
    "]\n",
    "\n",
    "issues = validate_syntax(warning_query)\n",
    "print(\"Query with semantic warning:\")\n",
    "print(warning_query)\n",
    "print(f\"\\nValidation found {len(issues)} issue(s):\")\n",
    "for issue in issues:\n",
    "    print(f\"- {issue.level.upper()}: {issue.message}\")"
   ]
  },
  {
   "cell_type": "markdown",
   "metadata": {},
   "source": [
    "## Understanding Validation Issues\n",
    "\n",
    "Validation issues have different levels and provide helpful information."
   ]
  },
  {
   "cell_type": "code",
   "execution_count": null,
   "metadata": {},
   "outputs": [],
   "source": [
    "# Let's examine a validation issue in detail\n",
    "from graphistry.compute.validate import ValidationIssue\n",
    "\n",
    "# Create a query with multiple issues\n",
    "complex_invalid = [\n",
    "    {\"type\": \"n\"},\n",
    "    {\"type\": \"edge\"},  # Invalid type\n",
    "    {\"type\": \"n\", \"filter\": {\"score\": {\"greater\": 5}}}  # Invalid operator\n",
    "]\n",
    "\n",
    "issues = validate_syntax(complex_invalid)\n",
    "print(f\"Found {len(issues)} validation issues:\\n\")\n",
    "\n",
    "for i, issue in enumerate(issues):\n",
    "    print(f\"Issue {i+1}:\")\n",
    "    print(f\"  Level: {issue.level}\")\n",
    "    print(f\"  Message: {issue.message}\")\n",
    "    print(f\"  Operation index: {issue.operation_index}\")\n",
    "    print(f\"  Field: {issue.field}\")\n",
    "    if issue.suggestion:\n",
    "        print(f\"  Suggestion: {issue.suggestion}\")\n",
    "    print()"
   ]
  },
  {
   "cell_type": "markdown",
   "metadata": {},
   "source": [
    "## Simple Schema Validation\n",
    "\n",
    "Now let's validate queries against actual data schemas."
   ]
  },
  {
   "cell_type": "code",
   "execution_count": null,
   "metadata": {},
   "outputs": [],
   "source": [
    "# Create sample data\n",
    "nodes_df = pd.DataFrame({\n",
    "    'id': [1, 2, 3, 4, 5],\n",
    "    'name': ['Alice', 'Bob', 'Charlie', 'David', 'Eve'],\n",
    "    'type': ['customer', 'customer', 'product', 'product', 'customer'],\n",
    "    'score': [100, 85, 95, 120, 110]\n",
    "})\n",
    "\n",
    "edges_df = pd.DataFrame({\n",
    "    'src': [1, 2, 3, 4, 5],\n",
    "    'dst': [3, 4, 1, 2, 3],\n",
    "    'weight': [1.0, 2.5, 0.8, 1.2, 3.0],\n",
    "    'timestamp': pd.to_datetime(['2024-01-01', '2024-01-02', '2024-01-03', '2024-01-04', '2024-01-05'])\n",
    "})\n",
    "\n",
    "print(\"Nodes DataFrame:\")\n",
    "print(nodes_df)\n",
    "print(\"\\nEdges DataFrame:\")\n",
    "print(edges_df)"
   ]
  },
  {
   "cell_type": "code",
   "execution_count": null,
   "metadata": {},
   "outputs": [],
   "source": [
    "# Extract schema from DataFrames\n",
    "schema = extract_schema_from_dataframes(nodes_df, edges_df)\n",
    "\n",
    "print(\"Extracted Schema:\")\n",
    "print(f\"\\nNode columns: {list(schema.node_columns.keys())}\")\n",
    "print(f\"Edge columns: {list(schema.edge_columns.keys())}\")\n",
    "\n",
    "# Show column types\n",
    "print(\"\\nNode column types:\")\n",
    "for col, dtype in schema.node_columns.items():\n",
    "    print(f\"  {col}: {dtype}\")"
   ]
  },
  {
   "cell_type": "code",
   "execution_count": null,
   "metadata": {},
   "outputs": [],
   "source": [
    "# Valid query using existing columns\n",
    "schema_valid_query = [\n",
    "    {\"type\": \"n\", \"filter\": {\"type\": {\"eq\": \"customer\"}}},\n",
    "    {\"type\": \"e_forward\"},\n",
    "    {\"type\": \"n\", \"filter\": {\"score\": {\"gte\": 100}}}\n",
    "]\n",
    "\n",
    "# Validate against schema\n",
    "issues = validate_schema(schema_valid_query, schema)\n",
    "\n",
    "print(\"Query using valid columns:\")\n",
    "print(schema_valid_query)\n",
    "print(f\"\\nSchema validation issues: {len(issues)}\")\n",
    "if not issues:\n",
    "    print(\"✅ Query is valid for this schema!\")"
   ]
  },
  {
   "cell_type": "markdown",
   "metadata": {},
   "source": [
    "## Column Not Found Errors\n",
    "\n",
    "The most common schema error is referencing non-existent columns."
   ]
  },
  {
   "cell_type": "code",
   "execution_count": null,
   "metadata": {},
   "outputs": [],
   "source": [
    "# Query with non-existent column\n",
    "invalid_column_query = [\n",
    "    {\"type\": \"n\", \"filter\": {\"category\": {\"eq\": \"VIP\"}}}  # 'category' doesn't exist\n",
    "]\n",
    "\n",
    "issues = validate_schema(invalid_column_query, schema)\n",
    "\n",
    "print(\"Query with non-existent column:\")\n",
    "print(invalid_column_query)\n",
    "print(f\"\\nValidation found {len(issues)} issue(s):\")\n",
    "for issue in issues:\n",
    "    print(f\"\\n- {issue.level}: {issue.message}\")\n",
    "    if issue.suggestion:\n",
    "        print(f\"  Suggestion: {issue.suggestion}\")"
   ]
  },
  {
   "cell_type": "markdown",
   "metadata": {},
   "source": [
    "## Type Mismatch Errors\n",
    "\n",
    "Validation also catches when you use the wrong predicate type for a column."
   ]
  },
  {
   "cell_type": "code",
   "execution_count": null,
   "metadata": {},
   "outputs": [],
   "source": [
    "# String predicate on numeric column\n",
    "type_mismatch_query = [\n",
    "    {\"type\": \"n\", \"filter\": {\"score\": {\"contains\": \"100\"}}}  # 'contains' is for strings\n",
    "]\n",
    "\n",
    "issues = validate_schema(type_mismatch_query, schema)\n",
    "\n",
    "print(\"Query with type mismatch:\")\n",
    "print(type_mismatch_query)\n",
    "print(f\"\\nValidation found {len(issues)} issue(s):\")\n",
    "for issue in issues:\n",
    "    print(f\"\\n- {issue.level}: {issue.message}\")\n",
    "    if issue.suggestion:\n",
    "        print(f\"  Suggestion: {issue.suggestion}\")"
   ]
  },
  {
   "cell_type": "markdown",
   "metadata": {},
   "source": [
    "## Complete Example: Building a Query Step by Step\n",
    "\n",
    "Let's build a query incrementally, validating at each step."
   ]
  },
  {
   "cell_type": "code",
   "execution_count": null,
   "metadata": {},
   "outputs": [],
   "source": [
    "# Step 1: Start with finding customers\n",
    "query_v1 = [\n",
    "    {\"type\": \"n\", \"filter\": {\"type\": {\"eq\": \"customer\"}}}\n",
    "]\n",
    "\n",
    "issues = validate_query(query_v1, nodes_df=nodes_df, edges_df=edges_df)\n",
    "print(\"Step 1 - Find customers:\")\n",
    "print(f\"Issues: {len(issues)}\")\n",
    "print(\"✅ Valid!\" if not issues else \"❌ Has issues\")\n",
    "\n",
    "# Step 2: Add edge traversal\n",
    "query_v2 = [\n",
    "    {\"type\": \"n\", \"filter\": {\"type\": {\"eq\": \"customer\"}}},\n",
    "    {\"type\": \"e_forward\", \"hops\": 1}\n",
    "]\n",
    "\n",
    "issues = validate_query(query_v2, nodes_df=nodes_df, edges_df=edges_df)\n",
    "print(\"\\nStep 2 - Add edge traversal:\")\n",
    "print(f\"Issues: {len(issues)}\")\n",
    "print(\"✅ Valid!\" if not issues else \"❌ Has issues\")\n",
    "\n",
    "# Step 3: Complete with destination filter\n",
    "query_v3 = [\n",
    "    {\"type\": \"n\", \"filter\": {\"type\": {\"eq\": \"customer\"}}},\n",
    "    {\"type\": \"e_forward\", \"hops\": 1},\n",
    "    {\"type\": \"n\", \"filter\": {\"type\": {\"eq\": \"product\"}}}\n",
    "]\n",
    "\n",
    "issues = validate_query(query_v3, nodes_df=nodes_df, edges_df=edges_df)\n",
    "print(\"\\nStep 3 - Add destination filter:\")\n",
    "print(f\"Issues: {len(issues)}\")\n",
    "print(\"✅ Valid!\" if not issues else \"❌ Has issues\")\n",
    "\n",
    "print(\"\\nFinal query finds: Customers connected to products\")"
   ]
  },
  {
   "cell_type": "markdown",
   "metadata": {},
   "source": [
    "## Quick Reference\n",
    "\n",
    "### Error Levels\n",
    "- **error**: Query will fail if executed\n",
    "- **warning**: Query may work but has potential issues\n",
    "\n",
    "### Common Fixes\n",
    "1. **Invalid operation type**: Use `n`, `e_forward`, `e_reverse`, or `e`\n",
    "2. **Missing operator**: Add comparison operator like `eq`, `gte`, `contains`\n",
    "3. **Column not found**: Check available columns with `schema.node_columns`\n",
    "4. **Type mismatch**: Use numeric operators for numbers, string operators for text"
   ]
  },
  {
   "cell_type": "markdown",
   "metadata": {},
   "source": [
    "## Summary & Next Steps\n",
    "\n",
    "You've learned the fundamentals of GFQL validation:\n",
    "- ✅ Syntax validation catches structural errors\n",
    "- ✅ Schema validation ensures columns exist and types match\n",
    "- ✅ Combined validation provides comprehensive checking\n",
    "- ✅ Clear error messages help fix issues quickly\n",
    "\n",
    "### Next Steps\n",
    "1. **Advanced Patterns**: Learn complex queries and multi-hop validation\n",
    "2. **LLM Integration**: Use validation for AI-generated queries\n",
    "3. **Production Use**: Implement validation in your applications\n",
    "\n",
    "### Resources\n",
    "- [GFQL Documentation](https://docs.graphistry.com/gfql/)\n",
    "- [GFQL Language Specification](https://docs.graphistry.com/gfql/spec/language/)\n",
    "- [Advanced Validation Patterns](./gfql_validation_advanced.ipynb)"
   ]
  }
 ],
 "metadata": {
  "kernelspec": {
   "display_name": "Python 3",
   "language": "python",
   "name": "python3"
  },
  "language_info": {
   "codemirror_mode": {
    "name": "ipython",
    "version": 3
   },
   "file_extension": ".py",
   "mimetype": "text/x-python",
   "name": "python",
   "nbconvert_exporter": "python",
   "pygments_lexer": "ipython3",
   "version": "3.8.0"
  }
 },
 "nbformat": 4,
 "nbformat_minor": 4
}