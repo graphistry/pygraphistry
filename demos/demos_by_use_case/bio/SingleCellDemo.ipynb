{
  "cells": [
    {
      "cell_type": "markdown",
      "metadata": {
        "id": "5n26EioarG4C"
      },
      "source": [
        "## Tutorial: Single-Cell Transcriptomics using UMAP"
      ],
      "id": "5n26EioarG4C"
    },
    {
      "cell_type": "markdown",
      "metadata": {
        "id": "0f3a459c-fa15-445b-8d65-cb701c063ac9"
      },
      "source": [
        "\n",
        "Single cell gene expression can be analyzed faster and more easily explored using GPU-accelerated UMAP analysis & visualization. Using UMAP in this way, **the user can cluster cell types by patterns of gene expression**\n",
        "\n",
        "* Task: Analyze single cell's gene expression for clustering\n",
        "* Data: 5 independent datasets of roughly 30K rows of 200 columns of single cell\n",
        "* [data](https://cytotrace.stanford.edu/#shiny-tab-dataset_download)\n",
        "* [paper](https://arxiv.org/pdf/2208.05229.pdf)\n",
        "\n",
        "**Insight/ Result:**\n",
        "\n",
        " 1.   Speed: Go from minutes to seconds for entire ~10000 cell samples (102s vs 18s on a small T4 GPU),\n",
        " 2.   Visualization: Add interactivity, similarity edges, and GPU scale to otherwise hard-to-read static scatter plots"
      ],
      "id": "0f3a459c-fa15-445b-8d65-cb701c063ac9"
    },
    {
      "cell_type": "markdown",
      "metadata": {
        "id": "JAgYkgAsvbnG"
      },
      "source": [
        "## Setup"
      ],
      "id": "JAgYkgAsvbnG"
    },
    {
      "cell_type": "markdown",
      "metadata": {
        "id": "6lK_VrzZT1n7"
      },
      "source": [
        "### For the GPU-cloud-accelerated visualization step, get a free API key at https://hub.graphistry.com\n"
      ],
      "id": "6lK_VrzZT1n7"
    },
    {
      "cell_type": "code",
      "source": [
        "from google.colab import userdata\n",
        "g_user=userdata.get('g_user')\n",
        "g_pass=userdata.get('g_pass')"
      ],
      "metadata": {
        "id": "sg0PQk-vhXRV"
      },
      "id": "sg0PQk-vhXRV",
      "execution_count": null,
      "outputs": []
    },
    {
      "cell_type": "code",
      "execution_count": null,
      "metadata": {
        "id": "33ae99ce-e386-4e97-b5a0-99b86fb6f68a"
      },
      "outputs": [],
      "source": [
        "import os, time\n",
        "from collections import Counter\n",
        "import cProfile\n",
        "import pandas as pd\n",
        "import numpy as np\n",
        "import seaborn as sns\n",
        "import matplotlib.pyplot as plt\n",
        "from pstats import Stats\n",
        "import warnings\n",
        "warnings.filterwarnings('ignore')\n",
        "pd.set_option('display.max_colwidth', 200)"
      ],
      "id": "33ae99ce-e386-4e97-b5a0-99b86fb6f68a"
    },
    {
      "cell_type": "code",
      "execution_count": null,
      "metadata": {
        "id": "UYVtE57QBy92"
      },
      "outputs": [],
      "source": [
        "!pip install --extra-index-url=https://pypi.nvidia.com cuml-cu12\n",
        "\n",
        "!pip install graphistry[ai]\n",
        "\n",
        "!pip install -q Biopython\n",
        "!pip install -q scanpy"
      ],
      "id": "UYVtE57QBy92"
    },
    {
      "cell_type": "code",
      "execution_count": null,
      "metadata": {
        "id": "FQUmN0NcTy8z",
        "colab": {
          "base_uri": "https://localhost:8080/",
          "height": 35
        },
        "outputId": "68d17e2d-76df-4248-fe5b-fcb0fb7ea843"
      },
      "outputs": [
        {
          "output_type": "execute_result",
          "data": {
            "text/plain": [
              "'0.33.0+97.ga86be5c'"
            ],
            "application/vnd.google.colaboratory.intrinsic+json": {
              "type": "string"
            }
          },
          "metadata": {},
          "execution_count": 14
        }
      ],
      "source": [
        "import scanpy as sc\n",
        "import anndata\n",
        "\n",
        "import graphistry\n",
        "graphistry.register(api=3,protocol=\"https\", server=\"hub.graphistry.com\", username=g_user, password=g_pass) ## key id, secret key\n",
        "\n",
        "graphistry.__version__\n"
      ],
      "id": "FQUmN0NcTy8z"
    },
    {
      "cell_type": "code",
      "execution_count": null,
      "metadata": {
        "id": "0i3vYvSw-OyK",
        "colab": {
          "base_uri": "https://localhost:8080/"
        },
        "outputId": "98e55a32-c279-4f40-9544-81dd4459d0ff"
      },
      "outputs": [
        {
          "output_type": "stream",
          "name": "stdout",
          "text": [
            "Mon Jul  8 12:42:32 2024       \n",
            "+---------------------------------------------------------------------------------------+\n",
            "| NVIDIA-SMI 535.104.05             Driver Version: 535.104.05   CUDA Version: 12.2     |\n",
            "|-----------------------------------------+----------------------+----------------------+\n",
            "| GPU  Name                 Persistence-M | Bus-Id        Disp.A | Volatile Uncorr. ECC |\n",
            "| Fan  Temp   Perf          Pwr:Usage/Cap |         Memory-Usage | GPU-Util  Compute M. |\n",
            "|                                         |                      |               MIG M. |\n",
            "|=========================================+======================+======================|\n",
            "|   0  Tesla T4                       Off | 00000000:00:04.0 Off |                    0 |\n",
            "| N/A   44C    P8               9W /  70W |      0MiB / 15360MiB |      0%      Default |\n",
            "|                                         |                      |                  N/A |\n",
            "+-----------------------------------------+----------------------+----------------------+\n",
            "                                                                                         \n",
            "+---------------------------------------------------------------------------------------+\n",
            "| Processes:                                                                            |\n",
            "|  GPU   GI   CI        PID   Type   Process name                            GPU Memory |\n",
            "|        ID   ID                                                             Usage      |\n",
            "|=======================================================================================|\n",
            "|  No running processes found                                                           |\n",
            "+---------------------------------------------------------------------------------------+\n"
          ]
        }
      ],
      "source": [
        "!nvidia-smi"
      ],
      "id": "0i3vYvSw-OyK"
    },
    {
      "cell_type": "code",
      "execution_count": null,
      "metadata": {
        "id": "y_CdnuiH-Ras",
        "colab": {
          "base_uri": "https://localhost:8080/",
          "height": 35
        },
        "outputId": "1d42ea6c-0c23-475e-b656-bd6b4dfc5543"
      },
      "outputs": [
        {
          "output_type": "execute_result",
          "data": {
            "text/plain": [
              "'24.06.01'"
            ],
            "application/vnd.google.colaboratory.intrinsic+json": {
              "type": "string"
            }
          },
          "metadata": {},
          "execution_count": 16
        }
      ],
      "source": [
        "import cuml, cudf\n",
        "cuml.__version__"
      ],
      "id": "y_CdnuiH-Ras"
    },
    {
      "cell_type": "markdown",
      "metadata": {
        "id": "lqWE36v0vU6l"
      },
      "source": [
        "## Data Download & Description"
      ],
      "id": "lqWE36v0vU6l"
    },
    {
      "cell_type": "code",
      "source": [
        "import locale\n",
        "locale.getpreferredencoding = lambda: \"UTF-8\"\n",
        "!pip install kaggle -q"
      ],
      "metadata": {
        "id": "49GjBuuezGSS"
      },
      "id": "49GjBuuezGSS",
      "execution_count": null,
      "outputs": []
    },
    {
      "cell_type": "markdown",
      "source": [
        "For raw data, get a free Kaggle account from https://www.kaggle.com/docs/api"
      ],
      "metadata": {
        "id": "B72Ptlxg7EA9"
      },
      "id": "B72Ptlxg7EA9"
    },
    {
      "cell_type": "code",
      "source": [
        "from google.colab import userdata\n",
        "kaggle_user=userdata.get('kaggle_user')\n",
        "kaggle_pass=userdata.get('kaggle_pass')"
      ],
      "metadata": {
        "id": "ORm-LwpJSZIo"
      },
      "id": "ORm-LwpJSZIo",
      "execution_count": null,
      "outputs": []
    },
    {
      "cell_type": "code",
      "source": [
        "from google.colab import files\n",
        "\n",
        "uploaded = files.upload()\n",
        "\n",
        "for fn in uploaded.keys():\n",
        "  print('User uploaded file \"{name}\" with length {length} bytes'.format(\n",
        "      name=fn, length=len(uploaded[fn])))\n",
        "\n",
        "# Then move kaggle.json into the folder where the API expects to find it.\n",
        "!mkdir -p ~/.kaggle/ && mv kaggle.json ~/.kaggle/ && chmod 600 ~/.kaggle/kaggle.json"
      ],
      "metadata": {
        "colab": {
          "base_uri": "https://localhost:8080/",
          "height": 92
        },
        "id": "kjZSLidBSgd-",
        "outputId": "dda18fd3-b28c-4b4e-d351-84eb584970f7"
      },
      "id": "kjZSLidBSgd-",
      "execution_count": null,
      "outputs": [
        {
          "output_type": "display_data",
          "data": {
            "text/plain": [
              "<IPython.core.display.HTML object>"
            ],
            "text/html": [
              "\n",
              "     <input type=\"file\" id=\"files-06f4a467-ebbf-4791-93e2-dd99b98f2e40\" name=\"files[]\" multiple disabled\n",
              "        style=\"border:none\" />\n",
              "     <output id=\"result-06f4a467-ebbf-4791-93e2-dd99b98f2e40\">\n",
              "      Upload widget is only available when the cell has been executed in the\n",
              "      current browser session. Please rerun this cell to enable.\n",
              "      </output>\n",
              "      <script>// Copyright 2017 Google LLC\n",
              "//\n",
              "// Licensed under the Apache License, Version 2.0 (the \"License\");\n",
              "// you may not use this file except in compliance with the License.\n",
              "// You may obtain a copy of the License at\n",
              "//\n",
              "//      http://www.apache.org/licenses/LICENSE-2.0\n",
              "//\n",
              "// Unless required by applicable law or agreed to in writing, software\n",
              "// distributed under the License is distributed on an \"AS IS\" BASIS,\n",
              "// WITHOUT WARRANTIES OR CONDITIONS OF ANY KIND, either express or implied.\n",
              "// See the License for the specific language governing permissions and\n",
              "// limitations under the License.\n",
              "\n",
              "/**\n",
              " * @fileoverview Helpers for google.colab Python module.\n",
              " */\n",
              "(function(scope) {\n",
              "function span(text, styleAttributes = {}) {\n",
              "  const element = document.createElement('span');\n",
              "  element.textContent = text;\n",
              "  for (const key of Object.keys(styleAttributes)) {\n",
              "    element.style[key] = styleAttributes[key];\n",
              "  }\n",
              "  return element;\n",
              "}\n",
              "\n",
              "// Max number of bytes which will be uploaded at a time.\n",
              "const MAX_PAYLOAD_SIZE = 100 * 1024;\n",
              "\n",
              "function _uploadFiles(inputId, outputId) {\n",
              "  const steps = uploadFilesStep(inputId, outputId);\n",
              "  const outputElement = document.getElementById(outputId);\n",
              "  // Cache steps on the outputElement to make it available for the next call\n",
              "  // to uploadFilesContinue from Python.\n",
              "  outputElement.steps = steps;\n",
              "\n",
              "  return _uploadFilesContinue(outputId);\n",
              "}\n",
              "\n",
              "// This is roughly an async generator (not supported in the browser yet),\n",
              "// where there are multiple asynchronous steps and the Python side is going\n",
              "// to poll for completion of each step.\n",
              "// This uses a Promise to block the python side on completion of each step,\n",
              "// then passes the result of the previous step as the input to the next step.\n",
              "function _uploadFilesContinue(outputId) {\n",
              "  const outputElement = document.getElementById(outputId);\n",
              "  const steps = outputElement.steps;\n",
              "\n",
              "  const next = steps.next(outputElement.lastPromiseValue);\n",
              "  return Promise.resolve(next.value.promise).then((value) => {\n",
              "    // Cache the last promise value to make it available to the next\n",
              "    // step of the generator.\n",
              "    outputElement.lastPromiseValue = value;\n",
              "    return next.value.response;\n",
              "  });\n",
              "}\n",
              "\n",
              "/**\n",
              " * Generator function which is called between each async step of the upload\n",
              " * process.\n",
              " * @param {string} inputId Element ID of the input file picker element.\n",
              " * @param {string} outputId Element ID of the output display.\n",
              " * @return {!Iterable<!Object>} Iterable of next steps.\n",
              " */\n",
              "function* uploadFilesStep(inputId, outputId) {\n",
              "  const inputElement = document.getElementById(inputId);\n",
              "  inputElement.disabled = false;\n",
              "\n",
              "  const outputElement = document.getElementById(outputId);\n",
              "  outputElement.innerHTML = '';\n",
              "\n",
              "  const pickedPromise = new Promise((resolve) => {\n",
              "    inputElement.addEventListener('change', (e) => {\n",
              "      resolve(e.target.files);\n",
              "    });\n",
              "  });\n",
              "\n",
              "  const cancel = document.createElement('button');\n",
              "  inputElement.parentElement.appendChild(cancel);\n",
              "  cancel.textContent = 'Cancel upload';\n",
              "  const cancelPromise = new Promise((resolve) => {\n",
              "    cancel.onclick = () => {\n",
              "      resolve(null);\n",
              "    };\n",
              "  });\n",
              "\n",
              "  // Wait for the user to pick the files.\n",
              "  const files = yield {\n",
              "    promise: Promise.race([pickedPromise, cancelPromise]),\n",
              "    response: {\n",
              "      action: 'starting',\n",
              "    }\n",
              "  };\n",
              "\n",
              "  cancel.remove();\n",
              "\n",
              "  // Disable the input element since further picks are not allowed.\n",
              "  inputElement.disabled = true;\n",
              "\n",
              "  if (!files) {\n",
              "    return {\n",
              "      response: {\n",
              "        action: 'complete',\n",
              "      }\n",
              "    };\n",
              "  }\n",
              "\n",
              "  for (const file of files) {\n",
              "    const li = document.createElement('li');\n",
              "    li.append(span(file.name, {fontWeight: 'bold'}));\n",
              "    li.append(span(\n",
              "        `(${file.type || 'n/a'}) - ${file.size} bytes, ` +\n",
              "        `last modified: ${\n",
              "            file.lastModifiedDate ? file.lastModifiedDate.toLocaleDateString() :\n",
              "                                    'n/a'} - `));\n",
              "    const percent = span('0% done');\n",
              "    li.appendChild(percent);\n",
              "\n",
              "    outputElement.appendChild(li);\n",
              "\n",
              "    const fileDataPromise = new Promise((resolve) => {\n",
              "      const reader = new FileReader();\n",
              "      reader.onload = (e) => {\n",
              "        resolve(e.target.result);\n",
              "      };\n",
              "      reader.readAsArrayBuffer(file);\n",
              "    });\n",
              "    // Wait for the data to be ready.\n",
              "    let fileData = yield {\n",
              "      promise: fileDataPromise,\n",
              "      response: {\n",
              "        action: 'continue',\n",
              "      }\n",
              "    };\n",
              "\n",
              "    // Use a chunked sending to avoid message size limits. See b/62115660.\n",
              "    let position = 0;\n",
              "    do {\n",
              "      const length = Math.min(fileData.byteLength - position, MAX_PAYLOAD_SIZE);\n",
              "      const chunk = new Uint8Array(fileData, position, length);\n",
              "      position += length;\n",
              "\n",
              "      const base64 = btoa(String.fromCharCode.apply(null, chunk));\n",
              "      yield {\n",
              "        response: {\n",
              "          action: 'append',\n",
              "          file: file.name,\n",
              "          data: base64,\n",
              "        },\n",
              "      };\n",
              "\n",
              "      let percentDone = fileData.byteLength === 0 ?\n",
              "          100 :\n",
              "          Math.round((position / fileData.byteLength) * 100);\n",
              "      percent.textContent = `${percentDone}% done`;\n",
              "\n",
              "    } while (position < fileData.byteLength);\n",
              "  }\n",
              "\n",
              "  // All done.\n",
              "  yield {\n",
              "    response: {\n",
              "      action: 'complete',\n",
              "    }\n",
              "  };\n",
              "}\n",
              "\n",
              "scope.google = scope.google || {};\n",
              "scope.google.colab = scope.google.colab || {};\n",
              "scope.google.colab._files = {\n",
              "  _uploadFiles,\n",
              "  _uploadFilesContinue,\n",
              "};\n",
              "})(self);\n",
              "</script> "
            ]
          },
          "metadata": {}
        },
        {
          "output_type": "stream",
          "name": "stdout",
          "text": [
            "Saving kaggle.json to kaggle.json\n",
            "User uploaded file \"kaggle.json\" with length 62 bytes\n"
          ]
        }
      ]
    },
    {
      "cell_type": "code",
      "source": [
        "#download 2 single cell datasets\n",
        "import kaggle as kg\n",
        "import pandas as pd\n",
        "import os\n",
        "\n",
        "os.environ['KAGGLE_USERNAME'] = kaggle_user\n",
        "os.environ['KAGGLE_KEY'] = kaggle_pass\n",
        "\n",
        "kg.api.authenticate()\n",
        "kg.api.dataset_download_file(dataset = \"alexandervc/scrnaseq-collection-of-datasets\", file_name='Cytotrace/GSE67123_6.h5ad')\n",
        "kg.api.dataset_download_file(dataset = \"alexandervc/scrnaseq-collection-of-datasets\", file_name='Cytotrace/GSE107910_40.h5ad')\n",
        "\n",
        "!unzip -o GSE107910_40.h5ad.zip\n",
        "!unzip -o GSE67123_6.h5ad.zip\n",
        "\n",
        "!mkdir -p single_cell\n",
        "!mv *.h5ad single_cell"
      ],
      "metadata": {
        "colab": {
          "base_uri": "https://localhost:8080/"
        },
        "id": "Mc-Q8Y-A0aLS",
        "outputId": "30754e5b-69d0-4080-9c16-19cf9ffa85ff"
      },
      "id": "Mc-Q8Y-A0aLS",
      "execution_count": null,
      "outputs": [
        {
          "output_type": "stream",
          "name": "stdout",
          "text": [
            "Dataset URL: https://www.kaggle.com/datasets/alexandervc/scrnaseq-collection-of-datasets\n",
            "Dataset URL: https://www.kaggle.com/datasets/alexandervc/scrnaseq-collection-of-datasets\n",
            "Archive:  GSE107910_40.h5ad.zip\n",
            "  inflating: GSE107910_40.h5ad       \n",
            "Archive:  GSE67123_6.h5ad.zip\n",
            "  inflating: GSE67123_6.h5ad         \n"
          ]
        }
      ]
    },
    {
      "cell_type": "code",
      "execution_count": null,
      "metadata": {
        "id": "ff46a8c8-5882-41a6-83ce-eb8c00c2fc70",
        "colab": {
          "base_uri": "https://localhost:8080/"
        },
        "outputId": "735b9597-2012-4916-f4e3-c2270c680b43"
      },
      "outputs": [
        {
          "output_type": "stream",
          "name": "stdout",
          "text": [
            "['Thymus (Drop-seq)' 'Validation' '15429' '9307.0' 'nan' '9307' '19530'\n",
            " '8' '8' 'UMI' 'Mouse' '1' 'Thymus' 'Drop-seq' 'Timepoints' 'in vivo'\n",
            " '29884461' '20180619' 'GSE107910' 'Immunity'\n",
            " 'Only hematopoietic cells, selected based on detectable Ptprc expression, were considered in this dataset. ']\n",
            "\n",
            "['Embryonic HSCs (Tang et al.)' 'Validation' '143' 'nan' 'nan' '143'\n",
            " '24028' '5' '5' 'TPM/FPKM' 'Mouse' '1' 'Embryo' 'Tang et al.'\n",
            " 'Timepoints' 'in vivo' '27225119' '20160526' 'GSE67123' 'Nature' 'nan']\n",
            "\n"
          ]
        }
      ],
      "source": [
        "list_files = []\n",
        "for dirname, _, filenames in os.walk('single_cell'):\n",
        "    for filename in filenames:\n",
        "        list_files.append(os.path.join(dirname, filename))\n",
        "\n",
        "for fn in list_files:\n",
        "    adata = sc.read(fn)\n",
        "    print( adata.uns['info'] )\n",
        "    print()"
      ],
      "id": "ff46a8c8-5882-41a6-83ce-eb8c00c2fc70"
    },
    {
      "cell_type": "markdown",
      "metadata": {
        "id": "dQaaHeHu7X54"
      },
      "source": [
        "# compute UMAP on GPU for GSE107910_40 Murine Thymus cells\n",
        "\n",
        "\n",
        "\n",
        "\n"
      ],
      "id": "dQaaHeHu7X54"
    },
    {
      "cell_type": "code",
      "execution_count": null,
      "metadata": {
        "id": "cc6f3beb-13c9-4d11-b8b2-35676f711f50",
        "colab": {
          "base_uri": "https://localhost:8080/"
        },
        "outputId": "7b79b744-e23d-4182-b2bb-5082977e92db"
      },
      "outputs": [
        {
          "output_type": "stream",
          "name": "stderr",
          "text": [
            "WARNING:graphistry.util.memoization:! Failed umap speedup attempt. Continuing without memoization speedups.WARNING:graphistry.umap_utils:* Ignoring target column of shape (18335, 0) in UMAP fit, as it is not one dimensional"
          ]
        },
        {
          "output_type": "stream",
          "name": "stdout",
          "text": [
            "\n",
            " Total  38.1 seconds passed\n"
          ]
        }
      ],
      "source": [
        "fn='single_cell/GSE107910_40.h5ad'\n",
        "adata = sc.read(fn)\n",
        "str_data_inf = fn.split('/')[1].split('.')[0] + ' ' + str(adata.X.shape)+'\\n' + adata.uns['info'][0]\n",
        "\n",
        "EE=pd.DataFrame(adata.X,columns=adata.uns['gcsGenesNames'],index=adata.uns['allcellnames'])\n",
        "g1=graphistry.nodes(cudf.from_pandas(EE.T))\n",
        "t0 = time.time()\n",
        "\n",
        "g22 = g1.umap(\n",
        "            use_scaler='robust', ## zscale, minmax, standard, normal,\n",
        "            n_components=2,\n",
        "            n_neighbors=12,\n",
        "            engine='cuml' ## cannot even run in available RAM, try by switching to engine='umap_learn'\n",
        "    )\n",
        "\n",
        "print('\\n Total ', np.round(time.time() - t0,1), 'seconds passed')\n"
      ],
      "id": "cc6f3beb-13c9-4d11-b8b2-35676f711f50"
    },
    {
      "cell_type": "code",
      "execution_count": null,
      "metadata": {
        "id": "8USJgBC34bEt",
        "colab": {
          "base_uri": "https://localhost:8080/",
          "height": 543
        },
        "outputId": "cab7972c-e452-4d43-d216-fab920b572eb"
      },
      "outputs": [
        {
          "output_type": "execute_result",
          "data": {
            "text/plain": [
              "<IPython.core.display.HTML object>"
            ],
            "text/html": [
              "\n",
              "            <iframe id=\"a3f4aecb-2ab4-4341-b943-e665e09c8552\" src=\"https://hub.graphistry.com/graph/graph.html?dataset=777887e104bc48bab2c93878e0f07db3&type=arrow&viztoken=e3e828df-6274-41fd-b280-04c75bd0bedc&usertag=8936d5b5-pygraphistry-0.33.0+97.ga86be5c&splashAfter=1720443335&info=true&play=0\"\n",
              "                    allowfullscreen=\"true\" webkitallowfullscreen=\"true\" mozallowfullscreen=\"true\"\n",
              "                    oallowfullscreen=\"true\" msallowfullscreen=\"true\"\n",
              "                    style=\"width:100%; height:500px; border: 1px solid #DDD; overflow: hidden\"\n",
              "                    \n",
              "            >\n",
              "            </iframe>\n",
              "        \n",
              "            <script>\n",
              "                try {\n",
              "                  $(\"#a3f4aecb-2ab4-4341-b943-e665e09c8552\").bind('mousewheel', function(e) { e.preventDefault(); });\n",
              "                } catch (e) { console.error('exn catching scroll', e); }\n",
              "            </script>\n",
              "        "
            ]
          },
          "metadata": {},
          "execution_count": 12
        }
      ],
      "source": [
        "emb2=g22._node_embedding\n",
        "\n",
        "A=emb2.reset_index()['index'].to_pandas()\n",
        "\n",
        "B=g22._edges\n",
        "B['_src_implicit'] = B['_src_implicit'].replace(A, regex=True)\n",
        "B['_dst_implicit'] = B['_dst_implicit'].replace(A, regex=True)\n",
        "\n",
        "g33=graphistry.nodes(emb2.reset_index(),'index').edges(g11._edges.dropna(),'_src_implicit','_dst_implicit').bind(point_x=\"x\",point_y=\"y\").settings(url_params={\"play\":0})\n",
        "\n",
        "g33.plot()"
      ],
      "id": "8USJgBC34bEt"
    },
    {
      "cell_type": "markdown",
      "source": [
        "## this paper was specifically interested in peak mitosis genes, ie [\"Tirosh\" genes](https://genome.cshlp.org/content/25/12/1860.short), so lets zoom in on those"
      ],
      "metadata": {
        "id": "ToIOD-XzO7JD"
      },
      "id": "ToIOD-XzO7JD"
    },
    {
      "cell_type": "code",
      "source": [
        "fn='single_cell/GSE107910_40.h5ad'\n",
        "import scanpy as sc\n",
        "import anndata\n",
        "adata = sc.read(fn)\n",
        "str_data_inf = fn.split('/')[1].split('.')[0] + ' ' + str(adata.X.shape)+'\\n' + adata.uns['info'][0]\n"
      ],
      "metadata": {
        "id": "B_qu0elxdY_w"
      },
      "id": "B_qu0elxdY_w",
      "execution_count": null,
      "outputs": []
    },
    {
      "cell_type": "code",
      "source": [
        "import numpy as np\n",
        "import pandas as pd"
      ],
      "metadata": {
        "id": "Ty0JI0fed1po"
      },
      "id": "Ty0JI0fed1po",
      "execution_count": null,
      "outputs": []
    },
    {
      "cell_type": "code",
      "source": [
        "S_phase_genes_Tirosh = ['MCM5', 'PCNA', 'TYMS', 'FEN1', 'MCM2', 'MCM4', 'RRM1', 'UNG', 'GINS2', 'MCM6', 'CDCA7', 'DTL', 'PRIM1', 'UHRF1', 'MLF1IP', 'HELLS', 'RFC2', 'RPA2', 'NASP', 'RAD51AP1', 'GMNN', 'WDR76', 'SLBP', 'CCNE2', 'UBR7', 'POLD3', 'MSH2', 'ATAD2', 'RAD51', 'RRM2', 'CDC45', 'CDC6', 'EXO1', 'TIPIN', 'DSCC1', 'BLM', 'CASP8AP2', 'USP1', 'CLSPN', 'POLA1', 'CHAF1B', 'BRIP1', 'E2F8']\n",
        "G2_M_genes_Tirosh = ['HMGB2', 'CDK1', 'NUSAP1', 'UBE2C', 'BIRC5', 'TPX2', 'TOP2A', 'NDC80', 'CKS2', 'NUF2', 'CKS1B', 'MKI67', 'TMPO', 'CENPF', 'TACC3', 'FAM64A', 'SMC4', 'CCNB2', 'CKAP2L', 'CKAP2', 'AURKB', 'BUB1', 'KIF11', 'ANP32E', 'TUBB4B', 'GTSE1', 'KIF20B', 'HJURP', 'CDCA3', 'HN1', 'CDC20', 'TTK', 'CDC25C', 'KIF2C', 'RANGAP1', 'NCAPD2', 'DLGAP5', 'CDCA2', 'CDCA8', 'ECT2', 'KIF23', 'HMMR', 'AURKA', 'PSRC1', 'ANLN', 'LBR', 'CKAP5', 'CENPE', 'CTCF', 'NEK2', 'G2E3', 'GAS2L3', 'CBX5', 'CENPA']\n",
        "u = 'allgenenames'\n",
        "list_genes_upper = [t.upper() for t in adata.uns[u] ]\n",
        "I = np.where( pd.Series(list_genes_upper).isin( S_phase_genes_Tirosh + G2_M_genes_Tirosh ) )[0]\n"
      ],
      "metadata": {
        "id": "XW2PejpWO4Ta"
      },
      "id": "XW2PejpWO4Ta",
      "execution_count": null,
      "outputs": []
    },
    {
      "cell_type": "markdown",
      "source": [
        "## CPU UMAP"
      ],
      "metadata": {
        "id": "bJ7h6QjQemw_"
      },
      "id": "bJ7h6QjQemw_"
    },
    {
      "cell_type": "code",
      "source": [
        "EE=pd.DataFrame(adata.X[:,I],columns=adata.uns['gcsGenesNames'][I],index=adata.uns['allcellnames'])\n",
        "g1=graphistry.nodes(cudf.from_pandas(EE.T))\n",
        "t0 = time.time()\n",
        "\n",
        "g11 = g1.umap(\n",
        "            use_scaler='robust', ## zscale, minmax, standard, normal,\n",
        "            n_components=2,\n",
        "            n_neighbors=12,\n",
        "            engine='umap_learn'\n",
        "    )\n",
        "\n",
        "\n",
        "print('\\n Total ', np.round(time.time() - t0,1), 'seconds passed')\n"
      ],
      "metadata": {
        "colab": {
          "base_uri": "https://localhost:8080/"
        },
        "id": "YW2M1hwTekeW",
        "outputId": "7661f1d1-5747-4b9a-ae13-5e3754e6f1cf"
      },
      "id": "YW2M1hwTekeW",
      "execution_count": null,
      "outputs": [
        {
          "output_type": "stream",
          "name": "stderr",
          "text": [
            "WARNING:graphistry.umap_utils:* Ignoring target column of shape (96, 0) in UMAP fit, as it is not one dimensional"
          ]
        },
        {
          "output_type": "stream",
          "name": "stdout",
          "text": [
            "\n",
            " Total  26.6 seconds passed\n"
          ]
        }
      ]
    },
    {
      "cell_type": "markdown",
      "source": [
        "### GPU UMAP"
      ],
      "metadata": {
        "id": "tnH6euKnenSJ"
      },
      "id": "tnH6euKnenSJ"
    },
    {
      "cell_type": "code",
      "source": [
        "EE=pd.DataFrame(adata.X[:,I],columns=adata.uns['gcsGenesNames'][I],index=adata.uns['allcellnames'])\n",
        "g1=graphistry.nodes(cudf.from_pandas(EE.T)) #,columns=adata1.uns['gcsGenesNames']))\n",
        "\n",
        "t0 = time.time()\n",
        "\n",
        "g11 = g1.umap(\n",
        "            use_scaler='robust', ## zscale, minmax, standard, normal,\n",
        "            n_components=2,\n",
        "            n_neighbors=12,\n",
        "            engine='cuml'\n",
        "    )\n",
        "\n",
        "\n",
        "print('\\n Total ', np.round(time.time() - t0,1), 'seconds passed')\n"
      ],
      "metadata": {
        "colab": {
          "base_uri": "https://localhost:8080/"
        },
        "id": "0X3aqsRCO9gR",
        "outputId": "22d64c62-8f9f-4499-a8e7-cc5f098bcddd"
      },
      "id": "0X3aqsRCO9gR",
      "execution_count": null,
      "outputs": [
        {
          "output_type": "stream",
          "name": "stderr",
          "text": [
            "WARNING:graphistry.util.memoization:! Failed umap speedup attempt. Continuing without memoization speedups.WARNING:graphistry.umap_utils:* Ignoring target column of shape (96, 0) in UMAP fit, as it is not one dimensional"
          ]
        },
        {
          "output_type": "stream",
          "name": "stdout",
          "text": [
            "\n",
            " Total  15.5 seconds passed\n"
          ]
        }
      ]
    },
    {
      "cell_type": "markdown",
      "source": [
        "### Visualize\n",
        "\n",
        "* Nodes are cells\n",
        "* Edges are similarity relationships\n",
        "* Initial layout is from the UMAP dimensionality reduction to 2D\n",
        "* Interactive layout is an aesthetically-optimized force-directed graph over the similarity graph, which is more interpretable for dense clusters\n"
      ],
      "metadata": {
        "id": "F9yg_KST7-oK"
      },
      "id": "F9yg_KST7-oK"
    },
    {
      "cell_type": "code",
      "source": [
        "g11.plot()"
      ],
      "metadata": {
        "colab": {
          "base_uri": "https://localhost:8080/",
          "height": 543
        },
        "id": "OIxdQw4DO9jF",
        "outputId": "395b79f0-be12-407f-9653-a17508b76a2e"
      },
      "id": "OIxdQw4DO9jF",
      "execution_count": null,
      "outputs": [
        {
          "output_type": "execute_result",
          "data": {
            "text/plain": [
              "<IPython.core.display.HTML object>"
            ],
            "text/html": [
              "\n",
              "            <iframe id=\"9f01ec6d-7829-43f3-b5d5-b368b45b03b2\" src=\"https://hub.graphistry.com/graph/graph.html?dataset=6da8446f5a284933a856f4d96b762eca&type=arrow&viztoken=77dc517d-bb3b-4c50-8c46-4a550e285350&usertag=8936d5b5-pygraphistry-0.33.0+97.ga86be5c&splashAfter=1720444508&info=true&play=0\"\n",
              "                    allowfullscreen=\"true\" webkitallowfullscreen=\"true\" mozallowfullscreen=\"true\"\n",
              "                    oallowfullscreen=\"true\" msallowfullscreen=\"true\"\n",
              "                    style=\"width:100%; height:500px; border: 1px solid #DDD; overflow: hidden\"\n",
              "                    \n",
              "            >\n",
              "            </iframe>\n",
              "        \n",
              "            <script>\n",
              "                try {\n",
              "                  $(\"#9f01ec6d-7829-43f3-b5d5-b368b45b03b2\").bind('mousewheel', function(e) { e.preventDefault(); });\n",
              "                } catch (e) { console.error('exn catching scroll', e); }\n",
              "            </script>\n",
              "        "
            ]
          },
          "metadata": {},
          "execution_count": 24
        }
      ]
    }
  ],
  "metadata": {
    "accelerator": "GPU",
    "colab": {
      "provenance": [],
      "gpuType": "T4"
    },
    "kernelspec": {
      "display_name": "Python 3",
      "name": "python3"
    },
    "language_info": {
      "codemirror_mode": {
        "name": "ipython",
        "version": 3
      },
      "file_extension": ".py",
      "mimetype": "text/x-python",
      "name": "python",
      "nbconvert_exporter": "python",
      "pygments_lexer": "ipython3",
      "version": "3.8.13"
    }
  },
  "nbformat": 4,
  "nbformat_minor": 5
}