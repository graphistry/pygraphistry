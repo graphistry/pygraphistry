{
  "cells": [
    {
      "cell_type": "markdown",
      "metadata": {
        "id": "ozrca88hza85"
      },
      "source": [
        "# Accelerating metagenomic analysis with [Graphistry](graphistry.com) focusing on viral tracing over time\n",
        "\n",
        "## [viral calling pipeline here](https://github.com/dcolinmorgan/viral_snake)"
      ]
    },
    {
      "cell_type": "markdown",
      "metadata": {
        "id": "tLRHg2VEzoYy"
      },
      "source": [
        "Using GPU-accelerated UMAP + DBScan analysis & visualization, metagenomic samples' bacterial compositions can be clustered and compared faster and much more easily explored.\n",
        "\n",
        "*   Task: Analyze metagenomic samples for similarity\n",
        "*   Data: time series samples\n",
        "*   563 samples collected from 84 donors, producing 4 dense long-term time series (up to 1 sample every other day during 18 months)\n",
        "* Clustering: the species component extracted from time-stamped patient samples, e.g., tuple of <idx=0, time=1, donor=aa, species=abc>\n",
        "* Each **node** is <idx=0, rel_time=0, value=abc>, and clustering is on species=abc text similarity\n",
        "* *n.b.* since species text is full taxa information, text comparison can return degree similarity\n",
        "\n",
        "*   [data](https://www.ebi.ac.uk/ena/browser/view/PRJNA544527)\n",
        "*   [metadata](https://static-content.springer.com/esm/art%3A10.1038%2Fs41591-019-0559-3/MediaObjects/41591_2019_559_MOESM3_ESM.xlsx)\n",
        "*   [paper](https://sci-hub.se/10.1038/s41591-019-0559-3)\n",
        "\n",
        "\n",
        "**Insight/ Result:**\n",
        "\n",
        "* 43s to umap and dbscan vs 2342s on a small T4 GPU\n",
        "* over **50X** faster for a single run\n",
        "* since [the reference paper for this analysis](https://journals.asm.org/doi/full/10.1128/msystems.00118-23) runs this analysis 12x per dataset (here we only have 1 dataset), we could expect to save nearly the entire 8hrs for this dataset, taking less than 10 minutes in total"
      ]
    },
    {
      "cell_type": "markdown",
      "metadata": {
        "id": "PjnS_PCWaClg"
      },
      "source": [
        "# Setup"
      ]
    },
    {
      "cell_type": "code",
      "execution_count": null,
      "metadata": {
        "id": "pFKuEaZClwXa"
      },
      "outputs": [],
      "source": [
        "!pip install -q --extra-index-url=https://pypi.nvidia.com cuml-cu12\n",
        "import cuml,cudf\n",
        "print(cuml.__version__)\n",
        "\n",
        "!pip -q install graphistry[ai]\n",
        "\n",
        "!pip install -q Biopython"
      ]
    },
    {
      "cell_type": "code",
      "execution_count": null,
      "metadata": {
        "id": "Ob5QrPuiAf-Q"
      },
      "outputs": [],
      "source": [
        "import locale\n",
        "def getpreferredencoding(do_setlocale = True):\n",
        "    return \"UTF-8\"\n",
        "locale.getpreferredencoding = getpreferredencoding"
      ]
    },
    {
      "cell_type": "markdown",
      "metadata": {
        "id": "HK_8_7UB0mhx"
      },
      "source": [
        "# import /configure\n",
        "\n",
        "visualization step, get a free API key at https://hub.graphistry.com\n"
      ]
    },
    {
      "cell_type": "code",
      "execution_count": null,
      "metadata": {
        "colab": {
          "base_uri": "https://localhost:8080/"
        },
        "id": "i42QrQ_ejC4h",
        "outputId": "f8c19225-336f-4dd9-e2eb-7b23e184bc51"
      },
      "outputs": [
        {
          "name": "stdout",
          "output_type": "stream",
          "text": [
            "24.06.01\n"
          ]
        }
      ],
      "source": [
        "import numpy as np\n",
        "import pandas as pd\n",
        "import graphistry\n",
        "from time import time\n",
        "\n",
        "graphistry.register(api=3,protocol=\"https\", server=\"hub.graphistry.com\", username=g_user, password=g_pass) ## key id, secret key\n",
        "graphistry.__version__\n",
        "\n",
        "import cuml,cudf\n",
        "print(cuml.__version__)"
      ]
    },
    {
      "cell_type": "markdown",
      "metadata": {
        "id": "_Y1VlCGy4_FR"
      },
      "source": [
        "# bio-ml dataset\n",
        "\n",
        "\n",
        "1.   [3 subjects x 10 time points](\n",
        "https://www.ebi.ac.uk/ena/browser/view/PRJNA544527)\n",
        "\n",
        "2.  [metadata](\n",
        "https://static-content.springer.com/esm/art%3A10.1038%2Fs41591-019-0559-3/MediaObjects/41591_2019_559_MOESM3_ESM.xlsx)"
      ]
    },
    {
      "cell_type": "code",
      "execution_count": null,
      "metadata": {
        "id": "hO1HFIMO6ttV"
      },
      "outputs": [],
      "source": [
        "!wget https://gist.githubusercontent.com/lmeyerov/61a6a7d5fa0dbe51e786ed52408ac360/raw/11a11aa0b865ceb96880b2cd2ae3b12f1ef947c8/gistfile1.txt -O PRJNA544527_mpa4out.txt"
      ]
    },
    {
      "cell_type": "code",
      "execution_count": null,
      "metadata": {
        "id": "CBN6Z_77Sduq"
      },
      "outputs": [],
      "source": [
        "%%bash\n",
        "if [ ! -f PRJNA544527_mpa4out.txt ]; then\n",
        "    !wget -nc ftp://ftp.sra.ebi.ac.uk/vol1/fastq/SRR922/006/SRR9224006/SRR9224006_1.fastq.gz\n",
        "    !wget -nc ftp://ftp.sra.ebi.ac.uk/vol1/fastq/SRR922/006/SRR9224006/SRR9224006_2.fastq.gz\n",
        "\n",
        "    !gunzip SRR9224006_1.fastq.gz\n",
        "    !gunzip SRR9224006_2.fastq.gz\n",
        "\n",
        "    !head /content/SRR9224006_1.fastq\n",
        "fi"
      ]
    },
    {
      "cell_type": "code",
      "execution_count": null,
      "metadata": {
        "id": "UWDGFCWxSpv_"
      },
      "outputs": [],
      "source": [
        "import os\n",
        "if not os.path.exists('PRJNA544527_mpa4out.txt'):\n",
        "    from Bio import SeqIO\n",
        "    import glob,os\n",
        "    import pandas as pd\n",
        "    B=pd.DataFrame()\n",
        "    for i in glob.glob('/content/*.fastq'):\n",
        "        # j=os.path.basename(i)\n",
        "        fasta_sequences = SeqIO.parse(open(i),'fastq')\n",
        "        identifiers = []\n",
        "        sequences = []\n",
        "        for fasta in fasta_sequences:\n",
        "            name, sequence = fasta.id, str(fasta.seq)\n",
        "            identifiers.append(name)\n",
        "            sequences.append(sequence)\n",
        "\n",
        "        A=pd.DataFrame([identifiers,sequences]).T\n",
        "        A.columns=['ID','seq']\n",
        "        A.dropna(inplace=True)\n",
        "        B=B.append(A)\n",
        "        # A['ID']#=A.ID.str.split('-')[0:1]\n",
        "    # B['ID']=B['ID'].str.split('-').str[0]+'_'+B['ID'].str.split('-').str[1]#.cat()\n",
        "    B['ID']=B.ID.str.split('_length').str[0]\n",
        "    B.index=B.ID"
      ]
    },
    {
      "cell_type": "markdown",
      "metadata": {
        "id": "fDvymRFjHPNB"
      },
      "source": [
        "# install [HUMAnN 3](https://huttenhower.sph.harvard.edu/humann), a method for efficiently and accurately profiling the abundance of microbial metabolic pathways and other molecular functions from metagenomic or metatranscriptomic sequencing data."
      ]
    },
    {
      "cell_type": "markdown",
      "metadata": {
        "id": "gtOG0QeoUoX6"
      },
      "source": [
        "### takes very long for running all samples\n",
        " (1day+ run on cluster)"
      ]
    },
    {
      "cell_type": "code",
      "execution_count": null,
      "metadata": {
        "id": "yIeeDXPBHN6D"
      },
      "outputs": [],
      "source": [
        "%%bash\n",
        "\n",
        "if [ ! -f PRJNA544527_mpa4out.txt ]; then\n",
        "\n",
        "    pip install humann --no-binary :all:\n",
        "    pip install metaphlan\n",
        "\n",
        "    humann_databases --download utility_mapping full /path/to/databases --update-config yes\n",
        "\n",
        "    # humann_test\n",
        "    wget https://github.com/biobakery/humann/raw/master/examples/demo.fastq.gz\n",
        "    humann -i demo.fastq.gz -o sample_results\n",
        "\n",
        "\n",
        "    mkdir assemble epi_sam_out mpa4_out\n",
        "    humann -i /content/All_MAGs/Sample_101_S75_bin_1.fa -o test_out\n",
        "\n",
        "\n",
        "    seq=$(ls /content/*.fastq | cut -d / -f2| cut -d _ -f1)\n",
        "\n",
        "    for i in $(eval \"echo \"$seq\" | cut -d _ -f1\")\n",
        "\n",
        "    do\n",
        "    metaphlan /content/${i}.fa --nproc 40 --input_type fasta -o /content/assemble/${i}/h4_out.txt -t rel_ab_w_read_stats\n",
        "    done\n",
        "fi"
      ]
    },
    {
      "cell_type": "markdown",
      "metadata": {
        "id": "dHbwBIEn6Wxr"
      },
      "source": [
        "# umap and dbscan\n",
        "\n",
        "idea for metagenomic analysis based on [Quantifying Shared and Unique Gene Content across 17 Microbial Ecosystems\n",
        "](https://journals.asm.org/doi/full/10.1128/msystems.00118-23)\n",
        "\n",
        "(analyze all samples run on cluster)\n",
        "\n",
        "also this [paper](https://genomebiology.biomedcentral.com/articles/10.1186/s13059-016-0997-x?ref=https://codemonkey.link#Sec7) and [method](https://github.com/marbl/Mash/blob/master/INSTALL.txt)\n",
        "\n"
      ]
    },
    {
      "cell_type": "code",
      "execution_count": null,
      "metadata": {
        "colab": {
          "base_uri": "https://localhost:8080/"
        },
        "id": "RoIBLY3-670T",
        "outputId": "7c1d8f5f-fc9f-44d3-9a3a-a268edc4c00c"
      },
      "outputs": [
        {
          "name": "stdout",
          "output_type": "stream",
          "text": [
            "--2024-07-09 07:23:29--  https://raw.githubusercontent.com/dcolinmorgan/grph/main/PRJNA544527-meta_inf.txt\n",
            "Resolving raw.githubusercontent.com (raw.githubusercontent.com)... 185.199.108.133, 185.199.109.133, 185.199.110.133, ...\n",
            "Connecting to raw.githubusercontent.com (raw.githubusercontent.com)|185.199.108.133|:443... connected.\n",
            "HTTP request sent, awaiting response... 200 OK\n",
            "Length: 45603 (45K) [text/plain]\n",
            "Saving to: ‘PRJNA544527-meta_inf.txt’\n",
            "\n",
            "\rPRJNA544527-meta_in   0%[                    ]       0  --.-KB/s               \rPRJNA544527-meta_in 100%[===================>]  44.53K  --.-KB/s    in 0.007s  \n",
            "\n",
            "2024-07-09 07:23:29 (6.40 MB/s) - ‘PRJNA544527-meta_inf.txt’ saved [45603/45603]\n",
            "\n",
            "--2024-07-09 07:23:29--  https://static-content.springer.com/esm/art%3A10.1038%2Fs41591-019-0559-3/MediaObjects/41591_2019_559_MOESM3_ESM.xlsx\n",
            "Resolving static-content.springer.com (static-content.springer.com)... 151.101.0.95, 151.101.64.95, 151.101.128.95, ...\n",
            "Connecting to static-content.springer.com (static-content.springer.com)|151.101.0.95|:443... connected.\n",
            "HTTP request sent, awaiting response... 200 OK\n",
            "Length: 3556857 (3.4M) [application/octet-stream]\n",
            "Saving to: ‘41591_2019_559_MOESM3_ESM.xlsx’\n",
            "\n",
            "41591_2019_559_MOES 100%[===================>]   3.39M  --.-KB/s    in 0.05s   \n",
            "\n",
            "2024-07-09 07:23:31 (69.7 MB/s) - ‘41591_2019_559_MOESM3_ESM.xlsx’ saved [3556857/3556857]\n",
            "\n"
          ]
        },
        {
          "name": "stderr",
          "output_type": "stream",
          "text": [
            "/usr/local/lib/python3.10/dist-packages/openpyxl/worksheet/_reader.py:329: UserWarning: Unknown extension is not supported and will be removed\n",
            "  warn(msg)\n"
          ]
        }
      ],
      "source": [
        "data=pd.read_csv('/content/PRJNA544527_mpa4out.txt',sep='\\t',skiprows=1,index_col=0)\n",
        "data.index=data.reset_index().clade_name.str.split('|',expand=True)[6]\n",
        "data=data.reset_index().dropna(axis=0)\n",
        "data.index=data[6]\n",
        "data=data.drop(columns=6)\n",
        "\n",
        "!wget https://gist.githubusercontent.com/lmeyerov/b650f1ef9e56c3f1888ebb009bc5ed46/raw/76dda5fabcdfbcdf0cc58450982fbeb4b2e38a98/PRJNA544527-meta_inf.txt\n",
        "meta=pd.read_csv('/content/PRJNA544527-meta_inf.txt',sep='\\t',header=None)\n",
        "\n",
        "mm=pd.merge(data.T,meta[[3,5]],left_index=True,right_on=3)\n",
        "\n",
        "mm['id']=mm[5].str.split('-').str[0]\n",
        "mm['time']=mm[5].str.split('_').str[0].str.split('-').str[1]\n",
        "\n",
        "!wget https://static-content.springer.com/esm/art%3A10.1038%2Fs41591-019-0559-3/MediaObjects/41591_2019_559_MOESM3_ESM.xlsx\n",
        "metaa=pd.read_excel('/content/41591_2019_559_MOESM3_ESM.xlsx',sheet_name='SupTable2',skiprows=3)\n",
        "metaa=metaa[['Donor','Age','Sex','BMI']]\n",
        "\n",
        "Full_table=pd.merge(mm,metaa,left_on='id',right_on='Donor')\n",
        "Full_table=Full_table.drop(columns=[3,\t5,\t'id'])\n",
        "\n",
        "data2=Full_table.melt(id_vars=['time','Donor','Age','Sex','BMI'])\n",
        "\n",
        "data2=data2.rename(columns={'variable':'species'})\n",
        "data2=data2.sort_values(by=['Donor','time','value'])"
      ]
    },
    {
      "cell_type": "code",
      "execution_count": null,
      "metadata": {
        "colab": {
          "base_uri": "https://localhost:8080/"
        },
        "id": "3FvFtKukoI7E",
        "outputId": "9077830f-9d07-4855-c391-50bd6071dde2"
      },
      "outputs": [
        {
          "data": {
            "text/plain": [
              "2678                s__Bacteroides_clarus_aa\n",
              "5378          s__Bacteroides_intestinalis_aa\n",
              "9158               s__Ruminococcus_bromii_aa\n",
              "12938                  s__GGB6601_SGB9333_aa\n",
              "13478                  s__GGB3256_SGB4303_aa\n",
              "                         ...                \n",
              "86343     s__Faecalibacterium_prausnitzii_dl\n",
              "2103          s__Phocaeicola_massiliensis_dl\n",
              "67983         s__Phocaeicola_massiliensis_dl\n",
              "5883      s__Faecalibacterium_prausnitzii_dl\n",
              "178143            s__Phocaeicola_plebeius_dl\n",
              "Length: 208440, dtype: object"
            ]
          },
          "execution_count": 9,
          "metadata": {},
          "output_type": "execute_result"
        }
      ],
      "source": [
        "(data2.species)+'_'+(data2.Donor)"
      ]
    },
    {
      "cell_type": "code",
      "execution_count": null,
      "metadata": {
        "colab": {
          "base_uri": "https://localhost:8080/",
          "height": 424
        },
        "id": "4savEas1jZyX",
        "outputId": "a9f7c2a2-5c50-402e-b03b-b7f1daf857a4"
      },
      "outputs": [
        {
          "data": {
            "application/vnd.google.colaboratory.intrinsic+json": {
              "summary": "{\n  \"name\": \"data2[data2['value']>1]\",\n  \"rows\": 14957,\n  \"fields\": [\n    {\n      \"column\": \"time\",\n      \"properties\": {\n        \"dtype\": \"category\",\n        \"num_unique_values\": 219,\n        \"samples\": [\n          \"0169\",\n          \"0098\",\n          \"0043\"\n        ],\n        \"semantic_type\": \"\",\n        \"description\": \"\"\n      }\n    },\n    {\n      \"column\": \"Donor\",\n      \"properties\": {\n        \"dtype\": \"category\",\n        \"num_unique_values\": 84,\n        \"samples\": [\n          \"db\",\n          \"aa\",\n          \"ck\"\n        ],\n        \"semantic_type\": \"\",\n        \"description\": \"\"\n      }\n    },\n    {\n      \"column\": \"Age\",\n      \"properties\": {\n        \"dtype\": \"number\",\n        \"std\": 5,\n        \"min\": 19,\n        \"max\": 45,\n        \"num_unique_values\": 23,\n        \"samples\": [\n          43,\n          28,\n          29\n        ],\n        \"semantic_type\": \"\",\n        \"description\": \"\"\n      }\n    },\n    {\n      \"column\": \"Sex\",\n      \"properties\": {\n        \"dtype\": \"category\",\n        \"num_unique_values\": 2,\n        \"samples\": [\n          \"Female\",\n          \"Male\"\n        ],\n        \"semantic_type\": \"\",\n        \"description\": \"\"\n      }\n    },\n    {\n      \"column\": \"BMI\",\n      \"properties\": {\n        \"dtype\": \"number\",\n        \"std\": 2.092398931918041,\n        \"min\": 17.6,\n        \"max\": 35.1,\n        \"num_unique_values\": 57,\n        \"samples\": [\n          24.1,\n          23.7\n        ],\n        \"semantic_type\": \"\",\n        \"description\": \"\"\n      }\n    },\n    {\n      \"column\": \"species\",\n      \"properties\": {\n        \"dtype\": \"category\",\n        \"num_unique_values\": 112,\n        \"samples\": [\n          \"s__Bacteroides_cellulosilyticus\",\n          \"s__Clostridiaceae_bacterium\"\n        ],\n        \"semantic_type\": \"\",\n        \"description\": \"\"\n      }\n    },\n    {\n      \"column\": \"value\",\n      \"properties\": {\n        \"dtype\": \"number\",\n        \"std\": 7.07963397515598,\n        \"min\": 1.00024,\n        \"max\": 100.0,\n        \"num_unique_values\": 8355,\n        \"samples\": [\n          2.30652,\n          9.30662\n        ],\n        \"semantic_type\": \"\",\n        \"description\": \"\"\n      }\n    }\n  ]\n}",
              "type": "dataframe"
            },
            "text/html": [
              "\n",
              "  <div id=\"df-b577db70-f804-4b3f-a7ab-b437c26df02b\" class=\"colab-df-container\">\n",
              "    <div>\n",
              "<style scoped>\n",
              "    .dataframe tbody tr th:only-of-type {\n",
              "        vertical-align: middle;\n",
              "    }\n",
              "\n",
              "    .dataframe tbody tr th {\n",
              "        vertical-align: top;\n",
              "    }\n",
              "\n",
              "    .dataframe thead th {\n",
              "        text-align: right;\n",
              "    }\n",
              "</style>\n",
              "<table border=\"1\" class=\"dataframe\">\n",
              "  <thead>\n",
              "    <tr style=\"text-align: right;\">\n",
              "      <th></th>\n",
              "      <th>time</th>\n",
              "      <th>Donor</th>\n",
              "      <th>Age</th>\n",
              "      <th>Sex</th>\n",
              "      <th>BMI</th>\n",
              "      <th>species</th>\n",
              "      <th>value</th>\n",
              "    </tr>\n",
              "  </thead>\n",
              "  <tbody>\n",
              "    <tr>\n",
              "      <th>39938</th>\n",
              "      <td>0154</td>\n",
              "      <td>aa</td>\n",
              "      <td>29</td>\n",
              "      <td>Male</td>\n",
              "      <td>24.1</td>\n",
              "      <td>s__Desulfovibrio_piger</td>\n",
              "      <td>1.00422</td>\n",
              "    </tr>\n",
              "    <tr>\n",
              "      <th>11318</th>\n",
              "      <td>0154</td>\n",
              "      <td>aa</td>\n",
              "      <td>29</td>\n",
              "      <td>Male</td>\n",
              "      <td>24.1</td>\n",
              "      <td>s__Odoribacter_splanchnicus</td>\n",
              "      <td>1.12785</td>\n",
              "    </tr>\n",
              "    <tr>\n",
              "      <th>77198</th>\n",
              "      <td>0154</td>\n",
              "      <td>aa</td>\n",
              "      <td>29</td>\n",
              "      <td>Male</td>\n",
              "      <td>24.1</td>\n",
              "      <td>s__Odoribacter_splanchnicus</td>\n",
              "      <td>1.12785</td>\n",
              "    </tr>\n",
              "    <tr>\n",
              "      <th>73418</th>\n",
              "      <td>0154</td>\n",
              "      <td>aa</td>\n",
              "      <td>29</td>\n",
              "      <td>Male</td>\n",
              "      <td>24.1</td>\n",
              "      <td>s__Faecalibacterium_prausnitzii</td>\n",
              "      <td>1.14483</td>\n",
              "    </tr>\n",
              "    <tr>\n",
              "      <th>183578</th>\n",
              "      <td>0154</td>\n",
              "      <td>aa</td>\n",
              "      <td>29</td>\n",
              "      <td>Male</td>\n",
              "      <td>24.1</td>\n",
              "      <td>s__GGB3304_SGB4367</td>\n",
              "      <td>1.24406</td>\n",
              "    </tr>\n",
              "    <tr>\n",
              "      <th>...</th>\n",
              "      <td>...</td>\n",
              "      <td>...</td>\n",
              "      <td>...</td>\n",
              "      <td>...</td>\n",
              "      <td>...</td>\n",
              "      <td>...</td>\n",
              "      <td>...</td>\n",
              "    </tr>\n",
              "    <tr>\n",
              "      <th>86343</th>\n",
              "      <td>0006</td>\n",
              "      <td>dl</td>\n",
              "      <td>32</td>\n",
              "      <td>Male</td>\n",
              "      <td>26.1</td>\n",
              "      <td>s__Faecalibacterium_prausnitzii</td>\n",
              "      <td>2.21002</td>\n",
              "    </tr>\n",
              "    <tr>\n",
              "      <th>2103</th>\n",
              "      <td>0006</td>\n",
              "      <td>dl</td>\n",
              "      <td>32</td>\n",
              "      <td>Male</td>\n",
              "      <td>26.1</td>\n",
              "      <td>s__Phocaeicola_massiliensis</td>\n",
              "      <td>3.84088</td>\n",
              "    </tr>\n",
              "    <tr>\n",
              "      <th>67983</th>\n",
              "      <td>0006</td>\n",
              "      <td>dl</td>\n",
              "      <td>32</td>\n",
              "      <td>Male</td>\n",
              "      <td>26.1</td>\n",
              "      <td>s__Phocaeicola_massiliensis</td>\n",
              "      <td>3.84088</td>\n",
              "    </tr>\n",
              "    <tr>\n",
              "      <th>5883</th>\n",
              "      <td>0006</td>\n",
              "      <td>dl</td>\n",
              "      <td>32</td>\n",
              "      <td>Male</td>\n",
              "      <td>26.1</td>\n",
              "      <td>s__Faecalibacterium_prausnitzii</td>\n",
              "      <td>4.37472</td>\n",
              "    </tr>\n",
              "    <tr>\n",
              "      <th>178143</th>\n",
              "      <td>0006</td>\n",
              "      <td>dl</td>\n",
              "      <td>32</td>\n",
              "      <td>Male</td>\n",
              "      <td>26.1</td>\n",
              "      <td>s__Phocaeicola_plebeius</td>\n",
              "      <td>28.49330</td>\n",
              "    </tr>\n",
              "  </tbody>\n",
              "</table>\n",
              "<p>14957 rows × 7 columns</p>\n",
              "</div>\n",
              "    <div class=\"colab-df-buttons\">\n",
              "\n",
              "  <div class=\"colab-df-container\">\n",
              "    <button class=\"colab-df-convert\" onclick=\"convertToInteractive('df-b577db70-f804-4b3f-a7ab-b437c26df02b')\"\n",
              "            title=\"Convert this dataframe to an interactive table.\"\n",
              "            style=\"display:none;\">\n",
              "\n",
              "  <svg xmlns=\"http://www.w3.org/2000/svg\" height=\"24px\" viewBox=\"0 -960 960 960\">\n",
              "    <path d=\"M120-120v-720h720v720H120Zm60-500h600v-160H180v160Zm220 220h160v-160H400v160Zm0 220h160v-160H400v160ZM180-400h160v-160H180v160Zm440 0h160v-160H620v160ZM180-180h160v-160H180v160Zm440 0h160v-160H620v160Z\"/>\n",
              "  </svg>\n",
              "    </button>\n",
              "\n",
              "  <style>\n",
              "    .colab-df-container {\n",
              "      display:flex;\n",
              "      gap: 12px;\n",
              "    }\n",
              "\n",
              "    .colab-df-convert {\n",
              "      background-color: #E8F0FE;\n",
              "      border: none;\n",
              "      border-radius: 50%;\n",
              "      cursor: pointer;\n",
              "      display: none;\n",
              "      fill: #1967D2;\n",
              "      height: 32px;\n",
              "      padding: 0 0 0 0;\n",
              "      width: 32px;\n",
              "    }\n",
              "\n",
              "    .colab-df-convert:hover {\n",
              "      background-color: #E2EBFA;\n",
              "      box-shadow: 0px 1px 2px rgba(60, 64, 67, 0.3), 0px 1px 3px 1px rgba(60, 64, 67, 0.15);\n",
              "      fill: #174EA6;\n",
              "    }\n",
              "\n",
              "    .colab-df-buttons div {\n",
              "      margin-bottom: 4px;\n",
              "    }\n",
              "\n",
              "    [theme=dark] .colab-df-convert {\n",
              "      background-color: #3B4455;\n",
              "      fill: #D2E3FC;\n",
              "    }\n",
              "\n",
              "    [theme=dark] .colab-df-convert:hover {\n",
              "      background-color: #434B5C;\n",
              "      box-shadow: 0px 1px 3px 1px rgba(0, 0, 0, 0.15);\n",
              "      filter: drop-shadow(0px 1px 2px rgba(0, 0, 0, 0.3));\n",
              "      fill: #FFFFFF;\n",
              "    }\n",
              "  </style>\n",
              "\n",
              "    <script>\n",
              "      const buttonEl =\n",
              "        document.querySelector('#df-b577db70-f804-4b3f-a7ab-b437c26df02b button.colab-df-convert');\n",
              "      buttonEl.style.display =\n",
              "        google.colab.kernel.accessAllowed ? 'block' : 'none';\n",
              "\n",
              "      async function convertToInteractive(key) {\n",
              "        const element = document.querySelector('#df-b577db70-f804-4b3f-a7ab-b437c26df02b');\n",
              "        const dataTable =\n",
              "          await google.colab.kernel.invokeFunction('convertToInteractive',\n",
              "                                                    [key], {});\n",
              "        if (!dataTable) return;\n",
              "\n",
              "        const docLinkHtml = 'Like what you see? Visit the ' +\n",
              "          '<a target=\"_blank\" href=https://colab.research.google.com/notebooks/data_table.ipynb>data table notebook</a>'\n",
              "          + ' to learn more about interactive tables.';\n",
              "        element.innerHTML = '';\n",
              "        dataTable['output_type'] = 'display_data';\n",
              "        await google.colab.output.renderOutput(dataTable, element);\n",
              "        const docLink = document.createElement('div');\n",
              "        docLink.innerHTML = docLinkHtml;\n",
              "        element.appendChild(docLink);\n",
              "      }\n",
              "    </script>\n",
              "  </div>\n",
              "\n",
              "\n",
              "<div id=\"df-9c45e461-bb75-489e-bace-e9533c9ece8f\">\n",
              "  <button class=\"colab-df-quickchart\" onclick=\"quickchart('df-9c45e461-bb75-489e-bace-e9533c9ece8f')\"\n",
              "            title=\"Suggest charts\"\n",
              "            style=\"display:none;\">\n",
              "\n",
              "<svg xmlns=\"http://www.w3.org/2000/svg\" height=\"24px\"viewBox=\"0 0 24 24\"\n",
              "     width=\"24px\">\n",
              "    <g>\n",
              "        <path d=\"M19 3H5c-1.1 0-2 .9-2 2v14c0 1.1.9 2 2 2h14c1.1 0 2-.9 2-2V5c0-1.1-.9-2-2-2zM9 17H7v-7h2v7zm4 0h-2V7h2v10zm4 0h-2v-4h2v4z\"/>\n",
              "    </g>\n",
              "</svg>\n",
              "  </button>\n",
              "\n",
              "<style>\n",
              "  .colab-df-quickchart {\n",
              "      --bg-color: #E8F0FE;\n",
              "      --fill-color: #1967D2;\n",
              "      --hover-bg-color: #E2EBFA;\n",
              "      --hover-fill-color: #174EA6;\n",
              "      --disabled-fill-color: #AAA;\n",
              "      --disabled-bg-color: #DDD;\n",
              "  }\n",
              "\n",
              "  [theme=dark] .colab-df-quickchart {\n",
              "      --bg-color: #3B4455;\n",
              "      --fill-color: #D2E3FC;\n",
              "      --hover-bg-color: #434B5C;\n",
              "      --hover-fill-color: #FFFFFF;\n",
              "      --disabled-bg-color: #3B4455;\n",
              "      --disabled-fill-color: #666;\n",
              "  }\n",
              "\n",
              "  .colab-df-quickchart {\n",
              "    background-color: var(--bg-color);\n",
              "    border: none;\n",
              "    border-radius: 50%;\n",
              "    cursor: pointer;\n",
              "    display: none;\n",
              "    fill: var(--fill-color);\n",
              "    height: 32px;\n",
              "    padding: 0;\n",
              "    width: 32px;\n",
              "  }\n",
              "\n",
              "  .colab-df-quickchart:hover {\n",
              "    background-color: var(--hover-bg-color);\n",
              "    box-shadow: 0 1px 2px rgba(60, 64, 67, 0.3), 0 1px 3px 1px rgba(60, 64, 67, 0.15);\n",
              "    fill: var(--button-hover-fill-color);\n",
              "  }\n",
              "\n",
              "  .colab-df-quickchart-complete:disabled,\n",
              "  .colab-df-quickchart-complete:disabled:hover {\n",
              "    background-color: var(--disabled-bg-color);\n",
              "    fill: var(--disabled-fill-color);\n",
              "    box-shadow: none;\n",
              "  }\n",
              "\n",
              "  .colab-df-spinner {\n",
              "    border: 2px solid var(--fill-color);\n",
              "    border-color: transparent;\n",
              "    border-bottom-color: var(--fill-color);\n",
              "    animation:\n",
              "      spin 1s steps(1) infinite;\n",
              "  }\n",
              "\n",
              "  @keyframes spin {\n",
              "    0% {\n",
              "      border-color: transparent;\n",
              "      border-bottom-color: var(--fill-color);\n",
              "      border-left-color: var(--fill-color);\n",
              "    }\n",
              "    20% {\n",
              "      border-color: transparent;\n",
              "      border-left-color: var(--fill-color);\n",
              "      border-top-color: var(--fill-color);\n",
              "    }\n",
              "    30% {\n",
              "      border-color: transparent;\n",
              "      border-left-color: var(--fill-color);\n",
              "      border-top-color: var(--fill-color);\n",
              "      border-right-color: var(--fill-color);\n",
              "    }\n",
              "    40% {\n",
              "      border-color: transparent;\n",
              "      border-right-color: var(--fill-color);\n",
              "      border-top-color: var(--fill-color);\n",
              "    }\n",
              "    60% {\n",
              "      border-color: transparent;\n",
              "      border-right-color: var(--fill-color);\n",
              "    }\n",
              "    80% {\n",
              "      border-color: transparent;\n",
              "      border-right-color: var(--fill-color);\n",
              "      border-bottom-color: var(--fill-color);\n",
              "    }\n",
              "    90% {\n",
              "      border-color: transparent;\n",
              "      border-bottom-color: var(--fill-color);\n",
              "    }\n",
              "  }\n",
              "</style>\n",
              "\n",
              "  <script>\n",
              "    async function quickchart(key) {\n",
              "      const quickchartButtonEl =\n",
              "        document.querySelector('#' + key + ' button');\n",
              "      quickchartButtonEl.disabled = true;  // To prevent multiple clicks.\n",
              "      quickchartButtonEl.classList.add('colab-df-spinner');\n",
              "      try {\n",
              "        const charts = await google.colab.kernel.invokeFunction(\n",
              "            'suggestCharts', [key], {});\n",
              "      } catch (error) {\n",
              "        console.error('Error during call to suggestCharts:', error);\n",
              "      }\n",
              "      quickchartButtonEl.classList.remove('colab-df-spinner');\n",
              "      quickchartButtonEl.classList.add('colab-df-quickchart-complete');\n",
              "    }\n",
              "    (() => {\n",
              "      let quickchartButtonEl =\n",
              "        document.querySelector('#df-9c45e461-bb75-489e-bace-e9533c9ece8f button');\n",
              "      quickchartButtonEl.style.display =\n",
              "        google.colab.kernel.accessAllowed ? 'block' : 'none';\n",
              "    })();\n",
              "  </script>\n",
              "</div>\n",
              "\n",
              "    </div>\n",
              "  </div>\n"
            ],
            "text/plain": [
              "        time Donor  Age   Sex   BMI                          species     value\n",
              "39938   0154    aa   29  Male  24.1           s__Desulfovibrio_piger   1.00422\n",
              "11318   0154    aa   29  Male  24.1      s__Odoribacter_splanchnicus   1.12785\n",
              "77198   0154    aa   29  Male  24.1      s__Odoribacter_splanchnicus   1.12785\n",
              "73418   0154    aa   29  Male  24.1  s__Faecalibacterium_prausnitzii   1.14483\n",
              "183578  0154    aa   29  Male  24.1               s__GGB3304_SGB4367   1.24406\n",
              "...      ...   ...  ...   ...   ...                              ...       ...\n",
              "86343   0006    dl   32  Male  26.1  s__Faecalibacterium_prausnitzii   2.21002\n",
              "2103    0006    dl   32  Male  26.1      s__Phocaeicola_massiliensis   3.84088\n",
              "67983   0006    dl   32  Male  26.1      s__Phocaeicola_massiliensis   3.84088\n",
              "5883    0006    dl   32  Male  26.1  s__Faecalibacterium_prausnitzii   4.37472\n",
              "178143  0006    dl   32  Male  26.1          s__Phocaeicola_plebeius  28.49330\n",
              "\n",
              "[14957 rows x 7 columns]"
            ]
          },
          "execution_count": 10,
          "metadata": {},
          "output_type": "execute_result"
        }
      ],
      "source": [
        "data2[data2['value']>1]"
      ]
    },
    {
      "cell_type": "markdown",
      "metadata": {
        "id": "WRYYF1brbdgz"
      },
      "source": [
        "## UMAP by species via CPU\n"
      ]
    },
    {
      "cell_type": "code",
      "execution_count": null,
      "metadata": {
        "colab": {
          "base_uri": "https://localhost:8080/"
        },
        "id": "HrJErY1SZSfh",
        "outputId": "a5e6cd2b-e198-460e-ca02-46bb6cc592a6"
      },
      "outputs": [
        {
          "name": "stderr",
          "output_type": "stream",
          "text": [
            "WARNING:graphistry.umap_utils:* Ignoring target column of shape (679, 0) in UMAP fit, as it is not one dimensional"
          ]
        },
        {
          "name": "stdout",
          "output_type": "stream",
          "text": [
            "\n",
            " Total  24.8 seconds passed\n"
          ]
        }
      ],
      "source": [
        "data=pd.read_csv('/content/PRJNA544527_mpa4out.txt',sep='\\t',skiprows=1,index_col=0)\n",
        "\n",
        "g = graphistry.nodes(cudf.from_pandas(data.dropna()))\n",
        "\n",
        "t=time()\n",
        "g3=g.umap(dbscan=True,engine='umap_learn')\n",
        "print('\\n Total ', np.round(time() - t,1), 'seconds passed')\n",
        "\n",
        "g3.plot()\n"
      ]
    },
    {
      "cell_type": "markdown",
      "metadata": {
        "id": "l7aLIxP6ZY9s"
      },
      "source": [
        "## UMAP by species via GPU"
      ]
    },
    {
      "cell_type": "code",
      "execution_count": null,
      "metadata": {
        "colab": {
          "base_uri": "https://localhost:8080/"
        },
        "id": "6Zoo17Ui9zxh",
        "outputId": "6af64cb4-1528-4033-f606-75fb73af4686"
      },
      "outputs": [
        {
          "name": "stderr",
          "output_type": "stream",
          "text": [
            "WARNING:graphistry.util.memoization:! Failed umap speedup attempt. Continuing without memoization speedups.WARNING:graphistry.umap_utils:* Ignoring target column of shape (679, 0) in UMAP fit, as it is not one dimensional"
          ]
        },
        {
          "name": "stdout",
          "output_type": "stream",
          "text": [
            "\n",
            " Total  0.7 seconds passed\n"
          ]
        }
      ],
      "source": [
        "data=pd.read_csv('/content/PRJNA544527_mpa4out.txt',sep='\\t',skiprows=1,index_col=0)\n",
        "\n",
        "g = graphistry.nodes(cudf.from_pandas(data.dropna()))\n",
        "\n",
        "t=time()\n",
        "g3=g.umap(dbscan=True,engine='cuml')\n",
        "print('\\n Total ', np.round(time() - t,1), 'seconds passed')"
      ]
    },
    {
      "cell_type": "code",
      "execution_count": null,
      "metadata": {
        "colab": {
          "base_uri": "https://localhost:8080/",
          "height": 543
        },
        "id": "kjSdlnmeaOuL",
        "outputId": "beaa1218-7157-4fda-da19-32534e92de5d"
      },
      "outputs": [
        {
          "data": {
            "text/html": [
              "\n",
              "            <iframe id=\"bcc58031-e3c4-44c8-ba2d-fd312ae13184\" src=\"https://hub.graphistry.com/graph/graph.html?dataset=1e6bfed5e48e4f90a189c64246d6966d&type=arrow&viztoken=81386b50-e580-4575-935f-f82ef90d146f&usertag=5384ab54-pygraphistry-0.33.9&splashAfter=1720510071&info=true&play=0\"\n",
              "                    allowfullscreen=\"true\" webkitallowfullscreen=\"true\" mozallowfullscreen=\"true\"\n",
              "                    oallowfullscreen=\"true\" msallowfullscreen=\"true\"\n",
              "                    style=\"width:100%; height:500px; border: 1px solid #DDD; overflow: hidden\"\n",
              "                    \n",
              "            >\n",
              "            </iframe>\n",
              "        \n",
              "            <script>\n",
              "                try {\n",
              "                  $(\"#bcc58031-e3c4-44c8-ba2d-fd312ae13184\").bind('mousewheel', function(e) { e.preventDefault(); });\n",
              "                } catch (e) { console.error('exn catching scroll', e); }\n",
              "            </script>\n",
              "        "
            ],
            "text/plain": [
              "<IPython.core.display.HTML object>"
            ]
          },
          "execution_count": 32,
          "metadata": {},
          "output_type": "execute_result"
        }
      ],
      "source": [
        "g3.plot()"
      ]
    },
    {
      "cell_type": "markdown",
      "metadata": {
        "id": "UZt6aGWnbS9f"
      },
      "source": [
        "## UMAP for patient by time stamp"
      ]
    },
    {
      "cell_type": "code",
      "execution_count": null,
      "metadata": {
        "id": "SJvc8pOsi3Dv"
      },
      "outputs": [],
      "source": [
        "data2=data2[data2.value>0]\n",
        "data2=data2.reset_index(drop = True)\n",
        "data2=data2.drop_duplicates()\n",
        "\n",
        "data2[\"Label\"] = (\n",
        "    data2.groupby(\"Donor\")\n",
        "    .apply(lambda x: x.groupby(\"time\", sort=False).ngroup() + 1)\n",
        "    .values\n",
        ")\n",
        "\n",
        "cc=pd.unique(data2[data2.Label<5].Donor)\n",
        "data2=data2.loc[ data2.Donor.isin(cc), : ]\n",
        "data2=data2[data2.Label<5]\n",
        "\n",
        "data2[\"rank\"] = data2.groupby(\"Donor\")[\"value\"].rank(method=\"dense\", ascending=False)\n",
        "data2=data2[data2['rank']<10.0]\n"
      ]
    },
    {
      "cell_type": "code",
      "execution_count": null,
      "metadata": {
        "id": "dkWIAyP2oKHN"
      },
      "outputs": [],
      "source": [
        "data2['id_time']=data2['Donor']+'_'+data2['Label'].apply(str)"
      ]
    },
    {
      "cell_type": "code",
      "execution_count": null,
      "metadata": {
        "id": "W4TCI3-YolwR"
      },
      "outputs": [],
      "source": [
        "data3=data2[['id_time','species','value']]"
      ]
    },
    {
      "cell_type": "code",
      "execution_count": null,
      "metadata": {
        "colab": {
          "base_uri": "https://localhost:8080/",
          "height": 579
        },
        "id": "aiw8WeENpRHT",
        "outputId": "2eb8bb20-f4e3-4e7c-bab4-c242a2daacbc"
      },
      "outputs": [
        {
          "name": "stderr",
          "output_type": "stream",
          "text": [
            "WARNING:graphistry.util.memoization:! Failed umap speedup attempt. Continuing without memoization speedups.WARNING:graphistry.umap_utils:* Ignoring target column of shape (169, 0) in UMAP fit, as it is not one dimensional"
          ]
        },
        {
          "name": "stdout",
          "output_type": "stream",
          "text": [
            "\n",
            " Total  0.3 seconds passed\n"
          ]
        },
        {
          "data": {
            "text/html": [
              "\n",
              "            <iframe id=\"bd3e0538-1091-4f44-81ef-c3cb3aa17087\" src=\"https://hub.graphistry.com/graph/graph.html?dataset=e3c628079cf84c1e828acadc4b89f309&type=arrow&viztoken=0a77a622-b34a-456d-b493-6b36503e0905&usertag=5384ab54-pygraphistry-0.33.9&splashAfter=1720510126&info=true&play=0\"\n",
              "                    allowfullscreen=\"true\" webkitallowfullscreen=\"true\" mozallowfullscreen=\"true\"\n",
              "                    oallowfullscreen=\"true\" msallowfullscreen=\"true\"\n",
              "                    style=\"width:100%; height:500px; border: 1px solid #DDD; overflow: hidden\"\n",
              "                    \n",
              "            >\n",
              "            </iframe>\n",
              "        \n",
              "            <script>\n",
              "                try {\n",
              "                  $(\"#bd3e0538-1091-4f44-81ef-c3cb3aa17087\").bind('mousewheel', function(e) { e.preventDefault(); });\n",
              "                } catch (e) { console.error('exn catching scroll', e); }\n",
              "            </script>\n",
              "        "
            ],
            "text/plain": [
              "<IPython.core.display.HTML object>"
            ]
          },
          "execution_count": 37,
          "metadata": {},
          "output_type": "execute_result"
        }
      ],
      "source": [
        "df2 = data3.pivot_table(index=['id_time'],columns='species')\n",
        "df3=df2.fillna(0).reset_index()\n",
        "df4=df3.droplevel(0, axis=1)\n",
        "df4.index=df4.iloc[:,0]\n",
        "df4=df4.loc[:, df4.columns.str.startswith('s__')]\n",
        "\n",
        "g = graphistry.nodes(cudf.from_pandas(df4))\n",
        "\n",
        "t=time()\n",
        "\n",
        "g3=g.umap(dbscan=True,engine='cuml')\n",
        "print('\\n Total ', np.round(time() - t,1), 'seconds passed')\n",
        "\n",
        "g3.plot()"
      ]
    }
  ],
  "metadata": {
    "accelerator": "GPU",
    "colab": {
      "gpuType": "T4",
      "provenance": []
    },
    "kernelspec": {
      "display_name": "Python 3",
      "name": "python3"
    },
    "language_info": {
      "name": "python"
    }
  },
  "nbformat": 4,
  "nbformat_minor": 0
}
