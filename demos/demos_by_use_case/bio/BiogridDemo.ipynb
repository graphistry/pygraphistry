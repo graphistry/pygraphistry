{
 "cells": [
  {
   "cell_type": "markdown",
   "metadata": {
    "deletable": true,
    "editable": true
   },
   "source": [
    "# PyGraphistry Tutorial: Visualize Protein Interactions From BioGrid\n",
    "\n",
    "That is over 600.000 interactions across 50'000 proteins!\n",
    "\n",
    "##### Notes\n",
    "\n",
    "This notebook automatically downloads about 200 MB of [BioGrid](http://thebiogrid.org) data. If you are going to run this notebook more than once, we recommend manually dowloading and saving the data to disk. To do so, unzip the two files and place their content in `pygraphistry/demos/data`.\n",
    "- Protein Interactions: [BIOGRID-ALL-3.3.123.tab2.zip](http://thebiogrid.org/downloads/archives/Release%20Archive/BIOGRID-3.3.123/BIOGRID-ALL-3.3.123.tab2.zip)\n",
    "- Protein Identifiers: [BIOGRID-IDENTIFIERS-3.3.123.tab.zip](http://thebiogrid.org/downloads/archives/Release%20Archive/BIOGRID-3.3.123/BIOGRID-IDENTIFIERS-3.3.123.tab.zip)\n"
   ]
  },
  {
   "cell_type": "code",
   "execution_count": 1,
   "metadata": {
    "collapsed": false,
    "deletable": true,
    "editable": true
   },
   "outputs": [],
   "source": [
    "import pandas\n",
    "import graphistry\n",
    "graphistry.register(api=2)\n",
    "#graphistry.register(key='MY_API_KEY', server='labs.graphistry.com', api=2) #https://www.graphistry.com/api-request"
   ]
  },
  {
   "cell_type": "markdown",
   "metadata": {
    "deletable": true,
    "editable": true
   },
   "source": [
    "## Load Protein Interactions\n",
    "Select columns of interest and drop empty rows."
   ]
  },
  {
   "cell_type": "code",
   "execution_count": 2,
   "metadata": {
    "collapsed": false,
    "deletable": true,
    "editable": true,
    "scrolled": false
   },
   "outputs": [
    {
     "name": "stderr",
     "output_type": "stream",
     "text": [
      "/usr/local/lib/python2.7/site-packages/IPython/core/interactiveshell.py:2717: DtypeWarning: Columns (19,20) have mixed types. Specify dtype option on import or set low_memory=False.\n",
      "  interactivity=interactivity, compiler=compiler, result=result)\n"
     ]
    },
    {
     "data": {
      "text/html": [
       "<div>\n",
       "<style>\n",
       "    .dataframe thead tr:only-child th {\n",
       "        text-align: right;\n",
       "    }\n",
       "\n",
       "    .dataframe thead th {\n",
       "        text-align: left;\n",
       "    }\n",
       "\n",
       "    .dataframe tbody tr th {\n",
       "        vertical-align: top;\n",
       "    }\n",
       "</style>\n",
       "<table border=\"1\" class=\"dataframe\">\n",
       "  <thead>\n",
       "    <tr style=\"text-align: right;\">\n",
       "      <th></th>\n",
       "      <th>BioGRID ID Interactor A</th>\n",
       "      <th>BioGRID ID Interactor B</th>\n",
       "      <th>Official Symbol Interactor A</th>\n",
       "      <th>Official Symbol Interactor B</th>\n",
       "      <th>Pubmed ID</th>\n",
       "      <th>Author</th>\n",
       "      <th>Throughput</th>\n",
       "    </tr>\n",
       "  </thead>\n",
       "  <tbody>\n",
       "    <tr>\n",
       "      <th>0</th>\n",
       "      <td>112315</td>\n",
       "      <td>108607</td>\n",
       "      <td>MAP2K4</td>\n",
       "      <td>FLNC</td>\n",
       "      <td>9006895</td>\n",
       "      <td>Marti A (1997)</td>\n",
       "      <td>Low Throughput</td>\n",
       "    </tr>\n",
       "    <tr>\n",
       "      <th>1</th>\n",
       "      <td>124185</td>\n",
       "      <td>106603</td>\n",
       "      <td>MYPN</td>\n",
       "      <td>ACTN2</td>\n",
       "      <td>11309420</td>\n",
       "      <td>Bang ML (2001)</td>\n",
       "      <td>Low Throughput</td>\n",
       "    </tr>\n",
       "    <tr>\n",
       "      <th>2</th>\n",
       "      <td>106605</td>\n",
       "      <td>108625</td>\n",
       "      <td>ACVR1</td>\n",
       "      <td>FNTA</td>\n",
       "      <td>8599089</td>\n",
       "      <td>Wang T (1996)</td>\n",
       "      <td>Low Throughput</td>\n",
       "    </tr>\n",
       "  </tbody>\n",
       "</table>\n",
       "</div>"
      ],
      "text/plain": [
       "   BioGRID ID Interactor A  BioGRID ID Interactor B  \\\n",
       "0                   112315                   108607   \n",
       "1                   124185                   106603   \n",
       "2                   106605                   108625   \n",
       "\n",
       "  Official Symbol Interactor A Official Symbol Interactor B  Pubmed ID  \\\n",
       "0                       MAP2K4                         FLNC    9006895   \n",
       "1                         MYPN                        ACTN2   11309420   \n",
       "2                        ACVR1                         FNTA    8599089   \n",
       "\n",
       "           Author      Throughput  \n",
       "0  Marti A (1997)  Low Throughput  \n",
       "1  Bang ML (2001)  Low Throughput  \n",
       "2   Wang T (1996)  Low Throughput  "
      ]
     },
     "execution_count": 2,
     "metadata": {},
     "output_type": "execute_result"
    }
   ],
   "source": [
    "url1 = 'https://s3-us-west-1.amazonaws.com/graphistry.demo.data/BIOGRID-ALL-3.3.123.tab2.txt.gz'\n",
    "rawdata = pandas.read_table(url1, na_values=['-'], engine='c', compression='gzip')\n",
    "\n",
    "# If using local data, comment the two lines above and uncomment the line below\n",
    "# pandas.read_table('./data/BIOGRID-ALL-3.3.123.tab2.txt', na_values=['-'], engine='c')\n",
    "\n",
    "cols = ['BioGRID ID Interactor A', 'BioGRID ID Interactor B', 'Official Symbol Interactor A', \n",
    "        'Official Symbol Interactor B', 'Pubmed ID', 'Author', 'Throughput']\n",
    "interactions = rawdata[cols].dropna()\n",
    "interactions[:3]"
   ]
  },
  {
   "cell_type": "markdown",
   "metadata": {
    "deletable": true,
    "editable": true
   },
   "source": [
    "### Let's have a quick peak at the data\n",
    "Bind the columns storing the source/destination of each edge. This is the bare minimum to create a visualization. "
   ]
  },
  {
   "cell_type": "code",
   "execution_count": 3,
   "metadata": {
    "collapsed": false,
    "deletable": true,
    "editable": true
   },
   "outputs": [
    {
     "data": {
      "text/html": [
       "\n",
       "            <iframe id=\"59e1c841-c0e5-4b53-a0f7-29650ec2536f\" src=\"https://labs.graphistry.com/graph/graph.html?dataset=s3://graphistry.data/pygraphistry/50ad94358da9e7cb7924335eb336ce7a/dataset.json&type=jsonMeta&viztoken=081a2c85d68a5d175fdf33fe29297ed6fe724c99&usertag=86f11264-pygraphistry-0.9.63&splashAfter=1554614704&info=true\"\n",
       "                    allowfullscreen=\"true\" webkitallowfullscreen=\"true\" mozallowfullscreen=\"true\"\n",
       "                    oallowfullscreen=\"true\" msallowfullscreen=\"true\"\n",
       "                    style=\"width:100%; height:500px; border: 1px solid #DDD\">\n",
       "            </iframe>\n",
       "        \n",
       "            <script>\n",
       "                $(\"#59e1c841-c0e5-4b53-a0f7-29650ec2536f\").bind('mousewheel', function(e) {\n",
       "                e.preventDefault();\n",
       "                });\n",
       "            </script>\n",
       "        "
      ],
      "text/plain": [
       "<IPython.core.display.HTML object>"
      ]
     },
     "execution_count": 3,
     "metadata": {},
     "output_type": "execute_result"
    }
   ],
   "source": [
    "g = graphistry.bind(source=\"BioGRID ID Interactor A\", destination=\"BioGRID ID Interactor B\")\n",
    "g.plot(interactions.sample(10000))"
   ]
  },
  {
   "cell_type": "markdown",
   "metadata": {
    "deletable": true,
    "editable": true
   },
   "source": [
    "## A Fancier Visualization With Custom Labels and Colors\n",
    "Let's lookup the name and organism of each protein in the BioGrid indentification DB."
   ]
  },
  {
   "cell_type": "code",
   "execution_count": 4,
   "metadata": {
    "collapsed": false,
    "deletable": true,
    "editable": true,
    "scrolled": true
   },
   "outputs": [
    {
     "data": {
      "text/html": [
       "<div>\n",
       "<style>\n",
       "    .dataframe thead tr:only-child th {\n",
       "        text-align: right;\n",
       "    }\n",
       "\n",
       "    .dataframe thead th {\n",
       "        text-align: left;\n",
       "    }\n",
       "\n",
       "    .dataframe tbody tr th {\n",
       "        vertical-align: top;\n",
       "    }\n",
       "</style>\n",
       "<table border=\"1\" class=\"dataframe\">\n",
       "  <thead>\n",
       "    <tr style=\"text-align: right;\">\n",
       "      <th></th>\n",
       "      <th>BIOGRID_ID</th>\n",
       "      <th>ORGANISM</th>\n",
       "    </tr>\n",
       "  </thead>\n",
       "  <tbody>\n",
       "    <tr>\n",
       "      <th>0</th>\n",
       "      <td>1</td>\n",
       "      <td>Arabidopsis thaliana</td>\n",
       "    </tr>\n",
       "    <tr>\n",
       "      <th>7</th>\n",
       "      <td>2</td>\n",
       "      <td>Arabidopsis thaliana</td>\n",
       "    </tr>\n",
       "    <tr>\n",
       "      <th>22</th>\n",
       "      <td>3</td>\n",
       "      <td>Arabidopsis thaliana</td>\n",
       "    </tr>\n",
       "  </tbody>\n",
       "</table>\n",
       "</div>"
      ],
      "text/plain": [
       "    BIOGRID_ID              ORGANISM\n",
       "0            1  Arabidopsis thaliana\n",
       "7            2  Arabidopsis thaliana\n",
       "22           3  Arabidopsis thaliana"
      ]
     },
     "execution_count": 4,
     "metadata": {},
     "output_type": "execute_result"
    }
   ],
   "source": [
    "# This downloads 170 MB, it might take some time.\n",
    "url2 = 'https://s3-us-west-1.amazonaws.com/graphistry.demo.data/BIOGRID-IDENTIFIERS-3.3.123.tab.txt.gz'\n",
    "raw_proteins = pandas.read_table(url2, na_values=['-'], engine='c', compression='gzip')\n",
    "\n",
    "# If using local data, comment the two lines above and uncomment the line below\n",
    "# raw_proteins = pandas.read_table('./data/BIOGRID-IDENTIFIERS-3.3.123.tab.txt', na_values=['-'], engine='c')\n",
    "\n",
    "\n",
    "protein_ids = raw_proteins[['BIOGRID_ID', 'ORGANISM_OFFICIAL_NAME']].drop_duplicates() \\\n",
    "                          .rename(columns={'ORGANISM_OFFICIAL_NAME': 'ORGANISM'})\n",
    "protein_ids[:3]"
   ]
  },
  {
   "cell_type": "markdown",
   "metadata": {
    "deletable": true,
    "editable": true
   },
   "source": [
    "We extract the proteins referenced as either sources or targets of interactions."
   ]
  },
  {
   "cell_type": "code",
   "execution_count": 5,
   "metadata": {
    "collapsed": false,
    "deletable": true,
    "editable": true,
    "scrolled": true
   },
   "outputs": [
    {
     "data": {
      "text/html": [
       "<div>\n",
       "<style>\n",
       "    .dataframe thead tr:only-child th {\n",
       "        text-align: right;\n",
       "    }\n",
       "\n",
       "    .dataframe thead th {\n",
       "        text-align: left;\n",
       "    }\n",
       "\n",
       "    .dataframe tbody tr th {\n",
       "        vertical-align: top;\n",
       "    }\n",
       "</style>\n",
       "<table border=\"1\" class=\"dataframe\">\n",
       "  <thead>\n",
       "    <tr style=\"text-align: right;\">\n",
       "      <th></th>\n",
       "      <th>BIOGRID_ID</th>\n",
       "      <th>SYMBOL</th>\n",
       "    </tr>\n",
       "  </thead>\n",
       "  <tbody>\n",
       "    <tr>\n",
       "      <th>0</th>\n",
       "      <td>112315</td>\n",
       "      <td>MAP2K4</td>\n",
       "    </tr>\n",
       "    <tr>\n",
       "      <th>1</th>\n",
       "      <td>124185</td>\n",
       "      <td>MYPN</td>\n",
       "    </tr>\n",
       "    <tr>\n",
       "      <th>2</th>\n",
       "      <td>106605</td>\n",
       "      <td>ACVR1</td>\n",
       "    </tr>\n",
       "  </tbody>\n",
       "</table>\n",
       "</div>"
      ],
      "text/plain": [
       "   BIOGRID_ID  SYMBOL\n",
       "0      112315  MAP2K4\n",
       "1      124185    MYPN\n",
       "2      106605   ACVR1"
      ]
     },
     "execution_count": 5,
     "metadata": {},
     "output_type": "execute_result"
    }
   ],
   "source": [
    "source_proteins = interactions[[\"BioGRID ID Interactor A\", \"Official Symbol Interactor A\"]].copy() \\\n",
    "                              .rename(columns={'BioGRID ID Interactor A': 'BIOGRID_ID', \n",
    "                                               'Official Symbol Interactor A': 'SYMBOL'})\n",
    "\n",
    "target_proteins = interactions[[\"BioGRID ID Interactor B\", \"Official Symbol Interactor B\"]].copy() \\\n",
    "                              .rename(columns={'BioGRID ID Interactor B': 'BIOGRID_ID', \n",
    "                                               'Official Symbol Interactor B': 'SYMBOL'}) \n",
    "\n",
    "all_proteins = pandas.concat([source_proteins, target_proteins], ignore_index=True).drop_duplicates()\n",
    "all_proteins[:3]"
   ]
  },
  {
   "cell_type": "markdown",
   "metadata": {
    "deletable": true,
    "editable": true
   },
   "source": [
    "We join on the indentification DB to get the organism in which each protein belongs."
   ]
  },
  {
   "cell_type": "code",
   "execution_count": 6,
   "metadata": {
    "collapsed": false,
    "deletable": true,
    "editable": true
   },
   "outputs": [
    {
     "data": {
      "text/html": [
       "<div>\n",
       "<style>\n",
       "    .dataframe thead tr:only-child th {\n",
       "        text-align: right;\n",
       "    }\n",
       "\n",
       "    .dataframe thead th {\n",
       "        text-align: left;\n",
       "    }\n",
       "\n",
       "    .dataframe tbody tr th {\n",
       "        vertical-align: top;\n",
       "    }\n",
       "</style>\n",
       "<table border=\"1\" class=\"dataframe\">\n",
       "  <thead>\n",
       "    <tr style=\"text-align: right;\">\n",
       "      <th></th>\n",
       "      <th>BIOGRID_ID</th>\n",
       "      <th>SYMBOL</th>\n",
       "      <th>ORGANISM</th>\n",
       "    </tr>\n",
       "  </thead>\n",
       "  <tbody>\n",
       "    <tr>\n",
       "      <th>0</th>\n",
       "      <td>112315</td>\n",
       "      <td>MAP2K4</td>\n",
       "      <td>Homo sapiens</td>\n",
       "    </tr>\n",
       "    <tr>\n",
       "      <th>1</th>\n",
       "      <td>124185</td>\n",
       "      <td>MYPN</td>\n",
       "      <td>Homo sapiens</td>\n",
       "    </tr>\n",
       "    <tr>\n",
       "      <th>2</th>\n",
       "      <td>106605</td>\n",
       "      <td>ACVR1</td>\n",
       "      <td>Homo sapiens</td>\n",
       "    </tr>\n",
       "  </tbody>\n",
       "</table>\n",
       "</div>"
      ],
      "text/plain": [
       "   BIOGRID_ID  SYMBOL      ORGANISM\n",
       "0      112315  MAP2K4  Homo sapiens\n",
       "1      124185    MYPN  Homo sapiens\n",
       "2      106605   ACVR1  Homo sapiens"
      ]
     },
     "execution_count": 6,
     "metadata": {},
     "output_type": "execute_result"
    }
   ],
   "source": [
    "protein_labels = pandas.merge(all_proteins, protein_ids, how='left', left_on='BIOGRID_ID', right_on='BIOGRID_ID')\n",
    "protein_labels[:3]"
   ]
  },
  {
   "cell_type": "markdown",
   "metadata": {
    "deletable": true,
    "editable": true
   },
   "source": [
    "We assign colors to proteins based on their organism."
   ]
  },
  {
   "cell_type": "code",
   "execution_count": 7,
   "metadata": {
    "collapsed": false,
    "deletable": true,
    "editable": true
   },
   "outputs": [],
   "source": [
    "colors = protein_labels.ORGANISM.unique().tolist()\n",
    "protein_labels['Color'] = protein_labels.ORGANISM.map(lambda x: colors.index(x))"
   ]
  },
  {
   "cell_type": "markdown",
   "metadata": {
    "deletable": true,
    "editable": true
   },
   "source": [
    "For convenience, let's add links to PubMed and RCSB."
   ]
  },
  {
   "cell_type": "code",
   "execution_count": 8,
   "metadata": {
    "collapsed": false,
    "deletable": true,
    "editable": true
   },
   "outputs": [
    {
     "data": {
      "text/html": [
       "<div>\n",
       "<style>\n",
       "    .dataframe thead tr:only-child th {\n",
       "        text-align: right;\n",
       "    }\n",
       "\n",
       "    .dataframe thead th {\n",
       "        text-align: left;\n",
       "    }\n",
       "\n",
       "    .dataframe tbody tr th {\n",
       "        vertical-align: top;\n",
       "    }\n",
       "</style>\n",
       "<table border=\"1\" class=\"dataframe\">\n",
       "  <thead>\n",
       "    <tr style=\"text-align: right;\">\n",
       "      <th></th>\n",
       "      <th>BIOGRID_ID</th>\n",
       "      <th>SYMBOL</th>\n",
       "      <th>ORGANISM</th>\n",
       "      <th>Color</th>\n",
       "    </tr>\n",
       "  </thead>\n",
       "  <tbody>\n",
       "    <tr>\n",
       "      <th>0</th>\n",
       "      <td>112315</td>\n",
       "      <td>&lt;a target=\"_blank\" href=\"http://www.rcsb.org/p...</td>\n",
       "      <td>Homo sapiens</td>\n",
       "      <td>0</td>\n",
       "    </tr>\n",
       "    <tr>\n",
       "      <th>1</th>\n",
       "      <td>124185</td>\n",
       "      <td>&lt;a target=\"_blank\" href=\"http://www.rcsb.org/p...</td>\n",
       "      <td>Homo sapiens</td>\n",
       "      <td>0</td>\n",
       "    </tr>\n",
       "    <tr>\n",
       "      <th>2</th>\n",
       "      <td>106605</td>\n",
       "      <td>&lt;a target=\"_blank\" href=\"http://www.rcsb.org/p...</td>\n",
       "      <td>Homo sapiens</td>\n",
       "      <td>0</td>\n",
       "    </tr>\n",
       "  </tbody>\n",
       "</table>\n",
       "</div>"
      ],
      "text/plain": [
       "   BIOGRID_ID                                             SYMBOL  \\\n",
       "0      112315  <a target=\"_blank\" href=\"http://www.rcsb.org/p...   \n",
       "1      124185  <a target=\"_blank\" href=\"http://www.rcsb.org/p...   \n",
       "2      106605  <a target=\"_blank\" href=\"http://www.rcsb.org/p...   \n",
       "\n",
       "       ORGANISM  Color  \n",
       "0  Homo sapiens      0  \n",
       "1  Homo sapiens      0  \n",
       "2  Homo sapiens      0  "
      ]
     },
     "execution_count": 8,
     "metadata": {},
     "output_type": "execute_result"
    }
   ],
   "source": [
    "def makeRcsbLink(id):\n",
    "    if isinstance(id, str):\n",
    "        url = 'http://www.rcsb.org/pdb/gene/' + id.upper()\n",
    "        return '<a target=\"_blank\" href=\"%s\">%s</a>' % (url, id.upper())\n",
    "    else:\n",
    "        return 'n/a'\n",
    "    \n",
    "protein_labels.SYMBOL = protein_labels.SYMBOL.map(makeRcsbLink)\n",
    "protein_labels[:3]"
   ]
  },
  {
   "cell_type": "code",
   "execution_count": 9,
   "metadata": {
    "collapsed": false,
    "deletable": true,
    "editable": true,
    "scrolled": true
   },
   "outputs": [
    {
     "data": {
      "text/html": [
       "<div>\n",
       "<style>\n",
       "    .dataframe thead tr:only-child th {\n",
       "        text-align: right;\n",
       "    }\n",
       "\n",
       "    .dataframe thead th {\n",
       "        text-align: left;\n",
       "    }\n",
       "\n",
       "    .dataframe tbody tr th {\n",
       "        vertical-align: top;\n",
       "    }\n",
       "</style>\n",
       "<table border=\"1\" class=\"dataframe\">\n",
       "  <thead>\n",
       "    <tr style=\"text-align: right;\">\n",
       "      <th></th>\n",
       "      <th>BioGRID ID Interactor A</th>\n",
       "      <th>BioGRID ID Interactor B</th>\n",
       "      <th>Official Symbol Interactor A</th>\n",
       "      <th>Official Symbol Interactor B</th>\n",
       "      <th>Pubmed ID</th>\n",
       "      <th>Author</th>\n",
       "      <th>Throughput</th>\n",
       "    </tr>\n",
       "  </thead>\n",
       "  <tbody>\n",
       "    <tr>\n",
       "      <th>0</th>\n",
       "      <td>112315</td>\n",
       "      <td>108607</td>\n",
       "      <td>MAP2K4</td>\n",
       "      <td>FLNC</td>\n",
       "      <td>&lt;a target=\"_blank\" href=\"http://www.ncbi.nlm.n...</td>\n",
       "      <td>Marti A (1997)</td>\n",
       "      <td>Low Throughput</td>\n",
       "    </tr>\n",
       "    <tr>\n",
       "      <th>1</th>\n",
       "      <td>124185</td>\n",
       "      <td>106603</td>\n",
       "      <td>MYPN</td>\n",
       "      <td>ACTN2</td>\n",
       "      <td>&lt;a target=\"_blank\" href=\"http://www.ncbi.nlm.n...</td>\n",
       "      <td>Bang ML (2001)</td>\n",
       "      <td>Low Throughput</td>\n",
       "    </tr>\n",
       "    <tr>\n",
       "      <th>2</th>\n",
       "      <td>106605</td>\n",
       "      <td>108625</td>\n",
       "      <td>ACVR1</td>\n",
       "      <td>FNTA</td>\n",
       "      <td>&lt;a target=\"_blank\" href=\"http://www.ncbi.nlm.n...</td>\n",
       "      <td>Wang T (1996)</td>\n",
       "      <td>Low Throughput</td>\n",
       "    </tr>\n",
       "  </tbody>\n",
       "</table>\n",
       "</div>"
      ],
      "text/plain": [
       "   BioGRID ID Interactor A  BioGRID ID Interactor B  \\\n",
       "0                   112315                   108607   \n",
       "1                   124185                   106603   \n",
       "2                   106605                   108625   \n",
       "\n",
       "  Official Symbol Interactor A Official Symbol Interactor B  \\\n",
       "0                       MAP2K4                         FLNC   \n",
       "1                         MYPN                        ACTN2   \n",
       "2                        ACVR1                         FNTA   \n",
       "\n",
       "                                           Pubmed ID          Author  \\\n",
       "0  <a target=\"_blank\" href=\"http://www.ncbi.nlm.n...  Marti A (1997)   \n",
       "1  <a target=\"_blank\" href=\"http://www.ncbi.nlm.n...  Bang ML (2001)   \n",
       "2  <a target=\"_blank\" href=\"http://www.ncbi.nlm.n...   Wang T (1996)   \n",
       "\n",
       "       Throughput  \n",
       "0  Low Throughput  \n",
       "1  Low Throughput  \n",
       "2  Low Throughput  "
      ]
     },
     "execution_count": 9,
     "metadata": {},
     "output_type": "execute_result"
    }
   ],
   "source": [
    "def makePubmedLink(id):\n",
    "    url = 'http://www.ncbi.nlm.nih.gov/pubmed/?term=%s' % id\n",
    "    return '<a target=\"_blank\" href=\"%s\">%s</a>' % (url, id)\n",
    "\n",
    "interactions['Pubmed ID'] = interactions['Pubmed ID'].map(makePubmedLink)\n",
    "interactions[:3]"
   ]
  },
  {
   "cell_type": "markdown",
   "metadata": {
    "deletable": true,
    "editable": true
   },
   "source": [
    "## Plotting\n",
    "We bind columns to labels and colors and we are good to go. "
   ]
  },
  {
   "cell_type": "code",
   "execution_count": 10,
   "metadata": {
    "collapsed": false,
    "deletable": true,
    "editable": true,
    "scrolled": false
   },
   "outputs": [
    {
     "name": "stdout",
     "output_type": "stream",
     "text": [
      "Uploading 7139 kB. This may take a while...\n"
     ]
    },
    {
     "data": {
      "text/html": [
       "\n",
       "            <iframe id=\"083451dc-af48-4258-8c35-74f97130ea2e\" src=\"https://labs.graphistry.com/graph/graph.html?dataset=s3://graphistry.data/pygraphistry/7b876012458fc4c83644f88b14f96be5/dataset.json&type=jsonMeta&viztoken=0db9e5e57bbe115a40b64692dd5f2d7a5f2ec4a0&usertag=86f11264-pygraphistry-0.9.63&splashAfter=1554614820&info=true\"\n",
       "                    allowfullscreen=\"true\" webkitallowfullscreen=\"true\" mozallowfullscreen=\"true\"\n",
       "                    oallowfullscreen=\"true\" msallowfullscreen=\"true\"\n",
       "                    style=\"width:100%; height:500px; border: 1px solid #DDD\">\n",
       "            </iframe>\n",
       "        \n",
       "            <script>\n",
       "                $(\"#083451dc-af48-4258-8c35-74f97130ea2e\").bind('mousewheel', function(e) {\n",
       "                e.preventDefault();\n",
       "                });\n",
       "            </script>\n",
       "        "
      ],
      "text/plain": [
       "<IPython.core.display.HTML object>"
      ]
     },
     "execution_count": 10,
     "metadata": {},
     "output_type": "execute_result"
    }
   ],
   "source": [
    "# This will upload ~10MB of data, be patient!\n",
    "g2 = g.bind(node='BIOGRID_ID', edge_title='Author', point_title='SYMBOL', point_color='Color')\n",
    "g2.plot(interactions, protein_labels)"
   ]
  },
  {
   "cell_type": "code",
   "execution_count": null,
   "metadata": {
    "collapsed": true,
    "deletable": true,
    "editable": true
   },
   "outputs": [],
   "source": []
  }
 ],
 "metadata": {
  "kernelspec": {
   "display_name": "Python 2",
   "language": "python",
   "name": "python2"
  },
  "language_info": {
   "codemirror_mode": {
    "name": "ipython",
    "version": 2
   },
   "file_extension": ".py",
   "mimetype": "text/x-python",
   "name": "python",
   "nbconvert_exporter": "python",
   "pygments_lexer": "ipython2",
   "version": "2.7.13"
  }
 },
 "nbformat": 4,
 "nbformat_minor": 0
}
