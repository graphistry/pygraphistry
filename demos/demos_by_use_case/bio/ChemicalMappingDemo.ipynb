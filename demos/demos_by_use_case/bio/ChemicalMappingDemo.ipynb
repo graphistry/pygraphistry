{
  "cells": [
    {
      "cell_type": "markdown",
      "metadata": {
        "id": "dzmJAwfiAi6k"
      },
      "source": [
        "# Accelerated Chemical Mapping with [Graphistry](graphistry.com)\n",
        "\n",
        "This notebook visualizes a chemical dataset describing Blood Brain Barrier Permeability (BBBP) from [MoleculeNet](http://moleculenet.org/datasets-1) and [ECFPs](https://pubs.acs.org/doi/10.1021/ci100050t).\n",
        "\n",
        "Using these string formulations of molecular 3D structure we can take advantage of string-based computational algorithms. These string representations look like the following:\n",
        "\n",
        "\n",
        "*   OCC#Cc1cc(Cl)c(C(=O)Nc2ccnc(NC(=O)C3CC3)c2)c(Cl)c1\n",
        "151276       \n",
        "*   CCNc1ncnc2c1nc(NC3CCCC3)n2[C@@H]4O[C@H](CO)[C@@H](O)[C@H]4O\n",
        "172750    \n",
        "*   CCC(C1=C(O)C2=C(CCCCCC2)OC1=O)c3cccc(NS(=O)(=O)c4ccc(Cl)cc4)c3\n",
        "155015    \n",
        "*   CC1CCN(CC1)c2nc(ccc2CNC(=O)Nc3ccc(CNS(=O)(=O)C)c(F)c3)C(F)(F)F\n",
        "\n",
        "\n",
        "The formulation of the structure into linear form helps us immensely, and thus we are able to parse and reduce these complex molecules down to 2 dimensions using conventional statistical tools, namely UMAP. Ultimately we demonstrate how such an OPEN-SOURCE analysis can be sped-up and scaled-up massively with the [graphistry](graphistry.com) environment and toolkit\n",
        "\n",
        "\n",
        "* Speedup: From minutes to seconds - 3 min to 10 seconds on a small T4 GPU\n",
        "* Visual insight: Add interactivity, similarity edges, and visual scale to a traditional static scatterplot to better investigate pairwise correlations and overall clusters"
      ]
    },
    {
      "cell_type": "markdown",
      "metadata": {
        "id": "w89wE473URRH"
      },
      "source": [
        "# Import accelerator libraries"
      ]
    },
    {
      "cell_type": "code",
      "execution_count": null,
      "metadata": {
        "id": "ABA00KeDT6Gx"
      },
      "outputs": [],
      "source": [
        "!pip install -q --extra-index-url=https://pypi.nvidia.com cuml-cu12\n",
        "import cuml,cudf\n",
        "print(cuml.__version__)\n",
        "\n",
        "!pip -q install graphistry[ai]\n",
        "# !pip install -U -q --force git+https://github.com/graphistry/pygraphistry.git#@dev/depman_gpufeat\n",
        "# !pip install cu_cat"
      ]
    },
    {
      "cell_type": "code",
      "execution_count": 4,
      "metadata": {
        "colab": {
          "base_uri": "https://localhost:8080/"
        },
        "id": "7_t1UL7YUAx3",
        "outputId": "6f19365b-efd9-4b2e-fab6-2a9a92c020f8"
      },
      "outputs": [
        {
          "name": "stdout",
          "output_type": "stream",
          "text": [
            "0.33.9\n"
          ]
        }
      ],
      "source": [
        "\n",
        "import graphistry\n",
        "graphistry.register(api=3,protocol=\"https\", server=\"hub.graphistry.com\", username=g_user, password=g_pass) ## key id, secret key\n",
        "\n",
        "print(graphistry.__version__)\n",
        "\n",
        "# import cu_cat\n",
        "# print(cu_cat.__file__)\n",
        "\n",
        "import os\n",
        "from collections import Counter\n",
        "import cProfile\n",
        "import pandas as pd\n",
        "import numpy as np\n",
        "import matplotlib.pyplot as plt\n",
        "from pstats import Stats\n",
        "import cuml,cudf\n",
        "from time import time\n",
        "import warnings\n",
        "warnings.filterwarnings('ignore')\n",
        "from typing import List\n",
        "import seaborn as sns\n",
        "pd.set_option('display.max_colwidth', 200)"
      ]
    },
    {
      "cell_type": "code",
      "execution_count": 5,
      "metadata": {
        "colab": {
          "base_uri": "https://localhost:8080/"
        },
        "id": "EtU413LOUG_S",
        "outputId": "0c6e2fd0-0c87-4dae-b53f-325316af75e0"
      },
      "outputs": [
        {
          "name": "stdout",
          "output_type": "stream",
          "text": [
            "Tesla T4\n"
          ]
        }
      ],
      "source": [
        "!nvidia-smi --query-gpu=gpu_name --format=csv,noheader"
      ]
    },
    {
      "cell_type": "markdown",
      "metadata": {
        "id": "ZfM8WRfW4gOY"
      },
      "source": [
        "# Import Basics"
      ]
    },
    {
      "cell_type": "code",
      "execution_count": null,
      "metadata": {
        "id": "prDjzDTU384B"
      },
      "outputs": [],
      "source": [
        "!pip install -q rdkit\n",
        "!pip install --pre -q deepchem\n",
        "\n",
        "from rdkit import Chem, DataStructs\n",
        "from rdkit.Chem.rdchem import Mol\n",
        "from rdkit.Chem.MolStandardize.rdMolStandardize import LargestFragmentChooser\n",
        "\n",
        "from rdkit import RDLogger\n",
        "lg = RDLogger.logger()\n",
        "lg.setLevel(RDLogger.CRITICAL)"
      ]
    },
    {
      "cell_type": "markdown",
      "metadata": {
        "id": "L8NcwLVK5s_i"
      },
      "source": [
        "# Embed BBBP in Global Chemical Space Approximation (Dataset-Agnostic Embedding)"
      ]
    },
    {
      "cell_type": "markdown",
      "metadata": {
        "id": "gdXebUL45usJ"
      },
      "source": [
        "### Read in and process ChEMBL data"
      ]
    },
    {
      "cell_type": "code",
      "execution_count": 6,
      "metadata": {
        "id": "HUbDr8Dp5uOB"
      },
      "outputs": [],
      "source": [
        "# Read in data from MoleculeNet\n",
        "chembl = pd.read_csv(\"https://deepchemdata.s3-us-west-1.amazonaws.com/datasets/chembl_sparse.csv.gz\", compression='gzip')\n",
        "\n",
        "# Sample a random 20k\n",
        "chembl = chembl.sample(n=20000)"
      ]
    },
    {
      "cell_type": "code",
      "execution_count": null,
      "metadata": {
        "id": "x9T_sR0oaJvq"
      },
      "outputs": [],
      "source": [
        "chemblA = pd.read_csv(\"https://deepchemdata.s3-us-west-1.amazonaws.com/datasets/chembl_sparse.csv.gz\", compression='gzip')\n",
        "\n",
        "chem_data = chembl[\"smiles\"][chembl.smiles.str.len()<500] ## lets simplify and just look at \"short molecules\" for this exercise\n"
      ]
    },
    {
      "cell_type": "code",
      "execution_count": null,
      "metadata": {
        "colab": {
          "base_uri": "https://localhost:8080/"
        },
        "id": "GAh6_ylDa74q",
        "outputId": "a4cf8f91-851f-4bac-c30a-6d4c8baf3f4a"
      },
      "outputs": [
        {
          "data": {
            "text/plain": [
              "201332                OCC#Cc1cc(Cl)c(C(=O)Nc2ccnc(NC(=O)C3CC3)c2)c(Cl)c1\n",
              "151276       CCNc1ncnc2c1nc(NC3CCCC3)n2[C@@H]4O[C@H](CO)[C@@H](O)[C@H]4O\n",
              "172750    CCC(C1=C(O)C2=C(CCCCCC2)OC1=O)c3cccc(NS(=O)(=O)c4ccc(Cl)cc4)c3\n",
              "155015    CC1CCN(CC1)c2nc(ccc2CNC(=O)Nc3ccc(CNS(=O)(=O)C)c(F)c3)C(F)(F)F\n",
              "231881                                    Cc1nc(cs1)C#Cc2cc(Cl)cc(c2)C#N\n",
              "                                       ...                              \n",
              "197652         CN(C)C(=O)c1cc2cc(Nc3nccc(n3)c4cn(cn4)C5CC5)cc(Cl)c2[nH]1\n",
              "63558                    COc1cc(OC)cc(\\C=C\\2/CCC\\C(=C/c3ccccc3F)\\C2=O)c1\n",
              "23052                            CCN1CCC(=C(C1)C(=O)OCCc2ccccn2)c3ccccc3\n",
              "154256                          CN[C@@H]1CCN(C1)c2nc(N)nc3c2CCCc4ccccc34\n",
              "72859                COc1ccc(cc1)C2(N=C(N)c3nc(C)sc23)c4cccc(c4)c5cncnc5\n",
              "Name: smiles, Length: 19959, dtype: object"
            ]
          },
          "execution_count": 17,
          "metadata": {},
          "output_type": "execute_result"
        }
      ],
      "source": [
        "chem_data.dropna()"
      ]
    },
    {
      "cell_type": "markdown",
      "metadata": {
        "id": "2f9Zj5LGxYbo"
      },
      "source": [
        " ## with CPU"
      ]
    },
    {
      "cell_type": "code",
      "execution_count": null,
      "metadata": {
        "colab": {
          "base_uri": "https://localhost:8080/"
        },
        "id": "qDVN9-VgxWMu",
        "outputId": "ed4bb475-3ff7-4bd8-9e53-d58f80c5690d"
      },
      "outputs": [
        {
          "name": "stderr",
          "output_type": "stream",
          "text": [
            "WARNING:graphistry.umap_utils:* Ignoring target column of shape (19959, 0) in UMAP fit, as it is not one dimensional"
          ]
        },
        {
          "name": "stdout",
          "output_type": "stream",
          "text": [
            "\n",
            " Total  174.6 seconds passed\n"
          ]
        }
      ],
      "source": [
        "g2 = graphistry.nodes(chem_data)\n",
        "\n",
        "t=time()\n",
        "g4=g2.umap(engine='umap_learn',metric = \"jaccard\",\n",
        "                      n_neighbors = 25,\n",
        "                      n_components = 2,\n",
        "                      dbscan=True,\n",
        "                      min_dist = 0.001)\n",
        "j=time()-t\n",
        "print('\\n Total ', np.round(time() - t,1), 'seconds passed')\n"
      ]
    },
    {
      "cell_type": "markdown",
      "metadata": {
        "id": "-eahF167xaSR"
      },
      "source": [
        "## and GPU"
      ]
    },
    {
      "cell_type": "code",
      "execution_count": null,
      "metadata": {
        "colab": {
          "base_uri": "https://localhost:8080/"
        },
        "id": "DnXz47yx9MdU",
        "outputId": "f01dcd41-7a45-4d3e-a475-d4c1fc85a662"
      },
      "outputs": [
        {
          "name": "stderr",
          "output_type": "stream",
          "text": [
            "WARNING:graphistry.util.memoization:! Failed umap speedup attempt. Continuing without memoization speedups.WARNING:graphistry.umap_utils:* Ignoring target column of shape (19959, 0) in UMAP fit, as it is not one dimensional"
          ]
        },
        {
          "name": "stdout",
          "output_type": "stream",
          "text": [
            "\n",
            " Total  9.3 seconds passed\n"
          ]
        }
      ],
      "source": [
        "g2 = graphistry.nodes((chem_data))\n",
        "\n",
        "\n",
        "t=time()\n",
        "g4=g2.umap(engine='cuml',metric = \"jaccard\",\n",
        "                      n_neighbors = 25,\n",
        "                      n_components = 2,\n",
        "                      dbscan=True,\n",
        "                      min_dist = 0.001)\n",
        "j=time()-t\n",
        "print('\\n Total ', np.round(time() - t,1), 'seconds passed')\n"
      ]
    },
    {
      "cell_type": "code",
      "execution_count": null,
      "metadata": {
        "colab": {
          "base_uri": "https://localhost:8080/",
          "height": 543
        },
        "id": "v3SEPYwrcaNa",
        "outputId": "f196de85-080f-45e2-c559-f877331a60a9"
      },
      "outputs": [
        {
          "data": {
            "text/html": [
              "\n",
              "            <iframe id=\"cf37c935-05a4-44ce-bd13-858f8d5f45df\" src=\"https://hub.graphistry.com/graph/graph.html?dataset=029591ac65854e079c11c6c967af7212&type=arrow&viztoken=1655ccdc-e2fc-4e4a-9bd1-e6180bc3a293&usertag=ad916a25-pygraphistry-0.33.9&splashAfter=1720510982&info=true&play=0\"\n",
              "                    allowfullscreen=\"true\" webkitallowfullscreen=\"true\" mozallowfullscreen=\"true\"\n",
              "                    oallowfullscreen=\"true\" msallowfullscreen=\"true\"\n",
              "                    style=\"width:100%; height:500px; border: 1px solid #DDD; overflow: hidden\"\n",
              "                    \n",
              "            >\n",
              "            </iframe>\n",
              "        \n",
              "            <script>\n",
              "                try {\n",
              "                  $(\"#cf37c935-05a4-44ce-bd13-858f8d5f45df\").bind('mousewheel', function(e) { e.preventDefault(); });\n",
              "                } catch (e) { console.error('exn catching scroll', e); }\n",
              "            </script>\n",
              "        "
            ],
            "text/plain": [
              "<IPython.core.display.HTML object>"
            ]
          },
          "execution_count": 26,
          "metadata": {},
          "output_type": "execute_result"
        }
      ],
      "source": [
        "g4.plot()"
      ]
    },
    {
      "cell_type": "markdown",
      "metadata": {
        "id": "jovz3xVc4M8X"
      },
      "source": [
        "# Embed BBBP with UMAP"
      ]
    },
    {
      "cell_type": "markdown",
      "metadata": {
        "id": "ZlQqzKMB4Qq7"
      },
      "source": [
        "### Read in and process small data"
      ]
    },
    {
      "cell_type": "code",
      "execution_count": 8,
      "metadata": {
        "id": "HR2S6BbP4JlB"
      },
      "outputs": [],
      "source": [
        "# Read in data from MoleculeNet\n",
        "bbbp = pd.read_csv(\"https://deepchemdata.s3-us-west-1.amazonaws.com/datasets/BBBP.csv\")\n",
        "\n",
        "# Clean up columnn names so they are easier to interpret\n",
        "bbbp = bbbp[[\"smiles\", \"p_np\", \"name\"]].reset_index(drop=True).rename({\"p_np\": \"permeable\"}, axis=1)"
      ]
    },
    {
      "cell_type": "code",
      "execution_count": 9,
      "metadata": {
        "colab": {
          "base_uri": "https://localhost:8080/",
          "height": 424
        },
        "id": "i9iRe44glrPq",
        "outputId": "69043bd0-9660-4b94-f1c4-cf8e8b9c8080"
      },
      "outputs": [
        {
          "data": {
            "application/vnd.google.colaboratory.intrinsic+json": {
              "summary": "{\n  \"name\": \"BBBP[['name','permeable']][BBBP\",\n  \"rows\": 2020,\n  \"fields\": [\n    {\n      \"column\": \"name\",\n      \"properties\": {\n        \"dtype\": \"string\",\n        \"num_unique_values\": 2020,\n        \"samples\": [\n          \"GR94839_I\",\n          \"carbamazepine\",\n          \"testolactone\"\n        ],\n        \"semantic_type\": \"\",\n        \"description\": \"\"\n      }\n    },\n    {\n      \"column\": \"permeable\",\n      \"properties\": {\n        \"dtype\": \"number\",\n        \"std\": 0,\n        \"min\": 0,\n        \"max\": 1,\n        \"num_unique_values\": 2,\n        \"samples\": [\n          0,\n          1\n        ],\n        \"semantic_type\": \"\",\n        \"description\": \"\"\n      }\n    }\n  ]\n}",
              "type": "dataframe"
            },
            "text/html": [
              "\n",
              "  <div id=\"df-83d9a736-8506-4def-ae31-3ac819525a9d\" class=\"colab-df-container\">\n",
              "    <div>\n",
              "<style scoped>\n",
              "    .dataframe tbody tr th:only-of-type {\n",
              "        vertical-align: middle;\n",
              "    }\n",
              "\n",
              "    .dataframe tbody tr th {\n",
              "        vertical-align: top;\n",
              "    }\n",
              "\n",
              "    .dataframe thead th {\n",
              "        text-align: right;\n",
              "    }\n",
              "</style>\n",
              "<table border=\"1\" class=\"dataframe\">\n",
              "  <thead>\n",
              "    <tr style=\"text-align: right;\">\n",
              "      <th></th>\n",
              "      <th>name</th>\n",
              "      <th>permeable</th>\n",
              "    </tr>\n",
              "  </thead>\n",
              "  <tbody>\n",
              "    <tr>\n",
              "      <th>0</th>\n",
              "      <td>Propanolol</td>\n",
              "      <td>1</td>\n",
              "    </tr>\n",
              "    <tr>\n",
              "      <th>1</th>\n",
              "      <td>Terbutylchlorambucil</td>\n",
              "      <td>1</td>\n",
              "    </tr>\n",
              "    <tr>\n",
              "      <th>2</th>\n",
              "      <td>40730</td>\n",
              "      <td>1</td>\n",
              "    </tr>\n",
              "    <tr>\n",
              "      <th>3</th>\n",
              "      <td>24</td>\n",
              "      <td>1</td>\n",
              "    </tr>\n",
              "    <tr>\n",
              "      <th>4</th>\n",
              "      <td>cloxacillin</td>\n",
              "      <td>1</td>\n",
              "    </tr>\n",
              "    <tr>\n",
              "      <th>...</th>\n",
              "      <td>...</td>\n",
              "      <td>...</td>\n",
              "    </tr>\n",
              "    <tr>\n",
              "      <th>2045</th>\n",
              "      <td>licostinel</td>\n",
              "      <td>1</td>\n",
              "    </tr>\n",
              "    <tr>\n",
              "      <th>2046</th>\n",
              "      <td>ademetionine(adenosyl-methionine)</td>\n",
              "      <td>1</td>\n",
              "    </tr>\n",
              "    <tr>\n",
              "      <th>2047</th>\n",
              "      <td>mesocarb</td>\n",
              "      <td>1</td>\n",
              "    </tr>\n",
              "    <tr>\n",
              "      <th>2048</th>\n",
              "      <td>tofisoline</td>\n",
              "      <td>1</td>\n",
              "    </tr>\n",
              "    <tr>\n",
              "      <th>2049</th>\n",
              "      <td>azidamfenicol</td>\n",
              "      <td>1</td>\n",
              "    </tr>\n",
              "  </tbody>\n",
              "</table>\n",
              "<p>2020 rows × 2 columns</p>\n",
              "</div>\n",
              "    <div class=\"colab-df-buttons\">\n",
              "\n",
              "  <div class=\"colab-df-container\">\n",
              "    <button class=\"colab-df-convert\" onclick=\"convertToInteractive('df-83d9a736-8506-4def-ae31-3ac819525a9d')\"\n",
              "            title=\"Convert this dataframe to an interactive table.\"\n",
              "            style=\"display:none;\">\n",
              "\n",
              "  <svg xmlns=\"http://www.w3.org/2000/svg\" height=\"24px\" viewBox=\"0 -960 960 960\">\n",
              "    <path d=\"M120-120v-720h720v720H120Zm60-500h600v-160H180v160Zm220 220h160v-160H400v160Zm0 220h160v-160H400v160ZM180-400h160v-160H180v160Zm440 0h160v-160H620v160ZM180-180h160v-160H180v160Zm440 0h160v-160H620v160Z\"/>\n",
              "  </svg>\n",
              "    </button>\n",
              "\n",
              "  <style>\n",
              "    .colab-df-container {\n",
              "      display:flex;\n",
              "      gap: 12px;\n",
              "    }\n",
              "\n",
              "    .colab-df-convert {\n",
              "      background-color: #E8F0FE;\n",
              "      border: none;\n",
              "      border-radius: 50%;\n",
              "      cursor: pointer;\n",
              "      display: none;\n",
              "      fill: #1967D2;\n",
              "      height: 32px;\n",
              "      padding: 0 0 0 0;\n",
              "      width: 32px;\n",
              "    }\n",
              "\n",
              "    .colab-df-convert:hover {\n",
              "      background-color: #E2EBFA;\n",
              "      box-shadow: 0px 1px 2px rgba(60, 64, 67, 0.3), 0px 1px 3px 1px rgba(60, 64, 67, 0.15);\n",
              "      fill: #174EA6;\n",
              "    }\n",
              "\n",
              "    .colab-df-buttons div {\n",
              "      margin-bottom: 4px;\n",
              "    }\n",
              "\n",
              "    [theme=dark] .colab-df-convert {\n",
              "      background-color: #3B4455;\n",
              "      fill: #D2E3FC;\n",
              "    }\n",
              "\n",
              "    [theme=dark] .colab-df-convert:hover {\n",
              "      background-color: #434B5C;\n",
              "      box-shadow: 0px 1px 3px 1px rgba(0, 0, 0, 0.15);\n",
              "      filter: drop-shadow(0px 1px 2px rgba(0, 0, 0, 0.3));\n",
              "      fill: #FFFFFF;\n",
              "    }\n",
              "  </style>\n",
              "\n",
              "    <script>\n",
              "      const buttonEl =\n",
              "        document.querySelector('#df-83d9a736-8506-4def-ae31-3ac819525a9d button.colab-df-convert');\n",
              "      buttonEl.style.display =\n",
              "        google.colab.kernel.accessAllowed ? 'block' : 'none';\n",
              "\n",
              "      async function convertToInteractive(key) {\n",
              "        const element = document.querySelector('#df-83d9a736-8506-4def-ae31-3ac819525a9d');\n",
              "        const dataTable =\n",
              "          await google.colab.kernel.invokeFunction('convertToInteractive',\n",
              "                                                    [key], {});\n",
              "        if (!dataTable) return;\n",
              "\n",
              "        const docLinkHtml = 'Like what you see? Visit the ' +\n",
              "          '<a target=\"_blank\" href=https://colab.research.google.com/notebooks/data_table.ipynb>data table notebook</a>'\n",
              "          + ' to learn more about interactive tables.';\n",
              "        element.innerHTML = '';\n",
              "        dataTable['output_type'] = 'display_data';\n",
              "        await google.colab.output.renderOutput(dataTable, element);\n",
              "        const docLink = document.createElement('div');\n",
              "        docLink.innerHTML = docLinkHtml;\n",
              "        element.appendChild(docLink);\n",
              "      }\n",
              "    </script>\n",
              "  </div>\n",
              "\n",
              "\n",
              "<div id=\"df-0bfb3be6-b31d-49c2-898a-d1947041c4d6\">\n",
              "  <button class=\"colab-df-quickchart\" onclick=\"quickchart('df-0bfb3be6-b31d-49c2-898a-d1947041c4d6')\"\n",
              "            title=\"Suggest charts\"\n",
              "            style=\"display:none;\">\n",
              "\n",
              "<svg xmlns=\"http://www.w3.org/2000/svg\" height=\"24px\"viewBox=\"0 0 24 24\"\n",
              "     width=\"24px\">\n",
              "    <g>\n",
              "        <path d=\"M19 3H5c-1.1 0-2 .9-2 2v14c0 1.1.9 2 2 2h14c1.1 0 2-.9 2-2V5c0-1.1-.9-2-2-2zM9 17H7v-7h2v7zm4 0h-2V7h2v10zm4 0h-2v-4h2v4z\"/>\n",
              "    </g>\n",
              "</svg>\n",
              "  </button>\n",
              "\n",
              "<style>\n",
              "  .colab-df-quickchart {\n",
              "      --bg-color: #E8F0FE;\n",
              "      --fill-color: #1967D2;\n",
              "      --hover-bg-color: #E2EBFA;\n",
              "      --hover-fill-color: #174EA6;\n",
              "      --disabled-fill-color: #AAA;\n",
              "      --disabled-bg-color: #DDD;\n",
              "  }\n",
              "\n",
              "  [theme=dark] .colab-df-quickchart {\n",
              "      --bg-color: #3B4455;\n",
              "      --fill-color: #D2E3FC;\n",
              "      --hover-bg-color: #434B5C;\n",
              "      --hover-fill-color: #FFFFFF;\n",
              "      --disabled-bg-color: #3B4455;\n",
              "      --disabled-fill-color: #666;\n",
              "  }\n",
              "\n",
              "  .colab-df-quickchart {\n",
              "    background-color: var(--bg-color);\n",
              "    border: none;\n",
              "    border-radius: 50%;\n",
              "    cursor: pointer;\n",
              "    display: none;\n",
              "    fill: var(--fill-color);\n",
              "    height: 32px;\n",
              "    padding: 0;\n",
              "    width: 32px;\n",
              "  }\n",
              "\n",
              "  .colab-df-quickchart:hover {\n",
              "    background-color: var(--hover-bg-color);\n",
              "    box-shadow: 0 1px 2px rgba(60, 64, 67, 0.3), 0 1px 3px 1px rgba(60, 64, 67, 0.15);\n",
              "    fill: var(--button-hover-fill-color);\n",
              "  }\n",
              "\n",
              "  .colab-df-quickchart-complete:disabled,\n",
              "  .colab-df-quickchart-complete:disabled:hover {\n",
              "    background-color: var(--disabled-bg-color);\n",
              "    fill: var(--disabled-fill-color);\n",
              "    box-shadow: none;\n",
              "  }\n",
              "\n",
              "  .colab-df-spinner {\n",
              "    border: 2px solid var(--fill-color);\n",
              "    border-color: transparent;\n",
              "    border-bottom-color: var(--fill-color);\n",
              "    animation:\n",
              "      spin 1s steps(1) infinite;\n",
              "  }\n",
              "\n",
              "  @keyframes spin {\n",
              "    0% {\n",
              "      border-color: transparent;\n",
              "      border-bottom-color: var(--fill-color);\n",
              "      border-left-color: var(--fill-color);\n",
              "    }\n",
              "    20% {\n",
              "      border-color: transparent;\n",
              "      border-left-color: var(--fill-color);\n",
              "      border-top-color: var(--fill-color);\n",
              "    }\n",
              "    30% {\n",
              "      border-color: transparent;\n",
              "      border-left-color: var(--fill-color);\n",
              "      border-top-color: var(--fill-color);\n",
              "      border-right-color: var(--fill-color);\n",
              "    }\n",
              "    40% {\n",
              "      border-color: transparent;\n",
              "      border-right-color: var(--fill-color);\n",
              "      border-top-color: var(--fill-color);\n",
              "    }\n",
              "    60% {\n",
              "      border-color: transparent;\n",
              "      border-right-color: var(--fill-color);\n",
              "    }\n",
              "    80% {\n",
              "      border-color: transparent;\n",
              "      border-right-color: var(--fill-color);\n",
              "      border-bottom-color: var(--fill-color);\n",
              "    }\n",
              "    90% {\n",
              "      border-color: transparent;\n",
              "      border-bottom-color: var(--fill-color);\n",
              "    }\n",
              "  }\n",
              "</style>\n",
              "\n",
              "  <script>\n",
              "    async function quickchart(key) {\n",
              "      const quickchartButtonEl =\n",
              "        document.querySelector('#' + key + ' button');\n",
              "      quickchartButtonEl.disabled = true;  // To prevent multiple clicks.\n",
              "      quickchartButtonEl.classList.add('colab-df-spinner');\n",
              "      try {\n",
              "        const charts = await google.colab.kernel.invokeFunction(\n",
              "            'suggestCharts', [key], {});\n",
              "      } catch (error) {\n",
              "        console.error('Error during call to suggestCharts:', error);\n",
              "      }\n",
              "      quickchartButtonEl.classList.remove('colab-df-spinner');\n",
              "      quickchartButtonEl.classList.add('colab-df-quickchart-complete');\n",
              "    }\n",
              "    (() => {\n",
              "      let quickchartButtonEl =\n",
              "        document.querySelector('#df-0bfb3be6-b31d-49c2-898a-d1947041c4d6 button');\n",
              "      quickchartButtonEl.style.display =\n",
              "        google.colab.kernel.accessAllowed ? 'block' : 'none';\n",
              "    })();\n",
              "  </script>\n",
              "</div>\n",
              "\n",
              "    </div>\n",
              "  </div>\n"
            ],
            "text/plain": [
              "                                   name  permeable\n",
              "0                            Propanolol          1\n",
              "1                  Terbutylchlorambucil          1\n",
              "2                                 40730          1\n",
              "3                                    24          1\n",
              "4                           cloxacillin          1\n",
              "...                                 ...        ...\n",
              "2045                         licostinel          1\n",
              "2046  ademetionine(adenosyl-methionine)          1\n",
              "2047                           mesocarb          1\n",
              "2048                         tofisoline          1\n",
              "2049                      azidamfenicol          1\n",
              "\n",
              "[2020 rows x 2 columns]"
            ]
          },
          "execution_count": 9,
          "metadata": {},
          "output_type": "execute_result"
        }
      ],
      "source": [
        "BBBP=bbbp[~bbbp.name.duplicated(keep='first')]\n",
        "BBBP[['name','permeable']][BBBP.smiles.str.len()>3]#.reset_index(drop=True)"
      ]
    },
    {
      "cell_type": "markdown",
      "metadata": {
        "id": "6L8TZ5qx530H"
      },
      "source": [
        "### ... and with graphistry"
      ]
    },
    {
      "cell_type": "code",
      "execution_count": 10,
      "metadata": {
        "colab": {
          "base_uri": "https://localhost:8080/"
        },
        "id": "vA8LG2dFgKrc",
        "outputId": "c4b1ceba-0f48-4239-b600-1302dcb9eda8"
      },
      "outputs": [
        {
          "name": "stderr",
          "output_type": "stream",
          "text": [
            "WARNING:graphistry.util.memoization:! Failed umap speedup attempt. Continuing without memoization speedups.WARNING:graphistry.umap_utils:* Ignoring target column of shape (2020, 0) in UMAP fit, as it is not one dimensional"
          ]
        },
        {
          "name": "stdout",
          "output_type": "stream",
          "text": [
            "\n",
            " Total  43.0 seconds passed\n"
          ]
        }
      ],
      "source": [
        "BBBP=bbbp[~bbbp.name.duplicated(keep='first')]\n",
        "\n",
        "g = graphistry.nodes(cudf.from_pandas(BBBP[['smiles','permeable']][BBBP.smiles.str.len()>3]))\n",
        "t=time()\n",
        "# g2=g.featurize(feature_engine='cu_cat',memoize=True)\n",
        "g3=g.umap(engine='cuml',metric = \"jaccard\",\n",
        "                      n_neighbors = 25,\n",
        "                      n_components = 2,\n",
        "                      low_memory = False,\n",
        "                      min_dist = 0.001)\n",
        "print('\\n Total ', np.round(time() - t,1), 'seconds passed')"
      ]
    },
    {
      "cell_type": "code",
      "execution_count": null,
      "metadata": {
        "colab": {
          "base_uri": "https://localhost:8080/",
          "height": 543
        },
        "id": "WMzz0EfaqR03",
        "outputId": "c386f527-42c1-4e07-88a4-701238d73908"
      },
      "outputs": [
        {
          "data": {
            "text/html": [
              "\n",
              "            <iframe id=\"04ca612a-3acb-496c-abd5-256c5e0a2dbd\" src=\"https://hub.graphistry.com/graph/graph.html?dataset=965c128e0170433a8fa56147110afe2f&type=arrow&viztoken=30584e02-8ac6-443e-a9ee-4537aa465116&usertag=ad916a25-pygraphistry-0.33.9&splashAfter=1720511053&info=true&play=0\"\n",
              "                    allowfullscreen=\"true\" webkitallowfullscreen=\"true\" mozallowfullscreen=\"true\"\n",
              "                    oallowfullscreen=\"true\" msallowfullscreen=\"true\"\n",
              "                    style=\"width:100%; height:500px; border: 1px solid #DDD; overflow: hidden\"\n",
              "                    \n",
              "            >\n",
              "            </iframe>\n",
              "        \n",
              "            <script>\n",
              "                try {\n",
              "                  $(\"#04ca612a-3acb-496c-abd5-256c5e0a2dbd\").bind('mousewheel', function(e) { e.preventDefault(); });\n",
              "                } catch (e) { console.error('exn catching scroll', e); }\n",
              "            </script>\n",
              "        "
            ],
            "text/plain": [
              "<IPython.core.display.HTML object>"
            ]
          },
          "execution_count": 31,
          "metadata": {},
          "output_type": "execute_result"
        }
      ],
      "source": [
        "g3.encode_point_color('permeable',palette=[\"hotpink\", \"dodgerblue\"],as_continuous=True).plot()\n"
      ]
    }
  ],
  "metadata": {
    "accelerator": "GPU",
    "colab": {
      "collapsed_sections": [
        "jovz3xVc4M8X"
      ],
      "gpuType": "T4",
      "provenance": []
    },
    "kernelspec": {
      "display_name": "Python 3",
      "name": "python3"
    }
  },
  "nbformat": 4,
  "nbformat_minor": 0
}
