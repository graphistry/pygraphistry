{
  "cells": [
    {
      "cell_type": "code",
      "source": [
        "#! pip install graphistry[igraph]"
      ],
      "metadata": {
        "id": "PWhyYMSsJ432"
      },
      "execution_count": null,
      "outputs": []
    },
    {
      "cell_type": "markdown",
      "metadata": {
        "id": "G1oCR8aZJ4P5"
      },
      "source": [
        "# Botnet on Twitter?"
      ]
    },
    {
      "cell_type": "code",
      "execution_count": null,
      "metadata": {
        "collapsed": true,
        "id": "bO9U8G6cJ4P6"
      },
      "outputs": [],
      "source": [
        "import igraph, graphistry, pandas as pd\n",
        "\n",
        "# To specify Graphistry account & server, use:\n",
        "# graphistry.register(api=3, username='...', password='...')\n",
        "# For more options, see https://github.com/graphistry/pygraphistry#configure\n"
      ]
    },
    {
      "cell_type": "markdown",
      "metadata": {
        "id": "YbMrJVGFJ4P7"
      },
      "source": [
        "## Step 1: Loading The Data\n",
        "\n",
        "This dataset was created by a Twitter user who was surprised that one of his very innocuous tweet (\"Hey let's grab a coffee\") got retweeted several times. Intrigued, he had a closer look at the accounts that retweeted his message. He found that those accounts all had inprononcable names that looked like gibberish. Suspecting that those accounts might be fake, he crawled the twitter social network around the suspicious accounts to produce this dataset.\n",
        "\n",
        "The dataset is in a CSV file named `twitterDemo.csv` which looks like that:\n",
        "```\n",
        "#dstAccount,srcAccount\n",
        "arley_leon16,wxite_pymp\n",
        "michaelinhooo2,wxite_pymp\n",
        "steeeva,wxite_pymp\n",
        "...\n",
        "```\n",
        "Each row in `twitterDemo.csv` denotes two twitter accounts \"following\" (Twitter's equivalent of friending) each other."
      ]
    },
    {
      "cell_type": "code",
      "execution_count": null,
      "metadata": {
        "colab": {
          "base_uri": "https://localhost:8080/",
          "height": 143
        },
        "id": "YvOAFXZBJ4P8",
        "outputId": "40236af5-9b77-4fa3-9445-755ba6befaf1"
      },
      "outputs": [
        {
          "output_type": "execute_result",
          "data": {
            "text/plain": [
              "           dstAccount     srcAccount\n",
              "9879     awesehufoyeq   aqugocaqiyuq\n",
              "4824   owozopikirif30   awadosiluq42\n",
              "7409  ozuq_ayijukux77  agun_acovipuj"
            ],
            "text/html": [
              "\n",
              "  <div id=\"df-e4349d5c-3616-475d-b53a-ce3255b3269e\">\n",
              "    <div class=\"colab-df-container\">\n",
              "      <div>\n",
              "<style scoped>\n",
              "    .dataframe tbody tr th:only-of-type {\n",
              "        vertical-align: middle;\n",
              "    }\n",
              "\n",
              "    .dataframe tbody tr th {\n",
              "        vertical-align: top;\n",
              "    }\n",
              "\n",
              "    .dataframe thead th {\n",
              "        text-align: right;\n",
              "    }\n",
              "</style>\n",
              "<table border=\"1\" class=\"dataframe\">\n",
              "  <thead>\n",
              "    <tr style=\"text-align: right;\">\n",
              "      <th></th>\n",
              "      <th>dstAccount</th>\n",
              "      <th>srcAccount</th>\n",
              "    </tr>\n",
              "  </thead>\n",
              "  <tbody>\n",
              "    <tr>\n",
              "      <th>9879</th>\n",
              "      <td>awesehufoyeq</td>\n",
              "      <td>aqugocaqiyuq</td>\n",
              "    </tr>\n",
              "    <tr>\n",
              "      <th>4824</th>\n",
              "      <td>owozopikirif30</td>\n",
              "      <td>awadosiluq42</td>\n",
              "    </tr>\n",
              "    <tr>\n",
              "      <th>7409</th>\n",
              "      <td>ozuq_ayijukux77</td>\n",
              "      <td>agun_acovipuj</td>\n",
              "    </tr>\n",
              "  </tbody>\n",
              "</table>\n",
              "</div>\n",
              "      <button class=\"colab-df-convert\" onclick=\"convertToInteractive('df-e4349d5c-3616-475d-b53a-ce3255b3269e')\"\n",
              "              title=\"Convert this dataframe to an interactive table.\"\n",
              "              style=\"display:none;\">\n",
              "        \n",
              "  <svg xmlns=\"http://www.w3.org/2000/svg\" height=\"24px\"viewBox=\"0 0 24 24\"\n",
              "       width=\"24px\">\n",
              "    <path d=\"M0 0h24v24H0V0z\" fill=\"none\"/>\n",
              "    <path d=\"M18.56 5.44l.94 2.06.94-2.06 2.06-.94-2.06-.94-.94-2.06-.94 2.06-2.06.94zm-11 1L8.5 8.5l.94-2.06 2.06-.94-2.06-.94L8.5 2.5l-.94 2.06-2.06.94zm10 10l.94 2.06.94-2.06 2.06-.94-2.06-.94-.94-2.06-.94 2.06-2.06.94z\"/><path d=\"M17.41 7.96l-1.37-1.37c-.4-.4-.92-.59-1.43-.59-.52 0-1.04.2-1.43.59L10.3 9.45l-7.72 7.72c-.78.78-.78 2.05 0 2.83L4 21.41c.39.39.9.59 1.41.59.51 0 1.02-.2 1.41-.59l7.78-7.78 2.81-2.81c.8-.78.8-2.07 0-2.86zM5.41 20L4 18.59l7.72-7.72 1.47 1.35L5.41 20z\"/>\n",
              "  </svg>\n",
              "      </button>\n",
              "      \n",
              "  <style>\n",
              "    .colab-df-container {\n",
              "      display:flex;\n",
              "      flex-wrap:wrap;\n",
              "      gap: 12px;\n",
              "    }\n",
              "\n",
              "    .colab-df-convert {\n",
              "      background-color: #E8F0FE;\n",
              "      border: none;\n",
              "      border-radius: 50%;\n",
              "      cursor: pointer;\n",
              "      display: none;\n",
              "      fill: #1967D2;\n",
              "      height: 32px;\n",
              "      padding: 0 0 0 0;\n",
              "      width: 32px;\n",
              "    }\n",
              "\n",
              "    .colab-df-convert:hover {\n",
              "      background-color: #E2EBFA;\n",
              "      box-shadow: 0px 1px 2px rgba(60, 64, 67, 0.3), 0px 1px 3px 1px rgba(60, 64, 67, 0.15);\n",
              "      fill: #174EA6;\n",
              "    }\n",
              "\n",
              "    [theme=dark] .colab-df-convert {\n",
              "      background-color: #3B4455;\n",
              "      fill: #D2E3FC;\n",
              "    }\n",
              "\n",
              "    [theme=dark] .colab-df-convert:hover {\n",
              "      background-color: #434B5C;\n",
              "      box-shadow: 0px 1px 3px 1px rgba(0, 0, 0, 0.15);\n",
              "      filter: drop-shadow(0px 1px 2px rgba(0, 0, 0, 0.3));\n",
              "      fill: #FFFFFF;\n",
              "    }\n",
              "  </style>\n",
              "\n",
              "      <script>\n",
              "        const buttonEl =\n",
              "          document.querySelector('#df-e4349d5c-3616-475d-b53a-ce3255b3269e button.colab-df-convert');\n",
              "        buttonEl.style.display =\n",
              "          google.colab.kernel.accessAllowed ? 'block' : 'none';\n",
              "\n",
              "        async function convertToInteractive(key) {\n",
              "          const element = document.querySelector('#df-e4349d5c-3616-475d-b53a-ce3255b3269e');\n",
              "          const dataTable =\n",
              "            await google.colab.kernel.invokeFunction('convertToInteractive',\n",
              "                                                     [key], {});\n",
              "          if (!dataTable) return;\n",
              "\n",
              "          const docLinkHtml = 'Like what you see? Visit the ' +\n",
              "            '<a target=\"_blank\" href=https://colab.research.google.com/notebooks/data_table.ipynb>data table notebook</a>'\n",
              "            + ' to learn more about interactive tables.';\n",
              "          element.innerHTML = '';\n",
              "          dataTable['output_type'] = 'display_data';\n",
              "          await google.colab.output.renderOutput(dataTable, element);\n",
              "          const docLink = document.createElement('div');\n",
              "          docLink.innerHTML = docLinkHtml;\n",
              "          element.appendChild(docLink);\n",
              "        }\n",
              "      </script>\n",
              "    </div>\n",
              "  </div>\n",
              "  "
            ]
          },
          "metadata": {},
          "execution_count": 3
        }
      ],
      "source": [
        "follows_df = pd.read_csv('../../data/twitterDemo.csv')\n",
        "#follows_df = pd.read_csv('https://raw.githubusercontent.com/graphistry/pygraphistry/master/demos/data/twitterDemo.csv')\n",
        "follows_df.sample(3)"
      ]
    },
    {
      "cell_type": "markdown",
      "metadata": {
        "collapsed": true,
        "id": "O997rIwcJ4P8"
      },
      "source": [
        "## Step 2: First Simple Visualization\n",
        "\n",
        "We can visualize this subset of the Twitter network as a graph: Each node is a Twitter account and edges encode the \"follows\" relation."
      ]
    },
    {
      "cell_type": "code",
      "execution_count": null,
      "metadata": {
        "colab": {
          "base_uri": "https://localhost:8080/",
          "height": 543
        },
        "id": "RTCAvNyxJ4P8",
        "outputId": "9000c642-01c5-42bf-ef2b-29e5f4448586"
      },
      "outputs": [
        {
          "output_type": "execute_result",
          "data": {
            "text/plain": [
              "<IPython.core.display.HTML object>"
            ],
            "text/html": [
              "\n",
              "            <iframe id=\"1a9b7599-57d7-406a-b0e8-53b31354a846\" src=\"https://hub.graphistry.com/graph/graph.html?dataset=401c7507ce404a47975f6978e02c0e60&type=arrow&viztoken=878d4145-c95b-4cd9-b986-c6357ea18c72&usertag=8a741bc5-pygraphistry-refs/pull/342/head&splashAfter=1651374956&info=true\"\n",
              "                    allowfullscreen=\"true\" webkitallowfullscreen=\"true\" mozallowfullscreen=\"true\"\n",
              "                    oallowfullscreen=\"true\" msallowfullscreen=\"true\"\n",
              "                    style=\"width:100%; height:500px; border: 1px solid #DDD; overflow: hidden\"\n",
              "                    \n",
              "            >\n",
              "            </iframe>\n",
              "        \n",
              "            <script>\n",
              "                try {\n",
              "                  $(\"#1a9b7599-57d7-406a-b0e8-53b31354a846\").bind('mousewheel', function(e) { e.preventDefault(); });\n",
              "                } catch (e) { console.error('exn catching scroll', e); }\n",
              "            </script>\n",
              "        "
            ]
          },
          "metadata": {},
          "execution_count": 4
        }
      ],
      "source": [
        "g = graphistry.edges(follows_df, 'srcAccount', 'dstAccount')\n",
        "\n",
        "g.plot()"
      ]
    },
    {
      "cell_type": "markdown",
      "metadata": {
        "id": "IDV0i5-pJ4P9"
      },
      "source": [
        "Can you answer the following questions by exploring the visualization you have just created?\n",
        "- Is the structure of the graph what you would expect from a social network?\n",
        "- Can you tell which accounts might be fake and which ones are likely real users?"
      ]
    },
    {
      "cell_type": "markdown",
      "metadata": {
        "id": "YpYdvTSeJ4P9"
      },
      "source": [
        "## Step 3: Computing Graph Metrics With IGraph\n",
        "\n",
        "Next, we are going to use [IGraph](http://igraph.org/python/), a graph computation library, to compute metrics like pagerank to help us understand the dataset."
      ]
    },
    {
      "cell_type": "code",
      "execution_count": null,
      "metadata": {
        "colab": {
          "base_uri": "https://localhost:8080/"
        },
        "id": "Yk5RRW4WJ4P9",
        "outputId": "26b9786f-dcbf-4a8a-9d35-b53d6fc99ab9"
      },
      "outputs": [
        {
          "output_type": "stream",
          "name": "stdout",
          "text": [
            "IGRAPH DN-- 7889 10063 -- \n",
            "+ attr: name (v)\n"
          ]
        }
      ],
      "source": [
        "ig = g.to_igraph()\n",
        "igraph.summary(ig)"
      ]
    },
    {
      "cell_type": "code",
      "execution_count": null,
      "metadata": {
        "collapsed": true,
        "colab": {
          "base_uri": "https://localhost:8080/"
        },
        "id": "g6cj1-uXJ4P-",
        "outputId": "b6a0465a-41fc-4812-960e-0b00a88d6a82"
      },
      "outputs": [
        {
          "output_type": "stream",
          "name": "stdout",
          "text": [
            "CPU times: user 7.24 s, sys: 29.2 ms, total: 7.26 s\n",
            "Wall time: 8.18 s\n"
          ]
        }
      ],
      "source": [
        "%%time\n",
        "\n",
        "ig.vs['pagerank'] = ig.pagerank(directed=False)\n",
        "ig.vs['betweenness'] = ig.betweenness(directed=True)\n",
        "ig.es['ebetweenness'] = ig.edge_betweenness(directed=True)\n",
        "\n",
        "ig.vs['community_spinglass'] = ig.community_spinglass(spins=12, stop_temp=0.1, cool_fact=0.9).membership\n",
        "\n",
        "uig = ig.copy()\n",
        "uig.to_undirected()\n",
        "ig.vs['community_infomap'] = uig.community_infomap().membership\n",
        "ig.vs['community_louvain'] = uig.community_multilevel().membership"
      ]
    },
    {
      "cell_type": "code",
      "execution_count": null,
      "metadata": {
        "colab": {
          "base_uri": "https://localhost:8080/",
          "height": 282
        },
        "id": "1gtM1_dMJ4P-",
        "outputId": "b913a0e0-ac77-40f9-facd-825c6cfff5f9"
      },
      "outputs": [
        {
          "output_type": "stream",
          "name": "stdout",
          "text": [
            "_n_implicit              int64\n",
            "name                    object\n",
            "pagerank               float64\n",
            "betweenness            float64\n",
            "community_spinglass      int64\n",
            "community_infomap        int64\n",
            "community_louvain        int64\n",
            "dtype: object\n"
          ]
        },
        {
          "output_type": "execute_result",
          "data": {
            "text/plain": [
              "      _n_implicit             name  pagerank  betweenness  \\\n",
              "4155         4155  etuz_eredimof90  0.000060          0.0   \n",
              "3313         3313   isudovodutit26  0.000096          0.0   \n",
              "5854         5854     omoposafadat  0.000134          0.0   \n",
              "\n",
              "      community_spinglass  community_infomap  community_louvain  \n",
              "4155                    2                144                 37  \n",
              "3313                    2                184                 16  \n",
              "5854                   11                660                 10  "
            ],
            "text/html": [
              "\n",
              "  <div id=\"df-d0b04c5b-b193-4f57-b768-5a78e9c8909d\">\n",
              "    <div class=\"colab-df-container\">\n",
              "      <div>\n",
              "<style scoped>\n",
              "    .dataframe tbody tr th:only-of-type {\n",
              "        vertical-align: middle;\n",
              "    }\n",
              "\n",
              "    .dataframe tbody tr th {\n",
              "        vertical-align: top;\n",
              "    }\n",
              "\n",
              "    .dataframe thead th {\n",
              "        text-align: right;\n",
              "    }\n",
              "</style>\n",
              "<table border=\"1\" class=\"dataframe\">\n",
              "  <thead>\n",
              "    <tr style=\"text-align: right;\">\n",
              "      <th></th>\n",
              "      <th>_n_implicit</th>\n",
              "      <th>name</th>\n",
              "      <th>pagerank</th>\n",
              "      <th>betweenness</th>\n",
              "      <th>community_spinglass</th>\n",
              "      <th>community_infomap</th>\n",
              "      <th>community_louvain</th>\n",
              "    </tr>\n",
              "  </thead>\n",
              "  <tbody>\n",
              "    <tr>\n",
              "      <th>4155</th>\n",
              "      <td>4155</td>\n",
              "      <td>etuz_eredimof90</td>\n",
              "      <td>0.000060</td>\n",
              "      <td>0.0</td>\n",
              "      <td>2</td>\n",
              "      <td>144</td>\n",
              "      <td>37</td>\n",
              "    </tr>\n",
              "    <tr>\n",
              "      <th>3313</th>\n",
              "      <td>3313</td>\n",
              "      <td>isudovodutit26</td>\n",
              "      <td>0.000096</td>\n",
              "      <td>0.0</td>\n",
              "      <td>2</td>\n",
              "      <td>184</td>\n",
              "      <td>16</td>\n",
              "    </tr>\n",
              "    <tr>\n",
              "      <th>5854</th>\n",
              "      <td>5854</td>\n",
              "      <td>omoposafadat</td>\n",
              "      <td>0.000134</td>\n",
              "      <td>0.0</td>\n",
              "      <td>11</td>\n",
              "      <td>660</td>\n",
              "      <td>10</td>\n",
              "    </tr>\n",
              "  </tbody>\n",
              "</table>\n",
              "</div>\n",
              "      <button class=\"colab-df-convert\" onclick=\"convertToInteractive('df-d0b04c5b-b193-4f57-b768-5a78e9c8909d')\"\n",
              "              title=\"Convert this dataframe to an interactive table.\"\n",
              "              style=\"display:none;\">\n",
              "        \n",
              "  <svg xmlns=\"http://www.w3.org/2000/svg\" height=\"24px\"viewBox=\"0 0 24 24\"\n",
              "       width=\"24px\">\n",
              "    <path d=\"M0 0h24v24H0V0z\" fill=\"none\"/>\n",
              "    <path d=\"M18.56 5.44l.94 2.06.94-2.06 2.06-.94-2.06-.94-.94-2.06-.94 2.06-2.06.94zm-11 1L8.5 8.5l.94-2.06 2.06-.94-2.06-.94L8.5 2.5l-.94 2.06-2.06.94zm10 10l.94 2.06.94-2.06 2.06-.94-2.06-.94-.94-2.06-.94 2.06-2.06.94z\"/><path d=\"M17.41 7.96l-1.37-1.37c-.4-.4-.92-.59-1.43-.59-.52 0-1.04.2-1.43.59L10.3 9.45l-7.72 7.72c-.78.78-.78 2.05 0 2.83L4 21.41c.39.39.9.59 1.41.59.51 0 1.02-.2 1.41-.59l7.78-7.78 2.81-2.81c.8-.78.8-2.07 0-2.86zM5.41 20L4 18.59l7.72-7.72 1.47 1.35L5.41 20z\"/>\n",
              "  </svg>\n",
              "      </button>\n",
              "      \n",
              "  <style>\n",
              "    .colab-df-container {\n",
              "      display:flex;\n",
              "      flex-wrap:wrap;\n",
              "      gap: 12px;\n",
              "    }\n",
              "\n",
              "    .colab-df-convert {\n",
              "      background-color: #E8F0FE;\n",
              "      border: none;\n",
              "      border-radius: 50%;\n",
              "      cursor: pointer;\n",
              "      display: none;\n",
              "      fill: #1967D2;\n",
              "      height: 32px;\n",
              "      padding: 0 0 0 0;\n",
              "      width: 32px;\n",
              "    }\n",
              "\n",
              "    .colab-df-convert:hover {\n",
              "      background-color: #E2EBFA;\n",
              "      box-shadow: 0px 1px 2px rgba(60, 64, 67, 0.3), 0px 1px 3px 1px rgba(60, 64, 67, 0.15);\n",
              "      fill: #174EA6;\n",
              "    }\n",
              "\n",
              "    [theme=dark] .colab-df-convert {\n",
              "      background-color: #3B4455;\n",
              "      fill: #D2E3FC;\n",
              "    }\n",
              "\n",
              "    [theme=dark] .colab-df-convert:hover {\n",
              "      background-color: #434B5C;\n",
              "      box-shadow: 0px 1px 3px 1px rgba(0, 0, 0, 0.15);\n",
              "      filter: drop-shadow(0px 1px 2px rgba(0, 0, 0, 0.3));\n",
              "      fill: #FFFFFF;\n",
              "    }\n",
              "  </style>\n",
              "\n",
              "      <script>\n",
              "        const buttonEl =\n",
              "          document.querySelector('#df-d0b04c5b-b193-4f57-b768-5a78e9c8909d button.colab-df-convert');\n",
              "        buttonEl.style.display =\n",
              "          google.colab.kernel.accessAllowed ? 'block' : 'none';\n",
              "\n",
              "        async function convertToInteractive(key) {\n",
              "          const element = document.querySelector('#df-d0b04c5b-b193-4f57-b768-5a78e9c8909d');\n",
              "          const dataTable =\n",
              "            await google.colab.kernel.invokeFunction('convertToInteractive',\n",
              "                                                     [key], {});\n",
              "          if (!dataTable) return;\n",
              "\n",
              "          const docLinkHtml = 'Like what you see? Visit the ' +\n",
              "            '<a target=\"_blank\" href=https://colab.research.google.com/notebooks/data_table.ipynb>data table notebook</a>'\n",
              "            + ' to learn more about interactive tables.';\n",
              "          element.innerHTML = '';\n",
              "          dataTable['output_type'] = 'display_data';\n",
              "          await google.colab.output.renderOutput(dataTable, element);\n",
              "          const docLink = document.createElement('div');\n",
              "          docLink.innerHTML = docLinkHtml;\n",
              "          element.appendChild(docLink);\n",
              "        }\n",
              "      </script>\n",
              "    </div>\n",
              "  </div>\n",
              "  "
            ]
          },
          "metadata": {},
          "execution_count": 12
        }
      ],
      "source": [
        "g2 = g.from_igraph(ig)\n",
        "print(g2._nodes.dtypes)\n",
        "g2._nodes.sample(3)"
      ]
    },
    {
      "cell_type": "code",
      "execution_count": null,
      "metadata": {
        "colab": {
          "base_uri": "https://localhost:8080/",
          "height": 682
        },
        "id": "DUVeCe7hJ4P-",
        "outputId": "0042bca3-e158-4283-845a-19d05189307a"
      },
      "outputs": [
        {
          "output_type": "stream",
          "name": "stdout",
          "text": [
            "_n_implicit              int64\n",
            "name                    object\n",
            "pagerank               float64\n",
            "betweenness            float64\n",
            "community_spinglass      int32\n",
            "community_infomap        int64\n",
            "community_louvain        int64\n",
            "dtype: object\n"
          ]
        },
        {
          "output_type": "execute_result",
          "data": {
            "text/plain": [
              "<IPython.core.display.HTML object>"
            ],
            "text/html": [
              "\n",
              "            <iframe id=\"a6bf5755-467f-4dd1-b6aa-8fabbda14a75\" src=\"https://hub.graphistry.com/graph/graph.html?dataset=2d1793ade951466b96712bc39342add4&type=arrow&viztoken=b24c484c-e433-4770-b03c-dc1d154662f9&usertag=8a741bc5-pygraphistry-refs/pull/342/head&splashAfter=1651375849&info=true\"\n",
              "                    allowfullscreen=\"true\" webkitallowfullscreen=\"true\" mozallowfullscreen=\"true\"\n",
              "                    oallowfullscreen=\"true\" msallowfullscreen=\"true\"\n",
              "                    style=\"width:100%; height:500px; border: 1px solid #DDD; overflow: hidden\"\n",
              "                    \n",
              "            >\n",
              "            </iframe>\n",
              "        \n",
              "            <script>\n",
              "                try {\n",
              "                  $(\"#a6bf5755-467f-4dd1-b6aa-8fabbda14a75\").bind('mousewheel', function(e) { e.preventDefault(); });\n",
              "                } catch (e) { console.error('exn catching scroll', e); }\n",
              "            </script>\n",
              "        "
            ]
          },
          "metadata": {},
          "execution_count": 28
        }
      ],
      "source": [
        "g3 = (g2\n",
        "\n",
        "      #Convert to int32 to use the built-in color palettes:\n",
        "      #https://github.com/graphistry/pygraphistry/blob/master/demos/more_examples/graphistry_features/encodings-colors.ipynb\n",
        "      .nodes(g2._nodes.assign(community_spinglass=g2._nodes.community_spinglass.astype('int32')))\n",
        "      .encode_point_color('community_spinglass')\n",
        "\n",
        "      .encode_point_size('pagerank')\n",
        ")\n",
        "print(g3._nodes.dtypes)\n",
        "g3.plot()"
      ]
    },
    {
      "cell_type": "markdown",
      "metadata": {
        "id": "Z5Pa70wTJ4P_"
      },
      "source": [
        "## Step 4: Visual Drill Downs\n",
        "\n",
        "Within the visualization, you can filter and drill down into the graph. Try the following:\n",
        "\n",
        "1. Open the histogram panel, and add histograms for `pagerank`, `betweenness`, `ebetweenness`, etc. By selecting a region of a histogram or clicking on a bar, you can filter the graph.\n",
        "\n",
        "2. You can also manually create filters in the filter panel (\"funnel\" icon in the left menu bar). For instance, try filtering on `point:pagerank` such that `point:pagerank >= 0.01`. We select the most \"influencial accounts\". Those are the likely botnet owners/customers.\n",
        "\n",
        "3. Still in the histogram panel, you can visually show attributes using on the graph node/edge colors. Try clicking on each of the three square icons on top of each histogram. Notice that when point color is bound to `community_spinglass`, the \"tail\" of the network forms a distinct community. What makes those accounts different from the rest?\n",
        "\n",
        "4. With the histogram panel open, click on data brush and then lasso a selection on the graph. The histograms highlight the subset of nodes under the selection. You can drag the data brush selection to compare different subgraphs.\n"
      ]
    },
    {
      "cell_type": "code",
      "execution_count": null,
      "metadata": {
        "collapsed": true,
        "id": "sX2fliV8J4P_"
      },
      "outputs": [],
      "source": [
        ""
      ]
    }
  ],
  "metadata": {
    "kernelspec": {
      "display_name": "Python 3",
      "language": "python",
      "name": "python3"
    },
    "language_info": {
      "codemirror_mode": {
        "name": "ipython",
        "version": 3
      },
      "file_extension": ".py",
      "mimetype": "text/x-python",
      "name": "python",
      "nbconvert_exporter": "python",
      "pygments_lexer": "ipython3",
      "version": "3.7.11"
    },
    "colab": {
      "name": "Twitter.ipynb",
      "provenance": [],
      "collapsed_sections": []
    }
  },
  "nbformat": 4,
  "nbformat_minor": 0
}