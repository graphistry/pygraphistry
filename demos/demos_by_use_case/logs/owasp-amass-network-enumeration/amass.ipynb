{
  "nbformat": 4,
  "nbformat_minor": 0,
  "metadata": {
    "colab": {
      "name": "amass.ipynb",
      "version": "0.3.2",
      "provenance": [],
      "collapsed_sections": []
    },
    "kernelspec": {
      "name": "python3",
      "display_name": "Python 3"
    }
  },
  "cells": [
    {
      "metadata": {
        "id": "6HuKW2trkA-u",
        "colab_type": "text"
      },
      "cell_type": "markdown",
      "source": [
        "# Graphistry OWASP Amass Tutorial\n",
        "\n",
        "Map the footprint of your network\n",
        "\n",
        "* **Amass**: \"The OWASP Amass tool suite obtains subdomain names by scraping data sources, recursive brute forcing, crawling web archives, permuting/altering names and reverse DNS sweeping. Additionally, Amass uses the IP addresses obtained during resolution to discover associated netblocks and ASNs. All the information is then used to build maps of the target networks.\"\n",
        "\n",
        "* **Notebook**: Install and invoke Amass (including Go languague runtime) & Graphistry from a Google Colab notebook"
      ]
    },
    {
      "metadata": {
        "id": "njOVcXpOkhIX",
        "colab_type": "text"
      },
      "cell_type": "markdown",
      "source": [
        "## Install"
      ]
    },
    {
      "metadata": {
        "id": "arvNdwx1dmyG",
        "colab_type": "code",
        "colab": {
          "base_uri": "https://localhost:8080/",
          "height": 187
        },
        "outputId": "0421f8c1-8e85-43ba-fed4-55c18fc9e234"
      },
      "cell_type": "code",
      "source": [
        "#!pip install graphistry -q\n",
        "\n",
        "!apt -q install golang-go libzmq3-dev\n",
        "%env GOPATH=/root/go\n",
        "\n",
        "!go get -u github.com/OWASP/Amass/..."
      ],
      "execution_count": 39,
      "outputs": [
        {
          "output_type": "stream",
          "text": [
            "Reading package lists...\n",
            "Building dependency tree...\n",
            "Reading state information...\n",
            "golang-go is already the newest version (2:1.10~4ubuntu1).\n",
            "libzmq3-dev is already the newest version (4.2.5-1ubuntu0.1).\n",
            "The following package was automatically installed and is no longer required:\n",
            "  libnvidia-common-410\n",
            "Use 'apt autoremove' to remove it.\n",
            "0 upgraded, 0 newly installed, 0 to remove and 6 not upgraded.\n",
            "env: GOPATH=/root/go\n"
          ],
          "name": "stdout"
        }
      ]
    },
    {
      "metadata": {
        "id": "Sk3SuTuLkkCC",
        "colab_type": "text"
      },
      "cell_type": "markdown",
      "source": [
        "## Configure"
      ]
    },
    {
      "metadata": {
        "id": "EzHzBU8Zj_pF",
        "colab_type": "code",
        "colab": {}
      },
      "cell_type": "code",
      "source": [
        "import graphistry\n",
        "#graphistry.register(key='MY_API_KEY')\n",
        "graphistry.__version__"
      ],
      "execution_count": 0,
      "outputs": []
    },
    {
      "metadata": {
        "id": "S5LQJ2jpkmKi",
        "colab_type": "text"
      },
      "cell_type": "markdown",
      "source": [
        "## Crawl\n",
        "\n",
        "* Crawl domain and store results in `data.json`\n",
        "* Convert `data.json` into formatted Graphistry graph `g-viz.json`\n",
        "* See [Amass](https://github.com/OWASP/Amass/blob/master/doc/user_guide.md) for further options"
      ]
    },
    {
      "metadata": {
        "id": "BU1vn90aeEg4",
        "colab_type": "code",
        "colab": {
          "base_uri": "https://localhost:8080/",
          "height": 850
        },
        "outputId": "bad27b80-19ba-488b-8463-fa56657cbcce"
      },
      "cell_type": "code",
      "source": [
        "!/root/go/bin/amass -do data.json -d graphistry.com\n"
      ],
      "execution_count": 12,
      "outputs": [
        {
          "output_type": "stream",
          "text": [
            "\u001b[94m\u001b[0m\u001b[92mgossip.graphistry.com\u001b[0m \u001b[93m\u001b[0m\n",
            "\u001b[94m\u001b[0m\u001b[92mgraphistry.com\u001b[0m \u001b[93m\u001b[0m\n",
            "\u001b[94m\u001b[0m\u001b[92mlabs.graphistry.com\u001b[0m \u001b[93m\u001b[0m\n",
            "\u001b[94m\u001b[0m\u001b[92mkp.graphistry.com\u001b[0m \u001b[93m\u001b[0m\n",
            "\u001b[94m\u001b[0m\u001b[92mriverbed.graphistry.com\u001b[0m \u001b[93m\u001b[0m\n",
            "\u001b[94m\u001b[0m\u001b[92mfiddlesticks.graphistry.com\u001b[0m \u001b[93m\u001b[0m\n",
            "\u001b[94m\u001b[0m\u001b[92mdemo.graphistry.com\u001b[0m \u001b[93m\u001b[0m\n",
            "\u001b[94m\u001b[0m\u001b[92mspk.graphistry.com\u001b[0m \u001b[93m\u001b[0m\n",
            "\u001b[94m\u001b[0m\u001b[92mesto.graphistry.com\u001b[0m \u001b[93m\u001b[0m\n",
            "\u001b[94m\u001b[0m\u001b[92mshipyard.graphistry.com\u001b[0m \u001b[93m\u001b[0m\n",
            "\u001b[94m\u001b[0m\u001b[92mstaging.graphistry.com\u001b[0m \u001b[93m\u001b[0m\n",
            "\u001b[94m\u001b[0m\u001b[92mtraining.graphistry.com\u001b[0m \u001b[93m\u001b[0m\n",
            "\u001b[94m\u001b[0m\u001b[92mestf.graphistry.com\u001b[0m \u001b[93m\u001b[0m\n",
            "\u001b[94m\u001b[0m\u001b[92malpha.graphistry.com\u001b[0m \u001b[93m\u001b[0m\n",
            "\u001b[94m\u001b[0m\u001b[92mwww.graphistry.com\u001b[0m \u001b[93m\u001b[0m\n",
            "\u001b[94m\u001b[0m\u001b[92mproxy-staging.graphistry.com\u001b[0m \u001b[93m\u001b[0m\n",
            "\u001b[94m\u001b[0m\u001b[92mdeploy.graphistry.com\u001b[0m \u001b[93m\u001b[0m\n",
            "\u001b[94m\u001b[0m\u001b[92mdev.graphistry.com\u001b[0m \u001b[93m\u001b[0m\n",
            "\u001b[94m\u001b[0m\u001b[92mproxy-labs.graphistry.com\u001b[0m \u001b[93m\u001b[0m\n",
            "\u001b[94m\u001b[0m\u001b[92mes.graphistry.com\u001b[0m \u001b[93m\u001b[0m\n",
            "\u001b[94m\u001b[0m\u001b[92mqa.graphistry.com\u001b[0m \u001b[93m\u001b[0m\n",
            "\u001b[33mAverage DNS queries performed: 278/sec, DNS names remaining: 16\n",
            "\u001b[0m\u001b[33mAverage DNS queries performed: 21/sec, DNS names remaining: 13\n",
            "\u001b[0m\u001b[33mAverage DNS queries performed: 14/sec, DNS names remaining: 6\n",
            "\u001b[0m\n",
            "\u001b[94mOWASP Amass v2.9.9\u001b[0m\u001b[94m \u001b[0m\u001b[94m \u001b[0m\u001b[94m \u001b[0m\u001b[94m \u001b[0m\u001b[94m \u001b[0m\u001b[94m \u001b[0m\u001b[94m \u001b[0m\u001b[94m \u001b[0m\u001b[94m \u001b[0m\u001b[94m \u001b[0m\u001b[94m \u001b[0m\u001b[94m \u001b[0m\u001b[94m \u001b[0m\u001b[94m \u001b[0m\u001b[94m \u001b[0m\u001b[94m \u001b[0m\u001b[94m \u001b[0m\u001b[94m \u001b[0m\u001b[94m \u001b[0m\u001b[94m \u001b[0m\u001b[94m \u001b[0m\u001b[94m \u001b[0m\u001b[94m \u001b[0m\u001b[94m \u001b[0m\u001b[94m \u001b[0m\u001b[94m \u001b[0m\u001b[94m \u001b[0m\u001b[94m \u001b[0m\u001b[94m \u001b[0m\u001b[94m \u001b[0m\u001b[94m \u001b[0m\u001b[94m \u001b[0m\u001b[94mhttps://github.com/OWASP/Amass\n",
            "\u001b[0m\u001b[94m----------\u001b[0m\u001b[94m----------\u001b[0m\u001b[94m----------\u001b[0m\u001b[94m----------\u001b[0m\u001b[94m----------\u001b[0m\u001b[94m----------\u001b[0m\u001b[94m----------\u001b[0m\u001b[94m----------\u001b[0m\n",
            "\u001b[93m21\u001b[0m\u001b[92m names discovered - \u001b[0m\u001b[92malt\u001b[0m: \u001b[93m2\u001b[0m\u001b[92m, \u001b[0m\u001b[92mcert\u001b[0m: \u001b[93m14\u001b[0m\u001b[92m, \u001b[0m\u001b[92mdns\u001b[0m: \u001b[93m1\u001b[0m\u001b[92m, \u001b[0m\u001b[92mscrape\u001b[0m: \u001b[93m2\u001b[0m\u001b[92m, \u001b[0m\u001b[92mapi\u001b[0m: \u001b[93m2\u001b[0m\n",
            "\u001b[94m----------\u001b[0m\u001b[94m----------\u001b[0m\u001b[94m----------\u001b[0m\u001b[94m----------\u001b[0m\u001b[94m----------\u001b[0m\u001b[94m----------\u001b[0m\u001b[94m----------\u001b[0m\u001b[94m----------\u001b[0m\n",
            "\u001b[94mASN: \u001b[0m\u001b[93m15169\u001b[0m \u001b[92m-\u001b[0m \u001b[92mGOOGLE - Google LLC, US\u001b[0m\n",
            "\u001b[93m\t35.185.224.0/19   \u001b[0m\u001b[93m\t1   \u001b[0m \u001b[94mSubdomain Name(s)\u001b[0m\n",
            "\u001b[93m\t104.198.224.0/19  \u001b[0m\u001b[93m\t1   \u001b[0m \u001b[94mSubdomain Name(s)\u001b[0m\n",
            "\u001b[93m\t35.196.0.0/15     \u001b[0m\u001b[93m\t3   \u001b[0m \u001b[94mSubdomain Name(s)\u001b[0m\n",
            "\u001b[93m\t35.224.0.0/14     \u001b[0m\u001b[93m\t2   \u001b[0m \u001b[94mSubdomain Name(s)\u001b[0m\n",
            "\u001b[94mASN: \u001b[0m\u001b[93m14618\u001b[0m \u001b[92m-\u001b[0m \u001b[92mAMAZON-AES - Amazon.com, Inc., US\u001b[0m\n",
            "\u001b[93m\t54.174.0.0/15     \u001b[0m\u001b[93m\t3   \u001b[0m \u001b[94mSubdomain Name(s)\u001b[0m\n",
            "\u001b[94mASN: \u001b[0m\u001b[93m16509\u001b[0m \u001b[92m-\u001b[0m \u001b[92mAMAZON-02 - Amazon.com, Inc., US\u001b[0m\n",
            "\u001b[93m\t54.148.0.0/15     \u001b[0m\u001b[93m\t3   \u001b[0m \u001b[94mSubdomain Name(s)\u001b[0m\n",
            "\u001b[93m\t34.208.0.0/12     \u001b[0m\u001b[93m\t3   \u001b[0m \u001b[94mSubdomain Name(s)\u001b[0m\n",
            "\u001b[93m\t52.36.0.0/14      \u001b[0m\u001b[93m\t1   \u001b[0m \u001b[94mSubdomain Name(s)\u001b[0m\n",
            "\u001b[93m\t52.32.0.0/14      \u001b[0m\u001b[93m\t1   \u001b[0m \u001b[94mSubdomain Name(s)\u001b[0m\n",
            "\u001b[93m\t52.8.0.0/16       \u001b[0m\u001b[93m\t1   \u001b[0m \u001b[94mSubdomain Name(s)\u001b[0m\n",
            "\u001b[93m\t54.183.0.0/17     \u001b[0m\u001b[93m\t1   \u001b[0m \u001b[94mSubdomain Name(s)\u001b[0m\n",
            "\u001b[93m\t52.9.0.0/16       \u001b[0m\u001b[93m\t1   \u001b[0m \u001b[94mSubdomain Name(s)\u001b[0m\n",
            "\u001b[94mASN: \u001b[0m\u001b[93m8075\u001b[0m \u001b[92m-\u001b[0m \u001b[92mMICROSOFT-CORP-MSN-AS-BLOCK - Microsoft Corporation, US\u001b[0m\n",
            "\u001b[93m\t40.64.0.0/10      \u001b[0m\u001b[93m\t1   \u001b[0m \u001b[94mSubdomain Name(s)\u001b[0m\n",
            "\u001b[94mASN: \u001b[0m\u001b[93m13335\u001b[0m \u001b[92m-\u001b[0m \u001b[92mCLOUDFLARENET - Cloudflare, Inc., US\u001b[0m\n",
            "\u001b[93m\t104.17.112.0/20   \u001b[0m\u001b[93m\t5   \u001b[0m \u001b[94mSubdomain Name(s)\u001b[0m\n",
            "\u001b[93m\t2606:4700::/44    \u001b[0m\u001b[93m\t5   \u001b[0m \u001b[94mSubdomain Name(s)\u001b[0m\n"
          ],
          "name": "stdout"
        }
      ]
    },
    {
      "metadata": {
        "id": "VDzretOGfJv6",
        "colab_type": "code",
        "colab": {}
      },
      "cell_type": "code",
      "source": [
        "!/root/go/bin/amass.viz -graphistry g-viz.json -i data.json"
      ],
      "execution_count": 0,
      "outputs": []
    },
    {
      "metadata": {
        "id": "ZfnFw5oIlCdX",
        "colab_type": "text"
      },
      "cell_type": "markdown",
      "source": [
        "## Visualize!"
      ]
    },
    {
      "metadata": {
        "id": "fuvjNAV0hRam",
        "colab_type": "code",
        "colab": {
          "base_uri": "https://localhost:8080/",
          "height": 176
        },
        "outputId": "3ee6cb85-74c2-401c-d8c8-cbeed52165f7"
      },
      "cell_type": "code",
      "source": [
        "import json\n",
        "import pandas as pd\n",
        "\n",
        "with open('g-viz.json') as json_file:  \n",
        "    data = json.load(json_file)\n",
        "    \n",
        "nodes_df = pd.DataFrame(data['labels'])\n",
        "edges_df = pd.DataFrame(data['graph']) \n",
        "print('# nodes', len(nodes_df))\n",
        "print('# edges', len(edges_df))\n",
        "nodes_df.sample(3)"
      ],
      "execution_count": 40,
      "outputs": [
        {
          "output_type": "stream",
          "text": [
            "# nodes 138\n",
            "# edges 200\n"
          ],
          "name": "stdout"
        },
        {
          "output_type": "execute_result",
          "data": {
            "text/html": [
              "<div>\n",
              "<style scoped>\n",
              "    .dataframe tbody tr th:only-of-type {\n",
              "        vertical-align: middle;\n",
              "    }\n",
              "\n",
              "    .dataframe tbody tr th {\n",
              "        vertical-align: top;\n",
              "    }\n",
              "\n",
              "    .dataframe thead th {\n",
              "        text-align: right;\n",
              "    }\n",
              "</style>\n",
              "<table border=\"1\" class=\"dataframe\">\n",
              "  <thead>\n",
              "    <tr style=\"text-align: right;\">\n",
              "      <th></th>\n",
              "      <th>node</th>\n",
              "      <th>pointColor</th>\n",
              "      <th>pointLabel</th>\n",
              "      <th>pointTitle</th>\n",
              "      <th>source</th>\n",
              "      <th>type</th>\n",
              "    </tr>\n",
              "  </thead>\n",
              "  <tbody>\n",
              "    <tr>\n",
              "      <th>117</th>\n",
              "      <td>117</td>\n",
              "      <td>7</td>\n",
              "      <td>74.125.129.27</td>\n",
              "      <td>address: 74.125.129.27</td>\n",
              "      <td></td>\n",
              "      <td>address</td>\n",
              "    </tr>\n",
              "    <tr>\n",
              "      <th>34</th>\n",
              "      <td>34</td>\n",
              "      <td>3</td>\n",
              "      <td>staging.graphistry.com</td>\n",
              "      <td>subdomain: staging.graphistry.com</td>\n",
              "      <td>Crtsh</td>\n",
              "      <td>subdomain</td>\n",
              "    </tr>\n",
              "    <tr>\n",
              "      <th>99</th>\n",
              "      <td>99</td>\n",
              "      <td>4</td>\n",
              "      <td>74.125.141.0/24</td>\n",
              "      <td>netblock: 74.125.141.0/24</td>\n",
              "      <td></td>\n",
              "      <td>netblock</td>\n",
              "    </tr>\n",
              "  </tbody>\n",
              "</table>\n",
              "</div>"
            ],
            "text/plain": [
              "    node  pointColor              pointLabel  \\\n",
              "117  117           7           74.125.129.27   \n",
              "34    34           3  staging.graphistry.com   \n",
              "99    99           4         74.125.141.0/24   \n",
              "\n",
              "                            pointTitle source       type  \n",
              "117             address: 74.125.129.27           address  \n",
              "34   subdomain: staging.graphistry.com  Crtsh  subdomain  \n",
              "99           netblock: 74.125.141.0/24          netblock  "
            ]
          },
          "metadata": {
            "tags": []
          },
          "execution_count": 40
        }
      ]
    },
    {
      "metadata": {
        "id": "9-13ingVhldF",
        "colab_type": "code",
        "colab": {
          "base_uri": "https://localhost:8080/",
          "height": 543
        },
        "outputId": "c79f5e7b-dd6a-41ac-b0b8-b747335a1b8c"
      },
      "cell_type": "code",
      "source": [
        "g = graphistry\\\n",
        "  .bind(source='src', destination='dst', edge_title='edgeTitle')\\\n",
        "  .bind(node='node', point_color='pointColor', point_title='pointLabel')\n",
        "\n",
        "g.plot(edges_df, nodes_df)"
      ],
      "execution_count": 38,
      "outputs": [
        {
          "output_type": "execute_result",
          "data": {
            "text/html": [
              "\n",
              "            <iframe id=\"66605ccc-ad3e-4116-a86c-91b64c124d41\" src=\"https://alpha.graphistry.com/graph/graph.html?dataset=ee441d89cd0157b28ae71e6ecd2ccbcd&type=vgraph&viztoken=f68ec088635e4253a9fcbf485a0a6106&usertag=b8341cf9-pygraphistry-0.9.64&splashAfter=1555911643&info=true\"\n",
              "                    allowfullscreen=\"true\" webkitallowfullscreen=\"true\" mozallowfullscreen=\"true\"\n",
              "                    oallowfullscreen=\"true\" msallowfullscreen=\"true\"\n",
              "                    style=\"width:100%; height:500px; border: 1px solid #DDD\">\n",
              "            </iframe>\n",
              "        \n",
              "            <script>\n",
              "                $(\"#66605ccc-ad3e-4116-a86c-91b64c124d41\").bind('mousewheel', function(e) {\n",
              "                e.preventDefault();\n",
              "                });\n",
              "            </script>\n",
              "        "
            ],
            "text/plain": [
              "<IPython.core.display.HTML object>"
            ]
          },
          "metadata": {
            "tags": []
          },
          "execution_count": 38
        }
      ]
    },
    {
      "metadata": {
        "id": "ajxV69sSjEwF",
        "colab_type": "code",
        "colab": {}
      },
      "cell_type": "code",
      "source": [
        ""
      ],
      "execution_count": 0,
      "outputs": []
    }
  ]
}