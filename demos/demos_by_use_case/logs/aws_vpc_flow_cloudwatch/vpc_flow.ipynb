{
  "nbformat": 4,
  "nbformat_minor": 0,
  "metadata": {
    "colab": {
      "name": "cloudwatch2.ipynb",
      "version": "0.3.2",
      "provenance": [],
      "collapsed_sections": []
    },
    "kernelspec": {
      "name": "python3",
      "display_name": "Python 3"
    }
  },
  "cells": [
    {
      "metadata": {
        "id": "E-axGncWOotT",
        "colab_type": "text"
      },
      "cell_type": "markdown",
      "source": [
        "# AWS CloudWatch VPC Flow Logs <> Graphistry\n",
        "\n",
        "Analyze cloudwatch logs, such as using vpc flow to map an account, with Graphistry\n",
        "\n",
        "This example directly uses the AWS CLI for cloudwatch API access. You can also work from S3 or systems like Athena."
      ]
    },
    {
      "metadata": {
        "id": "uvSPN4UppG8g",
        "colab_type": "text"
      },
      "cell_type": "markdown",
      "source": [
        "## Installs & Configure\n",
        "\n",
        "Set `aws_access_key_id`, `aws_secret_access_key`, `key` or pull from your env"
      ]
    },
    {
      "metadata": {
        "id": "gH9vCgchpJ0f",
        "colab_type": "code",
        "colab": {}
      },
      "cell_type": "code",
      "source": [
        "!pip install graphistry -q\n",
        "!pip install awscli -q"
      ],
      "execution_count": 0,
      "outputs": []
    },
    {
      "metadata": {
        "id": "RdovrvsBpOWd",
        "colab_type": "code",
        "colab": {}
      },
      "cell_type": "code",
      "source": [
        "!aws configure set region us-west-2\n",
        "!aws configure set aws_access_key_id \"FILL_ME_IN\"\n",
        "!aws configure set aws_secret_access_key \"FILL_ME_IN\""
      ],
      "execution_count": 0,
      "outputs": []
    },
    {
      "metadata": {
        "id": "zmvv7RN3pQAY",
        "colab_type": "code",
        "colab": {}
      },
      "cell_type": "code",
      "source": [
        "import pandas as pd\n",
        "import json\n",
        "import graphistry\n",
        "#graphistry.register(key='FILL_ME_IN', server='FILL_ME_IN')"
      ],
      "execution_count": 0,
      "outputs": []
    },
    {
      "metadata": {
        "id": "p3DPQuQ6o6dQ",
        "colab_type": "text"
      },
      "cell_type": "markdown",
      "source": [
        "## Record logs\n",
        "If you do not already have logs, you can record VPC flow logs from your EC2 console:\n",
        "  * Services -> EC2 -> Network Interfaces -> select interface(s) ->  Action -> create flow log\n",
        "    * Send to cloudwatch; use default settings for IAM and elsewhere\n",
        "  * When enough data available, stop logging"
      ]
    },
    {
      "metadata": {
        "id": "X2US_zEDpCpd",
        "colab_type": "text"
      },
      "cell_type": "markdown",
      "source": [
        "## Download & summarize logs\n",
        "\n",
        "* Pick a log group from available\n",
        "* Fetch: See AWS docs on [filter-log-events](https://docs.aws.amazon.com/cli/latest/reference/logs/filter-log-events.html)\n",
        "* Load into a dataframe\n",
        "* Compute summary stats"
      ]
    },
    {
      "metadata": {
        "id": "Hnzf71RIlxtw",
        "colab_type": "code",
        "colab": {
          "base_uri": "https://localhost:8080/",
          "height": 323
        },
        "outputId": "4fedc67f-190f-4a83-8f29-df6bcf8ac7b3"
      },
      "cell_type": "code",
      "source": [
        "!aws logs describe-log-groups"
      ],
      "execution_count": 113,
      "outputs": [
        {
          "output_type": "stream",
          "text": [
            "{\n",
            "    \"logGroups\": [\n",
            "        {\n",
            "            \"logGroupName\": \"/aws/lambda/ami-test-AZInfoFunction-1V3BW2PT09ER2\",\n",
            "            \"creationTime\": 1534508995180,\n",
            "            \"metricFilterCount\": 0,\n",
            "            \"arn\": \"arn:aws:logs:us-west-2:520859498379:log-group:/aws/lambda/ami-test-AZInfoFunction-1V3BW2PT09ER2:*\",\n",
            "            \"storedBytes\": 1615\n",
            "        },\n",
            "        {\n",
            "            \"logGroupName\": \"VPCFlowDemo\",\n",
            "            \"creationTime\": 1556422724248,\n",
            "            \"metricFilterCount\": 0,\n",
            "            \"arn\": \"arn:aws:logs:us-west-2:520859498379:log-group:VPCFlowDemo:*\",\n",
            "            \"storedBytes\": 0\n",
            "        }\n",
            "    ]\n",
            "}\n"
          ],
          "name": "stdout"
        }
      ]
    },
    {
      "metadata": {
        "id": "QEpiUndTqbO-",
        "colab_type": "code",
        "colab": {
          "base_uri": "https://localhost:8080/",
          "height": 34
        },
        "outputId": "8bb3c290-61c5-47a7-e2a2-f5543f2282a5"
      },
      "cell_type": "code",
      "source": [
        "!aws logs filter-log-events --log-group-name VPCFlowDemo > data.json\n",
        "!ls -al data.json"
      ],
      "execution_count": 40,
      "outputs": [
        {
          "output_type": "stream",
          "text": [
            "-rw-r--r-- 1 root root 3761828 Apr 28 20:43 data.json\n"
          ],
          "name": "stdout"
        }
      ]
    },
    {
      "metadata": {
        "id": "5juRLQQpr9dY",
        "colab_type": "code",
        "colab": {
          "base_uri": "https://localhost:8080/",
          "height": 230
        },
        "outputId": "f3c47c34-6ce3-4800-d41e-b3360f349c34"
      },
      "cell_type": "code",
      "source": [
        "with open('data.json', 'r') as f:\n",
        "    data = json.load(f)\n",
        "df = pd.DataFrame([x['message'].split(\" \") for x in data['events']])\n",
        "df.columns = cols = ['version', 'accountid', 'interfaceid', 'src_ip', 'dest_ip', 'src_port', 'dest_port', 'protocol', 'packets', 'bytes', 'time_start', 'time_end', 'action', 'status']\n",
        "\n",
        "print('# rows', len(df))\n",
        "df.sample(3)"
      ],
      "execution_count": 108,
      "outputs": [
        {
          "output_type": "stream",
          "text": [
            "# rows 9671\n"
          ],
          "name": "stdout"
        },
        {
          "output_type": "execute_result",
          "data": {
            "text/html": [
              "<div>\n",
              "<style scoped>\n",
              "    .dataframe tbody tr th:only-of-type {\n",
              "        vertical-align: middle;\n",
              "    }\n",
              "\n",
              "    .dataframe tbody tr th {\n",
              "        vertical-align: top;\n",
              "    }\n",
              "\n",
              "    .dataframe thead th {\n",
              "        text-align: right;\n",
              "    }\n",
              "</style>\n",
              "<table border=\"1\" class=\"dataframe\">\n",
              "  <thead>\n",
              "    <tr style=\"text-align: right;\">\n",
              "      <th></th>\n",
              "      <th>version</th>\n",
              "      <th>accountid</th>\n",
              "      <th>interfaceid</th>\n",
              "      <th>src_ip</th>\n",
              "      <th>dest_ip</th>\n",
              "      <th>src_port</th>\n",
              "      <th>dest_port</th>\n",
              "      <th>protocol</th>\n",
              "      <th>packets</th>\n",
              "      <th>bytes</th>\n",
              "      <th>time_start</th>\n",
              "      <th>time_end</th>\n",
              "      <th>action</th>\n",
              "      <th>status</th>\n",
              "    </tr>\n",
              "  </thead>\n",
              "  <tbody>\n",
              "    <tr>\n",
              "      <th>3748</th>\n",
              "      <td>2</td>\n",
              "      <td>520859498379</td>\n",
              "      <td>eni-03cefc09700cd0f3b</td>\n",
              "      <td>172.31.18.239</td>\n",
              "      <td>35.188.230.101</td>\n",
              "      <td>443</td>\n",
              "      <td>44448</td>\n",
              "      <td>6</td>\n",
              "      <td>8</td>\n",
              "      <td>3922</td>\n",
              "      <td>1556422848</td>\n",
              "      <td>1556422903</td>\n",
              "      <td>ACCEPT</td>\n",
              "      <td>OK</td>\n",
              "    </tr>\n",
              "    <tr>\n",
              "      <th>6289</th>\n",
              "      <td>2</td>\n",
              "      <td>520859498379</td>\n",
              "      <td>eni-08275497a357fd66a</td>\n",
              "      <td>172.20.45.114</td>\n",
              "      <td>172.20.59.137</td>\n",
              "      <td>31161</td>\n",
              "      <td>22186</td>\n",
              "      <td>6</td>\n",
              "      <td>2</td>\n",
              "      <td>112</td>\n",
              "      <td>1556423050</td>\n",
              "      <td>1556423110</td>\n",
              "      <td>ACCEPT</td>\n",
              "      <td>OK</td>\n",
              "    </tr>\n",
              "    <tr>\n",
              "      <th>1396</th>\n",
              "      <td>2</td>\n",
              "      <td>520859498379</td>\n",
              "      <td>eni-092275301fc5694d9</td>\n",
              "      <td>172.20.60.118</td>\n",
              "      <td>172.20.55.224</td>\n",
              "      <td>80</td>\n",
              "      <td>33936</td>\n",
              "      <td>6</td>\n",
              "      <td>2</td>\n",
              "      <td>112</td>\n",
              "      <td>1556422660</td>\n",
              "      <td>1556422718</td>\n",
              "      <td>ACCEPT</td>\n",
              "      <td>OK</td>\n",
              "    </tr>\n",
              "  </tbody>\n",
              "</table>\n",
              "</div>"
            ],
            "text/plain": [
              "     version     accountid            interfaceid         src_ip  \\\n",
              "3748       2  520859498379  eni-03cefc09700cd0f3b  172.31.18.239   \n",
              "6289       2  520859498379  eni-08275497a357fd66a  172.20.45.114   \n",
              "1396       2  520859498379  eni-092275301fc5694d9  172.20.60.118   \n",
              "\n",
              "             dest_ip src_port dest_port protocol packets bytes  time_start  \\\n",
              "3748  35.188.230.101      443     44448        6       8  3922  1556422848   \n",
              "6289   172.20.59.137    31161     22186        6       2   112  1556423050   \n",
              "1396   172.20.55.224       80     33936        6       2   112  1556422660   \n",
              "\n",
              "        time_end  action status  \n",
              "3748  1556422903  ACCEPT     OK  \n",
              "6289  1556423110  ACCEPT     OK  \n",
              "1396  1556422718  ACCEPT     OK  "
            ]
          },
          "metadata": {
            "tags": []
          },
          "execution_count": 108
        }
      ]
    },
    {
      "metadata": {
        "id": "Y1JwO7reuWPh",
        "colab_type": "code",
        "colab": {
          "base_uri": "https://localhost:8080/",
          "height": 230
        },
        "outputId": "c3fb92b1-cd9a-4cee-d8b5-2400d87016c1"
      },
      "cell_type": "code",
      "source": [
        "# Int->Float for precision errors\n",
        "df2 = df.copy()\n",
        "for c in ['packets', 'bytes']:\n",
        "    df2[c] = df2[c].astype(float)\n",
        "\n",
        "summary_df = df2\\\n",
        "    .groupby(['src_ip', 'dest_ip', 'interfaceid', 'dest_port', 'protocol', 'action', 'status'])\\\n",
        "    .agg({\n",
        "        'time_start': ['min', 'max'],\n",
        "        'time_end': ['min', 'max'],\n",
        "        'packets': ['min', 'max', 'sum', 'count'],\n",
        "        'bytes': ['min', 'max', 'sum', 'count']\n",
        "    }).reset_index()\n",
        "summary_df.columns = [(\" \".join(x)).strip().replace(\" \", \"_\") for x in list(summary_df.columns)]\n",
        "print('# rows', len(summary_df))\n",
        "summary_df.sample(3)"
      ],
      "execution_count": 114,
      "outputs": [
        {
          "output_type": "stream",
          "text": [
            "# rows 5049\n"
          ],
          "name": "stdout"
        },
        {
          "output_type": "execute_result",
          "data": {
            "text/html": [
              "<div>\n",
              "<style scoped>\n",
              "    .dataframe tbody tr th:only-of-type {\n",
              "        vertical-align: middle;\n",
              "    }\n",
              "\n",
              "    .dataframe tbody tr th {\n",
              "        vertical-align: top;\n",
              "    }\n",
              "\n",
              "    .dataframe thead th {\n",
              "        text-align: right;\n",
              "    }\n",
              "</style>\n",
              "<table border=\"1\" class=\"dataframe\">\n",
              "  <thead>\n",
              "    <tr style=\"text-align: right;\">\n",
              "      <th></th>\n",
              "      <th>src_ip</th>\n",
              "      <th>dest_ip</th>\n",
              "      <th>interfaceid</th>\n",
              "      <th>dest_port</th>\n",
              "      <th>protocol</th>\n",
              "      <th>action</th>\n",
              "      <th>status</th>\n",
              "      <th>time_start_min</th>\n",
              "      <th>time_start_max</th>\n",
              "      <th>time_end_min</th>\n",
              "      <th>time_end_max</th>\n",
              "      <th>packets_min</th>\n",
              "      <th>packets_max</th>\n",
              "      <th>packets_sum</th>\n",
              "      <th>packets_count</th>\n",
              "      <th>bytes_min</th>\n",
              "      <th>bytes_max</th>\n",
              "      <th>bytes_sum</th>\n",
              "      <th>bytes_count</th>\n",
              "    </tr>\n",
              "  </thead>\n",
              "  <tbody>\n",
              "    <tr>\n",
              "      <th>3107</th>\n",
              "      <td>172.20.55.224</td>\n",
              "      <td>172.20.61.101</td>\n",
              "      <td>eni-016babb4349103670</td>\n",
              "      <td>38076</td>\n",
              "      <td>6</td>\n",
              "      <td>ACCEPT</td>\n",
              "      <td>OK</td>\n",
              "      <td>1556422627</td>\n",
              "      <td>1556422627</td>\n",
              "      <td>1556422686</td>\n",
              "      <td>1556422686</td>\n",
              "      <td>2.0</td>\n",
              "      <td>2.0</td>\n",
              "      <td>2.0</td>\n",
              "      <td>1</td>\n",
              "      <td>112.0</td>\n",
              "      <td>112.0</td>\n",
              "      <td>112.0</td>\n",
              "      <td>1</td>\n",
              "    </tr>\n",
              "    <tr>\n",
              "      <th>1356</th>\n",
              "      <td>172.20.45.114</td>\n",
              "      <td>172.20.41.131</td>\n",
              "      <td>eni-08275497a357fd66a</td>\n",
              "      <td>3240</td>\n",
              "      <td>6</td>\n",
              "      <td>ACCEPT</td>\n",
              "      <td>OK</td>\n",
              "      <td>1556422990</td>\n",
              "      <td>1556422990</td>\n",
              "      <td>1556423050</td>\n",
              "      <td>1556423050</td>\n",
              "      <td>2.0</td>\n",
              "      <td>2.0</td>\n",
              "      <td>2.0</td>\n",
              "      <td>1</td>\n",
              "      <td>112.0</td>\n",
              "      <td>112.0</td>\n",
              "      <td>112.0</td>\n",
              "      <td>1</td>\n",
              "    </tr>\n",
              "    <tr>\n",
              "      <th>4311</th>\n",
              "      <td>172.20.60.118</td>\n",
              "      <td>172.20.59.137</td>\n",
              "      <td>eni-092275301fc5694d9</td>\n",
              "      <td>8842</td>\n",
              "      <td>6</td>\n",
              "      <td>ACCEPT</td>\n",
              "      <td>OK</td>\n",
              "      <td>1556422660</td>\n",
              "      <td>1556422660</td>\n",
              "      <td>1556422718</td>\n",
              "      <td>1556422718</td>\n",
              "      <td>2.0</td>\n",
              "      <td>2.0</td>\n",
              "      <td>2.0</td>\n",
              "      <td>1</td>\n",
              "      <td>112.0</td>\n",
              "      <td>112.0</td>\n",
              "      <td>112.0</td>\n",
              "      <td>1</td>\n",
              "    </tr>\n",
              "  </tbody>\n",
              "</table>\n",
              "</div>"
            ],
            "text/plain": [
              "             src_ip        dest_ip            interfaceid dest_port protocol  \\\n",
              "3107  172.20.55.224  172.20.61.101  eni-016babb4349103670     38076        6   \n",
              "1356  172.20.45.114  172.20.41.131  eni-08275497a357fd66a      3240        6   \n",
              "4311  172.20.60.118  172.20.59.137  eni-092275301fc5694d9      8842        6   \n",
              "\n",
              "      action status time_start_min time_start_max time_end_min time_end_max  \\\n",
              "3107  ACCEPT     OK     1556422627     1556422627   1556422686   1556422686   \n",
              "1356  ACCEPT     OK     1556422990     1556422990   1556423050   1556423050   \n",
              "4311  ACCEPT     OK     1556422660     1556422660   1556422718   1556422718   \n",
              "\n",
              "      packets_min  packets_max  packets_sum  packets_count  bytes_min  \\\n",
              "3107          2.0          2.0          2.0              1      112.0   \n",
              "1356          2.0          2.0          2.0              1      112.0   \n",
              "4311          2.0          2.0          2.0              1      112.0   \n",
              "\n",
              "      bytes_max  bytes_sum  bytes_count  \n",
              "3107      112.0      112.0            1  \n",
              "1356      112.0      112.0            1  \n",
              "4311      112.0      112.0            1  "
            ]
          },
          "metadata": {
            "tags": []
          },
          "execution_count": 114
        }
      ]
    },
    {
      "metadata": {
        "id": "H0fc_FRnwpa_",
        "colab_type": "text"
      },
      "cell_type": "markdown",
      "source": [
        "## Plot"
      ]
    },
    {
      "metadata": {
        "id": "WwJn1y1rwqj-",
        "colab_type": "code",
        "colab": {
          "base_uri": "https://localhost:8080/",
          "height": 594
        },
        "outputId": "4049ae4f-f91f-4868-a2f8-74b27a43c504"
      },
      "cell_type": "code",
      "source": [
        "hg = graphistry.hypergraph(\n",
        "    summary_df,\n",
        "    entity_types=['src_ip', 'dest_ip'], #'dest_port', 'interfaceid', 'action', ...\n",
        "    direct=True)\n",
        "hg['graph'].bind(edge_title='bytes_sum').plot()"
      ],
      "execution_count": 110,
      "outputs": [
        {
          "output_type": "stream",
          "text": [
            "# links 5049\n",
            "# events 5049\n",
            "# attrib entities 255\n"
          ],
          "name": "stdout"
        },
        {
          "output_type": "execute_result",
          "data": {
            "text/html": [
              "\n",
              "            <iframe id=\"5a62dc13-50d5-477c-8f2b-3c2da8c97637\" src=\"https://alpha.graphistry.com/graph/graph.html?dataset=a5cd21181b305c5e9b12b52b38229a89&type=vgraph&viztoken=48178ab6245248a7809fbe59c2d64b4b&usertag=91af7994-pygraphistry-0.9.64&splashAfter=1556486762&info=true\"\n",
              "                    allowfullscreen=\"true\" webkitallowfullscreen=\"true\" mozallowfullscreen=\"true\"\n",
              "                    oallowfullscreen=\"true\" msallowfullscreen=\"true\"\n",
              "                    style=\"width:100%; height:500px; border: 1px solid #DDD\">\n",
              "            </iframe>\n",
              "        \n",
              "            <script>\n",
              "                $(\"#5a62dc13-50d5-477c-8f2b-3c2da8c97637\").bind('mousewheel', function(e) {\n",
              "                e.preventDefault();\n",
              "                });\n",
              "            </script>\n",
              "        "
            ],
            "text/plain": [
              "<IPython.core.display.HTML object>"
            ]
          },
          "metadata": {
            "tags": []
          },
          "execution_count": 110
        }
      ]
    },
    {
      "metadata": {
        "id": "CUmdCsRB0DVP",
        "colab_type": "code",
        "colab": {}
      },
      "cell_type": "code",
      "source": [
        ""
      ],
      "execution_count": 0,
      "outputs": []
    }
  ]
}