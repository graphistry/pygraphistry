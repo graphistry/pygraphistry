{
 "cells": [
  {
   "cell_type": "markdown",
   "id": "31b61fb1-6b12-423f-80c2-f9ecaca2395a",
   "metadata": {
    "execution": {
     "iopub.execute_input": "2022-12-02T03:35:26.206299Z",
     "iopub.status.busy": "2022-12-02T03:35:26.206071Z",
     "iopub.status.idle": "2022-12-02T03:35:26.208452Z",
     "shell.execute_reply": "2022-12-02T03:35:26.208090Z",
     "shell.execute_reply.started": "2022-12-02T03:35:26.206280Z"
    }
   },
   "source": [
    "# Your first graph neural network: Detecting suspicious logins with link prediction\n",
    "\n",
    "[Graphistry](http://github.com/graphistry/pygraphistry) - Leo Meyerovich, Alex Morrise, Tanmoy Sarkar\n",
    "\n",
    "[Infosec Jupyterthon 2022](https://infosecjupyterthon.com/2022/agenda.html), December 2022\n",
    "\n",
    "---\n",
    "\n",
    "**Alert on & visualize anomalous identity events**\n",
    "* Demo dataset: 1.6B windows events over 58 days => logins by 12K user over 14K systems\n",
    "  * adapt to any identity system with logins\n",
    "  * => Can we identify accounts & computers acting anomalously? Resources being oddly accessed?\n",
    "  * => Can we spot the red team?\n",
    "  * => Operations: Identity incident alerting + identity data investigations\n",
    "  * Community/contact for help handling bigger-than-memory & additional features\n",
    "* Techniques explored: Graph AI - \n",
    "  * RGCN (primary) - powerful with tweaking and in a pipeline\n",
    "  * UMAP (secondary) - surprisingly effective with little tweaking\n",
    "* Runs on both CPU + multi-GPU\n",
    "* Tools: [PyGraphistry[AI]](http://github.com/graphistry/pygraphistry), [DGL](https://www.dgl.ai/) + [PyTorch](https://pytorch.org/), and [NVIDIA RAPIDS](https://rapids.ai/) / [umap-learn](https://github.com/lmcinnes/umap)\n",
    "\n",
    "---\n"
   ]
  },
  {
   "cell_type": "markdown",
   "id": "8f438426-5fa0-4086-810c-b23365bd66a2",
   "metadata": {
    "tags": [],
    "toc-hr-collapsed": true
   },
   "source": [
    "# Dependencies"
   ]
  },
  {
   "cell_type": "markdown",
   "id": "fa014ff4-65bc-4802-a4e4-b18f2c4c07ee",
   "metadata": {
    "execution": {
     "iopub.execute_input": "2022-12-02T03:36:03.329392Z",
     "iopub.status.busy": "2022-12-02T03:36:03.329244Z",
     "iopub.status.idle": "2022-12-02T03:36:03.331422Z",
     "shell.execute_reply": "2022-12-02T03:36:03.331106Z",
     "shell.execute_reply.started": "2022-12-02T03:36:03.329376Z"
    },
    "tags": []
   },
   "source": [
    "## Installs\n",
    "\n",
    "* installs below\n",
    "* ... or docker (free): https://hub.docker.com/r/graphistry/graphistry-nvidia\n",
    "* .... or aws/azure/enterprise (paid) https://www.graphistry.com/get-started \n"
   ]
  },
  {
   "cell_type": "code",
   "execution_count": 4,
   "id": "51f5807c-20ff-4831-a567-0fdfa7d72b8a",
   "metadata": {
    "execution": {
     "iopub.execute_input": "2022-12-02T22:30:11.451098Z",
     "iopub.status.busy": "2022-12-02T22:30:11.450941Z",
     "iopub.status.idle": "2022-12-02T22:30:11.453353Z",
     "shell.execute_reply": "2022-12-02T22:30:11.453030Z",
     "shell.execute_reply.started": "2022-12-02T22:30:11.451079Z"
    },
    "tags": []
   },
   "outputs": [],
   "source": [
    "#! pip install --user --no-input \"torch==1.11.0\" -f https://download.pytorch.org/whl/cu113/torch_stable.html"
   ]
  },
  {
   "cell_type": "code",
   "execution_count": 2,
   "id": "07a2ab2b-70cb-4240-923e-d874ba0ef57c",
   "metadata": {
    "execution": {
     "iopub.execute_input": "2022-12-02T16:17:21.526206Z",
     "iopub.status.busy": "2022-12-02T16:17:21.526062Z",
     "iopub.status.idle": "2022-12-02T16:17:22.437727Z",
     "shell.execute_reply": "2022-12-02T16:17:22.437270Z",
     "shell.execute_reply.started": "2022-12-02T16:17:21.526185Z"
    },
    "tags": []
   },
   "outputs": [
    {
     "name": "stdout",
     "output_type": "stream",
     "text": [
      "True\n"
     ]
    }
   ],
   "source": [
    "! python -c \"import torch; print(torch.cuda.is_available())\""
   ]
  },
  {
   "cell_type": "code",
   "execution_count": 3,
   "id": "4569785c-28ca-47be-9934-f0723ad0d97c",
   "metadata": {
    "execution": {
     "iopub.execute_input": "2022-12-02T22:30:08.494000Z",
     "iopub.status.busy": "2022-12-02T22:30:08.493770Z",
     "iopub.status.idle": "2022-12-02T22:30:08.496240Z",
     "shell.execute_reply": "2022-12-02T22:30:08.495930Z",
     "shell.execute_reply.started": "2022-12-02T22:30:08.493981Z"
    },
    "tags": []
   },
   "outputs": [],
   "source": [
    "#! pip install --user dgl-cu113 dglgo -f https://data.dgl.ai/wheels/repo.html"
   ]
  },
  {
   "cell_type": "code",
   "execution_count": 4,
   "id": "c7913103",
   "metadata": {
    "execution": {
     "iopub.execute_input": "2022-12-02T16:17:22.441845Z",
     "iopub.status.busy": "2022-12-02T16:17:22.441710Z",
     "iopub.status.idle": "2022-12-02T16:17:22.444274Z",
     "shell.execute_reply": "2022-12-02T16:17:22.443966Z",
     "shell.execute_reply.started": "2022-12-02T16:17:22.441827Z"
    },
    "tags": []
   },
   "outputs": [],
   "source": [
    "#! pip cache remove graphistry\n",
    "#! pip install --no-cache --user https://github.com/graphistry/pygraphistry/archive/heteroembed.zip\n",
    "\n",
    "#! pip install --user git+https://github.com/graphistry/pygraphistry.git@fe894b556d078a35d1109c5cb78150818950d66d\n",
    "#! pip install --user git+https://github.com/graphistry/pygraphistry.git@d7e87c0faf762be5c8779c71caf8da13fae48041\n",
    "#! pip install --user git+https://github.com/graphistry/pygraphistry.git@6f47e034dcf8e96f241be66aca6a6a6374e7bf83"
   ]
  },
  {
   "cell_type": "markdown",
   "id": "8840320d-8cb2-4e80-a1ab-3e7dc772d6b3",
   "metadata": {
    "tags": []
   },
   "source": [
    "## Imports"
   ]
  },
  {
   "cell_type": "code",
   "execution_count": 5,
   "id": "0215906c",
   "metadata": {
    "execution": {
     "iopub.execute_input": "2022-12-02T16:17:22.444764Z",
     "iopub.status.busy": "2022-12-02T16:17:22.444697Z",
     "iopub.status.idle": "2022-12-02T16:17:24.006021Z",
     "shell.execute_reply": "2022-12-02T16:17:24.005807Z",
     "shell.execute_reply.started": "2022-12-02T16:17:22.444755Z"
    },
    "tags": []
   },
   "outputs": [
    {
     "name": "stdout",
     "output_type": "stream",
     "text": [
      "torch 1.11.0+cu113\n",
      "graphistry 0.28.4+78.g6f47e03\n"
     ]
    }
   ],
   "source": [
    "import pandas as pd\n",
    "import os\n",
    "from joblib import load, dump\n",
    "from collections import Counter\n",
    "import torch\n",
    "print('torch', torch.__version__)\n",
    "\n",
    "import numpy as np\n",
    "import random\n",
    "RANDOM_SEED = 42\n",
    "np.random.seed(RANDOM_SEED)\n",
    "torch.manual_seed(RANDOM_SEED)\n",
    "random.seed(RANDOM_SEED)\n",
    "\n",
    "import graphistry\n",
    "print('graphistry', graphistry.__version__)"
   ]
  },
  {
   "cell_type": "markdown",
   "id": "5f09f84f-1577-4294-8b25-d12add9e2f44",
   "metadata": {
    "tags": []
   },
   "source": [
    "## graphistry"
   ]
  },
  {
   "cell_type": "code",
   "execution_count": 6,
   "id": "89756f87",
   "metadata": {
    "execution": {
     "iopub.execute_input": "2022-12-02T16:17:24.006558Z",
     "iopub.status.busy": "2022-12-02T16:17:24.006471Z",
     "iopub.status.idle": "2022-12-02T16:17:24.730013Z",
     "shell.execute_reply": "2022-12-02T16:17:24.729528Z",
     "shell.execute_reply.started": "2022-12-02T16:17:24.006547Z"
    },
    "tags": []
   },
   "outputs": [],
   "source": [
    "#graphistry.register(\n",
    "# api=3,\n",
    "#  protocol=\"https\", server=\"hub.graphistry.com\", client_protocol_hostname='https://hub.graphistry.com',\n",
    "#  username = '***', password='***'\n",
    "#)"
   ]
  },
  {
   "cell_type": "markdown",
   "id": "fdd33a95-b874-426f-bc27-400c8de7932c",
   "metadata": {
    "tags": []
   },
   "source": [
    "# Data\n",
    "\n",
    "**Winlogs demo**\n",
    "\n",
    "Tested on 40M row sample (2 x RTX), 4M sample (3080 TI), and on a 32 GB CPU box\n",
    "\n",
    "  - https://csr.lanl.gov/data/cyber1/\n",
    "  - `auth`: auth.txt.gz (extractable from winlogs)\n",
    "  - optional: red team data (749 events flagged from auth.txt.gz)\n",
    "\n",
    "**Custom**\n",
    "\n",
    "Use any auth data like winlogs\n",
    "\n",
    "  - load as dataframe `auth`\n",
    "  - key fields: `auth_type` (arbitrary values), `src_computer` (arbitrary values), `dst_computer` (arbitrary values)\n",
    "  - other fields nice but not necessary\n",
    "  - some evaluation steps benefit from a red team but not necessary"
   ]
  },
  {
   "cell_type": "markdown",
   "id": "e5709a41-0c62-4b42-9b82-97412adce936",
   "metadata": {
    "tags": []
   },
   "source": [
    "### Load identity events + optional red team data"
   ]
  },
  {
   "cell_type": "code",
   "execution_count": 7,
   "id": "efe68cf8",
   "metadata": {
    "execution": {
     "iopub.execute_input": "2022-12-02T16:17:24.731775Z",
     "iopub.status.busy": "2022-12-02T16:17:24.731541Z",
     "iopub.status.idle": "2022-12-02T16:17:30.891214Z",
     "shell.execute_reply": "2022-12-02T16:17:30.890907Z",
     "shell.execute_reply.started": "2022-12-02T16:17:24.731758Z"
    },
    "tags": []
   },
   "outputs": [
    {
     "name": "stdout",
     "output_type": "stream",
     "text": [
      "(40000000, 9)\n",
      "CPU times: user 11.7 s, sys: 1.88 s, total: 13.6 s\n",
      "Wall time: 6.14 s\n"
     ]
    },
    {
     "data": {
      "text/html": [
       "<div>\n",
       "<style scoped>\n",
       "    .dataframe tbody tr th:only-of-type {\n",
       "        vertical-align: middle;\n",
       "    }\n",
       "\n",
       "    .dataframe tbody tr th {\n",
       "        vertical-align: top;\n",
       "    }\n",
       "\n",
       "    .dataframe thead th {\n",
       "        text-align: right;\n",
       "    }\n",
       "</style>\n",
       "<table border=\"1\" class=\"dataframe\">\n",
       "  <thead>\n",
       "    <tr style=\"text-align: right;\">\n",
       "      <th></th>\n",
       "      <th>time</th>\n",
       "      <th>src_domain</th>\n",
       "      <th>dst_domain</th>\n",
       "      <th>src_computer</th>\n",
       "      <th>dst_computer</th>\n",
       "      <th>auth_type</th>\n",
       "      <th>logontype</th>\n",
       "      <th>authentication_orientation</th>\n",
       "      <th>success_or_failure</th>\n",
       "    </tr>\n",
       "  </thead>\n",
       "  <tbody>\n",
       "    <tr>\n",
       "      <th>0</th>\n",
       "      <td>1</td>\n",
       "      <td>ANONYMOUS LOGON@C586</td>\n",
       "      <td>ANONYMOUS LOGON@C586</td>\n",
       "      <td>C1250</td>\n",
       "      <td>C586</td>\n",
       "      <td>NTLM</td>\n",
       "      <td>Network</td>\n",
       "      <td>LogOn</td>\n",
       "      <td>Success</td>\n",
       "    </tr>\n",
       "    <tr>\n",
       "      <th>1</th>\n",
       "      <td>1</td>\n",
       "      <td>ANONYMOUS LOGON@C586</td>\n",
       "      <td>ANONYMOUS LOGON@C586</td>\n",
       "      <td>C586</td>\n",
       "      <td>C586</td>\n",
       "      <td>?</td>\n",
       "      <td>Network</td>\n",
       "      <td>LogOff</td>\n",
       "      <td>Success</td>\n",
       "    </tr>\n",
       "    <tr>\n",
       "      <th>2</th>\n",
       "      <td>1</td>\n",
       "      <td>C101$@DOM1</td>\n",
       "      <td>C101$@DOM1</td>\n",
       "      <td>C988</td>\n",
       "      <td>C988</td>\n",
       "      <td>?</td>\n",
       "      <td>Network</td>\n",
       "      <td>LogOff</td>\n",
       "      <td>Success</td>\n",
       "    </tr>\n",
       "    <tr>\n",
       "      <th>3</th>\n",
       "      <td>1</td>\n",
       "      <td>C1020$@DOM1</td>\n",
       "      <td>SYSTEM@C1020</td>\n",
       "      <td>C1020</td>\n",
       "      <td>C1020</td>\n",
       "      <td>Negotiate</td>\n",
       "      <td>Service</td>\n",
       "      <td>LogOn</td>\n",
       "      <td>Success</td>\n",
       "    </tr>\n",
       "    <tr>\n",
       "      <th>4</th>\n",
       "      <td>1</td>\n",
       "      <td>C1021$@DOM1</td>\n",
       "      <td>C1021$@DOM1</td>\n",
       "      <td>C1021</td>\n",
       "      <td>C625</td>\n",
       "      <td>Kerberos</td>\n",
       "      <td>Network</td>\n",
       "      <td>LogOn</td>\n",
       "      <td>Success</td>\n",
       "    </tr>\n",
       "  </tbody>\n",
       "</table>\n",
       "</div>"
      ],
      "text/plain": [
       "   time            src_domain            dst_domain src_computer dst_computer  \\\n",
       "0     1  ANONYMOUS LOGON@C586  ANONYMOUS LOGON@C586        C1250         C586   \n",
       "1     1  ANONYMOUS LOGON@C586  ANONYMOUS LOGON@C586         C586         C586   \n",
       "2     1            C101$@DOM1            C101$@DOM1         C988         C988   \n",
       "3     1           C1020$@DOM1          SYSTEM@C1020        C1020        C1020   \n",
       "4     1           C1021$@DOM1           C1021$@DOM1        C1021         C625   \n",
       "\n",
       "   auth_type logontype authentication_orientation success_or_failure  \n",
       "0       NTLM   Network                      LogOn            Success  \n",
       "1          ?   Network                     LogOff            Success  \n",
       "2          ?   Network                     LogOff            Success  \n",
       "3  Negotiate   Service                      LogOn            Success  \n",
       "4   Kerberos   Network                      LogOn            Success  "
      ]
     },
     "execution_count": 7,
     "metadata": {},
     "output_type": "execute_result"
    }
   ],
   "source": [
    "%%time\n",
    "# total size -> 1051430459/1.05B\n",
    "auth = pd.read_parquet('data/auth40m.parquet')\n",
    "print(auth.shape)\n",
    "auth.head(5)"
   ]
  },
  {
   "cell_type": "markdown",
   "id": "838d5405-3f19-4585-bcbe-07703840d324",
   "metadata": {
    "tags": []
   },
   "source": [
    "###  Red team comparison data (optional)"
   ]
  },
  {
   "cell_type": "code",
   "execution_count": 8,
   "id": "66c5126e",
   "metadata": {
    "execution": {
     "iopub.execute_input": "2022-12-02T16:17:30.891720Z",
     "iopub.status.busy": "2022-12-02T16:17:30.891642Z",
     "iopub.status.idle": "2022-12-02T16:17:30.897767Z",
     "shell.execute_reply": "2022-12-02T16:17:30.897509Z",
     "shell.execute_reply.started": "2022-12-02T16:17:30.891710Z"
    },
    "tags": []
   },
   "outputs": [
    {
     "name": "stdout",
     "output_type": "stream",
     "text": [
      "(749, 4)\n"
     ]
    },
    {
     "data": {
      "text/html": [
       "<div>\n",
       "<style scoped>\n",
       "    .dataframe tbody tr th:only-of-type {\n",
       "        vertical-align: middle;\n",
       "    }\n",
       "\n",
       "    .dataframe tbody tr th {\n",
       "        vertical-align: top;\n",
       "    }\n",
       "\n",
       "    .dataframe thead th {\n",
       "        text-align: right;\n",
       "    }\n",
       "</style>\n",
       "<table border=\"1\" class=\"dataframe\">\n",
       "  <thead>\n",
       "    <tr style=\"text-align: right;\">\n",
       "      <th></th>\n",
       "      <th>0</th>\n",
       "      <th>1</th>\n",
       "      <th>2</th>\n",
       "      <th>3</th>\n",
       "    </tr>\n",
       "  </thead>\n",
       "  <tbody>\n",
       "    <tr>\n",
       "      <th>0</th>\n",
       "      <td>150885</td>\n",
       "      <td>U620@DOM1</td>\n",
       "      <td>C17693</td>\n",
       "      <td>C1003</td>\n",
       "    </tr>\n",
       "    <tr>\n",
       "      <th>1</th>\n",
       "      <td>151036</td>\n",
       "      <td>U748@DOM1</td>\n",
       "      <td>C17693</td>\n",
       "      <td>C305</td>\n",
       "    </tr>\n",
       "    <tr>\n",
       "      <th>2</th>\n",
       "      <td>151648</td>\n",
       "      <td>U748@DOM1</td>\n",
       "      <td>C17693</td>\n",
       "      <td>C728</td>\n",
       "    </tr>\n",
       "    <tr>\n",
       "      <th>3</th>\n",
       "      <td>151993</td>\n",
       "      <td>U6115@DOM1</td>\n",
       "      <td>C17693</td>\n",
       "      <td>C1173</td>\n",
       "    </tr>\n",
       "    <tr>\n",
       "      <th>4</th>\n",
       "      <td>153792</td>\n",
       "      <td>U636@DOM1</td>\n",
       "      <td>C17693</td>\n",
       "      <td>C294</td>\n",
       "    </tr>\n",
       "  </tbody>\n",
       "</table>\n",
       "</div>"
      ],
      "text/plain": [
       "        0           1       2      3\n",
       "0  150885   U620@DOM1  C17693  C1003\n",
       "1  151036   U748@DOM1  C17693   C305\n",
       "2  151648   U748@DOM1  C17693   C728\n",
       "3  151993  U6115@DOM1  C17693  C1173\n",
       "4  153792   U636@DOM1  C17693   C294"
      ]
     },
     "execution_count": 8,
     "metadata": {},
     "output_type": "execute_result"
    }
   ],
   "source": [
    "if True:\n",
    "    red_team = pd.read_csv('data/redteam.txt', header=None)\n",
    "else:\n",
    "    # or whatever comparison set\n",
    "    # unsupervised method so just for reporting\n",
    "    red_team = auth.head(749)\n",
    "\n",
    "print(red_team.shape)\n",
    "red_team.head(5)"
   ]
  },
  {
   "cell_type": "code",
   "execution_count": 9,
   "id": "3cf9accd",
   "metadata": {
    "execution": {
     "iopub.execute_input": "2022-12-02T16:17:30.898245Z",
     "iopub.status.busy": "2022-12-02T16:17:30.898165Z",
     "iopub.status.idle": "2022-12-02T16:17:32.876091Z",
     "shell.execute_reply": "2022-12-02T16:17:32.875767Z",
     "shell.execute_reply.started": "2022-12-02T16:17:30.898235Z"
    },
    "tags": []
   },
   "outputs": [
    {
     "data": {
      "text/html": [
       "<div>\n",
       "<style scoped>\n",
       "    .dataframe tbody tr th:only-of-type {\n",
       "        vertical-align: middle;\n",
       "    }\n",
       "\n",
       "    .dataframe tbody tr th {\n",
       "        vertical-align: top;\n",
       "    }\n",
       "\n",
       "    .dataframe thead th {\n",
       "        text-align: right;\n",
       "    }\n",
       "</style>\n",
       "<table border=\"1\" class=\"dataframe\">\n",
       "  <thead>\n",
       "    <tr style=\"text-align: right;\">\n",
       "      <th></th>\n",
       "      <th>index</th>\n",
       "      <th>time</th>\n",
       "      <th>src_domain</th>\n",
       "      <th>dst_domain</th>\n",
       "      <th>src_computer</th>\n",
       "      <th>dst_computer</th>\n",
       "      <th>auth_type</th>\n",
       "      <th>logontype</th>\n",
       "      <th>authentication_orientation</th>\n",
       "      <th>success_or_failure</th>\n",
       "    </tr>\n",
       "  </thead>\n",
       "  <tbody>\n",
       "    <tr>\n",
       "      <th>0</th>\n",
       "      <td>29627157</td>\n",
       "      <td>150885</td>\n",
       "      <td>U620@DOM1</td>\n",
       "      <td>U620@DOM1</td>\n",
       "      <td>C17693</td>\n",
       "      <td>C1003</td>\n",
       "      <td>NTLM</td>\n",
       "      <td>Network</td>\n",
       "      <td>LogOn</td>\n",
       "      <td>Success</td>\n",
       "    </tr>\n",
       "    <tr>\n",
       "      <th>1</th>\n",
       "      <td>29657341</td>\n",
       "      <td>151036</td>\n",
       "      <td>U748@DOM1</td>\n",
       "      <td>U748@DOM1</td>\n",
       "      <td>C17693</td>\n",
       "      <td>C305</td>\n",
       "      <td>NTLM</td>\n",
       "      <td>Network</td>\n",
       "      <td>LogOn</td>\n",
       "      <td>Success</td>\n",
       "    </tr>\n",
       "    <tr>\n",
       "      <th>2</th>\n",
       "      <td>29776464</td>\n",
       "      <td>151648</td>\n",
       "      <td>U748@DOM1</td>\n",
       "      <td>U748@DOM1</td>\n",
       "      <td>C17693</td>\n",
       "      <td>C728</td>\n",
       "      <td>NTLM</td>\n",
       "      <td>Network</td>\n",
       "      <td>LogOn</td>\n",
       "      <td>Success</td>\n",
       "    </tr>\n",
       "    <tr>\n",
       "      <th>3</th>\n",
       "      <td>29850298</td>\n",
       "      <td>151993</td>\n",
       "      <td>U6115@DOM1</td>\n",
       "      <td>U6115@DOM1</td>\n",
       "      <td>C17693</td>\n",
       "      <td>C1173</td>\n",
       "      <td>NTLM</td>\n",
       "      <td>Network</td>\n",
       "      <td>LogOn</td>\n",
       "      <td>Success</td>\n",
       "    </tr>\n",
       "    <tr>\n",
       "      <th>4</th>\n",
       "      <td>30188660</td>\n",
       "      <td>153792</td>\n",
       "      <td>U636@DOM1</td>\n",
       "      <td>U636@DOM1</td>\n",
       "      <td>C17693</td>\n",
       "      <td>C294</td>\n",
       "      <td>NTLM</td>\n",
       "      <td>Network</td>\n",
       "      <td>LogOn</td>\n",
       "      <td>Success</td>\n",
       "    </tr>\n",
       "    <tr>\n",
       "      <th>5</th>\n",
       "      <td>30425163</td>\n",
       "      <td>155219</td>\n",
       "      <td>U748@DOM1</td>\n",
       "      <td>U748@DOM1</td>\n",
       "      <td>C17693</td>\n",
       "      <td>C5693</td>\n",
       "      <td>NTLM</td>\n",
       "      <td>Network</td>\n",
       "      <td>LogOn</td>\n",
       "      <td>Success</td>\n",
       "    </tr>\n",
       "    <tr>\n",
       "      <th>6</th>\n",
       "      <td>30458238</td>\n",
       "      <td>155399</td>\n",
       "      <td>U748@DOM1</td>\n",
       "      <td>U748@DOM1</td>\n",
       "      <td>C17693</td>\n",
       "      <td>C152</td>\n",
       "      <td>NTLM</td>\n",
       "      <td>Network</td>\n",
       "      <td>LogOn</td>\n",
       "      <td>Success</td>\n",
       "    </tr>\n",
       "    <tr>\n",
       "      <th>7</th>\n",
       "      <td>30468055</td>\n",
       "      <td>155460</td>\n",
       "      <td>U748@DOM1</td>\n",
       "      <td>U748@DOM1</td>\n",
       "      <td>C17693</td>\n",
       "      <td>C2341</td>\n",
       "      <td>NTLM</td>\n",
       "      <td>Network</td>\n",
       "      <td>LogOn</td>\n",
       "      <td>Success</td>\n",
       "    </tr>\n",
       "    <tr>\n",
       "      <th>8</th>\n",
       "      <td>30489739</td>\n",
       "      <td>155591</td>\n",
       "      <td>U748@DOM1</td>\n",
       "      <td>U748@DOM1</td>\n",
       "      <td>C17693</td>\n",
       "      <td>C332</td>\n",
       "      <td>NTLM</td>\n",
       "      <td>Network</td>\n",
       "      <td>LogOn</td>\n",
       "      <td>Success</td>\n",
       "    </tr>\n",
       "    <tr>\n",
       "      <th>9</th>\n",
       "      <td>30662347</td>\n",
       "      <td>156658</td>\n",
       "      <td>U748@DOM1</td>\n",
       "      <td>U748@DOM1</td>\n",
       "      <td>C17693</td>\n",
       "      <td>C4280</td>\n",
       "      <td>NTLM</td>\n",
       "      <td>Network</td>\n",
       "      <td>LogOn</td>\n",
       "      <td>Success</td>\n",
       "    </tr>\n",
       "    <tr>\n",
       "      <th>10</th>\n",
       "      <td>39964825</td>\n",
       "      <td>210086</td>\n",
       "      <td>U748@DOM1</td>\n",
       "      <td>U748@DOM1</td>\n",
       "      <td>C18025</td>\n",
       "      <td>C1493</td>\n",
       "      <td>NTLM</td>\n",
       "      <td>Network</td>\n",
       "      <td>LogOn</td>\n",
       "      <td>Success</td>\n",
       "    </tr>\n",
       "  </tbody>\n",
       "</table>\n",
       "</div>"
      ],
      "text/plain": [
       "       index    time  src_domain  dst_domain src_computer dst_computer  \\\n",
       "0   29627157  150885   U620@DOM1   U620@DOM1       C17693        C1003   \n",
       "1   29657341  151036   U748@DOM1   U748@DOM1       C17693         C305   \n",
       "2   29776464  151648   U748@DOM1   U748@DOM1       C17693         C728   \n",
       "3   29850298  151993  U6115@DOM1  U6115@DOM1       C17693        C1173   \n",
       "4   30188660  153792   U636@DOM1   U636@DOM1       C17693         C294   \n",
       "5   30425163  155219   U748@DOM1   U748@DOM1       C17693        C5693   \n",
       "6   30458238  155399   U748@DOM1   U748@DOM1       C17693         C152   \n",
       "7   30468055  155460   U748@DOM1   U748@DOM1       C17693        C2341   \n",
       "8   30489739  155591   U748@DOM1   U748@DOM1       C17693         C332   \n",
       "9   30662347  156658   U748@DOM1   U748@DOM1       C17693        C4280   \n",
       "10  39964825  210086   U748@DOM1   U748@DOM1       C18025        C1493   \n",
       "\n",
       "   auth_type logontype authentication_orientation success_or_failure  \n",
       "0       NTLM   Network                      LogOn            Success  \n",
       "1       NTLM   Network                      LogOn            Success  \n",
       "2       NTLM   Network                      LogOn            Success  \n",
       "3       NTLM   Network                      LogOn            Success  \n",
       "4       NTLM   Network                      LogOn            Success  \n",
       "5       NTLM   Network                      LogOn            Success  \n",
       "6       NTLM   Network                      LogOn            Success  \n",
       "7       NTLM   Network                      LogOn            Success  \n",
       "8       NTLM   Network                      LogOn            Success  \n",
       "9       NTLM   Network                      LogOn            Success  \n",
       "10      NTLM   Network                      LogOn            Success  "
      ]
     },
     "execution_count": 9,
     "metadata": {},
     "output_type": "execute_result"
    }
   ],
   "source": [
    "cols = auth.columns\n",
    "anom_label = auth[\n",
    "    auth[cols[0]].isin(red_team[0]) &\n",
    "    auth[cols[1]].isin(red_team[1]) & \n",
    "    auth[cols[2]].isin(red_team[1]) &\n",
    "    auth[cols[3]].isin(red_team[2]) &\n",
    "    auth[cols[4]].isin(red_team[3])\n",
    "].reset_index()\n",
    "anom_label"
   ]
  },
  {
   "cell_type": "code",
   "execution_count": 10,
   "id": "58f29c37",
   "metadata": {
    "execution": {
     "iopub.execute_input": "2022-12-02T16:17:32.876608Z",
     "iopub.status.busy": "2022-12-02T16:17:32.876535Z",
     "iopub.status.idle": "2022-12-02T16:17:34.687330Z",
     "shell.execute_reply": "2022-12-02T16:17:34.687122Z",
     "shell.execute_reply.started": "2022-12-02T16:17:32.876598Z"
    },
    "tags": []
   },
   "outputs": [
    {
     "name": "stdout",
     "output_type": "stream",
     "text": [
      "# red 11.0\n"
     ]
    },
    {
     "data": {
      "text/html": [
       "<div>\n",
       "<style scoped>\n",
       "    .dataframe tbody tr th:only-of-type {\n",
       "        vertical-align: middle;\n",
       "    }\n",
       "\n",
       "    .dataframe tbody tr th {\n",
       "        vertical-align: top;\n",
       "    }\n",
       "\n",
       "    .dataframe thead th {\n",
       "        text-align: right;\n",
       "    }\n",
       "</style>\n",
       "<table border=\"1\" class=\"dataframe\">\n",
       "  <thead>\n",
       "    <tr style=\"text-align: right;\">\n",
       "      <th></th>\n",
       "      <th>time</th>\n",
       "      <th>src_domain</th>\n",
       "      <th>dst_domain</th>\n",
       "      <th>src_computer</th>\n",
       "      <th>dst_computer</th>\n",
       "      <th>auth_type</th>\n",
       "      <th>logontype</th>\n",
       "      <th>authentication_orientation</th>\n",
       "      <th>success_or_failure</th>\n",
       "      <th>RED</th>\n",
       "    </tr>\n",
       "  </thead>\n",
       "  <tbody>\n",
       "    <tr>\n",
       "      <th>39201345</th>\n",
       "      <td>206645</td>\n",
       "      <td>U8350@DOM1</td>\n",
       "      <td>U8350@DOM1</td>\n",
       "      <td>C17693</td>\n",
       "      <td>C467</td>\n",
       "      <td>NTLM</td>\n",
       "      <td>Network</td>\n",
       "      <td>LogOn</td>\n",
       "      <td>Success</td>\n",
       "      <td>0.0</td>\n",
       "    </tr>\n",
       "    <tr>\n",
       "      <th>29776464</th>\n",
       "      <td>151648</td>\n",
       "      <td>U748@DOM1</td>\n",
       "      <td>U748@DOM1</td>\n",
       "      <td>C17693</td>\n",
       "      <td>C728</td>\n",
       "      <td>NTLM</td>\n",
       "      <td>Network</td>\n",
       "      <td>LogOn</td>\n",
       "      <td>Success</td>\n",
       "      <td>1.0</td>\n",
       "    </tr>\n",
       "    <tr>\n",
       "      <th>38906146</th>\n",
       "      <td>205356</td>\n",
       "      <td>U748@DOM1</td>\n",
       "      <td>U748@DOM1</td>\n",
       "      <td>C17693</td>\n",
       "      <td>C3007</td>\n",
       "      <td>NTLM</td>\n",
       "      <td>Network</td>\n",
       "      <td>LogOn</td>\n",
       "      <td>Success</td>\n",
       "      <td>0.0</td>\n",
       "    </tr>\n",
       "    <tr>\n",
       "      <th>30188660</th>\n",
       "      <td>153792</td>\n",
       "      <td>U636@DOM1</td>\n",
       "      <td>U636@DOM1</td>\n",
       "      <td>C17693</td>\n",
       "      <td>C294</td>\n",
       "      <td>NTLM</td>\n",
       "      <td>Network</td>\n",
       "      <td>LogOn</td>\n",
       "      <td>Success</td>\n",
       "      <td>1.0</td>\n",
       "    </tr>\n",
       "    <tr>\n",
       "      <th>28845530</th>\n",
       "      <td>147076</td>\n",
       "      <td>U8009@C926</td>\n",
       "      <td>U8009@C926</td>\n",
       "      <td>C17693</td>\n",
       "      <td>C926</td>\n",
       "      <td>NTLM</td>\n",
       "      <td>Network</td>\n",
       "      <td>LogOn</td>\n",
       "      <td>Fail</td>\n",
       "      <td>0.0</td>\n",
       "    </tr>\n",
       "    <tr>\n",
       "      <th>28860620</th>\n",
       "      <td>147141</td>\n",
       "      <td>U8009@C1759</td>\n",
       "      <td>U8009@C1759</td>\n",
       "      <td>C17693</td>\n",
       "      <td>C1759</td>\n",
       "      <td>NTLM</td>\n",
       "      <td>Network</td>\n",
       "      <td>LogOn</td>\n",
       "      <td>Fail</td>\n",
       "      <td>0.0</td>\n",
       "    </tr>\n",
       "    <tr>\n",
       "      <th>39208487</th>\n",
       "      <td>206678</td>\n",
       "      <td>U8350@DOM1</td>\n",
       "      <td>U8350@DOM1</td>\n",
       "      <td>C17693</td>\n",
       "      <td>C529</td>\n",
       "      <td>NTLM</td>\n",
       "      <td>Network</td>\n",
       "      <td>LogOn</td>\n",
       "      <td>Success</td>\n",
       "      <td>0.0</td>\n",
       "    </tr>\n",
       "    <tr>\n",
       "      <th>39126261</th>\n",
       "      <td>206295</td>\n",
       "      <td>U8350@DOM1</td>\n",
       "      <td>U8350@DOM1</td>\n",
       "      <td>C17693</td>\n",
       "      <td>C529</td>\n",
       "      <td>NTLM</td>\n",
       "      <td>Network</td>\n",
       "      <td>LogOn</td>\n",
       "      <td>Success</td>\n",
       "      <td>0.0</td>\n",
       "    </tr>\n",
       "    <tr>\n",
       "      <th>29620541</th>\n",
       "      <td>150847</td>\n",
       "      <td>U620@DOM1</td>\n",
       "      <td>U620@DOM1</td>\n",
       "      <td>C17693</td>\n",
       "      <td>C1759</td>\n",
       "      <td>NTLM</td>\n",
       "      <td>Network</td>\n",
       "      <td>LogOn</td>\n",
       "      <td>Success</td>\n",
       "      <td>0.0</td>\n",
       "    </tr>\n",
       "    <tr>\n",
       "      <th>28359627</th>\n",
       "      <td>145015</td>\n",
       "      <td>U1723@C1759</td>\n",
       "      <td>U1723@C1759</td>\n",
       "      <td>C17693</td>\n",
       "      <td>C1759</td>\n",
       "      <td>NTLM</td>\n",
       "      <td>Network</td>\n",
       "      <td>LogOn</td>\n",
       "      <td>Fail</td>\n",
       "      <td>0.0</td>\n",
       "    </tr>\n",
       "  </tbody>\n",
       "</table>\n",
       "</div>"
      ],
      "text/plain": [
       "            time   src_domain   dst_domain src_computer dst_computer  \\\n",
       "39201345  206645   U8350@DOM1   U8350@DOM1       C17693         C467   \n",
       "29776464  151648    U748@DOM1    U748@DOM1       C17693         C728   \n",
       "38906146  205356    U748@DOM1    U748@DOM1       C17693        C3007   \n",
       "30188660  153792    U636@DOM1    U636@DOM1       C17693         C294   \n",
       "28845530  147076   U8009@C926   U8009@C926       C17693         C926   \n",
       "28860620  147141  U8009@C1759  U8009@C1759       C17693        C1759   \n",
       "39208487  206678   U8350@DOM1   U8350@DOM1       C17693         C529   \n",
       "39126261  206295   U8350@DOM1   U8350@DOM1       C17693         C529   \n",
       "29620541  150847    U620@DOM1    U620@DOM1       C17693        C1759   \n",
       "28359627  145015  U1723@C1759  U1723@C1759       C17693        C1759   \n",
       "\n",
       "         auth_type logontype authentication_orientation success_or_failure  \\\n",
       "39201345      NTLM   Network                      LogOn            Success   \n",
       "29776464      NTLM   Network                      LogOn            Success   \n",
       "38906146      NTLM   Network                      LogOn            Success   \n",
       "30188660      NTLM   Network                      LogOn            Success   \n",
       "28845530      NTLM   Network                      LogOn               Fail   \n",
       "28860620      NTLM   Network                      LogOn               Fail   \n",
       "39208487      NTLM   Network                      LogOn            Success   \n",
       "39126261      NTLM   Network                      LogOn            Success   \n",
       "29620541      NTLM   Network                      LogOn            Success   \n",
       "28359627      NTLM   Network                      LogOn               Fail   \n",
       "\n",
       "          RED  \n",
       "39201345  0.0  \n",
       "29776464  1.0  \n",
       "38906146  0.0  \n",
       "30188660  1.0  \n",
       "28845530  0.0  \n",
       "28860620  0.0  \n",
       "39208487  0.0  \n",
       "39126261  0.0  \n",
       "29620541  0.0  \n",
       "28359627  0.0  "
      ]
     },
     "execution_count": 10,
     "metadata": {},
     "output_type": "execute_result"
    }
   ],
   "source": [
    "anom_label['RED'] = 1\n",
    "\n",
    "# enrich the edges with the red team data\n",
    "ind = auth.index.isin(anom_label['index'])\n",
    "auth.loc[ind, 'RED'] = 1\n",
    "auth.loc[~ind, 'RED'] = 0\n",
    "\n",
    "print('# red', auth['RED'].sum())\n",
    "\n",
    "# let's see the bad infiltration point\n",
    "auth[auth.src_computer == 'C17693'].sample(10)"
   ]
  },
  {
   "cell_type": "markdown",
   "id": "3b3c686d-f0d7-46cb-b35b-34bd085aa00d",
   "metadata": {},
   "source": [
    "### Quick viz\n",
    "\n",
    "[viz](https://hub.graphistry.com/graph/graph.html?dataset=7f5cd746e6944a739a8627bd3a8892fb&play=0)"
   ]
  },
  {
   "cell_type": "code",
   "execution_count": 11,
   "id": "8f44cc7f-90a8-4f51-90b3-745c962b411c",
   "metadata": {
    "execution": {
     "iopub.execute_input": "2022-12-02T16:17:34.687803Z",
     "iopub.status.busy": "2022-12-02T16:17:34.687728Z",
     "iopub.status.idle": "2022-12-02T16:17:42.249369Z",
     "shell.execute_reply": "2022-12-02T16:17:42.248936Z",
     "shell.execute_reply.started": "2022-12-02T16:17:34.687793Z"
    },
    "tags": []
   },
   "outputs": [
    {
     "data": {
      "text/html": [
       "\n",
       "            <iframe id=\"7fa52d66-2b80-46b5-b040-4fd120da0f73\" src=\"https://hub.graphistry.com/graph/graph.html?dataset=fc1c0d1c2b3247c6a7b7fe821e5a7083&type=arrow&viztoken=9d4799ee-0e51-4ca4-ace1-bc22e3edd434&usertag=23693246-pygraphistry-0.28.4+78.g6f47e03&splashAfter=1669997877&info=true\"\n",
       "                    allowfullscreen=\"true\" webkitallowfullscreen=\"true\" mozallowfullscreen=\"true\"\n",
       "                    oallowfullscreen=\"true\" msallowfullscreen=\"true\"\n",
       "                    style=\"width:100%; height:500px; border: 1px solid #DDD; overflow: hidden\"\n",
       "                    \n",
       "            >\n",
       "            </iframe>\n",
       "        \n",
       "            <script>\n",
       "                try {\n",
       "                  $(\"#7fa52d66-2b80-46b5-b040-4fd120da0f73\").bind('mousewheel', function(e) { e.preventDefault(); });\n",
       "                } catch (e) { console.error('exn catching scroll', e); }\n",
       "            </script>\n",
       "        "
      ],
      "text/plain": [
       "<IPython.core.display.HTML object>"
      ]
     },
     "execution_count": 11,
     "metadata": {},
     "output_type": "execute_result"
    }
   ],
   "source": [
    "graphistry.edges(\n",
    "    pd.concat([anom_label, auth.sample(100000)], ignore_index=True, sort=False),\n",
    "    'src_computer', 'dst_computer'\n",
    ").plot()"
   ]
  },
  {
   "cell_type": "markdown",
   "id": "8c30869b-0c19-4000-a2c2-7ae728106579",
   "metadata": {
    "jp-MarkdownHeadingCollapsed": true,
    "tags": []
   },
   "source": [
    "### Down-sample (optional)"
   ]
  },
  {
   "cell_type": "code",
   "execution_count": 12,
   "id": "0df607f0-8f89-4781-a089-81ac898a058e",
   "metadata": {
    "execution": {
     "iopub.execute_input": "2022-12-02T16:17:42.250445Z",
     "iopub.status.busy": "2022-12-02T16:17:42.250136Z",
     "iopub.status.idle": "2022-12-02T16:17:46.903954Z",
     "shell.execute_reply": "2022-12-02T16:17:46.903416Z",
     "shell.execute_reply.started": "2022-12-02T16:17:42.250424Z"
    },
    "tags": []
   },
   "outputs": [
    {
     "name": "stdout",
     "output_type": "stream",
     "text": [
      "sampling down 10.0%\n",
      "(4000010, 10)\n"
     ]
    }
   ],
   "source": [
    "if True:\n",
    "    SAMPLE_PERCENT = 0.10\n",
    "    print(f'sampling down {SAMPLE_PERCENT * 100}%')\n",
    "    all_auth = auth\n",
    "    all_auth_unred = all_auth[ all_auth.RED == 0 ]\n",
    "    all_auth_red = all_auth[ all_auth.RED == 1 ]\n",
    "    auth = pd.concat(\n",
    "        [\n",
    "            all_auth_unred.sample(frac=SAMPLE_PERCENT, random_state=RANDOM_SEED),\n",
    "            all_auth_red\n",
    "        ],\n",
    "        ignore_index=True,\n",
    "        sort=False)\n",
    "    print(auth.shape)"
   ]
  },
  {
   "cell_type": "code",
   "execution_count": 13,
   "id": "f24d10d6",
   "metadata": {
    "execution": {
     "iopub.execute_input": "2022-12-02T16:17:46.904709Z",
     "iopub.status.busy": "2022-12-02T16:17:46.904581Z",
     "iopub.status.idle": "2022-12-02T16:17:47.099981Z",
     "shell.execute_reply": "2022-12-02T16:17:47.099582Z",
     "shell.execute_reply.started": "2022-12-02T16:17:46.904697Z"
    },
    "tags": []
   },
   "outputs": [
    {
     "data": {
      "text/html": [
       "<div>\n",
       "<style scoped>\n",
       "    .dataframe tbody tr th:only-of-type {\n",
       "        vertical-align: middle;\n",
       "    }\n",
       "\n",
       "    .dataframe tbody tr th {\n",
       "        vertical-align: top;\n",
       "    }\n",
       "\n",
       "    .dataframe thead th {\n",
       "        text-align: right;\n",
       "    }\n",
       "</style>\n",
       "<table border=\"1\" class=\"dataframe\">\n",
       "  <thead>\n",
       "    <tr style=\"text-align: right;\">\n",
       "      <th></th>\n",
       "      <th>index</th>\n",
       "      <th>time</th>\n",
       "      <th>src_domain</th>\n",
       "      <th>dst_domain</th>\n",
       "      <th>src_computer</th>\n",
       "      <th>dst_computer</th>\n",
       "      <th>auth_type</th>\n",
       "      <th>logontype</th>\n",
       "      <th>authentication_orientation</th>\n",
       "      <th>success_or_failure</th>\n",
       "      <th>RED</th>\n",
       "    </tr>\n",
       "  </thead>\n",
       "  <tbody>\n",
       "    <tr>\n",
       "      <th>0</th>\n",
       "      <td>1467943</td>\n",
       "      <td>206678</td>\n",
       "      <td>U8350@DOM1</td>\n",
       "      <td>U8350@DOM1</td>\n",
       "      <td>C17693</td>\n",
       "      <td>C529</td>\n",
       "      <td>NTLM</td>\n",
       "      <td>Network</td>\n",
       "      <td>LogOn</td>\n",
       "      <td>Success</td>\n",
       "      <td>0.0</td>\n",
       "    </tr>\n",
       "    <tr>\n",
       "      <th>1</th>\n",
       "      <td>3999999</td>\n",
       "      <td>150885</td>\n",
       "      <td>U620@DOM1</td>\n",
       "      <td>U620@DOM1</td>\n",
       "      <td>C17693</td>\n",
       "      <td>C1003</td>\n",
       "      <td>NTLM</td>\n",
       "      <td>Network</td>\n",
       "      <td>LogOn</td>\n",
       "      <td>Success</td>\n",
       "      <td>1.0</td>\n",
       "    </tr>\n",
       "    <tr>\n",
       "      <th>2</th>\n",
       "      <td>4000000</td>\n",
       "      <td>151036</td>\n",
       "      <td>U748@DOM1</td>\n",
       "      <td>U748@DOM1</td>\n",
       "      <td>C17693</td>\n",
       "      <td>C305</td>\n",
       "      <td>NTLM</td>\n",
       "      <td>Network</td>\n",
       "      <td>LogOn</td>\n",
       "      <td>Success</td>\n",
       "      <td>1.0</td>\n",
       "    </tr>\n",
       "    <tr>\n",
       "      <th>3</th>\n",
       "      <td>4000001</td>\n",
       "      <td>151648</td>\n",
       "      <td>U748@DOM1</td>\n",
       "      <td>U748@DOM1</td>\n",
       "      <td>C17693</td>\n",
       "      <td>C728</td>\n",
       "      <td>NTLM</td>\n",
       "      <td>Network</td>\n",
       "      <td>LogOn</td>\n",
       "      <td>Success</td>\n",
       "      <td>1.0</td>\n",
       "    </tr>\n",
       "    <tr>\n",
       "      <th>4</th>\n",
       "      <td>4000002</td>\n",
       "      <td>151993</td>\n",
       "      <td>U6115@DOM1</td>\n",
       "      <td>U6115@DOM1</td>\n",
       "      <td>C17693</td>\n",
       "      <td>C1173</td>\n",
       "      <td>NTLM</td>\n",
       "      <td>Network</td>\n",
       "      <td>LogOn</td>\n",
       "      <td>Success</td>\n",
       "      <td>1.0</td>\n",
       "    </tr>\n",
       "    <tr>\n",
       "      <th>5</th>\n",
       "      <td>4000003</td>\n",
       "      <td>153792</td>\n",
       "      <td>U636@DOM1</td>\n",
       "      <td>U636@DOM1</td>\n",
       "      <td>C17693</td>\n",
       "      <td>C294</td>\n",
       "      <td>NTLM</td>\n",
       "      <td>Network</td>\n",
       "      <td>LogOn</td>\n",
       "      <td>Success</td>\n",
       "      <td>1.0</td>\n",
       "    </tr>\n",
       "    <tr>\n",
       "      <th>6</th>\n",
       "      <td>4000004</td>\n",
       "      <td>155219</td>\n",
       "      <td>U748@DOM1</td>\n",
       "      <td>U748@DOM1</td>\n",
       "      <td>C17693</td>\n",
       "      <td>C5693</td>\n",
       "      <td>NTLM</td>\n",
       "      <td>Network</td>\n",
       "      <td>LogOn</td>\n",
       "      <td>Success</td>\n",
       "      <td>1.0</td>\n",
       "    </tr>\n",
       "    <tr>\n",
       "      <th>7</th>\n",
       "      <td>4000005</td>\n",
       "      <td>155399</td>\n",
       "      <td>U748@DOM1</td>\n",
       "      <td>U748@DOM1</td>\n",
       "      <td>C17693</td>\n",
       "      <td>C152</td>\n",
       "      <td>NTLM</td>\n",
       "      <td>Network</td>\n",
       "      <td>LogOn</td>\n",
       "      <td>Success</td>\n",
       "      <td>1.0</td>\n",
       "    </tr>\n",
       "    <tr>\n",
       "      <th>8</th>\n",
       "      <td>4000006</td>\n",
       "      <td>155460</td>\n",
       "      <td>U748@DOM1</td>\n",
       "      <td>U748@DOM1</td>\n",
       "      <td>C17693</td>\n",
       "      <td>C2341</td>\n",
       "      <td>NTLM</td>\n",
       "      <td>Network</td>\n",
       "      <td>LogOn</td>\n",
       "      <td>Success</td>\n",
       "      <td>1.0</td>\n",
       "    </tr>\n",
       "    <tr>\n",
       "      <th>9</th>\n",
       "      <td>4000007</td>\n",
       "      <td>155591</td>\n",
       "      <td>U748@DOM1</td>\n",
       "      <td>U748@DOM1</td>\n",
       "      <td>C17693</td>\n",
       "      <td>C332</td>\n",
       "      <td>NTLM</td>\n",
       "      <td>Network</td>\n",
       "      <td>LogOn</td>\n",
       "      <td>Success</td>\n",
       "      <td>1.0</td>\n",
       "    </tr>\n",
       "    <tr>\n",
       "      <th>10</th>\n",
       "      <td>4000008</td>\n",
       "      <td>156658</td>\n",
       "      <td>U748@DOM1</td>\n",
       "      <td>U748@DOM1</td>\n",
       "      <td>C17693</td>\n",
       "      <td>C4280</td>\n",
       "      <td>NTLM</td>\n",
       "      <td>Network</td>\n",
       "      <td>LogOn</td>\n",
       "      <td>Success</td>\n",
       "      <td>1.0</td>\n",
       "    </tr>\n",
       "    <tr>\n",
       "      <th>11</th>\n",
       "      <td>4000009</td>\n",
       "      <td>210086</td>\n",
       "      <td>U748@DOM1</td>\n",
       "      <td>U748@DOM1</td>\n",
       "      <td>C18025</td>\n",
       "      <td>C1493</td>\n",
       "      <td>NTLM</td>\n",
       "      <td>Network</td>\n",
       "      <td>LogOn</td>\n",
       "      <td>Success</td>\n",
       "      <td>1.0</td>\n",
       "    </tr>\n",
       "  </tbody>\n",
       "</table>\n",
       "</div>"
      ],
      "text/plain": [
       "      index    time  src_domain  dst_domain src_computer dst_computer  \\\n",
       "0   1467943  206678  U8350@DOM1  U8350@DOM1       C17693         C529   \n",
       "1   3999999  150885   U620@DOM1   U620@DOM1       C17693        C1003   \n",
       "2   4000000  151036   U748@DOM1   U748@DOM1       C17693         C305   \n",
       "3   4000001  151648   U748@DOM1   U748@DOM1       C17693         C728   \n",
       "4   4000002  151993  U6115@DOM1  U6115@DOM1       C17693        C1173   \n",
       "5   4000003  153792   U636@DOM1   U636@DOM1       C17693         C294   \n",
       "6   4000004  155219   U748@DOM1   U748@DOM1       C17693        C5693   \n",
       "7   4000005  155399   U748@DOM1   U748@DOM1       C17693         C152   \n",
       "8   4000006  155460   U748@DOM1   U748@DOM1       C17693        C2341   \n",
       "9   4000007  155591   U748@DOM1   U748@DOM1       C17693         C332   \n",
       "10  4000008  156658   U748@DOM1   U748@DOM1       C17693        C4280   \n",
       "11  4000009  210086   U748@DOM1   U748@DOM1       C18025        C1493   \n",
       "\n",
       "   auth_type logontype authentication_orientation success_or_failure  RED  \n",
       "0       NTLM   Network                      LogOn            Success  0.0  \n",
       "1       NTLM   Network                      LogOn            Success  1.0  \n",
       "2       NTLM   Network                      LogOn            Success  1.0  \n",
       "3       NTLM   Network                      LogOn            Success  1.0  \n",
       "4       NTLM   Network                      LogOn            Success  1.0  \n",
       "5       NTLM   Network                      LogOn            Success  1.0  \n",
       "6       NTLM   Network                      LogOn            Success  1.0  \n",
       "7       NTLM   Network                      LogOn            Success  1.0  \n",
       "8       NTLM   Network                      LogOn            Success  1.0  \n",
       "9       NTLM   Network                      LogOn            Success  1.0  \n",
       "10      NTLM   Network                      LogOn            Success  1.0  \n",
       "11      NTLM   Network                      LogOn            Success  1.0  "
      ]
     },
     "execution_count": 13,
     "metadata": {},
     "output_type": "execute_result"
    }
   ],
   "source": [
    "# see the data and if everything was flagged (since this is timelike..)\n",
    "auth[\n",
    "    auth['src_computer'].isin(set(red_team[2])) & \n",
    "    auth['dst_computer'].isin(set(red_team[3]))\n",
    "].reset_index()"
   ]
  },
  {
   "cell_type": "markdown",
   "id": "efadf64c-7535-4d93-886d-0686d52be748",
   "metadata": {
    "jp-MarkdownHeadingCollapsed": true,
    "tags": [],
    "toc-hr-collapsed": true
   },
   "source": [
    "# Configure\n",
    "### Identify src vs dst columns\n",
    "\n",
    "The RGCN connects homogeneous nodes (ex: computers) through heterogeneous relationships (ex: event types)"
   ]
  },
  {
   "cell_type": "code",
   "execution_count": 14,
   "id": "744b6a5d-a0ca-4939-a13a-2d81e90b70f9",
   "metadata": {
    "execution": {
     "iopub.execute_input": "2022-12-02T16:17:47.100554Z",
     "iopub.status.busy": "2022-12-02T16:17:47.100444Z",
     "iopub.status.idle": "2022-12-02T16:17:47.102385Z",
     "shell.execute_reply": "2022-12-02T16:17:47.102134Z",
     "shell.execute_reply.started": "2022-12-02T16:17:47.100543Z"
    },
    "tags": []
   },
   "outputs": [],
   "source": [
    "SRC = 'src_computer'\n",
    "DST = 'dst_computer'\n",
    "#SRC = 'src_domain'\n",
    "#DST = 'dst_domain'\n",
    "\n",
    "NODE = 'computer'\n",
    "\n",
    "\n",
    "##DST_OPP = 'dst_domain'\n",
    "#SRC_OPP = 'src_computer'\n",
    "#DST_OPP = 'dst_computer'"
   ]
  },
  {
   "cell_type": "markdown",
   "id": "356ffaae-9430-46d5-86b5-5007a0ec95bc",
   "metadata": {
    "tags": []
   },
   "source": [
    "# Feature engineering"
   ]
  },
  {
   "cell_type": "markdown",
   "id": "be53938e-e141-4f61-9864-d9738083c6f1",
   "metadata": {
    "jp-MarkdownHeadingCollapsed": true,
    "tags": []
   },
   "source": [
    "## Node features - optional enrichment & event summaries\n",
    "\n",
    "* Provided: If node features are available, handle here\n",
    "* Aggregated: We gather some here from the incoming vs outgoing edges\n",
    "* Graph analytics: Often useful to also add graph statistics here too (pagerank, centrality, ...)\n",
    "\n",
    "For bigger-than-memory, use dask (cpu) or dask_cudf (gpu)"
   ]
  },
  {
   "cell_type": "code",
   "execution_count": 15,
   "id": "8cb6d976-fae5-49c1-a4c2-4c7fed5fabf7",
   "metadata": {
    "execution": {
     "iopub.execute_input": "2022-12-02T16:17:47.102962Z",
     "iopub.status.busy": "2022-12-02T16:17:47.102804Z",
     "iopub.status.idle": "2022-12-02T16:17:47.680209Z",
     "shell.execute_reply": "2022-12-02T16:17:47.679788Z",
     "shell.execute_reply.started": "2022-12-02T16:17:47.102950Z"
    },
    "tags": []
   },
   "outputs": [
    {
     "name": "stdout",
     "output_type": "stream",
     "text": [
      "(10887, 31)\n"
     ]
    },
    {
     "data": {
      "text/html": [
       "<div>\n",
       "<style scoped>\n",
       "    .dataframe tbody tr th:only-of-type {\n",
       "        vertical-align: middle;\n",
       "    }\n",
       "\n",
       "    .dataframe tbody tr th {\n",
       "        vertical-align: top;\n",
       "    }\n",
       "\n",
       "    .dataframe thead th {\n",
       "        text-align: right;\n",
       "    }\n",
       "</style>\n",
       "<table border=\"1\" class=\"dataframe\">\n",
       "  <thead>\n",
       "    <tr style=\"text-align: right;\">\n",
       "      <th></th>\n",
       "      <th>computer</th>\n",
       "      <th>out_time_min</th>\n",
       "      <th>out_time_max</th>\n",
       "      <th>out_time_mean</th>\n",
       "      <th>out_dst_domain_mode</th>\n",
       "      <th>out_dst_domain_count</th>\n",
       "      <th>out_dst_computer_mode</th>\n",
       "      <th>out_dst_computer_count</th>\n",
       "      <th>out_auth_type_mode</th>\n",
       "      <th>out_auth_type_count</th>\n",
       "      <th>...</th>\n",
       "      <th>in_src_computer_mode</th>\n",
       "      <th>in_src_computer_count</th>\n",
       "      <th>in_auth_type_mode</th>\n",
       "      <th>in_auth_type_count</th>\n",
       "      <th>in_logontype_mode</th>\n",
       "      <th>in_logontype_count</th>\n",
       "      <th>in_authentication_orientation_mode</th>\n",
       "      <th>in_authentication_orientation_count</th>\n",
       "      <th>in_success_or_failure_mode</th>\n",
       "      <th>in_success_or_failure_count</th>\n",
       "    </tr>\n",
       "  </thead>\n",
       "  <tbody>\n",
       "    <tr>\n",
       "      <th>1157</th>\n",
       "      <td>C7249</td>\n",
       "      <td>0.0</td>\n",
       "      <td>0.0</td>\n",
       "      <td>0.0</td>\n",
       "      <td></td>\n",
       "      <td>0.0</td>\n",
       "      <td></td>\n",
       "      <td>0.0</td>\n",
       "      <td></td>\n",
       "      <td>0.0</td>\n",
       "      <td>...</td>\n",
       "      <td></td>\n",
       "      <td>0.0</td>\n",
       "      <td></td>\n",
       "      <td>0.0</td>\n",
       "      <td></td>\n",
       "      <td>0.0</td>\n",
       "      <td></td>\n",
       "      <td>0.0</td>\n",
       "      <td></td>\n",
       "      <td>0.0</td>\n",
       "    </tr>\n",
       "    <tr>\n",
       "      <th>10714</th>\n",
       "      <td>C10703</td>\n",
       "      <td>0.0</td>\n",
       "      <td>0.0</td>\n",
       "      <td>0.0</td>\n",
       "      <td></td>\n",
       "      <td>0.0</td>\n",
       "      <td></td>\n",
       "      <td>0.0</td>\n",
       "      <td></td>\n",
       "      <td>0.0</td>\n",
       "      <td>...</td>\n",
       "      <td></td>\n",
       "      <td>0.0</td>\n",
       "      <td></td>\n",
       "      <td>0.0</td>\n",
       "      <td></td>\n",
       "      <td>0.0</td>\n",
       "      <td></td>\n",
       "      <td>0.0</td>\n",
       "      <td></td>\n",
       "      <td>0.0</td>\n",
       "    </tr>\n",
       "    <tr>\n",
       "      <th>3872</th>\n",
       "      <td>C6943</td>\n",
       "      <td>0.0</td>\n",
       "      <td>0.0</td>\n",
       "      <td>0.0</td>\n",
       "      <td></td>\n",
       "      <td>0.0</td>\n",
       "      <td></td>\n",
       "      <td>0.0</td>\n",
       "      <td></td>\n",
       "      <td>0.0</td>\n",
       "      <td>...</td>\n",
       "      <td></td>\n",
       "      <td>0.0</td>\n",
       "      <td></td>\n",
       "      <td>0.0</td>\n",
       "      <td></td>\n",
       "      <td>0.0</td>\n",
       "      <td></td>\n",
       "      <td>0.0</td>\n",
       "      <td></td>\n",
       "      <td>0.0</td>\n",
       "    </tr>\n",
       "    <tr>\n",
       "      <th>8832</th>\n",
       "      <td>C7472</td>\n",
       "      <td>0.0</td>\n",
       "      <td>0.0</td>\n",
       "      <td>0.0</td>\n",
       "      <td></td>\n",
       "      <td>0.0</td>\n",
       "      <td></td>\n",
       "      <td>0.0</td>\n",
       "      <td></td>\n",
       "      <td>0.0</td>\n",
       "      <td>...</td>\n",
       "      <td></td>\n",
       "      <td>0.0</td>\n",
       "      <td></td>\n",
       "      <td>0.0</td>\n",
       "      <td></td>\n",
       "      <td>0.0</td>\n",
       "      <td></td>\n",
       "      <td>0.0</td>\n",
       "      <td></td>\n",
       "      <td>0.0</td>\n",
       "    </tr>\n",
       "    <tr>\n",
       "      <th>10732</th>\n",
       "      <td>C9999</td>\n",
       "      <td>0.0</td>\n",
       "      <td>0.0</td>\n",
       "      <td>0.0</td>\n",
       "      <td></td>\n",
       "      <td>0.0</td>\n",
       "      <td></td>\n",
       "      <td>0.0</td>\n",
       "      <td></td>\n",
       "      <td>0.0</td>\n",
       "      <td>...</td>\n",
       "      <td></td>\n",
       "      <td>0.0</td>\n",
       "      <td></td>\n",
       "      <td>0.0</td>\n",
       "      <td></td>\n",
       "      <td>0.0</td>\n",
       "      <td></td>\n",
       "      <td>0.0</td>\n",
       "      <td></td>\n",
       "      <td>0.0</td>\n",
       "    </tr>\n",
       "    <tr>\n",
       "      <th>2885</th>\n",
       "      <td>C1555</td>\n",
       "      <td>0.0</td>\n",
       "      <td>0.0</td>\n",
       "      <td>0.0</td>\n",
       "      <td></td>\n",
       "      <td>0.0</td>\n",
       "      <td></td>\n",
       "      <td>0.0</td>\n",
       "      <td></td>\n",
       "      <td>0.0</td>\n",
       "      <td>...</td>\n",
       "      <td></td>\n",
       "      <td>0.0</td>\n",
       "      <td></td>\n",
       "      <td>0.0</td>\n",
       "      <td></td>\n",
       "      <td>0.0</td>\n",
       "      <td></td>\n",
       "      <td>0.0</td>\n",
       "      <td></td>\n",
       "      <td>0.0</td>\n",
       "    </tr>\n",
       "    <tr>\n",
       "      <th>1701</th>\n",
       "      <td>C5796</td>\n",
       "      <td>0.0</td>\n",
       "      <td>0.0</td>\n",
       "      <td>0.0</td>\n",
       "      <td></td>\n",
       "      <td>0.0</td>\n",
       "      <td></td>\n",
       "      <td>0.0</td>\n",
       "      <td></td>\n",
       "      <td>0.0</td>\n",
       "      <td>...</td>\n",
       "      <td></td>\n",
       "      <td>0.0</td>\n",
       "      <td></td>\n",
       "      <td>0.0</td>\n",
       "      <td></td>\n",
       "      <td>0.0</td>\n",
       "      <td></td>\n",
       "      <td>0.0</td>\n",
       "      <td></td>\n",
       "      <td>0.0</td>\n",
       "    </tr>\n",
       "    <tr>\n",
       "      <th>7597</th>\n",
       "      <td>C11731</td>\n",
       "      <td>0.0</td>\n",
       "      <td>0.0</td>\n",
       "      <td>0.0</td>\n",
       "      <td></td>\n",
       "      <td>0.0</td>\n",
       "      <td></td>\n",
       "      <td>0.0</td>\n",
       "      <td></td>\n",
       "      <td>0.0</td>\n",
       "      <td>...</td>\n",
       "      <td></td>\n",
       "      <td>0.0</td>\n",
       "      <td></td>\n",
       "      <td>0.0</td>\n",
       "      <td></td>\n",
       "      <td>0.0</td>\n",
       "      <td></td>\n",
       "      <td>0.0</td>\n",
       "      <td></td>\n",
       "      <td>0.0</td>\n",
       "    </tr>\n",
       "    <tr>\n",
       "      <th>5051</th>\n",
       "      <td>C7485</td>\n",
       "      <td>0.0</td>\n",
       "      <td>0.0</td>\n",
       "      <td>0.0</td>\n",
       "      <td></td>\n",
       "      <td>0.0</td>\n",
       "      <td></td>\n",
       "      <td>0.0</td>\n",
       "      <td></td>\n",
       "      <td>0.0</td>\n",
       "      <td>...</td>\n",
       "      <td></td>\n",
       "      <td>0.0</td>\n",
       "      <td></td>\n",
       "      <td>0.0</td>\n",
       "      <td></td>\n",
       "      <td>0.0</td>\n",
       "      <td></td>\n",
       "      <td>0.0</td>\n",
       "      <td></td>\n",
       "      <td>0.0</td>\n",
       "    </tr>\n",
       "    <tr>\n",
       "      <th>8477</th>\n",
       "      <td>C1548</td>\n",
       "      <td>0.0</td>\n",
       "      <td>0.0</td>\n",
       "      <td>0.0</td>\n",
       "      <td></td>\n",
       "      <td>0.0</td>\n",
       "      <td></td>\n",
       "      <td>0.0</td>\n",
       "      <td></td>\n",
       "      <td>0.0</td>\n",
       "      <td>...</td>\n",
       "      <td></td>\n",
       "      <td>0.0</td>\n",
       "      <td></td>\n",
       "      <td>0.0</td>\n",
       "      <td></td>\n",
       "      <td>0.0</td>\n",
       "      <td></td>\n",
       "      <td>0.0</td>\n",
       "      <td></td>\n",
       "      <td>0.0</td>\n",
       "    </tr>\n",
       "  </tbody>\n",
       "</table>\n",
       "<p>10 rows × 31 columns</p>\n",
       "</div>"
      ],
      "text/plain": [
       "      computer  out_time_min  out_time_max  out_time_mean out_dst_domain_mode  \\\n",
       "1157     C7249           0.0           0.0            0.0                       \n",
       "10714   C10703           0.0           0.0            0.0                       \n",
       "3872     C6943           0.0           0.0            0.0                       \n",
       "8832     C7472           0.0           0.0            0.0                       \n",
       "10732    C9999           0.0           0.0            0.0                       \n",
       "2885     C1555           0.0           0.0            0.0                       \n",
       "1701     C5796           0.0           0.0            0.0                       \n",
       "7597    C11731           0.0           0.0            0.0                       \n",
       "5051     C7485           0.0           0.0            0.0                       \n",
       "8477     C1548           0.0           0.0            0.0                       \n",
       "\n",
       "       out_dst_domain_count out_dst_computer_mode  out_dst_computer_count  \\\n",
       "1157                    0.0                                           0.0   \n",
       "10714                   0.0                                           0.0   \n",
       "3872                    0.0                                           0.0   \n",
       "8832                    0.0                                           0.0   \n",
       "10732                   0.0                                           0.0   \n",
       "2885                    0.0                                           0.0   \n",
       "1701                    0.0                                           0.0   \n",
       "7597                    0.0                                           0.0   \n",
       "5051                    0.0                                           0.0   \n",
       "8477                    0.0                                           0.0   \n",
       "\n",
       "      out_auth_type_mode  out_auth_type_count  ... in_src_computer_mode  \\\n",
       "1157                                      0.0  ...                        \n",
       "10714                                     0.0  ...                        \n",
       "3872                                      0.0  ...                        \n",
       "8832                                      0.0  ...                        \n",
       "10732                                     0.0  ...                        \n",
       "2885                                      0.0  ...                        \n",
       "1701                                      0.0  ...                        \n",
       "7597                                      0.0  ...                        \n",
       "5051                                      0.0  ...                        \n",
       "8477                                      0.0  ...                        \n",
       "\n",
       "       in_src_computer_count in_auth_type_mode  in_auth_type_count  \\\n",
       "1157                     0.0                                   0.0   \n",
       "10714                    0.0                                   0.0   \n",
       "3872                     0.0                                   0.0   \n",
       "8832                     0.0                                   0.0   \n",
       "10732                    0.0                                   0.0   \n",
       "2885                     0.0                                   0.0   \n",
       "1701                     0.0                                   0.0   \n",
       "7597                     0.0                                   0.0   \n",
       "5051                     0.0                                   0.0   \n",
       "8477                     0.0                                   0.0   \n",
       "\n",
       "      in_logontype_mode  in_logontype_count  \\\n",
       "1157                                    0.0   \n",
       "10714                                   0.0   \n",
       "3872                                    0.0   \n",
       "8832                                    0.0   \n",
       "10732                                   0.0   \n",
       "2885                                    0.0   \n",
       "1701                                    0.0   \n",
       "7597                                    0.0   \n",
       "5051                                    0.0   \n",
       "8477                                    0.0   \n",
       "\n",
       "       in_authentication_orientation_mode  \\\n",
       "1157                                        \n",
       "10714                                       \n",
       "3872                                        \n",
       "8832                                        \n",
       "10732                                       \n",
       "2885                                        \n",
       "1701                                        \n",
       "7597                                        \n",
       "5051                                        \n",
       "8477                                        \n",
       "\n",
       "       in_authentication_orientation_count  in_success_or_failure_mode  \\\n",
       "1157                                   0.0                               \n",
       "10714                                  0.0                               \n",
       "3872                                   0.0                               \n",
       "8832                                   0.0                               \n",
       "10732                                  0.0                               \n",
       "2885                                   0.0                               \n",
       "1701                                   0.0                               \n",
       "7597                                   0.0                               \n",
       "5051                                   0.0                               \n",
       "8477                                   0.0                               \n",
       "\n",
       "      in_success_or_failure_count  \n",
       "1157                          0.0  \n",
       "10714                         0.0  \n",
       "3872                          0.0  \n",
       "8832                          0.0  \n",
       "10732                         0.0  \n",
       "2885                          0.0  \n",
       "1701                          0.0  \n",
       "7597                          0.0  \n",
       "5051                          0.0  \n",
       "8477                          0.0  \n",
       "\n",
       "[10 rows x 31 columns]"
      ]
     },
     "execution_count": 15,
     "metadata": {},
     "output_type": "execute_result"
    }
   ],
   "source": [
    "mode = pd.Series.mode\n",
    "outgoing_conn_stats = auth[:1000].groupby([SRC]).agg({\n",
    "    'time': ['min', 'max', 'mean'],\n",
    "    'dst_domain': [mode, 'count'],\n",
    "    'dst_computer': [mode, 'count'],\n",
    "    'auth_type': [mode, 'count'],\n",
    "    'logontype': [mode, 'count'],\n",
    "    'authentication_orientation': [mode, 'count'],\n",
    "    'success_or_failure': [mode, 'count']\n",
    "})\n",
    "outgoing_conn_stats.columns = [f'out_{c[0]}_{c[1]}' for c in outgoing_conn_stats.columns]\n",
    "\n",
    "mode = pd.Series.mode\n",
    "incoming_conn_stats = auth[:1000].groupby([DST]).agg({\n",
    "    'time': ['min', 'max', 'mean'],\n",
    "    'src_domain': [mode, 'count'],\n",
    "    'src_computer': [mode, 'count'],\n",
    "    'auth_type': [mode, 'count'],\n",
    "    'logontype': [mode, 'count'],\n",
    "    'authentication_orientation': [mode, 'count'],\n",
    "    'success_or_failure': [mode, 'count']\n",
    "})\n",
    "incoming_conn_stats.columns = [f'in_{c[0]}_{c[1]}' for c in incoming_conn_stats.columns]\n",
    "\n",
    "\n",
    "# outgoing_conn_stats\n",
    "# incoming_conn_stats\n",
    "\n",
    "nodes = pd.DataFrame({NODE: pd.concat([auth[SRC], auth[DST]]).unique()})\n",
    "nodes = nodes.merge(outgoing_conn_stats, how='left', left_on=NODE, right_on=SRC)\n",
    "nodes = nodes.merge(incoming_conn_stats, how='left', left_on=NODE, right_on=DST)\n",
    "for c in ['min', 'max', 'mean']:\n",
    "    nodes[f'out_time_{c}'] = nodes[f'out_time_{c}'].fillna(0.)\n",
    "    nodes[f'in_time_{c}'] = nodes[f'in_time_{c}'].fillna(0.)\n",
    "\n",
    "\n",
    "def flatten_lst(o):\n",
    "    if isinstance(o, list):\n",
    "        return o[0]\n",
    "    if isinstance(o, str):\n",
    "        return o\n",
    "    return ''\n",
    "\n",
    "\n",
    "for c in ['mode']:\n",
    "    for k in ['dst_domain', 'dst_computer', 'auth_type', 'logontype', 'authentication_orientation', 'success_or_failure']:\n",
    "        nodes[f'out_{k}_{c}'] = nodes[f'out_{k}_{c}'].apply(flatten_lst)\n",
    "    for k in ['src_domain', 'src_computer', 'auth_type', 'logontype', 'authentication_orientation', 'success_or_failure']:\n",
    "        nodes[f'in_{k}_{c}'] = nodes[f'in_{k}_{c}'].apply(flatten_lst)\n",
    "\n",
    "for c in ['count']:\n",
    "    for k in ['dst_domain', 'dst_computer', 'auth_type', 'logontype', 'authentication_orientation', 'success_or_failure']:\n",
    "        nodes[f'out_{k}_{c}'] = nodes[f'out_{k}_{c}'].fillna(0)\n",
    "    for k in ['src_domain', 'src_computer', 'auth_type', 'logontype', 'authentication_orientation', 'success_or_failure']:\n",
    "        nodes[f'in_{k}_{c}'] = nodes[f'in_{k}_{c}'].fillna(0)\n",
    "\n",
    "print(nodes.shape)\n",
    "nodes.sample(10)"
   ]
  },
  {
   "cell_type": "markdown",
   "id": "0db59d07-faf7-4104-aef2-4928121294ed",
   "metadata": {
    "jp-MarkdownHeadingCollapsed": true,
    "tags": []
   },
   "source": [
    "## Node features - auto-generation & compression"
   ]
  },
  {
   "cell_type": "code",
   "execution_count": 16,
   "id": "d9a53d8e-3c52-4995-9dc2-33e9282effdf",
   "metadata": {
    "execution": {
     "iopub.execute_input": "2022-12-02T16:17:47.680860Z",
     "iopub.status.busy": "2022-12-02T16:17:47.680757Z",
     "iopub.status.idle": "2022-12-02T16:17:48.838733Z",
     "shell.execute_reply": "2022-12-02T16:17:48.838388Z",
     "shell.execute_reply.started": "2022-12-02T16:17:47.680846Z"
    },
    "tags": []
   },
   "outputs": [
    {
     "name": "stdout",
     "output_type": "stream",
     "text": [
      "sample low cardinality\n"
     ]
    },
    {
     "data": {
      "text/plain": [
       "{'out_dst_domain_mode_': 2,\n",
       " 'out_dst_domain_mode_ANONYMOUS LOGON@C1065': 2,\n",
       " 'out_dst_domain_mode_ANONYMOUS LOGON@C1628': 2,\n",
       " 'out_dst_domain_mode_ANONYMOUS LOGON@C17899': 2,\n",
       " 'out_dst_domain_mode_ANONYMOUS LOGON@C457': 2,\n",
       " 'out_dst_domain_mode_ANONYMOUS LOGON@C467': 2,\n",
       " 'out_dst_domain_mode_ANONYMOUS LOGON@C528': 2,\n",
       " 'out_dst_domain_mode_ANONYMOUS LOGON@C529': 2,\n",
       " 'out_dst_domain_mode_ANONYMOUS LOGON@C586': 2,\n",
       " 'out_dst_domain_mode_ANONYMOUS LOGON@C625': 2}"
      ]
     },
     "execution_count": 16,
     "metadata": {},
     "output_type": "execute_result"
    }
   ],
   "source": [
    "gg = graphistry.nodes(nodes, NODE)\n",
    "g_sample = gg.featurize(\n",
    "    cardinality_threshold=len(auth)+1,  # avoid topic modeling on high-cardinality cols\n",
    "    min_words=len(auth)+1,  # avoid topic modeling on high-cardinality cols\n",
    ")\n",
    "\n",
    "X = g_sample._node_features\n",
    "#print('memory', X.memory_usage())\n",
    "print('sample low cardinality')\n",
    "{\n",
    "    c: X[c].nunique()\n",
    "    for c in X.columns[:10] #sampled, good to manually inspect for nice columns\n",
    "    if X[c].nunique() < 10\n",
    "}"
   ]
  },
  {
   "cell_type": "code",
   "execution_count": 17,
   "id": "9bab206c-fe11-40bd-ab38-24f4f650eda9",
   "metadata": {
    "execution": {
     "iopub.execute_input": "2022-12-02T16:17:48.839315Z",
     "iopub.status.busy": "2022-12-02T16:17:48.839234Z",
     "iopub.status.idle": "2022-12-02T16:17:48.867652Z",
     "shell.execute_reply": "2022-12-02T16:17:48.867324Z",
     "shell.execute_reply.started": "2022-12-02T16:17:48.839305Z"
    },
    "tags": []
   },
   "outputs": [
    {
     "name": "stdout",
     "output_type": "stream",
     "text": [
      "#total feats 889\n",
      "#good feats (decent cardinality) 74\n",
      "out_dst_domain_mode_                        10411\n",
      "out_dst_domain_mode_ANONYMOUS LOGON@C586       16\n",
      "out_dst_computer_mode_                      10408\n",
      "out_dst_computer_mode_C1065                    25\n",
      "out_dst_computer_mode_C2106                    16\n",
      "                                            ...  \n",
      "in_src_computer_count                        1000\n",
      "in_auth_type_count                           1000\n",
      "in_logontype_count                           1000\n",
      "in_authentication_orientation_count          1000\n",
      "in_success_or_failure_count                  1000\n",
      "Length: 74, dtype: int64\n"
     ]
    },
    {
     "data": {
      "text/html": [
       "<div>\n",
       "<style scoped>\n",
       "    .dataframe tbody tr th:only-of-type {\n",
       "        vertical-align: middle;\n",
       "    }\n",
       "\n",
       "    .dataframe tbody tr th {\n",
       "        vertical-align: top;\n",
       "    }\n",
       "\n",
       "    .dataframe thead th {\n",
       "        text-align: right;\n",
       "    }\n",
       "</style>\n",
       "<table border=\"1\" class=\"dataframe\">\n",
       "  <thead>\n",
       "    <tr style=\"text-align: right;\">\n",
       "      <th></th>\n",
       "      <th>out_dst_domain_mode_</th>\n",
       "      <th>out_dst_domain_mode_ANONYMOUS LOGON@C586</th>\n",
       "      <th>out_dst_computer_mode_</th>\n",
       "      <th>out_dst_computer_mode_C1065</th>\n",
       "      <th>out_dst_computer_mode_C2106</th>\n",
       "      <th>out_dst_computer_mode_C457</th>\n",
       "      <th>out_dst_computer_mode_C467</th>\n",
       "      <th>out_dst_computer_mode_C528</th>\n",
       "      <th>out_dst_computer_mode_C529</th>\n",
       "      <th>out_dst_computer_mode_C586</th>\n",
       "      <th>...</th>\n",
       "      <th>out_success_or_failure_count</th>\n",
       "      <th>in_time_min</th>\n",
       "      <th>in_time_max</th>\n",
       "      <th>in_time_mean</th>\n",
       "      <th>in_src_domain_count</th>\n",
       "      <th>in_src_computer_count</th>\n",
       "      <th>in_auth_type_count</th>\n",
       "      <th>in_logontype_count</th>\n",
       "      <th>in_authentication_orientation_count</th>\n",
       "      <th>in_success_or_failure_count</th>\n",
       "    </tr>\n",
       "  </thead>\n",
       "  <tbody>\n",
       "    <tr>\n",
       "      <th>3579</th>\n",
       "      <td>1.0</td>\n",
       "      <td>0.0</td>\n",
       "      <td>1.0</td>\n",
       "      <td>0.0</td>\n",
       "      <td>0.0</td>\n",
       "      <td>0.0</td>\n",
       "      <td>0.0</td>\n",
       "      <td>0.0</td>\n",
       "      <td>0.0</td>\n",
       "      <td>0.0</td>\n",
       "      <td>...</td>\n",
       "      <td>0.0</td>\n",
       "      <td>0.0</td>\n",
       "      <td>0.0</td>\n",
       "      <td>0.0</td>\n",
       "      <td>0.0</td>\n",
       "      <td>0.0</td>\n",
       "      <td>0.0</td>\n",
       "      <td>0.0</td>\n",
       "      <td>0.0</td>\n",
       "      <td>0.0</td>\n",
       "    </tr>\n",
       "    <tr>\n",
       "      <th>6966</th>\n",
       "      <td>1.0</td>\n",
       "      <td>0.0</td>\n",
       "      <td>1.0</td>\n",
       "      <td>0.0</td>\n",
       "      <td>0.0</td>\n",
       "      <td>0.0</td>\n",
       "      <td>0.0</td>\n",
       "      <td>0.0</td>\n",
       "      <td>0.0</td>\n",
       "      <td>0.0</td>\n",
       "      <td>...</td>\n",
       "      <td>0.0</td>\n",
       "      <td>0.0</td>\n",
       "      <td>0.0</td>\n",
       "      <td>0.0</td>\n",
       "      <td>0.0</td>\n",
       "      <td>0.0</td>\n",
       "      <td>0.0</td>\n",
       "      <td>0.0</td>\n",
       "      <td>0.0</td>\n",
       "      <td>0.0</td>\n",
       "    </tr>\n",
       "    <tr>\n",
       "      <th>4599</th>\n",
       "      <td>1.0</td>\n",
       "      <td>0.0</td>\n",
       "      <td>1.0</td>\n",
       "      <td>0.0</td>\n",
       "      <td>0.0</td>\n",
       "      <td>0.0</td>\n",
       "      <td>0.0</td>\n",
       "      <td>0.0</td>\n",
       "      <td>0.0</td>\n",
       "      <td>0.0</td>\n",
       "      <td>...</td>\n",
       "      <td>0.0</td>\n",
       "      <td>0.0</td>\n",
       "      <td>0.0</td>\n",
       "      <td>0.0</td>\n",
       "      <td>0.0</td>\n",
       "      <td>0.0</td>\n",
       "      <td>0.0</td>\n",
       "      <td>0.0</td>\n",
       "      <td>0.0</td>\n",
       "      <td>0.0</td>\n",
       "    </tr>\n",
       "    <tr>\n",
       "      <th>409</th>\n",
       "      <td>0.0</td>\n",
       "      <td>0.0</td>\n",
       "      <td>0.0</td>\n",
       "      <td>0.0</td>\n",
       "      <td>0.0</td>\n",
       "      <td>0.0</td>\n",
       "      <td>0.0</td>\n",
       "      <td>0.0</td>\n",
       "      <td>0.0</td>\n",
       "      <td>0.0</td>\n",
       "      <td>...</td>\n",
       "      <td>1.0</td>\n",
       "      <td>199787.0</td>\n",
       "      <td>199787.0</td>\n",
       "      <td>199787.0</td>\n",
       "      <td>1.0</td>\n",
       "      <td>1.0</td>\n",
       "      <td>1.0</td>\n",
       "      <td>1.0</td>\n",
       "      <td>1.0</td>\n",
       "      <td>1.0</td>\n",
       "    </tr>\n",
       "    <tr>\n",
       "      <th>5072</th>\n",
       "      <td>1.0</td>\n",
       "      <td>0.0</td>\n",
       "      <td>1.0</td>\n",
       "      <td>0.0</td>\n",
       "      <td>0.0</td>\n",
       "      <td>0.0</td>\n",
       "      <td>0.0</td>\n",
       "      <td>0.0</td>\n",
       "      <td>0.0</td>\n",
       "      <td>0.0</td>\n",
       "      <td>...</td>\n",
       "      <td>0.0</td>\n",
       "      <td>0.0</td>\n",
       "      <td>0.0</td>\n",
       "      <td>0.0</td>\n",
       "      <td>0.0</td>\n",
       "      <td>0.0</td>\n",
       "      <td>0.0</td>\n",
       "      <td>0.0</td>\n",
       "      <td>0.0</td>\n",
       "      <td>0.0</td>\n",
       "    </tr>\n",
       "  </tbody>\n",
       "</table>\n",
       "<p>5 rows × 74 columns</p>\n",
       "</div>"
      ],
      "text/plain": [
       "      out_dst_domain_mode_  out_dst_domain_mode_ANONYMOUS LOGON@C586  \\\n",
       "3579                   1.0                                       0.0   \n",
       "6966                   1.0                                       0.0   \n",
       "4599                   1.0                                       0.0   \n",
       "409                    0.0                                       0.0   \n",
       "5072                   1.0                                       0.0   \n",
       "\n",
       "      out_dst_computer_mode_  out_dst_computer_mode_C1065  \\\n",
       "3579                     1.0                          0.0   \n",
       "6966                     1.0                          0.0   \n",
       "4599                     1.0                          0.0   \n",
       "409                      0.0                          0.0   \n",
       "5072                     1.0                          0.0   \n",
       "\n",
       "      out_dst_computer_mode_C2106  out_dst_computer_mode_C457  \\\n",
       "3579                          0.0                         0.0   \n",
       "6966                          0.0                         0.0   \n",
       "4599                          0.0                         0.0   \n",
       "409                           0.0                         0.0   \n",
       "5072                          0.0                         0.0   \n",
       "\n",
       "      out_dst_computer_mode_C467  out_dst_computer_mode_C528  \\\n",
       "3579                         0.0                         0.0   \n",
       "6966                         0.0                         0.0   \n",
       "4599                         0.0                         0.0   \n",
       "409                          0.0                         0.0   \n",
       "5072                         0.0                         0.0   \n",
       "\n",
       "      out_dst_computer_mode_C529  out_dst_computer_mode_C586  ...  \\\n",
       "3579                         0.0                         0.0  ...   \n",
       "6966                         0.0                         0.0  ...   \n",
       "4599                         0.0                         0.0  ...   \n",
       "409                          0.0                         0.0  ...   \n",
       "5072                         0.0                         0.0  ...   \n",
       "\n",
       "      out_success_or_failure_count  in_time_min  in_time_max  in_time_mean  \\\n",
       "3579                           0.0          0.0          0.0           0.0   \n",
       "6966                           0.0          0.0          0.0           0.0   \n",
       "4599                           0.0          0.0          0.0           0.0   \n",
       "409                            1.0     199787.0     199787.0      199787.0   \n",
       "5072                           0.0          0.0          0.0           0.0   \n",
       "\n",
       "      in_src_domain_count  in_src_computer_count  in_auth_type_count  \\\n",
       "3579                  0.0                    0.0                 0.0   \n",
       "6966                  0.0                    0.0                 0.0   \n",
       "4599                  0.0                    0.0                 0.0   \n",
       "409                   1.0                    1.0                 1.0   \n",
       "5072                  0.0                    0.0                 0.0   \n",
       "\n",
       "      in_logontype_count  in_authentication_orientation_count  \\\n",
       "3579                 0.0                                  0.0   \n",
       "6966                 0.0                                  0.0   \n",
       "4599                 0.0                                  0.0   \n",
       "409                  1.0                                  1.0   \n",
       "5072                 0.0                                  0.0   \n",
       "\n",
       "      in_success_or_failure_count  \n",
       "3579                          0.0  \n",
       "6966                          0.0  \n",
       "4599                          0.0  \n",
       "409                           1.0  \n",
       "5072                          0.0  \n",
       "\n",
       "[5 rows x 74 columns]"
      ]
     },
     "execution_count": 17,
     "metadata": {},
     "output_type": "execute_result"
    }
   ],
   "source": [
    "sums = X.sum(0)\n",
    "good_feats = [c for c in X.columns if sums[c] > 10 or 'type' in c]\n",
    "\n",
    "print('#total feats', len(X.columns))\n",
    "print('#good feats (decent cardinality)', len(good_feats))\n",
    "print(X[good_feats].sum(0).astype(int))\n",
    "X[good_feats].sample(5)"
   ]
  },
  {
   "cell_type": "markdown",
   "id": "8e93611c-c8ac-440c-b3e2-0fae5247704e",
   "metadata": {
    "tags": []
   },
   "source": [
    "## Edge features - Multi-column relationship types (optional)"
   ]
  },
  {
   "cell_type": "markdown",
   "id": "1d1f4393-cd88-48e8-8cbe-1347cbb448ff",
   "metadata": {},
   "source": [
    "### Untyped\n",
    "\n",
    "Useful for emulating a vanilla GCN via RGCN"
   ]
  },
  {
   "cell_type": "code",
   "execution_count": 18,
   "id": "5338f95b-d669-4b1f-92f0-596e80c5e68e",
   "metadata": {
    "execution": {
     "iopub.execute_input": "2022-12-02T16:17:48.868192Z",
     "iopub.status.busy": "2022-12-02T16:17:48.868114Z",
     "iopub.status.idle": "2022-12-02T16:17:48.982144Z",
     "shell.execute_reply": "2022-12-02T16:17:48.981796Z",
     "shell.execute_reply.started": "2022-12-02T16:17:48.868182Z"
    },
    "tags": []
   },
   "outputs": [],
   "source": [
    "df = auth\n",
    "df2a = df.assign(constant_edge_label=1)"
   ]
  },
  {
   "cell_type": "markdown",
   "id": "77a3660b-9fb7-45a0-a9b9-f48ee32313ff",
   "metadata": {
    "tags": []
   },
   "source": [
    "### Combos: reln as combined (`auth_type` x `logontype`)"
   ]
  },
  {
   "cell_type": "code",
   "execution_count": 19,
   "id": "f557a287-f26e-44f4-a4e5-9d9615d8497d",
   "metadata": {
    "execution": {
     "iopub.execute_input": "2022-12-02T16:17:48.982897Z",
     "iopub.status.busy": "2022-12-02T16:17:48.982665Z",
     "iopub.status.idle": "2022-12-02T16:17:49.527304Z",
     "shell.execute_reply": "2022-12-02T16:17:49.527002Z",
     "shell.execute_reply.started": "2022-12-02T16:17:48.982884Z"
    },
    "tags": []
   },
   "outputs": [
    {
     "data": {
      "text/plain": [
       "243922     Kerberos::Network\n",
       "835852     Kerberos::Network\n",
       "865963                  ?::?\n",
       "3562087           ?::Network\n",
       "1788835    Kerberos::Network\n",
       "Name: reln, dtype: object"
      ]
     },
     "execution_count": 19,
     "metadata": {},
     "output_type": "execute_result"
    }
   ],
   "source": [
    "df2 = df2a.assign(reln=df.auth_type + '::' + df.logontype)\n",
    "df2.reln.sample(5)"
   ]
  },
  {
   "cell_type": "markdown",
   "id": "f0a0c66a-e110-4dbd-a5e4-0bc7ac486b40",
   "metadata": {
    "tags": []
   },
   "source": [
    "### Compression: reln as topic model over many columns or high-cardinality columns\n",
    "\n",
    "To prevent too many relationship types blowing out memory, we can use tricks like topic models to cut down to a more reasonable set\n"
   ]
  },
  {
   "cell_type": "code",
   "execution_count": 20,
   "id": "a0be42f8-7339-4f32-8854-7f53d969263b",
   "metadata": {
    "execution": {
     "iopub.execute_input": "2022-12-02T16:17:49.527917Z",
     "iopub.status.busy": "2022-12-02T16:17:49.527830Z",
     "iopub.status.idle": "2022-12-02T16:17:50.205617Z",
     "shell.execute_reply": "2022-12-02T16:17:50.205355Z",
     "shell.execute_reply.started": "2022-12-02T16:17:49.527906Z"
    },
    "tags": []
   },
   "outputs": [
    {
     "data": {
      "text/html": [
       "<div>\n",
       "<style scoped>\n",
       "    .dataframe tbody tr th:only-of-type {\n",
       "        vertical-align: middle;\n",
       "    }\n",
       "\n",
       "    .dataframe tbody tr th {\n",
       "        vertical-align: top;\n",
       "    }\n",
       "\n",
       "    .dataframe thead th {\n",
       "        text-align: right;\n",
       "    }\n",
       "</style>\n",
       "<table border=\"1\" class=\"dataframe\">\n",
       "  <thead>\n",
       "    <tr style=\"text-align: right;\">\n",
       "      <th></th>\n",
       "      <th>reln: ntlm, wave, batch</th>\n",
       "      <th>reln: batch, ntlm, wave</th>\n",
       "      <th>reln: negotiate, ntlm, wave</th>\n",
       "      <th>reln: ntlm, wave, interactive</th>\n",
       "      <th>reln: microsoft_authentication_packa, microsoft_authentication_pack, microsoft_authentication_pac</th>\n",
       "      <th>reln: remoteinteractive, interactive, ntlm</th>\n",
       "      <th>reln: microsoft_authentication_package_v1, microsoft_authentication_package_v, microsoft_authentication_package_</th>\n",
       "      <th>reln: kerberos, network, ntlm</th>\n",
       "      <th>reln: newcredentials, ntlm, wave</th>\n",
       "      <th>reln: microsoft_authentication_package_v1_0, microsoft_authentication_package_v1_, microsoft_authentication_package_v1</th>\n",
       "      <th>reln: networkcleartext, ntlm, wave</th>\n",
       "      <th>reln: service, ntlm, wave</th>\n",
       "      <th>reln: unlock, wave, ntlm</th>\n",
       "      <th>reln: cachedinteractive, interactive, ntlm</th>\n",
       "      <th>reln: microsoft_authentica, microsoft_authentication_pa, microsoft_authentication_pac</th>\n",
       "    </tr>\n",
       "  </thead>\n",
       "  <tbody>\n",
       "    <tr>\n",
       "      <th>339375</th>\n",
       "      <td>0.148557</td>\n",
       "      <td>0.056838</td>\n",
       "      <td>0.057913</td>\n",
       "      <td>0.152160</td>\n",
       "      <td>0.185454</td>\n",
       "      <td>0.174556</td>\n",
       "      <td>0.280331</td>\n",
       "      <td>0.054524</td>\n",
       "      <td>0.060744</td>\n",
       "      <td>70.747278</td>\n",
       "      <td>0.053815</td>\n",
       "      <td>0.058804</td>\n",
       "      <td>0.056780</td>\n",
       "      <td>0.522876</td>\n",
       "      <td>0.139371</td>\n",
       "    </tr>\n",
       "    <tr>\n",
       "      <th>7814</th>\n",
       "      <td>0.052674</td>\n",
       "      <td>0.055471</td>\n",
       "      <td>11.718799</td>\n",
       "      <td>1.717323</td>\n",
       "      <td>0.053624</td>\n",
       "      <td>25.518031</td>\n",
       "      <td>0.052828</td>\n",
       "      <td>0.054558</td>\n",
       "      <td>0.062141</td>\n",
       "      <td>0.060254</td>\n",
       "      <td>0.071018</td>\n",
       "      <td>0.085292</td>\n",
       "      <td>0.057539</td>\n",
       "      <td>0.137766</td>\n",
       "      <td>0.052682</td>\n",
       "    </tr>\n",
       "    <tr>\n",
       "      <th>683631</th>\n",
       "      <td>0.050558</td>\n",
       "      <td>0.053184</td>\n",
       "      <td>0.058496</td>\n",
       "      <td>0.053717</td>\n",
       "      <td>0.050803</td>\n",
       "      <td>0.051884</td>\n",
       "      <td>0.050711</td>\n",
       "      <td>0.051522</td>\n",
       "      <td>0.050903</td>\n",
       "      <td>0.050871</td>\n",
       "      <td>0.051656</td>\n",
       "      <td>0.052714</td>\n",
       "      <td>15.020143</td>\n",
       "      <td>0.052309</td>\n",
       "      <td>0.050528</td>\n",
       "    </tr>\n",
       "    <tr>\n",
       "      <th>237141</th>\n",
       "      <td>0.206005</td>\n",
       "      <td>0.056884</td>\n",
       "      <td>0.057404</td>\n",
       "      <td>0.057193</td>\n",
       "      <td>8.189937</td>\n",
       "      <td>0.054009</td>\n",
       "      <td>51.363086</td>\n",
       "      <td>0.262343</td>\n",
       "      <td>0.072549</td>\n",
       "      <td>0.211270</td>\n",
       "      <td>0.085901</td>\n",
       "      <td>0.055594</td>\n",
       "      <td>0.054310</td>\n",
       "      <td>0.057548</td>\n",
       "      <td>1.465967</td>\n",
       "    </tr>\n",
       "    <tr>\n",
       "      <th>4217</th>\n",
       "      <td>0.054613</td>\n",
       "      <td>0.074897</td>\n",
       "      <td>0.057616</td>\n",
       "      <td>0.056144</td>\n",
       "      <td>0.056909</td>\n",
       "      <td>0.056405</td>\n",
       "      <td>0.055506</td>\n",
       "      <td>0.066759</td>\n",
       "      <td>22.429283</td>\n",
       "      <td>0.053986</td>\n",
       "      <td>0.059091</td>\n",
       "      <td>0.056387</td>\n",
       "      <td>0.054664</td>\n",
       "      <td>0.058439</td>\n",
       "      <td>0.059300</td>\n",
       "    </tr>\n",
       "  </tbody>\n",
       "</table>\n",
       "</div>"
      ],
      "text/plain": [
       "        reln: ntlm, wave, batch  reln: batch, ntlm, wave  \\\n",
       "339375                 0.148557                 0.056838   \n",
       "7814                   0.052674                 0.055471   \n",
       "683631                 0.050558                 0.053184   \n",
       "237141                 0.206005                 0.056884   \n",
       "4217                   0.054613                 0.074897   \n",
       "\n",
       "        reln: negotiate, ntlm, wave  reln: ntlm, wave, interactive  \\\n",
       "339375                     0.057913                       0.152160   \n",
       "7814                      11.718799                       1.717323   \n",
       "683631                     0.058496                       0.053717   \n",
       "237141                     0.057404                       0.057193   \n",
       "4217                       0.057616                       0.056144   \n",
       "\n",
       "        reln: microsoft_authentication_packa, microsoft_authentication_pack, microsoft_authentication_pac  \\\n",
       "339375                                           0.185454                                                   \n",
       "7814                                             0.053624                                                   \n",
       "683631                                           0.050803                                                   \n",
       "237141                                           8.189937                                                   \n",
       "4217                                             0.056909                                                   \n",
       "\n",
       "        reln: remoteinteractive, interactive, ntlm  \\\n",
       "339375                                    0.174556   \n",
       "7814                                     25.518031   \n",
       "683631                                    0.051884   \n",
       "237141                                    0.054009   \n",
       "4217                                      0.056405   \n",
       "\n",
       "        reln: microsoft_authentication_package_v1, microsoft_authentication_package_v, microsoft_authentication_package_  \\\n",
       "339375                                           0.280331                                                                  \n",
       "7814                                             0.052828                                                                  \n",
       "683631                                           0.050711                                                                  \n",
       "237141                                          51.363086                                                                  \n",
       "4217                                             0.055506                                                                  \n",
       "\n",
       "        reln: kerberos, network, ntlm  reln: newcredentials, ntlm, wave  \\\n",
       "339375                       0.054524                          0.060744   \n",
       "7814                         0.054558                          0.062141   \n",
       "683631                       0.051522                          0.050903   \n",
       "237141                       0.262343                          0.072549   \n",
       "4217                         0.066759                         22.429283   \n",
       "\n",
       "        reln: microsoft_authentication_package_v1_0, microsoft_authentication_package_v1_, microsoft_authentication_package_v1  \\\n",
       "339375                                          70.747278                                                                        \n",
       "7814                                             0.060254                                                                        \n",
       "683631                                           0.050871                                                                        \n",
       "237141                                           0.211270                                                                        \n",
       "4217                                             0.053986                                                                        \n",
       "\n",
       "        reln: networkcleartext, ntlm, wave  reln: service, ntlm, wave  \\\n",
       "339375                            0.053815                   0.058804   \n",
       "7814                              0.071018                   0.085292   \n",
       "683631                            0.051656                   0.052714   \n",
       "237141                            0.085901                   0.055594   \n",
       "4217                              0.059091                   0.056387   \n",
       "\n",
       "        reln: unlock, wave, ntlm  reln: cachedinteractive, interactive, ntlm  \\\n",
       "339375                  0.056780                                    0.522876   \n",
       "7814                    0.057539                                    0.137766   \n",
       "683631                 15.020143                                    0.052309   \n",
       "237141                  0.054310                                    0.057548   \n",
       "4217                    0.054664                                    0.058439   \n",
       "\n",
       "        reln: microsoft_authentica, microsoft_authentication_pa, microsoft_authentication_pac  \n",
       "339375                                           0.139371                                      \n",
       "7814                                             0.052682                                      \n",
       "683631                                           0.050528                                      \n",
       "237141                                           1.465967                                      \n",
       "4217                                             0.059300                                      "
      ]
     },
     "execution_count": 20,
     "metadata": {},
     "output_type": "execute_result"
    }
   ],
   "source": [
    "g_runiq = graphistry.nodes(df2.drop_duplicates(subset=['reln']))\n",
    "g_featurized = g_runiq.featurize(X=['reln'], min_words=1000000, n_topics=15, cardinality_threshold=2)\n",
    "X = g_featurized._node_features\n",
    "X.sample(5)"
   ]
  },
  {
   "cell_type": "code",
   "execution_count": 21,
   "id": "eb4fed04-2522-4595-a5cc-be084f591e20",
   "metadata": {
    "execution": {
     "iopub.execute_input": "2022-12-02T16:17:50.206193Z",
     "iopub.status.busy": "2022-12-02T16:17:50.206097Z",
     "iopub.status.idle": "2022-12-02T16:17:56.368664Z",
     "shell.execute_reply": "2022-12-02T16:17:56.368435Z",
     "shell.execute_reply.started": "2022-12-02T16:17:50.206182Z"
    },
    "tags": []
   },
   "outputs": [
    {
     "data": {
      "text/plain": [
       "392537     reln: kerberos, network, ntlm\n",
       "3497381    reln: kerberos, network, ntlm\n",
       "387017     reln: kerberos, network, ntlm\n",
       "2356261    reln: kerberos, network, ntlm\n",
       "1169846    reln: kerberos, network, ntlm\n",
       "3038088    reln: kerberos, network, ntlm\n",
       "2420173    reln: kerberos, network, ntlm\n",
       "2441144          reln: batch, ntlm, wave\n",
       "3933167    reln: kerberos, network, ntlm\n",
       "2362703    reln: kerberos, network, ntlm\n",
       "dtype: object"
      ]
     },
     "execution_count": 21,
     "metadata": {},
     "output_type": "execute_result"
    }
   ],
   "source": [
    "X_df2, y_df2 = g_featurized.transform(df2, ydf=None, kind='nodes')\n",
    "reln_topic = pd.Series([ X_df2.columns[k] for k in X_df2.values.argmax(1) ])\n",
    "df3 = df2.assign(reln_topic=reln_topic)\n",
    "reln_topic.sample(10)"
   ]
  },
  {
   "cell_type": "markdown",
   "id": "4b1f1acf-085b-4305-bbc0-e66a6261bfcc",
   "metadata": {},
   "source": [
    "### Comparison\n",
    "\n",
    "Any of these may be interesting as feature columns"
   ]
  },
  {
   "cell_type": "code",
   "execution_count": 22,
   "id": "090e834e-9270-4e0d-a221-869a1c5d2559",
   "metadata": {
    "execution": {
     "iopub.execute_input": "2022-12-02T16:17:56.369795Z",
     "iopub.status.busy": "2022-12-02T16:17:56.369711Z",
     "iopub.status.idle": "2022-12-02T16:17:57.499426Z",
     "shell.execute_reply": "2022-12-02T16:17:57.499144Z",
     "shell.execute_reply.started": "2022-12-02T16:17:56.369784Z"
    },
    "tags": []
   },
   "outputs": [
    {
     "name": "stdout",
     "output_type": "stream",
     "text": [
      "{'constant_edge_label': 1, 'auth_type': 17, 'logontype': 10, 'reln': 38, 'reln_topic': 15}\n"
     ]
    },
    {
     "data": {
      "text/html": [
       "<div>\n",
       "<style scoped>\n",
       "    .dataframe tbody tr th:only-of-type {\n",
       "        vertical-align: middle;\n",
       "    }\n",
       "\n",
       "    .dataframe tbody tr th {\n",
       "        vertical-align: top;\n",
       "    }\n",
       "\n",
       "    .dataframe thead th {\n",
       "        text-align: right;\n",
       "    }\n",
       "</style>\n",
       "<table border=\"1\" class=\"dataframe\">\n",
       "  <thead>\n",
       "    <tr style=\"text-align: right;\">\n",
       "      <th></th>\n",
       "      <th>constant_edge_label</th>\n",
       "      <th>auth_type</th>\n",
       "      <th>logontype</th>\n",
       "      <th>reln</th>\n",
       "      <th>reln_topic</th>\n",
       "    </tr>\n",
       "  </thead>\n",
       "  <tbody>\n",
       "    <tr>\n",
       "      <th>3181846</th>\n",
       "      <td>1</td>\n",
       "      <td>?</td>\n",
       "      <td>?</td>\n",
       "      <td>?::?</td>\n",
       "      <td>reln: batch, ntlm, wave</td>\n",
       "    </tr>\n",
       "    <tr>\n",
       "      <th>3637183</th>\n",
       "      <td>1</td>\n",
       "      <td>NTLM</td>\n",
       "      <td>Network</td>\n",
       "      <td>NTLM::Network</td>\n",
       "      <td>reln: kerberos, network, ntlm</td>\n",
       "    </tr>\n",
       "    <tr>\n",
       "      <th>3527822</th>\n",
       "      <td>1</td>\n",
       "      <td>Kerberos</td>\n",
       "      <td>Network</td>\n",
       "      <td>Kerberos::Network</td>\n",
       "      <td>reln: kerberos, network, ntlm</td>\n",
       "    </tr>\n",
       "    <tr>\n",
       "      <th>2972171</th>\n",
       "      <td>1</td>\n",
       "      <td>Kerberos</td>\n",
       "      <td>Network</td>\n",
       "      <td>Kerberos::Network</td>\n",
       "      <td>reln: kerberos, network, ntlm</td>\n",
       "    </tr>\n",
       "    <tr>\n",
       "      <th>1844173</th>\n",
       "      <td>1</td>\n",
       "      <td>?</td>\n",
       "      <td>Network</td>\n",
       "      <td>?::Network</td>\n",
       "      <td>reln: kerberos, network, ntlm</td>\n",
       "    </tr>\n",
       "    <tr>\n",
       "      <th>3405729</th>\n",
       "      <td>1</td>\n",
       "      <td>?</td>\n",
       "      <td>Network</td>\n",
       "      <td>?::Network</td>\n",
       "      <td>reln: kerberos, network, ntlm</td>\n",
       "    </tr>\n",
       "    <tr>\n",
       "      <th>703185</th>\n",
       "      <td>1</td>\n",
       "      <td>Kerberos</td>\n",
       "      <td>Network</td>\n",
       "      <td>Kerberos::Network</td>\n",
       "      <td>reln: kerberos, network, ntlm</td>\n",
       "    </tr>\n",
       "    <tr>\n",
       "      <th>3827554</th>\n",
       "      <td>1</td>\n",
       "      <td>?</td>\n",
       "      <td>Network</td>\n",
       "      <td>?::Network</td>\n",
       "      <td>reln: kerberos, network, ntlm</td>\n",
       "    </tr>\n",
       "    <tr>\n",
       "      <th>2057222</th>\n",
       "      <td>1</td>\n",
       "      <td>?</td>\n",
       "      <td>Network</td>\n",
       "      <td>?::Network</td>\n",
       "      <td>reln: kerberos, network, ntlm</td>\n",
       "    </tr>\n",
       "    <tr>\n",
       "      <th>2072045</th>\n",
       "      <td>1</td>\n",
       "      <td>Kerberos</td>\n",
       "      <td>Network</td>\n",
       "      <td>Kerberos::Network</td>\n",
       "      <td>reln: kerberos, network, ntlm</td>\n",
       "    </tr>\n",
       "  </tbody>\n",
       "</table>\n",
       "</div>"
      ],
      "text/plain": [
       "         constant_edge_label auth_type logontype               reln  \\\n",
       "3181846                    1         ?         ?               ?::?   \n",
       "3637183                    1      NTLM   Network      NTLM::Network   \n",
       "3527822                    1  Kerberos   Network  Kerberos::Network   \n",
       "2972171                    1  Kerberos   Network  Kerberos::Network   \n",
       "1844173                    1         ?   Network         ?::Network   \n",
       "3405729                    1         ?   Network         ?::Network   \n",
       "703185                     1  Kerberos   Network  Kerberos::Network   \n",
       "3827554                    1         ?   Network         ?::Network   \n",
       "2057222                    1         ?   Network         ?::Network   \n",
       "2072045                    1  Kerberos   Network  Kerberos::Network   \n",
       "\n",
       "                            reln_topic  \n",
       "3181846        reln: batch, ntlm, wave  \n",
       "3637183  reln: kerberos, network, ntlm  \n",
       "3527822  reln: kerberos, network, ntlm  \n",
       "2972171  reln: kerberos, network, ntlm  \n",
       "1844173  reln: kerberos, network, ntlm  \n",
       "3405729  reln: kerberos, network, ntlm  \n",
       "703185   reln: kerberos, network, ntlm  \n",
       "3827554  reln: kerberos, network, ntlm  \n",
       "2057222  reln: kerberos, network, ntlm  \n",
       "2072045  reln: kerberos, network, ntlm  "
      ]
     },
     "execution_count": 22,
     "metadata": {},
     "output_type": "execute_result"
    }
   ],
   "source": [
    "print({\n",
    "    v: df3[v].nunique()\n",
    "    for v in ['constant_edge_label', 'auth_type', 'logontype', 'reln', 'reln_topic']\n",
    "})\n",
    "\n",
    "df3[['constant_edge_label', 'auth_type', 'logontype', 'reln', 'reln_topic']].sample(10)"
   ]
  },
  {
   "cell_type": "markdown",
   "id": "9447df0d-cccf-468a-8dfd-4cab4dc86e79",
   "metadata": {
    "tags": []
   },
   "source": [
    "# Model training\n",
    "\n",
    "Graph: `(computer)-[event]->(computer)`\n",
    "\n",
    "Edge relationship variants:  untyped, `auth_type`, `auth_type::logontype`, topic model `auth_type::logontype`\n",
    "Node feature variants: none, sampled\n"
   ]
  },
  {
   "cell_type": "markdown",
   "id": "cb274aa6-9380-4397-b154-8ddd66be4f24",
   "metadata": {},
   "source": [
    "## Graph shape"
   ]
  },
  {
   "cell_type": "code",
   "execution_count": 23,
   "id": "3f22438e-8773-47f2-ba6d-61f901a8ba87",
   "metadata": {
    "execution": {
     "iopub.execute_input": "2022-12-02T16:17:57.499934Z",
     "iopub.status.busy": "2022-12-02T16:17:57.499853Z",
     "iopub.status.idle": "2022-12-02T16:17:57.514981Z",
     "shell.execute_reply": "2022-12-02T16:17:57.514754Z",
     "shell.execute_reply.started": "2022-12-02T16:17:57.499923Z"
    },
    "tags": []
   },
   "outputs": [],
   "source": [
    "# simple: graphistry.edges(df3, SRC, DST)\n",
    "\n",
    "g = (\n",
    "    graphistry\n",
    "    .nodes(pd.concat([nodes, X], axis=1), NODE) ## adds computed node features\n",
    "    .edges(df3, SRC, DST)\n",
    ")"
   ]
  },
  {
   "cell_type": "markdown",
   "id": "f345a950-4664-4cc2-b3ce-1feb38e325d5",
   "metadata": {
    "tags": []
   },
   "source": [
    "## Node & edge data"
   ]
  },
  {
   "cell_type": "code",
   "execution_count": 24,
   "id": "d40be736-b25a-4806-a2cd-74947faacff8",
   "metadata": {
    "execution": {
     "iopub.execute_input": "2022-12-02T16:17:57.515438Z",
     "iopub.status.busy": "2022-12-02T16:17:57.515358Z",
     "iopub.status.idle": "2022-12-02T16:17:57.527839Z",
     "shell.execute_reply": "2022-12-02T16:17:57.527547Z",
     "shell.execute_reply.started": "2022-12-02T16:17:57.515428Z"
    },
    "tags": []
   },
   "outputs": [
    {
     "name": "stdout",
     "output_type": "stream",
     "text": [
      "(10904, 46)\n"
     ]
    },
    {
     "data": {
      "text/html": [
       "<div>\n",
       "<style scoped>\n",
       "    .dataframe tbody tr th:only-of-type {\n",
       "        vertical-align: middle;\n",
       "    }\n",
       "\n",
       "    .dataframe tbody tr th {\n",
       "        vertical-align: top;\n",
       "    }\n",
       "\n",
       "    .dataframe thead th {\n",
       "        text-align: right;\n",
       "    }\n",
       "</style>\n",
       "<table border=\"1\" class=\"dataframe\">\n",
       "  <thead>\n",
       "    <tr style=\"text-align: right;\">\n",
       "      <th></th>\n",
       "      <th>computer</th>\n",
       "      <th>out_time_min</th>\n",
       "      <th>out_time_max</th>\n",
       "      <th>out_time_mean</th>\n",
       "      <th>out_dst_domain_mode</th>\n",
       "      <th>out_dst_domain_count</th>\n",
       "      <th>out_dst_computer_mode</th>\n",
       "      <th>out_dst_computer_count</th>\n",
       "      <th>out_auth_type_mode</th>\n",
       "      <th>out_auth_type_count</th>\n",
       "      <th>...</th>\n",
       "      <th>reln: remoteinteractive, interactive, ntlm</th>\n",
       "      <th>reln: microsoft_authentication_package_v1, microsoft_authentication_package_v, microsoft_authentication_package_</th>\n",
       "      <th>reln: kerberos, network, ntlm</th>\n",
       "      <th>reln: newcredentials, ntlm, wave</th>\n",
       "      <th>reln: microsoft_authentication_package_v1_0, microsoft_authentication_package_v1_, microsoft_authentication_package_v1</th>\n",
       "      <th>reln: networkcleartext, ntlm, wave</th>\n",
       "      <th>reln: service, ntlm, wave</th>\n",
       "      <th>reln: unlock, wave, ntlm</th>\n",
       "      <th>reln: cachedinteractive, interactive, ntlm</th>\n",
       "      <th>reln: microsoft_authentica, microsoft_authentication_pa, microsoft_authentication_pac</th>\n",
       "    </tr>\n",
       "  </thead>\n",
       "  <tbody>\n",
       "    <tr>\n",
       "      <th>554</th>\n",
       "      <td>C1476</td>\n",
       "      <td>0.0</td>\n",
       "      <td>0.0</td>\n",
       "      <td>0.0</td>\n",
       "      <td></td>\n",
       "      <td>0.0</td>\n",
       "      <td></td>\n",
       "      <td>0.0</td>\n",
       "      <td></td>\n",
       "      <td>0.0</td>\n",
       "      <td>...</td>\n",
       "      <td>NaN</td>\n",
       "      <td>NaN</td>\n",
       "      <td>NaN</td>\n",
       "      <td>NaN</td>\n",
       "      <td>NaN</td>\n",
       "      <td>NaN</td>\n",
       "      <td>NaN</td>\n",
       "      <td>NaN</td>\n",
       "      <td>NaN</td>\n",
       "      <td>NaN</td>\n",
       "    </tr>\n",
       "    <tr>\n",
       "      <th>8324</th>\n",
       "      <td>C15964</td>\n",
       "      <td>0.0</td>\n",
       "      <td>0.0</td>\n",
       "      <td>0.0</td>\n",
       "      <td></td>\n",
       "      <td>0.0</td>\n",
       "      <td></td>\n",
       "      <td>0.0</td>\n",
       "      <td></td>\n",
       "      <td>0.0</td>\n",
       "      <td>...</td>\n",
       "      <td>NaN</td>\n",
       "      <td>NaN</td>\n",
       "      <td>NaN</td>\n",
       "      <td>NaN</td>\n",
       "      <td>NaN</td>\n",
       "      <td>NaN</td>\n",
       "      <td>NaN</td>\n",
       "      <td>NaN</td>\n",
       "      <td>NaN</td>\n",
       "      <td>NaN</td>\n",
       "    </tr>\n",
       "    <tr>\n",
       "      <th>10540</th>\n",
       "      <td>C5684</td>\n",
       "      <td>0.0</td>\n",
       "      <td>0.0</td>\n",
       "      <td>0.0</td>\n",
       "      <td></td>\n",
       "      <td>0.0</td>\n",
       "      <td></td>\n",
       "      <td>0.0</td>\n",
       "      <td></td>\n",
       "      <td>0.0</td>\n",
       "      <td>...</td>\n",
       "      <td>NaN</td>\n",
       "      <td>NaN</td>\n",
       "      <td>NaN</td>\n",
       "      <td>NaN</td>\n",
       "      <td>NaN</td>\n",
       "      <td>NaN</td>\n",
       "      <td>NaN</td>\n",
       "      <td>NaN</td>\n",
       "      <td>NaN</td>\n",
       "      <td>NaN</td>\n",
       "    </tr>\n",
       "    <tr>\n",
       "      <th>1933</th>\n",
       "      <td>C12857</td>\n",
       "      <td>0.0</td>\n",
       "      <td>0.0</td>\n",
       "      <td>0.0</td>\n",
       "      <td></td>\n",
       "      <td>0.0</td>\n",
       "      <td></td>\n",
       "      <td>0.0</td>\n",
       "      <td></td>\n",
       "      <td>0.0</td>\n",
       "      <td>...</td>\n",
       "      <td>NaN</td>\n",
       "      <td>NaN</td>\n",
       "      <td>NaN</td>\n",
       "      <td>NaN</td>\n",
       "      <td>NaN</td>\n",
       "      <td>NaN</td>\n",
       "      <td>NaN</td>\n",
       "      <td>NaN</td>\n",
       "      <td>NaN</td>\n",
       "      <td>NaN</td>\n",
       "    </tr>\n",
       "    <tr>\n",
       "      <th>2428</th>\n",
       "      <td>C14040</td>\n",
       "      <td>0.0</td>\n",
       "      <td>0.0</td>\n",
       "      <td>0.0</td>\n",
       "      <td></td>\n",
       "      <td>0.0</td>\n",
       "      <td></td>\n",
       "      <td>0.0</td>\n",
       "      <td></td>\n",
       "      <td>0.0</td>\n",
       "      <td>...</td>\n",
       "      <td>NaN</td>\n",
       "      <td>NaN</td>\n",
       "      <td>NaN</td>\n",
       "      <td>NaN</td>\n",
       "      <td>NaN</td>\n",
       "      <td>NaN</td>\n",
       "      <td>NaN</td>\n",
       "      <td>NaN</td>\n",
       "      <td>NaN</td>\n",
       "      <td>NaN</td>\n",
       "    </tr>\n",
       "  </tbody>\n",
       "</table>\n",
       "<p>5 rows × 46 columns</p>\n",
       "</div>"
      ],
      "text/plain": [
       "      computer  out_time_min  out_time_max  out_time_mean out_dst_domain_mode  \\\n",
       "554      C1476           0.0           0.0            0.0                       \n",
       "8324    C15964           0.0           0.0            0.0                       \n",
       "10540    C5684           0.0           0.0            0.0                       \n",
       "1933    C12857           0.0           0.0            0.0                       \n",
       "2428    C14040           0.0           0.0            0.0                       \n",
       "\n",
       "       out_dst_domain_count out_dst_computer_mode  out_dst_computer_count  \\\n",
       "554                     0.0                                           0.0   \n",
       "8324                    0.0                                           0.0   \n",
       "10540                   0.0                                           0.0   \n",
       "1933                    0.0                                           0.0   \n",
       "2428                    0.0                                           0.0   \n",
       "\n",
       "      out_auth_type_mode  out_auth_type_count  ...  \\\n",
       "554                                       0.0  ...   \n",
       "8324                                      0.0  ...   \n",
       "10540                                     0.0  ...   \n",
       "1933                                      0.0  ...   \n",
       "2428                                      0.0  ...   \n",
       "\n",
       "      reln: remoteinteractive, interactive, ntlm  \\\n",
       "554                                          NaN   \n",
       "8324                                         NaN   \n",
       "10540                                        NaN   \n",
       "1933                                         NaN   \n",
       "2428                                         NaN   \n",
       "\n",
       "       reln: microsoft_authentication_package_v1, microsoft_authentication_package_v, microsoft_authentication_package_  \\\n",
       "554                                                  NaN                                                                  \n",
       "8324                                                 NaN                                                                  \n",
       "10540                                                NaN                                                                  \n",
       "1933                                                 NaN                                                                  \n",
       "2428                                                 NaN                                                                  \n",
       "\n",
       "      reln: kerberos, network, ntlm  reln: newcredentials, ntlm, wave  \\\n",
       "554                             NaN                               NaN   \n",
       "8324                            NaN                               NaN   \n",
       "10540                           NaN                               NaN   \n",
       "1933                            NaN                               NaN   \n",
       "2428                            NaN                               NaN   \n",
       "\n",
       "      reln: microsoft_authentication_package_v1_0, microsoft_authentication_package_v1_, microsoft_authentication_package_v1  \\\n",
       "554                                                  NaN                                                                       \n",
       "8324                                                 NaN                                                                       \n",
       "10540                                                NaN                                                                       \n",
       "1933                                                 NaN                                                                       \n",
       "2428                                                 NaN                                                                       \n",
       "\n",
       "       reln: networkcleartext, ntlm, wave  reln: service, ntlm, wave  \\\n",
       "554                                   NaN                        NaN   \n",
       "8324                                  NaN                        NaN   \n",
       "10540                                 NaN                        NaN   \n",
       "1933                                  NaN                        NaN   \n",
       "2428                                  NaN                        NaN   \n",
       "\n",
       "       reln: unlock, wave, ntlm  reln: cachedinteractive, interactive, ntlm  \\\n",
       "554                         NaN                                         NaN   \n",
       "8324                        NaN                                         NaN   \n",
       "10540                       NaN                                         NaN   \n",
       "1933                        NaN                                         NaN   \n",
       "2428                        NaN                                         NaN   \n",
       "\n",
       "      reln: microsoft_authentica, microsoft_authentication_pa, microsoft_authentication_pac  \n",
       "554                                                  NaN                                     \n",
       "8324                                                 NaN                                     \n",
       "10540                                                NaN                                     \n",
       "1933                                                 NaN                                     \n",
       "2428                                                 NaN                                     \n",
       "\n",
       "[5 rows x 46 columns]"
      ]
     },
     "execution_count": 24,
     "metadata": {},
     "output_type": "execute_result"
    }
   ],
   "source": [
    "print(g._nodes.shape)\n",
    "g._nodes.sample(5)"
   ]
  },
  {
   "cell_type": "code",
   "execution_count": 25,
   "id": "e60861e3-1ad9-42f4-8e77-d2d221037bb6",
   "metadata": {
    "execution": {
     "iopub.execute_input": "2022-12-02T16:17:57.528308Z",
     "iopub.status.busy": "2022-12-02T16:17:57.528217Z",
     "iopub.status.idle": "2022-12-02T16:17:57.600979Z",
     "shell.execute_reply": "2022-12-02T16:17:57.600753Z",
     "shell.execute_reply.started": "2022-12-02T16:17:57.528297Z"
    },
    "tags": []
   },
   "outputs": [
    {
     "name": "stdout",
     "output_type": "stream",
     "text": [
      "(4000010, 13)\n"
     ]
    },
    {
     "data": {
      "text/html": [
       "<div>\n",
       "<style scoped>\n",
       "    .dataframe tbody tr th:only-of-type {\n",
       "        vertical-align: middle;\n",
       "    }\n",
       "\n",
       "    .dataframe tbody tr th {\n",
       "        vertical-align: top;\n",
       "    }\n",
       "\n",
       "    .dataframe thead th {\n",
       "        text-align: right;\n",
       "    }\n",
       "</style>\n",
       "<table border=\"1\" class=\"dataframe\">\n",
       "  <thead>\n",
       "    <tr style=\"text-align: right;\">\n",
       "      <th></th>\n",
       "      <th>time</th>\n",
       "      <th>src_domain</th>\n",
       "      <th>dst_domain</th>\n",
       "      <th>src_computer</th>\n",
       "      <th>dst_computer</th>\n",
       "      <th>auth_type</th>\n",
       "      <th>logontype</th>\n",
       "      <th>authentication_orientation</th>\n",
       "      <th>success_or_failure</th>\n",
       "      <th>RED</th>\n",
       "      <th>constant_edge_label</th>\n",
       "      <th>reln</th>\n",
       "      <th>reln_topic</th>\n",
       "    </tr>\n",
       "  </thead>\n",
       "  <tbody>\n",
       "    <tr>\n",
       "      <th>2919189</th>\n",
       "      <td>165394</td>\n",
       "      <td>C1620$@DOM1</td>\n",
       "      <td>C1620$@DOM1</td>\n",
       "      <td>C1621</td>\n",
       "      <td>C528</td>\n",
       "      <td>?</td>\n",
       "      <td>?</td>\n",
       "      <td>TGS</td>\n",
       "      <td>Success</td>\n",
       "      <td>0.0</td>\n",
       "      <td>1</td>\n",
       "      <td>?::?</td>\n",
       "      <td>reln: batch, ntlm, wave</td>\n",
       "    </tr>\n",
       "    <tr>\n",
       "      <th>3926399</th>\n",
       "      <td>45204</td>\n",
       "      <td>ANONYMOUS LOGON@C586</td>\n",
       "      <td>ANONYMOUS LOGON@C586</td>\n",
       "      <td>C2654</td>\n",
       "      <td>C586</td>\n",
       "      <td>NTLM</td>\n",
       "      <td>Network</td>\n",
       "      <td>LogOn</td>\n",
       "      <td>Success</td>\n",
       "      <td>0.0</td>\n",
       "      <td>1</td>\n",
       "      <td>NTLM::Network</td>\n",
       "      <td>reln: kerberos, network, ntlm</td>\n",
       "    </tr>\n",
       "    <tr>\n",
       "      <th>390234</th>\n",
       "      <td>14983</td>\n",
       "      <td>U6@DOM1</td>\n",
       "      <td>U6@DOM1</td>\n",
       "      <td>C61</td>\n",
       "      <td>C61</td>\n",
       "      <td>?</td>\n",
       "      <td>Network</td>\n",
       "      <td>LogOff</td>\n",
       "      <td>Success</td>\n",
       "      <td>0.0</td>\n",
       "      <td>1</td>\n",
       "      <td>?::Network</td>\n",
       "      <td>reln: kerberos, network, ntlm</td>\n",
       "    </tr>\n",
       "    <tr>\n",
       "      <th>2017626</th>\n",
       "      <td>47099</td>\n",
       "      <td>C1085$@DOM1</td>\n",
       "      <td>C1085$@DOM1</td>\n",
       "      <td>C467</td>\n",
       "      <td>C467</td>\n",
       "      <td>?</td>\n",
       "      <td>Network</td>\n",
       "      <td>LogOff</td>\n",
       "      <td>Success</td>\n",
       "      <td>0.0</td>\n",
       "      <td>1</td>\n",
       "      <td>?::Network</td>\n",
       "      <td>reln: kerberos, network, ntlm</td>\n",
       "    </tr>\n",
       "    <tr>\n",
       "      <th>3126304</th>\n",
       "      <td>138945</td>\n",
       "      <td>ANONYMOUS LOGON@C2106</td>\n",
       "      <td>ANONYMOUS LOGON@C2106</td>\n",
       "      <td>C8416</td>\n",
       "      <td>C2106</td>\n",
       "      <td>NTLM</td>\n",
       "      <td>Network</td>\n",
       "      <td>LogOn</td>\n",
       "      <td>Success</td>\n",
       "      <td>0.0</td>\n",
       "      <td>1</td>\n",
       "      <td>NTLM::Network</td>\n",
       "      <td>reln: kerberos, network, ntlm</td>\n",
       "    </tr>\n",
       "  </tbody>\n",
       "</table>\n",
       "</div>"
      ],
      "text/plain": [
       "           time             src_domain             dst_domain src_computer  \\\n",
       "2919189  165394            C1620$@DOM1            C1620$@DOM1        C1621   \n",
       "3926399   45204   ANONYMOUS LOGON@C586   ANONYMOUS LOGON@C586        C2654   \n",
       "390234    14983                U6@DOM1                U6@DOM1          C61   \n",
       "2017626   47099            C1085$@DOM1            C1085$@DOM1         C467   \n",
       "3126304  138945  ANONYMOUS LOGON@C2106  ANONYMOUS LOGON@C2106        C8416   \n",
       "\n",
       "        dst_computer auth_type logontype authentication_orientation  \\\n",
       "2919189         C528         ?         ?                        TGS   \n",
       "3926399         C586      NTLM   Network                      LogOn   \n",
       "390234           C61         ?   Network                     LogOff   \n",
       "2017626         C467         ?   Network                     LogOff   \n",
       "3126304        C2106      NTLM   Network                      LogOn   \n",
       "\n",
       "        success_or_failure  RED  constant_edge_label           reln  \\\n",
       "2919189            Success  0.0                    1           ?::?   \n",
       "3926399            Success  0.0                    1  NTLM::Network   \n",
       "390234             Success  0.0                    1     ?::Network   \n",
       "2017626            Success  0.0                    1     ?::Network   \n",
       "3126304            Success  0.0                    1  NTLM::Network   \n",
       "\n",
       "                            reln_topic  \n",
       "2919189        reln: batch, ntlm, wave  \n",
       "3926399  reln: kerberos, network, ntlm  \n",
       "390234   reln: kerberos, network, ntlm  \n",
       "2017626  reln: kerberos, network, ntlm  \n",
       "3126304  reln: kerberos, network, ntlm  "
      ]
     },
     "execution_count": 25,
     "metadata": {},
     "output_type": "execute_result"
    }
   ],
   "source": [
    "print(g._edges.shape)\n",
    "g._edges.sample(5)"
   ]
  },
  {
   "cell_type": "markdown",
   "id": "fc142a4c-8439-4e8e-b10f-df7f6917cc88",
   "metadata": {},
   "source": [
    "## Train"
   ]
  },
  {
   "cell_type": "code",
   "execution_count": 26,
   "id": "51a76d2e-a3ec-4220-aaab-03816a622d99",
   "metadata": {
    "execution": {
     "iopub.execute_input": "2022-12-02T16:17:57.601470Z",
     "iopub.status.busy": "2022-12-02T16:17:57.601391Z",
     "iopub.status.idle": "2022-12-02T16:17:57.603353Z",
     "shell.execute_reply": "2022-12-02T16:17:57.603132Z",
     "shell.execute_reply.started": "2022-12-02T16:17:57.601459Z"
    },
    "tags": []
   },
   "outputs": [],
   "source": [
    "# If GPU/CPU RAM low, try to free up\n",
    "if True:\n",
    "    g.reset_caches()\n",
    "    torch.cuda.empty_cache()"
   ]
  },
  {
   "cell_type": "markdown",
   "id": "9dc2f148-75a5-4742-9f58-095e779dd67c",
   "metadata": {},
   "source": [
    "Resumable -- want to run for more epochs? Just run the cell again 🚀"
   ]
  },
  {
   "cell_type": "code",
   "execution_count": 36,
   "id": "51d58fa6",
   "metadata": {
    "execution": {
     "iopub.execute_input": "2022-12-02T17:02:49.786702Z",
     "iopub.status.busy": "2022-12-02T17:02:49.786399Z",
     "iopub.status.idle": "2022-12-02T17:04:43.857634Z",
     "shell.execute_reply": "2022-12-02T17:04:43.857385Z",
     "shell.execute_reply.started": "2022-12-02T17:02:49.786682Z"
    },
    "tags": []
   },
   "outputs": [
    {
     "name": "stdout",
     "output_type": "stream",
     "text": [
      "Preprocessing embedding data\n",
      "--Splitting data\n",
      "--num_nodes: 10888,                 num_relationships: 1\n",
      "Training embedding\n",
      "--Reusing previous model\n"
     ]
    },
    {
     "name": "stderr",
     "output_type": "stream",
     "text": [
      "epoch: 2, loss: 0.3476, score: 72.2907%:   5%|▌         | 1/20 [00:05<01:43,  5.44s/it]"
     ]
    },
    {
     "name": "stdout",
     "output_type": "stream",
     "text": [
      "Evaluating...\n",
      "--took 0.01 minutes to evaluate\n"
     ]
    },
    {
     "name": "stderr",
     "output_type": "stream",
     "text": [
      "epoch: 3, loss: 0.3514, score: 73.3732%:  10%|█         | 2/20 [00:11<01:38,  5.47s/it]"
     ]
    },
    {
     "name": "stdout",
     "output_type": "stream",
     "text": [
      "Evaluating...\n",
      "--took 0.01 minutes to evaluate\n"
     ]
    },
    {
     "name": "stderr",
     "output_type": "stream",
     "text": [
      "epoch: 4, loss: 0.3443, score: 72.9257%:  15%|█▌        | 3/20 [00:16<01:32,  5.47s/it]"
     ]
    },
    {
     "name": "stdout",
     "output_type": "stream",
     "text": [
      "Evaluating...\n",
      "--took 0.01 minutes to evaluate\n"
     ]
    },
    {
     "name": "stderr",
     "output_type": "stream",
     "text": [
      "epoch: 5, loss: 0.3415, score: 74.2381%:  20%|██        | 4/20 [00:21<01:26,  5.43s/it]"
     ]
    },
    {
     "name": "stdout",
     "output_type": "stream",
     "text": [
      "Evaluating...\n",
      "--took 0.01 minutes to evaluate\n"
     ]
    },
    {
     "name": "stderr",
     "output_type": "stream",
     "text": [
      "epoch: 6, loss: 0.3414, score: 73.5282%:  25%|██▌       | 5/20 [00:27<01:21,  5.42s/it]"
     ]
    },
    {
     "name": "stdout",
     "output_type": "stream",
     "text": [
      "Evaluating...\n",
      "--took 0.01 minutes to evaluate\n"
     ]
    },
    {
     "name": "stderr",
     "output_type": "stream",
     "text": [
      "epoch: 7, loss: 0.3446, score: 72.3357%:  30%|███       | 6/20 [00:32<01:15,  5.40s/it]"
     ]
    },
    {
     "name": "stdout",
     "output_type": "stream",
     "text": [
      "Evaluating...\n",
      "--took 0.01 minutes to evaluate\n"
     ]
    },
    {
     "name": "stderr",
     "output_type": "stream",
     "text": [
      "epoch: 8, loss: 0.3437, score: 75.5781%:  35%|███▌      | 7/20 [00:38<01:10,  5.42s/it]"
     ]
    },
    {
     "name": "stdout",
     "output_type": "stream",
     "text": [
      "Evaluating...\n",
      "--took 0.01 minutes to evaluate\n"
     ]
    },
    {
     "name": "stderr",
     "output_type": "stream",
     "text": [
      "epoch: 9, loss: 0.3354, score: 72.5582%:  40%|████      | 8/20 [00:43<01:05,  5.48s/it]"
     ]
    },
    {
     "name": "stdout",
     "output_type": "stream",
     "text": [
      "Evaluating...\n",
      "--took 0.01 minutes to evaluate\n"
     ]
    },
    {
     "name": "stderr",
     "output_type": "stream",
     "text": [
      "epoch: 10, loss: 0.3415, score: 72.4707%:  45%|████▌     | 9/20 [00:49<01:00,  5.48s/it]"
     ]
    },
    {
     "name": "stdout",
     "output_type": "stream",
     "text": [
      "Evaluating...\n",
      "--took 0.01 minutes to evaluate\n"
     ]
    },
    {
     "name": "stderr",
     "output_type": "stream",
     "text": [
      "epoch: 11, loss: 0.3326, score: 73.1382%:  50%|█████     | 10/20 [00:54<00:54,  5.44s/it]"
     ]
    },
    {
     "name": "stdout",
     "output_type": "stream",
     "text": [
      "Evaluating...\n",
      "--took 0.01 minutes to evaluate\n"
     ]
    },
    {
     "name": "stderr",
     "output_type": "stream",
     "text": [
      "epoch: 12, loss: 0.3382, score: 74.3431%:  55%|█████▌    | 11/20 [00:59<00:48,  5.41s/it]"
     ]
    },
    {
     "name": "stdout",
     "output_type": "stream",
     "text": [
      "Evaluating...\n",
      "--took 0.01 minutes to evaluate\n"
     ]
    },
    {
     "name": "stderr",
     "output_type": "stream",
     "text": [
      "epoch: 13, loss: 0.3347, score: 73.6782%:  60%|██████    | 12/20 [01:05<00:43,  5.41s/it]"
     ]
    },
    {
     "name": "stdout",
     "output_type": "stream",
     "text": [
      "Evaluating...\n",
      "--took 0.01 minutes to evaluate\n"
     ]
    },
    {
     "name": "stderr",
     "output_type": "stream",
     "text": [
      "epoch: 14, loss: 0.3373, score: 73.6907%:  65%|██████▌   | 13/20 [01:10<00:37,  5.40s/it]"
     ]
    },
    {
     "name": "stdout",
     "output_type": "stream",
     "text": [
      "Evaluating...\n",
      "--took 0.01 minutes to evaluate\n"
     ]
    },
    {
     "name": "stderr",
     "output_type": "stream",
     "text": [
      "epoch: 15, loss: 0.3312, score: 73.1132%:  70%|███████   | 14/20 [01:16<00:32,  5.41s/it]"
     ]
    },
    {
     "name": "stdout",
     "output_type": "stream",
     "text": [
      "Evaluating...\n",
      "--took 0.01 minutes to evaluate\n"
     ]
    },
    {
     "name": "stderr",
     "output_type": "stream",
     "text": [
      "epoch: 16, loss: 0.3351, score: 74.1356%:  75%|███████▌  | 15/20 [01:21<00:27,  5.45s/it]"
     ]
    },
    {
     "name": "stdout",
     "output_type": "stream",
     "text": [
      "Evaluating...\n",
      "--took 0.01 minutes to evaluate\n"
     ]
    },
    {
     "name": "stderr",
     "output_type": "stream",
     "text": [
      "epoch: 17, loss: 0.3237, score: 74.9081%:  80%|████████  | 16/20 [01:27<00:21,  5.45s/it]"
     ]
    },
    {
     "name": "stdout",
     "output_type": "stream",
     "text": [
      "Evaluating...\n",
      "--took 0.01 minutes to evaluate\n"
     ]
    },
    {
     "name": "stderr",
     "output_type": "stream",
     "text": [
      "epoch: 18, loss: 0.3369, score: 73.6882%:  85%|████████▌ | 17/20 [01:32<00:16,  5.45s/it]"
     ]
    },
    {
     "name": "stdout",
     "output_type": "stream",
     "text": [
      "Evaluating...\n",
      "--took 0.01 minutes to evaluate\n"
     ]
    },
    {
     "name": "stderr",
     "output_type": "stream",
     "text": [
      "epoch: 19, loss: 0.3278, score: 72.9782%:  90%|█████████ | 18/20 [01:37<00:10,  5.43s/it]"
     ]
    },
    {
     "name": "stdout",
     "output_type": "stream",
     "text": [
      "Evaluating...\n",
      "--took 0.01 minutes to evaluate\n"
     ]
    },
    {
     "name": "stderr",
     "output_type": "stream",
     "text": [
      "epoch: 20, loss: 0.3266, score: 73.7532%:  95%|█████████▌| 19/20 [01:43<00:05,  5.45s/it]"
     ]
    },
    {
     "name": "stdout",
     "output_type": "stream",
     "text": [
      "Evaluating...\n",
      "--took 0.01 minutes to evaluate\n"
     ]
    },
    {
     "name": "stderr",
     "output_type": "stream",
     "text": [
      "epoch: 20, loss: 0.3261, score: 73.33%: 100%|██████████| 20/20 [01:49<00:00,  5.45s/it]  "
     ]
    },
    {
     "name": "stdout",
     "output_type": "stream",
     "text": [
      "Evaluating...\n",
      "--took 0.01 minutes to evaluate\n"
     ]
    },
    {
     "name": "stderr",
     "output_type": "stream",
     "text": [
      "\n"
     ]
    }
   ],
   "source": [
    "is_gpu = True\n",
    "\n",
    "# CPU + GPU both work!\n",
    "# GPUs tested:\n",
    "#   20-40M rows: 2 x GPUs (24 GB GPU RAM ea)\n",
    "#   4M rows: 1 x 3080 Ti GPU  (12 GB GPU RAM)\n",
    "# CPU: 32 GB RAM\n",
    "\n",
    "dev0 = 'cpu'\n",
    "if is_gpu:\n",
    "    dev0 = 'cuda'\n",
    "\n",
    "g2 = g.embed(\n",
    "\n",
    "    #relation='constant_edge_label',\n",
    "    #relation='auth_type',\n",
    "    #relation='reln',\n",
    "    #relation='reln_topic'\n",
    "\n",
    "    #proto='RotatE',\n",
    "    #proto='DistMult', ##default\n",
    "    #proto='TransE',\n",
    "\n",
    "    #if nodes: g.nodes(...), then g.embed(use_feats=True, X=['col1', ..], and optionally, y=['col10', ..]\n",
    "    use_feat=True, #nodes with attributes\n",
    "    X=[NODE] + good_feats,\n",
    "    #cardinality_threshold=len(g._edges)+1, #avoid topic modeling on high-cardinality cols\n",
    "    #min_words=len(g._edges)+1,  #avoid topic modeling on high-cardinality cols\n",
    "\n",
    "    ##n_topics=21,\n",
    "\n",
    "    train_split=0.99,\n",
    "    batch_size=32,\n",
    "    embedding_dim=32,\n",
    "    evaluate=True,\n",
    "    lr=0.004,  # 0.002, ..\n",
    "    device=dev0,\n",
    "\n",
    "    epochs=20,  # 20 if no features & 4M samples, 60+ if node features: \n",
    "                # increase/rerun till score 85%+\n",
    ")"
   ]
  },
  {
   "cell_type": "markdown",
   "id": "53072897-f2e4-49bb-984d-f3eee240f995",
   "metadata": {
    "jp-MarkdownHeadingCollapsed": true,
    "tags": []
   },
   "source": [
    "## Inspect model"
   ]
  },
  {
   "cell_type": "code",
   "execution_count": 27,
   "id": "82d72cb1-c450-42c0-a8d0-9a1b790241e9",
   "metadata": {
    "execution": {
     "iopub.execute_input": "2022-12-02T08:38:01.178804Z",
     "iopub.status.busy": "2022-12-02T08:38:01.178546Z",
     "iopub.status.idle": "2022-12-02T08:38:01.181638Z",
     "shell.execute_reply": "2022-12-02T08:38:01.181347Z",
     "shell.execute_reply.started": "2022-12-02T08:38:01.178787Z"
    },
    "tags": []
   },
   "outputs": [
    {
     "data": {
      "text/plain": [
       "HeteroEmbed(\n",
       "  (rgcn): RGCNEmbed(\n",
       "    (emb): Embedding(10888, 32)\n",
       "    (rgc1): RelGraphConv(\n",
       "      (linear_r): TypedLinear(in_size=32, out_size=32, num_types=1, regularizer=bdd, num_bases=32)\n",
       "      (dropout): Dropout(p=0.0, inplace=False)\n",
       "    )\n",
       "    (rgc2): RelGraphConv(\n",
       "      (linear_r): TypedLinear(in_size=32, out_size=32, num_types=1)\n",
       "      (dropout): Dropout(p=0.0, inplace=False)\n",
       "    )\n",
       "    (dropout): Dropout(p=0.2, inplace=False)\n",
       "  )\n",
       ")"
      ]
     },
     "execution_count": 27,
     "metadata": {},
     "output_type": "execute_result"
    }
   ],
   "source": [
    "g2._embed_model"
   ]
  },
  {
   "cell_type": "code",
   "execution_count": 28,
   "id": "4b6fd280-8624-46a2-97e0-fd2ec7440271",
   "metadata": {
    "execution": {
     "iopub.execute_input": "2022-12-02T08:38:01.771551Z",
     "iopub.status.busy": "2022-12-02T08:38:01.771229Z",
     "iopub.status.idle": "2022-12-02T08:38:01.774096Z",
     "shell.execute_reply": "2022-12-02T08:38:01.773802Z",
     "shell.execute_reply.started": "2022-12-02T08:38:01.771535Z"
    },
    "tags": []
   },
   "outputs": [
    {
     "data": {
      "text/plain": [
       "torch.Size([1, 32])"
      ]
     },
     "execution_count": 28,
     "metadata": {},
     "output_type": "execute_result"
    }
   ],
   "source": [
    "g2._embed_model.relational_embedding.shape"
   ]
  },
  {
   "cell_type": "code",
   "execution_count": 29,
   "id": "8f9a39e2-9651-4d7a-a6fd-dd1a86f2dbf1",
   "metadata": {
    "execution": {
     "iopub.execute_input": "2022-12-02T08:38:03.642181Z",
     "iopub.status.busy": "2022-12-02T08:38:03.641927Z",
     "iopub.status.idle": "2022-12-02T08:38:03.646193Z",
     "shell.execute_reply": "2022-12-02T08:38:03.645958Z",
     "shell.execute_reply.started": "2022-12-02T08:38:03.642156Z"
    },
    "tags": []
   },
   "outputs": [
    {
     "data": {
      "text/plain": [
       "(tensor(-0.4868, grad_fn=<MinBackward1>),\n",
       " tensor(0.0236, grad_fn=<MeanBackward0>),\n",
       " tensor(0.4513, grad_fn=<MaxBackward1>))"
      ]
     },
     "execution_count": 29,
     "metadata": {},
     "output_type": "execute_result"
    }
   ],
   "source": [
    "(\n",
    "    g2._embed_model.relational_embedding.min(),\n",
    "    g2._embed_model.relational_embedding.mean(),\n",
    "    g2._embed_model.relational_embedding.max()\n",
    ")"
   ]
  },
  {
   "cell_type": "markdown",
   "id": "8fe7ce7c-2c15-40b0-97c0-9b179d095ffa",
   "metadata": {},
   "source": [
    "## Explore hits"
   ]
  },
  {
   "cell_type": "code",
   "execution_count": 28,
   "id": "05c1e692-0e44-48e5-8b9d-6aa7ac788133",
   "metadata": {
    "execution": {
     "iopub.execute_input": "2022-12-02T16:19:47.668460Z",
     "iopub.status.busy": "2022-12-02T16:19:47.668376Z",
     "iopub.status.idle": "2022-12-02T16:19:47.670616Z",
     "shell.execute_reply": "2022-12-02T16:19:47.670396Z",
     "shell.execute_reply.started": "2022-12-02T16:19:47.668449Z"
    },
    "tags": []
   },
   "outputs": [],
   "source": [
    "def to_cpu(tensor):\n",
    "    \"\"\"\n",
    "    Helper for switching between is_gpu to avoid coercion errors\n",
    "    \"\"\"\n",
    "    if is_gpu:\n",
    "        return tensor.cpu()\n",
    "    else:\n",
    "        return tensor"
   ]
  },
  {
   "cell_type": "code",
   "execution_count": 37,
   "id": "1e33f5a9",
   "metadata": {
    "execution": {
     "iopub.execute_input": "2022-12-02T17:05:36.843657Z",
     "iopub.status.busy": "2022-12-02T17:05:36.843447Z",
     "iopub.status.idle": "2022-12-02T17:05:37.591189Z",
     "shell.execute_reply": "2022-12-02T17:05:37.590948Z",
     "shell.execute_reply.started": "2022-12-02T17:05:36.843640Z"
    },
    "tags": []
   },
   "outputs": [
    {
     "name": "stdout",
     "output_type": "stream",
     "text": [
      "CPU times: user 998 ms, sys: 27.8 ms, total: 1.03 s\n",
      "Wall time: 744 ms\n"
     ]
    },
    {
     "data": {
      "text/plain": [
       "(torch.Tensor, 3.049316e-08, 0.99901354)"
      ]
     },
     "execution_count": 37,
     "metadata": {},
     "output_type": "execute_result"
    }
   ],
   "source": [
    "%%time\n",
    "score2 = g2._score(g2._triplets)\n",
    "df['score'] = to_cpu(score2).numpy()\n",
    "type(score2), to_cpu(score2).numpy().min(), to_cpu(score2).numpy().max()"
   ]
  },
  {
   "cell_type": "code",
   "execution_count": 38,
   "id": "cff4f717-adf5-456f-b959-1e11c08bcd27",
   "metadata": {
    "execution": {
     "iopub.execute_input": "2022-12-02T17:05:37.591868Z",
     "iopub.status.busy": "2022-12-02T17:05:37.591779Z",
     "iopub.status.idle": "2022-12-02T17:05:37.604023Z",
     "shell.execute_reply": "2022-12-02T17:05:37.603790Z",
     "shell.execute_reply.started": "2022-12-02T17:05:37.591857Z"
    },
    "tags": []
   },
   "outputs": [
    {
     "name": "stdout",
     "output_type": "stream",
     "text": [
      "number within threshold (924, 11)\n"
     ]
    },
    {
     "data": {
      "text/html": [
       "<div>\n",
       "<style scoped>\n",
       "    .dataframe tbody tr th:only-of-type {\n",
       "        vertical-align: middle;\n",
       "    }\n",
       "\n",
       "    .dataframe tbody tr th {\n",
       "        vertical-align: top;\n",
       "    }\n",
       "\n",
       "    .dataframe thead th {\n",
       "        text-align: right;\n",
       "    }\n",
       "</style>\n",
       "<table border=\"1\" class=\"dataframe\">\n",
       "  <thead>\n",
       "    <tr style=\"text-align: right;\">\n",
       "      <th></th>\n",
       "      <th>index</th>\n",
       "      <th>time</th>\n",
       "      <th>src_domain</th>\n",
       "      <th>dst_domain</th>\n",
       "      <th>src_computer</th>\n",
       "      <th>dst_computer</th>\n",
       "      <th>auth_type</th>\n",
       "      <th>logontype</th>\n",
       "      <th>authentication_orientation</th>\n",
       "      <th>success_or_failure</th>\n",
       "      <th>RED</th>\n",
       "      <th>score</th>\n",
       "    </tr>\n",
       "  </thead>\n",
       "  <tbody>\n",
       "    <tr>\n",
       "      <th>0</th>\n",
       "      <td>4000000</td>\n",
       "      <td>151036</td>\n",
       "      <td>U748@DOM1</td>\n",
       "      <td>U748@DOM1</td>\n",
       "      <td>C17693</td>\n",
       "      <td>C305</td>\n",
       "      <td>NTLM</td>\n",
       "      <td>Network</td>\n",
       "      <td>LogOn</td>\n",
       "      <td>Success</td>\n",
       "      <td>1.0</td>\n",
       "      <td>0.006004</td>\n",
       "    </tr>\n",
       "    <tr>\n",
       "      <th>1</th>\n",
       "      <td>4000001</td>\n",
       "      <td>151648</td>\n",
       "      <td>U748@DOM1</td>\n",
       "      <td>U748@DOM1</td>\n",
       "      <td>C17693</td>\n",
       "      <td>C728</td>\n",
       "      <td>NTLM</td>\n",
       "      <td>Network</td>\n",
       "      <td>LogOn</td>\n",
       "      <td>Success</td>\n",
       "      <td>1.0</td>\n",
       "      <td>0.003731</td>\n",
       "    </tr>\n",
       "    <tr>\n",
       "      <th>2</th>\n",
       "      <td>4000003</td>\n",
       "      <td>153792</td>\n",
       "      <td>U636@DOM1</td>\n",
       "      <td>U636@DOM1</td>\n",
       "      <td>C17693</td>\n",
       "      <td>C294</td>\n",
       "      <td>NTLM</td>\n",
       "      <td>Network</td>\n",
       "      <td>LogOn</td>\n",
       "      <td>Success</td>\n",
       "      <td>1.0</td>\n",
       "      <td>0.020784</td>\n",
       "    </tr>\n",
       "    <tr>\n",
       "      <th>3</th>\n",
       "      <td>4000004</td>\n",
       "      <td>155219</td>\n",
       "      <td>U748@DOM1</td>\n",
       "      <td>U748@DOM1</td>\n",
       "      <td>C17693</td>\n",
       "      <td>C5693</td>\n",
       "      <td>NTLM</td>\n",
       "      <td>Network</td>\n",
       "      <td>LogOn</td>\n",
       "      <td>Success</td>\n",
       "      <td>1.0</td>\n",
       "      <td>0.023513</td>\n",
       "    </tr>\n",
       "    <tr>\n",
       "      <th>4</th>\n",
       "      <td>4000005</td>\n",
       "      <td>155399</td>\n",
       "      <td>U748@DOM1</td>\n",
       "      <td>U748@DOM1</td>\n",
       "      <td>C17693</td>\n",
       "      <td>C152</td>\n",
       "      <td>NTLM</td>\n",
       "      <td>Network</td>\n",
       "      <td>LogOn</td>\n",
       "      <td>Success</td>\n",
       "      <td>1.0</td>\n",
       "      <td>0.000488</td>\n",
       "    </tr>\n",
       "    <tr>\n",
       "      <th>5</th>\n",
       "      <td>4000007</td>\n",
       "      <td>155591</td>\n",
       "      <td>U748@DOM1</td>\n",
       "      <td>U748@DOM1</td>\n",
       "      <td>C17693</td>\n",
       "      <td>C332</td>\n",
       "      <td>NTLM</td>\n",
       "      <td>Network</td>\n",
       "      <td>LogOn</td>\n",
       "      <td>Success</td>\n",
       "      <td>1.0</td>\n",
       "      <td>0.006469</td>\n",
       "    </tr>\n",
       "    <tr>\n",
       "      <th>6</th>\n",
       "      <td>4000008</td>\n",
       "      <td>156658</td>\n",
       "      <td>U748@DOM1</td>\n",
       "      <td>U748@DOM1</td>\n",
       "      <td>C17693</td>\n",
       "      <td>C4280</td>\n",
       "      <td>NTLM</td>\n",
       "      <td>Network</td>\n",
       "      <td>LogOn</td>\n",
       "      <td>Success</td>\n",
       "      <td>1.0</td>\n",
       "      <td>0.005589</td>\n",
       "    </tr>\n",
       "    <tr>\n",
       "      <th>7</th>\n",
       "      <td>4000009</td>\n",
       "      <td>210086</td>\n",
       "      <td>U748@DOM1</td>\n",
       "      <td>U748@DOM1</td>\n",
       "      <td>C18025</td>\n",
       "      <td>C1493</td>\n",
       "      <td>NTLM</td>\n",
       "      <td>Network</td>\n",
       "      <td>LogOn</td>\n",
       "      <td>Success</td>\n",
       "      <td>1.0</td>\n",
       "      <td>0.009605</td>\n",
       "    </tr>\n",
       "  </tbody>\n",
       "</table>\n",
       "</div>"
      ],
      "text/plain": [
       "     index    time src_domain dst_domain src_computer dst_computer auth_type  \\\n",
       "0  4000000  151036  U748@DOM1  U748@DOM1       C17693         C305      NTLM   \n",
       "1  4000001  151648  U748@DOM1  U748@DOM1       C17693         C728      NTLM   \n",
       "2  4000003  153792  U636@DOM1  U636@DOM1       C17693         C294      NTLM   \n",
       "3  4000004  155219  U748@DOM1  U748@DOM1       C17693        C5693      NTLM   \n",
       "4  4000005  155399  U748@DOM1  U748@DOM1       C17693         C152      NTLM   \n",
       "5  4000007  155591  U748@DOM1  U748@DOM1       C17693         C332      NTLM   \n",
       "6  4000008  156658  U748@DOM1  U748@DOM1       C17693        C4280      NTLM   \n",
       "7  4000009  210086  U748@DOM1  U748@DOM1       C18025        C1493      NTLM   \n",
       "\n",
       "  logontype authentication_orientation success_or_failure  RED     score  \n",
       "0   Network                      LogOn            Success  1.0  0.006004  \n",
       "1   Network                      LogOn            Success  1.0  0.003731  \n",
       "2   Network                      LogOn            Success  1.0  0.020784  \n",
       "3   Network                      LogOn            Success  1.0  0.023513  \n",
       "4   Network                      LogOn            Success  1.0  0.000488  \n",
       "5   Network                      LogOn            Success  1.0  0.006469  \n",
       "6   Network                      LogOn            Success  1.0  0.005589  \n",
       "7   Network                      LogOn            Success  1.0  0.009605  "
      ]
     },
     "execution_count": 38,
     "metadata": {},
     "output_type": "execute_result"
    }
   ],
   "source": [
    "anom_edges2 = df[to_cpu(score2).numpy() < 0.03]\n",
    "\n",
    "print('number within threshold', anom_edges2.shape)\n",
    "\n",
    "anom_edges2[\n",
    "    anom_edges2['time'].isin(set(red_team[0])) &\n",
    "    anom_edges2['src_computer'].isin(set(red_team[2])) & \n",
    "    anom_edges2['dst_computer'].isin(set(red_team[3]))\n",
    "].reset_index()"
   ]
  },
  {
   "cell_type": "code",
   "execution_count": 31,
   "id": "7016d239",
   "metadata": {
    "execution": {
     "iopub.execute_input": "2022-12-02T16:19:48.401710Z",
     "iopub.status.busy": "2022-12-02T16:19:48.401633Z",
     "iopub.status.idle": "2022-12-02T16:19:48.563524Z",
     "shell.execute_reply": "2022-12-02T16:19:48.563242Z",
     "shell.execute_reply.started": "2022-12-02T16:19:48.401700Z"
    },
    "tags": []
   },
   "outputs": [],
   "source": [
    "srcindx = df.src_computer.isin(anom_label.src_computer)\n",
    "dstindx = df.dst_computer.isin(anom_label.dst_computer)\n",
    "srcscore = score2.cpu().numpy()[srcindx]\n",
    "dstscore = score2.cpu().numpy()[dstindx]"
   ]
  },
  {
   "cell_type": "code",
   "execution_count": null,
   "id": "35f01f4b-cf31-45a9-9d73-15219fac41e3",
   "metadata": {},
   "outputs": [],
   "source": [
    "sdf = df[srcindx | dstindx]\n",
    "sdf"
   ]
  },
  {
   "cell_type": "code",
   "execution_count": 33,
   "id": "0ca649cb",
   "metadata": {
    "execution": {
     "iopub.execute_input": "2022-12-02T16:19:48.574364Z",
     "iopub.status.busy": "2022-12-02T16:19:48.574272Z",
     "iopub.status.idle": "2022-12-02T16:19:50.205041Z",
     "shell.execute_reply": "2022-12-02T16:19:50.204590Z",
     "shell.execute_reply.started": "2022-12-02T16:19:48.574354Z"
    },
    "tags": []
   },
   "outputs": [
    {
     "data": {
      "text/plain": [
       "'https://hub.graphistry.com/graph/graph.html?dataset=3f5ec495b70449abad38834abafbccfc&type=arrow&viztoken=b274cd2e-e255-49bb-a5ce-34c6c9d54357&usertag=23693246-pygraphistry-0.28.4+78.g6f47e03&splashAfter=1669998005&info=true'"
      ]
     },
     "execution_count": 33,
     "metadata": {},
     "output_type": "execute_result"
    }
   ],
   "source": [
    "# one can see from this graph that it is not entirely obvious that red team nodes are where they are, and certianly \n",
    "gsmall = graphistry.edges(sdf, 'src_computer','dst_computer')\n",
    "url = gsmall.plot(render=False)\n",
    "url"
   ]
  },
  {
   "cell_type": "code",
   "execution_count": 35,
   "id": "9c353581",
   "metadata": {
    "execution": {
     "iopub.execute_input": "2022-12-02T16:24:24.500352Z",
     "iopub.status.busy": "2022-12-02T16:24:24.500028Z",
     "iopub.status.idle": "2022-12-02T16:24:25.127144Z",
     "shell.execute_reply": "2022-12-02T16:24:25.126907Z",
     "shell.execute_reply.started": "2022-12-02T16:24:24.500327Z"
    },
    "tags": []
   },
   "outputs": [
    {
     "data": {
      "text/plain": [
       "(array([ 43.,  77., 107., 107., 170.,  31., 243., 160.,   0.,  39.]),\n",
       " array([0.01555263, 0.10742634, 0.19930004, 0.29117373, 0.38304743,\n",
       "        0.47492114, 0.5667948 , 0.6586685 , 0.7505422 , 0.8424159 ,\n",
       "        0.93428963], dtype=float32),\n",
       " <BarContainer object of 10 artists>)"
      ]
     },
     "execution_count": 35,
     "metadata": {},
     "output_type": "execute_result"
    },
    {
     "data": {
      "image/png": "[encoded data removed]",
      "text/plain": [
       "<Figure size 432x288 with 1 Axes>"
      ]
     },
     "metadata": {
      "needs_background": "light"
     },
     "output_type": "display_data"
    }
   ],
   "source": [
    "import matplotlib.pyplot as plt\n",
    "import numpy as np\n",
    "s = np.r_[srcscore, dstscore]\n",
    "plt.hist(s)"
   ]
  },
  {
   "cell_type": "markdown",
   "id": "4aa6bf70",
   "metadata": {
    "tags": []
   },
   "source": [
    "# Are simpler methods better?\n",
    "## Maybe conditional probability `p(dst_computer | src_computer)` can give us good histograms to tease out red team nodes?"
   ]
  },
  {
   "cell_type": "code",
   "execution_count": 53,
   "id": "26b94afd",
   "metadata": {
    "execution": {
     "iopub.execute_input": "2022-12-02T09:16:12.142825Z",
     "iopub.status.busy": "2022-12-02T09:16:12.142632Z",
     "iopub.status.idle": "2022-12-02T09:16:12.146222Z",
     "shell.execute_reply": "2022-12-02T09:16:12.145965Z",
     "shell.execute_reply.started": "2022-12-02T09:16:12.142803Z"
    },
    "tags": []
   },
   "outputs": [],
   "source": [
    "def conditional_probability(x, given, df):\n",
    "    \"\"\"conditional probability function over categorical variables\n",
    "       p(x|given) = p(x,given)/p(given)\n",
    "    Args:\n",
    "        x: the column variable of interest given the column 'given'\n",
    "        given: the variabe to fix constant\n",
    "        df: dataframe with columns [given, x]\n",
    "    Returns:\n",
    "        pd.DataFrame: the conditional probability of x given the column 'given'\n",
    "    \"\"\"\n",
    "    return df.groupby([given])[x].apply(lambda g: g.value_counts()/len(g))\n"
   ]
  },
  {
   "cell_type": "code",
   "execution_count": 54,
   "id": "bd36677c",
   "metadata": {
    "execution": {
     "iopub.execute_input": "2022-12-02T09:16:13.368150Z",
     "iopub.status.busy": "2022-12-02T09:16:13.367943Z",
     "iopub.status.idle": "2022-12-02T09:16:13.610747Z",
     "shell.execute_reply": "2022-12-02T09:16:13.610470Z",
     "shell.execute_reply.started": "2022-12-02T09:16:13.368125Z"
    },
    "tags": []
   },
   "outputs": [
    {
     "data": {
      "text/plain": [
       "(10475, 10313)"
      ]
     },
     "execution_count": 54,
     "metadata": {},
     "output_type": "execute_result"
    }
   ],
   "source": [
    "auth.src_computer.nunique(), auth.dst_computer.nunique()"
   ]
  },
  {
   "cell_type": "code",
   "execution_count": 55,
   "id": "86e920b2",
   "metadata": {
    "execution": {
     "iopub.execute_input": "2022-12-02T09:16:14.724371Z",
     "iopub.status.busy": "2022-12-02T09:16:14.724172Z",
     "iopub.status.idle": "2022-12-02T09:16:15.028786Z",
     "shell.execute_reply": "2022-12-02T09:16:15.028534Z",
     "shell.execute_reply.started": "2022-12-02T09:16:14.724346Z"
    },
    "tags": []
   },
   "outputs": [
    {
     "data": {
      "text/plain": [
       "10887"
      ]
     },
     "execution_count": 55,
     "metadata": {},
     "output_type": "execute_result"
    }
   ],
   "source": [
    "pd.concat([auth.src_computer, auth.dst_computer]).nunique()"
   ]
  },
  {
   "cell_type": "code",
   "execution_count": 56,
   "id": "1e58cf52",
   "metadata": {
    "execution": {
     "iopub.execute_input": "2022-12-02T09:16:16.233664Z",
     "iopub.status.busy": "2022-12-02T09:16:16.233314Z",
     "iopub.status.idle": "2022-12-02T09:16:25.838969Z",
     "shell.execute_reply": "2022-12-02T09:16:25.838713Z",
     "shell.execute_reply.started": "2022-12-02T09:16:16.233642Z"
    },
    "tags": []
   },
   "outputs": [
    {
     "data": {
      "text/plain": [
       "src_computer       \n",
       "C1            C1       0.438462\n",
       "              C529     0.130769\n",
       "              C625     0.092308\n",
       "              C586     0.080769\n",
       "              U25      0.076923\n",
       "                         ...   \n",
       "C9997         C1065    0.010256\n",
       "              C585     0.010256\n",
       "              U7       0.005128\n",
       "              C801     0.005128\n",
       "              C2162    0.005128\n",
       "Name: dst_computer, Length: 136119, dtype: float64"
      ]
     },
     "execution_count": 56,
     "metadata": {},
     "output_type": "execute_result"
    }
   ],
   "source": [
    "cnp = conditional_probability('dst_computer', given='src_computer', df=auth)\n",
    "cnp"
   ]
  },
  {
   "cell_type": "markdown",
   "id": "755a2f20",
   "metadata": {
    "tags": []
   },
   "source": [
    "## Conditional Graph\n",
    "\n",
    "[Demo]('https://hub.graphistry.com/graph/graph.html?dataset=03bcc2f71a054a9c84fa5ce881f462bd&play=0')"
   ]
  },
  {
   "cell_type": "code",
   "execution_count": 57,
   "id": "b236f538",
   "metadata": {
    "execution": {
     "iopub.execute_input": "2022-12-02T09:16:45.503879Z",
     "iopub.status.busy": "2022-12-02T09:16:45.503681Z",
     "iopub.status.idle": "2022-12-02T09:16:54.507903Z",
     "shell.execute_reply": "2022-12-02T09:16:54.507602Z",
     "shell.execute_reply.started": "2022-12-02T09:16:45.503858Z"
    },
    "tags": []
   },
   "outputs": [],
   "source": [
    "x=SRC\n",
    "given=DST\n",
    "condprobs = conditional_probability(x, given, df=auth)\n",
    "\n",
    "cprob = pd.DataFrame(list(condprobs.index), columns=[given, x])\n",
    "cprob['_probs'] = condprobs.values"
   ]
  },
  {
   "cell_type": "code",
   "execution_count": 58,
   "id": "f1ad2b6d",
   "metadata": {
    "execution": {
     "iopub.execute_input": "2022-12-02T09:17:07.668132Z",
     "iopub.status.busy": "2022-12-02T09:17:07.667778Z",
     "iopub.status.idle": "2022-12-02T09:17:07.680208Z",
     "shell.execute_reply": "2022-12-02T09:17:07.679978Z",
     "shell.execute_reply.started": "2022-12-02T09:17:07.668108Z"
    },
    "tags": []
   },
   "outputs": [],
   "source": [
    "# now enrich the edges dataframe with the redteam data\n",
    "indx = cprob.src_computer.isin(anom_label[SRC]) & cprob[DST].isin(anom_label[DST])\n",
    "cprob.loc[indx, 'red'] = 1\n",
    "cprob.loc[~indx, 'red'] = 0"
   ]
  },
  {
   "cell_type": "code",
   "execution_count": 42,
   "id": "ceeabdb8",
   "metadata": {
    "execution": {
     "iopub.execute_input": "2022-12-01T18:08:12.082603Z",
     "iopub.status.busy": "2022-12-01T18:08:12.082528Z",
     "iopub.status.idle": "2022-12-01T18:08:15.749219Z",
     "shell.execute_reply": "2022-12-01T18:08:15.748838Z",
     "shell.execute_reply.started": "2022-12-01T18:08:12.082593Z"
    },
    "scrolled": true,
    "tags": []
   },
   "outputs": [
    {
     "data": {
      "text/plain": [
       "'https://hub.graphistry.com/graph/graph.html?dataset=03bcc2f71a054a9c84fa5ce881f462bd&type=arrow&viztoken=abe69b16-c979-4ee5-b954-f6214d2d6b91&usertag=23693246-pygraphistry-refs/pull/408/head&splashAfter=1669918110&info=true'"
      ]
     },
     "execution_count": 42,
     "metadata": {},
     "output_type": "execute_result"
    }
   ],
   "source": [
    "cg = graphistry.edges(cprob, x, given).bind(edge_weight='_probs')\n",
    "cg.plot(render=False)"
   ]
  },
  {
   "cell_type": "markdown",
   "id": "bd8873e7",
   "metadata": {},
   "source": [
    "## Learning\n",
    "The conditional graph shows that most of the edge probabilities are between 4e-7 and 0.03, whose bucket contains 91k edges. Thus the chances of finding the red team edges are 10/91000 ~ 1e-4 -- slim indeed"
   ]
  },
  {
   "cell_type": "code",
   "execution_count": 43,
   "id": "060f040a",
   "metadata": {
    "execution": {
     "iopub.execute_input": "2022-12-01T18:08:15.750237Z",
     "iopub.status.busy": "2022-12-01T18:08:15.749942Z",
     "iopub.status.idle": "2022-12-01T18:08:24.884854Z",
     "shell.execute_reply": "2022-12-01T18:08:24.884599Z",
     "shell.execute_reply.started": "2022-12-01T18:08:15.750216Z"
    },
    "tags": []
   },
   "outputs": [],
   "source": [
    "# let's repeat but with reverse conditional\n",
    "x='src_computer'\n",
    "given='dst_computer'\n",
    "condprobs2 = conditional_probability(x, given, df=auth)\n",
    "\n",
    "cprob2 = pd.DataFrame(list(condprobs2.index), columns=[given, x])\n",
    "cprob2['_probs'] = condprobs2.values"
   ]
  },
  {
   "cell_type": "code",
   "execution_count": 44,
   "id": "bf8ef21f",
   "metadata": {
    "execution": {
     "iopub.execute_input": "2022-12-01T18:08:24.885370Z",
     "iopub.status.busy": "2022-12-01T18:08:24.885294Z",
     "iopub.status.idle": "2022-12-01T18:08:24.893919Z",
     "shell.execute_reply": "2022-12-01T18:08:24.893693Z",
     "shell.execute_reply.started": "2022-12-01T18:08:24.885360Z"
    },
    "tags": []
   },
   "outputs": [],
   "source": [
    "# now enrich the edges dataframe with the redteam data\n",
    "indx = cprob2.src_computer.isin(anom_label.src_computer) & cprob2.dst_computer.isin(anom_label.dst_computer)\n",
    "cprob2.loc[indx, 'red'] = 1\n",
    "cprob2.loc[~indx, 'red'] = 0"
   ]
  },
  {
   "cell_type": "markdown",
   "id": "f6a52b1f",
   "metadata": {},
   "source": [
    "## Can we do simple std analysis on red vs not?\n",
    "\n",
    "Not really"
   ]
  },
  {
   "cell_type": "code",
   "execution_count": 56,
   "id": "ff685d3a",
   "metadata": {
    "execution": {
     "iopub.execute_input": "2022-12-02T11:14:31.607500Z",
     "iopub.status.busy": "2022-12-02T11:14:31.607274Z",
     "iopub.status.idle": "2022-12-02T11:14:31.611156Z",
     "shell.execute_reply": "2022-12-02T11:14:31.610884Z",
     "shell.execute_reply.started": "2022-12-02T11:14:31.607485Z"
    }
   },
   "outputs": [
    {
     "data": {
      "text/plain": [
       "array([6.69291932e+00, 6.94233955e+00, 4.03406261e+00, 1.24375581e+00,\n",
       "       8.19816652e+00, 5.34599137e+00, 8.55273272e+00, 8.82849580e+00,\n",
       "       5.97048788e+00, 7.98474697e-01, 7.14580528e-03, 4.22057963e-02,\n",
       "       2.00462442e-02, 2.38532804e+00, 8.04956952e-02])"
      ]
     },
     "execution_count": 56,
     "metadata": {},
     "output_type": "execute_result"
    }
   ],
   "source": [
    "red=X[:11].std(0).values\n",
    "red"
   ]
  },
  {
   "cell_type": "code",
   "execution_count": 57,
   "id": "7a5e2e83",
   "metadata": {
    "execution": {
     "iopub.execute_input": "2022-12-02T11:14:32.202163Z",
     "iopub.status.busy": "2022-12-02T11:14:32.202031Z",
     "iopub.status.idle": "2022-12-02T11:14:32.206851Z",
     "shell.execute_reply": "2022-12-02T11:14:32.206502Z",
     "shell.execute_reply.started": "2022-12-02T11:14:32.202149Z"
    }
   },
   "outputs": [
    {
     "data": {
      "text/plain": [
       "array([2.72630555e-01, 4.27446082e+00, 1.50943836e-02, 2.35438425e+01,\n",
       "       7.47794986e-02, 1.66500055e-01, 2.07862744e+00, 1.97366326e-01,\n",
       "       1.64508509e-02, 6.49012753e-01, 6.75271878e+00, 1.20960431e+01,\n",
       "       7.55023721e+00, 3.07596829e+01, 2.12004662e+01])"
      ]
     },
     "execution_count": 57,
     "metadata": {},
     "output_type": "execute_result"
    }
   ],
   "source": [
    "import numpy as np\n",
    "indx = np.random.choice(range(11, len(X)), 11)\n",
    "rand = X.iloc[indx].std(0).values\n",
    "rand"
   ]
  },
  {
   "cell_type": "code",
   "execution_count": 58,
   "id": "cbc18b41",
   "metadata": {
    "execution": {
     "iopub.execute_input": "2022-12-02T11:14:32.420238Z",
     "iopub.status.busy": "2022-12-02T11:14:32.420014Z",
     "iopub.status.idle": "2022-12-02T11:14:32.424607Z",
     "shell.execute_reply": "2022-12-02T11:14:32.424211Z",
     "shell.execute_reply.started": "2022-12-02T11:14:32.420223Z"
    }
   },
   "outputs": [
    {
     "data": {
      "text/plain": [
       "array([11.94419565,  3.63960234,  2.87543166, 18.48754619,  3.58461871,\n",
       "        5.26787065, 20.78975583,  6.13758242,  2.29442998,  8.55447084,\n",
       "        5.97436329,  7.97298694,  8.26999525, 14.63120211, 13.53291024])"
      ]
     },
     "execution_count": 58,
     "metadata": {},
     "output_type": "execute_result"
    }
   ],
   "source": [
    "blue=X[11:].std(0).values\n",
    "blue"
   ]
  },
  {
   "cell_type": "code",
   "execution_count": 61,
   "id": "a839de8c",
   "metadata": {
    "execution": {
     "iopub.execute_input": "2022-12-02T11:15:01.901413Z",
     "iopub.status.busy": "2022-12-02T11:15:01.901186Z",
     "iopub.status.idle": "2022-12-02T11:15:02.489545Z",
     "shell.execute_reply": "2022-12-02T11:15:02.489266Z",
     "shell.execute_reply.started": "2022-12-02T11:15:01.901398Z"
    },
    "tags": []
   },
   "outputs": [
    {
     "data": {
      "text/plain": [
       "[<matplotlib.lines.Line2D at 0x7f954901ef70>]"
      ]
     },
     "execution_count": 61,
     "metadata": {},
     "output_type": "execute_result"
    },
    {
     "data": {
      "image/png": "[encoded data removed]",
      "text/plain": [
       "<Figure size 432x288 with 1 Axes>"
      ]
     },
     "metadata": {
      "needs_background": "light"
     },
     "output_type": "display_data"
    }
   ],
   "source": [
    "from matplotlib import pyplot as plt\n",
    "\n",
    "\n",
    "#plt.plot(red/blue)\n",
    "plt.plot(red, c='r')\n",
    "plt.plot(blue, c='b')\n",
    "plt.plot(rand, c='g')"
   ]
  },
  {
   "cell_type": "code",
   "execution_count": 62,
   "id": "9c50d457",
   "metadata": {
    "execution": {
     "iopub.execute_input": "2022-12-02T11:15:02.956334Z",
     "iopub.status.busy": "2022-12-02T11:15:02.956126Z",
     "iopub.status.idle": "2022-12-02T11:15:03.013363Z",
     "shell.execute_reply": "2022-12-02T11:15:03.013050Z",
     "shell.execute_reply.started": "2022-12-02T11:15:02.956319Z"
    },
    "tags": []
   },
   "outputs": [
    {
     "data": {
      "text/plain": [
       "[<matplotlib.lines.Line2D at 0x7f953806d0d0>]"
      ]
     },
     "execution_count": 62,
     "metadata": {},
     "output_type": "execute_result"
    },
    {
     "data": {
      "image/png": "[encoded data removed]",
      "text/plain": [
       "<Figure size 432x288 with 1 Axes>"
      ]
     },
     "metadata": {
      "needs_background": "light"
     },
     "output_type": "display_data"
    }
   ],
   "source": [
    "plt.plot(red, c='r')\n",
    "rands = []\n",
    "for k in range(4):\n",
    "    indx = np.random.choice(range(11, len(X)), 11)\n",
    "    rand = X.iloc[indx].std(0).values\n",
    "    plt.plot(rand)\n",
    "    rands.append(rand)\n",
    "\n",
    "plt.plot(red/np.mean(rands, axis=0))"
   ]
  },
  {
   "cell_type": "markdown",
   "id": "9088f2b4-d81a-402e-89d8-c5e843db4c62",
   "metadata": {},
   "source": [
    "## Resource\n",
    "\n",
    "* [PyGraphistry[AI]](http://github.com/graphistry/pygraphistryhttp://github.com/graphistry/pygraphistry)\n",
    "  - Dashboarding with [graph-app-kit (containerized, gpu, graph Streamlit)](https://github.com/graphistry/graph-app-kit)\n",
    "* [What is graph intelligence](https://gradientflow.com/what-is-graph-intelligence/https://gradientflow.com/what-is-graph-intelligence/)\n",
    "* GNN Videos:\n",
    "  * GCN - https://www.youtube.com/watch?v=2KRAOZIULzw\n",
    "  * RGCN - https://www.youtube.com/watch?v=wJQQFUcHO5U\n",
    "  * Euler (combining RNN + GNN)- https://www.youtube.com/watch?v=1t124vguwJ8"
   ]
  },
  {
   "cell_type": "code",
   "execution_count": null,
   "id": "ca84215c-4f22-4320-ae42-08b2ed408fff",
   "metadata": {},
   "outputs": [],
   "source": []
  }
 ],
 "metadata": {
  "kernelspec": {
   "display_name": "Python 3 (ipykernel)",
   "language": "python",
   "name": "python3"
  },
  "language_info": {
   "codemirror_mode": {
    "name": "ipython",
    "version": 3
   },
   "file_extension": ".py",
   "mimetype": "text/x-python",
   "name": "python",
   "nbconvert_exporter": "python",
   "pygments_lexer": "ipython3",
   "version": "3.8.9"
  },
  "toc-autonumbering": false,
  "toc-showtags": true,
  "vscode": {
   "interpreter": {
    "hash": "916dbcbb3f70747c44a77c7bcd40155683ae19c65e1c03b4aa3499c5328201f1"
   }
  }
 },
 "nbformat": 4,
 "nbformat_minor": 5
}
