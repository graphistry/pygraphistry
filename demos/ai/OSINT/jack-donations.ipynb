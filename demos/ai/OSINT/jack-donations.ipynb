{
 "cells": [
  {
   "cell_type": "markdown",
   "id": "76d71900",
   "metadata": {},
   "source": [
    "________________\n",
    "# Jack's Money Went Here \n",
    "\n",
    "Where is twitter likely to lean more and less now that  he's leaving? Where will there be matching donations?\n",
    "\n",
    "Jack Dorsey is pledging over 466 million dollars and wants matching donations. His rational is simple -- billionaires can spare a tithe to help communities and people, and compounded over a few hundred of his closest friends, have a tremendous impact. What edifice could be built with donations to these entities? What do their service offerings look like when seen as a whole? What are their moving parts?\n",
    "\n",
    "This dataset is based off of the tweet https://twitter.com/jack/status/1247616214769086465 which lists pledged organizations and their donation. \n",
    "__________________________________________________________________\n",
    "\n",
    "We will learn how to quickly data science this dataset. We will select feature representations and visualize the resulting graph using UMAP.\n",
    "\n",
    "Featurization is the foundation of datascience. Likewise, Graph Thinking requires edges between nodes. Many times the data we have from databases/dataframes is tabular and row like -- with no incling of an edge table. This does *not* have to be an impediment for *Graph Thinking and materialization of datascience workflows*. \n",
    "\n",
    "UMAP is a powerful tool that projects complex, heterogeneous data coming from potentially many different distributions, down to lower dimensional embeddings and projections. The embedding estimates similarity between the rows, or nodes of the data, and thus forms a graph. \n",
    "\n",
    "Standardizing a feature set across the databases used in every modern company and then sending it to UMAP serves as a powerful graph generation tool.  \n",
    "__________________________________________________________________\n",
    "\n",
    "Here we demonstrate how to Featurize and use UMAP to generate implicit graphs. The features may then be used in subsequent modeling using your favorite libraries -- sklearn, tensorflow, pytorch[, geometric, lightening, ...], cuGraph, DGL, etc. We demonstrate 4 featurization methods -- \n",
    "\n",
    "* latent embeddings, \n",
    "* transformer embeddings, \n",
    "* ngrams embeddings, \n",
    "* one-hot encodings\n",
    "\n",
    "that may be mixed and used to make different features for different columns, automatically. \n",
    "\n",
    "Furthermore, when we `g.plot()` the results, it is layed out according to the 2-dimensional UMAP projection of the data -- nearness in that projection represents nearness in the resulting features. We will test this empiracally using the different featurization methods for textual, numeric and categorical data. "
   ]
  },
  {
   "cell_type": "code",
   "execution_count": 52,
   "id": "a069ef73",
   "metadata": {},
   "outputs": [],
   "source": [
    "#!pip install graphistry[ai]  # install the AI dependencies of Graphistry"
   ]
  },
  {
   "cell_type": "code",
   "execution_count": 54,
   "id": "b7de987a",
   "metadata": {},
   "outputs": [],
   "source": [
    "import os\n",
    "\n",
    "import pandas as pd\n",
    "import graphistry\n",
    "import numpy as np\n",
    "\n",
    "import matplotlib.pylab as plt\n",
    "%matplotlib inline"
   ]
  },
  {
   "cell_type": "code",
   "execution_count": 55,
   "id": "461a22ec",
   "metadata": {},
   "outputs": [],
   "source": [
    "np.random.seed(137)"
   ]
  },
  {
   "cell_type": "code",
   "execution_count": 56,
   "id": "950f6310",
   "metadata": {},
   "outputs": [],
   "source": [
    "RENDER=False  # set to True for inline Graphistry Plots"
   ]
  },
  {
   "cell_type": "code",
   "execution_count": 57,
   "id": "90875a39",
   "metadata": {},
   "outputs": [],
   "source": [
    "graphistry.register(api=3, protocol=\"https\", server=\"hub.graphistry.com\", username=os.environ['USERNAME'], password=os.environ['GRAPHISTRY_PASSWORD'])"
   ]
  },
  {
   "cell_type": "markdown",
   "id": "9acb2823",
   "metadata": {},
   "source": [
    "## Data loading & cleaning\n",
    "We already added the dataset from the twitter link, downloading a copy (as of May 2022) from the google drive. We need to remove the first few rows to make a valid dataframe. "
   ]
  },
  {
   "cell_type": "code",
   "execution_count": 58,
   "id": "0ffe9b64",
   "metadata": {},
   "outputs": [
    {
     "data": {
      "text/html": [
       "<div>\n",
       "<style scoped>\n",
       "    .dataframe tbody tr th:only-of-type {\n",
       "        vertical-align: middle;\n",
       "    }\n",
       "\n",
       "    .dataframe tbody tr th {\n",
       "        vertical-align: top;\n",
       "    }\n",
       "\n",
       "    .dataframe thead th {\n",
       "        text-align: right;\n",
       "    }\n",
       "</style>\n",
       "<table border=\"1\" class=\"dataframe\">\n",
       "  <thead>\n",
       "    <tr style=\"text-align: right;\">\n",
       "      <th></th>\n",
       "      <th>Date</th>\n",
       "      <th>Amount</th>\n",
       "      <th>Category</th>\n",
       "      <th>Grantee</th>\n",
       "      <th>Twitter</th>\n",
       "      <th>Link</th>\n",
       "      <th>Why?</th>\n",
       "    </tr>\n",
       "  </thead>\n",
       "  <tbody>\n",
       "    <tr>\n",
       "      <th>0</th>\n",
       "      <td>3/21/2022</td>\n",
       "      <td>$2,000,000</td>\n",
       "      <td>Social Justice</td>\n",
       "      <td>REFORM Alliance</td>\n",
       "      <td>@REFORM</td>\n",
       "      <td>https://reformalliance.com</td>\n",
       "      <td>REFORM Alliance is committed to transforming t...</td>\n",
       "    </tr>\n",
       "    <tr>\n",
       "      <th>1</th>\n",
       "      <td>3/10/2022</td>\n",
       "      <td>$1,000,000</td>\n",
       "      <td>Crisis Relief</td>\n",
       "      <td>World Central Kitchen</td>\n",
       "      <td>@WCKitchen</td>\n",
       "      <td>https://wck.org/</td>\n",
       "      <td>World Central Kitchen is serving thousands of ...</td>\n",
       "    </tr>\n",
       "    <tr>\n",
       "      <th>2</th>\n",
       "      <td>3/10/2022</td>\n",
       "      <td>$1,000,000</td>\n",
       "      <td>Crisis Relief</td>\n",
       "      <td>Sunflower of Peace</td>\n",
       "      <td>@SunflowerFund</td>\n",
       "      <td>https://www.sunflowerofpeace.com</td>\n",
       "      <td>Sunflower of Peace is providing medical and hu...</td>\n",
       "    </tr>\n",
       "    <tr>\n",
       "      <th>3</th>\n",
       "      <td>3/10/2022</td>\n",
       "      <td>$1,000,000</td>\n",
       "      <td>Crisis Relief</td>\n",
       "      <td>Razom, Inc.</td>\n",
       "      <td>@razomforukraine</td>\n",
       "      <td>https://razomforukraine.org</td>\n",
       "      <td>Razom is supporting Ukrainian people in their ...</td>\n",
       "    </tr>\n",
       "    <tr>\n",
       "      <th>4</th>\n",
       "      <td>3/10/2022</td>\n",
       "      <td>$1,000,000</td>\n",
       "      <td>Crisis Relief</td>\n",
       "      <td>Nova Ukraine</td>\n",
       "      <td>@novaukraine</td>\n",
       "      <td>https://novaukraine.org</td>\n",
       "      <td>Nova Ukraine, a Bay Area-based humanitarian no...</td>\n",
       "    </tr>\n",
       "  </tbody>\n",
       "</table>\n",
       "</div>"
      ],
      "text/plain": [
       "        Date     Amount         Category                Grantee  \\\n",
       "0  3/21/2022  $2,000,000  Social Justice        REFORM Alliance   \n",
       "1  3/10/2022  $1,000,000   Crisis Relief  World Central Kitchen   \n",
       "2  3/10/2022  $1,000,000   Crisis Relief     Sunflower of Peace   \n",
       "3  3/10/2022  $1,000,000   Crisis Relief            Razom, Inc.   \n",
       "4  3/10/2022  $1,000,000   Crisis Relief           Nova Ukraine   \n",
       "\n",
       "            Twitter                              Link  \\\n",
       "0           @REFORM        https://reformalliance.com   \n",
       "1        @WCKitchen                  https://wck.org/   \n",
       "2    @SunflowerFund  https://www.sunflowerofpeace.com   \n",
       "3  @razomforukraine       https://razomforukraine.org   \n",
       "4      @novaukraine           https://novaukraine.org   \n",
       "\n",
       "                                                Why?  \n",
       "0  REFORM Alliance is committed to transforming t...  \n",
       "1  World Central Kitchen is serving thousands of ...  \n",
       "2  Sunflower of Peace is providing medical and hu...  \n",
       "3  Razom is supporting Ukrainian people in their ...  \n",
       "4  Nova Ukraine, a Bay Area-based humanitarian no...  "
      ]
     },
     "execution_count": 58,
     "metadata": {},
     "output_type": "execute_result"
    }
   ],
   "source": [
    "df = pd.read_csv('https://gist.githubusercontent.com/silkspace/f8d7b8f279a5ffbd710c301fc402ec43/raw/95a722f5c65812322eaf085c1123b58d3ec3da3a/jack_donations.csv')\n",
    "df = df.fillna('')\n",
    "columns = df.iloc[3].values  \n",
    "ndf = pd.DataFrame(df[4:].values, columns=columns)\n",
    "ndf.head()"
   ]
  },
  {
   "cell_type": "markdown",
   "id": "50f59d83",
   "metadata": {},
   "source": [
    "Notice that the Category labels are mixed and interwoven \n",
    "We will show how judicious choice of parameters can standardize it without having to do data cleaning or mapping"
   ]
  },
  {
   "cell_type": "code",
   "execution_count": 59,
   "id": "ac1b493e",
   "metadata": {},
   "outputs": [
    {
     "data": {
      "text/plain": [
       "array(['Social Justice', 'Crisis Relief',\n",
       "       'COVID-19, Girls Health & Education',\n",
       "       'Social Justice, Girls Health & Education', 'COVID-19',\n",
       "       'Social Justice, COVID-19', 'Girls Health & Education',\n",
       "       'UBI, Social Justice', 'Girls Health & Education, COVID-19',\n",
       "       'COVID-19, Social Justice', 'UBI',\n",
       "       'COVID-19, Social Justice, Girls Health & Education',\n",
       "       'Girls Health & Education; COVID-19', 'COVID-19; Social Justice',\n",
       "       'Girls Health & Education; Social Justice',\n",
       "       'COVID-19; Girls Health & Education', 'UBI; COVID-19',\n",
       "       'COVID-19 & Social Justice',\n",
       "       'Social Justice, UBI, Girls Health & Education', 'COVID-19, UBI',\n",
       "       \"Where it's needed most\", 'COVID-19 '], dtype=object)"
      ]
     },
     "execution_count": 59,
     "metadata": {},
     "output_type": "execute_result"
    }
   ],
   "source": [
    "ndf.Category.unique()  # seems like there are 4-6 topics here"
   ]
  },
  {
   "cell_type": "markdown",
   "id": "b454348e",
   "metadata": {},
   "source": [
    "# Featurize\n",
    "\n",
    "We will use `g.umap` to featurize and create edges. The details of how UMAP is able to create edges between rows in the data is beyond the scope of this tutorial, however, suffic it to say, it is automatically inferring a network of related entities based off their column features. \n",
    "\n",
    "Here is the dataset as graph, \n"
   ]
  },
  {
   "cell_type": "code",
   "execution_count": 60,
   "id": "c986ff93",
   "metadata": {},
   "outputs": [
    {
     "data": {
      "text/plain": [
       "'https://hub.graphistry.com/graph/graph.html?dataset=c592c76837754d33b0be98d82f89fa73&type=arrow&viztoken=95041428-bbc8-4f54-959a-8cec3b7c2b1c&usertag=8a6d667e-pygraphistry-0.28.6+122.g2c743bb.dirty&splashAfter=1671779576&info=true&play=0'"
      ]
     },
     "execution_count": 60,
     "metadata": {},
     "output_type": "execute_result"
    }
   ],
   "source": [
    "g = graphistry.nodes(ndf).umap()\n",
    "g.bind(point_title='Grantee').plot(render=RENDER)  # fly around the clusters and click on nodes and edges. "
   ]
  },
  {
   "cell_type": "markdown",
   "id": "255c8496",
   "metadata": {},
   "source": [
    "The above featurized every column over the entire datase. Exploring the nodes and their nearest neighbors indeed clusters similar rows -- all in two lines of code!"
   ]
  },
  {
   "cell_type": "markdown",
   "id": "d76e628d",
   "metadata": {},
   "source": [
    "## Light analysis and enrichment \n",
    "\n",
    "Lets convert Amount column into numeric, and then see who is getting what by category and grantee."
   ]
  },
  {
   "cell_type": "code",
   "execution_count": 61,
   "id": "a8ced06c",
   "metadata": {},
   "outputs": [
    {
     "data": {
      "text/plain": [
       "0      $2,000,000\n",
       "1      $1,000,000\n",
       "2      $1,000,000\n",
       "3      $1,000,000\n",
       "4      $1,000,000\n",
       "          ...    \n",
       "280       $13,333\n",
       "281    $2,000,000\n",
       "282    $1,000,000\n",
       "283    $2,100,000\n",
       "284      $100,000\n",
       "Name:  Amount , Length: 285, dtype: object"
      ]
     },
     "execution_count": 61,
     "metadata": {},
     "output_type": "execute_result"
    }
   ],
   "source": [
    "#ndf.columns\n",
    "ndf[' Amount ']"
   ]
  },
  {
   "cell_type": "code",
   "execution_count": 62,
   "id": "8077b2d0",
   "metadata": {},
   "outputs": [],
   "source": [
    "# let's convert money into float money (get it?)\n",
    "from re import sub\n",
    "from decimal import Decimal\n",
    "\n",
    "def convert_money_string_to_float(money: str, return_float: bool = True):\n",
    "    value = Decimal(sub(r\"[^\\d\\-.]\", \"\", money))  # preserves minus signs\n",
    "    if return_float:\n",
    "        return float(value)\n",
    "    return value\n",
    "\n",
    "ndf['$ amount'] = ndf[' Amount '].apply(lambda x: convert_money_string_to_float(x))"
   ]
  },
  {
   "cell_type": "code",
   "execution_count": 63,
   "id": "b0e0c683",
   "metadata": {},
   "outputs": [
    {
     "data": {
      "text/plain": [
       "0      2000000.0\n",
       "1      1000000.0\n",
       "2      1000000.0\n",
       "3      1000000.0\n",
       "4      1000000.0\n",
       "         ...    \n",
       "280      13333.0\n",
       "281    2000000.0\n",
       "282    1000000.0\n",
       "283    2100000.0\n",
       "284     100000.0\n",
       "Name: $ amount, Length: 285, dtype: float64"
      ]
     },
     "execution_count": 63,
     "metadata": {},
     "output_type": "execute_result"
    }
   ],
   "source": [
    "ndf['$ amount']"
   ]
  },
  {
   "cell_type": "markdown",
   "id": "ac95f782",
   "metadata": {},
   "source": [
    "Many of these categories are not distinct. But due to data coming in with different notation, it seems distinct. \n",
    "\n",
    "We will show in the next section how to deal with this by using the graphistry pipeline to convert the `Category` into a latent target that organizes the labels.\n"
   ]
  },
  {
   "cell_type": "code",
   "execution_count": 64,
   "id": "6e4fcbaf",
   "metadata": {},
   "outputs": [
    {
     "data": {
      "text/plain": [
       "Category\n",
       "COVID-19                                              $153,882,590.0\n",
       "COVID-19                                               $85,019,328.0\n",
       "COVID-19 & Social Justice                                 $505,468.0\n",
       "COVID-19, Girls Health & Education                      $4,265,000.0\n",
       "COVID-19, Social Justice                                $1,800,000.0\n",
       "COVID-19, Social Justice, Girls Health & Education        $250,000.0\n",
       "COVID-19, UBI                                           $8,000,000.0\n",
       "COVID-19; Girls Health & Education                      $9,920,000.0\n",
       "COVID-19; Social Justice                                $5,090,080.0\n",
       "Crisis Relief                                           $7,500,000.0\n",
       "Girls Health & Education                               $30,300,000.0\n",
       "Girls Health & Education, COVID-19                      $1,250,000.0\n",
       "Girls Health & Education; COVID-19                     $12,000,000.0\n",
       "Girls Health & Education; Social Justice                $2,500,000.0\n",
       "Social Justice                                         $84,119,845.0\n",
       "Social Justice, COVID-19                                  $300,000.0\n",
       "Social Justice, Girls Health & Education                $9,934,000.0\n",
       "Social Justice, UBI, Girls Health & Education           $1,100,000.0\n",
       "UBI                                                    $10,210,000.0\n",
       "UBI, Social Justice                                     $1,000,000.0\n",
       "UBI; COVID-19                                          $35,000,000.0\n",
       "Where it's needed most                                  $3,000,000.0\n",
       "Name: $ amount, dtype: object"
      ]
     },
     "execution_count": 64,
     "metadata": {},
     "output_type": "execute_result"
    }
   ],
   "source": [
    "current_funding_by_category = ndf.groupby('Category')['$ amount'].sum()\n",
    "current_funding_by_category.map(lambda x: '${:3,}'.format(x))"
   ]
  },
  {
   "cell_type": "code",
   "execution_count": 65,
   "id": "59b71456",
   "metadata": {},
   "outputs": [
    {
     "data": {
      "text/plain": [
       "<AxesSubplot:xlabel='Category'>"
      ]
     },
     "execution_count": 65,
     "metadata": {},
     "output_type": "execute_result"
    },
    {
     "data": {
      "image/png": "[encoded data removed]",
      "text/plain": [
       "<Figure size 720x360 with 1 Axes>"
      ]
     },
     "metadata": {
      "needs_background": "light"
     },
     "output_type": "display_data"
    }
   ],
   "source": [
    "fig = plt.figure(figsize=(10,5))\n",
    "current_funding_by_category.plot(kind='bar', rot=52)"
   ]
  },
  {
   "cell_type": "code",
   "execution_count": 66,
   "id": "382780f5",
   "metadata": {},
   "outputs": [
    {
     "data": {
      "text/plain": [
       "Grantee\n",
       "Vital Strategies: Resolve To Save Lives    $38,000,000.0\n",
       "CORE: Community Organized Relief Effort    $30,000,000.0\n",
       "Clara Lionel Foundation                    $28,877,000.0\n",
       "Reinvent Stockton Foundation               $18,000,000.0\n",
       "CARE                                       $16,000,000.0\n",
       "Give2SF                                    $15,000,000.0\n",
       "Open Research Lab Income Project           $15,000,000.0\n",
       "REFORM Alliance                            $12,000,000.0\n",
       "World Central Kitchen                      $11,585,500.0\n",
       "Indiana University Foundation              $10,025,000.0\n",
       "Name: $ amount, dtype: object"
      ]
     },
     "execution_count": 66,
     "metadata": {},
     "output_type": "execute_result"
    }
   ],
   "source": [
    "grantees = ndf.groupby('Grantee')['$ amount'].sum()\n",
    "grants_sorted = grantees.sort_values()\n",
    "# top 10 recepients \n",
    "grants_sorted[-10:].map(lambda x: '${:3,}'.format(x))[::-1]"
   ]
  },
  {
   "cell_type": "code",
   "execution_count": 67,
   "id": "d7d0ff87",
   "metadata": {},
   "outputs": [
    {
     "data": {
      "text/plain": [
       "<AxesSubplot:xlabel='Grantee'>"
      ]
     },
     "execution_count": 67,
     "metadata": {},
     "output_type": "execute_result"
    },
    {
     "data": {
      "image/png": "[encoded data removed]",
      "text/plain": [
       "<Figure size 720x360 with 1 Axes>"
      ]
     },
     "metadata": {
      "needs_background": "light"
     },
     "output_type": "display_data"
    }
   ],
   "source": [
    "# largest grants\n",
    "fig = plt.figure(figsize=(10,5))\n",
    "ax= plt.subplot()\n",
    "res = grants_sorted[-10:]\n",
    "\n",
    "res.plot(kind='bar', rot=49)"
   ]
  },
  {
   "cell_type": "code",
   "execution_count": 68,
   "id": "14330bfc",
   "metadata": {},
   "outputs": [
    {
     "data": {
      "text/plain": [
       "<AxesSubplot:xlabel='Grantee'>"
      ]
     },
     "execution_count": 68,
     "metadata": {},
     "output_type": "execute_result"
    },
    {
     "data": {
      "image/png": "[encoded data removed]",
      "text/plain": [
       "<Figure size 720x360 with 1 Axes>"
      ]
     },
     "metadata": {
      "needs_background": "light"
     },
     "output_type": "display_data"
    }
   ],
   "source": [
    "# smallest grants\n",
    "fig = plt.figure(figsize=(10,5))\n",
    "ax= plt.subplot()\n",
    "res = grants_sorted[:10]\n",
    "\n",
    "res.plot(kind='bar', rot = 29)"
   ]
  },
  {
   "cell_type": "code",
   "execution_count": 69,
   "id": "2ad231a8",
   "metadata": {},
   "outputs": [
    {
     "data": {
      "text/plain": [
       "'Total Pledged $466,946,311.0'"
      ]
     },
     "execution_count": 69,
     "metadata": {},
     "output_type": "execute_result"
    }
   ],
   "source": [
    "'Total Pledged ${:3,}'.format(current_funding_by_category.sum())"
   ]
  },
  {
   "cell_type": "code",
   "execution_count": 70,
   "id": "217026ee",
   "metadata": {},
   "outputs": [
    {
     "data": {
      "text/plain": [
       "'Total Pledged $466,946,311.0'"
      ]
     },
     "execution_count": 70,
     "metadata": {},
     "output_type": "execute_result"
    }
   ],
   "source": [
    "# and this should be the same too\n",
    "'Total Pledged ${:3,}'.format(grantees.sum())"
   ]
  },
  {
   "cell_type": "markdown",
   "id": "b0565e61",
   "metadata": {},
   "source": [
    "_______________________________________"
   ]
  },
  {
   "cell_type": "markdown",
   "id": "0b2783bf",
   "metadata": {},
   "source": [
    "# Featurize II\n",
    "\n",
    "let's do it again and concentrate on a subset of the columns, to get a sense for the different ways to featurize named columns.\n",
    "____________________________"
   ]
  },
  {
   "cell_type": "markdown",
   "id": "2255d688",
   "metadata": {},
   "source": [
    "## Topic Model"
   ]
  },
  {
   "cell_type": "markdown",
   "id": "c8acdf66",
   "metadata": {},
   "source": [
    "We encode the data using Topic Models. This turns the textual features into latent vectors. Likewise, we can do the same for the target data. \n",
    "\n",
    "\n",
    "Notice that we set `cardinality_threshold_target` very low and `min_words` very high to force featurization as topic models rather than one-hot or sbert embeddings;\n",
    "\n",
    "1) encode target using a topic model, and set `n_topics_target` as the dimension of the latent target factorization. This choice is based on the fact that there are really only 4-6 or so distinct categories across the labels, but they are mixed together. The labels are in fact Hierarchical categories. We can use the topic model to find the lowest moments of this Hierarchical classification in the distributional sense. \n",
    "\n",
    "2) Encode the `Why?` column as a `n_topics` -dimensional factorization."
   ]
  },
  {
   "cell_type": "code",
   "execution_count": 71,
   "id": "71ad1fe5",
   "metadata": {
    "scrolled": true
   },
   "outputs": [],
   "source": [
    "g = graphistry.nodes(ndf).bind(point_title='Category')\n",
    "\n",
    "g2 = g.umap(X=['Why?'], y = ['Category'], \n",
    "            min_words=1e9, # encode as topic model by setting min_words high\n",
    "            n_topics=42, # latent embedding size of `Why`\n",
    "            n_topics_target=4, # turn categories into a 4dim vector of regressive targets\n",
    "            cardinality_threshold_target=2, # force topic model over target `Category`\n",
    "            use_scaler=None,\n",
    "            use_scaler_target=None\n",
    "            ) "
   ]
  },
  {
   "cell_type": "markdown",
   "id": "93e6ae81",
   "metadata": {},
   "source": [
    "Plotting the result shows the similarity between entities. It does a good job overall at clustering by topic. Click in and check out some nearby nodes. "
   ]
  },
  {
   "cell_type": "code",
   "execution_count": 72,
   "id": "0cdf2370",
   "metadata": {},
   "outputs": [
    {
     "data": {
      "text/plain": [
       "'https://hub.graphistry.com/graph/graph.html?dataset=51fa92865fb74649a3257830c2f00d54&type=arrow&viztoken=73e4a2e9-32ff-411e-8311-c773cb62d511&usertag=8a6d667e-pygraphistry-0.28.6+122.g2c743bb.dirty&splashAfter=1671779579&info=true&play=0'"
      ]
     },
     "execution_count": 72,
     "metadata": {},
     "output_type": "execute_result"
    }
   ],
   "source": [
    "g2.bind(point_title='Grantee').plot(render=RENDER)"
   ]
  },
  {
   "cell_type": "code",
   "execution_count": 73,
   "id": "b650ef59",
   "metadata": {},
   "outputs": [
    {
     "name": "stderr",
     "output_type": "stream",
     "text": [
      "'SuperVectorizer' object has no attribute 'get_feature_names_in'\n",
      "'SuperVectorizer' object has no attribute 'get_feature_names_in'\n"
     ]
    },
    {
     "data": {
      "text/html": [
       "<div>\n",
       "<style scoped>\n",
       "    .dataframe tbody tr th:only-of-type {\n",
       "        vertical-align: middle;\n",
       "    }\n",
       "\n",
       "    .dataframe tbody tr th {\n",
       "        vertical-align: top;\n",
       "    }\n",
       "\n",
       "    .dataframe thead th {\n",
       "        text-align: right;\n",
       "    }\n",
       "</style>\n",
       "<table border=\"1\" class=\"dataframe\">\n",
       "  <thead>\n",
       "    <tr style=\"text-align: right;\">\n",
       "      <th></th>\n",
       "      <th>Why?: relationships, relationship, trevortext</th>\n",
       "      <th>Why?: thousands, kitchen, kitchens</th>\n",
       "      <th>Why?: multiracial, language, analysis</th>\n",
       "      <th>Why?: foundation, partnership, barbados</th>\n",
       "      <th>Why?: humanitarian, distributing, distributed</th>\n",
       "      <th>Why?: vulnerable, coordinated, outbreak</th>\n",
       "      <th>Why?: marginalized, globalgiving, emergency</th>\n",
       "      <th>Why?: sustainable, livelihoods, livelihood</th>\n",
       "      <th>Why?: healthcare, results, children</th>\n",
       "      <th>Why?: movementhub, strengthening, snapshots</th>\n",
       "      <th>...</th>\n",
       "      <th>Why?: washingtonians, incarceration, restoration</th>\n",
       "      <th>Why?: leadership, confidence, confidently</th>\n",
       "      <th>Why?: entrepreneurs, entrepreneurship, tomorrow</th>\n",
       "      <th>Why?: coronavirus, families, primarily</th>\n",
       "      <th>Why?: california, disproportionately, lgbtiq</th>\n",
       "      <th>Why?: individuals, undiagnosed, disabilities</th>\n",
       "      <th>Why?: engineering, criminal, complete</th>\n",
       "      <th>Why?: disparities, nonprofit, socioeconomic</th>\n",
       "      <th>Why?: simultaneously, immediate, richmond</th>\n",
       "      <th>Why?: constitution, employers, nationwide</th>\n",
       "    </tr>\n",
       "  </thead>\n",
       "  <tbody>\n",
       "    <tr>\n",
       "      <th>277</th>\n",
       "      <td>0.339963</td>\n",
       "      <td>0.139028</td>\n",
       "      <td>0.151917</td>\n",
       "      <td>264.410465</td>\n",
       "      <td>0.429551</td>\n",
       "      <td>64.801377</td>\n",
       "      <td>0.121926</td>\n",
       "      <td>9.972444</td>\n",
       "      <td>0.518182</td>\n",
       "      <td>0.153862</td>\n",
       "      <td>...</td>\n",
       "      <td>0.220966</td>\n",
       "      <td>0.123637</td>\n",
       "      <td>0.144793</td>\n",
       "      <td>0.175899</td>\n",
       "      <td>0.329241</td>\n",
       "      <td>11.979742</td>\n",
       "      <td>0.128386</td>\n",
       "      <td>0.743444</td>\n",
       "      <td>0.147554</td>\n",
       "      <td>0.217943</td>\n",
       "    </tr>\n",
       "    <tr>\n",
       "      <th>232</th>\n",
       "      <td>0.285946</td>\n",
       "      <td>15.243132</td>\n",
       "      <td>8.165179</td>\n",
       "      <td>0.105592</td>\n",
       "      <td>0.206599</td>\n",
       "      <td>5.590764</td>\n",
       "      <td>1.838355</td>\n",
       "      <td>0.147124</td>\n",
       "      <td>167.374284</td>\n",
       "      <td>0.170527</td>\n",
       "      <td>...</td>\n",
       "      <td>0.313237</td>\n",
       "      <td>0.169649</td>\n",
       "      <td>0.198417</td>\n",
       "      <td>58.860134</td>\n",
       "      <td>0.187807</td>\n",
       "      <td>30.874991</td>\n",
       "      <td>0.173454</td>\n",
       "      <td>0.189630</td>\n",
       "      <td>6.575084</td>\n",
       "      <td>0.209069</td>\n",
       "    </tr>\n",
       "    <tr>\n",
       "      <th>42</th>\n",
       "      <td>0.245323</td>\n",
       "      <td>0.160717</td>\n",
       "      <td>14.287478</td>\n",
       "      <td>0.180297</td>\n",
       "      <td>0.725490</td>\n",
       "      <td>263.369244</td>\n",
       "      <td>1.264977</td>\n",
       "      <td>0.831781</td>\n",
       "      <td>0.188876</td>\n",
       "      <td>0.810895</td>\n",
       "      <td>...</td>\n",
       "      <td>0.233937</td>\n",
       "      <td>0.378957</td>\n",
       "      <td>0.292252</td>\n",
       "      <td>0.707416</td>\n",
       "      <td>0.186292</td>\n",
       "      <td>0.278172</td>\n",
       "      <td>0.439517</td>\n",
       "      <td>0.376223</td>\n",
       "      <td>0.184165</td>\n",
       "      <td>0.498579</td>\n",
       "    </tr>\n",
       "    <tr>\n",
       "      <th>4</th>\n",
       "      <td>10.979266</td>\n",
       "      <td>0.126883</td>\n",
       "      <td>0.152322</td>\n",
       "      <td>0.206864</td>\n",
       "      <td>253.048336</td>\n",
       "      <td>17.135148</td>\n",
       "      <td>14.172396</td>\n",
       "      <td>0.221585</td>\n",
       "      <td>0.119727</td>\n",
       "      <td>0.178143</td>\n",
       "      <td>...</td>\n",
       "      <td>0.434284</td>\n",
       "      <td>0.138267</td>\n",
       "      <td>0.146611</td>\n",
       "      <td>0.137793</td>\n",
       "      <td>0.401312</td>\n",
       "      <td>0.210048</td>\n",
       "      <td>0.136323</td>\n",
       "      <td>18.981972</td>\n",
       "      <td>0.173391</td>\n",
       "      <td>0.192991</td>\n",
       "    </tr>\n",
       "    <tr>\n",
       "      <th>5</th>\n",
       "      <td>0.284103</td>\n",
       "      <td>1.131857</td>\n",
       "      <td>0.329085</td>\n",
       "      <td>0.162003</td>\n",
       "      <td>196.409150</td>\n",
       "      <td>0.229169</td>\n",
       "      <td>136.267511</td>\n",
       "      <td>0.160987</td>\n",
       "      <td>0.311077</td>\n",
       "      <td>0.260001</td>\n",
       "      <td>...</td>\n",
       "      <td>0.318955</td>\n",
       "      <td>0.431603</td>\n",
       "      <td>0.195330</td>\n",
       "      <td>0.410385</td>\n",
       "      <td>0.770084</td>\n",
       "      <td>0.431732</td>\n",
       "      <td>0.296873</td>\n",
       "      <td>0.261892</td>\n",
       "      <td>94.943396</td>\n",
       "      <td>0.453323</td>\n",
       "    </tr>\n",
       "  </tbody>\n",
       "</table>\n",
       "<p>5 rows × 42 columns</p>\n",
       "</div>"
      ],
      "text/plain": [
       "     Why?: relationships, relationship, trevortext  \\\n",
       "277                                       0.339963   \n",
       "232                                       0.285946   \n",
       "42                                        0.245323   \n",
       "4                                        10.979266   \n",
       "5                                         0.284103   \n",
       "\n",
       "     Why?: thousands, kitchen, kitchens  \\\n",
       "277                            0.139028   \n",
       "232                           15.243132   \n",
       "42                             0.160717   \n",
       "4                              0.126883   \n",
       "5                              1.131857   \n",
       "\n",
       "     Why?: multiracial, language, analysis  \\\n",
       "277                               0.151917   \n",
       "232                               8.165179   \n",
       "42                               14.287478   \n",
       "4                                 0.152322   \n",
       "5                                 0.329085   \n",
       "\n",
       "     Why?: foundation, partnership, barbados  \\\n",
       "277                               264.410465   \n",
       "232                                 0.105592   \n",
       "42                                  0.180297   \n",
       "4                                   0.206864   \n",
       "5                                   0.162003   \n",
       "\n",
       "     Why?: humanitarian, distributing, distributed  \\\n",
       "277                                       0.429551   \n",
       "232                                       0.206599   \n",
       "42                                        0.725490   \n",
       "4                                       253.048336   \n",
       "5                                       196.409150   \n",
       "\n",
       "     Why?: vulnerable, coordinated, outbreak  \\\n",
       "277                                64.801377   \n",
       "232                                 5.590764   \n",
       "42                                263.369244   \n",
       "4                                  17.135148   \n",
       "5                                   0.229169   \n",
       "\n",
       "     Why?: marginalized, globalgiving, emergency  \\\n",
       "277                                     0.121926   \n",
       "232                                     1.838355   \n",
       "42                                      1.264977   \n",
       "4                                      14.172396   \n",
       "5                                     136.267511   \n",
       "\n",
       "     Why?: sustainable, livelihoods, livelihood  \\\n",
       "277                                    9.972444   \n",
       "232                                    0.147124   \n",
       "42                                     0.831781   \n",
       "4                                      0.221585   \n",
       "5                                      0.160987   \n",
       "\n",
       "     Why?: healthcare, results, children  \\\n",
       "277                             0.518182   \n",
       "232                           167.374284   \n",
       "42                              0.188876   \n",
       "4                               0.119727   \n",
       "5                               0.311077   \n",
       "\n",
       "     Why?: movementhub, strengthening, snapshots  ...  \\\n",
       "277                                     0.153862  ...   \n",
       "232                                     0.170527  ...   \n",
       "42                                      0.810895  ...   \n",
       "4                                       0.178143  ...   \n",
       "5                                       0.260001  ...   \n",
       "\n",
       "     Why?: washingtonians, incarceration, restoration  \\\n",
       "277                                          0.220966   \n",
       "232                                          0.313237   \n",
       "42                                           0.233937   \n",
       "4                                            0.434284   \n",
       "5                                            0.318955   \n",
       "\n",
       "     Why?: leadership, confidence, confidently  \\\n",
       "277                                   0.123637   \n",
       "232                                   0.169649   \n",
       "42                                    0.378957   \n",
       "4                                     0.138267   \n",
       "5                                     0.431603   \n",
       "\n",
       "     Why?: entrepreneurs, entrepreneurship, tomorrow  \\\n",
       "277                                         0.144793   \n",
       "232                                         0.198417   \n",
       "42                                          0.292252   \n",
       "4                                           0.146611   \n",
       "5                                           0.195330   \n",
       "\n",
       "     Why?: coronavirus, families, primarily  \\\n",
       "277                                0.175899   \n",
       "232                               58.860134   \n",
       "42                                 0.707416   \n",
       "4                                  0.137793   \n",
       "5                                  0.410385   \n",
       "\n",
       "     Why?: california, disproportionately, lgbtiq  \\\n",
       "277                                      0.329241   \n",
       "232                                      0.187807   \n",
       "42                                       0.186292   \n",
       "4                                        0.401312   \n",
       "5                                        0.770084   \n",
       "\n",
       "     Why?: individuals, undiagnosed, disabilities  \\\n",
       "277                                     11.979742   \n",
       "232                                     30.874991   \n",
       "42                                       0.278172   \n",
       "4                                        0.210048   \n",
       "5                                        0.431732   \n",
       "\n",
       "     Why?: engineering, criminal, complete  \\\n",
       "277                               0.128386   \n",
       "232                               0.173454   \n",
       "42                                0.439517   \n",
       "4                                 0.136323   \n",
       "5                                 0.296873   \n",
       "\n",
       "     Why?: disparities, nonprofit, socioeconomic  \\\n",
       "277                                     0.743444   \n",
       "232                                     0.189630   \n",
       "42                                      0.376223   \n",
       "4                                      18.981972   \n",
       "5                                       0.261892   \n",
       "\n",
       "     Why?: simultaneously, immediate, richmond  \\\n",
       "277                                   0.147554   \n",
       "232                                   6.575084   \n",
       "42                                    0.184165   \n",
       "4                                     0.173391   \n",
       "5                                    94.943396   \n",
       "\n",
       "     Why?: constitution, employers, nationwide  \n",
       "277                                   0.217943  \n",
       "232                                   0.209069  \n",
       "42                                    0.498579  \n",
       "4                                     0.192991  \n",
       "5                                     0.453323  \n",
       "\n",
       "[5 rows x 42 columns]"
      ]
     },
     "execution_count": 73,
     "metadata": {},
     "output_type": "execute_result"
    }
   ],
   "source": [
    "# suppose we have a minibatch of new data -- transform under the fit from the above\n",
    "new_df = new_y = ndf.sample(5) # pd.DataFrame({'Category': ndf['Category'].sample(5)})\n",
    "a, b = g2.transform(new_df, new_y, kind='nodes')\n",
    "a"
   ]
  },
  {
   "cell_type": "code",
   "execution_count": 74,
   "id": "00fc2685",
   "metadata": {},
   "outputs": [
    {
     "data": {
      "text/html": [
       "<div>\n",
       "<style scoped>\n",
       "    .dataframe tbody tr th:only-of-type {\n",
       "        vertical-align: middle;\n",
       "    }\n",
       "\n",
       "    .dataframe tbody tr th {\n",
       "        vertical-align: top;\n",
       "    }\n",
       "\n",
       "    .dataframe thead th {\n",
       "        text-align: right;\n",
       "    }\n",
       "</style>\n",
       "<table border=\"1\" class=\"dataframe\">\n",
       "  <thead>\n",
       "    <tr style=\"text-align: right;\">\n",
       "      <th></th>\n",
       "      <th>Category: justice, social, 19</th>\n",
       "      <th>Category: crisis, relief, covid</th>\n",
       "      <th>Category: needed, where, most</th>\n",
       "      <th>Category: education, health, girls</th>\n",
       "    </tr>\n",
       "  </thead>\n",
       "  <tbody>\n",
       "    <tr>\n",
       "      <th>277</th>\n",
       "      <td>0.050010</td>\n",
       "      <td>10.548916</td>\n",
       "      <td>0.051025</td>\n",
       "      <td>0.050049</td>\n",
       "    </tr>\n",
       "    <tr>\n",
       "      <th>232</th>\n",
       "      <td>0.050010</td>\n",
       "      <td>10.548916</td>\n",
       "      <td>0.051025</td>\n",
       "      <td>0.050049</td>\n",
       "    </tr>\n",
       "    <tr>\n",
       "      <th>42</th>\n",
       "      <td>0.050013</td>\n",
       "      <td>16.530600</td>\n",
       "      <td>0.057317</td>\n",
       "      <td>0.062070</td>\n",
       "    </tr>\n",
       "    <tr>\n",
       "      <th>4</th>\n",
       "      <td>0.050013</td>\n",
       "      <td>16.530600</td>\n",
       "      <td>0.057317</td>\n",
       "      <td>0.062070</td>\n",
       "    </tr>\n",
       "    <tr>\n",
       "      <th>5</th>\n",
       "      <td>0.050013</td>\n",
       "      <td>16.530600</td>\n",
       "      <td>0.057317</td>\n",
       "      <td>0.062070</td>\n",
       "    </tr>\n",
       "  </tbody>\n",
       "</table>\n",
       "</div>"
      ],
      "text/plain": [
       "     Category: justice, social, 19  Category: crisis, relief, covid  \\\n",
       "277                       0.050010                        10.548916   \n",
       "232                       0.050010                        10.548916   \n",
       "42                        0.050013                        16.530600   \n",
       "4                         0.050013                        16.530600   \n",
       "5                         0.050013                        16.530600   \n",
       "\n",
       "     Category: needed, where, most  Category: education, health, girls  \n",
       "277                       0.051025                            0.050049  \n",
       "232                       0.051025                            0.050049  \n",
       "42                        0.057317                            0.062070  \n",
       "4                         0.057317                            0.062070  \n",
       "5                         0.057317                            0.062070  "
      ]
     },
     "execution_count": 74,
     "metadata": {},
     "output_type": "execute_result"
    }
   ],
   "source": [
    "b"
   ]
  },
  {
   "cell_type": "code",
   "execution_count": 75,
   "id": "cd1e7ffc",
   "metadata": {},
   "outputs": [],
   "source": [
    "# likewise you can play with how many edges to include using,\n",
    "g2 = g2.filter_weighted_edges(scale=0.5)  # lower positive values of scale mean closer similarity "
   ]
  },
  {
   "cell_type": "code",
   "execution_count": 76,
   "id": "b9dd69ea",
   "metadata": {},
   "outputs": [
    {
     "data": {
      "text/plain": [
       "<AxesSubplot:ylabel='support across data'>"
      ]
     },
     "execution_count": 76,
     "metadata": {},
     "output_type": "execute_result"
    },
    {
     "data": {
      "image/png": "[encoded data removed]",
      "text/plain": [
       "<Figure size 432x288 with 1 Axes>"
      ]
     },
     "metadata": {
      "needs_background": "light"
     },
     "output_type": "display_data"
    }
   ],
   "source": [
    "# find the marginal in the category topic distribution\n",
    "y = g2._node_target\n",
    "y.sum(0).plot(kind='bar', ylabel='support across data', rot=19)"
   ]
  },
  {
   "cell_type": "code",
   "execution_count": 77,
   "id": "63b817ae",
   "metadata": {},
   "outputs": [
    {
     "name": "stdout",
     "output_type": "stream",
     "text": [
      "\n",
      "--------------------------------------------------\n",
      "Topic 1: \t\t\t\t Evidence\n",
      "Category: justice, social, 19\n",
      "-----------------------------------\n",
      "-- Social Justice,    92\n",
      "-- COVID-19; Social Justice,    8\n",
      "-- COVID-19, Social Justice,    2\n",
      "-- Social Justice, COVID-19,    1\n",
      "-- UBI, Social Justice,    1\n",
      "-- COVID-19 & Social Justice,    1\n",
      "\n",
      "--------------------------------------------------\n",
      "Topic 2: \t\t\t\t Evidence\n",
      "Category: crisis, relief, covid\n",
      "-----------------------------------\n",
      "-- COVID-19,    70\n",
      "-- COVID-19 ,    55\n",
      "-- Crisis Relief,    8\n",
      "-- UBI; COVID-19,    3\n",
      "-- COVID-19, UBI,    2\n",
      "\n",
      "--------------------------------------------------\n",
      "Topic 3: \t\t\t\t Evidence\n",
      "Category: needed, where, most\n",
      "-----------------------------------\n",
      "-- UBI,    4\n",
      "-- Where it's needed most,    1\n",
      "\n",
      "--------------------------------------------------\n",
      "Topic 4: \t\t\t\t Evidence\n",
      "Category: education, health, girls\n",
      "-----------------------------------\n",
      "-- Girls Health & Education,    16\n",
      "-- Social Justice, Girls Health & Education,    6\n",
      "-- COVID-19, Girls Health & Education,    4\n",
      "-- Girls Health & Education; COVID-19,    3\n",
      "-- COVID-19; Girls Health & Education,    3\n",
      "-- Girls Health & Education, COVID-19,    2\n",
      "-- COVID-19, Social Justice, Girls Health & Education,    1\n",
      "-- Girls Health & Education; Social Justice,    1\n",
      "-- Social Justice, UBI, Girls Health & Education,    1\n"
     ]
    }
   ],
   "source": [
    "# Let's see how the category columns are supported by the data\n",
    "from collections import Counter\n",
    "tops = y.values.argmax(1)\n",
    "for topic_number in range(y.shape[1]):\n",
    "    indices = np.where(tops==topic_number)\n",
    "    top_category = Counter(ndf.loc[indices].Category)\n",
    "    print()\n",
    "    print('-'*50)\n",
    "    print(f'Topic {topic_number+1}: \\t\\t\\t\\t Evidence')\n",
    "    print(f'{y.columns[topic_number]}')\n",
    "    print('-'*35)\n",
    "    for t, c in top_category.most_common():\n",
    "        print(f'-- {t},    {c}')"
   ]
  },
  {
   "cell_type": "markdown",
   "id": "efe62b1e",
   "metadata": {},
   "source": [
    "We see that different spellings, spaces, etc or use of ;, , etc map to the same topic. This is a useful way to disambiguate when there are many similar categories without having to do a lot of data cleaning and prep.\n",
    "\n",
    "The choice of `n_topics_target` sets the prior on the Dirty_Cat GapEncoder used under the hood"
   ]
  },
  {
   "cell_type": "markdown",
   "id": "530cde56",
   "metadata": {},
   "source": [
    "_________________________________________________________________________________________\n",
    "Let's add the Category Topic Number as a feature to help us visualize using the Histogram Feature of the Graphistry UI\n",
    "\n",
    "This reduces the naive one-hot-encoding of 22 columns down the the number set by the `n_topics_target`"
   ]
  },
  {
   "cell_type": "code",
   "execution_count": 78,
   "id": "5724c75f",
   "metadata": {},
   "outputs": [],
   "source": [
    "g2._nodes['topic'] = y.columns[tops]\n",
    "ndf['topic'] = y.columns[tops]"
   ]
  },
  {
   "cell_type": "code",
   "execution_count": 79,
   "id": "ad387dc0",
   "metadata": {},
   "outputs": [
    {
     "data": {
      "text/plain": [
       "0        Category: justice, social, 19\n",
       "1      Category: crisis, relief, covid\n",
       "2      Category: crisis, relief, covid\n",
       "3      Category: crisis, relief, covid\n",
       "4      Category: crisis, relief, covid\n",
       "                    ...               \n",
       "280    Category: crisis, relief, covid\n",
       "281    Category: crisis, relief, covid\n",
       "282    Category: crisis, relief, covid\n",
       "283    Category: crisis, relief, covid\n",
       "284    Category: crisis, relief, covid\n",
       "Name: topic, Length: 285, dtype: object"
      ]
     },
     "execution_count": 79,
     "metadata": {},
     "output_type": "execute_result"
    }
   ],
   "source": [
    "g2._nodes.topic"
   ]
  },
  {
   "cell_type": "markdown",
   "id": "4486a47c",
   "metadata": {},
   "source": [
    "------------------------------------------------------------------------------\n",
    "In the plot below, use the histogram feature on the bottom right of the UI to color by `topic`\n"
   ]
  },
  {
   "cell_type": "code",
   "execution_count": 80,
   "id": "5d46b0ab",
   "metadata": {},
   "outputs": [
    {
     "data": {
      "text/plain": [
       "'https://hub.graphistry.com/graph/graph.html?dataset=4b2a913860a44fefb8636ed23ab9d813&type=arrow&viztoken=48acf784-9934-4e14-8797-25143626f6c4&usertag=8a6d667e-pygraphistry-0.28.6+122.g2c743bb.dirty&splashAfter=1671779582&info=true&play=0'"
      ]
     },
     "execution_count": 80,
     "metadata": {},
     "output_type": "execute_result"
    }
   ],
   "source": [
    "g2.bind(point_title='Grantee').plot(render=RENDER)  # color by `topic` in histogram"
   ]
  },
  {
   "cell_type": "code",
   "execution_count": 81,
   "id": "6c17e7c4",
   "metadata": {},
   "outputs": [],
   "source": [
    "## lets sum $$ across major topics"
   ]
  },
  {
   "cell_type": "code",
   "execution_count": 82,
   "id": "c3ad0af4",
   "metadata": {},
   "outputs": [
    {
     "data": {
      "text/plain": [
       "topic\n",
       "Category: crisis, relief, covid       $289,401,918.0\n",
       "Category: justice, social, 19          $92,815,393.0\n",
       "Category: education, health, girls     $71,519,000.0\n",
       "Category: needed, where, most          $13,210,000.0\n",
       "Name: $ amount, dtype: object"
      ]
     },
     "execution_count": 82,
     "metadata": {},
     "output_type": "execute_result"
    }
   ],
   "source": [
    "topic_sums = ndf.groupby('topic')['$ amount'].sum()\n",
    "topic_sums.sort_values()[::-1].apply(lambda x : '${:3,}'.format(x))"
   ]
  },
  {
   "cell_type": "markdown",
   "id": "058f5eef",
   "metadata": {},
   "source": [
    "Hence we have Crisis Relief, Social Justice, Health Education Girls, and UBI occupying the main topics across the target"
   ]
  },
  {
   "cell_type": "markdown",
   "id": "94756034",
   "metadata": {},
   "source": [
    "------------------------------------------------------------------------------------------\n",
    "Let's move on to point 2) \n",
    "## Sentence Transformer Model\n",
    "\n",
    "To trigger the sentence encoder, just lower the `min_words` count (which previously we had set to higher than the number of words across the `Why?` column) to some small value or zero to force encoding any X=[..] columns, since it sets the minimum number of words to consider passing on to the (sentence, ngram) embedding pipelines.  \n",
    "\n",
    "Here, UMAP will work directly on the sentence transformer vector and expose a search interface."
   ]
  },
  {
   "cell_type": "code",
   "execution_count": 83,
   "id": "0c4ceacb",
   "metadata": {},
   "outputs": [],
   "source": [
    "g3 = g.umap(X = ['Why?', 'Grantee'], y = 'Category', \n",
    "            min_words=0, \n",
    "            model_name ='paraphrase-MiniLM-L6-v2', \n",
    "            cardinality_threshold_target=2,\n",
    "            use_scaler=None,\n",
    "            use_scaler_target=None,\n",
    "            scale=0.5)"
   ]
  },
  {
   "cell_type": "code",
   "execution_count": 84,
   "id": "e137b52c",
   "metadata": {},
   "outputs": [
    {
     "data": {
      "text/html": [
       "<div>\n",
       "<style scoped>\n",
       "    .dataframe tbody tr th:only-of-type {\n",
       "        vertical-align: middle;\n",
       "    }\n",
       "\n",
       "    .dataframe tbody tr th {\n",
       "        vertical-align: top;\n",
       "    }\n",
       "\n",
       "    .dataframe thead th {\n",
       "        text-align: right;\n",
       "    }\n",
       "</style>\n",
       "<table border=\"1\" class=\"dataframe\">\n",
       "  <thead>\n",
       "    <tr style=\"text-align: right;\">\n",
       "      <th></th>\n",
       "      <th>Why?</th>\n",
       "    </tr>\n",
       "  </thead>\n",
       "  <tbody>\n",
       "    <tr>\n",
       "      <th>28</th>\n",
       "      <td>Climate Justice Alliance (CJA) formed in 2013 ...</td>\n",
       "    </tr>\n",
       "    <tr>\n",
       "      <th>27</th>\n",
       "      <td>The Climate and Clean Energy Equity Fund (Equi...</td>\n",
       "    </tr>\n",
       "    <tr>\n",
       "      <th>138</th>\n",
       "      <td>The Richmond Rapid Response Fund (R3F) is a wr...</td>\n",
       "    </tr>\n",
       "    <tr>\n",
       "      <th>29</th>\n",
       "      <td>The Deep South Center for Environment Justice,...</td>\n",
       "    </tr>\n",
       "    <tr>\n",
       "      <th>113</th>\n",
       "      <td>For 40 years, Futures Without Violence has pio...</td>\n",
       "    </tr>\n",
       "    <tr>\n",
       "      <th>46</th>\n",
       "      <td>DC or Nothing, Inc. is a nonprofit organizatio...</td>\n",
       "    </tr>\n",
       "    <tr>\n",
       "      <th>134</th>\n",
       "      <td>To support Oxfam’s response to the ongoing imp...</td>\n",
       "    </tr>\n",
       "    <tr>\n",
       "      <th>54</th>\n",
       "      <td>With the support of #StartSmall ALIMA is opera...</td>\n",
       "    </tr>\n",
       "    <tr>\n",
       "      <th>161</th>\n",
       "      <td>To support the \"AEGIS Study\" Fund to address S...</td>\n",
       "    </tr>\n",
       "    <tr>\n",
       "      <th>39</th>\n",
       "      <td>The Caribbean Climate Justice Project seeks to...</td>\n",
       "    </tr>\n",
       "  </tbody>\n",
       "</table>\n",
       "</div>"
      ],
      "text/plain": [
       "                                                  Why?\n",
       "28   Climate Justice Alliance (CJA) formed in 2013 ...\n",
       "27   The Climate and Clean Energy Equity Fund (Equi...\n",
       "138  The Richmond Rapid Response Fund (R3F) is a wr...\n",
       "29   The Deep South Center for Environment Justice,...\n",
       "113  For 40 years, Futures Without Violence has pio...\n",
       "46   DC or Nothing, Inc. is a nonprofit organizatio...\n",
       "134  To support Oxfam’s response to the ongoing imp...\n",
       "54   With the support of #StartSmall ALIMA is opera...\n",
       "161  To support the \"AEGIS Study\" Fund to address S...\n",
       "39   The Caribbean Climate Justice Project seeks to..."
      ]
     },
     "execution_count": 84,
     "metadata": {},
     "output_type": "execute_result"
    }
   ],
   "source": [
    "g3.search('carbon neutral')[0][['Why?']]"
   ]
  },
  {
   "cell_type": "code",
   "execution_count": 85,
   "id": "a222ef95",
   "metadata": {},
   "outputs": [
    {
     "data": {
      "text/plain": [
       "'$13,776,250.0'"
      ]
     },
     "execution_count": 85,
     "metadata": {},
     "output_type": "execute_result"
    }
   ],
   "source": [
    "# make quick semantic estimates\n",
    "'${:3,}'.format(g3.search('carbon neutral')[0]['$ amount'].sum())"
   ]
  },
  {
   "cell_type": "code",
   "execution_count": 86,
   "id": "7bbcec3a",
   "metadata": {},
   "outputs": [
    {
     "data": {
      "text/html": [
       "<div>\n",
       "<style scoped>\n",
       "    .dataframe tbody tr th:only-of-type {\n",
       "        vertical-align: middle;\n",
       "    }\n",
       "\n",
       "    .dataframe tbody tr th {\n",
       "        vertical-align: top;\n",
       "    }\n",
       "\n",
       "    .dataframe thead th {\n",
       "        text-align: right;\n",
       "    }\n",
       "</style>\n",
       "<table border=\"1\" class=\"dataframe\">\n",
       "  <thead>\n",
       "    <tr style=\"text-align: right;\">\n",
       "      <th></th>\n",
       "      <th>Why?</th>\n",
       "      <th>$ amount</th>\n",
       "    </tr>\n",
       "  </thead>\n",
       "  <tbody>\n",
       "    <tr>\n",
       "      <th>237</th>\n",
       "      <td>For the #FirstOfTheMonth rent relief project a...</td>\n",
       "      <td>530000.0</td>\n",
       "    </tr>\n",
       "    <tr>\n",
       "      <th>184</th>\n",
       "      <td>Funds will be used towards their mission of pr...</td>\n",
       "      <td>1000000.0</td>\n",
       "    </tr>\n",
       "    <tr>\n",
       "      <th>142</th>\n",
       "      <td>To support in its efforts to empower people wi...</td>\n",
       "      <td>4720000.0</td>\n",
       "    </tr>\n",
       "    <tr>\n",
       "      <th>225</th>\n",
       "      <td>Supports the 30-day Rent Relief program and fu...</td>\n",
       "      <td>200000.0</td>\n",
       "    </tr>\n",
       "    <tr>\n",
       "      <th>253</th>\n",
       "      <td>Funds support the Navajo Water Project - conne...</td>\n",
       "      <td>1000000.0</td>\n",
       "    </tr>\n",
       "    <tr>\n",
       "      <th>177</th>\n",
       "      <td>To support the COVID-19 Resilience Fund, servi...</td>\n",
       "      <td>2000000.0</td>\n",
       "    </tr>\n",
       "    <tr>\n",
       "      <th>122</th>\n",
       "      <td>For over 60 years, Public Health Solutions (PH...</td>\n",
       "      <td>200000.0</td>\n",
       "    </tr>\n",
       "    <tr>\n",
       "      <th>226</th>\n",
       "      <td>Funding to be used as leverage in negotiations...</td>\n",
       "      <td>300000.0</td>\n",
       "    </tr>\n",
       "    <tr>\n",
       "      <th>29</th>\n",
       "      <td>The Deep South Center for Environment Justice,...</td>\n",
       "      <td>300000.0</td>\n",
       "    </tr>\n",
       "    <tr>\n",
       "      <th>110</th>\n",
       "      <td>Mission Neighborhood Centers (MNC), founded in...</td>\n",
       "      <td>1000000.0</td>\n",
       "    </tr>\n",
       "  </tbody>\n",
       "</table>\n",
       "</div>"
      ],
      "text/plain": [
       "                                                  Why?   $ amount\n",
       "237  For the #FirstOfTheMonth rent relief project a...   530000.0\n",
       "184  Funds will be used towards their mission of pr...  1000000.0\n",
       "142  To support in its efforts to empower people wi...  4720000.0\n",
       "225  Supports the 30-day Rent Relief program and fu...   200000.0\n",
       "253  Funds support the Navajo Water Project - conne...  1000000.0\n",
       "177  To support the COVID-19 Resilience Fund, servi...  2000000.0\n",
       "122  For over 60 years, Public Health Solutions (PH...   200000.0\n",
       "226  Funding to be used as leverage in negotiations...   300000.0\n",
       "29   The Deep South Center for Environment Justice,...   300000.0\n",
       "110  Mission Neighborhood Centers (MNC), founded in...  1000000.0"
      ]
     },
     "execution_count": 86,
     "metadata": {},
     "output_type": "execute_result"
    }
   ],
   "source": [
    "g3.search('sustainable homes and communities')[0][['Why?','$ amount']]#.sum()"
   ]
  },
  {
   "cell_type": "code",
   "execution_count": 87,
   "id": "1cc5bd36",
   "metadata": {},
   "outputs": [
    {
     "data": {
      "text/plain": [
       "'$11,250,000.0'"
      ]
     },
     "execution_count": 87,
     "metadata": {},
     "output_type": "execute_result"
    }
   ],
   "source": [
    "'${:3,}'.format(g3.search('sustainable homes and communities')[0]['$ amount'].sum())"
   ]
  },
  {
   "cell_type": "code",
   "execution_count": 88,
   "id": "3cc28169",
   "metadata": {},
   "outputs": [
    {
     "data": {
      "text/plain": [
       "'https://hub.graphistry.com/graph/graph.html?dataset=45daea71635741e880a0ee68714214cf&type=arrow&viztoken=5b04c22c-69f6-4213-af85-53737042aaac&usertag=8a6d667e-pygraphistry-0.28.6+122.g2c743bb.dirty&splashAfter=1671779584&info=true&play=0'"
      ]
     },
     "execution_count": 88,
     "metadata": {},
     "output_type": "execute_result"
    }
   ],
   "source": [
    "# see the queries landscape  -- paste url to see graph if g.plot(render=False)\n",
    "g3.search_graph('sustainable homes and communities', scale=0.90, top_n=10).bind(point_title='Grantee').plot(render=RENDER)"
   ]
  },
  {
   "cell_type": "code",
   "execution_count": 89,
   "id": "6bf9f793",
   "metadata": {},
   "outputs": [
    {
     "name": "stderr",
     "output_type": "stream",
     "text": [
      "'SuperVectorizer' object has no attribute 'get_feature_names_in'\n"
     ]
    },
    {
     "data": {
      "text/html": [
       "<div>\n",
       "<style scoped>\n",
       "    .dataframe tbody tr th:only-of-type {\n",
       "        vertical-align: middle;\n",
       "    }\n",
       "\n",
       "    .dataframe tbody tr th {\n",
       "        vertical-align: top;\n",
       "    }\n",
       "\n",
       "    .dataframe thead th {\n",
       "        text-align: right;\n",
       "    }\n",
       "</style>\n",
       "<table border=\"1\" class=\"dataframe\">\n",
       "  <thead>\n",
       "    <tr style=\"text-align: right;\">\n",
       "      <th></th>\n",
       "      <th>Why?_Grantee_0</th>\n",
       "      <th>Why?_Grantee_1</th>\n",
       "      <th>Why?_Grantee_2</th>\n",
       "      <th>Why?_Grantee_3</th>\n",
       "      <th>Why?_Grantee_4</th>\n",
       "      <th>Why?_Grantee_5</th>\n",
       "      <th>Why?_Grantee_6</th>\n",
       "      <th>Why?_Grantee_7</th>\n",
       "      <th>Why?_Grantee_8</th>\n",
       "      <th>Why?_Grantee_9</th>\n",
       "      <th>...</th>\n",
       "      <th>Why?_Grantee_374</th>\n",
       "      <th>Why?_Grantee_375</th>\n",
       "      <th>Why?_Grantee_376</th>\n",
       "      <th>Why?_Grantee_377</th>\n",
       "      <th>Why?_Grantee_378</th>\n",
       "      <th>Why?_Grantee_379</th>\n",
       "      <th>Why?_Grantee_380</th>\n",
       "      <th>Why?_Grantee_381</th>\n",
       "      <th>Why?_Grantee_382</th>\n",
       "      <th>Why?_Grantee_383</th>\n",
       "    </tr>\n",
       "  </thead>\n",
       "  <tbody>\n",
       "    <tr>\n",
       "      <th>277</th>\n",
       "      <td>-0.143312</td>\n",
       "      <td>0.108179</td>\n",
       "      <td>-0.037043</td>\n",
       "      <td>0.177220</td>\n",
       "      <td>0.075272</td>\n",
       "      <td>0.097993</td>\n",
       "      <td>-0.003902</td>\n",
       "      <td>-0.044399</td>\n",
       "      <td>0.164441</td>\n",
       "      <td>-0.001390</td>\n",
       "      <td>...</td>\n",
       "      <td>0.134166</td>\n",
       "      <td>-0.162043</td>\n",
       "      <td>0.299546</td>\n",
       "      <td>-0.163846</td>\n",
       "      <td>0.086148</td>\n",
       "      <td>0.123513</td>\n",
       "      <td>-0.331898</td>\n",
       "      <td>-0.526099</td>\n",
       "      <td>0.363935</td>\n",
       "      <td>-0.296919</td>\n",
       "    </tr>\n",
       "    <tr>\n",
       "      <th>232</th>\n",
       "      <td>0.036824</td>\n",
       "      <td>-0.049116</td>\n",
       "      <td>-0.249667</td>\n",
       "      <td>-0.066719</td>\n",
       "      <td>0.144140</td>\n",
       "      <td>0.555284</td>\n",
       "      <td>-0.012073</td>\n",
       "      <td>0.110200</td>\n",
       "      <td>0.024264</td>\n",
       "      <td>0.396906</td>\n",
       "      <td>...</td>\n",
       "      <td>0.081129</td>\n",
       "      <td>-0.360361</td>\n",
       "      <td>0.097009</td>\n",
       "      <td>0.063268</td>\n",
       "      <td>0.028107</td>\n",
       "      <td>0.023804</td>\n",
       "      <td>-0.241448</td>\n",
       "      <td>-0.014664</td>\n",
       "      <td>0.340554</td>\n",
       "      <td>0.178263</td>\n",
       "    </tr>\n",
       "    <tr>\n",
       "      <th>42</th>\n",
       "      <td>-0.093346</td>\n",
       "      <td>0.226917</td>\n",
       "      <td>-0.130449</td>\n",
       "      <td>0.128837</td>\n",
       "      <td>-0.022007</td>\n",
       "      <td>0.100328</td>\n",
       "      <td>-0.175454</td>\n",
       "      <td>-0.038153</td>\n",
       "      <td>-0.346252</td>\n",
       "      <td>0.200267</td>\n",
       "      <td>...</td>\n",
       "      <td>0.465716</td>\n",
       "      <td>-0.014907</td>\n",
       "      <td>-0.148424</td>\n",
       "      <td>0.185390</td>\n",
       "      <td>0.210262</td>\n",
       "      <td>0.061731</td>\n",
       "      <td>-0.095276</td>\n",
       "      <td>-0.364776</td>\n",
       "      <td>-0.269969</td>\n",
       "      <td>-0.039480</td>\n",
       "    </tr>\n",
       "    <tr>\n",
       "      <th>4</th>\n",
       "      <td>-0.051247</td>\n",
       "      <td>0.165963</td>\n",
       "      <td>-0.305596</td>\n",
       "      <td>-0.016758</td>\n",
       "      <td>0.202570</td>\n",
       "      <td>0.039749</td>\n",
       "      <td>0.008263</td>\n",
       "      <td>-0.077437</td>\n",
       "      <td>0.042844</td>\n",
       "      <td>-0.120097</td>\n",
       "      <td>...</td>\n",
       "      <td>0.137678</td>\n",
       "      <td>-0.040789</td>\n",
       "      <td>-0.329480</td>\n",
       "      <td>0.222337</td>\n",
       "      <td>0.438919</td>\n",
       "      <td>0.547847</td>\n",
       "      <td>-0.662562</td>\n",
       "      <td>0.013438</td>\n",
       "      <td>-0.110057</td>\n",
       "      <td>-0.308921</td>\n",
       "    </tr>\n",
       "    <tr>\n",
       "      <th>5</th>\n",
       "      <td>-0.144450</td>\n",
       "      <td>0.184496</td>\n",
       "      <td>-0.044361</td>\n",
       "      <td>-0.127371</td>\n",
       "      <td>0.284236</td>\n",
       "      <td>0.026689</td>\n",
       "      <td>-0.330164</td>\n",
       "      <td>0.198957</td>\n",
       "      <td>0.078067</td>\n",
       "      <td>0.128687</td>\n",
       "      <td>...</td>\n",
       "      <td>0.160333</td>\n",
       "      <td>0.142131</td>\n",
       "      <td>0.112497</td>\n",
       "      <td>0.126151</td>\n",
       "      <td>-0.127837</td>\n",
       "      <td>0.297678</td>\n",
       "      <td>-0.256181</td>\n",
       "      <td>-0.155014</td>\n",
       "      <td>0.167171</td>\n",
       "      <td>-0.112831</td>\n",
       "    </tr>\n",
       "  </tbody>\n",
       "</table>\n",
       "<p>5 rows × 384 columns</p>\n",
       "</div>"
      ],
      "text/plain": [
       "     Why?_Grantee_0  Why?_Grantee_1  Why?_Grantee_2  Why?_Grantee_3  \\\n",
       "277       -0.143312        0.108179       -0.037043        0.177220   \n",
       "232        0.036824       -0.049116       -0.249667       -0.066719   \n",
       "42        -0.093346        0.226917       -0.130449        0.128837   \n",
       "4         -0.051247        0.165963       -0.305596       -0.016758   \n",
       "5         -0.144450        0.184496       -0.044361       -0.127371   \n",
       "\n",
       "     Why?_Grantee_4  Why?_Grantee_5  Why?_Grantee_6  Why?_Grantee_7  \\\n",
       "277        0.075272        0.097993       -0.003902       -0.044399   \n",
       "232        0.144140        0.555284       -0.012073        0.110200   \n",
       "42        -0.022007        0.100328       -0.175454       -0.038153   \n",
       "4          0.202570        0.039749        0.008263       -0.077437   \n",
       "5          0.284236        0.026689       -0.330164        0.198957   \n",
       "\n",
       "     Why?_Grantee_8  Why?_Grantee_9  ...  Why?_Grantee_374  Why?_Grantee_375  \\\n",
       "277        0.164441       -0.001390  ...          0.134166         -0.162043   \n",
       "232        0.024264        0.396906  ...          0.081129         -0.360361   \n",
       "42        -0.346252        0.200267  ...          0.465716         -0.014907   \n",
       "4          0.042844       -0.120097  ...          0.137678         -0.040789   \n",
       "5          0.078067        0.128687  ...          0.160333          0.142131   \n",
       "\n",
       "     Why?_Grantee_376  Why?_Grantee_377  Why?_Grantee_378  Why?_Grantee_379  \\\n",
       "277          0.299546         -0.163846          0.086148          0.123513   \n",
       "232          0.097009          0.063268          0.028107          0.023804   \n",
       "42          -0.148424          0.185390          0.210262          0.061731   \n",
       "4           -0.329480          0.222337          0.438919          0.547847   \n",
       "5            0.112497          0.126151         -0.127837          0.297678   \n",
       "\n",
       "     Why?_Grantee_380  Why?_Grantee_381  Why?_Grantee_382  Why?_Grantee_383  \n",
       "277         -0.331898         -0.526099          0.363935         -0.296919  \n",
       "232         -0.241448         -0.014664          0.340554          0.178263  \n",
       "42          -0.095276         -0.364776         -0.269969         -0.039480  \n",
       "4           -0.662562          0.013438         -0.110057         -0.308921  \n",
       "5           -0.256181         -0.155014          0.167171         -0.112831  \n",
       "\n",
       "[5 rows x 384 columns]"
      ]
     },
     "execution_count": 89,
     "metadata": {},
     "output_type": "execute_result"
    }
   ],
   "source": [
    "# or transform on new data as before\n",
    "a, b = g3.transform(new_df, new_y, kind='nodes')\n",
    "a"
   ]
  },
  {
   "cell_type": "code",
   "execution_count": 90,
   "id": "142b85db",
   "metadata": {},
   "outputs": [
    {
     "data": {
      "text/html": [
       "<div>\n",
       "<style scoped>\n",
       "    .dataframe tbody tr th:only-of-type {\n",
       "        vertical-align: middle;\n",
       "    }\n",
       "\n",
       "    .dataframe tbody tr th {\n",
       "        vertical-align: top;\n",
       "    }\n",
       "\n",
       "    .dataframe thead th {\n",
       "        text-align: right;\n",
       "    }\n",
       "</style>\n",
       "<table border=\"1\" class=\"dataframe\">\n",
       "  <thead>\n",
       "    <tr style=\"text-align: right;\">\n",
       "      <th></th>\n",
       "      <th>Category: covid, ubi, 19</th>\n",
       "      <th>Category: 19, it, ubi</th>\n",
       "      <th>Category: justice, social, most</th>\n",
       "      <th>Category: 19, it, ubi</th>\n",
       "      <th>Category: education, health, girls</th>\n",
       "      <th>Category: crisis, relief, needed</th>\n",
       "      <th>Category: ubi, 19, it</th>\n",
       "    </tr>\n",
       "  </thead>\n",
       "  <tbody>\n",
       "    <tr>\n",
       "      <th>277</th>\n",
       "      <td>10.517483</td>\n",
       "      <td>0.068383</td>\n",
       "      <td>0.050004</td>\n",
       "      <td>0.064100</td>\n",
       "      <td>0.050020</td>\n",
       "      <td>0.050003</td>\n",
       "      <td>0.050007</td>\n",
       "    </tr>\n",
       "    <tr>\n",
       "      <th>232</th>\n",
       "      <td>10.517483</td>\n",
       "      <td>0.068383</td>\n",
       "      <td>0.050004</td>\n",
       "      <td>0.064100</td>\n",
       "      <td>0.050020</td>\n",
       "      <td>0.050003</td>\n",
       "      <td>0.050007</td>\n",
       "    </tr>\n",
       "    <tr>\n",
       "      <th>42</th>\n",
       "      <td>0.050000</td>\n",
       "      <td>0.050000</td>\n",
       "      <td>0.050000</td>\n",
       "      <td>0.050481</td>\n",
       "      <td>0.050818</td>\n",
       "      <td>16.548246</td>\n",
       "      <td>0.050455</td>\n",
       "    </tr>\n",
       "    <tr>\n",
       "      <th>4</th>\n",
       "      <td>0.050000</td>\n",
       "      <td>0.050000</td>\n",
       "      <td>0.050000</td>\n",
       "      <td>0.050481</td>\n",
       "      <td>0.050818</td>\n",
       "      <td>16.548246</td>\n",
       "      <td>0.050455</td>\n",
       "    </tr>\n",
       "    <tr>\n",
       "      <th>5</th>\n",
       "      <td>0.050000</td>\n",
       "      <td>0.050000</td>\n",
       "      <td>0.050000</td>\n",
       "      <td>0.050481</td>\n",
       "      <td>0.050818</td>\n",
       "      <td>16.548246</td>\n",
       "      <td>0.050455</td>\n",
       "    </tr>\n",
       "  </tbody>\n",
       "</table>\n",
       "</div>"
      ],
      "text/plain": [
       "     Category: covid, ubi, 19  Category: 19, it, ubi  \\\n",
       "277                 10.517483               0.068383   \n",
       "232                 10.517483               0.068383   \n",
       "42                   0.050000               0.050000   \n",
       "4                    0.050000               0.050000   \n",
       "5                    0.050000               0.050000   \n",
       "\n",
       "     Category: justice, social, most  Category: 19, it, ubi  \\\n",
       "277                         0.050004               0.064100   \n",
       "232                         0.050004               0.064100   \n",
       "42                          0.050000               0.050481   \n",
       "4                           0.050000               0.050481   \n",
       "5                           0.050000               0.050481   \n",
       "\n",
       "     Category: education, health, girls  Category: crisis, relief, needed  \\\n",
       "277                            0.050020                          0.050003   \n",
       "232                            0.050020                          0.050003   \n",
       "42                             0.050818                         16.548246   \n",
       "4                              0.050818                         16.548246   \n",
       "5                              0.050818                         16.548246   \n",
       "\n",
       "     Category: ubi, 19, it  \n",
       "277               0.050007  \n",
       "232               0.050007  \n",
       "42                0.050455  \n",
       "4                 0.050455  \n",
       "5                 0.050455  "
      ]
     },
     "execution_count": 90,
     "metadata": {},
     "output_type": "execute_result"
    }
   ],
   "source": [
    "b"
   ]
  },
  {
   "cell_type": "markdown",
   "id": "5a3033a4",
   "metadata": {},
   "source": [
    "Clicking around to nearest neighbors demonstrates good semantic similarity, as seen by the Paraphrase Model `paraphrase-MiniLM-L6-v2`"
   ]
  },
  {
   "cell_type": "code",
   "execution_count": 91,
   "id": "9d33ea95",
   "metadata": {},
   "outputs": [
    {
     "data": {
      "text/plain": [
       "'https://hub.graphistry.com/graph/graph.html?dataset=df6a5b10b32e43029244401615fa0438&type=arrow&viztoken=e37e940f-334b-413e-902e-c761e5052713&usertag=8a6d667e-pygraphistry-0.28.6+122.g2c743bb.dirty&splashAfter=1671779586&info=true&play=0'"
      ]
     },
     "execution_count": 91,
     "metadata": {},
     "output_type": "execute_result"
    }
   ],
   "source": [
    "g3.bind(point_title='Grantee').plot(render=RENDER)"
   ]
  },
  {
   "cell_type": "markdown",
   "id": "7cbb210c",
   "metadata": {},
   "source": [
    "Suppose we wanted to add the `$ amount` column as a feature: \n",
    "\n",
    "To include it in the sentence transformer model, reduce the` min_words` threshold to include it. If we want the column `Grantee` to be encoded as a topic model, set `min_words` to between the average of `Why?` (higher) and `Grantee` (lower).  It nevertheless is useful across many datasets since if a column is truly categorical, its cardinality is usually well under that of a truly textual feature. Moreover, if you want all columns to be textually encoded, set `min_words=0`. \n",
    "\n",
    "The `$ amount` column will be passed in and scaled according to `use_scaler`, while `use_scaler_target` selects how to scale targets \n",
    "\n",
    "(exercise:  `use_scaler_target='kbins'` to see the difference in `g._node_target` \n",
    "\n",
    "or scale the dataframe directly (this transforms the batch dataframe)\n",
    "\n",
    "`a, b = g.scale(ndf, ydf=ndf, 'nodes', use_scaler_target='kbins', n_bins=9))` "
   ]
  },
  {
   "cell_type": "code",
   "execution_count": 92,
   "id": "4ef2870c",
   "metadata": {},
   "outputs": [],
   "source": [
    "g3 = g.umap(X = ['Why?', 'Grantee', '$ amount'], y = 'Category',\n",
    "            min_words=2, # don't set to zero or it will stringify the `$ amount`\n",
    "            model_name ='paraphrase-MiniLM-L6-v2',\n",
    "            use_scaler=None,\n",
    "           )"
   ]
  },
  {
   "cell_type": "code",
   "execution_count": 93,
   "id": "97bdaa46",
   "metadata": {},
   "outputs": [
    {
     "data": {
      "text/plain": [
       "['Why?', 'Grantee']"
      ]
     },
     "execution_count": 93,
     "metadata": {},
     "output_type": "execute_result"
    }
   ],
   "source": [
    "g3._node_encoder.text_cols"
   ]
  },
  {
   "cell_type": "code",
   "execution_count": 94,
   "id": "33f3bc17",
   "metadata": {},
   "outputs": [
    {
     "data": {
      "text/plain": [
       "'https://hub.graphistry.com/graph/graph.html?dataset=471878490cf34808ab0b2fe7ddb01700&type=arrow&viztoken=20adc334-7789-4380-82c5-489dea5d1899&usertag=8a6d667e-pygraphistry-0.28.6+122.g2c743bb.dirty&splashAfter=1671779589&info=true&play=0'"
      ]
     },
     "execution_count": 94,
     "metadata": {},
     "output_type": "execute_result"
    }
   ],
   "source": [
    "g3.plot(render=RENDER) # color/size the noded by `$ amount`, mimics graph above as they use the same embedding xys"
   ]
  },
  {
   "cell_type": "markdown",
   "id": "f014b4e0",
   "metadata": {},
   "source": [
    "## NGRAMS model\n",
    "\n",
    "Lastly, suppose we want a plain Ngrams model matrix, and for a change, one-hot-encode the target `Category`\n",
    "\n",
    "Set `use_ngrams = True`\n",
    "and set the `cardinality_threshold_target` > cardinality(`Category`).\n",
    "\n",
    "UMAP will work directly on the ngrams matrix, and any other feature column one may transform. "
   ]
  },
  {
   "cell_type": "code",
   "execution_count": 95,
   "id": "8c1a588c",
   "metadata": {},
   "outputs": [],
   "source": [
    "g4 = g.umap(X = ['Why?', 'Grantee'], y = 'Category', \n",
    "            use_ngrams=True, \n",
    "            ngram_range=(1,3), \n",
    "            min_df=2, \n",
    "            max_df=0.3,\n",
    "            use_scaler=None,\n",
    "            cardinality_threshold_target=400 # this will one-hot-encode the target, \n",
    "                                                # as we have less than 400 total `categories`\n",
    "           )"
   ]
  },
  {
   "cell_type": "code",
   "execution_count": 96,
   "id": "e1e2683c",
   "metadata": {},
   "outputs": [
    {
     "data": {
      "text/plain": [
       "'https://hub.graphistry.com/graph/graph.html?dataset=24582a719b4546c6a84bfa75ff8b0e23&type=arrow&viztoken=02161324-81f7-46e2-9648-70f2f4f5fe30&usertag=8a6d667e-pygraphistry-0.28.6+122.g2c743bb.dirty&splashAfter=1671779591&info=true&play=0'"
      ]
     },
     "execution_count": 96,
     "metadata": {},
     "output_type": "execute_result"
    }
   ],
   "source": [
    "g4.bind(point_title='Category').plot(render=RENDER)  # umap-ing ngrams is not as useful as sentence embeddings as you may visually see, however they can be useful graphs nonetheless. Press `play` in the UI."
   ]
  },
  {
   "cell_type": "code",
   "execution_count": 97,
   "id": "d570f001",
   "metadata": {},
   "outputs": [
    {
     "data": {
      "text/html": [
       "<div>\n",
       "<style scoped>\n",
       "    .dataframe tbody tr th:only-of-type {\n",
       "        vertical-align: middle;\n",
       "    }\n",
       "\n",
       "    .dataframe tbody tr th {\n",
       "        vertical-align: top;\n",
       "    }\n",
       "\n",
       "    .dataframe thead th {\n",
       "        text-align: right;\n",
       "    }\n",
       "</style>\n",
       "<table border=\"1\" class=\"dataframe\">\n",
       "  <thead>\n",
       "    <tr style=\"text-align: right;\">\n",
       "      <th></th>\n",
       "      <th>reform</th>\n",
       "      <th>alliance</th>\n",
       "      <th>committed</th>\n",
       "      <th>criminal</th>\n",
       "      <th>justice</th>\n",
       "      <th>system</th>\n",
       "      <th>throughout</th>\n",
       "      <th>united</th>\n",
       "      <th>states</th>\n",
       "      <th>by</th>\n",
       "      <th>...</th>\n",
       "      <th>mayor office</th>\n",
       "      <th>for homeless</th>\n",
       "      <th>match</th>\n",
       "      <th>hospital</th>\n",
       "      <th>2m</th>\n",
       "      <th>go towards</th>\n",
       "      <th>grant 2m</th>\n",
       "      <th>will go towards</th>\n",
       "      <th>total grant 2m</th>\n",
       "      <th>clinics</th>\n",
       "    </tr>\n",
       "  </thead>\n",
       "  <tbody>\n",
       "    <tr>\n",
       "      <th>0</th>\n",
       "      <td>0.0</td>\n",
       "      <td>0.0</td>\n",
       "      <td>0.0</td>\n",
       "      <td>0.0</td>\n",
       "      <td>0.0</td>\n",
       "      <td>0.0</td>\n",
       "      <td>0.0</td>\n",
       "      <td>0.0</td>\n",
       "      <td>0.0</td>\n",
       "      <td>0.0</td>\n",
       "      <td>...</td>\n",
       "      <td>0.0</td>\n",
       "      <td>0.0</td>\n",
       "      <td>0.0</td>\n",
       "      <td>0.0</td>\n",
       "      <td>0.0</td>\n",
       "      <td>0.0</td>\n",
       "      <td>0.0</td>\n",
       "      <td>0.0</td>\n",
       "      <td>0.0</td>\n",
       "      <td>0.0</td>\n",
       "    </tr>\n",
       "    <tr>\n",
       "      <th>1</th>\n",
       "      <td>0.0</td>\n",
       "      <td>0.0</td>\n",
       "      <td>0.0</td>\n",
       "      <td>0.0</td>\n",
       "      <td>0.0</td>\n",
       "      <td>0.0</td>\n",
       "      <td>0.0</td>\n",
       "      <td>0.0</td>\n",
       "      <td>0.0</td>\n",
       "      <td>0.0</td>\n",
       "      <td>...</td>\n",
       "      <td>0.0</td>\n",
       "      <td>0.0</td>\n",
       "      <td>0.0</td>\n",
       "      <td>0.0</td>\n",
       "      <td>0.0</td>\n",
       "      <td>0.0</td>\n",
       "      <td>0.0</td>\n",
       "      <td>0.0</td>\n",
       "      <td>0.0</td>\n",
       "      <td>0.0</td>\n",
       "    </tr>\n",
       "    <tr>\n",
       "      <th>2</th>\n",
       "      <td>0.0</td>\n",
       "      <td>0.0</td>\n",
       "      <td>0.0</td>\n",
       "      <td>0.0</td>\n",
       "      <td>0.0</td>\n",
       "      <td>0.0</td>\n",
       "      <td>0.0</td>\n",
       "      <td>0.0</td>\n",
       "      <td>0.0</td>\n",
       "      <td>0.0</td>\n",
       "      <td>...</td>\n",
       "      <td>0.0</td>\n",
       "      <td>0.0</td>\n",
       "      <td>0.0</td>\n",
       "      <td>0.0</td>\n",
       "      <td>0.0</td>\n",
       "      <td>0.0</td>\n",
       "      <td>0.0</td>\n",
       "      <td>0.0</td>\n",
       "      <td>0.0</td>\n",
       "      <td>0.0</td>\n",
       "    </tr>\n",
       "    <tr>\n",
       "      <th>3</th>\n",
       "      <td>0.0</td>\n",
       "      <td>0.0</td>\n",
       "      <td>0.0</td>\n",
       "      <td>0.0</td>\n",
       "      <td>0.0</td>\n",
       "      <td>0.0</td>\n",
       "      <td>0.0</td>\n",
       "      <td>0.0</td>\n",
       "      <td>0.0</td>\n",
       "      <td>0.0</td>\n",
       "      <td>...</td>\n",
       "      <td>0.0</td>\n",
       "      <td>0.0</td>\n",
       "      <td>0.0</td>\n",
       "      <td>0.0</td>\n",
       "      <td>0.0</td>\n",
       "      <td>0.0</td>\n",
       "      <td>0.0</td>\n",
       "      <td>0.0</td>\n",
       "      <td>0.0</td>\n",
       "      <td>0.0</td>\n",
       "    </tr>\n",
       "    <tr>\n",
       "      <th>4</th>\n",
       "      <td>0.0</td>\n",
       "      <td>0.0</td>\n",
       "      <td>0.0</td>\n",
       "      <td>0.0</td>\n",
       "      <td>0.0</td>\n",
       "      <td>0.0</td>\n",
       "      <td>0.0</td>\n",
       "      <td>0.0</td>\n",
       "      <td>0.0</td>\n",
       "      <td>0.0</td>\n",
       "      <td>...</td>\n",
       "      <td>0.0</td>\n",
       "      <td>0.0</td>\n",
       "      <td>0.0</td>\n",
       "      <td>0.0</td>\n",
       "      <td>0.0</td>\n",
       "      <td>0.0</td>\n",
       "      <td>0.0</td>\n",
       "      <td>0.0</td>\n",
       "      <td>0.0</td>\n",
       "      <td>0.0</td>\n",
       "    </tr>\n",
       "    <tr>\n",
       "      <th>...</th>\n",
       "      <td>...</td>\n",
       "      <td>...</td>\n",
       "      <td>...</td>\n",
       "      <td>...</td>\n",
       "      <td>...</td>\n",
       "      <td>...</td>\n",
       "      <td>...</td>\n",
       "      <td>...</td>\n",
       "      <td>...</td>\n",
       "      <td>...</td>\n",
       "      <td>...</td>\n",
       "      <td>...</td>\n",
       "      <td>...</td>\n",
       "      <td>...</td>\n",
       "      <td>...</td>\n",
       "      <td>...</td>\n",
       "      <td>...</td>\n",
       "      <td>...</td>\n",
       "      <td>...</td>\n",
       "      <td>...</td>\n",
       "      <td>...</td>\n",
       "    </tr>\n",
       "    <tr>\n",
       "      <th>280</th>\n",
       "      <td>0.0</td>\n",
       "      <td>0.0</td>\n",
       "      <td>0.0</td>\n",
       "      <td>0.0</td>\n",
       "      <td>0.0</td>\n",
       "      <td>0.0</td>\n",
       "      <td>0.0</td>\n",
       "      <td>0.0</td>\n",
       "      <td>0.0</td>\n",
       "      <td>0.0</td>\n",
       "      <td>...</td>\n",
       "      <td>0.0</td>\n",
       "      <td>0.0</td>\n",
       "      <td>0.0</td>\n",
       "      <td>0.0</td>\n",
       "      <td>0.0</td>\n",
       "      <td>0.0</td>\n",
       "      <td>0.0</td>\n",
       "      <td>0.0</td>\n",
       "      <td>0.0</td>\n",
       "      <td>0.0</td>\n",
       "    </tr>\n",
       "    <tr>\n",
       "      <th>281</th>\n",
       "      <td>0.0</td>\n",
       "      <td>0.0</td>\n",
       "      <td>0.0</td>\n",
       "      <td>0.0</td>\n",
       "      <td>0.0</td>\n",
       "      <td>0.0</td>\n",
       "      <td>0.0</td>\n",
       "      <td>0.0</td>\n",
       "      <td>0.0</td>\n",
       "      <td>0.0</td>\n",
       "      <td>...</td>\n",
       "      <td>0.0</td>\n",
       "      <td>0.0</td>\n",
       "      <td>0.0</td>\n",
       "      <td>0.0</td>\n",
       "      <td>0.0</td>\n",
       "      <td>0.0</td>\n",
       "      <td>0.0</td>\n",
       "      <td>0.0</td>\n",
       "      <td>0.0</td>\n",
       "      <td>0.0</td>\n",
       "    </tr>\n",
       "    <tr>\n",
       "      <th>282</th>\n",
       "      <td>0.0</td>\n",
       "      <td>0.0</td>\n",
       "      <td>0.0</td>\n",
       "      <td>0.0</td>\n",
       "      <td>0.0</td>\n",
       "      <td>0.0</td>\n",
       "      <td>0.0</td>\n",
       "      <td>0.0</td>\n",
       "      <td>0.0</td>\n",
       "      <td>0.0</td>\n",
       "      <td>...</td>\n",
       "      <td>0.0</td>\n",
       "      <td>0.0</td>\n",
       "      <td>0.0</td>\n",
       "      <td>0.0</td>\n",
       "      <td>0.0</td>\n",
       "      <td>0.0</td>\n",
       "      <td>0.0</td>\n",
       "      <td>0.0</td>\n",
       "      <td>0.0</td>\n",
       "      <td>0.0</td>\n",
       "    </tr>\n",
       "    <tr>\n",
       "      <th>283</th>\n",
       "      <td>0.0</td>\n",
       "      <td>0.0</td>\n",
       "      <td>0.0</td>\n",
       "      <td>0.0</td>\n",
       "      <td>0.0</td>\n",
       "      <td>0.0</td>\n",
       "      <td>0.0</td>\n",
       "      <td>0.0</td>\n",
       "      <td>0.0</td>\n",
       "      <td>0.0</td>\n",
       "      <td>...</td>\n",
       "      <td>0.0</td>\n",
       "      <td>0.0</td>\n",
       "      <td>0.0</td>\n",
       "      <td>0.0</td>\n",
       "      <td>0.0</td>\n",
       "      <td>0.0</td>\n",
       "      <td>0.0</td>\n",
       "      <td>0.0</td>\n",
       "      <td>0.0</td>\n",
       "      <td>0.0</td>\n",
       "    </tr>\n",
       "    <tr>\n",
       "      <th>284</th>\n",
       "      <td>0.0</td>\n",
       "      <td>0.0</td>\n",
       "      <td>0.0</td>\n",
       "      <td>0.0</td>\n",
       "      <td>0.0</td>\n",
       "      <td>0.0</td>\n",
       "      <td>0.0</td>\n",
       "      <td>0.0</td>\n",
       "      <td>0.0</td>\n",
       "      <td>0.0</td>\n",
       "      <td>...</td>\n",
       "      <td>0.0</td>\n",
       "      <td>0.0</td>\n",
       "      <td>0.0</td>\n",
       "      <td>0.0</td>\n",
       "      <td>0.0</td>\n",
       "      <td>0.0</td>\n",
       "      <td>0.0</td>\n",
       "      <td>0.0</td>\n",
       "      <td>0.0</td>\n",
       "      <td>0.0</td>\n",
       "    </tr>\n",
       "  </tbody>\n",
       "</table>\n",
       "<p>285 rows × 3889 columns</p>\n",
       "</div>"
      ],
      "text/plain": [
       "     reform  alliance  committed  criminal  justice  system  throughout  \\\n",
       "0       0.0       0.0        0.0       0.0      0.0     0.0         0.0   \n",
       "1       0.0       0.0        0.0       0.0      0.0     0.0         0.0   \n",
       "2       0.0       0.0        0.0       0.0      0.0     0.0         0.0   \n",
       "3       0.0       0.0        0.0       0.0      0.0     0.0         0.0   \n",
       "4       0.0       0.0        0.0       0.0      0.0     0.0         0.0   \n",
       "..      ...       ...        ...       ...      ...     ...         ...   \n",
       "280     0.0       0.0        0.0       0.0      0.0     0.0         0.0   \n",
       "281     0.0       0.0        0.0       0.0      0.0     0.0         0.0   \n",
       "282     0.0       0.0        0.0       0.0      0.0     0.0         0.0   \n",
       "283     0.0       0.0        0.0       0.0      0.0     0.0         0.0   \n",
       "284     0.0       0.0        0.0       0.0      0.0     0.0         0.0   \n",
       "\n",
       "     united  states   by  ...  mayor office  for homeless  match  hospital  \\\n",
       "0       0.0     0.0  0.0  ...           0.0           0.0    0.0       0.0   \n",
       "1       0.0     0.0  0.0  ...           0.0           0.0    0.0       0.0   \n",
       "2       0.0     0.0  0.0  ...           0.0           0.0    0.0       0.0   \n",
       "3       0.0     0.0  0.0  ...           0.0           0.0    0.0       0.0   \n",
       "4       0.0     0.0  0.0  ...           0.0           0.0    0.0       0.0   \n",
       "..      ...     ...  ...  ...           ...           ...    ...       ...   \n",
       "280     0.0     0.0  0.0  ...           0.0           0.0    0.0       0.0   \n",
       "281     0.0     0.0  0.0  ...           0.0           0.0    0.0       0.0   \n",
       "282     0.0     0.0  0.0  ...           0.0           0.0    0.0       0.0   \n",
       "283     0.0     0.0  0.0  ...           0.0           0.0    0.0       0.0   \n",
       "284     0.0     0.0  0.0  ...           0.0           0.0    0.0       0.0   \n",
       "\n",
       "      2m  go towards  grant 2m  will go towards  total grant 2m  clinics  \n",
       "0    0.0         0.0       0.0              0.0             0.0      0.0  \n",
       "1    0.0         0.0       0.0              0.0             0.0      0.0  \n",
       "2    0.0         0.0       0.0              0.0             0.0      0.0  \n",
       "3    0.0         0.0       0.0              0.0             0.0      0.0  \n",
       "4    0.0         0.0       0.0              0.0             0.0      0.0  \n",
       "..   ...         ...       ...              ...             ...      ...  \n",
       "280  0.0         0.0       0.0              0.0             0.0      0.0  \n",
       "281  0.0         0.0       0.0              0.0             0.0      0.0  \n",
       "282  0.0         0.0       0.0              0.0             0.0      0.0  \n",
       "283  0.0         0.0       0.0              0.0             0.0      0.0  \n",
       "284  0.0         0.0       0.0              0.0             0.0      0.0  \n",
       "\n",
       "[285 rows x 3889 columns]"
      ]
     },
     "execution_count": 97,
     "metadata": {},
     "output_type": "execute_result"
    }
   ],
   "source": [
    "g4._node_features  # a standard tfidf ngrams matrix"
   ]
  },
  {
   "cell_type": "code",
   "execution_count": 98,
   "id": "338010f2",
   "metadata": {},
   "outputs": [
    {
     "data": {
      "text/plain": [
       "Pipeline(steps=[('vect',\n",
       "                 CountVectorizer(max_df=0.3, min_df=2, ngram_range=(1, 3))),\n",
       "                ('tfidf', TfidfTransformer())])"
      ]
     },
     "execution_count": 98,
     "metadata": {},
     "output_type": "execute_result"
    }
   ],
   "source": [
    "g4._node_encoder.text_model  #sklearn pipeline "
   ]
  },
  {
   "cell_type": "code",
   "execution_count": 99,
   "id": "e7582131",
   "metadata": {},
   "outputs": [
    {
     "data": {
      "text/plain": [
       "3889"
      ]
     },
     "execution_count": 99,
     "metadata": {},
     "output_type": "execute_result"
    }
   ],
   "source": [
    "## vocab size\n",
    "len(g4._node_encoder.text_model[0].vocabulary_)"
   ]
  },
  {
   "cell_type": "code",
   "execution_count": 100,
   "id": "9e691b4d",
   "metadata": {},
   "outputs": [
    {
     "name": "stderr",
     "output_type": "stream",
     "text": [
      "'SuperVectorizer' object has no attribute 'get_feature_names_in'\n"
     ]
    },
    {
     "data": {
      "text/html": [
       "<div>\n",
       "<style scoped>\n",
       "    .dataframe tbody tr th:only-of-type {\n",
       "        vertical-align: middle;\n",
       "    }\n",
       "\n",
       "    .dataframe tbody tr th {\n",
       "        vertical-align: top;\n",
       "    }\n",
       "\n",
       "    .dataframe thead th {\n",
       "        text-align: right;\n",
       "    }\n",
       "</style>\n",
       "<table border=\"1\" class=\"dataframe\">\n",
       "  <thead>\n",
       "    <tr style=\"text-align: right;\">\n",
       "      <th></th>\n",
       "      <th>x</th>\n",
       "      <th>y</th>\n",
       "    </tr>\n",
       "  </thead>\n",
       "  <tbody>\n",
       "    <tr>\n",
       "      <th>277</th>\n",
       "      <td>4.701507</td>\n",
       "      <td>-2.213526</td>\n",
       "    </tr>\n",
       "    <tr>\n",
       "      <th>232</th>\n",
       "      <td>5.902336</td>\n",
       "      <td>-1.329897</td>\n",
       "    </tr>\n",
       "    <tr>\n",
       "      <th>42</th>\n",
       "      <td>4.697514</td>\n",
       "      <td>-1.719043</td>\n",
       "    </tr>\n",
       "    <tr>\n",
       "      <th>4</th>\n",
       "      <td>5.305601</td>\n",
       "      <td>-0.677124</td>\n",
       "    </tr>\n",
       "    <tr>\n",
       "      <th>5</th>\n",
       "      <td>5.301566</td>\n",
       "      <td>-0.657515</td>\n",
       "    </tr>\n",
       "  </tbody>\n",
       "</table>\n",
       "</div>"
      ],
      "text/plain": [
       "            x         y\n",
       "277  4.701507 -2.213526\n",
       "232  5.902336 -1.329897\n",
       "42   4.697514 -1.719043\n",
       "4    5.305601 -0.677124\n",
       "5    5.301566 -0.657515"
      ]
     },
     "execution_count": 100,
     "metadata": {},
     "output_type": "execute_result"
    }
   ],
   "source": [
    "# or transform new data: \n",
    "emb, a, b = g4.transform_umap(new_df, new_y, kind='nodes')\n",
    "emb"
   ]
  },
  {
   "cell_type": "code",
   "execution_count": 101,
   "id": "5bc7b2c0",
   "metadata": {},
   "outputs": [
    {
     "name": "stdout",
     "output_type": "stream",
     "text": [
      "Naive Indicator Variables\n"
     ]
    },
    {
     "data": {
      "image/png": "[encoded data removed]",
      "text/plain": [
       "<Figure size 1224x720 with 2 Axes>"
      ]
     },
     "metadata": {
      "needs_background": "light"
     },
     "output_type": "display_data"
    }
   ],
   "source": [
    "# we include the naive indicator variable for completeness.\n",
    "y = g4._node_target\n",
    "label_list = b.columns\n",
    "\n",
    "fig = plt.figure(figsize=(17,10))\n",
    "ax = plt.subplot()\n",
    "plt.imshow(y, aspect='auto', cmap='hot')\n",
    "plt.colorbar()\n",
    "plt.ylabel('row number of data')\n",
    "ax.set_xticks(range(len(label_list)))\n",
    "ax.set_xticklabels(label_list, rotation=49)\n",
    "print('Naive Indicator Variables')"
   ]
  },
  {
   "cell_type": "markdown",
   "id": "22596c6d",
   "metadata": {},
   "source": [
    "# Contributions\n",
    "\n",
    "Input tabular data that exists in the wild and quickly make features and graphs that allow semantic and topological exploration and traversals. \n",
    "\n",
    "Quickly track a variety of datasets and gauge growth, investment, and promise fullfillment and transparently using Graph Thinking and Analysis. In Jack's case, we see the possibility of a multibillion dollar edific erected around Covid-19, Girls Education and Social Justice. Further downstream modeling might tell us what such an edific is able to manufacture as a force for Good.\n",
    "\n",
    "Encoding text, categorical, and numeric features while exploring the relationships can be time consuming tasks. \n",
    "\n",
    "PyGraphistry[ai] demonstrates an exciting and visually accelerated way to explore Graph Data. \n",
    "\n",
    "It allows quick Mix and Match featurization models and types, while pivoting on large amounts of data using natural language search, in just a few lines of code. The resulting features may then be used in downstream models.\n",
    "\n",
    "Join our Slack: Graphistry-Community"
   ]
  },
  {
   "cell_type": "code",
   "execution_count": null,
   "id": "f0af2311",
   "metadata": {},
   "outputs": [],
   "source": []
  }
 ],
 "metadata": {
  "kernelspec": {
   "display_name": "Python 3 (ipykernel)",
   "language": "python",
   "name": "python3"
  },
  "language_info": {
   "codemirror_mode": {
    "name": "ipython",
    "version": 3
   },
   "file_extension": ".py",
   "mimetype": "text/x-python",
   "name": "python",
   "nbconvert_exporter": "python",
   "pygments_lexer": "ipython3",
   "version": "3.8.9"
  }
 },
 "nbformat": 4,
 "nbformat_minor": 5
}
