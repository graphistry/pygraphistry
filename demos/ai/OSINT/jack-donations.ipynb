{
 "cells": [
  {
   "cell_type": "markdown",
   "id": "76d71900",
   "metadata": {},
   "source": [
    "________________\n",
    "# Jack's Money Went Here \n",
    "\n",
    "Where is twitter likely to lean more and less now that he's leaving? Where will there be matching donations?\n",
    "\n",
    "Jack Dorsey is pledging over 466 million dollars and wants matching donations. His rational is simple -- billionaires can spare a tithe to help communities and people, and compounded over a few hundred of his closest friends, have a tremendous impact. What edifice could be built with donations to these entities? What do their service offerings look like when seen as a whole? What are their moving parts?\n",
    "\n",
    "This dataset is based off of the tweet https://twitter.com/jack/status/1247616214769086465 which lists pledged organizations and their donation. \n",
    "__________________________________________________________________\n",
    "\n",
    "We will learn how to quickly data science this dataset. We will select feature representations and visualize the resulting graph using UMAP.\n",
    "\n",
    "Featurization is the foundation of datascience. Likewise, Graph Thinking requires edges between nodes. Many times the data we have from databases/dataframes is tabular and row like -- with no incling of an edge table. This does *not* have to be an impediment for *Graph Thinking and materialization of datascience workflows*. \n",
    "\n",
    "UMAP is a powerful tool that projects complex, heterogeneous data coming from potentially many different distributions, down to lower dimensional embeddings and projections. The embedding estimates similarity between the rows, or nodes of the data, and thus forms a graph. \n",
    "\n",
    "Standardizing a feature set across the databases used in every modern company and then sending it to UMAP serves as a powerful graph generation tool.  \n",
    "__________________________________________________________________\n",
    "\n",
    "Here we demonstrate how to Featurize and use UMAP to generate implicit graphs. The features may then be used in subsequent modeling using your favorite libraries -- sklearn, tensorflow, pytorch[, geometric, lightening, ...], cuGraph, DGL, etc. We demonstrate 4 featurization methods -- \n",
    "\n",
    "* latent embeddings, \n",
    "* transformer embeddings, \n",
    "* ngrams embeddings, \n",
    "* one-hot encodings\n",
    "\n",
    "that may be mixed and used to make different features for different columns, automatically. \n",
    "\n",
    "Furthermore, when we `g.plot()` the results, it is layed out according to the 2-dimensional UMAP projection of the data -- nearness in that projection represents nearness in the resulting features. We will test this empirically using the different featurization methods for textual, numeric and categorical data. "
   ]
  },
  {
   "cell_type": "code",
   "execution_count": 1,
   "id": "a069ef73",
   "metadata": {},
   "outputs": [],
   "source": [
    "#!pip install graphistry[ai]  # install the AI dependencies of Graphistry"
   ]
  },
  {
   "cell_type": "code",
   "execution_count": 2,
   "id": "b7de987a",
   "metadata": {},
   "outputs": [],
   "source": [
    "import os\n",
    "\n",
    "import pandas as pd\n",
    "import graphistry\n",
    "import numpy as np\n",
    "\n",
    "import matplotlib.pylab as plt\n",
    "%matplotlib inline"
   ]
  },
  {
   "cell_type": "code",
   "execution_count": 3,
   "id": "461a22ec",
   "metadata": {},
   "outputs": [],
   "source": [
    "np.random.seed(137)"
   ]
  },
  {
   "cell_type": "code",
   "execution_count": 4,
   "id": "950f6310",
   "metadata": {},
   "outputs": [],
   "source": [
    "RENDER=False  # set to True for inline Graphistry Plots"
   ]
  },
  {
   "cell_type": "code",
   "execution_count": 5,
   "id": "90875a39",
   "metadata": {},
   "outputs": [],
   "source": [
    "graphistry.register(api=3, protocol=\"https\", server=\"hub.graphistry.com\", username=os.environ['USERNAME'], password=os.environ['GRAPHISTRY_PASSWORD'])"
   ]
  },
  {
   "cell_type": "markdown",
   "id": "9acb2823",
   "metadata": {},
   "source": [
    "## Data loading & cleaning\n",
    "We already added the dataset from the twitter link, downloading a copy (as of May 2022) from the google drive. We need to remove the first few rows to make a valid dataframe. "
   ]
  },
  {
   "cell_type": "code",
   "execution_count": 6,
   "id": "0ffe9b64",
   "metadata": {},
   "outputs": [
    {
     "data": {
      "text/html": [
       "<div>\n",
       "<style scoped>\n",
       "    .dataframe tbody tr th:only-of-type {\n",
       "        vertical-align: middle;\n",
       "    }\n",
       "\n",
       "    .dataframe tbody tr th {\n",
       "        vertical-align: top;\n",
       "    }\n",
       "\n",
       "    .dataframe thead th {\n",
       "        text-align: right;\n",
       "    }\n",
       "</style>\n",
       "<table border=\"1\" class=\"dataframe\">\n",
       "  <thead>\n",
       "    <tr style=\"text-align: right;\">\n",
       "      <th></th>\n",
       "      <th>Date</th>\n",
       "      <th>Amount</th>\n",
       "      <th>Category</th>\n",
       "      <th>Grantee</th>\n",
       "      <th>Twitter</th>\n",
       "      <th>Link</th>\n",
       "      <th>Why?</th>\n",
       "    </tr>\n",
       "  </thead>\n",
       "  <tbody>\n",
       "    <tr>\n",
       "      <th>0</th>\n",
       "      <td>3/21/2022</td>\n",
       "      <td>$2,000,000</td>\n",
       "      <td>Social Justice</td>\n",
       "      <td>REFORM Alliance</td>\n",
       "      <td>@REFORM</td>\n",
       "      <td>https://reformalliance.com</td>\n",
       "      <td>REFORM Alliance is committed to transforming t...</td>\n",
       "    </tr>\n",
       "    <tr>\n",
       "      <th>1</th>\n",
       "      <td>3/10/2022</td>\n",
       "      <td>$1,000,000</td>\n",
       "      <td>Crisis Relief</td>\n",
       "      <td>World Central Kitchen</td>\n",
       "      <td>@WCKitchen</td>\n",
       "      <td>https://wck.org/</td>\n",
       "      <td>World Central Kitchen is serving thousands of ...</td>\n",
       "    </tr>\n",
       "    <tr>\n",
       "      <th>2</th>\n",
       "      <td>3/10/2022</td>\n",
       "      <td>$1,000,000</td>\n",
       "      <td>Crisis Relief</td>\n",
       "      <td>Sunflower of Peace</td>\n",
       "      <td>@SunflowerFund</td>\n",
       "      <td>https://www.sunflowerofpeace.com</td>\n",
       "      <td>Sunflower of Peace is providing medical and hu...</td>\n",
       "    </tr>\n",
       "    <tr>\n",
       "      <th>3</th>\n",
       "      <td>3/10/2022</td>\n",
       "      <td>$1,000,000</td>\n",
       "      <td>Crisis Relief</td>\n",
       "      <td>Razom, Inc.</td>\n",
       "      <td>@razomforukraine</td>\n",
       "      <td>https://razomforukraine.org</td>\n",
       "      <td>Razom is supporting Ukrainian people in their ...</td>\n",
       "    </tr>\n",
       "    <tr>\n",
       "      <th>4</th>\n",
       "      <td>3/10/2022</td>\n",
       "      <td>$1,000,000</td>\n",
       "      <td>Crisis Relief</td>\n",
       "      <td>Nova Ukraine</td>\n",
       "      <td>@novaukraine</td>\n",
       "      <td>https://novaukraine.org</td>\n",
       "      <td>Nova Ukraine, a Bay Area-based humanitarian no...</td>\n",
       "    </tr>\n",
       "  </tbody>\n",
       "</table>\n",
       "</div>"
      ],
      "text/plain": [
       "        Date     Amount         Category                Grantee  \\\n",
       "0  3/21/2022  $2,000,000  Social Justice        REFORM Alliance   \n",
       "1  3/10/2022  $1,000,000   Crisis Relief  World Central Kitchen   \n",
       "2  3/10/2022  $1,000,000   Crisis Relief     Sunflower of Peace   \n",
       "3  3/10/2022  $1,000,000   Crisis Relief            Razom, Inc.   \n",
       "4  3/10/2022  $1,000,000   Crisis Relief           Nova Ukraine   \n",
       "\n",
       "            Twitter                              Link  \\\n",
       "0           @REFORM        https://reformalliance.com   \n",
       "1        @WCKitchen                  https://wck.org/   \n",
       "2    @SunflowerFund  https://www.sunflowerofpeace.com   \n",
       "3  @razomforukraine       https://razomforukraine.org   \n",
       "4      @novaukraine           https://novaukraine.org   \n",
       "\n",
       "                                                Why?  \n",
       "0  REFORM Alliance is committed to transforming t...  \n",
       "1  World Central Kitchen is serving thousands of ...  \n",
       "2  Sunflower of Peace is providing medical and hu...  \n",
       "3  Razom is supporting Ukrainian people in their ...  \n",
       "4  Nova Ukraine, a Bay Area-based humanitarian no...  "
      ]
     },
     "execution_count": 6,
     "metadata": {},
     "output_type": "execute_result"
    }
   ],
   "source": [
    "df = pd.read_csv('https://gist.githubusercontent.com/silkspace/f8d7b8f279a5ffbd710c301fc402ec43/raw/95a722f5c65812322eaf085c1123b58d3ec3da3a/jack_donations.csv')\n",
    "df = df.fillna('')\n",
    "columns = df.iloc[3].values  \n",
    "ndf = pd.DataFrame(df[4:].values, columns=columns)\n",
    "ndf.head()"
   ]
  },
  {
   "cell_type": "markdown",
   "id": "50f59d83",
   "metadata": {},
   "source": [
    "Notice that the Category labels are mixed and interwoven. \n",
    "We will show how to standardize it without having to do data cleaning or mapping"
   ]
  },
  {
   "cell_type": "code",
   "execution_count": 7,
   "id": "ac1b493e",
   "metadata": {},
   "outputs": [
    {
     "data": {
      "text/plain": [
       "array(['Social Justice', 'Crisis Relief',\n",
       "       'COVID-19, Girls Health & Education',\n",
       "       'Social Justice, Girls Health & Education', 'COVID-19',\n",
       "       'Social Justice, COVID-19', 'Girls Health & Education',\n",
       "       'UBI, Social Justice', 'Girls Health & Education, COVID-19',\n",
       "       'COVID-19, Social Justice', 'UBI',\n",
       "       'COVID-19, Social Justice, Girls Health & Education',\n",
       "       'Girls Health & Education; COVID-19', 'COVID-19; Social Justice',\n",
       "       'Girls Health & Education; Social Justice',\n",
       "       'COVID-19; Girls Health & Education', 'UBI; COVID-19',\n",
       "       'COVID-19 & Social Justice',\n",
       "       'Social Justice, UBI, Girls Health & Education', 'COVID-19, UBI',\n",
       "       \"Where it's needed most\", 'COVID-19 '], dtype=object)"
      ]
     },
     "execution_count": 7,
     "metadata": {},
     "output_type": "execute_result"
    }
   ],
   "source": [
    "ndf.Category.unique()  # seems like there are 4-6 topics here"
   ]
  },
  {
   "cell_type": "markdown",
   "id": "b454348e",
   "metadata": {},
   "source": [
    "# Featurize\n",
    "\n",
    "We will use `g.umap` to featurize and create edges. The details of how UMAP is able to create edges between rows in the data is beyond the scope of this tutorial, however, suffic it to say, it is automatically inferring a network of related entities based off their column features. \n",
    "\n",
    "Here is the dataset as graph, \n"
   ]
  },
  {
   "cell_type": "code",
   "execution_count": 8,
   "id": "c986ff93",
   "metadata": {},
   "outputs": [
    {
     "name": "stderr",
     "output_type": "stream",
     "text": [
      "* Ignoring target column of shape (285, 0) in UMAP fit, as it is not one dimensionalOMP: Info #273: omp_set_nested routine deprecated, please use omp_set_max_active_levels instead.\n"
     ]
    },
    {
     "data": {
      "text/plain": [
       "'https://hub.graphistry.com/graph/graph.html?dataset=ae47f85d8eaa4edfa6a3bc0c1124e313&type=arrow&viztoken=41ef5acc-41e3-49e9-99ac-2a57158b31c8&usertag=f680a57a-pygraphistry-0.28.7&splashAfter=1672009074&info=true&play=0'"
      ]
     },
     "execution_count": 8,
     "metadata": {},
     "output_type": "execute_result"
    }
   ],
   "source": [
    "g = graphistry.nodes(ndf).umap()\n",
    "g.bind(point_title='Grantee').plot(render=RENDER)  # fly around the clusters and click on nodes and edges. "
   ]
  },
  {
   "cell_type": "markdown",
   "id": "255c8496",
   "metadata": {},
   "source": [
    "The above featurized every column over the entire datase. Exploring the nodes and their nearest neighbors indeed clusters similar rows -- all in two lines of code!"
   ]
  },
  {
   "cell_type": "markdown",
   "id": "d76e628d",
   "metadata": {},
   "source": [
    "## Light analysis and enrichment \n",
    "\n",
    "Lets convert Amount column into numeric, and then see who is getting what by category and grantee."
   ]
  },
  {
   "cell_type": "code",
   "execution_count": 9,
   "id": "a8ced06c",
   "metadata": {},
   "outputs": [
    {
     "data": {
      "text/plain": [
       "0      $2,000,000\n",
       "1      $1,000,000\n",
       "2      $1,000,000\n",
       "3      $1,000,000\n",
       "4      $1,000,000\n",
       "          ...    \n",
       "280       $13,333\n",
       "281    $2,000,000\n",
       "282    $1,000,000\n",
       "283    $2,100,000\n",
       "284      $100,000\n",
       "Name:  Amount , Length: 285, dtype: object"
      ]
     },
     "execution_count": 9,
     "metadata": {},
     "output_type": "execute_result"
    }
   ],
   "source": [
    "#ndf.columns\n",
    "ndf[' Amount ']"
   ]
  },
  {
   "cell_type": "code",
   "execution_count": 10,
   "id": "8077b2d0",
   "metadata": {},
   "outputs": [],
   "source": [
    "# let's convert money into float money (get it?)\n",
    "from re import sub\n",
    "from decimal import Decimal\n",
    "\n",
    "def convert_money_string_to_float(money: str, return_float: bool = True):\n",
    "    value = Decimal(sub(r\"[^\\d\\-.]\", \"\", money))  # preserves minus signs\n",
    "    if return_float:\n",
    "        return float(value)\n",
    "    return value\n",
    "\n",
    "ndf['$ amount'] = ndf[' Amount '].apply(lambda x: convert_money_string_to_float(x))"
   ]
  },
  {
   "cell_type": "code",
   "execution_count": 11,
   "id": "b0e0c683",
   "metadata": {},
   "outputs": [
    {
     "data": {
      "text/plain": [
       "0      2000000.0\n",
       "1      1000000.0\n",
       "2      1000000.0\n",
       "3      1000000.0\n",
       "4      1000000.0\n",
       "         ...    \n",
       "280      13333.0\n",
       "281    2000000.0\n",
       "282    1000000.0\n",
       "283    2100000.0\n",
       "284     100000.0\n",
       "Name: $ amount, Length: 285, dtype: float64"
      ]
     },
     "execution_count": 11,
     "metadata": {},
     "output_type": "execute_result"
    }
   ],
   "source": [
    "ndf['$ amount']"
   ]
  },
  {
   "cell_type": "markdown",
   "id": "ac95f782",
   "metadata": {},
   "source": [
    "Many of these categories are not distinct. But due to data coming in with different notation, it seems distinct. \n",
    "\n",
    "We will show in the next section how to deal with this by using the graphistry pipeline to convert the `Category` into a latent target that organizes the labels.\n"
   ]
  },
  {
   "cell_type": "code",
   "execution_count": 12,
   "id": "6e4fcbaf",
   "metadata": {},
   "outputs": [
    {
     "data": {
      "text/plain": [
       "Category\n",
       "COVID-19                                              $153,882,590.0\n",
       "COVID-19                                               $85,019,328.0\n",
       "COVID-19 & Social Justice                                 $505,468.0\n",
       "COVID-19, Girls Health & Education                      $4,265,000.0\n",
       "COVID-19, Social Justice                                $1,800,000.0\n",
       "COVID-19, Social Justice, Girls Health & Education        $250,000.0\n",
       "COVID-19, UBI                                           $8,000,000.0\n",
       "COVID-19; Girls Health & Education                      $9,920,000.0\n",
       "COVID-19; Social Justice                                $5,090,080.0\n",
       "Crisis Relief                                           $7,500,000.0\n",
       "Girls Health & Education                               $30,300,000.0\n",
       "Girls Health & Education, COVID-19                      $1,250,000.0\n",
       "Girls Health & Education; COVID-19                     $12,000,000.0\n",
       "Girls Health & Education; Social Justice                $2,500,000.0\n",
       "Social Justice                                         $84,119,845.0\n",
       "Social Justice, COVID-19                                  $300,000.0\n",
       "Social Justice, Girls Health & Education                $9,934,000.0\n",
       "Social Justice, UBI, Girls Health & Education           $1,100,000.0\n",
       "UBI                                                    $10,210,000.0\n",
       "UBI, Social Justice                                     $1,000,000.0\n",
       "UBI; COVID-19                                          $35,000,000.0\n",
       "Where it's needed most                                  $3,000,000.0\n",
       "Name: $ amount, dtype: object"
      ]
     },
     "execution_count": 12,
     "metadata": {},
     "output_type": "execute_result"
    }
   ],
   "source": [
    "current_funding_by_category = ndf.groupby('Category')['$ amount'].sum()\n",
    "current_funding_by_category.map(lambda x: '${:3,}'.format(x))"
   ]
  },
  {
   "cell_type": "code",
   "execution_count": 13,
   "id": "59b71456",
   "metadata": {},
   "outputs": [
    {
     "data": {
      "text/plain": [
       "<AxesSubplot:xlabel='Category'>"
      ]
     },
     "execution_count": 13,
     "metadata": {},
     "output_type": "execute_result"
    },
    {
     "data": {
      "image/png": "[encoded data removed]",
      "text/plain": [
       "<Figure size 720x360 with 1 Axes>"
      ]
     },
     "metadata": {
      "needs_background": "light"
     },
     "output_type": "display_data"
    }
   ],
   "source": [
    "fig = plt.figure(figsize=(10,5))\n",
    "current_funding_by_category.plot(kind='bar', rot=82)"
   ]
  },
  {
   "cell_type": "code",
   "execution_count": 14,
   "id": "382780f5",
   "metadata": {},
   "outputs": [
    {
     "data": {
      "text/plain": [
       "Grantee\n",
       "Vital Strategies: Resolve To Save Lives    $38,000,000.0\n",
       "CORE: Community Organized Relief Effort    $30,000,000.0\n",
       "Clara Lionel Foundation                    $28,877,000.0\n",
       "Reinvent Stockton Foundation               $18,000,000.0\n",
       "CARE                                       $16,000,000.0\n",
       "Give2SF                                    $15,000,000.0\n",
       "Open Research Lab Income Project           $15,000,000.0\n",
       "REFORM Alliance                            $12,000,000.0\n",
       "World Central Kitchen                      $11,585,500.0\n",
       "Indiana University Foundation              $10,025,000.0\n",
       "Name: $ amount, dtype: object"
      ]
     },
     "execution_count": 14,
     "metadata": {},
     "output_type": "execute_result"
    }
   ],
   "source": [
    "grantees = ndf.groupby('Grantee')['$ amount'].sum()\n",
    "grants_sorted = grantees.sort_values()\n",
    "# top 10 recepients \n",
    "grants_sorted[-10:].map(lambda x: '${:3,}'.format(x))[::-1]"
   ]
  },
  {
   "cell_type": "code",
   "execution_count": 15,
   "id": "d7d0ff87",
   "metadata": {},
   "outputs": [
    {
     "data": {
      "text/plain": [
       "<AxesSubplot:xlabel='Grantee'>"
      ]
     },
     "execution_count": 15,
     "metadata": {},
     "output_type": "execute_result"
    },
    {
     "data": {
      "image/png": "[encoded data removed]",
      "text/plain": [
       "<Figure size 720x360 with 1 Axes>"
      ]
     },
     "metadata": {
      "needs_background": "light"
     },
     "output_type": "display_data"
    }
   ],
   "source": [
    "# largest grants\n",
    "fig = plt.figure(figsize=(10,5))\n",
    "ax= plt.subplot()\n",
    "res = grants_sorted[-10:]\n",
    "\n",
    "res.plot(kind='bar', rot=49)"
   ]
  },
  {
   "cell_type": "code",
   "execution_count": 16,
   "id": "14330bfc",
   "metadata": {},
   "outputs": [
    {
     "data": {
      "text/plain": [
       "<AxesSubplot:xlabel='Grantee'>"
      ]
     },
     "execution_count": 16,
     "metadata": {},
     "output_type": "execute_result"
    },
    {
     "data": {
      "image/png": "[encoded data removed]",
      "text/plain": [
       "<Figure size 720x360 with 1 Axes>"
      ]
     },
     "metadata": {
      "needs_background": "light"
     },
     "output_type": "display_data"
    }
   ],
   "source": [
    "# smallest grants\n",
    "fig = plt.figure(figsize=(10,5))\n",
    "ax= plt.subplot()\n",
    "res = grants_sorted[:10]\n",
    "\n",
    "res.plot(kind='bar', rot = 29)"
   ]
  },
  {
   "cell_type": "code",
   "execution_count": 17,
   "id": "2ad231a8",
   "metadata": {},
   "outputs": [
    {
     "data": {
      "text/plain": [
       "'Total Pledged $466,946,311.0'"
      ]
     },
     "execution_count": 17,
     "metadata": {},
     "output_type": "execute_result"
    }
   ],
   "source": [
    "'Total Pledged ${:3,}'.format(current_funding_by_category.sum())"
   ]
  },
  {
   "cell_type": "code",
   "execution_count": 18,
   "id": "217026ee",
   "metadata": {},
   "outputs": [
    {
     "data": {
      "text/plain": [
       "'Total Pledged $466,946,311.0'"
      ]
     },
     "execution_count": 18,
     "metadata": {},
     "output_type": "execute_result"
    }
   ],
   "source": [
    "# and this should be the same too\n",
    "'Total Pledged ${:3,}'.format(grantees.sum())"
   ]
  },
  {
   "cell_type": "markdown",
   "id": "b0565e61",
   "metadata": {},
   "source": [
    "_______________________________________"
   ]
  },
  {
   "cell_type": "markdown",
   "id": "0b2783bf",
   "metadata": {},
   "source": [
    "# Featurize II\n",
    "\n",
    "let's do it again and concentrate on a subset of the columns, to get a sense for the different ways to featurize named columns.\n",
    "____________________________"
   ]
  },
  {
   "cell_type": "markdown",
   "id": "2255d688",
   "metadata": {},
   "source": [
    "## Topic Model"
   ]
  },
  {
   "cell_type": "markdown",
   "id": "c8acdf66",
   "metadata": {},
   "source": [
    "We encode the data using Topic Models. This turns the textual features into latent vectors. Likewise, we can do the same for the target data. \n",
    "\n",
    "\n",
    "Notice that we set `cardinality_threshold_target` very low and `min_words` very high to force featurization as topic models rather than one-hot or sbert embeddings;\n",
    "\n",
    "1) encode target using a topic model, and set `n_topics_target` as the dimension of the latent target factorization. This choice is based on the fact that there are really only 4-6 or so distinct categories across the labels, but they are mixed together. The labels are in fact Hierarchical categories. We can use the topic model to find the lowest moments of this Hierarchical classification in the distributional sense. \n",
    "\n",
    "2) Encode the `Why?` column as a `n_topics` -dimensional factorization."
   ]
  },
  {
   "cell_type": "code",
   "execution_count": 19,
   "id": "71ad1fe5",
   "metadata": {
    "scrolled": true
   },
   "outputs": [
    {
     "name": "stderr",
     "output_type": "stream",
     "text": [
      "* Ignoring target column of shape (285, 4) in UMAP fit, as it is not one dimensional"
     ]
    }
   ],
   "source": [
    "g = graphistry.nodes(ndf).bind(point_title='Category')\n",
    "\n",
    "g2 = g.umap(X=['Why?'], y = ['Category'], \n",
    "            min_words=1e9, # encode as topic model by setting min_words high\n",
    "            n_topics=42, # latent embedding size of `Why`\n",
    "            n_topics_target=4, # turn categories into a 4dim vector of regressive targets\n",
    "            cardinality_threshold_target=2, # force topic model over target `Category`\n",
    "            use_scaler=None,\n",
    "            use_scaler_target=None\n",
    "            ) "
   ]
  },
  {
   "cell_type": "markdown",
   "id": "93e6ae81",
   "metadata": {},
   "source": [
    "Plotting the result shows the similarity between entities. It does a good job overall at clustering by topic. Click in and check out some nearby nodes. "
   ]
  },
  {
   "cell_type": "code",
   "execution_count": 20,
   "id": "0cdf2370",
   "metadata": {},
   "outputs": [
    {
     "data": {
      "text/plain": [
       "'https://hub.graphistry.com/graph/graph.html?dataset=039654b935e6476dbe4a232e28609ae1&type=arrow&viztoken=c8fd440d-2b3a-4fbf-868c-f6c93e141154&usertag=f680a57a-pygraphistry-0.28.7&splashAfter=1672009084&info=true&play=0'"
      ]
     },
     "execution_count": 20,
     "metadata": {},
     "output_type": "execute_result"
    }
   ],
   "source": [
    "g2.bind(point_title='Grantee').plot(render=RENDER)"
   ]
  },
  {
   "cell_type": "code",
   "execution_count": 21,
   "id": "b650ef59",
   "metadata": {},
   "outputs": [
    {
     "name": "stderr",
     "output_type": "stream",
     "text": [
      "'SuperVectorizer' object has no attribute 'get_feature_names_in''SuperVectorizer' object has no attribute 'get_feature_names_in'"
     ]
    },
    {
     "data": {
      "text/html": [
       "<div>\n",
       "<style scoped>\n",
       "    .dataframe tbody tr th:only-of-type {\n",
       "        vertical-align: middle;\n",
       "    }\n",
       "\n",
       "    .dataframe tbody tr th {\n",
       "        vertical-align: top;\n",
       "    }\n",
       "\n",
       "    .dataframe thead th {\n",
       "        text-align: right;\n",
       "    }\n",
       "</style>\n",
       "<table border=\"1\" class=\"dataframe\">\n",
       "  <thead>\n",
       "    <tr style=\"text-align: right;\">\n",
       "      <th></th>\n",
       "      <th>Why?: relationships, relationship, trevortext</th>\n",
       "      <th>Why?: thousands, kitchen, kitchens</th>\n",
       "      <th>Why?: multiracial, language, analysis</th>\n",
       "      <th>Why?: foundation, partnership, barbados</th>\n",
       "      <th>Why?: humanitarian, distributing, distributed</th>\n",
       "      <th>Why?: vulnerable, coordinated, outbreak</th>\n",
       "      <th>Why?: marginalized, globalgiving, emergency</th>\n",
       "      <th>Why?: sustainable, livelihoods, livelihood</th>\n",
       "      <th>Why?: healthcare, results, children</th>\n",
       "      <th>Why?: movementhub, strengthening, snapshots</th>\n",
       "      <th>...</th>\n",
       "      <th>Why?: washingtonians, incarceration, restoration</th>\n",
       "      <th>Why?: leadership, confidence, confidently</th>\n",
       "      <th>Why?: entrepreneurs, entrepreneurship, tomorrow</th>\n",
       "      <th>Why?: coronavirus, families, primarily</th>\n",
       "      <th>Why?: california, disproportionately, lgbtiq</th>\n",
       "      <th>Why?: individuals, undiagnosed, disabilities</th>\n",
       "      <th>Why?: engineering, criminal, complete</th>\n",
       "      <th>Why?: disparities, nonprofit, socioeconomic</th>\n",
       "      <th>Why?: simultaneously, immediate, richmond</th>\n",
       "      <th>Why?: constitution, employers, nationwide</th>\n",
       "    </tr>\n",
       "  </thead>\n",
       "  <tbody>\n",
       "    <tr>\n",
       "      <th>103</th>\n",
       "      <td>0.140277</td>\n",
       "      <td>0.160064</td>\n",
       "      <td>0.193184</td>\n",
       "      <td>0.154880</td>\n",
       "      <td>6.899020</td>\n",
       "      <td>0.088743</td>\n",
       "      <td>0.161605</td>\n",
       "      <td>0.126051</td>\n",
       "      <td>0.084490</td>\n",
       "      <td>143.538295</td>\n",
       "      <td>...</td>\n",
       "      <td>0.157501</td>\n",
       "      <td>0.123325</td>\n",
       "      <td>0.107698</td>\n",
       "      <td>0.179143</td>\n",
       "      <td>19.065436</td>\n",
       "      <td>0.121403</td>\n",
       "      <td>0.159580</td>\n",
       "      <td>0.132481</td>\n",
       "      <td>0.247654</td>\n",
       "      <td>0.115000</td>\n",
       "    </tr>\n",
       "    <tr>\n",
       "      <th>62</th>\n",
       "      <td>0.213641</td>\n",
       "      <td>0.383104</td>\n",
       "      <td>15.883280</td>\n",
       "      <td>0.155844</td>\n",
       "      <td>0.233854</td>\n",
       "      <td>0.197296</td>\n",
       "      <td>0.221445</td>\n",
       "      <td>0.269628</td>\n",
       "      <td>0.203888</td>\n",
       "      <td>0.218177</td>\n",
       "      <td>...</td>\n",
       "      <td>68.431846</td>\n",
       "      <td>19.142002</td>\n",
       "      <td>0.439962</td>\n",
       "      <td>0.354134</td>\n",
       "      <td>0.326861</td>\n",
       "      <td>0.530609</td>\n",
       "      <td>3.105993</td>\n",
       "      <td>0.318049</td>\n",
       "      <td>0.378531</td>\n",
       "      <td>234.320552</td>\n",
       "    </tr>\n",
       "    <tr>\n",
       "      <th>11</th>\n",
       "      <td>0.156088</td>\n",
       "      <td>0.212351</td>\n",
       "      <td>0.241647</td>\n",
       "      <td>0.163209</td>\n",
       "      <td>0.152243</td>\n",
       "      <td>0.192223</td>\n",
       "      <td>0.230188</td>\n",
       "      <td>0.214602</td>\n",
       "      <td>4.308181</td>\n",
       "      <td>0.157184</td>\n",
       "      <td>...</td>\n",
       "      <td>276.339497</td>\n",
       "      <td>0.621190</td>\n",
       "      <td>0.170634</td>\n",
       "      <td>0.133303</td>\n",
       "      <td>0.176993</td>\n",
       "      <td>0.187097</td>\n",
       "      <td>0.265365</td>\n",
       "      <td>0.113609</td>\n",
       "      <td>0.249689</td>\n",
       "      <td>26.072265</td>\n",
       "    </tr>\n",
       "    <tr>\n",
       "      <th>244</th>\n",
       "      <td>0.193366</td>\n",
       "      <td>0.153392</td>\n",
       "      <td>0.122779</td>\n",
       "      <td>0.126448</td>\n",
       "      <td>0.113965</td>\n",
       "      <td>0.210225</td>\n",
       "      <td>0.201695</td>\n",
       "      <td>0.160518</td>\n",
       "      <td>0.161135</td>\n",
       "      <td>0.175002</td>\n",
       "      <td>...</td>\n",
       "      <td>0.129757</td>\n",
       "      <td>0.146117</td>\n",
       "      <td>0.159293</td>\n",
       "      <td>30.262957</td>\n",
       "      <td>0.106157</td>\n",
       "      <td>30.781927</td>\n",
       "      <td>0.122815</td>\n",
       "      <td>0.119214</td>\n",
       "      <td>67.870143</td>\n",
       "      <td>0.139393</td>\n",
       "    </tr>\n",
       "    <tr>\n",
       "      <th>24</th>\n",
       "      <td>0.162594</td>\n",
       "      <td>0.130315</td>\n",
       "      <td>0.157815</td>\n",
       "      <td>0.258591</td>\n",
       "      <td>1.791601</td>\n",
       "      <td>6.279698</td>\n",
       "      <td>0.541006</td>\n",
       "      <td>45.667235</td>\n",
       "      <td>0.228501</td>\n",
       "      <td>50.486164</td>\n",
       "      <td>...</td>\n",
       "      <td>0.160795</td>\n",
       "      <td>0.230575</td>\n",
       "      <td>0.167335</td>\n",
       "      <td>0.603552</td>\n",
       "      <td>24.346636</td>\n",
       "      <td>32.922770</td>\n",
       "      <td>0.299201</td>\n",
       "      <td>0.405175</td>\n",
       "      <td>0.236851</td>\n",
       "      <td>41.980704</td>\n",
       "    </tr>\n",
       "  </tbody>\n",
       "</table>\n",
       "<p>5 rows × 42 columns</p>\n",
       "</div>"
      ],
      "text/plain": [
       "     Why?: relationships, relationship, trevortext  \\\n",
       "103                                       0.140277   \n",
       "62                                        0.213641   \n",
       "11                                        0.156088   \n",
       "244                                       0.193366   \n",
       "24                                        0.162594   \n",
       "\n",
       "     Why?: thousands, kitchen, kitchens  \\\n",
       "103                            0.160064   \n",
       "62                             0.383104   \n",
       "11                             0.212351   \n",
       "244                            0.153392   \n",
       "24                             0.130315   \n",
       "\n",
       "     Why?: multiracial, language, analysis  \\\n",
       "103                               0.193184   \n",
       "62                               15.883280   \n",
       "11                                0.241647   \n",
       "244                               0.122779   \n",
       "24                                0.157815   \n",
       "\n",
       "     Why?: foundation, partnership, barbados  \\\n",
       "103                                 0.154880   \n",
       "62                                  0.155844   \n",
       "11                                  0.163209   \n",
       "244                                 0.126448   \n",
       "24                                  0.258591   \n",
       "\n",
       "     Why?: humanitarian, distributing, distributed  \\\n",
       "103                                       6.899020   \n",
       "62                                        0.233854   \n",
       "11                                        0.152243   \n",
       "244                                       0.113965   \n",
       "24                                        1.791601   \n",
       "\n",
       "     Why?: vulnerable, coordinated, outbreak  \\\n",
       "103                                 0.088743   \n",
       "62                                  0.197296   \n",
       "11                                  0.192223   \n",
       "244                                 0.210225   \n",
       "24                                  6.279698   \n",
       "\n",
       "     Why?: marginalized, globalgiving, emergency  \\\n",
       "103                                     0.161605   \n",
       "62                                      0.221445   \n",
       "11                                      0.230188   \n",
       "244                                     0.201695   \n",
       "24                                      0.541006   \n",
       "\n",
       "     Why?: sustainable, livelihoods, livelihood  \\\n",
       "103                                    0.126051   \n",
       "62                                     0.269628   \n",
       "11                                     0.214602   \n",
       "244                                    0.160518   \n",
       "24                                    45.667235   \n",
       "\n",
       "     Why?: healthcare, results, children  \\\n",
       "103                             0.084490   \n",
       "62                              0.203888   \n",
       "11                              4.308181   \n",
       "244                             0.161135   \n",
       "24                              0.228501   \n",
       "\n",
       "     Why?: movementhub, strengthening, snapshots  ...  \\\n",
       "103                                   143.538295  ...   \n",
       "62                                      0.218177  ...   \n",
       "11                                      0.157184  ...   \n",
       "244                                     0.175002  ...   \n",
       "24                                     50.486164  ...   \n",
       "\n",
       "     Why?: washingtonians, incarceration, restoration  \\\n",
       "103                                          0.157501   \n",
       "62                                          68.431846   \n",
       "11                                         276.339497   \n",
       "244                                          0.129757   \n",
       "24                                           0.160795   \n",
       "\n",
       "     Why?: leadership, confidence, confidently  \\\n",
       "103                                   0.123325   \n",
       "62                                   19.142002   \n",
       "11                                    0.621190   \n",
       "244                                   0.146117   \n",
       "24                                    0.230575   \n",
       "\n",
       "     Why?: entrepreneurs, entrepreneurship, tomorrow  \\\n",
       "103                                         0.107698   \n",
       "62                                          0.439962   \n",
       "11                                          0.170634   \n",
       "244                                         0.159293   \n",
       "24                                          0.167335   \n",
       "\n",
       "     Why?: coronavirus, families, primarily  \\\n",
       "103                                0.179143   \n",
       "62                                 0.354134   \n",
       "11                                 0.133303   \n",
       "244                               30.262957   \n",
       "24                                 0.603552   \n",
       "\n",
       "     Why?: california, disproportionately, lgbtiq  \\\n",
       "103                                     19.065436   \n",
       "62                                       0.326861   \n",
       "11                                       0.176993   \n",
       "244                                      0.106157   \n",
       "24                                      24.346636   \n",
       "\n",
       "     Why?: individuals, undiagnosed, disabilities  \\\n",
       "103                                      0.121403   \n",
       "62                                       0.530609   \n",
       "11                                       0.187097   \n",
       "244                                     30.781927   \n",
       "24                                      32.922770   \n",
       "\n",
       "     Why?: engineering, criminal, complete  \\\n",
       "103                               0.159580   \n",
       "62                                3.105993   \n",
       "11                                0.265365   \n",
       "244                               0.122815   \n",
       "24                                0.299201   \n",
       "\n",
       "     Why?: disparities, nonprofit, socioeconomic  \\\n",
       "103                                     0.132481   \n",
       "62                                      0.318049   \n",
       "11                                      0.113609   \n",
       "244                                     0.119214   \n",
       "24                                      0.405175   \n",
       "\n",
       "     Why?: simultaneously, immediate, richmond  \\\n",
       "103                                   0.247654   \n",
       "62                                    0.378531   \n",
       "11                                    0.249689   \n",
       "244                                  67.870143   \n",
       "24                                    0.236851   \n",
       "\n",
       "     Why?: constitution, employers, nationwide  \n",
       "103                                   0.115000  \n",
       "62                                  234.320552  \n",
       "11                                   26.072265  \n",
       "244                                   0.139393  \n",
       "24                                   41.980704  \n",
       "\n",
       "[5 rows x 42 columns]"
      ]
     },
     "execution_count": 21,
     "metadata": {},
     "output_type": "execute_result"
    }
   ],
   "source": [
    "# suppose we have a minibatch of new data -- transform under the fit from the above\n",
    "new_df = new_y = ndf.sample(5) # pd.DataFrame({'Category': ndf['Category'].sample(5)})\n",
    "a, b = g2.transform(new_df, new_y, kind='nodes')\n",
    "a"
   ]
  },
  {
   "cell_type": "code",
   "execution_count": 22,
   "id": "00fc2685",
   "metadata": {},
   "outputs": [
    {
     "data": {
      "text/html": [
       "<div>\n",
       "<style scoped>\n",
       "    .dataframe tbody tr th:only-of-type {\n",
       "        vertical-align: middle;\n",
       "    }\n",
       "\n",
       "    .dataframe tbody tr th {\n",
       "        vertical-align: top;\n",
       "    }\n",
       "\n",
       "    .dataframe thead th {\n",
       "        text-align: right;\n",
       "    }\n",
       "</style>\n",
       "<table border=\"1\" class=\"dataframe\">\n",
       "  <thead>\n",
       "    <tr style=\"text-align: right;\">\n",
       "      <th></th>\n",
       "      <th>Category: justice, social, 19</th>\n",
       "      <th>Category: crisis, relief, covid</th>\n",
       "      <th>Category: needed, where, most</th>\n",
       "      <th>Category: education, health, girls</th>\n",
       "    </tr>\n",
       "  </thead>\n",
       "  <tbody>\n",
       "    <tr>\n",
       "      <th>103</th>\n",
       "      <td>18.041799</td>\n",
       "      <td>0.050008</td>\n",
       "      <td>0.056675</td>\n",
       "      <td>0.051518</td>\n",
       "    </tr>\n",
       "    <tr>\n",
       "      <th>62</th>\n",
       "      <td>18.041799</td>\n",
       "      <td>0.050008</td>\n",
       "      <td>0.056675</td>\n",
       "      <td>0.051518</td>\n",
       "    </tr>\n",
       "    <tr>\n",
       "      <th>11</th>\n",
       "      <td>18.041799</td>\n",
       "      <td>0.050008</td>\n",
       "      <td>0.056675</td>\n",
       "      <td>0.051518</td>\n",
       "    </tr>\n",
       "    <tr>\n",
       "      <th>244</th>\n",
       "      <td>0.050010</td>\n",
       "      <td>10.548916</td>\n",
       "      <td>0.051025</td>\n",
       "      <td>0.050049</td>\n",
       "    </tr>\n",
       "    <tr>\n",
       "      <th>24</th>\n",
       "      <td>18.041799</td>\n",
       "      <td>0.050008</td>\n",
       "      <td>0.056675</td>\n",
       "      <td>0.051518</td>\n",
       "    </tr>\n",
       "  </tbody>\n",
       "</table>\n",
       "</div>"
      ],
      "text/plain": [
       "     Category: justice, social, 19  Category: crisis, relief, covid  \\\n",
       "103                      18.041799                         0.050008   \n",
       "62                       18.041799                         0.050008   \n",
       "11                       18.041799                         0.050008   \n",
       "244                       0.050010                        10.548916   \n",
       "24                       18.041799                         0.050008   \n",
       "\n",
       "     Category: needed, where, most  Category: education, health, girls  \n",
       "103                       0.056675                            0.051518  \n",
       "62                        0.056675                            0.051518  \n",
       "11                        0.056675                            0.051518  \n",
       "244                       0.051025                            0.050049  \n",
       "24                        0.056675                            0.051518  "
      ]
     },
     "execution_count": 22,
     "metadata": {},
     "output_type": "execute_result"
    }
   ],
   "source": [
    "b"
   ]
  },
  {
   "cell_type": "code",
   "execution_count": 23,
   "id": "cd1e7ffc",
   "metadata": {},
   "outputs": [],
   "source": [
    "# likewise you can play with how many edges to include using,\n",
    "g2 = g2.filter_weighted_edges(scale=0.5)  # lower positive values of scale mean closer similarity "
   ]
  },
  {
   "cell_type": "code",
   "execution_count": 24,
   "id": "b9dd69ea",
   "metadata": {},
   "outputs": [
    {
     "data": {
      "text/plain": [
       "<AxesSubplot:ylabel='support across data'>"
      ]
     },
     "execution_count": 24,
     "metadata": {},
     "output_type": "execute_result"
    },
    {
     "data": {
      "image/png": "[encoded data removed]",
      "text/plain": [
       "<Figure size 432x288 with 1 Axes>"
      ]
     },
     "metadata": {
      "needs_background": "light"
     },
     "output_type": "display_data"
    }
   ],
   "source": [
    "# find the marginal in the category topic distribution\n",
    "y = g2._node_target\n",
    "y.sum(0).plot(kind='bar', ylabel='support across data', rot=19)"
   ]
  },
  {
   "cell_type": "code",
   "execution_count": 25,
   "id": "63b817ae",
   "metadata": {},
   "outputs": [
    {
     "name": "stdout",
     "output_type": "stream",
     "text": [
      "\n",
      "--------------------------------------------------\n",
      "Topic 1: \t\t\t\t Evidence\n",
      "Category: justice, social, 19\n",
      "-----------------------------------\n",
      "-- Social Justice,    92\n",
      "-- COVID-19; Social Justice,    8\n",
      "-- COVID-19, Social Justice,    2\n",
      "-- Social Justice, COVID-19,    1\n",
      "-- UBI, Social Justice,    1\n",
      "-- COVID-19 & Social Justice,    1\n",
      "\n",
      "--------------------------------------------------\n",
      "Topic 2: \t\t\t\t Evidence\n",
      "Category: crisis, relief, covid\n",
      "-----------------------------------\n",
      "-- COVID-19,    70\n",
      "-- COVID-19 ,    55\n",
      "-- Crisis Relief,    8\n",
      "-- UBI; COVID-19,    3\n",
      "-- COVID-19, UBI,    2\n",
      "\n",
      "--------------------------------------------------\n",
      "Topic 3: \t\t\t\t Evidence\n",
      "Category: needed, where, most\n",
      "-----------------------------------\n",
      "-- UBI,    4\n",
      "-- Where it's needed most,    1\n",
      "\n",
      "--------------------------------------------------\n",
      "Topic 4: \t\t\t\t Evidence\n",
      "Category: education, health, girls\n",
      "-----------------------------------\n",
      "-- Girls Health & Education,    16\n",
      "-- Social Justice, Girls Health & Education,    6\n",
      "-- COVID-19, Girls Health & Education,    4\n",
      "-- Girls Health & Education; COVID-19,    3\n",
      "-- COVID-19; Girls Health & Education,    3\n",
      "-- Girls Health & Education, COVID-19,    2\n",
      "-- COVID-19, Social Justice, Girls Health & Education,    1\n",
      "-- Girls Health & Education; Social Justice,    1\n",
      "-- Social Justice, UBI, Girls Health & Education,    1\n"
     ]
    }
   ],
   "source": [
    "# Let's see how the category columns are supported by the data\n",
    "from collections import Counter\n",
    "tops = y.values.argmax(1)\n",
    "for topic_number in range(y.shape[1]):\n",
    "    indices = np.where(tops==topic_number)\n",
    "    top_category = Counter(ndf.loc[indices].Category)\n",
    "    print()\n",
    "    print('-'*50)\n",
    "    print(f'Topic {topic_number+1}: \\t\\t\\t\\t Evidence')\n",
    "    print(f'{y.columns[topic_number]}')\n",
    "    print('-'*35)\n",
    "    for t, c in top_category.most_common():\n",
    "        print(f'-- {t},    {c}')"
   ]
  },
  {
   "cell_type": "markdown",
   "id": "efe62b1e",
   "metadata": {},
   "source": [
    "We see that different spellings, spaces, etc or use of ;, , etc map to the same topic. This is a useful way to disambiguate when there are many similar categories without having to do a lot of data cleaning and prep.\n",
    "\n",
    "The choice of `n_topics_target` sets the prior on the Dirty_Cat GapEncoder used under the hood"
   ]
  },
  {
   "cell_type": "markdown",
   "id": "530cde56",
   "metadata": {},
   "source": [
    "_________________________________________________________________________________________\n",
    "Let's add the Category Topic Number as a feature to help us visualize using the Histogram Feature of the Graphistry UI\n",
    "\n",
    "This reduces the naive one-hot-encoding of 22 columns down the the number set by the `n_topics_target`"
   ]
  },
  {
   "cell_type": "code",
   "execution_count": 26,
   "id": "5724c75f",
   "metadata": {},
   "outputs": [],
   "source": [
    "g2._nodes['topic'] = y.columns[tops]\n",
    "ndf['topic'] = y.columns[tops]"
   ]
  },
  {
   "cell_type": "code",
   "execution_count": 27,
   "id": "ad387dc0",
   "metadata": {},
   "outputs": [
    {
     "data": {
      "text/plain": [
       "0        Category: justice, social, 19\n",
       "1      Category: crisis, relief, covid\n",
       "2      Category: crisis, relief, covid\n",
       "3      Category: crisis, relief, covid\n",
       "4      Category: crisis, relief, covid\n",
       "                    ...               \n",
       "280    Category: crisis, relief, covid\n",
       "281    Category: crisis, relief, covid\n",
       "282    Category: crisis, relief, covid\n",
       "283    Category: crisis, relief, covid\n",
       "284    Category: crisis, relief, covid\n",
       "Name: topic, Length: 285, dtype: object"
      ]
     },
     "execution_count": 27,
     "metadata": {},
     "output_type": "execute_result"
    }
   ],
   "source": [
    "g2._nodes.topic"
   ]
  },
  {
   "cell_type": "markdown",
   "id": "4486a47c",
   "metadata": {},
   "source": [
    "------------------------------------------------------------------------------\n",
    "In the plot below, use the histogram feature on the bottom right of the UI to color by `topic`\n"
   ]
  },
  {
   "cell_type": "code",
   "execution_count": 28,
   "id": "5d46b0ab",
   "metadata": {},
   "outputs": [
    {
     "data": {
      "text/plain": [
       "'https://hub.graphistry.com/graph/graph.html?dataset=e306d4cb9d9c46e2b451e1739b42fd1f&type=arrow&viztoken=194b1f39-29fa-40e5-b80e-790bf099ecaa&usertag=f680a57a-pygraphistry-0.28.7&splashAfter=1672009087&info=true&play=0'"
      ]
     },
     "execution_count": 28,
     "metadata": {},
     "output_type": "execute_result"
    }
   ],
   "source": [
    "g2.bind(point_title='Grantee').plot(render=RENDER)  # color by `topic` in histogram"
   ]
  },
  {
   "cell_type": "code",
   "execution_count": 29,
   "id": "6c17e7c4",
   "metadata": {},
   "outputs": [],
   "source": [
    "## lets sum $$ across major topics"
   ]
  },
  {
   "cell_type": "code",
   "execution_count": 30,
   "id": "c3ad0af4",
   "metadata": {},
   "outputs": [
    {
     "data": {
      "text/plain": [
       "topic\n",
       "Category: crisis, relief, covid       $289,401,918.0\n",
       "Category: justice, social, 19          $92,815,393.0\n",
       "Category: education, health, girls     $71,519,000.0\n",
       "Category: needed, where, most          $13,210,000.0\n",
       "Name: $ amount, dtype: object"
      ]
     },
     "execution_count": 30,
     "metadata": {},
     "output_type": "execute_result"
    }
   ],
   "source": [
    "topic_sums = ndf.groupby('topic')['$ amount'].sum()\n",
    "topic_sums.sort_values()[::-1].apply(lambda x : '${:3,}'.format(x))"
   ]
  },
  {
   "cell_type": "markdown",
   "id": "058f5eef",
   "metadata": {},
   "source": [
    "Hence we have Crisis Relief, Social Justice, Health Education Girls, and UBI occupying the main topics across the target"
   ]
  },
  {
   "cell_type": "markdown",
   "id": "94756034",
   "metadata": {},
   "source": [
    "------------------------------------------------------------------------------------------\n",
    "Let's move on to point 2) \n",
    "## Sentence Transformer Model\n",
    "\n",
    "To trigger the sentence encoder, just lower the `min_words` count (which previously we had set to higher than the number of words across the `Why?` column) to some small value or zero to force encoding any X=[..] columns, since it sets the minimum number of words to consider passing on to the (sentence, ngram) embedding pipelines.  \n",
    "\n",
    "Here, UMAP will work directly on the sentence transformer vector and expose a search interface."
   ]
  },
  {
   "cell_type": "code",
   "execution_count": 31,
   "id": "0c4ceacb",
   "metadata": {},
   "outputs": [
    {
     "name": "stderr",
     "output_type": "stream",
     "text": [
      "* Ignoring target column of shape (285, 7) in UMAP fit, as it is not one dimensional"
     ]
    }
   ],
   "source": [
    "g3 = g.umap(X = ['Why?', 'Grantee'], y = 'Category', \n",
    "            min_words=0, \n",
    "            model_name ='paraphrase-MiniLM-L6-v2', \n",
    "            cardinality_threshold_target=2,\n",
    "            use_scaler=None,\n",
    "            use_scaler_target=None,\n",
    "            scale=0.5)"
   ]
  },
  {
   "cell_type": "code",
   "execution_count": 32,
   "id": "e137b52c",
   "metadata": {},
   "outputs": [
    {
     "data": {
      "text/html": [
       "<div>\n",
       "<style scoped>\n",
       "    .dataframe tbody tr th:only-of-type {\n",
       "        vertical-align: middle;\n",
       "    }\n",
       "\n",
       "    .dataframe tbody tr th {\n",
       "        vertical-align: top;\n",
       "    }\n",
       "\n",
       "    .dataframe thead th {\n",
       "        text-align: right;\n",
       "    }\n",
       "</style>\n",
       "<table border=\"1\" class=\"dataframe\">\n",
       "  <thead>\n",
       "    <tr style=\"text-align: right;\">\n",
       "      <th></th>\n",
       "      <th>Why?</th>\n",
       "    </tr>\n",
       "  </thead>\n",
       "  <tbody>\n",
       "    <tr>\n",
       "      <th>28</th>\n",
       "      <td>Climate Justice Alliance (CJA) formed in 2013 ...</td>\n",
       "    </tr>\n",
       "    <tr>\n",
       "      <th>27</th>\n",
       "      <td>The Climate and Clean Energy Equity Fund (Equi...</td>\n",
       "    </tr>\n",
       "    <tr>\n",
       "      <th>138</th>\n",
       "      <td>The Richmond Rapid Response Fund (R3F) is a wr...</td>\n",
       "    </tr>\n",
       "    <tr>\n",
       "      <th>29</th>\n",
       "      <td>The Deep South Center for Environment Justice,...</td>\n",
       "    </tr>\n",
       "    <tr>\n",
       "      <th>113</th>\n",
       "      <td>For 40 years, Futures Without Violence has pio...</td>\n",
       "    </tr>\n",
       "    <tr>\n",
       "      <th>46</th>\n",
       "      <td>DC or Nothing, Inc. is a nonprofit organizatio...</td>\n",
       "    </tr>\n",
       "    <tr>\n",
       "      <th>134</th>\n",
       "      <td>To support Oxfam’s response to the ongoing imp...</td>\n",
       "    </tr>\n",
       "    <tr>\n",
       "      <th>54</th>\n",
       "      <td>With the support of #StartSmall ALIMA is opera...</td>\n",
       "    </tr>\n",
       "    <tr>\n",
       "      <th>161</th>\n",
       "      <td>To support the \"AEGIS Study\" Fund to address S...</td>\n",
       "    </tr>\n",
       "    <tr>\n",
       "      <th>39</th>\n",
       "      <td>The Caribbean Climate Justice Project seeks to...</td>\n",
       "    </tr>\n",
       "  </tbody>\n",
       "</table>\n",
       "</div>"
      ],
      "text/plain": [
       "                                                  Why?\n",
       "28   Climate Justice Alliance (CJA) formed in 2013 ...\n",
       "27   The Climate and Clean Energy Equity Fund (Equi...\n",
       "138  The Richmond Rapid Response Fund (R3F) is a wr...\n",
       "29   The Deep South Center for Environment Justice,...\n",
       "113  For 40 years, Futures Without Violence has pio...\n",
       "46   DC or Nothing, Inc. is a nonprofit organizatio...\n",
       "134  To support Oxfam’s response to the ongoing imp...\n",
       "54   With the support of #StartSmall ALIMA is opera...\n",
       "161  To support the \"AEGIS Study\" Fund to address S...\n",
       "39   The Caribbean Climate Justice Project seeks to..."
      ]
     },
     "execution_count": 32,
     "metadata": {},
     "output_type": "execute_result"
    }
   ],
   "source": [
    "g3.search('carbon neutral')[0][['Why?']]"
   ]
  },
  {
   "cell_type": "code",
   "execution_count": 33,
   "id": "a222ef95",
   "metadata": {},
   "outputs": [
    {
     "data": {
      "text/plain": [
       "'$13,776,250.0'"
      ]
     },
     "execution_count": 33,
     "metadata": {},
     "output_type": "execute_result"
    }
   ],
   "source": [
    "# make quick semantic estimates\n",
    "'${:3,}'.format(g3.search('carbon neutral')[0]['$ amount'].sum())"
   ]
  },
  {
   "cell_type": "code",
   "execution_count": 34,
   "id": "7bbcec3a",
   "metadata": {},
   "outputs": [
    {
     "data": {
      "text/html": [
       "<div>\n",
       "<style scoped>\n",
       "    .dataframe tbody tr th:only-of-type {\n",
       "        vertical-align: middle;\n",
       "    }\n",
       "\n",
       "    .dataframe tbody tr th {\n",
       "        vertical-align: top;\n",
       "    }\n",
       "\n",
       "    .dataframe thead th {\n",
       "        text-align: right;\n",
       "    }\n",
       "</style>\n",
       "<table border=\"1\" class=\"dataframe\">\n",
       "  <thead>\n",
       "    <tr style=\"text-align: right;\">\n",
       "      <th></th>\n",
       "      <th>Why?</th>\n",
       "      <th>$ amount</th>\n",
       "    </tr>\n",
       "  </thead>\n",
       "  <tbody>\n",
       "    <tr>\n",
       "      <th>237</th>\n",
       "      <td>For the #FirstOfTheMonth rent relief project a...</td>\n",
       "      <td>530000.0</td>\n",
       "    </tr>\n",
       "    <tr>\n",
       "      <th>184</th>\n",
       "      <td>Funds will be used towards their mission of pr...</td>\n",
       "      <td>1000000.0</td>\n",
       "    </tr>\n",
       "    <tr>\n",
       "      <th>142</th>\n",
       "      <td>To support in its efforts to empower people wi...</td>\n",
       "      <td>4720000.0</td>\n",
       "    </tr>\n",
       "    <tr>\n",
       "      <th>225</th>\n",
       "      <td>Supports the 30-day Rent Relief program and fu...</td>\n",
       "      <td>200000.0</td>\n",
       "    </tr>\n",
       "    <tr>\n",
       "      <th>253</th>\n",
       "      <td>Funds support the Navajo Water Project - conne...</td>\n",
       "      <td>1000000.0</td>\n",
       "    </tr>\n",
       "    <tr>\n",
       "      <th>177</th>\n",
       "      <td>To support the COVID-19 Resilience Fund, servi...</td>\n",
       "      <td>2000000.0</td>\n",
       "    </tr>\n",
       "    <tr>\n",
       "      <th>122</th>\n",
       "      <td>For over 60 years, Public Health Solutions (PH...</td>\n",
       "      <td>200000.0</td>\n",
       "    </tr>\n",
       "    <tr>\n",
       "      <th>226</th>\n",
       "      <td>Funding to be used as leverage in negotiations...</td>\n",
       "      <td>300000.0</td>\n",
       "    </tr>\n",
       "    <tr>\n",
       "      <th>29</th>\n",
       "      <td>The Deep South Center for Environment Justice,...</td>\n",
       "      <td>300000.0</td>\n",
       "    </tr>\n",
       "    <tr>\n",
       "      <th>110</th>\n",
       "      <td>Mission Neighborhood Centers (MNC), founded in...</td>\n",
       "      <td>1000000.0</td>\n",
       "    </tr>\n",
       "  </tbody>\n",
       "</table>\n",
       "</div>"
      ],
      "text/plain": [
       "                                                  Why?   $ amount\n",
       "237  For the #FirstOfTheMonth rent relief project a...   530000.0\n",
       "184  Funds will be used towards their mission of pr...  1000000.0\n",
       "142  To support in its efforts to empower people wi...  4720000.0\n",
       "225  Supports the 30-day Rent Relief program and fu...   200000.0\n",
       "253  Funds support the Navajo Water Project - conne...  1000000.0\n",
       "177  To support the COVID-19 Resilience Fund, servi...  2000000.0\n",
       "122  For over 60 years, Public Health Solutions (PH...   200000.0\n",
       "226  Funding to be used as leverage in negotiations...   300000.0\n",
       "29   The Deep South Center for Environment Justice,...   300000.0\n",
       "110  Mission Neighborhood Centers (MNC), founded in...  1000000.0"
      ]
     },
     "execution_count": 34,
     "metadata": {},
     "output_type": "execute_result"
    }
   ],
   "source": [
    "g3.search('sustainable homes and communities')[0][['Why?','$ amount']]#.sum()"
   ]
  },
  {
   "cell_type": "code",
   "execution_count": 35,
   "id": "1cc5bd36",
   "metadata": {},
   "outputs": [
    {
     "data": {
      "text/plain": [
       "'$11,250,000.0'"
      ]
     },
     "execution_count": 35,
     "metadata": {},
     "output_type": "execute_result"
    }
   ],
   "source": [
    "'${:3,}'.format(g3.search('sustainable homes and communities')[0]['$ amount'].sum())"
   ]
  },
  {
   "cell_type": "code",
   "execution_count": 36,
   "id": "3cc28169",
   "metadata": {},
   "outputs": [
    {
     "data": {
      "text/plain": [
       "'https://hub.graphistry.com/graph/graph.html?dataset=6c44a692de41484f9e403eea134435dc&type=arrow&viztoken=479610e9-66b9-483d-a242-5dd476faaa08&usertag=f680a57a-pygraphistry-0.28.7&splashAfter=1672009105&info=true&play=0'"
      ]
     },
     "execution_count": 36,
     "metadata": {},
     "output_type": "execute_result"
    }
   ],
   "source": [
    "# see the queries landscape  -- paste url to see graph if g.plot(render=False)\n",
    "g3.search_graph('sustainable homes and communities', scale=0.90, top_n=10).bind(point_title='Grantee').plot(render=RENDER)"
   ]
  },
  {
   "cell_type": "code",
   "execution_count": 37,
   "id": "6bf9f793",
   "metadata": {},
   "outputs": [
    {
     "name": "stderr",
     "output_type": "stream",
     "text": [
      "'SuperVectorizer' object has no attribute 'get_feature_names_in'"
     ]
    },
    {
     "data": {
      "text/html": [
       "<div>\n",
       "<style scoped>\n",
       "    .dataframe tbody tr th:only-of-type {\n",
       "        vertical-align: middle;\n",
       "    }\n",
       "\n",
       "    .dataframe tbody tr th {\n",
       "        vertical-align: top;\n",
       "    }\n",
       "\n",
       "    .dataframe thead th {\n",
       "        text-align: right;\n",
       "    }\n",
       "</style>\n",
       "<table border=\"1\" class=\"dataframe\">\n",
       "  <thead>\n",
       "    <tr style=\"text-align: right;\">\n",
       "      <th></th>\n",
       "      <th>Why?_Grantee_0</th>\n",
       "      <th>Why?_Grantee_1</th>\n",
       "      <th>Why?_Grantee_2</th>\n",
       "      <th>Why?_Grantee_3</th>\n",
       "      <th>Why?_Grantee_4</th>\n",
       "      <th>Why?_Grantee_5</th>\n",
       "      <th>Why?_Grantee_6</th>\n",
       "      <th>Why?_Grantee_7</th>\n",
       "      <th>Why?_Grantee_8</th>\n",
       "      <th>Why?_Grantee_9</th>\n",
       "      <th>...</th>\n",
       "      <th>Why?_Grantee_374</th>\n",
       "      <th>Why?_Grantee_375</th>\n",
       "      <th>Why?_Grantee_376</th>\n",
       "      <th>Why?_Grantee_377</th>\n",
       "      <th>Why?_Grantee_378</th>\n",
       "      <th>Why?_Grantee_379</th>\n",
       "      <th>Why?_Grantee_380</th>\n",
       "      <th>Why?_Grantee_381</th>\n",
       "      <th>Why?_Grantee_382</th>\n",
       "      <th>Why?_Grantee_383</th>\n",
       "    </tr>\n",
       "  </thead>\n",
       "  <tbody>\n",
       "    <tr>\n",
       "      <th>103</th>\n",
       "      <td>0.443781</td>\n",
       "      <td>0.228207</td>\n",
       "      <td>-0.095960</td>\n",
       "      <td>0.233459</td>\n",
       "      <td>0.089919</td>\n",
       "      <td>0.261963</td>\n",
       "      <td>0.181132</td>\n",
       "      <td>-0.332808</td>\n",
       "      <td>-0.131169</td>\n",
       "      <td>0.098321</td>\n",
       "      <td>...</td>\n",
       "      <td>-0.112939</td>\n",
       "      <td>-0.039801</td>\n",
       "      <td>0.344712</td>\n",
       "      <td>-0.148454</td>\n",
       "      <td>0.092307</td>\n",
       "      <td>0.554271</td>\n",
       "      <td>0.729110</td>\n",
       "      <td>0.292012</td>\n",
       "      <td>-0.235918</td>\n",
       "      <td>0.717677</td>\n",
       "    </tr>\n",
       "    <tr>\n",
       "      <th>62</th>\n",
       "      <td>-0.117390</td>\n",
       "      <td>-0.122771</td>\n",
       "      <td>-0.457182</td>\n",
       "      <td>-0.289880</td>\n",
       "      <td>0.091984</td>\n",
       "      <td>0.300274</td>\n",
       "      <td>-0.013144</td>\n",
       "      <td>-0.218964</td>\n",
       "      <td>0.034323</td>\n",
       "      <td>0.037846</td>\n",
       "      <td>...</td>\n",
       "      <td>0.269020</td>\n",
       "      <td>0.114675</td>\n",
       "      <td>0.134028</td>\n",
       "      <td>0.085543</td>\n",
       "      <td>-0.306746</td>\n",
       "      <td>0.037034</td>\n",
       "      <td>0.167620</td>\n",
       "      <td>0.081501</td>\n",
       "      <td>0.109638</td>\n",
       "      <td>-0.272466</td>\n",
       "    </tr>\n",
       "    <tr>\n",
       "      <th>11</th>\n",
       "      <td>0.066493</td>\n",
       "      <td>0.095128</td>\n",
       "      <td>-0.273875</td>\n",
       "      <td>-0.108320</td>\n",
       "      <td>0.208153</td>\n",
       "      <td>0.393189</td>\n",
       "      <td>0.207741</td>\n",
       "      <td>0.060979</td>\n",
       "      <td>-0.189427</td>\n",
       "      <td>0.035519</td>\n",
       "      <td>...</td>\n",
       "      <td>0.117062</td>\n",
       "      <td>-0.089552</td>\n",
       "      <td>0.247655</td>\n",
       "      <td>0.248977</td>\n",
       "      <td>0.026250</td>\n",
       "      <td>0.274958</td>\n",
       "      <td>0.396113</td>\n",
       "      <td>-0.109153</td>\n",
       "      <td>0.155618</td>\n",
       "      <td>-0.087428</td>\n",
       "    </tr>\n",
       "    <tr>\n",
       "      <th>244</th>\n",
       "      <td>0.230028</td>\n",
       "      <td>0.167471</td>\n",
       "      <td>0.209063</td>\n",
       "      <td>0.097104</td>\n",
       "      <td>0.082054</td>\n",
       "      <td>0.183794</td>\n",
       "      <td>-0.266914</td>\n",
       "      <td>-0.023539</td>\n",
       "      <td>-0.543348</td>\n",
       "      <td>-0.263615</td>\n",
       "      <td>...</td>\n",
       "      <td>0.063171</td>\n",
       "      <td>0.154695</td>\n",
       "      <td>-0.307326</td>\n",
       "      <td>-0.197053</td>\n",
       "      <td>0.221207</td>\n",
       "      <td>-0.098222</td>\n",
       "      <td>0.054051</td>\n",
       "      <td>-0.118295</td>\n",
       "      <td>-0.154315</td>\n",
       "      <td>0.197405</td>\n",
       "    </tr>\n",
       "    <tr>\n",
       "      <th>24</th>\n",
       "      <td>-0.169691</td>\n",
       "      <td>0.559551</td>\n",
       "      <td>-0.129676</td>\n",
       "      <td>-0.366660</td>\n",
       "      <td>0.267032</td>\n",
       "      <td>-0.058975</td>\n",
       "      <td>-0.005459</td>\n",
       "      <td>0.062295</td>\n",
       "      <td>0.050921</td>\n",
       "      <td>0.362040</td>\n",
       "      <td>...</td>\n",
       "      <td>0.112664</td>\n",
       "      <td>0.112096</td>\n",
       "      <td>-0.116451</td>\n",
       "      <td>0.187891</td>\n",
       "      <td>-0.142040</td>\n",
       "      <td>0.025833</td>\n",
       "      <td>-0.695716</td>\n",
       "      <td>0.017772</td>\n",
       "      <td>0.010284</td>\n",
       "      <td>0.043964</td>\n",
       "    </tr>\n",
       "  </tbody>\n",
       "</table>\n",
       "<p>5 rows × 384 columns</p>\n",
       "</div>"
      ],
      "text/plain": [
       "     Why?_Grantee_0  Why?_Grantee_1  Why?_Grantee_2  Why?_Grantee_3  \\\n",
       "103        0.443781        0.228207       -0.095960        0.233459   \n",
       "62        -0.117390       -0.122771       -0.457182       -0.289880   \n",
       "11         0.066493        0.095128       -0.273875       -0.108320   \n",
       "244        0.230028        0.167471        0.209063        0.097104   \n",
       "24        -0.169691        0.559551       -0.129676       -0.366660   \n",
       "\n",
       "     Why?_Grantee_4  Why?_Grantee_5  Why?_Grantee_6  Why?_Grantee_7  \\\n",
       "103        0.089919        0.261963        0.181132       -0.332808   \n",
       "62         0.091984        0.300274       -0.013144       -0.218964   \n",
       "11         0.208153        0.393189        0.207741        0.060979   \n",
       "244        0.082054        0.183794       -0.266914       -0.023539   \n",
       "24         0.267032       -0.058975       -0.005459        0.062295   \n",
       "\n",
       "     Why?_Grantee_8  Why?_Grantee_9  ...  Why?_Grantee_374  Why?_Grantee_375  \\\n",
       "103       -0.131169        0.098321  ...         -0.112939         -0.039801   \n",
       "62         0.034323        0.037846  ...          0.269020          0.114675   \n",
       "11        -0.189427        0.035519  ...          0.117062         -0.089552   \n",
       "244       -0.543348       -0.263615  ...          0.063171          0.154695   \n",
       "24         0.050921        0.362040  ...          0.112664          0.112096   \n",
       "\n",
       "     Why?_Grantee_376  Why?_Grantee_377  Why?_Grantee_378  Why?_Grantee_379  \\\n",
       "103          0.344712         -0.148454          0.092307          0.554271   \n",
       "62           0.134028          0.085543         -0.306746          0.037034   \n",
       "11           0.247655          0.248977          0.026250          0.274958   \n",
       "244         -0.307326         -0.197053          0.221207         -0.098222   \n",
       "24          -0.116451          0.187891         -0.142040          0.025833   \n",
       "\n",
       "     Why?_Grantee_380  Why?_Grantee_381  Why?_Grantee_382  Why?_Grantee_383  \n",
       "103          0.729110          0.292012         -0.235918          0.717677  \n",
       "62           0.167620          0.081501          0.109638         -0.272466  \n",
       "11           0.396113         -0.109153          0.155618         -0.087428  \n",
       "244          0.054051         -0.118295         -0.154315          0.197405  \n",
       "24          -0.695716          0.017772          0.010284          0.043964  \n",
       "\n",
       "[5 rows x 384 columns]"
      ]
     },
     "execution_count": 37,
     "metadata": {},
     "output_type": "execute_result"
    }
   ],
   "source": [
    "# or transform on new data as before\n",
    "a, b = g3.transform(new_df, new_y, kind='nodes')\n",
    "a"
   ]
  },
  {
   "cell_type": "code",
   "execution_count": 38,
   "id": "142b85db",
   "metadata": {},
   "outputs": [
    {
     "data": {
      "text/html": [
       "<div>\n",
       "<style scoped>\n",
       "    .dataframe tbody tr th:only-of-type {\n",
       "        vertical-align: middle;\n",
       "    }\n",
       "\n",
       "    .dataframe tbody tr th {\n",
       "        vertical-align: top;\n",
       "    }\n",
       "\n",
       "    .dataframe thead th {\n",
       "        text-align: right;\n",
       "    }\n",
       "</style>\n",
       "<table border=\"1\" class=\"dataframe\">\n",
       "  <thead>\n",
       "    <tr style=\"text-align: right;\">\n",
       "      <th></th>\n",
       "      <th>Category: covid, ubi, 19</th>\n",
       "      <th>Category: 19, it, ubi</th>\n",
       "      <th>Category: justice, social, most</th>\n",
       "      <th>Category: 19, it, ubi</th>\n",
       "      <th>Category: education, health, girls</th>\n",
       "      <th>Category: crisis, relief, needed</th>\n",
       "      <th>Category: ubi, 19, it</th>\n",
       "    </tr>\n",
       "  </thead>\n",
       "  <tbody>\n",
       "    <tr>\n",
       "      <th>103</th>\n",
       "      <td>0.050003</td>\n",
       "      <td>0.098460</td>\n",
       "      <td>17.976374</td>\n",
       "      <td>0.050914</td>\n",
       "      <td>0.051539</td>\n",
       "      <td>0.050121</td>\n",
       "      <td>0.072589</td>\n",
       "    </tr>\n",
       "    <tr>\n",
       "      <th>62</th>\n",
       "      <td>0.050003</td>\n",
       "      <td>0.098460</td>\n",
       "      <td>17.976374</td>\n",
       "      <td>0.050914</td>\n",
       "      <td>0.051539</td>\n",
       "      <td>0.050121</td>\n",
       "      <td>0.072589</td>\n",
       "    </tr>\n",
       "    <tr>\n",
       "      <th>11</th>\n",
       "      <td>0.050003</td>\n",
       "      <td>0.098460</td>\n",
       "      <td>17.976374</td>\n",
       "      <td>0.050914</td>\n",
       "      <td>0.051539</td>\n",
       "      <td>0.050121</td>\n",
       "      <td>0.072589</td>\n",
       "    </tr>\n",
       "    <tr>\n",
       "      <th>244</th>\n",
       "      <td>10.517500</td>\n",
       "      <td>0.068372</td>\n",
       "      <td>0.050004</td>\n",
       "      <td>0.064094</td>\n",
       "      <td>0.050020</td>\n",
       "      <td>0.050003</td>\n",
       "      <td>0.050007</td>\n",
       "    </tr>\n",
       "    <tr>\n",
       "      <th>24</th>\n",
       "      <td>0.050003</td>\n",
       "      <td>0.098460</td>\n",
       "      <td>17.976374</td>\n",
       "      <td>0.050914</td>\n",
       "      <td>0.051539</td>\n",
       "      <td>0.050121</td>\n",
       "      <td>0.072589</td>\n",
       "    </tr>\n",
       "  </tbody>\n",
       "</table>\n",
       "</div>"
      ],
      "text/plain": [
       "     Category: covid, ubi, 19  Category: 19, it, ubi  \\\n",
       "103                  0.050003               0.098460   \n",
       "62                   0.050003               0.098460   \n",
       "11                   0.050003               0.098460   \n",
       "244                 10.517500               0.068372   \n",
       "24                   0.050003               0.098460   \n",
       "\n",
       "     Category: justice, social, most  Category: 19, it, ubi  \\\n",
       "103                        17.976374               0.050914   \n",
       "62                         17.976374               0.050914   \n",
       "11                         17.976374               0.050914   \n",
       "244                         0.050004               0.064094   \n",
       "24                         17.976374               0.050914   \n",
       "\n",
       "     Category: education, health, girls  Category: crisis, relief, needed  \\\n",
       "103                            0.051539                          0.050121   \n",
       "62                             0.051539                          0.050121   \n",
       "11                             0.051539                          0.050121   \n",
       "244                            0.050020                          0.050003   \n",
       "24                             0.051539                          0.050121   \n",
       "\n",
       "     Category: ubi, 19, it  \n",
       "103               0.072589  \n",
       "62                0.072589  \n",
       "11                0.072589  \n",
       "244               0.050007  \n",
       "24                0.072589  "
      ]
     },
     "execution_count": 38,
     "metadata": {},
     "output_type": "execute_result"
    }
   ],
   "source": [
    "b"
   ]
  },
  {
   "cell_type": "markdown",
   "id": "5a3033a4",
   "metadata": {},
   "source": [
    "Clicking around to nearest neighbors demonstrates good semantic similarity, as seen by the Paraphrase Model `paraphrase-MiniLM-L6-v2`"
   ]
  },
  {
   "cell_type": "code",
   "execution_count": 39,
   "id": "9d33ea95",
   "metadata": {},
   "outputs": [
    {
     "data": {
      "text/plain": [
       "'https://hub.graphistry.com/graph/graph.html?dataset=51fe80f88c464b5eb049dd382cfb9b46&type=arrow&viztoken=ab98054f-1141-4657-b76d-9a98b4753917&usertag=f680a57a-pygraphistry-0.28.7&splashAfter=1672009108&info=true&play=0'"
      ]
     },
     "execution_count": 39,
     "metadata": {},
     "output_type": "execute_result"
    }
   ],
   "source": [
    "g3.bind(point_title='Grantee').plot(render=RENDER)"
   ]
  },
  {
   "cell_type": "markdown",
   "id": "7cbb210c",
   "metadata": {},
   "source": [
    "Suppose we wanted to add the `$ amount` column as a feature: \n",
    "\n",
    "To include it in the sentence transformer model, reduce the` min_words` threshold to include it. If we want the column `Grantee` to be encoded as a topic model, set `min_words` to between the average of `Why?` (higher) and `Grantee` (lower).  It nevertheless is useful across many datasets since if a column is truly categorical, its cardinality is usually well under that of a truly textual feature. Moreover, if you want all columns to be textually encoded, set `min_words=0`. \n",
    "\n",
    "The `$ amount` column will be passed in and scaled according to `use_scaler`, while `use_scaler_target` selects how to scale targets \n",
    "\n",
    "(exercise:  `use_scaler_target='kbins'` to see the difference in `g._node_target` \n",
    "\n",
    "or scale the dataframe directly (this transforms the batch dataframe)\n",
    "\n",
    "`a, b = g.scale(ndf, ydf=ndf, 'nodes', use_scaler_target='kbins', n_bins=9))` "
   ]
  },
  {
   "cell_type": "code",
   "execution_count": 40,
   "id": "4ef2870c",
   "metadata": {},
   "outputs": [
    {
     "name": "stderr",
     "output_type": "stream",
     "text": [
      "* Ignoring target column of shape (285, 22) in UMAP fit, as it is not one dimensional"
     ]
    }
   ],
   "source": [
    "g3 = g.umap(X = ['Why?', 'Grantee', '$ amount'], y = 'Category',\n",
    "            min_words=2, # don't set to zero or it will stringify the `$ amount`\n",
    "            model_name ='paraphrase-MiniLM-L6-v2',\n",
    "            use_scaler=None,\n",
    "           )"
   ]
  },
  {
   "cell_type": "code",
   "execution_count": 41,
   "id": "97bdaa46",
   "metadata": {},
   "outputs": [
    {
     "data": {
      "text/plain": [
       "['Why?', 'Grantee']"
      ]
     },
     "execution_count": 41,
     "metadata": {},
     "output_type": "execute_result"
    }
   ],
   "source": [
    "g3._node_encoder.text_cols"
   ]
  },
  {
   "cell_type": "code",
   "execution_count": 42,
   "id": "33f3bc17",
   "metadata": {},
   "outputs": [
    {
     "data": {
      "text/plain": [
       "'https://hub.graphistry.com/graph/graph.html?dataset=22d84e2ef2de4cb4830ea1c6c9dc2f70&type=arrow&viztoken=b5067b0e-4c9b-4341-8c41-ce05998aacd1&usertag=f680a57a-pygraphistry-0.28.7&splashAfter=1672009127&info=true&play=0'"
      ]
     },
     "execution_count": 42,
     "metadata": {},
     "output_type": "execute_result"
    }
   ],
   "source": [
    "g3.plot(render=RENDER) # color/size the noded by `$ amount`, mimics graph above as they use the same embedding xys"
   ]
  },
  {
   "cell_type": "markdown",
   "id": "f014b4e0",
   "metadata": {},
   "source": [
    "## NGRAMS model\n",
    "\n",
    "Lastly, suppose we want a plain Ngrams model matrix, and for a change, one-hot-encode the target `Category`\n",
    "\n",
    "Set `use_ngrams = True`\n",
    "and set the `cardinality_threshold_target` > cardinality(`Category`).\n",
    "\n",
    "UMAP will work directly on the ngrams matrix, and any other feature column one may transform. "
   ]
  },
  {
   "cell_type": "code",
   "execution_count": 43,
   "id": "8c1a588c",
   "metadata": {},
   "outputs": [
    {
     "name": "stderr",
     "output_type": "stream",
     "text": [
      "* Ignoring target column of shape (285, 22) in UMAP fit, as it is not one dimensional"
     ]
    }
   ],
   "source": [
    "g4 = g.umap(X = ['Why?', 'Grantee'], y = 'Category', \n",
    "            use_ngrams=True, \n",
    "            ngram_range=(1,3), \n",
    "            min_df=2, \n",
    "            max_df=0.3,\n",
    "            use_scaler=None,\n",
    "            cardinality_threshold_target=400 # this will one-hot-encode the target, \n",
    "                                                # as we have less than 400 total `categories`\n",
    "           )"
   ]
  },
  {
   "cell_type": "code",
   "execution_count": 44,
   "id": "e1e2683c",
   "metadata": {},
   "outputs": [
    {
     "data": {
      "text/plain": [
       "'https://hub.graphistry.com/graph/graph.html?dataset=aeb09ebc8a914fe8851b7bc4ea255c9c&type=arrow&viztoken=f768c875-ee7d-4cea-b514-a3c8ba0d59bc&usertag=f680a57a-pygraphistry-0.28.7&splashAfter=1672009131&info=true&play=0'"
      ]
     },
     "execution_count": 44,
     "metadata": {},
     "output_type": "execute_result"
    }
   ],
   "source": [
    "g4.bind(point_title='Category').plot(render=RENDER)  # umap-ing ngrams is not as useful as sentence embeddings as you may visually see, however they can be useful graphs nonetheless. Press `play` in the UI."
   ]
  },
  {
   "cell_type": "code",
   "execution_count": 45,
   "id": "d570f001",
   "metadata": {},
   "outputs": [
    {
     "data": {
      "text/html": [
       "<div>\n",
       "<style scoped>\n",
       "    .dataframe tbody tr th:only-of-type {\n",
       "        vertical-align: middle;\n",
       "    }\n",
       "\n",
       "    .dataframe tbody tr th {\n",
       "        vertical-align: top;\n",
       "    }\n",
       "\n",
       "    .dataframe thead th {\n",
       "        text-align: right;\n",
       "    }\n",
       "</style>\n",
       "<table border=\"1\" class=\"dataframe\">\n",
       "  <thead>\n",
       "    <tr style=\"text-align: right;\">\n",
       "      <th></th>\n",
       "      <th>reform</th>\n",
       "      <th>alliance</th>\n",
       "      <th>committed</th>\n",
       "      <th>criminal</th>\n",
       "      <th>justice</th>\n",
       "      <th>system</th>\n",
       "      <th>throughout</th>\n",
       "      <th>united</th>\n",
       "      <th>states</th>\n",
       "      <th>by</th>\n",
       "      <th>...</th>\n",
       "      <th>mayor office</th>\n",
       "      <th>for homeless</th>\n",
       "      <th>match</th>\n",
       "      <th>hospital</th>\n",
       "      <th>2m</th>\n",
       "      <th>go towards</th>\n",
       "      <th>grant 2m</th>\n",
       "      <th>will go towards</th>\n",
       "      <th>total grant 2m</th>\n",
       "      <th>clinics</th>\n",
       "    </tr>\n",
       "  </thead>\n",
       "  <tbody>\n",
       "    <tr>\n",
       "      <th>0</th>\n",
       "      <td>0.0</td>\n",
       "      <td>0.0</td>\n",
       "      <td>0.0</td>\n",
       "      <td>0.0</td>\n",
       "      <td>0.0</td>\n",
       "      <td>0.0</td>\n",
       "      <td>0.0</td>\n",
       "      <td>0.0</td>\n",
       "      <td>0.0</td>\n",
       "      <td>0.0</td>\n",
       "      <td>...</td>\n",
       "      <td>0.0</td>\n",
       "      <td>0.0</td>\n",
       "      <td>0.0</td>\n",
       "      <td>0.0</td>\n",
       "      <td>0.0</td>\n",
       "      <td>0.0</td>\n",
       "      <td>0.0</td>\n",
       "      <td>0.0</td>\n",
       "      <td>0.0</td>\n",
       "      <td>0.0</td>\n",
       "    </tr>\n",
       "    <tr>\n",
       "      <th>1</th>\n",
       "      <td>0.0</td>\n",
       "      <td>0.0</td>\n",
       "      <td>0.0</td>\n",
       "      <td>0.0</td>\n",
       "      <td>0.0</td>\n",
       "      <td>0.0</td>\n",
       "      <td>0.0</td>\n",
       "      <td>0.0</td>\n",
       "      <td>0.0</td>\n",
       "      <td>0.0</td>\n",
       "      <td>...</td>\n",
       "      <td>0.0</td>\n",
       "      <td>0.0</td>\n",
       "      <td>0.0</td>\n",
       "      <td>0.0</td>\n",
       "      <td>0.0</td>\n",
       "      <td>0.0</td>\n",
       "      <td>0.0</td>\n",
       "      <td>0.0</td>\n",
       "      <td>0.0</td>\n",
       "      <td>0.0</td>\n",
       "    </tr>\n",
       "    <tr>\n",
       "      <th>2</th>\n",
       "      <td>0.0</td>\n",
       "      <td>0.0</td>\n",
       "      <td>0.0</td>\n",
       "      <td>0.0</td>\n",
       "      <td>0.0</td>\n",
       "      <td>0.0</td>\n",
       "      <td>0.0</td>\n",
       "      <td>0.0</td>\n",
       "      <td>0.0</td>\n",
       "      <td>0.0</td>\n",
       "      <td>...</td>\n",
       "      <td>0.0</td>\n",
       "      <td>0.0</td>\n",
       "      <td>0.0</td>\n",
       "      <td>0.0</td>\n",
       "      <td>0.0</td>\n",
       "      <td>0.0</td>\n",
       "      <td>0.0</td>\n",
       "      <td>0.0</td>\n",
       "      <td>0.0</td>\n",
       "      <td>0.0</td>\n",
       "    </tr>\n",
       "    <tr>\n",
       "      <th>3</th>\n",
       "      <td>0.0</td>\n",
       "      <td>0.0</td>\n",
       "      <td>0.0</td>\n",
       "      <td>0.0</td>\n",
       "      <td>0.0</td>\n",
       "      <td>0.0</td>\n",
       "      <td>0.0</td>\n",
       "      <td>0.0</td>\n",
       "      <td>0.0</td>\n",
       "      <td>0.0</td>\n",
       "      <td>...</td>\n",
       "      <td>0.0</td>\n",
       "      <td>0.0</td>\n",
       "      <td>0.0</td>\n",
       "      <td>0.0</td>\n",
       "      <td>0.0</td>\n",
       "      <td>0.0</td>\n",
       "      <td>0.0</td>\n",
       "      <td>0.0</td>\n",
       "      <td>0.0</td>\n",
       "      <td>0.0</td>\n",
       "    </tr>\n",
       "    <tr>\n",
       "      <th>4</th>\n",
       "      <td>0.0</td>\n",
       "      <td>0.0</td>\n",
       "      <td>0.0</td>\n",
       "      <td>0.0</td>\n",
       "      <td>0.0</td>\n",
       "      <td>0.0</td>\n",
       "      <td>0.0</td>\n",
       "      <td>0.0</td>\n",
       "      <td>0.0</td>\n",
       "      <td>0.0</td>\n",
       "      <td>...</td>\n",
       "      <td>0.0</td>\n",
       "      <td>0.0</td>\n",
       "      <td>0.0</td>\n",
       "      <td>0.0</td>\n",
       "      <td>0.0</td>\n",
       "      <td>0.0</td>\n",
       "      <td>0.0</td>\n",
       "      <td>0.0</td>\n",
       "      <td>0.0</td>\n",
       "      <td>0.0</td>\n",
       "    </tr>\n",
       "    <tr>\n",
       "      <th>...</th>\n",
       "      <td>...</td>\n",
       "      <td>...</td>\n",
       "      <td>...</td>\n",
       "      <td>...</td>\n",
       "      <td>...</td>\n",
       "      <td>...</td>\n",
       "      <td>...</td>\n",
       "      <td>...</td>\n",
       "      <td>...</td>\n",
       "      <td>...</td>\n",
       "      <td>...</td>\n",
       "      <td>...</td>\n",
       "      <td>...</td>\n",
       "      <td>...</td>\n",
       "      <td>...</td>\n",
       "      <td>...</td>\n",
       "      <td>...</td>\n",
       "      <td>...</td>\n",
       "      <td>...</td>\n",
       "      <td>...</td>\n",
       "      <td>...</td>\n",
       "    </tr>\n",
       "    <tr>\n",
       "      <th>280</th>\n",
       "      <td>0.0</td>\n",
       "      <td>0.0</td>\n",
       "      <td>0.0</td>\n",
       "      <td>0.0</td>\n",
       "      <td>0.0</td>\n",
       "      <td>0.0</td>\n",
       "      <td>0.0</td>\n",
       "      <td>0.0</td>\n",
       "      <td>0.0</td>\n",
       "      <td>0.0</td>\n",
       "      <td>...</td>\n",
       "      <td>0.0</td>\n",
       "      <td>0.0</td>\n",
       "      <td>0.0</td>\n",
       "      <td>0.0</td>\n",
       "      <td>0.0</td>\n",
       "      <td>0.0</td>\n",
       "      <td>0.0</td>\n",
       "      <td>0.0</td>\n",
       "      <td>0.0</td>\n",
       "      <td>0.0</td>\n",
       "    </tr>\n",
       "    <tr>\n",
       "      <th>281</th>\n",
       "      <td>0.0</td>\n",
       "      <td>0.0</td>\n",
       "      <td>0.0</td>\n",
       "      <td>0.0</td>\n",
       "      <td>0.0</td>\n",
       "      <td>0.0</td>\n",
       "      <td>0.0</td>\n",
       "      <td>0.0</td>\n",
       "      <td>0.0</td>\n",
       "      <td>0.0</td>\n",
       "      <td>...</td>\n",
       "      <td>0.0</td>\n",
       "      <td>0.0</td>\n",
       "      <td>0.0</td>\n",
       "      <td>0.0</td>\n",
       "      <td>0.0</td>\n",
       "      <td>0.0</td>\n",
       "      <td>0.0</td>\n",
       "      <td>0.0</td>\n",
       "      <td>0.0</td>\n",
       "      <td>0.0</td>\n",
       "    </tr>\n",
       "    <tr>\n",
       "      <th>282</th>\n",
       "      <td>0.0</td>\n",
       "      <td>0.0</td>\n",
       "      <td>0.0</td>\n",
       "      <td>0.0</td>\n",
       "      <td>0.0</td>\n",
       "      <td>0.0</td>\n",
       "      <td>0.0</td>\n",
       "      <td>0.0</td>\n",
       "      <td>0.0</td>\n",
       "      <td>0.0</td>\n",
       "      <td>...</td>\n",
       "      <td>0.0</td>\n",
       "      <td>0.0</td>\n",
       "      <td>0.0</td>\n",
       "      <td>0.0</td>\n",
       "      <td>0.0</td>\n",
       "      <td>0.0</td>\n",
       "      <td>0.0</td>\n",
       "      <td>0.0</td>\n",
       "      <td>0.0</td>\n",
       "      <td>0.0</td>\n",
       "    </tr>\n",
       "    <tr>\n",
       "      <th>283</th>\n",
       "      <td>0.0</td>\n",
       "      <td>0.0</td>\n",
       "      <td>0.0</td>\n",
       "      <td>0.0</td>\n",
       "      <td>0.0</td>\n",
       "      <td>0.0</td>\n",
       "      <td>0.0</td>\n",
       "      <td>0.0</td>\n",
       "      <td>0.0</td>\n",
       "      <td>0.0</td>\n",
       "      <td>...</td>\n",
       "      <td>0.0</td>\n",
       "      <td>0.0</td>\n",
       "      <td>0.0</td>\n",
       "      <td>0.0</td>\n",
       "      <td>0.0</td>\n",
       "      <td>0.0</td>\n",
       "      <td>0.0</td>\n",
       "      <td>0.0</td>\n",
       "      <td>0.0</td>\n",
       "      <td>0.0</td>\n",
       "    </tr>\n",
       "    <tr>\n",
       "      <th>284</th>\n",
       "      <td>0.0</td>\n",
       "      <td>0.0</td>\n",
       "      <td>0.0</td>\n",
       "      <td>0.0</td>\n",
       "      <td>0.0</td>\n",
       "      <td>0.0</td>\n",
       "      <td>0.0</td>\n",
       "      <td>0.0</td>\n",
       "      <td>0.0</td>\n",
       "      <td>0.0</td>\n",
       "      <td>...</td>\n",
       "      <td>0.0</td>\n",
       "      <td>0.0</td>\n",
       "      <td>0.0</td>\n",
       "      <td>0.0</td>\n",
       "      <td>0.0</td>\n",
       "      <td>0.0</td>\n",
       "      <td>0.0</td>\n",
       "      <td>0.0</td>\n",
       "      <td>0.0</td>\n",
       "      <td>0.0</td>\n",
       "    </tr>\n",
       "  </tbody>\n",
       "</table>\n",
       "<p>285 rows × 3889 columns</p>\n",
       "</div>"
      ],
      "text/plain": [
       "     reform  alliance  committed  criminal  justice  system  throughout  \\\n",
       "0       0.0       0.0        0.0       0.0      0.0     0.0         0.0   \n",
       "1       0.0       0.0        0.0       0.0      0.0     0.0         0.0   \n",
       "2       0.0       0.0        0.0       0.0      0.0     0.0         0.0   \n",
       "3       0.0       0.0        0.0       0.0      0.0     0.0         0.0   \n",
       "4       0.0       0.0        0.0       0.0      0.0     0.0         0.0   \n",
       "..      ...       ...        ...       ...      ...     ...         ...   \n",
       "280     0.0       0.0        0.0       0.0      0.0     0.0         0.0   \n",
       "281     0.0       0.0        0.0       0.0      0.0     0.0         0.0   \n",
       "282     0.0       0.0        0.0       0.0      0.0     0.0         0.0   \n",
       "283     0.0       0.0        0.0       0.0      0.0     0.0         0.0   \n",
       "284     0.0       0.0        0.0       0.0      0.0     0.0         0.0   \n",
       "\n",
       "     united  states   by  ...  mayor office  for homeless  match  hospital  \\\n",
       "0       0.0     0.0  0.0  ...           0.0           0.0    0.0       0.0   \n",
       "1       0.0     0.0  0.0  ...           0.0           0.0    0.0       0.0   \n",
       "2       0.0     0.0  0.0  ...           0.0           0.0    0.0       0.0   \n",
       "3       0.0     0.0  0.0  ...           0.0           0.0    0.0       0.0   \n",
       "4       0.0     0.0  0.0  ...           0.0           0.0    0.0       0.0   \n",
       "..      ...     ...  ...  ...           ...           ...    ...       ...   \n",
       "280     0.0     0.0  0.0  ...           0.0           0.0    0.0       0.0   \n",
       "281     0.0     0.0  0.0  ...           0.0           0.0    0.0       0.0   \n",
       "282     0.0     0.0  0.0  ...           0.0           0.0    0.0       0.0   \n",
       "283     0.0     0.0  0.0  ...           0.0           0.0    0.0       0.0   \n",
       "284     0.0     0.0  0.0  ...           0.0           0.0    0.0       0.0   \n",
       "\n",
       "      2m  go towards  grant 2m  will go towards  total grant 2m  clinics  \n",
       "0    0.0         0.0       0.0              0.0             0.0      0.0  \n",
       "1    0.0         0.0       0.0              0.0             0.0      0.0  \n",
       "2    0.0         0.0       0.0              0.0             0.0      0.0  \n",
       "3    0.0         0.0       0.0              0.0             0.0      0.0  \n",
       "4    0.0         0.0       0.0              0.0             0.0      0.0  \n",
       "..   ...         ...       ...              ...             ...      ...  \n",
       "280  0.0         0.0       0.0              0.0             0.0      0.0  \n",
       "281  0.0         0.0       0.0              0.0             0.0      0.0  \n",
       "282  0.0         0.0       0.0              0.0             0.0      0.0  \n",
       "283  0.0         0.0       0.0              0.0             0.0      0.0  \n",
       "284  0.0         0.0       0.0              0.0             0.0      0.0  \n",
       "\n",
       "[285 rows x 3889 columns]"
      ]
     },
     "execution_count": 45,
     "metadata": {},
     "output_type": "execute_result"
    }
   ],
   "source": [
    "g4._node_features  # a standard tfidf ngrams matrix"
   ]
  },
  {
   "cell_type": "code",
   "execution_count": 46,
   "id": "338010f2",
   "metadata": {},
   "outputs": [
    {
     "data": {
      "text/plain": [
       "Pipeline(steps=[('vect',\n",
       "                 CountVectorizer(max_df=0.3, min_df=2, ngram_range=(1, 3))),\n",
       "                ('tfidf', TfidfTransformer())])"
      ]
     },
     "execution_count": 46,
     "metadata": {},
     "output_type": "execute_result"
    }
   ],
   "source": [
    "g4._node_encoder.text_model  #sklearn pipeline "
   ]
  },
  {
   "cell_type": "code",
   "execution_count": 47,
   "id": "e7582131",
   "metadata": {},
   "outputs": [
    {
     "data": {
      "text/plain": [
       "3889"
      ]
     },
     "execution_count": 47,
     "metadata": {},
     "output_type": "execute_result"
    }
   ],
   "source": [
    "## vocab size\n",
    "len(g4._node_encoder.text_model[0].vocabulary_)"
   ]
  },
  {
   "cell_type": "code",
   "execution_count": 48,
   "id": "9e691b4d",
   "metadata": {},
   "outputs": [
    {
     "name": "stderr",
     "output_type": "stream",
     "text": [
      "'SuperVectorizer' object has no attribute 'get_feature_names_in'"
     ]
    },
    {
     "data": {
      "text/html": [
       "<div>\n",
       "<style scoped>\n",
       "    .dataframe tbody tr th:only-of-type {\n",
       "        vertical-align: middle;\n",
       "    }\n",
       "\n",
       "    .dataframe tbody tr th {\n",
       "        vertical-align: top;\n",
       "    }\n",
       "\n",
       "    .dataframe thead th {\n",
       "        text-align: right;\n",
       "    }\n",
       "</style>\n",
       "<table border=\"1\" class=\"dataframe\">\n",
       "  <thead>\n",
       "    <tr style=\"text-align: right;\">\n",
       "      <th></th>\n",
       "      <th>x</th>\n",
       "      <th>y</th>\n",
       "    </tr>\n",
       "  </thead>\n",
       "  <tbody>\n",
       "    <tr>\n",
       "      <th>103</th>\n",
       "      <td>6.100185</td>\n",
       "      <td>-1.109381</td>\n",
       "    </tr>\n",
       "    <tr>\n",
       "      <th>62</th>\n",
       "      <td>6.937139</td>\n",
       "      <td>-2.348813</td>\n",
       "    </tr>\n",
       "    <tr>\n",
       "      <th>11</th>\n",
       "      <td>6.991597</td>\n",
       "      <td>-2.461275</td>\n",
       "    </tr>\n",
       "    <tr>\n",
       "      <th>244</th>\n",
       "      <td>5.651282</td>\n",
       "      <td>-1.004279</td>\n",
       "    </tr>\n",
       "    <tr>\n",
       "      <th>24</th>\n",
       "      <td>5.893190</td>\n",
       "      <td>-3.356526</td>\n",
       "    </tr>\n",
       "  </tbody>\n",
       "</table>\n",
       "</div>"
      ],
      "text/plain": [
       "            x         y\n",
       "103  6.100185 -1.109381\n",
       "62   6.937139 -2.348813\n",
       "11   6.991597 -2.461275\n",
       "244  5.651282 -1.004279\n",
       "24   5.893190 -3.356526"
      ]
     },
     "execution_count": 48,
     "metadata": {},
     "output_type": "execute_result"
    }
   ],
   "source": [
    "# or transform new data: \n",
    "emb, a, b = g4.transform_umap(new_df, new_y, kind='nodes')\n",
    "emb"
   ]
  },
  {
   "cell_type": "code",
   "execution_count": 49,
   "id": "5bc7b2c0",
   "metadata": {},
   "outputs": [
    {
     "name": "stdout",
     "output_type": "stream",
     "text": [
      "Naive Indicator Variables\n"
     ]
    },
    {
     "data": {
      "image/png": "[encoded data removed]",
      "text/plain": [
       "<Figure size 1224x720 with 2 Axes>"
      ]
     },
     "metadata": {
      "needs_background": "light"
     },
     "output_type": "display_data"
    }
   ],
   "source": [
    "# we include the naive indicator variable for completeness.\n",
    "y = g4._node_target\n",
    "label_list = b.columns\n",
    "\n",
    "fig = plt.figure(figsize=(17,10))\n",
    "ax = plt.subplot()\n",
    "plt.imshow(y, aspect='auto', cmap='hot')\n",
    "plt.colorbar()\n",
    "plt.ylabel('row number of data')\n",
    "ax.set_xticks(range(len(label_list)))\n",
    "ax.set_xticklabels(label_list, rotation=49)\n",
    "print('Naive Indicator Variables')"
   ]
  },
  {
   "cell_type": "markdown",
   "id": "22596c6d",
   "metadata": {},
   "source": [
    "# Contributions\n",
    "\n",
    "Input tabular data that exists in the wild and quickly make features and graphs that allow semantic and topological exploration and traversals. \n",
    "\n",
    "Quickly track a variety of datasets and gauge growth, investment, and promise fullfillment and transparently using Graph Thinking and Analysis. In Jack's case, we see the possibility of a multibillion dollar edific erected around Covid-19, Girls Education and Social Justice. Further downstream modeling might tell us what such an edific is able to manufacture as a force for Good.\n",
    "\n",
    "Encoding text, categorical, and numeric features while exploring the relationships can be time consuming tasks. \n",
    "\n",
    "PyGraphistry[ai] demonstrates an exciting and visually accelerated way to explore Graph Data. \n",
    "\n",
    "It allows quick Mix and Match featurization models and types, while pivoting on large amounts of data using natural language search, in just a few lines of code. The resulting features may then be used in downstream models.\n",
    "\n",
    "Join our Slack: Graphistry-Community"
   ]
  },
  {
   "cell_type": "code",
   "execution_count": null,
   "id": "f0af2311",
   "metadata": {},
   "outputs": [],
   "source": []
  }
 ],
 "metadata": {
  "kernelspec": {
   "display_name": "Python 3 (ipykernel)",
   "language": "python",
   "name": "python3"
  },
  "language_info": {
   "codemirror_mode": {
    "name": "ipython",
    "version": 3
   },
   "file_extension": ".py",
   "mimetype": "text/x-python",
   "name": "python",
   "nbconvert_exporter": "python",
   "pygments_lexer": "ipython3",
   "version": "3.8.9"
  }
 },
 "nbformat": 4,
 "nbformat_minor": 5
}
