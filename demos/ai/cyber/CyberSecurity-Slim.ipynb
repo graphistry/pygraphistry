{
 "cells": [
  {
   "cell_type": "markdown",
   "id": "14ef9c10",
   "metadata": {},
   "source": [
    "# The age old question, Bot or Not? Attacker or Friendly?\n",
    "\n",
    "We load a botnet dataset and produce features from the raw data as well as a GNN model that predicts bot traffic. \n",
    "Attacking bots make up less than a percent of the total data. \n",
    "\n",
    "Feature engineering the data might take a form like this https://github.com/NagabhushanS/Machine-Learning-Based-Botnet-Detection/blob/master/src/dataset_load.py\n",
    "\n",
    "We create features and models automatically using the `g.featurize` and `g.umap` APIs, demonstrating fast ML pipelines over data that may be complex and multimodal with little more effort than setting some parameters. "
   ]
  },
  {
   "cell_type": "code",
   "execution_count": null,
   "id": "861e2706",
   "metadata": {},
   "outputs": [],
   "source": [
    "#! pip install --upgrade graphistry[ai]"
   ]
  },
  {
   "cell_type": "code",
   "execution_count": null,
   "id": "85c8cef3",
   "metadata": {},
   "outputs": [],
   "source": [
    "# cd .. "
   ]
  },
  {
   "cell_type": "code",
   "execution_count": null,
   "id": "288422cf",
   "metadata": {},
   "outputs": [],
   "source": [
    "import os\n",
    "import graphistry\n",
    "from graphistry.features import ModelDict\n",
    "\n",
    "import torch\n",
    "import pandas as pd\n",
    "import matplotlib.pylab as plt\n",
    "\n",
    "import os\n",
    "from collections import Counter\n",
    "from importlib import reload\n",
    "\n",
    "import warnings\n",
    "warnings.filterwarnings('ignore')"
   ]
  },
  {
   "cell_type": "code",
   "execution_count": null,
   "id": "6b9f2cbf",
   "metadata": {},
   "outputs": [],
   "source": [
    "## add your username and password here\n",
    "graphistry.register(api=3, protocol=\"https\", server=\"hub.graphistry.com\", username=os.environ['USERNAME'], password=os.environ['GRAPHISTRY_PASSWORD']) "
   ]
  },
  {
   "cell_type": "code",
   "execution_count": null,
   "id": "d2f0e21d",
   "metadata": {},
   "outputs": [],
   "source": [
    "# some plot helpers\n",
    "def fast_plot(g, attr, mask=None, cols=None, interpolation=None):\n",
    "    plt.figure(figsize=(17,10))\n",
    "    if cols is None:\n",
    "        cols = np.arange(getattr(g, attr).shape[1])\n",
    "    if mask is not None:\n",
    "        plt.imshow(getattr(g, attr)[mask].values[:,cols], aspect='auto', cmap='hot', interpolation=interpolation)\n",
    "    else:\n",
    "        plt.imshow(getattr(g, attr).values[:,cols], aspect='auto', cmap='hot', interpolation=interpolation)\n"
   ]
  },
  {
   "cell_type": "markdown",
   "id": "a5e778cf",
   "metadata": {},
   "source": [
    "## We import the CTU-13 malware dataset \n",
    "\n",
    "You can find a number of datasets here https://www.stratosphereips.org/datasets-ctu13\n"
   ]
  },
  {
   "cell_type": "code",
   "execution_count": null,
   "id": "2b79ea3e",
   "metadata": {},
   "outputs": [],
   "source": [
    "edf = pd.read_csv('https://gist.githubusercontent.com/silkspace/33bde3e69ae24fee1298a66d1e00b467/raw/dc66bd6f1687270be7098f94b3929d6a055b4438/malware_bots.csv', index_col=0)"
   ]
  },
  {
   "cell_type": "code",
   "execution_count": null,
   "id": "3f3c4114",
   "metadata": {},
   "outputs": [],
   "source": [
    "edf"
   ]
  },
  {
   "cell_type": "code",
   "execution_count": null,
   "id": "bb4b74d7",
   "metadata": {},
   "outputs": [],
   "source": [
    "# let's find the Botnet vs not\n",
    "T = edf.Label.apply(lambda x: True if 'Botnet' in x else False)"
   ]
  },
  {
   "cell_type": "code",
   "execution_count": null,
   "id": "ad5a17c3",
   "metadata": {},
   "outputs": [],
   "source": [
    "T"
   ]
  },
  {
   "cell_type": "code",
   "execution_count": null,
   "id": "15c15d0c",
   "metadata": {},
   "outputs": [],
   "source": [
    "bot = edf[T]\n",
    "nbot = edf[~T]\n",
    "print(f'Botnet abundance: {100*len(bot)/len(edf):0.2f}%')# so botnet traffic makes up a tiny fraction of total\n",
    "\n",
    "# let's balance the dataset in a 10-1 ratio, for speed and demonstrative purposes\n",
    "negs = nbot.sample(10*len(bot))\n",
    "edf = pd.concat([bot, negs])  # top part of arrays are bot traffic, then all non-bot traffic\n",
    "edf = edf.drop_duplicates()\n",
    "\n",
    "# some useful indicators for later that predict Botnet as Bool and Int\n",
    "Y = edf.Label.apply(lambda x: 1 if 'Botnet' in x else 0)  # np.array(T)\n",
    "\n",
    "# Later we will use and exploit any meaning shared between the labels in a latent distribution\n",
    "\n",
    "# add it to the dataframe\n",
    "edf['bot'] = Y"
   ]
  },
  {
   "cell_type": "code",
   "execution_count": null,
   "id": "9bc50453",
   "metadata": {},
   "outputs": [],
   "source": [
    "# name some columns for edges and features\n",
    "src = 'SrcAddr'\n",
    "dst = 'DstAddr'\n",
    "good_cols_with_edges = ['Dur', 'Proto', 'Sport',\n",
    "       'Dport', 'State', 'TotPkts', 'TotBytes', 'SrcBytes', src, dst]\n",
    "\n",
    "good_cols_without_edges = ['Dur', 'Proto', 'Sport',\n",
    "       'Dport', 'State', 'TotPkts', 'TotBytes', 'SrcBytes']\n",
    "\n",
    "## some encoding parameters\n",
    "n_topics = 20\n",
    "n_topics_target = 7"
   ]
  },
  {
   "cell_type": "markdown",
   "id": "125f6ef0",
   "metadata": {},
   "source": [
    "# Fast Incident Response\n",
    "An Incident Responder needs to quickly find which IP is the attacker.\n",
    "\n",
    "If, say, a predictive model enriched the data, responders could repeat the pipeline on new data\n",
    "drastically reducing the search space.\n",
    "\n",
    "They can see affected computers and log, manage, escalate, and triage alerts using Graphistry playbooks integrations.\n",
    "\n",
    "We will use Graphistry[ai] to generate such a predictive pipeline, that finds offending nodes (find attacker IPs), as well as the *systems* and *patterns* they exploit, detecting deviations from benign behaviors and instances of known attack behaviors."
   ]
  },
  {
   "cell_type": "code",
   "execution_count": null,
   "id": "38d2c9fd",
   "metadata": {},
   "outputs": [],
   "source": [
    "# load the data using the edges API\n",
    "g = graphistry.edges(edf, src, dst)"
   ]
  },
  {
   "cell_type": "code",
   "execution_count": null,
   "id": "10ca5ec1",
   "metadata": {
    "scrolled": false
   },
   "outputs": [],
   "source": [
    "g.plot()"
   ]
  },
  {
   "cell_type": "code",
   "execution_count": null,
   "id": "f3e14ae5",
   "metadata": {},
   "outputs": [],
   "source": [
    "# Let's featurize and reduce the dimensionality of the dataset"
   ]
  },
  {
   "cell_type": "code",
   "execution_count": null,
   "id": "b8af4150",
   "metadata": {
    "scrolled": true
   },
   "outputs": [],
   "source": [
    "# lets umap the data\n",
    "g2 = g.umap(kind='edges', \n",
    "            X=good_cols_with_edges, \n",
    "            y = ['bot'], \n",
    "            use_scaler='quantile',\n",
    "            use_scaler_target=None,\n",
    "            cardinality_threshold=20,\n",
    "            cardinality_threshold_target=2, \n",
    "            n_topics=n_topics,\n",
    "            n_topics_target=n_topics_target,\n",
    "            n_bins=n_topics_target,\n",
    "            metric='euclidean', \n",
    "            n_neighbors=12)\n"
   ]
  },
  {
   "cell_type": "code",
   "execution_count": null,
   "id": "4645145a",
   "metadata": {},
   "outputs": [],
   "source": [
    "x, y = g2._edge_features, g2._edge_target\n",
    "x"
   ]
  },
  {
   "cell_type": "code",
   "execution_count": null,
   "id": "d17d0f94",
   "metadata": {},
   "outputs": [],
   "source": [
    "# can spot edge features that are bot vs not\n",
    "fast_plot(g2, '_edge_features', mask=[True]*1500 + [False]*(len(x)-1500)) "
   ]
  },
  {
   "cell_type": "markdown",
   "id": "caf504e5",
   "metadata": {},
   "source": [
    "# Do we have a predictive model?\n",
    "\n",
    "Using the x, y's we get from autofeaturization, we fit two RandomForest models"
   ]
  },
  {
   "cell_type": "code",
   "execution_count": null,
   "id": "af183fb6",
   "metadata": {},
   "outputs": [],
   "source": [
    "from sklearn.ensemble import RandomForestClassifier, RandomForestRegressor\n",
    "from sklearn.model_selection import train_test_split"
   ]
  },
  {
   "cell_type": "code",
   "execution_count": null,
   "id": "004e0ea5",
   "metadata": {},
   "outputs": [],
   "source": [
    "clf = RandomForestClassifier()\n",
    "rlf = RandomForestRegressor()"
   ]
  },
  {
   "cell_type": "code",
   "execution_count": null,
   "id": "e8adf090",
   "metadata": {},
   "outputs": [],
   "source": [
    "X_train, x_test, y_train, y_test = train_test_split(x, y)\n",
    "rlf.fit(X_train, y_train)\n",
    "rlf.score(x_test, y_test)"
   ]
  },
  {
   "cell_type": "code",
   "execution_count": null,
   "id": "078a1080",
   "metadata": {},
   "outputs": [],
   "source": [
    "X_train, x_test, y_train, y_test = train_test_split(x, y)\n",
    "clf.fit(X_train, y_train).score(x_test, y_test)"
   ]
  },
  {
   "cell_type": "code",
   "execution_count": null,
   "id": "6932d6ba",
   "metadata": {},
   "outputs": [],
   "source": [
    "lengthy_computation = False\n",
    "\n",
    "if lengthy_computation: # if you have patience or GPUs\n",
    "    from sklearn.inspection import permutation_importance\n",
    "    r = permutation_importance(clf, x_test, y_test,\n",
    "                               n_repeats=10,\n",
    "                               random_state=0)\n",
    "\n",
    "    for i in r.importances_mean.argsort()[::-1]:\n",
    "        if r.importances_mean[i] - 2 * r.importances_std[i] > 0:\n",
    "            print(f\"{x.columns[i]:<8}\"\n",
    "                  f\"{r.importances_mean[i]:.3f}\"\n",
    "                  f\" +/- {r.importances_std[i]:.3f}\")\n",
    "    tops = r.importances_mean.argsort()[::-1][:10]\n",
    "else:\n",
    "    tops = clf.feature_importances_.argsort()[::-1][:10]\n",
    "\n",
    "tops"
   ]
  },
  {
   "cell_type": "code",
   "execution_count": null,
   "id": "9be6c4d6",
   "metadata": {},
   "outputs": [],
   "source": [
    "# top features that predict bot or not -- and since we used the ip address, we easily find the 'feature' (ie target)\n",
    "x.columns[tops]"
   ]
  },
  {
   "cell_type": "markdown",
   "id": "671557b5",
   "metadata": {},
   "source": [
    "# Let's remove edges and see if there is a model of just 'common features' (ie no ip addresses)\n",
    "\n",
    "Given learnings, we want to see if there is a model that does not use edge information (ie, no IP addresses, only connection metadata)"
   ]
  },
  {
   "cell_type": "code",
   "execution_count": null,
   "id": "a8e99451",
   "metadata": {},
   "outputs": [],
   "source": [
    "g3 = g.nodes(edf)#  treat edf as ndf to featurize, since we aren't using the src/dst data, no need to add it to .edges(..)\n",
    "g3 = g3.umap(kind='nodes', \n",
    "            X=good_cols_without_edges, \n",
    "            y = 'bot', \n",
    "            scale =0.1,\n",
    "            use_scaler='quantile',\n",
    "            use_scaler_target=None,\n",
    "            cardinality_threshold=20,\n",
    "            cardinality_threshold_target=20,\n",
    "            n_topics=n_topics,\n",
    "            n_topics_target=n_topics_target,\n",
    "            n_bins=n_topics,\n",
    "            metric='euclidean', \n",
    "            n_neighbors=20)"
   ]
  },
  {
   "cell_type": "code",
   "execution_count": null,
   "id": "500f9a65",
   "metadata": {},
   "outputs": [],
   "source": [
    "X = g3._node_features\n",
    "y = g3._node_target"
   ]
  },
  {
   "cell_type": "code",
   "execution_count": null,
   "id": "d04564d7",
   "metadata": {},
   "outputs": [],
   "source": [
    "X"
   ]
  },
  {
   "cell_type": "code",
   "execution_count": null,
   "id": "6811b98a",
   "metadata": {},
   "outputs": [],
   "source": [
    "y"
   ]
  },
  {
   "cell_type": "code",
   "execution_count": null,
   "id": "ad3cc54e",
   "metadata": {},
   "outputs": [],
   "source": [
    "fast_plot(g3, '_node_features')  # one can clearly see that bot vs non-bot features are different"
   ]
  },
  {
   "cell_type": "code",
   "execution_count": null,
   "id": "7dad6668",
   "metadata": {},
   "outputs": [],
   "source": [
    "X_train, x_test, y_train, y_test = train_test_split(X, y)\n",
    "clf.fit(X_train, y_train).score(x_test, y_test)"
   ]
  },
  {
   "cell_type": "code",
   "execution_count": null,
   "id": "ccf11488",
   "metadata": {},
   "outputs": [],
   "source": [
    "# if interested to find sensitivities\n",
    "X_train, x_test, y_train, y_test = train_test_split(X, y)\n",
    "rlf.fit(X_train, y_train).score(x_test, y_test)"
   ]
  },
  {
   "cell_type": "code",
   "execution_count": null,
   "id": "4bf339da",
   "metadata": {},
   "outputs": [],
   "source": [
    "lengthy_computation = False\n",
    "\n",
    "if lengthy_computation: # if you have patience or GPUs\n",
    "    from sklearn.inspection import permutation_importance\n",
    "    r = permutation_importance(clf, x_test, y_test,\n",
    "                               n_repeats=10,\n",
    "                               random_state=0)\n",
    "\n",
    "    for i in r.importances_mean.argsort()[::-1]:\n",
    "        if r.importances_mean[i] - 2 * r.importances_std[i] > 0:\n",
    "            print(f\"{x.columns[i]:<8}\"\n",
    "                  f\"{r.importances_mean[i]:.3f}\"\n",
    "                  f\" +/- {r.importances_std[i]:.3f}\")\n",
    "    tops = r.importances_mean.argsort()[::-1][:10]\n",
    "else:\n",
    "    tops = clf.feature_importances_.argsort()[::-1][:10]\n",
    "\n",
    "tops"
   ]
  },
  {
   "cell_type": "code",
   "execution_count": null,
   "id": "a5b71574",
   "metadata": {},
   "outputs": [],
   "source": [
    "topcols = X.columns[tops]\n",
    "topcols"
   ]
  },
  {
   "cell_type": "code",
   "execution_count": null,
   "id": "d321a5b9",
   "metadata": {},
   "outputs": [],
   "source": [
    "nres = X[y.values==0][topcols].describe() #not bot\n",
    "res = X[y.values==1][topcols].describe() #bot\n",
    "res"
   ]
  },
  {
   "cell_type": "markdown",
   "id": "71166b62",
   "metadata": {},
   "source": [
    "# Hence we see that including just common features clusters botnet traffic together under featurization and UMAP"
   ]
  },
  {
   "cell_type": "code",
   "execution_count": null,
   "id": "6f3ada25",
   "metadata": {},
   "outputs": [],
   "source": [
    "a=res.loc['mean']/nres.loc['mean']\n",
    "a.plot(kind='bar')\n",
    "print('Bot Mean divided by Non-Bot Mean')"
   ]
  },
  {
   "cell_type": "code",
   "execution_count": null,
   "id": "0ab28139",
   "metadata": {},
   "outputs": [],
   "source": [
    "b=nres.loc['mean']/res.loc['mean']\n",
    "b.plot(kind='bar', rot=77)\n",
    "print('Not-Bot Mean divided by Bot Mean')"
   ]
  },
  {
   "cell_type": "markdown",
   "id": "762b80ed",
   "metadata": {},
   "source": [
    "# Now we dive deeper\n",
    "-----------------------------------------"
   ]
  },
  {
   "cell_type": "markdown",
   "id": "2bac394b",
   "metadata": {},
   "source": [
    "# Let's encode the graph as a DGL graph for use in Machine Learning"
   ]
  },
  {
   "cell_type": "code",
   "execution_count": null,
   "id": "7a768f16",
   "metadata": {},
   "outputs": [],
   "source": [
    "from graphistry.networks import LinkPredModelMultiOutput, train_link_pred"
   ]
  },
  {
   "cell_type": "code",
   "execution_count": null,
   "id": "f5cf850b",
   "metadata": {},
   "outputs": [],
   "source": [
    "# first, let's examine the cardinality of labels and get a sense of the different flows\n",
    "cnt = Counter(g2._edges['Label'])\n",
    "cnt.most_common()"
   ]
  },
  {
   "cell_type": "code",
   "execution_count": null,
   "id": "02a96892",
   "metadata": {},
   "outputs": [],
   "source": [
    "## can we learn a better representation of these labels?\n",
    "len(cnt)"
   ]
  },
  {
   "cell_type": "code",
   "execution_count": null,
   "id": "c1969277",
   "metadata": {},
   "outputs": [],
   "source": [
    "# let's build a GNN model with the 'Label' being reduced to a n_topics_target <  70+ dimensional representation\n",
    "g4 = g.build_gnn(y_edges = 'Label', \n",
    "            use_node_scaler='quantile',\n",
    "            use_node_scaler_target=None,\n",
    "            cardinality_threshold=2,\n",
    "            cardinality_threshold_target=2,\n",
    "            n_topics=n_topics,\n",
    "            n_topics_target=n_topics_target,\n",
    "            )"
   ]
  },
  {
   "cell_type": "code",
   "execution_count": null,
   "id": "4ed94e42",
   "metadata": {
    "scrolled": false
   },
   "outputs": [],
   "source": [
    "g4._edge_target  # it identifies `Label: *, download, botnet` strongly over bot vs not"
   ]
  },
  {
   "cell_type": "code",
   "execution_count": null,
   "id": "b2b0d556",
   "metadata": {},
   "outputs": [],
   "source": [
    "fast_plot(g4, '_edge_target')  # clear to see bot vs not as a regressive label "
   ]
  },
  {
   "cell_type": "code",
   "execution_count": null,
   "id": "ea2b5e90",
   "metadata": {},
   "outputs": [],
   "source": [
    "# the deep learning graph\n",
    "G = g4.DGL_graph\n",
    "\n",
    "# define the model from the data\n",
    "node_features = G.ndata[\"feature\"].float()\n",
    "n_feat = node_features.shape[1]\n",
    "# we are predicting edges\n",
    "edge_label = G.edata[\"target\"]\n",
    "labels = edge_label.argmax(1)  # turn regressive label into \n",
    "\n",
    "n_targets = edge_label.shape[1]\n",
    "train_mask = G.edata[\"train_mask\"]\n",
    "test_mask = G.edata[\"test_mask\"]\n",
    "\n",
    "latent_dim = 32\n",
    "n_output_feats = 16  # this is equal to the latent dim output of the SAGE net\n",
    "\n",
    "model = LinkPredModelMultiOutput(n_feat, latent_dim, n_output_feats, n_targets)\n",
    "\n",
    "pred = model(G, node_features)  # the untrained graph\n",
    "\n",
    "assert G.num_edges() == pred.shape[0], \"something went wrong\"\n",
    "\n",
    "print(f\"output of model has same length as the number of edges: {pred.shape[0]}\")\n",
    "print(f\"number of edges: {G.num_edges()}\\n\")\n",
    "\n",
    "# Train model\n",
    "train_link_pred(model, G, epochs=2900)"
   ]
  },
  {
   "cell_type": "code",
   "execution_count": null,
   "id": "d61f87aa",
   "metadata": {},
   "outputs": [],
   "source": [
    "# trained comparison\n",
    "logits = model(G, node_features)\n",
    "pred = logits.argmax(1)\n",
    "\n",
    "accuracy = sum(pred[test_mask] == labels[test_mask]) / len(\n",
    "    pred[test_mask]\n",
    ")\n",
    "print(\"-\" * 30)\n",
    "print(f\"Final Accuracy: {100 * accuracy:.2f}%\")"
   ]
  },
  {
   "cell_type": "markdown",
   "id": "9beede3b",
   "metadata": {},
   "source": [
    "Take away -- \n",
    "* we encode targets in the latent space of messy multi targets\n",
    "* we can do inductive prediction on new graphs using GNN model"
   ]
  },
  {
   "cell_type": "code",
   "execution_count": null,
   "id": "0d86647d",
   "metadata": {},
   "outputs": [],
   "source": [
    "cnts = Counter(np.array(labels)).most_common()\n",
    "cnts"
   ]
  },
  {
   "cell_type": "code",
   "execution_count": null,
   "id": "2fc21211",
   "metadata": {},
   "outputs": [],
   "source": [
    "# most common classifier (that always predicts one class), would score:\n",
    "print(f'{100*cnts[0][1]/len(labels):.2f}%')"
   ]
  },
  {
   "cell_type": "code",
   "execution_count": null,
   "id": "d12b7724",
   "metadata": {},
   "outputs": [],
   "source": [
    "# get node features after training of the GNN model\n",
    "enc = model.sage(G, node_features.float())\n",
    "enc"
   ]
  },
  {
   "cell_type": "code",
   "execution_count": null,
   "id": "e7437d10",
   "metadata": {},
   "outputs": [],
   "source": [
    "plt.figure(figsize=(15,7))\n",
    "plt.imshow(enc.detach().numpy(), aspect='auto')"
   ]
  },
  {
   "cell_type": "markdown",
   "id": "00751e3b",
   "metadata": {},
   "source": [
    "# Contributions\n",
    "\n",
    "Now we know how to take raw data and turn them into actionable features and models using the Graphistry[ai] API.\n",
    "\n",
    "Integrate them into your pipelines and [join our slack](https://join.slack.com/t/graphistry-community)! "
   ]
  },
  {
   "cell_type": "code",
   "execution_count": null,
   "id": "562cf7bc",
   "metadata": {},
   "outputs": [],
   "source": []
  }
 ],
 "metadata": {
  "kernelspec": {
   "display_name": "Python 3 (ipykernel)",
   "language": "python",
   "name": "python3"
  },
  "language_info": {
   "codemirror_mode": {
    "name": "ipython",
    "version": 3
   },
   "file_extension": ".py",
   "mimetype": "text/x-python",
   "name": "python",
   "nbconvert_exporter": "python",
   "pygments_lexer": "ipython3",
   "version": "3.8.9"
  }
 },
 "nbformat": 4,
 "nbformat_minor": 5
}
