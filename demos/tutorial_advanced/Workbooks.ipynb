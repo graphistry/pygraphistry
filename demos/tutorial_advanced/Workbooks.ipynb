{
 "cells": [
  {
   "cell_type": "markdown",
   "metadata": {},
   "source": [
    "# Workbooks\n",
    "\n",
    "- Workbooks allow users to persist the analytic state of a visualization, including active filters, exclusions, and color encodings. \n",
    "- Workbooks are **not** bound to any particular dataset, meaning that the same workbook can be used across many different dataset.\n",
    "    - This design allows workbooks to be shared amongst analysts, even if they have different access permissions to the data. \n",
    "    - Additionally, for on-premise costumers who require a 'read-process-discard' security model, workbooks allow you to resume an investigation even if the last dataset was discarded. \n",
    "    - This design is also valuable to analyze time-dependent datasets. For example, a user can reuse the same workbook to analyze a graph of the day's highest priority security events. \n",
    "    - Or alternatively, different datasets that represent similar entities and connections (In this tutorial, we use one workbook to examine two different social networks graphs)"
   ]
  },
  {
   "cell_type": "markdown",
   "metadata": {},
   "source": [
    "#### Import the necessary libaries"
   ]
  },
  {
   "cell_type": "code",
   "execution_count": null,
   "metadata": {
    "collapsed": false
   },
   "outputs": [],
   "source": [
    "import time\n",
    "from IPython.display import IFrame"
   ]
  },
  {
   "cell_type": "markdown",
   "metadata": {},
   "source": [
    "#### Set the location of the graphistry server\n",
    "- To use our public server, use **labs.graphistry.com**"
   ]
  },
  {
   "cell_type": "code",
   "execution_count": null,
   "metadata": {
    "collapsed": true
   },
   "outputs": [],
   "source": [
    "SERVER = 'labs.graphistry.com'"
   ]
  },
  {
   "cell_type": "markdown",
   "metadata": {},
   "source": [
    "## Let's first take a look at a subgraph of Facebook's social network, and create a new workbook named popularCommunities"
   ]
  },
  {
   "cell_type": "code",
   "execution_count": null,
   "metadata": {
    "collapsed": false
   },
   "outputs": [],
   "source": [
    "current_time = str(int(time.time()))\n",
    "dataset='Facebook'\n",
    "# We add the current time to the end of the workbook name to ensure it is unique\n",
    "workbook = 'popularCommunities' + current_time "
   ]
  },
  {
   "cell_type": "code",
   "execution_count": null,
   "metadata": {
    "collapsed": false
   },
   "outputs": [],
   "source": [
    "current_time = str(int(time.time()))\n",
    "url = 'http://' + SERVER + '/graph/graph.html?dataset=' + dataset + '&workbook=' + workbook + '&splashAfter=' + current_time\n",
    "IFrame(url, width=1000, height=500)"
   ]
  },
  {
   "cell_type": "markdown",
   "metadata": {},
   "source": [
    "### In this vizualization, let's create a notebook with a filter to find communities of popular characters. \n",
    "1. Click on the filter button in the toolbar to the left. \n",
    "2. In the 'Select attribute to filter' input box, type: 'point:degree' and then click enter\n",
    "3. Change the filter to `point:degree >= 100`\n",
    "4. Make sure to **save the workbook** by clicking on the floppy disc icon at the bottom of the toolbar. \n",
    "##### The workbook should now be saved. Refresh the page to confirm the filter has persisted"
   ]
  },
  {
   "cell_type": "markdown",
   "metadata": {},
   "source": [
    "## Now let's reuse our workbook from the last step to find popular communities in a different  social network graph. \n",
    "### In this example, we examime a social network made from the characters in Marvel comic books. "
   ]
  },
  {
   "cell_type": "code",
   "execution_count": null,
   "metadata": {
    "collapsed": false
   },
   "outputs": [],
   "source": [
    "current_time = str(int(time.time()))\n",
    "dataset='Marvel'\n",
    "url = 'http://' + SERVER + '/graph/graph.html?dataset=' + dataset + '&workbook=' + workbook + '&splashAfter=' + current_time\n",
    "IFrame(url, width=1000, height=500)"
   ]
  },
  {
   "cell_type": "markdown",
   "metadata": {},
   "source": [
    "#### Confirm the filter has been persisted, by clicking on the filters button, and checking that 'point:degree > 100' is an active filter"
   ]
  },
  {
   "cell_type": "markdown",
   "metadata": {},
   "source": [
    "## For comparison, the following vizualization was created without the workbook"
   ]
  },
  {
   "cell_type": "code",
   "execution_count": null,
   "metadata": {
    "collapsed": false
   },
   "outputs": [],
   "source": [
    "current_time = str(int(time.time()))\n",
    "dataset='Marvel'\n",
    "url = 'http://' + SERVER + '/graph/graph.html?dataset=' + dataset + '&splashAfter=' + current_time\n",
    "IFrame(url, width=1000, height=500)"
   ]
  }
 ],
 "metadata": {
  "kernelspec": {
   "display_name": "Python 2",
   "language": "python",
   "name": "python2"
  },
  "language_info": {
   "codemirror_mode": {
    "name": "ipython",
    "version": 2
   },
   "file_extension": ".py",
   "mimetype": "text/x-python",
   "name": "python",
   "nbconvert_exporter": "python",
   "pygments_lexer": "ipython2",
   "version": "2.7.12"
  }
 },
 "nbformat": 4,
 "nbformat_minor": 0
}
