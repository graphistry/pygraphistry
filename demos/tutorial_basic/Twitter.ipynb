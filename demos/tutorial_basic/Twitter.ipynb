{
 "cells": [
  {
   "cell_type": "markdown",
   "metadata": {
    "deletable": true,
    "editable": true
   },
   "source": [
    "# Botnet on Twitter?"
   ]
  },
  {
   "cell_type": "code",
   "execution_count": 1,
   "metadata": {
    "collapsed": true,
    "deletable": true,
    "editable": true
   },
   "outputs": [],
   "source": [
    "import pandas\n",
    "import igraph\n",
    "import graphistry\n",
    "graphistry.register(key='MY_API_KEY') #https://www.graphistry.com/api-request"
   ]
  },
  {
   "cell_type": "markdown",
   "metadata": {
    "deletable": true,
    "editable": true
   },
   "source": [
    "## Step 1: Loading The Data\n",
    "\n",
    "This dataset was created by a Twitter user who was surprised that one of his very innocuous tweet (\"Hey let's grab a coffee\") got retweeted several times. Intrigued, he had a closer look at the accounts that retweeted his message. He found that those accounts all had inprononcable names that looked like gibberish. Suspecting that those accounts might be fake, he crawled the twitter social network around the suspicious accounts to produce this dataset.\n",
    "\n",
    "The dataset is in a CSV file named `twitterDemo.csv` which looks like that:\n",
    "```\n",
    "#dstAccount,srcAccount\n",
    "arley_leon16,wxite_pymp\n",
    "michaelinhooo2,wxite_pymp\n",
    "steeeva,wxite_pymp\n",
    "...\n",
    "```\n",
    "Each row in `twitterDemo.csv` denotes two twitter accounts \"following\" (Twitter's equivalent of friending) each other.\n",
    "- - - \n",
    "1. Use Pandas to load the CSV and print the first three lines:\n",
    "```python\n",
    "follows = pandas.read_csv('twitterDemo.csv')\n",
    "follows[:3]\n",
    "```"
   ]
  },
  {
   "cell_type": "code",
   "execution_count": 2,
   "metadata": {
    "collapsed": false,
    "deletable": true,
    "editable": true
   },
   "outputs": [
    {
     "data": {
      "text/html": [
       "<div>\n",
       "<table border=\"1\" class=\"dataframe\">\n",
       "  <thead>\n",
       "    <tr style=\"text-align: right;\">\n",
       "      <th></th>\n",
       "      <th>dstAccount</th>\n",
       "      <th>srcAccount</th>\n",
       "    </tr>\n",
       "  </thead>\n",
       "  <tbody>\n",
       "    <tr>\n",
       "      <th>0</th>\n",
       "      <td>arley_leon16</td>\n",
       "      <td>wxite_pymp</td>\n",
       "    </tr>\n",
       "    <tr>\n",
       "      <th>1</th>\n",
       "      <td>michaelinhooo2</td>\n",
       "      <td>wxite_pymp</td>\n",
       "    </tr>\n",
       "    <tr>\n",
       "      <th>2</th>\n",
       "      <td>steeeva</td>\n",
       "      <td>wxite_pymp</td>\n",
       "    </tr>\n",
       "  </tbody>\n",
       "</table>\n",
       "</div>"
      ],
      "text/plain": [
       "       dstAccount  srcAccount\n",
       "0    arley_leon16  wxite_pymp\n",
       "1  michaelinhooo2  wxite_pymp\n",
       "2         steeeva  wxite_pymp"
      ]
     },
     "execution_count": 2,
     "metadata": {},
     "output_type": "execute_result"
    }
   ],
   "source": [
    "follows = pandas.read_csv('../data/twitterDemo.csv')\n",
    "follows[:3]"
   ]
  },
  {
   "cell_type": "markdown",
   "metadata": {
    "collapsed": true,
    "deletable": true,
    "editable": true
   },
   "source": [
    "## Step 2: First Simple Visualization\n",
    "\n",
    "We can visualize this subset of the Twitter network as a graph: Each node is a Twitter account and edges encode the \"follows\" relation.\n",
    "\n",
    "- - - \n",
    "1. To define the graph, we bind *source* and *destination* to the columns indicating the start and end nodes of each edges.\n",
    "```python\n",
    "plotter = graphistry.bind(source='srcAccount', destination='dstAccount')\n",
    "```\n",
    "2. Then we call plot to create the visualization\n",
    "```python\n",
    "plotter.plot(follows)\n",
    "```"
   ]
  },
  {
   "cell_type": "code",
   "execution_count": 3,
   "metadata": {
    "collapsed": false,
    "deletable": true,
    "editable": true
   },
   "outputs": [
    {
     "data": {
      "text/html": [
       "\n",
       "            <iframe id=\"03ef7dbd-fb53-4cdc-bc85-91c03f727ccd\" src=\"https://labs.graphistry.com/graph/graph.html?dataset=PyGraphistry/I1CAP90LXB&type=vgraph&viztoken=960df41d05f7aa81ead48cfb5814df0493264eb0&usertag=45d0e486-pygraphistry-0.9.28&splashAfter=1463682689&info=true\"\n",
       "                    allowfullscreen=\"true\" webkitallowfullscreen=\"true\" mozallowfullscreen=\"true\"\n",
       "                    oallowfullscreen=\"true\" msallowfullscreen=\"true\"\n",
       "                    style=\"width:100%; height:500px; border: 1px solid #DDD\">\n",
       "            </iframe>\n",
       "        \n",
       "            <script>\n",
       "                $(\"#03ef7dbd-fb53-4cdc-bc85-91c03f727ccd\").bind('mousewheel', function(e) {\n",
       "                e.preventDefault();\n",
       "                });\n",
       "            </script>\n",
       "        "
      ],
      "text/plain": [
       "<IPython.core.display.HTML object>"
      ]
     },
     "execution_count": 3,
     "metadata": {},
     "output_type": "execute_result"
    }
   ],
   "source": [
    "plotter = graphistry.bind(source='srcAccount', destination='dstAccount')\n",
    "plotter.plot(follows)"
   ]
  },
  {
   "cell_type": "markdown",
   "metadata": {
    "deletable": true,
    "editable": true
   },
   "source": [
    "Can you answer the following questions by exploring the visualization you have just created?\n",
    "- Is the structure of the graph what you would expect from a social network?\n",
    "- Can you tell which accounts might be fake and which ones are likely real users?"
   ]
  },
  {
   "cell_type": "markdown",
   "metadata": {
    "deletable": true,
    "editable": true
   },
   "source": [
    "## Step 3: Computing Graph Metrics With IGraph\n",
    "\n",
    "Next, we are going to use [IGraph](http://igraph.org/python/), a graph computation library, to compute metrics like pagerank to help us understand the dataset.\n",
    "\n",
    "---\n",
    "1. First we convert our data to an Igraph\n",
    "```python\n",
    "ig = plotter.pandas2igraph(follows)\n",
    "igraph.summary(ig)\n",
    "```\n",
    "2. Then we compute centrality metrics. Each metric is stored as a node or edge attribute\n",
    "```python\n",
    "ig.vs['pagerank'] = ig.pagerank(directed=False)\n",
    "ig.vs['betweenness'] = ig.betweenness(directed=True)\n",
    "ig.es['ebetweenness'] = ig.edge_betweenness(directed=True)\n",
    "```\n",
    "3. Finally, we run three community detection algorithm\n",
    "```python\n",
    "ig.vs['community_spinglass'] = ig.community_spinglass(spins=12, stop_temp=0.1, cool_fact=0.9).membership\n",
    "uig = ig.copy()\n",
    "uig.to_undirected()\n",
    "ig.vs['community_infomap'] = uig.community_infomap().membership\n",
    "ig.vs['community_louvain'] = uig.community_multilevel().membership\n",
    "```\n",
    "4. We can now bind visual properties such as node size and color to graph attributes. Let's size nodes based on their `pagerank` score and color them using `community_spinglass`\n",
    "```python\n",
    "plotter2 = plotter.bind(point_color='community_spinglass', point_size='pagerank')\n",
    "```\n",
    "5. We are now ready to create a new visualization:\n",
    "```python\n",
    "plotter2.plot(ig)\n",
    "```"
   ]
  },
  {
   "cell_type": "code",
   "execution_count": 4,
   "metadata": {
    "collapsed": false,
    "deletable": true,
    "editable": true
   },
   "outputs": [
    {
     "name": "stdout",
     "output_type": "stream",
     "text": [
      "IGRAPH D--- 7889 10063 -- \n",
      "+ attr: __nodeid__ (v)\n"
     ]
    },
    {
     "name": "stderr",
     "output_type": "stream",
     "text": [
      "WARNING: \"node\" is unbound, automatically binding it to \"__nodeid__\".\n"
     ]
    }
   ],
   "source": [
    "ig = plotter.pandas2igraph(follows)\n",
    "igraph.summary(ig)"
   ]
  },
  {
   "cell_type": "code",
   "execution_count": 5,
   "metadata": {
    "collapsed": true,
    "deletable": true,
    "editable": true
   },
   "outputs": [],
   "source": [
    "ig.vs['pagerank'] = ig.pagerank(directed=False)\n",
    "ig.vs['betweenness'] = ig.betweenness(directed=True)\n",
    "ig.es['ebetweenness'] = ig.edge_betweenness(directed=True)"
   ]
  },
  {
   "cell_type": "code",
   "execution_count": 6,
   "metadata": {
    "collapsed": true,
    "deletable": true,
    "editable": true
   },
   "outputs": [],
   "source": [
    "ig.vs['community_spinglass'] = ig.community_spinglass(spins=12, stop_temp=0.1, cool_fact=0.9).membership\n",
    "uig = ig.copy()\n",
    "uig.to_undirected()\n",
    "ig.vs['community_infomap'] = uig.community_infomap().membership\n",
    "ig.vs['community_louvain'] = uig.community_multilevel().membership"
   ]
  },
  {
   "cell_type": "code",
   "execution_count": 7,
   "metadata": {
    "collapsed": false,
    "deletable": true,
    "editable": true
   },
   "outputs": [
    {
     "data": {
      "text/html": [
       "\n",
       "            <iframe id=\"aef85bb0-5734-4617-8a87-636c01c4a891\" src=\"https://labs.graphistry.com/graph/graph.html?dataset=PyGraphistry/UWI22M6B0Y&type=vgraph&viztoken=34514dd181817e678a3e28371ce80d55a4561888&usertag=45d0e486-pygraphistry-0.9.28&splashAfter=1463682708&info=true\"\n",
       "                    allowfullscreen=\"true\" webkitallowfullscreen=\"true\" mozallowfullscreen=\"true\"\n",
       "                    oallowfullscreen=\"true\" msallowfullscreen=\"true\"\n",
       "                    style=\"width:100%; height:500px; border: 1px solid #DDD\">\n",
       "            </iframe>\n",
       "        \n",
       "            <script>\n",
       "                $(\"#aef85bb0-5734-4617-8a87-636c01c4a891\").bind('mousewheel', function(e) {\n",
       "                e.preventDefault();\n",
       "                });\n",
       "            </script>\n",
       "        "
      ],
      "text/plain": [
       "<IPython.core.display.HTML object>"
      ]
     },
     "execution_count": 7,
     "metadata": {},
     "output_type": "execute_result"
    }
   ],
   "source": [
    "plotter2 = plotter.bind(point_color='community_spinglass', point_size='pagerank')\n",
    "plotter2.plot(ig)"
   ]
  },
  {
   "cell_type": "markdown",
   "metadata": {
    "deletable": true,
    "editable": true
   },
   "source": [
    "## Step 4: Visual Drill Downs\n",
    "\n",
    "Within the visualization, you can filter and drill down into the graph. Try the following:\n",
    "\n",
    "1. Open the histogram panel, and add histograms for `pagerank`, `betweenness`, `ebetweenness`, etc. By selecting a region of a histogram or clicking on a bar, you can filter the graph.\n",
    "\n",
    "2. You can also manually create filters in the filter panel (\"funnel\" icon in the left menu bar). For instance, try filtering on `point:pagerank` such that `point:pagerank >= 0.01`. We select the most \"influencial accounts\". Those are the likely botnet owners/customers.\n",
    "\n",
    "3. Still in the histogram panel, you can visually show attributes using on the graph node/edge colors. Try clicking on each of the three square icons on top of each histogram. Notice that when point color is bound to `community_spinglass`, the \"tail\" of the network forms a distinct community. What makes those accounts different from the rest?\n",
    "\n",
    "4. With the histogram panel open, click on data brush and then lasso a selection on the graph. The histograms highlight the subset of nodes under the selection. You can drag the data brush selection to compare different subgraphs.\n"
   ]
  },
  {
   "cell_type": "code",
   "execution_count": null,
   "metadata": {
    "collapsed": true,
    "deletable": true,
    "editable": true
   },
   "outputs": [],
   "source": []
  }
 ],
 "metadata": {
  "kernelspec": {
   "display_name": "Python 2",
   "language": "python",
   "name": "python2"
  },
  "language_info": {
   "codemirror_mode": {
    "name": "ipython",
    "version": 2
   },
   "file_extension": ".py",
   "mimetype": "text/x-python",
   "name": "python",
   "nbconvert_exporter": "python",
   "pygments_lexer": "ipython2",
   "version": "2.7.13"
  }
 },
 "nbformat": 4,
 "nbformat_minor": 0
}
