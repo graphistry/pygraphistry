{
 "cells": [
  {
   "cell_type": "markdown",
   "metadata": {
    "deletable": true,
    "editable": true
   },
   "source": [
    "# PyGraphistry Tutorial: Visualize Protein Interactions From BioGrid\n",
    "\n",
    "That is over 600.000 interactions across 50'000 proteins!\n",
    "\n",
    "##### Notes\n",
    "\n",
    "This notebook automatically downloads about 200 MB of [BioGrid](http://thebiogrid.org) data. If you are going to run this notebook more than once, we recommend manually dowloading and saving the data to disk. To do so, unzip the two files and place their content in `pygraphistry/demos/data`.\n",
    "- Protein Interactions: [BIOGRID-ALL-3.3.123.tab2.zip](http://thebiogrid.org/downloads/archives/Release%20Archive/BIOGRID-3.3.123/BIOGRID-ALL-3.3.123.tab2.zip)\n",
    "- Protein Identifiers: [BIOGRID-IDENTIFIERS-3.3.123.tab.zip](http://thebiogrid.org/downloads/archives/Release%20Archive/BIOGRID-3.3.123/BIOGRID-IDENTIFIERS-3.3.123.tab.zip)\n"
   ]
  },
  {
   "cell_type": "code",
   "execution_count": 2,
   "metadata": {
    "collapsed": false,
    "deletable": true,
    "editable": true
   },
   "outputs": [],
   "source": [
    "import pandas\n",
    "import graphistry\n",
    "graphistry.register(key='MY_API_KEY', api=2) #https://www.graphistry.com/api-request"
   ]
  },
  {
   "cell_type": "markdown",
   "metadata": {
    "deletable": true,
    "editable": true
   },
   "source": [
    "## Load Protein Interactions\n",
    "Select columns of interest and drop empty rows."
   ]
  },
  {
   "cell_type": "code",
   "execution_count": 2,
   "metadata": {
    "collapsed": false,
    "deletable": true,
    "editable": true,
    "scrolled": false
   },
   "outputs": [
    {
     "name": "stderr",
     "output_type": "stream",
     "text": [
      "/Library/Python/2.7/site-packages/IPython/core/interactiveshell.py:2723: DtypeWarning: Columns (19,20) have mixed types. Specify dtype option on import or set low_memory=False.\n",
      "  interactivity=interactivity, compiler=compiler, result=result)\n"
     ]
    },
    {
     "data": {
      "text/html": [
       "<div>\n",
       "<table border=\"1\" class=\"dataframe\">\n",
       "  <thead>\n",
       "    <tr style=\"text-align: right;\">\n",
       "      <th></th>\n",
       "      <th>BioGRID ID Interactor A</th>\n",
       "      <th>BioGRID ID Interactor B</th>\n",
       "      <th>Official Symbol Interactor A</th>\n",
       "      <th>Official Symbol Interactor B</th>\n",
       "      <th>Pubmed ID</th>\n",
       "      <th>Author</th>\n",
       "      <th>Throughput</th>\n",
       "    </tr>\n",
       "  </thead>\n",
       "  <tbody>\n",
       "    <tr>\n",
       "      <th>0</th>\n",
       "      <td>112315</td>\n",
       "      <td>108607</td>\n",
       "      <td>MAP2K4</td>\n",
       "      <td>FLNC</td>\n",
       "      <td>9006895</td>\n",
       "      <td>Marti A (1997)</td>\n",
       "      <td>Low Throughput</td>\n",
       "    </tr>\n",
       "    <tr>\n",
       "      <th>1</th>\n",
       "      <td>124185</td>\n",
       "      <td>106603</td>\n",
       "      <td>MYPN</td>\n",
       "      <td>ACTN2</td>\n",
       "      <td>11309420</td>\n",
       "      <td>Bang ML (2001)</td>\n",
       "      <td>Low Throughput</td>\n",
       "    </tr>\n",
       "    <tr>\n",
       "      <th>2</th>\n",
       "      <td>106605</td>\n",
       "      <td>108625</td>\n",
       "      <td>ACVR1</td>\n",
       "      <td>FNTA</td>\n",
       "      <td>8599089</td>\n",
       "      <td>Wang T (1996)</td>\n",
       "      <td>Low Throughput</td>\n",
       "    </tr>\n",
       "  </tbody>\n",
       "</table>\n",
       "</div>"
      ],
      "text/plain": [
       "   BioGRID ID Interactor A  BioGRID ID Interactor B  \\\n",
       "0                   112315                   108607   \n",
       "1                   124185                   106603   \n",
       "2                   106605                   108625   \n",
       "\n",
       "  Official Symbol Interactor A Official Symbol Interactor B  Pubmed ID  \\\n",
       "0                       MAP2K4                         FLNC    9006895   \n",
       "1                         MYPN                        ACTN2   11309420   \n",
       "2                        ACVR1                         FNTA    8599089   \n",
       "\n",
       "           Author      Throughput  \n",
       "0  Marti A (1997)  Low Throughput  \n",
       "1  Bang ML (2001)  Low Throughput  \n",
       "2   Wang T (1996)  Low Throughput  "
      ]
     },
     "execution_count": 2,
     "metadata": {},
     "output_type": "execute_result"
    }
   ],
   "source": [
    "url1 = 'https://s3-us-west-1.amazonaws.com/graphistry.demo.data/BIOGRID-ALL-3.3.123.tab2.txt.gz'\n",
    "rawdata = pandas.read_table(url1, na_values=['-'], engine='c', compression='gzip')\n",
    "\n",
    "# If using local data, comment the two lines above and uncomment the line below\n",
    "# pandas.read_table('./data/BIOGRID-ALL-3.3.123.tab2.txt', na_values=['-'], engine='c')\n",
    "\n",
    "cols = ['BioGRID ID Interactor A', 'BioGRID ID Interactor B', 'Official Symbol Interactor A', \n",
    "        'Official Symbol Interactor B', 'Pubmed ID', 'Author', 'Throughput']\n",
    "interactions = rawdata[cols].dropna()\n",
    "interactions[:3]"
   ]
  },
  {
   "cell_type": "markdown",
   "metadata": {
    "deletable": true,
    "editable": true
   },
   "source": [
    "### Let's have a quick peak at the data\n",
    "Bind the columns storing the source/destination of each edge. This is the bare minimum to create a visualization. "
   ]
  },
  {
   "cell_type": "code",
   "execution_count": 6,
   "metadata": {
    "collapsed": false,
    "deletable": true,
    "editable": true
   },
   "outputs": [
    {
     "name": "stdout",
     "output_type": "stream",
     "text": [
      "Uploading 6194 kB. This may take a while...\n"
     ]
    },
    {
     "data": {
      "text/html": [
       "\n",
       "            <iframe id=\"bdcb44aa-483c-4044-bee2-22c212235211\" src=\"https://labs.graphistry.com/graph/graph.html?dataset=s3://graphistry.data/pygraphistry/a84445a608de8d4f97869e29b6128087/dataset.json&type=jsonMeta&viztoken=003c7d02b70ed0157f7238a84d1313ec8ec621d1&usertag=81aae028-pygraphistry-0.9.38+2.g301c95c&splashAfter=1483996793&info=true\"\n",
       "                    allowfullscreen=\"true\" webkitallowfullscreen=\"true\" mozallowfullscreen=\"true\"\n",
       "                    oallowfullscreen=\"true\" msallowfullscreen=\"true\"\n",
       "                    style=\"width:100%; height:500px; border: 1px solid #DDD\">\n",
       "            </iframe>\n",
       "        \n",
       "            <script>\n",
       "                $(\"#bdcb44aa-483c-4044-bee2-22c212235211\").bind('mousewheel', function(e) {\n",
       "                e.preventDefault();\n",
       "                });\n",
       "            </script>\n",
       "        "
      ],
      "text/plain": [
       "<IPython.core.display.HTML object>"
      ]
     },
     "execution_count": 6,
     "metadata": {},
     "output_type": "execute_result"
    }
   ],
   "source": [
    "# This will upload ~8MB of data, be patient!\n",
    "plotter = graphistry.bind(source=\"BioGRID ID Interactor A\", destination=\"BioGRID ID Interactor B\")\n",
    "plotter.plot(interactions)"
   ]
  },
  {
   "cell_type": "markdown",
   "metadata": {
    "deletable": true,
    "editable": true
   },
   "source": [
    "## A Fancier Visualization With Custom Labels and Colors\n",
    "Let's lookup the name and organism of each protein in the BioGrid indentification DB."
   ]
  },
  {
   "cell_type": "code",
   "execution_count": null,
   "metadata": {
    "collapsed": false,
    "deletable": true,
    "editable": true,
    "scrolled": true
   },
   "outputs": [],
   "source": [
    "# This downloads 170 MB, it might take some time.\n",
    "url2 = 'https://s3-us-west-1.amazonaws.com/graphistry.demo.data/BIOGRID-IDENTIFIERS-3.3.123.tab.txt.gz'\n",
    "raw_proteins = pandas.read_table(url2, na_values=['-'], engine='c', compression='gzip')\n",
    "\n",
    "# If using local data, comment the two lines above and uncomment the line below\n",
    "# raw_proteins = pandas.read_table('./data/BIOGRID-IDENTIFIERS-3.3.123.tab.txt', na_values=['-'], engine='c')\n",
    "\n",
    "\n",
    "protein_ids = raw_proteins[['BIOGRID_ID', 'ORGANISM_OFFICIAL_NAME']].drop_duplicates() \\\n",
    "                          .rename(columns={'ORGANISM_OFFICIAL_NAME': 'ORGANISM'})\n",
    "protein_ids[:3]"
   ]
  },
  {
   "cell_type": "markdown",
   "metadata": {
    "deletable": true,
    "editable": true
   },
   "source": [
    "We extract the proteins referenced as either sources or targets of interactions."
   ]
  },
  {
   "cell_type": "code",
   "execution_count": null,
   "metadata": {
    "collapsed": false,
    "deletable": true,
    "editable": true,
    "scrolled": true
   },
   "outputs": [],
   "source": [
    "source_proteins = interactions[[\"BioGRID ID Interactor A\", \"Official Symbol Interactor A\"]].copy() \\\n",
    "                              .rename(columns={'BioGRID ID Interactor A': 'BIOGRID_ID', \n",
    "                                               'Official Symbol Interactor A': 'SYMBOL'})\n",
    "\n",
    "target_proteins = interactions[[\"BioGRID ID Interactor B\", \"Official Symbol Interactor B\"]].copy() \\\n",
    "                              .rename(columns={'BioGRID ID Interactor B': 'BIOGRID_ID', \n",
    "                                               'Official Symbol Interactor B': 'SYMBOL'}) \n",
    "\n",
    "all_proteins = pandas.concat([source_proteins, target_proteins], ignore_index=True).drop_duplicates()\n",
    "all_proteins[:3]"
   ]
  },
  {
   "cell_type": "markdown",
   "metadata": {
    "deletable": true,
    "editable": true
   },
   "source": [
    "We join on the indentification DB to get the organism in which each protein belongs."
   ]
  },
  {
   "cell_type": "code",
   "execution_count": null,
   "metadata": {
    "collapsed": false,
    "deletable": true,
    "editable": true
   },
   "outputs": [],
   "source": [
    "protein_labels = pandas.merge(all_proteins, protein_ids, how='left', left_on='BIOGRID_ID', right_on='BIOGRID_ID')\n",
    "protein_labels[:3]"
   ]
  },
  {
   "cell_type": "markdown",
   "metadata": {
    "deletable": true,
    "editable": true
   },
   "source": [
    "We assign colors to proteins based on their organism."
   ]
  },
  {
   "cell_type": "code",
   "execution_count": null,
   "metadata": {
    "collapsed": false,
    "deletable": true,
    "editable": true
   },
   "outputs": [],
   "source": [
    "colors = protein_labels.ORGANISM.unique().tolist()\n",
    "protein_labels['Color'] = protein_labels.ORGANISM.map(lambda x: colors.index(x))"
   ]
  },
  {
   "cell_type": "markdown",
   "metadata": {
    "deletable": true,
    "editable": true
   },
   "source": [
    "For convenience, let's add links to PubMed and RCSB."
   ]
  },
  {
   "cell_type": "code",
   "execution_count": null,
   "metadata": {
    "collapsed": false,
    "deletable": true,
    "editable": true
   },
   "outputs": [],
   "source": [
    "def makeRcsbLink(id):\n",
    "    if isinstance(id, str):\n",
    "        url = 'http://www.rcsb.org/pdb/gene/' + id.upper()\n",
    "        return '<a target=\"_blank\" href=\"%s\">%s</a>' % (url, id.upper())\n",
    "    else:\n",
    "        return 'n/a'\n",
    "    \n",
    "protein_labels.SYMBOL = protein_labels.SYMBOL.map(makeRcsbLink)\n",
    "protein_labels[:3]"
   ]
  },
  {
   "cell_type": "code",
   "execution_count": null,
   "metadata": {
    "collapsed": false,
    "deletable": true,
    "editable": true,
    "scrolled": true
   },
   "outputs": [],
   "source": [
    "def makePubmedLink(id):\n",
    "    url = 'http://www.ncbi.nlm.nih.gov/pubmed/?term=%s' % id\n",
    "    return '<a target=\"_blank\" href=\"%s\">%s</a>' % (url, id)\n",
    "\n",
    "interactions['Pubmed ID'] = interactions['Pubmed ID'].map(makePubmedLink)\n",
    "interactions[:3]"
   ]
  },
  {
   "cell_type": "markdown",
   "metadata": {
    "deletable": true,
    "editable": true
   },
   "source": [
    "## Plotting\n",
    "We bind columns to labels and colors and we are good to go. "
   ]
  },
  {
   "cell_type": "code",
   "execution_count": null,
   "metadata": {
    "collapsed": false,
    "deletable": true,
    "editable": true,
    "scrolled": false
   },
   "outputs": [],
   "source": [
    "# This will upload ~10MB of data, be patient!\n",
    "fancy_plotter = plotter.bind(node='BIOGRID_ID', edge_title='Author', point_title='SYMBOL', point_color='Color')\n",
    "fancy_plotter.plot(interactions, protein_labels)"
   ]
  }
 ],
 "metadata": {
  "kernelspec": {
   "display_name": "Python 2",
   "language": "python",
   "name": "python2"
  },
  "language_info": {
   "codemirror_mode": {
    "name": "ipython",
    "version": 2
   },
   "file_extension": ".py",
   "mimetype": "text/x-python",
   "name": "python",
   "nbconvert_exporter": "python",
   "pygments_lexer": "ipython2",
   "version": "2.7.13"
  }
 },
 "nbformat": 4,
 "nbformat_minor": 0
}
