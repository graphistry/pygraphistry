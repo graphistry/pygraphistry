{
 "cells": [
  {
   "cell_type": "markdown",
   "metadata": {
    "deletable": true,
    "editable": true
   },
   "source": [
    "# Silk Road Bitcoin Embezzling Visualization"
   ]
  },
  {
   "cell_type": "code",
   "execution_count": 1,
   "metadata": {
    "collapsed": true,
    "deletable": true,
    "editable": true
   },
   "outputs": [],
   "source": [
    "import graphistry\n",
    "import pandas as pd\n",
    "import numpy as np\n",
    "graphistry.register(key='MY_API_KEY') #https://www.graphistry.com/api-request"
   ]
  },
  {
   "cell_type": "markdown",
   "metadata": {
    "deletable": true,
    "editable": true
   },
   "source": [
    "## Data: Load transactions CSV with Pandas"
   ]
  },
  {
   "cell_type": "code",
   "execution_count": 2,
   "metadata": {
    "collapsed": false,
    "deletable": true,
    "editable": true
   },
   "outputs": [
    {
     "data": {
      "text/html": [
       "<div>\n",
       "<table border=\"1\" class=\"dataframe\">\n",
       "  <thead>\n",
       "    <tr style=\"text-align: right;\">\n",
       "      <th></th>\n",
       "      <th>Amount $</th>\n",
       "      <th>Date</th>\n",
       "      <th>Destination</th>\n",
       "      <th>Source</th>\n",
       "      <th>Transaction ID</th>\n",
       "      <th>isTainted</th>\n",
       "    </tr>\n",
       "  </thead>\n",
       "  <tbody>\n",
       "    <tr>\n",
       "      <th>0</th>\n",
       "      <td>3223.9752</td>\n",
       "      <td>2013-11-23 20:53:20</td>\n",
       "      <td>84a0b53e1ac008b8dd0fd6212d4b7fa2...</td>\n",
       "      <td>2dd13954e18508bb8b3a41d96a022be9...</td>\n",
       "      <td>b6eb8ba20df31fa74fbe7755f58c18f82a599d6bb5fa79...</td>\n",
       "      <td>0</td>\n",
       "    </tr>\n",
       "    <tr>\n",
       "      <th>1</th>\n",
       "      <td>3708.0216</td>\n",
       "      <td>2014-05-31 01:33:20</td>\n",
       "      <td>3b62a891b99969042d4e6ac8158d0a18...</td>\n",
       "      <td>7c74d3afb41e536e26948a1d2455a7c7...</td>\n",
       "      <td>60df3c67063e136a0c9715edcd12ae717e6f9ed492afe2...</td>\n",
       "      <td>0</td>\n",
       "    </tr>\n",
       "    <tr>\n",
       "      <th>2</th>\n",
       "      <td>2.4800</td>\n",
       "      <td>2014-04-27 00:53:20</td>\n",
       "      <td>3b62a891b99969042d4e6ac8158d0a18...</td>\n",
       "      <td>50dced19b8ee41114916bf3ca894f455...</td>\n",
       "      <td>a6aafd3d85600844536b8a5f2c255686c33dc4969e68a4...</td>\n",
       "      <td>0</td>\n",
       "    </tr>\n",
       "  </tbody>\n",
       "</table>\n",
       "</div>"
      ],
      "text/plain": [
       "    Amount $                Date                          Destination  \\\n",
       "0  3223.9752 2013-11-23 20:53:20  84a0b53e1ac008b8dd0fd6212d4b7fa2...   \n",
       "1  3708.0216 2014-05-31 01:33:20  3b62a891b99969042d4e6ac8158d0a18...   \n",
       "2     2.4800 2014-04-27 00:53:20  3b62a891b99969042d4e6ac8158d0a18...   \n",
       "\n",
       "                                Source  \\\n",
       "0  2dd13954e18508bb8b3a41d96a022be9...   \n",
       "1  7c74d3afb41e536e26948a1d2455a7c7...   \n",
       "2  50dced19b8ee41114916bf3ca894f455...   \n",
       "\n",
       "                                      Transaction ID  isTainted  \n",
       "0  b6eb8ba20df31fa74fbe7755f58c18f82a599d6bb5fa79...          0  \n",
       "1  60df3c67063e136a0c9715edcd12ae717e6f9ed492afe2...          0  \n",
       "2  a6aafd3d85600844536b8a5f2c255686c33dc4969e68a4...          0  "
      ]
     },
     "execution_count": 2,
     "metadata": {},
     "output_type": "execute_result"
    }
   ],
   "source": [
    "transactions = pd.read_csv('../data/transactions.csv')\n",
    "transactions['Date'] = pd.to_datetime(transactions['Date'],unit='ms') #coerce date format\n",
    "transactions[:3]"
   ]
  },
  {
   "cell_type": "markdown",
   "metadata": {
    "deletable": true,
    "editable": true
   },
   "source": [
    "## Visualization 1: Quick Visualization & Analysis\n",
    "\n",
    "Task: Spot the embezzling\n",
    "1. Use the histogram tool to filter for only tainted transactions\n",
    "2. Turn on the Setting \"Prune Isolated Nodes\" to hide wallets with no remaining transactions\n",
    "3. Use the filters or excludes tool to only show transactions over 1000 or 1000. \n",
    "4. Verify that money flowed from Ross Ulbricht to Carl Force, and explore where else it flowed."
   ]
  },
  {
   "cell_type": "code",
   "execution_count": 3,
   "metadata": {
    "collapsed": false,
    "deletable": true,
    "editable": true
   },
   "outputs": [],
   "source": [
    "g = graphistry.edges(transactions).bind(source='Source', destination='Destination')"
   ]
  },
  {
   "cell_type": "code",
   "execution_count": 4,
   "metadata": {
    "collapsed": false,
    "deletable": true,
    "editable": true,
    "scrolled": false
   },
   "outputs": [
    {
     "data": {
      "text/html": [
       "\n",
       "            <iframe id=\"18c15a82-3c9f-4bae-8416-cf740dd9dfd0\" src=\"https://labs.graphistry.com/graph/graph.html?dataset=PyGraphistry/VS8GE9RESX&type=vgraph&viztoken=516eec088a5552d037c3b0850c1e6b70e284a759&usertag=45d0e486-pygraphistry-0.9.28&splashAfter=1463682680&info=true\"\n",
       "                    allowfullscreen=\"true\" webkitallowfullscreen=\"true\" mozallowfullscreen=\"true\"\n",
       "                    oallowfullscreen=\"true\" msallowfullscreen=\"true\"\n",
       "                    style=\"width:100%; height:500px; border: 1px solid #DDD\">\n",
       "            </iframe>\n",
       "        \n",
       "            <script>\n",
       "                $(\"#18c15a82-3c9f-4bae-8416-cf740dd9dfd0\").bind('mousewheel', function(e) {\n",
       "                e.preventDefault();\n",
       "                });\n",
       "            </script>\n",
       "        "
      ],
      "text/plain": [
       "<IPython.core.display.HTML object>"
      ]
     },
     "execution_count": 4,
     "metadata": {},
     "output_type": "execute_result"
    }
   ],
   "source": [
    "g.plot()"
   ]
  },
  {
   "cell_type": "markdown",
   "metadata": {
    "deletable": true,
    "editable": true
   },
   "source": [
    "# Visualization 2: Summarizing Wallets"
   ]
  },
  {
   "cell_type": "markdown",
   "metadata": {
    "deletable": true,
    "editable": true
   },
   "source": [
    "## Compute how much wallets received"
   ]
  },
  {
   "cell_type": "code",
   "execution_count": 5,
   "metadata": {
    "collapsed": false,
    "deletable": true,
    "editable": true
   },
   "outputs": [
    {
     "data": {
      "text/html": [
       "<div>\n",
       "<table border=\"1\" class=\"dataframe\">\n",
       "  <thead>\n",
       "    <tr style=\"text-align: right;\">\n",
       "      <th></th>\n",
       "      <th>wallet</th>\n",
       "      <th>Amount $</th>\n",
       "      <th>isTaintedWallet</th>\n",
       "      <th>Receivables</th>\n",
       "    </tr>\n",
       "  </thead>\n",
       "  <tbody>\n",
       "    <tr>\n",
       "      <th>0</th>\n",
       "      <td>0002b3efbc3e742ee4cfaad18d8cf221...</td>\n",
       "      <td>41118.416840</td>\n",
       "      <td>0</td>\n",
       "      <td>True</td>\n",
       "    </tr>\n",
       "    <tr>\n",
       "      <th>1</th>\n",
       "      <td>0005e0fbac078e609bbc3239d3302ff7...</td>\n",
       "      <td>5577.768000</td>\n",
       "      <td>1</td>\n",
       "      <td>True</td>\n",
       "    </tr>\n",
       "    <tr>\n",
       "      <th>2</th>\n",
       "      <td>000b3df00e3ff9b7705452071c9e4e87...</td>\n",
       "      <td>11161.133824</td>\n",
       "      <td>0</td>\n",
       "      <td>True</td>\n",
       "    </tr>\n",
       "  </tbody>\n",
       "</table>\n",
       "</div>"
      ],
      "text/plain": [
       "                                wallet      Amount $  isTaintedWallet  \\\n",
       "0  0002b3efbc3e742ee4cfaad18d8cf221...  41118.416840                0   \n",
       "1  0005e0fbac078e609bbc3239d3302ff7...   5577.768000                1   \n",
       "2  000b3df00e3ff9b7705452071c9e4e87...  11161.133824                0   \n",
       "\n",
       "  Receivables  \n",
       "0        True  \n",
       "1        True  \n",
       "2        True  "
      ]
     },
     "execution_count": 5,
     "metadata": {},
     "output_type": "execute_result"
    }
   ],
   "source": [
    "wallet_in = transactions\\\n",
    "  .groupby('Destination')\\\n",
    "  .agg({'isTainted': lambda x: 1 if x.sum() > 0 else 0, 'Amount $': np.sum})\\\n",
    "  .reset_index().rename(columns={'Destination': 'wallet', 'isTainted': 'isTaintedWallet'})\n",
    "\n",
    "#not all wallets received money, tag these\n",
    "wallet_in['Receivables'] = True\n",
    "\n",
    "wallet_in[:3]"
   ]
  },
  {
   "cell_type": "markdown",
   "metadata": {
    "deletable": true,
    "editable": true
   },
   "source": [
    "## Compute how much wallets sent"
   ]
  },
  {
   "cell_type": "code",
   "execution_count": 6,
   "metadata": {
    "collapsed": false,
    "deletable": true,
    "editable": true
   },
   "outputs": [
    {
     "data": {
      "text/html": [
       "<div>\n",
       "<table border=\"1\" class=\"dataframe\">\n",
       "  <thead>\n",
       "    <tr style=\"text-align: right;\">\n",
       "      <th></th>\n",
       "      <th>wallet</th>\n",
       "      <th>Amount $</th>\n",
       "      <th>isTaintedWallet</th>\n",
       "      <th>Payables</th>\n",
       "    </tr>\n",
       "  </thead>\n",
       "  <tbody>\n",
       "    <tr>\n",
       "      <th>0</th>\n",
       "      <td>0005e0fbac078e609bbc3239d3302ff7...</td>\n",
       "      <td>6197.520000</td>\n",
       "      <td>0</td>\n",
       "      <td>True</td>\n",
       "    </tr>\n",
       "    <tr>\n",
       "      <th>1</th>\n",
       "      <td>000b3df00e3ff9b7705452071c9e4e87...</td>\n",
       "      <td>857.923098</td>\n",
       "      <td>0</td>\n",
       "      <td>True</td>\n",
       "    </tr>\n",
       "    <tr>\n",
       "      <th>2</th>\n",
       "      <td>0012742095ed1c2ceb334b2a5403da7d...</td>\n",
       "      <td>3472.000000</td>\n",
       "      <td>0</td>\n",
       "      <td>True</td>\n",
       "    </tr>\n",
       "  </tbody>\n",
       "</table>\n",
       "</div>"
      ],
      "text/plain": [
       "                                wallet     Amount $  isTaintedWallet Payables\n",
       "0  0005e0fbac078e609bbc3239d3302ff7...  6197.520000                0     True\n",
       "1  000b3df00e3ff9b7705452071c9e4e87...   857.923098                0     True\n",
       "2  0012742095ed1c2ceb334b2a5403da7d...  3472.000000                0     True"
      ]
     },
     "execution_count": 6,
     "metadata": {},
     "output_type": "execute_result"
    }
   ],
   "source": [
    "wallet_out = transactions\\\n",
    "  .groupby('Source')\\\n",
    "  .agg({'isTainted': np.sum, 'Amount $': np.max})\\\n",
    "  .reset_index().rename(columns={'Source': 'wallet', 'isTainted': 'isTaintedWallet'})\n",
    "\n",
    "#not all wallets received money, tag these\n",
    "wallet_out['Payables'] = True\n",
    "\n",
    "wallet_out[:3]"
   ]
  },
  {
   "cell_type": "markdown",
   "metadata": {
    "deletable": true,
    "editable": true
   },
   "source": [
    "## Join data"
   ]
  },
  {
   "cell_type": "code",
   "execution_count": 7,
   "metadata": {
    "collapsed": false,
    "deletable": true,
    "editable": true
   },
   "outputs": [
    {
     "name": "stdout",
     "output_type": "stream",
     "text": [
      "('# Wallets only sent or only received', 875)\n"
     ]
    },
    {
     "data": {
      "text/html": [
       "<div>\n",
       "<table border=\"1\" class=\"dataframe\">\n",
       "  <thead>\n",
       "    <tr style=\"text-align: right;\">\n",
       "      <th></th>\n",
       "      <th>wallet</th>\n",
       "      <th>Amount $</th>\n",
       "      <th>isTaintedWallet</th>\n",
       "      <th>Receivables</th>\n",
       "      <th>Payables</th>\n",
       "    </tr>\n",
       "  </thead>\n",
       "  <tbody>\n",
       "    <tr>\n",
       "      <th>0</th>\n",
       "      <td>0002b3efbc3e742ee4cfaad18d8cf221...</td>\n",
       "      <td>41118.416840</td>\n",
       "      <td>0.0</td>\n",
       "      <td>True</td>\n",
       "      <td>False</td>\n",
       "    </tr>\n",
       "    <tr>\n",
       "      <th>1</th>\n",
       "      <td>0005e0fbac078e609bbc3239d3302ff7...</td>\n",
       "      <td>5577.768000</td>\n",
       "      <td>1.0</td>\n",
       "      <td>True</td>\n",
       "      <td>False</td>\n",
       "    </tr>\n",
       "    <tr>\n",
       "      <th>2</th>\n",
       "      <td>000b3df00e3ff9b7705452071c9e4e87...</td>\n",
       "      <td>11161.133824</td>\n",
       "      <td>0.0</td>\n",
       "      <td>True</td>\n",
       "      <td>False</td>\n",
       "    </tr>\n",
       "  </tbody>\n",
       "</table>\n",
       "</div>"
      ],
      "text/plain": [
       "                                wallet      Amount $  isTaintedWallet  \\\n",
       "0  0002b3efbc3e742ee4cfaad18d8cf221...  41118.416840              0.0   \n",
       "1  0005e0fbac078e609bbc3239d3302ff7...   5577.768000              1.0   \n",
       "2  000b3df00e3ff9b7705452071c9e4e87...  11161.133824              0.0   \n",
       "\n",
       "  Receivables Payables  \n",
       "0        True    False  \n",
       "1        True    False  \n",
       "2        True    False  "
      ]
     },
     "execution_count": 7,
     "metadata": {},
     "output_type": "execute_result"
    }
   ],
   "source": [
    "wallets = pd.merge(wallet_in, wallet_out, how='outer')\n",
    "wallets['Receivables'] = wallets['Receivables'].fillna(False)\n",
    "wallets['Payables'] = wallets['Payables'].fillna(False)\n",
    "print('# Wallets only sent or only received', len(wallet_in) + len(wallet_out) - len(wallets))\n",
    "wallets[:3]"
   ]
  },
  {
   "cell_type": "markdown",
   "metadata": {
    "deletable": true,
    "editable": true
   },
   "source": [
    "## Plot\n",
    "Bind color to whether tainted"
   ]
  },
  {
   "cell_type": "code",
   "execution_count": 8,
   "metadata": {
    "collapsed": false,
    "deletable": true,
    "editable": true
   },
   "outputs": [
    {
     "data": {
      "text/html": [
       "\n",
       "            <iframe id=\"f2c78b5a-87fa-4d7f-9d6d-aeb440f86eea\" src=\"https://labs.graphistry.com/graph/graph.html?dataset=PyGraphistry/N7TBVTFIXA&type=vgraph&viztoken=14780d8c8a7127e7327617d86becdf5eb28a07aa&usertag=45d0e486-pygraphistry-0.9.28&splashAfter=1463682691&info=true\"\n",
       "                    allowfullscreen=\"true\" webkitallowfullscreen=\"true\" mozallowfullscreen=\"true\"\n",
       "                    oallowfullscreen=\"true\" msallowfullscreen=\"true\"\n",
       "                    style=\"width:100%; height:500px; border: 1px solid #DDD\">\n",
       "            </iframe>\n",
       "        \n",
       "            <script>\n",
       "                $(\"#f2c78b5a-87fa-4d7f-9d6d-aeb440f86eea\").bind('mousewheel', function(e) {\n",
       "                e.preventDefault();\n",
       "                });\n",
       "            </script>\n",
       "        "
      ],
      "text/plain": [
       "<IPython.core.display.HTML object>"
      ]
     },
     "execution_count": 8,
     "metadata": {},
     "output_type": "execute_result"
    }
   ],
   "source": [
    "g.nodes(wallets).bind(node='wallet', point_color='isTaintedWallet').plot()"
   ]
  }
 ],
 "metadata": {
  "kernelspec": {
   "display_name": "Python 2",
   "language": "python",
   "name": "python2"
  },
  "language_info": {
   "codemirror_mode": {
    "name": "ipython",
    "version": 2
   },
   "file_extension": ".py",
   "mimetype": "text/x-python",
   "name": "python",
   "nbconvert_exporter": "python",
   "pygments_lexer": "ipython2",
   "version": "2.7.13"
  }
 },
 "nbformat": 4,
 "nbformat_minor": 0
}
