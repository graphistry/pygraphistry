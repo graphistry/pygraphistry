{
 "cells": [
  {
   "cell_type": "markdown",
   "metadata": {
    "deletable": true,
    "editable": true
   },
   "source": [
    "# PyGraphistry Example: Graphing the Marvel Universe\n",
    "### Plots hero social network based on co-appearences between heroes\n",
    "**Install: `pip install \"graphistry[igraph]\"`**\n",
    "\n",
    "Note: `pip install igraph` is the wrong package. if installing manually, use `python-igraph`\n",
    "\n",
    "*  Uses pandas, igraph, and PyGraphistry\n",
    "*  Combines comic book and hero data\n",
    "*  Near end, computes clusters and to avoid a hairball, weakens the edge weights between  nodes of different clusters\n"
   ]
  },
  {
   "cell_type": "code",
   "execution_count": null,
   "metadata": {
    "collapsed": false,
    "deletable": true,
    "editable": true
   },
   "outputs": [],
   "source": [
    "from __future__ import print_function\n",
    "from io import open\n",
    "import pandas\n",
    "import igraph # Install Igraph with pip install python-igraph\n",
    "import graphistry\n",
    "\n",
    "graphistry.register(key='MY_API_KEY') #https://www.graphistry.com/api-request"
   ]
  },
  {
   "cell_type": "markdown",
   "metadata": {
    "deletable": true,
    "editable": true
   },
   "source": [
    "# Load heroes, comics, appearences\n",
    "### <font style=\"color:red\">Data should be in `../data/<file>.txt`</font>"
   ]
  },
  {
   "cell_type": "code",
   "execution_count": null,
   "metadata": {
    "collapsed": false,
    "deletable": true,
    "editable": true
   },
   "outputs": [],
   "source": [
    "with open('../data/characters.txt', encoding=\"latin-1\") as f:\n",
    "    lines = f.readlines()\n",
    "heroes = pandas.DataFrame(\n",
    "    list(map(lambda x: (int(x.split(':')[0].split(' ')[1]), x.split(': ', 1)[1].split('\\n')[0]), lines)),\n",
    "    columns=['hero_id', 'hero_name'])\n",
    "print('#Heroes:', len(heroes))\n",
    "heroes[:3]"
   ]
  },
  {
   "cell_type": "code",
   "execution_count": null,
   "metadata": {
    "collapsed": false,
    "deletable": true,
    "editable": true
   },
   "outputs": [],
   "source": [
    "with open('../data/comics.txt', encoding=\"latin-1\") as f:\n",
    "    lines = f.readlines()\n",
    "comics = pandas.DataFrame(\n",
    "    list(map(lambda x: (int(x.split(':')[0].split(' ')[1]), x.split(': ', 1)[1].split('\\n')[0]), lines)),\n",
    "    columns=['comic_id', 'comic_name'])\n",
    "print('#Comics: ', len(comics))\n",
    "comics[:3]"
   ]
  },
  {
   "cell_type": "code",
   "execution_count": null,
   "metadata": {
    "collapsed": false,
    "deletable": true,
    "editable": true
   },
   "outputs": [],
   "source": [
    "with open('../data/appearances.txt', encoding=\"latin-1\") as f:\n",
    "    lines = f.readlines()[len(heroes) + len(comics) + 2:]\n",
    "def expand (line):\n",
    "    parts = list(map(int, line.split(' ')))\n",
    "    return [(parts[0], role) for role in parts[1:]]\n",
    "appearences = pandas.DataFrame(\n",
    "    [item for sublist in list(map(expand, lines)) for item in sublist],\n",
    "    columns=['hero', 'comic'])\n",
    "appearences[:3]"
   ]
  },
  {
   "cell_type": "markdown",
   "metadata": {
    "collapsed": false,
    "deletable": true,
    "editable": true
   },
   "source": [
    "#Link heroes who co-appear"
   ]
  },
  {
   "cell_type": "code",
   "execution_count": null,
   "metadata": {
    "collapsed": false,
    "deletable": true,
    "editable": true
   },
   "outputs": [],
   "source": [
    "# You may need to install numexpr: pip install numexpr\n",
    "coappearences = \\\n",
    "    appearences\\\n",
    "        .merge(appearences, on='comic')\\\n",
    "        .merge(comics, left_on='comic', right_on='comic_id')\\\n",
    "        [['hero_x', 'hero_y']]\\\n",
    "        .query('hero_x > hero_y')\n",
    "unique_coappearences = coappearences.drop_duplicates(['hero_x', 'hero_y']).set_index(['hero_x', 'hero_y'])\n",
    "unique_coappearences['counts'] = coappearences.groupby(['hero_x', 'hero_y']).size()\n",
    "unique_coappearences = unique_coappearences.reset_index()\n",
    "print('#edges', len(unique_coappearences))        \n",
    "unique_coappearences[:5]"
   ]
  },
  {
   "cell_type": "markdown",
   "metadata": {
    "deletable": true,
    "editable": true
   },
   "source": [
    "# Plot!"
   ]
  },
  {
   "cell_type": "code",
   "execution_count": null,
   "metadata": {
    "collapsed": true,
    "deletable": true,
    "editable": true
   },
   "outputs": [],
   "source": [
    "plotter = graphistry.bind(source='hero_x', destination='hero_y', edge_title='counts')"
   ]
  },
  {
   "cell_type": "code",
   "execution_count": null,
   "metadata": {
    "collapsed": false,
    "deletable": true,
    "editable": true
   },
   "outputs": [],
   "source": [
    "plotter.plot(unique_coappearences)"
   ]
  },
  {
   "cell_type": "markdown",
   "metadata": {
    "deletable": true,
    "editable": true
   },
   "source": [
    "#Label Nodes"
   ]
  },
  {
   "cell_type": "code",
   "execution_count": null,
   "metadata": {
    "collapsed": true,
    "deletable": true,
    "editable": true
   },
   "outputs": [],
   "source": [
    "# Here we are using two dataframes, one for edges and one for nodes\n",
    "plotter2 = plotter.bind(node='hero_id', point_title='hero_name')"
   ]
  },
  {
   "cell_type": "code",
   "execution_count": null,
   "metadata": {
    "collapsed": false,
    "deletable": true,
    "editable": true
   },
   "outputs": [],
   "source": [
    "plotter2.plot(unique_coappearences, heroes)"
   ]
  },
  {
   "cell_type": "markdown",
   "metadata": {
    "deletable": true,
    "editable": true
   },
   "source": [
    "# Color using igraph infomap"
   ]
  },
  {
   "cell_type": "markdown",
   "metadata": {
    "deletable": true,
    "editable": true
   },
   "source": [
    "### Infomap Community Detection"
   ]
  },
  {
   "cell_type": "code",
   "execution_count": null,
   "metadata": {
    "collapsed": false,
    "deletable": true,
    "editable": true
   },
   "outputs": [],
   "source": [
    "#Warning: slow\n",
    "ig = plotter2.pandas2igraph(unique_coappearences, directed=False)\n",
    "clusters = ig.community_infomap()\n",
    "(i_edges, i_nodes) = plotter2.igraph2pandas(ig)\n",
    "print('#clusters', str(len(list(set(clusters.membership)))))"
   ]
  },
  {
   "cell_type": "code",
   "execution_count": null,
   "metadata": {
    "collapsed": false,
    "deletable": true,
    "editable": true
   },
   "outputs": [],
   "source": [
    "nodes_colored = pandas.DataFrame({'cluster': clusters.membership})\\\n",
    "    .reset_index().rename(columns={'index': 'denseid'})\\\n",
    "    .merge(i_nodes.reset_index().rename(columns={'index':'denseid'}), on='denseid')\\\n",
    "    .merge(heroes, left_on='hero_id', right_on='hero_id')\n",
    "print('#colored nodes', str(len(nodes_colored)))\n",
    "nodes_colored[:3]"
   ]
  },
  {
   "cell_type": "code",
   "execution_count": null,
   "metadata": {
    "collapsed": false,
    "deletable": true,
    "editable": true
   },
   "outputs": [],
   "source": [
    "nodes_colored['color'] = nodes_colored.apply(lambda x: x['cluster'] % 9, axis=1)\n",
    "nodes_colored.pivot_table(index=['color'], aggfunc=lambda x: len(x.unique()))"
   ]
  },
  {
   "cell_type": "code",
   "execution_count": null,
   "metadata": {
    "collapsed": false,
    "deletable": true,
    "editable": true
   },
   "outputs": [],
   "source": [
    "plotter3 = plotter2.bind(point_color='color', edge_weight='counts')"
   ]
  },
  {
   "cell_type": "code",
   "execution_count": null,
   "metadata": {
    "collapsed": false,
    "deletable": true,
    "editable": true
   },
   "outputs": [],
   "source": [
    "plotter3.plot(unique_coappearences,  nodes_colored)"
   ]
  },
  {
   "cell_type": "markdown",
   "metadata": {
    "deletable": true,
    "editable": true
   },
   "source": [
    "# Restrict to biggest communities"
   ]
  },
  {
   "cell_type": "code",
   "execution_count": null,
   "metadata": {
    "collapsed": false,
    "deletable": true,
    "editable": true
   },
   "outputs": [],
   "source": [
    "big_clusters = nodes_colored\\\n",
    "    .pivot_table(index=['cluster'], aggfunc=lambda x: len(x.unique()))\\\n",
    "    .rename(columns={'hero_id': 'cluster_size'})\\\n",
    "    .query('cluster_size > 100')\\\n",
    "    .reset_index()[['cluster', 'cluster_size']]\n",
    "print('# big clusters', len(big_clusters))\n",
    "big_clusters[:3]"
   ]
  },
  {
   "cell_type": "code",
   "execution_count": null,
   "metadata": {
    "collapsed": false,
    "deletable": true,
    "editable": true
   },
   "outputs": [],
   "source": [
    "good_nodes = nodes_colored.merge(big_clusters, on='cluster')\n",
    "print('# nodes', len(good_nodes))\n",
    "good_nodes[:3]"
   ]
  },
  {
   "cell_type": "code",
   "execution_count": null,
   "metadata": {
    "collapsed": false,
    "deletable": true,
    "editable": true
   },
   "outputs": [],
   "source": [
    "good_edges = unique_coappearences\\\n",
    "    .merge(good_nodes, left_on='hero_x', right_on='hero_id')\\\n",
    "    .merge(good_nodes, left_on='hero_y', right_on='hero_id')\\\n",
    "    [['hero_x', 'hero_y', 'counts']]\n",
    "print('# edges', len(good_edges))\n",
    "good_edges[:3]"
   ]
  },
  {
   "cell_type": "code",
   "execution_count": null,
   "metadata": {
    "collapsed": false,
    "deletable": true,
    "editable": true
   },
   "outputs": [],
   "source": [
    "plotter3.plot(good_edges, good_nodes)"
   ]
  },
  {
   "cell_type": "markdown",
   "metadata": {
    "deletable": true,
    "editable": true
   },
   "source": [
    "# Seperate communities\n",
    "### Treat intra-community edges as strong edge weights, and inter-community as weak edge weight"
   ]
  },
  {
   "cell_type": "code",
   "execution_count": null,
   "metadata": {
    "collapsed": false,
    "deletable": true,
    "editable": true
   },
   "outputs": [],
   "source": [
    "#label edges whether they stay inside a cluster or connect nodes in different clusters\n",
    "good_edges2 = good_edges\\\n",
    "        .merge(\\\n",
    "                 good_nodes[['cluster', 'hero_id']].rename(columns={'cluster': 'cluster_x'}),\\\n",
    "                 left_on='hero_x', right_on='hero_id')\\\n",
    "        .merge(\\\n",
    "                 good_nodes[['cluster', 'hero_id']].rename(columns={'cluster': 'cluster_y'}),\\\n",
    "                 left_on='hero_y', right_on='hero_id')\n",
    "good_edges2['is_inner'] = good_edges2.apply(lambda x: x['cluster_x'] == x['cluster_y'], axis=1)\n",
    "\n",
    "#bind to edge_weight\n",
    "good_edges2['weight'] = good_edges2.apply(lambda x: 10 if x['is_inner'] else 8, axis=1)\n",
    "good_edges2 = good_edges2[['hero_x', 'hero_y', 'counts', 'is_inner', 'weight']]\n",
    "good_edges2[:3]"
   ]
  },
  {
   "cell_type": "markdown",
   "metadata": {
    "deletable": true,
    "editable": true
   },
   "source": [
    "### Plot; control the edge weight in the settings panel"
   ]
  },
  {
   "cell_type": "code",
   "execution_count": null,
   "metadata": {
    "collapsed": false,
    "deletable": true,
    "editable": true,
    "scrolled": false
   },
   "outputs": [],
   "source": [
    "plotter3.bind(edge_weight='weight').plot(good_edges2, good_nodes)"
   ]
  },
  {
   "cell_type": "markdown",
   "metadata": {
    "collapsed": false,
    "deletable": true,
    "editable": true
   },
   "source": [
    "# Filter by k-core shell"
   ]
  },
  {
   "cell_type": "code",
   "execution_count": null,
   "metadata": {
    "collapsed": false,
    "deletable": true,
    "editable": true
   },
   "outputs": [],
   "source": [
    "shells = ig.shell_index()\n",
    "print('#shells', str(len(list(set(shells)))))"
   ]
  },
  {
   "cell_type": "code",
   "execution_count": null,
   "metadata": {
    "collapsed": false,
    "deletable": true,
    "editable": true
   },
   "outputs": [],
   "source": [
    "nodes_shelled = pandas.DataFrame({'shell': shells})\\\n",
    "    .reset_index().rename(columns={'index': 'denseid'})\\\n",
    "    .merge(nodes_colored, on='denseid')\n",
    "print('#shelled nodes', str(len(nodes_shelled)))\n",
    "nodes_shelled[:3]"
   ]
  },
  {
   "cell_type": "markdown",
   "metadata": {
    "deletable": true,
    "editable": true
   },
   "source": [
    "### Plot: Use the histogram tool to filter for the smaller shells"
   ]
  },
  {
   "cell_type": "code",
   "execution_count": null,
   "metadata": {
    "collapsed": false,
    "deletable": true,
    "editable": true
   },
   "outputs": [],
   "source": [
    "plotter3.plot(unique_coappearences,  nodes_shelled)"
   ]
  },
  {
   "cell_type": "code",
   "execution_count": null,
   "metadata": {
    "collapsed": true,
    "deletable": true,
    "editable": true
   },
   "outputs": [],
   "source": []
  }
 ],
 "metadata": {
  "kernelspec": {
   "display_name": "Python 2",
   "language": "python",
   "name": "python2"
  },
  "language_info": {
   "codemirror_mode": {
    "name": "ipython",
    "version": 2
   },
   "file_extension": ".py",
   "mimetype": "text/x-python",
   "name": "python",
   "nbconvert_exporter": "python",
   "pygments_lexer": "ipython2",
   "version": "2.7.13"
  }
 },
 "nbformat": 4,
 "nbformat_minor": 0
}
