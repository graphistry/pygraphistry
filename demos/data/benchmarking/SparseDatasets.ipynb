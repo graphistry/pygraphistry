{
 "cells": [
  {
   "cell_type": "markdown",
   "metadata": {
    "deletable": true,
    "editable": true
   },
   "source": [
    "# Sparse Datasets\n",
    "- This notebook is used for benchmarking and debugging sparse datasets"
   ]
  },
  {
   "cell_type": "markdown",
   "metadata": {
    "deletable": true,
    "editable": true
   },
   "source": [
    "#### Import the necessary libaries"
   ]
  },
  {
   "cell_type": "code",
   "execution_count": null,
   "metadata": {
    "collapsed": false,
    "deletable": true,
    "editable": true
   },
   "outputs": [],
   "source": [
    "import random\n",
    "import graphistry as g\n",
    "import pandas as pd"
   ]
  },
  {
   "cell_type": "markdown",
   "metadata": {
    "deletable": true,
    "editable": true
   },
   "source": [
    "#### Check the version of the Graphistry module"
   ]
  },
  {
   "cell_type": "code",
   "execution_count": null,
   "metadata": {
    "collapsed": false,
    "deletable": true,
    "editable": true
   },
   "outputs": [],
   "source": [
    "g.__version__"
   ]
  },
  {
   "cell_type": "markdown",
   "metadata": {
    "deletable": true,
    "editable": true
   },
   "source": [
    "#### Set your API key and Graphistry Server Location\n",
    "- To use our public server at **labs.graphistry.com**, you must have a valid API key"
   ]
  },
  {
   "cell_type": "code",
   "execution_count": null,
   "metadata": {
    "collapsed": true,
    "deletable": true,
    "editable": true
   },
   "outputs": [],
   "source": [
    "API_KEY = 'Go to www.graphistry.com/api-request to get your API key'"
   ]
  },
  {
   "cell_type": "code",
   "execution_count": 2,
   "metadata": {
    "collapsed": false,
    "deletable": true,
    "editable": true
   },
   "outputs": [],
   "source": [
    "g.register(api=2, key=API_KEY)"
   ]
  },
  {
   "cell_type": "markdown",
   "metadata": {
    "deletable": true,
    "editable": true
   },
   "source": [
    "# 1000 sparse columns with 8K edges, 800K elements\n",
    "In many datasets, there may ~1000 possible attributes, though each node/edge likely only has 5-100.\n",
    "\n",
    "Attributes are selected from 100 different float values\n",
    "\n",
    "The time-to-render for an uploaded dataset should be 20s.\n",
    "\n",
    "Opening the edges panel, and seeing the results, should also be within 20s."
   ]
  },
  {
   "cell_type": "code",
   "execution_count": null,
   "metadata": {
    "collapsed": false,
    "deletable": true,
    "editable": true
   },
   "outputs": [],
   "source": [
    "pd.DataFrame([{'a': 1, 'b': 2}, {'b': 2, 'c': 3}, {'c': 4, 'd': 5}])"
   ]
  },
  {
   "cell_type": "code",
   "execution_count": null,
   "metadata": {
    "collapsed": false,
    "deletable": true,
    "editable": true
   },
   "outputs": [],
   "source": [
    "edges = [{'src': x, 'dst': (x + 1) % 8000} for x in range(0, 8000)]\n",
    "for i, edge in enumerate(edges):\n",
    "    for fld in range(0, 100):\n",
    "        edge['fld' + str((i + fld) % 1000)] = fld\n",
    "edges = pd.DataFrame(edges)\n",
    "edges[:3]"
   ]
  },
  {
   "cell_type": "code",
   "execution_count": null,
   "metadata": {
    "collapsed": false,
    "deletable": true,
    "editable": true
   },
   "outputs": [],
   "source": [
    "g.edges(edges).bind(source='src', destination='dst').plot()"
   ]
  },
  {
   "cell_type": "markdown",
   "metadata": {
    "deletable": true,
    "editable": true
   },
   "source": [
    "# 1000 sparse (random float) columns with 8K edges, 800K elements\n",
    "There are ~1000 possible attributes, though each node/edge likely only has 5-100.\n",
    "\n",
    "Attributes are selected from 100 a random float value"
   ]
  },
  {
   "cell_type": "code",
   "execution_count": null,
   "metadata": {
    "collapsed": false,
    "deletable": true,
    "editable": true
   },
   "outputs": [],
   "source": [
    "edges = [{'src': x, 'dst': (x + 1) % 8000} for x in range(0, 8000)]\n",
    "for i, edge in enumerate(edges):\n",
    "    for fld in range(0, 100):\n",
    "        edge['fld' + str((i + fld) % 1000)] = random.random()\n",
    "edges = pd.DataFrame(edges)\n",
    "edges[:3]"
   ]
  },
  {
   "cell_type": "code",
   "execution_count": null,
   "metadata": {
    "collapsed": false,
    "deletable": true,
    "editable": true
   },
   "outputs": [],
   "source": [
    "g.edges(edges).bind(source='src', destination='dst').plot()"
   ]
  },
  {
   "cell_type": "markdown",
   "metadata": {
    "deletable": true,
    "editable": true
   },
   "source": [
    "# 1000 sparse (string) columns with 8K edges, 800K elements\n",
    "There are ~1000 possible attributes, though each node/edge likely only has 5-100.\n",
    "\n",
    "Attributes are selected from a set of 100 different string values. "
   ]
  },
  {
   "cell_type": "code",
   "execution_count": null,
   "metadata": {
    "collapsed": false,
    "deletable": true,
    "editable": true
   },
   "outputs": [],
   "source": [
    "edges = [{'src': x, 'dst': (x + 1) % 8000} for x in range(0, 8000)]\n",
    "for i, edge in enumerate(edges):\n",
    "    for fld in range(0, 100):\n",
    "        edge['fld' + str((i + fld) % 1000)] = 'String: ' + str(fld)\n",
    "edges = pd.DataFrame(edges)\n",
    "edges[:3]"
   ]
  },
  {
   "cell_type": "code",
   "execution_count": null,
   "metadata": {
    "collapsed": false,
    "deletable": true,
    "editable": true
   },
   "outputs": [],
   "source": [
    "g.edges(edges).bind(source='src', destination='dst').plot()"
   ]
  },
  {
   "cell_type": "markdown",
   "metadata": {
    "deletable": true,
    "editable": true
   },
   "source": [
    "# 1000 sparse (random string) columns with 8K edges, 800K elements\n",
    "There are ~1000 possible attributes, though each node/edge likely only has 5-100.\n",
    "\n",
    "Attributes are randomly generated strings. "
   ]
  },
  {
   "cell_type": "code",
   "execution_count": null,
   "metadata": {
    "collapsed": false,
    "deletable": true,
    "editable": true
   },
   "outputs": [],
   "source": [
    "edges = [{'src': x, 'dst': (x + 1) % 8000} for x in range(0, 8000)]\n",
    "for i, edge in enumerate(edges):\n",
    "    for fld in range(0, 100):\n",
    "        edge['fld' + str((i + fld) % 1000)] = 'String: ' + str(random.random())\n",
    "edges = pd.DataFrame(edges)\n",
    "edges[:3]"
   ]
  },
  {
   "cell_type": "code",
   "execution_count": null,
   "metadata": {
    "collapsed": false,
    "deletable": true,
    "editable": true
   },
   "outputs": [],
   "source": [
    "g.edges(edges).bind(source='src', destination='dst').plot()"
   ]
  }
 ],
 "metadata": {
  "kernelspec": {
   "display_name": "Python 2",
   "language": "python",
   "name": "python2"
  },
  "language_info": {
   "codemirror_mode": {
    "name": "ipython",
    "version": 2
   },
   "file_extension": ".py",
   "mimetype": "text/x-python",
   "name": "python",
   "nbconvert_exporter": "python",
   "pygments_lexer": "ipython2",
   "version": "2.7.13"
  }
 },
 "nbformat": 4,
 "nbformat_minor": 0
}
