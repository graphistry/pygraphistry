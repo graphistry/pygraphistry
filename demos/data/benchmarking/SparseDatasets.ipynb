{
 "cells": [
  {
   "cell_type": "markdown",
   "metadata": {},
   "source": [
    "# Sparse Datasets\n",
    "- This notebook is used for benchmarking and debugging sparse datasets"
   ]
  },
  {
   "cell_type": "markdown",
   "metadata": {},
   "source": [
    "#### Import the necessary libaries"
   ]
  },
  {
   "cell_type": "code",
   "execution_count": null,
   "metadata": {},
   "outputs": [],
   "source": [
    "import random\n",
    "import graphistry as g\n",
    "import pandas as pd"
   ]
  },
  {
   "cell_type": "markdown",
   "metadata": {},
   "source": [
    "#### Check the version of the Graphistry module"
   ]
  },
  {
   "cell_type": "code",
   "execution_count": null,
   "metadata": {},
   "outputs": [],
   "source": [
    "g.__version__"
   ]
  },
  {
   "cell_type": "code",
   "execution_count": null,
   "metadata": {
    "collapsed": true
   },
   "outputs": [],
   "source": [
    "# To specify Graphistry account & server, use:\n",
    "# graphistry.register(api=3, username='...', password='...', protocol='https', server='hub.graphistry.com')\n",
    "# For more options, see https://github.com/graphistry/pygraphistry#configure"
   ]
  },
  {
   "cell_type": "markdown",
   "metadata": {},
   "source": [
    "# 1000 sparse columns with 8K edges, 800K elements\n",
    "In many datasets, there may ~1000 possible attributes, though each node/edge likely only has 5-100.\n",
    "\n",
    "Attributes are selected from 100 different float values\n",
    "\n",
    "The time-to-render for an uploaded dataset should be 20s.\n",
    "\n",
    "Opening the edges panel, and seeing the results, should also be within 20s."
   ]
  },
  {
   "cell_type": "code",
   "execution_count": null,
   "metadata": {},
   "outputs": [],
   "source": [
    "pd.DataFrame([{'a': 1, 'b': 2}, {'b': 2, 'c': 3}, {'c': 4, 'd': 5}])"
   ]
  },
  {
   "cell_type": "code",
   "execution_count": null,
   "metadata": {},
   "outputs": [],
   "source": [
    "edges = [{'src': x, 'dst': (x + 1) % 8000} for x in range(0, 8000)]\n",
    "for i, edge in enumerate(edges):\n",
    "    for fld in range(0, 100):\n",
    "        edge['fld' + str((i + fld) % 1000)] = fld\n",
    "edges = pd.DataFrame(edges)\n",
    "edges[:3]"
   ]
  },
  {
   "cell_type": "code",
   "execution_count": null,
   "metadata": {},
   "outputs": [],
   "source": [
    "g.edges(edges).bind(source='src', destination='dst').plot()"
   ]
  },
  {
   "cell_type": "markdown",
   "metadata": {},
   "source": [
    "# 1000 sparse (random float) columns with 8K edges, 800K elements\n",
    "There are ~1000 possible attributes, though each node/edge likely only has 5-100.\n",
    "\n",
    "Attributes are selected from 100 a random float value"
   ]
  },
  {
   "cell_type": "code",
   "execution_count": null,
   "metadata": {},
   "outputs": [],
   "source": [
    "edges = [{'src': x, 'dst': (x + 1) % 8000} for x in range(0, 8000)]\n",
    "for i, edge in enumerate(edges):\n",
    "    for fld in range(0, 100):\n",
    "        edge['fld' + str((i + fld) % 1000)] = random.random()\n",
    "edges = pd.DataFrame(edges)\n",
    "edges[:3]"
   ]
  },
  {
   "cell_type": "code",
   "execution_count": null,
   "metadata": {},
   "outputs": [],
   "source": [
    "g.edges(edges).bind(source='src', destination='dst').plot()"
   ]
  },
  {
   "cell_type": "markdown",
   "metadata": {},
   "source": [
    "# 1000 sparse (string) columns with 8K edges, 800K elements\n",
    "There are ~1000 possible attributes, though each node/edge likely only has 5-100.\n",
    "\n",
    "Attributes are selected from a set of 100 different string values. "
   ]
  },
  {
   "cell_type": "code",
   "execution_count": null,
   "metadata": {},
   "outputs": [],
   "source": [
    "edges = [{'src': x, 'dst': (x + 1) % 8000} for x in range(0, 8000)]\n",
    "for i, edge in enumerate(edges):\n",
    "    for fld in range(0, 100):\n",
    "        edge['fld' + str((i + fld) % 1000)] = 'String: ' + str(fld)\n",
    "edges = pd.DataFrame(edges)\n",
    "edges[:3]"
   ]
  },
  {
   "cell_type": "code",
   "execution_count": null,
   "metadata": {},
   "outputs": [],
   "source": [
    "g.edges(edges).bind(source='src', destination='dst').plot()"
   ]
  },
  {
   "cell_type": "markdown",
   "metadata": {},
   "source": [
    "# 1000 sparse (random string) columns with 8K edges, 800K elements\n",
    "There are ~1000 possible attributes, though each node/edge likely only has 5-100.\n",
    "\n",
    "Attributes are randomly generated strings. "
   ]
  },
  {
   "cell_type": "code",
   "execution_count": null,
   "metadata": {},
   "outputs": [],
   "source": [
    "edges = [{'src': x, 'dst': (x + 1) % 8000} for x in range(0, 8000)]\n",
    "for i, edge in enumerate(edges):\n",
    "    for fld in range(0, 100):\n",
    "        edge['fld' + str((i + fld) % 1000)] = 'String: ' + str(random.random())\n",
    "edges = pd.DataFrame(edges)\n",
    "edges[:3]"
   ]
  },
  {
   "cell_type": "code",
   "execution_count": null,
   "metadata": {},
   "outputs": [],
   "source": [
    "g.edges(edges).bind(source='src', destination='dst').plot()"
   ]
  }
 ],
 "metadata": {
  "kernelspec": {
   "display_name": "Python 3",
   "language": "python",
   "name": "python3"
  },
  "language_info": {
   "codemirror_mode": {
    "name": "ipython",
    "version": 3
   },
   "file_extension": ".py",
   "mimetype": "text/x-python",
   "name": "python",
   "nbconvert_exporter": "python",
   "pygments_lexer": "ipython3",
   "version": "3.7.11"
  }
 },
 "nbformat": 4,
 "nbformat_minor": 1
}
