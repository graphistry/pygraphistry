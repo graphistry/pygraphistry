{
 "cells": [
  {
   "cell_type": "markdown",
   "metadata": {
    "deletable": true,
    "editable": true
   },
   "source": [
    "# Dense Datasets\n",
    "- This notebook is used for benchmarking and debugging sparse datasets"
   ]
  },
  {
   "cell_type": "markdown",
   "metadata": {
    "deletable": true,
    "editable": true
   },
   "source": [
    "#### Import the necessary libaries"
   ]
  },
  {
   "cell_type": "code",
   "execution_count": null,
   "metadata": {
    "collapsed": false,
    "deletable": true,
    "editable": true
   },
   "outputs": [],
   "source": [
    "import random\n",
    "import graphistry as g\n",
    "import pandas as pd"
   ]
  },
  {
   "cell_type": "markdown",
   "metadata": {
    "deletable": true,
    "editable": true
   },
   "source": [
    "#### Check the version of the Graphistry module"
   ]
  },
  {
   "cell_type": "code",
   "execution_count": null,
   "metadata": {
    "collapsed": false,
    "deletable": true,
    "editable": true
   },
   "outputs": [],
   "source": [
    "g.__version__"
   ]
  },
  {
   "cell_type": "markdown",
   "metadata": {
    "deletable": true,
    "editable": true
   },
   "source": [
    "#### Set your API key and Graphistry Server Location\n",
    "- To use our public server at **labs.graphistry.com**, you must have a valid API key"
   ]
  },
  {
   "cell_type": "code",
   "execution_count": null,
   "metadata": {
    "collapsed": true,
    "deletable": true,
    "editable": true
   },
   "outputs": [],
   "source": [
    "API_KEY = 'Go to www.graphistry.com/api-request to get your API key'"
   ]
  },
  {
   "cell_type": "code",
   "execution_count": null,
   "metadata": {
    "collapsed": false,
    "deletable": true,
    "editable": true
   },
   "outputs": [],
   "source": [
    "g.register(api=2)"
   ]
  },
  {
   "cell_type": "markdown",
   "metadata": {
    "deletable": true,
    "editable": true
   },
   "source": [
    "# 100 dense columns with 100K edges (restricted set of integer values 1-100)\n",
    "\n",
    "Values can be 1-100\n"
   ]
  },
  {
   "cell_type": "code",
   "execution_count": null,
   "metadata": {
    "collapsed": false,
    "deletable": true,
    "editable": true
   },
   "outputs": [],
   "source": [
    "edges = [{'src': x, 'dst': (x + 1) % 100000} for x in range(0, 100000)]\n",
    "for i, edge in enumerate(edges):\n",
    "    for fld in range(0, 100):\n",
    "        edge['fld' + str((fld))] = (fld + i) % 100\n",
    "edges = pd.DataFrame(edges)\n",
    "edges[:3]"
   ]
  },
  {
   "cell_type": "code",
   "execution_count": null,
   "metadata": {
    "collapsed": false,
    "deletable": true,
    "editable": true
   },
   "outputs": [],
   "source": [
    "g.edges(edges).bind(source='src', destination='dst').plot()"
   ]
  },
  {
   "cell_type": "markdown",
   "metadata": {
    "deletable": true,
    "editable": true
   },
   "source": [
    "# 100 dense columns with 100K edges (random floats)\n",
    "\n",
    "Each edge as 100 attributes which is a randomly selected float\n"
   ]
  },
  {
   "cell_type": "code",
   "execution_count": null,
   "metadata": {
    "collapsed": false,
    "deletable": true,
    "editable": true
   },
   "outputs": [],
   "source": [
    "edges = [{'src': x, 'dst': (x + 1) % 100000} for x in range(0, 100000)]\n",
    "for i, edge in enumerate(edges):\n",
    "    for fld in range(0, 100):\n",
    "        edge['fld' + str((fld))] = random.random()\n",
    "edges = pd.DataFrame(edges)\n",
    "edges[:3]"
   ]
  },
  {
   "cell_type": "code",
   "execution_count": null,
   "metadata": {
    "collapsed": false,
    "deletable": true,
    "editable": true,
    "scrolled": true
   },
   "outputs": [],
   "source": [
    "g.edges(edges).bind(source='src', destination='dst').plot()"
   ]
  },
  {
   "cell_type": "markdown",
   "metadata": {
    "deletable": true,
    "editable": true
   },
   "source": [
    "# 100 dense columns with 100K edges (random strings)\n",
    "\n",
    "Each edge as 100 attributes which is a randomly selected float"
   ]
  },
  {
   "cell_type": "code",
   "execution_count": null,
   "metadata": {
    "collapsed": false,
    "deletable": true,
    "editable": true
   },
   "outputs": [],
   "source": [
    "edges = [{'src': x, 'dst': (x + 1) % 100000} for x in range(0, 100000)]\n",
    "for i, edge in enumerate(edges):\n",
    "    for fld in range(0, 100):\n",
    "        edge['fld' + str((fld))] = 'String' + str(random.random())\n",
    "edges = pd.DataFrame(edges)\n",
    "edges[:3]"
   ]
  },
  {
   "cell_type": "code",
   "execution_count": null,
   "metadata": {
    "collapsed": false,
    "deletable": true,
    "editable": true
   },
   "outputs": [],
   "source": [
    "g.edges(edges).bind(source='src', destination='dst').plot()"
   ]
  },
  {
   "cell_type": "markdown",
   "metadata": {
    "deletable": true,
    "editable": true
   },
   "source": [
    "# 10 dense columns with 800K edges (restricted set of integers 1-100)"
   ]
  },
  {
   "cell_type": "code",
   "execution_count": null,
   "metadata": {
    "collapsed": false,
    "deletable": true,
    "editable": true
   },
   "outputs": [],
   "source": [
    "edges = [{'src': (x % 300), 'dst': ((x + 1) % 800)} for x in range(0, 800000)]\n",
    "for i, edge in enumerate(edges):\n",
    "    for fld in range(0, 10):\n",
    "        edge['fld' + str((fld))] = (fld + i) % 100\n",
    "edges = pd.DataFrame(edges)\n",
    "edges[:3]"
   ]
  },
  {
   "cell_type": "code",
   "execution_count": null,
   "metadata": {
    "collapsed": false,
    "deletable": true,
    "editable": true
   },
   "outputs": [],
   "source": [
    "g.edges(edges).bind(source='src', destination='dst').plot()"
   ]
  },
  {
   "cell_type": "markdown",
   "metadata": {
    "deletable": true,
    "editable": true
   },
   "source": [
    "# 10 dense columns with 800K edges (random float)"
   ]
  },
  {
   "cell_type": "code",
   "execution_count": null,
   "metadata": {
    "collapsed": false,
    "deletable": true,
    "editable": true
   },
   "outputs": [],
   "source": [
    "edges = [{'src': (x % 300), 'dst': ((x + 1) % 800)} for x in range(0, 800000)]\n",
    "for i, edge in enumerate(edges):\n",
    "    for fld in range(0, 10):\n",
    "        edge['fld' + str((fld))] = random.random()\n",
    "edges = pd.DataFrame(edges)\n",
    "edges[:3]"
   ]
  },
  {
   "cell_type": "code",
   "execution_count": null,
   "metadata": {
    "collapsed": false,
    "deletable": true,
    "editable": true
   },
   "outputs": [],
   "source": [
    "g.edges(edges).bind(source='src', destination='dst').plot()"
   ]
  },
  {
   "cell_type": "markdown",
   "metadata": {
    "deletable": true,
    "editable": true
   },
   "source": [
    "# 10 dense columns with 800K edges (random strings)\n"
   ]
  },
  {
   "cell_type": "code",
   "execution_count": null,
   "metadata": {
    "collapsed": false,
    "deletable": true,
    "editable": true
   },
   "outputs": [],
   "source": [
    "edges = [{'src': (x % 300), 'dst': ((x + 1) % 800)} for x in range(0, 800000)]\n",
    "for i, edge in enumerate(edges):\n",
    "    for fld in range(0, 10):\n",
    "        edge['fld' + str((fld))] = 'String + ' + str(random.random())\n",
    "edges = pd.DataFrame(edges)\n",
    "edges[:3]"
   ]
  },
  {
   "cell_type": "code",
   "execution_count": null,
   "metadata": {
    "collapsed": false,
    "deletable": true,
    "editable": true,
    "scrolled": true
   },
   "outputs": [],
   "source": [
    "g.edges(edges).bind(source='src', destination='dst').plot()"
   ]
  }
 ],
 "metadata": {
  "kernelspec": {
   "display_name": "Python 2",
   "language": "python",
   "name": "python2"
  },
  "language_info": {
   "codemirror_mode": {
    "name": "ipython",
    "version": 2
   },
   "file_extension": ".py",
   "mimetype": "text/x-python",
   "name": "python",
   "nbconvert_exporter": "python",
   "pygments_lexer": "ipython2",
   "version": "2.7.13"
  }
 },
 "nbformat": 4,
 "nbformat_minor": 0
}
