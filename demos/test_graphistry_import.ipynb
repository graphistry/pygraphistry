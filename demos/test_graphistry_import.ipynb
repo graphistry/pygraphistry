{
 "cells": [
  {
   "cell_type": "markdown",
   "metadata": {},
   "source": [
    "# Test Graphistry Import\n",
    "\n",
    "This is a minimal notebook used for CI validation to ensure graphistry can be imported in the docs build environment."
   ]
  },
  {
   "cell_type": "code",
   "execution_count": 1,
   "metadata": {},
   "outputs": [],
   "source": [
    "# Basic import test\n",
    "import graphistry"
   ]
  },
  {
   "cell_type": "code",
   "execution_count": 2,
   "metadata": {},
   "outputs": [],
   "source": [
    "# Test version is accessible\n",
    "assert hasattr(graphistry, '__version__')\n",
    "print(f\"Graphistry version: {graphistry.__version__}\")"
   ]
  },
  {
   "cell_type": "code",
   "execution_count": 3,
   "metadata": {},
   "outputs": [],
   "source": [
    "# Test basic functionality without external deps\n",
    "import pandas as pd\n",
    "df = pd.DataFrame({'src': [0, 1, 2], 'dst': [1, 2, 0]})\n",
    "g = graphistry.edges(df, 'src', 'dst')\n",
    "assert g is not None\n",
    "print(\"Basic graph creation successful\")"
   ]
  }
 ],
 "metadata": {
  "kernelspec": {
   "display_name": "Python 3",
   "language": "python",
   "name": "python3"
  },
  "language_info": {
   "codemirror_mode": {
    "name": "ipython",
    "version": 3
   },
   "file_extension": ".py",
   "mimetype": "text/x-python",
   "name": "python",
   "nbconvert_exporter": "python",
   "pygments_lexer": "ipython3",
   "version": "3.8.0"
  }
 },
 "nbformat": 4,
 "nbformat_minor": 4
}