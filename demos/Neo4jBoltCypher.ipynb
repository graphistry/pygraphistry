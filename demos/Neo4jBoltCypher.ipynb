{
 "cells": [
  {
   "cell_type": "markdown",
   "metadata": {},
   "source": [
    "Running Cypher Queries via Bolt\n",
    "==\n",
    "\n",
    "Let's run a cypher query via bolt against a neo4j database so we can visualize it using graphistry."
   ]
  },
  {
   "cell_type": "markdown",
   "metadata": {},
   "source": [
    "Dependencies\n",
    "--"
   ]
  },
  {
   "cell_type": "code",
   "execution_count": null,
   "metadata": {},
   "outputs": [],
   "source": [
    "!pip install graphistry[bolt] # !pip install ..[bolt]"
   ]
  },
  {
   "cell_type": "markdown",
   "metadata": {},
   "source": [
    "Configuration\n",
    "--"
   ]
  },
  {
   "cell_type": "code",
   "execution_count": null,
   "metadata": {},
   "outputs": [],
   "source": [
    "GRAPHISTRY = {\n",
    "    'server': 'labs.graphistry.com',\n",
    "    'api': 2,\n",
    "    'key': '<key>'\n",
    "}\n",
    "\n",
    "NEO4J = {\n",
    "    'uri': \"bolt://<host>:<port>\", \n",
    "    'auth': (\"<username>\", \"<password>\")\n",
    "}"
   ]
  },
  {
   "cell_type": "markdown",
   "metadata": {},
   "source": [
    "Graphistry API Registration\n",
    "--\n",
    "\n",
    "This is how we tell the pygraphistry how it should connect to Graphistry services. The pygraphistry configuration is global, and need only be called once."
   ]
  },
  {
   "cell_type": "code",
   "execution_count": null,
   "metadata": {
    "scrolled": true
   },
   "outputs": [],
   "source": [
    "import graphistry\n",
    "\n",
    "graphistry.register(**GRAPHISTRY)"
   ]
  },
  {
   "cell_type": "markdown",
   "metadata": {},
   "source": [
    "Neo4j Cypher Query\n",
    "--\n",
    "\n",
    "Internally we use the neo4j bolt driver. If your bolt provider does not support the neo4j driver, let us know!"
   ]
  },
  {
   "cell_type": "code",
   "execution_count": null,
   "metadata": {
    "scrolled": false
   },
   "outputs": [],
   "source": [
    "graphistry\\\n",
    "    .bolt(NEO4J)\\\n",
    "    .cypher(\\\n",
    "        query = \"MATCH (a)-[r:PAYMENT]->(b) WHERE r.USD > 7000 AND r.USD < 10000 RETURN a, r, b ORDER BY r.USD DESC\",\\\n",
    "        params = {\n",
    "            \"AccountID\": 10\n",
    "        }\\\n",
    "    )\\\n",
    "    .plot()"
   ]
  },
  {
   "cell_type": "code",
   "execution_count": null,
   "metadata": {},
   "outputs": [],
   "source": [
    "graphistry.register(bolt = NEO4J) # global bolt server setting\n",
    "\n",
    "graphistry\\\n",
    "    .cypher(\\\n",
    "        query = \"\"\"\n",
    "MATCH (a:Account) where id(a) < 10\n",
    "WITH collect(a) as accounts\n",
    "UNWIND accounts as a\n",
    "UNWIND accounts as b\n",
    "WITH * WHERE id(a) < id(b)\n",
    "MATCH path = allShortestPaths( (a)-[*..4]-(b) )\n",
    "RETURN path, a, b\"\"\",\\\n",
    "        params = {\n",
    "            \"AccountID\": 10\n",
    "        }\\\n",
    "    )\\\n",
    "    .plot()"
   ]
  },
  {
   "cell_type": "code",
   "execution_count": null,
   "metadata": {},
   "outputs": [],
   "source": []
  }
 ],
 "metadata": {
  "kernelspec": {
   "display_name": "Python 3",
   "language": "python",
   "name": "python3"
  },
  "language_info": {
   "codemirror_mode": {
    "name": "ipython",
    "version": 3
   },
   "file_extension": ".py",
   "mimetype": "text/x-python",
   "name": "python",
   "nbconvert_exporter": "python",
   "pygments_lexer": "ipython3",
   "version": "3.6.3"
  }
 },
 "nbformat": 4,
 "nbformat_minor": 2
}
